{
 "cells": [
  {
   "attachments": {
    "SIMEM_logo_1.png": {
     "image/png": "[encoded data removed]"
    }
   },
   "cell_type": "markdown",
   "metadata": {},
   "source": [
    "![SIMEM_logo_1.png](attachment:SIMEM_logo_1.png)\n",
    "\n",
    "[SiMEM](https://www.simem.co/)"
   ]
  },
  {
   "cell_type": "markdown",
   "metadata": {},
   "source": [
    "## Caso de uso - Asignaciones de OEF por planta\n",
    "\n",
    "# Objetivos de este notebook\n",
    "\n",
    "* Explicar cómo se realiza la instalación e importación de la librería pydataxm desde la consola para su uso en ambientes locales\n",
    "* Explicar cómo se pueden consultar los conjuntos de datos a través de la librería Pydataxm\n",
    "* Explicar cómo realizar el procesamiento y manipulación de los datos consultados\n",
    "* Explicar el análisis de los datos consultados para dar respuesta al caso de uso propuesto\n",
    "\n",
    "**Índice**\n",
    "\n",
    "1. [Instalación de librerías](#section1)\n",
    "\n",
    "2. [Importación de librerías](#section2)\n",
    "\n",
    "3. [Consultar información de los conjuntos de datos](#section3)\n",
    "\n",
    "4. [Manipulación de datos](#section4)\n",
    "\n",
    "5. [Análisis para dar respuesta al caso de uso](#section5)\n"
   ]
  },
  {
   "cell_type": "markdown",
   "metadata": {},
   "source": [
    "<a id='section1'></a>\n",
    "# 1. Instalación de la librería\n",
    "Ejecutar el siguiente comando en el CMD para instalar la librería de python."
   ]
  },
  {
   "cell_type": "code",
   "execution_count": 1,
   "metadata": {},
   "outputs": [],
   "source": [
    "# import sys\n",
    "# !{sys.executable} -m pip install pydataxm"
   ]
  },
  {
   "cell_type": "markdown",
   "metadata": {},
   "source": [
    "<a id='section2'></a>\n",
    "# 2. Importación de librerías\n"
   ]
  },
  {
   "cell_type": "code",
   "execution_count": 3,
   "metadata": {},
   "outputs": [],
   "source": [
    "from pydataxm.pydatasimem import ReadSIMEM  # Importa clases para interactuar con datos del sistema SIMEM, utilizado para acceder a información energética en Colombia\n",
    "import pandas as pd                         # Librería para manipulación y análisis de datos en estructuras tipo DataFrame, muy útil para limpiar, transformar y explorar datos\n",
    "import matplotlib.pyplot as plt             # Para crear gráficos estáticos como barras, líneas, histogramas, etc.\n",
    "# import seaborn as sns                       # Librería basada en matplotlib para visual\n",
    "from dateutil.relativedelta import relativedelta"
   ]
  },
  {
   "cell_type": "markdown",
   "metadata": {},
   "source": [
    "<a id='section3'></a>\n",
    "# 3. Consultar información de los conjuntos de datos\n",
    "El método de extracción recibe los parámetros con los que se va a realizar la consulta. \n",
    "El datasetID para un conjunto particular se puede encontrar en el [catálogo de conjuntos de datos.](https://www.simem.co/pages/catalogodatos/51FC0A59-3A00-462C-B449-9CB8D5E007FB)  \n",
    "Para este ejemplo el conjunto a presentar es  [Asignaciones de OEF por planta](https://www.simem.co/datadetail/306C6790-E645-4966-8031-5A5658D8B962)."
   ]
  },
  {
   "cell_type": "markdown",
   "metadata": {},
   "source": [
    "Se definen los parámetros de entrada y se crea el objeto ReadSIMEM() para realizar las consultas."
   ]
  },
  {
   "cell_type": "code",
   "execution_count": 4,
   "metadata": {},
   "outputs": [
    {
     "name": "stdout",
     "output_type": "stream",
     "text": [
      "****************************************************************************************************\n",
      "Initializing object\n",
      "The object has been initialized with the dataset: \"Asignaciones de OEF por planta\"\n",
      "****************************************************************************************************\n",
      "Inicio consulta sincronica\n",
      "Creacion url: 0.0019893646240234375\n",
      "Extraccion de registros: 4.71289324760437\n",
      "End of data extracting process\n",
      "****************************************************************************************************\n"
     ]
    },
    {
     "data": {
      "application/vnd.microsoft.datawrangler.viewer.v0+json": {
       "columns": [
        {
         "name": "index",
         "rawType": "int64",
         "type": "integer"
        },
        {
         "name": "FechaPublicacion",
         "rawType": "object",
         "type": "string"
        },
        {
         "name": "FechaInicioCargo",
         "rawType": "object",
         "type": "string"
        },
        {
         "name": "FechaFinCargo",
         "rawType": "object",
         "type": "string"
        },
        {
         "name": "CodigoSICAgente",
         "rawType": "object",
         "type": "string"
        },
        {
         "name": "CodigoPlanta",
         "rawType": "object",
         "type": "string"
        },
        {
         "name": "Tecnologia",
         "rawType": "object",
         "type": "string"
        },
        {
         "name": "OEF",
         "rawType": "float64",
         "type": "float"
        }
       ],
       "ref": "1f4c4ed1-23f4-4671-b72b-82449ac1759e",
       "rows": [
        [
         "0",
         "2025-08-04",
         "2030-12-01",
         "2031-11-30",
         "CHVG",
         "CELE",
         "Eolica",
         "648418850.0"
        ],
        [
         "1",
         "2025-08-04",
         "2030-12-01",
         "2031-11-30",
         "EPMG",
         "PES1",
         "Hidraulica",
         "4622700512.15"
        ],
        [
         "2",
         "2025-08-04",
         "2030-12-01",
         "2031-11-30",
         "EPMG",
         "TDR1",
         "Termica",
         "204570455.0"
        ],
        [
         "3",
         "2025-08-04",
         "2030-12-01",
         "2031-11-30",
         "HDPG",
         "CLL1",
         "Filo de Agua",
         "199999925.0"
        ],
        [
         "4",
         "2025-08-04",
         "2030-12-01",
         "2031-11-30",
         "EOEG",
         "BETA",
         "Eolica",
         "147168000.0"
        ]
       ],
       "shape": {
        "columns": 7,
        "rows": 5
       }
      },
      "text/html": [
       "<div>\n",
       "<style scoped>\n",
       "    .dataframe tbody tr th:only-of-type {\n",
       "        vertical-align: middle;\n",
       "    }\n",
       "\n",
       "    .dataframe tbody tr th {\n",
       "        vertical-align: top;\n",
       "    }\n",
       "\n",
       "    .dataframe thead th {\n",
       "        text-align: right;\n",
       "    }\n",
       "</style>\n",
       "<table border=\"1\" class=\"dataframe\">\n",
       "  <thead>\n",
       "    <tr style=\"text-align: right;\">\n",
       "      <th></th>\n",
       "      <th>FechaPublicacion</th>\n",
       "      <th>FechaInicioCargo</th>\n",
       "      <th>FechaFinCargo</th>\n",
       "      <th>CodigoSICAgente</th>\n",
       "      <th>CodigoPlanta</th>\n",
       "      <th>Tecnologia</th>\n",
       "      <th>OEF</th>\n",
       "    </tr>\n",
       "  </thead>\n",
       "  <tbody>\n",
       "    <tr>\n",
       "      <th>0</th>\n",
       "      <td>2025-08-04</td>\n",
       "      <td>2030-12-01</td>\n",
       "      <td>2031-11-30</td>\n",
       "      <td>CHVG</td>\n",
       "      <td>CELE</td>\n",
       "      <td>Eolica</td>\n",
       "      <td>6.484188e+08</td>\n",
       "    </tr>\n",
       "    <tr>\n",
       "      <th>1</th>\n",
       "      <td>2025-08-04</td>\n",
       "      <td>2030-12-01</td>\n",
       "      <td>2031-11-30</td>\n",
       "      <td>EPMG</td>\n",
       "      <td>PES1</td>\n",
       "      <td>Hidraulica</td>\n",
       "      <td>4.622701e+09</td>\n",
       "    </tr>\n",
       "    <tr>\n",
       "      <th>2</th>\n",
       "      <td>2025-08-04</td>\n",
       "      <td>2030-12-01</td>\n",
       "      <td>2031-11-30</td>\n",
       "      <td>EPMG</td>\n",
       "      <td>TDR1</td>\n",
       "      <td>Termica</td>\n",
       "      <td>2.045705e+08</td>\n",
       "    </tr>\n",
       "    <tr>\n",
       "      <th>3</th>\n",
       "      <td>2025-08-04</td>\n",
       "      <td>2030-12-01</td>\n",
       "      <td>2031-11-30</td>\n",
       "      <td>HDPG</td>\n",
       "      <td>CLL1</td>\n",
       "      <td>Filo de Agua</td>\n",
       "      <td>1.999999e+08</td>\n",
       "    </tr>\n",
       "    <tr>\n",
       "      <th>4</th>\n",
       "      <td>2025-08-04</td>\n",
       "      <td>2030-12-01</td>\n",
       "      <td>2031-11-30</td>\n",
       "      <td>EOEG</td>\n",
       "      <td>BETA</td>\n",
       "      <td>Eolica</td>\n",
       "      <td>1.471680e+08</td>\n",
       "    </tr>\n",
       "  </tbody>\n",
       "</table>\n",
       "</div>"
      ],
      "text/plain": [
       "  FechaPublicacion FechaInicioCargo FechaFinCargo CodigoSICAgente  \\\n",
       "0       2025-08-04       2030-12-01    2031-11-30            CHVG   \n",
       "1       2025-08-04       2030-12-01    2031-11-30            EPMG   \n",
       "2       2025-08-04       2030-12-01    2031-11-30            EPMG   \n",
       "3       2025-08-04       2030-12-01    2031-11-30            HDPG   \n",
       "4       2025-08-04       2030-12-01    2031-11-30            EOEG   \n",
       "\n",
       "  CodigoPlanta    Tecnologia           OEF  \n",
       "0         CELE        Eolica  6.484188e+08  \n",
       "1         PES1    Hidraulica  4.622701e+09  \n",
       "2         TDR1       Termica  2.045705e+08  \n",
       "3         CLL1  Filo de Agua  1.999999e+08  \n",
       "4         BETA        Eolica  1.471680e+08  "
      ]
     },
     "execution_count": 4,
     "metadata": {},
     "output_type": "execute_result"
    }
   ],
   "source": [
    "id_dataset = '306c67'                                       # ID del conjunto de datos a consultar\n",
    "fecha_inicial = '2025-12-01'                                # Fecha de inicio del rango de consulta\n",
    "fecha_final = '2032-11-30'                                  # Fecha de fin del rango de consulta\n",
    "simem = ReadSIMEM(id_dataset, fecha_inicial, fecha_final)   # Instancia de la clase ReadSIMEM con los parámetros definidos\n",
    "df_dataset = simem.main()                                   # Ejecución del método principal para obtener los datos en un DataFrame\n",
    "df_dataset.head(5)                                          # Visualización de las primeras 5 filas del DataFrame"
   ]
  },
  {
   "cell_type": "markdown",
   "metadata": {},
   "source": [
    "<a id='section4'></a>\n",
    "# 4. Manipulación de datos\n",
    "Los siguientes pasos corresponden a las actividades de manipulación y preparación de los datos que son relevantes para el análisis. "
   ]
  },
  {
   "cell_type": "markdown",
   "metadata": {},
   "source": [
    "### Filtrar la máxima versión para el periodo de consulta de los datos, es decir, la fecha de publicación mas reciente de las proyecciones"
   ]
  },
  {
   "cell_type": "code",
   "execution_count": 5,
   "metadata": {},
   "outputs": [
    {
     "data": {
      "application/vnd.microsoft.datawrangler.viewer.v0+json": {
       "columns": [
        {
         "name": "index",
         "rawType": "int64",
         "type": "integer"
        },
        {
         "name": "FechaPublicacion",
         "rawType": "object",
         "type": "string"
        },
        {
         "name": "FechaInicioCargo",
         "rawType": "object",
         "type": "string"
        },
        {
         "name": "FechaFinCargo",
         "rawType": "object",
         "type": "string"
        },
        {
         "name": "CodigoSICAgente",
         "rawType": "object",
         "type": "string"
        },
        {
         "name": "CodigoPlanta",
         "rawType": "object",
         "type": "string"
        },
        {
         "name": "Tecnologia",
         "rawType": "object",
         "type": "string"
        },
        {
         "name": "OEF",
         "rawType": "float64",
         "type": "float"
        }
       ],
       "ref": "521b8f8b-f0a7-494b-87f9-804439b92b81",
       "rows": [
        [
         "0",
         "2025-08-04",
         "2030-12-01",
         "2031-11-30",
         "CHVG",
         "CELE",
         "Eolica",
         "648418850.0"
        ],
        [
         "1",
         "2025-08-04",
         "2026-03-01",
         "2026-03-31",
         "EPSG",
         "ALBG",
         "Hidraulica",
         "2540286.0"
        ],
        [
         "2",
         "2025-08-04",
         "2026-04-01",
         "2026-04-30",
         "SLUG",
         "3IZ6",
         "Solar",
         "73907.57"
        ],
        [
         "3",
         "2025-08-04",
         "2026-04-01",
         "2026-04-30",
         "EPMG",
         "SNFR",
         "Hidraulica",
         "0.0"
        ],
        [
         "4",
         "2025-08-04",
         "2026-04-01",
         "2026-04-30",
         "EPMG",
         "PRC3",
         "Hidraulica",
         "0.0"
        ],
        [
         "5",
         "2025-08-04",
         "2026-03-01",
         "2026-03-31",
         "SDCG",
         "3INX",
         "Solar",
         "78999.98"
        ],
        [
         "6",
         "2025-08-04",
         "2026-03-01",
         "2026-03-31",
         "EMUG",
         "URA1",
         "Hidraulica",
         "0.0"
        ],
        [
         "7",
         "2025-08-04",
         "2026-03-01",
         "2026-03-31",
         "SLUG",
         "3IZ6",
         "Solar",
         "154627.97"
        ],
        [
         "8",
         "2025-08-04",
         "2026-03-01",
         "2026-03-31",
         "EPMG",
         "GTRG",
         "Hidraulica",
         "7468213.3413"
        ],
        [
         "9",
         "2025-08-04",
         "2026-03-01",
         "2026-03-31",
         "EPMG",
         "PRC3",
         "Hidraulica",
         "0.0"
        ],
        [
         "10",
         "2025-08-04",
         "2026-03-01",
         "2026-03-31",
         "EPMG",
         "PES1",
         "Hidraulica",
         "0.0"
        ],
        [
         "11",
         "2025-08-04",
         "2026-03-01",
         "2026-03-31",
         "SLMG",
         "MATA",
         "Solar",
         "116363.45"
        ],
        [
         "12",
         "2025-08-04",
         "2026-03-01",
         "2026-03-31",
         "EPMG",
         "ESMR",
         "Hidraulica",
         "1552075.1766"
        ],
        [
         "13",
         "2025-08-04",
         "2026-03-01",
         "2026-03-31",
         "EPMG",
         "SNFR",
         "Hidraulica",
         "2069433.5688"
        ],
        [
         "14",
         "2025-08-04",
         "2026-04-01",
         "2026-04-30",
         "EPMG",
         "ESMR",
         "Hidraulica",
         "0.0"
        ],
        [
         "15",
         "2025-08-04",
         "2026-02-01",
         "2026-02-28",
         "EPMG",
         "ESMR",
         "Hidraulica",
         "971115.7477"
        ],
        [
         "16",
         "2025-08-04",
         "2026-02-01",
         "2026-02-28",
         "EPMG",
         "PES1",
         "Hidraulica",
         "0.0"
        ],
        [
         "17",
         "2025-08-04",
         "2026-02-01",
         "2026-02-28",
         "SLMG",
         "MATA",
         "Solar",
         "156294.88"
        ],
        [
         "18",
         "2025-08-04",
         "2026-02-01",
         "2026-02-28",
         "EPMG",
         "GTRG",
         "Hidraulica",
         "0.0"
        ],
        [
         "19",
         "2025-08-04",
         "2026-02-01",
         "2026-02-28",
         "SDCG",
         "3INX",
         "Solar",
         "84999.97"
        ],
        [
         "20",
         "2025-08-04",
         "2026-02-01",
         "2026-02-28",
         "EPMG",
         "SNFR",
         "Hidraulica",
         "5423010.1711"
        ],
        [
         "21",
         "2025-08-04",
         "2026-02-01",
         "2026-02-28",
         "SLUG",
         "3IZ6",
         "Solar",
         "121036.72"
        ],
        [
         "22",
         "2025-08-04",
         "2026-02-01",
         "2026-02-28",
         "EMUG",
         "URA1",
         "Hidraulica",
         "0.0"
        ],
        [
         "23",
         "2025-08-04",
         "2026-02-01",
         "2026-02-28",
         "EPSG",
         "ALBG",
         "Hidraulica",
         "6350916.0"
        ],
        [
         "24",
         "2025-08-04",
         "2026-02-01",
         "2026-02-28",
         "EPMG",
         "PRC3",
         "Hidraulica",
         "0.0"
        ],
        [
         "25",
         "2025-08-04",
         "2026-01-01",
         "2026-01-31",
         "EPMG",
         "PES1",
         "Hidraulica",
         "0.0"
        ],
        [
         "26",
         "2025-08-04",
         "2026-04-01",
         "2026-04-30",
         "EPSG",
         "ALBG",
         "Hidraulica",
         "0.0"
        ],
        [
         "27",
         "2025-08-04",
         "2026-04-01",
         "2026-04-30",
         "EPMG",
         "GTRG",
         "Hidraulica",
         "13403023.3"
        ],
        [
         "28",
         "2025-08-04",
         "2026-07-01",
         "2026-07-31",
         "EPMG",
         "SNFR",
         "Hidraulica",
         "0.0"
        ],
        [
         "29",
         "2025-08-04",
         "2026-05-01",
         "2026-05-31",
         "EPSG",
         "ALBG",
         "Hidraulica",
         "0.0"
        ],
        [
         "30",
         "2025-08-04",
         "2026-07-01",
         "2026-07-31",
         "EPMG",
         "ESMR",
         "Hidraulica",
         "0.0"
        ],
        [
         "31",
         "2025-08-04",
         "2026-06-01",
         "2026-06-30",
         "EPMG",
         "ESMR",
         "Hidraulica",
         "0.0"
        ],
        [
         "32",
         "2025-08-04",
         "2026-06-01",
         "2026-06-30",
         "EPMG",
         "PRC3",
         "Hidraulica",
         "0.0"
        ],
        [
         "33",
         "2025-08-04",
         "2026-06-01",
         "2026-06-30",
         "EMUG",
         "URA1",
         "Hidraulica",
         "4308359.7846"
        ],
        [
         "34",
         "2025-08-04",
         "2026-06-01",
         "2026-06-30",
         "SLMG",
         "MATA",
         "Solar",
         "66232.34"
        ],
        [
         "35",
         "2025-08-04",
         "2026-06-01",
         "2026-06-30",
         "EPMG",
         "PES1",
         "Hidraulica",
         "9203205.4601"
        ],
        [
         "36",
         "2025-08-04",
         "2026-06-01",
         "2026-06-30",
         "SDCG",
         "3INX",
         "Solar",
         "31820.14"
        ],
        [
         "37",
         "2025-08-04",
         "2026-06-01",
         "2026-06-30",
         "SLUG",
         "3IZ6",
         "Solar",
         "68113.69"
        ],
        [
         "38",
         "2025-08-04",
         "2026-06-01",
         "2026-06-30",
         "EPSG",
         "ALBG",
         "Hidraulica",
         "0.0"
        ],
        [
         "39",
         "2025-08-04",
         "2026-06-01",
         "2026-06-30",
         "EPMG",
         "GTRG",
         "Hidraulica",
         "0.0"
        ],
        [
         "40",
         "2025-08-04",
         "2026-06-01",
         "2026-06-30",
         "EPMG",
         "SNFR",
         "Hidraulica",
         "0.0"
        ],
        [
         "41",
         "2025-08-04",
         "2026-05-01",
         "2026-05-31",
         "EPMG",
         "SNFR",
         "Hidraulica",
         "0.0"
        ],
        [
         "42",
         "2025-08-04",
         "2026-04-01",
         "2026-04-30",
         "SLMG",
         "MATA",
         "Solar",
         "59359.45"
        ],
        [
         "43",
         "2025-08-04",
         "2026-05-01",
         "2026-05-31",
         "EMUG",
         "URA1",
         "Hidraulica",
         "4451971.8943"
        ],
        [
         "44",
         "2025-08-04",
         "2026-05-01",
         "2026-05-31",
         "EPMG",
         "PRC3",
         "Hidraulica",
         "0.0"
        ],
        [
         "45",
         "2025-08-04",
         "2026-05-01",
         "2026-05-31",
         "EPMG",
         "ESMR",
         "Hidraulica",
         "0.0"
        ],
        [
         "46",
         "2025-08-04",
         "2026-05-01",
         "2026-05-31",
         "SDCG",
         "3INX",
         "Solar",
         "20999.99"
        ],
        [
         "47",
         "2025-08-04",
         "2026-05-01",
         "2026-05-31",
         "SLUG",
         "3IZ6",
         "Solar",
         "74370.46"
        ],
        [
         "48",
         "2025-08-04",
         "2026-05-01",
         "2026-05-31",
         "SLMG",
         "MATA",
         "Solar",
         "68641.27"
        ],
        [
         "49",
         "2025-08-04",
         "2026-05-01",
         "2026-05-31",
         "EPMG",
         "PES1",
         "Hidraulica",
         "9322846.3383"
        ]
       ],
       "shape": {
        "columns": 7,
        "rows": 811
       }
      },
      "text/html": [
       "<div>\n",
       "<style scoped>\n",
       "    .dataframe tbody tr th:only-of-type {\n",
       "        vertical-align: middle;\n",
       "    }\n",
       "\n",
       "    .dataframe tbody tr th {\n",
       "        vertical-align: top;\n",
       "    }\n",
       "\n",
       "    .dataframe thead th {\n",
       "        text-align: right;\n",
       "    }\n",
       "</style>\n",
       "<table border=\"1\" class=\"dataframe\">\n",
       "  <thead>\n",
       "    <tr style=\"text-align: right;\">\n",
       "      <th></th>\n",
       "      <th>FechaPublicacion</th>\n",
       "      <th>FechaInicioCargo</th>\n",
       "      <th>FechaFinCargo</th>\n",
       "      <th>CodigoSICAgente</th>\n",
       "      <th>CodigoPlanta</th>\n",
       "      <th>Tecnologia</th>\n",
       "      <th>OEF</th>\n",
       "    </tr>\n",
       "  </thead>\n",
       "  <tbody>\n",
       "    <tr>\n",
       "      <th>0</th>\n",
       "      <td>2025-08-04</td>\n",
       "      <td>2030-12-01</td>\n",
       "      <td>2031-11-30</td>\n",
       "      <td>CHVG</td>\n",
       "      <td>CELE</td>\n",
       "      <td>Eolica</td>\n",
       "      <td>6.484188e+08</td>\n",
       "    </tr>\n",
       "    <tr>\n",
       "      <th>1</th>\n",
       "      <td>2025-08-04</td>\n",
       "      <td>2026-03-01</td>\n",
       "      <td>2026-03-31</td>\n",
       "      <td>EPSG</td>\n",
       "      <td>ALBG</td>\n",
       "      <td>Hidraulica</td>\n",
       "      <td>2.540286e+06</td>\n",
       "    </tr>\n",
       "    <tr>\n",
       "      <th>2</th>\n",
       "      <td>2025-08-04</td>\n",
       "      <td>2026-04-01</td>\n",
       "      <td>2026-04-30</td>\n",
       "      <td>SLUG</td>\n",
       "      <td>3IZ6</td>\n",
       "      <td>Solar</td>\n",
       "      <td>7.390757e+04</td>\n",
       "    </tr>\n",
       "    <tr>\n",
       "      <th>3</th>\n",
       "      <td>2025-08-04</td>\n",
       "      <td>2026-04-01</td>\n",
       "      <td>2026-04-30</td>\n",
       "      <td>EPMG</td>\n",
       "      <td>SNFR</td>\n",
       "      <td>Hidraulica</td>\n",
       "      <td>0.000000e+00</td>\n",
       "    </tr>\n",
       "    <tr>\n",
       "      <th>4</th>\n",
       "      <td>2025-08-04</td>\n",
       "      <td>2026-04-01</td>\n",
       "      <td>2026-04-30</td>\n",
       "      <td>EPMG</td>\n",
       "      <td>PRC3</td>\n",
       "      <td>Hidraulica</td>\n",
       "      <td>0.000000e+00</td>\n",
       "    </tr>\n",
       "    <tr>\n",
       "      <th>...</th>\n",
       "      <td>...</td>\n",
       "      <td>...</td>\n",
       "      <td>...</td>\n",
       "      <td>...</td>\n",
       "      <td>...</td>\n",
       "      <td>...</td>\n",
       "      <td>...</td>\n",
       "    </tr>\n",
       "    <tr>\n",
       "      <th>806</th>\n",
       "      <td>2025-08-04</td>\n",
       "      <td>2027-12-01</td>\n",
       "      <td>2028-11-30</td>\n",
       "      <td>TEMG</td>\n",
       "      <td>TEC1</td>\n",
       "      <td>Termica</td>\n",
       "      <td>1.759357e+09</td>\n",
       "    </tr>\n",
       "    <tr>\n",
       "      <th>807</th>\n",
       "      <td>2025-08-04</td>\n",
       "      <td>2027-12-01</td>\n",
       "      <td>2028-11-30</td>\n",
       "      <td>HIMG</td>\n",
       "      <td>PPA2</td>\n",
       "      <td>Termica</td>\n",
       "      <td>4.933874e+08</td>\n",
       "    </tr>\n",
       "    <tr>\n",
       "      <th>808</th>\n",
       "      <td>2025-08-04</td>\n",
       "      <td>2027-12-01</td>\n",
       "      <td>2028-11-30</td>\n",
       "      <td>TYPG</td>\n",
       "      <td>TYP5</td>\n",
       "      <td>Termica</td>\n",
       "      <td>4.172396e+08</td>\n",
       "    </tr>\n",
       "    <tr>\n",
       "      <th>809</th>\n",
       "      <td>2025-08-04</td>\n",
       "      <td>2027-12-01</td>\n",
       "      <td>2028-11-30</td>\n",
       "      <td>TERG</td>\n",
       "      <td>TSJ2</td>\n",
       "      <td>Termica</td>\n",
       "      <td>1.441241e+09</td>\n",
       "    </tr>\n",
       "    <tr>\n",
       "      <th>810</th>\n",
       "      <td>2025-08-04</td>\n",
       "      <td>2027-12-01</td>\n",
       "      <td>2028-11-30</td>\n",
       "      <td>TBSG</td>\n",
       "      <td>TBST</td>\n",
       "      <td>Termica</td>\n",
       "      <td>1.327751e+10</td>\n",
       "    </tr>\n",
       "  </tbody>\n",
       "</table>\n",
       "<p>811 rows × 7 columns</p>\n",
       "</div>"
      ],
      "text/plain": [
       "    FechaPublicacion FechaInicioCargo FechaFinCargo CodigoSICAgente  \\\n",
       "0         2025-08-04       2030-12-01    2031-11-30            CHVG   \n",
       "1         2025-08-04       2026-03-01    2026-03-31            EPSG   \n",
       "2         2025-08-04       2026-04-01    2026-04-30            SLUG   \n",
       "3         2025-08-04       2026-04-01    2026-04-30            EPMG   \n",
       "4         2025-08-04       2026-04-01    2026-04-30            EPMG   \n",
       "..               ...              ...           ...             ...   \n",
       "806       2025-08-04       2027-12-01    2028-11-30            TEMG   \n",
       "807       2025-08-04       2027-12-01    2028-11-30            HIMG   \n",
       "808       2025-08-04       2027-12-01    2028-11-30            TYPG   \n",
       "809       2025-08-04       2027-12-01    2028-11-30            TERG   \n",
       "810       2025-08-04       2027-12-01    2028-11-30            TBSG   \n",
       "\n",
       "    CodigoPlanta  Tecnologia           OEF  \n",
       "0           CELE      Eolica  6.484188e+08  \n",
       "1           ALBG  Hidraulica  2.540286e+06  \n",
       "2           3IZ6       Solar  7.390757e+04  \n",
       "3           SNFR  Hidraulica  0.000000e+00  \n",
       "4           PRC3  Hidraulica  0.000000e+00  \n",
       "..           ...         ...           ...  \n",
       "806         TEC1     Termica  1.759357e+09  \n",
       "807         PPA2     Termica  4.933874e+08  \n",
       "808         TYP5     Termica  4.172396e+08  \n",
       "809         TSJ2     Termica  1.441241e+09  \n",
       "810         TBST     Termica  1.327751e+10  \n",
       "\n",
       "[811 rows x 7 columns]"
      ]
     },
     "execution_count": 5,
     "metadata": {},
     "output_type": "execute_result"
    }
   ],
   "source": [
    "df_dataset = df_dataset.sort_values('FechaPublicacion', ascending=False)                            # Se ordena por FechaPublicacion descendente\n",
    "\n",
    "df_dataset = df_dataset.drop_duplicates(subset=[\n",
    "    'CodigoPlanta', 'FechaInicioCargo', 'FechaFinCargo'], keep='first').reset_index(drop=True)      # Se eliminan los duplicados manteniendo el más reciente por grupo\n",
    "df_dataset"
   ]
  },
  {
   "cell_type": "markdown",
   "metadata": {},
   "source": [
    "Mensualización de los datos"
   ]
  },
  {
   "cell_type": "code",
   "execution_count": 6,
   "metadata": {},
   "outputs": [],
   "source": [
    "# fechas en formato datetime\n",
    "df_dataset['FechaInicioCargo'] = pd.to_datetime(df_dataset['FechaInicioCargo'])\n",
    "df_dataset['FechaFinCargo'] = pd.to_datetime(df_dataset['FechaFinCargo'])\n",
    "\n",
    "# Diccionario para acumular energía por mes\n",
    "energia_mensual = {}\n",
    "\n",
    "# Procesar cada fila del DataFrame\n",
    "for _, row in df_dataset.iterrows():\n",
    "    fecha_ini = row['FechaInicioCargo']\n",
    "    fecha_fin = row['FechaFinCargo']\n",
    "    energia_total = row['OEF']\n",
    "    \n",
    "    # Generar lista de meses en el rango\n",
    "    meses = []\n",
    "    fecha_actual = fecha_ini\n",
    "    while fecha_actual <= fecha_fin:\n",
    "        meses.append(fecha_actual.strftime(\"%Y-%m\"))\n",
    "        fecha_actual += relativedelta(months=1)\n",
    "    \n",
    "    energia_por_mes = energia_total / len(meses)\n",
    "    \n",
    "    for mes in meses:\n",
    "        energia_mensual[mes] = energia_mensual.get(mes, 0) + energia_por_mes\n",
    "\n",
    "# Convertir a DataFrame para graficar\n",
    "df_mensual = pd.DataFrame(list(energia_mensual.items()), columns=[\"Mes\", \"Energia\"])\n",
    "df_mensual[\"Mes\"] = pd.to_datetime(df_mensual[\"Mes\"])\n",
    "df_mensual = df_mensual.sort_values(\"Mes\")\n",
    "\n",
    "millon = 1000000\n",
    "df_mensual['Energia'] = df_mensual['Energia'].div(millon)"
   ]
  },
  {
   "cell_type": "markdown",
   "metadata": {},
   "source": [
    "<a id='section5'></a>\n",
    "# 5. Análisis para dar respuesta al caso de uso"
   ]
  },
  {
   "cell_type": "markdown",
   "metadata": {},
   "source": [
    "### Obligacion de energia firme acumulada mensualmente"
   ]
  },
  {
   "cell_type": "code",
   "execution_count": 21,
   "metadata": {},
   "outputs": [
    {
     "data": {
      "image/png": "[encoded data removed]",
      "text/plain": [
       "<Figure size 1600x800 with 1 Axes>"
      ]
     },
     "metadata": {},
     "output_type": "display_data"
    }
   ],
   "source": [
    "# Se crea la gráfica de barras\n",
    "plt.figure(figsize=(16, 8))  # Tamaño del gráfico\n",
    "\n",
    "plt.bar(\n",
    "    df_mensual['Mes'],               # Valores Eje X\n",
    "    df_mensual['Energia'],           # Valores Eje Y\n",
    "    color='skyblue',                 # Color del gráfico\n",
    "    width=20                         # Grosor de las barras\n",
    ")\n",
    "\n",
    "# Configurar el diseño del gráfico\n",
    "plt.title('Obligaciones de energía firme por mes')  # Título del gráfico\n",
    "plt.xlabel('Año')                                   # Título Eje X\n",
    "plt.ylabel('GW-mes')                                # Título Eje Y\n",
    "plt.grid(axis='y', linestyle='--', alpha=0.7)       # Líneas de guía en el eje Y\n",
    "\n",
    "# plt.tight_layout()  # Ajuste automático del diseño\n",
    "plt.show()          # Se muestra el gráfico"
   ]
  }
 ],
 "metadata": {
  "kernelspec": {
   "display_name": ".venv",
   "language": "python",
   "name": "python3"
  },
  "language_info": {
   "codemirror_mode": {
    "name": "ipython",
    "version": 3
   },
   "file_extension": ".py",
   "mimetype": "text/x-python",
   "name": "python",
   "nbconvert_exporter": "python",
   "pygments_lexer": "ipython3",
   "version": "3.13.5"
  }
 },
 "nbformat": 4,
 "nbformat_minor": 2
}
