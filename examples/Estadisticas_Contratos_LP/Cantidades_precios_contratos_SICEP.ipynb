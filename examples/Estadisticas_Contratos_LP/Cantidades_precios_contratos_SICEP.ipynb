{
 "cells": [
  {
   "attachments": {
    "SIMEM_logo_1.png": {
     "image/png": "[encoded data removed]"
    }
   },
   "cell_type": "markdown",
   "metadata": {},
   "source": [
    "![SIMEM_logo_1.png](attachment:SIMEM_logo_1.png)\n",
    "\n",
    "[SiMEM](https://www.simem.co/)"
   ]
  },
  {
   "cell_type": "markdown",
   "metadata": {},
   "source": [
    "## Caso de uso - Cantidades y precios en contratos de energía del Mercado Mayorista para contratos del SICEP\n",
    "\n",
    "\n",
    "# Objetivos de este Notebook\n",
    "\n",
    "* Explicar cómo se realiza la instalación e importación de la librería pydataxm desde la consola para su uso en ambientes locales\n",
    "* Explicar cómo se pueden consultar los conjuntos de datos a través de la librería Pydataxm\n",
    "* Explicar cómo realizar el procesamiento y manipulación de los datos consultados\n",
    "* Explicar el análisis de los datos consultados para dar respuesta al caso de uso propuesto\n",
    "\n",
    "**Índice**\n",
    "\n",
    "1. [Instalación de librerías](#section1)\n",
    "\n",
    "2. [Importación de librerías](#section2)\n",
    "\n",
    "3. [Consultar información de los conjuntos de datos](#section3)\n",
    "\n",
    "4. [Manipulación de datos](#section4)\n",
    "\n",
    "5. [Análisis para dar respuesta al caso de uso](#section5)\n"
   ]
  },
  {
   "cell_type": "markdown",
   "metadata": {},
   "source": [
    "<a id='section1'></a>\n",
    "# 1. Instalación de la librería\n",
    "Ejecutar el siguiente comando en el CMD para instalar la librería de python."
   ]
  },
  {
   "cell_type": "code",
   "execution_count": null,
   "metadata": {},
   "outputs": [],
   "source": [
    "#!{sys.executable} -m pip install pydataxm"
   ]
  },
  {
   "cell_type": "markdown",
   "metadata": {},
   "source": [
    "<a id='section2'></a>\n",
    "# 2. Importación de librerías\n"
   ]
  },
  {
   "cell_type": "code",
   "execution_count": 17,
   "metadata": {},
   "outputs": [],
   "source": [
    "from pydataxm.pydatasimem import ReadSIMEM  # Importa clases para interactuar con datos del sistema SIMEM\n",
    "import pandas as pd                             # Librería para manipulación y análisis de datos en estructuras tipo DataFrame\n",
    "import plotly.graph_objects as go               # Importa la biblioteca para crear gráficos\n",
    "import asyncio                                  # Módulo para programación asíncrona en Python\n",
    "from concurrent.futures import ThreadPoolExecutor # Importa el ejecutor de hilos para manejar tareas concurrentes\n",
    "import nest_asyncio                             # Módulo para permitir anidamiento de bucles de eventos asíncronos\n",
    "nest_asyncio.apply()                            # Aplica el parche para permitir anidamiento de bucles de eventos\n",
    "\n",
    "pd.options.mode.chained_assignment = None       # Desactiva el warning"
   ]
  },
  {
   "cell_type": "markdown",
   "metadata": {},
   "source": [
    "<a id='section3'></a>\n",
    "# 3. Consultar información de los conjuntos de datos\n",
    "El método de extracción recibe los parámetros con los que se va a realizar la consulta. \n",
    "El datasetID para un conjunto particular se puede encontrar en el [catálogo de conjuntos de datos.](https://www.simem.co/pages/catalogodatos/51FC0A59-3A00-462C-B449-9CB8D5E007FB)  \n",
    "Para este ejemplo el conjunto a presentar es  [Cantidades y precios en contratos de energía del Mercado Mayorista del SICEP para el mercado regulado](https://www.simem.co/datadetail/1E543E6E-8A4F-4F2B-9D94-D8C4F96715FE)."
   ]
  },
  {
   "cell_type": "markdown",
   "metadata": {},
   "source": [
    "Se definen los parámetros de entrada y se crea el objeto ReadSIMEM() para realizar las consultas."
   ]
  },
  {
   "cell_type": "code",
   "execution_count": 2,
   "metadata": {},
   "outputs": [
    {
     "name": "stdout",
     "output_type": "stream",
     "text": [
      "****************************************************************************************************\n",
      "Initializing object\n",
      "The object has been initialized with the dataset: \"Energía promedio de los contratos del SICEP para el mercado regulado por comercializador\"\n",
      "****************************************************************************************************\n",
      "Inicio consulta sincronica\n",
      "Creacion url: 0.0\n",
      "Extraccion de registros: 3.391920804977417\n",
      "End of data extracting process\n",
      "****************************************************************************************************\n",
      "****************************************************************************************************\n",
      "Initializing object\n",
      "The object has been initialized with the dataset: \"Energía promedio de los contratos de convocatorias del SICEP con destino al mercado regulado del Sistema Interconectado Nacional\"\n",
      "****************************************************************************************************\n",
      "Inicio consulta sincronica\n",
      "Creacion url: 0.0009965896606445312\n",
      "Extraccion de registros: 1.9333629608154297\n",
      "End of data extracting process\n",
      "****************************************************************************************************\n",
      "****************************************************************************************************\n",
      "Initializing object\n",
      "The object has been initialized with the dataset: \"Precios y estadísticas mensuales de contratos de convocatorias del SICEP para el mercado regulado por comercializador\"\n",
      "****************************************************************************************************\n",
      "Inicio consulta sincronica\n",
      "Creacion url: 0.0009999275207519531\n",
      "Extraccion de registros: 4.38987135887146\n",
      "End of data extracting process\n",
      "****************************************************************************************************\n",
      "****************************************************************************************************\n",
      "Initializing object\n",
      "The object has been initialized with the dataset: \"Precios y estadísticas mensuales de los contratos de convocatorias del SICEP para el mercado regulado\"\n",
      "****************************************************************************************************\n",
      "Inicio consulta sincronica\n",
      "Creacion url: 0.0009984970092773438\n",
      "Extraccion de registros: 3.9351396560668945\n",
      "End of data extracting process\n",
      "****************************************************************************************************\n"
     ]
    },
    {
     "data": {
      "application/vnd.microsoft.datawrangler.viewer.v0+json": {
       "columns": [
        {
         "name": "index",
         "rawType": "int64",
         "type": "integer"
        },
        {
         "name": "Fecha",
         "rawType": "object",
         "type": "string"
        },
        {
         "name": "CodigoDuracion",
         "rawType": "object",
         "type": "string"
        },
        {
         "name": "CodigoAgenteComprador",
         "rawType": "object",
         "type": "string"
        },
        {
         "name": "TipoDespachoContrato",
         "rawType": "object",
         "type": "string"
        },
        {
         "name": "PrcjEnergiaCttosIntegradosV",
         "rawType": "float64",
         "type": "float"
        },
        {
         "name": "PrcjEnergiaCttosDeterminables",
         "rawType": "float64",
         "type": "float"
        },
        {
         "name": "EnergiaPromedioPorContrato",
         "rawType": "float64",
         "type": "float"
        },
        {
         "name": "EnergiaDespachada",
         "rawType": "float64",
         "type": "float"
        },
        {
         "name": "Version",
         "rawType": "object",
         "type": "string"
        }
       ],
       "ref": "aa2e03f8-bfa4-4c97-91d9-8d936b69cf54",
       "rows": [
        [
         "0",
         "2024-12-01",
         "P1M",
         "QIEC",
         "Pague lo contratado",
         "0.0",
         "0.0",
         "1296165.51",
         "2592331.01",
         "TXR"
        ],
        [
         "1",
         "2024-12-01",
         "P1M",
         "ENIC",
         "Pague lo contratado",
         "0.0",
         "0.0",
         "1358019.0",
         "1358019.0",
         "TX5"
        ],
        [
         "2",
         "2024-12-01",
         "P1M",
         "EXEC",
         "Pague lo demandado",
         "0.0",
         "100.0",
         "11823575.57",
         "11823575.57",
         "TXR"
        ],
        [
         "3",
         "2024-12-01",
         "P1M",
         "NEUC",
         "Pague lo contratado",
         "0.0",
         "0.0",
         "3517237.78",
         "10551713.35",
         "TX5"
        ],
        [
         "4",
         "2024-12-01",
         "P1M",
         "EMSC",
         "Pague lo contratado",
         "0.0",
         "0.0",
         "1023000.0",
         "2046000.0",
         "TX4"
        ],
        [
         "5",
         "2024-12-01",
         "P1M",
         "CHCC",
         "Pague lo contratado",
         "0.0",
         "0.0",
         "9495556.84",
         "37982227.37",
         "TX5"
        ],
        [
         "6",
         "2024-12-01",
         "P1M",
         "ESVC",
         "Pague lo contratado",
         "0.0",
         "0.0",
         "416067.62",
         "416067.62",
         "TX5"
        ],
        [
         "7",
         "2024-12-01",
         "P1M",
         "TENC",
         "Pague lo contratado",
         "0.0",
         "0.0",
         "2790000.0",
         "5580000.0",
         "TXF"
        ],
        [
         "8",
         "2024-12-01",
         "P1M",
         "ESOC",
         "Pague lo demandado",
         "0.0",
         "100.0",
         "464502.15",
         "464502.15",
         "TX4"
        ],
        [
         "9",
         "2024-12-01",
         "P1M",
         "TENC",
         "Pague lo contratado",
         "0.0",
         "0.0",
         "2790000.0",
         "5580000.0",
         "TXR"
        ],
        [
         "10",
         "2024-12-01",
         "P1M",
         "EBPC",
         "Pague lo contratado",
         "0.0",
         "0.0",
         "1373463.68",
         "4120391.04",
         "TXF"
        ],
        [
         "11",
         "2024-12-01",
         "P1M",
         "CQTC",
         "Pague lo contratado",
         "0.0",
         "0.0",
         "5019778.72",
         "25098893.61",
         "TXF"
        ],
        [
         "12",
         "2024-12-01",
         "P1M",
         "CHCC",
         "Pague lo contratado",
         "0.0",
         "0.0",
         "9495556.84",
         "37982227.37",
         "TXR"
        ],
        [
         "13",
         "2024-12-01",
         "P1M",
         "EMPC",
         "Pague lo contratado",
         "0.0",
         "0.0",
         "1375494.0",
         "1375494.0",
         "TXF"
        ],
        [
         "14",
         "2024-12-01",
         "P1M",
         "ESVC",
         "Pague lo contratado",
         "0.0",
         "0.0",
         "416067.62",
         "416067.62",
         "TXF"
        ],
        [
         "15",
         "2024-12-01",
         "P1M",
         "EEPC",
         "Pague lo contratado",
         "0.0",
         "0.0",
         "2253420.93",
         "33801313.91",
         "TX4"
        ],
        [
         "16",
         "2024-12-01",
         "P1M",
         "NEUC",
         "Pague lo contratado",
         "0.0",
         "0.0",
         "3517237.78",
         "10551713.35",
         "TXF"
        ],
        [
         "17",
         "2024-12-01",
         "P1M",
         "TENC",
         "Pague lo contratado",
         "0.0",
         "0.0",
         "2790000.0",
         "5580000.0",
         "TX5"
        ],
        [
         "18",
         "2024-12-01",
         "P1M",
         "DLRC",
         "Pague lo demandado",
         "0.0",
         "0.0",
         "0.0",
         "0.0",
         "TXR"
        ],
        [
         "19",
         "2024-12-01",
         "P1M",
         "EBSC",
         "Pague lo contratado",
         "0.0",
         "0.0",
         "4349705.02",
         "17398820.06",
         "TXF"
        ]
       ],
       "shape": {
        "columns": 9,
        "rows": 20
       }
      },
      "text/html": [
       "<div>\n",
       "<style scoped>\n",
       "    .dataframe tbody tr th:only-of-type {\n",
       "        vertical-align: middle;\n",
       "    }\n",
       "\n",
       "    .dataframe tbody tr th {\n",
       "        vertical-align: top;\n",
       "    }\n",
       "\n",
       "    .dataframe thead th {\n",
       "        text-align: right;\n",
       "    }\n",
       "</style>\n",
       "<table border=\"1\" class=\"dataframe\">\n",
       "  <thead>\n",
       "    <tr style=\"text-align: right;\">\n",
       "      <th></th>\n",
       "      <th>Fecha</th>\n",
       "      <th>CodigoDuracion</th>\n",
       "      <th>CodigoAgenteComprador</th>\n",
       "      <th>TipoDespachoContrato</th>\n",
       "      <th>PrcjEnergiaCttosIntegradosV</th>\n",
       "      <th>PrcjEnergiaCttosDeterminables</th>\n",
       "      <th>EnergiaPromedioPorContrato</th>\n",
       "      <th>EnergiaDespachada</th>\n",
       "      <th>Version</th>\n",
       "    </tr>\n",
       "  </thead>\n",
       "  <tbody>\n",
       "    <tr>\n",
       "      <th>0</th>\n",
       "      <td>2024-12-01</td>\n",
       "      <td>P1M</td>\n",
       "      <td>QIEC</td>\n",
       "      <td>Pague lo contratado</td>\n",
       "      <td>0.0</td>\n",
       "      <td>0.0</td>\n",
       "      <td>1296165.51</td>\n",
       "      <td>2592331.01</td>\n",
       "      <td>TXR</td>\n",
       "    </tr>\n",
       "    <tr>\n",
       "      <th>1</th>\n",
       "      <td>2024-12-01</td>\n",
       "      <td>P1M</td>\n",
       "      <td>ENIC</td>\n",
       "      <td>Pague lo contratado</td>\n",
       "      <td>0.0</td>\n",
       "      <td>0.0</td>\n",
       "      <td>1358019.00</td>\n",
       "      <td>1358019.00</td>\n",
       "      <td>TX5</td>\n",
       "    </tr>\n",
       "    <tr>\n",
       "      <th>2</th>\n",
       "      <td>2024-12-01</td>\n",
       "      <td>P1M</td>\n",
       "      <td>EXEC</td>\n",
       "      <td>Pague lo demandado</td>\n",
       "      <td>0.0</td>\n",
       "      <td>100.0</td>\n",
       "      <td>11823575.57</td>\n",
       "      <td>11823575.57</td>\n",
       "      <td>TXR</td>\n",
       "    </tr>\n",
       "    <tr>\n",
       "      <th>3</th>\n",
       "      <td>2024-12-01</td>\n",
       "      <td>P1M</td>\n",
       "      <td>NEUC</td>\n",
       "      <td>Pague lo contratado</td>\n",
       "      <td>0.0</td>\n",
       "      <td>0.0</td>\n",
       "      <td>3517237.78</td>\n",
       "      <td>10551713.35</td>\n",
       "      <td>TX5</td>\n",
       "    </tr>\n",
       "    <tr>\n",
       "      <th>4</th>\n",
       "      <td>2024-12-01</td>\n",
       "      <td>P1M</td>\n",
       "      <td>EMSC</td>\n",
       "      <td>Pague lo contratado</td>\n",
       "      <td>0.0</td>\n",
       "      <td>0.0</td>\n",
       "      <td>1023000.00</td>\n",
       "      <td>2046000.00</td>\n",
       "      <td>TX4</td>\n",
       "    </tr>\n",
       "    <tr>\n",
       "      <th>5</th>\n",
       "      <td>2024-12-01</td>\n",
       "      <td>P1M</td>\n",
       "      <td>CHCC</td>\n",
       "      <td>Pague lo contratado</td>\n",
       "      <td>0.0</td>\n",
       "      <td>0.0</td>\n",
       "      <td>9495556.84</td>\n",
       "      <td>37982227.37</td>\n",
       "      <td>TX5</td>\n",
       "    </tr>\n",
       "    <tr>\n",
       "      <th>6</th>\n",
       "      <td>2024-12-01</td>\n",
       "      <td>P1M</td>\n",
       "      <td>ESVC</td>\n",
       "      <td>Pague lo contratado</td>\n",
       "      <td>0.0</td>\n",
       "      <td>0.0</td>\n",
       "      <td>416067.62</td>\n",
       "      <td>416067.62</td>\n",
       "      <td>TX5</td>\n",
       "    </tr>\n",
       "    <tr>\n",
       "      <th>7</th>\n",
       "      <td>2024-12-01</td>\n",
       "      <td>P1M</td>\n",
       "      <td>TENC</td>\n",
       "      <td>Pague lo contratado</td>\n",
       "      <td>0.0</td>\n",
       "      <td>0.0</td>\n",
       "      <td>2790000.00</td>\n",
       "      <td>5580000.00</td>\n",
       "      <td>TXF</td>\n",
       "    </tr>\n",
       "    <tr>\n",
       "      <th>8</th>\n",
       "      <td>2024-12-01</td>\n",
       "      <td>P1M</td>\n",
       "      <td>ESOC</td>\n",
       "      <td>Pague lo demandado</td>\n",
       "      <td>0.0</td>\n",
       "      <td>100.0</td>\n",
       "      <td>464502.15</td>\n",
       "      <td>464502.15</td>\n",
       "      <td>TX4</td>\n",
       "    </tr>\n",
       "    <tr>\n",
       "      <th>9</th>\n",
       "      <td>2024-12-01</td>\n",
       "      <td>P1M</td>\n",
       "      <td>TENC</td>\n",
       "      <td>Pague lo contratado</td>\n",
       "      <td>0.0</td>\n",
       "      <td>0.0</td>\n",
       "      <td>2790000.00</td>\n",
       "      <td>5580000.00</td>\n",
       "      <td>TXR</td>\n",
       "    </tr>\n",
       "    <tr>\n",
       "      <th>10</th>\n",
       "      <td>2024-12-01</td>\n",
       "      <td>P1M</td>\n",
       "      <td>EBPC</td>\n",
       "      <td>Pague lo contratado</td>\n",
       "      <td>0.0</td>\n",
       "      <td>0.0</td>\n",
       "      <td>1373463.68</td>\n",
       "      <td>4120391.04</td>\n",
       "      <td>TXF</td>\n",
       "    </tr>\n",
       "    <tr>\n",
       "      <th>11</th>\n",
       "      <td>2024-12-01</td>\n",
       "      <td>P1M</td>\n",
       "      <td>CQTC</td>\n",
       "      <td>Pague lo contratado</td>\n",
       "      <td>0.0</td>\n",
       "      <td>0.0</td>\n",
       "      <td>5019778.72</td>\n",
       "      <td>25098893.61</td>\n",
       "      <td>TXF</td>\n",
       "    </tr>\n",
       "    <tr>\n",
       "      <th>12</th>\n",
       "      <td>2024-12-01</td>\n",
       "      <td>P1M</td>\n",
       "      <td>CHCC</td>\n",
       "      <td>Pague lo contratado</td>\n",
       "      <td>0.0</td>\n",
       "      <td>0.0</td>\n",
       "      <td>9495556.84</td>\n",
       "      <td>37982227.37</td>\n",
       "      <td>TXR</td>\n",
       "    </tr>\n",
       "    <tr>\n",
       "      <th>13</th>\n",
       "      <td>2024-12-01</td>\n",
       "      <td>P1M</td>\n",
       "      <td>EMPC</td>\n",
       "      <td>Pague lo contratado</td>\n",
       "      <td>0.0</td>\n",
       "      <td>0.0</td>\n",
       "      <td>1375494.00</td>\n",
       "      <td>1375494.00</td>\n",
       "      <td>TXF</td>\n",
       "    </tr>\n",
       "    <tr>\n",
       "      <th>14</th>\n",
       "      <td>2024-12-01</td>\n",
       "      <td>P1M</td>\n",
       "      <td>ESVC</td>\n",
       "      <td>Pague lo contratado</td>\n",
       "      <td>0.0</td>\n",
       "      <td>0.0</td>\n",
       "      <td>416067.62</td>\n",
       "      <td>416067.62</td>\n",
       "      <td>TXF</td>\n",
       "    </tr>\n",
       "    <tr>\n",
       "      <th>15</th>\n",
       "      <td>2024-12-01</td>\n",
       "      <td>P1M</td>\n",
       "      <td>EEPC</td>\n",
       "      <td>Pague lo contratado</td>\n",
       "      <td>0.0</td>\n",
       "      <td>0.0</td>\n",
       "      <td>2253420.93</td>\n",
       "      <td>33801313.91</td>\n",
       "      <td>TX4</td>\n",
       "    </tr>\n",
       "    <tr>\n",
       "      <th>16</th>\n",
       "      <td>2024-12-01</td>\n",
       "      <td>P1M</td>\n",
       "      <td>NEUC</td>\n",
       "      <td>Pague lo contratado</td>\n",
       "      <td>0.0</td>\n",
       "      <td>0.0</td>\n",
       "      <td>3517237.78</td>\n",
       "      <td>10551713.35</td>\n",
       "      <td>TXF</td>\n",
       "    </tr>\n",
       "    <tr>\n",
       "      <th>17</th>\n",
       "      <td>2024-12-01</td>\n",
       "      <td>P1M</td>\n",
       "      <td>TENC</td>\n",
       "      <td>Pague lo contratado</td>\n",
       "      <td>0.0</td>\n",
       "      <td>0.0</td>\n",
       "      <td>2790000.00</td>\n",
       "      <td>5580000.00</td>\n",
       "      <td>TX5</td>\n",
       "    </tr>\n",
       "    <tr>\n",
       "      <th>18</th>\n",
       "      <td>2024-12-01</td>\n",
       "      <td>P1M</td>\n",
       "      <td>DLRC</td>\n",
       "      <td>Pague lo demandado</td>\n",
       "      <td>0.0</td>\n",
       "      <td>0.0</td>\n",
       "      <td>0.00</td>\n",
       "      <td>0.00</td>\n",
       "      <td>TXR</td>\n",
       "    </tr>\n",
       "    <tr>\n",
       "      <th>19</th>\n",
       "      <td>2024-12-01</td>\n",
       "      <td>P1M</td>\n",
       "      <td>EBSC</td>\n",
       "      <td>Pague lo contratado</td>\n",
       "      <td>0.0</td>\n",
       "      <td>0.0</td>\n",
       "      <td>4349705.02</td>\n",
       "      <td>17398820.06</td>\n",
       "      <td>TXF</td>\n",
       "    </tr>\n",
       "  </tbody>\n",
       "</table>\n",
       "</div>"
      ],
      "text/plain": [
       "         Fecha CodigoDuracion CodigoAgenteComprador TipoDespachoContrato  \\\n",
       "0   2024-12-01            P1M                  QIEC  Pague lo contratado   \n",
       "1   2024-12-01            P1M                  ENIC  Pague lo contratado   \n",
       "2   2024-12-01            P1M                  EXEC   Pague lo demandado   \n",
       "3   2024-12-01            P1M                  NEUC  Pague lo contratado   \n",
       "4   2024-12-01            P1M                  EMSC  Pague lo contratado   \n",
       "5   2024-12-01            P1M                  CHCC  Pague lo contratado   \n",
       "6   2024-12-01            P1M                  ESVC  Pague lo contratado   \n",
       "7   2024-12-01            P1M                  TENC  Pague lo contratado   \n",
       "8   2024-12-01            P1M                  ESOC   Pague lo demandado   \n",
       "9   2024-12-01            P1M                  TENC  Pague lo contratado   \n",
       "10  2024-12-01            P1M                  EBPC  Pague lo contratado   \n",
       "11  2024-12-01            P1M                  CQTC  Pague lo contratado   \n",
       "12  2024-12-01            P1M                  CHCC  Pague lo contratado   \n",
       "13  2024-12-01            P1M                  EMPC  Pague lo contratado   \n",
       "14  2024-12-01            P1M                  ESVC  Pague lo contratado   \n",
       "15  2024-12-01            P1M                  EEPC  Pague lo contratado   \n",
       "16  2024-12-01            P1M                  NEUC  Pague lo contratado   \n",
       "17  2024-12-01            P1M                  TENC  Pague lo contratado   \n",
       "18  2024-12-01            P1M                  DLRC   Pague lo demandado   \n",
       "19  2024-12-01            P1M                  EBSC  Pague lo contratado   \n",
       "\n",
       "    PrcjEnergiaCttosIntegradosV  PrcjEnergiaCttosDeterminables  \\\n",
       "0                           0.0                            0.0   \n",
       "1                           0.0                            0.0   \n",
       "2                           0.0                          100.0   \n",
       "3                           0.0                            0.0   \n",
       "4                           0.0                            0.0   \n",
       "5                           0.0                            0.0   \n",
       "6                           0.0                            0.0   \n",
       "7                           0.0                            0.0   \n",
       "8                           0.0                          100.0   \n",
       "9                           0.0                            0.0   \n",
       "10                          0.0                            0.0   \n",
       "11                          0.0                            0.0   \n",
       "12                          0.0                            0.0   \n",
       "13                          0.0                            0.0   \n",
       "14                          0.0                            0.0   \n",
       "15                          0.0                            0.0   \n",
       "16                          0.0                            0.0   \n",
       "17                          0.0                            0.0   \n",
       "18                          0.0                            0.0   \n",
       "19                          0.0                            0.0   \n",
       "\n",
       "    EnergiaPromedioPorContrato  EnergiaDespachada Version  \n",
       "0                   1296165.51         2592331.01     TXR  \n",
       "1                   1358019.00         1358019.00     TX5  \n",
       "2                  11823575.57        11823575.57     TXR  \n",
       "3                   3517237.78        10551713.35     TX5  \n",
       "4                   1023000.00         2046000.00     TX4  \n",
       "5                   9495556.84        37982227.37     TX5  \n",
       "6                    416067.62          416067.62     TX5  \n",
       "7                   2790000.00         5580000.00     TXF  \n",
       "8                    464502.15          464502.15     TX4  \n",
       "9                   2790000.00         5580000.00     TXR  \n",
       "10                  1373463.68         4120391.04     TXF  \n",
       "11                  5019778.72        25098893.61     TXF  \n",
       "12                  9495556.84        37982227.37     TXR  \n",
       "13                  1375494.00         1375494.00     TXF  \n",
       "14                   416067.62          416067.62     TXF  \n",
       "15                  2253420.93        33801313.91     TX4  \n",
       "16                  3517237.78        10551713.35     TXF  \n",
       "17                  2790000.00         5580000.00     TX5  \n",
       "18                        0.00               0.00     TXR  \n",
       "19                  4349705.02        17398820.06     TXF  "
      ]
     },
     "metadata": {},
     "output_type": "display_data"
    }
   ],
   "source": [
    "id_dataset_cantidades_agente = '1e543e'                     # ID del conjunto de datos a consultar\n",
    "id_dataset_cantidades_sistema = '305a36'                    # ID del conjunto de datos a consultar\n",
    "id_dataset_precios_agente = 'f0be2a'                        # ID del conjunto de datos a consultar\n",
    "id_dataset_precios_sistema = 'cebe60'                       # ID del conjunto de datos a consultar\n",
    "\n",
    "fecha_inicial_precios = '2022-01-01'                                # Fecha de inicio del rango de consulta\n",
    "fecha_final_precios = '2024-12-31'                                  # Fecha de fin del rango de consulta\n",
    "fecha_inicial_cantidades = '2024-12-01'                             # Fecha de inicio del rango de consulta\n",
    "fecha_final_cantidades = '2024-12-31'                               # Fecha de fin del rango de consulta\n",
    "\n",
    "\n",
    "df_cantidades_agente = ReadSIMEM(id_dataset_cantidades_agente, fecha_inicial_cantidades, fecha_final_cantidades).main()     # Instancia de la clase ReadSIMEM con los parámetros definidos\n",
    "df_cantidades_sistema = ReadSIMEM(id_dataset_cantidades_sistema, fecha_inicial_cantidades, fecha_final_cantidades).main()   # Instancia de la clase ReadSIMEM con los parámetros definidos\n",
    "df_precios_agente = ReadSIMEM(id_dataset_precios_agente, fecha_inicial_precios, fecha_final_cantidades).main()           # Instancia de la clase ReadSIMEM con los parámetros definidos\n",
    "df_precios_sistema = ReadSIMEM(id_dataset_precios_sistema, fecha_inicial_precios, fecha_final_cantidades).main()         # Instancia de la clase ReadSIMEM con los parámetros definidos\n",
    "\n",
    "display(df_cantidades_agente.head(20))                      # Visualización de las primeras 20 filas de uno de los DataFrame\n"
   ]
  },
  {
   "cell_type": "markdown",
   "metadata": {},
   "source": [
    "Debido a la cantidad de datos del conjunto de datos de demanda una alternativa de consumo se presenta a continuacion"
   ]
  },
  {
   "cell_type": "code",
   "execution_count": 3,
   "metadata": {},
   "outputs": [
    {
     "name": "stdout",
     "output_type": "stream",
     "text": [
      "****************************************************************************************************\n",
      "Initializing object\n",
      "****************************************************************************************************\n",
      "Initializing object\n",
      "****************************************************************************************************\n",
      "Initializing object\n",
      "****************************************************************************************************\n",
      "Initializing object\n",
      "****************************************************************************************************\n",
      "Initializing object\n",
      "****************************************************************************************************\n",
      "Initializing object\n",
      "****************************************************************************************************\n",
      "Initializing object\n",
      "****************************************************************************************************\n",
      "Initializing object\n",
      "****************************************************************************************************\n",
      "Initializing object\n",
      "****************************************************************************************************\n",
      "Initializing object\n",
      "****************************************************************************************************\n",
      "Initializing object\n",
      "****************************************************************************************************\n",
      "Initializing object\n",
      "****************************************************************************************************\n",
      "Initializing object\n",
      "****************************************************************************************************\n",
      "Initializing object\n",
      "****************************************************************************************************\n",
      "Initializing object\n",
      "****************************************************************************************************\n",
      "Initializing object\n",
      "The object has been initialized with the dataset: \"Datos soporte del proceso de Demandas por Código sic agente, versión y horaria\"\n",
      "****************************************************************************************************\n",
      "Inicio consulta sincronica\n",
      "Creacion url: 0.0\n",
      "The object has been initialized with the dataset: \"Datos soporte del proceso de Demandas por Código sic agente, versión y horaria\"\n",
      "****************************************************************************************************\n",
      "Inicio consulta sincronica\n",
      "Creacion url: 0.0\n",
      "The object has been initialized with the dataset: \"Datos soporte del proceso de Demandas por Código sic agente, versión y horaria\"\n",
      "****************************************************************************************************\n",
      "Inicio consulta sincronica\n",
      "Creacion url: 0.001003265380859375\n",
      "The object has been initialized with the dataset: \"Datos soporte del proceso de Demandas por Código sic agente, versión y horaria\"\n",
      "****************************************************************************************************\n",
      "Inicio consulta sincronica\n",
      "Creacion url: 0.0010025501251220703\n",
      "The object has been initialized with the dataset: \"Datos soporte del proceso de Demandas por Código sic agente, versión y horaria\"\n",
      "****************************************************************************************************\n",
      "Inicio consulta sincronica\n",
      "Creacion url: 0.0008940696716308594\n",
      "The object has been initialized with the dataset: \"Datos soporte del proceso de Demandas por Código sic agente, versión y horaria\"\n",
      "****************************************************************************************************\n",
      "Inicio consulta sincronica\n",
      "Creacion url: 0.0007007122039794922\n",
      "The object has been initialized with the dataset: \"Datos soporte del proceso de Demandas por Código sic agente, versión y horaria\"\n",
      "****************************************************************************************************\n",
      "Inicio consulta sincronica\n",
      "Creacion url: 0.0\n",
      "The object has been initialized with the dataset: \"Datos soporte del proceso de Demandas por Código sic agente, versión y horaria\"\n",
      "****************************************************************************************************\n",
      "Inicio consulta sincronica\n",
      "Creacion url: 0.0\n",
      "The object has been initialized with the dataset: \"Datos soporte del proceso de Demandas por Código sic agente, versión y horaria\"\n",
      "****************************************************************************************************\n",
      "Inicio consulta sincronica\n",
      "Creacion url: 0.001107931137084961\n",
      "The object has been initialized with the dataset: \"Datos soporte del proceso de Demandas por Código sic agente, versión y horaria\"\n",
      "****************************************************************************************************\n",
      "Inicio consulta sincronica\n",
      "Creacion url: 0.0009398460388183594\n",
      "The object has been initialized with the dataset: \"Datos soporte del proceso de Demandas por Código sic agente, versión y horaria\"\n",
      "****************************************************************************************************\n",
      "Inicio consulta sincronica\n",
      "Creacion url: 0.0009009838104248047\n",
      "The object has been initialized with the dataset: \"Datos soporte del proceso de Demandas por Código sic agente, versión y horaria\"\n",
      "****************************************************************************************************\n",
      "Inicio consulta sincronica\n",
      "Creacion url: 0.0\n",
      "The object has been initialized with the dataset: \"Datos soporte del proceso de Demandas por Código sic agente, versión y horaria\"\n",
      "****************************************************************************************************\n",
      "Inicio consulta sincronica\n",
      "Creacion url: 0.0010628700256347656\n",
      "The object has been initialized with the dataset: \"Datos soporte del proceso de Demandas por Código sic agente, versión y horaria\"\n",
      "****************************************************************************************************\n",
      "Inicio consulta sincronica\n",
      "Creacion url: 0.0009324550628662109\n",
      "The object has been initialized with the dataset: \"Datos soporte del proceso de Demandas por Código sic agente, versión y horaria\"\n",
      "****************************************************************************************************\n",
      "Inicio consulta sincronica\n",
      "Creacion url: 0.0\n",
      "The object has been initialized with the dataset: \"Datos soporte del proceso de Demandas por Código sic agente, versión y horaria\"\n",
      "****************************************************************************************************\n",
      "Inicio consulta sincronica\n",
      "Creacion url: 0.0\n",
      "Extraccion de registros: 17.46954894065857\n",
      "End of data extracting process\n",
      "****************************************************************************************************\n",
      "****************************************************************************************************\n",
      "Initializing object\n",
      "Extraccion de registros: 18.183284759521484\n",
      "End of data extracting process\n",
      "****************************************************************************************************\n",
      "****************************************************************************************************\n",
      "Initializing object\n",
      "Extraccion de registros: 18.37494468688965\n",
      "End of data extracting process\n",
      "****************************************************************************************************\n",
      "Extraccion de registros: 18.103769063949585\n",
      "****************************************************************************************************\n",
      "Initializing object\n",
      "End of data extracting process\n",
      "****************************************************************************************************\n",
      "****************************************************************************************************\n",
      "Initializing object\n",
      "Extraccion de registros: 18.532715797424316\n",
      "End of data extracting process\n",
      "****************************************************************************************************\n",
      "****************************************************************************************************\n",
      "Initializing object\n",
      "Extraccion de registros: 18.32756280899048\n",
      "Extraccion de registros: 18.849750757217407\n",
      "End of data extracting process\n",
      "****************************************************************************************************\n",
      "End of data extracting process\n",
      "****************************************************************************************************\n",
      "****************************************************************************************************\n",
      "Initializing object\n",
      "****************************************************************************************************\n",
      "Initializing object\n",
      "Extraccion de registros: 18.9871244430542\n",
      "End of data extracting process\n",
      "****************************************************************************************************\n",
      "****************************************************************************************************\n",
      "Initializing object\n",
      "Extraccion de registros: 19.215819358825684\n",
      "End of data extracting process\n",
      "****************************************************************************************************\n",
      "****************************************************************************************************\n",
      "Initializing object\n",
      "Extraccion de registros: 20.331493616104126\n",
      "End of data extracting process\n",
      "****************************************************************************************************\n",
      "****************************************************************************************************\n",
      "Initializing object\n",
      "Extraccion de registros: 19.30799889564514\n",
      "End of data extracting process\n",
      "****************************************************************************************************\n",
      "****************************************************************************************************\n",
      "Initializing object\n",
      "Extraccion de registros: 19.37604546546936\n",
      "Extraccion de registros: 19.721983909606934\n",
      "End of data extracting process\n",
      "****************************************************************************************************\n",
      "Extraccion de registros: 19.35694146156311\n",
      "Extraccion de registros: 19.75754737854004\n",
      "****************************************************************************************************\n",
      "Initializing object\n",
      "End of data extracting process\n",
      "****************************************************************************************************\n",
      "****************************************************************************************************\n",
      "Initializing object\n",
      "End of data extracting process\n",
      "****************************************************************************************************\n",
      "****************************************************************************************************\n",
      "Initializing object\n",
      "End of data extracting process\n",
      "****************************************************************************************************\n",
      "Extraccion de registros: 19.498576402664185\n",
      "****************************************************************************************************\n",
      "Initializing object\n",
      "End of data extracting process\n",
      "****************************************************************************************************\n",
      "The object has been initialized with the dataset: \"Datos soporte del proceso de Demandas por Código sic agente, versión y horaria\"\n",
      "****************************************************************************************************\n",
      "Inicio consulta sincronica\n",
      "Creacion url: 0.0\n",
      "The object has been initialized with the dataset: \"Datos soporte del proceso de Demandas por Código sic agente, versión y horaria\"\n",
      "****************************************************************************************************\n",
      "Inicio consulta sincronica\n",
      "Creacion url: 0.0\n",
      "The object has been initialized with the dataset: \"Datos soporte del proceso de Demandas por Código sic agente, versión y horaria\"\n",
      "****************************************************************************************************\n",
      "Inicio consulta sincronica\n",
      "Creacion url: 0.0\n",
      "The object has been initialized with the dataset: \"Datos soporte del proceso de Demandas por Código sic agente, versión y horaria\"\n",
      "****************************************************************************************************\n",
      "Inicio consulta sincronica\n",
      "Creacion url: 0.0\n",
      "The object has been initialized with the dataset: \"Datos soporte del proceso de Demandas por Código sic agente, versión y horaria\"\n",
      "****************************************************************************************************\n",
      "Inicio consulta sincronica\n",
      "Creacion url: 0.0\n",
      "The object has been initialized with the dataset: \"Datos soporte del proceso de Demandas por Código sic agente, versión y horaria\"\n",
      "****************************************************************************************************\n",
      "Inicio consulta sincronica\n",
      "Creacion url: 0.0\n",
      "The object has been initialized with the dataset: \"Datos soporte del proceso de Demandas por Código sic agente, versión y horaria\"\n",
      "****************************************************************************************************\n",
      "Inicio consulta sincronica\n",
      "Creacion url: 0.0\n",
      "The object has been initialized with the dataset: \"Datos soporte del proceso de Demandas por Código sic agente, versión y horaria\"\n",
      "****************************************************************************************************\n",
      "Inicio consulta sincronica\n",
      "Creacion url: 0.001001596450805664\n",
      "The object has been initialized with the dataset: \"Datos soporte del proceso de Demandas por Código sic agente, versión y horaria\"\n",
      "****************************************************************************************************\n",
      "Inicio consulta sincronica\n",
      "Creacion url: 0.0010027885437011719\n",
      "The object has been initialized with the dataset: \"Datos soporte del proceso de Demandas por Código sic agente, versión y horaria\"\n",
      "****************************************************************************************************\n",
      "Inicio consulta sincronica\n",
      "Creacion url: 0.0\n",
      "The object has been initialized with the dataset: \"Datos soporte del proceso de Demandas por Código sic agente, versión y horaria\"\n",
      "****************************************************************************************************\n",
      "Inicio consulta sincronica\n",
      "Creacion url: 0.0010077953338623047\n",
      "The object has been initialized with the dataset: \"Datos soporte del proceso de Demandas por Código sic agente, versión y horaria\"\n",
      "****************************************************************************************************\n",
      "Inicio consulta sincronica\n",
      "Creacion url: 0.0\n",
      "The object has been initialized with the dataset: \"Datos soporte del proceso de Demandas por Código sic agente, versión y horaria\"\n",
      "****************************************************************************************************\n",
      "Inicio consulta sincronica\n",
      "Creacion url: 0.0009965896606445312\n",
      "The object has been initialized with the dataset: \"Datos soporte del proceso de Demandas por Código sic agente, versión y horaria\"\n",
      "****************************************************************************************************\n",
      "Inicio consulta sincronica\n",
      "Creacion url: 0.0009992122650146484\n",
      "The object has been initialized with the dataset: \"Datos soporte del proceso de Demandas por Código sic agente, versión y horaria\"\n",
      "****************************************************************************************************\n",
      "Inicio consulta sincronica\n",
      "Creacion url: 0.0010449886322021484\n",
      "Extraccion de registros: 13.629776000976562\n",
      "End of data extracting process\n",
      "****************************************************************************************************\n",
      "Extraccion de registros: 14.955857276916504\n",
      "End of data extracting process\n",
      "****************************************************************************************************\n",
      "Extraccion de registros: 14.127257823944092\n",
      "End of data extracting process\n",
      "****************************************************************************************************\n",
      "Extraccion de registros: 15.982764959335327\n",
      "End of data extracting process\n",
      "****************************************************************************************************\n",
      "Extraccion de registros: 16.081818342208862\n",
      "End of data extracting process\n",
      "****************************************************************************************************\n",
      "Extraccion de registros: 15.12662386894226\n",
      "End of data extracting process\n",
      "****************************************************************************************************\n",
      "Extraccion de registros: 15.560080766677856\n",
      "End of data extracting process\n",
      "****************************************************************************************************\n",
      "Extraccion de registros: 15.670648336410522\n",
      "End of data extracting process\n",
      "****************************************************************************************************\n",
      "Extraccion de registros: 17.667484045028687\n",
      "End of data extracting process\n",
      "****************************************************************************************************\n",
      "Extraccion de registros: 15.77311396598816\n",
      "End of data extracting process\n",
      "****************************************************************************************************\n",
      "Extraccion de registros: 16.95218849182129\n",
      "End of data extracting process\n",
      "****************************************************************************************************\n",
      "Extraccion de registros: 17.08512806892395\n",
      "Extraccion de registros: 18.173418283462524\n",
      "End of data extracting process\n",
      "****************************************************************************************************\n",
      "End of data extracting process\n",
      "****************************************************************************************************\n",
      "Extraccion de registros: 17.547618865966797\n",
      "End of data extracting process\n",
      "****************************************************************************************************\n",
      "Extraccion de registros: 17.609763860702515\n",
      "End of data extracting process\n",
      "****************************************************************************************************\n"
     ]
    }
   ],
   "source": [
    "#dataset a consultar\n",
    "id_dataset_demanda = 'b7917a'\n",
    "\n",
    "#rango de fechas a consultar desagregadas de manera diaria\n",
    "fechas = pd.date_range(fecha_inicial_cantidades, fecha_final_cantidades, freq='D').strftime('%Y-%m-%d').tolist()\n",
    "\n",
    "#funcion a ejecutar de manera asincrona\n",
    "def consulta_sync(fecha):\n",
    "    return ReadSIMEM(id_dataset_demanda, fecha, fecha).main()\n",
    "\n",
    "#definicion de funcion asincrona\n",
    "async def consulta_asincrona():\n",
    "    loop = asyncio.get_running_loop()\n",
    "    with ThreadPoolExecutor() as pool:\n",
    "        tasks = [loop.run_in_executor(pool, consulta_sync, fecha) for fecha in fechas]\n",
    "        results = await asyncio.gather(*tasks)\n",
    "    return pd.concat(results, ignore_index=True)\n",
    "\n",
    "#ejecucion de funcion asincrona\n",
    "df_demanda = asyncio.run(consulta_asincrona())\n",
    "\n",
    "#filtro de datos de demanda\n",
    "df_demanda_real_regulada = df_demanda[df_demanda['CodigoVariable']=='DdaRealRegulada'] \n",
    "df_perdidas_regulada = df_demanda[df_demanda['CodigoVariable']=='PerdidasDemandaRegulada']\n",
    "df_demanda_real_no_regulada = df_demanda[df_demanda['CodigoVariable']=='DdaRealNoRegulada']\n",
    "df_perdidas_no_regulada = df_demanda[df_demanda['CodigoVariable']=='PerdidasDemandaNoRegulada']"
   ]
  },
  {
   "cell_type": "markdown",
   "metadata": {},
   "source": [
    "<a id='section4'></a>\n",
    "# 4. Manipulación de datos\n",
    "Los siguientes pasos corresponden a las actividades de manipulación y preparación de los datos que son relevantes para el análisis. "
   ]
  },
  {
   "cell_type": "markdown",
   "metadata": {},
   "source": [
    "### Filtrar la máxima versión para el periodo de consulta de los datos\n",
    "El método filtra para el dataset de consulta, la máxima versión de la liquidación para cada uno de los días. "
   ]
  },
  {
   "cell_type": "code",
   "execution_count": 15,
   "metadata": {},
   "outputs": [],
   "source": [
    "def filtrar_ultima_version(df, columna_fecha, columna_version, columna_variable=None):                      # Función para filtrar la última versión de registros por mes y variables (opcional)\n",
    "    versiones = ['TX1', 'TX2', 'TXR', 'TXF', 'TX3', 'TX4', 'TX5', 'TX6', 'TX7', 'TX8', 'TX9', 'TX10']        # Lista de versiones ordenadas por prioridad\n",
    "    version_orden = pd.Series(range(1, len(versiones) + 1), index=versiones)                                # Serie que asigna un orden numérico a cada versión\n",
    "    df[columna_fecha] = pd.to_datetime(df[columna_fecha])                                                   # Conversión de la columna de fecha a tipo datetime\n",
    "    df['año_mes'] = df[columna_fecha].dt.to_period('M')                                                     # Se crea una columna con el año y mes del registro\n",
    "    df['orden_version'] = df[columna_version].map(version_orden)                                            # Se asigna el orden de versión a cada fila\n",
    "\n",
    "    if columna_variable is None:                                                                            # Si no se especifican variables adicionales\n",
    "        df_filtrado = df.sort_values(['año_mes', 'orden_version'], ascending=[True, False])                 # Ordena por mes y versión descendente\n",
    "        df_filtrado = df_filtrado.drop_duplicates(subset=[columna_fecha], keep='first')                     # Elimina duplicados conservando la última versión por fecha\n",
    "    else:                                                                                                    # Si se especifican variables adicionales\n",
    "        if isinstance(columna_variable, str):                                                               # Convierte a lista si es un solo string\n",
    "            columna_variable = [columna_variable]\n",
    "        orden_columnas = columna_variable + ['año_mes', 'orden_version']                                    # Define el orden de columnas para ordenar\n",
    "        df_filtrado = df.sort_values(orden_columnas, ascending=[True]*len(columna_variable) + [True, False])# Ordena por variables, mes y versión\n",
    "        df_filtrado = df_filtrado.drop_duplicates(subset=columna_variable + [columna_fecha], keep='first')  # Elimina duplicados por variables y fecha\n",
    "\n",
    "    df_filtrado = df_filtrado.drop(columns=['año_mes', 'orden_version'])                                    # Elimina columnas auxiliares\n",
    "    return df_filtrado                                                                                      # Retorna el DataFrame filtrado\n",
    "\n",
    "#Filtros de version de precios y cantidades de contratos del SICEP\n",
    "df_cantidades_agente = filtrar_ultima_version(df=df_cantidades_agente, columna_fecha='Fecha', columna_version='Version', columna_variable=['CodigoAgenteComprador'])     # Filtra la última versión de cantidades por agente\n",
    "df_cantidades_sistema = filtrar_ultima_version(df=df_cantidades_sistema, columna_fecha='Fecha', columna_version='Version')   # Filtra la última versión de cantidades por sistema\n",
    "df_precios_agente = filtrar_ultima_version(df=df_precios_agente, columna_fecha='Fecha', columna_version='Version', columna_variable=['CodigoAgenteComprador'])           # Filtra la última versión de precios por agente\n",
    "df_precios_sistema = filtrar_ultima_version(df=df_precios_sistema, columna_fecha='Fecha', columna_version='Version')         # Filtra la última versión de precios por sistema\n",
    "\n",
    "#Filtros de los datos de demanda y perdidas\n",
    "df_demanda_real_regulada = filtrar_ultima_version(df=df_demanda_real_regulada, columna_fecha='FechaHora', columna_version='Version', columna_variable=['CodigoSICAgente'])              # Filtra la última versión de demanda real regulada\n",
    "df_perdidas_regulada = filtrar_ultima_version(df=df_perdidas_regulada, columna_fecha='FechaHora', columna_version='Version', columna_variable=['CodigoSICAgente'])                          # Filtra la última versión de pérdidas reguladas\n",
    "df_demanda_real_no_regulada = filtrar_ultima_version(df=df_demanda_real_no_regulada, columna_fecha='FechaHora', columna_version='Version', columna_variable=['CodigoSICAgente'])     # Filtra la última versión de demanda real no regulada\n",
    "df_perdidas_no_regulada = filtrar_ultima_version(df=df_perdidas_no_regulada, columna_fecha='FechaHora', columna_version='Version', columna_variable=['CodigoSICAgente'])                 # Filtra la última versión de pérdidas no reguladas"
   ]
  },
  {
   "cell_type": "markdown",
   "metadata": {},
   "source": [
    "Se agregan las cantidades de contratos del SICEP para posteriores analisis"
   ]
  },
  {
   "cell_type": "code",
   "execution_count": 5,
   "metadata": {},
   "outputs": [],
   "source": [
    "#agregacion de datos de cantidades por agente en el preriodo consultado\n",
    "df_cantidades_agente_agrupado = df_cantidades_agente.groupby(['CodigoAgenteComprador']).agg({'EnergiaDespachada': 'sum'}).round(2).reset_index()\n",
    "\n",
    "#union de datos por agente con cantidades totales de contratos del SICEP en el periodo consultado\n",
    "df_cantidades_agente_agrupado[\"EnergiaDespachadaSistema\"] = df_cantidades_sistema.EnergiaDespachada.sum()"
   ]
  },
  {
   "cell_type": "markdown",
   "metadata": {},
   "source": [
    "Se realizan las agregaciones de demanda para posteriores analisis"
   ]
  },
  {
   "cell_type": "code",
   "execution_count": 6,
   "metadata": {},
   "outputs": [],
   "source": [
    "# se renombran las columnas con los correspondientes nombres de la variable\n",
    "df_demanda_real_regulada.rename(columns={\"Valor\":\"DemRealRegulada\"}, inplace = True)\n",
    "df_perdidas_regulada.rename(columns={\"Valor\":\"PerRegulada\"}, inplace = True)\n",
    "df_demanda_real_no_regulada.rename(columns={\"Valor\":\"DemRealNoRegulada\"}, inplace = True)\n",
    "df_perdidas_no_regulada.rename(columns={\"Valor\":\"PerNoRegulada\"}, inplace = True)\n",
    "\n",
    "#union por fecha y agente de los dataframe con las demandas de interes\n",
    "df_demanda_completa =  df_demanda_real_regulada.merge(df_perdidas_regulada, on=['FechaHora', 'CodigoSICAgente'], how='outer').reset_index()\n",
    "df_demanda_completa = df_demanda_completa[['FechaHora', 'CodigoSICAgente', 'DemRealRegulada', \"PerRegulada\"]]\n",
    "\n",
    "df_demanda_completa = df_demanda_completa.merge(df_demanda_real_no_regulada, on=['FechaHora', 'CodigoSICAgente'], how='outer').reset_index()\n",
    "df_demanda_completa = df_demanda_completa[['FechaHora', 'CodigoSICAgente', 'DemRealRegulada', \"PerRegulada\", \"DemRealNoRegulada\"]]\n",
    "\n",
    "df_demanda_completa = df_demanda_completa.merge(df_perdidas_no_regulada, on=['FechaHora', 'CodigoSICAgente'], how='outer').reset_index()\n",
    "df_demanda_completa = df_demanda_completa[['FechaHora', 'CodigoSICAgente', 'DemRealRegulada', \"PerRegulada\", \"DemRealNoRegulada\", \"PerNoRegulada\"]]\n",
    "\n",
    "#agregacion de los datos de demanda por agente para el periodo de interes\n",
    "df_demanda_completa = df_demanda_completa.groupby(by=['CodigoSICAgente']).agg({'DemRealRegulada': 'sum', \"PerRegulada\": 'sum', \"DemRealNoRegulada\": 'sum', \"PerNoRegulada\": 'sum'}).reset_index()\n",
    "\n",
    "#calculo de la demanda comercial del sistema, demanda comercial regulada y demanda comercial no regulada\n",
    "df_demanda_completa[\"DemandaComercialRegulada\"] = df_demanda_completa[\"DemRealRegulada\"] + df_demanda_completa[\"PerRegulada\"]\n",
    "df_demanda_completa[\"DemandaComercialNoRegulada\"] = df_demanda_completa[\"DemRealNoRegulada\"] + df_demanda_completa[\"PerNoRegulada\"]\n",
    "df_demanda_completa[\"DemandaComercial\"] = df_demanda_completa[\"DemandaComercialRegulada\"] + df_demanda_completa[\"DemandaComercialRegulada\"]\n",
    "\n",
    "#filtro del datafreme de las columnas usadas en los analisis posteriores\n",
    "df_demanda_completa = df_demanda_completa[['CodigoSICAgente' , \"DemandaComercialRegulada\", \"DemandaComercialNoRegulada\", \"DemandaComercial\"]]"
   ]
  },
  {
   "cell_type": "markdown",
   "metadata": {},
   "source": [
    "Se unen los datos de demanda y cantidades de contratos"
   ]
  },
  {
   "cell_type": "code",
   "execution_count": 7,
   "metadata": {},
   "outputs": [],
   "source": [
    "#union del dataframe de cantidades de contratos del SICEP y demanda\n",
    "df_cantidades_agente_agrupado = df_cantidades_agente_agrupado.merge(df_demanda_completa, left_on='CodigoAgenteComprador', right_on='CodigoSICAgente', how='outer')\n",
    "\n",
    "#filtro de columnas de interes\n",
    "df_cantidades_agente_agrupado = df_cantidades_agente_agrupado[['CodigoAgenteComprador', 'EnergiaDespachada', 'EnergiaDespachadaSistema', 'DemandaComercialRegulada', 'DemandaComercialNoRegulada', 'DemandaComercial']]\n",
    "\n",
    "#agregacion de columnas necesarios para los graficos presentados en la siguiente parte\n",
    "df_cantidades_agente_agrupado[\"OtrosMecanismos\"] = df_cantidades_agente_agrupado[\"DemandaComercialRegulada\"] - df_cantidades_agente_agrupado[\"EnergiaDespachada\"]\n",
    "df_cantidades_agente_agrupado[\"DemandaComercialDestino\"] = df_cantidades_agente_agrupado[\"DemandaComercialNoRegulada\"]\n",
    "\n",
    "#conversion de datos a GWh\n",
    "df_cantidades_agente_agrupado[df_cantidades_agente_agrupado.select_dtypes(include='number').columns] = df_cantidades_agente_agrupado.select_dtypes(include='number') / 1e6\n"
   ]
  },
  {
   "cell_type": "code",
   "execution_count": 8,
   "metadata": {},
   "outputs": [],
   "source": [
    "#ordenamiento de datos de precios por fecha\n",
    "df_precios_sistema.sort_values(by=['Fecha'], ascending=[True], inplace=True) "
   ]
  },
  {
   "cell_type": "markdown",
   "metadata": {},
   "source": [
    "<a id='section5'></a>\n",
    "# 5. Análisis para dar respuesta al caso de uso"
   ]
  },
  {
   "cell_type": "markdown",
   "metadata": {},
   "source": [
    "Se crea funcion para graficar los valores de precios"
   ]
  },
  {
   "cell_type": "code",
   "execution_count": 9,
   "metadata": {},
   "outputs": [],
   "source": [
    "def graficar_precios(df, titulo, color, nombre_variable, nombre_eje_x, nombre_eje_y, tipo_linea, titulo_y):\n",
    "\n",
    "    fig = go.Figure()\n",
    "\n",
    "    for variable in range(len(nombre_eje_y)):\n",
    "    \n",
    "        fig.add_trace(go.Scatter(\n",
    "            x=df[nombre_eje_x],\n",
    "            y=df[nombre_eje_y[variable]],\n",
    "            mode='lines',\n",
    "            name=nombre_variable[variable],\n",
    "            line=dict(color=color[variable], width=2, dash=tipo_linea[variable])\n",
    "        ))\n",
    "\n",
    "    fig.update_layout(\n",
    "        title=titulo,\n",
    "        xaxis_title='Fecha',\n",
    "        yaxis_title=titulo_y,\n",
    "        legend=dict(x=0.1, y=-0.2, bordercolor=\"Black\", borderwidth=1, orientation=\"h\"),\n",
    "        template='simple_white',\n",
    "        xaxis=dict(showgrid=True, gridcolor='lightgray'),\n",
    "        yaxis=dict(showgrid=True, gridcolor='lightgray'),\n",
    "        width=1000,   # ancho en píxeles\n",
    "        height=600    # alto en píxeles\n",
    "    )\n",
    "\n",
    "    fig.show()                                                                                \n",
    "\n"
   ]
  },
  {
   "cell_type": "markdown",
   "metadata": {},
   "source": [
    "Se grafican los precios por sistema"
   ]
  },
  {
   "cell_type": "code",
   "execution_count": 10,
   "metadata": {},
   "outputs": [
    {
     "data": {
      "application/vnd.plotly.v1+json": {
       "config": {
        "plotlyServerURL": "https://plot.ly"
       },
       "data": [
        {
         "line": {
          "color": "blue",
          "dash": "dot",
          "width": 2
         },
         "mode": "lines",
         "name": "Precio Mínimo",
         "type": "scatter",
         "x": [
          "2022-01-01T00:00:00.000000000",
          "2022-02-01T00:00:00.000000000",
          "2022-03-01T00:00:00.000000000",
          "2022-04-01T00:00:00.000000000",
          "2022-05-01T00:00:00.000000000",
          "2022-06-01T00:00:00.000000000",
          "2022-07-01T00:00:00.000000000",
          "2022-08-01T00:00:00.000000000",
          "2022-09-01T00:00:00.000000000",
          "2022-10-01T00:00:00.000000000",
          "2022-11-01T00:00:00.000000000",
          "2022-12-01T00:00:00.000000000",
          "2023-01-01T00:00:00.000000000",
          "2023-02-01T00:00:00.000000000",
          "2023-03-01T00:00:00.000000000",
          "2023-04-01T00:00:00.000000000",
          "2023-05-01T00:00:00.000000000",
          "2023-06-01T00:00:00.000000000",
          "2023-07-01T00:00:00.000000000",
          "2023-08-01T00:00:00.000000000",
          "2023-09-01T00:00:00.000000000",
          "2023-10-01T00:00:00.000000000",
          "2023-11-01T00:00:00.000000000",
          "2023-12-01T00:00:00.000000000",
          "2024-01-01T00:00:00.000000000",
          "2024-02-01T00:00:00.000000000",
          "2024-03-01T00:00:00.000000000",
          "2024-04-01T00:00:00.000000000",
          "2024-05-01T00:00:00.000000000",
          "2024-06-01T00:00:00.000000000",
          "2024-07-01T00:00:00.000000000",
          "2024-08-01T00:00:00.000000000",
          "2024-09-01T00:00:00.000000000",
          "2024-10-01T00:00:00.000000000",
          "2024-11-01T00:00:00.000000000",
          "2024-12-01T00:00:00.000000000"
         ],
         "y": {
          "bdata": "UrgehesBakCuR+F6FLZqQAAAAAAAWGtAmpmZmZm5a0A9CtejcGVsQPYoXI/CdWxAXI/C9SgsbUBmZmZmZgZtQK5H4XoUJm1AFK5H4XpcbEAAAAAAAGBsQHE9CtejKGxAw/UoXI+SbEBcj8L1KJRsQDMzMzMzs1xAexSuR+FaXECPwvUoXB9cQK5H4XoUrltA9ihcj8J1W0AK16NwPcpbQEjhehSuB1xAMzMzMzMzXEDD9Shcj+JbQHE9CtejoFtAhetRuB5FbUBxPQrXo2BtQAAAAAAAGG1AXI/C9Sg0bUAAAAAAABhtQAAAAAAAMG1A16NwPQonbUAAAAAAABhtQArXo3A9Km1AAAAAAAAYbUBcj8L1KCxtQArXo3A9Om1A",
          "dtype": "f8"
         }
        },
        {
         "line": {
          "color": "green",
          "dash": "solid",
          "width": 2
         },
         "mode": "lines",
         "name": "PPS",
         "type": "scatter",
         "x": [
          "2022-01-01T00:00:00.000000000",
          "2022-02-01T00:00:00.000000000",
          "2022-03-01T00:00:00.000000000",
          "2022-04-01T00:00:00.000000000",
          "2022-05-01T00:00:00.000000000",
          "2022-06-01T00:00:00.000000000",
          "2022-07-01T00:00:00.000000000",
          "2022-08-01T00:00:00.000000000",
          "2022-09-01T00:00:00.000000000",
          "2022-10-01T00:00:00.000000000",
          "2022-11-01T00:00:00.000000000",
          "2022-12-01T00:00:00.000000000",
          "2023-01-01T00:00:00.000000000",
          "2023-02-01T00:00:00.000000000",
          "2023-03-01T00:00:00.000000000",
          "2023-04-01T00:00:00.000000000",
          "2023-05-01T00:00:00.000000000",
          "2023-06-01T00:00:00.000000000",
          "2023-07-01T00:00:00.000000000",
          "2023-08-01T00:00:00.000000000",
          "2023-09-01T00:00:00.000000000",
          "2023-10-01T00:00:00.000000000",
          "2023-11-01T00:00:00.000000000",
          "2023-12-01T00:00:00.000000000",
          "2024-01-01T00:00:00.000000000",
          "2024-02-01T00:00:00.000000000",
          "2024-03-01T00:00:00.000000000",
          "2024-04-01T00:00:00.000000000",
          "2024-05-01T00:00:00.000000000",
          "2024-06-01T00:00:00.000000000",
          "2024-07-01T00:00:00.000000000",
          "2024-08-01T00:00:00.000000000",
          "2024-09-01T00:00:00.000000000",
          "2024-10-01T00:00:00.000000000",
          "2024-11-01T00:00:00.000000000",
          "2024-12-01T00:00:00.000000000"
         ],
         "y": {
          "bdata": "16NwPQqTcUDhehSuRw1yQK5H4XoUdnJAPQrXo3CNckBSuB6F6w1zQPYoXI/CDXNAMzMzMzN7c0AUrkfhelRzQIXrUbgeIXNArkfhehQ+c0CPwvUoXCdzQOF6FK5HRXNAzczMzMy0ckAzMzMzM/tyQFK4HoXrsXJA9ihcj8J5ckDD9Shcjy5yQB+F61G4CnJA4XoUrkcBckAfhetRuDpyQArXo3A9VnJA4XoUrke1ckCPwvUoXHdyQM3MzMzMXHJAZmZmZmaickD2KFyPwtlyQDMzMzMzK3NAFK5H4Xpgc0AAAAAAAKBzQI/C9Shc43NA9ihcj8L9c0DNzMzMzNRzQArXo3A9DnRAAAAAAAAgdEAK16NwPVp0QB+F61G4NnRA",
          "dtype": "f8"
         }
        },
        {
         "line": {
          "color": "red",
          "dash": "solid",
          "width": 2
         },
         "mode": "lines",
         "name": "PPP",
         "type": "scatter",
         "x": [
          "2022-01-01T00:00:00.000000000",
          "2022-02-01T00:00:00.000000000",
          "2022-03-01T00:00:00.000000000",
          "2022-04-01T00:00:00.000000000",
          "2022-05-01T00:00:00.000000000",
          "2022-06-01T00:00:00.000000000",
          "2022-07-01T00:00:00.000000000",
          "2022-08-01T00:00:00.000000000",
          "2022-09-01T00:00:00.000000000",
          "2022-10-01T00:00:00.000000000",
          "2022-11-01T00:00:00.000000000",
          "2022-12-01T00:00:00.000000000",
          "2023-01-01T00:00:00.000000000",
          "2023-02-01T00:00:00.000000000",
          "2023-03-01T00:00:00.000000000",
          "2023-04-01T00:00:00.000000000",
          "2023-05-01T00:00:00.000000000",
          "2023-06-01T00:00:00.000000000",
          "2023-07-01T00:00:00.000000000",
          "2023-08-01T00:00:00.000000000",
          "2023-09-01T00:00:00.000000000",
          "2023-10-01T00:00:00.000000000",
          "2023-11-01T00:00:00.000000000",
          "2023-12-01T00:00:00.000000000",
          "2024-01-01T00:00:00.000000000",
          "2024-02-01T00:00:00.000000000",
          "2024-03-01T00:00:00.000000000",
          "2024-04-01T00:00:00.000000000",
          "2024-05-01T00:00:00.000000000",
          "2024-06-01T00:00:00.000000000",
          "2024-07-01T00:00:00.000000000",
          "2024-08-01T00:00:00.000000000",
          "2024-09-01T00:00:00.000000000",
          "2024-10-01T00:00:00.000000000",
          "2024-11-01T00:00:00.000000000",
          "2024-12-01T00:00:00.000000000"
         ],
         "y": {
          "bdata": "SOF6FK5fcUDsUbgehdtxQIXrUbgeRXJA4XoUrkd5ckCF61G4HulyQMP1KFyP6nJAj8L1KFxLc0BxPQrXozBzQPYoXI/CzXJAexSuR+GCckAUrkfhenhyQBSuR+F6THJAcT0K16MEckA9CtejcEVyQMP1KFyP9nFAMzMzMzPPcUBI4XoUrqtxQBSuR+F6iHFApHA9Ctd3cUAzMzMzM6dxQD0K16NwsXFAcT0K16PYcUBxPQrXo6RxQArXo3A9nnFAj8L1KFwTckAUrkfheiRyQLgehetR+HNArkfhehQudEBcj8L1KBh0QEjhehSuc3RASOF6FK53dEC4HoXrUaxzQJqZmZmZIXRAH4XrUbiSc0BmZmZmZpZzQD0K16NwUXNA",
          "dtype": "f8"
         }
        },
        {
         "line": {
          "color": "blue",
          "dash": "dot",
          "width": 2
         },
         "mode": "lines",
         "name": "Precio Máximo",
         "type": "scatter",
         "x": [
          "2022-01-01T00:00:00.000000000",
          "2022-02-01T00:00:00.000000000",
          "2022-03-01T00:00:00.000000000",
          "2022-04-01T00:00:00.000000000",
          "2022-05-01T00:00:00.000000000",
          "2022-06-01T00:00:00.000000000",
          "2022-07-01T00:00:00.000000000",
          "2022-08-01T00:00:00.000000000",
          "2022-09-01T00:00:00.000000000",
          "2022-10-01T00:00:00.000000000",
          "2022-11-01T00:00:00.000000000",
          "2022-12-01T00:00:00.000000000",
          "2023-01-01T00:00:00.000000000",
          "2023-02-01T00:00:00.000000000",
          "2023-03-01T00:00:00.000000000",
          "2023-04-01T00:00:00.000000000",
          "2023-05-01T00:00:00.000000000",
          "2023-06-01T00:00:00.000000000",
          "2023-07-01T00:00:00.000000000",
          "2023-08-01T00:00:00.000000000",
          "2023-09-01T00:00:00.000000000",
          "2023-10-01T00:00:00.000000000",
          "2023-11-01T00:00:00.000000000",
          "2023-12-01T00:00:00.000000000",
          "2024-01-01T00:00:00.000000000",
          "2024-02-01T00:00:00.000000000",
          "2024-03-01T00:00:00.000000000",
          "2024-04-01T00:00:00.000000000",
          "2024-05-01T00:00:00.000000000",
          "2024-06-01T00:00:00.000000000",
          "2024-07-01T00:00:00.000000000",
          "2024-08-01T00:00:00.000000000",
          "2024-09-01T00:00:00.000000000",
          "2024-10-01T00:00:00.000000000",
          "2024-11-01T00:00:00.000000000",
          "2024-12-01T00:00:00.000000000"
         ],
         "y": {
          "bdata": "H4XrUbjec0BxPQrXo2h0QFyPwvUo5HRAH4XrUbgudUCuR+F6FLJ1QGZmZmZmvnVAUrgehetJdkApXI/C9Sx2QOF6FK5HRXZAUrgehevBfkCuR+F6FHZ4QK5H4XoUdnhA16NwPQpXekCkcD0K17t6QIXrUbgeuXpAw/UoXI9mekDXo3A9Ci96QFK4HoXrxXlAPQrXo3CReUCkcD0K1995QOF6FK5HGXpAUrgehetBekDD9Shcj/Z5QI/C9Shc63tA16NwPQpxgkBI4XoUruWFQM3MzMzMZIdACtejcD3WhkAK16NwPZaGQFyPwvUoGoZA4XoUrkcjhkB7FK5H4fSFQClcj8L1KIZAexSuR+FIhkBxPQrXo5aGQLgehetRyIZA",
          "dtype": "f8"
         }
        }
       ],
       "layout": {
        "height": 600,
        "legend": {
         "bordercolor": "Black",
         "borderwidth": 1,
         "orientation": "h",
         "x": 0.1,
         "y": -0.2
        },
        "template": {
         "data": {
          "bar": [
           {
            "error_x": {
             "color": "rgb(36,36,36)"
            },
            "error_y": {
             "color": "rgb(36,36,36)"
            },
            "marker": {
             "line": {
              "color": "white",
              "width": 0.5
             },
             "pattern": {
              "fillmode": "overlay",
              "size": 10,
              "solidity": 0.2
             }
            },
            "type": "bar"
           }
          ],
          "barpolar": [
           {
            "marker": {
             "line": {
              "color": "white",
              "width": 0.5
             },
             "pattern": {
              "fillmode": "overlay",
              "size": 10,
              "solidity": 0.2
             }
            },
            "type": "barpolar"
           }
          ],
          "carpet": [
           {
            "aaxis": {
             "endlinecolor": "rgb(36,36,36)",
             "gridcolor": "white",
             "linecolor": "white",
             "minorgridcolor": "white",
             "startlinecolor": "rgb(36,36,36)"
            },
            "baxis": {
             "endlinecolor": "rgb(36,36,36)",
             "gridcolor": "white",
             "linecolor": "white",
             "minorgridcolor": "white",
             "startlinecolor": "rgb(36,36,36)"
            },
            "type": "carpet"
           }
          ],
          "choropleth": [
           {
            "colorbar": {
             "outlinewidth": 1,
             "tickcolor": "rgb(36,36,36)",
             "ticks": "outside"
            },
            "type": "choropleth"
           }
          ],
          "contour": [
           {
            "colorbar": {
             "outlinewidth": 1,
             "tickcolor": "rgb(36,36,36)",
             "ticks": "outside"
            },
            "colorscale": [
             [
              0,
              "#440154"
             ],
             [
              0.1111111111111111,
              "#482878"
             ],
             [
              0.2222222222222222,
              "#3e4989"
             ],
             [
              0.3333333333333333,
              "#31688e"
             ],
             [
              0.4444444444444444,
              "#26828e"
             ],
             [
              0.5555555555555556,
              "#1f9e89"
             ],
             [
              0.6666666666666666,
              "#35b779"
             ],
             [
              0.7777777777777778,
              "#6ece58"
             ],
             [
              0.8888888888888888,
              "#b5de2b"
             ],
             [
              1,
              "#fde725"
             ]
            ],
            "type": "contour"
           }
          ],
          "contourcarpet": [
           {
            "colorbar": {
             "outlinewidth": 1,
             "tickcolor": "rgb(36,36,36)",
             "ticks": "outside"
            },
            "type": "contourcarpet"
           }
          ],
          "heatmap": [
           {
            "colorbar": {
             "outlinewidth": 1,
             "tickcolor": "rgb(36,36,36)",
             "ticks": "outside"
            },
            "colorscale": [
             [
              0,
              "#440154"
             ],
             [
              0.1111111111111111,
              "#482878"
             ],
             [
              0.2222222222222222,
              "#3e4989"
             ],
             [
              0.3333333333333333,
              "#31688e"
             ],
             [
              0.4444444444444444,
              "#26828e"
             ],
             [
              0.5555555555555556,
              "#1f9e89"
             ],
             [
              0.6666666666666666,
              "#35b779"
             ],
             [
              0.7777777777777778,
              "#6ece58"
             ],
             [
              0.8888888888888888,
              "#b5de2b"
             ],
             [
              1,
              "#fde725"
             ]
            ],
            "type": "heatmap"
           }
          ],
          "histogram": [
           {
            "marker": {
             "line": {
              "color": "white",
              "width": 0.6
             }
            },
            "type": "histogram"
           }
          ],
          "histogram2d": [
           {
            "colorbar": {
             "outlinewidth": 1,
             "tickcolor": "rgb(36,36,36)",
             "ticks": "outside"
            },
            "colorscale": [
             [
              0,
              "#440154"
             ],
             [
              0.1111111111111111,
              "#482878"
             ],
             [
              0.2222222222222222,
              "#3e4989"
             ],
             [
              0.3333333333333333,
              "#31688e"
             ],
             [
              0.4444444444444444,
              "#26828e"
             ],
             [
              0.5555555555555556,
              "#1f9e89"
             ],
             [
              0.6666666666666666,
              "#35b779"
             ],
             [
              0.7777777777777778,
              "#6ece58"
             ],
             [
              0.8888888888888888,
              "#b5de2b"
             ],
             [
              1,
              "#fde725"
             ]
            ],
            "type": "histogram2d"
           }
          ],
          "histogram2dcontour": [
           {
            "colorbar": {
             "outlinewidth": 1,
             "tickcolor": "rgb(36,36,36)",
             "ticks": "outside"
            },
            "colorscale": [
             [
              0,
              "#440154"
             ],
             [
              0.1111111111111111,
              "#482878"
             ],
             [
              0.2222222222222222,
              "#3e4989"
             ],
             [
              0.3333333333333333,
              "#31688e"
             ],
             [
              0.4444444444444444,
              "#26828e"
             ],
             [
              0.5555555555555556,
              "#1f9e89"
             ],
             [
              0.6666666666666666,
              "#35b779"
             ],
             [
              0.7777777777777778,
              "#6ece58"
             ],
             [
              0.8888888888888888,
              "#b5de2b"
             ],
             [
              1,
              "#fde725"
             ]
            ],
            "type": "histogram2dcontour"
           }
          ],
          "mesh3d": [
           {
            "colorbar": {
             "outlinewidth": 1,
             "tickcolor": "rgb(36,36,36)",
             "ticks": "outside"
            },
            "type": "mesh3d"
           }
          ],
          "parcoords": [
           {
            "line": {
             "colorbar": {
              "outlinewidth": 1,
              "tickcolor": "rgb(36,36,36)",
              "ticks": "outside"
             }
            },
            "type": "parcoords"
           }
          ],
          "pie": [
           {
            "automargin": true,
            "type": "pie"
           }
          ],
          "scatter": [
           {
            "fillpattern": {
             "fillmode": "overlay",
             "size": 10,
             "solidity": 0.2
            },
            "type": "scatter"
           }
          ],
          "scatter3d": [
           {
            "line": {
             "colorbar": {
              "outlinewidth": 1,
              "tickcolor": "rgb(36,36,36)",
              "ticks": "outside"
             }
            },
            "marker": {
             "colorbar": {
              "outlinewidth": 1,
              "tickcolor": "rgb(36,36,36)",
              "ticks": "outside"
             }
            },
            "type": "scatter3d"
           }
          ],
          "scattercarpet": [
           {
            "marker": {
             "colorbar": {
              "outlinewidth": 1,
              "tickcolor": "rgb(36,36,36)",
              "ticks": "outside"
             }
            },
            "type": "scattercarpet"
           }
          ],
          "scattergeo": [
           {
            "marker": {
             "colorbar": {
              "outlinewidth": 1,
              "tickcolor": "rgb(36,36,36)",
              "ticks": "outside"
             }
            },
            "type": "scattergeo"
           }
          ],
          "scattergl": [
           {
            "marker": {
             "colorbar": {
              "outlinewidth": 1,
              "tickcolor": "rgb(36,36,36)",
              "ticks": "outside"
             }
            },
            "type": "scattergl"
           }
          ],
          "scattermap": [
           {
            "marker": {
             "colorbar": {
              "outlinewidth": 1,
              "tickcolor": "rgb(36,36,36)",
              "ticks": "outside"
             }
            },
            "type": "scattermap"
           }
          ],
          "scattermapbox": [
           {
            "marker": {
             "colorbar": {
              "outlinewidth": 1,
              "tickcolor": "rgb(36,36,36)",
              "ticks": "outside"
             }
            },
            "type": "scattermapbox"
           }
          ],
          "scatterpolar": [
           {
            "marker": {
             "colorbar": {
              "outlinewidth": 1,
              "tickcolor": "rgb(36,36,36)",
              "ticks": "outside"
             }
            },
            "type": "scatterpolar"
           }
          ],
          "scatterpolargl": [
           {
            "marker": {
             "colorbar": {
              "outlinewidth": 1,
              "tickcolor": "rgb(36,36,36)",
              "ticks": "outside"
             }
            },
            "type": "scatterpolargl"
           }
          ],
          "scatterternary": [
           {
            "marker": {
             "colorbar": {
              "outlinewidth": 1,
              "tickcolor": "rgb(36,36,36)",
              "ticks": "outside"
             }
            },
            "type": "scatterternary"
           }
          ],
          "surface": [
           {
            "colorbar": {
             "outlinewidth": 1,
             "tickcolor": "rgb(36,36,36)",
             "ticks": "outside"
            },
            "colorscale": [
             [
              0,
              "#440154"
             ],
             [
              0.1111111111111111,
              "#482878"
             ],
             [
              0.2222222222222222,
              "#3e4989"
             ],
             [
              0.3333333333333333,
              "#31688e"
             ],
             [
              0.4444444444444444,
              "#26828e"
             ],
             [
              0.5555555555555556,
              "#1f9e89"
             ],
             [
              0.6666666666666666,
              "#35b779"
             ],
             [
              0.7777777777777778,
              "#6ece58"
             ],
             [
              0.8888888888888888,
              "#b5de2b"
             ],
             [
              1,
              "#fde725"
             ]
            ],
            "type": "surface"
           }
          ],
          "table": [
           {
            "cells": {
             "fill": {
              "color": "rgb(237,237,237)"
             },
             "line": {
              "color": "white"
             }
            },
            "header": {
             "fill": {
              "color": "rgb(217,217,217)"
             },
             "line": {
              "color": "white"
             }
            },
            "type": "table"
           }
          ]
         },
         "layout": {
          "annotationdefaults": {
           "arrowhead": 0,
           "arrowwidth": 1
          },
          "autotypenumbers": "strict",
          "coloraxis": {
           "colorbar": {
            "outlinewidth": 1,
            "tickcolor": "rgb(36,36,36)",
            "ticks": "outside"
           }
          },
          "colorscale": {
           "diverging": [
            [
             0,
             "rgb(103,0,31)"
            ],
            [
             0.1,
             "rgb(178,24,43)"
            ],
            [
             0.2,
             "rgb(214,96,77)"
            ],
            [
             0.3,
             "rgb(244,165,130)"
            ],
            [
             0.4,
             "rgb(253,219,199)"
            ],
            [
             0.5,
             "rgb(247,247,247)"
            ],
            [
             0.6,
             "rgb(209,229,240)"
            ],
            [
             0.7,
             "rgb(146,197,222)"
            ],
            [
             0.8,
             "rgb(67,147,195)"
            ],
            [
             0.9,
             "rgb(33,102,172)"
            ],
            [
             1,
             "rgb(5,48,97)"
            ]
           ],
           "sequential": [
            [
             0,
             "#440154"
            ],
            [
             0.1111111111111111,
             "#482878"
            ],
            [
             0.2222222222222222,
             "#3e4989"
            ],
            [
             0.3333333333333333,
             "#31688e"
            ],
            [
             0.4444444444444444,
             "#26828e"
            ],
            [
             0.5555555555555556,
             "#1f9e89"
            ],
            [
             0.6666666666666666,
             "#35b779"
            ],
            [
             0.7777777777777778,
             "#6ece58"
            ],
            [
             0.8888888888888888,
             "#b5de2b"
            ],
            [
             1,
             "#fde725"
            ]
           ],
           "sequentialminus": [
            [
             0,
             "#440154"
            ],
            [
             0.1111111111111111,
             "#482878"
            ],
            [
             0.2222222222222222,
             "#3e4989"
            ],
            [
             0.3333333333333333,
             "#31688e"
            ],
            [
             0.4444444444444444,
             "#26828e"
            ],
            [
             0.5555555555555556,
             "#1f9e89"
            ],
            [
             0.6666666666666666,
             "#35b779"
            ],
            [
             0.7777777777777778,
             "#6ece58"
            ],
            [
             0.8888888888888888,
             "#b5de2b"
            ],
            [
             1,
             "#fde725"
            ]
           ]
          },
          "colorway": [
           "#1F77B4",
           "#FF7F0E",
           "#2CA02C",
           "#D62728",
           "#9467BD",
           "#8C564B",
           "#E377C2",
           "#7F7F7F",
           "#BCBD22",
           "#17BECF"
          ],
          "font": {
           "color": "rgb(36,36,36)"
          },
          "geo": {
           "bgcolor": "white",
           "lakecolor": "white",
           "landcolor": "white",
           "showlakes": true,
           "showland": true,
           "subunitcolor": "white"
          },
          "hoverlabel": {
           "align": "left"
          },
          "hovermode": "closest",
          "mapbox": {
           "style": "light"
          },
          "paper_bgcolor": "white",
          "plot_bgcolor": "white",
          "polar": {
           "angularaxis": {
            "gridcolor": "rgb(232,232,232)",
            "linecolor": "rgb(36,36,36)",
            "showgrid": false,
            "showline": true,
            "ticks": "outside"
           },
           "bgcolor": "white",
           "radialaxis": {
            "gridcolor": "rgb(232,232,232)",
            "linecolor": "rgb(36,36,36)",
            "showgrid": false,
            "showline": true,
            "ticks": "outside"
           }
          },
          "scene": {
           "xaxis": {
            "backgroundcolor": "white",
            "gridcolor": "rgb(232,232,232)",
            "gridwidth": 2,
            "linecolor": "rgb(36,36,36)",
            "showbackground": true,
            "showgrid": false,
            "showline": true,
            "ticks": "outside",
            "zeroline": false,
            "zerolinecolor": "rgb(36,36,36)"
           },
           "yaxis": {
            "backgroundcolor": "white",
            "gridcolor": "rgb(232,232,232)",
            "gridwidth": 2,
            "linecolor": "rgb(36,36,36)",
            "showbackground": true,
            "showgrid": false,
            "showline": true,
            "ticks": "outside",
            "zeroline": false,
            "zerolinecolor": "rgb(36,36,36)"
           },
           "zaxis": {
            "backgroundcolor": "white",
            "gridcolor": "rgb(232,232,232)",
            "gridwidth": 2,
            "linecolor": "rgb(36,36,36)",
            "showbackground": true,
            "showgrid": false,
            "showline": true,
            "ticks": "outside",
            "zeroline": false,
            "zerolinecolor": "rgb(36,36,36)"
           }
          },
          "shapedefaults": {
           "fillcolor": "black",
           "line": {
            "width": 0
           },
           "opacity": 0.3
          },
          "ternary": {
           "aaxis": {
            "gridcolor": "rgb(232,232,232)",
            "linecolor": "rgb(36,36,36)",
            "showgrid": false,
            "showline": true,
            "ticks": "outside"
           },
           "baxis": {
            "gridcolor": "rgb(232,232,232)",
            "linecolor": "rgb(36,36,36)",
            "showgrid": false,
            "showline": true,
            "ticks": "outside"
           },
           "bgcolor": "white",
           "caxis": {
            "gridcolor": "rgb(232,232,232)",
            "linecolor": "rgb(36,36,36)",
            "showgrid": false,
            "showline": true,
            "ticks": "outside"
           }
          },
          "title": {
           "x": 0.05
          },
          "xaxis": {
           "automargin": true,
           "gridcolor": "rgb(232,232,232)",
           "linecolor": "rgb(36,36,36)",
           "showgrid": false,
           "showline": true,
           "ticks": "outside",
           "title": {
            "standoff": 15
           },
           "zeroline": false,
           "zerolinecolor": "rgb(36,36,36)"
          },
          "yaxis": {
           "automargin": true,
           "gridcolor": "rgb(232,232,232)",
           "linecolor": "rgb(36,36,36)",
           "showgrid": false,
           "showline": true,
           "ticks": "outside",
           "title": {
            "standoff": 15
           },
           "zeroline": false,
           "zerolinecolor": "rgb(36,36,36)"
          }
         }
        },
        "title": {
         "text": "Evolución mensual de los precios del SICEP<br>Periodo: 2022-01-01 a 2024-12-31"
        },
        "width": 1000,
        "xaxis": {
         "gridcolor": "lightgray",
         "showgrid": true,
         "title": {
          "text": "Fecha"
         }
        },
        "yaxis": {
         "gridcolor": "lightgray",
         "showgrid": true,
         "title": {
          "text": "Precios de contratos del SICEP"
         }
        }
       }
      }
     },
     "metadata": {},
     "output_type": "display_data"
    }
   ],
   "source": [
    "graficar_precios(df=df_precios_sistema, titulo='Evolución mensual de los precios del SICEP<br>Periodo: {fecha_inicial} a {fecha_final}'.format(fecha_inicial=fecha_inicial_precios, fecha_final=fecha_final_precios), \n",
    "                 color=['blue', 'green', 'red', 'blue'],\n",
    "                 nombre_variable=['Precio Mínimo', 'PPS', 'PPP', 'Precio Máximo'], \n",
    "                 nombre_eje_x='Fecha', \n",
    "                 nombre_eje_y=['PrecioMinimo', 'PPS', 'PPP', 'PrecioMaximo'], \n",
    "                 tipo_linea=['dot', 'solid', 'solid', 'dot'], \n",
    "                 titulo_y='Precios de contratos del SICEP'\n",
    "                 )"
   ]
  },
  {
   "cell_type": "markdown",
   "metadata": {},
   "source": [
    "Se agrupan y se filtran los valores de precios para conocer durente el preriodo de tiempo que agente tuvo compras en contratos mas alta, ordenando los valores por precio promedio ponderado"
   ]
  },
  {
   "cell_type": "code",
   "execution_count": 11,
   "metadata": {},
   "outputs": [
    {
     "data": {
      "application/vnd.microsoft.datawrangler.viewer.v0+json": {
       "columns": [
        {
         "name": "index",
         "rawType": "int64",
         "type": "integer"
        },
        {
         "name": "CodigoAgenteComprador",
         "rawType": "object",
         "type": "string"
        },
        {
         "name": "PPP",
         "rawType": "float64",
         "type": "float"
        },
        {
         "name": "PrecioMaximo",
         "rawType": "float64",
         "type": "float"
        }
       ],
       "ref": "16748ad5-ee93-4a47-951e-529477cdfe05",
       "rows": [
        [
         "12",
         "EBPC",
         "434.55",
         "503.23"
        ],
        [
         "38",
         "PEEC",
         "400.47",
         "427.74"
        ],
        [
         "9",
         "CSIC",
         "393.46",
         "683.22"
        ],
        [
         "30",
         "ESVC",
         "374.14",
         "381.92"
        ],
        [
         "0",
         "BIAC",
         "359.23",
         "554.68"
        ],
        [
         "17",
         "EGVC",
         "342.32",
         "364.89"
        ],
        [
         "24",
         "ENIC",
         "341.33",
         "361.51"
        ],
        [
         "10",
         "CSSC",
         "341.04",
         "748.6"
        ],
        [
         "39",
         "QIEC",
         "334.53",
         "420.22"
        ],
        [
         "4",
         "CEOC",
         "333.17",
         "430.83"
        ],
        [
         "20",
         "EMPC",
         "324.38",
         "356.22"
        ],
        [
         "27",
         "EPTC",
         "324.14",
         "346.03"
        ],
        [
         "21",
         "EMSC",
         "323.63",
         "376.27"
        ],
        [
         "1",
         "CASC",
         "321.7",
         "406.08"
        ],
        [
         "41",
         "TENC",
         "315.08",
         "341.38"
        ],
        [
         "16",
         "EEPC",
         "313.79",
         "619.97"
        ],
        [
         "22",
         "ENBC",
         "313.78",
         "319.77"
        ],
        [
         "13",
         "EBSC",
         "310.71",
         "331.56"
        ],
        [
         "11",
         "DLRC",
         "310.26",
         "333.35"
        ],
        [
         "8",
         "CQTC",
         "310.06",
         "567.43"
        ]
       ],
       "shape": {
        "columns": 3,
        "rows": 20
       }
      },
      "text/html": [
       "<div>\n",
       "<style scoped>\n",
       "    .dataframe tbody tr th:only-of-type {\n",
       "        vertical-align: middle;\n",
       "    }\n",
       "\n",
       "    .dataframe tbody tr th {\n",
       "        vertical-align: top;\n",
       "    }\n",
       "\n",
       "    .dataframe thead th {\n",
       "        text-align: right;\n",
       "    }\n",
       "</style>\n",
       "<table border=\"1\" class=\"dataframe\">\n",
       "  <thead>\n",
       "    <tr style=\"text-align: right;\">\n",
       "      <th></th>\n",
       "      <th>CodigoAgenteComprador</th>\n",
       "      <th>PPP</th>\n",
       "      <th>PrecioMaximo</th>\n",
       "    </tr>\n",
       "  </thead>\n",
       "  <tbody>\n",
       "    <tr>\n",
       "      <th>12</th>\n",
       "      <td>EBPC</td>\n",
       "      <td>434.55</td>\n",
       "      <td>503.23</td>\n",
       "    </tr>\n",
       "    <tr>\n",
       "      <th>38</th>\n",
       "      <td>PEEC</td>\n",
       "      <td>400.47</td>\n",
       "      <td>427.74</td>\n",
       "    </tr>\n",
       "    <tr>\n",
       "      <th>9</th>\n",
       "      <td>CSIC</td>\n",
       "      <td>393.46</td>\n",
       "      <td>683.22</td>\n",
       "    </tr>\n",
       "    <tr>\n",
       "      <th>30</th>\n",
       "      <td>ESVC</td>\n",
       "      <td>374.14</td>\n",
       "      <td>381.92</td>\n",
       "    </tr>\n",
       "    <tr>\n",
       "      <th>0</th>\n",
       "      <td>BIAC</td>\n",
       "      <td>359.23</td>\n",
       "      <td>554.68</td>\n",
       "    </tr>\n",
       "    <tr>\n",
       "      <th>17</th>\n",
       "      <td>EGVC</td>\n",
       "      <td>342.32</td>\n",
       "      <td>364.89</td>\n",
       "    </tr>\n",
       "    <tr>\n",
       "      <th>24</th>\n",
       "      <td>ENIC</td>\n",
       "      <td>341.33</td>\n",
       "      <td>361.51</td>\n",
       "    </tr>\n",
       "    <tr>\n",
       "      <th>10</th>\n",
       "      <td>CSSC</td>\n",
       "      <td>341.04</td>\n",
       "      <td>748.60</td>\n",
       "    </tr>\n",
       "    <tr>\n",
       "      <th>39</th>\n",
       "      <td>QIEC</td>\n",
       "      <td>334.53</td>\n",
       "      <td>420.22</td>\n",
       "    </tr>\n",
       "    <tr>\n",
       "      <th>4</th>\n",
       "      <td>CEOC</td>\n",
       "      <td>333.17</td>\n",
       "      <td>430.83</td>\n",
       "    </tr>\n",
       "    <tr>\n",
       "      <th>20</th>\n",
       "      <td>EMPC</td>\n",
       "      <td>324.38</td>\n",
       "      <td>356.22</td>\n",
       "    </tr>\n",
       "    <tr>\n",
       "      <th>27</th>\n",
       "      <td>EPTC</td>\n",
       "      <td>324.14</td>\n",
       "      <td>346.03</td>\n",
       "    </tr>\n",
       "    <tr>\n",
       "      <th>21</th>\n",
       "      <td>EMSC</td>\n",
       "      <td>323.63</td>\n",
       "      <td>376.27</td>\n",
       "    </tr>\n",
       "    <tr>\n",
       "      <th>1</th>\n",
       "      <td>CASC</td>\n",
       "      <td>321.70</td>\n",
       "      <td>406.08</td>\n",
       "    </tr>\n",
       "    <tr>\n",
       "      <th>41</th>\n",
       "      <td>TENC</td>\n",
       "      <td>315.08</td>\n",
       "      <td>341.38</td>\n",
       "    </tr>\n",
       "    <tr>\n",
       "      <th>16</th>\n",
       "      <td>EEPC</td>\n",
       "      <td>313.79</td>\n",
       "      <td>619.97</td>\n",
       "    </tr>\n",
       "    <tr>\n",
       "      <th>22</th>\n",
       "      <td>ENBC</td>\n",
       "      <td>313.78</td>\n",
       "      <td>319.77</td>\n",
       "    </tr>\n",
       "    <tr>\n",
       "      <th>13</th>\n",
       "      <td>EBSC</td>\n",
       "      <td>310.71</td>\n",
       "      <td>331.56</td>\n",
       "    </tr>\n",
       "    <tr>\n",
       "      <th>11</th>\n",
       "      <td>DLRC</td>\n",
       "      <td>310.26</td>\n",
       "      <td>333.35</td>\n",
       "    </tr>\n",
       "    <tr>\n",
       "      <th>8</th>\n",
       "      <td>CQTC</td>\n",
       "      <td>310.06</td>\n",
       "      <td>567.43</td>\n",
       "    </tr>\n",
       "  </tbody>\n",
       "</table>\n",
       "</div>"
      ],
      "text/plain": [
       "   CodigoAgenteComprador     PPP  PrecioMaximo\n",
       "12                  EBPC  434.55        503.23\n",
       "38                  PEEC  400.47        427.74\n",
       "9                   CSIC  393.46        683.22\n",
       "30                  ESVC  374.14        381.92\n",
       "0                   BIAC  359.23        554.68\n",
       "17                  EGVC  342.32        364.89\n",
       "24                  ENIC  341.33        361.51\n",
       "10                  CSSC  341.04        748.60\n",
       "39                  QIEC  334.53        420.22\n",
       "4                   CEOC  333.17        430.83\n",
       "20                  EMPC  324.38        356.22\n",
       "27                  EPTC  324.14        346.03\n",
       "21                  EMSC  323.63        376.27\n",
       "1                   CASC  321.70        406.08\n",
       "41                  TENC  315.08        341.38\n",
       "16                  EEPC  313.79        619.97\n",
       "22                  ENBC  313.78        319.77\n",
       "13                  EBSC  310.71        331.56\n",
       "11                  DLRC  310.26        333.35\n",
       "8                   CQTC  310.06        567.43"
      ]
     },
     "execution_count": 11,
     "metadata": {},
     "output_type": "execute_result"
    }
   ],
   "source": [
    "df_precios_agente.groupby(['CodigoAgenteComprador']).agg({'PPP': 'mean', 'PrecioMaximo': 'max'}).round(2).reset_index().sort_values(by=['PPP'], ascending=False).head(20)  # Agrupa por agente y calcula el precio promedio ponderado, ordenando de mayor a menor"
   ]
  },
  {
   "cell_type": "markdown",
   "metadata": {},
   "source": [
    "Se crean filtros para graficar los precios del SICEP por agente"
   ]
  },
  {
   "cell_type": "code",
   "execution_count": 18,
   "metadata": {},
   "outputs": [
    {
     "data": {
      "application/vnd.plotly.v1+json": {
       "config": {
        "plotlyServerURL": "https://plot.ly"
       },
       "data": [
        {
         "line": {
          "color": "blue",
          "dash": "dot",
          "width": 2
         },
         "mode": "lines",
         "name": "Precio Mínimo",
         "type": "scatter",
         "x": [
          "2023-01-01T00:00:00.000000000",
          "2023-02-01T00:00:00.000000000",
          "2023-03-01T00:00:00.000000000",
          "2023-04-01T00:00:00.000000000",
          "2024-01-01T00:00:00.000000000",
          "2024-03-01T00:00:00.000000000",
          "2024-05-01T00:00:00.000000000",
          "2024-06-01T00:00:00.000000000",
          "2024-07-01T00:00:00.000000000",
          "2024-08-01T00:00:00.000000000",
          "2024-09-01T00:00:00.000000000",
          "2024-10-01T00:00:00.000000000",
          "2024-11-01T00:00:00.000000000",
          "2024-12-01T00:00:00.000000000"
         ],
         "y": {
          "bdata": "w/UoXI9mc0DNzMzMzLBzQB+F61G4rnNAUrgehetxc0Bcj8L1KPB9QHE9CtejOH5AFK5H4XpgfUDD9Shcj5Z9QPYoXI/CpX1ASOF6FK5nfUA9CtejcK19QFyPwvUo2H1AuB6F61FAfkB7FK5H4YJ+QA==",
          "dtype": "f8"
         }
        },
        {
         "line": {
          "color": "green",
          "dash": "solid",
          "width": 2
         },
         "mode": "lines",
         "name": "PPS",
         "type": "scatter",
         "x": [
          "2023-01-01T00:00:00.000000000",
          "2023-02-01T00:00:00.000000000",
          "2023-03-01T00:00:00.000000000",
          "2023-04-01T00:00:00.000000000",
          "2024-01-01T00:00:00.000000000",
          "2024-03-01T00:00:00.000000000",
          "2024-05-01T00:00:00.000000000",
          "2024-06-01T00:00:00.000000000",
          "2024-07-01T00:00:00.000000000",
          "2024-08-01T00:00:00.000000000",
          "2024-09-01T00:00:00.000000000",
          "2024-10-01T00:00:00.000000000",
          "2024-11-01T00:00:00.000000000",
          "2024-12-01T00:00:00.000000000"
         ],
         "y": {
          "bdata": "w/UoXI9mc0DNzMzMzLBzQB+F61G4rnNAUrgehetxc0Bcj8L1KPB9QHE9CtejOH5AuB6F61HUfUCPwvUoXAt+QHsUrkfhGn5ASOF6FK7bfUDD9ShcjyJ+QFK4HoXrTX5ASOF6FK63fkAzMzMzM/t+QA==",
          "dtype": "f8"
         }
        },
        {
         "line": {
          "color": "yellow",
          "dash": "solid",
          "width": 2
         },
         "mode": "lines",
         "name": "PPP",
         "type": "scatter",
         "x": [
          "2023-01-01T00:00:00.000000000",
          "2023-02-01T00:00:00.000000000",
          "2023-03-01T00:00:00.000000000",
          "2023-04-01T00:00:00.000000000",
          "2024-01-01T00:00:00.000000000",
          "2024-03-01T00:00:00.000000000",
          "2024-05-01T00:00:00.000000000",
          "2024-06-01T00:00:00.000000000",
          "2024-07-01T00:00:00.000000000",
          "2024-08-01T00:00:00.000000000",
          "2024-09-01T00:00:00.000000000",
          "2024-10-01T00:00:00.000000000",
          "2024-11-01T00:00:00.000000000",
          "2024-12-01T00:00:00.000000000"
         ],
         "y": {
          "bdata": "w/UoXI9mc0DNzMzMzLBzQB+F61G4rnNAUrgehetxc0Bcj8L1KPB9QHE9CtejOH5A16NwPQqzfUAfhetRuBZ+QArXo3A9Jn5AexSuR+HmfUBSuB6F6y1+QD0K16NwWX5Aj8L1KFzDfkBxPQrXo7h+QA==",
          "dtype": "f8"
         }
        },
        {
         "line": {
          "color": "blue",
          "dash": "dot",
          "width": 2
         },
         "mode": "lines",
         "name": "Precio Máximo",
         "type": "scatter",
         "x": [
          "2023-01-01T00:00:00.000000000",
          "2023-02-01T00:00:00.000000000",
          "2023-03-01T00:00:00.000000000",
          "2023-04-01T00:00:00.000000000",
          "2024-01-01T00:00:00.000000000",
          "2024-03-01T00:00:00.000000000",
          "2024-05-01T00:00:00.000000000",
          "2024-06-01T00:00:00.000000000",
          "2024-07-01T00:00:00.000000000",
          "2024-08-01T00:00:00.000000000",
          "2024-09-01T00:00:00.000000000",
          "2024-10-01T00:00:00.000000000",
          "2024-11-01T00:00:00.000000000",
          "2024-12-01T00:00:00.000000000"
         ],
         "y": {
          "bdata": "w/UoXI9mc0DNzMzMzLBzQB+F61G4rnNAUrgehetxc0Bcj8L1KPB9QHE9CtejOH5AuB6F61FIfkBcj8L1KIB+QKRwPQrXj35ASOF6FK5PfkBI4XoUrpd+QKRwPQrXw35AMzMzMzMvf0BI4XoUrnN/QA==",
          "dtype": "f8"
         }
        },
        {
         "line": {
          "color": "red",
          "dash": "dot",
          "width": 2
         },
         "mode": "lines",
         "name": "Precio Máximo Sistema",
         "type": "scatter",
         "x": [
          "2023-01-01T00:00:00.000000000",
          "2023-02-01T00:00:00.000000000",
          "2023-03-01T00:00:00.000000000",
          "2023-04-01T00:00:00.000000000",
          "2024-01-01T00:00:00.000000000",
          "2024-03-01T00:00:00.000000000",
          "2024-05-01T00:00:00.000000000",
          "2024-06-01T00:00:00.000000000",
          "2024-07-01T00:00:00.000000000",
          "2024-08-01T00:00:00.000000000",
          "2024-09-01T00:00:00.000000000",
          "2024-10-01T00:00:00.000000000",
          "2024-11-01T00:00:00.000000000",
          "2024-12-01T00:00:00.000000000"
         ],
         "y": {
          "bdata": "16NwPQpXekCkcD0K17t6QIXrUbgeuXpAw/UoXI9mekDXo3A9CnGCQM3MzMzMZIdACtejcD2WhkBcj8L1KBqGQOF6FK5HI4ZAexSuR+H0hUApXI/C9SiGQHsUrkfhSIZAcT0K16OWhkC4HoXrUciGQA==",
          "dtype": "f8"
         }
        },
        {
         "line": {
          "color": "red",
          "dash": "dot",
          "width": 2
         },
         "mode": "lines",
         "name": "Precio mínimo Sistema",
         "type": "scatter",
         "x": [
          "2023-01-01T00:00:00.000000000",
          "2023-02-01T00:00:00.000000000",
          "2023-03-01T00:00:00.000000000",
          "2023-04-01T00:00:00.000000000",
          "2024-01-01T00:00:00.000000000",
          "2024-03-01T00:00:00.000000000",
          "2024-05-01T00:00:00.000000000",
          "2024-06-01T00:00:00.000000000",
          "2024-07-01T00:00:00.000000000",
          "2024-08-01T00:00:00.000000000",
          "2024-09-01T00:00:00.000000000",
          "2024-10-01T00:00:00.000000000",
          "2024-11-01T00:00:00.000000000",
          "2024-12-01T00:00:00.000000000"
         ],
         "y": {
          "bdata": "w/UoXI+SbEBcj8L1KJRsQDMzMzMzs1xAexSuR+FaXECF61G4HkVtQAAAAAAAGG1AAAAAAAAYbUAAAAAAADBtQNejcD0KJ21AAAAAAAAYbUAK16NwPSptQAAAAAAAGG1AXI/C9SgsbUAK16NwPTptQA==",
          "dtype": "f8"
         }
        }
       ],
       "layout": {
        "height": 600,
        "legend": {
         "bordercolor": "Black",
         "borderwidth": 1,
         "orientation": "h",
         "x": 0.1,
         "y": -0.2
        },
        "template": {
         "data": {
          "bar": [
           {
            "error_x": {
             "color": "rgb(36,36,36)"
            },
            "error_y": {
             "color": "rgb(36,36,36)"
            },
            "marker": {
             "line": {
              "color": "white",
              "width": 0.5
             },
             "pattern": {
              "fillmode": "overlay",
              "size": 10,
              "solidity": 0.2
             }
            },
            "type": "bar"
           }
          ],
          "barpolar": [
           {
            "marker": {
             "line": {
              "color": "white",
              "width": 0.5
             },
             "pattern": {
              "fillmode": "overlay",
              "size": 10,
              "solidity": 0.2
             }
            },
            "type": "barpolar"
           }
          ],
          "carpet": [
           {
            "aaxis": {
             "endlinecolor": "rgb(36,36,36)",
             "gridcolor": "white",
             "linecolor": "white",
             "minorgridcolor": "white",
             "startlinecolor": "rgb(36,36,36)"
            },
            "baxis": {
             "endlinecolor": "rgb(36,36,36)",
             "gridcolor": "white",
             "linecolor": "white",
             "minorgridcolor": "white",
             "startlinecolor": "rgb(36,36,36)"
            },
            "type": "carpet"
           }
          ],
          "choropleth": [
           {
            "colorbar": {
             "outlinewidth": 1,
             "tickcolor": "rgb(36,36,36)",
             "ticks": "outside"
            },
            "type": "choropleth"
           }
          ],
          "contour": [
           {
            "colorbar": {
             "outlinewidth": 1,
             "tickcolor": "rgb(36,36,36)",
             "ticks": "outside"
            },
            "colorscale": [
             [
              0,
              "#440154"
             ],
             [
              0.1111111111111111,
              "#482878"
             ],
             [
              0.2222222222222222,
              "#3e4989"
             ],
             [
              0.3333333333333333,
              "#31688e"
             ],
             [
              0.4444444444444444,
              "#26828e"
             ],
             [
              0.5555555555555556,
              "#1f9e89"
             ],
             [
              0.6666666666666666,
              "#35b779"
             ],
             [
              0.7777777777777778,
              "#6ece58"
             ],
             [
              0.8888888888888888,
              "#b5de2b"
             ],
             [
              1,
              "#fde725"
             ]
            ],
            "type": "contour"
           }
          ],
          "contourcarpet": [
           {
            "colorbar": {
             "outlinewidth": 1,
             "tickcolor": "rgb(36,36,36)",
             "ticks": "outside"
            },
            "type": "contourcarpet"
           }
          ],
          "heatmap": [
           {
            "colorbar": {
             "outlinewidth": 1,
             "tickcolor": "rgb(36,36,36)",
             "ticks": "outside"
            },
            "colorscale": [
             [
              0,
              "#440154"
             ],
             [
              0.1111111111111111,
              "#482878"
             ],
             [
              0.2222222222222222,
              "#3e4989"
             ],
             [
              0.3333333333333333,
              "#31688e"
             ],
             [
              0.4444444444444444,
              "#26828e"
             ],
             [
              0.5555555555555556,
              "#1f9e89"
             ],
             [
              0.6666666666666666,
              "#35b779"
             ],
             [
              0.7777777777777778,
              "#6ece58"
             ],
             [
              0.8888888888888888,
              "#b5de2b"
             ],
             [
              1,
              "#fde725"
             ]
            ],
            "type": "heatmap"
           }
          ],
          "histogram": [
           {
            "marker": {
             "line": {
              "color": "white",
              "width": 0.6
             }
            },
            "type": "histogram"
           }
          ],
          "histogram2d": [
           {
            "colorbar": {
             "outlinewidth": 1,
             "tickcolor": "rgb(36,36,36)",
             "ticks": "outside"
            },
            "colorscale": [
             [
              0,
              "#440154"
             ],
             [
              0.1111111111111111,
              "#482878"
             ],
             [
              0.2222222222222222,
              "#3e4989"
             ],
             [
              0.3333333333333333,
              "#31688e"
             ],
             [
              0.4444444444444444,
              "#26828e"
             ],
             [
              0.5555555555555556,
              "#1f9e89"
             ],
             [
              0.6666666666666666,
              "#35b779"
             ],
             [
              0.7777777777777778,
              "#6ece58"
             ],
             [
              0.8888888888888888,
              "#b5de2b"
             ],
             [
              1,
              "#fde725"
             ]
            ],
            "type": "histogram2d"
           }
          ],
          "histogram2dcontour": [
           {
            "colorbar": {
             "outlinewidth": 1,
             "tickcolor": "rgb(36,36,36)",
             "ticks": "outside"
            },
            "colorscale": [
             [
              0,
              "#440154"
             ],
             [
              0.1111111111111111,
              "#482878"
             ],
             [
              0.2222222222222222,
              "#3e4989"
             ],
             [
              0.3333333333333333,
              "#31688e"
             ],
             [
              0.4444444444444444,
              "#26828e"
             ],
             [
              0.5555555555555556,
              "#1f9e89"
             ],
             [
              0.6666666666666666,
              "#35b779"
             ],
             [
              0.7777777777777778,
              "#6ece58"
             ],
             [
              0.8888888888888888,
              "#b5de2b"
             ],
             [
              1,
              "#fde725"
             ]
            ],
            "type": "histogram2dcontour"
           }
          ],
          "mesh3d": [
           {
            "colorbar": {
             "outlinewidth": 1,
             "tickcolor": "rgb(36,36,36)",
             "ticks": "outside"
            },
            "type": "mesh3d"
           }
          ],
          "parcoords": [
           {
            "line": {
             "colorbar": {
              "outlinewidth": 1,
              "tickcolor": "rgb(36,36,36)",
              "ticks": "outside"
             }
            },
            "type": "parcoords"
           }
          ],
          "pie": [
           {
            "automargin": true,
            "type": "pie"
           }
          ],
          "scatter": [
           {
            "fillpattern": {
             "fillmode": "overlay",
             "size": 10,
             "solidity": 0.2
            },
            "type": "scatter"
           }
          ],
          "scatter3d": [
           {
            "line": {
             "colorbar": {
              "outlinewidth": 1,
              "tickcolor": "rgb(36,36,36)",
              "ticks": "outside"
             }
            },
            "marker": {
             "colorbar": {
              "outlinewidth": 1,
              "tickcolor": "rgb(36,36,36)",
              "ticks": "outside"
             }
            },
            "type": "scatter3d"
           }
          ],
          "scattercarpet": [
           {
            "marker": {
             "colorbar": {
              "outlinewidth": 1,
              "tickcolor": "rgb(36,36,36)",
              "ticks": "outside"
             }
            },
            "type": "scattercarpet"
           }
          ],
          "scattergeo": [
           {
            "marker": {
             "colorbar": {
              "outlinewidth": 1,
              "tickcolor": "rgb(36,36,36)",
              "ticks": "outside"
             }
            },
            "type": "scattergeo"
           }
          ],
          "scattergl": [
           {
            "marker": {
             "colorbar": {
              "outlinewidth": 1,
              "tickcolor": "rgb(36,36,36)",
              "ticks": "outside"
             }
            },
            "type": "scattergl"
           }
          ],
          "scattermap": [
           {
            "marker": {
             "colorbar": {
              "outlinewidth": 1,
              "tickcolor": "rgb(36,36,36)",
              "ticks": "outside"
             }
            },
            "type": "scattermap"
           }
          ],
          "scattermapbox": [
           {
            "marker": {
             "colorbar": {
              "outlinewidth": 1,
              "tickcolor": "rgb(36,36,36)",
              "ticks": "outside"
             }
            },
            "type": "scattermapbox"
           }
          ],
          "scatterpolar": [
           {
            "marker": {
             "colorbar": {
              "outlinewidth": 1,
              "tickcolor": "rgb(36,36,36)",
              "ticks": "outside"
             }
            },
            "type": "scatterpolar"
           }
          ],
          "scatterpolargl": [
           {
            "marker": {
             "colorbar": {
              "outlinewidth": 1,
              "tickcolor": "rgb(36,36,36)",
              "ticks": "outside"
             }
            },
            "type": "scatterpolargl"
           }
          ],
          "scatterternary": [
           {
            "marker": {
             "colorbar": {
              "outlinewidth": 1,
              "tickcolor": "rgb(36,36,36)",
              "ticks": "outside"
             }
            },
            "type": "scatterternary"
           }
          ],
          "surface": [
           {
            "colorbar": {
             "outlinewidth": 1,
             "tickcolor": "rgb(36,36,36)",
             "ticks": "outside"
            },
            "colorscale": [
             [
              0,
              "#440154"
             ],
             [
              0.1111111111111111,
              "#482878"
             ],
             [
              0.2222222222222222,
              "#3e4989"
             ],
             [
              0.3333333333333333,
              "#31688e"
             ],
             [
              0.4444444444444444,
              "#26828e"
             ],
             [
              0.5555555555555556,
              "#1f9e89"
             ],
             [
              0.6666666666666666,
              "#35b779"
             ],
             [
              0.7777777777777778,
              "#6ece58"
             ],
             [
              0.8888888888888888,
              "#b5de2b"
             ],
             [
              1,
              "#fde725"
             ]
            ],
            "type": "surface"
           }
          ],
          "table": [
           {
            "cells": {
             "fill": {
              "color": "rgb(237,237,237)"
             },
             "line": {
              "color": "white"
             }
            },
            "header": {
             "fill": {
              "color": "rgb(217,217,217)"
             },
             "line": {
              "color": "white"
             }
            },
            "type": "table"
           }
          ]
         },
         "layout": {
          "annotationdefaults": {
           "arrowhead": 0,
           "arrowwidth": 1
          },
          "autotypenumbers": "strict",
          "coloraxis": {
           "colorbar": {
            "outlinewidth": 1,
            "tickcolor": "rgb(36,36,36)",
            "ticks": "outside"
           }
          },
          "colorscale": {
           "diverging": [
            [
             0,
             "rgb(103,0,31)"
            ],
            [
             0.1,
             "rgb(178,24,43)"
            ],
            [
             0.2,
             "rgb(214,96,77)"
            ],
            [
             0.3,
             "rgb(244,165,130)"
            ],
            [
             0.4,
             "rgb(253,219,199)"
            ],
            [
             0.5,
             "rgb(247,247,247)"
            ],
            [
             0.6,
             "rgb(209,229,240)"
            ],
            [
             0.7,
             "rgb(146,197,222)"
            ],
            [
             0.8,
             "rgb(67,147,195)"
            ],
            [
             0.9,
             "rgb(33,102,172)"
            ],
            [
             1,
             "rgb(5,48,97)"
            ]
           ],
           "sequential": [
            [
             0,
             "#440154"
            ],
            [
             0.1111111111111111,
             "#482878"
            ],
            [
             0.2222222222222222,
             "#3e4989"
            ],
            [
             0.3333333333333333,
             "#31688e"
            ],
            [
             0.4444444444444444,
             "#26828e"
            ],
            [
             0.5555555555555556,
             "#1f9e89"
            ],
            [
             0.6666666666666666,
             "#35b779"
            ],
            [
             0.7777777777777778,
             "#6ece58"
            ],
            [
             0.8888888888888888,
             "#b5de2b"
            ],
            [
             1,
             "#fde725"
            ]
           ],
           "sequentialminus": [
            [
             0,
             "#440154"
            ],
            [
             0.1111111111111111,
             "#482878"
            ],
            [
             0.2222222222222222,
             "#3e4989"
            ],
            [
             0.3333333333333333,
             "#31688e"
            ],
            [
             0.4444444444444444,
             "#26828e"
            ],
            [
             0.5555555555555556,
             "#1f9e89"
            ],
            [
             0.6666666666666666,
             "#35b779"
            ],
            [
             0.7777777777777778,
             "#6ece58"
            ],
            [
             0.8888888888888888,
             "#b5de2b"
            ],
            [
             1,
             "#fde725"
            ]
           ]
          },
          "colorway": [
           "#1F77B4",
           "#FF7F0E",
           "#2CA02C",
           "#D62728",
           "#9467BD",
           "#8C564B",
           "#E377C2",
           "#7F7F7F",
           "#BCBD22",
           "#17BECF"
          ],
          "font": {
           "color": "rgb(36,36,36)"
          },
          "geo": {
           "bgcolor": "white",
           "lakecolor": "white",
           "landcolor": "white",
           "showlakes": true,
           "showland": true,
           "subunitcolor": "white"
          },
          "hoverlabel": {
           "align": "left"
          },
          "hovermode": "closest",
          "mapbox": {
           "style": "light"
          },
          "paper_bgcolor": "white",
          "plot_bgcolor": "white",
          "polar": {
           "angularaxis": {
            "gridcolor": "rgb(232,232,232)",
            "linecolor": "rgb(36,36,36)",
            "showgrid": false,
            "showline": true,
            "ticks": "outside"
           },
           "bgcolor": "white",
           "radialaxis": {
            "gridcolor": "rgb(232,232,232)",
            "linecolor": "rgb(36,36,36)",
            "showgrid": false,
            "showline": true,
            "ticks": "outside"
           }
          },
          "scene": {
           "xaxis": {
            "backgroundcolor": "white",
            "gridcolor": "rgb(232,232,232)",
            "gridwidth": 2,
            "linecolor": "rgb(36,36,36)",
            "showbackground": true,
            "showgrid": false,
            "showline": true,
            "ticks": "outside",
            "zeroline": false,
            "zerolinecolor": "rgb(36,36,36)"
           },
           "yaxis": {
            "backgroundcolor": "white",
            "gridcolor": "rgb(232,232,232)",
            "gridwidth": 2,
            "linecolor": "rgb(36,36,36)",
            "showbackground": true,
            "showgrid": false,
            "showline": true,
            "ticks": "outside",
            "zeroline": false,
            "zerolinecolor": "rgb(36,36,36)"
           },
           "zaxis": {
            "backgroundcolor": "white",
            "gridcolor": "rgb(232,232,232)",
            "gridwidth": 2,
            "linecolor": "rgb(36,36,36)",
            "showbackground": true,
            "showgrid": false,
            "showline": true,
            "ticks": "outside",
            "zeroline": false,
            "zerolinecolor": "rgb(36,36,36)"
           }
          },
          "shapedefaults": {
           "fillcolor": "black",
           "line": {
            "width": 0
           },
           "opacity": 0.3
          },
          "ternary": {
           "aaxis": {
            "gridcolor": "rgb(232,232,232)",
            "linecolor": "rgb(36,36,36)",
            "showgrid": false,
            "showline": true,
            "ticks": "outside"
           },
           "baxis": {
            "gridcolor": "rgb(232,232,232)",
            "linecolor": "rgb(36,36,36)",
            "showgrid": false,
            "showline": true,
            "ticks": "outside"
           },
           "bgcolor": "white",
           "caxis": {
            "gridcolor": "rgb(232,232,232)",
            "linecolor": "rgb(36,36,36)",
            "showgrid": false,
            "showline": true,
            "ticks": "outside"
           }
          },
          "title": {
           "x": 0.05
          },
          "xaxis": {
           "automargin": true,
           "gridcolor": "rgb(232,232,232)",
           "linecolor": "rgb(36,36,36)",
           "showgrid": false,
           "showline": true,
           "ticks": "outside",
           "title": {
            "standoff": 15
           },
           "zeroline": false,
           "zerolinecolor": "rgb(36,36,36)"
          },
          "yaxis": {
           "automargin": true,
           "gridcolor": "rgb(232,232,232)",
           "linecolor": "rgb(36,36,36)",
           "showgrid": false,
           "showline": true,
           "ticks": "outside",
           "title": {
            "standoff": 15
           },
           "zeroline": false,
           "zerolinecolor": "rgb(36,36,36)"
          }
         }
        },
        "title": {
         "text": "Evolución mensual de los precios del SICEP del agente EBPC<br>Periodo: 2022-01-01 a 2024-12-31"
        },
        "width": 1000,
        "xaxis": {
         "gridcolor": "lightgray",
         "showgrid": true,
         "title": {
          "text": "Fecha"
         }
        },
        "yaxis": {
         "gridcolor": "lightgray",
         "showgrid": true,
         "title": {
          "text": "Precios de contratos del SICEP"
         }
        }
       }
      }
     },
     "metadata": {},
     "output_type": "display_data"
    }
   ],
   "source": [
    "codigo_agente_comprador = 'EBPC'\n",
    "\n",
    "comparar_sistema = True\n",
    "\n",
    "titulo = 'Evolución mensual de los precios del SICEP del agente ' + codigo_agente_comprador + '<br>Periodo: {fecha_inicial} a {fecha_final}'.format(fecha_inicial=fecha_inicial_precios, fecha_final=fecha_final_precios)\n",
    "\n",
    "df_precios_agente_filtrado = df_precios_agente[df_precios_agente['CodigoAgenteComprador']==codigo_agente_comprador] \n",
    "\n",
    "df_precios_agente_filtrado.sort_values(by=['Fecha'], ascending=[True], inplace=True) \n",
    "\n",
    "if comparar_sistema:\n",
    "    df_precios_agente_filtrado = df_precios_agente_filtrado.merge(df_precios_sistema, on = 'Fecha', how='left', suffixes=('', '_Sistema'))  \n",
    "    \n",
    "    graficar_precios(df=df_precios_agente_filtrado, titulo=titulo, \n",
    "                    color=['blue', 'green', 'yellow', 'blue', 'red', 'red'],\n",
    "                    nombre_variable=['Precio Mínimo', 'PPS', 'PPP', 'Precio Máximo', 'Precio Máximo Sistema', 'Precio mínimo Sistema'], \n",
    "                    nombre_eje_x='Fecha', \n",
    "                    nombre_eje_y=['PrecioMinimo', 'PPS', 'PPP', 'PrecioMaximo', 'PrecioMaximo_Sistema', 'PrecioMinimo_Sistema'], \n",
    "                    tipo_linea=['dot', 'solid', 'solid', 'dot', 'dot', 'dot'], \n",
    "                    titulo_y='Precios de contratos del SICEP'\n",
    "                    )\n",
    "else:\n",
    "    graficar_precios(df=df_precios_agente_filtrado, titulo=titulo, \n",
    "                    color=['blue', 'green', 'red', 'blue'],\n",
    "                    nombre_variable=['Precio Mínimo', 'PPS', 'PPP', 'Precio Máximo'], \n",
    "                    nombre_eje_x='Fecha', \n",
    "                    nombre_eje_y=['PrecioMinimo', 'PPS', 'PPP', 'PrecioMaximo'], \n",
    "                    tipo_linea=['dot', 'solid', 'solid', 'dot'], \n",
    "                    titulo_y='Precios de contratos del SICEP'\n",
    "                    )"
   ]
  },
  {
   "cell_type": "markdown",
   "metadata": {},
   "source": [
    "## Analisis de cantidades de contratos del SICEP "
   ]
  },
  {
   "cell_type": "code",
   "execution_count": 13,
   "metadata": {},
   "outputs": [
    {
     "data": {
      "application/vnd.plotly.v1+json": {
       "config": {
        "plotlyServerURL": "https://plot.ly"
       },
       "data": [
        {
         "link": {
          "source": [
           0,
           0,
           0,
           0,
           0,
           0,
           0,
           0,
           0,
           0,
           0,
           0,
           0,
           0,
           0,
           0,
           0,
           0,
           0,
           0,
           0,
           0,
           0,
           0,
           0,
           0,
           0,
           0,
           0,
           0,
           0,
           0,
           0,
           0,
           0,
           0,
           0,
           0,
           0,
           0,
           0,
           0,
           0,
           0,
           0,
           0,
           0,
           0,
           0,
           0,
           0,
           0,
           0,
           0,
           0,
           0,
           0,
           0,
           0,
           0,
           0,
           0,
           0,
           0
          ],
          "target": [
           1,
           2,
           3,
           4,
           5,
           6,
           7,
           8,
           9,
           10,
           11,
           12,
           13,
           14,
           15,
           16,
           17,
           18,
           19,
           20,
           21,
           22,
           23,
           24,
           25,
           26,
           27,
           28,
           29,
           30,
           31,
           32,
           33,
           34,
           35,
           36,
           37,
           38,
           39,
           40,
           41,
           42,
           43,
           44,
           45,
           46,
           47,
           48,
           49,
           50,
           51,
           52,
           53,
           54,
           55,
           56,
           57,
           58,
           59,
           60,
           61,
           62,
           63,
           64
          ],
          "value": [
           373.47552348,
           268.68884477999995,
           211.22403147,
           84.544106,
           78.83358048000001,
           72.77596633,
           70.1012478,
           66.82772438,
           63.21577778,
           47.646599280000004,
           41.86426744,
           37.98222737,
           33.80131391,
           31.63829779,
           25.09889361,
           23.122435,
           19.48961568,
           17.39882006,
           14.57651521,
           11.819360490000001,
           10.98509994,
           10.55171335,
           5.58,
           4.554659200000001,
           4.403573639999999,
           4.12039104,
           2.91415779,
           2.5923310099999997,
           2.046,
           1.375494,
           1.358019,
           0.5880441,
           0.46450215,
           0.41606761999999997,
           0.041602,
           0,
           null,
           null,
           null,
           null,
           null,
           null,
           null,
           null,
           null,
           null,
           null,
           null,
           null,
           null,
           null,
           null,
           null,
           null,
           null,
           null,
           null,
           null,
           null,
           null,
           null,
           null,
           null,
           null
          ]
         },
         "node": {
          "color": "blue",
          "label": [
           "Sistema",
           "ENDC\n373.48 GWh\n(22.69%)",
           "EPMC\n268.69 GWh\n(16.32%)",
           "CMMC\n211.22 GWh\n(12.83%)",
           "EPSC\n84.54 GWh\n(5.14%)",
           "GNCC\n78.83 GWh\n(4.79%)",
           "CSIC\n72.78 GWh\n(4.42%)",
           "ESSC\n70.10 GWh\n(4.26%)",
           "CNSC\n66.83 GWh\n(4.06%)",
           "CDNC\n63.22 GWh\n(3.84%)",
           "HLAC\n47.65 GWh\n(2.89%)",
           "CEOC\n41.86 GWh\n(2.54%)",
           "CHCC\n37.98 GWh\n(2.31%)",
           "EEPC\n33.80 GWh\n(2.05%)",
           "EMIC\n31.64 GWh\n(1.92%)",
           "CQTC\n25.10 GWh\n(1.52%)",
           "CASC\n23.12 GWh\n(1.40%)",
           "BIAC\n19.49 GWh\n(1.18%)",
           "EBSC\n17.40 GWh\n(1.06%)",
           "EDQC\n14.58 GWh\n(0.89%)",
           "EXEC\n11.82 GWh\n(0.72%)",
           "EDPC\n10.99 GWh\n(0.67%)",
           "NEUC\n10.55 GWh\n(0.64%)",
           "TENC\n5.58 GWh\n(0.34%)",
           "RTQC\n4.55 GWh\n(0.28%)",
           "EPTC\n4.40 GWh\n(0.27%)",
           "EBPC\n4.12 GWh\n(0.25%)",
           "EGVC\n2.91 GWh\n(0.18%)",
           "QIEC\n2.59 GWh\n(0.16%)",
           "EMSC\n2.05 GWh\n(0.12%)",
           "EMPC\n1.38 GWh\n(0.08%)",
           "ENIC\n1.36 GWh\n(0.08%)",
           "TPLC\n0.59 GWh\n(0.04%)",
           "ESOC\n0.46 GWh\n(0.03%)",
           "ESVC\n0.42 GWh\n(0.03%)",
           "ITLC\n0.04 GWh\n(0.00%)",
           "DLRC\n0.00 GWh\n(0.00%)",
           "nan\nnan GWh\n(nan%)",
           "nan\nnan GWh\n(nan%)",
           "nan\nnan GWh\n(nan%)",
           "nan\nnan GWh\n(nan%)",
           "nan\nnan GWh\n(nan%)",
           "nan\nnan GWh\n(nan%)",
           "nan\nnan GWh\n(nan%)",
           "nan\nnan GWh\n(nan%)",
           "nan\nnan GWh\n(nan%)",
           "nan\nnan GWh\n(nan%)",
           "nan\nnan GWh\n(nan%)",
           "nan\nnan GWh\n(nan%)",
           "nan\nnan GWh\n(nan%)",
           "nan\nnan GWh\n(nan%)",
           "nan\nnan GWh\n(nan%)",
           "nan\nnan GWh\n(nan%)",
           "nan\nnan GWh\n(nan%)",
           "nan\nnan GWh\n(nan%)",
           "nan\nnan GWh\n(nan%)",
           "nan\nnan GWh\n(nan%)",
           "nan\nnan GWh\n(nan%)",
           "nan\nnan GWh\n(nan%)",
           "nan\nnan GWh\n(nan%)",
           "nan\nnan GWh\n(nan%)",
           "nan\nnan GWh\n(nan%)",
           "nan\nnan GWh\n(nan%)",
           "nan\nnan GWh\n(nan%)",
           "nan\nnan GWh\n(nan%)"
          ],
          "line": {
           "color": "black",
           "width": 0.5
          },
          "pad": 15,
          "thickness": 20
         },
         "type": "sankey"
        }
       ],
       "layout": {
        "height": 1100,
        "template": {
         "data": {
          "bar": [
           {
            "error_x": {
             "color": "rgb(36,36,36)"
            },
            "error_y": {
             "color": "rgb(36,36,36)"
            },
            "marker": {
             "line": {
              "color": "white",
              "width": 0.5
             },
             "pattern": {
              "fillmode": "overlay",
              "size": 10,
              "solidity": 0.2
             }
            },
            "type": "bar"
           }
          ],
          "barpolar": [
           {
            "marker": {
             "line": {
              "color": "white",
              "width": 0.5
             },
             "pattern": {
              "fillmode": "overlay",
              "size": 10,
              "solidity": 0.2
             }
            },
            "type": "barpolar"
           }
          ],
          "carpet": [
           {
            "aaxis": {
             "endlinecolor": "rgb(36,36,36)",
             "gridcolor": "white",
             "linecolor": "white",
             "minorgridcolor": "white",
             "startlinecolor": "rgb(36,36,36)"
            },
            "baxis": {
             "endlinecolor": "rgb(36,36,36)",
             "gridcolor": "white",
             "linecolor": "white",
             "minorgridcolor": "white",
             "startlinecolor": "rgb(36,36,36)"
            },
            "type": "carpet"
           }
          ],
          "choropleth": [
           {
            "colorbar": {
             "outlinewidth": 1,
             "tickcolor": "rgb(36,36,36)",
             "ticks": "outside"
            },
            "type": "choropleth"
           }
          ],
          "contour": [
           {
            "colorbar": {
             "outlinewidth": 1,
             "tickcolor": "rgb(36,36,36)",
             "ticks": "outside"
            },
            "colorscale": [
             [
              0,
              "#440154"
             ],
             [
              0.1111111111111111,
              "#482878"
             ],
             [
              0.2222222222222222,
              "#3e4989"
             ],
             [
              0.3333333333333333,
              "#31688e"
             ],
             [
              0.4444444444444444,
              "#26828e"
             ],
             [
              0.5555555555555556,
              "#1f9e89"
             ],
             [
              0.6666666666666666,
              "#35b779"
             ],
             [
              0.7777777777777778,
              "#6ece58"
             ],
             [
              0.8888888888888888,
              "#b5de2b"
             ],
             [
              1,
              "#fde725"
             ]
            ],
            "type": "contour"
           }
          ],
          "contourcarpet": [
           {
            "colorbar": {
             "outlinewidth": 1,
             "tickcolor": "rgb(36,36,36)",
             "ticks": "outside"
            },
            "type": "contourcarpet"
           }
          ],
          "heatmap": [
           {
            "colorbar": {
             "outlinewidth": 1,
             "tickcolor": "rgb(36,36,36)",
             "ticks": "outside"
            },
            "colorscale": [
             [
              0,
              "#440154"
             ],
             [
              0.1111111111111111,
              "#482878"
             ],
             [
              0.2222222222222222,
              "#3e4989"
             ],
             [
              0.3333333333333333,
              "#31688e"
             ],
             [
              0.4444444444444444,
              "#26828e"
             ],
             [
              0.5555555555555556,
              "#1f9e89"
             ],
             [
              0.6666666666666666,
              "#35b779"
             ],
             [
              0.7777777777777778,
              "#6ece58"
             ],
             [
              0.8888888888888888,
              "#b5de2b"
             ],
             [
              1,
              "#fde725"
             ]
            ],
            "type": "heatmap"
           }
          ],
          "histogram": [
           {
            "marker": {
             "line": {
              "color": "white",
              "width": 0.6
             }
            },
            "type": "histogram"
           }
          ],
          "histogram2d": [
           {
            "colorbar": {
             "outlinewidth": 1,
             "tickcolor": "rgb(36,36,36)",
             "ticks": "outside"
            },
            "colorscale": [
             [
              0,
              "#440154"
             ],
             [
              0.1111111111111111,
              "#482878"
             ],
             [
              0.2222222222222222,
              "#3e4989"
             ],
             [
              0.3333333333333333,
              "#31688e"
             ],
             [
              0.4444444444444444,
              "#26828e"
             ],
             [
              0.5555555555555556,
              "#1f9e89"
             ],
             [
              0.6666666666666666,
              "#35b779"
             ],
             [
              0.7777777777777778,
              "#6ece58"
             ],
             [
              0.8888888888888888,
              "#b5de2b"
             ],
             [
              1,
              "#fde725"
             ]
            ],
            "type": "histogram2d"
           }
          ],
          "histogram2dcontour": [
           {
            "colorbar": {
             "outlinewidth": 1,
             "tickcolor": "rgb(36,36,36)",
             "ticks": "outside"
            },
            "colorscale": [
             [
              0,
              "#440154"
             ],
             [
              0.1111111111111111,
              "#482878"
             ],
             [
              0.2222222222222222,
              "#3e4989"
             ],
             [
              0.3333333333333333,
              "#31688e"
             ],
             [
              0.4444444444444444,
              "#26828e"
             ],
             [
              0.5555555555555556,
              "#1f9e89"
             ],
             [
              0.6666666666666666,
              "#35b779"
             ],
             [
              0.7777777777777778,
              "#6ece58"
             ],
             [
              0.8888888888888888,
              "#b5de2b"
             ],
             [
              1,
              "#fde725"
             ]
            ],
            "type": "histogram2dcontour"
           }
          ],
          "mesh3d": [
           {
            "colorbar": {
             "outlinewidth": 1,
             "tickcolor": "rgb(36,36,36)",
             "ticks": "outside"
            },
            "type": "mesh3d"
           }
          ],
          "parcoords": [
           {
            "line": {
             "colorbar": {
              "outlinewidth": 1,
              "tickcolor": "rgb(36,36,36)",
              "ticks": "outside"
             }
            },
            "type": "parcoords"
           }
          ],
          "pie": [
           {
            "automargin": true,
            "type": "pie"
           }
          ],
          "scatter": [
           {
            "fillpattern": {
             "fillmode": "overlay",
             "size": 10,
             "solidity": 0.2
            },
            "type": "scatter"
           }
          ],
          "scatter3d": [
           {
            "line": {
             "colorbar": {
              "outlinewidth": 1,
              "tickcolor": "rgb(36,36,36)",
              "ticks": "outside"
             }
            },
            "marker": {
             "colorbar": {
              "outlinewidth": 1,
              "tickcolor": "rgb(36,36,36)",
              "ticks": "outside"
             }
            },
            "type": "scatter3d"
           }
          ],
          "scattercarpet": [
           {
            "marker": {
             "colorbar": {
              "outlinewidth": 1,
              "tickcolor": "rgb(36,36,36)",
              "ticks": "outside"
             }
            },
            "type": "scattercarpet"
           }
          ],
          "scattergeo": [
           {
            "marker": {
             "colorbar": {
              "outlinewidth": 1,
              "tickcolor": "rgb(36,36,36)",
              "ticks": "outside"
             }
            },
            "type": "scattergeo"
           }
          ],
          "scattergl": [
           {
            "marker": {
             "colorbar": {
              "outlinewidth": 1,
              "tickcolor": "rgb(36,36,36)",
              "ticks": "outside"
             }
            },
            "type": "scattergl"
           }
          ],
          "scattermap": [
           {
            "marker": {
             "colorbar": {
              "outlinewidth": 1,
              "tickcolor": "rgb(36,36,36)",
              "ticks": "outside"
             }
            },
            "type": "scattermap"
           }
          ],
          "scattermapbox": [
           {
            "marker": {
             "colorbar": {
              "outlinewidth": 1,
              "tickcolor": "rgb(36,36,36)",
              "ticks": "outside"
             }
            },
            "type": "scattermapbox"
           }
          ],
          "scatterpolar": [
           {
            "marker": {
             "colorbar": {
              "outlinewidth": 1,
              "tickcolor": "rgb(36,36,36)",
              "ticks": "outside"
             }
            },
            "type": "scatterpolar"
           }
          ],
          "scatterpolargl": [
           {
            "marker": {
             "colorbar": {
              "outlinewidth": 1,
              "tickcolor": "rgb(36,36,36)",
              "ticks": "outside"
             }
            },
            "type": "scatterpolargl"
           }
          ],
          "scatterternary": [
           {
            "marker": {
             "colorbar": {
              "outlinewidth": 1,
              "tickcolor": "rgb(36,36,36)",
              "ticks": "outside"
             }
            },
            "type": "scatterternary"
           }
          ],
          "surface": [
           {
            "colorbar": {
             "outlinewidth": 1,
             "tickcolor": "rgb(36,36,36)",
             "ticks": "outside"
            },
            "colorscale": [
             [
              0,
              "#440154"
             ],
             [
              0.1111111111111111,
              "#482878"
             ],
             [
              0.2222222222222222,
              "#3e4989"
             ],
             [
              0.3333333333333333,
              "#31688e"
             ],
             [
              0.4444444444444444,
              "#26828e"
             ],
             [
              0.5555555555555556,
              "#1f9e89"
             ],
             [
              0.6666666666666666,
              "#35b779"
             ],
             [
              0.7777777777777778,
              "#6ece58"
             ],
             [
              0.8888888888888888,
              "#b5de2b"
             ],
             [
              1,
              "#fde725"
             ]
            ],
            "type": "surface"
           }
          ],
          "table": [
           {
            "cells": {
             "fill": {
              "color": "rgb(237,237,237)"
             },
             "line": {
              "color": "white"
             }
            },
            "header": {
             "fill": {
              "color": "rgb(217,217,217)"
             },
             "line": {
              "color": "white"
             }
            },
            "type": "table"
           }
          ]
         },
         "layout": {
          "annotationdefaults": {
           "arrowhead": 0,
           "arrowwidth": 1
          },
          "autotypenumbers": "strict",
          "coloraxis": {
           "colorbar": {
            "outlinewidth": 1,
            "tickcolor": "rgb(36,36,36)",
            "ticks": "outside"
           }
          },
          "colorscale": {
           "diverging": [
            [
             0,
             "rgb(103,0,31)"
            ],
            [
             0.1,
             "rgb(178,24,43)"
            ],
            [
             0.2,
             "rgb(214,96,77)"
            ],
            [
             0.3,
             "rgb(244,165,130)"
            ],
            [
             0.4,
             "rgb(253,219,199)"
            ],
            [
             0.5,
             "rgb(247,247,247)"
            ],
            [
             0.6,
             "rgb(209,229,240)"
            ],
            [
             0.7,
             "rgb(146,197,222)"
            ],
            [
             0.8,
             "rgb(67,147,195)"
            ],
            [
             0.9,
             "rgb(33,102,172)"
            ],
            [
             1,
             "rgb(5,48,97)"
            ]
           ],
           "sequential": [
            [
             0,
             "#440154"
            ],
            [
             0.1111111111111111,
             "#482878"
            ],
            [
             0.2222222222222222,
             "#3e4989"
            ],
            [
             0.3333333333333333,
             "#31688e"
            ],
            [
             0.4444444444444444,
             "#26828e"
            ],
            [
             0.5555555555555556,
             "#1f9e89"
            ],
            [
             0.6666666666666666,
             "#35b779"
            ],
            [
             0.7777777777777778,
             "#6ece58"
            ],
            [
             0.8888888888888888,
             "#b5de2b"
            ],
            [
             1,
             "#fde725"
            ]
           ],
           "sequentialminus": [
            [
             0,
             "#440154"
            ],
            [
             0.1111111111111111,
             "#482878"
            ],
            [
             0.2222222222222222,
             "#3e4989"
            ],
            [
             0.3333333333333333,
             "#31688e"
            ],
            [
             0.4444444444444444,
             "#26828e"
            ],
            [
             0.5555555555555556,
             "#1f9e89"
            ],
            [
             0.6666666666666666,
             "#35b779"
            ],
            [
             0.7777777777777778,
             "#6ece58"
            ],
            [
             0.8888888888888888,
             "#b5de2b"
            ],
            [
             1,
             "#fde725"
            ]
           ]
          },
          "colorway": [
           "#1F77B4",
           "#FF7F0E",
           "#2CA02C",
           "#D62728",
           "#9467BD",
           "#8C564B",
           "#E377C2",
           "#7F7F7F",
           "#BCBD22",
           "#17BECF"
          ],
          "font": {
           "color": "rgb(36,36,36)"
          },
          "geo": {
           "bgcolor": "white",
           "lakecolor": "white",
           "landcolor": "white",
           "showlakes": true,
           "showland": true,
           "subunitcolor": "white"
          },
          "hoverlabel": {
           "align": "left"
          },
          "hovermode": "closest",
          "mapbox": {
           "style": "light"
          },
          "paper_bgcolor": "white",
          "plot_bgcolor": "white",
          "polar": {
           "angularaxis": {
            "gridcolor": "rgb(232,232,232)",
            "linecolor": "rgb(36,36,36)",
            "showgrid": false,
            "showline": true,
            "ticks": "outside"
           },
           "bgcolor": "white",
           "radialaxis": {
            "gridcolor": "rgb(232,232,232)",
            "linecolor": "rgb(36,36,36)",
            "showgrid": false,
            "showline": true,
            "ticks": "outside"
           }
          },
          "scene": {
           "xaxis": {
            "backgroundcolor": "white",
            "gridcolor": "rgb(232,232,232)",
            "gridwidth": 2,
            "linecolor": "rgb(36,36,36)",
            "showbackground": true,
            "showgrid": false,
            "showline": true,
            "ticks": "outside",
            "zeroline": false,
            "zerolinecolor": "rgb(36,36,36)"
           },
           "yaxis": {
            "backgroundcolor": "white",
            "gridcolor": "rgb(232,232,232)",
            "gridwidth": 2,
            "linecolor": "rgb(36,36,36)",
            "showbackground": true,
            "showgrid": false,
            "showline": true,
            "ticks": "outside",
            "zeroline": false,
            "zerolinecolor": "rgb(36,36,36)"
           },
           "zaxis": {
            "backgroundcolor": "white",
            "gridcolor": "rgb(232,232,232)",
            "gridwidth": 2,
            "linecolor": "rgb(36,36,36)",
            "showbackground": true,
            "showgrid": false,
            "showline": true,
            "ticks": "outside",
            "zeroline": false,
            "zerolinecolor": "rgb(36,36,36)"
           }
          },
          "shapedefaults": {
           "fillcolor": "black",
           "line": {
            "width": 0
           },
           "opacity": 0.3
          },
          "ternary": {
           "aaxis": {
            "gridcolor": "rgb(232,232,232)",
            "linecolor": "rgb(36,36,36)",
            "showgrid": false,
            "showline": true,
            "ticks": "outside"
           },
           "baxis": {
            "gridcolor": "rgb(232,232,232)",
            "linecolor": "rgb(36,36,36)",
            "showgrid": false,
            "showline": true,
            "ticks": "outside"
           },
           "bgcolor": "white",
           "caxis": {
            "gridcolor": "rgb(232,232,232)",
            "linecolor": "rgb(36,36,36)",
            "showgrid": false,
            "showline": true,
            "ticks": "outside"
           }
          },
          "title": {
           "x": 0.05
          },
          "xaxis": {
           "automargin": true,
           "gridcolor": "rgb(232,232,232)",
           "linecolor": "rgb(36,36,36)",
           "showgrid": false,
           "showline": true,
           "ticks": "outside",
           "title": {
            "standoff": 15
           },
           "zeroline": false,
           "zerolinecolor": "rgb(36,36,36)"
          },
          "yaxis": {
           "automargin": true,
           "gridcolor": "rgb(232,232,232)",
           "linecolor": "rgb(36,36,36)",
           "showgrid": false,
           "showline": true,
           "ticks": "outside",
           "title": {
            "standoff": 15
           },
           "zeroline": false,
           "zerolinecolor": "rgb(36,36,36)"
          }
         }
        },
        "title": {
         "text": "Energía Despachada por contratos del SICEP<br>Total Energia Despachada: 1646.12 GWh<br>Periodo: 2024-12-01 a 2024-12-31"
        },
        "width": 1100
       }
      }
     },
     "metadata": {},
     "output_type": "display_data"
    }
   ],
   "source": [
    "df_cantidades_agente_agrupado.sort_values(by=[\"EnergiaDespachada\"], inplace = True, ascending = False)\n",
    "\n",
    "\n",
    "# Calcular el total de energía despachada\n",
    "total_energia = df_cantidades_agente_agrupado['EnergiaDespachada'].sum()\n",
    "\n",
    "# Crear etiquetas con porcentaje y valor total\n",
    "labels = ['Sistema']\n",
    "for idx, row in df_cantidades_agente_agrupado.iterrows():\n",
    "    valor = row['EnergiaDespachada']\n",
    "    porcentaje = valor / total_energia * 100\n",
    "    etiqueta = f\"{row['CodigoAgenteComprador']}\\n{valor:.2f} GWh\\n({porcentaje:.2f}%)\"\n",
    "    labels.append(etiqueta)\n",
    "\n",
    "\n",
    "\n",
    "fig = go.Figure(data=[go.Sankey(\n",
    "    node=dict(\n",
    "        pad=15,\n",
    "        thickness=20,\n",
    "        line=dict(color=\"black\", width=0.5),\n",
    "        label=labels,\n",
    "        color='blue'\n",
    "    ),\n",
    "    link=dict(\n",
    "        source=[0] * len(df_cantidades_agente_agrupado),\n",
    "        target=list(range(1, len(df_cantidades_agente_agrupado) + 1)),\n",
    "        value=df_cantidades_agente_agrupado['EnergiaDespachada'].tolist()\n",
    "    )\n",
    ")])\n",
    "\n",
    "fig.update_layout(\n",
    "    title=f\"Energía Despachada por contratos del SICEP<br>Total Energia Despachada: {total_energia:.2f} GWh<br>Periodo: {fecha_inicial_cantidades} a {fecha_final_cantidades}\",\n",
    "    width=1100,\n",
    "    height=1100,\n",
    "    template='simple_white'\n",
    ")\n",
    "\n",
    "fig.show() "
   ]
  },
  {
   "cell_type": "markdown",
   "metadata": {},
   "source": [
    "Analisis de cantidades de contratos del SICEP por agente"
   ]
  },
  {
   "cell_type": "code",
   "execution_count": 14,
   "metadata": {},
   "outputs": [
    {
     "data": {
      "application/vnd.plotly.v1+json": {
       "config": {
        "plotlyServerURL": "https://plot.ly"
       },
       "data": [
        {
         "link": {
          "source": [
           0,
           0,
           1,
           1,
           2
          ],
          "target": [
           1,
           2,
           3,
           4,
           5
          ],
          "value": [
           655.6111600700001,
           368.1064411400001,
           386.9223152900001,
           268.68884477999995,
           368.1064411400001
          ]
         },
         "node": {
          "color": "blue",
          "label": [
           "Demanda Comercial EPMC\n1311.22 GWh\n(100.0%)",
           "Demanda Regulada\n655.61 GWh\n(50.0%)",
           "Demanda No Regulada\n368.11 GWh\n(28.1%)",
           "Otros Mecanismos\n386.92 GWh\n(59.0%)",
           "Contratos SICEP\n268.69 GWh\n(41.0%)",
           "Demanada No Regulada\n368.11 GWh\n(100.0%)"
          ],
          "line": {
           "color": "black",
           "width": 0.5
          },
          "pad": 15,
          "thickness": 20
         },
         "type": "sankey"
        }
       ],
       "layout": {
        "height": 600,
        "template": {
         "data": {
          "bar": [
           {
            "error_x": {
             "color": "rgb(36,36,36)"
            },
            "error_y": {
             "color": "rgb(36,36,36)"
            },
            "marker": {
             "line": {
              "color": "white",
              "width": 0.5
             },
             "pattern": {
              "fillmode": "overlay",
              "size": 10,
              "solidity": 0.2
             }
            },
            "type": "bar"
           }
          ],
          "barpolar": [
           {
            "marker": {
             "line": {
              "color": "white",
              "width": 0.5
             },
             "pattern": {
              "fillmode": "overlay",
              "size": 10,
              "solidity": 0.2
             }
            },
            "type": "barpolar"
           }
          ],
          "carpet": [
           {
            "aaxis": {
             "endlinecolor": "rgb(36,36,36)",
             "gridcolor": "white",
             "linecolor": "white",
             "minorgridcolor": "white",
             "startlinecolor": "rgb(36,36,36)"
            },
            "baxis": {
             "endlinecolor": "rgb(36,36,36)",
             "gridcolor": "white",
             "linecolor": "white",
             "minorgridcolor": "white",
             "startlinecolor": "rgb(36,36,36)"
            },
            "type": "carpet"
           }
          ],
          "choropleth": [
           {
            "colorbar": {
             "outlinewidth": 1,
             "tickcolor": "rgb(36,36,36)",
             "ticks": "outside"
            },
            "type": "choropleth"
           }
          ],
          "contour": [
           {
            "colorbar": {
             "outlinewidth": 1,
             "tickcolor": "rgb(36,36,36)",
             "ticks": "outside"
            },
            "colorscale": [
             [
              0,
              "#440154"
             ],
             [
              0.1111111111111111,
              "#482878"
             ],
             [
              0.2222222222222222,
              "#3e4989"
             ],
             [
              0.3333333333333333,
              "#31688e"
             ],
             [
              0.4444444444444444,
              "#26828e"
             ],
             [
              0.5555555555555556,
              "#1f9e89"
             ],
             [
              0.6666666666666666,
              "#35b779"
             ],
             [
              0.7777777777777778,
              "#6ece58"
             ],
             [
              0.8888888888888888,
              "#b5de2b"
             ],
             [
              1,
              "#fde725"
             ]
            ],
            "type": "contour"
           }
          ],
          "contourcarpet": [
           {
            "colorbar": {
             "outlinewidth": 1,
             "tickcolor": "rgb(36,36,36)",
             "ticks": "outside"
            },
            "type": "contourcarpet"
           }
          ],
          "heatmap": [
           {
            "colorbar": {
             "outlinewidth": 1,
             "tickcolor": "rgb(36,36,36)",
             "ticks": "outside"
            },
            "colorscale": [
             [
              0,
              "#440154"
             ],
             [
              0.1111111111111111,
              "#482878"
             ],
             [
              0.2222222222222222,
              "#3e4989"
             ],
             [
              0.3333333333333333,
              "#31688e"
             ],
             [
              0.4444444444444444,
              "#26828e"
             ],
             [
              0.5555555555555556,
              "#1f9e89"
             ],
             [
              0.6666666666666666,
              "#35b779"
             ],
             [
              0.7777777777777778,
              "#6ece58"
             ],
             [
              0.8888888888888888,
              "#b5de2b"
             ],
             [
              1,
              "#fde725"
             ]
            ],
            "type": "heatmap"
           }
          ],
          "histogram": [
           {
            "marker": {
             "line": {
              "color": "white",
              "width": 0.6
             }
            },
            "type": "histogram"
           }
          ],
          "histogram2d": [
           {
            "colorbar": {
             "outlinewidth": 1,
             "tickcolor": "rgb(36,36,36)",
             "ticks": "outside"
            },
            "colorscale": [
             [
              0,
              "#440154"
             ],
             [
              0.1111111111111111,
              "#482878"
             ],
             [
              0.2222222222222222,
              "#3e4989"
             ],
             [
              0.3333333333333333,
              "#31688e"
             ],
             [
              0.4444444444444444,
              "#26828e"
             ],
             [
              0.5555555555555556,
              "#1f9e89"
             ],
             [
              0.6666666666666666,
              "#35b779"
             ],
             [
              0.7777777777777778,
              "#6ece58"
             ],
             [
              0.8888888888888888,
              "#b5de2b"
             ],
             [
              1,
              "#fde725"
             ]
            ],
            "type": "histogram2d"
           }
          ],
          "histogram2dcontour": [
           {
            "colorbar": {
             "outlinewidth": 1,
             "tickcolor": "rgb(36,36,36)",
             "ticks": "outside"
            },
            "colorscale": [
             [
              0,
              "#440154"
             ],
             [
              0.1111111111111111,
              "#482878"
             ],
             [
              0.2222222222222222,
              "#3e4989"
             ],
             [
              0.3333333333333333,
              "#31688e"
             ],
             [
              0.4444444444444444,
              "#26828e"
             ],
             [
              0.5555555555555556,
              "#1f9e89"
             ],
             [
              0.6666666666666666,
              "#35b779"
             ],
             [
              0.7777777777777778,
              "#6ece58"
             ],
             [
              0.8888888888888888,
              "#b5de2b"
             ],
             [
              1,
              "#fde725"
             ]
            ],
            "type": "histogram2dcontour"
           }
          ],
          "mesh3d": [
           {
            "colorbar": {
             "outlinewidth": 1,
             "tickcolor": "rgb(36,36,36)",
             "ticks": "outside"
            },
            "type": "mesh3d"
           }
          ],
          "parcoords": [
           {
            "line": {
             "colorbar": {
              "outlinewidth": 1,
              "tickcolor": "rgb(36,36,36)",
              "ticks": "outside"
             }
            },
            "type": "parcoords"
           }
          ],
          "pie": [
           {
            "automargin": true,
            "type": "pie"
           }
          ],
          "scatter": [
           {
            "fillpattern": {
             "fillmode": "overlay",
             "size": 10,
             "solidity": 0.2
            },
            "type": "scatter"
           }
          ],
          "scatter3d": [
           {
            "line": {
             "colorbar": {
              "outlinewidth": 1,
              "tickcolor": "rgb(36,36,36)",
              "ticks": "outside"
             }
            },
            "marker": {
             "colorbar": {
              "outlinewidth": 1,
              "tickcolor": "rgb(36,36,36)",
              "ticks": "outside"
             }
            },
            "type": "scatter3d"
           }
          ],
          "scattercarpet": [
           {
            "marker": {
             "colorbar": {
              "outlinewidth": 1,
              "tickcolor": "rgb(36,36,36)",
              "ticks": "outside"
             }
            },
            "type": "scattercarpet"
           }
          ],
          "scattergeo": [
           {
            "marker": {
             "colorbar": {
              "outlinewidth": 1,
              "tickcolor": "rgb(36,36,36)",
              "ticks": "outside"
             }
            },
            "type": "scattergeo"
           }
          ],
          "scattergl": [
           {
            "marker": {
             "colorbar": {
              "outlinewidth": 1,
              "tickcolor": "rgb(36,36,36)",
              "ticks": "outside"
             }
            },
            "type": "scattergl"
           }
          ],
          "scattermap": [
           {
            "marker": {
             "colorbar": {
              "outlinewidth": 1,
              "tickcolor": "rgb(36,36,36)",
              "ticks": "outside"
             }
            },
            "type": "scattermap"
           }
          ],
          "scattermapbox": [
           {
            "marker": {
             "colorbar": {
              "outlinewidth": 1,
              "tickcolor": "rgb(36,36,36)",
              "ticks": "outside"
             }
            },
            "type": "scattermapbox"
           }
          ],
          "scatterpolar": [
           {
            "marker": {
             "colorbar": {
              "outlinewidth": 1,
              "tickcolor": "rgb(36,36,36)",
              "ticks": "outside"
             }
            },
            "type": "scatterpolar"
           }
          ],
          "scatterpolargl": [
           {
            "marker": {
             "colorbar": {
              "outlinewidth": 1,
              "tickcolor": "rgb(36,36,36)",
              "ticks": "outside"
             }
            },
            "type": "scatterpolargl"
           }
          ],
          "scatterternary": [
           {
            "marker": {
             "colorbar": {
              "outlinewidth": 1,
              "tickcolor": "rgb(36,36,36)",
              "ticks": "outside"
             }
            },
            "type": "scatterternary"
           }
          ],
          "surface": [
           {
            "colorbar": {
             "outlinewidth": 1,
             "tickcolor": "rgb(36,36,36)",
             "ticks": "outside"
            },
            "colorscale": [
             [
              0,
              "#440154"
             ],
             [
              0.1111111111111111,
              "#482878"
             ],
             [
              0.2222222222222222,
              "#3e4989"
             ],
             [
              0.3333333333333333,
              "#31688e"
             ],
             [
              0.4444444444444444,
              "#26828e"
             ],
             [
              0.5555555555555556,
              "#1f9e89"
             ],
             [
              0.6666666666666666,
              "#35b779"
             ],
             [
              0.7777777777777778,
              "#6ece58"
             ],
             [
              0.8888888888888888,
              "#b5de2b"
             ],
             [
              1,
              "#fde725"
             ]
            ],
            "type": "surface"
           }
          ],
          "table": [
           {
            "cells": {
             "fill": {
              "color": "rgb(237,237,237)"
             },
             "line": {
              "color": "white"
             }
            },
            "header": {
             "fill": {
              "color": "rgb(217,217,217)"
             },
             "line": {
              "color": "white"
             }
            },
            "type": "table"
           }
          ]
         },
         "layout": {
          "annotationdefaults": {
           "arrowhead": 0,
           "arrowwidth": 1
          },
          "autotypenumbers": "strict",
          "coloraxis": {
           "colorbar": {
            "outlinewidth": 1,
            "tickcolor": "rgb(36,36,36)",
            "ticks": "outside"
           }
          },
          "colorscale": {
           "diverging": [
            [
             0,
             "rgb(103,0,31)"
            ],
            [
             0.1,
             "rgb(178,24,43)"
            ],
            [
             0.2,
             "rgb(214,96,77)"
            ],
            [
             0.3,
             "rgb(244,165,130)"
            ],
            [
             0.4,
             "rgb(253,219,199)"
            ],
            [
             0.5,
             "rgb(247,247,247)"
            ],
            [
             0.6,
             "rgb(209,229,240)"
            ],
            [
             0.7,
             "rgb(146,197,222)"
            ],
            [
             0.8,
             "rgb(67,147,195)"
            ],
            [
             0.9,
             "rgb(33,102,172)"
            ],
            [
             1,
             "rgb(5,48,97)"
            ]
           ],
           "sequential": [
            [
             0,
             "#440154"
            ],
            [
             0.1111111111111111,
             "#482878"
            ],
            [
             0.2222222222222222,
             "#3e4989"
            ],
            [
             0.3333333333333333,
             "#31688e"
            ],
            [
             0.4444444444444444,
             "#26828e"
            ],
            [
             0.5555555555555556,
             "#1f9e89"
            ],
            [
             0.6666666666666666,
             "#35b779"
            ],
            [
             0.7777777777777778,
             "#6ece58"
            ],
            [
             0.8888888888888888,
             "#b5de2b"
            ],
            [
             1,
             "#fde725"
            ]
           ],
           "sequentialminus": [
            [
             0,
             "#440154"
            ],
            [
             0.1111111111111111,
             "#482878"
            ],
            [
             0.2222222222222222,
             "#3e4989"
            ],
            [
             0.3333333333333333,
             "#31688e"
            ],
            [
             0.4444444444444444,
             "#26828e"
            ],
            [
             0.5555555555555556,
             "#1f9e89"
            ],
            [
             0.6666666666666666,
             "#35b779"
            ],
            [
             0.7777777777777778,
             "#6ece58"
            ],
            [
             0.8888888888888888,
             "#b5de2b"
            ],
            [
             1,
             "#fde725"
            ]
           ]
          },
          "colorway": [
           "#1F77B4",
           "#FF7F0E",
           "#2CA02C",
           "#D62728",
           "#9467BD",
           "#8C564B",
           "#E377C2",
           "#7F7F7F",
           "#BCBD22",
           "#17BECF"
          ],
          "font": {
           "color": "rgb(36,36,36)"
          },
          "geo": {
           "bgcolor": "white",
           "lakecolor": "white",
           "landcolor": "white",
           "showlakes": true,
           "showland": true,
           "subunitcolor": "white"
          },
          "hoverlabel": {
           "align": "left"
          },
          "hovermode": "closest",
          "mapbox": {
           "style": "light"
          },
          "paper_bgcolor": "white",
          "plot_bgcolor": "white",
          "polar": {
           "angularaxis": {
            "gridcolor": "rgb(232,232,232)",
            "linecolor": "rgb(36,36,36)",
            "showgrid": false,
            "showline": true,
            "ticks": "outside"
           },
           "bgcolor": "white",
           "radialaxis": {
            "gridcolor": "rgb(232,232,232)",
            "linecolor": "rgb(36,36,36)",
            "showgrid": false,
            "showline": true,
            "ticks": "outside"
           }
          },
          "scene": {
           "xaxis": {
            "backgroundcolor": "white",
            "gridcolor": "rgb(232,232,232)",
            "gridwidth": 2,
            "linecolor": "rgb(36,36,36)",
            "showbackground": true,
            "showgrid": false,
            "showline": true,
            "ticks": "outside",
            "zeroline": false,
            "zerolinecolor": "rgb(36,36,36)"
           },
           "yaxis": {
            "backgroundcolor": "white",
            "gridcolor": "rgb(232,232,232)",
            "gridwidth": 2,
            "linecolor": "rgb(36,36,36)",
            "showbackground": true,
            "showgrid": false,
            "showline": true,
            "ticks": "outside",
            "zeroline": false,
            "zerolinecolor": "rgb(36,36,36)"
           },
           "zaxis": {
            "backgroundcolor": "white",
            "gridcolor": "rgb(232,232,232)",
            "gridwidth": 2,
            "linecolor": "rgb(36,36,36)",
            "showbackground": true,
            "showgrid": false,
            "showline": true,
            "ticks": "outside",
            "zeroline": false,
            "zerolinecolor": "rgb(36,36,36)"
           }
          },
          "shapedefaults": {
           "fillcolor": "black",
           "line": {
            "width": 0
           },
           "opacity": 0.3
          },
          "ternary": {
           "aaxis": {
            "gridcolor": "rgb(232,232,232)",
            "linecolor": "rgb(36,36,36)",
            "showgrid": false,
            "showline": true,
            "ticks": "outside"
           },
           "baxis": {
            "gridcolor": "rgb(232,232,232)",
            "linecolor": "rgb(36,36,36)",
            "showgrid": false,
            "showline": true,
            "ticks": "outside"
           },
           "bgcolor": "white",
           "caxis": {
            "gridcolor": "rgb(232,232,232)",
            "linecolor": "rgb(36,36,36)",
            "showgrid": false,
            "showline": true,
            "ticks": "outside"
           }
          },
          "title": {
           "x": 0.05
          },
          "xaxis": {
           "automargin": true,
           "gridcolor": "rgb(232,232,232)",
           "linecolor": "rgb(36,36,36)",
           "showgrid": false,
           "showline": true,
           "ticks": "outside",
           "title": {
            "standoff": 15
           },
           "zeroline": false,
           "zerolinecolor": "rgb(36,36,36)"
          },
          "yaxis": {
           "automargin": true,
           "gridcolor": "rgb(232,232,232)",
           "linecolor": "rgb(36,36,36)",
           "showgrid": false,
           "showline": true,
           "ticks": "outside",
           "title": {
            "standoff": 15
           },
           "zeroline": false,
           "zerolinecolor": "rgb(36,36,36)"
          }
         }
        },
        "title": {
         "text": "Flujo de Demanda Comercial a Destino y Energía Despachada para EPMC<br>Periodo: 2024-12-01 a 2024-12-31"
        },
        "width": 1100
       }
      }
     },
     "metadata": {},
     "output_type": "display_data"
    }
   ],
   "source": [
    "# Sankey multinivel por agente comprador \n",
    "codigo = 'EPMC'  # Reemplaza por el código que deseas\n",
    "filtro = df_cantidades_agente_agrupado['CodigoAgenteComprador'] == codigo\n",
    "df_filtrado = df_cantidades_agente_agrupado[filtro].copy()\n",
    "\n",
    "total_demanda_comercial = df_filtrado['DemandaComercial'].sum()\n",
    "total_demanda_reg = df_filtrado['DemandaComercialRegulada'].sum()\n",
    "total_demanda_noreg = df_filtrado['DemandaComercialNoRegulada'].sum()\n",
    "total_otros_mecanismos = df_filtrado['OtrosMecanismos'].sum()\n",
    "total_energia_despachada = df_filtrado['EnergiaDespachada'].sum()\n",
    "total_demanda_comercial_destino = df_filtrado['DemandaComercialNoRegulada'].sum()  # igual a total_demanda_noreg\n",
    "\n",
    "def label_valor_pct(nombre, valor, total):\n",
    "    pct = (valor / total * 100) if total else 0\n",
    "    return f\"{nombre}\\n{valor:.2f} GWh\\n({pct:.1f}%)\"\n",
    "\n",
    "labels = [\n",
    "    f\"Demanda Comercial {codigo}\\n{total_demanda_comercial:.2f} GWh\\n(100.0%)\",\n",
    "    label_valor_pct(\"Demanda Regulada\", total_demanda_reg, total_demanda_comercial),\n",
    "    label_valor_pct(\"Demanda No Regulada\", total_demanda_noreg, total_demanda_comercial),\n",
    "    label_valor_pct(\"Otros Mecanismos\", total_otros_mecanismos, total_demanda_reg),\n",
    "    label_valor_pct(\"Contratos SICEP\", total_energia_despachada, total_demanda_reg),\n",
    "    label_valor_pct(\"Demanada No Regulada\", total_demanda_comercial_destino, total_demanda_noreg)\n",
    "]\n",
    "\n",
    "source = []\n",
    "target = []\n",
    "value = []\n",
    "\n",
    "# DemandaComercial → TotalDemandaReg y TotalDemandaNoReg\n",
    "source += [0, 0]\n",
    "target += [1, 2]\n",
    "value += [total_demanda_reg, total_demanda_noreg]\n",
    "\n",
    "# TotalDemandaReg → OtrosMecanismos y EnergiaDespachada\n",
    "source += [1, 1]\n",
    "target += [3, 4]\n",
    "value += [total_otros_mecanismos, total_energia_despachada]\n",
    "\n",
    "# TotalDemandaNoReg → DemandaComercialDestino\n",
    "source.append(2)\n",
    "target.append(5)\n",
    "value.append(total_demanda_comercial_destino)\n",
    "\n",
    "fig = go.Figure(data=[go.Sankey(\n",
    "    node=dict(\n",
    "        pad=15,\n",
    "        thickness=20,\n",
    "        line=dict(color=\"black\", width=0.5),\n",
    "        label=labels,\n",
    "        color='blue'\n",
    "    ),\n",
    "    link=dict(\n",
    "        source=source,\n",
    "        target=target,\n",
    "        value=value\n",
    "    )\n",
    ")])\n",
    "\n",
    "fig.update_layout(\n",
    "    title=f\"Flujo de Demanda Comercial a Destino y Energía Despachada para {codigo}<br>Periodo: {fecha_inicial_cantidades} a {fecha_final_cantidades}\",\n",
    "    width=1100,\n",
    "    height=600,\n",
    "    template='simple_white'\n",
    ")\n",
    "\n",
    "fig.show()\n"
   ]
  }
 ],
 "metadata": {
  "kernelspec": {
   "display_name": "GAIA",
   "language": "python",
   "name": "python3"
  },
  "language_info": {
   "codemirror_mode": {
    "name": "ipython",
    "version": 3
   },
   "file_extension": ".py",
   "mimetype": "text/x-python",
   "name": "python",
   "nbconvert_exporter": "python",
   "pygments_lexer": "ipython3",
   "version": "3.10.11"
  }
 },
 "nbformat": 4,
 "nbformat_minor": 2
}
