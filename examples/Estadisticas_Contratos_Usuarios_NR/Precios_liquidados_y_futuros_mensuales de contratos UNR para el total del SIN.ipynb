{
 "cells": [
  {
   "attachments": {
    "SIMEM_logo_1.png": {
     "image/png": "[encoded data removed]"
    }
   },
   "cell_type": "markdown",
   "metadata": {},
   "source": [
    "![SIMEM_logo_1.png](attachment:SIMEM_logo_1.png)\n",
    "\n",
    "[SiMEM](https://www.simem.co/)"
   ]
  },
  {
   "cell_type": "markdown",
   "metadata": {},
   "source": [
    "## Caso de uso - Precios futuros horarios mensuales de contratos UNR para el total del SIN\n",
    "\n",
    "# Objetivos de este Notebook\n",
    "\n",
    "* Explicar cómo se realiza la instalación e importación de la librería pydataxm desde la consola para su uso en ambientes locales\n",
    "* Explicar cómo se pueden consultar los conjuntos de datos a través de la librería Pydataxm\n",
    "* Explicar cómo realizar el procesamiento y manipulación de los datos consultados\n",
    "* Explicar el análisis de los datos consultados para dar respuesta al caso de uso propuesto\n",
    " \n",
    "**Índice**\n",
    "\n",
    "1. [Instalación de librerías](#section1)\n",
    "\n",
    "2. [Importación de librerías](#section2)\n",
    "\n",
    "3. [Consultar información de los conjuntos de datos](#section3)\n",
    "\n",
    "4. [Manipulación de datos](#section4)\n",
    "\n",
    "5. [Análisis para dar respuesta al caso de uso](#section5)"
   ]
  },
  {
   "cell_type": "markdown",
   "metadata": {},
   "source": [
    "<a id='section1'></a>\n",
    "# 1. Instalación de la librería\n",
    "Ejecutar el siguiente comando en el CMD para instalar la librería de python."
   ]
  },
  {
   "cell_type": "code",
   "execution_count": 5,
   "metadata": {},
   "outputs": [],
   "source": [
    "# import sys\n",
    "# !{sys.executable} -m pip install pydataxm"
   ]
  },
  {
   "cell_type": "markdown",
   "metadata": {},
   "source": [
    "<a id='section2'></a>\n",
    "# 2. Importación de librerías"
   ]
  },
  {
   "cell_type": "code",
   "execution_count": 1,
   "metadata": {},
   "outputs": [],
   "source": [
    "import sys                                      # Proporciona acceso a variables y funciones del intérprete de Python\n",
    "from pydataxm.pydatasimem import ReadSIMEM, VariableSIMEM  # Importa clases para interactuar con datos del sistema SIMEM\n",
    "import pandas as pd                             # Librería para manipulación y análisis de datos en estructuras tipo DataFrame\n",
    "import datetime as dt                           # Módulo para trabajar con fechas y horas\n",
    "from datetime import timedelta                  # Importa la clase timedelta para operaciones con diferencias de tiempo\n",
    "import matplotlib.pyplot as plt                 # Librería que permite la visualización de datos, permitiendo crear variedad de gráficos"
   ]
  },
  {
   "cell_type": "markdown",
   "metadata": {},
   "source": [
    "<a id='section3'></a>\n",
    "# 3. Consultar información de los conjuntos de datos\n",
    "El método de extracción recibe los parámetros con los que se va a realizar la consulta.\n",
    "El datasetID para un conjunto particular se puede encontrar en el [catálogo de conjuntos de datos.](https://www.simem.co/pages/catalogodatos/51FC0A59-3A00-462C-B449-9CB8D5E007FB)  \n",
    "Para este ejemplo el conjunto a presentar es  [Precios futuros horarios mensuales de contratos con UNR para el total del SIN](https://www.simem.co/datadetail/ac949213-9527-45b4-82a8-3a2eb3a2b3cf)."
   ]
  },
  {
   "cell_type": "markdown",
   "metadata": {},
   "source": [
    "Se definen los parámetros de entrada y se crea el objeto ReadSIMEM() para realizar las consultas."
   ]
  },
  {
   "cell_type": "markdown",
   "metadata": {},
   "source": [
    "La función main contiene todo el proceso para transportar la información del dataset entre el rango de fechas solicitadas a un dataframe. Después de este paso, el proceso es de manipulación y visualización de datos."
   ]
  },
  {
   "cell_type": "code",
   "execution_count": 2,
   "metadata": {},
   "outputs": [
    {
     "name": "stdout",
     "output_type": "stream",
     "text": [
      "****************************************************************************************************\n",
      "Initializing object\n",
      "The object has been initialized with the dataset: \"Precios promedios mensuales de contratos con UNR para el total del SIN\"\n",
      "****************************************************************************************************\n",
      "Inicio consulta sincronica\n",
      "Creacion url: 0.0\n",
      "Extraccion de registros: 1.7805776596069336\n",
      "End of data extracting process\n",
      "****************************************************************************************************\n"
     ]
    },
    {
     "data": {
      "application/vnd.microsoft.datawrangler.viewer.v0+json": {
       "columns": [
        {
         "name": "index",
         "rawType": "int64",
         "type": "integer"
        },
        {
         "name": "FechaPublicacion",
         "rawType": "object",
         "type": "string"
        },
        {
         "name": "Fecha",
         "rawType": "object",
         "type": "string"
        },
        {
         "name": "CodigoDuracion",
         "rawType": "object",
         "type": "string"
        },
        {
         "name": "Componente",
         "rawType": "object",
         "type": "string"
        },
        {
         "name": "PPP",
         "rawType": "float64",
         "type": "float"
        },
        {
         "name": "PPS",
         "rawType": "float64",
         "type": "float"
        }
       ],
       "ref": "cdb38f77-a31f-4750-a1d0-dc4c40a1c172",
       "rows": [
        [
         "0",
         "2025-06-17",
         "2025-05-01",
         "P1M",
         "C+G",
         "320.8624",
         "335.8397"
        ],
        [
         "1",
         "2025-06-17",
         "2025-05-01",
         "P1M",
         "G",
         "309.5523",
         "321.065"
        ],
        [
         "2",
         "2025-06-17",
         "2025-05-01",
         "P1M",
         "C",
         "11.3107",
         "14.7752"
        ],
        [
         "3",
         "2025-05-16",
         "2025-04-01",
         "P1M",
         "C+G",
         "331.1552",
         "340.2"
        ],
        [
         "4",
         "2025-05-16",
         "2025-04-01",
         "P1M",
         "G",
         "314.0736",
         "321.5203"
        ],
        [
         "5",
         "2025-05-16",
         "2025-04-01",
         "P1M",
         "C",
         "17.0816",
         "18.6797"
        ],
        [
         "6",
         "2025-04-15",
         "2025-03-01",
         "P1M",
         "C+G",
         "325.9301",
         "338.1312"
        ],
        [
         "7",
         "2025-04-15",
         "2025-03-01",
         "P1M",
         "G",
         "314.3774",
         "324.6079"
        ],
        [
         "8",
         "2025-04-15",
         "2025-03-01",
         "P1M",
         "C",
         "11.5542",
         "13.5242"
        ],
        [
         "9",
         "2025-03-17",
         "2025-02-01",
         "P1M",
         "G",
         "340.39",
         "326.7033"
        ],
        [
         "10",
         "2025-03-17",
         "2025-02-01",
         "P1M",
         "C+G",
         "358.1132",
         "344.8975"
        ],
        [
         "11",
         "2025-03-17",
         "2025-02-01",
         "P1M",
         "C",
         "18.053",
         "18.3434"
        ],
        [
         "12",
         "2025-02-17",
         "2025-01-01",
         "P1M",
         "C",
         "14.2956",
         "13.702"
        ],
        [
         "13",
         "2025-02-17",
         "2025-01-01",
         "P1M",
         "C+G",
         "368.057",
         "344.3151"
        ],
        [
         "14",
         "2025-02-17",
         "2025-01-01",
         "P1M",
         "G",
         "354.0004",
         "330.7598"
        ],
        [
         "15",
         "2025-01-22",
         "2024-12-01",
         "P1M",
         "C",
         "16.3963",
         "17.6236"
        ],
        [
         "16",
         "2025-01-22",
         "2024-12-01",
         "P1M",
         "C+G",
         "414.7815",
         "362.7181"
        ],
        [
         "17",
         "2025-01-22",
         "2024-12-01",
         "P1M",
         "G",
         "398.3856",
         "345.0953"
        ],
        [
         "18",
         "2024-12-20",
         "2024-11-01",
         "P1M",
         "C",
         "13.1592",
         "15.0767"
        ],
        [
         "19",
         "2024-12-20",
         "2024-11-01",
         "P1M",
         "C+G",
         "356.5522",
         "353.6159"
        ]
       ],
       "shape": {
        "columns": 6,
        "rows": 20
       }
      },
      "text/html": [
       "<div>\n",
       "<style scoped>\n",
       "    .dataframe tbody tr th:only-of-type {\n",
       "        vertical-align: middle;\n",
       "    }\n",
       "\n",
       "    .dataframe tbody tr th {\n",
       "        vertical-align: top;\n",
       "    }\n",
       "\n",
       "    .dataframe thead th {\n",
       "        text-align: right;\n",
       "    }\n",
       "</style>\n",
       "<table border=\"1\" class=\"dataframe\">\n",
       "  <thead>\n",
       "    <tr style=\"text-align: right;\">\n",
       "      <th></th>\n",
       "      <th>FechaPublicacion</th>\n",
       "      <th>Fecha</th>\n",
       "      <th>CodigoDuracion</th>\n",
       "      <th>Componente</th>\n",
       "      <th>PPP</th>\n",
       "      <th>PPS</th>\n",
       "    </tr>\n",
       "  </thead>\n",
       "  <tbody>\n",
       "    <tr>\n",
       "      <th>0</th>\n",
       "      <td>2025-06-17</td>\n",
       "      <td>2025-05-01</td>\n",
       "      <td>P1M</td>\n",
       "      <td>C+G</td>\n",
       "      <td>320.8624</td>\n",
       "      <td>335.8397</td>\n",
       "    </tr>\n",
       "    <tr>\n",
       "      <th>1</th>\n",
       "      <td>2025-06-17</td>\n",
       "      <td>2025-05-01</td>\n",
       "      <td>P1M</td>\n",
       "      <td>G</td>\n",
       "      <td>309.5523</td>\n",
       "      <td>321.0650</td>\n",
       "    </tr>\n",
       "    <tr>\n",
       "      <th>2</th>\n",
       "      <td>2025-06-17</td>\n",
       "      <td>2025-05-01</td>\n",
       "      <td>P1M</td>\n",
       "      <td>C</td>\n",
       "      <td>11.3107</td>\n",
       "      <td>14.7752</td>\n",
       "    </tr>\n",
       "    <tr>\n",
       "      <th>3</th>\n",
       "      <td>2025-05-16</td>\n",
       "      <td>2025-04-01</td>\n",
       "      <td>P1M</td>\n",
       "      <td>C+G</td>\n",
       "      <td>331.1552</td>\n",
       "      <td>340.2000</td>\n",
       "    </tr>\n",
       "    <tr>\n",
       "      <th>4</th>\n",
       "      <td>2025-05-16</td>\n",
       "      <td>2025-04-01</td>\n",
       "      <td>P1M</td>\n",
       "      <td>G</td>\n",
       "      <td>314.0736</td>\n",
       "      <td>321.5203</td>\n",
       "    </tr>\n",
       "    <tr>\n",
       "      <th>5</th>\n",
       "      <td>2025-05-16</td>\n",
       "      <td>2025-04-01</td>\n",
       "      <td>P1M</td>\n",
       "      <td>C</td>\n",
       "      <td>17.0816</td>\n",
       "      <td>18.6797</td>\n",
       "    </tr>\n",
       "    <tr>\n",
       "      <th>6</th>\n",
       "      <td>2025-04-15</td>\n",
       "      <td>2025-03-01</td>\n",
       "      <td>P1M</td>\n",
       "      <td>C+G</td>\n",
       "      <td>325.9301</td>\n",
       "      <td>338.1312</td>\n",
       "    </tr>\n",
       "    <tr>\n",
       "      <th>7</th>\n",
       "      <td>2025-04-15</td>\n",
       "      <td>2025-03-01</td>\n",
       "      <td>P1M</td>\n",
       "      <td>G</td>\n",
       "      <td>314.3774</td>\n",
       "      <td>324.6079</td>\n",
       "    </tr>\n",
       "    <tr>\n",
       "      <th>8</th>\n",
       "      <td>2025-04-15</td>\n",
       "      <td>2025-03-01</td>\n",
       "      <td>P1M</td>\n",
       "      <td>C</td>\n",
       "      <td>11.5542</td>\n",
       "      <td>13.5242</td>\n",
       "    </tr>\n",
       "    <tr>\n",
       "      <th>9</th>\n",
       "      <td>2025-03-17</td>\n",
       "      <td>2025-02-01</td>\n",
       "      <td>P1M</td>\n",
       "      <td>G</td>\n",
       "      <td>340.3900</td>\n",
       "      <td>326.7033</td>\n",
       "    </tr>\n",
       "    <tr>\n",
       "      <th>10</th>\n",
       "      <td>2025-03-17</td>\n",
       "      <td>2025-02-01</td>\n",
       "      <td>P1M</td>\n",
       "      <td>C+G</td>\n",
       "      <td>358.1132</td>\n",
       "      <td>344.8975</td>\n",
       "    </tr>\n",
       "    <tr>\n",
       "      <th>11</th>\n",
       "      <td>2025-03-17</td>\n",
       "      <td>2025-02-01</td>\n",
       "      <td>P1M</td>\n",
       "      <td>C</td>\n",
       "      <td>18.0530</td>\n",
       "      <td>18.3434</td>\n",
       "    </tr>\n",
       "    <tr>\n",
       "      <th>12</th>\n",
       "      <td>2025-02-17</td>\n",
       "      <td>2025-01-01</td>\n",
       "      <td>P1M</td>\n",
       "      <td>C</td>\n",
       "      <td>14.2956</td>\n",
       "      <td>13.7020</td>\n",
       "    </tr>\n",
       "    <tr>\n",
       "      <th>13</th>\n",
       "      <td>2025-02-17</td>\n",
       "      <td>2025-01-01</td>\n",
       "      <td>P1M</td>\n",
       "      <td>C+G</td>\n",
       "      <td>368.0570</td>\n",
       "      <td>344.3151</td>\n",
       "    </tr>\n",
       "    <tr>\n",
       "      <th>14</th>\n",
       "      <td>2025-02-17</td>\n",
       "      <td>2025-01-01</td>\n",
       "      <td>P1M</td>\n",
       "      <td>G</td>\n",
       "      <td>354.0004</td>\n",
       "      <td>330.7598</td>\n",
       "    </tr>\n",
       "    <tr>\n",
       "      <th>15</th>\n",
       "      <td>2025-01-22</td>\n",
       "      <td>2024-12-01</td>\n",
       "      <td>P1M</td>\n",
       "      <td>C</td>\n",
       "      <td>16.3963</td>\n",
       "      <td>17.6236</td>\n",
       "    </tr>\n",
       "    <tr>\n",
       "      <th>16</th>\n",
       "      <td>2025-01-22</td>\n",
       "      <td>2024-12-01</td>\n",
       "      <td>P1M</td>\n",
       "      <td>C+G</td>\n",
       "      <td>414.7815</td>\n",
       "      <td>362.7181</td>\n",
       "    </tr>\n",
       "    <tr>\n",
       "      <th>17</th>\n",
       "      <td>2025-01-22</td>\n",
       "      <td>2024-12-01</td>\n",
       "      <td>P1M</td>\n",
       "      <td>G</td>\n",
       "      <td>398.3856</td>\n",
       "      <td>345.0953</td>\n",
       "    </tr>\n",
       "    <tr>\n",
       "      <th>18</th>\n",
       "      <td>2024-12-20</td>\n",
       "      <td>2024-11-01</td>\n",
       "      <td>P1M</td>\n",
       "      <td>C</td>\n",
       "      <td>13.1592</td>\n",
       "      <td>15.0767</td>\n",
       "    </tr>\n",
       "    <tr>\n",
       "      <th>19</th>\n",
       "      <td>2024-12-20</td>\n",
       "      <td>2024-11-01</td>\n",
       "      <td>P1M</td>\n",
       "      <td>C+G</td>\n",
       "      <td>356.5522</td>\n",
       "      <td>353.6159</td>\n",
       "    </tr>\n",
       "  </tbody>\n",
       "</table>\n",
       "</div>"
      ],
      "text/plain": [
       "   FechaPublicacion       Fecha CodigoDuracion Componente       PPP       PPS\n",
       "0        2025-06-17  2025-05-01            P1M        C+G  320.8624  335.8397\n",
       "1        2025-06-17  2025-05-01            P1M          G  309.5523  321.0650\n",
       "2        2025-06-17  2025-05-01            P1M          C   11.3107   14.7752\n",
       "3        2025-05-16  2025-04-01            P1M        C+G  331.1552  340.2000\n",
       "4        2025-05-16  2025-04-01            P1M          G  314.0736  321.5203\n",
       "5        2025-05-16  2025-04-01            P1M          C   17.0816   18.6797\n",
       "6        2025-04-15  2025-03-01            P1M        C+G  325.9301  338.1312\n",
       "7        2025-04-15  2025-03-01            P1M          G  314.3774  324.6079\n",
       "8        2025-04-15  2025-03-01            P1M          C   11.5542   13.5242\n",
       "9        2025-03-17  2025-02-01            P1M          G  340.3900  326.7033\n",
       "10       2025-03-17  2025-02-01            P1M        C+G  358.1132  344.8975\n",
       "11       2025-03-17  2025-02-01            P1M          C   18.0530   18.3434\n",
       "12       2025-02-17  2025-01-01            P1M          C   14.2956   13.7020\n",
       "13       2025-02-17  2025-01-01            P1M        C+G  368.0570  344.3151\n",
       "14       2025-02-17  2025-01-01            P1M          G  354.0004  330.7598\n",
       "15       2025-01-22  2024-12-01            P1M          C   16.3963   17.6236\n",
       "16       2025-01-22  2024-12-01            P1M        C+G  414.7815  362.7181\n",
       "17       2025-01-22  2024-12-01            P1M          G  398.3856  345.0953\n",
       "18       2024-12-20  2024-11-01            P1M          C   13.1592   15.0767\n",
       "19       2024-12-20  2024-11-01            P1M        C+G  356.5522  353.6159"
      ]
     },
     "metadata": {},
     "output_type": "display_data"
    }
   ],
   "source": [
    "# Se consulta el conjuntos de datos de contratos UNR Históricos\n",
    "id_dataset_historical = '5f8082'                                      # ID del conjunto de datos a consultar\n",
    "fecha_inicial = '2024-05-01'                                          # Fecha de inicio del rango de consulta\n",
    "fecha_final = '2025-05-31'                                            # Fecha de fin del rango de consulta\n",
    "simem = ReadSIMEM(id_dataset_historical, fecha_inicial, fecha_final)  # Instancia de la clase ReadSIMEM con los parámetros definidos\n",
    "df_historical = simem.main()                                          # Ejecución del método principal para obtener los datos en un DataFrame\n",
    "display(df_historical.head(20))    "
   ]
  },
  {
   "cell_type": "code",
   "execution_count": 3,
   "metadata": {},
   "outputs": [
    {
     "name": "stdout",
     "output_type": "stream",
     "text": [
      "****************************************************************************************************\n",
      "Initializing object\n",
      "The object has been initialized with the dataset: \"Precios futuros horarios mensuales de contratos con UNR para el total del SIN\"\n",
      "****************************************************************************************************\n",
      "Inicio consulta sincronica\n",
      "Creacion url: 0.0012023448944091797\n",
      "Extraccion de registros: 4.049397230148315\n",
      "End of data extracting process\n",
      "****************************************************************************************************\n"
     ]
    },
    {
     "data": {
      "application/vnd.microsoft.datawrangler.viewer.v0+json": {
       "columns": [
        {
         "name": "index",
         "rawType": "int64",
         "type": "integer"
        },
        {
         "name": "FechaPublicacion",
         "rawType": "object",
         "type": "string"
        },
        {
         "name": "FechaProyectada",
         "rawType": "object",
         "type": "string"
        },
        {
         "name": "CodigoDuracion",
         "rawType": "object",
         "type": "string"
        },
        {
         "name": "Hora",
         "rawType": "int64",
         "type": "integer"
        },
        {
         "name": "Componente",
         "rawType": "object",
         "type": "string"
        },
        {
         "name": "PPP",
         "rawType": "float64",
         "type": "float"
        },
        {
         "name": "PPS",
         "rawType": "float64",
         "type": "float"
        }
       ],
       "ref": "262610f1-18a0-4c55-ae61-2b56b3bd7995",
       "rows": [
        [
         "0",
         "2024-03-19",
         "2026-05-01",
         "P1M",
         "9",
         "C+G",
         "408.3162",
         "317.4412"
        ],
        [
         "1",
         "2024-03-19",
         "2026-05-01",
         "P1M",
         "7",
         "G",
         "312.2799",
         "303.2227"
        ],
        [
         "2",
         "2024-03-19",
         "2026-05-01",
         "P1M",
         "1",
         "G",
         "309.6994",
         "303.2219"
        ],
        [
         "3",
         "2024-02-21",
         "2026-05-01",
         "P1M",
         "8",
         "C+G",
         "401.5931",
         "312.9524"
        ],
        [
         "4",
         "2024-02-21",
         "2026-05-01",
         "P1M",
         "21",
         "G",
         "305.0561",
         "299.8852"
        ],
        [
         "5",
         "2024-02-21",
         "2026-05-01",
         "P1M",
         "7",
         "C+G",
         "398.5333",
         "312.9443"
        ],
        [
         "6",
         "2024-02-21",
         "2026-05-01",
         "P1M",
         "19",
         "G",
         "305.7477",
         "299.8847"
        ],
        [
         "7",
         "2024-02-21",
         "2026-05-01",
         "P1M",
         "1",
         "G",
         "306.5414",
         "298.7977"
        ],
        [
         "8",
         "2024-02-21",
         "2026-05-01",
         "P1M",
         "18",
         "G",
         "306.985",
         "298.8756"
        ],
        [
         "9",
         "2024-02-21",
         "2026-05-01",
         "P1M",
         "14",
         "C+G",
         "408.3096",
         "312.977"
        ],
        [
         "10",
         "2024-02-21",
         "2026-05-01",
         "P1M",
         "11",
         "C+G",
         "409.2792",
         "312.9746"
        ],
        [
         "11",
         "2024-02-21",
         "2026-05-01",
         "P1M",
         "2",
         "C+G",
         "380.7445",
         "312.9382"
        ],
        [
         "12",
         "2024-02-21",
         "2026-05-01",
         "P1M",
         "19",
         "C+G",
         "379.2538",
         "314.0355"
        ],
        [
         "13",
         "2024-02-21",
         "2026-05-01",
         "P1M",
         "24",
         "C+G",
         "377.4081",
         "312.9342"
        ],
        [
         "14",
         "2024-02-21",
         "2026-05-01",
         "P1M",
         "22",
         "C+G",
         "375.8504",
         "312.9746"
        ],
        [
         "15",
         "2024-02-21",
         "2026-05-01",
         "P1M",
         "15",
         "G",
         "312.0038",
         "298.8331"
        ],
        [
         "16",
         "2024-02-21",
         "2026-05-01",
         "P1M",
         "12",
         "G",
         "313.5568",
         "298.8304"
        ],
        [
         "17",
         "2024-02-21",
         "2026-05-01",
         "P1M",
         "9",
         "C+G",
         "405.3488",
         "312.962"
        ],
        [
         "18",
         "2024-02-21",
         "2026-05-01",
         "P1M",
         "5",
         "C+G",
         "373.3613",
         "312.934"
        ],
        [
         "19",
         "2024-02-21",
         "2026-05-01",
         "P1M",
         "14",
         "G",
         "311.8392",
         "298.8311"
        ]
       ],
       "shape": {
        "columns": 7,
        "rows": 20
       }
      },
      "text/html": [
       "<div>\n",
       "<style scoped>\n",
       "    .dataframe tbody tr th:only-of-type {\n",
       "        vertical-align: middle;\n",
       "    }\n",
       "\n",
       "    .dataframe tbody tr th {\n",
       "        vertical-align: top;\n",
       "    }\n",
       "\n",
       "    .dataframe thead th {\n",
       "        text-align: right;\n",
       "    }\n",
       "</style>\n",
       "<table border=\"1\" class=\"dataframe\">\n",
       "  <thead>\n",
       "    <tr style=\"text-align: right;\">\n",
       "      <th></th>\n",
       "      <th>FechaPublicacion</th>\n",
       "      <th>FechaProyectada</th>\n",
       "      <th>CodigoDuracion</th>\n",
       "      <th>Hora</th>\n",
       "      <th>Componente</th>\n",
       "      <th>PPP</th>\n",
       "      <th>PPS</th>\n",
       "    </tr>\n",
       "  </thead>\n",
       "  <tbody>\n",
       "    <tr>\n",
       "      <th>0</th>\n",
       "      <td>2024-03-19</td>\n",
       "      <td>2026-05-01</td>\n",
       "      <td>P1M</td>\n",
       "      <td>9</td>\n",
       "      <td>C+G</td>\n",
       "      <td>408.3162</td>\n",
       "      <td>317.4412</td>\n",
       "    </tr>\n",
       "    <tr>\n",
       "      <th>1</th>\n",
       "      <td>2024-03-19</td>\n",
       "      <td>2026-05-01</td>\n",
       "      <td>P1M</td>\n",
       "      <td>7</td>\n",
       "      <td>G</td>\n",
       "      <td>312.2799</td>\n",
       "      <td>303.2227</td>\n",
       "    </tr>\n",
       "    <tr>\n",
       "      <th>2</th>\n",
       "      <td>2024-03-19</td>\n",
       "      <td>2026-05-01</td>\n",
       "      <td>P1M</td>\n",
       "      <td>1</td>\n",
       "      <td>G</td>\n",
       "      <td>309.6994</td>\n",
       "      <td>303.2219</td>\n",
       "    </tr>\n",
       "    <tr>\n",
       "      <th>3</th>\n",
       "      <td>2024-02-21</td>\n",
       "      <td>2026-05-01</td>\n",
       "      <td>P1M</td>\n",
       "      <td>8</td>\n",
       "      <td>C+G</td>\n",
       "      <td>401.5931</td>\n",
       "      <td>312.9524</td>\n",
       "    </tr>\n",
       "    <tr>\n",
       "      <th>4</th>\n",
       "      <td>2024-02-21</td>\n",
       "      <td>2026-05-01</td>\n",
       "      <td>P1M</td>\n",
       "      <td>21</td>\n",
       "      <td>G</td>\n",
       "      <td>305.0561</td>\n",
       "      <td>299.8852</td>\n",
       "    </tr>\n",
       "    <tr>\n",
       "      <th>5</th>\n",
       "      <td>2024-02-21</td>\n",
       "      <td>2026-05-01</td>\n",
       "      <td>P1M</td>\n",
       "      <td>7</td>\n",
       "      <td>C+G</td>\n",
       "      <td>398.5333</td>\n",
       "      <td>312.9443</td>\n",
       "    </tr>\n",
       "    <tr>\n",
       "      <th>6</th>\n",
       "      <td>2024-02-21</td>\n",
       "      <td>2026-05-01</td>\n",
       "      <td>P1M</td>\n",
       "      <td>19</td>\n",
       "      <td>G</td>\n",
       "      <td>305.7477</td>\n",
       "      <td>299.8847</td>\n",
       "    </tr>\n",
       "    <tr>\n",
       "      <th>7</th>\n",
       "      <td>2024-02-21</td>\n",
       "      <td>2026-05-01</td>\n",
       "      <td>P1M</td>\n",
       "      <td>1</td>\n",
       "      <td>G</td>\n",
       "      <td>306.5414</td>\n",
       "      <td>298.7977</td>\n",
       "    </tr>\n",
       "    <tr>\n",
       "      <th>8</th>\n",
       "      <td>2024-02-21</td>\n",
       "      <td>2026-05-01</td>\n",
       "      <td>P1M</td>\n",
       "      <td>18</td>\n",
       "      <td>G</td>\n",
       "      <td>306.9850</td>\n",
       "      <td>298.8756</td>\n",
       "    </tr>\n",
       "    <tr>\n",
       "      <th>9</th>\n",
       "      <td>2024-02-21</td>\n",
       "      <td>2026-05-01</td>\n",
       "      <td>P1M</td>\n",
       "      <td>14</td>\n",
       "      <td>C+G</td>\n",
       "      <td>408.3096</td>\n",
       "      <td>312.9770</td>\n",
       "    </tr>\n",
       "    <tr>\n",
       "      <th>10</th>\n",
       "      <td>2024-02-21</td>\n",
       "      <td>2026-05-01</td>\n",
       "      <td>P1M</td>\n",
       "      <td>11</td>\n",
       "      <td>C+G</td>\n",
       "      <td>409.2792</td>\n",
       "      <td>312.9746</td>\n",
       "    </tr>\n",
       "    <tr>\n",
       "      <th>11</th>\n",
       "      <td>2024-02-21</td>\n",
       "      <td>2026-05-01</td>\n",
       "      <td>P1M</td>\n",
       "      <td>2</td>\n",
       "      <td>C+G</td>\n",
       "      <td>380.7445</td>\n",
       "      <td>312.9382</td>\n",
       "    </tr>\n",
       "    <tr>\n",
       "      <th>12</th>\n",
       "      <td>2024-02-21</td>\n",
       "      <td>2026-05-01</td>\n",
       "      <td>P1M</td>\n",
       "      <td>19</td>\n",
       "      <td>C+G</td>\n",
       "      <td>379.2538</td>\n",
       "      <td>314.0355</td>\n",
       "    </tr>\n",
       "    <tr>\n",
       "      <th>13</th>\n",
       "      <td>2024-02-21</td>\n",
       "      <td>2026-05-01</td>\n",
       "      <td>P1M</td>\n",
       "      <td>24</td>\n",
       "      <td>C+G</td>\n",
       "      <td>377.4081</td>\n",
       "      <td>312.9342</td>\n",
       "    </tr>\n",
       "    <tr>\n",
       "      <th>14</th>\n",
       "      <td>2024-02-21</td>\n",
       "      <td>2026-05-01</td>\n",
       "      <td>P1M</td>\n",
       "      <td>22</td>\n",
       "      <td>C+G</td>\n",
       "      <td>375.8504</td>\n",
       "      <td>312.9746</td>\n",
       "    </tr>\n",
       "    <tr>\n",
       "      <th>15</th>\n",
       "      <td>2024-02-21</td>\n",
       "      <td>2026-05-01</td>\n",
       "      <td>P1M</td>\n",
       "      <td>15</td>\n",
       "      <td>G</td>\n",
       "      <td>312.0038</td>\n",
       "      <td>298.8331</td>\n",
       "    </tr>\n",
       "    <tr>\n",
       "      <th>16</th>\n",
       "      <td>2024-02-21</td>\n",
       "      <td>2026-05-01</td>\n",
       "      <td>P1M</td>\n",
       "      <td>12</td>\n",
       "      <td>G</td>\n",
       "      <td>313.5568</td>\n",
       "      <td>298.8304</td>\n",
       "    </tr>\n",
       "    <tr>\n",
       "      <th>17</th>\n",
       "      <td>2024-02-21</td>\n",
       "      <td>2026-05-01</td>\n",
       "      <td>P1M</td>\n",
       "      <td>9</td>\n",
       "      <td>C+G</td>\n",
       "      <td>405.3488</td>\n",
       "      <td>312.9620</td>\n",
       "    </tr>\n",
       "    <tr>\n",
       "      <th>18</th>\n",
       "      <td>2024-02-21</td>\n",
       "      <td>2026-05-01</td>\n",
       "      <td>P1M</td>\n",
       "      <td>5</td>\n",
       "      <td>C+G</td>\n",
       "      <td>373.3613</td>\n",
       "      <td>312.9340</td>\n",
       "    </tr>\n",
       "    <tr>\n",
       "      <th>19</th>\n",
       "      <td>2024-02-21</td>\n",
       "      <td>2026-05-01</td>\n",
       "      <td>P1M</td>\n",
       "      <td>14</td>\n",
       "      <td>G</td>\n",
       "      <td>311.8392</td>\n",
       "      <td>298.8311</td>\n",
       "    </tr>\n",
       "  </tbody>\n",
       "</table>\n",
       "</div>"
      ],
      "text/plain": [
       "   FechaPublicacion FechaProyectada CodigoDuracion  Hora Componente       PPP  \\\n",
       "0        2024-03-19      2026-05-01            P1M     9        C+G  408.3162   \n",
       "1        2024-03-19      2026-05-01            P1M     7          G  312.2799   \n",
       "2        2024-03-19      2026-05-01            P1M     1          G  309.6994   \n",
       "3        2024-02-21      2026-05-01            P1M     8        C+G  401.5931   \n",
       "4        2024-02-21      2026-05-01            P1M    21          G  305.0561   \n",
       "5        2024-02-21      2026-05-01            P1M     7        C+G  398.5333   \n",
       "6        2024-02-21      2026-05-01            P1M    19          G  305.7477   \n",
       "7        2024-02-21      2026-05-01            P1M     1          G  306.5414   \n",
       "8        2024-02-21      2026-05-01            P1M    18          G  306.9850   \n",
       "9        2024-02-21      2026-05-01            P1M    14        C+G  408.3096   \n",
       "10       2024-02-21      2026-05-01            P1M    11        C+G  409.2792   \n",
       "11       2024-02-21      2026-05-01            P1M     2        C+G  380.7445   \n",
       "12       2024-02-21      2026-05-01            P1M    19        C+G  379.2538   \n",
       "13       2024-02-21      2026-05-01            P1M    24        C+G  377.4081   \n",
       "14       2024-02-21      2026-05-01            P1M    22        C+G  375.8504   \n",
       "15       2024-02-21      2026-05-01            P1M    15          G  312.0038   \n",
       "16       2024-02-21      2026-05-01            P1M    12          G  313.5568   \n",
       "17       2024-02-21      2026-05-01            P1M     9        C+G  405.3488   \n",
       "18       2024-02-21      2026-05-01            P1M     5        C+G  373.3613   \n",
       "19       2024-02-21      2026-05-01            P1M    14          G  311.8392   \n",
       "\n",
       "         PPS  \n",
       "0   317.4412  \n",
       "1   303.2227  \n",
       "2   303.2219  \n",
       "3   312.9524  \n",
       "4   299.8852  \n",
       "5   312.9443  \n",
       "6   299.8847  \n",
       "7   298.7977  \n",
       "8   298.8756  \n",
       "9   312.9770  \n",
       "10  312.9746  \n",
       "11  312.9382  \n",
       "12  314.0355  \n",
       "13  312.9342  \n",
       "14  312.9746  \n",
       "15  298.8331  \n",
       "16  298.8304  \n",
       "17  312.9620  \n",
       "18  312.9340  \n",
       "19  298.8311  "
      ]
     },
     "metadata": {},
     "output_type": "display_data"
    }
   ],
   "source": [
    "# Se consulta el conjunto de datos de contratos UNR futuros\n",
    "id_dataset_futuro = 'ac9492'                                          # ID del conjunto de datos a consultar\n",
    "fecha_inicial1 = '2025-01-01'                                         # Fecha de inicio del rango de consulta\n",
    "fecha_final1 = '2026-05-31'                                           # Fecha de fin del rango de consulta\n",
    "simem1 = ReadSIMEM(id_dataset_futuro, fecha_inicial1, fecha_final1)   # Instancia de la clase ReadSIMEM con los parámetros definidos\n",
    "df_futuro = simem1.main()                                     # Ejecución del método principal para obtener los datos en un DataFrame\n",
    "display(df_futuro.head(20))                                   # Visualización de las primeras 20 filas del DataFrame"
   ]
  },
  {
   "cell_type": "markdown",
   "metadata": {},
   "source": [
    "<a id='section4'></a>\n",
    "# 4. Manipulación de datos\n",
    "Los siguientes pasos corresponden a las actividades de manipulación y preparación de los datos que son relevantes para el análisis. "
   ]
  },
  {
   "cell_type": "markdown",
   "metadata": {},
   "source": [
    "<a id='section5'></a>\n",
    "# 5. Análisis para dar respuesta al caso de uso"
   ]
  },
  {
   "cell_type": "markdown",
   "metadata": {},
   "source": [
    "<a id='section5-1'></a>\n",
    "## 5.1 Contratos UNR Históricos\n",
    "\n",
    "En esta sección se analizará los contratos UNR históricos, es decir fechas anteriores al día de consulta."
   ]
  },
  {
   "cell_type": "markdown",
   "metadata": {},
   "source": [
    "Se busca cambiar la estructura de la tabla de tal forma que sea más fácil de manipular para su análisis."
   ]
  },
  {
   "cell_type": "code",
   "execution_count": 4,
   "metadata": {},
   "outputs": [],
   "source": [
    "df_dataset_historical = df_historical.copy()\n",
    "\n",
    "column_to_drop = 'FechaPublicacion'\n",
    "\n",
    "df_dataset_historical = df_dataset_historical.drop(column_to_drop, axis=1)\n",
    "df_dataset_historical = df_dataset_historical.sort_values(by='Fecha')"
   ]
  },
  {
   "cell_type": "markdown",
   "metadata": {},
   "source": [
    "Para esto, se realiza un pivote que permite tener el promedio ponderado y el promedio simple como columnas"
   ]
  },
  {
   "cell_type": "code",
   "execution_count": 5,
   "metadata": {},
   "outputs": [
    {
     "name": "stdout",
     "output_type": "stream",
     "text": [
      "Componente        C       C+G         G\n",
      "Fecha                                  \n",
      "2024-05-01  14.6915  311.9666  297.6278\n",
      "2024-06-01  16.8425  302.2618  285.4141\n",
      "2024-07-01  14.8585  305.4893  290.6279\n",
      "2024-08-01  11.9246  377.9918  366.0673\n",
      "2024-09-01  15.3530  424.5911  409.4107\n"
     ]
    }
   ],
   "source": [
    "df_PPP_historical = df_dataset_historical.pivot(index='Fecha', columns=['Componente'], values='PPP')\n",
    "df_PPS_historical = df_dataset_historical.pivot(index='Fecha', columns=['Componente'], values='PPS')\n",
    "\n",
    "print(df_PPP_historical.head(5))"
   ]
  },
  {
   "cell_type": "markdown",
   "metadata": {},
   "source": [
    "Se procede a visualizar para cada día, el precio promedio ponderado de la componente de generación más la componente de comercialización"
   ]
  },
  {
   "cell_type": "code",
   "execution_count": 6,
   "metadata": {},
   "outputs": [
    {
     "data": {
      "image/png": "[encoded data removed]",
      "text/plain": [
       "<Figure size 1200x600 with 1 Axes>"
      ]
     },
     "metadata": {},
     "output_type": "display_data"
    }
   ],
   "source": [
    "colors = [\"#5fc95fd5\",\"#51a1dbce\"]\n",
    "\n",
    "fig, ax = plt.subplots(figsize=(12, 6))\n",
    "\n",
    "df_PPP_historical[['G','C']].plot(kind='area', stacked=True, figsize=(12, 6), color=colors, alpha = 0.5, ax=ax)\n",
    "df_PPP_historical[['C+G']].plot(kind='line', linewidth=2, color=\"#fa841eb5\", alpha=0.8, linestyle='--', ax=ax)\n",
    "plt.ylabel('Precio promedio ponderado [COP/kWh]')\n",
    "plt.title('Precio promedio ponderado (PPP) por componente')\n",
    "plt.xlabel('Fecha')\n",
    "plt.legend(\n",
    "    loc='lower center',\n",
    "    bbox_to_anchor=(0.5, -0.25),\n",
    "    ncol=len(df_PPP_historical.columns),\n",
    "    framealpha=0.5,\n",
    "    fontsize=10\n",
    ")\n",
    "\n",
    "ax.spines['top'].set_visible(False)\n",
    "ax.spines['right'].set_visible(False)\n",
    "ax.spines['left'].set_visible(False)\n",
    "ax.spines['bottom'].set_visible(False)\n",
    "\n",
    "ax.margins(x=0)\n",
    "\n",
    "plt.grid(visible=True, which='both', axis='y', color='gray', linestyle='--', linewidth=0.5, alpha=0.3)\n",
    "plt.tight_layout()\n",
    "plt.show()"
   ]
  },
  {
   "cell_type": "markdown",
   "metadata": {},
   "source": [
    "Adicionalmente, se busca calcular el precio total promedio para el intervalo de tiempo seleccionado. Y una vez obtenido este promedio, se quiere observar cuál es la diferencia de cada día con respecto a este promedio"
   ]
  },
  {
   "cell_type": "code",
   "execution_count": 7,
   "metadata": {},
   "outputs": [],
   "source": [
    "df_PPP_historical['PPP_medio'] = df_PPP_historical['C+G'].mean()                                  # Calcular el PPP promedio mensual\n",
    "df_PPP_historical['PPP_diferencia'] = df_PPP_historical['C+G'] - df_PPP_historical['PPP_medio']   # Calcular la diferencia respecto al promedio"
   ]
  },
  {
   "cell_type": "markdown",
   "metadata": {},
   "source": [
    "A partir de los datos anteriores, es posible preguntarse:\n",
    "\n",
    "\n",
    "*   ¿Cuál es el día de mayor incremento con respecto al promedio?\n",
    "*   ¿Cuál es el día de mayor decrecimiento con respecto al promedio?\n",
    "\n"
   ]
  },
  {
   "cell_type": "code",
   "execution_count": 8,
   "metadata": {},
   "outputs": [
    {
     "name": "stdout",
     "output_type": "stream",
     "text": [
      "El día con el mayor incremento del PPP es: 2024-09-01 con un incremento de 72.03 COP/kWh respecto al promedio mensual.\n",
      "El día con el mayor decrecimiento del PPP es: 2024-06-01 con un decremento de -50.30 COP/kWh respecto al promedio mensual.\n"
     ]
    }
   ],
   "source": [
    "# Encontrar el día con el mayor incremento del PPP\n",
    "max_increment_day = df_PPP_historical['PPP_diferencia'].idxmax()    # Obtener el índice del día con el mayor incremento\n",
    "max_increment_value = df_PPP_historical['PPP_diferencia'].max()     # Obtener el valor del mayor incremento\n",
    "print(f\"El día con el mayor incremento del PPP es: {max_increment_day} con un incremento de {max_increment_value:.2f} COP/kWh respecto al promedio mensual.\")\n",
    "# Encontrar el día con el mayor decrecimiento del PPP\n",
    "min_decrement_day = df_PPP_historical['PPP_diferencia'].idxmin()    # Obtener el índice del día con el mayor decrecimiento\n",
    "min_decrement_value = df_PPP_historical['PPP_diferencia'].min()     # Obtener el valor del mayor decrecimiento\n",
    "print(f\"El día con el mayor decrecimiento del PPP es: {min_decrement_day} con un decremento de {min_decrement_value:.2f} COP/kWh respecto al promedio mensual.\")"
   ]
  },
  {
   "cell_type": "markdown",
   "metadata": {},
   "source": [
    "Se procede a visualizar los datos para entender mejor cómo se comportó el precio promedio ponderado UNR en el periodo de análisis"
   ]
  },
  {
   "cell_type": "code",
   "execution_count": 9,
   "metadata": {},
   "outputs": [
    {
     "data": {
      "image/png": "[encoded data removed]",
      "text/plain": [
       "<Figure size 1200x600 with 1 Axes>"
      ]
     },
     "metadata": {},
     "output_type": "display_data"
    }
   ],
   "source": [
    "fig, ax = plt.subplots(figsize=(12, 6))\n",
    "\n",
    "df_PPP_historical[['PPP_medio', 'C+G']].plot(kind='line', linewidth=2, color=['gray','blue'], alpha=0.8, linestyle='--', ax=ax)\n",
    "\n",
    "# Rellenar donde C+G > PPP_medio (verde)\n",
    "ax.fill_between(\n",
    "    df_PPP_historical.index,\n",
    "    df_PPP_historical['C+G'],\n",
    "    df_PPP_historical['PPP_medio'],\n",
    "    where=(df_PPP_historical['C+G'] >= df_PPP_historical['PPP_medio']),\n",
    "    color='green',\n",
    "    alpha=0.3,\n",
    "    interpolate=True,\n",
    "    label='Mayor que PPP medio'\n",
    ")\n",
    "\n",
    "# Rellenar donde C+G < PPP_medio (rojo)\n",
    "ax.fill_between(\n",
    "    df_PPP_historical.index,\n",
    "    df_PPP_historical['C+G'],\n",
    "    df_PPP_historical['PPP_medio'],\n",
    "    where=(df_PPP_historical['C+G'] <= df_PPP_historical['PPP_medio']),\n",
    "    color='red',\n",
    "    alpha=0.3,\n",
    "    interpolate=True,\n",
    "    label='Menor que PPP medio'\n",
    ")\n",
    "\n",
    "plt.ylabel('Precio promedio ponderado [COP/kWh]')\n",
    "plt.title('Diferencia de PPP respecto al promedio')\n",
    "plt.xlabel('Fecha')\n",
    "plt.legend(loc='lower center', bbox_to_anchor=(0.5, -0.25), ncol=2, frameon=False)\n",
    "plt.tight_layout()\n",
    "plt.show()"
   ]
  },
  {
   "cell_type": "markdown",
   "metadata": {},
   "source": [
    "<a id='section5-1'></a>\n",
    "## 5.2 Contratos UNR Futuros\n",
    "\n",
    "En esta sección se analizará los contratos UNR futuros, es decir fechas posteriores al día de consulta."
   ]
  },
  {
   "cell_type": "markdown",
   "metadata": {},
   "source": [
    "Se busca ordernar los datos anteriores en función de la FechaProyectada, hora, y fecha de publicación"
   ]
  },
  {
   "cell_type": "code",
   "execution_count": 10,
   "metadata": {},
   "outputs": [],
   "source": [
    "df_dataset_futuro = df_futuro.copy()\n",
    "\n",
    "df_dataset_futuro = df_dataset_futuro.sort_values(by = ['FechaProyectada','Hora','FechaPublicacion'])\n",
    "df_dataset_futuro['FechaProyectada'] = pd.to_datetime(df_dataset_futuro['FechaProyectada']) # Asegurar que la columna de fecha esté en formato datetime"
   ]
  },
  {
   "cell_type": "markdown",
   "metadata": {},
   "source": [
    "Al contar con varios registros para cada día, es necesario hacer una agrupación. Como se trata de precios, se opta por agrupar a través del promedio en función de la fecha"
   ]
  },
  {
   "cell_type": "code",
   "execution_count": 11,
   "metadata": {},
   "outputs": [
    {
     "name": "stdout",
     "output_type": "stream",
     "text": [
      "Promedio de PPP por FechaProyectada y Componente:\n"
     ]
    },
    {
     "data": {
      "application/vnd.microsoft.datawrangler.viewer.v0+json": {
       "columns": [
        {
         "name": "index",
         "rawType": "int64",
         "type": "integer"
        },
        {
         "name": "FechaProyectada",
         "rawType": "datetime64[ns]",
         "type": "datetime"
        },
        {
         "name": "Componente",
         "rawType": "object",
         "type": "string"
        },
        {
         "name": "PPP",
         "rawType": "float64",
         "type": "float"
        }
       ],
       "ref": "06f0d9e0-0702-45fd-b094-fa6fb6fb6d12",
       "rows": [
        [
         "0",
         "2025-01-01 00:00:00",
         "C+G",
         "351.76274254385964"
        ],
        [
         "1",
         "2025-01-01 00:00:00",
         "G",
         "306.01387565789474"
        ],
        [
         "2",
         "2025-02-01 00:00:00",
         "C+G",
         "351.60008020833334"
        ],
        [
         "3",
         "2025-02-01 00:00:00",
         "G",
         "307.5576233333333"
        ],
        [
         "4",
         "2025-03-01 00:00:00",
         "C+G",
         "351.53067996031746"
        ]
       ],
       "shape": {
        "columns": 3,
        "rows": 5
       }
      },
      "text/html": [
       "<div>\n",
       "<style scoped>\n",
       "    .dataframe tbody tr th:only-of-type {\n",
       "        vertical-align: middle;\n",
       "    }\n",
       "\n",
       "    .dataframe tbody tr th {\n",
       "        vertical-align: top;\n",
       "    }\n",
       "\n",
       "    .dataframe thead th {\n",
       "        text-align: right;\n",
       "    }\n",
       "</style>\n",
       "<table border=\"1\" class=\"dataframe\">\n",
       "  <thead>\n",
       "    <tr style=\"text-align: right;\">\n",
       "      <th></th>\n",
       "      <th>FechaProyectada</th>\n",
       "      <th>Componente</th>\n",
       "      <th>PPP</th>\n",
       "    </tr>\n",
       "  </thead>\n",
       "  <tbody>\n",
       "    <tr>\n",
       "      <th>0</th>\n",
       "      <td>2025-01-01</td>\n",
       "      <td>C+G</td>\n",
       "      <td>351.762743</td>\n",
       "    </tr>\n",
       "    <tr>\n",
       "      <th>1</th>\n",
       "      <td>2025-01-01</td>\n",
       "      <td>G</td>\n",
       "      <td>306.013876</td>\n",
       "    </tr>\n",
       "    <tr>\n",
       "      <th>2</th>\n",
       "      <td>2025-02-01</td>\n",
       "      <td>C+G</td>\n",
       "      <td>351.600080</td>\n",
       "    </tr>\n",
       "    <tr>\n",
       "      <th>3</th>\n",
       "      <td>2025-02-01</td>\n",
       "      <td>G</td>\n",
       "      <td>307.557623</td>\n",
       "    </tr>\n",
       "    <tr>\n",
       "      <th>4</th>\n",
       "      <td>2025-03-01</td>\n",
       "      <td>C+G</td>\n",
       "      <td>351.530680</td>\n",
       "    </tr>\n",
       "  </tbody>\n",
       "</table>\n",
       "</div>"
      ],
      "text/plain": [
       "  FechaProyectada Componente         PPP\n",
       "0      2025-01-01        C+G  351.762743\n",
       "1      2025-01-01          G  306.013876\n",
       "2      2025-02-01        C+G  351.600080\n",
       "3      2025-02-01          G  307.557623\n",
       "4      2025-03-01        C+G  351.530680"
      ]
     },
     "metadata": {},
     "output_type": "display_data"
    }
   ],
   "source": [
    "# Agrupar por FechaProyectada y Componente, promediando PPP por hora\n",
    "df_avg_ppp = df_dataset_futuro.groupby(['FechaProyectada', 'Componente'])['PPP'].mean().reset_index()\n",
    "# Mostrar los resultados agrupados\n",
    "print(\"Promedio de PPP por FechaProyectada y Componente:\")\n",
    "display(df_avg_ppp.head(5))"
   ]
  },
  {
   "cell_type": "markdown",
   "metadata": {},
   "source": [
    "Se procede a visualizar los datos"
   ]
  },
  {
   "cell_type": "code",
   "execution_count": 12,
   "metadata": {},
   "outputs": [
    {
     "data": {
      "image/png": "[encoded data removed]",
      "text/plain": [
       "<Figure size 1200x600 with 1 Axes>"
      ]
     },
     "metadata": {},
     "output_type": "display_data"
    }
   ],
   "source": [
    "# Graficar\n",
    "plt.figure(figsize=(12, 6))\n",
    "\n",
    "for component in df_avg_ppp['Componente'].unique():\n",
    "    component_data = df_avg_ppp[df_avg_ppp['Componente'] == component]\n",
    "    plt.plot(component_data['FechaProyectada'], component_data['PPP'], marker = 'o', label=f'Componente {component}')\n",
    "\n",
    "# Elementos de la gráfica\n",
    "    plt.xlabel('Fecha Proyectada')\n",
    "    plt.ylabel('Promedio de PPP')\n",
    "    plt.title('Promedio de PPP por FechaProyectada y Componente')\n",
    "    plt.legend()\n",
    "    plt.grid(True)\n",
    "    plt.xticks(rotation=45)\n",
    "    plt.tight_layout()\n",
    "\n",
    "plt.show()"
   ]
  },
  {
   "cell_type": "markdown",
   "metadata": {},
   "source": [
    "Dado que el conjunto cuenta con datos horarios, se realiza un promedio simple, agrupando por hora y componente, con la finalidad de obtener un dato por hora."
   ]
  },
  {
   "cell_type": "code",
   "execution_count": 13,
   "metadata": {},
   "outputs": [],
   "source": [
    "# Agrupar por Hora y Componente para calcular el promedio de PPP\n",
    "df_avg_ppp_hour = df_dataset_futuro.groupby(['Hora', 'Componente'])['PPP'].mean().reset_index()\n",
    "\n",
    "# Calcular el total por hora para obtener el porcentaje\n",
    "df_total_ppp_hour = df_dataset_futuro.groupby('Hora')['PPP'].transform('sum')\n",
    "df_avg_ppp_hour['Porcentaje'] = (df_avg_ppp_hour['PPP'] / df_total_ppp_hour) * 100"
   ]
  },
  {
   "cell_type": "markdown",
   "metadata": {},
   "source": [
    "Se muestran los resultados de forma tabular, donde para cada hora por cada componente se realiza un promedio simple para PPP y sus respectivos porcentajes."
   ]
  },
  {
   "cell_type": "code",
   "execution_count": 14,
   "metadata": {},
   "outputs": [
    {
     "name": "stdout",
     "output_type": "stream",
     "text": [
      "Promedio de PPP por Hora y Componente con Porcentaje:\n"
     ]
    },
    {
     "data": {
      "application/vnd.microsoft.datawrangler.viewer.v0+json": {
       "columns": [
        {
         "name": "index",
         "rawType": "int64",
         "type": "integer"
        },
        {
         "name": "Hora",
         "rawType": "int64",
         "type": "integer"
        },
        {
         "name": "Componente",
         "rawType": "object",
         "type": "string"
        },
        {
         "name": "PPP",
         "rawType": "float64",
         "type": "float"
        },
        {
         "name": "Porcentaje",
         "rawType": "float64",
         "type": "float"
        }
       ],
       "ref": "c031ca7d-93ef-4922-b9c6-03f7b6737c29",
       "rows": [
        [
         "0",
         "1",
         "C+G",
         "323.0650910941476",
         "0.12934540232481287"
        ],
        [
         "1",
         "1",
         "G",
         "303.01803027989826",
         "0.1221844339777703"
        ],
        [
         "2",
         "2",
         "C+G",
         "322.5463867684478",
         "0.13108941792127557"
        ],
        [
         "3",
         "2",
         "G",
         "302.7850697201018",
         "0.12161359879631053"
        ],
        [
         "4",
         "3",
         "C+G",
         "321.5193951653944",
         "0.13069301621469395"
        ]
       ],
       "shape": {
        "columns": 4,
        "rows": 5
       }
      },
      "text/html": [
       "<div>\n",
       "<style scoped>\n",
       "    .dataframe tbody tr th:only-of-type {\n",
       "        vertical-align: middle;\n",
       "    }\n",
       "\n",
       "    .dataframe tbody tr th {\n",
       "        vertical-align: top;\n",
       "    }\n",
       "\n",
       "    .dataframe thead th {\n",
       "        text-align: right;\n",
       "    }\n",
       "</style>\n",
       "<table border=\"1\" class=\"dataframe\">\n",
       "  <thead>\n",
       "    <tr style=\"text-align: right;\">\n",
       "      <th></th>\n",
       "      <th>Hora</th>\n",
       "      <th>Componente</th>\n",
       "      <th>PPP</th>\n",
       "      <th>Porcentaje</th>\n",
       "    </tr>\n",
       "  </thead>\n",
       "  <tbody>\n",
       "    <tr>\n",
       "      <th>0</th>\n",
       "      <td>1</td>\n",
       "      <td>C+G</td>\n",
       "      <td>323.065091</td>\n",
       "      <td>0.129345</td>\n",
       "    </tr>\n",
       "    <tr>\n",
       "      <th>1</th>\n",
       "      <td>1</td>\n",
       "      <td>G</td>\n",
       "      <td>303.018030</td>\n",
       "      <td>0.122184</td>\n",
       "    </tr>\n",
       "    <tr>\n",
       "      <th>2</th>\n",
       "      <td>2</td>\n",
       "      <td>C+G</td>\n",
       "      <td>322.546387</td>\n",
       "      <td>0.131089</td>\n",
       "    </tr>\n",
       "    <tr>\n",
       "      <th>3</th>\n",
       "      <td>2</td>\n",
       "      <td>G</td>\n",
       "      <td>302.785070</td>\n",
       "      <td>0.121614</td>\n",
       "    </tr>\n",
       "    <tr>\n",
       "      <th>4</th>\n",
       "      <td>3</td>\n",
       "      <td>C+G</td>\n",
       "      <td>321.519395</td>\n",
       "      <td>0.130693</td>\n",
       "    </tr>\n",
       "  </tbody>\n",
       "</table>\n",
       "</div>"
      ],
      "text/plain": [
       "   Hora Componente         PPP  Porcentaje\n",
       "0     1        C+G  323.065091    0.129345\n",
       "1     1          G  303.018030    0.122184\n",
       "2     2        C+G  322.546387    0.131089\n",
       "3     2          G  302.785070    0.121614\n",
       "4     3        C+G  321.519395    0.130693"
      ]
     },
     "metadata": {},
     "output_type": "display_data"
    }
   ],
   "source": [
    "# Mostrar resultados\n",
    "print(\"Promedio de PPP por Hora y Componente con Porcentaje:\")\n",
    "display(df_avg_ppp_hour.sort_values(by='Hora').head(5))"
   ]
  },
  {
   "cell_type": "markdown",
   "metadata": {},
   "source": [
    "Se procede a visualizar los datos."
   ]
  },
  {
   "cell_type": "code",
   "execution_count": 15,
   "metadata": {},
   "outputs": [
    {
     "data": {
      "image/png": "[encoded data removed]",
      "text/plain": [
       "<Figure size 1200x600 with 1 Axes>"
      ]
     },
     "metadata": {},
     "output_type": "display_data"
    }
   ],
   "source": [
    "# Graficar\n",
    "plt.figure(figsize=(12, 6))\n",
    "\n",
    "for componente in df_avg_ppp_hour['Componente'].unique():\n",
    "    subset = df_avg_ppp_hour[df_avg_ppp_hour['Componente'] == componente]\n",
    "    plt.plot(subset['Hora'], subset['PPP'], marker='o', label=f'Componente {componente}')\n",
    "\n",
    "# Elementos de la gráfica\n",
    "    plt.title('Promedio de PPP por Hora y Componente')\n",
    "    plt.xlabel('Hora del Día')\n",
    "    plt.ylabel('PPP Promedio')\n",
    "    plt.legend()\n",
    "    plt.grid(True)\n",
    "    plt.tight_layout()\n",
    "\n",
    "plt.show()\n"
   ]
  }
 ],
 "metadata": {
  "kernelspec": {
   "display_name": "GAIA",
   "language": "python",
   "name": "python3"
  },
  "language_info": {
   "codemirror_mode": {
    "name": "ipython",
    "version": 3
   },
   "file_extension": ".py",
   "mimetype": "text/x-python",
   "name": "python",
   "nbconvert_exporter": "python",
   "pygments_lexer": "ipython3",
   "version": "3.10.11"
  }
 },
 "nbformat": 4,
 "nbformat_minor": 2
}
