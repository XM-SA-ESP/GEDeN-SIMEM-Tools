{
 "cells": [
  {
   "attachments": {
    "SIMEM_logo_1.png": {
     "image/png": "[encoded data removed]"
    }
   },
   "cell_type": "markdown",
   "metadata": {},
   "source": [
    "![SIMEM_logo_1.png](attachment:SIMEM_logo_1.png)\n",
    "\n",
    "[SiMEM](https://www.simem.co/)"
   ]
  },
  {
   "cell_type": "markdown",
   "metadata": {},
   "source": [
    "## Caso de uso - Energía Firme del Cargo por Confiabilidad verificada por el Centro Nacional de Despacho\n",
    "\n",
    "# Objetivos de este Notebook\n",
    "\n",
    "* Explicar cómo se realiza la instalación e importación de la librería pydataxm desde la consola para su uso en ambientes locales\n",
    "* Explicar cómo se pueden consultar los conjuntos de datos a través de la librería Pydataxm\n",
    "* Explicar cómo realizar el procesamiento y manipulación de los datos consultados\n",
    "* Explicar el análisis de los datos consultados para dar respuesta al caso de uso propuesto\n",
    " \n",
    "**Índice**\n",
    "\n",
    "1. [Instalación de librerías](#section1)\n",
    "\n",
    "2. [Importación de librerías](#section2)\n",
    "\n",
    "3. [Consultar información de los conjuntos de datos](#section3)\n",
    "\n",
    "4. [Manipulación de datos](#section4)\n",
    "\n",
    "5. [Análisis para dar respuesta al caso de uso](#section5)"
   ]
  },
  {
   "cell_type": "markdown",
   "metadata": {},
   "source": [
    "<a id='section1'></a>\n",
    "# 1. Instalación de la librería\n",
    "Ejecutar el siguiente comando en el CMD para instalar la librería de python."
   ]
  },
  {
   "cell_type": "code",
   "execution_count": 1,
   "metadata": {},
   "outputs": [],
   "source": [
    "# import sys\n",
    "# !{sys.executable} -m pip install pydataxm"
   ]
  },
  {
   "cell_type": "markdown",
   "metadata": {},
   "source": [
    "<a id='section2'></a>\n",
    "# 2. Importación de librerías"
   ]
  },
  {
   "cell_type": "code",
   "execution_count": 2,
   "metadata": {},
   "outputs": [],
   "source": [
    "# Importación de librerías necesarias para la consulta y análisis de datos\n",
    "from pydataxm.pydatasimem import ReadSIMEM  # Importa clases para interactuar con datos del sistema SIMEM, utilizado para acceder a información energética en Colombia\n",
    "import pandas as pd                         # Librería para manipulación y análisis de datos en estructuras tipo DataFrame, muy útil para limpiar, transformar y explorar datos\n",
    "import plotly.graph_objects as go           # Módulo de Plotly para crear visualizaciones interactivas y personalizadas, como gráficos de líneas, barras, áreas, etc."
   ]
  },
  {
   "cell_type": "markdown",
   "metadata": {},
   "source": [
    "<a id='section3'></a>\n",
    "# 3. Consultar información de los conjuntos de datos\n",
    "El método de extracción recibe los parámetros con los que se va a realizar la consulta. \n",
    "El datasetID para un conjunto particular se puede encontrar en el [catálogo de conjuntos de datos.](https://www.simem.co/pages/catalogodatos/51FC0A59-3A00-462C-B449-9CB8D5E007FB)  \n",
    "Para este ejemplo el conjunto a presentar es  [Energía Firme del Cargo por Confiabilidad verificada por el Centro Nacional de Despacho](https://www.simem.co/datadetail/B38EFCD8-C26F-44BF-ADDD-162E64A788F3)."
   ]
  },
  {
   "cell_type": "markdown",
   "metadata": {},
   "source": [
    "Se definen los parámetros de entrada y se crea el objeto ReadSIMEM() para realizar las consultas."
   ]
  },
  {
   "cell_type": "markdown",
   "metadata": {},
   "source": [
    "La función main contiene todo el proceso para transportar la información del dataset entre el rango de fechas solicitadas a un dataframe. Después de este paso, el proceso es de manipulación y visualización de datos."
   ]
  },
  {
   "cell_type": "code",
   "execution_count": 3,
   "metadata": {},
   "outputs": [
    {
     "name": "stdout",
     "output_type": "stream",
     "text": [
      "****************************************************************************************************\n",
      "Initializing object\n",
      "The object has been initialized with the dataset: \"Energía Firme del Cargo por Confiabilidad verificada por el Centro Nacional de Despacho\"\n",
      "****************************************************************************************************\n",
      "Inicio consulta sincronica\n",
      "Creacion url: 0.001157999038696289\n",
      "Extraccion de registros: 13.664490222930908\n",
      "End of data extracting process\n",
      "****************************************************************************************************\n"
     ]
    },
    {
     "data": {
      "application/vnd.microsoft.datawrangler.viewer.v0+json": {
       "columns": [
        {
         "name": "index",
         "rawType": "int64",
         "type": "integer"
        },
        {
         "name": "Fecha",
         "rawType": "object",
         "type": "string"
        },
        {
         "name": "FechaInicio",
         "rawType": "object",
         "type": "string"
        },
        {
         "name": "FechaFin",
         "rawType": "object",
         "type": "string"
        },
        {
         "name": "CodigoPlanta",
         "rawType": "object",
         "type": "string"
        },
        {
         "name": "ENFICCVerificada",
         "rawType": "float64",
         "type": "float"
        },
        {
         "name": "FechaPublicacion",
         "rawType": "object",
         "type": "string"
        }
       ],
       "ref": "07a936a1-0ced-4eff-9f3b-d39ea10c3579",
       "rows": [
        [
         "0",
         "2025-01-31",
         "2023-12-01",
         "2050-11-30",
         "TEC1",
         "4806987.0",
         "2024-02-08"
        ],
        [
         "1",
         "2025-01-31",
         "2022-12-01",
         "2046-11-30",
         "TCBE",
         "806400.0",
         "2023-01-06"
        ],
        [
         "2",
         "2025-01-31",
         "2023-12-01",
         "2050-11-30",
         "ESMR",
         "312088.0",
         "2024-02-08"
        ],
        [
         "3",
         "2025-01-31",
         "2023-12-01",
         "2050-11-30",
         "URA1",
         "2127258.0",
         "2024-02-08"
        ],
        [
         "4",
         "2025-01-31",
         "2023-12-01",
         "2050-11-30",
         "PPA1",
         "654600.0",
         "2024-02-08"
        ],
        [
         "5",
         "2025-01-31",
         "2023-12-01",
         "2050-11-30",
         "CLMG",
         "233962.0",
         "2024-02-08"
        ],
        [
         "6",
         "2025-01-31",
         "2023-12-01",
         "2050-11-30",
         "TFL4",
         "9957707.0",
         "2024-02-08"
        ],
        [
         "7",
         "2025-01-31",
         "2023-12-01",
         "2050-11-30",
         "3IZ6",
         "371517.0",
         "2024-02-08"
        ],
        [
         "8",
         "2025-01-31",
         "2023-12-01",
         "2050-11-30",
         "ZPA4",
         "1136565.0",
         "2024-02-08"
        ],
        [
         "9",
         "2025-01-31",
         "2023-12-01",
         "2050-11-30",
         "ZPA3",
         "1044547.0",
         "2024-02-08"
        ],
        [
         "10",
         "2025-01-31",
         "2024-03-14",
         "2050-11-30",
         "TYP2",
         "623520.0",
         "2024-03-14"
        ],
        [
         "11",
         "2025-01-31",
         "2023-12-01",
         "2050-11-30",
         "ZPA5",
         "936359.0",
         "2024-02-08"
        ],
        [
         "12",
         "2025-01-31",
         "2023-12-01",
         "2050-11-30",
         "SNFR",
         "426844.0",
         "2024-02-08"
        ],
        [
         "13",
         "2025-01-31",
         "2022-12-01",
         "2046-11-30",
         "GEC3",
         "3348225.0",
         "2023-01-06"
        ],
        [
         "14",
         "2025-01-31",
         "2023-12-01",
         "2050-11-30",
         "3ENA",
         "4559995.0",
         "2024-02-08"
        ],
        [
         "15",
         "2025-01-31",
         "2022-12-01",
         "2046-11-30",
         "GYPO",
         "1201980.0",
         "2023-01-06"
        ],
        [
         "16",
         "2025-01-31",
         "2023-12-01",
         "2050-11-30",
         "TYP3",
         "1137984.0",
         "2024-02-08"
        ],
        [
         "17",
         "2025-01-31",
         "2023-12-01",
         "2050-11-30",
         "TVL1",
         "5478572.0",
         "2024-02-08"
        ],
        [
         "18",
         "2025-01-31",
         "2023-12-01",
         "2050-11-30",
         "PGUG",
         "10438356.0",
         "2024-02-08"
        ],
        [
         "19",
         "2025-01-31",
         "2023-12-01",
         "2050-11-30",
         "TSJ1",
         "3830853.0",
         "2024-02-08"
        ]
       ],
       "shape": {
        "columns": 6,
        "rows": 20
       }
      },
      "text/html": [
       "<div>\n",
       "<style scoped>\n",
       "    .dataframe tbody tr th:only-of-type {\n",
       "        vertical-align: middle;\n",
       "    }\n",
       "\n",
       "    .dataframe tbody tr th {\n",
       "        vertical-align: top;\n",
       "    }\n",
       "\n",
       "    .dataframe thead th {\n",
       "        text-align: right;\n",
       "    }\n",
       "</style>\n",
       "<table border=\"1\" class=\"dataframe\">\n",
       "  <thead>\n",
       "    <tr style=\"text-align: right;\">\n",
       "      <th></th>\n",
       "      <th>Fecha</th>\n",
       "      <th>FechaInicio</th>\n",
       "      <th>FechaFin</th>\n",
       "      <th>CodigoPlanta</th>\n",
       "      <th>ENFICCVerificada</th>\n",
       "      <th>FechaPublicacion</th>\n",
       "    </tr>\n",
       "  </thead>\n",
       "  <tbody>\n",
       "    <tr>\n",
       "      <th>0</th>\n",
       "      <td>2025-01-31</td>\n",
       "      <td>2023-12-01</td>\n",
       "      <td>2050-11-30</td>\n",
       "      <td>TEC1</td>\n",
       "      <td>4806987.0</td>\n",
       "      <td>2024-02-08</td>\n",
       "    </tr>\n",
       "    <tr>\n",
       "      <th>1</th>\n",
       "      <td>2025-01-31</td>\n",
       "      <td>2022-12-01</td>\n",
       "      <td>2046-11-30</td>\n",
       "      <td>TCBE</td>\n",
       "      <td>806400.0</td>\n",
       "      <td>2023-01-06</td>\n",
       "    </tr>\n",
       "    <tr>\n",
       "      <th>2</th>\n",
       "      <td>2025-01-31</td>\n",
       "      <td>2023-12-01</td>\n",
       "      <td>2050-11-30</td>\n",
       "      <td>ESMR</td>\n",
       "      <td>312088.0</td>\n",
       "      <td>2024-02-08</td>\n",
       "    </tr>\n",
       "    <tr>\n",
       "      <th>3</th>\n",
       "      <td>2025-01-31</td>\n",
       "      <td>2023-12-01</td>\n",
       "      <td>2050-11-30</td>\n",
       "      <td>URA1</td>\n",
       "      <td>2127258.0</td>\n",
       "      <td>2024-02-08</td>\n",
       "    </tr>\n",
       "    <tr>\n",
       "      <th>4</th>\n",
       "      <td>2025-01-31</td>\n",
       "      <td>2023-12-01</td>\n",
       "      <td>2050-11-30</td>\n",
       "      <td>PPA1</td>\n",
       "      <td>654600.0</td>\n",
       "      <td>2024-02-08</td>\n",
       "    </tr>\n",
       "    <tr>\n",
       "      <th>5</th>\n",
       "      <td>2025-01-31</td>\n",
       "      <td>2023-12-01</td>\n",
       "      <td>2050-11-30</td>\n",
       "      <td>CLMG</td>\n",
       "      <td>233962.0</td>\n",
       "      <td>2024-02-08</td>\n",
       "    </tr>\n",
       "    <tr>\n",
       "      <th>6</th>\n",
       "      <td>2025-01-31</td>\n",
       "      <td>2023-12-01</td>\n",
       "      <td>2050-11-30</td>\n",
       "      <td>TFL4</td>\n",
       "      <td>9957707.0</td>\n",
       "      <td>2024-02-08</td>\n",
       "    </tr>\n",
       "    <tr>\n",
       "      <th>7</th>\n",
       "      <td>2025-01-31</td>\n",
       "      <td>2023-12-01</td>\n",
       "      <td>2050-11-30</td>\n",
       "      <td>3IZ6</td>\n",
       "      <td>371517.0</td>\n",
       "      <td>2024-02-08</td>\n",
       "    </tr>\n",
       "    <tr>\n",
       "      <th>8</th>\n",
       "      <td>2025-01-31</td>\n",
       "      <td>2023-12-01</td>\n",
       "      <td>2050-11-30</td>\n",
       "      <td>ZPA4</td>\n",
       "      <td>1136565.0</td>\n",
       "      <td>2024-02-08</td>\n",
       "    </tr>\n",
       "    <tr>\n",
       "      <th>9</th>\n",
       "      <td>2025-01-31</td>\n",
       "      <td>2023-12-01</td>\n",
       "      <td>2050-11-30</td>\n",
       "      <td>ZPA3</td>\n",
       "      <td>1044547.0</td>\n",
       "      <td>2024-02-08</td>\n",
       "    </tr>\n",
       "    <tr>\n",
       "      <th>10</th>\n",
       "      <td>2025-01-31</td>\n",
       "      <td>2024-03-14</td>\n",
       "      <td>2050-11-30</td>\n",
       "      <td>TYP2</td>\n",
       "      <td>623520.0</td>\n",
       "      <td>2024-03-14</td>\n",
       "    </tr>\n",
       "    <tr>\n",
       "      <th>11</th>\n",
       "      <td>2025-01-31</td>\n",
       "      <td>2023-12-01</td>\n",
       "      <td>2050-11-30</td>\n",
       "      <td>ZPA5</td>\n",
       "      <td>936359.0</td>\n",
       "      <td>2024-02-08</td>\n",
       "    </tr>\n",
       "    <tr>\n",
       "      <th>12</th>\n",
       "      <td>2025-01-31</td>\n",
       "      <td>2023-12-01</td>\n",
       "      <td>2050-11-30</td>\n",
       "      <td>SNFR</td>\n",
       "      <td>426844.0</td>\n",
       "      <td>2024-02-08</td>\n",
       "    </tr>\n",
       "    <tr>\n",
       "      <th>13</th>\n",
       "      <td>2025-01-31</td>\n",
       "      <td>2022-12-01</td>\n",
       "      <td>2046-11-30</td>\n",
       "      <td>GEC3</td>\n",
       "      <td>3348225.0</td>\n",
       "      <td>2023-01-06</td>\n",
       "    </tr>\n",
       "    <tr>\n",
       "      <th>14</th>\n",
       "      <td>2025-01-31</td>\n",
       "      <td>2023-12-01</td>\n",
       "      <td>2050-11-30</td>\n",
       "      <td>3ENA</td>\n",
       "      <td>4559995.0</td>\n",
       "      <td>2024-02-08</td>\n",
       "    </tr>\n",
       "    <tr>\n",
       "      <th>15</th>\n",
       "      <td>2025-01-31</td>\n",
       "      <td>2022-12-01</td>\n",
       "      <td>2046-11-30</td>\n",
       "      <td>GYPO</td>\n",
       "      <td>1201980.0</td>\n",
       "      <td>2023-01-06</td>\n",
       "    </tr>\n",
       "    <tr>\n",
       "      <th>16</th>\n",
       "      <td>2025-01-31</td>\n",
       "      <td>2023-12-01</td>\n",
       "      <td>2050-11-30</td>\n",
       "      <td>TYP3</td>\n",
       "      <td>1137984.0</td>\n",
       "      <td>2024-02-08</td>\n",
       "    </tr>\n",
       "    <tr>\n",
       "      <th>17</th>\n",
       "      <td>2025-01-31</td>\n",
       "      <td>2023-12-01</td>\n",
       "      <td>2050-11-30</td>\n",
       "      <td>TVL1</td>\n",
       "      <td>5478572.0</td>\n",
       "      <td>2024-02-08</td>\n",
       "    </tr>\n",
       "    <tr>\n",
       "      <th>18</th>\n",
       "      <td>2025-01-31</td>\n",
       "      <td>2023-12-01</td>\n",
       "      <td>2050-11-30</td>\n",
       "      <td>PGUG</td>\n",
       "      <td>10438356.0</td>\n",
       "      <td>2024-02-08</td>\n",
       "    </tr>\n",
       "    <tr>\n",
       "      <th>19</th>\n",
       "      <td>2025-01-31</td>\n",
       "      <td>2023-12-01</td>\n",
       "      <td>2050-11-30</td>\n",
       "      <td>TSJ1</td>\n",
       "      <td>3830853.0</td>\n",
       "      <td>2024-02-08</td>\n",
       "    </tr>\n",
       "  </tbody>\n",
       "</table>\n",
       "</div>"
      ],
      "text/plain": [
       "         Fecha FechaInicio    FechaFin CodigoPlanta  ENFICCVerificada  \\\n",
       "0   2025-01-31  2023-12-01  2050-11-30         TEC1         4806987.0   \n",
       "1   2025-01-31  2022-12-01  2046-11-30         TCBE          806400.0   \n",
       "2   2025-01-31  2023-12-01  2050-11-30         ESMR          312088.0   \n",
       "3   2025-01-31  2023-12-01  2050-11-30         URA1         2127258.0   \n",
       "4   2025-01-31  2023-12-01  2050-11-30         PPA1          654600.0   \n",
       "5   2025-01-31  2023-12-01  2050-11-30         CLMG          233962.0   \n",
       "6   2025-01-31  2023-12-01  2050-11-30         TFL4         9957707.0   \n",
       "7   2025-01-31  2023-12-01  2050-11-30         3IZ6          371517.0   \n",
       "8   2025-01-31  2023-12-01  2050-11-30         ZPA4         1136565.0   \n",
       "9   2025-01-31  2023-12-01  2050-11-30         ZPA3         1044547.0   \n",
       "10  2025-01-31  2024-03-14  2050-11-30         TYP2          623520.0   \n",
       "11  2025-01-31  2023-12-01  2050-11-30         ZPA5          936359.0   \n",
       "12  2025-01-31  2023-12-01  2050-11-30         SNFR          426844.0   \n",
       "13  2025-01-31  2022-12-01  2046-11-30         GEC3         3348225.0   \n",
       "14  2025-01-31  2023-12-01  2050-11-30         3ENA         4559995.0   \n",
       "15  2025-01-31  2022-12-01  2046-11-30         GYPO         1201980.0   \n",
       "16  2025-01-31  2023-12-01  2050-11-30         TYP3         1137984.0   \n",
       "17  2025-01-31  2023-12-01  2050-11-30         TVL1         5478572.0   \n",
       "18  2025-01-31  2023-12-01  2050-11-30         PGUG        10438356.0   \n",
       "19  2025-01-31  2023-12-01  2050-11-30         TSJ1         3830853.0   \n",
       "\n",
       "   FechaPublicacion  \n",
       "0        2024-02-08  \n",
       "1        2023-01-06  \n",
       "2        2024-02-08  \n",
       "3        2024-02-08  \n",
       "4        2024-02-08  \n",
       "5        2024-02-08  \n",
       "6        2024-02-08  \n",
       "7        2024-02-08  \n",
       "8        2024-02-08  \n",
       "9        2024-02-08  \n",
       "10       2024-03-14  \n",
       "11       2024-02-08  \n",
       "12       2024-02-08  \n",
       "13       2023-01-06  \n",
       "14       2024-02-08  \n",
       "15       2023-01-06  \n",
       "16       2024-02-08  \n",
       "17       2024-02-08  \n",
       "18       2024-02-08  \n",
       "19       2024-02-08  "
      ]
     },
     "metadata": {},
     "output_type": "display_data"
    }
   ],
   "source": [
    "id_dataset_enficc = 'b38efc'                                              # ID del conjunto de datos a consultar\n",
    "fecha_inicial = '2025-01-01'                                              # Fecha de inicio del rango de consulta\n",
    "fecha_final = '2025-06-30'                                                # Fecha de fin del rango de consulta\n",
    "simem_enficc = ReadSIMEM(id_dataset_enficc, fecha_inicial, fecha_final)   # Instancia de la clase ReadSIMEM con los parámetros definidos\n",
    "df_enficc = simem_enficc.main()                                           # Ejecución del método principal para obtener los datos en un DataFrame\n",
    "display(df_enficc.head(20))                                               # Visualización de las primeras 20 filas del DataFrame"
   ]
  },
  {
   "cell_type": "markdown",
   "metadata": {},
   "source": [
    "Se lee el DataFrame con la información de plantas con el objetivo de cruzar la información"
   ]
  },
  {
   "cell_type": "code",
   "execution_count": 4,
   "metadata": {},
   "outputs": [
    {
     "name": "stdout",
     "output_type": "stream",
     "text": [
      "****************************************************************************************************\n",
      "Initializing object\n",
      "The object has been initialized with the dataset: \"Parámetros técnicos de las plantas de generación\"\n",
      "****************************************************************************************************\n",
      "Inicio consulta sincronica\n",
      "Creacion url: 0.0015172958374023438\n",
      "Extraccion de registros: 10.436033248901367\n",
      "End of data extracting process\n",
      "****************************************************************************************************\n"
     ]
    },
    {
     "data": {
      "application/vnd.microsoft.datawrangler.viewer.v0+json": {
       "columns": [
        {
         "name": "index",
         "rawType": "int64",
         "type": "integer"
        },
        {
         "name": "Fecha",
         "rawType": "object",
         "type": "string"
        },
        {
         "name": "CodigoDuracion",
         "rawType": "object",
         "type": "string"
        },
        {
         "name": "FechaPublicacion",
         "rawType": "object",
         "type": "string"
        },
        {
         "name": "CodigoPlanta",
         "rawType": "object",
         "type": "string"
        },
        {
         "name": "NombrePlanta",
         "rawType": "object",
         "type": "string"
        },
        {
         "name": "CodigoSICAgente",
         "rawType": "object",
         "type": "string"
        },
        {
         "name": "CapEfectivaNeta",
         "rawType": "float64",
         "type": "float"
        },
        {
         "name": "FPO",
         "rawType": "object",
         "type": "string"
        },
        {
         "name": "CodigoSubAreaOperativa",
         "rawType": "object",
         "type": "string"
        },
        {
         "name": "CodigoAreaOperativa",
         "rawType": "object",
         "type": "string"
        },
        {
         "name": "TipoDespachoRecurso",
         "rawType": "object",
         "type": "string"
        },
        {
         "name": "TipoClasificacion",
         "rawType": "object",
         "type": "string"
        },
        {
         "name": "TipoGeneracion",
         "rawType": "object",
         "type": "string"
        }
       ],
       "ref": "0098990a-36e5-4211-a444-e711ad884bd6",
       "rows": [
        [
         "0",
         "2025-01-31",
         "P1D",
         "2025-01-31",
         "2R22",
         "LAGUNETA",
         "ENDG",
         "18000.0",
         "2014-12-17",
         "Are0017",
         "Are0056",
         "No Despachado Centralmente",
         "GENERADOR",
         "Hidraulica"
        ],
        [
         "1",
         "2025-01-31",
         "P1D",
         "2025-01-31",
         "SNT1",
         "SANTA ANA",
         "ENDG",
         "8000.0",
         "2005-06-09",
         "Are0017",
         "Are0056",
         "No Despachado Centralmente",
         "GENERADOR",
         "Hidraulica"
        ],
        [
         "2",
         "2025-01-31",
         "P1D",
         "2025-01-31",
         "2S8N",
         "GUAVIO MENOR",
         "ENDG",
         "9900.0",
         "2016-04-27",
         "Are0017",
         "Are0056",
         "No Despachado Centralmente",
         "GENERADOR",
         "Hidraulica"
        ],
        [
         "3",
         "2025-01-31",
         "P1D",
         "2025-01-31",
         "2UPJ",
         "TEQUENDAMA 1",
         "ENDG",
         "14200.0",
         "2018-04-03",
         "Are0017",
         "Are0056",
         "No Despachado Centralmente",
         "GENERADOR",
         "Hidraulica"
        ],
        [
         "4",
         "2025-01-31",
         "P1D",
         "2025-01-31",
         "USQ1",
         "USAQUEN",
         "ENDG",
         "1800.0",
         "2013-04-15",
         "Are0017",
         "Are0056",
         "No Despachado Centralmente",
         "GENERADOR",
         "Hidraulica"
        ],
        [
         "5",
         "2025-01-31",
         "P1D",
         "2025-01-31",
         "2UPF",
         "TEQUENDAMA 3",
         "ENDG",
         "14200.0",
         "2018-04-03",
         "Are0017",
         "Are0056",
         "No Despachado Centralmente",
         "GENERADOR",
         "Hidraulica"
        ],
        [
         "6",
         "2025-01-31",
         "P1D",
         "2025-01-31",
         "CQT1",
         "CHARQUITO",
         "ENDG",
         "19400.0",
         "2003-08-22",
         "Are0017",
         "Are0056",
         "No Despachado Centralmente",
         "GENERADOR",
         "Hidraulica"
        ],
        [
         "7",
         "2025-01-31",
         "P1D",
         "2025-01-31",
         "2UPD",
         "TEQUENDAMA 2",
         "ENDG",
         "14200.0",
         "2018-04-03",
         "Are0017",
         "Are0056",
         "No Despachado Centralmente",
         "GENERADOR",
         "Hidraulica"
        ],
        [
         "8",
         "2025-01-31",
         "P1D",
         "2025-01-31",
         "SBA1",
         "SUBA",
         "ENDG",
         "2600.0",
         "2013-04-15",
         "Are0017",
         "Are0056",
         "No Despachado Centralmente",
         "GENERADOR",
         "Hidraulica"
        ],
        [
         "9",
         "2025-01-31",
         "P1D",
         "2025-01-31",
         "3GI6",
         "GRANJA SOLAR EL SALADO",
         "FERG",
         "99.8",
         "2023-06-17",
         "Are0032",
         "Are0128",
         "No Despachado Centralmente",
         "GENERADOR",
         "Solar"
        ],
        [
         "10",
         "2025-01-31",
         "P1D",
         "2025-01-31",
         "3LMJ",
         "CELSIA SOLAR BUGALAGRANDE",
         "EPSG",
         "9900.0",
         "2024-09-21",
         "Are0032",
         "Are0128",
         "No Despachado Centralmente",
         "GENERADOR",
         "Solar"
        ],
        [
         "11",
         "2025-01-31",
         "P1D",
         "2025-01-31",
         "3HF7",
         "CELSIA SOLAR LA VICTORIA II",
         "EPSG",
         "21900.0",
         "2023-08-30",
         "Are0032",
         "Are0128",
         "No Despachado Centralmente",
         "GENERADOR",
         "Solar"
        ],
        [
         "12",
         "2025-01-31",
         "P1D",
         "2025-01-31",
         "3HF9",
         "CELSIA SOLAR LA VICTORIA I",
         "EPSG",
         "21900.0",
         "2023-08-30",
         "Are0032",
         "Are0128",
         "No Despachado Centralmente",
         "GENERADOR",
         "Solar"
        ],
        [
         "13",
         "2025-01-31",
         "P1D",
         "2025-01-31",
         "3BZB",
         "CELSIA SOLAR LA PAILA",
         "EPSG",
         "9900.0",
         "2021-08-07",
         "Are0032",
         "Are0128",
         "No Despachado Centralmente",
         "GENERADOR",
         "Solar"
        ],
        [
         "14",
         "2025-01-31",
         "P1D",
         "2025-01-31",
         "3J83",
         "GUAMO",
         "ERRG",
         "9000.0",
         "2024-09-20",
         "Are0031",
         "Are0128",
         "No Despachado Centralmente",
         "GENERADOR",
         "Solar"
        ],
        [
         "15",
         "2025-01-31",
         "P1D",
         "2025-01-31",
         "3J85",
         "NUMBANA",
         "ERRG",
         "9900.0",
         "2024-09-20",
         "Are0031",
         "Are0128",
         "No Despachado Centralmente",
         "GENERADOR",
         "Solar"
        ],
        [
         "16",
         "2025-01-31",
         "P1D",
         "2025-01-31",
         "3FCF",
         "GRANJA SOLAR LANCEROS",
         "EPSG",
         "9100.0",
         "2023-01-30",
         "Are0031",
         "Are0128",
         "No Despachado Centralmente",
         "GENERADOR",
         "Solar"
        ],
        [
         "17",
         "2025-01-31",
         "P1D",
         "2025-01-31",
         "3GVM",
         "CELSIA SOLAR YUMA",
         "EPSG",
         "9100.0",
         "2023-03-27",
         "Are0031",
         "Are0128",
         "No Despachado Centralmente",
         "GENERADOR",
         "Solar"
        ],
        [
         "18",
         "2025-01-31",
         "P1D",
         "2025-01-31",
         "3EXB",
         "CERRITOS",
         "EPSG",
         "11500.0",
         "2022-09-19",
         "Are0031",
         "Are0128",
         "No Despachado Centralmente",
         "GENERADOR",
         "Solar"
        ],
        [
         "19",
         "2025-01-31",
         "P1D",
         "2025-01-31",
         "3GVI",
         "GRANJA SOLAR FLANDES",
         "EPSG",
         "21900.0",
         "2023-03-27",
         "Are0031",
         "Are0128",
         "No Despachado Centralmente",
         "GENERADOR",
         "Solar"
        ],
        [
         "20",
         "2025-01-31",
         "P1D",
         "2025-01-31",
         "3GVK",
         "CELSIA SOLAR DULIMA",
         "EPSG",
         "21900.0",
         "2023-03-27",
         "Are0031",
         "Are0128",
         "No Despachado Centralmente",
         "GENERADOR",
         "Solar"
        ],
        [
         "21",
         "2025-01-31",
         "P1D",
         "2025-01-31",
         "3EV1",
         "LOS CABALLEROS",
         "EPSG",
         "11500.0",
         "2022-09-15",
         "Are0031",
         "Are0128",
         "No Despachado Centralmente",
         "GENERADOR",
         "Solar"
        ],
        [
         "22",
         "2025-01-31",
         "P1D",
         "2025-01-31",
         "3GRD",
         "GRANJA SOLAR SAN FELIPE",
         "EPSG",
         "9100.0",
         "2023-01-30",
         "Are0031",
         "Are0128",
         "No Despachado Centralmente",
         "GENERADOR",
         "Solar"
        ],
        [
         "23",
         "2025-01-31",
         "P1D",
         "2025-01-31",
         "2ZHY",
         "CELSIA SOLAR ESPINAL",
         "EPSG",
         "9900.0",
         "2020-05-31",
         "Are0031",
         "Are0128",
         "No Despachado Centralmente",
         "GENERADOR",
         "Solar"
        ],
        [
         "24",
         "2025-01-31",
         "P1D",
         "2025-01-31",
         "3EV3",
         "LA MEDINA",
         "EPSG",
         "11500.0",
         "2022-09-15",
         "Are0031",
         "Are0128",
         "No Despachado Centralmente",
         "GENERADOR",
         "Solar"
        ],
        [
         "25",
         "2025-01-31",
         "P1D",
         "2025-01-31",
         "3B4L",
         "GRANJA SOLAR BELMONTE",
         "EEPG",
         "5060.0",
         "2021-04-30",
         "Are0022",
         "Are0128",
         "No Despachado Centralmente",
         "GENERADOR",
         "Solar"
        ],
        [
         "26",
         "2025-01-31",
         "P1D",
         "2025-01-31",
         "3HLD",
         "LOS GIRASOLES",
         "PSGG",
         "9500.0",
         "2023-08-05",
         "Are0029",
         "Are0012",
         "No Despachado Centralmente",
         "GENERADOR",
         "Solar"
        ],
        [
         "27",
         "2025-01-31",
         "P1D",
         "2025-01-31",
         "3GJQ",
         "TERMOTASAJERO DOS SOLAR",
         "TERG",
         "4000.0",
         "2022-12-26",
         "Are0029",
         "Are0012",
         "No Despachado Centralmente",
         "GENERADOR",
         "Solar"
        ],
        [
         "28",
         "2025-01-31",
         "P1D",
         "2025-01-31",
         "3HWM",
         "PETALO DEL MAGDALENA",
         "EPSG",
         "11500.0",
         "2023-08-05",
         "Are0025",
         "Are0127",
         "No Despachado Centralmente",
         "GENERADOR",
         "Solar"
        ],
        [
         "29",
         "2025-01-31",
         "P1D",
         "2025-01-31",
         "3J4D",
         "CAIMAN CIENAGUERO",
         "GNYG",
         "9000.0",
         "2023-12-15",
         "Are0025",
         "Are0127",
         "No Despachado Centralmente",
         "GENERADOR",
         "Solar"
        ],
        [
         "30",
         "2025-01-31",
         "P1D",
         "2025-01-31",
         "3RGX",
         "JUMI",
         "GNCG",
         "9900.0",
         "2025-01-17",
         "Are0016",
         "Are0127",
         "No Despachado Centralmente",
         "GENERADOR",
         "Solar"
        ],
        [
         "31",
         "2025-01-31",
         "P1D",
         "2025-01-31",
         "3K8E",
         "BSB 504",
         "ISGG",
         "19900.0",
         "2024-09-27",
         "Are0016",
         "Are0127",
         "No Despachado Centralmente",
         "GENERADOR",
         "Solar"
        ],
        [
         "32",
         "2025-01-31",
         "P1D",
         "2025-01-31",
         "3K8C",
         "BSB 503",
         "ISGG",
         "19900.0",
         "2024-09-26",
         "Are0016",
         "Are0127",
         "No Despachado Centralmente",
         "GENERADOR",
         "Solar"
        ],
        [
         "33",
         "2025-01-31",
         "P1D",
         "2025-01-31",
         "3A44",
         "PLANTA SOLAR BAYUNCA I",
         "EGRG",
         "3000.0",
         "2020-09-30",
         "Are0018",
         "Are0127",
         "No Despachado Centralmente",
         "GENERADOR",
         "Solar"
        ],
        [
         "34",
         "2025-01-31",
         "P1D",
         "2025-01-31",
         "2VJS",
         "CELSIA SOLAR BOLIVAR",
         "EPSG",
         "8060.0",
         "2019-02-03",
         "Are0018",
         "Are0127",
         "No Despachado Centralmente",
         "GENERADOR",
         "Solar"
        ],
        [
         "35",
         "2025-01-31",
         "P1D",
         "2025-01-31",
         "3EBN",
         "GR PARQUE SOLAR TUCANES",
         "EPSG",
         "9900.0",
         "2022-05-31",
         "Are0018",
         "Are0127",
         "No Despachado Centralmente",
         "GENERADOR",
         "Solar"
        ],
        [
         "36",
         "2025-01-31",
         "P1D",
         "2025-01-31",
         "3IS2",
         "PARQUE SOLAR ARENAL",
         "NTCG",
         "2000.0",
         "2023-12-30",
         "Are0018",
         "Are0127",
         "No Despachado Centralmente",
         "GENERADOR",
         "Solar"
        ],
        [
         "37",
         "2025-01-31",
         "P1D",
         "2025-01-31",
         "3NLZ",
         "SOLAR OLD T",
         "GNCG",
         "9900.0",
         "2024-10-16",
         "Are0021",
         "Are0127",
         "No Despachado Centralmente",
         "GENERADOR",
         "Solar"
        ],
        [
         "38",
         "2025-01-31",
         "P1D",
         "2025-01-31",
         "3J2H",
         "PETALO DE CORDOBA II",
         "BCCG",
         "9900.0",
         "2023-12-16",
         "Are0021",
         "Are0127",
         "No Despachado Centralmente",
         "GENERADOR",
         "Solar"
        ],
        [
         "39",
         "2025-01-31",
         "P1D",
         "2025-01-31",
         "3ENE",
         "SINCE",
         "EPSG",
         "18500.0",
         "2022-09-10",
         "Are0021",
         "Are0127",
         "No Despachado Centralmente",
         "GENERADOR",
         "Solar"
        ],
        [
         "40",
         "2025-01-31",
         "P1D",
         "2025-01-31",
         "3K6T",
         "SOLAR ALEJANDRIA",
         "GNYG",
         "9400.0",
         "2024-04-27",
         "Are0021",
         "Are0127",
         "No Despachado Centralmente",
         "GENERADOR",
         "Solar"
        ],
        [
         "41",
         "2025-01-31",
         "P1D",
         "2025-01-31",
         "3CSH",
         "GY SOLAR AURORA",
         "GNYG",
         "9900.0",
         "2022-08-11",
         "Are0021",
         "Are0127",
         "No Despachado Centralmente",
         "GENERADOR",
         "Solar"
        ],
        [
         "42",
         "2025-01-31",
         "P1D",
         "2025-01-31",
         "3KJK",
         "SOL Y CIELO I",
         "EYCG",
         "9900.0",
         "2024-05-26",
         "Are0021",
         "Are0127",
         "No Despachado Centralmente",
         "GENERADOR",
         "Solar"
        ],
        [
         "43",
         "2025-01-31",
         "P1D",
         "2025-01-31",
         "3HBP",
         "LA TOLUA",
         "AAGG",
         "19900.0",
         "2023-04-04",
         "Are0021",
         "Are0127",
         "No Despachado Centralmente",
         "GENERADOR",
         "Solar"
        ],
        [
         "44",
         "2025-01-31",
         "P1D",
         "2025-01-31",
         "AFR1",
         "AGUA FRESCA",
         "ADCG",
         "7290.0",
         "2008-04-10",
         "Are0015",
         "Are0002",
         "No Despachado Centralmente",
         "GENERADOR",
         "Hidraulica"
        ],
        [
         "45",
         "2025-01-31",
         "P1D",
         "2025-01-31",
         "2QBW",
         "EL POPAL",
         "ISGG",
         "19900.0",
         "2014-03-31",
         "Are0015",
         "Are0002",
         "No Despachado Centralmente",
         "GENERADOR",
         "Hidraulica"
        ],
        [
         "46",
         "2025-01-31",
         "P1D",
         "2025-01-31",
         "BAR1",
         "BARROSO",
         "ISGG",
         "19900.0",
         "2012-11-30",
         "Are0015",
         "Are0002",
         "No Despachado Centralmente",
         "GENERADOR",
         "Hidraulica"
        ],
        [
         "47",
         "2025-01-31",
         "P1D",
         "2025-01-31",
         "2TUV",
         "LUZMA II",
         "ISGG",
         "19600.0",
         "2017-10-07",
         "Are0015",
         "Are0002",
         "No Despachado Centralmente",
         "GENERADOR",
         "Hidraulica"
        ],
        [
         "48",
         "2025-01-31",
         "P1D",
         "2025-01-31",
         "CLDR",
         "CALDERAS",
         "ISGG",
         "19900.0",
         "2006-06-30",
         "Are0015",
         "Are0002",
         "No Despachado Centralmente",
         "GENERADOR",
         "Hidraulica"
        ],
        [
         "49",
         "2025-01-31",
         "P1D",
         "2025-01-31",
         "2T1L",
         "EL MOLINO",
         "ISGG",
         "19900.0",
         "2017-04-19",
         "Are0015",
         "Are0002",
         "No Despachado Centralmente",
         "GENERADOR",
         "Hidraulica"
        ]
       ],
       "shape": {
        "columns": 13,
        "rows": 59598
       }
      },
      "text/html": [
       "<div>\n",
       "<style scoped>\n",
       "    .dataframe tbody tr th:only-of-type {\n",
       "        vertical-align: middle;\n",
       "    }\n",
       "\n",
       "    .dataframe tbody tr th {\n",
       "        vertical-align: top;\n",
       "    }\n",
       "\n",
       "    .dataframe thead th {\n",
       "        text-align: right;\n",
       "    }\n",
       "</style>\n",
       "<table border=\"1\" class=\"dataframe\">\n",
       "  <thead>\n",
       "    <tr style=\"text-align: right;\">\n",
       "      <th></th>\n",
       "      <th>Fecha</th>\n",
       "      <th>CodigoDuracion</th>\n",
       "      <th>FechaPublicacion</th>\n",
       "      <th>CodigoPlanta</th>\n",
       "      <th>NombrePlanta</th>\n",
       "      <th>CodigoSICAgente</th>\n",
       "      <th>CapEfectivaNeta</th>\n",
       "      <th>FPO</th>\n",
       "      <th>CodigoSubAreaOperativa</th>\n",
       "      <th>CodigoAreaOperativa</th>\n",
       "      <th>TipoDespachoRecurso</th>\n",
       "      <th>TipoClasificacion</th>\n",
       "      <th>TipoGeneracion</th>\n",
       "    </tr>\n",
       "  </thead>\n",
       "  <tbody>\n",
       "    <tr>\n",
       "      <th>0</th>\n",
       "      <td>2025-01-31</td>\n",
       "      <td>P1D</td>\n",
       "      <td>2025-01-31</td>\n",
       "      <td>2R22</td>\n",
       "      <td>LAGUNETA</td>\n",
       "      <td>ENDG</td>\n",
       "      <td>18000.0</td>\n",
       "      <td>2014-12-17</td>\n",
       "      <td>Are0017</td>\n",
       "      <td>Are0056</td>\n",
       "      <td>No Despachado Centralmente</td>\n",
       "      <td>GENERADOR</td>\n",
       "      <td>Hidraulica</td>\n",
       "    </tr>\n",
       "    <tr>\n",
       "      <th>1</th>\n",
       "      <td>2025-01-31</td>\n",
       "      <td>P1D</td>\n",
       "      <td>2025-01-31</td>\n",
       "      <td>SNT1</td>\n",
       "      <td>SANTA ANA</td>\n",
       "      <td>ENDG</td>\n",
       "      <td>8000.0</td>\n",
       "      <td>2005-06-09</td>\n",
       "      <td>Are0017</td>\n",
       "      <td>Are0056</td>\n",
       "      <td>No Despachado Centralmente</td>\n",
       "      <td>GENERADOR</td>\n",
       "      <td>Hidraulica</td>\n",
       "    </tr>\n",
       "    <tr>\n",
       "      <th>2</th>\n",
       "      <td>2025-01-31</td>\n",
       "      <td>P1D</td>\n",
       "      <td>2025-01-31</td>\n",
       "      <td>2S8N</td>\n",
       "      <td>GUAVIO MENOR</td>\n",
       "      <td>ENDG</td>\n",
       "      <td>9900.0</td>\n",
       "      <td>2016-04-27</td>\n",
       "      <td>Are0017</td>\n",
       "      <td>Are0056</td>\n",
       "      <td>No Despachado Centralmente</td>\n",
       "      <td>GENERADOR</td>\n",
       "      <td>Hidraulica</td>\n",
       "    </tr>\n",
       "    <tr>\n",
       "      <th>3</th>\n",
       "      <td>2025-01-31</td>\n",
       "      <td>P1D</td>\n",
       "      <td>2025-01-31</td>\n",
       "      <td>2UPJ</td>\n",
       "      <td>TEQUENDAMA 1</td>\n",
       "      <td>ENDG</td>\n",
       "      <td>14200.0</td>\n",
       "      <td>2018-04-03</td>\n",
       "      <td>Are0017</td>\n",
       "      <td>Are0056</td>\n",
       "      <td>No Despachado Centralmente</td>\n",
       "      <td>GENERADOR</td>\n",
       "      <td>Hidraulica</td>\n",
       "    </tr>\n",
       "    <tr>\n",
       "      <th>4</th>\n",
       "      <td>2025-01-31</td>\n",
       "      <td>P1D</td>\n",
       "      <td>2025-01-31</td>\n",
       "      <td>USQ1</td>\n",
       "      <td>USAQUEN</td>\n",
       "      <td>ENDG</td>\n",
       "      <td>1800.0</td>\n",
       "      <td>2013-04-15</td>\n",
       "      <td>Are0017</td>\n",
       "      <td>Are0056</td>\n",
       "      <td>No Despachado Centralmente</td>\n",
       "      <td>GENERADOR</td>\n",
       "      <td>Hidraulica</td>\n",
       "    </tr>\n",
       "    <tr>\n",
       "      <th>...</th>\n",
       "      <td>...</td>\n",
       "      <td>...</td>\n",
       "      <td>...</td>\n",
       "      <td>...</td>\n",
       "      <td>...</td>\n",
       "      <td>...</td>\n",
       "      <td>...</td>\n",
       "      <td>...</td>\n",
       "      <td>...</td>\n",
       "      <td>...</td>\n",
       "      <td>...</td>\n",
       "      <td>...</td>\n",
       "      <td>...</td>\n",
       "    </tr>\n",
       "    <tr>\n",
       "      <th>59593</th>\n",
       "      <td>2025-06-01</td>\n",
       "      <td>P1D</td>\n",
       "      <td>2025-06-01</td>\n",
       "      <td>RPL1</td>\n",
       "      <td>INGENIO RIOPAILA 1</td>\n",
       "      <td>RPEG</td>\n",
       "      <td>16000.0</td>\n",
       "      <td>2018-05-21</td>\n",
       "      <td>Are0032</td>\n",
       "      <td>Are0128</td>\n",
       "      <td>No Despachado Centralmente</td>\n",
       "      <td>COGENERADOR</td>\n",
       "      <td>Termica</td>\n",
       "    </tr>\n",
       "    <tr>\n",
       "      <th>59594</th>\n",
       "      <td>2025-06-01</td>\n",
       "      <td>P1D</td>\n",
       "      <td>2025-06-01</td>\n",
       "      <td>PNC1</td>\n",
       "      <td>COGENERADOR PROENCA</td>\n",
       "      <td>PECG</td>\n",
       "      <td>19900.0</td>\n",
       "      <td>2014-04-29</td>\n",
       "      <td>Are0019</td>\n",
       "      <td>Are0128</td>\n",
       "      <td>No Despachado Centralmente</td>\n",
       "      <td>COGENERADOR</td>\n",
       "      <td>Termica</td>\n",
       "    </tr>\n",
       "    <tr>\n",
       "      <th>59595</th>\n",
       "      <td>2025-06-01</td>\n",
       "      <td>P1D</td>\n",
       "      <td>2025-06-01</td>\n",
       "      <td>INC1</td>\n",
       "      <td>INCAUCA 1</td>\n",
       "      <td>NTCG</td>\n",
       "      <td>60000.0</td>\n",
       "      <td>1998-10-21</td>\n",
       "      <td>Are0019</td>\n",
       "      <td>Are0128</td>\n",
       "      <td>No Despachado Centralmente</td>\n",
       "      <td>COGENERADOR</td>\n",
       "      <td>Termica</td>\n",
       "    </tr>\n",
       "    <tr>\n",
       "      <th>59596</th>\n",
       "      <td>2025-06-01</td>\n",
       "      <td>P1D</td>\n",
       "      <td>2025-06-01</td>\n",
       "      <td>4WWY</td>\n",
       "      <td>GD SAN MARTIN</td>\n",
       "      <td>EMSG</td>\n",
       "      <td>990.0</td>\n",
       "      <td>2025-05-11</td>\n",
       "      <td>Are0027</td>\n",
       "      <td>Are0056</td>\n",
       "      <td>No Despachado Centralmente</td>\n",
       "      <td>GENERADOR DISTRIBUIDO</td>\n",
       "      <td>Solar</td>\n",
       "    </tr>\n",
       "    <tr>\n",
       "      <th>59597</th>\n",
       "      <td>2025-06-01</td>\n",
       "      <td>P1D</td>\n",
       "      <td>2025-06-01</td>\n",
       "      <td>4XQA</td>\n",
       "      <td>GD SAN MARTIN II</td>\n",
       "      <td>EMSG</td>\n",
       "      <td>990.0</td>\n",
       "      <td>2025-05-25</td>\n",
       "      <td>Are0027</td>\n",
       "      <td>Are0056</td>\n",
       "      <td>No Despachado Centralmente</td>\n",
       "      <td>GENERADOR DISTRIBUIDO</td>\n",
       "      <td>Solar</td>\n",
       "    </tr>\n",
       "  </tbody>\n",
       "</table>\n",
       "<p>59598 rows × 13 columns</p>\n",
       "</div>"
      ],
      "text/plain": [
       "            Fecha CodigoDuracion FechaPublicacion CodigoPlanta  \\\n",
       "0      2025-01-31            P1D       2025-01-31         2R22   \n",
       "1      2025-01-31            P1D       2025-01-31         SNT1   \n",
       "2      2025-01-31            P1D       2025-01-31         2S8N   \n",
       "3      2025-01-31            P1D       2025-01-31         2UPJ   \n",
       "4      2025-01-31            P1D       2025-01-31         USQ1   \n",
       "...           ...            ...              ...          ...   \n",
       "59593  2025-06-01            P1D       2025-06-01         RPL1   \n",
       "59594  2025-06-01            P1D       2025-06-01         PNC1   \n",
       "59595  2025-06-01            P1D       2025-06-01         INC1   \n",
       "59596  2025-06-01            P1D       2025-06-01         4WWY   \n",
       "59597  2025-06-01            P1D       2025-06-01         4XQA   \n",
       "\n",
       "              NombrePlanta CodigoSICAgente  CapEfectivaNeta         FPO  \\\n",
       "0                 LAGUNETA            ENDG          18000.0  2014-12-17   \n",
       "1                SANTA ANA            ENDG           8000.0  2005-06-09   \n",
       "2             GUAVIO MENOR            ENDG           9900.0  2016-04-27   \n",
       "3             TEQUENDAMA 1            ENDG          14200.0  2018-04-03   \n",
       "4                  USAQUEN            ENDG           1800.0  2013-04-15   \n",
       "...                    ...             ...              ...         ...   \n",
       "59593   INGENIO RIOPAILA 1            RPEG          16000.0  2018-05-21   \n",
       "59594  COGENERADOR PROENCA            PECG          19900.0  2014-04-29   \n",
       "59595            INCAUCA 1            NTCG          60000.0  1998-10-21   \n",
       "59596        GD SAN MARTIN            EMSG            990.0  2025-05-11   \n",
       "59597     GD SAN MARTIN II            EMSG            990.0  2025-05-25   \n",
       "\n",
       "      CodigoSubAreaOperativa CodigoAreaOperativa         TipoDespachoRecurso  \\\n",
       "0                    Are0017             Are0056  No Despachado Centralmente   \n",
       "1                    Are0017             Are0056  No Despachado Centralmente   \n",
       "2                    Are0017             Are0056  No Despachado Centralmente   \n",
       "3                    Are0017             Are0056  No Despachado Centralmente   \n",
       "4                    Are0017             Are0056  No Despachado Centralmente   \n",
       "...                      ...                 ...                         ...   \n",
       "59593                Are0032             Are0128  No Despachado Centralmente   \n",
       "59594                Are0019             Are0128  No Despachado Centralmente   \n",
       "59595                Are0019             Are0128  No Despachado Centralmente   \n",
       "59596                Are0027             Are0056  No Despachado Centralmente   \n",
       "59597                Are0027             Are0056  No Despachado Centralmente   \n",
       "\n",
       "           TipoClasificacion TipoGeneracion  \n",
       "0                  GENERADOR     Hidraulica  \n",
       "1                  GENERADOR     Hidraulica  \n",
       "2                  GENERADOR     Hidraulica  \n",
       "3                  GENERADOR     Hidraulica  \n",
       "4                  GENERADOR     Hidraulica  \n",
       "...                      ...            ...  \n",
       "59593            COGENERADOR        Termica  \n",
       "59594            COGENERADOR        Termica  \n",
       "59595            COGENERADOR        Termica  \n",
       "59596  GENERADOR DISTRIBUIDO          Solar  \n",
       "59597  GENERADOR DISTRIBUIDO          Solar  \n",
       "\n",
       "[59598 rows x 13 columns]"
      ]
     },
     "execution_count": 4,
     "metadata": {},
     "output_type": "execute_result"
    }
   ],
   "source": [
    "id_dataset_plantas = '0BFC9D'                                               # ID del conjunto de datos a consultar\n",
    "fecha_inicial = '2025-01-01'                                                # Fecha de inicio del rango de consulta\n",
    "fecha_final = '2025-06-30'                                                  # Fecha de fin del rango de consulta\n",
    "simem_plantas = ReadSIMEM(id_dataset_plantas, fecha_inicial, fecha_final)   # Instancia de la clase ReadSIMEM con los parámetros definidos\n",
    "df_plantas = simem_plantas.main()                                           # Ejecución del método principal para obtener los datos en un DataFrame\n",
    "df_plantas"
   ]
  },
  {
   "cell_type": "markdown",
   "metadata": {},
   "source": [
    "<a id='section4'></a>\n",
    "# 4. Manipulación de datos\n",
    "Los siguientes pasos corresponden a las actividades de manipulación y preparación de los datos que son relevantes para el análisis. "
   ]
  },
  {
   "cell_type": "markdown",
   "metadata": {},
   "source": [
    "Los dataframes se filtarán para tener los datos necesarios para la visualización."
   ]
  },
  {
   "cell_type": "code",
   "execution_count": 5,
   "metadata": {},
   "outputs": [
    {
     "data": {
      "application/vnd.microsoft.datawrangler.viewer.v0+json": {
       "columns": [
        {
         "name": "index",
         "rawType": "int64",
         "type": "integer"
        },
        {
         "name": "Fecha",
         "rawType": "object",
         "type": "string"
        },
        {
         "name": "CodigoPlanta",
         "rawType": "object",
         "type": "string"
        },
        {
         "name": "ENFICCVerificada",
         "rawType": "float64",
         "type": "float"
        },
        {
         "name": "FechaInicio",
         "rawType": "object",
         "type": "string"
        }
       ],
       "ref": "968936d0-757c-4807-bc2d-d4eb09a1364a",
       "rows": [
        [
         "0",
         "2025-06-26",
         "3HF5",
         "176962.0",
         "2023-12-01"
        ],
        [
         "1",
         "2025-03-23",
         "TYP2",
         "623520.0",
         "2024-03-14"
        ],
        [
         "2",
         "2025-04-02",
         "CHVR",
         "8021002.0",
         "2023-12-01"
        ],
        [
         "3",
         "2025-04-02",
         "LTSJ",
         "2328817.0",
         "2023-12-01"
        ],
        [
         "4",
         "2025-04-02",
         "TYP4",
         "1140000.0",
         "2023-12-01"
        ],
        [
         "5",
         "2025-05-19",
         "GE32",
         "5283895.0",
         "2023-12-01"
        ],
        [
         "6",
         "2025-04-02",
         "3IQA",
         "81352.0",
         "2023-12-01"
        ],
        [
         "7",
         "2025-04-02",
         "TRM1",
         "5385396.0",
         "2023-12-01"
        ],
        [
         "8",
         "2025-04-02",
         "SNCR",
         "12389592.0",
         "2023-12-01"
        ],
        [
         "9",
         "2025-04-02",
         "PPA4",
         "3865079.0",
         "2023-12-01"
        ],
        [
         "10",
         "2025-05-22",
         "CLL1",
         "773809.0",
         "2023-12-01"
        ],
        [
         "11",
         "2025-04-02",
         "PRG1",
         "1800271.0",
         "2023-12-01"
        ],
        [
         "12",
         "2025-05-19",
         "PRC2",
         "2855111.0",
         "2023-12-01"
        ],
        [
         "13",
         "2025-05-19",
         "TCDT",
         "12653987.0",
         "2023-12-01"
        ],
        [
         "14",
         "2025-04-03",
         "PPA3",
         "1317595.0",
         "2023-12-01"
        ],
        [
         "15",
         "2025-04-03",
         "PRDO",
         "105787.0",
         "2023-12-01"
        ],
        [
         "16",
         "2025-04-03",
         "PPA2",
         "1348053.0",
         "2023-12-01"
        ],
        [
         "17",
         "2025-04-03",
         "CHBG",
         "4368371.0",
         "2023-12-01"
        ],
        [
         "18",
         "2025-04-03",
         "PES1",
         "14444252.0",
         "2023-12-01"
        ],
        [
         "19",
         "2025-04-03",
         "TGJ2",
         "2280523.0",
         "2023-12-01"
        ],
        [
         "20",
         "2025-04-03",
         "GTPE",
         "4439548.0",
         "2023-12-01"
        ],
        [
         "21",
         "2025-04-03",
         "QUI1",
         "4846529.0",
         "2023-12-01"
        ],
        [
         "22",
         "2025-04-03",
         "JAGS",
         "1129478.0",
         "2023-12-01"
        ],
        [
         "23",
         "2025-04-03",
         "TBQ3",
         "1335125.0",
         "2023-12-01"
        ],
        [
         "24",
         "2025-04-03",
         "GVIO",
         "12093027.0",
         "2023-12-01"
        ],
        [
         "25",
         "2025-04-02",
         "MATA",
         "249483.0",
         "2023-12-01"
        ],
        [
         "26",
         "2025-04-03",
         "TYP5",
         "1131536.0",
         "2023-12-01"
        ],
        [
         "27",
         "2025-04-03",
         "ZPA2",
         "534624.0",
         "2023-12-01"
        ],
        [
         "28",
         "2025-04-02",
         "TDR1",
         "892404.0",
         "2023-12-01"
        ],
        [
         "29",
         "2025-04-02",
         "GTRG",
         "5587319.0",
         "2023-12-01"
        ],
        [
         "30",
         "2025-04-02",
         "TYP1",
         "189600.0",
         "2023-12-01"
        ],
        [
         "31",
         "2025-04-02",
         "CUC1",
         "157017.0",
         "2023-12-01"
        ],
        [
         "32",
         "2025-04-02",
         "URA1",
         "2127258.0",
         "2023-12-01"
        ],
        [
         "33",
         "2025-04-02",
         "PPA1",
         "654600.0",
         "2023-12-01"
        ],
        [
         "34",
         "2025-04-02",
         "CLMG",
         "233962.0",
         "2023-12-01"
        ],
        [
         "35",
         "2025-04-02",
         "TFL4",
         "9957707.0",
         "2023-12-01"
        ],
        [
         "36",
         "2025-04-02",
         "3IZ6",
         "371517.0",
         "2023-12-01"
        ],
        [
         "37",
         "2025-04-02",
         "ZPA4",
         "1136565.0",
         "2023-12-01"
        ],
        [
         "38",
         "2025-04-02",
         "ZPA3",
         "1044547.0",
         "2023-12-01"
        ],
        [
         "39",
         "2025-05-19",
         "TVL1",
         "5478572.0",
         "2023-12-01"
        ],
        [
         "40",
         "2025-04-02",
         "ZPA5",
         "936359.0",
         "2023-12-01"
        ],
        [
         "41",
         "2025-04-02",
         "SNFR",
         "426844.0",
         "2023-12-01"
        ],
        [
         "42",
         "2025-04-02",
         "3ENA",
         "4559995.0",
         "2023-12-01"
        ],
        [
         "43",
         "2025-05-19",
         "TYP3",
         "1137984.0",
         "2023-12-01"
        ],
        [
         "44",
         "2025-04-02",
         "PGUG",
         "10438356.0",
         "2023-12-01"
        ],
        [
         "45",
         "2025-04-02",
         "ESMR",
         "312088.0",
         "2023-12-01"
        ],
        [
         "46",
         "2025-05-19",
         "PRC3",
         "7892689.0",
         "2023-12-01"
        ],
        [
         "47",
         "2025-04-02",
         "TEC1",
         "4806987.0",
         "2023-12-01"
        ],
        [
         "48",
         "2025-04-02",
         "MOY1",
         "591857.0",
         "2023-12-01"
        ],
        [
         "49",
         "2025-04-02",
         "SMI1",
         "226889.0",
         "2023-12-01"
        ]
       ],
       "shape": {
        "columns": 4,
        "rows": 73
       }
      },
      "text/html": [
       "<div>\n",
       "<style scoped>\n",
       "    .dataframe tbody tr th:only-of-type {\n",
       "        vertical-align: middle;\n",
       "    }\n",
       "\n",
       "    .dataframe tbody tr th {\n",
       "        vertical-align: top;\n",
       "    }\n",
       "\n",
       "    .dataframe thead th {\n",
       "        text-align: right;\n",
       "    }\n",
       "</style>\n",
       "<table border=\"1\" class=\"dataframe\">\n",
       "  <thead>\n",
       "    <tr style=\"text-align: right;\">\n",
       "      <th></th>\n",
       "      <th>Fecha</th>\n",
       "      <th>CodigoPlanta</th>\n",
       "      <th>ENFICCVerificada</th>\n",
       "      <th>FechaInicio</th>\n",
       "    </tr>\n",
       "  </thead>\n",
       "  <tbody>\n",
       "    <tr>\n",
       "      <th>0</th>\n",
       "      <td>2025-06-26</td>\n",
       "      <td>3HF5</td>\n",
       "      <td>176962.0</td>\n",
       "      <td>2023-12-01</td>\n",
       "    </tr>\n",
       "    <tr>\n",
       "      <th>1</th>\n",
       "      <td>2025-03-23</td>\n",
       "      <td>TYP2</td>\n",
       "      <td>623520.0</td>\n",
       "      <td>2024-03-14</td>\n",
       "    </tr>\n",
       "    <tr>\n",
       "      <th>2</th>\n",
       "      <td>2025-04-02</td>\n",
       "      <td>CHVR</td>\n",
       "      <td>8021002.0</td>\n",
       "      <td>2023-12-01</td>\n",
       "    </tr>\n",
       "    <tr>\n",
       "      <th>3</th>\n",
       "      <td>2025-04-02</td>\n",
       "      <td>LTSJ</td>\n",
       "      <td>2328817.0</td>\n",
       "      <td>2023-12-01</td>\n",
       "    </tr>\n",
       "    <tr>\n",
       "      <th>4</th>\n",
       "      <td>2025-04-02</td>\n",
       "      <td>TYP4</td>\n",
       "      <td>1140000.0</td>\n",
       "      <td>2023-12-01</td>\n",
       "    </tr>\n",
       "    <tr>\n",
       "      <th>...</th>\n",
       "      <td>...</td>\n",
       "      <td>...</td>\n",
       "      <td>...</td>\n",
       "      <td>...</td>\n",
       "    </tr>\n",
       "    <tr>\n",
       "      <th>68</th>\n",
       "      <td>2025-03-05</td>\n",
       "      <td>GYPO</td>\n",
       "      <td>1201980.0</td>\n",
       "      <td>2022-12-01</td>\n",
       "    </tr>\n",
       "    <tr>\n",
       "      <th>69</th>\n",
       "      <td>2025-01-24</td>\n",
       "      <td>EPFV</td>\n",
       "      <td>236995.0</td>\n",
       "      <td>2022-12-01</td>\n",
       "    </tr>\n",
       "    <tr>\n",
       "      <th>70</th>\n",
       "      <td>2025-03-07</td>\n",
       "      <td>TCBE</td>\n",
       "      <td>806400.0</td>\n",
       "      <td>2022-12-01</td>\n",
       "    </tr>\n",
       "    <tr>\n",
       "      <th>71</th>\n",
       "      <td>2025-01-30</td>\n",
       "      <td>GEC3</td>\n",
       "      <td>3348225.0</td>\n",
       "      <td>2022-12-01</td>\n",
       "    </tr>\n",
       "    <tr>\n",
       "      <th>72</th>\n",
       "      <td>2025-04-30</td>\n",
       "      <td>3DDT</td>\n",
       "      <td>524465.0</td>\n",
       "      <td>2022-12-01</td>\n",
       "    </tr>\n",
       "  </tbody>\n",
       "</table>\n",
       "<p>73 rows × 4 columns</p>\n",
       "</div>"
      ],
      "text/plain": [
       "         Fecha CodigoPlanta  ENFICCVerificada FechaInicio\n",
       "0   2025-06-26         3HF5          176962.0  2023-12-01\n",
       "1   2025-03-23         TYP2          623520.0  2024-03-14\n",
       "2   2025-04-02         CHVR         8021002.0  2023-12-01\n",
       "3   2025-04-02         LTSJ         2328817.0  2023-12-01\n",
       "4   2025-04-02         TYP4         1140000.0  2023-12-01\n",
       "..         ...          ...               ...         ...\n",
       "68  2025-03-05         GYPO         1201980.0  2022-12-01\n",
       "69  2025-01-24         EPFV          236995.0  2022-12-01\n",
       "70  2025-03-07         TCBE          806400.0  2022-12-01\n",
       "71  2025-01-30         GEC3         3348225.0  2022-12-01\n",
       "72  2025-04-30         3DDT          524465.0  2022-12-01\n",
       "\n",
       "[73 rows x 4 columns]"
      ]
     },
     "execution_count": 5,
     "metadata": {},
     "output_type": "execute_result"
    }
   ],
   "source": [
    "df_enficc = df_enficc.sort_values('FechaPublicacion', ascending=False)                                                      # Se ordenan los datos según la Fecha de Publicación\n",
    "\n",
    "df_enficc_filtrado = df_enficc.drop_duplicates(subset=['FechaInicio','CodigoPlanta'], keep='first').reset_index(drop=True)  # Se obtiene el dato más reciente de cada planta\n",
    "df_enficc_filtrado = df_enficc_filtrado[['Fecha', 'CodigoPlanta','ENFICCVerificada', 'FechaInicio']]                        # Se seleccionan las columnas necesarias para el análisis\n",
    "\n",
    "df_enficc_filtrado                                                                                                          # Se muestra el DataFrame filtrado"
   ]
  },
  {
   "cell_type": "code",
   "execution_count": 6,
   "metadata": {},
   "outputs": [
    {
     "data": {
      "application/vnd.microsoft.datawrangler.viewer.v0+json": {
       "columns": [
        {
         "name": "index",
         "rawType": "int64",
         "type": "integer"
        },
        {
         "name": "CodigoPlanta",
         "rawType": "object",
         "type": "string"
        },
        {
         "name": "TipoGeneracion",
         "rawType": "object",
         "type": "string"
        }
       ],
       "ref": "90b380a9-0af2-473c-a4b4-67d62748487a",
       "rows": [
        [
         "0",
         "3IZ6",
         "Solar"
        ],
        [
         "1",
         "ESMR",
         "Hidraulica"
        ],
        [
         "2",
         "SMI1",
         "Hidraulica"
        ],
        [
         "3",
         "HMIN",
         "Hidraulica"
        ],
        [
         "4",
         "PES1",
         "Hidraulica"
        ],
        [
         "5",
         "PLYS",
         "Hidraulica"
        ],
        [
         "6",
         "CLL1",
         "Hidraulica"
        ],
        [
         "7",
         "GTPE",
         "Hidraulica"
        ],
        [
         "8",
         "JAGS",
         "Hidraulica"
        ],
        [
         "9",
         "SNFR",
         "Hidraulica"
        ],
        [
         "10",
         "QUI1",
         "Hidraulica"
        ],
        [
         "11",
         "HMLG",
         "Hidraulica"
        ],
        [
         "12",
         "CUC1",
         "Hidraulica"
        ],
        [
         "13",
         "MOY1",
         "Hidraulica"
        ],
        [
         "14",
         "PRDO",
         "Hidraulica"
        ],
        [
         "15",
         "CHBG",
         "Hidraulica"
        ],
        [
         "16",
         "CLMG",
         "Hidraulica"
        ],
        [
         "17",
         "ALBG",
         "Hidraulica"
        ],
        [
         "18",
         "GTRG",
         "Hidraulica"
        ],
        [
         "19",
         "PRC2",
         "Hidraulica"
        ],
        [
         "20",
         "PRC3",
         "Hidraulica"
        ],
        [
         "21",
         "SNCR",
         "Hidraulica"
        ],
        [
         "22",
         "3HF5",
         "Solar"
        ],
        [
         "23",
         "EPFV",
         "Solar"
        ],
        [
         "24",
         "3DDT",
         "Solar"
        ],
        [
         "25",
         "3IQA",
         "Solar"
        ],
        [
         "26",
         "MATA",
         "Solar"
        ],
        [
         "27",
         "3IRX",
         "Solar"
        ],
        [
         "28",
         "TPUY",
         "Solar"
        ],
        [
         "29",
         "2QEK",
         "Hidraulica"
        ],
        [
         "30",
         "DVS1",
         "Hidraulica"
        ],
        [
         "31",
         "PGUG",
         "Hidraulica"
        ],
        [
         "32",
         "GVIO",
         "Hidraulica"
        ],
        [
         "33",
         "URA1",
         "Hidraulica"
        ],
        [
         "34",
         "CHVR",
         "Hidraulica"
        ],
        [
         "35",
         "SOG1",
         "Hidraulica"
        ],
        [
         "36",
         "LTSJ",
         "Hidraulica"
        ],
        [
         "37",
         "SLVJ",
         "Hidraulica"
        ],
        [
         "38",
         "ZPA4",
         "Termica"
        ],
        [
         "39",
         "3JPK",
         "Solar"
        ],
        [
         "40",
         "TSJ2",
         "Termica"
        ],
        [
         "41",
         "TYP3",
         "Termica"
        ],
        [
         "42",
         "PPA4",
         "Termica"
        ],
        [
         "43",
         "TYP1",
         "Termica"
        ],
        [
         "44",
         "PPA3",
         "Termica"
        ],
        [
         "45",
         "PPA2",
         "Termica"
        ],
        [
         "46",
         "TYP5",
         "Termica"
        ],
        [
         "47",
         "TSJ1",
         "Termica"
        ],
        [
         "48",
         "MRL1",
         "Termica"
        ],
        [
         "49",
         "ZPA3",
         "Termica"
        ]
       ],
       "shape": {
        "columns": 2,
        "rows": 381
       }
      },
      "text/html": [
       "<div>\n",
       "<style scoped>\n",
       "    .dataframe tbody tr th:only-of-type {\n",
       "        vertical-align: middle;\n",
       "    }\n",
       "\n",
       "    .dataframe tbody tr th {\n",
       "        vertical-align: top;\n",
       "    }\n",
       "\n",
       "    .dataframe thead th {\n",
       "        text-align: right;\n",
       "    }\n",
       "</style>\n",
       "<table border=\"1\" class=\"dataframe\">\n",
       "  <thead>\n",
       "    <tr style=\"text-align: right;\">\n",
       "      <th></th>\n",
       "      <th>CodigoPlanta</th>\n",
       "      <th>TipoGeneracion</th>\n",
       "    </tr>\n",
       "  </thead>\n",
       "  <tbody>\n",
       "    <tr>\n",
       "      <th>0</th>\n",
       "      <td>3IZ6</td>\n",
       "      <td>Solar</td>\n",
       "    </tr>\n",
       "    <tr>\n",
       "      <th>1</th>\n",
       "      <td>ESMR</td>\n",
       "      <td>Hidraulica</td>\n",
       "    </tr>\n",
       "    <tr>\n",
       "      <th>2</th>\n",
       "      <td>SMI1</td>\n",
       "      <td>Hidraulica</td>\n",
       "    </tr>\n",
       "    <tr>\n",
       "      <th>3</th>\n",
       "      <td>HMIN</td>\n",
       "      <td>Hidraulica</td>\n",
       "    </tr>\n",
       "    <tr>\n",
       "      <th>4</th>\n",
       "      <td>PES1</td>\n",
       "      <td>Hidraulica</td>\n",
       "    </tr>\n",
       "    <tr>\n",
       "      <th>...</th>\n",
       "      <td>...</td>\n",
       "      <td>...</td>\n",
       "    </tr>\n",
       "    <tr>\n",
       "      <th>376</th>\n",
       "      <td>3KJK</td>\n",
       "      <td>Solar</td>\n",
       "    </tr>\n",
       "    <tr>\n",
       "      <th>377</th>\n",
       "      <td>3L9B</td>\n",
       "      <td>Solar</td>\n",
       "    </tr>\n",
       "    <tr>\n",
       "      <th>378</th>\n",
       "      <td>3ACC</td>\n",
       "      <td>Solar</td>\n",
       "    </tr>\n",
       "    <tr>\n",
       "      <th>379</th>\n",
       "      <td>3MS2</td>\n",
       "      <td>Solar</td>\n",
       "    </tr>\n",
       "    <tr>\n",
       "      <th>380</th>\n",
       "      <td>2TYI</td>\n",
       "      <td>Solar</td>\n",
       "    </tr>\n",
       "  </tbody>\n",
       "</table>\n",
       "<p>381 rows × 2 columns</p>\n",
       "</div>"
      ],
      "text/plain": [
       "    CodigoPlanta TipoGeneracion\n",
       "0           3IZ6          Solar\n",
       "1           ESMR     Hidraulica\n",
       "2           SMI1     Hidraulica\n",
       "3           HMIN     Hidraulica\n",
       "4           PES1     Hidraulica\n",
       "..           ...            ...\n",
       "376         3KJK          Solar\n",
       "377         3L9B          Solar\n",
       "378         3ACC          Solar\n",
       "379         3MS2          Solar\n",
       "380         2TYI          Solar\n",
       "\n",
       "[381 rows x 2 columns]"
      ]
     },
     "execution_count": 6,
     "metadata": {},
     "output_type": "execute_result"
    }
   ],
   "source": [
    "df_plantas = df_plantas.sort_values('FechaPublicacion', ascending=False)                                          # Se ordenan los datos según la Fecha de Publicación\n",
    "\n",
    "df_plantas_filtrado = df_plantas.drop_duplicates(subset=['CodigoPlanta'], keep='first').reset_index(drop=True)    # Se obtiene el dato más reciente de cada planta\n",
    "df_plantas_filtrado = df_plantas_filtrado[['CodigoPlanta','TipoGeneracion']]                                      # Se seleccionan las columnas necesarias para el cruce de información\n",
    "\n",
    "df_plantas_filtrado                                                                                               # Se muestra el DataFrame de plantas filtrado"
   ]
  },
  {
   "cell_type": "code",
   "execution_count": 7,
   "metadata": {},
   "outputs": [
    {
     "data": {
      "application/vnd.microsoft.datawrangler.viewer.v0+json": {
       "columns": [
        {
         "name": "index",
         "rawType": "int64",
         "type": "integer"
        },
        {
         "name": "Fecha",
         "rawType": "object",
         "type": "string"
        },
        {
         "name": "CodigoPlanta",
         "rawType": "object",
         "type": "string"
        },
        {
         "name": "ENFICCVerificada",
         "rawType": "float64",
         "type": "float"
        },
        {
         "name": "FechaInicio",
         "rawType": "object",
         "type": "string"
        },
        {
         "name": "TipoGeneracion",
         "rawType": "object",
         "type": "unknown"
        }
       ],
       "ref": "a4570811-1120-49df-a58a-91e75bedf2d9",
       "rows": [
        [
         "0",
         "2025-06-26",
         "3HF5",
         "176962.0",
         "2023-12-01",
         "Solar"
        ],
        [
         "1",
         "2025-03-23",
         "TYP2",
         "623520.0",
         "2024-03-14",
         "Termica"
        ],
        [
         "2",
         "2025-04-02",
         "CHVR",
         "8021002.0",
         "2023-12-01",
         "Hidraulica"
        ],
        [
         "3",
         "2025-04-02",
         "LTSJ",
         "2328817.0",
         "2023-12-01",
         "Hidraulica"
        ],
        [
         "4",
         "2025-04-02",
         "TYP4",
         "1140000.0",
         "2023-12-01",
         "Termica"
        ],
        [
         "5",
         "2025-05-19",
         "GE32",
         "5283895.0",
         "2023-12-01",
         "Termica"
        ],
        [
         "6",
         "2025-04-02",
         "3IQA",
         "81352.0",
         "2023-12-01",
         "Solar"
        ],
        [
         "7",
         "2025-04-02",
         "TRM1",
         "5385396.0",
         "2023-12-01",
         "Termica"
        ],
        [
         "8",
         "2025-04-02",
         "SNCR",
         "12389592.0",
         "2023-12-01",
         "Hidraulica"
        ],
        [
         "9",
         "2025-04-02",
         "PPA4",
         "3865079.0",
         "2023-12-01",
         "Termica"
        ],
        [
         "10",
         "2025-05-22",
         "CLL1",
         "773809.0",
         "2023-12-01",
         "Hidraulica"
        ],
        [
         "11",
         "2025-04-02",
         "PRG1",
         "1800271.0",
         "2023-12-01",
         "Termica"
        ],
        [
         "12",
         "2025-05-19",
         "PRC2",
         "2855111.0",
         "2023-12-01",
         "Hidraulica"
        ],
        [
         "13",
         "2025-05-19",
         "TCDT",
         "12653987.0",
         "2023-12-01",
         "Termica"
        ],
        [
         "14",
         "2025-04-03",
         "PPA3",
         "1317595.0",
         "2023-12-01",
         "Termica"
        ],
        [
         "15",
         "2025-04-03",
         "PRDO",
         "105787.0",
         "2023-12-01",
         "Hidraulica"
        ],
        [
         "16",
         "2025-04-03",
         "PPA2",
         "1348053.0",
         "2023-12-01",
         "Termica"
        ],
        [
         "17",
         "2025-04-03",
         "CHBG",
         "4368371.0",
         "2023-12-01",
         "Hidraulica"
        ],
        [
         "18",
         "2025-04-03",
         "PES1",
         "14444252.0",
         "2023-12-01",
         "Hidraulica"
        ],
        [
         "19",
         "2025-04-03",
         "TGJ2",
         "2280523.0",
         "2023-12-01",
         "Termica"
        ],
        [
         "20",
         "2025-04-03",
         "GTPE",
         "4439548.0",
         "2023-12-01",
         "Hidraulica"
        ],
        [
         "21",
         "2025-04-03",
         "QUI1",
         "4846529.0",
         "2023-12-01",
         "Hidraulica"
        ],
        [
         "22",
         "2025-04-03",
         "JAGS",
         "1129478.0",
         "2023-12-01",
         "Hidraulica"
        ],
        [
         "23",
         "2025-04-03",
         "TBQ3",
         "1335125.0",
         "2023-12-01",
         "Termica"
        ],
        [
         "24",
         "2025-04-03",
         "GVIO",
         "12093027.0",
         "2023-12-01",
         "Hidraulica"
        ],
        [
         "25",
         "2025-04-02",
         "MATA",
         "249483.0",
         "2023-12-01",
         "Solar"
        ],
        [
         "26",
         "2025-04-03",
         "TYP5",
         "1131536.0",
         "2023-12-01",
         "Termica"
        ],
        [
         "27",
         "2025-04-03",
         "ZPA2",
         "534624.0",
         "2023-12-01",
         "Termica"
        ],
        [
         "28",
         "2025-04-02",
         "TDR1",
         "892404.0",
         "2023-12-01",
         "Termica"
        ],
        [
         "29",
         "2025-04-02",
         "GTRG",
         "5587319.0",
         "2023-12-01",
         "Hidraulica"
        ],
        [
         "30",
         "2025-04-02",
         "TYP1",
         "189600.0",
         "2023-12-01",
         "Termica"
        ],
        [
         "31",
         "2025-04-02",
         "CUC1",
         "157017.0",
         "2023-12-01",
         "Hidraulica"
        ],
        [
         "32",
         "2025-04-02",
         "URA1",
         "2127258.0",
         "2023-12-01",
         "Hidraulica"
        ],
        [
         "33",
         "2025-04-02",
         "PPA1",
         "654600.0",
         "2023-12-01",
         "Termica"
        ],
        [
         "34",
         "2025-04-02",
         "CLMG",
         "233962.0",
         "2023-12-01",
         "Hidraulica"
        ],
        [
         "35",
         "2025-04-02",
         "TFL4",
         "9957707.0",
         "2023-12-01",
         "Termica"
        ],
        [
         "36",
         "2025-04-02",
         "3IZ6",
         "371517.0",
         "2023-12-01",
         "Solar"
        ],
        [
         "37",
         "2025-04-02",
         "ZPA4",
         "1136565.0",
         "2023-12-01",
         "Termica"
        ],
        [
         "38",
         "2025-04-02",
         "ZPA3",
         "1044547.0",
         "2023-12-01",
         "Termica"
        ],
        [
         "39",
         "2025-05-19",
         "TVL1",
         "5478572.0",
         "2023-12-01",
         "Termica"
        ],
        [
         "40",
         "2025-04-02",
         "ZPA5",
         "936359.0",
         "2023-12-01",
         "Termica"
        ],
        [
         "41",
         "2025-04-02",
         "SNFR",
         "426844.0",
         "2023-12-01",
         "Hidraulica"
        ],
        [
         "42",
         "2025-04-02",
         "3ENA",
         "4559995.0",
         "2023-12-01",
         "Termica"
        ],
        [
         "43",
         "2025-05-19",
         "TYP3",
         "1137984.0",
         "2023-12-01",
         "Termica"
        ],
        [
         "44",
         "2025-04-02",
         "PGUG",
         "10438356.0",
         "2023-12-01",
         "Hidraulica"
        ],
        [
         "45",
         "2025-04-02",
         "ESMR",
         "312088.0",
         "2023-12-01",
         "Hidraulica"
        ],
        [
         "46",
         "2025-05-19",
         "PRC3",
         "7892689.0",
         "2023-12-01",
         "Hidraulica"
        ],
        [
         "47",
         "2025-04-02",
         "TEC1",
         "4806987.0",
         "2023-12-01",
         "Termica"
        ],
        [
         "48",
         "2025-04-02",
         "MOY1",
         "591857.0",
         "2023-12-01",
         "Hidraulica"
        ],
        [
         "49",
         "2025-04-02",
         "SMI1",
         "226889.0",
         "2023-12-01",
         "Hidraulica"
        ]
       ],
       "shape": {
        "columns": 5,
        "rows": 73
       }
      },
      "text/html": [
       "<div>\n",
       "<style scoped>\n",
       "    .dataframe tbody tr th:only-of-type {\n",
       "        vertical-align: middle;\n",
       "    }\n",
       "\n",
       "    .dataframe tbody tr th {\n",
       "        vertical-align: top;\n",
       "    }\n",
       "\n",
       "    .dataframe thead th {\n",
       "        text-align: right;\n",
       "    }\n",
       "</style>\n",
       "<table border=\"1\" class=\"dataframe\">\n",
       "  <thead>\n",
       "    <tr style=\"text-align: right;\">\n",
       "      <th></th>\n",
       "      <th>Fecha</th>\n",
       "      <th>CodigoPlanta</th>\n",
       "      <th>ENFICCVerificada</th>\n",
       "      <th>FechaInicio</th>\n",
       "      <th>TipoGeneracion</th>\n",
       "    </tr>\n",
       "  </thead>\n",
       "  <tbody>\n",
       "    <tr>\n",
       "      <th>0</th>\n",
       "      <td>2025-06-26</td>\n",
       "      <td>3HF5</td>\n",
       "      <td>176962.0</td>\n",
       "      <td>2023-12-01</td>\n",
       "      <td>Solar</td>\n",
       "    </tr>\n",
       "    <tr>\n",
       "      <th>1</th>\n",
       "      <td>2025-03-23</td>\n",
       "      <td>TYP2</td>\n",
       "      <td>623520.0</td>\n",
       "      <td>2024-03-14</td>\n",
       "      <td>Termica</td>\n",
       "    </tr>\n",
       "    <tr>\n",
       "      <th>2</th>\n",
       "      <td>2025-04-02</td>\n",
       "      <td>CHVR</td>\n",
       "      <td>8021002.0</td>\n",
       "      <td>2023-12-01</td>\n",
       "      <td>Hidraulica</td>\n",
       "    </tr>\n",
       "    <tr>\n",
       "      <th>3</th>\n",
       "      <td>2025-04-02</td>\n",
       "      <td>LTSJ</td>\n",
       "      <td>2328817.0</td>\n",
       "      <td>2023-12-01</td>\n",
       "      <td>Hidraulica</td>\n",
       "    </tr>\n",
       "    <tr>\n",
       "      <th>4</th>\n",
       "      <td>2025-04-02</td>\n",
       "      <td>TYP4</td>\n",
       "      <td>1140000.0</td>\n",
       "      <td>2023-12-01</td>\n",
       "      <td>Termica</td>\n",
       "    </tr>\n",
       "    <tr>\n",
       "      <th>...</th>\n",
       "      <td>...</td>\n",
       "      <td>...</td>\n",
       "      <td>...</td>\n",
       "      <td>...</td>\n",
       "      <td>...</td>\n",
       "    </tr>\n",
       "    <tr>\n",
       "      <th>68</th>\n",
       "      <td>2025-03-05</td>\n",
       "      <td>GYPO</td>\n",
       "      <td>1201980.0</td>\n",
       "      <td>2022-12-01</td>\n",
       "      <td>Solar</td>\n",
       "    </tr>\n",
       "    <tr>\n",
       "      <th>69</th>\n",
       "      <td>2025-01-24</td>\n",
       "      <td>EPFV</td>\n",
       "      <td>236995.0</td>\n",
       "      <td>2022-12-01</td>\n",
       "      <td>Solar</td>\n",
       "    </tr>\n",
       "    <tr>\n",
       "      <th>70</th>\n",
       "      <td>2025-03-07</td>\n",
       "      <td>TCBE</td>\n",
       "      <td>806400.0</td>\n",
       "      <td>2022-12-01</td>\n",
       "      <td>Termica</td>\n",
       "    </tr>\n",
       "    <tr>\n",
       "      <th>71</th>\n",
       "      <td>2025-01-30</td>\n",
       "      <td>GEC3</td>\n",
       "      <td>3348225.0</td>\n",
       "      <td>2022-12-01</td>\n",
       "      <td>Termica</td>\n",
       "    </tr>\n",
       "    <tr>\n",
       "      <th>72</th>\n",
       "      <td>2025-04-30</td>\n",
       "      <td>3DDT</td>\n",
       "      <td>524465.0</td>\n",
       "      <td>2022-12-01</td>\n",
       "      <td>Solar</td>\n",
       "    </tr>\n",
       "  </tbody>\n",
       "</table>\n",
       "<p>73 rows × 5 columns</p>\n",
       "</div>"
      ],
      "text/plain": [
       "         Fecha CodigoPlanta  ENFICCVerificada FechaInicio TipoGeneracion\n",
       "0   2025-06-26         3HF5          176962.0  2023-12-01          Solar\n",
       "1   2025-03-23         TYP2          623520.0  2024-03-14        Termica\n",
       "2   2025-04-02         CHVR         8021002.0  2023-12-01     Hidraulica\n",
       "3   2025-04-02         LTSJ         2328817.0  2023-12-01     Hidraulica\n",
       "4   2025-04-02         TYP4         1140000.0  2023-12-01        Termica\n",
       "..         ...          ...               ...         ...            ...\n",
       "68  2025-03-05         GYPO         1201980.0  2022-12-01          Solar\n",
       "69  2025-01-24         EPFV          236995.0  2022-12-01          Solar\n",
       "70  2025-03-07         TCBE          806400.0  2022-12-01        Termica\n",
       "71  2025-01-30         GEC3         3348225.0  2022-12-01        Termica\n",
       "72  2025-04-30         3DDT          524465.0  2022-12-01          Solar\n",
       "\n",
       "[73 rows x 5 columns]"
      ]
     },
     "execution_count": 7,
     "metadata": {},
     "output_type": "execute_result"
    }
   ],
   "source": [
    "df_completo = pd.merge(df_enficc_filtrado, df_plantas_filtrado, on=['CodigoPlanta', 'CodigoPlanta'], how='left')   # Se une el DataFrame de la ENFICC con el DataFrame de plantas\n",
    "df_completo"
   ]
  },
  {
   "cell_type": "code",
   "execution_count": 8,
   "metadata": {},
   "outputs": [
    {
     "data": {
      "application/vnd.microsoft.datawrangler.viewer.v0+json": {
       "columns": [
        {
         "name": "index",
         "rawType": "int64",
         "type": "integer"
        },
        {
         "name": "Fecha",
         "rawType": "object",
         "type": "string"
        },
        {
         "name": "CodigoPlanta",
         "rawType": "object",
         "type": "string"
        },
        {
         "name": "ENFICCVerificada",
         "rawType": "float64",
         "type": "float"
        },
        {
         "name": "TipoGeneracion",
         "rawType": "object",
         "type": "unknown"
        }
       ],
       "ref": "b218d0bf-ed6f-42b7-9830-d7dff18c6d2b",
       "rows": [
        [
         "0",
         "2025-06-26",
         "3HF5",
         "0.176962",
         "Solar"
        ],
        [
         "10",
         "2025-05-22",
         "CLL1",
         "0.773809",
         "Hidraulica"
        ],
        [
         "13",
         "2025-05-19",
         "TCDT",
         "12.653987",
         "Termica"
        ],
        [
         "67",
         "2025-05-19",
         "SOG1",
         "9.575903",
         "Hidraulica"
        ],
        [
         "66",
         "2025-05-19",
         "HMLG",
         "2.290113",
         "Hidraulica"
        ],
        [
         "62",
         "2025-05-19",
         "TSJ1",
         "3.830853",
         "Termica"
        ],
        [
         "5",
         "2025-05-19",
         "GE32",
         "5.283895",
         "Termica"
        ],
        [
         "60",
         "2025-05-19",
         "TBST",
         "18.436293",
         "Termica"
        ],
        [
         "51",
         "2025-05-19",
         "CTG2",
         "0.471325",
         "Termica"
        ],
        [
         "46",
         "2025-05-19",
         "PRC3",
         "7.892689",
         "Hidraulica"
        ],
        [
         "43",
         "2025-05-19",
         "TYP3",
         "1.137984",
         "Termica"
        ],
        [
         "39",
         "2025-05-19",
         "TVL1",
         "5.478572",
         "Termica"
        ],
        [
         "12",
         "2025-05-19",
         "PRC2",
         "2.855111",
         "Hidraulica"
        ],
        [
         "72",
         "2025-04-30",
         "3DDT",
         "0.524465",
         "Solar"
        ],
        [
         "14",
         "2025-04-03",
         "PPA3",
         "1.317595",
         "Termica"
        ],
        [
         "23",
         "2025-04-03",
         "TBQ3",
         "1.335125",
         "Termica"
        ],
        [
         "65",
         "2025-04-03",
         "ALBG",
         "2.060981",
         "Hidraulica"
        ],
        [
         "54",
         "2025-04-03",
         "TBQ4",
         "1.276687",
         "Termica"
        ],
        [
         "27",
         "2025-04-03",
         "ZPA2",
         "0.534624",
         "Termica"
        ],
        [
         "26",
         "2025-04-03",
         "TYP5",
         "1.131536",
         "Termica"
        ],
        [
         "24",
         "2025-04-03",
         "GVIO",
         "12.093027",
         "Hidraulica"
        ],
        [
         "22",
         "2025-04-03",
         "JAGS",
         "1.129478",
         "Hidraulica"
        ],
        [
         "21",
         "2025-04-03",
         "QUI1",
         "4.846529",
         "Hidraulica"
        ],
        [
         "20",
         "2025-04-03",
         "GTPE",
         "4.439548",
         "Hidraulica"
        ],
        [
         "19",
         "2025-04-03",
         "TGJ2",
         "2.280523",
         "Termica"
        ],
        [
         "18",
         "2025-04-03",
         "PES1",
         "14.444252",
         "Hidraulica"
        ],
        [
         "17",
         "2025-04-03",
         "CHBG",
         "4.368371",
         "Hidraulica"
        ],
        [
         "16",
         "2025-04-03",
         "PPA2",
         "1.348053",
         "Termica"
        ],
        [
         "15",
         "2025-04-03",
         "PRDO",
         "0.105787",
         "Hidraulica"
        ],
        [
         "53",
         "2025-04-02",
         "TRN1",
         "1.8299",
         "Termica"
        ],
        [
         "55",
         "2025-04-02",
         "HMIN",
         "0.133498",
         "Hidraulica"
        ],
        [
         "50",
         "2025-04-02",
         "MRL1",
         "1.968",
         "Termica"
        ],
        [
         "52",
         "2025-04-02",
         "CTG1",
         "0.220625",
         "Termica"
        ],
        [
         "7",
         "2025-04-02",
         "TRM1",
         "5.385396",
         "Termica"
        ],
        [
         "57",
         "2025-04-02",
         "TSR1",
         "7.620617",
         "Termica"
        ],
        [
         "56",
         "2025-04-02",
         "SLVJ",
         "1.556587",
         "Hidraulica"
        ],
        [
         "64",
         "2025-04-02",
         "TGJ1",
         "2.424665",
         "Termica"
        ],
        [
         "58",
         "2025-04-02",
         "GCA3",
         "1.578985",
         null
        ],
        [
         "59",
         "2025-04-02",
         "PLYS",
         "3.096603",
         "Hidraulica"
        ],
        [
         "6",
         "2025-04-02",
         "3IQA",
         "0.081352",
         "Solar"
        ],
        [
         "61",
         "2025-04-02",
         "TSJ2",
         "3.937816",
         "Termica"
        ],
        [
         "4",
         "2025-04-02",
         "TYP4",
         "1.14",
         "Termica"
        ],
        [
         "63",
         "2025-04-02",
         "TFL1",
         "3.515013",
         "Termica"
        ],
        [
         "48",
         "2025-04-02",
         "MOY1",
         "0.591857",
         "Hidraulica"
        ],
        [
         "3",
         "2025-04-02",
         "LTSJ",
         "2.328817",
         "Hidraulica"
        ],
        [
         "2",
         "2025-04-02",
         "CHVR",
         "8.021002",
         "Hidraulica"
        ],
        [
         "49",
         "2025-04-02",
         "SMI1",
         "0.226889",
         "Hidraulica"
        ],
        [
         "9",
         "2025-04-02",
         "PPA4",
         "3.865079",
         "Termica"
        ],
        [
         "47",
         "2025-04-02",
         "TEC1",
         "4.806987",
         "Termica"
        ],
        [
         "35",
         "2025-04-02",
         "TFL4",
         "9.957707",
         "Termica"
        ]
       ],
       "shape": {
        "columns": 4,
        "rows": 73
       }
      },
      "text/html": [
       "<div>\n",
       "<style scoped>\n",
       "    .dataframe tbody tr th:only-of-type {\n",
       "        vertical-align: middle;\n",
       "    }\n",
       "\n",
       "    .dataframe tbody tr th {\n",
       "        vertical-align: top;\n",
       "    }\n",
       "\n",
       "    .dataframe thead th {\n",
       "        text-align: right;\n",
       "    }\n",
       "</style>\n",
       "<table border=\"1\" class=\"dataframe\">\n",
       "  <thead>\n",
       "    <tr style=\"text-align: right;\">\n",
       "      <th></th>\n",
       "      <th>Fecha</th>\n",
       "      <th>CodigoPlanta</th>\n",
       "      <th>ENFICCVerificada</th>\n",
       "      <th>TipoGeneracion</th>\n",
       "    </tr>\n",
       "  </thead>\n",
       "  <tbody>\n",
       "    <tr>\n",
       "      <th>0</th>\n",
       "      <td>2025-06-26</td>\n",
       "      <td>3HF5</td>\n",
       "      <td>0.176962</td>\n",
       "      <td>Solar</td>\n",
       "    </tr>\n",
       "    <tr>\n",
       "      <th>10</th>\n",
       "      <td>2025-05-22</td>\n",
       "      <td>CLL1</td>\n",
       "      <td>0.773809</td>\n",
       "      <td>Hidraulica</td>\n",
       "    </tr>\n",
       "    <tr>\n",
       "      <th>13</th>\n",
       "      <td>2025-05-19</td>\n",
       "      <td>TCDT</td>\n",
       "      <td>12.653987</td>\n",
       "      <td>Termica</td>\n",
       "    </tr>\n",
       "    <tr>\n",
       "      <th>67</th>\n",
       "      <td>2025-05-19</td>\n",
       "      <td>SOG1</td>\n",
       "      <td>9.575903</td>\n",
       "      <td>Hidraulica</td>\n",
       "    </tr>\n",
       "    <tr>\n",
       "      <th>66</th>\n",
       "      <td>2025-05-19</td>\n",
       "      <td>HMLG</td>\n",
       "      <td>2.290113</td>\n",
       "      <td>Hidraulica</td>\n",
       "    </tr>\n",
       "    <tr>\n",
       "      <th>...</th>\n",
       "      <td>...</td>\n",
       "      <td>...</td>\n",
       "      <td>...</td>\n",
       "      <td>...</td>\n",
       "    </tr>\n",
       "    <tr>\n",
       "      <th>1</th>\n",
       "      <td>2025-03-23</td>\n",
       "      <td>TYP2</td>\n",
       "      <td>0.623520</td>\n",
       "      <td>Termica</td>\n",
       "    </tr>\n",
       "    <tr>\n",
       "      <th>70</th>\n",
       "      <td>2025-03-07</td>\n",
       "      <td>TCBE</td>\n",
       "      <td>0.806400</td>\n",
       "      <td>Termica</td>\n",
       "    </tr>\n",
       "    <tr>\n",
       "      <th>68</th>\n",
       "      <td>2025-03-05</td>\n",
       "      <td>GYPO</td>\n",
       "      <td>1.201980</td>\n",
       "      <td>Solar</td>\n",
       "    </tr>\n",
       "    <tr>\n",
       "      <th>71</th>\n",
       "      <td>2025-01-30</td>\n",
       "      <td>GEC3</td>\n",
       "      <td>3.348225</td>\n",
       "      <td>Termica</td>\n",
       "    </tr>\n",
       "    <tr>\n",
       "      <th>69</th>\n",
       "      <td>2025-01-24</td>\n",
       "      <td>EPFV</td>\n",
       "      <td>0.236995</td>\n",
       "      <td>Solar</td>\n",
       "    </tr>\n",
       "  </tbody>\n",
       "</table>\n",
       "<p>73 rows × 4 columns</p>\n",
       "</div>"
      ],
      "text/plain": [
       "         Fecha CodigoPlanta  ENFICCVerificada TipoGeneracion\n",
       "0   2025-06-26         3HF5          0.176962          Solar\n",
       "10  2025-05-22         CLL1          0.773809     Hidraulica\n",
       "13  2025-05-19         TCDT         12.653987        Termica\n",
       "67  2025-05-19         SOG1          9.575903     Hidraulica\n",
       "66  2025-05-19         HMLG          2.290113     Hidraulica\n",
       "..         ...          ...               ...            ...\n",
       "1   2025-03-23         TYP2          0.623520        Termica\n",
       "70  2025-03-07         TCBE          0.806400        Termica\n",
       "68  2025-03-05         GYPO          1.201980          Solar\n",
       "71  2025-01-30         GEC3          3.348225        Termica\n",
       "69  2025-01-24         EPFV          0.236995          Solar\n",
       "\n",
       "[73 rows x 4 columns]"
      ]
     },
     "metadata": {},
     "output_type": "display_data"
    }
   ],
   "source": [
    "df_filtrado = df_completo[['Fecha', 'CodigoPlanta','ENFICCVerificada', 'TipoGeneracion']]   # Selecciona únicamente las columnas 'Fecha','CodigoPlanta', 'TipoGeneracion y 'ENFICCVerificada' del DataFrame\n",
    "df_filtrado = df_filtrado.sort_values('Fecha', ascending=False)                             # Se ordenan los datos por Fecha\n",
    "df_filtrado['ENFICCVerificada'] = df_filtrado['ENFICCVerificada']/1000000                   # Se cambia de unidad por Gwh\n",
    "\n",
    "display(df_filtrado)                                                                        # Muestra el DataFrame filtrado"
   ]
  },
  {
   "cell_type": "markdown",
   "metadata": {},
   "source": [
    "<a id='section5'></a>\n",
    "# 5. Análisis para dar respuesta al caso de uso"
   ]
  },
  {
   "cell_type": "markdown",
   "metadata": {},
   "source": [
    "Ahora se grafica el valor del ENFICC por tipo de generación"
   ]
  },
  {
   "cell_type": "code",
   "execution_count": 9,
   "metadata": {},
   "outputs": [
    {
     "data": {
      "application/vnd.plotly.v1+json": {
       "config": {
        "plotlyServerURL": "https://plot.ly"
       },
       "data": [
        {
         "type": "bar",
         "x": [
          "Hidraulica",
          "Solar",
          "Termica"
         ],
         "y": {
          "bdata": "IGCt2jWgXEDhlSTP9b0GQPKWqx+by11A",
          "dtype": "f8"
         }
        }
       ],
       "layout": {
        "template": {
         "data": {
          "bar": [
           {
            "error_x": {
             "color": "#2a3f5f"
            },
            "error_y": {
             "color": "#2a3f5f"
            },
            "marker": {
             "line": {
              "color": "white",
              "width": 0.5
             },
             "pattern": {
              "fillmode": "overlay",
              "size": 10,
              "solidity": 0.2
             }
            },
            "type": "bar"
           }
          ],
          "barpolar": [
           {
            "marker": {
             "line": {
              "color": "white",
              "width": 0.5
             },
             "pattern": {
              "fillmode": "overlay",
              "size": 10,
              "solidity": 0.2
             }
            },
            "type": "barpolar"
           }
          ],
          "carpet": [
           {
            "aaxis": {
             "endlinecolor": "#2a3f5f",
             "gridcolor": "#C8D4E3",
             "linecolor": "#C8D4E3",
             "minorgridcolor": "#C8D4E3",
             "startlinecolor": "#2a3f5f"
            },
            "baxis": {
             "endlinecolor": "#2a3f5f",
             "gridcolor": "#C8D4E3",
             "linecolor": "#C8D4E3",
             "minorgridcolor": "#C8D4E3",
             "startlinecolor": "#2a3f5f"
            },
            "type": "carpet"
           }
          ],
          "choropleth": [
           {
            "colorbar": {
             "outlinewidth": 0,
             "ticks": ""
            },
            "type": "choropleth"
           }
          ],
          "contour": [
           {
            "colorbar": {
             "outlinewidth": 0,
             "ticks": ""
            },
            "colorscale": [
             [
              0,
              "#0d0887"
             ],
             [
              0.1111111111111111,
              "#46039f"
             ],
             [
              0.2222222222222222,
              "#7201a8"
             ],
             [
              0.3333333333333333,
              "#9c179e"
             ],
             [
              0.4444444444444444,
              "#bd3786"
             ],
             [
              0.5555555555555556,
              "#d8576b"
             ],
             [
              0.6666666666666666,
              "#ed7953"
             ],
             [
              0.7777777777777778,
              "#fb9f3a"
             ],
             [
              0.8888888888888888,
              "#fdca26"
             ],
             [
              1,
              "#f0f921"
             ]
            ],
            "type": "contour"
           }
          ],
          "contourcarpet": [
           {
            "colorbar": {
             "outlinewidth": 0,
             "ticks": ""
            },
            "type": "contourcarpet"
           }
          ],
          "heatmap": [
           {
            "colorbar": {
             "outlinewidth": 0,
             "ticks": ""
            },
            "colorscale": [
             [
              0,
              "#0d0887"
             ],
             [
              0.1111111111111111,
              "#46039f"
             ],
             [
              0.2222222222222222,
              "#7201a8"
             ],
             [
              0.3333333333333333,
              "#9c179e"
             ],
             [
              0.4444444444444444,
              "#bd3786"
             ],
             [
              0.5555555555555556,
              "#d8576b"
             ],
             [
              0.6666666666666666,
              "#ed7953"
             ],
             [
              0.7777777777777778,
              "#fb9f3a"
             ],
             [
              0.8888888888888888,
              "#fdca26"
             ],
             [
              1,
              "#f0f921"
             ]
            ],
            "type": "heatmap"
           }
          ],
          "histogram": [
           {
            "marker": {
             "pattern": {
              "fillmode": "overlay",
              "size": 10,
              "solidity": 0.2
             }
            },
            "type": "histogram"
           }
          ],
          "histogram2d": [
           {
            "colorbar": {
             "outlinewidth": 0,
             "ticks": ""
            },
            "colorscale": [
             [
              0,
              "#0d0887"
             ],
             [
              0.1111111111111111,
              "#46039f"
             ],
             [
              0.2222222222222222,
              "#7201a8"
             ],
             [
              0.3333333333333333,
              "#9c179e"
             ],
             [
              0.4444444444444444,
              "#bd3786"
             ],
             [
              0.5555555555555556,
              "#d8576b"
             ],
             [
              0.6666666666666666,
              "#ed7953"
             ],
             [
              0.7777777777777778,
              "#fb9f3a"
             ],
             [
              0.8888888888888888,
              "#fdca26"
             ],
             [
              1,
              "#f0f921"
             ]
            ],
            "type": "histogram2d"
           }
          ],
          "histogram2dcontour": [
           {
            "colorbar": {
             "outlinewidth": 0,
             "ticks": ""
            },
            "colorscale": [
             [
              0,
              "#0d0887"
             ],
             [
              0.1111111111111111,
              "#46039f"
             ],
             [
              0.2222222222222222,
              "#7201a8"
             ],
             [
              0.3333333333333333,
              "#9c179e"
             ],
             [
              0.4444444444444444,
              "#bd3786"
             ],
             [
              0.5555555555555556,
              "#d8576b"
             ],
             [
              0.6666666666666666,
              "#ed7953"
             ],
             [
              0.7777777777777778,
              "#fb9f3a"
             ],
             [
              0.8888888888888888,
              "#fdca26"
             ],
             [
              1,
              "#f0f921"
             ]
            ],
            "type": "histogram2dcontour"
           }
          ],
          "mesh3d": [
           {
            "colorbar": {
             "outlinewidth": 0,
             "ticks": ""
            },
            "type": "mesh3d"
           }
          ],
          "parcoords": [
           {
            "line": {
             "colorbar": {
              "outlinewidth": 0,
              "ticks": ""
             }
            },
            "type": "parcoords"
           }
          ],
          "pie": [
           {
            "automargin": true,
            "type": "pie"
           }
          ],
          "scatter": [
           {
            "fillpattern": {
             "fillmode": "overlay",
             "size": 10,
             "solidity": 0.2
            },
            "type": "scatter"
           }
          ],
          "scatter3d": [
           {
            "line": {
             "colorbar": {
              "outlinewidth": 0,
              "ticks": ""
             }
            },
            "marker": {
             "colorbar": {
              "outlinewidth": 0,
              "ticks": ""
             }
            },
            "type": "scatter3d"
           }
          ],
          "scattercarpet": [
           {
            "marker": {
             "colorbar": {
              "outlinewidth": 0,
              "ticks": ""
             }
            },
            "type": "scattercarpet"
           }
          ],
          "scattergeo": [
           {
            "marker": {
             "colorbar": {
              "outlinewidth": 0,
              "ticks": ""
             }
            },
            "type": "scattergeo"
           }
          ],
          "scattergl": [
           {
            "marker": {
             "colorbar": {
              "outlinewidth": 0,
              "ticks": ""
             }
            },
            "type": "scattergl"
           }
          ],
          "scattermap": [
           {
            "marker": {
             "colorbar": {
              "outlinewidth": 0,
              "ticks": ""
             }
            },
            "type": "scattermap"
           }
          ],
          "scattermapbox": [
           {
            "marker": {
             "colorbar": {
              "outlinewidth": 0,
              "ticks": ""
             }
            },
            "type": "scattermapbox"
           }
          ],
          "scatterpolar": [
           {
            "marker": {
             "colorbar": {
              "outlinewidth": 0,
              "ticks": ""
             }
            },
            "type": "scatterpolar"
           }
          ],
          "scatterpolargl": [
           {
            "marker": {
             "colorbar": {
              "outlinewidth": 0,
              "ticks": ""
             }
            },
            "type": "scatterpolargl"
           }
          ],
          "scatterternary": [
           {
            "marker": {
             "colorbar": {
              "outlinewidth": 0,
              "ticks": ""
             }
            },
            "type": "scatterternary"
           }
          ],
          "surface": [
           {
            "colorbar": {
             "outlinewidth": 0,
             "ticks": ""
            },
            "colorscale": [
             [
              0,
              "#0d0887"
             ],
             [
              0.1111111111111111,
              "#46039f"
             ],
             [
              0.2222222222222222,
              "#7201a8"
             ],
             [
              0.3333333333333333,
              "#9c179e"
             ],
             [
              0.4444444444444444,
              "#bd3786"
             ],
             [
              0.5555555555555556,
              "#d8576b"
             ],
             [
              0.6666666666666666,
              "#ed7953"
             ],
             [
              0.7777777777777778,
              "#fb9f3a"
             ],
             [
              0.8888888888888888,
              "#fdca26"
             ],
             [
              1,
              "#f0f921"
             ]
            ],
            "type": "surface"
           }
          ],
          "table": [
           {
            "cells": {
             "fill": {
              "color": "#EBF0F8"
             },
             "line": {
              "color": "white"
             }
            },
            "header": {
             "fill": {
              "color": "#C8D4E3"
             },
             "line": {
              "color": "white"
             }
            },
            "type": "table"
           }
          ]
         },
         "layout": {
          "annotationdefaults": {
           "arrowcolor": "#2a3f5f",
           "arrowhead": 0,
           "arrowwidth": 1
          },
          "autotypenumbers": "strict",
          "coloraxis": {
           "colorbar": {
            "outlinewidth": 0,
            "ticks": ""
           }
          },
          "colorscale": {
           "diverging": [
            [
             0,
             "#8e0152"
            ],
            [
             0.1,
             "#c51b7d"
            ],
            [
             0.2,
             "#de77ae"
            ],
            [
             0.3,
             "#f1b6da"
            ],
            [
             0.4,
             "#fde0ef"
            ],
            [
             0.5,
             "#f7f7f7"
            ],
            [
             0.6,
             "#e6f5d0"
            ],
            [
             0.7,
             "#b8e186"
            ],
            [
             0.8,
             "#7fbc41"
            ],
            [
             0.9,
             "#4d9221"
            ],
            [
             1,
             "#276419"
            ]
           ],
           "sequential": [
            [
             0,
             "#0d0887"
            ],
            [
             0.1111111111111111,
             "#46039f"
            ],
            [
             0.2222222222222222,
             "#7201a8"
            ],
            [
             0.3333333333333333,
             "#9c179e"
            ],
            [
             0.4444444444444444,
             "#bd3786"
            ],
            [
             0.5555555555555556,
             "#d8576b"
            ],
            [
             0.6666666666666666,
             "#ed7953"
            ],
            [
             0.7777777777777778,
             "#fb9f3a"
            ],
            [
             0.8888888888888888,
             "#fdca26"
            ],
            [
             1,
             "#f0f921"
            ]
           ],
           "sequentialminus": [
            [
             0,
             "#0d0887"
            ],
            [
             0.1111111111111111,
             "#46039f"
            ],
            [
             0.2222222222222222,
             "#7201a8"
            ],
            [
             0.3333333333333333,
             "#9c179e"
            ],
            [
             0.4444444444444444,
             "#bd3786"
            ],
            [
             0.5555555555555556,
             "#d8576b"
            ],
            [
             0.6666666666666666,
             "#ed7953"
            ],
            [
             0.7777777777777778,
             "#fb9f3a"
            ],
            [
             0.8888888888888888,
             "#fdca26"
            ],
            [
             1,
             "#f0f921"
            ]
           ]
          },
          "colorway": [
           "#636efa",
           "#EF553B",
           "#00cc96",
           "#ab63fa",
           "#FFA15A",
           "#19d3f3",
           "#FF6692",
           "#B6E880",
           "#FF97FF",
           "#FECB52"
          ],
          "font": {
           "color": "#2a3f5f"
          },
          "geo": {
           "bgcolor": "white",
           "lakecolor": "white",
           "landcolor": "white",
           "showlakes": true,
           "showland": true,
           "subunitcolor": "#C8D4E3"
          },
          "hoverlabel": {
           "align": "left"
          },
          "hovermode": "closest",
          "mapbox": {
           "style": "light"
          },
          "paper_bgcolor": "white",
          "plot_bgcolor": "white",
          "polar": {
           "angularaxis": {
            "gridcolor": "#EBF0F8",
            "linecolor": "#EBF0F8",
            "ticks": ""
           },
           "bgcolor": "white",
           "radialaxis": {
            "gridcolor": "#EBF0F8",
            "linecolor": "#EBF0F8",
            "ticks": ""
           }
          },
          "scene": {
           "xaxis": {
            "backgroundcolor": "white",
            "gridcolor": "#DFE8F3",
            "gridwidth": 2,
            "linecolor": "#EBF0F8",
            "showbackground": true,
            "ticks": "",
            "zerolinecolor": "#EBF0F8"
           },
           "yaxis": {
            "backgroundcolor": "white",
            "gridcolor": "#DFE8F3",
            "gridwidth": 2,
            "linecolor": "#EBF0F8",
            "showbackground": true,
            "ticks": "",
            "zerolinecolor": "#EBF0F8"
           },
           "zaxis": {
            "backgroundcolor": "white",
            "gridcolor": "#DFE8F3",
            "gridwidth": 2,
            "linecolor": "#EBF0F8",
            "showbackground": true,
            "ticks": "",
            "zerolinecolor": "#EBF0F8"
           }
          },
          "shapedefaults": {
           "line": {
            "color": "#2a3f5f"
           }
          },
          "ternary": {
           "aaxis": {
            "gridcolor": "#DFE8F3",
            "linecolor": "#A2B1C6",
            "ticks": ""
           },
           "baxis": {
            "gridcolor": "#DFE8F3",
            "linecolor": "#A2B1C6",
            "ticks": ""
           },
           "bgcolor": "white",
           "caxis": {
            "gridcolor": "#DFE8F3",
            "linecolor": "#A2B1C6",
            "ticks": ""
           }
          },
          "title": {
           "x": 0.05
          },
          "xaxis": {
           "automargin": true,
           "gridcolor": "#EBF0F8",
           "linecolor": "#EBF0F8",
           "ticks": "",
           "title": {
            "standoff": 15
           },
           "zerolinecolor": "#EBF0F8",
           "zerolinewidth": 2
          },
          "yaxis": {
           "automargin": true,
           "gridcolor": "#EBF0F8",
           "linecolor": "#EBF0F8",
           "ticks": "",
           "title": {
            "standoff": 15
           },
           "zerolinecolor": "#EBF0F8",
           "zerolinewidth": 2
          }
         }
        },
        "title": {
         "text": "ENFICC Verificada agrupada por Tipo de Generación"
        },
        "xaxis": {
         "title": {
          "text": "Tipo Generación"
         }
        },
        "yaxis": {
         "title": {
          "text": "GWh"
         }
        }
       }
      }
     },
     "metadata": {},
     "output_type": "display_data"
    }
   ],
   "source": [
    "df_tipoGeneracion = df_filtrado.groupby('TipoGeneracion')['ENFICCVerificada'].sum().reset_index()  # Se agrupan los datos por tipo de Generación\n",
    "\n",
    "fig = go.Figure()                                               # Crear la figura de gráfico con Plotly\n",
    "\n",
    "fig.add_trace(go.Bar(                                           # Se añade el gráfico de barras\n",
    "    x=df_tipoGeneracion['TipoGeneracion'],                      # Valores Eje X\n",
    "    y=df_tipoGeneracion['ENFICCVerificada']                     # Valores Eje Y\n",
    "))\n",
    "\n",
    "fig.update_layout(                                              # Se Configura el diseño del gráfico\n",
    "    title=\"ENFICC Verificada agrupada por Tipo de Generación\",  # Título del gráfico\n",
    "    xaxis_title='Tipo Generación',                              # Título Eje X\n",
    "    yaxis_title='GWh',                                          # Título Eje Y\n",
    "    template='plotly_white'\n",
    ")\n",
    "\n",
    "fig.show()                                                      # Se muestra el gráfico"
   ]
  },
  {
   "cell_type": "markdown",
   "metadata": {},
   "source": [
    "Se grafican las 5 plantas con mayor ENFICC verificada"
   ]
  },
  {
   "cell_type": "code",
   "execution_count": 10,
   "metadata": {},
   "outputs": [
    {
     "data": {
      "application/vnd.plotly.v1+json": {
       "config": {
        "plotlyServerURL": "https://plot.ly"
       },
       "data": [
        {
         "marker": {
          "color": "lightgreen"
         },
         "type": "bar",
         "x": [
          "TBST",
          "PES1",
          "TCDT",
          "SNCR",
          "GVIO"
         ],
         "y": {
          "bdata": "Rnnm5bBvMkB9XYb/dOMsQLAEUmLXTilABJFFmnjHKEA8SiU8oS8oQA==",
          "dtype": "f8"
         }
        }
       ],
       "layout": {
        "template": {
         "data": {
          "bar": [
           {
            "error_x": {
             "color": "#2a3f5f"
            },
            "error_y": {
             "color": "#2a3f5f"
            },
            "marker": {
             "line": {
              "color": "white",
              "width": 0.5
             },
             "pattern": {
              "fillmode": "overlay",
              "size": 10,
              "solidity": 0.2
             }
            },
            "type": "bar"
           }
          ],
          "barpolar": [
           {
            "marker": {
             "line": {
              "color": "white",
              "width": 0.5
             },
             "pattern": {
              "fillmode": "overlay",
              "size": 10,
              "solidity": 0.2
             }
            },
            "type": "barpolar"
           }
          ],
          "carpet": [
           {
            "aaxis": {
             "endlinecolor": "#2a3f5f",
             "gridcolor": "#C8D4E3",
             "linecolor": "#C8D4E3",
             "minorgridcolor": "#C8D4E3",
             "startlinecolor": "#2a3f5f"
            },
            "baxis": {
             "endlinecolor": "#2a3f5f",
             "gridcolor": "#C8D4E3",
             "linecolor": "#C8D4E3",
             "minorgridcolor": "#C8D4E3",
             "startlinecolor": "#2a3f5f"
            },
            "type": "carpet"
           }
          ],
          "choropleth": [
           {
            "colorbar": {
             "outlinewidth": 0,
             "ticks": ""
            },
            "type": "choropleth"
           }
          ],
          "contour": [
           {
            "colorbar": {
             "outlinewidth": 0,
             "ticks": ""
            },
            "colorscale": [
             [
              0,
              "#0d0887"
             ],
             [
              0.1111111111111111,
              "#46039f"
             ],
             [
              0.2222222222222222,
              "#7201a8"
             ],
             [
              0.3333333333333333,
              "#9c179e"
             ],
             [
              0.4444444444444444,
              "#bd3786"
             ],
             [
              0.5555555555555556,
              "#d8576b"
             ],
             [
              0.6666666666666666,
              "#ed7953"
             ],
             [
              0.7777777777777778,
              "#fb9f3a"
             ],
             [
              0.8888888888888888,
              "#fdca26"
             ],
             [
              1,
              "#f0f921"
             ]
            ],
            "type": "contour"
           }
          ],
          "contourcarpet": [
           {
            "colorbar": {
             "outlinewidth": 0,
             "ticks": ""
            },
            "type": "contourcarpet"
           }
          ],
          "heatmap": [
           {
            "colorbar": {
             "outlinewidth": 0,
             "ticks": ""
            },
            "colorscale": [
             [
              0,
              "#0d0887"
             ],
             [
              0.1111111111111111,
              "#46039f"
             ],
             [
              0.2222222222222222,
              "#7201a8"
             ],
             [
              0.3333333333333333,
              "#9c179e"
             ],
             [
              0.4444444444444444,
              "#bd3786"
             ],
             [
              0.5555555555555556,
              "#d8576b"
             ],
             [
              0.6666666666666666,
              "#ed7953"
             ],
             [
              0.7777777777777778,
              "#fb9f3a"
             ],
             [
              0.8888888888888888,
              "#fdca26"
             ],
             [
              1,
              "#f0f921"
             ]
            ],
            "type": "heatmap"
           }
          ],
          "histogram": [
           {
            "marker": {
             "pattern": {
              "fillmode": "overlay",
              "size": 10,
              "solidity": 0.2
             }
            },
            "type": "histogram"
           }
          ],
          "histogram2d": [
           {
            "colorbar": {
             "outlinewidth": 0,
             "ticks": ""
            },
            "colorscale": [
             [
              0,
              "#0d0887"
             ],
             [
              0.1111111111111111,
              "#46039f"
             ],
             [
              0.2222222222222222,
              "#7201a8"
             ],
             [
              0.3333333333333333,
              "#9c179e"
             ],
             [
              0.4444444444444444,
              "#bd3786"
             ],
             [
              0.5555555555555556,
              "#d8576b"
             ],
             [
              0.6666666666666666,
              "#ed7953"
             ],
             [
              0.7777777777777778,
              "#fb9f3a"
             ],
             [
              0.8888888888888888,
              "#fdca26"
             ],
             [
              1,
              "#f0f921"
             ]
            ],
            "type": "histogram2d"
           }
          ],
          "histogram2dcontour": [
           {
            "colorbar": {
             "outlinewidth": 0,
             "ticks": ""
            },
            "colorscale": [
             [
              0,
              "#0d0887"
             ],
             [
              0.1111111111111111,
              "#46039f"
             ],
             [
              0.2222222222222222,
              "#7201a8"
             ],
             [
              0.3333333333333333,
              "#9c179e"
             ],
             [
              0.4444444444444444,
              "#bd3786"
             ],
             [
              0.5555555555555556,
              "#d8576b"
             ],
             [
              0.6666666666666666,
              "#ed7953"
             ],
             [
              0.7777777777777778,
              "#fb9f3a"
             ],
             [
              0.8888888888888888,
              "#fdca26"
             ],
             [
              1,
              "#f0f921"
             ]
            ],
            "type": "histogram2dcontour"
           }
          ],
          "mesh3d": [
           {
            "colorbar": {
             "outlinewidth": 0,
             "ticks": ""
            },
            "type": "mesh3d"
           }
          ],
          "parcoords": [
           {
            "line": {
             "colorbar": {
              "outlinewidth": 0,
              "ticks": ""
             }
            },
            "type": "parcoords"
           }
          ],
          "pie": [
           {
            "automargin": true,
            "type": "pie"
           }
          ],
          "scatter": [
           {
            "fillpattern": {
             "fillmode": "overlay",
             "size": 10,
             "solidity": 0.2
            },
            "type": "scatter"
           }
          ],
          "scatter3d": [
           {
            "line": {
             "colorbar": {
              "outlinewidth": 0,
              "ticks": ""
             }
            },
            "marker": {
             "colorbar": {
              "outlinewidth": 0,
              "ticks": ""
             }
            },
            "type": "scatter3d"
           }
          ],
          "scattercarpet": [
           {
            "marker": {
             "colorbar": {
              "outlinewidth": 0,
              "ticks": ""
             }
            },
            "type": "scattercarpet"
           }
          ],
          "scattergeo": [
           {
            "marker": {
             "colorbar": {
              "outlinewidth": 0,
              "ticks": ""
             }
            },
            "type": "scattergeo"
           }
          ],
          "scattergl": [
           {
            "marker": {
             "colorbar": {
              "outlinewidth": 0,
              "ticks": ""
             }
            },
            "type": "scattergl"
           }
          ],
          "scattermap": [
           {
            "marker": {
             "colorbar": {
              "outlinewidth": 0,
              "ticks": ""
             }
            },
            "type": "scattermap"
           }
          ],
          "scattermapbox": [
           {
            "marker": {
             "colorbar": {
              "outlinewidth": 0,
              "ticks": ""
             }
            },
            "type": "scattermapbox"
           }
          ],
          "scatterpolar": [
           {
            "marker": {
             "colorbar": {
              "outlinewidth": 0,
              "ticks": ""
             }
            },
            "type": "scatterpolar"
           }
          ],
          "scatterpolargl": [
           {
            "marker": {
             "colorbar": {
              "outlinewidth": 0,
              "ticks": ""
             }
            },
            "type": "scatterpolargl"
           }
          ],
          "scatterternary": [
           {
            "marker": {
             "colorbar": {
              "outlinewidth": 0,
              "ticks": ""
             }
            },
            "type": "scatterternary"
           }
          ],
          "surface": [
           {
            "colorbar": {
             "outlinewidth": 0,
             "ticks": ""
            },
            "colorscale": [
             [
              0,
              "#0d0887"
             ],
             [
              0.1111111111111111,
              "#46039f"
             ],
             [
              0.2222222222222222,
              "#7201a8"
             ],
             [
              0.3333333333333333,
              "#9c179e"
             ],
             [
              0.4444444444444444,
              "#bd3786"
             ],
             [
              0.5555555555555556,
              "#d8576b"
             ],
             [
              0.6666666666666666,
              "#ed7953"
             ],
             [
              0.7777777777777778,
              "#fb9f3a"
             ],
             [
              0.8888888888888888,
              "#fdca26"
             ],
             [
              1,
              "#f0f921"
             ]
            ],
            "type": "surface"
           }
          ],
          "table": [
           {
            "cells": {
             "fill": {
              "color": "#EBF0F8"
             },
             "line": {
              "color": "white"
             }
            },
            "header": {
             "fill": {
              "color": "#C8D4E3"
             },
             "line": {
              "color": "white"
             }
            },
            "type": "table"
           }
          ]
         },
         "layout": {
          "annotationdefaults": {
           "arrowcolor": "#2a3f5f",
           "arrowhead": 0,
           "arrowwidth": 1
          },
          "autotypenumbers": "strict",
          "coloraxis": {
           "colorbar": {
            "outlinewidth": 0,
            "ticks": ""
           }
          },
          "colorscale": {
           "diverging": [
            [
             0,
             "#8e0152"
            ],
            [
             0.1,
             "#c51b7d"
            ],
            [
             0.2,
             "#de77ae"
            ],
            [
             0.3,
             "#f1b6da"
            ],
            [
             0.4,
             "#fde0ef"
            ],
            [
             0.5,
             "#f7f7f7"
            ],
            [
             0.6,
             "#e6f5d0"
            ],
            [
             0.7,
             "#b8e186"
            ],
            [
             0.8,
             "#7fbc41"
            ],
            [
             0.9,
             "#4d9221"
            ],
            [
             1,
             "#276419"
            ]
           ],
           "sequential": [
            [
             0,
             "#0d0887"
            ],
            [
             0.1111111111111111,
             "#46039f"
            ],
            [
             0.2222222222222222,
             "#7201a8"
            ],
            [
             0.3333333333333333,
             "#9c179e"
            ],
            [
             0.4444444444444444,
             "#bd3786"
            ],
            [
             0.5555555555555556,
             "#d8576b"
            ],
            [
             0.6666666666666666,
             "#ed7953"
            ],
            [
             0.7777777777777778,
             "#fb9f3a"
            ],
            [
             0.8888888888888888,
             "#fdca26"
            ],
            [
             1,
             "#f0f921"
            ]
           ],
           "sequentialminus": [
            [
             0,
             "#0d0887"
            ],
            [
             0.1111111111111111,
             "#46039f"
            ],
            [
             0.2222222222222222,
             "#7201a8"
            ],
            [
             0.3333333333333333,
             "#9c179e"
            ],
            [
             0.4444444444444444,
             "#bd3786"
            ],
            [
             0.5555555555555556,
             "#d8576b"
            ],
            [
             0.6666666666666666,
             "#ed7953"
            ],
            [
             0.7777777777777778,
             "#fb9f3a"
            ],
            [
             0.8888888888888888,
             "#fdca26"
            ],
            [
             1,
             "#f0f921"
            ]
           ]
          },
          "colorway": [
           "#636efa",
           "#EF553B",
           "#00cc96",
           "#ab63fa",
           "#FFA15A",
           "#19d3f3",
           "#FF6692",
           "#B6E880",
           "#FF97FF",
           "#FECB52"
          ],
          "font": {
           "color": "#2a3f5f"
          },
          "geo": {
           "bgcolor": "white",
           "lakecolor": "white",
           "landcolor": "white",
           "showlakes": true,
           "showland": true,
           "subunitcolor": "#C8D4E3"
          },
          "hoverlabel": {
           "align": "left"
          },
          "hovermode": "closest",
          "mapbox": {
           "style": "light"
          },
          "paper_bgcolor": "white",
          "plot_bgcolor": "white",
          "polar": {
           "angularaxis": {
            "gridcolor": "#EBF0F8",
            "linecolor": "#EBF0F8",
            "ticks": ""
           },
           "bgcolor": "white",
           "radialaxis": {
            "gridcolor": "#EBF0F8",
            "linecolor": "#EBF0F8",
            "ticks": ""
           }
          },
          "scene": {
           "xaxis": {
            "backgroundcolor": "white",
            "gridcolor": "#DFE8F3",
            "gridwidth": 2,
            "linecolor": "#EBF0F8",
            "showbackground": true,
            "ticks": "",
            "zerolinecolor": "#EBF0F8"
           },
           "yaxis": {
            "backgroundcolor": "white",
            "gridcolor": "#DFE8F3",
            "gridwidth": 2,
            "linecolor": "#EBF0F8",
            "showbackground": true,
            "ticks": "",
            "zerolinecolor": "#EBF0F8"
           },
           "zaxis": {
            "backgroundcolor": "white",
            "gridcolor": "#DFE8F3",
            "gridwidth": 2,
            "linecolor": "#EBF0F8",
            "showbackground": true,
            "ticks": "",
            "zerolinecolor": "#EBF0F8"
           }
          },
          "shapedefaults": {
           "line": {
            "color": "#2a3f5f"
           }
          },
          "ternary": {
           "aaxis": {
            "gridcolor": "#DFE8F3",
            "linecolor": "#A2B1C6",
            "ticks": ""
           },
           "baxis": {
            "gridcolor": "#DFE8F3",
            "linecolor": "#A2B1C6",
            "ticks": ""
           },
           "bgcolor": "white",
           "caxis": {
            "gridcolor": "#DFE8F3",
            "linecolor": "#A2B1C6",
            "ticks": ""
           }
          },
          "title": {
           "x": 0.05
          },
          "xaxis": {
           "automargin": true,
           "gridcolor": "#EBF0F8",
           "linecolor": "#EBF0F8",
           "ticks": "",
           "title": {
            "standoff": 15
           },
           "zerolinecolor": "#EBF0F8",
           "zerolinewidth": 2
          },
          "yaxis": {
           "automargin": true,
           "gridcolor": "#EBF0F8",
           "linecolor": "#EBF0F8",
           "ticks": "",
           "title": {
            "standoff": 15
           },
           "zerolinecolor": "#EBF0F8",
           "zerolinewidth": 2
          }
         }
        },
        "title": {
         "text": "Top 5 Plantas con Mayor ENFICC Verificada"
        },
        "xaxis": {
         "title": {
          "text": "Código Planta"
         }
        },
        "yaxis": {
         "title": {
          "text": "GWh"
         }
        }
       }
      }
     },
     "metadata": {},
     "output_type": "display_data"
    }
   ],
   "source": [
    "df_top_5 = df_filtrado.sort_values(by='ENFICCVerificada', ascending=False).head(5)   # Se ordenan los datos por valor de ENFICC y se seleccionan los 5 mayores\n",
    "\n",
    "fig = go.Figure(data=[                                  # Se crea la gráfica de barras\n",
    "    go.Bar(\n",
    "        x=df_top_5['CodigoPlanta'],                     # Valores Eje X\n",
    "        y=df_top_5['ENFICCVerificada'],                 # Valores Eje Y\n",
    "        marker_color='lightgreen'                       # Color del gráfico\n",
    "    )\n",
    "])\n",
    "\n",
    "fig.update_layout(                                      # Configurar el diseño del gráfico\n",
    "    title='Top 5 Plantas con Mayor ENFICC Verificada',  # Título del gráfico\n",
    "    xaxis_title='Código Planta',                        # Título Eje X\n",
    "    yaxis_title='GWh',                                  # Título Eje Y\n",
    "    template='plotly_white'\n",
    ")\n",
    "\n",
    "fig.show()                                              # Se muestra el gráfico"
   ]
  },
  {
   "cell_type": "markdown",
   "metadata": {},
   "source": [
    "Se grafica el ENFICC de las plantas que se deseen observar"
   ]
  },
  {
   "cell_type": "code",
   "execution_count": 11,
   "metadata": {},
   "outputs": [
    {
     "data": {
      "application/vnd.plotly.v1+json": {
       "config": {
        "plotlyServerURL": "https://plot.ly"
       },
       "data": [
        {
         "marker": {
          "color": "orange"
         },
         "type": "bar",
         "x": [
          "SLVJ",
          "URA1"
         ],
         "y": {
          "bdata": "Xg8mxcfn+D8lPKHXnwQBQA==",
          "dtype": "f8"
         }
        }
       ],
       "layout": {
        "template": {
         "data": {
          "bar": [
           {
            "error_x": {
             "color": "#2a3f5f"
            },
            "error_y": {
             "color": "#2a3f5f"
            },
            "marker": {
             "line": {
              "color": "white",
              "width": 0.5
             },
             "pattern": {
              "fillmode": "overlay",
              "size": 10,
              "solidity": 0.2
             }
            },
            "type": "bar"
           }
          ],
          "barpolar": [
           {
            "marker": {
             "line": {
              "color": "white",
              "width": 0.5
             },
             "pattern": {
              "fillmode": "overlay",
              "size": 10,
              "solidity": 0.2
             }
            },
            "type": "barpolar"
           }
          ],
          "carpet": [
           {
            "aaxis": {
             "endlinecolor": "#2a3f5f",
             "gridcolor": "#C8D4E3",
             "linecolor": "#C8D4E3",
             "minorgridcolor": "#C8D4E3",
             "startlinecolor": "#2a3f5f"
            },
            "baxis": {
             "endlinecolor": "#2a3f5f",
             "gridcolor": "#C8D4E3",
             "linecolor": "#C8D4E3",
             "minorgridcolor": "#C8D4E3",
             "startlinecolor": "#2a3f5f"
            },
            "type": "carpet"
           }
          ],
          "choropleth": [
           {
            "colorbar": {
             "outlinewidth": 0,
             "ticks": ""
            },
            "type": "choropleth"
           }
          ],
          "contour": [
           {
            "colorbar": {
             "outlinewidth": 0,
             "ticks": ""
            },
            "colorscale": [
             [
              0,
              "#0d0887"
             ],
             [
              0.1111111111111111,
              "#46039f"
             ],
             [
              0.2222222222222222,
              "#7201a8"
             ],
             [
              0.3333333333333333,
              "#9c179e"
             ],
             [
              0.4444444444444444,
              "#bd3786"
             ],
             [
              0.5555555555555556,
              "#d8576b"
             ],
             [
              0.6666666666666666,
              "#ed7953"
             ],
             [
              0.7777777777777778,
              "#fb9f3a"
             ],
             [
              0.8888888888888888,
              "#fdca26"
             ],
             [
              1,
              "#f0f921"
             ]
            ],
            "type": "contour"
           }
          ],
          "contourcarpet": [
           {
            "colorbar": {
             "outlinewidth": 0,
             "ticks": ""
            },
            "type": "contourcarpet"
           }
          ],
          "heatmap": [
           {
            "colorbar": {
             "outlinewidth": 0,
             "ticks": ""
            },
            "colorscale": [
             [
              0,
              "#0d0887"
             ],
             [
              0.1111111111111111,
              "#46039f"
             ],
             [
              0.2222222222222222,
              "#7201a8"
             ],
             [
              0.3333333333333333,
              "#9c179e"
             ],
             [
              0.4444444444444444,
              "#bd3786"
             ],
             [
              0.5555555555555556,
              "#d8576b"
             ],
             [
              0.6666666666666666,
              "#ed7953"
             ],
             [
              0.7777777777777778,
              "#fb9f3a"
             ],
             [
              0.8888888888888888,
              "#fdca26"
             ],
             [
              1,
              "#f0f921"
             ]
            ],
            "type": "heatmap"
           }
          ],
          "histogram": [
           {
            "marker": {
             "pattern": {
              "fillmode": "overlay",
              "size": 10,
              "solidity": 0.2
             }
            },
            "type": "histogram"
           }
          ],
          "histogram2d": [
           {
            "colorbar": {
             "outlinewidth": 0,
             "ticks": ""
            },
            "colorscale": [
             [
              0,
              "#0d0887"
             ],
             [
              0.1111111111111111,
              "#46039f"
             ],
             [
              0.2222222222222222,
              "#7201a8"
             ],
             [
              0.3333333333333333,
              "#9c179e"
             ],
             [
              0.4444444444444444,
              "#bd3786"
             ],
             [
              0.5555555555555556,
              "#d8576b"
             ],
             [
              0.6666666666666666,
              "#ed7953"
             ],
             [
              0.7777777777777778,
              "#fb9f3a"
             ],
             [
              0.8888888888888888,
              "#fdca26"
             ],
             [
              1,
              "#f0f921"
             ]
            ],
            "type": "histogram2d"
           }
          ],
          "histogram2dcontour": [
           {
            "colorbar": {
             "outlinewidth": 0,
             "ticks": ""
            },
            "colorscale": [
             [
              0,
              "#0d0887"
             ],
             [
              0.1111111111111111,
              "#46039f"
             ],
             [
              0.2222222222222222,
              "#7201a8"
             ],
             [
              0.3333333333333333,
              "#9c179e"
             ],
             [
              0.4444444444444444,
              "#bd3786"
             ],
             [
              0.5555555555555556,
              "#d8576b"
             ],
             [
              0.6666666666666666,
              "#ed7953"
             ],
             [
              0.7777777777777778,
              "#fb9f3a"
             ],
             [
              0.8888888888888888,
              "#fdca26"
             ],
             [
              1,
              "#f0f921"
             ]
            ],
            "type": "histogram2dcontour"
           }
          ],
          "mesh3d": [
           {
            "colorbar": {
             "outlinewidth": 0,
             "ticks": ""
            },
            "type": "mesh3d"
           }
          ],
          "parcoords": [
           {
            "line": {
             "colorbar": {
              "outlinewidth": 0,
              "ticks": ""
             }
            },
            "type": "parcoords"
           }
          ],
          "pie": [
           {
            "automargin": true,
            "type": "pie"
           }
          ],
          "scatter": [
           {
            "fillpattern": {
             "fillmode": "overlay",
             "size": 10,
             "solidity": 0.2
            },
            "type": "scatter"
           }
          ],
          "scatter3d": [
           {
            "line": {
             "colorbar": {
              "outlinewidth": 0,
              "ticks": ""
             }
            },
            "marker": {
             "colorbar": {
              "outlinewidth": 0,
              "ticks": ""
             }
            },
            "type": "scatter3d"
           }
          ],
          "scattercarpet": [
           {
            "marker": {
             "colorbar": {
              "outlinewidth": 0,
              "ticks": ""
             }
            },
            "type": "scattercarpet"
           }
          ],
          "scattergeo": [
           {
            "marker": {
             "colorbar": {
              "outlinewidth": 0,
              "ticks": ""
             }
            },
            "type": "scattergeo"
           }
          ],
          "scattergl": [
           {
            "marker": {
             "colorbar": {
              "outlinewidth": 0,
              "ticks": ""
             }
            },
            "type": "scattergl"
           }
          ],
          "scattermap": [
           {
            "marker": {
             "colorbar": {
              "outlinewidth": 0,
              "ticks": ""
             }
            },
            "type": "scattermap"
           }
          ],
          "scattermapbox": [
           {
            "marker": {
             "colorbar": {
              "outlinewidth": 0,
              "ticks": ""
             }
            },
            "type": "scattermapbox"
           }
          ],
          "scatterpolar": [
           {
            "marker": {
             "colorbar": {
              "outlinewidth": 0,
              "ticks": ""
             }
            },
            "type": "scatterpolar"
           }
          ],
          "scatterpolargl": [
           {
            "marker": {
             "colorbar": {
              "outlinewidth": 0,
              "ticks": ""
             }
            },
            "type": "scatterpolargl"
           }
          ],
          "scatterternary": [
           {
            "marker": {
             "colorbar": {
              "outlinewidth": 0,
              "ticks": ""
             }
            },
            "type": "scatterternary"
           }
          ],
          "surface": [
           {
            "colorbar": {
             "outlinewidth": 0,
             "ticks": ""
            },
            "colorscale": [
             [
              0,
              "#0d0887"
             ],
             [
              0.1111111111111111,
              "#46039f"
             ],
             [
              0.2222222222222222,
              "#7201a8"
             ],
             [
              0.3333333333333333,
              "#9c179e"
             ],
             [
              0.4444444444444444,
              "#bd3786"
             ],
             [
              0.5555555555555556,
              "#d8576b"
             ],
             [
              0.6666666666666666,
              "#ed7953"
             ],
             [
              0.7777777777777778,
              "#fb9f3a"
             ],
             [
              0.8888888888888888,
              "#fdca26"
             ],
             [
              1,
              "#f0f921"
             ]
            ],
            "type": "surface"
           }
          ],
          "table": [
           {
            "cells": {
             "fill": {
              "color": "#EBF0F8"
             },
             "line": {
              "color": "white"
             }
            },
            "header": {
             "fill": {
              "color": "#C8D4E3"
             },
             "line": {
              "color": "white"
             }
            },
            "type": "table"
           }
          ]
         },
         "layout": {
          "annotationdefaults": {
           "arrowcolor": "#2a3f5f",
           "arrowhead": 0,
           "arrowwidth": 1
          },
          "autotypenumbers": "strict",
          "coloraxis": {
           "colorbar": {
            "outlinewidth": 0,
            "ticks": ""
           }
          },
          "colorscale": {
           "diverging": [
            [
             0,
             "#8e0152"
            ],
            [
             0.1,
             "#c51b7d"
            ],
            [
             0.2,
             "#de77ae"
            ],
            [
             0.3,
             "#f1b6da"
            ],
            [
             0.4,
             "#fde0ef"
            ],
            [
             0.5,
             "#f7f7f7"
            ],
            [
             0.6,
             "#e6f5d0"
            ],
            [
             0.7,
             "#b8e186"
            ],
            [
             0.8,
             "#7fbc41"
            ],
            [
             0.9,
             "#4d9221"
            ],
            [
             1,
             "#276419"
            ]
           ],
           "sequential": [
            [
             0,
             "#0d0887"
            ],
            [
             0.1111111111111111,
             "#46039f"
            ],
            [
             0.2222222222222222,
             "#7201a8"
            ],
            [
             0.3333333333333333,
             "#9c179e"
            ],
            [
             0.4444444444444444,
             "#bd3786"
            ],
            [
             0.5555555555555556,
             "#d8576b"
            ],
            [
             0.6666666666666666,
             "#ed7953"
            ],
            [
             0.7777777777777778,
             "#fb9f3a"
            ],
            [
             0.8888888888888888,
             "#fdca26"
            ],
            [
             1,
             "#f0f921"
            ]
           ],
           "sequentialminus": [
            [
             0,
             "#0d0887"
            ],
            [
             0.1111111111111111,
             "#46039f"
            ],
            [
             0.2222222222222222,
             "#7201a8"
            ],
            [
             0.3333333333333333,
             "#9c179e"
            ],
            [
             0.4444444444444444,
             "#bd3786"
            ],
            [
             0.5555555555555556,
             "#d8576b"
            ],
            [
             0.6666666666666666,
             "#ed7953"
            ],
            [
             0.7777777777777778,
             "#fb9f3a"
            ],
            [
             0.8888888888888888,
             "#fdca26"
            ],
            [
             1,
             "#f0f921"
            ]
           ]
          },
          "colorway": [
           "#636efa",
           "#EF553B",
           "#00cc96",
           "#ab63fa",
           "#FFA15A",
           "#19d3f3",
           "#FF6692",
           "#B6E880",
           "#FF97FF",
           "#FECB52"
          ],
          "font": {
           "color": "#2a3f5f"
          },
          "geo": {
           "bgcolor": "white",
           "lakecolor": "white",
           "landcolor": "white",
           "showlakes": true,
           "showland": true,
           "subunitcolor": "#C8D4E3"
          },
          "hoverlabel": {
           "align": "left"
          },
          "hovermode": "closest",
          "mapbox": {
           "style": "light"
          },
          "paper_bgcolor": "white",
          "plot_bgcolor": "white",
          "polar": {
           "angularaxis": {
            "gridcolor": "#EBF0F8",
            "linecolor": "#EBF0F8",
            "ticks": ""
           },
           "bgcolor": "white",
           "radialaxis": {
            "gridcolor": "#EBF0F8",
            "linecolor": "#EBF0F8",
            "ticks": ""
           }
          },
          "scene": {
           "xaxis": {
            "backgroundcolor": "white",
            "gridcolor": "#DFE8F3",
            "gridwidth": 2,
            "linecolor": "#EBF0F8",
            "showbackground": true,
            "ticks": "",
            "zerolinecolor": "#EBF0F8"
           },
           "yaxis": {
            "backgroundcolor": "white",
            "gridcolor": "#DFE8F3",
            "gridwidth": 2,
            "linecolor": "#EBF0F8",
            "showbackground": true,
            "ticks": "",
            "zerolinecolor": "#EBF0F8"
           },
           "zaxis": {
            "backgroundcolor": "white",
            "gridcolor": "#DFE8F3",
            "gridwidth": 2,
            "linecolor": "#EBF0F8",
            "showbackground": true,
            "ticks": "",
            "zerolinecolor": "#EBF0F8"
           }
          },
          "shapedefaults": {
           "line": {
            "color": "#2a3f5f"
           }
          },
          "ternary": {
           "aaxis": {
            "gridcolor": "#DFE8F3",
            "linecolor": "#A2B1C6",
            "ticks": ""
           },
           "baxis": {
            "gridcolor": "#DFE8F3",
            "linecolor": "#A2B1C6",
            "ticks": ""
           },
           "bgcolor": "white",
           "caxis": {
            "gridcolor": "#DFE8F3",
            "linecolor": "#A2B1C6",
            "ticks": ""
           }
          },
          "title": {
           "x": 0.05
          },
          "xaxis": {
           "automargin": true,
           "gridcolor": "#EBF0F8",
           "linecolor": "#EBF0F8",
           "ticks": "",
           "title": {
            "standoff": 15
           },
           "zerolinecolor": "#EBF0F8",
           "zerolinewidth": 2
          },
          "yaxis": {
           "automargin": true,
           "gridcolor": "#EBF0F8",
           "linecolor": "#EBF0F8",
           "ticks": "",
           "title": {
            "standoff": 15
           },
           "zerolinecolor": "#EBF0F8",
           "zerolinewidth": 2
          }
         }
        },
        "title": {
         "text": "Valor de ENFICC Verificada"
        },
        "xaxis": {
         "title": {
          "text": "Código Planta"
         }
        },
        "yaxis": {
         "title": {
          "text": "GWh"
         }
        }
       }
      }
     },
     "metadata": {},
     "output_type": "display_data"
    }
   ],
   "source": [
    "listado_plantas = ['SLVJ', 'URA1']                                                # Listado de plantas por el cuál se desea filtrar\n",
    "\n",
    "if len(listado_plantas) > 0:\n",
    "    df_filtrado = df_filtrado[df_filtrado['CodigoPlanta'].isin(listado_plantas)]  # Se filtra por el listado de plantas\n",
    "\n",
    "fig = go.Figure(data=[                                  # Se crea la gráfica de barras\n",
    "    go.Bar(\n",
    "        x=df_filtrado['CodigoPlanta'],                  # Valores Eje X\n",
    "        y=df_filtrado['ENFICCVerificada'],              # Valores Eje Y\n",
    "        marker_color='orange'                           # Color del gráfico\n",
    "    )\n",
    "])\n",
    "\n",
    "fig.update_layout(                                      # Configurar el diseño del gráfico\n",
    "    title='Valor de ENFICC Verificada',                 # Título del gráfico\n",
    "    xaxis_title='Código Planta',                        # Título Eje X\n",
    "    yaxis_title='GWh',                                  # Título Eje Y\n",
    "    template='plotly_white'\n",
    ")\n",
    "\n",
    "fig.show()                                              # Se muestra el gráfico"
   ]
  }
 ],
 "metadata": {
  "kernelspec": {
   "display_name": ".venv",
   "language": "python",
   "name": "python3"
  },
  "language_info": {
   "codemirror_mode": {
    "name": "ipython",
    "version": 3
   },
   "file_extension": ".py",
   "mimetype": "text/x-python",
   "name": "python",
   "nbconvert_exporter": "python",
   "pygments_lexer": "ipython3",
   "version": "3.13.5"
  }
 },
 "nbformat": 4,
 "nbformat_minor": 2
}
