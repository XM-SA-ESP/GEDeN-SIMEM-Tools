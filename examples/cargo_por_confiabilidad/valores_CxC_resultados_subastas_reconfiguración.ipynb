{
 "cells": [
  {
   "attachments": {
    "SIMEM_logo_1.png": {
     "image/png": "[encoded data removed]"
    }
   },
   "cell_type": "markdown",
   "metadata": {},
   "source": [
    "![SIMEM_logo_1.png](attachment:SIMEM_logo_1.png)\n",
    "\n",
    "[SiMEM](https://www.simem.co/)"
   ]
  },
  {
   "cell_type": "markdown",
   "metadata": {},
   "source": [
    "## Caso de uso - Valores del Cargo por Confiabilidad y Resultados de las Subastas de Reconfiguración\n",
    "\n",
    "# Objetivos de este Notebook\n",
    "\n",
    "* Explicar cómo se realiza la instalación e importación de la librería pydataxm desde la consola para su uso en ambientes locales\n",
    "* Explicar cómo se pueden consultar los conjuntos de datos a través de la librería Pydataxm\n",
    "* Explicar cómo realizar el procesamiento y manipulación de los datos consultados\n",
    "* Explicar el análisis de los datos consultados para dar respuesta al caso de uso propuesto\n",
    " \n",
    "**Índice**\n",
    "\n",
    "1. [Instalación de librerías](#section1)\n",
    "\n",
    "2. [Importación de librerías](#section2)\n",
    "\n",
    "3. [Consultar información de los conjuntos de datos](#section3)\n",
    "\n",
    "4. [Manipulación de datos](#section4)\n",
    "\n",
    "5. [Análisis para dar respuesta al caso de uso](#section5)"
   ]
  },
  {
   "cell_type": "markdown",
   "metadata": {},
   "source": [
    "<a id='section1'></a>\n",
    "# 1. Instalación de la librería\n",
    "Ejecutar el siguiente comando en el CMD para instalar la librería de python."
   ]
  },
  {
   "cell_type": "code",
   "execution_count": 1,
   "metadata": {},
   "outputs": [],
   "source": [
    "# import sys\n",
    "# !{sys.executable} -m pip install pydataxm"
   ]
  },
  {
   "cell_type": "markdown",
   "metadata": {},
   "source": [
    "<a id='section2'></a>\n",
    "# 2. Importación de librerías"
   ]
  },
  {
   "cell_type": "code",
   "execution_count": 2,
   "metadata": {},
   "outputs": [],
   "source": [
    "# Importación de librerías necesarias para la consulta y análisis de datos\n",
    "from pydataxm.pydatasimem import ReadSIMEM  # Importa clases para interactuar con datos del sistema SIMEM, utilizado para acceder a información energética en Colombia\n",
    "import pandas as pd                         # Librería para manipulación y análisis de datos en estructuras tipo DataFrame, muy útil para limpiar, transformar y explorar datos\n",
    "import plotly.graph_objects as go           # Módulo de Plotly para crear visualizaciones interactivas y personalizadas, como gráficos de líneas, barras, áreas, etc."
   ]
  },
  {
   "cell_type": "markdown",
   "metadata": {},
   "source": [
    "<a id='section3'></a>\n",
    "# 3. Consultar información de los conjuntos de datos\n",
    "El método de extracción recibe los parámetros con los que se va a realizar la consulta. \n",
    "El datasetID para un conjunto particular se puede encontrar en el [catálogo de conjuntos de datos.](https://www.simem.co/pages/catalogodatos/51FC0A59-3A00-462C-B449-9CB8D5E007FB)  \n",
    "Para este ejemplo los conjuntos a presentar son [Valores del Cargo por Confiabilidad](https://www.simem.co/datadetail/135C1099-3F6A-4978-938C-4DDD4C3571BF) y [Resultados de las Subastas de Reconfiguración](https://www.simem.co/datadetail/3856138A-66B9-427F-BFF6-A116DC441A54)."
   ]
  },
  {
   "cell_type": "markdown",
   "metadata": {},
   "source": [
    "Se definen los parámetros de entrada y se crea el objeto ReadSIMEM() para realizar las consultas."
   ]
  },
  {
   "cell_type": "markdown",
   "metadata": {},
   "source": [
    "La función main contiene todo el proceso para transportar la información del dataset entre el rango de fechas solicitadas a un dataframe. Después de este paso, el proceso es de manipulación y visualización de datos."
   ]
  },
  {
   "cell_type": "code",
   "execution_count": 3,
   "metadata": {},
   "outputs": [
    {
     "name": "stdout",
     "output_type": "stream",
     "text": [
      "****************************************************************************************************\n",
      "Initializing object\n",
      "The object has been initialized with the dataset: \"Valores del Cargo por Confiabilidad\"\n",
      "****************************************************************************************************\n",
      "Inicio consulta sincronica\n",
      "Creacion url: 0.0030477046966552734\n",
      "Extraccion de registros: 6.620941162109375\n",
      "End of data extracting process\n",
      "****************************************************************************************************\n"
     ]
    },
    {
     "data": {
      "application/vnd.microsoft.datawrangler.viewer.v0+json": {
       "columns": [
        {
         "name": "index",
         "rawType": "int64",
         "type": "integer"
        },
        {
         "name": "FechaPublicacion",
         "rawType": "object",
         "type": "string"
        },
        {
         "name": "FechaSubasta",
         "rawType": "object",
         "type": "string"
        },
        {
         "name": "Subasta",
         "rawType": "object",
         "type": "string"
        },
        {
         "name": "TipoSubasta",
         "rawType": "object",
         "type": "string"
        },
        {
         "name": "DescripcionSubasta",
         "rawType": "object",
         "type": "string"
        },
        {
         "name": "FechaInicioSubasta",
         "rawType": "object",
         "type": "string"
        },
        {
         "name": "FechaFinSubasta",
         "rawType": "object",
         "type": "string"
        },
        {
         "name": "PrecioCierre",
         "rawType": "float64",
         "type": "float"
        },
        {
         "name": "IPPUSABase",
         "rawType": "float64",
         "type": "float"
        },
        {
         "name": "IPPUSADeflactor",
         "rawType": "float64",
         "type": "float"
        },
        {
         "name": "PrecioActualizado",
         "rawType": "float64",
         "type": "float"
        },
        {
         "name": "CodigoSICAgente",
         "rawType": "object",
         "type": "string"
        },
        {
         "name": "CodigoPlanta",
         "rawType": "object",
         "type": "string"
        },
        {
         "name": "FechaInicioObligacion",
         "rawType": "object",
         "type": "string"
        },
        {
         "name": "FechaFinObligacion",
         "rawType": "object",
         "type": "string"
        },
        {
         "name": "OEFDiaria",
         "rawType": "int64",
         "type": "integer"
        }
       ],
       "ref": "00c995f7-8ebc-4fdc-abad-88ddef4bbb8c",
       "rows": [
        [
         "0",
         "2023-09-30",
         "2019-02-01",
         "DECIMO OCTAVA SUBASTA",
         "Asignación administrada",
         "DECIMO OCTAVA SUBASTA",
         "2025-12-01",
         "2026-11-30",
         "15.1",
         "176.8000030517578",
         "219.20199584960938",
         "18.72",
         "EMGG",
         "ZPA4",
         "2025-12-01",
         "2026-11-30",
         "1115364"
        ],
        [
         "1",
         "2023-09-30",
         "2019-02-01",
         "DECIMO OCTAVA SUBASTA",
         "Asignación administrada",
         "DECIMO OCTAVA SUBASTA",
         "2025-12-01",
         "2026-11-30",
         "15.1",
         "176.8000030517578",
         "219.20199584960938",
         "18.72",
         "EMGG",
         "ZPA3",
         "2025-12-01",
         "2026-11-30",
         "1075025"
        ],
        [
         "2",
         "2023-09-30",
         "2019-02-01",
         "DECIMO OCTAVA SUBASTA",
         "Asignación administrada",
         "DECIMO OCTAVA SUBASTA",
         "2025-12-01",
         "2026-11-30",
         "15.1",
         "176.8000030517578",
         "219.20199584960938",
         "18.72",
         "EITG",
         "PES1",
         "2025-12-01",
         "2026-11-30",
         "1667742"
        ],
        [
         "3",
         "2023-09-30",
         "2019-02-01",
         "DECIMO OCTAVA SUBASTA",
         "Asignación administrada",
         "DECIMO OCTAVA SUBASTA",
         "2025-12-01",
         "2026-11-30",
         "15.1",
         "176.8000030517578",
         "219.20199584960938",
         "18.72",
         "EGCG",
         "TEC1",
         "2025-12-01",
         "2026-11-30",
         "4505074"
        ],
        [
         "4",
         "2023-09-30",
         "2019-02-01",
         "DECIMO OCTAVA SUBASTA",
         "Asignación administrada",
         "DECIMO OCTAVA SUBASTA",
         "2025-12-01",
         "2026-11-30",
         "15.1",
         "176.8000030517578",
         "219.20199584960938",
         "18.72",
         "EEBG",
         "GVIO",
         "2025-12-01",
         "2026-11-30",
         "11305120"
        ]
       ],
       "shape": {
        "columns": 16,
        "rows": 5
       }
      },
      "text/html": [
       "<div>\n",
       "<style scoped>\n",
       "    .dataframe tbody tr th:only-of-type {\n",
       "        vertical-align: middle;\n",
       "    }\n",
       "\n",
       "    .dataframe tbody tr th {\n",
       "        vertical-align: top;\n",
       "    }\n",
       "\n",
       "    .dataframe thead th {\n",
       "        text-align: right;\n",
       "    }\n",
       "</style>\n",
       "<table border=\"1\" class=\"dataframe\">\n",
       "  <thead>\n",
       "    <tr style=\"text-align: right;\">\n",
       "      <th></th>\n",
       "      <th>FechaPublicacion</th>\n",
       "      <th>FechaSubasta</th>\n",
       "      <th>Subasta</th>\n",
       "      <th>TipoSubasta</th>\n",
       "      <th>DescripcionSubasta</th>\n",
       "      <th>FechaInicioSubasta</th>\n",
       "      <th>FechaFinSubasta</th>\n",
       "      <th>PrecioCierre</th>\n",
       "      <th>IPPUSABase</th>\n",
       "      <th>IPPUSADeflactor</th>\n",
       "      <th>PrecioActualizado</th>\n",
       "      <th>CodigoSICAgente</th>\n",
       "      <th>CodigoPlanta</th>\n",
       "      <th>FechaInicioObligacion</th>\n",
       "      <th>FechaFinObligacion</th>\n",
       "      <th>OEFDiaria</th>\n",
       "    </tr>\n",
       "  </thead>\n",
       "  <tbody>\n",
       "    <tr>\n",
       "      <th>0</th>\n",
       "      <td>2023-09-30</td>\n",
       "      <td>2019-02-01</td>\n",
       "      <td>DECIMO OCTAVA SUBASTA</td>\n",
       "      <td>Asignación administrada</td>\n",
       "      <td>DECIMO OCTAVA SUBASTA</td>\n",
       "      <td>2025-12-01</td>\n",
       "      <td>2026-11-30</td>\n",
       "      <td>15.1</td>\n",
       "      <td>176.800003</td>\n",
       "      <td>219.201996</td>\n",
       "      <td>18.72</td>\n",
       "      <td>EMGG</td>\n",
       "      <td>ZPA4</td>\n",
       "      <td>2025-12-01</td>\n",
       "      <td>2026-11-30</td>\n",
       "      <td>1115364</td>\n",
       "    </tr>\n",
       "    <tr>\n",
       "      <th>1</th>\n",
       "      <td>2023-09-30</td>\n",
       "      <td>2019-02-01</td>\n",
       "      <td>DECIMO OCTAVA SUBASTA</td>\n",
       "      <td>Asignación administrada</td>\n",
       "      <td>DECIMO OCTAVA SUBASTA</td>\n",
       "      <td>2025-12-01</td>\n",
       "      <td>2026-11-30</td>\n",
       "      <td>15.1</td>\n",
       "      <td>176.800003</td>\n",
       "      <td>219.201996</td>\n",
       "      <td>18.72</td>\n",
       "      <td>EMGG</td>\n",
       "      <td>ZPA3</td>\n",
       "      <td>2025-12-01</td>\n",
       "      <td>2026-11-30</td>\n",
       "      <td>1075025</td>\n",
       "    </tr>\n",
       "    <tr>\n",
       "      <th>2</th>\n",
       "      <td>2023-09-30</td>\n",
       "      <td>2019-02-01</td>\n",
       "      <td>DECIMO OCTAVA SUBASTA</td>\n",
       "      <td>Asignación administrada</td>\n",
       "      <td>DECIMO OCTAVA SUBASTA</td>\n",
       "      <td>2025-12-01</td>\n",
       "      <td>2026-11-30</td>\n",
       "      <td>15.1</td>\n",
       "      <td>176.800003</td>\n",
       "      <td>219.201996</td>\n",
       "      <td>18.72</td>\n",
       "      <td>EITG</td>\n",
       "      <td>PES1</td>\n",
       "      <td>2025-12-01</td>\n",
       "      <td>2026-11-30</td>\n",
       "      <td>1667742</td>\n",
       "    </tr>\n",
       "    <tr>\n",
       "      <th>3</th>\n",
       "      <td>2023-09-30</td>\n",
       "      <td>2019-02-01</td>\n",
       "      <td>DECIMO OCTAVA SUBASTA</td>\n",
       "      <td>Asignación administrada</td>\n",
       "      <td>DECIMO OCTAVA SUBASTA</td>\n",
       "      <td>2025-12-01</td>\n",
       "      <td>2026-11-30</td>\n",
       "      <td>15.1</td>\n",
       "      <td>176.800003</td>\n",
       "      <td>219.201996</td>\n",
       "      <td>18.72</td>\n",
       "      <td>EGCG</td>\n",
       "      <td>TEC1</td>\n",
       "      <td>2025-12-01</td>\n",
       "      <td>2026-11-30</td>\n",
       "      <td>4505074</td>\n",
       "    </tr>\n",
       "    <tr>\n",
       "      <th>4</th>\n",
       "      <td>2023-09-30</td>\n",
       "      <td>2019-02-01</td>\n",
       "      <td>DECIMO OCTAVA SUBASTA</td>\n",
       "      <td>Asignación administrada</td>\n",
       "      <td>DECIMO OCTAVA SUBASTA</td>\n",
       "      <td>2025-12-01</td>\n",
       "      <td>2026-11-30</td>\n",
       "      <td>15.1</td>\n",
       "      <td>176.800003</td>\n",
       "      <td>219.201996</td>\n",
       "      <td>18.72</td>\n",
       "      <td>EEBG</td>\n",
       "      <td>GVIO</td>\n",
       "      <td>2025-12-01</td>\n",
       "      <td>2026-11-30</td>\n",
       "      <td>11305120</td>\n",
       "    </tr>\n",
       "  </tbody>\n",
       "</table>\n",
       "</div>"
      ],
      "text/plain": [
       "  FechaPublicacion FechaSubasta                Subasta  \\\n",
       "0       2023-09-30   2019-02-01  DECIMO OCTAVA SUBASTA   \n",
       "1       2023-09-30   2019-02-01  DECIMO OCTAVA SUBASTA   \n",
       "2       2023-09-30   2019-02-01  DECIMO OCTAVA SUBASTA   \n",
       "3       2023-09-30   2019-02-01  DECIMO OCTAVA SUBASTA   \n",
       "4       2023-09-30   2019-02-01  DECIMO OCTAVA SUBASTA   \n",
       "\n",
       "               TipoSubasta     DescripcionSubasta FechaInicioSubasta  \\\n",
       "0  Asignación administrada  DECIMO OCTAVA SUBASTA         2025-12-01   \n",
       "1  Asignación administrada  DECIMO OCTAVA SUBASTA         2025-12-01   \n",
       "2  Asignación administrada  DECIMO OCTAVA SUBASTA         2025-12-01   \n",
       "3  Asignación administrada  DECIMO OCTAVA SUBASTA         2025-12-01   \n",
       "4  Asignación administrada  DECIMO OCTAVA SUBASTA         2025-12-01   \n",
       "\n",
       "  FechaFinSubasta  PrecioCierre  IPPUSABase  IPPUSADeflactor  \\\n",
       "0      2026-11-30          15.1  176.800003       219.201996   \n",
       "1      2026-11-30          15.1  176.800003       219.201996   \n",
       "2      2026-11-30          15.1  176.800003       219.201996   \n",
       "3      2026-11-30          15.1  176.800003       219.201996   \n",
       "4      2026-11-30          15.1  176.800003       219.201996   \n",
       "\n",
       "   PrecioActualizado CodigoSICAgente CodigoPlanta FechaInicioObligacion  \\\n",
       "0              18.72            EMGG         ZPA4            2025-12-01   \n",
       "1              18.72            EMGG         ZPA3            2025-12-01   \n",
       "2              18.72            EITG         PES1            2025-12-01   \n",
       "3              18.72            EGCG         TEC1            2025-12-01   \n",
       "4              18.72            EEBG         GVIO            2025-12-01   \n",
       "\n",
       "  FechaFinObligacion  OEFDiaria  \n",
       "0         2026-11-30    1115364  \n",
       "1         2026-11-30    1075025  \n",
       "2         2026-11-30    1667742  \n",
       "3         2026-11-30    4505074  \n",
       "4         2026-11-30   11305120  "
      ]
     },
     "metadata": {},
     "output_type": "display_data"
    }
   ],
   "source": [
    "id_dataset_CxC = '135c10'                                           # ID del conjunto de datos a consultar\n",
    "fecha_inicial = '2021-01-01'                                        # Fecha de inicio del rango de consulta\n",
    "fecha_final = '2027-12-31'                                          # Fecha de fin del rango de consulta\n",
    "simem_CxC = ReadSIMEM(id_dataset_CxC, fecha_inicial, fecha_final)   # Instancia de la clase ReadSIMEM con los parámetros definidos\n",
    "df_CxC = simem_CxC.main()                                           # Ejecución del método principal para obtener los datos en un DataFrame\n",
    "display(df_CxC.head(5))                                             # Visualización de las primeras 5 filas del DataFrame"
   ]
  },
  {
   "cell_type": "code",
   "execution_count": 4,
   "metadata": {},
   "outputs": [
    {
     "name": "stdout",
     "output_type": "stream",
     "text": [
      "****************************************************************************************************\n",
      "Initializing object\n",
      "The object has been initialized with the dataset: \"Resultados de las Subastas de Reconfiguración\"\n",
      "****************************************************************************************************\n",
      "Inicio consulta sincronica\n",
      "Creacion url: 0.00235748291015625\n",
      "Extraccion de registros: 4.600377321243286\n",
      "End of data extracting process\n",
      "****************************************************************************************************\n"
     ]
    },
    {
     "data": {
      "application/vnd.microsoft.datawrangler.viewer.v0+json": {
       "columns": [
        {
         "name": "index",
         "rawType": "int64",
         "type": "integer"
        },
        {
         "name": "FechaPublicacion",
         "rawType": "object",
         "type": "string"
        },
        {
         "name": "FechaSubasta",
         "rawType": "object",
         "type": "string"
        },
        {
         "name": "Subasta",
         "rawType": "object",
         "type": "string"
        },
        {
         "name": "FechaInicioSubasta",
         "rawType": "object",
         "type": "string"
        },
        {
         "name": "FechaFinSubasta",
         "rawType": "object",
         "type": "string"
        },
        {
         "name": "PrecioCierre",
         "rawType": "float64",
         "type": "float"
        },
        {
         "name": "IPPUSABase",
         "rawType": "float64",
         "type": "float"
        },
        {
         "name": "IPPUSADeflactor",
         "rawType": "float64",
         "type": "float"
        },
        {
         "name": "PrecioActualizado",
         "rawType": "float64",
         "type": "float"
        },
        {
         "name": "CodigoSICAgente",
         "rawType": "object",
         "type": "string"
        },
        {
         "name": "CodigoPlanta",
         "rawType": "object",
         "type": "string"
        },
        {
         "name": "Tecnologia",
         "rawType": "object",
         "type": "string"
        },
        {
         "name": "FechaInicioObligacion",
         "rawType": "object",
         "type": "string"
        },
        {
         "name": "FechaFinObligacion",
         "rawType": "object",
         "type": "string"
        },
        {
         "name": "Concepto",
         "rawType": "object",
         "type": "string"
        },
        {
         "name": "ValorConcepto",
         "rawType": "float64",
         "type": "float"
        }
       ],
       "ref": "45c03b8c-a70b-4c2b-9ffe-7f9e6258a3de",
       "rows": [
        [
         "0",
         "2025-05-23",
         "2025-05-09",
         "SUBASTA DE RECONFIGURACION DE COMPRA 2025-2026",
         "2025-12-01",
         "2026-11-30",
         "21.3",
         "223.51699829101562",
         "223.51699829101562",
         "21.3",
         "ENDG",
         "EPFV",
         "Solar",
         "2025-12-01",
         "2026-11-30",
         "Diaria (kWh-dia)",
         "189739.0"
        ],
        [
         "1",
         "2025-05-23",
         "2025-05-09",
         "SUBASTA DE RECONFIGURACION DE COMPRA 2025-2026",
         "2025-12-01",
         "2026-11-30",
         "21.3",
         "223.51699829101562",
         "223.51699829101562",
         "21.3",
         "EPMG",
         "GTPE",
         "Hidraulica",
         "2025-12-01",
         "2026-11-30",
         "Diaria (kWh-dia)",
         "344787.0"
        ],
        [
         "2",
         "2025-05-23",
         "2025-05-09",
         "SUBASTA DE RECONFIGURACION DE COMPRA 2025-2026",
         "2025-12-01",
         "2026-11-30",
         "21.3",
         "223.51699829101562",
         "223.51699829101562",
         "21.3",
         "EPMG",
         "GTRG",
         "Hidraulica",
         "2025-12-01",
         "2026-11-30",
         "Diaria (kWh-dia)",
         "653307.0"
        ],
        [
         "3",
         "2025-05-23",
         "2025-05-09",
         "SUBASTA DE RECONFIGURACION DE COMPRA 2025-2026",
         "2025-12-01",
         "2026-11-30",
         "21.3",
         "223.51699829101562",
         "223.51699829101562",
         "21.3",
         "EPMG",
         "LTSJ",
         "Hidraulica",
         "2025-12-01",
         "2026-11-30",
         "Diaria (kWh-dia)",
         "251591.0"
        ],
        [
         "4",
         "2025-05-23",
         "2025-05-09",
         "SUBASTA DE RECONFIGURACION DE COMPRA 2025-2026",
         "2025-12-01",
         "2026-11-30",
         "21.3",
         "223.51699829101562",
         "223.51699829101562",
         "21.3",
         "EPMG",
         "PRC2",
         "Hidraulica",
         "2025-12-01",
         "2026-11-30",
         "Diaria (kWh-dia)",
         "153190.0"
        ]
       ],
       "shape": {
        "columns": 16,
        "rows": 5
       }
      },
      "text/html": [
       "<div>\n",
       "<style scoped>\n",
       "    .dataframe tbody tr th:only-of-type {\n",
       "        vertical-align: middle;\n",
       "    }\n",
       "\n",
       "    .dataframe tbody tr th {\n",
       "        vertical-align: top;\n",
       "    }\n",
       "\n",
       "    .dataframe thead th {\n",
       "        text-align: right;\n",
       "    }\n",
       "</style>\n",
       "<table border=\"1\" class=\"dataframe\">\n",
       "  <thead>\n",
       "    <tr style=\"text-align: right;\">\n",
       "      <th></th>\n",
       "      <th>FechaPublicacion</th>\n",
       "      <th>FechaSubasta</th>\n",
       "      <th>Subasta</th>\n",
       "      <th>FechaInicioSubasta</th>\n",
       "      <th>FechaFinSubasta</th>\n",
       "      <th>PrecioCierre</th>\n",
       "      <th>IPPUSABase</th>\n",
       "      <th>IPPUSADeflactor</th>\n",
       "      <th>PrecioActualizado</th>\n",
       "      <th>CodigoSICAgente</th>\n",
       "      <th>CodigoPlanta</th>\n",
       "      <th>Tecnologia</th>\n",
       "      <th>FechaInicioObligacion</th>\n",
       "      <th>FechaFinObligacion</th>\n",
       "      <th>Concepto</th>\n",
       "      <th>ValorConcepto</th>\n",
       "    </tr>\n",
       "  </thead>\n",
       "  <tbody>\n",
       "    <tr>\n",
       "      <th>0</th>\n",
       "      <td>2025-05-23</td>\n",
       "      <td>2025-05-09</td>\n",
       "      <td>SUBASTA DE RECONFIGURACION DE COMPRA 2025-2026</td>\n",
       "      <td>2025-12-01</td>\n",
       "      <td>2026-11-30</td>\n",
       "      <td>21.3</td>\n",
       "      <td>223.516998</td>\n",
       "      <td>223.516998</td>\n",
       "      <td>21.3</td>\n",
       "      <td>ENDG</td>\n",
       "      <td>EPFV</td>\n",
       "      <td>Solar</td>\n",
       "      <td>2025-12-01</td>\n",
       "      <td>2026-11-30</td>\n",
       "      <td>Diaria (kWh-dia)</td>\n",
       "      <td>189739.0</td>\n",
       "    </tr>\n",
       "    <tr>\n",
       "      <th>1</th>\n",
       "      <td>2025-05-23</td>\n",
       "      <td>2025-05-09</td>\n",
       "      <td>SUBASTA DE RECONFIGURACION DE COMPRA 2025-2026</td>\n",
       "      <td>2025-12-01</td>\n",
       "      <td>2026-11-30</td>\n",
       "      <td>21.3</td>\n",
       "      <td>223.516998</td>\n",
       "      <td>223.516998</td>\n",
       "      <td>21.3</td>\n",
       "      <td>EPMG</td>\n",
       "      <td>GTPE</td>\n",
       "      <td>Hidraulica</td>\n",
       "      <td>2025-12-01</td>\n",
       "      <td>2026-11-30</td>\n",
       "      <td>Diaria (kWh-dia)</td>\n",
       "      <td>344787.0</td>\n",
       "    </tr>\n",
       "    <tr>\n",
       "      <th>2</th>\n",
       "      <td>2025-05-23</td>\n",
       "      <td>2025-05-09</td>\n",
       "      <td>SUBASTA DE RECONFIGURACION DE COMPRA 2025-2026</td>\n",
       "      <td>2025-12-01</td>\n",
       "      <td>2026-11-30</td>\n",
       "      <td>21.3</td>\n",
       "      <td>223.516998</td>\n",
       "      <td>223.516998</td>\n",
       "      <td>21.3</td>\n",
       "      <td>EPMG</td>\n",
       "      <td>GTRG</td>\n",
       "      <td>Hidraulica</td>\n",
       "      <td>2025-12-01</td>\n",
       "      <td>2026-11-30</td>\n",
       "      <td>Diaria (kWh-dia)</td>\n",
       "      <td>653307.0</td>\n",
       "    </tr>\n",
       "    <tr>\n",
       "      <th>3</th>\n",
       "      <td>2025-05-23</td>\n",
       "      <td>2025-05-09</td>\n",
       "      <td>SUBASTA DE RECONFIGURACION DE COMPRA 2025-2026</td>\n",
       "      <td>2025-12-01</td>\n",
       "      <td>2026-11-30</td>\n",
       "      <td>21.3</td>\n",
       "      <td>223.516998</td>\n",
       "      <td>223.516998</td>\n",
       "      <td>21.3</td>\n",
       "      <td>EPMG</td>\n",
       "      <td>LTSJ</td>\n",
       "      <td>Hidraulica</td>\n",
       "      <td>2025-12-01</td>\n",
       "      <td>2026-11-30</td>\n",
       "      <td>Diaria (kWh-dia)</td>\n",
       "      <td>251591.0</td>\n",
       "    </tr>\n",
       "    <tr>\n",
       "      <th>4</th>\n",
       "      <td>2025-05-23</td>\n",
       "      <td>2025-05-09</td>\n",
       "      <td>SUBASTA DE RECONFIGURACION DE COMPRA 2025-2026</td>\n",
       "      <td>2025-12-01</td>\n",
       "      <td>2026-11-30</td>\n",
       "      <td>21.3</td>\n",
       "      <td>223.516998</td>\n",
       "      <td>223.516998</td>\n",
       "      <td>21.3</td>\n",
       "      <td>EPMG</td>\n",
       "      <td>PRC2</td>\n",
       "      <td>Hidraulica</td>\n",
       "      <td>2025-12-01</td>\n",
       "      <td>2026-11-30</td>\n",
       "      <td>Diaria (kWh-dia)</td>\n",
       "      <td>153190.0</td>\n",
       "    </tr>\n",
       "  </tbody>\n",
       "</table>\n",
       "</div>"
      ],
      "text/plain": [
       "  FechaPublicacion FechaSubasta  \\\n",
       "0       2025-05-23   2025-05-09   \n",
       "1       2025-05-23   2025-05-09   \n",
       "2       2025-05-23   2025-05-09   \n",
       "3       2025-05-23   2025-05-09   \n",
       "4       2025-05-23   2025-05-09   \n",
       "\n",
       "                                          Subasta FechaInicioSubasta  \\\n",
       "0  SUBASTA DE RECONFIGURACION DE COMPRA 2025-2026         2025-12-01   \n",
       "1  SUBASTA DE RECONFIGURACION DE COMPRA 2025-2026         2025-12-01   \n",
       "2  SUBASTA DE RECONFIGURACION DE COMPRA 2025-2026         2025-12-01   \n",
       "3  SUBASTA DE RECONFIGURACION DE COMPRA 2025-2026         2025-12-01   \n",
       "4  SUBASTA DE RECONFIGURACION DE COMPRA 2025-2026         2025-12-01   \n",
       "\n",
       "  FechaFinSubasta  PrecioCierre  IPPUSABase  IPPUSADeflactor  \\\n",
       "0      2026-11-30          21.3  223.516998       223.516998   \n",
       "1      2026-11-30          21.3  223.516998       223.516998   \n",
       "2      2026-11-30          21.3  223.516998       223.516998   \n",
       "3      2026-11-30          21.3  223.516998       223.516998   \n",
       "4      2026-11-30          21.3  223.516998       223.516998   \n",
       "\n",
       "   PrecioActualizado CodigoSICAgente CodigoPlanta  Tecnologia  \\\n",
       "0               21.3            ENDG         EPFV       Solar   \n",
       "1               21.3            EPMG         GTPE  Hidraulica   \n",
       "2               21.3            EPMG         GTRG  Hidraulica   \n",
       "3               21.3            EPMG         LTSJ  Hidraulica   \n",
       "4               21.3            EPMG         PRC2  Hidraulica   \n",
       "\n",
       "  FechaInicioObligacion FechaFinObligacion          Concepto  ValorConcepto  \n",
       "0            2025-12-01         2026-11-30  Diaria (kWh-dia)       189739.0  \n",
       "1            2025-12-01         2026-11-30  Diaria (kWh-dia)       344787.0  \n",
       "2            2025-12-01         2026-11-30  Diaria (kWh-dia)       653307.0  \n",
       "3            2025-12-01         2026-11-30  Diaria (kWh-dia)       251591.0  \n",
       "4            2025-12-01         2026-11-30  Diaria (kWh-dia)       153190.0  "
      ]
     },
     "metadata": {},
     "output_type": "display_data"
    }
   ],
   "source": [
    "id_dataset_rSubastas = '385613'                                                 # ID del conjunto de datos a consultar\n",
    "fecha_inicial = '2021-01-01'                                                    # Fecha de inicio del rango de consulta\n",
    "fecha_final = '2027-12-31'                                                      # Fecha de fin del rango de consulta\n",
    "simem_rSubastas = ReadSIMEM(id_dataset_rSubastas, fecha_inicial, fecha_final)   # Instancia de la clase ReadSIMEM con los parámetros definidos\n",
    "df_rSubastas = simem_rSubastas.main()                                           # Ejecución del método principal para obtener los datos en un DataFrame\n",
    "display(df_rSubastas.head(5))                                                   # Visualización de las primeras 5 filas del DataFrame"
   ]
  },
  {
   "cell_type": "markdown",
   "metadata": {},
   "source": [
    "También se leerá el Dataset de plantas para poder cruzar esta información con las subastas"
   ]
  },
  {
   "cell_type": "code",
   "execution_count": 5,
   "metadata": {},
   "outputs": [
    {
     "name": "stdout",
     "output_type": "stream",
     "text": [
      "****************************************************************************************************\n",
      "Initializing object\n",
      "The object has been initialized with the dataset: \"Parámetros técnicos de las plantas de generación\"\n",
      "****************************************************************************************************\n",
      "Inicio consulta sincronica\n",
      "Creacion url: 0.001338958740234375\n",
      "Extraccion de registros: 15.511441707611084\n",
      "End of data extracting process\n",
      "****************************************************************************************************\n"
     ]
    },
    {
     "data": {
      "application/vnd.microsoft.datawrangler.viewer.v0+json": {
       "columns": [
        {
         "name": "index",
         "rawType": "int64",
         "type": "integer"
        },
        {
         "name": "Fecha",
         "rawType": "object",
         "type": "string"
        },
        {
         "name": "CodigoDuracion",
         "rawType": "object",
         "type": "string"
        },
        {
         "name": "FechaPublicacion",
         "rawType": "object",
         "type": "string"
        },
        {
         "name": "CodigoPlanta",
         "rawType": "object",
         "type": "string"
        },
        {
         "name": "NombrePlanta",
         "rawType": "object",
         "type": "string"
        },
        {
         "name": "CodigoSICAgente",
         "rawType": "object",
         "type": "string"
        },
        {
         "name": "CapEfectivaNeta",
         "rawType": "float64",
         "type": "float"
        },
        {
         "name": "FPO",
         "rawType": "object",
         "type": "string"
        },
        {
         "name": "CodigoSubAreaOperativa",
         "rawType": "object",
         "type": "string"
        },
        {
         "name": "CodigoAreaOperativa",
         "rawType": "object",
         "type": "string"
        },
        {
         "name": "TipoDespachoRecurso",
         "rawType": "object",
         "type": "string"
        },
        {
         "name": "TipoClasificacion",
         "rawType": "object",
         "type": "string"
        },
        {
         "name": "TipoGeneracion",
         "rawType": "object",
         "type": "string"
        }
       ],
       "ref": "56c2b632-3e41-42ea-9338-d5e01767f9d6",
       "rows": [
        [
         "0",
         "2025-01-31",
         "P1D",
         "2025-01-31",
         "2U8Y",
         "TERMOMECHERO 5",
         "TMMG",
         "19300.0",
         "2017-12-16",
         "Are0130",
         "Are0012",
         "No Despachado Centralmente",
         "GENERADOR",
         "Termica"
        ],
        [
         "1",
         "2025-01-31",
         "P1D",
         "2025-01-31",
         "2U93",
         "TERMOMECHERO 4",
         "TMMG",
         "19300.0",
         "2018-02-02",
         "Are0130",
         "Are0012",
         "No Despachado Centralmente",
         "GENERADOR",
         "Termica"
        ],
        [
         "2",
         "2025-01-31",
         "P1D",
         "2025-01-31",
         "TMB1",
         "TERMOBOLIVAR 1",
         "GSAG",
         "9700.0",
         "2016-03-04",
         "Are0130",
         "Are0012",
         "No Despachado Centralmente",
         "GENERADOR",
         "Termica"
        ],
        [
         "3",
         "2025-01-31",
         "P1D",
         "2025-01-31",
         "2WFN",
         "TERMOCAPACHOS 1",
         "GSAG",
         "9900.0",
         "2019-08-04",
         "Are0129",
         "Are0012",
         "No Despachado Centralmente",
         "GENERADOR",
         "Termica"
        ],
        [
         "4",
         "2025-01-31",
         "P1D",
         "2025-01-31",
         "TPD1",
         "TERMOPIEDRAS 1",
         "TRPG",
         "3750.0",
         "1999-12-30",
         "Are0031",
         "Are0128",
         "No Despachado Centralmente",
         "GENERADOR",
         "Termica"
        ],
        [
         "5",
         "2025-01-31",
         "P1D",
         "2025-01-31",
         "2U5P",
         "PROENCA II 1",
         "PECG",
         "17000.0",
         "2017-10-10",
         "Are0019",
         "Are0128",
         "No Despachado Centralmente",
         "GENERADOR",
         "Termica"
        ],
        [
         "6",
         "2025-01-31",
         "P1D",
         "2025-01-31",
         "3HWK",
         "AGPE EL ENCANTO",
         "NMRG",
         "986.0",
         "2023-06-08",
         "Are0016",
         "Are0127",
         "No Despachado Centralmente",
         "AUTOGENERADOR PEQUEÑA ESCALA",
         "Solar"
        ],
        [
         "7",
         "2025-01-31",
         "P1D",
         "2025-01-31",
         "3N5E",
         "AGPE SUB LIBERTADOR",
         "CSIG",
         "20.0",
         "2024-07-18",
         "Are0025",
         "Are0127",
         "No Despachado Centralmente",
         "AUTOGENERADOR PEQUEÑA ESCALA",
         "Solar"
        ],
        [
         "8",
         "2025-01-31",
         "P1D",
         "2025-01-31",
         "3GFQ",
         "AGPE FERCH2",
         "NMRG",
         "6.75",
         "2022-11-17",
         "Are0131",
         "Are0012",
         "No Despachado Centralmente",
         "AUTOGENERADOR PEQUEÑA ESCALA",
         "Solar"
        ],
        [
         "9",
         "2025-01-31",
         "P1D",
         "2025-01-31",
         "3AL6",
         "AGPE ENTREPALMAS",
         "EPSG",
         "500.0",
         "2020-12-31",
         "Are0027",
         "Are0056",
         "No Despachado Centralmente",
         "AUTOGENERADOR PEQUEÑA ESCALA",
         "Termica"
        ],
        [
         "10",
         "2025-01-31",
         "P1D",
         "2025-01-31",
         "3AXV",
         "AGPE INGENIO DE OCCIDENTE",
         "EMEG",
         "1000.0",
         "2021-03-04",
         "Are0019",
         "Are0128",
         "No Despachado Centralmente",
         "AUTOGENERADOR PEQUEÑA ESCALA",
         "Termica"
        ],
        [
         "11",
         "2025-01-31",
         "P1D",
         "2025-01-31",
         "2XXR",
         "AGPE - ECOPETROL LA HORMIGA",
         "GECG",
         "1000.0",
         "2019-09-16",
         "Are0132",
         "Are0128",
         "No Despachado Centralmente",
         "AUTOGENERADOR PEQUEÑA ESCALA",
         "Termica"
        ],
        [
         "12",
         "2025-01-31",
         "P1D",
         "2025-01-31",
         "3PK3",
         "AUTOG MILPA SAN CARLOS",
         "ENDG",
         "1800.0",
         "2024-09-29",
         "Are0017",
         "Are0056",
         "No Despachado Centralmente",
         "AUTOGENERADOR",
         "Solar"
        ],
        [
         "13",
         "2025-01-31",
         "P1D",
         "2025-01-31",
         "3PKF",
         "AUTOG UNIMINAS",
         "ENDG",
         "1800.0",
         "2024-09-29",
         "Are0017",
         "Are0056",
         "No Despachado Centralmente",
         "AUTOGENERADOR",
         "Solar"
        ],
        [
         "14",
         "2025-01-31",
         "P1D",
         "2025-01-31",
         "3QK6",
         "AUTOG BIOS CIENAGA ORO",
         "EPMG",
         "1100.0",
         "2024-11-04",
         "Are0021",
         "Are0127",
         "No Despachado Centralmente",
         "AUTOGENERADOR",
         "Solar"
        ],
        [
         "15",
         "2025-01-31",
         "P1D",
         "2025-01-31",
         "3L9B",
         "AUTOG EL COPEY",
         "GECG",
         "6600.0",
         "2024-05-31",
         "Are0025",
         "Are0127",
         "No Despachado Centralmente",
         "AUTOGENERADOR",
         "Solar"
        ],
        [
         "16",
         "2025-01-31",
         "P1D",
         "2025-01-31",
         "3F5N",
         "AUTOG PINTUCO",
         "ERRG",
         "1406.0",
         "2023-08-25",
         "Are0015",
         "Are0002",
         "No Despachado Centralmente",
         "AUTOGENERADOR",
         "Solar"
        ],
        [
         "17",
         "2025-01-31",
         "P1D",
         "2025-01-31",
         "3F5L",
         "AUTOG CI JEANS",
         "ERRG",
         "1392.0",
         "2023-08-25",
         "Are0015",
         "Are0002",
         "No Despachado Centralmente",
         "AUTOGENERADOR",
         "Solar"
        ],
        [
         "18",
         "2025-01-31",
         "P1D",
         "2025-01-31",
         "3KXQ",
         "AUTOG BIOS CONTEGRAL NEIVA",
         "EPMG",
         "1600.0",
         "2024-05-24",
         "Are0031",
         "Are0128",
         "No Despachado Centralmente",
         "AUTOGENERADOR",
         "Solar"
        ],
        [
         "19",
         "2025-01-31",
         "P1D",
         "2025-01-31",
         "3RKN",
         "ECOPARQUE BRISAS",
         "GECG",
         "4000.0",
         "2024-12-04",
         "Are0031",
         "Are0128",
         "No Despachado Centralmente",
         "AUTOGENERADOR",
         "Solar"
        ],
        [
         "20",
         "2025-01-31",
         "P1D",
         "2025-01-31",
         "3Q7D",
         "AUTOG BIOS FINCA BUGA",
         "EPMG",
         "1060.0",
         "2024-10-21",
         "Are0032",
         "Are0128",
         "No Despachado Centralmente",
         "AUTOGENERADOR",
         "Solar"
        ],
        [
         "21",
         "2025-01-31",
         "P1D",
         "2025-01-31",
         "3KVZ",
         "AUTOG BIOS CONTEGRAL CARTAGO",
         "EPMG",
         "3225.0",
         "2024-05-24",
         "Are0032",
         "Are0128",
         "No Despachado Centralmente",
         "AUTOGENERADOR",
         "Solar"
        ],
        [
         "22",
         "2025-01-31",
         "P1D",
         "2025-01-31",
         "3ACC",
         "CELSIA SOLAR CARMELO",
         "EPSG",
         "9900.0",
         "2020-12-27",
         "Are0032",
         "Are0128",
         "No Despachado Centralmente",
         "AUTOGENERADOR",
         "Solar"
        ],
        [
         "23",
         "2025-01-31",
         "P1D",
         "2025-01-31",
         "2TYI",
         "AUTOG CELSIA SOLAR YUMBO",
         "EPSG",
         "9800.0",
         "2017-09-03",
         "Are0032",
         "Are0128",
         "No Despachado Centralmente",
         "AUTOGENERADOR",
         "Solar"
        ],
        [
         "24",
         "2025-01-31",
         "P1D",
         "2025-01-31",
         "3E7C",
         "AUTOG CELSIA SOLAR LEVAPAN",
         "EPSG",
         "4990.0",
         "2022-06-11",
         "Are0032",
         "Are0128",
         "No Despachado Centralmente",
         "AUTOGENERADOR",
         "Solar"
        ],
        [
         "25",
         "2025-01-31",
         "P1D",
         "2025-01-31",
         "3PWF",
         "AUTOG SOLAR PALMIRA II BERRY",
         "EPSG",
         "9800.0",
         "2024-10-09",
         "Are0032",
         "Are0128",
         "No Despachado Centralmente",
         "AUTOGENERADOR",
         "Solar"
        ],
        [
         "26",
         "2025-01-31",
         "P1D",
         "2025-01-31",
         "3GSF",
         "AUTOG BUGA I GRASAS",
         "EPSG",
         "4000.0",
         "2023-04-15",
         "Are0032",
         "Are0128",
         "No Despachado Centralmente",
         "AUTOGENERADOR",
         "Solar"
        ],
        [
         "27",
         "2025-01-31",
         "P1D",
         "2025-01-31",
         "3EP6",
         "AUTOG CELSIA SOLAR HARINAS",
         "EPSG",
         "2450.0",
         "2022-09-21",
         "Are0032",
         "Are0128",
         "No Despachado Centralmente",
         "AUTOGENERADOR",
         "Solar"
        ],
        [
         "28",
         "2025-01-31",
         "P1D",
         "2025-01-31",
         "3HS9",
         "AUTOG BUGA I SOLLA",
         "EPSG",
         "6400.0",
         "2023-06-16",
         "Are0032",
         "Are0128",
         "No Despachado Centralmente",
         "AUTOGENERADOR",
         "Solar"
        ],
        [
         "29",
         "2025-01-31",
         "P1D",
         "2025-01-31",
         "3HE8",
         "AUTOG CELSIA SOLAR PALMIRA 3 ZONA FRANCA",
         "EPSG",
         "2900.0",
         "2023-04-30",
         "Are0032",
         "Are0128",
         "No Despachado Centralmente",
         "AUTOGENERADOR",
         "Solar"
        ],
        [
         "30",
         "2025-01-31",
         "P1D",
         "2025-01-31",
         "3K8A",
         "CELSIA SOLAR ALUMINA",
         "EPSG",
         "1971.0",
         "2024-03-24",
         "Are0032",
         "Are0128",
         "No Despachado Centralmente",
         "AUTOGENERADOR",
         "Solar"
        ],
        [
         "31",
         "2025-01-31",
         "P1D",
         "2025-01-31",
         "3FCD",
         "AUTOG CELSIA SOLAR PALMIRA 3",
         "EPSG",
         "7400.0",
         "2023-03-30",
         "Are0032",
         "Are0128",
         "No Despachado Centralmente",
         "AUTOGENERADOR",
         "Solar"
        ],
        [
         "32",
         "2025-01-31",
         "P1D",
         "2025-01-31",
         "3MS2",
         "CELSIA SOLAR PUERTO TEJADA",
         "EPSG",
         "19900.0",
         "2024-12-03",
         "Are0019",
         "Are0128",
         "No Despachado Centralmente",
         "AUTOGENERADOR",
         "Solar"
        ],
        [
         "33",
         "2025-01-31",
         "P1D",
         "2025-01-31",
         "3ED1",
         "AUTOG GRAN COLOMBIA GOLD",
         "PRIG",
         "1000.0",
         "2022-05-31",
         "Are0015",
         "Are0002",
         "No Despachado Centralmente",
         "AUTOGENERADOR",
         "Hidraulica"
        ],
        [
         "34",
         "2025-01-31",
         "P1D",
         "2025-01-31",
         "CMN1",
         "AUTOG CEMENTOS DEL NARE",
         "EPMG",
         "9000.0",
         "2004-09-01",
         "Are0015",
         "Are0002",
         "No Despachado Centralmente",
         "AUTOGENERADOR",
         "Hidraulica"
        ],
        [
         "35",
         "2025-01-31",
         "P1D",
         "2025-01-31",
         "AYR1",
         "AUTOG AYURA",
         "EPMG",
         "16700.0",
         "1983-10-26",
         "Are0015",
         "Are0002",
         "No Despachado Centralmente",
         "AUTOGENERADOR",
         "Hidraulica"
        ],
        [
         "36",
         "2025-01-31",
         "P1D",
         "2025-01-31",
         "2S6U",
         "AUTOG ARGOS EL CAIRO",
         "EPMG",
         "7500.0",
         "2017-09-29",
         "Are0015",
         "Are0002",
         "No Despachado Centralmente",
         "AUTOGENERADOR",
         "Hidraulica"
        ],
        [
         "37",
         "2025-01-31",
         "P1D",
         "2025-01-31",
         "2T7D",
         "AUTOG CANTAYUS",
         "GECG",
         "4320.0",
         "2017-05-20",
         "Are0015",
         "Are0002",
         "No Despachado Centralmente",
         "AUTOGENERADOR",
         "Hidraulica"
        ],
        [
         "38",
         "2025-01-31",
         "P1D",
         "2025-01-31",
         "2V27",
         "AUTOG COCA-COLA FEMSA 1",
         "DEPG",
         "2440.0",
         "2018-07-25",
         "Are0017",
         "Are0056",
         "No Despachado Centralmente",
         "AUTOGENERADOR",
         "Termica"
        ],
        [
         "39",
         "2025-01-31",
         "P1D",
         "2025-01-31",
         "2S6Q",
         "AUTOG YAGUARITO",
         "EMSG",
         "1600.0",
         "2016-03-22",
         "Are0027",
         "Are0056",
         "No Despachado Centralmente",
         "AUTOGENERADOR",
         "Termica"
        ],
        [
         "40",
         "2025-01-31",
         "P1D",
         "2025-01-31",
         "2S8I",
         "AUTOG REFICAR 1",
         "GECG",
         "9900.0",
         "2016-04-26",
         "Are0018",
         "Are0127",
         "No Despachado Centralmente",
         "AUTOGENERADOR",
         "Termica"
        ],
        [
         "41",
         "2025-01-31",
         "P1D",
         "2025-01-31",
         "3JNR",
         "AUTOG UNIBOL 1",
         "NRCG",
         "6500.0",
         "2024-02-11",
         "Are0016",
         "Are0127",
         "No Despachado Centralmente",
         "AUTOGENERADOR",
         "Termica"
        ],
        [
         "42",
         "2025-01-31",
         "P1D",
         "2025-01-31",
         "3KL4",
         "POWER PLANT DRUMMOND 1",
         "DRUG",
         "19900.0",
         "2024-04-22",
         "Are0025",
         "Are0127",
         "No Despachado Centralmente",
         "AUTOGENERADOR",
         "Termica"
        ],
        [
         "43",
         "2025-01-31",
         "P1D",
         "2025-01-31",
         "3Q99",
         "AUTOG BIODIANA 1",
         "NTCG",
         "4990.0",
         "2025-01-25",
         "Are0130",
         "Are0012",
         "No Despachado Centralmente",
         "AUTOGENERADOR",
         "Termica"
        ],
        [
         "44",
         "2025-01-31",
         "P1D",
         "2025-01-31",
         "2SS2",
         "MAGALLO",
         "HCCG",
         "5700.0",
         "2016-12-22",
         "Are0015",
         "Are0002",
         "No Despachado Centralmente",
         "GENERADOR",
         "Hidraulica"
        ],
        [
         "45",
         "2025-01-31",
         "P1D",
         "2025-01-31",
         "LCS1",
         "LA CASCADA (ANTIOQUIA)",
         "GNCG",
         "2300.0",
         "2007-07-17",
         "Are0015",
         "Are0002",
         "No Despachado Centralmente",
         "GENERADOR",
         "Hidraulica"
        ],
        [
         "46",
         "2025-01-31",
         "P1D",
         "2025-01-31",
         "2U1G",
         "LAS PALMAS",
         "GNCG",
         "2800.0",
         "2017-08-30",
         "Are0015",
         "Are0002",
         "No Despachado Centralmente",
         "GENERADOR",
         "Hidraulica"
        ],
        [
         "47",
         "2025-01-31",
         "P1D",
         "2025-01-31",
         "PLU1",
         "URRAO",
         "SFEG",
         "1030.0",
         "2007-07-30",
         "Are0015",
         "Are0002",
         "No Despachado Centralmente",
         "GENERADOR",
         "Hidraulica"
        ],
        [
         "48",
         "2025-01-31",
         "P1D",
         "2025-01-31",
         "3IRZ",
         "LA CASCADA DE GRANADA",
         "SFEG",
         "2090.0",
         "2023-09-30",
         "Are0015",
         "Are0002",
         "No Despachado Centralmente",
         "GENERADOR",
         "Hidraulica"
        ],
        [
         "49",
         "2025-01-31",
         "P1D",
         "2025-01-31",
         "2WC5",
         "MULATOS II",
         "ESUG",
         "7340.0",
         "2019-08-26",
         "Are0015",
         "Are0002",
         "No Despachado Centralmente",
         "GENERADOR",
         "Hidraulica"
        ]
       ],
       "shape": {
        "columns": 13,
        "rows": 69231
       }
      },
      "text/html": [
       "<div>\n",
       "<style scoped>\n",
       "    .dataframe tbody tr th:only-of-type {\n",
       "        vertical-align: middle;\n",
       "    }\n",
       "\n",
       "    .dataframe tbody tr th {\n",
       "        vertical-align: top;\n",
       "    }\n",
       "\n",
       "    .dataframe thead th {\n",
       "        text-align: right;\n",
       "    }\n",
       "</style>\n",
       "<table border=\"1\" class=\"dataframe\">\n",
       "  <thead>\n",
       "    <tr style=\"text-align: right;\">\n",
       "      <th></th>\n",
       "      <th>Fecha</th>\n",
       "      <th>CodigoDuracion</th>\n",
       "      <th>FechaPublicacion</th>\n",
       "      <th>CodigoPlanta</th>\n",
       "      <th>NombrePlanta</th>\n",
       "      <th>CodigoSICAgente</th>\n",
       "      <th>CapEfectivaNeta</th>\n",
       "      <th>FPO</th>\n",
       "      <th>CodigoSubAreaOperativa</th>\n",
       "      <th>CodigoAreaOperativa</th>\n",
       "      <th>TipoDespachoRecurso</th>\n",
       "      <th>TipoClasificacion</th>\n",
       "      <th>TipoGeneracion</th>\n",
       "    </tr>\n",
       "  </thead>\n",
       "  <tbody>\n",
       "    <tr>\n",
       "      <th>0</th>\n",
       "      <td>2025-01-31</td>\n",
       "      <td>P1D</td>\n",
       "      <td>2025-01-31</td>\n",
       "      <td>2U8Y</td>\n",
       "      <td>TERMOMECHERO 5</td>\n",
       "      <td>TMMG</td>\n",
       "      <td>19300.0</td>\n",
       "      <td>2017-12-16</td>\n",
       "      <td>Are0130</td>\n",
       "      <td>Are0012</td>\n",
       "      <td>No Despachado Centralmente</td>\n",
       "      <td>GENERADOR</td>\n",
       "      <td>Termica</td>\n",
       "    </tr>\n",
       "    <tr>\n",
       "      <th>1</th>\n",
       "      <td>2025-01-31</td>\n",
       "      <td>P1D</td>\n",
       "      <td>2025-01-31</td>\n",
       "      <td>2U93</td>\n",
       "      <td>TERMOMECHERO 4</td>\n",
       "      <td>TMMG</td>\n",
       "      <td>19300.0</td>\n",
       "      <td>2018-02-02</td>\n",
       "      <td>Are0130</td>\n",
       "      <td>Are0012</td>\n",
       "      <td>No Despachado Centralmente</td>\n",
       "      <td>GENERADOR</td>\n",
       "      <td>Termica</td>\n",
       "    </tr>\n",
       "    <tr>\n",
       "      <th>2</th>\n",
       "      <td>2025-01-31</td>\n",
       "      <td>P1D</td>\n",
       "      <td>2025-01-31</td>\n",
       "      <td>TMB1</td>\n",
       "      <td>TERMOBOLIVAR 1</td>\n",
       "      <td>GSAG</td>\n",
       "      <td>9700.0</td>\n",
       "      <td>2016-03-04</td>\n",
       "      <td>Are0130</td>\n",
       "      <td>Are0012</td>\n",
       "      <td>No Despachado Centralmente</td>\n",
       "      <td>GENERADOR</td>\n",
       "      <td>Termica</td>\n",
       "    </tr>\n",
       "    <tr>\n",
       "      <th>3</th>\n",
       "      <td>2025-01-31</td>\n",
       "      <td>P1D</td>\n",
       "      <td>2025-01-31</td>\n",
       "      <td>2WFN</td>\n",
       "      <td>TERMOCAPACHOS 1</td>\n",
       "      <td>GSAG</td>\n",
       "      <td>9900.0</td>\n",
       "      <td>2019-08-04</td>\n",
       "      <td>Are0129</td>\n",
       "      <td>Are0012</td>\n",
       "      <td>No Despachado Centralmente</td>\n",
       "      <td>GENERADOR</td>\n",
       "      <td>Termica</td>\n",
       "    </tr>\n",
       "    <tr>\n",
       "      <th>4</th>\n",
       "      <td>2025-01-31</td>\n",
       "      <td>P1D</td>\n",
       "      <td>2025-01-31</td>\n",
       "      <td>TPD1</td>\n",
       "      <td>TERMOPIEDRAS 1</td>\n",
       "      <td>TRPG</td>\n",
       "      <td>3750.0</td>\n",
       "      <td>1999-12-30</td>\n",
       "      <td>Are0031</td>\n",
       "      <td>Are0128</td>\n",
       "      <td>No Despachado Centralmente</td>\n",
       "      <td>GENERADOR</td>\n",
       "      <td>Termica</td>\n",
       "    </tr>\n",
       "    <tr>\n",
       "      <th>...</th>\n",
       "      <td>...</td>\n",
       "      <td>...</td>\n",
       "      <td>...</td>\n",
       "      <td>...</td>\n",
       "      <td>...</td>\n",
       "      <td>...</td>\n",
       "      <td>...</td>\n",
       "      <td>...</td>\n",
       "      <td>...</td>\n",
       "      <td>...</td>\n",
       "      <td>...</td>\n",
       "      <td>...</td>\n",
       "      <td>...</td>\n",
       "    </tr>\n",
       "    <tr>\n",
       "      <th>69226</th>\n",
       "      <td>2025-07-01</td>\n",
       "      <td>P1D</td>\n",
       "      <td>2025-07-01</td>\n",
       "      <td>PNC1</td>\n",
       "      <td>COGENERADOR PROENCA</td>\n",
       "      <td>PECG</td>\n",
       "      <td>19900.0</td>\n",
       "      <td>2014-04-29</td>\n",
       "      <td>Are0019</td>\n",
       "      <td>Are0128</td>\n",
       "      <td>No Despachado Centralmente</td>\n",
       "      <td>COGENERADOR</td>\n",
       "      <td>Termica</td>\n",
       "    </tr>\n",
       "    <tr>\n",
       "      <th>69227</th>\n",
       "      <td>2025-07-01</td>\n",
       "      <td>P1D</td>\n",
       "      <td>2025-07-01</td>\n",
       "      <td>INC1</td>\n",
       "      <td>INCAUCA 1</td>\n",
       "      <td>NTCG</td>\n",
       "      <td>60000.0</td>\n",
       "      <td>1998-10-21</td>\n",
       "      <td>Are0019</td>\n",
       "      <td>Are0128</td>\n",
       "      <td>No Despachado Centralmente</td>\n",
       "      <td>COGENERADOR</td>\n",
       "      <td>Termica</td>\n",
       "    </tr>\n",
       "    <tr>\n",
       "      <th>69228</th>\n",
       "      <td>2025-07-01</td>\n",
       "      <td>P1D</td>\n",
       "      <td>2025-07-01</td>\n",
       "      <td>4WWY</td>\n",
       "      <td>GD SAN MARTIN</td>\n",
       "      <td>EMSG</td>\n",
       "      <td>990.0</td>\n",
       "      <td>2025-05-11</td>\n",
       "      <td>Are0027</td>\n",
       "      <td>Are0056</td>\n",
       "      <td>No Despachado Centralmente</td>\n",
       "      <td>GENERADOR DISTRIBUIDO</td>\n",
       "      <td>Solar</td>\n",
       "    </tr>\n",
       "    <tr>\n",
       "      <th>69229</th>\n",
       "      <td>2025-07-01</td>\n",
       "      <td>P1D</td>\n",
       "      <td>2025-07-01</td>\n",
       "      <td>4Y5T</td>\n",
       "      <td>GD SAN MARTIN III</td>\n",
       "      <td>EMSG</td>\n",
       "      <td>990.0</td>\n",
       "      <td>2025-06-15</td>\n",
       "      <td>Are0027</td>\n",
       "      <td>Are0056</td>\n",
       "      <td>No Despachado Centralmente</td>\n",
       "      <td>GENERADOR DISTRIBUIDO</td>\n",
       "      <td>Solar</td>\n",
       "    </tr>\n",
       "    <tr>\n",
       "      <th>69230</th>\n",
       "      <td>2025-07-01</td>\n",
       "      <td>P1D</td>\n",
       "      <td>2025-07-01</td>\n",
       "      <td>4XQA</td>\n",
       "      <td>GD SAN MARTIN II</td>\n",
       "      <td>EMSG</td>\n",
       "      <td>990.0</td>\n",
       "      <td>2025-05-25</td>\n",
       "      <td>Are0027</td>\n",
       "      <td>Are0056</td>\n",
       "      <td>No Despachado Centralmente</td>\n",
       "      <td>GENERADOR DISTRIBUIDO</td>\n",
       "      <td>Solar</td>\n",
       "    </tr>\n",
       "  </tbody>\n",
       "</table>\n",
       "<p>69231 rows × 13 columns</p>\n",
       "</div>"
      ],
      "text/plain": [
       "            Fecha CodigoDuracion FechaPublicacion CodigoPlanta  \\\n",
       "0      2025-01-31            P1D       2025-01-31         2U8Y   \n",
       "1      2025-01-31            P1D       2025-01-31         2U93   \n",
       "2      2025-01-31            P1D       2025-01-31         TMB1   \n",
       "3      2025-01-31            P1D       2025-01-31         2WFN   \n",
       "4      2025-01-31            P1D       2025-01-31         TPD1   \n",
       "...           ...            ...              ...          ...   \n",
       "69226  2025-07-01            P1D       2025-07-01         PNC1   \n",
       "69227  2025-07-01            P1D       2025-07-01         INC1   \n",
       "69228  2025-07-01            P1D       2025-07-01         4WWY   \n",
       "69229  2025-07-01            P1D       2025-07-01         4Y5T   \n",
       "69230  2025-07-01            P1D       2025-07-01         4XQA   \n",
       "\n",
       "              NombrePlanta CodigoSICAgente  CapEfectivaNeta         FPO  \\\n",
       "0           TERMOMECHERO 5            TMMG          19300.0  2017-12-16   \n",
       "1           TERMOMECHERO 4            TMMG          19300.0  2018-02-02   \n",
       "2           TERMOBOLIVAR 1            GSAG           9700.0  2016-03-04   \n",
       "3          TERMOCAPACHOS 1            GSAG           9900.0  2019-08-04   \n",
       "4           TERMOPIEDRAS 1            TRPG           3750.0  1999-12-30   \n",
       "...                    ...             ...              ...         ...   \n",
       "69226  COGENERADOR PROENCA            PECG          19900.0  2014-04-29   \n",
       "69227            INCAUCA 1            NTCG          60000.0  1998-10-21   \n",
       "69228        GD SAN MARTIN            EMSG            990.0  2025-05-11   \n",
       "69229    GD SAN MARTIN III            EMSG            990.0  2025-06-15   \n",
       "69230     GD SAN MARTIN II            EMSG            990.0  2025-05-25   \n",
       "\n",
       "      CodigoSubAreaOperativa CodigoAreaOperativa         TipoDespachoRecurso  \\\n",
       "0                    Are0130             Are0012  No Despachado Centralmente   \n",
       "1                    Are0130             Are0012  No Despachado Centralmente   \n",
       "2                    Are0130             Are0012  No Despachado Centralmente   \n",
       "3                    Are0129             Are0012  No Despachado Centralmente   \n",
       "4                    Are0031             Are0128  No Despachado Centralmente   \n",
       "...                      ...                 ...                         ...   \n",
       "69226                Are0019             Are0128  No Despachado Centralmente   \n",
       "69227                Are0019             Are0128  No Despachado Centralmente   \n",
       "69228                Are0027             Are0056  No Despachado Centralmente   \n",
       "69229                Are0027             Are0056  No Despachado Centralmente   \n",
       "69230                Are0027             Are0056  No Despachado Centralmente   \n",
       "\n",
       "           TipoClasificacion TipoGeneracion  \n",
       "0                  GENERADOR        Termica  \n",
       "1                  GENERADOR        Termica  \n",
       "2                  GENERADOR        Termica  \n",
       "3                  GENERADOR        Termica  \n",
       "4                  GENERADOR        Termica  \n",
       "...                      ...            ...  \n",
       "69226            COGENERADOR        Termica  \n",
       "69227            COGENERADOR        Termica  \n",
       "69228  GENERADOR DISTRIBUIDO          Solar  \n",
       "69229  GENERADOR DISTRIBUIDO          Solar  \n",
       "69230  GENERADOR DISTRIBUIDO          Solar  \n",
       "\n",
       "[69231 rows x 13 columns]"
      ]
     },
     "execution_count": 5,
     "metadata": {},
     "output_type": "execute_result"
    }
   ],
   "source": [
    "id_dataset_plantas = '0BFC9D'                                               # ID del conjunto de datos a consultar\n",
    "fecha_inicial = '2025-01-01'                                                # Fecha de inicio del rango de consulta\n",
    "fecha_final = '2025-07-31'                                                  # Fecha de fin del rango de consulta\n",
    "simem_plantas = ReadSIMEM(id_dataset_plantas, fecha_inicial, fecha_final)   # Instancia de la clase ReadSIMEM con los parámetros definidos\n",
    "df_plantas = simem_plantas.main()                                           # Ejecución del método principal para obtener los datos en un DataFrame\n",
    "df_plantas"
   ]
  },
  {
   "cell_type": "markdown",
   "metadata": {},
   "source": [
    "<a id='section4'></a>\n",
    "# 4. Manipulación de datos\n",
    "Los siguientes pasos corresponden a las actividades de manipulación y preparación de los datos que son relevantes para el análisis. "
   ]
  },
  {
   "cell_type": "markdown",
   "metadata": {},
   "source": [
    "Los dataframes se filtarán para tener los datos necesarios para la visualización."
   ]
  },
  {
   "cell_type": "code",
   "execution_count": 6,
   "metadata": {},
   "outputs": [
    {
     "data": {
      "application/vnd.microsoft.datawrangler.viewer.v0+json": {
       "columns": [
        {
         "name": "index",
         "rawType": "int64",
         "type": "integer"
        },
        {
         "name": "FechaPublicacion",
         "rawType": "object",
         "type": "string"
        },
        {
         "name": "FechaSubasta",
         "rawType": "object",
         "type": "string"
        },
        {
         "name": "Subasta",
         "rawType": "object",
         "type": "string"
        },
        {
         "name": "TipoSubasta",
         "rawType": "object",
         "type": "string"
        },
        {
         "name": "FechaInicioSubasta",
         "rawType": "object",
         "type": "string"
        },
        {
         "name": "FechaFinSubasta",
         "rawType": "object",
         "type": "string"
        },
        {
         "name": "PrecioCierre",
         "rawType": "float64",
         "type": "float"
        },
        {
         "name": "IPPUSABase",
         "rawType": "float64",
         "type": "float"
        },
        {
         "name": "IPPUSADeflactor",
         "rawType": "float64",
         "type": "float"
        },
        {
         "name": "PrecioActualizado",
         "rawType": "float64",
         "type": "float"
        },
        {
         "name": "CodigoSICAgente",
         "rawType": "object",
         "type": "string"
        },
        {
         "name": "CodigoPlanta",
         "rawType": "object",
         "type": "string"
        },
        {
         "name": "FechaInicioObligacion",
         "rawType": "object",
         "type": "string"
        },
        {
         "name": "FechaFinObligacion",
         "rawType": "object",
         "type": "string"
        },
        {
         "name": "OEFDiaria",
         "rawType": "float64",
         "type": "float"
        }
       ],
       "ref": "2c0bce82-3917-4743-89d8-07d4995dbd1b",
       "rows": [
        [
         "0",
         "2023-09-30",
         "2019-02-01",
         "DECIMO OCTAVA SUBASTA",
         "Asignación administrada",
         "2025-12-01",
         "2026-11-30",
         "15.1",
         "176.8000030517578",
         "219.20199584960938",
         "18.72",
         "EMGG",
         "ZPA4",
         "2025-12-01",
         "2026-11-30",
         "1115364.0"
        ],
        [
         "1",
         "2023-09-30",
         "2019-02-01",
         "DECIMO OCTAVA SUBASTA",
         "Asignación administrada",
         "2025-12-01",
         "2026-11-30",
         "15.1",
         "176.8000030517578",
         "219.20199584960938",
         "18.72",
         "EMGG",
         "ZPA3",
         "2025-12-01",
         "2026-11-30",
         "1075025.0"
        ],
        [
         "2",
         "2023-09-30",
         "2019-02-01",
         "DECIMO OCTAVA SUBASTA",
         "Asignación administrada",
         "2025-12-01",
         "2026-11-30",
         "15.1",
         "176.8000030517578",
         "219.20199584960938",
         "18.72",
         "EITG",
         "PES1",
         "2025-12-01",
         "2026-11-30",
         "1667742.0"
        ],
        [
         "3",
         "2023-09-30",
         "2019-02-01",
         "DECIMO OCTAVA SUBASTA",
         "Asignación administrada",
         "2025-12-01",
         "2026-11-30",
         "15.1",
         "176.8000030517578",
         "219.20199584960938",
         "18.72",
         "EGCG",
         "TEC1",
         "2025-12-01",
         "2026-11-30",
         "4505074.0"
        ],
        [
         "4",
         "2023-09-30",
         "2019-02-01",
         "DECIMO OCTAVA SUBASTA",
         "Asignación administrada",
         "2025-12-01",
         "2026-11-30",
         "15.1",
         "176.8000030517578",
         "219.20199584960938",
         "18.72",
         "EEBG",
         "GVIO",
         "2025-12-01",
         "2026-11-30",
         "11305120.0"
        ],
        [
         "5",
         "2023-09-30",
         "2019-02-01",
         "DECIMO OCTAVA SUBASTA",
         "Asignación administrada",
         "2025-12-01",
         "2026-11-30",
         "15.1",
         "176.8000030517578",
         "219.20199584960938",
         "18.72",
         "CRLG",
         "TGJ2",
         "2025-12-01",
         "2026-11-30",
         "2137517.0"
        ],
        [
         "6",
         "2023-09-30",
         "2019-02-01",
         "DECIMO OCTAVA SUBASTA",
         "Asignación administrada",
         "2025-12-01",
         "2026-11-30",
         "15.1",
         "176.8000030517578",
         "219.20199584960938",
         "18.72",
         "CRLG",
         "TGJ1",
         "2025-12-01",
         "2026-11-30",
         "2451392.0"
        ],
        [
         "7",
         "2023-02-06",
         "2019-02-01",
         "CESIÓN TERMOEBR Y TERMOPROYECTOS",
         "Cesiones de OEF",
         "2025-12-01",
         "2032-11-30",
         "15.1",
         "176.8000030517578",
         "219.20199584960938",
         "18.72",
         "EPMG",
         "TDR1",
         "2026-12-01",
         "2027-11-30",
         "560467.0"
        ],
        [
         "8",
         "2023-02-06",
         "2019-02-01",
         "CESIÓN TERMOEBR Y TERMOPROYECTOS",
         "Cesiones de OEF",
         "2025-12-01",
         "2032-11-30",
         "15.1",
         "176.8000030517578",
         "219.20199584960938",
         "18.72",
         "EPMG",
         "TDR1",
         "2025-12-01",
         "2026-11-30",
         "560467.0"
        ],
        [
         "9",
         "2023-02-06",
         "2019-02-01",
         "CESIÓN TERMOEBR Y TERMOPROYECTOS",
         "Cesiones de OEF",
         "2025-12-01",
         "2032-11-30",
         "15.1",
         "176.8000030517578",
         "219.20199584960938",
         "18.72",
         "CHCG",
         "SNFR",
         "2031-12-01",
         "2032-11-30",
         "92246.0"
        ],
        [
         "10",
         "2023-02-06",
         "2019-02-01",
         "CESIÓN TERMOEBR Y TERMOPROYECTOS",
         "Cesiones de OEF",
         "2025-12-01",
         "2032-11-30",
         "15.1",
         "176.8000030517578",
         "219.20199584960938",
         "18.72",
         "CHCG",
         "SNFR",
         "2030-12-01",
         "2031-11-30",
         "92246.0"
        ],
        [
         "11",
         "2023-02-06",
         "2019-02-01",
         "CESIÓN TERMOEBR Y TERMOPROYECTOS",
         "Cesiones de OEF",
         "2025-12-01",
         "2032-11-30",
         "15.1",
         "176.8000030517578",
         "219.20199584960938",
         "18.72",
         "CHCG",
         "SNFR",
         "2029-12-01",
         "2030-11-30",
         "92246.0"
        ],
        [
         "12",
         "2023-02-06",
         "2019-02-01",
         "CESIÓN TERMOEBR Y TERMOPROYECTOS",
         "Cesiones de OEF",
         "2025-12-01",
         "2032-11-30",
         "15.1",
         "176.8000030517578",
         "219.20199584960938",
         "18.72",
         "CHCG",
         "SNFR",
         "2028-12-01",
         "2029-11-30",
         "92246.0"
        ],
        [
         "13",
         "2023-02-06",
         "2019-02-01",
         "CESIÓN TERMOEBR Y TERMOPROYECTOS",
         "Cesiones de OEF",
         "2025-12-01",
         "2032-11-30",
         "15.1",
         "176.8000030517578",
         "219.20199584960938",
         "18.72",
         "CHCG",
         "SNFR",
         "2027-12-01",
         "2028-11-30",
         "92246.0"
        ],
        [
         "14",
         "2023-02-06",
         "2019-02-01",
         "CESIÓN TERMOEBR Y TERMOPROYECTOS",
         "Cesiones de OEF",
         "2025-12-01",
         "2032-11-30",
         "15.1",
         "176.8000030517578",
         "219.20199584960938",
         "18.72",
         "CHCG",
         "SNFR",
         "2026-12-01",
         "2027-11-30",
         "92246.0"
        ],
        [
         "15",
         "2023-02-06",
         "2019-02-01",
         "CESIÓN TERMOEBR Y TERMOPROYECTOS",
         "Cesiones de OEF",
         "2025-12-01",
         "2032-11-30",
         "15.1",
         "176.8000030517578",
         "219.20199584960938",
         "18.72",
         "CHCG",
         "SNFR",
         "2025-12-01",
         "2026-11-30",
         "92246.0"
        ],
        [
         "16",
         "2023-02-06",
         "2019-02-01",
         "CESIÓN TERMOEBR Y TERMOPROYECTOS",
         "Cesiones de OEF",
         "2025-12-01",
         "2032-11-30",
         "15.1",
         "176.8000030517578",
         "219.20199584960938",
         "18.72",
         "CHCG",
         "ESMR",
         "2031-12-01",
         "2032-11-30",
         "92247.0"
        ],
        [
         "17",
         "2023-02-06",
         "2019-02-01",
         "CESIÓN TERMOEBR Y TERMOPROYECTOS",
         "Cesiones de OEF",
         "2025-12-01",
         "2032-11-30",
         "15.1",
         "176.8000030517578",
         "219.20199584960938",
         "18.72",
         "CHCG",
         "ESMR",
         "2030-12-01",
         "2031-11-30",
         "92247.0"
        ],
        [
         "18",
         "2023-02-06",
         "2019-02-01",
         "CESIÓN TERMOEBR Y TERMOPROYECTOS",
         "Cesiones de OEF",
         "2025-12-01",
         "2032-11-30",
         "15.1",
         "176.8000030517578",
         "219.20199584960938",
         "18.72",
         "CHCG",
         "ESMR",
         "2029-12-01",
         "2030-11-30",
         "92247.0"
        ],
        [
         "19",
         "2023-02-06",
         "2019-02-01",
         "CESIÓN TERMOEBR Y TERMOPROYECTOS",
         "Cesiones de OEF",
         "2025-12-01",
         "2032-11-30",
         "15.1",
         "176.8000030517578",
         "219.20199584960938",
         "18.72",
         "CHCG",
         "ESMR",
         "2028-12-01",
         "2029-11-30",
         "92247.0"
        ],
        [
         "20",
         "2023-02-06",
         "2019-02-01",
         "CESIÓN TERMOEBR Y TERMOPROYECTOS",
         "Cesiones de OEF",
         "2025-12-01",
         "2032-11-30",
         "15.1",
         "176.8000030517578",
         "219.20199584960938",
         "18.72",
         "CHCG",
         "ESMR",
         "2027-12-01",
         "2028-11-30",
         "92247.0"
        ],
        [
         "21",
         "2023-02-06",
         "2019-02-01",
         "CESIÓN TERMOEBR Y TERMOPROYECTOS",
         "Cesiones de OEF",
         "2025-12-01",
         "2032-11-30",
         "15.1",
         "176.8000030517578",
         "219.20199584960938",
         "18.72",
         "CHCG",
         "ESMR",
         "2026-12-01",
         "2027-11-30",
         "92247.0"
        ],
        [
         "22",
         "2023-02-06",
         "2019-02-01",
         "CESIÓN TERMOEBR Y TERMOPROYECTOS",
         "Cesiones de OEF",
         "2025-12-01",
         "2032-11-30",
         "15.1",
         "176.8000030517578",
         "219.20199584960938",
         "18.72",
         "CHCG",
         "ESMR",
         "2025-12-01",
         "2026-11-30",
         "92247.0"
        ],
        [
         "23",
         "2023-02-03",
         "2019-02-01",
         "CESIÓN BETA Y ALPHA (CEDENTES)",
         "Cesiones de OEF",
         "2025-12-01",
         "2042-11-30",
         "15.1",
         "176.8000030517578",
         "219.20199584960938",
         "18.72",
         "VNRG",
         "APHA",
         "2034-12-01",
         "2035-11-30",
         "152640.0"
        ],
        [
         "24",
         "2023-02-03",
         "2019-02-01",
         "CESIÓN BETA Y ALPHA (CEDENTES)",
         "Cesiones de OEF",
         "2025-12-01",
         "2042-11-30",
         "15.1",
         "176.8000030517578",
         "219.20199584960938",
         "18.72",
         "VNRG",
         "APHA",
         "2033-12-01",
         "2034-11-30",
         "152640.0"
        ],
        [
         "25",
         "2023-02-03",
         "2019-02-01",
         "CESIÓN BETA Y ALPHA (CEDENTES)",
         "Cesiones de OEF",
         "2025-12-01",
         "2042-11-30",
         "15.1",
         "176.8000030517578",
         "219.20199584960938",
         "18.72",
         "VNRG",
         "APHA",
         "2032-12-01",
         "2033-11-30",
         "152640.0"
        ],
        [
         "26",
         "2023-02-03",
         "2019-02-01",
         "CESIÓN BETA Y ALPHA (CEDENTES)",
         "Cesiones de OEF",
         "2025-12-01",
         "2042-11-30",
         "15.1",
         "176.8000030517578",
         "219.20199584960938",
         "18.72",
         "VNRG",
         "APHA",
         "2031-12-01",
         "2032-11-30",
         "152640.0"
        ],
        [
         "27",
         "2023-02-03",
         "2019-02-01",
         "CESIÓN BETA Y ALPHA (CEDENTES)",
         "Cesiones de OEF",
         "2025-12-01",
         "2042-11-30",
         "15.1",
         "176.8000030517578",
         "219.20199584960938",
         "18.72",
         "VNRG",
         "APHA",
         "2030-12-01",
         "2031-11-30",
         "152640.0"
        ],
        [
         "28",
         "2023-02-03",
         "2019-02-01",
         "CESIÓN BETA Y ALPHA (CEDENTES)",
         "Cesiones de OEF",
         "2025-12-01",
         "2042-11-30",
         "15.1",
         "176.8000030517578",
         "219.20199584960938",
         "18.72",
         "VNRG",
         "APHA",
         "2029-12-01",
         "2030-11-30",
         "152640.0"
        ],
        [
         "29",
         "2023-02-03",
         "2019-02-01",
         "CESIÓN BETA Y ALPHA (CEDENTES)",
         "Cesiones de OEF",
         "2025-12-01",
         "2042-11-30",
         "15.1",
         "176.8000030517578",
         "219.20199584960938",
         "18.72",
         "VNRG",
         "APHA",
         "2028-12-01",
         "2029-11-30",
         "152640.0"
        ],
        [
         "30",
         "2023-02-03",
         "2019-02-01",
         "CESIÓN BETA Y ALPHA (CEDENTES)",
         "Cesiones de OEF",
         "2025-12-01",
         "2042-11-30",
         "15.1",
         "176.8000030517578",
         "219.20199584960938",
         "18.72",
         "VNRG",
         "APHA",
         "2027-12-01",
         "2028-11-30",
         "152640.0"
        ],
        [
         "31",
         "2023-02-03",
         "2019-02-01",
         "CESIÓN BETA Y ALPHA (CEDENTES)",
         "Cesiones de OEF",
         "2025-12-01",
         "2042-11-30",
         "15.1",
         "176.8000030517578",
         "219.20199584960938",
         "18.72",
         "EOEG",
         "BETA",
         "2041-12-01",
         "2042-11-30",
         "201600.0"
        ],
        [
         "32",
         "2023-02-03",
         "2019-02-01",
         "CESIÓN BETA Y ALPHA (CEDENTES)",
         "Cesiones de OEF",
         "2025-12-01",
         "2042-11-30",
         "15.1",
         "176.8000030517578",
         "219.20199584960938",
         "18.72",
         "EOEG",
         "BETA",
         "2040-12-01",
         "2041-11-30",
         "201600.0"
        ],
        [
         "33",
         "2023-02-03",
         "2019-02-01",
         "CESIÓN BETA Y ALPHA (CEDENTES)",
         "Cesiones de OEF",
         "2025-12-01",
         "2042-11-30",
         "15.1",
         "176.8000030517578",
         "219.20199584960938",
         "18.72",
         "EOEG",
         "BETA",
         "2039-12-01",
         "2040-11-30",
         "201600.0"
        ],
        [
         "34",
         "2023-02-03",
         "2019-02-01",
         "CESIÓN BETA Y ALPHA (CEDENTES)",
         "Cesiones de OEF",
         "2025-12-01",
         "2042-11-30",
         "15.1",
         "176.8000030517578",
         "219.20199584960938",
         "18.72",
         "EOEG",
         "BETA",
         "2038-12-01",
         "2039-11-30",
         "201600.0"
        ],
        [
         "35",
         "2023-02-03",
         "2019-02-01",
         "CESIÓN BETA Y ALPHA (CEDENTES)",
         "Cesiones de OEF",
         "2025-12-01",
         "2042-11-30",
         "15.1",
         "176.8000030517578",
         "219.20199584960938",
         "18.72",
         "EOEG",
         "BETA",
         "2037-12-01",
         "2038-11-30",
         "201600.0"
        ],
        [
         "36",
         "2023-02-03",
         "2019-02-01",
         "CESIÓN BETA Y ALPHA (CEDENTES)",
         "Cesiones de OEF",
         "2025-12-01",
         "2042-11-30",
         "15.1",
         "176.8000030517578",
         "219.20199584960938",
         "18.72",
         "EOEG",
         "BETA",
         "2036-12-01",
         "2037-11-30",
         "201600.0"
        ],
        [
         "37",
         "2023-02-03",
         "2019-02-01",
         "CESIÓN BETA Y ALPHA (CEDENTES)",
         "Cesiones de OEF",
         "2025-12-01",
         "2042-11-30",
         "15.1",
         "176.8000030517578",
         "219.20199584960938",
         "18.72",
         "EOEG",
         "BETA",
         "2035-12-01",
         "2036-11-30",
         "201600.0"
        ],
        [
         "38",
         "2023-02-03",
         "2019-02-01",
         "CESIÓN BETA Y ALPHA (CEDENTES)",
         "Cesiones de OEF",
         "2025-12-01",
         "2042-11-30",
         "15.1",
         "176.8000030517578",
         "219.20199584960938",
         "18.72",
         "EOEG",
         "BETA",
         "2034-12-01",
         "2035-11-30",
         "201600.0"
        ],
        [
         "39",
         "2023-02-03",
         "2019-02-01",
         "CESIÓN BETA Y ALPHA (CEDENTES)",
         "Cesiones de OEF",
         "2025-12-01",
         "2042-11-30",
         "15.1",
         "176.8000030517578",
         "219.20199584960938",
         "18.72",
         "EOEG",
         "BETA",
         "2033-12-01",
         "2034-11-30",
         "201600.0"
        ],
        [
         "40",
         "2023-02-01",
         "2019-02-01",
         "TOMADORES DEL CARGO PERIODO 2025-2035",
         "Tomadores del Cargo",
         "2025-12-01",
         "2035-11-30",
         "9.0",
         "176.8000030517578",
         "219.20199584960938",
         "11.16",
         "GNSG",
         "3IQA",
         "2025-12-01",
         "2026-11-30",
         "81352.0"
        ],
        [
         "41",
         "2023-02-01",
         "2019-02-01",
         "TOMADORES DEL CARGO PERIODO 2025-2035",
         "Tomadores del Cargo",
         "2025-12-01",
         "2035-11-30",
         "9.0",
         "176.8000030517578",
         "219.20199584960938",
         "11.16",
         "GNSG",
         "3IQA",
         "2026-12-01",
         "2027-11-30",
         "81352.0"
        ],
        [
         "42",
         "2023-02-01",
         "2019-02-01",
         "TOMADORES DEL CARGO PERIODO 2025-2035",
         "Tomadores del Cargo",
         "2025-12-01",
         "2035-11-30",
         "9.0",
         "176.8000030517578",
         "219.20199584960938",
         "11.16",
         "GNSG",
         "3IQA",
         "2027-12-01",
         "2028-11-30",
         "81352.0"
        ],
        [
         "43",
         "2023-02-01",
         "2019-02-01",
         "TOMADORES DEL CARGO PERIODO 2025-2035",
         "Tomadores del Cargo",
         "2025-12-01",
         "2035-11-30",
         "9.0",
         "176.8000030517578",
         "219.20199584960938",
         "11.16",
         "GNSG",
         "3IQA",
         "2028-12-01",
         "2029-11-30",
         "81352.0"
        ],
        [
         "44",
         "2023-02-01",
         "2019-02-01",
         "TOMADORES DEL CARGO PERIODO 2025-2035",
         "Tomadores del Cargo",
         "2025-12-01",
         "2035-11-30",
         "9.0",
         "176.8000030517578",
         "219.20199584960938",
         "11.16",
         "GNSG",
         "3IQA",
         "2029-12-01",
         "2030-11-30",
         "81352.0"
        ],
        [
         "45",
         "2023-02-01",
         "2019-02-01",
         "TOMADORES DEL CARGO PERIODO 2025-2035",
         "Tomadores del Cargo",
         "2025-12-01",
         "2035-11-30",
         "9.0",
         "176.8000030517578",
         "219.20199584960938",
         "11.16",
         "GNSG",
         "3IQA",
         "2030-12-01",
         "2031-11-30",
         "81352.0"
        ],
        [
         "46",
         "2023-02-01",
         "2019-02-01",
         "TOMADORES DEL CARGO PERIODO 2025-2035",
         "Tomadores del Cargo",
         "2025-12-01",
         "2035-11-30",
         "9.0",
         "176.8000030517578",
         "219.20199584960938",
         "11.16",
         "GNSG",
         "3IQA",
         "2031-12-01",
         "2032-11-30",
         "81352.0"
        ],
        [
         "47",
         "2023-02-01",
         "2019-02-01",
         "TOMADORES DEL CARGO PERIODO 2025-2035",
         "Tomadores del Cargo",
         "2025-12-01",
         "2035-11-30",
         "9.0",
         "176.8000030517578",
         "219.20199584960938",
         "11.16",
         "GNSG",
         "3IQA",
         "2032-12-01",
         "2033-11-30",
         "81352.0"
        ],
        [
         "48",
         "2023-02-01",
         "2019-02-01",
         "TOMADORES DEL CARGO PERIODO 2025-2035",
         "Tomadores del Cargo",
         "2025-12-01",
         "2035-11-30",
         "9.0",
         "176.8000030517578",
         "219.20199584960938",
         "11.16",
         "GNSG",
         "3IQA",
         "2033-12-01",
         "2034-11-30",
         "81352.0"
        ],
        [
         "49",
         "2023-02-01",
         "2019-02-01",
         "TOMADORES DEL CARGO PERIODO 2025-2035",
         "Tomadores del Cargo",
         "2025-12-01",
         "2035-11-30",
         "9.0",
         "176.8000030517578",
         "219.20199584960938",
         "11.16",
         "GNSG",
         "3IQA",
         "2034-12-01",
         "2035-11-30",
         "81352.0"
        ]
       ],
       "shape": {
        "columns": 15,
        "rows": 2032
       }
      },
      "text/html": [
       "<div>\n",
       "<style scoped>\n",
       "    .dataframe tbody tr th:only-of-type {\n",
       "        vertical-align: middle;\n",
       "    }\n",
       "\n",
       "    .dataframe tbody tr th {\n",
       "        vertical-align: top;\n",
       "    }\n",
       "\n",
       "    .dataframe thead th {\n",
       "        text-align: right;\n",
       "    }\n",
       "</style>\n",
       "<table border=\"1\" class=\"dataframe\">\n",
       "  <thead>\n",
       "    <tr style=\"text-align: right;\">\n",
       "      <th></th>\n",
       "      <th>FechaPublicacion</th>\n",
       "      <th>FechaSubasta</th>\n",
       "      <th>Subasta</th>\n",
       "      <th>TipoSubasta</th>\n",
       "      <th>FechaInicioSubasta</th>\n",
       "      <th>FechaFinSubasta</th>\n",
       "      <th>PrecioCierre</th>\n",
       "      <th>IPPUSABase</th>\n",
       "      <th>IPPUSADeflactor</th>\n",
       "      <th>PrecioActualizado</th>\n",
       "      <th>CodigoSICAgente</th>\n",
       "      <th>CodigoPlanta</th>\n",
       "      <th>FechaInicioObligacion</th>\n",
       "      <th>FechaFinObligacion</th>\n",
       "      <th>OEFDiaria</th>\n",
       "    </tr>\n",
       "  </thead>\n",
       "  <tbody>\n",
       "    <tr>\n",
       "      <th>0</th>\n",
       "      <td>2023-09-30</td>\n",
       "      <td>2019-02-01</td>\n",
       "      <td>DECIMO OCTAVA SUBASTA</td>\n",
       "      <td>Asignación administrada</td>\n",
       "      <td>2025-12-01</td>\n",
       "      <td>2026-11-30</td>\n",
       "      <td>15.1</td>\n",
       "      <td>176.800003</td>\n",
       "      <td>219.201996</td>\n",
       "      <td>18.72</td>\n",
       "      <td>EMGG</td>\n",
       "      <td>ZPA4</td>\n",
       "      <td>2025-12-01</td>\n",
       "      <td>2026-11-30</td>\n",
       "      <td>1115364.0</td>\n",
       "    </tr>\n",
       "    <tr>\n",
       "      <th>1</th>\n",
       "      <td>2023-09-30</td>\n",
       "      <td>2019-02-01</td>\n",
       "      <td>DECIMO OCTAVA SUBASTA</td>\n",
       "      <td>Asignación administrada</td>\n",
       "      <td>2025-12-01</td>\n",
       "      <td>2026-11-30</td>\n",
       "      <td>15.1</td>\n",
       "      <td>176.800003</td>\n",
       "      <td>219.201996</td>\n",
       "      <td>18.72</td>\n",
       "      <td>EMGG</td>\n",
       "      <td>ZPA3</td>\n",
       "      <td>2025-12-01</td>\n",
       "      <td>2026-11-30</td>\n",
       "      <td>1075025.0</td>\n",
       "    </tr>\n",
       "    <tr>\n",
       "      <th>2</th>\n",
       "      <td>2023-09-30</td>\n",
       "      <td>2019-02-01</td>\n",
       "      <td>DECIMO OCTAVA SUBASTA</td>\n",
       "      <td>Asignación administrada</td>\n",
       "      <td>2025-12-01</td>\n",
       "      <td>2026-11-30</td>\n",
       "      <td>15.1</td>\n",
       "      <td>176.800003</td>\n",
       "      <td>219.201996</td>\n",
       "      <td>18.72</td>\n",
       "      <td>EITG</td>\n",
       "      <td>PES1</td>\n",
       "      <td>2025-12-01</td>\n",
       "      <td>2026-11-30</td>\n",
       "      <td>1667742.0</td>\n",
       "    </tr>\n",
       "    <tr>\n",
       "      <th>3</th>\n",
       "      <td>2023-09-30</td>\n",
       "      <td>2019-02-01</td>\n",
       "      <td>DECIMO OCTAVA SUBASTA</td>\n",
       "      <td>Asignación administrada</td>\n",
       "      <td>2025-12-01</td>\n",
       "      <td>2026-11-30</td>\n",
       "      <td>15.1</td>\n",
       "      <td>176.800003</td>\n",
       "      <td>219.201996</td>\n",
       "      <td>18.72</td>\n",
       "      <td>EGCG</td>\n",
       "      <td>TEC1</td>\n",
       "      <td>2025-12-01</td>\n",
       "      <td>2026-11-30</td>\n",
       "      <td>4505074.0</td>\n",
       "    </tr>\n",
       "    <tr>\n",
       "      <th>4</th>\n",
       "      <td>2023-09-30</td>\n",
       "      <td>2019-02-01</td>\n",
       "      <td>DECIMO OCTAVA SUBASTA</td>\n",
       "      <td>Asignación administrada</td>\n",
       "      <td>2025-12-01</td>\n",
       "      <td>2026-11-30</td>\n",
       "      <td>15.1</td>\n",
       "      <td>176.800003</td>\n",
       "      <td>219.201996</td>\n",
       "      <td>18.72</td>\n",
       "      <td>EEBG</td>\n",
       "      <td>GVIO</td>\n",
       "      <td>2025-12-01</td>\n",
       "      <td>2026-11-30</td>\n",
       "      <td>11305120.0</td>\n",
       "    </tr>\n",
       "    <tr>\n",
       "      <th>...</th>\n",
       "      <td>...</td>\n",
       "      <td>...</td>\n",
       "      <td>...</td>\n",
       "      <td>...</td>\n",
       "      <td>...</td>\n",
       "      <td>...</td>\n",
       "      <td>...</td>\n",
       "      <td>...</td>\n",
       "      <td>...</td>\n",
       "      <td>...</td>\n",
       "      <td>...</td>\n",
       "      <td>...</td>\n",
       "      <td>...</td>\n",
       "      <td>...</td>\n",
       "      <td>...</td>\n",
       "    </tr>\n",
       "    <tr>\n",
       "      <th>2027</th>\n",
       "      <td>2025-05-23</td>\n",
       "      <td>2025-05-09</td>\n",
       "      <td>SUBASTA DE RECONFIGURACION DE COMPRA 2026-2027</td>\n",
       "      <td>Subastas de reconfiguración de compra</td>\n",
       "      <td>2026-12-01</td>\n",
       "      <td>2027-11-30</td>\n",
       "      <td>21.3</td>\n",
       "      <td>223.516998</td>\n",
       "      <td>223.516998</td>\n",
       "      <td>21.30</td>\n",
       "      <td>EPMG</td>\n",
       "      <td>GTPE</td>\n",
       "      <td>2026-12-01</td>\n",
       "      <td>2027-11-30</td>\n",
       "      <td>153698.0</td>\n",
       "    </tr>\n",
       "    <tr>\n",
       "      <th>2028</th>\n",
       "      <td>2025-05-23</td>\n",
       "      <td>2025-05-09</td>\n",
       "      <td>SUBASTA DE RECONFIGURACION DE COMPRA 2026-2027</td>\n",
       "      <td>Subastas de reconfiguración de compra</td>\n",
       "      <td>2026-12-01</td>\n",
       "      <td>2027-11-30</td>\n",
       "      <td>21.3</td>\n",
       "      <td>223.516998</td>\n",
       "      <td>223.516998</td>\n",
       "      <td>21.30</td>\n",
       "      <td>EPMG</td>\n",
       "      <td>PRC2</td>\n",
       "      <td>2026-12-01</td>\n",
       "      <td>2027-11-30</td>\n",
       "      <td>77666.0</td>\n",
       "    </tr>\n",
       "    <tr>\n",
       "      <th>2029</th>\n",
       "      <td>2025-05-23</td>\n",
       "      <td>2025-05-09</td>\n",
       "      <td>SUBASTA DE RECONFIGURACION DE COMPRA 2026-2027</td>\n",
       "      <td>Subastas de reconfiguración de compra</td>\n",
       "      <td>2026-12-01</td>\n",
       "      <td>2027-11-30</td>\n",
       "      <td>21.3</td>\n",
       "      <td>223.516998</td>\n",
       "      <td>223.516998</td>\n",
       "      <td>21.30</td>\n",
       "      <td>SLMG</td>\n",
       "      <td>MATA</td>\n",
       "      <td>2026-12-01</td>\n",
       "      <td>2027-11-30</td>\n",
       "      <td>100730.0</td>\n",
       "    </tr>\n",
       "    <tr>\n",
       "      <th>2030</th>\n",
       "      <td>2025-05-23</td>\n",
       "      <td>2025-05-09</td>\n",
       "      <td>SUBASTA DE RECONFIGURACION DE COMPRA 2026-2027</td>\n",
       "      <td>Subastas de reconfiguración de compra</td>\n",
       "      <td>2026-12-01</td>\n",
       "      <td>2027-11-30</td>\n",
       "      <td>21.3</td>\n",
       "      <td>223.516998</td>\n",
       "      <td>223.516998</td>\n",
       "      <td>21.30</td>\n",
       "      <td>SLUG</td>\n",
       "      <td>3IZ6</td>\n",
       "      <td>2026-12-01</td>\n",
       "      <td>2027-11-30</td>\n",
       "      <td>146160.0</td>\n",
       "    </tr>\n",
       "    <tr>\n",
       "      <th>2031</th>\n",
       "      <td>2025-05-23</td>\n",
       "      <td>2025-05-09</td>\n",
       "      <td>SUBASTA DE RECONFIGURACION DE COMPRA 2026-2027</td>\n",
       "      <td>Subastas de reconfiguración de compra</td>\n",
       "      <td>2026-12-01</td>\n",
       "      <td>2027-11-30</td>\n",
       "      <td>21.3</td>\n",
       "      <td>223.516998</td>\n",
       "      <td>223.516998</td>\n",
       "      <td>21.30</td>\n",
       "      <td>TMFG</td>\n",
       "      <td>TFL4</td>\n",
       "      <td>2026-12-01</td>\n",
       "      <td>2027-11-30</td>\n",
       "      <td>163528.0</td>\n",
       "    </tr>\n",
       "  </tbody>\n",
       "</table>\n",
       "<p>2032 rows × 15 columns</p>\n",
       "</div>"
      ],
      "text/plain": [
       "     FechaPublicacion FechaSubasta  \\\n",
       "0          2023-09-30   2019-02-01   \n",
       "1          2023-09-30   2019-02-01   \n",
       "2          2023-09-30   2019-02-01   \n",
       "3          2023-09-30   2019-02-01   \n",
       "4          2023-09-30   2019-02-01   \n",
       "...               ...          ...   \n",
       "2027       2025-05-23   2025-05-09   \n",
       "2028       2025-05-23   2025-05-09   \n",
       "2029       2025-05-23   2025-05-09   \n",
       "2030       2025-05-23   2025-05-09   \n",
       "2031       2025-05-23   2025-05-09   \n",
       "\n",
       "                                             Subasta  \\\n",
       "0                              DECIMO OCTAVA SUBASTA   \n",
       "1                              DECIMO OCTAVA SUBASTA   \n",
       "2                              DECIMO OCTAVA SUBASTA   \n",
       "3                              DECIMO OCTAVA SUBASTA   \n",
       "4                              DECIMO OCTAVA SUBASTA   \n",
       "...                                              ...   \n",
       "2027  SUBASTA DE RECONFIGURACION DE COMPRA 2026-2027   \n",
       "2028  SUBASTA DE RECONFIGURACION DE COMPRA 2026-2027   \n",
       "2029  SUBASTA DE RECONFIGURACION DE COMPRA 2026-2027   \n",
       "2030  SUBASTA DE RECONFIGURACION DE COMPRA 2026-2027   \n",
       "2031  SUBASTA DE RECONFIGURACION DE COMPRA 2026-2027   \n",
       "\n",
       "                                TipoSubasta FechaInicioSubasta  \\\n",
       "0                   Asignación administrada         2025-12-01   \n",
       "1                   Asignación administrada         2025-12-01   \n",
       "2                   Asignación administrada         2025-12-01   \n",
       "3                   Asignación administrada         2025-12-01   \n",
       "4                   Asignación administrada         2025-12-01   \n",
       "...                                     ...                ...   \n",
       "2027  Subastas de reconfiguración de compra         2026-12-01   \n",
       "2028  Subastas de reconfiguración de compra         2026-12-01   \n",
       "2029  Subastas de reconfiguración de compra         2026-12-01   \n",
       "2030  Subastas de reconfiguración de compra         2026-12-01   \n",
       "2031  Subastas de reconfiguración de compra         2026-12-01   \n",
       "\n",
       "     FechaFinSubasta  PrecioCierre  IPPUSABase  IPPUSADeflactor  \\\n",
       "0         2026-11-30          15.1  176.800003       219.201996   \n",
       "1         2026-11-30          15.1  176.800003       219.201996   \n",
       "2         2026-11-30          15.1  176.800003       219.201996   \n",
       "3         2026-11-30          15.1  176.800003       219.201996   \n",
       "4         2026-11-30          15.1  176.800003       219.201996   \n",
       "...              ...           ...         ...              ...   \n",
       "2027      2027-11-30          21.3  223.516998       223.516998   \n",
       "2028      2027-11-30          21.3  223.516998       223.516998   \n",
       "2029      2027-11-30          21.3  223.516998       223.516998   \n",
       "2030      2027-11-30          21.3  223.516998       223.516998   \n",
       "2031      2027-11-30          21.3  223.516998       223.516998   \n",
       "\n",
       "      PrecioActualizado CodigoSICAgente CodigoPlanta FechaInicioObligacion  \\\n",
       "0                 18.72            EMGG         ZPA4            2025-12-01   \n",
       "1                 18.72            EMGG         ZPA3            2025-12-01   \n",
       "2                 18.72            EITG         PES1            2025-12-01   \n",
       "3                 18.72            EGCG         TEC1            2025-12-01   \n",
       "4                 18.72            EEBG         GVIO            2025-12-01   \n",
       "...                 ...             ...          ...                   ...   \n",
       "2027              21.30            EPMG         GTPE            2026-12-01   \n",
       "2028              21.30            EPMG         PRC2            2026-12-01   \n",
       "2029              21.30            SLMG         MATA            2026-12-01   \n",
       "2030              21.30            SLUG         3IZ6            2026-12-01   \n",
       "2031              21.30            TMFG         TFL4            2026-12-01   \n",
       "\n",
       "     FechaFinObligacion   OEFDiaria  \n",
       "0            2026-11-30   1115364.0  \n",
       "1            2026-11-30   1075025.0  \n",
       "2            2026-11-30   1667742.0  \n",
       "3            2026-11-30   4505074.0  \n",
       "4            2026-11-30  11305120.0  \n",
       "...                 ...         ...  \n",
       "2027         2027-11-30    153698.0  \n",
       "2028         2027-11-30     77666.0  \n",
       "2029         2027-11-30    100730.0  \n",
       "2030         2027-11-30    146160.0  \n",
       "2031         2027-11-30    163528.0  \n",
       "\n",
       "[2032 rows x 15 columns]"
      ]
     },
     "execution_count": 6,
     "metadata": {},
     "output_type": "execute_result"
    }
   ],
   "source": [
    "df_rSubastas = df_rSubastas.rename(columns={'ValorConcepto': 'OEFDiaria'})              # Se renombra la columna ValorConcepto para que coincida en el momento de unir los DataFrames\n",
    "df_rSubastas['TipoSubasta'] = 'Subastas de reconfiguración de compra'                   # Se añade valores a la columna tipo de subasta\n",
    "\n",
    "columnas_comunes = df_CxC.columns.intersection(df_rSubastas.columns)                    # Columnas comunes de los 2 DataFrames\n",
    "\n",
    "df_CxC_filtrado = df_CxC[columnas_comunes]                                              # Se filtra el primer DataFrame con las columnas comunes\n",
    "df_rSubastas_filtrado = df_rSubastas[columnas_comunes]                                  # Se filtra el segundo DataFrame con las columnas comunes\n",
    "\n",
    "df_completo = pd.concat([df_CxC_filtrado, df_rSubastas_filtrado], ignore_index=True)    # Se unen los DataFrames\n",
    "df_completo                                                                             # Se muestra el DataFrame resultado"
   ]
  },
  {
   "cell_type": "code",
   "execution_count": 7,
   "metadata": {},
   "outputs": [
    {
     "data": {
      "application/vnd.microsoft.datawrangler.viewer.v0+json": {
       "columns": [
        {
         "name": "index",
         "rawType": "int64",
         "type": "integer"
        },
        {
         "name": "FechaPublicacion",
         "rawType": "object",
         "type": "string"
        },
        {
         "name": "FechaSubasta",
         "rawType": "object",
         "type": "string"
        },
        {
         "name": "Subasta",
         "rawType": "object",
         "type": "string"
        },
        {
         "name": "TipoSubasta",
         "rawType": "object",
         "type": "string"
        },
        {
         "name": "FechaInicioSubasta",
         "rawType": "object",
         "type": "string"
        },
        {
         "name": "FechaFinSubasta",
         "rawType": "object",
         "type": "string"
        },
        {
         "name": "PrecioCierre",
         "rawType": "float64",
         "type": "float"
        },
        {
         "name": "IPPUSABase",
         "rawType": "float64",
         "type": "float"
        },
        {
         "name": "IPPUSADeflactor",
         "rawType": "float64",
         "type": "float"
        },
        {
         "name": "PrecioActualizado",
         "rawType": "float64",
         "type": "float"
        },
        {
         "name": "CodigoSICAgente",
         "rawType": "object",
         "type": "string"
        },
        {
         "name": "CodigoPlanta",
         "rawType": "object",
         "type": "string"
        },
        {
         "name": "FechaInicioObligacion",
         "rawType": "object",
         "type": "string"
        },
        {
         "name": "FechaFinObligacion",
         "rawType": "object",
         "type": "string"
        },
        {
         "name": "OEFDiaria",
         "rawType": "float64",
         "type": "float"
        }
       ],
       "ref": "aaf82a22-739b-4c9e-8bc1-f95f5722915f",
       "rows": [
        [
         "0",
         "2025-05-24",
         "2025-05-09",
         "SUBASTA DE RECONFIGURACION DE COMPRA 2027-2028",
         "Subastas de reconfiguración de compra",
         "2027-12-01",
         "2028-11-30",
         "21.3",
         "223.51699829101562",
         "223.51699829101562",
         "21.3",
         "CHBG",
         "CHBG",
         "2027-12-01",
         "2028-11-30",
         "741.0"
        ],
        [
         "1",
         "2025-05-24",
         "2025-05-09",
         "SUBASTA DE RECONFIGURACION DE COMPRA 2027-2028",
         "Subastas de reconfiguración de compra",
         "2027-12-01",
         "2028-11-30",
         "21.3",
         "223.51699829101562",
         "223.51699829101562",
         "21.3",
         "ENDG",
         "QUI1",
         "2027-12-01",
         "2028-11-30",
         "48713.0"
        ],
        [
         "2",
         "2025-05-24",
         "2025-05-09",
         "SUBASTA DE RECONFIGURACION DE COMPRA 2027-2028",
         "Subastas de reconfiguración de compra",
         "2027-12-01",
         "2028-11-30",
         "21.3",
         "223.51699829101562",
         "223.51699829101562",
         "21.3",
         "TCBG",
         "TCBE",
         "2027-12-01",
         "2028-11-30",
         "134400.0"
        ],
        [
         "3",
         "2025-05-24",
         "2025-05-09",
         "SUBASTA DE RECONFIGURACION DE COMPRA 2027-2028",
         "Subastas de reconfiguración de compra",
         "2027-12-01",
         "2028-11-30",
         "21.3",
         "223.51699829101562",
         "223.51699829101562",
         "21.3",
         "SLUG",
         "3IZ6",
         "2027-12-01",
         "2028-11-30",
         "146160.0"
        ],
        [
         "4",
         "2025-05-24",
         "2025-05-09",
         "SUBASTA DE RECONFIGURACION DE COMPRA 2027-2028",
         "Subastas de reconfiguración de compra",
         "2027-12-01",
         "2028-11-30",
         "21.3",
         "223.51699829101562",
         "223.51699829101562",
         "21.3",
         "SLMG",
         "MATA",
         "2027-12-01",
         "2028-11-30",
         "100730.0"
        ],
        [
         "5",
         "2025-05-24",
         "2025-05-09",
         "SUBASTA DE RECONFIGURACION DE COMPRA 2027-2028",
         "Subastas de reconfiguración de compra",
         "2027-12-01",
         "2028-11-30",
         "21.3",
         "223.51699829101562",
         "223.51699829101562",
         "21.3",
         "MRLG",
         "MRL1",
         "2027-12-01",
         "2028-11-30",
         "972000.0"
        ],
        [
         "6",
         "2025-05-24",
         "2025-05-09",
         "SUBASTA DE RECONFIGURACION DE COMPRA 2027-2028",
         "Subastas de reconfiguración de compra",
         "2027-12-01",
         "2028-11-30",
         "21.3",
         "223.51699829101562",
         "223.51699829101562",
         "21.3",
         "EPMG",
         "GTRG",
         "2027-12-01",
         "2028-11-30",
         "45352.0"
        ],
        [
         "7",
         "2025-05-24",
         "2025-05-09",
         "SUBASTA DE RECONFIGURACION DE COMPRA 2027-2028",
         "Subastas de reconfiguración de compra",
         "2027-12-01",
         "2028-11-30",
         "21.3",
         "223.51699829101562",
         "223.51699829101562",
         "21.3",
         "EPMG",
         "TPUY",
         "2027-12-01",
         "2028-11-30",
         "162687.0"
        ],
        [
         "8",
         "2025-05-24",
         "2025-05-09",
         "SUBASTA DE RECONFIGURACION DE COMPRA 2027-2028",
         "Subastas de reconfiguración de compra",
         "2027-12-01",
         "2028-11-30",
         "21.3",
         "223.51699829101562",
         "223.51699829101562",
         "21.3",
         "ENDG",
         "GYPO",
         "2027-12-01",
         "2028-11-30",
         "740935.0"
        ],
        [
         "9",
         "2025-05-24",
         "2025-05-09",
         "SUBASTA DE RECONFIGURACION DE COMPRA 2027-2028",
         "Subastas de reconfiguración de compra",
         "2027-12-01",
         "2028-11-30",
         "21.3",
         "223.51699829101562",
         "223.51699829101562",
         "21.3",
         "ENDG",
         "EPFV",
         "2027-12-01",
         "2028-11-30",
         "189739.0"
        ],
        [
         "10",
         "2025-05-24",
         "2025-05-09",
         "SUBASTA DE RECONFIGURACION DE COMPRA 2027-2028",
         "Subastas de reconfiguración de compra",
         "2027-12-01",
         "2028-11-30",
         "21.3",
         "223.51699829101562",
         "223.51699829101562",
         "21.3",
         "ENDG",
         "3HF5",
         "2027-12-01",
         "2028-11-30",
         "414585.0"
        ],
        [
         "11",
         "2025-05-24",
         "2025-05-09",
         "SUBASTA DE RECONFIGURACION DE COMPRA 2027-2028",
         "Subastas de reconfiguración de compra",
         "2027-12-01",
         "2028-11-30",
         "21.3",
         "223.51699829101562",
         "223.51699829101562",
         "21.3",
         "ENDG",
         "3DDT",
         "2027-12-01",
         "2028-11-30",
         "199528.0"
        ],
        [
         "12",
         "2025-05-24",
         "2025-05-09",
         "SUBASTA DE RECONFIGURACION DE COMPRA 2027-2028",
         "Subastas de reconfiguración de compra",
         "2027-12-01",
         "2028-11-30",
         "21.3",
         "223.51699829101562",
         "223.51699829101562",
         "21.3",
         "CRLG",
         "CTG2",
         "2027-12-01",
         "2028-11-30",
         "669833.0"
        ],
        [
         "13",
         "2025-05-23",
         "2025-05-09",
         "SUBASTA DE RECONFIGURACION DE COMPRA 2025-2026",
         "Subastas de reconfiguración de compra",
         "2025-12-01",
         "2026-11-30",
         "21.3",
         "223.51699829101562",
         "223.51699829101562",
         "21.3",
         "TMFG",
         "TFL4",
         "2025-12-01",
         "2026-11-30",
         "480426.0"
        ],
        [
         "14",
         "2025-05-23",
         "2025-05-09",
         "SUBASTA DE RECONFIGURACION DE COMPRA 2025-2026",
         "Subastas de reconfiguración de compra",
         "2025-12-01",
         "2026-11-30",
         "21.3",
         "223.51699829101562",
         "223.51699829101562",
         "21.3",
         "EPMG",
         "TPUY",
         "2025-12-01",
         "2026-11-30",
         "465167.0"
        ],
        [
         "15",
         "2025-05-23",
         "2025-05-09",
         "SUBASTA DE RECONFIGURACION DE COMPRA 2025-2026",
         "Subastas de reconfiguración de compra",
         "2025-12-01",
         "2026-11-30",
         "21.3",
         "223.51699829101562",
         "223.51699829101562",
         "21.3",
         "EPMG",
         "PLYS",
         "2025-12-01",
         "2026-11-30",
         "197015.0"
        ],
        [
         "16",
         "2025-05-23",
         "2025-05-09",
         "SUBASTA DE RECONFIGURACION DE COMPRA 2025-2026",
         "Subastas de reconfiguración de compra",
         "2025-12-01",
         "2026-11-30",
         "21.3",
         "223.51699829101562",
         "223.51699829101562",
         "21.3",
         "ENDG",
         "QUI1",
         "2025-12-01",
         "2026-11-30",
         "121454.0"
        ],
        [
         "17",
         "2025-05-23",
         "2025-05-09",
         "SUBASTA DE RECONFIGURACION DE COMPRA 2025-2026",
         "Subastas de reconfiguración de compra",
         "2025-12-01",
         "2026-11-30",
         "21.3",
         "223.51699829101562",
         "223.51699829101562",
         "21.3",
         "ENDG",
         "GYPO",
         "2025-12-01",
         "2026-11-30",
         "740935.0"
        ],
        [
         "18",
         "2025-05-23",
         "2025-05-09",
         "SUBASTA DE RECONFIGURACION DE COMPRA 2026-2027",
         "Subastas de reconfiguración de compra",
         "2026-12-01",
         "2027-11-30",
         "21.3",
         "223.51699829101562",
         "223.51699829101562",
         "21.3",
         "TMFG",
         "TFL4",
         "2026-12-01",
         "2027-11-30",
         "163528.0"
        ],
        [
         "19",
         "2025-05-23",
         "2025-05-09",
         "SUBASTA DE RECONFIGURACION DE COMPRA 2025-2026",
         "Subastas de reconfiguración de compra",
         "2025-12-01",
         "2026-11-30",
         "21.3",
         "223.51699829101562",
         "223.51699829101562",
         "21.3",
         "ENDG",
         "3DDT",
         "2025-12-01",
         "2026-11-30",
         "199528.0"
        ],
        [
         "20",
         "2025-05-23",
         "2025-05-09",
         "SUBASTA DE RECONFIGURACION DE COMPRA 2025-2026",
         "Subastas de reconfiguración de compra",
         "2025-12-01",
         "2026-11-30",
         "21.3",
         "223.51699829101562",
         "223.51699829101562",
         "21.3",
         "SLUG",
         "3IZ6",
         "2025-12-01",
         "2026-11-30",
         "146160.0"
        ],
        [
         "21",
         "2025-05-23",
         "2025-05-09",
         "SUBASTA DE RECONFIGURACION DE COMPRA 2025-2026",
         "Subastas de reconfiguración de compra",
         "2025-12-01",
         "2026-11-30",
         "21.3",
         "223.51699829101562",
         "223.51699829101562",
         "21.3",
         "EPMG",
         "GTPE",
         "2025-12-01",
         "2026-11-30",
         "344787.0"
        ],
        [
         "22",
         "2025-05-23",
         "2025-05-09",
         "SUBASTA DE RECONFIGURACION DE COMPRA 2025-2026",
         "Subastas de reconfiguración de compra",
         "2025-12-01",
         "2026-11-30",
         "21.3",
         "223.51699829101562",
         "223.51699829101562",
         "21.3",
         "EPMG",
         "GTRG",
         "2025-12-01",
         "2026-11-30",
         "653307.0"
        ],
        [
         "23",
         "2025-05-23",
         "2025-05-09",
         "SUBASTA DE RECONFIGURACION DE COMPRA 2025-2026",
         "Subastas de reconfiguración de compra",
         "2025-12-01",
         "2026-11-30",
         "21.3",
         "223.51699829101562",
         "223.51699829101562",
         "21.3",
         "EPMG",
         "LTSJ",
         "2025-12-01",
         "2026-11-30",
         "251591.0"
        ],
        [
         "24",
         "2025-05-23",
         "2025-05-09",
         "SUBASTA DE RECONFIGURACION DE COMPRA 2025-2026",
         "Subastas de reconfiguración de compra",
         "2025-12-01",
         "2026-11-30",
         "21.3",
         "223.51699829101562",
         "223.51699829101562",
         "21.3",
         "EPMG",
         "PRC2",
         "2025-12-01",
         "2026-11-30",
         "153190.0"
        ],
        [
         "25",
         "2025-05-23",
         "2025-05-09",
         "SUBASTA DE RECONFIGURACION DE COMPRA 2025-2026",
         "Subastas de reconfiguración de compra",
         "2025-12-01",
         "2026-11-30",
         "21.3",
         "223.51699829101562",
         "223.51699829101562",
         "21.3",
         "EPMG",
         "PRC3",
         "2025-12-01",
         "2026-11-30",
         "447650.0"
        ],
        [
         "26",
         "2025-05-23",
         "2025-05-09",
         "SUBASTA DE RECONFIGURACION DE COMPRA 2025-2026",
         "Subastas de reconfiguración de compra",
         "2025-12-01",
         "2026-11-30",
         "21.3",
         "223.51699829101562",
         "223.51699829101562",
         "21.3",
         "SLMG",
         "MATA",
         "2025-12-01",
         "2026-11-30",
         "100730.0"
        ],
        [
         "27",
         "2025-05-23",
         "2025-05-09",
         "SUBASTA DE RECONFIGURACION DE COMPRA 2025-2026",
         "Subastas de reconfiguración de compra",
         "2025-12-01",
         "2026-11-30",
         "21.3",
         "223.51699829101562",
         "223.51699829101562",
         "21.3",
         "TBSG",
         "TBST",
         "2025-12-01",
         "2026-11-30",
         "960385.0"
        ],
        [
         "28",
         "2025-05-23",
         "2025-05-09",
         "SUBASTA DE RECONFIGURACION DE COMPRA 2025-2026",
         "Subastas de reconfiguración de compra",
         "2025-12-01",
         "2026-11-30",
         "21.3",
         "223.51699829101562",
         "223.51699829101562",
         "21.3",
         "EGCG",
         "TEC1",
         "2025-12-01",
         "2026-11-30",
         "301913.0"
        ],
        [
         "29",
         "2025-05-23",
         "2025-05-09",
         "SUBASTA DE RECONFIGURACION DE COMPRA 2025-2026",
         "Subastas de reconfiguración de compra",
         "2025-12-01",
         "2026-11-30",
         "21.3",
         "223.51699829101562",
         "223.51699829101562",
         "21.3",
         "TCBG",
         "TCBE",
         "2025-12-01",
         "2026-11-30",
         "53760.0"
        ],
        [
         "30",
         "2025-05-23",
         "2025-05-09",
         "SUBASTA DE RECONFIGURACION DE COMPRA 2025-2026",
         "Subastas de reconfiguración de compra",
         "2025-12-01",
         "2026-11-30",
         "21.3",
         "223.51699829101562",
         "223.51699829101562",
         "21.3",
         "TMVG",
         "TVL1",
         "2025-12-01",
         "2026-11-30",
         "23852.0"
        ],
        [
         "31",
         "2025-05-23",
         "2025-05-09",
         "SUBASTA DE RECONFIGURACION DE COMPRA 2025-2026",
         "Subastas de reconfiguración de compra",
         "2025-12-01",
         "2026-11-30",
         "21.3",
         "223.51699829101562",
         "223.51699829101562",
         "21.3",
         "CHBG",
         "CHBG",
         "2025-12-01",
         "2026-11-30",
         "275366.0"
        ],
        [
         "32",
         "2025-05-23",
         "2025-05-09",
         "SUBASTA DE RECONFIGURACION DE COMPRA 2025-2026",
         "Subastas de reconfiguración de compra",
         "2025-12-01",
         "2026-11-30",
         "21.3",
         "223.51699829101562",
         "223.51699829101562",
         "21.3",
         "CHCG",
         "ESMR",
         "2025-12-01",
         "2026-11-30",
         "13786.0"
        ],
        [
         "33",
         "2025-05-23",
         "2025-05-09",
         "SUBASTA DE RECONFIGURACION DE COMPRA 2025-2026",
         "Subastas de reconfiguración de compra",
         "2025-12-01",
         "2026-11-30",
         "21.3",
         "223.51699829101562",
         "223.51699829101562",
         "21.3",
         "CHCG",
         "SNFR",
         "2025-12-01",
         "2026-11-30",
         "20982.0"
        ],
        [
         "34",
         "2025-05-23",
         "2025-05-09",
         "SUBASTA DE RECONFIGURACION DE COMPRA 2025-2026",
         "Subastas de reconfiguración de compra",
         "2025-12-01",
         "2026-11-30",
         "21.3",
         "223.51699829101562",
         "223.51699829101562",
         "21.3",
         "EEBG",
         "GVIO",
         "2025-12-01",
         "2026-11-30",
         "790117.0"
        ],
        [
         "35",
         "2025-05-23",
         "2025-05-09",
         "SUBASTA DE RECONFIGURACION DE COMPRA 2025-2026",
         "Subastas de reconfiguración de compra",
         "2025-12-01",
         "2026-11-30",
         "21.3",
         "223.51699829101562",
         "223.51699829101562",
         "21.3",
         "ENDG",
         "3HF5",
         "2025-12-01",
         "2026-11-30",
         "591547.0"
        ],
        [
         "36",
         "2025-05-23",
         "2025-05-09",
         "SUBASTA DE RECONFIGURACION DE COMPRA 2025-2026",
         "Subastas de reconfiguración de compra",
         "2025-12-01",
         "2026-11-30",
         "21.3",
         "223.51699829101562",
         "223.51699829101562",
         "21.3",
         "ENDG",
         "EPFV",
         "2025-12-01",
         "2026-11-30",
         "189739.0"
        ],
        [
         "37",
         "2025-05-23",
         "2025-05-09",
         "SUBASTA DE RECONFIGURACION DE COMPRA 2026-2027",
         "Subastas de reconfiguración de compra",
         "2026-12-01",
         "2027-11-30",
         "21.3",
         "223.51699829101562",
         "223.51699829101562",
         "21.3",
         "EPMG",
         "TPUY",
         "2026-12-01",
         "2027-11-30",
         "465167.0"
        ],
        [
         "38",
         "2025-05-23",
         "2025-05-09",
         "SUBASTA DE RECONFIGURACION DE COMPRA 2026-2027",
         "Subastas de reconfiguración de compra",
         "2026-12-01",
         "2027-11-30",
         "21.3",
         "223.51699829101562",
         "223.51699829101562",
         "21.3",
         "EPMG",
         "PRC3",
         "2026-12-01",
         "2027-11-30",
         "223325.0"
        ],
        [
         "39",
         "2025-05-23",
         "2025-05-09",
         "SUBASTA DE RECONFIGURACION DE COMPRA 2026-2027",
         "Subastas de reconfiguración de compra",
         "2026-12-01",
         "2027-11-30",
         "21.3",
         "223.51699829101562",
         "223.51699829101562",
         "21.3",
         "SLMG",
         "MATA",
         "2026-12-01",
         "2027-11-30",
         "100730.0"
        ],
        [
         "40",
         "2025-05-23",
         "2025-05-09",
         "SUBASTA DE RECONFIGURACION DE COMPRA 2026-2027",
         "Subastas de reconfiguración de compra",
         "2026-12-01",
         "2027-11-30",
         "21.3",
         "223.51699829101562",
         "223.51699829101562",
         "21.3",
         "EPMG",
         "PRC2",
         "2026-12-01",
         "2027-11-30",
         "77666.0"
        ],
        [
         "41",
         "2025-05-23",
         "2025-05-09",
         "SUBASTA DE RECONFIGURACION DE COMPRA 2026-2027",
         "Subastas de reconfiguración de compra",
         "2026-12-01",
         "2027-11-30",
         "21.3",
         "223.51699829101562",
         "223.51699829101562",
         "21.3",
         "EPMG",
         "GTPE",
         "2026-12-01",
         "2027-11-30",
         "153698.0"
        ],
        [
         "42",
         "2025-05-23",
         "2025-05-09",
         "SUBASTA DE RECONFIGURACION DE COMPRA 2026-2027",
         "Subastas de reconfiguración de compra",
         "2026-12-01",
         "2027-11-30",
         "21.3",
         "223.51699829101562",
         "223.51699829101562",
         "21.3",
         "ENDG",
         "EPFV",
         "2026-12-01",
         "2027-11-30",
         "189739.0"
        ],
        [
         "43",
         "2025-05-23",
         "2025-05-09",
         "SUBASTA DE RECONFIGURACION DE COMPRA 2026-2027",
         "Subastas de reconfiguración de compra",
         "2026-12-01",
         "2027-11-30",
         "21.3",
         "223.51699829101562",
         "223.51699829101562",
         "21.3",
         "ENDG",
         "3HF5",
         "2026-12-01",
         "2027-11-30",
         "591547.0"
        ],
        [
         "44",
         "2025-05-23",
         "2025-05-09",
         "SUBASTA DE RECONFIGURACION DE COMPRA 2026-2027",
         "Subastas de reconfiguración de compra",
         "2026-12-01",
         "2027-11-30",
         "21.3",
         "223.51699829101562",
         "223.51699829101562",
         "21.3",
         "TMVG",
         "TVL1",
         "2026-12-01",
         "2027-11-30",
         "23852.0"
        ],
        [
         "45",
         "2025-05-23",
         "2025-05-09",
         "SUBASTA DE RECONFIGURACION DE COMPRA 2026-2027",
         "Subastas de reconfiguración de compra",
         "2026-12-01",
         "2027-11-30",
         "21.3",
         "223.51699829101562",
         "223.51699829101562",
         "21.3",
         "TCBG",
         "TCBE",
         "2026-12-01",
         "2027-11-30",
         "53760.0"
        ],
        [
         "46",
         "2025-05-23",
         "2025-05-09",
         "SUBASTA DE RECONFIGURACION DE COMPRA 2026-2027",
         "Subastas de reconfiguración de compra",
         "2026-12-01",
         "2027-11-30",
         "21.3",
         "223.51699829101562",
         "223.51699829101562",
         "21.3",
         "TBSG",
         "TBST",
         "2026-12-01",
         "2027-11-30",
         "393770.0"
        ],
        [
         "47",
         "2025-05-23",
         "2025-05-09",
         "SUBASTA DE RECONFIGURACION DE COMPRA 2026-2027",
         "Subastas de reconfiguración de compra",
         "2026-12-01",
         "2027-11-30",
         "21.3",
         "223.51699829101562",
         "223.51699829101562",
         "21.3",
         "EPMG",
         "PLYS",
         "2026-12-01",
         "2027-11-30",
         "88693.0"
        ],
        [
         "48",
         "2025-05-23",
         "2025-05-09",
         "SUBASTA DE RECONFIGURACION DE COMPRA 2026-2027",
         "Subastas de reconfiguración de compra",
         "2026-12-01",
         "2027-11-30",
         "21.3",
         "223.51699829101562",
         "223.51699829101562",
         "21.3",
         "EPMG",
         "LTSJ",
         "2026-12-01",
         "2027-11-30",
         "153621.0"
        ],
        [
         "49",
         "2025-05-23",
         "2025-05-09",
         "SUBASTA DE RECONFIGURACION DE COMPRA 2026-2027",
         "Subastas de reconfiguración de compra",
         "2026-12-01",
         "2027-11-30",
         "21.3",
         "223.51699829101562",
         "223.51699829101562",
         "21.3",
         "EPMG",
         "GTRG",
         "2026-12-01",
         "2027-11-30",
         "489980.0"
        ]
       ],
       "shape": {
        "columns": 15,
        "rows": 1548
       }
      },
      "text/html": [
       "<div>\n",
       "<style scoped>\n",
       "    .dataframe tbody tr th:only-of-type {\n",
       "        vertical-align: middle;\n",
       "    }\n",
       "\n",
       "    .dataframe tbody tr th {\n",
       "        vertical-align: top;\n",
       "    }\n",
       "\n",
       "    .dataframe thead th {\n",
       "        text-align: right;\n",
       "    }\n",
       "</style>\n",
       "<table border=\"1\" class=\"dataframe\">\n",
       "  <thead>\n",
       "    <tr style=\"text-align: right;\">\n",
       "      <th></th>\n",
       "      <th>FechaPublicacion</th>\n",
       "      <th>FechaSubasta</th>\n",
       "      <th>Subasta</th>\n",
       "      <th>TipoSubasta</th>\n",
       "      <th>FechaInicioSubasta</th>\n",
       "      <th>FechaFinSubasta</th>\n",
       "      <th>PrecioCierre</th>\n",
       "      <th>IPPUSABase</th>\n",
       "      <th>IPPUSADeflactor</th>\n",
       "      <th>PrecioActualizado</th>\n",
       "      <th>CodigoSICAgente</th>\n",
       "      <th>CodigoPlanta</th>\n",
       "      <th>FechaInicioObligacion</th>\n",
       "      <th>FechaFinObligacion</th>\n",
       "      <th>OEFDiaria</th>\n",
       "    </tr>\n",
       "  </thead>\n",
       "  <tbody>\n",
       "    <tr>\n",
       "      <th>0</th>\n",
       "      <td>2025-05-24</td>\n",
       "      <td>2025-05-09</td>\n",
       "      <td>SUBASTA DE RECONFIGURACION DE COMPRA 2027-2028</td>\n",
       "      <td>Subastas de reconfiguración de compra</td>\n",
       "      <td>2027-12-01</td>\n",
       "      <td>2028-11-30</td>\n",
       "      <td>21.3</td>\n",
       "      <td>223.516998</td>\n",
       "      <td>223.516998</td>\n",
       "      <td>21.30</td>\n",
       "      <td>CHBG</td>\n",
       "      <td>CHBG</td>\n",
       "      <td>2027-12-01</td>\n",
       "      <td>2028-11-30</td>\n",
       "      <td>741.0</td>\n",
       "    </tr>\n",
       "    <tr>\n",
       "      <th>1</th>\n",
       "      <td>2025-05-24</td>\n",
       "      <td>2025-05-09</td>\n",
       "      <td>SUBASTA DE RECONFIGURACION DE COMPRA 2027-2028</td>\n",
       "      <td>Subastas de reconfiguración de compra</td>\n",
       "      <td>2027-12-01</td>\n",
       "      <td>2028-11-30</td>\n",
       "      <td>21.3</td>\n",
       "      <td>223.516998</td>\n",
       "      <td>223.516998</td>\n",
       "      <td>21.30</td>\n",
       "      <td>ENDG</td>\n",
       "      <td>QUI1</td>\n",
       "      <td>2027-12-01</td>\n",
       "      <td>2028-11-30</td>\n",
       "      <td>48713.0</td>\n",
       "    </tr>\n",
       "    <tr>\n",
       "      <th>2</th>\n",
       "      <td>2025-05-24</td>\n",
       "      <td>2025-05-09</td>\n",
       "      <td>SUBASTA DE RECONFIGURACION DE COMPRA 2027-2028</td>\n",
       "      <td>Subastas de reconfiguración de compra</td>\n",
       "      <td>2027-12-01</td>\n",
       "      <td>2028-11-30</td>\n",
       "      <td>21.3</td>\n",
       "      <td>223.516998</td>\n",
       "      <td>223.516998</td>\n",
       "      <td>21.30</td>\n",
       "      <td>TCBG</td>\n",
       "      <td>TCBE</td>\n",
       "      <td>2027-12-01</td>\n",
       "      <td>2028-11-30</td>\n",
       "      <td>134400.0</td>\n",
       "    </tr>\n",
       "    <tr>\n",
       "      <th>3</th>\n",
       "      <td>2025-05-24</td>\n",
       "      <td>2025-05-09</td>\n",
       "      <td>SUBASTA DE RECONFIGURACION DE COMPRA 2027-2028</td>\n",
       "      <td>Subastas de reconfiguración de compra</td>\n",
       "      <td>2027-12-01</td>\n",
       "      <td>2028-11-30</td>\n",
       "      <td>21.3</td>\n",
       "      <td>223.516998</td>\n",
       "      <td>223.516998</td>\n",
       "      <td>21.30</td>\n",
       "      <td>SLUG</td>\n",
       "      <td>3IZ6</td>\n",
       "      <td>2027-12-01</td>\n",
       "      <td>2028-11-30</td>\n",
       "      <td>146160.0</td>\n",
       "    </tr>\n",
       "    <tr>\n",
       "      <th>4</th>\n",
       "      <td>2025-05-24</td>\n",
       "      <td>2025-05-09</td>\n",
       "      <td>SUBASTA DE RECONFIGURACION DE COMPRA 2027-2028</td>\n",
       "      <td>Subastas de reconfiguración de compra</td>\n",
       "      <td>2027-12-01</td>\n",
       "      <td>2028-11-30</td>\n",
       "      <td>21.3</td>\n",
       "      <td>223.516998</td>\n",
       "      <td>223.516998</td>\n",
       "      <td>21.30</td>\n",
       "      <td>SLMG</td>\n",
       "      <td>MATA</td>\n",
       "      <td>2027-12-01</td>\n",
       "      <td>2028-11-30</td>\n",
       "      <td>100730.0</td>\n",
       "    </tr>\n",
       "    <tr>\n",
       "      <th>...</th>\n",
       "      <td>...</td>\n",
       "      <td>...</td>\n",
       "      <td>...</td>\n",
       "      <td>...</td>\n",
       "      <td>...</td>\n",
       "      <td>...</td>\n",
       "      <td>...</td>\n",
       "      <td>...</td>\n",
       "      <td>...</td>\n",
       "      <td>...</td>\n",
       "      <td>...</td>\n",
       "      <td>...</td>\n",
       "      <td>...</td>\n",
       "      <td>...</td>\n",
       "      <td>...</td>\n",
       "    </tr>\n",
       "    <tr>\n",
       "      <th>1543</th>\n",
       "      <td>2023-02-01</td>\n",
       "      <td>2019-02-01</td>\n",
       "      <td>TOMADORES DEL CARGO PERIODO 2025-2035</td>\n",
       "      <td>Tomadores del Cargo</td>\n",
       "      <td>2025-12-01</td>\n",
       "      <td>2035-11-30</td>\n",
       "      <td>9.0</td>\n",
       "      <td>176.800003</td>\n",
       "      <td>219.201996</td>\n",
       "      <td>11.16</td>\n",
       "      <td>SLUG</td>\n",
       "      <td>3IZ6</td>\n",
       "      <td>2026-12-01</td>\n",
       "      <td>2027-11-30</td>\n",
       "      <td>371517.0</td>\n",
       "    </tr>\n",
       "    <tr>\n",
       "      <th>1544</th>\n",
       "      <td>2023-02-01</td>\n",
       "      <td>2019-02-01</td>\n",
       "      <td>TOMADORES DEL CARGO PERIODO 2025-2035</td>\n",
       "      <td>Tomadores del Cargo</td>\n",
       "      <td>2025-12-01</td>\n",
       "      <td>2035-11-30</td>\n",
       "      <td>9.0</td>\n",
       "      <td>176.800003</td>\n",
       "      <td>219.201996</td>\n",
       "      <td>11.16</td>\n",
       "      <td>SLUG</td>\n",
       "      <td>3IZ6</td>\n",
       "      <td>2027-12-01</td>\n",
       "      <td>2028-11-30</td>\n",
       "      <td>371517.0</td>\n",
       "    </tr>\n",
       "    <tr>\n",
       "      <th>1545</th>\n",
       "      <td>2023-02-01</td>\n",
       "      <td>2019-02-01</td>\n",
       "      <td>TOMADORES DEL CARGO PERIODO 2025-2035</td>\n",
       "      <td>Tomadores del Cargo</td>\n",
       "      <td>2025-12-01</td>\n",
       "      <td>2035-11-30</td>\n",
       "      <td>9.0</td>\n",
       "      <td>176.800003</td>\n",
       "      <td>219.201996</td>\n",
       "      <td>11.16</td>\n",
       "      <td>SLUG</td>\n",
       "      <td>3IZ6</td>\n",
       "      <td>2028-12-01</td>\n",
       "      <td>2029-11-30</td>\n",
       "      <td>371517.0</td>\n",
       "    </tr>\n",
       "    <tr>\n",
       "      <th>1546</th>\n",
       "      <td>2023-02-01</td>\n",
       "      <td>2019-02-01</td>\n",
       "      <td>TOMADORES DEL CARGO PERIODO 2025-2035</td>\n",
       "      <td>Tomadores del Cargo</td>\n",
       "      <td>2025-12-01</td>\n",
       "      <td>2035-11-30</td>\n",
       "      <td>9.0</td>\n",
       "      <td>176.800003</td>\n",
       "      <td>219.201996</td>\n",
       "      <td>11.16</td>\n",
       "      <td>SLUG</td>\n",
       "      <td>3IZ6</td>\n",
       "      <td>2029-12-01</td>\n",
       "      <td>2030-11-30</td>\n",
       "      <td>371517.0</td>\n",
       "    </tr>\n",
       "    <tr>\n",
       "      <th>1547</th>\n",
       "      <td>2023-02-01</td>\n",
       "      <td>2019-02-01</td>\n",
       "      <td>TOMADORES DEL CARGO PERIODO 2025-2035</td>\n",
       "      <td>Tomadores del Cargo</td>\n",
       "      <td>2025-12-01</td>\n",
       "      <td>2035-11-30</td>\n",
       "      <td>9.0</td>\n",
       "      <td>176.800003</td>\n",
       "      <td>219.201996</td>\n",
       "      <td>11.16</td>\n",
       "      <td>SLUG</td>\n",
       "      <td>3IZ6</td>\n",
       "      <td>2030-12-01</td>\n",
       "      <td>2031-11-30</td>\n",
       "      <td>371517.0</td>\n",
       "    </tr>\n",
       "  </tbody>\n",
       "</table>\n",
       "<p>1548 rows × 15 columns</p>\n",
       "</div>"
      ],
      "text/plain": [
       "     FechaPublicacion FechaSubasta  \\\n",
       "0          2025-05-24   2025-05-09   \n",
       "1          2025-05-24   2025-05-09   \n",
       "2          2025-05-24   2025-05-09   \n",
       "3          2025-05-24   2025-05-09   \n",
       "4          2025-05-24   2025-05-09   \n",
       "...               ...          ...   \n",
       "1543       2023-02-01   2019-02-01   \n",
       "1544       2023-02-01   2019-02-01   \n",
       "1545       2023-02-01   2019-02-01   \n",
       "1546       2023-02-01   2019-02-01   \n",
       "1547       2023-02-01   2019-02-01   \n",
       "\n",
       "                                             Subasta  \\\n",
       "0     SUBASTA DE RECONFIGURACION DE COMPRA 2027-2028   \n",
       "1     SUBASTA DE RECONFIGURACION DE COMPRA 2027-2028   \n",
       "2     SUBASTA DE RECONFIGURACION DE COMPRA 2027-2028   \n",
       "3     SUBASTA DE RECONFIGURACION DE COMPRA 2027-2028   \n",
       "4     SUBASTA DE RECONFIGURACION DE COMPRA 2027-2028   \n",
       "...                                              ...   \n",
       "1543           TOMADORES DEL CARGO PERIODO 2025-2035   \n",
       "1544           TOMADORES DEL CARGO PERIODO 2025-2035   \n",
       "1545           TOMADORES DEL CARGO PERIODO 2025-2035   \n",
       "1546           TOMADORES DEL CARGO PERIODO 2025-2035   \n",
       "1547           TOMADORES DEL CARGO PERIODO 2025-2035   \n",
       "\n",
       "                                TipoSubasta FechaInicioSubasta  \\\n",
       "0     Subastas de reconfiguración de compra         2027-12-01   \n",
       "1     Subastas de reconfiguración de compra         2027-12-01   \n",
       "2     Subastas de reconfiguración de compra         2027-12-01   \n",
       "3     Subastas de reconfiguración de compra         2027-12-01   \n",
       "4     Subastas de reconfiguración de compra         2027-12-01   \n",
       "...                                     ...                ...   \n",
       "1543                    Tomadores del Cargo         2025-12-01   \n",
       "1544                    Tomadores del Cargo         2025-12-01   \n",
       "1545                    Tomadores del Cargo         2025-12-01   \n",
       "1546                    Tomadores del Cargo         2025-12-01   \n",
       "1547                    Tomadores del Cargo         2025-12-01   \n",
       "\n",
       "     FechaFinSubasta  PrecioCierre  IPPUSABase  IPPUSADeflactor  \\\n",
       "0         2028-11-30          21.3  223.516998       223.516998   \n",
       "1         2028-11-30          21.3  223.516998       223.516998   \n",
       "2         2028-11-30          21.3  223.516998       223.516998   \n",
       "3         2028-11-30          21.3  223.516998       223.516998   \n",
       "4         2028-11-30          21.3  223.516998       223.516998   \n",
       "...              ...           ...         ...              ...   \n",
       "1543      2035-11-30           9.0  176.800003       219.201996   \n",
       "1544      2035-11-30           9.0  176.800003       219.201996   \n",
       "1545      2035-11-30           9.0  176.800003       219.201996   \n",
       "1546      2035-11-30           9.0  176.800003       219.201996   \n",
       "1547      2035-11-30           9.0  176.800003       219.201996   \n",
       "\n",
       "      PrecioActualizado CodigoSICAgente CodigoPlanta FechaInicioObligacion  \\\n",
       "0                 21.30            CHBG         CHBG            2027-12-01   \n",
       "1                 21.30            ENDG         QUI1            2027-12-01   \n",
       "2                 21.30            TCBG         TCBE            2027-12-01   \n",
       "3                 21.30            SLUG         3IZ6            2027-12-01   \n",
       "4                 21.30            SLMG         MATA            2027-12-01   \n",
       "...                 ...             ...          ...                   ...   \n",
       "1543              11.16            SLUG         3IZ6            2026-12-01   \n",
       "1544              11.16            SLUG         3IZ6            2027-12-01   \n",
       "1545              11.16            SLUG         3IZ6            2028-12-01   \n",
       "1546              11.16            SLUG         3IZ6            2029-12-01   \n",
       "1547              11.16            SLUG         3IZ6            2030-12-01   \n",
       "\n",
       "     FechaFinObligacion  OEFDiaria  \n",
       "0            2028-11-30      741.0  \n",
       "1            2028-11-30    48713.0  \n",
       "2            2028-11-30   134400.0  \n",
       "3            2028-11-30   146160.0  \n",
       "4            2028-11-30   100730.0  \n",
       "...                 ...        ...  \n",
       "1543         2027-11-30   371517.0  \n",
       "1544         2028-11-30   371517.0  \n",
       "1545         2029-11-30   371517.0  \n",
       "1546         2030-11-30   371517.0  \n",
       "1547         2031-11-30   371517.0  \n",
       "\n",
       "[1548 rows x 15 columns]"
      ]
     },
     "execution_count": 7,
     "metadata": {},
     "output_type": "execute_result"
    }
   ],
   "source": [
    "df_completo = df_completo.sort_values('FechaPublicacion', ascending=False)          # Se ordena por FechaPublicacion descendente\n",
    "\n",
    "df_completo = df_completo.drop_duplicates(subset=[\n",
    "    'CodigoPlanta', 'FechaInicioObligacion', \n",
    "    'FechaFinObligacion', 'FechaSubasta'], keep='first').reset_index(drop=True)     # Se eliminan los duplicados manteniendo el más reciente por grupo\n",
    "\n",
    "df_completo[\"TipoSubasta\"] = df_completo[\"TipoSubasta\"].replace({\n",
    "    \"PRORRDOCOM\": \"Asignación administrada\"                                         # Se estandarizan nombres de tipo subasta\n",
    "})\n",
    "\n",
    "df_completo                                                                         # Se muestra el DataFrame con los registros más recientes"
   ]
  },
  {
   "cell_type": "markdown",
   "metadata": {},
   "source": [
    "Ahora se cruzará la información con el dataset de plantas para obtener el tipo de generación"
   ]
  },
  {
   "cell_type": "code",
   "execution_count": 8,
   "metadata": {},
   "outputs": [
    {
     "data": {
      "application/vnd.microsoft.datawrangler.viewer.v0+json": {
       "columns": [
        {
         "name": "index",
         "rawType": "int64",
         "type": "integer"
        },
        {
         "name": "CodigoPlanta",
         "rawType": "object",
         "type": "string"
        },
        {
         "name": "TipoGeneracion",
         "rawType": "object",
         "type": "string"
        }
       ],
       "ref": "e4917ac6-58e6-45e1-8042-052c931b8ac6",
       "rows": [
        [
         "0",
         "2S8I",
         "Termica"
        ],
        [
         "1",
         "AMR1",
         "Hidraulica"
        ],
        [
         "2",
         "2QRL",
         "Hidraulica"
        ],
        [
         "3",
         "3AFQ",
         "Hidraulica"
        ],
        [
         "4",
         "SJM1",
         "Hidraulica"
        ],
        [
         "5",
         "BLL3",
         "Hidraulica"
        ],
        [
         "6",
         "TMS1",
         "Hidraulica"
        ],
        [
         "7",
         "CMP2",
         "Hidraulica"
        ],
        [
         "8",
         "RGR1",
         "Hidraulica"
        ],
        [
         "9",
         "NTB1",
         "Hidraulica"
        ],
        [
         "10",
         "UNN1",
         "Hidraulica"
        ],
        [
         "11",
         "4YLK",
         "Solar"
        ],
        [
         "12",
         "4WP2",
         "Solar"
        ],
        [
         "13",
         "4T9M",
         "Solar"
        ],
        [
         "14",
         "4YLM",
         "Solar"
        ],
        [
         "15",
         "3NLE",
         "Solar"
        ],
        [
         "16",
         "3QPE",
         "Solar"
        ],
        [
         "17",
         "3JPA",
         "Solar"
        ],
        [
         "18",
         "AMF1",
         "Hidraulica"
        ],
        [
         "19",
         "BYN1",
         "Hidraulica"
        ],
        [
         "20",
         "IQU2",
         "Hidraulica"
        ],
        [
         "21",
         "MND1",
         "Hidraulica"
        ],
        [
         "22",
         "TSR1",
         "Termica"
        ],
        [
         "23",
         "TRM1",
         "Termica"
        ],
        [
         "24",
         "TBST",
         "Termica"
        ],
        [
         "25",
         "TFL1",
         "Termica"
        ],
        [
         "26",
         "TFL4",
         "Termica"
        ],
        [
         "27",
         "TCDT",
         "Termica"
        ],
        [
         "28",
         "SLV1",
         "Hidraulica"
        ],
        [
         "29",
         "2S9L",
         "Hidraulica"
        ],
        [
         "30",
         "CPT1",
         "Hidraulica"
        ],
        [
         "31",
         "INZ1",
         "Hidraulica"
        ],
        [
         "32",
         "PST1",
         "Hidraulica"
        ],
        [
         "33",
         "RCIO",
         "Hidraulica"
        ],
        [
         "34",
         "2S78",
         "Hidraulica"
        ],
        [
         "35",
         "SJOG",
         "Hidraulica"
        ],
        [
         "36",
         "GCC1",
         "Hidraulica"
        ],
        [
         "37",
         "INT1",
         "Hidraulica"
        ],
        [
         "38",
         "3K6X",
         "Solar"
        ],
        [
         "39",
         "3JP6",
         "Solar"
        ],
        [
         "40",
         "3JP8",
         "Solar"
        ],
        [
         "41",
         "3NR4",
         "Solar"
        ],
        [
         "42",
         "3MHB",
         "Solar"
        ],
        [
         "43",
         "4S7E",
         "Solar"
        ],
        [
         "44",
         "4RMR",
         "Solar"
        ],
        [
         "45",
         "3RGZ",
         "Solar"
        ],
        [
         "46",
         "3Q9K",
         "Solar"
        ],
        [
         "47",
         "3JQC",
         "Solar"
        ],
        [
         "48",
         "4SO2",
         "Solar"
        ],
        [
         "49",
         "4WWQ",
         "Solar"
        ]
       ],
       "shape": {
        "columns": 2,
        "rows": 388
       }
      },
      "text/html": [
       "<div>\n",
       "<style scoped>\n",
       "    .dataframe tbody tr th:only-of-type {\n",
       "        vertical-align: middle;\n",
       "    }\n",
       "\n",
       "    .dataframe tbody tr th {\n",
       "        vertical-align: top;\n",
       "    }\n",
       "\n",
       "    .dataframe thead th {\n",
       "        text-align: right;\n",
       "    }\n",
       "</style>\n",
       "<table border=\"1\" class=\"dataframe\">\n",
       "  <thead>\n",
       "    <tr style=\"text-align: right;\">\n",
       "      <th></th>\n",
       "      <th>CodigoPlanta</th>\n",
       "      <th>TipoGeneracion</th>\n",
       "    </tr>\n",
       "  </thead>\n",
       "  <tbody>\n",
       "    <tr>\n",
       "      <th>0</th>\n",
       "      <td>2S8I</td>\n",
       "      <td>Termica</td>\n",
       "    </tr>\n",
       "    <tr>\n",
       "      <th>1</th>\n",
       "      <td>AMR1</td>\n",
       "      <td>Hidraulica</td>\n",
       "    </tr>\n",
       "    <tr>\n",
       "      <th>2</th>\n",
       "      <td>2QRL</td>\n",
       "      <td>Hidraulica</td>\n",
       "    </tr>\n",
       "    <tr>\n",
       "      <th>3</th>\n",
       "      <td>3AFQ</td>\n",
       "      <td>Hidraulica</td>\n",
       "    </tr>\n",
       "    <tr>\n",
       "      <th>4</th>\n",
       "      <td>SJM1</td>\n",
       "      <td>Hidraulica</td>\n",
       "    </tr>\n",
       "    <tr>\n",
       "      <th>...</th>\n",
       "      <td>...</td>\n",
       "      <td>...</td>\n",
       "    </tr>\n",
       "    <tr>\n",
       "      <th>383</th>\n",
       "      <td>3HBN</td>\n",
       "      <td>Solar</td>\n",
       "    </tr>\n",
       "    <tr>\n",
       "      <th>384</th>\n",
       "      <td>3L9B</td>\n",
       "      <td>Solar</td>\n",
       "    </tr>\n",
       "    <tr>\n",
       "      <th>385</th>\n",
       "      <td>3MS2</td>\n",
       "      <td>Solar</td>\n",
       "    </tr>\n",
       "    <tr>\n",
       "      <th>386</th>\n",
       "      <td>3ACC</td>\n",
       "      <td>Solar</td>\n",
       "    </tr>\n",
       "    <tr>\n",
       "      <th>387</th>\n",
       "      <td>2TYI</td>\n",
       "      <td>Solar</td>\n",
       "    </tr>\n",
       "  </tbody>\n",
       "</table>\n",
       "<p>388 rows × 2 columns</p>\n",
       "</div>"
      ],
      "text/plain": [
       "    CodigoPlanta TipoGeneracion\n",
       "0           2S8I        Termica\n",
       "1           AMR1     Hidraulica\n",
       "2           2QRL     Hidraulica\n",
       "3           3AFQ     Hidraulica\n",
       "4           SJM1     Hidraulica\n",
       "..           ...            ...\n",
       "383         3HBN          Solar\n",
       "384         3L9B          Solar\n",
       "385         3MS2          Solar\n",
       "386         3ACC          Solar\n",
       "387         2TYI          Solar\n",
       "\n",
       "[388 rows x 2 columns]"
      ]
     },
     "execution_count": 8,
     "metadata": {},
     "output_type": "execute_result"
    }
   ],
   "source": [
    "df_plantas = df_plantas.sort_values('FechaPublicacion', ascending=False)                                          # Se ordenan los datos según la Fecha de Publicación\n",
    "\n",
    "df_plantas_filtrado = df_plantas.drop_duplicates(subset=['CodigoPlanta'], keep='first').reset_index(drop=True)    # Se obtiene el dato más reciente de cada planta\n",
    "df_plantas_filtrado = df_plantas_filtrado[['CodigoPlanta','TipoGeneracion']]                                      # Se seleccionan las columnas necesarias para el cruce de información\n",
    "\n",
    "df_plantas_filtrado"
   ]
  },
  {
   "cell_type": "code",
   "execution_count": 9,
   "metadata": {},
   "outputs": [
    {
     "data": {
      "application/vnd.microsoft.datawrangler.viewer.v0+json": {
       "columns": [
        {
         "name": "index",
         "rawType": "int64",
         "type": "integer"
        },
        {
         "name": "FechaPublicacion",
         "rawType": "object",
         "type": "string"
        },
        {
         "name": "FechaSubasta",
         "rawType": "object",
         "type": "string"
        },
        {
         "name": "Subasta",
         "rawType": "object",
         "type": "string"
        },
        {
         "name": "TipoSubasta",
         "rawType": "object",
         "type": "string"
        },
        {
         "name": "FechaInicioSubasta",
         "rawType": "object",
         "type": "string"
        },
        {
         "name": "FechaFinSubasta",
         "rawType": "object",
         "type": "string"
        },
        {
         "name": "PrecioCierre",
         "rawType": "float64",
         "type": "float"
        },
        {
         "name": "IPPUSABase",
         "rawType": "float64",
         "type": "float"
        },
        {
         "name": "IPPUSADeflactor",
         "rawType": "float64",
         "type": "float"
        },
        {
         "name": "PrecioActualizado",
         "rawType": "float64",
         "type": "float"
        },
        {
         "name": "CodigoSICAgente",
         "rawType": "object",
         "type": "string"
        },
        {
         "name": "CodigoPlanta",
         "rawType": "object",
         "type": "string"
        },
        {
         "name": "FechaInicioObligacion",
         "rawType": "object",
         "type": "string"
        },
        {
         "name": "FechaFinObligacion",
         "rawType": "object",
         "type": "string"
        },
        {
         "name": "OEFDiaria",
         "rawType": "float64",
         "type": "float"
        },
        {
         "name": "TipoGeneracion",
         "rawType": "object",
         "type": "unknown"
        }
       ],
       "ref": "dff64ae4-4b10-4436-8b81-dd7900337dc9",
       "rows": [
        [
         "0",
         "2025-05-24",
         "2025-05-09",
         "SUBASTA DE RECONFIGURACION DE COMPRA 2027-2028",
         "Subastas de reconfiguración de compra",
         "2027-12-01",
         "2028-11-30",
         "21.3",
         "223.51699829101562",
         "223.51699829101562",
         "21.3",
         "CHBG",
         "CHBG",
         "2027-12-01",
         "2028-11-30",
         "741.0",
         "Hidraulica"
        ],
        [
         "1",
         "2025-05-24",
         "2025-05-09",
         "SUBASTA DE RECONFIGURACION DE COMPRA 2027-2028",
         "Subastas de reconfiguración de compra",
         "2027-12-01",
         "2028-11-30",
         "21.3",
         "223.51699829101562",
         "223.51699829101562",
         "21.3",
         "ENDG",
         "QUI1",
         "2027-12-01",
         "2028-11-30",
         "48713.0",
         "Hidraulica"
        ],
        [
         "2",
         "2025-05-24",
         "2025-05-09",
         "SUBASTA DE RECONFIGURACION DE COMPRA 2027-2028",
         "Subastas de reconfiguración de compra",
         "2027-12-01",
         "2028-11-30",
         "21.3",
         "223.51699829101562",
         "223.51699829101562",
         "21.3",
         "TCBG",
         "TCBE",
         "2027-12-01",
         "2028-11-30",
         "134400.0",
         "Termica"
        ],
        [
         "3",
         "2025-05-24",
         "2025-05-09",
         "SUBASTA DE RECONFIGURACION DE COMPRA 2027-2028",
         "Subastas de reconfiguración de compra",
         "2027-12-01",
         "2028-11-30",
         "21.3",
         "223.51699829101562",
         "223.51699829101562",
         "21.3",
         "SLUG",
         "3IZ6",
         "2027-12-01",
         "2028-11-30",
         "146160.0",
         "Solar"
        ],
        [
         "4",
         "2025-05-24",
         "2025-05-09",
         "SUBASTA DE RECONFIGURACION DE COMPRA 2027-2028",
         "Subastas de reconfiguración de compra",
         "2027-12-01",
         "2028-11-30",
         "21.3",
         "223.51699829101562",
         "223.51699829101562",
         "21.3",
         "SLMG",
         "MATA",
         "2027-12-01",
         "2028-11-30",
         "100730.0",
         "Solar"
        ],
        [
         "5",
         "2025-05-24",
         "2025-05-09",
         "SUBASTA DE RECONFIGURACION DE COMPRA 2027-2028",
         "Subastas de reconfiguración de compra",
         "2027-12-01",
         "2028-11-30",
         "21.3",
         "223.51699829101562",
         "223.51699829101562",
         "21.3",
         "MRLG",
         "MRL1",
         "2027-12-01",
         "2028-11-30",
         "972000.0",
         "Termica"
        ],
        [
         "6",
         "2025-05-24",
         "2025-05-09",
         "SUBASTA DE RECONFIGURACION DE COMPRA 2027-2028",
         "Subastas de reconfiguración de compra",
         "2027-12-01",
         "2028-11-30",
         "21.3",
         "223.51699829101562",
         "223.51699829101562",
         "21.3",
         "EPMG",
         "GTRG",
         "2027-12-01",
         "2028-11-30",
         "45352.0",
         "Hidraulica"
        ],
        [
         "7",
         "2025-05-24",
         "2025-05-09",
         "SUBASTA DE RECONFIGURACION DE COMPRA 2027-2028",
         "Subastas de reconfiguración de compra",
         "2027-12-01",
         "2028-11-30",
         "21.3",
         "223.51699829101562",
         "223.51699829101562",
         "21.3",
         "EPMG",
         "TPUY",
         "2027-12-01",
         "2028-11-30",
         "162687.0",
         "Solar"
        ],
        [
         "8",
         "2025-05-24",
         "2025-05-09",
         "SUBASTA DE RECONFIGURACION DE COMPRA 2027-2028",
         "Subastas de reconfiguración de compra",
         "2027-12-01",
         "2028-11-30",
         "21.3",
         "223.51699829101562",
         "223.51699829101562",
         "21.3",
         "ENDG",
         "GYPO",
         "2027-12-01",
         "2028-11-30",
         "740935.0",
         "Solar"
        ],
        [
         "9",
         "2025-05-24",
         "2025-05-09",
         "SUBASTA DE RECONFIGURACION DE COMPRA 2027-2028",
         "Subastas de reconfiguración de compra",
         "2027-12-01",
         "2028-11-30",
         "21.3",
         "223.51699829101562",
         "223.51699829101562",
         "21.3",
         "ENDG",
         "EPFV",
         "2027-12-01",
         "2028-11-30",
         "189739.0",
         "Solar"
        ],
        [
         "10",
         "2025-05-24",
         "2025-05-09",
         "SUBASTA DE RECONFIGURACION DE COMPRA 2027-2028",
         "Subastas de reconfiguración de compra",
         "2027-12-01",
         "2028-11-30",
         "21.3",
         "223.51699829101562",
         "223.51699829101562",
         "21.3",
         "ENDG",
         "3HF5",
         "2027-12-01",
         "2028-11-30",
         "414585.0",
         "Solar"
        ],
        [
         "11",
         "2025-05-24",
         "2025-05-09",
         "SUBASTA DE RECONFIGURACION DE COMPRA 2027-2028",
         "Subastas de reconfiguración de compra",
         "2027-12-01",
         "2028-11-30",
         "21.3",
         "223.51699829101562",
         "223.51699829101562",
         "21.3",
         "ENDG",
         "3DDT",
         "2027-12-01",
         "2028-11-30",
         "199528.0",
         "Solar"
        ],
        [
         "12",
         "2025-05-24",
         "2025-05-09",
         "SUBASTA DE RECONFIGURACION DE COMPRA 2027-2028",
         "Subastas de reconfiguración de compra",
         "2027-12-01",
         "2028-11-30",
         "21.3",
         "223.51699829101562",
         "223.51699829101562",
         "21.3",
         "CRLG",
         "CTG2",
         "2027-12-01",
         "2028-11-30",
         "669833.0",
         "Termica"
        ],
        [
         "13",
         "2025-05-23",
         "2025-05-09",
         "SUBASTA DE RECONFIGURACION DE COMPRA 2025-2026",
         "Subastas de reconfiguración de compra",
         "2025-12-01",
         "2026-11-30",
         "21.3",
         "223.51699829101562",
         "223.51699829101562",
         "21.3",
         "TMFG",
         "TFL4",
         "2025-12-01",
         "2026-11-30",
         "480426.0",
         "Termica"
        ],
        [
         "14",
         "2025-05-23",
         "2025-05-09",
         "SUBASTA DE RECONFIGURACION DE COMPRA 2025-2026",
         "Subastas de reconfiguración de compra",
         "2025-12-01",
         "2026-11-30",
         "21.3",
         "223.51699829101562",
         "223.51699829101562",
         "21.3",
         "EPMG",
         "TPUY",
         "2025-12-01",
         "2026-11-30",
         "465167.0",
         "Solar"
        ],
        [
         "15",
         "2025-05-23",
         "2025-05-09",
         "SUBASTA DE RECONFIGURACION DE COMPRA 2025-2026",
         "Subastas de reconfiguración de compra",
         "2025-12-01",
         "2026-11-30",
         "21.3",
         "223.51699829101562",
         "223.51699829101562",
         "21.3",
         "EPMG",
         "PLYS",
         "2025-12-01",
         "2026-11-30",
         "197015.0",
         "Hidraulica"
        ],
        [
         "16",
         "2025-05-23",
         "2025-05-09",
         "SUBASTA DE RECONFIGURACION DE COMPRA 2025-2026",
         "Subastas de reconfiguración de compra",
         "2025-12-01",
         "2026-11-30",
         "21.3",
         "223.51699829101562",
         "223.51699829101562",
         "21.3",
         "ENDG",
         "QUI1",
         "2025-12-01",
         "2026-11-30",
         "121454.0",
         "Hidraulica"
        ],
        [
         "17",
         "2025-05-23",
         "2025-05-09",
         "SUBASTA DE RECONFIGURACION DE COMPRA 2025-2026",
         "Subastas de reconfiguración de compra",
         "2025-12-01",
         "2026-11-30",
         "21.3",
         "223.51699829101562",
         "223.51699829101562",
         "21.3",
         "ENDG",
         "GYPO",
         "2025-12-01",
         "2026-11-30",
         "740935.0",
         "Solar"
        ],
        [
         "18",
         "2025-05-23",
         "2025-05-09",
         "SUBASTA DE RECONFIGURACION DE COMPRA 2026-2027",
         "Subastas de reconfiguración de compra",
         "2026-12-01",
         "2027-11-30",
         "21.3",
         "223.51699829101562",
         "223.51699829101562",
         "21.3",
         "TMFG",
         "TFL4",
         "2026-12-01",
         "2027-11-30",
         "163528.0",
         "Termica"
        ],
        [
         "19",
         "2025-05-23",
         "2025-05-09",
         "SUBASTA DE RECONFIGURACION DE COMPRA 2025-2026",
         "Subastas de reconfiguración de compra",
         "2025-12-01",
         "2026-11-30",
         "21.3",
         "223.51699829101562",
         "223.51699829101562",
         "21.3",
         "ENDG",
         "3DDT",
         "2025-12-01",
         "2026-11-30",
         "199528.0",
         "Solar"
        ],
        [
         "20",
         "2025-05-23",
         "2025-05-09",
         "SUBASTA DE RECONFIGURACION DE COMPRA 2025-2026",
         "Subastas de reconfiguración de compra",
         "2025-12-01",
         "2026-11-30",
         "21.3",
         "223.51699829101562",
         "223.51699829101562",
         "21.3",
         "SLUG",
         "3IZ6",
         "2025-12-01",
         "2026-11-30",
         "146160.0",
         "Solar"
        ],
        [
         "21",
         "2025-05-23",
         "2025-05-09",
         "SUBASTA DE RECONFIGURACION DE COMPRA 2025-2026",
         "Subastas de reconfiguración de compra",
         "2025-12-01",
         "2026-11-30",
         "21.3",
         "223.51699829101562",
         "223.51699829101562",
         "21.3",
         "EPMG",
         "GTPE",
         "2025-12-01",
         "2026-11-30",
         "344787.0",
         "Hidraulica"
        ],
        [
         "22",
         "2025-05-23",
         "2025-05-09",
         "SUBASTA DE RECONFIGURACION DE COMPRA 2025-2026",
         "Subastas de reconfiguración de compra",
         "2025-12-01",
         "2026-11-30",
         "21.3",
         "223.51699829101562",
         "223.51699829101562",
         "21.3",
         "EPMG",
         "GTRG",
         "2025-12-01",
         "2026-11-30",
         "653307.0",
         "Hidraulica"
        ],
        [
         "23",
         "2025-05-23",
         "2025-05-09",
         "SUBASTA DE RECONFIGURACION DE COMPRA 2025-2026",
         "Subastas de reconfiguración de compra",
         "2025-12-01",
         "2026-11-30",
         "21.3",
         "223.51699829101562",
         "223.51699829101562",
         "21.3",
         "EPMG",
         "LTSJ",
         "2025-12-01",
         "2026-11-30",
         "251591.0",
         "Hidraulica"
        ],
        [
         "24",
         "2025-05-23",
         "2025-05-09",
         "SUBASTA DE RECONFIGURACION DE COMPRA 2025-2026",
         "Subastas de reconfiguración de compra",
         "2025-12-01",
         "2026-11-30",
         "21.3",
         "223.51699829101562",
         "223.51699829101562",
         "21.3",
         "EPMG",
         "PRC2",
         "2025-12-01",
         "2026-11-30",
         "153190.0",
         "Hidraulica"
        ],
        [
         "25",
         "2025-05-23",
         "2025-05-09",
         "SUBASTA DE RECONFIGURACION DE COMPRA 2025-2026",
         "Subastas de reconfiguración de compra",
         "2025-12-01",
         "2026-11-30",
         "21.3",
         "223.51699829101562",
         "223.51699829101562",
         "21.3",
         "EPMG",
         "PRC3",
         "2025-12-01",
         "2026-11-30",
         "447650.0",
         "Hidraulica"
        ],
        [
         "26",
         "2025-05-23",
         "2025-05-09",
         "SUBASTA DE RECONFIGURACION DE COMPRA 2025-2026",
         "Subastas de reconfiguración de compra",
         "2025-12-01",
         "2026-11-30",
         "21.3",
         "223.51699829101562",
         "223.51699829101562",
         "21.3",
         "SLMG",
         "MATA",
         "2025-12-01",
         "2026-11-30",
         "100730.0",
         "Solar"
        ],
        [
         "27",
         "2025-05-23",
         "2025-05-09",
         "SUBASTA DE RECONFIGURACION DE COMPRA 2025-2026",
         "Subastas de reconfiguración de compra",
         "2025-12-01",
         "2026-11-30",
         "21.3",
         "223.51699829101562",
         "223.51699829101562",
         "21.3",
         "TBSG",
         "TBST",
         "2025-12-01",
         "2026-11-30",
         "960385.0",
         "Termica"
        ],
        [
         "28",
         "2025-05-23",
         "2025-05-09",
         "SUBASTA DE RECONFIGURACION DE COMPRA 2025-2026",
         "Subastas de reconfiguración de compra",
         "2025-12-01",
         "2026-11-30",
         "21.3",
         "223.51699829101562",
         "223.51699829101562",
         "21.3",
         "EGCG",
         "TEC1",
         "2025-12-01",
         "2026-11-30",
         "301913.0",
         "Termica"
        ],
        [
         "29",
         "2025-05-23",
         "2025-05-09",
         "SUBASTA DE RECONFIGURACION DE COMPRA 2025-2026",
         "Subastas de reconfiguración de compra",
         "2025-12-01",
         "2026-11-30",
         "21.3",
         "223.51699829101562",
         "223.51699829101562",
         "21.3",
         "TCBG",
         "TCBE",
         "2025-12-01",
         "2026-11-30",
         "53760.0",
         "Termica"
        ],
        [
         "30",
         "2025-05-23",
         "2025-05-09",
         "SUBASTA DE RECONFIGURACION DE COMPRA 2025-2026",
         "Subastas de reconfiguración de compra",
         "2025-12-01",
         "2026-11-30",
         "21.3",
         "223.51699829101562",
         "223.51699829101562",
         "21.3",
         "TMVG",
         "TVL1",
         "2025-12-01",
         "2026-11-30",
         "23852.0",
         "Termica"
        ],
        [
         "31",
         "2025-05-23",
         "2025-05-09",
         "SUBASTA DE RECONFIGURACION DE COMPRA 2025-2026",
         "Subastas de reconfiguración de compra",
         "2025-12-01",
         "2026-11-30",
         "21.3",
         "223.51699829101562",
         "223.51699829101562",
         "21.3",
         "CHBG",
         "CHBG",
         "2025-12-01",
         "2026-11-30",
         "275366.0",
         "Hidraulica"
        ],
        [
         "32",
         "2025-05-23",
         "2025-05-09",
         "SUBASTA DE RECONFIGURACION DE COMPRA 2025-2026",
         "Subastas de reconfiguración de compra",
         "2025-12-01",
         "2026-11-30",
         "21.3",
         "223.51699829101562",
         "223.51699829101562",
         "21.3",
         "CHCG",
         "ESMR",
         "2025-12-01",
         "2026-11-30",
         "13786.0",
         "Hidraulica"
        ],
        [
         "33",
         "2025-05-23",
         "2025-05-09",
         "SUBASTA DE RECONFIGURACION DE COMPRA 2025-2026",
         "Subastas de reconfiguración de compra",
         "2025-12-01",
         "2026-11-30",
         "21.3",
         "223.51699829101562",
         "223.51699829101562",
         "21.3",
         "CHCG",
         "SNFR",
         "2025-12-01",
         "2026-11-30",
         "20982.0",
         "Hidraulica"
        ],
        [
         "34",
         "2025-05-23",
         "2025-05-09",
         "SUBASTA DE RECONFIGURACION DE COMPRA 2025-2026",
         "Subastas de reconfiguración de compra",
         "2025-12-01",
         "2026-11-30",
         "21.3",
         "223.51699829101562",
         "223.51699829101562",
         "21.3",
         "EEBG",
         "GVIO",
         "2025-12-01",
         "2026-11-30",
         "790117.0",
         "Hidraulica"
        ],
        [
         "35",
         "2025-05-23",
         "2025-05-09",
         "SUBASTA DE RECONFIGURACION DE COMPRA 2025-2026",
         "Subastas de reconfiguración de compra",
         "2025-12-01",
         "2026-11-30",
         "21.3",
         "223.51699829101562",
         "223.51699829101562",
         "21.3",
         "ENDG",
         "3HF5",
         "2025-12-01",
         "2026-11-30",
         "591547.0",
         "Solar"
        ],
        [
         "36",
         "2025-05-23",
         "2025-05-09",
         "SUBASTA DE RECONFIGURACION DE COMPRA 2025-2026",
         "Subastas de reconfiguración de compra",
         "2025-12-01",
         "2026-11-30",
         "21.3",
         "223.51699829101562",
         "223.51699829101562",
         "21.3",
         "ENDG",
         "EPFV",
         "2025-12-01",
         "2026-11-30",
         "189739.0",
         "Solar"
        ],
        [
         "37",
         "2025-05-23",
         "2025-05-09",
         "SUBASTA DE RECONFIGURACION DE COMPRA 2026-2027",
         "Subastas de reconfiguración de compra",
         "2026-12-01",
         "2027-11-30",
         "21.3",
         "223.51699829101562",
         "223.51699829101562",
         "21.3",
         "EPMG",
         "TPUY",
         "2026-12-01",
         "2027-11-30",
         "465167.0",
         "Solar"
        ],
        [
         "38",
         "2025-05-23",
         "2025-05-09",
         "SUBASTA DE RECONFIGURACION DE COMPRA 2026-2027",
         "Subastas de reconfiguración de compra",
         "2026-12-01",
         "2027-11-30",
         "21.3",
         "223.51699829101562",
         "223.51699829101562",
         "21.3",
         "EPMG",
         "PRC3",
         "2026-12-01",
         "2027-11-30",
         "223325.0",
         "Hidraulica"
        ],
        [
         "39",
         "2025-05-23",
         "2025-05-09",
         "SUBASTA DE RECONFIGURACION DE COMPRA 2026-2027",
         "Subastas de reconfiguración de compra",
         "2026-12-01",
         "2027-11-30",
         "21.3",
         "223.51699829101562",
         "223.51699829101562",
         "21.3",
         "SLMG",
         "MATA",
         "2026-12-01",
         "2027-11-30",
         "100730.0",
         "Solar"
        ],
        [
         "40",
         "2025-05-23",
         "2025-05-09",
         "SUBASTA DE RECONFIGURACION DE COMPRA 2026-2027",
         "Subastas de reconfiguración de compra",
         "2026-12-01",
         "2027-11-30",
         "21.3",
         "223.51699829101562",
         "223.51699829101562",
         "21.3",
         "EPMG",
         "PRC2",
         "2026-12-01",
         "2027-11-30",
         "77666.0",
         "Hidraulica"
        ],
        [
         "41",
         "2025-05-23",
         "2025-05-09",
         "SUBASTA DE RECONFIGURACION DE COMPRA 2026-2027",
         "Subastas de reconfiguración de compra",
         "2026-12-01",
         "2027-11-30",
         "21.3",
         "223.51699829101562",
         "223.51699829101562",
         "21.3",
         "EPMG",
         "GTPE",
         "2026-12-01",
         "2027-11-30",
         "153698.0",
         "Hidraulica"
        ],
        [
         "42",
         "2025-05-23",
         "2025-05-09",
         "SUBASTA DE RECONFIGURACION DE COMPRA 2026-2027",
         "Subastas de reconfiguración de compra",
         "2026-12-01",
         "2027-11-30",
         "21.3",
         "223.51699829101562",
         "223.51699829101562",
         "21.3",
         "ENDG",
         "EPFV",
         "2026-12-01",
         "2027-11-30",
         "189739.0",
         "Solar"
        ],
        [
         "43",
         "2025-05-23",
         "2025-05-09",
         "SUBASTA DE RECONFIGURACION DE COMPRA 2026-2027",
         "Subastas de reconfiguración de compra",
         "2026-12-01",
         "2027-11-30",
         "21.3",
         "223.51699829101562",
         "223.51699829101562",
         "21.3",
         "ENDG",
         "3HF5",
         "2026-12-01",
         "2027-11-30",
         "591547.0",
         "Solar"
        ],
        [
         "44",
         "2025-05-23",
         "2025-05-09",
         "SUBASTA DE RECONFIGURACION DE COMPRA 2026-2027",
         "Subastas de reconfiguración de compra",
         "2026-12-01",
         "2027-11-30",
         "21.3",
         "223.51699829101562",
         "223.51699829101562",
         "21.3",
         "TMVG",
         "TVL1",
         "2026-12-01",
         "2027-11-30",
         "23852.0",
         "Termica"
        ],
        [
         "45",
         "2025-05-23",
         "2025-05-09",
         "SUBASTA DE RECONFIGURACION DE COMPRA 2026-2027",
         "Subastas de reconfiguración de compra",
         "2026-12-01",
         "2027-11-30",
         "21.3",
         "223.51699829101562",
         "223.51699829101562",
         "21.3",
         "TCBG",
         "TCBE",
         "2026-12-01",
         "2027-11-30",
         "53760.0",
         "Termica"
        ],
        [
         "46",
         "2025-05-23",
         "2025-05-09",
         "SUBASTA DE RECONFIGURACION DE COMPRA 2026-2027",
         "Subastas de reconfiguración de compra",
         "2026-12-01",
         "2027-11-30",
         "21.3",
         "223.51699829101562",
         "223.51699829101562",
         "21.3",
         "TBSG",
         "TBST",
         "2026-12-01",
         "2027-11-30",
         "393770.0",
         "Termica"
        ],
        [
         "47",
         "2025-05-23",
         "2025-05-09",
         "SUBASTA DE RECONFIGURACION DE COMPRA 2026-2027",
         "Subastas de reconfiguración de compra",
         "2026-12-01",
         "2027-11-30",
         "21.3",
         "223.51699829101562",
         "223.51699829101562",
         "21.3",
         "EPMG",
         "PLYS",
         "2026-12-01",
         "2027-11-30",
         "88693.0",
         "Hidraulica"
        ],
        [
         "48",
         "2025-05-23",
         "2025-05-09",
         "SUBASTA DE RECONFIGURACION DE COMPRA 2026-2027",
         "Subastas de reconfiguración de compra",
         "2026-12-01",
         "2027-11-30",
         "21.3",
         "223.51699829101562",
         "223.51699829101562",
         "21.3",
         "EPMG",
         "LTSJ",
         "2026-12-01",
         "2027-11-30",
         "153621.0",
         "Hidraulica"
        ],
        [
         "49",
         "2025-05-23",
         "2025-05-09",
         "SUBASTA DE RECONFIGURACION DE COMPRA 2026-2027",
         "Subastas de reconfiguración de compra",
         "2026-12-01",
         "2027-11-30",
         "21.3",
         "223.51699829101562",
         "223.51699829101562",
         "21.3",
         "EPMG",
         "GTRG",
         "2026-12-01",
         "2027-11-30",
         "489980.0",
         "Hidraulica"
        ]
       ],
       "shape": {
        "columns": 16,
        "rows": 1548
       }
      },
      "text/html": [
       "<div>\n",
       "<style scoped>\n",
       "    .dataframe tbody tr th:only-of-type {\n",
       "        vertical-align: middle;\n",
       "    }\n",
       "\n",
       "    .dataframe tbody tr th {\n",
       "        vertical-align: top;\n",
       "    }\n",
       "\n",
       "    .dataframe thead th {\n",
       "        text-align: right;\n",
       "    }\n",
       "</style>\n",
       "<table border=\"1\" class=\"dataframe\">\n",
       "  <thead>\n",
       "    <tr style=\"text-align: right;\">\n",
       "      <th></th>\n",
       "      <th>FechaPublicacion</th>\n",
       "      <th>FechaSubasta</th>\n",
       "      <th>Subasta</th>\n",
       "      <th>TipoSubasta</th>\n",
       "      <th>FechaInicioSubasta</th>\n",
       "      <th>FechaFinSubasta</th>\n",
       "      <th>PrecioCierre</th>\n",
       "      <th>IPPUSABase</th>\n",
       "      <th>IPPUSADeflactor</th>\n",
       "      <th>PrecioActualizado</th>\n",
       "      <th>CodigoSICAgente</th>\n",
       "      <th>CodigoPlanta</th>\n",
       "      <th>FechaInicioObligacion</th>\n",
       "      <th>FechaFinObligacion</th>\n",
       "      <th>OEFDiaria</th>\n",
       "      <th>TipoGeneracion</th>\n",
       "    </tr>\n",
       "  </thead>\n",
       "  <tbody>\n",
       "    <tr>\n",
       "      <th>0</th>\n",
       "      <td>2025-05-24</td>\n",
       "      <td>2025-05-09</td>\n",
       "      <td>SUBASTA DE RECONFIGURACION DE COMPRA 2027-2028</td>\n",
       "      <td>Subastas de reconfiguración de compra</td>\n",
       "      <td>2027-12-01</td>\n",
       "      <td>2028-11-30</td>\n",
       "      <td>21.3</td>\n",
       "      <td>223.516998</td>\n",
       "      <td>223.516998</td>\n",
       "      <td>21.30</td>\n",
       "      <td>CHBG</td>\n",
       "      <td>CHBG</td>\n",
       "      <td>2027-12-01</td>\n",
       "      <td>2028-11-30</td>\n",
       "      <td>741.0</td>\n",
       "      <td>Hidraulica</td>\n",
       "    </tr>\n",
       "    <tr>\n",
       "      <th>1</th>\n",
       "      <td>2025-05-24</td>\n",
       "      <td>2025-05-09</td>\n",
       "      <td>SUBASTA DE RECONFIGURACION DE COMPRA 2027-2028</td>\n",
       "      <td>Subastas de reconfiguración de compra</td>\n",
       "      <td>2027-12-01</td>\n",
       "      <td>2028-11-30</td>\n",
       "      <td>21.3</td>\n",
       "      <td>223.516998</td>\n",
       "      <td>223.516998</td>\n",
       "      <td>21.30</td>\n",
       "      <td>ENDG</td>\n",
       "      <td>QUI1</td>\n",
       "      <td>2027-12-01</td>\n",
       "      <td>2028-11-30</td>\n",
       "      <td>48713.0</td>\n",
       "      <td>Hidraulica</td>\n",
       "    </tr>\n",
       "    <tr>\n",
       "      <th>2</th>\n",
       "      <td>2025-05-24</td>\n",
       "      <td>2025-05-09</td>\n",
       "      <td>SUBASTA DE RECONFIGURACION DE COMPRA 2027-2028</td>\n",
       "      <td>Subastas de reconfiguración de compra</td>\n",
       "      <td>2027-12-01</td>\n",
       "      <td>2028-11-30</td>\n",
       "      <td>21.3</td>\n",
       "      <td>223.516998</td>\n",
       "      <td>223.516998</td>\n",
       "      <td>21.30</td>\n",
       "      <td>TCBG</td>\n",
       "      <td>TCBE</td>\n",
       "      <td>2027-12-01</td>\n",
       "      <td>2028-11-30</td>\n",
       "      <td>134400.0</td>\n",
       "      <td>Termica</td>\n",
       "    </tr>\n",
       "    <tr>\n",
       "      <th>3</th>\n",
       "      <td>2025-05-24</td>\n",
       "      <td>2025-05-09</td>\n",
       "      <td>SUBASTA DE RECONFIGURACION DE COMPRA 2027-2028</td>\n",
       "      <td>Subastas de reconfiguración de compra</td>\n",
       "      <td>2027-12-01</td>\n",
       "      <td>2028-11-30</td>\n",
       "      <td>21.3</td>\n",
       "      <td>223.516998</td>\n",
       "      <td>223.516998</td>\n",
       "      <td>21.30</td>\n",
       "      <td>SLUG</td>\n",
       "      <td>3IZ6</td>\n",
       "      <td>2027-12-01</td>\n",
       "      <td>2028-11-30</td>\n",
       "      <td>146160.0</td>\n",
       "      <td>Solar</td>\n",
       "    </tr>\n",
       "    <tr>\n",
       "      <th>4</th>\n",
       "      <td>2025-05-24</td>\n",
       "      <td>2025-05-09</td>\n",
       "      <td>SUBASTA DE RECONFIGURACION DE COMPRA 2027-2028</td>\n",
       "      <td>Subastas de reconfiguración de compra</td>\n",
       "      <td>2027-12-01</td>\n",
       "      <td>2028-11-30</td>\n",
       "      <td>21.3</td>\n",
       "      <td>223.516998</td>\n",
       "      <td>223.516998</td>\n",
       "      <td>21.30</td>\n",
       "      <td>SLMG</td>\n",
       "      <td>MATA</td>\n",
       "      <td>2027-12-01</td>\n",
       "      <td>2028-11-30</td>\n",
       "      <td>100730.0</td>\n",
       "      <td>Solar</td>\n",
       "    </tr>\n",
       "    <tr>\n",
       "      <th>...</th>\n",
       "      <td>...</td>\n",
       "      <td>...</td>\n",
       "      <td>...</td>\n",
       "      <td>...</td>\n",
       "      <td>...</td>\n",
       "      <td>...</td>\n",
       "      <td>...</td>\n",
       "      <td>...</td>\n",
       "      <td>...</td>\n",
       "      <td>...</td>\n",
       "      <td>...</td>\n",
       "      <td>...</td>\n",
       "      <td>...</td>\n",
       "      <td>...</td>\n",
       "      <td>...</td>\n",
       "      <td>...</td>\n",
       "    </tr>\n",
       "    <tr>\n",
       "      <th>1543</th>\n",
       "      <td>2023-02-01</td>\n",
       "      <td>2019-02-01</td>\n",
       "      <td>TOMADORES DEL CARGO PERIODO 2025-2035</td>\n",
       "      <td>Tomadores del Cargo</td>\n",
       "      <td>2025-12-01</td>\n",
       "      <td>2035-11-30</td>\n",
       "      <td>9.0</td>\n",
       "      <td>176.800003</td>\n",
       "      <td>219.201996</td>\n",
       "      <td>11.16</td>\n",
       "      <td>SLUG</td>\n",
       "      <td>3IZ6</td>\n",
       "      <td>2026-12-01</td>\n",
       "      <td>2027-11-30</td>\n",
       "      <td>371517.0</td>\n",
       "      <td>Solar</td>\n",
       "    </tr>\n",
       "    <tr>\n",
       "      <th>1544</th>\n",
       "      <td>2023-02-01</td>\n",
       "      <td>2019-02-01</td>\n",
       "      <td>TOMADORES DEL CARGO PERIODO 2025-2035</td>\n",
       "      <td>Tomadores del Cargo</td>\n",
       "      <td>2025-12-01</td>\n",
       "      <td>2035-11-30</td>\n",
       "      <td>9.0</td>\n",
       "      <td>176.800003</td>\n",
       "      <td>219.201996</td>\n",
       "      <td>11.16</td>\n",
       "      <td>SLUG</td>\n",
       "      <td>3IZ6</td>\n",
       "      <td>2027-12-01</td>\n",
       "      <td>2028-11-30</td>\n",
       "      <td>371517.0</td>\n",
       "      <td>Solar</td>\n",
       "    </tr>\n",
       "    <tr>\n",
       "      <th>1545</th>\n",
       "      <td>2023-02-01</td>\n",
       "      <td>2019-02-01</td>\n",
       "      <td>TOMADORES DEL CARGO PERIODO 2025-2035</td>\n",
       "      <td>Tomadores del Cargo</td>\n",
       "      <td>2025-12-01</td>\n",
       "      <td>2035-11-30</td>\n",
       "      <td>9.0</td>\n",
       "      <td>176.800003</td>\n",
       "      <td>219.201996</td>\n",
       "      <td>11.16</td>\n",
       "      <td>SLUG</td>\n",
       "      <td>3IZ6</td>\n",
       "      <td>2028-12-01</td>\n",
       "      <td>2029-11-30</td>\n",
       "      <td>371517.0</td>\n",
       "      <td>Solar</td>\n",
       "    </tr>\n",
       "    <tr>\n",
       "      <th>1546</th>\n",
       "      <td>2023-02-01</td>\n",
       "      <td>2019-02-01</td>\n",
       "      <td>TOMADORES DEL CARGO PERIODO 2025-2035</td>\n",
       "      <td>Tomadores del Cargo</td>\n",
       "      <td>2025-12-01</td>\n",
       "      <td>2035-11-30</td>\n",
       "      <td>9.0</td>\n",
       "      <td>176.800003</td>\n",
       "      <td>219.201996</td>\n",
       "      <td>11.16</td>\n",
       "      <td>SLUG</td>\n",
       "      <td>3IZ6</td>\n",
       "      <td>2029-12-01</td>\n",
       "      <td>2030-11-30</td>\n",
       "      <td>371517.0</td>\n",
       "      <td>Solar</td>\n",
       "    </tr>\n",
       "    <tr>\n",
       "      <th>1547</th>\n",
       "      <td>2023-02-01</td>\n",
       "      <td>2019-02-01</td>\n",
       "      <td>TOMADORES DEL CARGO PERIODO 2025-2035</td>\n",
       "      <td>Tomadores del Cargo</td>\n",
       "      <td>2025-12-01</td>\n",
       "      <td>2035-11-30</td>\n",
       "      <td>9.0</td>\n",
       "      <td>176.800003</td>\n",
       "      <td>219.201996</td>\n",
       "      <td>11.16</td>\n",
       "      <td>SLUG</td>\n",
       "      <td>3IZ6</td>\n",
       "      <td>2030-12-01</td>\n",
       "      <td>2031-11-30</td>\n",
       "      <td>371517.0</td>\n",
       "      <td>Solar</td>\n",
       "    </tr>\n",
       "  </tbody>\n",
       "</table>\n",
       "<p>1548 rows × 16 columns</p>\n",
       "</div>"
      ],
      "text/plain": [
       "     FechaPublicacion FechaSubasta  \\\n",
       "0          2025-05-24   2025-05-09   \n",
       "1          2025-05-24   2025-05-09   \n",
       "2          2025-05-24   2025-05-09   \n",
       "3          2025-05-24   2025-05-09   \n",
       "4          2025-05-24   2025-05-09   \n",
       "...               ...          ...   \n",
       "1543       2023-02-01   2019-02-01   \n",
       "1544       2023-02-01   2019-02-01   \n",
       "1545       2023-02-01   2019-02-01   \n",
       "1546       2023-02-01   2019-02-01   \n",
       "1547       2023-02-01   2019-02-01   \n",
       "\n",
       "                                             Subasta  \\\n",
       "0     SUBASTA DE RECONFIGURACION DE COMPRA 2027-2028   \n",
       "1     SUBASTA DE RECONFIGURACION DE COMPRA 2027-2028   \n",
       "2     SUBASTA DE RECONFIGURACION DE COMPRA 2027-2028   \n",
       "3     SUBASTA DE RECONFIGURACION DE COMPRA 2027-2028   \n",
       "4     SUBASTA DE RECONFIGURACION DE COMPRA 2027-2028   \n",
       "...                                              ...   \n",
       "1543           TOMADORES DEL CARGO PERIODO 2025-2035   \n",
       "1544           TOMADORES DEL CARGO PERIODO 2025-2035   \n",
       "1545           TOMADORES DEL CARGO PERIODO 2025-2035   \n",
       "1546           TOMADORES DEL CARGO PERIODO 2025-2035   \n",
       "1547           TOMADORES DEL CARGO PERIODO 2025-2035   \n",
       "\n",
       "                                TipoSubasta FechaInicioSubasta  \\\n",
       "0     Subastas de reconfiguración de compra         2027-12-01   \n",
       "1     Subastas de reconfiguración de compra         2027-12-01   \n",
       "2     Subastas de reconfiguración de compra         2027-12-01   \n",
       "3     Subastas de reconfiguración de compra         2027-12-01   \n",
       "4     Subastas de reconfiguración de compra         2027-12-01   \n",
       "...                                     ...                ...   \n",
       "1543                    Tomadores del Cargo         2025-12-01   \n",
       "1544                    Tomadores del Cargo         2025-12-01   \n",
       "1545                    Tomadores del Cargo         2025-12-01   \n",
       "1546                    Tomadores del Cargo         2025-12-01   \n",
       "1547                    Tomadores del Cargo         2025-12-01   \n",
       "\n",
       "     FechaFinSubasta  PrecioCierre  IPPUSABase  IPPUSADeflactor  \\\n",
       "0         2028-11-30          21.3  223.516998       223.516998   \n",
       "1         2028-11-30          21.3  223.516998       223.516998   \n",
       "2         2028-11-30          21.3  223.516998       223.516998   \n",
       "3         2028-11-30          21.3  223.516998       223.516998   \n",
       "4         2028-11-30          21.3  223.516998       223.516998   \n",
       "...              ...           ...         ...              ...   \n",
       "1543      2035-11-30           9.0  176.800003       219.201996   \n",
       "1544      2035-11-30           9.0  176.800003       219.201996   \n",
       "1545      2035-11-30           9.0  176.800003       219.201996   \n",
       "1546      2035-11-30           9.0  176.800003       219.201996   \n",
       "1547      2035-11-30           9.0  176.800003       219.201996   \n",
       "\n",
       "      PrecioActualizado CodigoSICAgente CodigoPlanta FechaInicioObligacion  \\\n",
       "0                 21.30            CHBG         CHBG            2027-12-01   \n",
       "1                 21.30            ENDG         QUI1            2027-12-01   \n",
       "2                 21.30            TCBG         TCBE            2027-12-01   \n",
       "3                 21.30            SLUG         3IZ6            2027-12-01   \n",
       "4                 21.30            SLMG         MATA            2027-12-01   \n",
       "...                 ...             ...          ...                   ...   \n",
       "1543              11.16            SLUG         3IZ6            2026-12-01   \n",
       "1544              11.16            SLUG         3IZ6            2027-12-01   \n",
       "1545              11.16            SLUG         3IZ6            2028-12-01   \n",
       "1546              11.16            SLUG         3IZ6            2029-12-01   \n",
       "1547              11.16            SLUG         3IZ6            2030-12-01   \n",
       "\n",
       "     FechaFinObligacion  OEFDiaria TipoGeneracion  \n",
       "0            2028-11-30      741.0     Hidraulica  \n",
       "1            2028-11-30    48713.0     Hidraulica  \n",
       "2            2028-11-30   134400.0        Termica  \n",
       "3            2028-11-30   146160.0          Solar  \n",
       "4            2028-11-30   100730.0          Solar  \n",
       "...                 ...        ...            ...  \n",
       "1543         2027-11-30   371517.0          Solar  \n",
       "1544         2028-11-30   371517.0          Solar  \n",
       "1545         2029-11-30   371517.0          Solar  \n",
       "1546         2030-11-30   371517.0          Solar  \n",
       "1547         2031-11-30   371517.0          Solar  \n",
       "\n",
       "[1548 rows x 16 columns]"
      ]
     },
     "execution_count": 9,
     "metadata": {},
     "output_type": "execute_result"
    }
   ],
   "source": [
    "df_completo = pd.merge(df_completo, df_plantas_filtrado, on=['CodigoPlanta', 'CodigoPlanta'], how='left')   # Se une el DataFrame con toda la información con el DataFrame de plantas\n",
    "df_completo"
   ]
  },
  {
   "cell_type": "markdown",
   "metadata": {},
   "source": [
    "<a id='section5'></a>\n",
    "# 5. Análisis para dar respuesta al caso de uso"
   ]
  },
  {
   "cell_type": "code",
   "execution_count": 10,
   "metadata": {},
   "outputs": [],
   "source": [
    "# Función que crea un DataFrame expandido con cada día en el rango entre las fechas de inicio obligación y fin obligación (años cargo)\n",
    "def expandir_fechas(df, start_date, end_date, variables):\n",
    "    \n",
    "    df_validas = df[df[start_date].notnull() & df[end_date].notnull()].copy()          # Se filtran las filas con fechas válidas\n",
    "\n",
    "    df_validas[\"Fecha\"] = df_validas.apply(                                            # Se generan rangos de fechas como Series\n",
    "        lambda row: pd.date_range(start=row[start_date], end=row[end_date], freq='D'),\n",
    "        axis=1\n",
    "    )\n",
    "\n",
    "    df_expandido = df_validas.explode(\"Fecha\")                                         # Se expande el DataFrame\n",
    "\n",
    "    return df_expandido[[\"Fecha\"]+variables]                                           # Se seleccionan solo las columnas necesarias"
   ]
  },
  {
   "cell_type": "markdown",
   "metadata": {},
   "source": [
    "En esta sección se realizaran distintas gráficas de interés"
   ]
  },
  {
   "cell_type": "code",
   "execution_count": 11,
   "metadata": {},
   "outputs": [
    {
     "data": {
      "application/vnd.plotly.v1+json": {
       "config": {
        "plotlyServerURL": "https://plot.ly"
       },
       "data": [
        {
         "mode": "lines",
         "name": "Precio de Cierre",
         "type": "scatter",
         "x": [
          "2021-12-01T00:00:00.000000000",
          "2022-01-01T00:00:00.000000000",
          "2022-02-01T00:00:00.000000000",
          "2022-03-01T00:00:00.000000000",
          "2022-04-01T00:00:00.000000000",
          "2022-05-01T00:00:00.000000000",
          "2022-06-01T00:00:00.000000000",
          "2022-07-01T00:00:00.000000000",
          "2022-08-01T00:00:00.000000000",
          "2022-09-01T00:00:00.000000000",
          "2022-10-01T00:00:00.000000000",
          "2022-11-01T00:00:00.000000000",
          "2022-12-01T00:00:00.000000000",
          "2023-01-01T00:00:00.000000000",
          "2023-02-01T00:00:00.000000000",
          "2023-03-01T00:00:00.000000000",
          "2023-04-01T00:00:00.000000000",
          "2023-05-01T00:00:00.000000000",
          "2023-06-01T00:00:00.000000000",
          "2023-07-01T00:00:00.000000000",
          "2023-08-01T00:00:00.000000000",
          "2023-09-01T00:00:00.000000000",
          "2023-10-01T00:00:00.000000000",
          "2023-11-01T00:00:00.000000000",
          "2023-12-01T00:00:00.000000000",
          "2024-01-01T00:00:00.000000000",
          "2024-02-01T00:00:00.000000000",
          "2024-03-01T00:00:00.000000000",
          "2024-04-01T00:00:00.000000000",
          "2024-05-01T00:00:00.000000000",
          "2024-06-01T00:00:00.000000000",
          "2024-07-01T00:00:00.000000000",
          "2024-08-01T00:00:00.000000000",
          "2024-09-01T00:00:00.000000000",
          "2024-10-01T00:00:00.000000000",
          "2024-11-01T00:00:00.000000000",
          "2024-12-01T00:00:00.000000000",
          "2025-01-01T00:00:00.000000000",
          "2025-02-01T00:00:00.000000000",
          "2025-03-01T00:00:00.000000000",
          "2025-04-01T00:00:00.000000000",
          "2025-05-01T00:00:00.000000000",
          "2025-06-01T00:00:00.000000000",
          "2025-07-01T00:00:00.000000000",
          "2025-08-01T00:00:00.000000000",
          "2025-09-01T00:00:00.000000000",
          "2025-10-01T00:00:00.000000000",
          "2025-11-01T00:00:00.000000000",
          "2025-12-01T00:00:00.000000000",
          "2026-01-01T00:00:00.000000000",
          "2026-02-01T00:00:00.000000000",
          "2026-03-01T00:00:00.000000000",
          "2026-04-01T00:00:00.000000000",
          "2026-05-01T00:00:00.000000000",
          "2026-06-01T00:00:00.000000000",
          "2026-07-01T00:00:00.000000000",
          "2026-08-01T00:00:00.000000000",
          "2026-09-01T00:00:00.000000000",
          "2026-10-01T00:00:00.000000000",
          "2026-11-01T00:00:00.000000000",
          "2026-12-01T00:00:00.000000000",
          "2027-01-01T00:00:00.000000000",
          "2027-02-01T00:00:00.000000000",
          "2027-03-01T00:00:00.000000000",
          "2027-04-01T00:00:00.000000000",
          "2027-05-01T00:00:00.000000000",
          "2027-06-01T00:00:00.000000000",
          "2027-07-01T00:00:00.000000000",
          "2027-08-01T00:00:00.000000000",
          "2027-09-01T00:00:00.000000000",
          "2027-10-01T00:00:00.000000000",
          "2027-11-01T00:00:00.000000000",
          "2027-12-01T00:00:00.000000000",
          "2028-01-01T00:00:00.000000000",
          "2028-02-01T00:00:00.000000000",
          "2028-03-01T00:00:00.000000000",
          "2028-04-01T00:00:00.000000000",
          "2028-05-01T00:00:00.000000000",
          "2028-06-01T00:00:00.000000000",
          "2028-07-01T00:00:00.000000000",
          "2028-08-01T00:00:00.000000000",
          "2028-09-01T00:00:00.000000000",
          "2028-10-01T00:00:00.000000000",
          "2028-11-01T00:00:00.000000000",
          "2028-12-01T00:00:00.000000000",
          "2029-01-01T00:00:00.000000000",
          "2029-02-01T00:00:00.000000000",
          "2029-03-01T00:00:00.000000000",
          "2029-04-01T00:00:00.000000000",
          "2029-05-01T00:00:00.000000000",
          "2029-06-01T00:00:00.000000000",
          "2029-07-01T00:00:00.000000000",
          "2029-08-01T00:00:00.000000000",
          "2029-09-01T00:00:00.000000000",
          "2029-10-01T00:00:00.000000000",
          "2029-11-01T00:00:00.000000000",
          "2029-12-01T00:00:00.000000000",
          "2030-01-01T00:00:00.000000000",
          "2030-02-01T00:00:00.000000000",
          "2030-03-01T00:00:00.000000000",
          "2030-04-01T00:00:00.000000000",
          "2030-05-01T00:00:00.000000000",
          "2030-06-01T00:00:00.000000000",
          "2030-07-01T00:00:00.000000000",
          "2030-08-01T00:00:00.000000000",
          "2030-09-01T00:00:00.000000000",
          "2030-10-01T00:00:00.000000000",
          "2030-11-01T00:00:00.000000000",
          "2030-12-01T00:00:00.000000000",
          "2031-01-01T00:00:00.000000000",
          "2031-02-01T00:00:00.000000000",
          "2031-03-01T00:00:00.000000000",
          "2031-04-01T00:00:00.000000000",
          "2031-05-01T00:00:00.000000000",
          "2031-06-01T00:00:00.000000000",
          "2031-07-01T00:00:00.000000000",
          "2031-08-01T00:00:00.000000000",
          "2031-09-01T00:00:00.000000000",
          "2031-10-01T00:00:00.000000000",
          "2031-11-01T00:00:00.000000000",
          "2031-12-01T00:00:00.000000000",
          "2032-01-01T00:00:00.000000000",
          "2032-02-01T00:00:00.000000000",
          "2032-03-01T00:00:00.000000000",
          "2032-04-01T00:00:00.000000000",
          "2032-05-01T00:00:00.000000000",
          "2032-06-01T00:00:00.000000000",
          "2032-07-01T00:00:00.000000000",
          "2032-08-01T00:00:00.000000000",
          "2032-09-01T00:00:00.000000000",
          "2032-10-01T00:00:00.000000000",
          "2032-11-01T00:00:00.000000000",
          "2032-12-01T00:00:00.000000000",
          "2033-01-01T00:00:00.000000000",
          "2033-02-01T00:00:00.000000000",
          "2033-03-01T00:00:00.000000000",
          "2033-04-01T00:00:00.000000000",
          "2033-05-01T00:00:00.000000000",
          "2033-06-01T00:00:00.000000000",
          "2033-07-01T00:00:00.000000000",
          "2033-08-01T00:00:00.000000000",
          "2033-09-01T00:00:00.000000000",
          "2033-10-01T00:00:00.000000000",
          "2033-11-01T00:00:00.000000000",
          "2033-12-01T00:00:00.000000000",
          "2034-01-01T00:00:00.000000000",
          "2034-02-01T00:00:00.000000000",
          "2034-03-01T00:00:00.000000000",
          "2034-04-01T00:00:00.000000000",
          "2034-05-01T00:00:00.000000000",
          "2034-06-01T00:00:00.000000000",
          "2034-07-01T00:00:00.000000000",
          "2034-08-01T00:00:00.000000000",
          "2034-09-01T00:00:00.000000000",
          "2034-10-01T00:00:00.000000000",
          "2034-11-01T00:00:00.000000000",
          "2034-12-01T00:00:00.000000000",
          "2035-01-01T00:00:00.000000000",
          "2035-02-01T00:00:00.000000000",
          "2035-03-01T00:00:00.000000000",
          "2035-04-01T00:00:00.000000000",
          "2035-05-01T00:00:00.000000000",
          "2035-06-01T00:00:00.000000000",
          "2035-07-01T00:00:00.000000000",
          "2035-08-01T00:00:00.000000000",
          "2035-09-01T00:00:00.000000000",
          "2035-10-01T00:00:00.000000000",
          "2035-11-01T00:00:00.000000000",
          "2035-12-01T00:00:00.000000000",
          "2036-01-01T00:00:00.000000000",
          "2036-02-01T00:00:00.000000000",
          "2036-03-01T00:00:00.000000000",
          "2036-04-01T00:00:00.000000000",
          "2036-05-01T00:00:00.000000000",
          "2036-06-01T00:00:00.000000000",
          "2036-07-01T00:00:00.000000000",
          "2036-08-01T00:00:00.000000000",
          "2036-09-01T00:00:00.000000000",
          "2036-10-01T00:00:00.000000000",
          "2036-11-01T00:00:00.000000000",
          "2036-12-01T00:00:00.000000000",
          "2037-01-01T00:00:00.000000000",
          "2037-02-01T00:00:00.000000000",
          "2037-03-01T00:00:00.000000000",
          "2037-04-01T00:00:00.000000000",
          "2037-05-01T00:00:00.000000000",
          "2037-06-01T00:00:00.000000000",
          "2037-07-01T00:00:00.000000000",
          "2037-08-01T00:00:00.000000000",
          "2037-09-01T00:00:00.000000000",
          "2037-10-01T00:00:00.000000000",
          "2037-11-01T00:00:00.000000000",
          "2037-12-01T00:00:00.000000000",
          "2038-01-01T00:00:00.000000000",
          "2038-02-01T00:00:00.000000000",
          "2038-03-01T00:00:00.000000000",
          "2038-04-01T00:00:00.000000000",
          "2038-05-01T00:00:00.000000000",
          "2038-06-01T00:00:00.000000000",
          "2038-07-01T00:00:00.000000000",
          "2038-08-01T00:00:00.000000000",
          "2038-09-01T00:00:00.000000000",
          "2038-10-01T00:00:00.000000000",
          "2038-11-01T00:00:00.000000000",
          "2038-12-01T00:00:00.000000000",
          "2039-01-01T00:00:00.000000000",
          "2039-02-01T00:00:00.000000000",
          "2039-03-01T00:00:00.000000000",
          "2039-04-01T00:00:00.000000000",
          "2039-05-01T00:00:00.000000000",
          "2039-06-01T00:00:00.000000000",
          "2039-07-01T00:00:00.000000000",
          "2039-08-01T00:00:00.000000000",
          "2039-09-01T00:00:00.000000000",
          "2039-10-01T00:00:00.000000000",
          "2039-11-01T00:00:00.000000000",
          "2039-12-01T00:00:00.000000000",
          "2040-01-01T00:00:00.000000000",
          "2040-02-01T00:00:00.000000000",
          "2040-03-01T00:00:00.000000000",
          "2040-04-01T00:00:00.000000000",
          "2040-05-01T00:00:00.000000000",
          "2040-06-01T00:00:00.000000000",
          "2040-07-01T00:00:00.000000000",
          "2040-08-01T00:00:00.000000000",
          "2040-09-01T00:00:00.000000000",
          "2040-10-01T00:00:00.000000000",
          "2040-11-01T00:00:00.000000000",
          "2040-12-01T00:00:00.000000000",
          "2041-01-01T00:00:00.000000000",
          "2041-02-01T00:00:00.000000000",
          "2041-03-01T00:00:00.000000000",
          "2041-04-01T00:00:00.000000000",
          "2041-05-01T00:00:00.000000000",
          "2041-06-01T00:00:00.000000000",
          "2041-07-01T00:00:00.000000000",
          "2041-08-01T00:00:00.000000000",
          "2041-09-01T00:00:00.000000000",
          "2041-10-01T00:00:00.000000000",
          "2041-11-01T00:00:00.000000000",
          "2041-12-01T00:00:00.000000000",
          "2042-01-01T00:00:00.000000000",
          "2042-02-01T00:00:00.000000000",
          "2042-03-01T00:00:00.000000000",
          "2042-04-01T00:00:00.000000000",
          "2042-05-01T00:00:00.000000000",
          "2042-06-01T00:00:00.000000000",
          "2042-07-01T00:00:00.000000000",
          "2042-08-01T00:00:00.000000000",
          "2042-09-01T00:00:00.000000000",
          "2042-10-01T00:00:00.000000000",
          "2042-11-01T00:00:00.000000000",
          "2042-12-01T00:00:00.000000000",
          "2043-01-01T00:00:00.000000000",
          "2043-02-01T00:00:00.000000000",
          "2043-03-01T00:00:00.000000000",
          "2043-04-01T00:00:00.000000000",
          "2043-05-01T00:00:00.000000000",
          "2043-06-01T00:00:00.000000000",
          "2043-07-01T00:00:00.000000000",
          "2043-08-01T00:00:00.000000000",
          "2043-09-01T00:00:00.000000000",
          "2043-10-01T00:00:00.000000000",
          "2043-11-01T00:00:00.000000000",
          "2043-12-01T00:00:00.000000000",
          "2044-01-01T00:00:00.000000000",
          "2044-02-01T00:00:00.000000000",
          "2044-03-01T00:00:00.000000000",
          "2044-04-01T00:00:00.000000000",
          "2044-05-01T00:00:00.000000000",
          "2044-06-01T00:00:00.000000000",
          "2044-07-01T00:00:00.000000000",
          "2044-08-01T00:00:00.000000000",
          "2044-09-01T00:00:00.000000000",
          "2044-10-01T00:00:00.000000000",
          "2044-11-01T00:00:00.000000000",
          "2044-12-01T00:00:00.000000000",
          "2045-01-01T00:00:00.000000000",
          "2045-02-01T00:00:00.000000000",
          "2045-03-01T00:00:00.000000000",
          "2045-04-01T00:00:00.000000000",
          "2045-05-01T00:00:00.000000000",
          "2045-06-01T00:00:00.000000000",
          "2045-07-01T00:00:00.000000000",
          "2045-08-01T00:00:00.000000000",
          "2045-09-01T00:00:00.000000000",
          "2045-10-01T00:00:00.000000000",
          "2045-11-01T00:00:00.000000000",
          "2045-12-01T00:00:00.000000000",
          "2046-01-01T00:00:00.000000000",
          "2046-02-01T00:00:00.000000000",
          "2046-03-01T00:00:00.000000000",
          "2046-04-01T00:00:00.000000000",
          "2046-05-01T00:00:00.000000000",
          "2046-06-01T00:00:00.000000000",
          "2046-07-01T00:00:00.000000000",
          "2046-08-01T00:00:00.000000000",
          "2046-09-01T00:00:00.000000000",
          "2046-10-01T00:00:00.000000000",
          "2046-11-01T00:00:00.000000000",
          "2046-12-01T00:00:00.000000000",
          "2047-01-01T00:00:00.000000000",
          "2047-02-01T00:00:00.000000000",
          "2047-03-01T00:00:00.000000000",
          "2047-04-01T00:00:00.000000000",
          "2047-05-01T00:00:00.000000000",
          "2047-06-01T00:00:00.000000000",
          "2047-07-01T00:00:00.000000000",
          "2047-08-01T00:00:00.000000000",
          "2047-09-01T00:00:00.000000000",
          "2047-10-01T00:00:00.000000000",
          "2047-11-01T00:00:00.000000000"
         ],
         "y": {
          "bdata": "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",
          "dtype": "f8"
         }
        },
        {
         "mode": "lines",
         "name": "Precio Actualizado",
         "type": "scatter",
         "x": [
          "2021-12-01T00:00:00.000000000",
          "2022-01-01T00:00:00.000000000",
          "2022-02-01T00:00:00.000000000",
          "2022-03-01T00:00:00.000000000",
          "2022-04-01T00:00:00.000000000",
          "2022-05-01T00:00:00.000000000",
          "2022-06-01T00:00:00.000000000",
          "2022-07-01T00:00:00.000000000",
          "2022-08-01T00:00:00.000000000",
          "2022-09-01T00:00:00.000000000",
          "2022-10-01T00:00:00.000000000",
          "2022-11-01T00:00:00.000000000",
          "2022-12-01T00:00:00.000000000",
          "2023-01-01T00:00:00.000000000",
          "2023-02-01T00:00:00.000000000",
          "2023-03-01T00:00:00.000000000",
          "2023-04-01T00:00:00.000000000",
          "2023-05-01T00:00:00.000000000",
          "2023-06-01T00:00:00.000000000",
          "2023-07-01T00:00:00.000000000",
          "2023-08-01T00:00:00.000000000",
          "2023-09-01T00:00:00.000000000",
          "2023-10-01T00:00:00.000000000",
          "2023-11-01T00:00:00.000000000",
          "2023-12-01T00:00:00.000000000",
          "2024-01-01T00:00:00.000000000",
          "2024-02-01T00:00:00.000000000",
          "2024-03-01T00:00:00.000000000",
          "2024-04-01T00:00:00.000000000",
          "2024-05-01T00:00:00.000000000",
          "2024-06-01T00:00:00.000000000",
          "2024-07-01T00:00:00.000000000",
          "2024-08-01T00:00:00.000000000",
          "2024-09-01T00:00:00.000000000",
          "2024-10-01T00:00:00.000000000",
          "2024-11-01T00:00:00.000000000",
          "2024-12-01T00:00:00.000000000",
          "2025-01-01T00:00:00.000000000",
          "2025-02-01T00:00:00.000000000",
          "2025-03-01T00:00:00.000000000",
          "2025-04-01T00:00:00.000000000",
          "2025-05-01T00:00:00.000000000",
          "2025-06-01T00:00:00.000000000",
          "2025-07-01T00:00:00.000000000",
          "2025-08-01T00:00:00.000000000",
          "2025-09-01T00:00:00.000000000",
          "2025-10-01T00:00:00.000000000",
          "2025-11-01T00:00:00.000000000",
          "2025-12-01T00:00:00.000000000",
          "2026-01-01T00:00:00.000000000",
          "2026-02-01T00:00:00.000000000",
          "2026-03-01T00:00:00.000000000",
          "2026-04-01T00:00:00.000000000",
          "2026-05-01T00:00:00.000000000",
          "2026-06-01T00:00:00.000000000",
          "2026-07-01T00:00:00.000000000",
          "2026-08-01T00:00:00.000000000",
          "2026-09-01T00:00:00.000000000",
          "2026-10-01T00:00:00.000000000",
          "2026-11-01T00:00:00.000000000",
          "2026-12-01T00:00:00.000000000",
          "2027-01-01T00:00:00.000000000",
          "2027-02-01T00:00:00.000000000",
          "2027-03-01T00:00:00.000000000",
          "2027-04-01T00:00:00.000000000",
          "2027-05-01T00:00:00.000000000",
          "2027-06-01T00:00:00.000000000",
          "2027-07-01T00:00:00.000000000",
          "2027-08-01T00:00:00.000000000",
          "2027-09-01T00:00:00.000000000",
          "2027-10-01T00:00:00.000000000",
          "2027-11-01T00:00:00.000000000",
          "2027-12-01T00:00:00.000000000",
          "2028-01-01T00:00:00.000000000",
          "2028-02-01T00:00:00.000000000",
          "2028-03-01T00:00:00.000000000",
          "2028-04-01T00:00:00.000000000",
          "2028-05-01T00:00:00.000000000",
          "2028-06-01T00:00:00.000000000",
          "2028-07-01T00:00:00.000000000",
          "2028-08-01T00:00:00.000000000",
          "2028-09-01T00:00:00.000000000",
          "2028-10-01T00:00:00.000000000",
          "2028-11-01T00:00:00.000000000",
          "2028-12-01T00:00:00.000000000",
          "2029-01-01T00:00:00.000000000",
          "2029-02-01T00:00:00.000000000",
          "2029-03-01T00:00:00.000000000",
          "2029-04-01T00:00:00.000000000",
          "2029-05-01T00:00:00.000000000",
          "2029-06-01T00:00:00.000000000",
          "2029-07-01T00:00:00.000000000",
          "2029-08-01T00:00:00.000000000",
          "2029-09-01T00:00:00.000000000",
          "2029-10-01T00:00:00.000000000",
          "2029-11-01T00:00:00.000000000",
          "2029-12-01T00:00:00.000000000",
          "2030-01-01T00:00:00.000000000",
          "2030-02-01T00:00:00.000000000",
          "2030-03-01T00:00:00.000000000",
          "2030-04-01T00:00:00.000000000",
          "2030-05-01T00:00:00.000000000",
          "2030-06-01T00:00:00.000000000",
          "2030-07-01T00:00:00.000000000",
          "2030-08-01T00:00:00.000000000",
          "2030-09-01T00:00:00.000000000",
          "2030-10-01T00:00:00.000000000",
          "2030-11-01T00:00:00.000000000",
          "2030-12-01T00:00:00.000000000",
          "2031-01-01T00:00:00.000000000",
          "2031-02-01T00:00:00.000000000",
          "2031-03-01T00:00:00.000000000",
          "2031-04-01T00:00:00.000000000",
          "2031-05-01T00:00:00.000000000",
          "2031-06-01T00:00:00.000000000",
          "2031-07-01T00:00:00.000000000",
          "2031-08-01T00:00:00.000000000",
          "2031-09-01T00:00:00.000000000",
          "2031-10-01T00:00:00.000000000",
          "2031-11-01T00:00:00.000000000",
          "2031-12-01T00:00:00.000000000",
          "2032-01-01T00:00:00.000000000",
          "2032-02-01T00:00:00.000000000",
          "2032-03-01T00:00:00.000000000",
          "2032-04-01T00:00:00.000000000",
          "2032-05-01T00:00:00.000000000",
          "2032-06-01T00:00:00.000000000",
          "2032-07-01T00:00:00.000000000",
          "2032-08-01T00:00:00.000000000",
          "2032-09-01T00:00:00.000000000",
          "2032-10-01T00:00:00.000000000",
          "2032-11-01T00:00:00.000000000",
          "2032-12-01T00:00:00.000000000",
          "2033-01-01T00:00:00.000000000",
          "2033-02-01T00:00:00.000000000",
          "2033-03-01T00:00:00.000000000",
          "2033-04-01T00:00:00.000000000",
          "2033-05-01T00:00:00.000000000",
          "2033-06-01T00:00:00.000000000",
          "2033-07-01T00:00:00.000000000",
          "2033-08-01T00:00:00.000000000",
          "2033-09-01T00:00:00.000000000",
          "2033-10-01T00:00:00.000000000",
          "2033-11-01T00:00:00.000000000",
          "2033-12-01T00:00:00.000000000",
          "2034-01-01T00:00:00.000000000",
          "2034-02-01T00:00:00.000000000",
          "2034-03-01T00:00:00.000000000",
          "2034-04-01T00:00:00.000000000",
          "2034-05-01T00:00:00.000000000",
          "2034-06-01T00:00:00.000000000",
          "2034-07-01T00:00:00.000000000",
          "2034-08-01T00:00:00.000000000",
          "2034-09-01T00:00:00.000000000",
          "2034-10-01T00:00:00.000000000",
          "2034-11-01T00:00:00.000000000",
          "2034-12-01T00:00:00.000000000",
          "2035-01-01T00:00:00.000000000",
          "2035-02-01T00:00:00.000000000",
          "2035-03-01T00:00:00.000000000",
          "2035-04-01T00:00:00.000000000",
          "2035-05-01T00:00:00.000000000",
          "2035-06-01T00:00:00.000000000",
          "2035-07-01T00:00:00.000000000",
          "2035-08-01T00:00:00.000000000",
          "2035-09-01T00:00:00.000000000",
          "2035-10-01T00:00:00.000000000",
          "2035-11-01T00:00:00.000000000",
          "2035-12-01T00:00:00.000000000",
          "2036-01-01T00:00:00.000000000",
          "2036-02-01T00:00:00.000000000",
          "2036-03-01T00:00:00.000000000",
          "2036-04-01T00:00:00.000000000",
          "2036-05-01T00:00:00.000000000",
          "2036-06-01T00:00:00.000000000",
          "2036-07-01T00:00:00.000000000",
          "2036-08-01T00:00:00.000000000",
          "2036-09-01T00:00:00.000000000",
          "2036-10-01T00:00:00.000000000",
          "2036-11-01T00:00:00.000000000",
          "2036-12-01T00:00:00.000000000",
          "2037-01-01T00:00:00.000000000",
          "2037-02-01T00:00:00.000000000",
          "2037-03-01T00:00:00.000000000",
          "2037-04-01T00:00:00.000000000",
          "2037-05-01T00:00:00.000000000",
          "2037-06-01T00:00:00.000000000",
          "2037-07-01T00:00:00.000000000",
          "2037-08-01T00:00:00.000000000",
          "2037-09-01T00:00:00.000000000",
          "2037-10-01T00:00:00.000000000",
          "2037-11-01T00:00:00.000000000",
          "2037-12-01T00:00:00.000000000",
          "2038-01-01T00:00:00.000000000",
          "2038-02-01T00:00:00.000000000",
          "2038-03-01T00:00:00.000000000",
          "2038-04-01T00:00:00.000000000",
          "2038-05-01T00:00:00.000000000",
          "2038-06-01T00:00:00.000000000",
          "2038-07-01T00:00:00.000000000",
          "2038-08-01T00:00:00.000000000",
          "2038-09-01T00:00:00.000000000",
          "2038-10-01T00:00:00.000000000",
          "2038-11-01T00:00:00.000000000",
          "2038-12-01T00:00:00.000000000",
          "2039-01-01T00:00:00.000000000",
          "2039-02-01T00:00:00.000000000",
          "2039-03-01T00:00:00.000000000",
          "2039-04-01T00:00:00.000000000",
          "2039-05-01T00:00:00.000000000",
          "2039-06-01T00:00:00.000000000",
          "2039-07-01T00:00:00.000000000",
          "2039-08-01T00:00:00.000000000",
          "2039-09-01T00:00:00.000000000",
          "2039-10-01T00:00:00.000000000",
          "2039-11-01T00:00:00.000000000",
          "2039-12-01T00:00:00.000000000",
          "2040-01-01T00:00:00.000000000",
          "2040-02-01T00:00:00.000000000",
          "2040-03-01T00:00:00.000000000",
          "2040-04-01T00:00:00.000000000",
          "2040-05-01T00:00:00.000000000",
          "2040-06-01T00:00:00.000000000",
          "2040-07-01T00:00:00.000000000",
          "2040-08-01T00:00:00.000000000",
          "2040-09-01T00:00:00.000000000",
          "2040-10-01T00:00:00.000000000",
          "2040-11-01T00:00:00.000000000",
          "2040-12-01T00:00:00.000000000",
          "2041-01-01T00:00:00.000000000",
          "2041-02-01T00:00:00.000000000",
          "2041-03-01T00:00:00.000000000",
          "2041-04-01T00:00:00.000000000",
          "2041-05-01T00:00:00.000000000",
          "2041-06-01T00:00:00.000000000",
          "2041-07-01T00:00:00.000000000",
          "2041-08-01T00:00:00.000000000",
          "2041-09-01T00:00:00.000000000",
          "2041-10-01T00:00:00.000000000",
          "2041-11-01T00:00:00.000000000",
          "2041-12-01T00:00:00.000000000",
          "2042-01-01T00:00:00.000000000",
          "2042-02-01T00:00:00.000000000",
          "2042-03-01T00:00:00.000000000",
          "2042-04-01T00:00:00.000000000",
          "2042-05-01T00:00:00.000000000",
          "2042-06-01T00:00:00.000000000",
          "2042-07-01T00:00:00.000000000",
          "2042-08-01T00:00:00.000000000",
          "2042-09-01T00:00:00.000000000",
          "2042-10-01T00:00:00.000000000",
          "2042-11-01T00:00:00.000000000",
          "2042-12-01T00:00:00.000000000",
          "2043-01-01T00:00:00.000000000",
          "2043-02-01T00:00:00.000000000",
          "2043-03-01T00:00:00.000000000",
          "2043-04-01T00:00:00.000000000",
          "2043-05-01T00:00:00.000000000",
          "2043-06-01T00:00:00.000000000",
          "2043-07-01T00:00:00.000000000",
          "2043-08-01T00:00:00.000000000",
          "2043-09-01T00:00:00.000000000",
          "2043-10-01T00:00:00.000000000",
          "2043-11-01T00:00:00.000000000",
          "2043-12-01T00:00:00.000000000",
          "2044-01-01T00:00:00.000000000",
          "2044-02-01T00:00:00.000000000",
          "2044-03-01T00:00:00.000000000",
          "2044-04-01T00:00:00.000000000",
          "2044-05-01T00:00:00.000000000",
          "2044-06-01T00:00:00.000000000",
          "2044-07-01T00:00:00.000000000",
          "2044-08-01T00:00:00.000000000",
          "2044-09-01T00:00:00.000000000",
          "2044-10-01T00:00:00.000000000",
          "2044-11-01T00:00:00.000000000",
          "2044-12-01T00:00:00.000000000",
          "2045-01-01T00:00:00.000000000",
          "2045-02-01T00:00:00.000000000",
          "2045-03-01T00:00:00.000000000",
          "2045-04-01T00:00:00.000000000",
          "2045-05-01T00:00:00.000000000",
          "2045-06-01T00:00:00.000000000",
          "2045-07-01T00:00:00.000000000",
          "2045-08-01T00:00:00.000000000",
          "2045-09-01T00:00:00.000000000",
          "2045-10-01T00:00:00.000000000",
          "2045-11-01T00:00:00.000000000",
          "2045-12-01T00:00:00.000000000",
          "2046-01-01T00:00:00.000000000",
          "2046-02-01T00:00:00.000000000",
          "2046-03-01T00:00:00.000000000",
          "2046-04-01T00:00:00.000000000",
          "2046-05-01T00:00:00.000000000",
          "2046-06-01T00:00:00.000000000",
          "2046-07-01T00:00:00.000000000",
          "2046-08-01T00:00:00.000000000",
          "2046-09-01T00:00:00.000000000",
          "2046-10-01T00:00:00.000000000",
          "2046-11-01T00:00:00.000000000",
          "2046-12-01T00:00:00.000000000",
          "2047-01-01T00:00:00.000000000",
          "2047-02-01T00:00:00.000000000",
          "2047-03-01T00:00:00.000000000",
          "2047-04-01T00:00:00.000000000",
          "2047-05-01T00:00:00.000000000",
          "2047-06-01T00:00:00.000000000",
          "2047-07-01T00:00:00.000000000",
          "2047-08-01T00:00:00.000000000",
          "2047-09-01T00:00:00.000000000",
          "2047-10-01T00:00:00.000000000",
          "2047-11-01T00:00:00.000000000"
         ],
         "y": {
          "bdata": "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",
          "dtype": "f8"
         }
        }
       ],
       "layout": {
        "template": {
         "data": {
          "bar": [
           {
            "error_x": {
             "color": "#2a3f5f"
            },
            "error_y": {
             "color": "#2a3f5f"
            },
            "marker": {
             "line": {
              "color": "white",
              "width": 0.5
             },
             "pattern": {
              "fillmode": "overlay",
              "size": 10,
              "solidity": 0.2
             }
            },
            "type": "bar"
           }
          ],
          "barpolar": [
           {
            "marker": {
             "line": {
              "color": "white",
              "width": 0.5
             },
             "pattern": {
              "fillmode": "overlay",
              "size": 10,
              "solidity": 0.2
             }
            },
            "type": "barpolar"
           }
          ],
          "carpet": [
           {
            "aaxis": {
             "endlinecolor": "#2a3f5f",
             "gridcolor": "#C8D4E3",
             "linecolor": "#C8D4E3",
             "minorgridcolor": "#C8D4E3",
             "startlinecolor": "#2a3f5f"
            },
            "baxis": {
             "endlinecolor": "#2a3f5f",
             "gridcolor": "#C8D4E3",
             "linecolor": "#C8D4E3",
             "minorgridcolor": "#C8D4E3",
             "startlinecolor": "#2a3f5f"
            },
            "type": "carpet"
           }
          ],
          "choropleth": [
           {
            "colorbar": {
             "outlinewidth": 0,
             "ticks": ""
            },
            "type": "choropleth"
           }
          ],
          "contour": [
           {
            "colorbar": {
             "outlinewidth": 0,
             "ticks": ""
            },
            "colorscale": [
             [
              0,
              "#0d0887"
             ],
             [
              0.1111111111111111,
              "#46039f"
             ],
             [
              0.2222222222222222,
              "#7201a8"
             ],
             [
              0.3333333333333333,
              "#9c179e"
             ],
             [
              0.4444444444444444,
              "#bd3786"
             ],
             [
              0.5555555555555556,
              "#d8576b"
             ],
             [
              0.6666666666666666,
              "#ed7953"
             ],
             [
              0.7777777777777778,
              "#fb9f3a"
             ],
             [
              0.8888888888888888,
              "#fdca26"
             ],
             [
              1,
              "#f0f921"
             ]
            ],
            "type": "contour"
           }
          ],
          "contourcarpet": [
           {
            "colorbar": {
             "outlinewidth": 0,
             "ticks": ""
            },
            "type": "contourcarpet"
           }
          ],
          "heatmap": [
           {
            "colorbar": {
             "outlinewidth": 0,
             "ticks": ""
            },
            "colorscale": [
             [
              0,
              "#0d0887"
             ],
             [
              0.1111111111111111,
              "#46039f"
             ],
             [
              0.2222222222222222,
              "#7201a8"
             ],
             [
              0.3333333333333333,
              "#9c179e"
             ],
             [
              0.4444444444444444,
              "#bd3786"
             ],
             [
              0.5555555555555556,
              "#d8576b"
             ],
             [
              0.6666666666666666,
              "#ed7953"
             ],
             [
              0.7777777777777778,
              "#fb9f3a"
             ],
             [
              0.8888888888888888,
              "#fdca26"
             ],
             [
              1,
              "#f0f921"
             ]
            ],
            "type": "heatmap"
           }
          ],
          "histogram": [
           {
            "marker": {
             "pattern": {
              "fillmode": "overlay",
              "size": 10,
              "solidity": 0.2
             }
            },
            "type": "histogram"
           }
          ],
          "histogram2d": [
           {
            "colorbar": {
             "outlinewidth": 0,
             "ticks": ""
            },
            "colorscale": [
             [
              0,
              "#0d0887"
             ],
             [
              0.1111111111111111,
              "#46039f"
             ],
             [
              0.2222222222222222,
              "#7201a8"
             ],
             [
              0.3333333333333333,
              "#9c179e"
             ],
             [
              0.4444444444444444,
              "#bd3786"
             ],
             [
              0.5555555555555556,
              "#d8576b"
             ],
             [
              0.6666666666666666,
              "#ed7953"
             ],
             [
              0.7777777777777778,
              "#fb9f3a"
             ],
             [
              0.8888888888888888,
              "#fdca26"
             ],
             [
              1,
              "#f0f921"
             ]
            ],
            "type": "histogram2d"
           }
          ],
          "histogram2dcontour": [
           {
            "colorbar": {
             "outlinewidth": 0,
             "ticks": ""
            },
            "colorscale": [
             [
              0,
              "#0d0887"
             ],
             [
              0.1111111111111111,
              "#46039f"
             ],
             [
              0.2222222222222222,
              "#7201a8"
             ],
             [
              0.3333333333333333,
              "#9c179e"
             ],
             [
              0.4444444444444444,
              "#bd3786"
             ],
             [
              0.5555555555555556,
              "#d8576b"
             ],
             [
              0.6666666666666666,
              "#ed7953"
             ],
             [
              0.7777777777777778,
              "#fb9f3a"
             ],
             [
              0.8888888888888888,
              "#fdca26"
             ],
             [
              1,
              "#f0f921"
             ]
            ],
            "type": "histogram2dcontour"
           }
          ],
          "mesh3d": [
           {
            "colorbar": {
             "outlinewidth": 0,
             "ticks": ""
            },
            "type": "mesh3d"
           }
          ],
          "parcoords": [
           {
            "line": {
             "colorbar": {
              "outlinewidth": 0,
              "ticks": ""
             }
            },
            "type": "parcoords"
           }
          ],
          "pie": [
           {
            "automargin": true,
            "type": "pie"
           }
          ],
          "scatter": [
           {
            "fillpattern": {
             "fillmode": "overlay",
             "size": 10,
             "solidity": 0.2
            },
            "type": "scatter"
           }
          ],
          "scatter3d": [
           {
            "line": {
             "colorbar": {
              "outlinewidth": 0,
              "ticks": ""
             }
            },
            "marker": {
             "colorbar": {
              "outlinewidth": 0,
              "ticks": ""
             }
            },
            "type": "scatter3d"
           }
          ],
          "scattercarpet": [
           {
            "marker": {
             "colorbar": {
              "outlinewidth": 0,
              "ticks": ""
             }
            },
            "type": "scattercarpet"
           }
          ],
          "scattergeo": [
           {
            "marker": {
             "colorbar": {
              "outlinewidth": 0,
              "ticks": ""
             }
            },
            "type": "scattergeo"
           }
          ],
          "scattergl": [
           {
            "marker": {
             "colorbar": {
              "outlinewidth": 0,
              "ticks": ""
             }
            },
            "type": "scattergl"
           }
          ],
          "scattermap": [
           {
            "marker": {
             "colorbar": {
              "outlinewidth": 0,
              "ticks": ""
             }
            },
            "type": "scattermap"
           }
          ],
          "scattermapbox": [
           {
            "marker": {
             "colorbar": {
              "outlinewidth": 0,
              "ticks": ""
             }
            },
            "type": "scattermapbox"
           }
          ],
          "scatterpolar": [
           {
            "marker": {
             "colorbar": {
              "outlinewidth": 0,
              "ticks": ""
             }
            },
            "type": "scatterpolar"
           }
          ],
          "scatterpolargl": [
           {
            "marker": {
             "colorbar": {
              "outlinewidth": 0,
              "ticks": ""
             }
            },
            "type": "scatterpolargl"
           }
          ],
          "scatterternary": [
           {
            "marker": {
             "colorbar": {
              "outlinewidth": 0,
              "ticks": ""
             }
            },
            "type": "scatterternary"
           }
          ],
          "surface": [
           {
            "colorbar": {
             "outlinewidth": 0,
             "ticks": ""
            },
            "colorscale": [
             [
              0,
              "#0d0887"
             ],
             [
              0.1111111111111111,
              "#46039f"
             ],
             [
              0.2222222222222222,
              "#7201a8"
             ],
             [
              0.3333333333333333,
              "#9c179e"
             ],
             [
              0.4444444444444444,
              "#bd3786"
             ],
             [
              0.5555555555555556,
              "#d8576b"
             ],
             [
              0.6666666666666666,
              "#ed7953"
             ],
             [
              0.7777777777777778,
              "#fb9f3a"
             ],
             [
              0.8888888888888888,
              "#fdca26"
             ],
             [
              1,
              "#f0f921"
             ]
            ],
            "type": "surface"
           }
          ],
          "table": [
           {
            "cells": {
             "fill": {
              "color": "#EBF0F8"
             },
             "line": {
              "color": "white"
             }
            },
            "header": {
             "fill": {
              "color": "#C8D4E3"
             },
             "line": {
              "color": "white"
             }
            },
            "type": "table"
           }
          ]
         },
         "layout": {
          "annotationdefaults": {
           "arrowcolor": "#2a3f5f",
           "arrowhead": 0,
           "arrowwidth": 1
          },
          "autotypenumbers": "strict",
          "coloraxis": {
           "colorbar": {
            "outlinewidth": 0,
            "ticks": ""
           }
          },
          "colorscale": {
           "diverging": [
            [
             0,
             "#8e0152"
            ],
            [
             0.1,
             "#c51b7d"
            ],
            [
             0.2,
             "#de77ae"
            ],
            [
             0.3,
             "#f1b6da"
            ],
            [
             0.4,
             "#fde0ef"
            ],
            [
             0.5,
             "#f7f7f7"
            ],
            [
             0.6,
             "#e6f5d0"
            ],
            [
             0.7,
             "#b8e186"
            ],
            [
             0.8,
             "#7fbc41"
            ],
            [
             0.9,
             "#4d9221"
            ],
            [
             1,
             "#276419"
            ]
           ],
           "sequential": [
            [
             0,
             "#0d0887"
            ],
            [
             0.1111111111111111,
             "#46039f"
            ],
            [
             0.2222222222222222,
             "#7201a8"
            ],
            [
             0.3333333333333333,
             "#9c179e"
            ],
            [
             0.4444444444444444,
             "#bd3786"
            ],
            [
             0.5555555555555556,
             "#d8576b"
            ],
            [
             0.6666666666666666,
             "#ed7953"
            ],
            [
             0.7777777777777778,
             "#fb9f3a"
            ],
            [
             0.8888888888888888,
             "#fdca26"
            ],
            [
             1,
             "#f0f921"
            ]
           ],
           "sequentialminus": [
            [
             0,
             "#0d0887"
            ],
            [
             0.1111111111111111,
             "#46039f"
            ],
            [
             0.2222222222222222,
             "#7201a8"
            ],
            [
             0.3333333333333333,
             "#9c179e"
            ],
            [
             0.4444444444444444,
             "#bd3786"
            ],
            [
             0.5555555555555556,
             "#d8576b"
            ],
            [
             0.6666666666666666,
             "#ed7953"
            ],
            [
             0.7777777777777778,
             "#fb9f3a"
            ],
            [
             0.8888888888888888,
             "#fdca26"
            ],
            [
             1,
             "#f0f921"
            ]
           ]
          },
          "colorway": [
           "#636efa",
           "#EF553B",
           "#00cc96",
           "#ab63fa",
           "#FFA15A",
           "#19d3f3",
           "#FF6692",
           "#B6E880",
           "#FF97FF",
           "#FECB52"
          ],
          "font": {
           "color": "#2a3f5f"
          },
          "geo": {
           "bgcolor": "white",
           "lakecolor": "white",
           "landcolor": "white",
           "showlakes": true,
           "showland": true,
           "subunitcolor": "#C8D4E3"
          },
          "hoverlabel": {
           "align": "left"
          },
          "hovermode": "closest",
          "mapbox": {
           "style": "light"
          },
          "paper_bgcolor": "white",
          "plot_bgcolor": "white",
          "polar": {
           "angularaxis": {
            "gridcolor": "#EBF0F8",
            "linecolor": "#EBF0F8",
            "ticks": ""
           },
           "bgcolor": "white",
           "radialaxis": {
            "gridcolor": "#EBF0F8",
            "linecolor": "#EBF0F8",
            "ticks": ""
           }
          },
          "scene": {
           "xaxis": {
            "backgroundcolor": "white",
            "gridcolor": "#DFE8F3",
            "gridwidth": 2,
            "linecolor": "#EBF0F8",
            "showbackground": true,
            "ticks": "",
            "zerolinecolor": "#EBF0F8"
           },
           "yaxis": {
            "backgroundcolor": "white",
            "gridcolor": "#DFE8F3",
            "gridwidth": 2,
            "linecolor": "#EBF0F8",
            "showbackground": true,
            "ticks": "",
            "zerolinecolor": "#EBF0F8"
           },
           "zaxis": {
            "backgroundcolor": "white",
            "gridcolor": "#DFE8F3",
            "gridwidth": 2,
            "linecolor": "#EBF0F8",
            "showbackground": true,
            "ticks": "",
            "zerolinecolor": "#EBF0F8"
           }
          },
          "shapedefaults": {
           "line": {
            "color": "#2a3f5f"
           }
          },
          "ternary": {
           "aaxis": {
            "gridcolor": "#DFE8F3",
            "linecolor": "#A2B1C6",
            "ticks": ""
           },
           "baxis": {
            "gridcolor": "#DFE8F3",
            "linecolor": "#A2B1C6",
            "ticks": ""
           },
           "bgcolor": "white",
           "caxis": {
            "gridcolor": "#DFE8F3",
            "linecolor": "#A2B1C6",
            "ticks": ""
           }
          },
          "title": {
           "x": 0.05
          },
          "xaxis": {
           "automargin": true,
           "gridcolor": "#EBF0F8",
           "linecolor": "#EBF0F8",
           "ticks": "",
           "title": {
            "standoff": 15
           },
           "zerolinecolor": "#EBF0F8",
           "zerolinewidth": 2
          },
          "yaxis": {
           "automargin": true,
           "gridcolor": "#EBF0F8",
           "linecolor": "#EBF0F8",
           "ticks": "",
           "title": {
            "standoff": 15
           },
           "zerolinecolor": "#EBF0F8",
           "zerolinewidth": 2
          }
         }
        },
        "title": {
         "text": "Evolución del Precio de Cierre VS Precio Actualizado"
        },
        "xaxis": {
         "title": {
          "text": "Año"
         }
        },
        "yaxis": {
         "title": {
          "text": "USD/MWh"
         }
        }
       }
      }
     },
     "metadata": {},
     "output_type": "display_data"
    }
   ],
   "source": [
    "df_diario = expandir_fechas(df_completo, \"FechaInicioObligacion\", \"FechaFinObligacion\", [\"PrecioCierre\", \"PrecioActualizado\"])  # Se crea un DataFrame con los registros diarios\n",
    "\n",
    "df_diario[\"Mes\"] = df_diario[\"Fecha\"].dt.to_period(\"M\").dt.to_timestamp()       # Se agrupa por mes y se calcula el promedio de los precios\n",
    "df_precio = ( \n",
    "    df_diario.groupby(\"Mes\", as_index=False)\n",
    "               .mean(numeric_only=True)\n",
    ")\n",
    "\n",
    "fig = go.Figure()                                                               # Se crea el objeto de gráfica\n",
    "\n",
    "fig.add_trace(go.Scatter(                                                       # Se configura gráfica de línea\n",
    "    x=df_precio[\"Mes\"],                                                         # Valores Eje X\n",
    "    y=df_precio[\"PrecioCierre\"],                                                # Valores Eje Y\n",
    "    mode='lines',                                                               # Gráfico de líneas y puntos\n",
    "    name='Precio de Cierre'                                                     # Nombre de la línea\n",
    "))\n",
    "\n",
    "fig.add_trace(go.Scatter(                                                       # Se configura gráfica de línea\n",
    "    x=df_precio[\"Mes\"],                                                         # Valores Eje X\n",
    "    y=df_precio[\"PrecioActualizado\"],                                           # Valores Eje Y\n",
    "    mode='lines',                                                               # Gráfico de líneas y puntos\n",
    "    name='Precio Actualizado'                                                   # Nombre de la línea\n",
    "))\n",
    "\n",
    "fig.update_layout(                                                              # Se configura el gráfico\n",
    "    title=\"Evolución del Precio de Cierre VS Precio Actualizado\",               # Título del Gráfico\n",
    "    xaxis_title=\"Año\",                                                          # Título Eje X \n",
    "    yaxis_title=\"USD/MWh\",                                                      # Título Eje Y\n",
    "    template=\"plotly_white\"\n",
    ")\n",
    "\n",
    "fig.show()                                                                      # Se muestra el gráfico"
   ]
  },
  {
   "cell_type": "code",
   "execution_count": 12,
   "metadata": {},
   "outputs": [
    {
     "data": {
      "application/vnd.plotly.v1+json": {
       "config": {
        "plotlyServerURL": "https://plot.ly"
       },
       "data": [
        {
         "name": "Hidraulica",
         "type": "bar",
         "x": [
          "2021-12-01T00:00:00.000000000",
          "2022-01-01T00:00:00.000000000",
          "2022-02-01T00:00:00.000000000",
          "2022-03-01T00:00:00.000000000",
          "2022-04-01T00:00:00.000000000",
          "2022-05-01T00:00:00.000000000",
          "2022-06-01T00:00:00.000000000",
          "2022-07-01T00:00:00.000000000",
          "2022-08-01T00:00:00.000000000",
          "2022-09-01T00:00:00.000000000",
          "2022-10-01T00:00:00.000000000",
          "2022-11-01T00:00:00.000000000",
          "2022-12-01T00:00:00.000000000",
          "2023-01-01T00:00:00.000000000",
          "2023-02-01T00:00:00.000000000",
          "2023-03-01T00:00:00.000000000",
          "2023-04-01T00:00:00.000000000",
          "2023-05-01T00:00:00.000000000",
          "2023-06-01T00:00:00.000000000",
          "2023-07-01T00:00:00.000000000",
          "2023-08-01T00:00:00.000000000",
          "2023-09-01T00:00:00.000000000",
          "2023-10-01T00:00:00.000000000",
          "2023-11-01T00:00:00.000000000",
          "2023-12-01T00:00:00.000000000",
          "2024-01-01T00:00:00.000000000",
          "2024-02-01T00:00:00.000000000",
          "2024-03-01T00:00:00.000000000",
          "2024-04-01T00:00:00.000000000",
          "2024-05-01T00:00:00.000000000",
          "2024-06-01T00:00:00.000000000",
          "2024-07-01T00:00:00.000000000",
          "2024-08-01T00:00:00.000000000",
          "2024-09-01T00:00:00.000000000",
          "2024-10-01T00:00:00.000000000",
          "2024-11-01T00:00:00.000000000",
          "2024-12-01T00:00:00.000000000",
          "2025-01-01T00:00:00.000000000",
          "2025-02-01T00:00:00.000000000",
          "2025-03-01T00:00:00.000000000",
          "2025-04-01T00:00:00.000000000",
          "2025-05-01T00:00:00.000000000",
          "2025-06-01T00:00:00.000000000",
          "2025-07-01T00:00:00.000000000",
          "2025-08-01T00:00:00.000000000",
          "2025-09-01T00:00:00.000000000",
          "2025-10-01T00:00:00.000000000",
          "2025-11-01T00:00:00.000000000",
          "2025-12-01T00:00:00.000000000",
          "2026-01-01T00:00:00.000000000",
          "2026-02-01T00:00:00.000000000",
          "2026-03-01T00:00:00.000000000",
          "2026-04-01T00:00:00.000000000",
          "2026-05-01T00:00:00.000000000",
          "2026-06-01T00:00:00.000000000",
          "2026-07-01T00:00:00.000000000",
          "2026-08-01T00:00:00.000000000",
          "2026-09-01T00:00:00.000000000",
          "2026-10-01T00:00:00.000000000",
          "2026-11-01T00:00:00.000000000",
          "2026-12-01T00:00:00.000000000",
          "2027-01-01T00:00:00.000000000",
          "2027-02-01T00:00:00.000000000",
          "2027-03-01T00:00:00.000000000",
          "2027-04-01T00:00:00.000000000",
          "2027-05-01T00:00:00.000000000",
          "2027-06-01T00:00:00.000000000",
          "2027-07-01T00:00:00.000000000",
          "2027-08-01T00:00:00.000000000",
          "2027-09-01T00:00:00.000000000",
          "2027-10-01T00:00:00.000000000",
          "2027-11-01T00:00:00.000000000",
          "2027-12-01T00:00:00.000000000",
          "2028-01-01T00:00:00.000000000",
          "2028-02-01T00:00:00.000000000",
          "2028-03-01T00:00:00.000000000",
          "2028-04-01T00:00:00.000000000",
          "2028-05-01T00:00:00.000000000",
          "2028-06-01T00:00:00.000000000",
          "2028-07-01T00:00:00.000000000",
          "2028-08-01T00:00:00.000000000",
          "2028-09-01T00:00:00.000000000",
          "2028-10-01T00:00:00.000000000",
          "2028-11-01T00:00:00.000000000",
          "2028-12-01T00:00:00.000000000",
          "2029-01-01T00:00:00.000000000",
          "2029-02-01T00:00:00.000000000",
          "2029-03-01T00:00:00.000000000",
          "2029-04-01T00:00:00.000000000",
          "2029-05-01T00:00:00.000000000",
          "2029-06-01T00:00:00.000000000",
          "2029-07-01T00:00:00.000000000",
          "2029-08-01T00:00:00.000000000",
          "2029-09-01T00:00:00.000000000",
          "2029-10-01T00:00:00.000000000",
          "2029-11-01T00:00:00.000000000",
          "2029-12-01T00:00:00.000000000",
          "2030-01-01T00:00:00.000000000",
          "2030-02-01T00:00:00.000000000",
          "2030-03-01T00:00:00.000000000",
          "2030-04-01T00:00:00.000000000",
          "2030-05-01T00:00:00.000000000",
          "2030-06-01T00:00:00.000000000",
          "2030-07-01T00:00:00.000000000",
          "2030-08-01T00:00:00.000000000",
          "2030-09-01T00:00:00.000000000",
          "2030-10-01T00:00:00.000000000",
          "2030-11-01T00:00:00.000000000",
          "2030-12-01T00:00:00.000000000",
          "2031-01-01T00:00:00.000000000",
          "2031-02-01T00:00:00.000000000",
          "2031-03-01T00:00:00.000000000",
          "2031-04-01T00:00:00.000000000",
          "2031-05-01T00:00:00.000000000",
          "2031-06-01T00:00:00.000000000",
          "2031-07-01T00:00:00.000000000",
          "2031-08-01T00:00:00.000000000",
          "2031-09-01T00:00:00.000000000",
          "2031-10-01T00:00:00.000000000",
          "2031-11-01T00:00:00.000000000",
          "2031-12-01T00:00:00.000000000",
          "2032-01-01T00:00:00.000000000",
          "2032-02-01T00:00:00.000000000",
          "2032-03-01T00:00:00.000000000",
          "2032-04-01T00:00:00.000000000",
          "2032-05-01T00:00:00.000000000",
          "2032-06-01T00:00:00.000000000",
          "2032-07-01T00:00:00.000000000",
          "2032-08-01T00:00:00.000000000",
          "2032-09-01T00:00:00.000000000",
          "2032-10-01T00:00:00.000000000",
          "2032-11-01T00:00:00.000000000",
          "2032-12-01T00:00:00.000000000",
          "2033-01-01T00:00:00.000000000",
          "2033-02-01T00:00:00.000000000",
          "2033-03-01T00:00:00.000000000",
          "2033-04-01T00:00:00.000000000",
          "2033-05-01T00:00:00.000000000",
          "2033-06-01T00:00:00.000000000",
          "2033-07-01T00:00:00.000000000",
          "2033-08-01T00:00:00.000000000",
          "2033-09-01T00:00:00.000000000",
          "2033-10-01T00:00:00.000000000",
          "2033-11-01T00:00:00.000000000",
          "2033-12-01T00:00:00.000000000",
          "2034-01-01T00:00:00.000000000",
          "2034-02-01T00:00:00.000000000",
          "2034-03-01T00:00:00.000000000",
          "2034-04-01T00:00:00.000000000",
          "2034-05-01T00:00:00.000000000",
          "2034-06-01T00:00:00.000000000",
          "2034-07-01T00:00:00.000000000",
          "2034-08-01T00:00:00.000000000",
          "2034-09-01T00:00:00.000000000",
          "2034-10-01T00:00:00.000000000",
          "2034-11-01T00:00:00.000000000",
          "2034-12-01T00:00:00.000000000",
          "2035-01-01T00:00:00.000000000",
          "2035-02-01T00:00:00.000000000",
          "2035-03-01T00:00:00.000000000",
          "2035-04-01T00:00:00.000000000",
          "2035-05-01T00:00:00.000000000",
          "2035-06-01T00:00:00.000000000",
          "2035-07-01T00:00:00.000000000",
          "2035-08-01T00:00:00.000000000",
          "2035-09-01T00:00:00.000000000",
          "2035-10-01T00:00:00.000000000",
          "2035-11-01T00:00:00.000000000",
          "2035-12-01T00:00:00.000000000",
          "2036-01-01T00:00:00.000000000",
          "2036-02-01T00:00:00.000000000",
          "2036-03-01T00:00:00.000000000",
          "2036-04-01T00:00:00.000000000",
          "2036-05-01T00:00:00.000000000",
          "2036-06-01T00:00:00.000000000",
          "2036-07-01T00:00:00.000000000",
          "2036-08-01T00:00:00.000000000",
          "2036-09-01T00:00:00.000000000",
          "2036-10-01T00:00:00.000000000",
          "2036-11-01T00:00:00.000000000",
          "2036-12-01T00:00:00.000000000",
          "2037-01-01T00:00:00.000000000",
          "2037-02-01T00:00:00.000000000",
          "2037-03-01T00:00:00.000000000",
          "2037-04-01T00:00:00.000000000",
          "2037-05-01T00:00:00.000000000",
          "2037-06-01T00:00:00.000000000",
          "2037-07-01T00:00:00.000000000",
          "2037-08-01T00:00:00.000000000",
          "2037-09-01T00:00:00.000000000",
          "2037-10-01T00:00:00.000000000",
          "2037-11-01T00:00:00.000000000",
          "2037-12-01T00:00:00.000000000",
          "2038-01-01T00:00:00.000000000",
          "2038-02-01T00:00:00.000000000",
          "2038-03-01T00:00:00.000000000",
          "2038-04-01T00:00:00.000000000",
          "2038-05-01T00:00:00.000000000",
          "2038-06-01T00:00:00.000000000",
          "2038-07-01T00:00:00.000000000",
          "2038-08-01T00:00:00.000000000",
          "2038-09-01T00:00:00.000000000",
          "2038-10-01T00:00:00.000000000",
          "2038-11-01T00:00:00.000000000"
         ],
         "y": {
          "bdata": "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",
          "dtype": "f8"
         }
        },
        {
         "name": "Termica",
         "type": "bar",
         "x": [
          "2021-12-01T00:00:00.000000000",
          "2022-01-01T00:00:00.000000000",
          "2022-02-01T00:00:00.000000000",
          "2022-03-01T00:00:00.000000000",
          "2022-04-01T00:00:00.000000000",
          "2022-05-01T00:00:00.000000000",
          "2022-06-01T00:00:00.000000000",
          "2022-07-01T00:00:00.000000000",
          "2022-08-01T00:00:00.000000000",
          "2022-09-01T00:00:00.000000000",
          "2022-10-01T00:00:00.000000000",
          "2022-11-01T00:00:00.000000000",
          "2022-12-01T00:00:00.000000000",
          "2023-01-01T00:00:00.000000000",
          "2023-02-01T00:00:00.000000000",
          "2023-03-01T00:00:00.000000000",
          "2023-04-01T00:00:00.000000000",
          "2023-05-01T00:00:00.000000000",
          "2023-06-01T00:00:00.000000000",
          "2023-07-01T00:00:00.000000000",
          "2023-08-01T00:00:00.000000000",
          "2023-09-01T00:00:00.000000000",
          "2023-10-01T00:00:00.000000000",
          "2023-11-01T00:00:00.000000000",
          "2023-12-01T00:00:00.000000000",
          "2024-01-01T00:00:00.000000000",
          "2024-02-01T00:00:00.000000000",
          "2024-03-01T00:00:00.000000000",
          "2024-04-01T00:00:00.000000000",
          "2024-05-01T00:00:00.000000000",
          "2024-06-01T00:00:00.000000000",
          "2024-07-01T00:00:00.000000000",
          "2024-08-01T00:00:00.000000000",
          "2024-09-01T00:00:00.000000000",
          "2024-10-01T00:00:00.000000000",
          "2024-11-01T00:00:00.000000000",
          "2024-12-01T00:00:00.000000000",
          "2025-01-01T00:00:00.000000000",
          "2025-02-01T00:00:00.000000000",
          "2025-03-01T00:00:00.000000000",
          "2025-04-01T00:00:00.000000000",
          "2025-05-01T00:00:00.000000000",
          "2025-06-01T00:00:00.000000000",
          "2025-07-01T00:00:00.000000000",
          "2025-08-01T00:00:00.000000000",
          "2025-09-01T00:00:00.000000000",
          "2025-10-01T00:00:00.000000000",
          "2025-11-01T00:00:00.000000000",
          "2025-12-01T00:00:00.000000000",
          "2026-01-01T00:00:00.000000000",
          "2026-02-01T00:00:00.000000000",
          "2026-03-01T00:00:00.000000000",
          "2026-04-01T00:00:00.000000000",
          "2026-05-01T00:00:00.000000000",
          "2026-06-01T00:00:00.000000000",
          "2026-07-01T00:00:00.000000000",
          "2026-08-01T00:00:00.000000000",
          "2026-09-01T00:00:00.000000000",
          "2026-10-01T00:00:00.000000000",
          "2026-11-01T00:00:00.000000000",
          "2026-12-01T00:00:00.000000000",
          "2027-01-01T00:00:00.000000000",
          "2027-02-01T00:00:00.000000000",
          "2027-03-01T00:00:00.000000000",
          "2027-04-01T00:00:00.000000000",
          "2027-05-01T00:00:00.000000000",
          "2027-06-01T00:00:00.000000000",
          "2027-07-01T00:00:00.000000000",
          "2027-08-01T00:00:00.000000000",
          "2027-09-01T00:00:00.000000000",
          "2027-10-01T00:00:00.000000000",
          "2027-11-01T00:00:00.000000000",
          "2027-12-01T00:00:00.000000000",
          "2028-01-01T00:00:00.000000000",
          "2028-02-01T00:00:00.000000000",
          "2028-03-01T00:00:00.000000000",
          "2028-04-01T00:00:00.000000000",
          "2028-05-01T00:00:00.000000000",
          "2028-06-01T00:00:00.000000000",
          "2028-07-01T00:00:00.000000000",
          "2028-08-01T00:00:00.000000000",
          "2028-09-01T00:00:00.000000000",
          "2028-10-01T00:00:00.000000000",
          "2028-11-01T00:00:00.000000000",
          "2028-12-01T00:00:00.000000000",
          "2029-01-01T00:00:00.000000000",
          "2029-02-01T00:00:00.000000000",
          "2029-03-01T00:00:00.000000000",
          "2029-04-01T00:00:00.000000000",
          "2029-05-01T00:00:00.000000000",
          "2029-06-01T00:00:00.000000000",
          "2029-07-01T00:00:00.000000000",
          "2029-08-01T00:00:00.000000000",
          "2029-09-01T00:00:00.000000000",
          "2029-10-01T00:00:00.000000000",
          "2029-11-01T00:00:00.000000000",
          "2029-12-01T00:00:00.000000000",
          "2030-01-01T00:00:00.000000000",
          "2030-02-01T00:00:00.000000000",
          "2030-03-01T00:00:00.000000000",
          "2030-04-01T00:00:00.000000000",
          "2030-05-01T00:00:00.000000000",
          "2030-06-01T00:00:00.000000000",
          "2030-07-01T00:00:00.000000000",
          "2030-08-01T00:00:00.000000000",
          "2030-09-01T00:00:00.000000000",
          "2030-10-01T00:00:00.000000000",
          "2030-11-01T00:00:00.000000000",
          "2030-12-01T00:00:00.000000000",
          "2031-01-01T00:00:00.000000000",
          "2031-02-01T00:00:00.000000000",
          "2031-03-01T00:00:00.000000000",
          "2031-04-01T00:00:00.000000000",
          "2031-05-01T00:00:00.000000000",
          "2031-06-01T00:00:00.000000000",
          "2031-07-01T00:00:00.000000000",
          "2031-08-01T00:00:00.000000000",
          "2031-09-01T00:00:00.000000000",
          "2031-10-01T00:00:00.000000000",
          "2031-11-01T00:00:00.000000000",
          "2031-12-01T00:00:00.000000000",
          "2032-01-01T00:00:00.000000000",
          "2032-02-01T00:00:00.000000000",
          "2032-03-01T00:00:00.000000000",
          "2032-04-01T00:00:00.000000000",
          "2032-05-01T00:00:00.000000000",
          "2032-06-01T00:00:00.000000000",
          "2032-07-01T00:00:00.000000000",
          "2032-08-01T00:00:00.000000000",
          "2032-09-01T00:00:00.000000000",
          "2032-10-01T00:00:00.000000000",
          "2032-11-01T00:00:00.000000000",
          "2032-12-01T00:00:00.000000000",
          "2033-01-01T00:00:00.000000000",
          "2033-02-01T00:00:00.000000000",
          "2033-03-01T00:00:00.000000000",
          "2033-04-01T00:00:00.000000000",
          "2033-05-01T00:00:00.000000000",
          "2033-06-01T00:00:00.000000000",
          "2033-07-01T00:00:00.000000000",
          "2033-08-01T00:00:00.000000000",
          "2033-09-01T00:00:00.000000000",
          "2033-10-01T00:00:00.000000000",
          "2033-11-01T00:00:00.000000000",
          "2033-12-01T00:00:00.000000000",
          "2034-01-01T00:00:00.000000000",
          "2034-02-01T00:00:00.000000000",
          "2034-03-01T00:00:00.000000000",
          "2034-04-01T00:00:00.000000000",
          "2034-05-01T00:00:00.000000000",
          "2034-06-01T00:00:00.000000000",
          "2034-07-01T00:00:00.000000000",
          "2034-08-01T00:00:00.000000000",
          "2034-09-01T00:00:00.000000000",
          "2034-10-01T00:00:00.000000000",
          "2034-11-01T00:00:00.000000000",
          "2034-12-01T00:00:00.000000000",
          "2035-01-01T00:00:00.000000000",
          "2035-02-01T00:00:00.000000000",
          "2035-03-01T00:00:00.000000000",
          "2035-04-01T00:00:00.000000000",
          "2035-05-01T00:00:00.000000000",
          "2035-06-01T00:00:00.000000000",
          "2035-07-01T00:00:00.000000000",
          "2035-08-01T00:00:00.000000000",
          "2035-09-01T00:00:00.000000000",
          "2035-10-01T00:00:00.000000000",
          "2035-11-01T00:00:00.000000000",
          "2035-12-01T00:00:00.000000000",
          "2036-01-01T00:00:00.000000000",
          "2036-02-01T00:00:00.000000000",
          "2036-03-01T00:00:00.000000000",
          "2036-04-01T00:00:00.000000000",
          "2036-05-01T00:00:00.000000000",
          "2036-06-01T00:00:00.000000000",
          "2036-07-01T00:00:00.000000000",
          "2036-08-01T00:00:00.000000000",
          "2036-09-01T00:00:00.000000000",
          "2036-10-01T00:00:00.000000000",
          "2036-11-01T00:00:00.000000000",
          "2036-12-01T00:00:00.000000000",
          "2037-01-01T00:00:00.000000000",
          "2037-02-01T00:00:00.000000000",
          "2037-03-01T00:00:00.000000000",
          "2037-04-01T00:00:00.000000000",
          "2037-05-01T00:00:00.000000000",
          "2037-06-01T00:00:00.000000000",
          "2037-07-01T00:00:00.000000000",
          "2037-08-01T00:00:00.000000000",
          "2037-09-01T00:00:00.000000000",
          "2037-10-01T00:00:00.000000000",
          "2037-11-01T00:00:00.000000000",
          "2037-12-01T00:00:00.000000000",
          "2038-01-01T00:00:00.000000000",
          "2038-02-01T00:00:00.000000000",
          "2038-03-01T00:00:00.000000000",
          "2038-04-01T00:00:00.000000000",
          "2038-05-01T00:00:00.000000000",
          "2038-06-01T00:00:00.000000000",
          "2038-07-01T00:00:00.000000000",
          "2038-08-01T00:00:00.000000000",
          "2038-09-01T00:00:00.000000000",
          "2038-10-01T00:00:00.000000000",
          "2038-11-01T00:00:00.000000000",
          "2038-12-01T00:00:00.000000000",
          "2039-01-01T00:00:00.000000000",
          "2039-02-01T00:00:00.000000000",
          "2039-03-01T00:00:00.000000000",
          "2039-04-01T00:00:00.000000000",
          "2039-05-01T00:00:00.000000000",
          "2039-06-01T00:00:00.000000000",
          "2039-07-01T00:00:00.000000000",
          "2039-08-01T00:00:00.000000000",
          "2039-09-01T00:00:00.000000000",
          "2039-10-01T00:00:00.000000000",
          "2039-11-01T00:00:00.000000000",
          "2039-12-01T00:00:00.000000000",
          "2040-01-01T00:00:00.000000000",
          "2040-02-01T00:00:00.000000000",
          "2040-03-01T00:00:00.000000000",
          "2040-04-01T00:00:00.000000000",
          "2040-05-01T00:00:00.000000000",
          "2040-06-01T00:00:00.000000000",
          "2040-07-01T00:00:00.000000000",
          "2040-08-01T00:00:00.000000000",
          "2040-09-01T00:00:00.000000000",
          "2040-10-01T00:00:00.000000000",
          "2040-11-01T00:00:00.000000000",
          "2040-12-01T00:00:00.000000000",
          "2041-01-01T00:00:00.000000000",
          "2041-02-01T00:00:00.000000000",
          "2041-03-01T00:00:00.000000000",
          "2041-04-01T00:00:00.000000000",
          "2041-05-01T00:00:00.000000000",
          "2041-06-01T00:00:00.000000000",
          "2041-07-01T00:00:00.000000000",
          "2041-08-01T00:00:00.000000000",
          "2041-09-01T00:00:00.000000000",
          "2041-10-01T00:00:00.000000000",
          "2041-11-01T00:00:00.000000000",
          "2041-12-01T00:00:00.000000000",
          "2042-01-01T00:00:00.000000000",
          "2042-02-01T00:00:00.000000000",
          "2042-03-01T00:00:00.000000000",
          "2042-04-01T00:00:00.000000000",
          "2042-05-01T00:00:00.000000000",
          "2042-06-01T00:00:00.000000000",
          "2042-07-01T00:00:00.000000000",
          "2042-08-01T00:00:00.000000000",
          "2042-09-01T00:00:00.000000000",
          "2042-10-01T00:00:00.000000000",
          "2042-11-01T00:00:00.000000000"
         ],
         "y": {
          "bdata": "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",
          "dtype": "f8"
         }
        },
        {
         "name": "Solar",
         "type": "bar",
         "x": [
          "2022-12-01T00:00:00.000000000",
          "2023-01-01T00:00:00.000000000",
          "2023-02-01T00:00:00.000000000",
          "2023-03-01T00:00:00.000000000",
          "2023-04-01T00:00:00.000000000",
          "2023-05-01T00:00:00.000000000",
          "2023-06-01T00:00:00.000000000",
          "2023-07-01T00:00:00.000000000",
          "2023-08-01T00:00:00.000000000",
          "2023-09-01T00:00:00.000000000",
          "2023-10-01T00:00:00.000000000",
          "2023-11-01T00:00:00.000000000",
          "2023-12-01T00:00:00.000000000",
          "2024-01-01T00:00:00.000000000",
          "2024-02-01T00:00:00.000000000",
          "2024-03-01T00:00:00.000000000",
          "2024-04-01T00:00:00.000000000",
          "2024-05-01T00:00:00.000000000",
          "2024-06-01T00:00:00.000000000",
          "2024-07-01T00:00:00.000000000",
          "2024-08-01T00:00:00.000000000",
          "2024-09-01T00:00:00.000000000",
          "2024-10-01T00:00:00.000000000",
          "2024-11-01T00:00:00.000000000",
          "2024-12-01T00:00:00.000000000",
          "2025-01-01T00:00:00.000000000",
          "2025-02-01T00:00:00.000000000",
          "2025-03-01T00:00:00.000000000",
          "2025-04-01T00:00:00.000000000",
          "2025-05-01T00:00:00.000000000",
          "2025-06-01T00:00:00.000000000",
          "2025-07-01T00:00:00.000000000",
          "2025-08-01T00:00:00.000000000",
          "2025-09-01T00:00:00.000000000",
          "2025-10-01T00:00:00.000000000",
          "2025-11-01T00:00:00.000000000",
          "2025-12-01T00:00:00.000000000",
          "2026-01-01T00:00:00.000000000",
          "2026-02-01T00:00:00.000000000",
          "2026-03-01T00:00:00.000000000",
          "2026-04-01T00:00:00.000000000",
          "2026-05-01T00:00:00.000000000",
          "2026-06-01T00:00:00.000000000",
          "2026-07-01T00:00:00.000000000",
          "2026-08-01T00:00:00.000000000",
          "2026-09-01T00:00:00.000000000",
          "2026-10-01T00:00:00.000000000",
          "2026-11-01T00:00:00.000000000",
          "2026-12-01T00:00:00.000000000",
          "2027-01-01T00:00:00.000000000",
          "2027-02-01T00:00:00.000000000",
          "2027-03-01T00:00:00.000000000",
          "2027-04-01T00:00:00.000000000",
          "2027-05-01T00:00:00.000000000",
          "2027-06-01T00:00:00.000000000",
          "2027-07-01T00:00:00.000000000",
          "2027-08-01T00:00:00.000000000",
          "2027-09-01T00:00:00.000000000",
          "2027-10-01T00:00:00.000000000",
          "2027-11-01T00:00:00.000000000",
          "2027-12-01T00:00:00.000000000",
          "2028-01-01T00:00:00.000000000",
          "2028-02-01T00:00:00.000000000",
          "2028-03-01T00:00:00.000000000",
          "2028-04-01T00:00:00.000000000",
          "2028-05-01T00:00:00.000000000",
          "2028-06-01T00:00:00.000000000",
          "2028-07-01T00:00:00.000000000",
          "2028-08-01T00:00:00.000000000",
          "2028-09-01T00:00:00.000000000",
          "2028-10-01T00:00:00.000000000",
          "2028-11-01T00:00:00.000000000",
          "2028-12-01T00:00:00.000000000",
          "2029-01-01T00:00:00.000000000",
          "2029-02-01T00:00:00.000000000",
          "2029-03-01T00:00:00.000000000",
          "2029-04-01T00:00:00.000000000",
          "2029-05-01T00:00:00.000000000",
          "2029-06-01T00:00:00.000000000",
          "2029-07-01T00:00:00.000000000",
          "2029-08-01T00:00:00.000000000",
          "2029-09-01T00:00:00.000000000",
          "2029-10-01T00:00:00.000000000",
          "2029-11-01T00:00:00.000000000",
          "2029-12-01T00:00:00.000000000",
          "2030-01-01T00:00:00.000000000",
          "2030-02-01T00:00:00.000000000",
          "2030-03-01T00:00:00.000000000",
          "2030-04-01T00:00:00.000000000",
          "2030-05-01T00:00:00.000000000",
          "2030-06-01T00:00:00.000000000",
          "2030-07-01T00:00:00.000000000",
          "2030-08-01T00:00:00.000000000",
          "2030-09-01T00:00:00.000000000",
          "2030-10-01T00:00:00.000000000",
          "2030-11-01T00:00:00.000000000",
          "2030-12-01T00:00:00.000000000",
          "2031-01-01T00:00:00.000000000",
          "2031-02-01T00:00:00.000000000",
          "2031-03-01T00:00:00.000000000",
          "2031-04-01T00:00:00.000000000",
          "2031-05-01T00:00:00.000000000",
          "2031-06-01T00:00:00.000000000",
          "2031-07-01T00:00:00.000000000",
          "2031-08-01T00:00:00.000000000",
          "2031-09-01T00:00:00.000000000",
          "2031-10-01T00:00:00.000000000",
          "2031-11-01T00:00:00.000000000",
          "2031-12-01T00:00:00.000000000",
          "2032-01-01T00:00:00.000000000",
          "2032-02-01T00:00:00.000000000",
          "2032-03-01T00:00:00.000000000",
          "2032-04-01T00:00:00.000000000",
          "2032-05-01T00:00:00.000000000",
          "2032-06-01T00:00:00.000000000",
          "2032-07-01T00:00:00.000000000",
          "2032-08-01T00:00:00.000000000",
          "2032-09-01T00:00:00.000000000",
          "2032-10-01T00:00:00.000000000",
          "2032-11-01T00:00:00.000000000",
          "2032-12-01T00:00:00.000000000",
          "2033-01-01T00:00:00.000000000",
          "2033-02-01T00:00:00.000000000",
          "2033-03-01T00:00:00.000000000",
          "2033-04-01T00:00:00.000000000",
          "2033-05-01T00:00:00.000000000",
          "2033-06-01T00:00:00.000000000",
          "2033-07-01T00:00:00.000000000",
          "2033-08-01T00:00:00.000000000",
          "2033-09-01T00:00:00.000000000",
          "2033-10-01T00:00:00.000000000",
          "2033-11-01T00:00:00.000000000",
          "2033-12-01T00:00:00.000000000",
          "2034-01-01T00:00:00.000000000",
          "2034-02-01T00:00:00.000000000",
          "2034-03-01T00:00:00.000000000",
          "2034-04-01T00:00:00.000000000",
          "2034-05-01T00:00:00.000000000",
          "2034-06-01T00:00:00.000000000",
          "2034-07-01T00:00:00.000000000",
          "2034-08-01T00:00:00.000000000",
          "2034-09-01T00:00:00.000000000",
          "2034-10-01T00:00:00.000000000",
          "2034-11-01T00:00:00.000000000",
          "2034-12-01T00:00:00.000000000",
          "2035-01-01T00:00:00.000000000",
          "2035-02-01T00:00:00.000000000",
          "2035-03-01T00:00:00.000000000",
          "2035-04-01T00:00:00.000000000",
          "2035-05-01T00:00:00.000000000",
          "2035-06-01T00:00:00.000000000",
          "2035-07-01T00:00:00.000000000",
          "2035-08-01T00:00:00.000000000",
          "2035-09-01T00:00:00.000000000",
          "2035-10-01T00:00:00.000000000",
          "2035-11-01T00:00:00.000000000",
          "2035-12-01T00:00:00.000000000",
          "2036-01-01T00:00:00.000000000",
          "2036-02-01T00:00:00.000000000",
          "2036-03-01T00:00:00.000000000",
          "2036-04-01T00:00:00.000000000",
          "2036-05-01T00:00:00.000000000",
          "2036-06-01T00:00:00.000000000",
          "2036-07-01T00:00:00.000000000",
          "2036-08-01T00:00:00.000000000",
          "2036-09-01T00:00:00.000000000",
          "2036-10-01T00:00:00.000000000",
          "2036-11-01T00:00:00.000000000",
          "2036-12-01T00:00:00.000000000",
          "2037-01-01T00:00:00.000000000",
          "2037-02-01T00:00:00.000000000",
          "2037-03-01T00:00:00.000000000",
          "2037-04-01T00:00:00.000000000",
          "2037-05-01T00:00:00.000000000",
          "2037-06-01T00:00:00.000000000",
          "2037-07-01T00:00:00.000000000",
          "2037-08-01T00:00:00.000000000",
          "2037-09-01T00:00:00.000000000",
          "2037-10-01T00:00:00.000000000",
          "2037-11-01T00:00:00.000000000",
          "2037-12-01T00:00:00.000000000",
          "2038-01-01T00:00:00.000000000",
          "2038-02-01T00:00:00.000000000",
          "2038-03-01T00:00:00.000000000",
          "2038-04-01T00:00:00.000000000",
          "2038-05-01T00:00:00.000000000",
          "2038-06-01T00:00:00.000000000",
          "2038-07-01T00:00:00.000000000",
          "2038-08-01T00:00:00.000000000",
          "2038-09-01T00:00:00.000000000",
          "2038-10-01T00:00:00.000000000",
          "2038-11-01T00:00:00.000000000",
          "2038-12-01T00:00:00.000000000",
          "2039-01-01T00:00:00.000000000",
          "2039-02-01T00:00:00.000000000",
          "2039-03-01T00:00:00.000000000",
          "2039-04-01T00:00:00.000000000",
          "2039-05-01T00:00:00.000000000",
          "2039-06-01T00:00:00.000000000",
          "2039-07-01T00:00:00.000000000",
          "2039-08-01T00:00:00.000000000",
          "2039-09-01T00:00:00.000000000",
          "2039-10-01T00:00:00.000000000",
          "2039-11-01T00:00:00.000000000",
          "2039-12-01T00:00:00.000000000",
          "2040-01-01T00:00:00.000000000",
          "2040-02-01T00:00:00.000000000",
          "2040-03-01T00:00:00.000000000",
          "2040-04-01T00:00:00.000000000",
          "2040-05-01T00:00:00.000000000",
          "2040-06-01T00:00:00.000000000",
          "2040-07-01T00:00:00.000000000",
          "2040-08-01T00:00:00.000000000",
          "2040-09-01T00:00:00.000000000",
          "2040-10-01T00:00:00.000000000",
          "2040-11-01T00:00:00.000000000",
          "2040-12-01T00:00:00.000000000",
          "2041-01-01T00:00:00.000000000",
          "2041-02-01T00:00:00.000000000",
          "2041-03-01T00:00:00.000000000",
          "2041-04-01T00:00:00.000000000",
          "2041-05-01T00:00:00.000000000",
          "2041-06-01T00:00:00.000000000",
          "2041-07-01T00:00:00.000000000",
          "2041-08-01T00:00:00.000000000",
          "2041-09-01T00:00:00.000000000",
          "2041-10-01T00:00:00.000000000",
          "2041-11-01T00:00:00.000000000",
          "2041-12-01T00:00:00.000000000",
          "2042-01-01T00:00:00.000000000",
          "2042-02-01T00:00:00.000000000",
          "2042-03-01T00:00:00.000000000",
          "2042-04-01T00:00:00.000000000",
          "2042-05-01T00:00:00.000000000",
          "2042-06-01T00:00:00.000000000",
          "2042-07-01T00:00:00.000000000",
          "2042-08-01T00:00:00.000000000",
          "2042-09-01T00:00:00.000000000",
          "2042-10-01T00:00:00.000000000",
          "2042-11-01T00:00:00.000000000"
         ],
         "y": {
          "bdata": "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",
          "dtype": "f8"
         }
        }
       ],
       "layout": {
        "barmode": "stack",
        "template": {
         "data": {
          "bar": [
           {
            "error_x": {
             "color": "#2a3f5f"
            },
            "error_y": {
             "color": "#2a3f5f"
            },
            "marker": {
             "line": {
              "color": "white",
              "width": 0.5
             },
             "pattern": {
              "fillmode": "overlay",
              "size": 10,
              "solidity": 0.2
             }
            },
            "type": "bar"
           }
          ],
          "barpolar": [
           {
            "marker": {
             "line": {
              "color": "white",
              "width": 0.5
             },
             "pattern": {
              "fillmode": "overlay",
              "size": 10,
              "solidity": 0.2
             }
            },
            "type": "barpolar"
           }
          ],
          "carpet": [
           {
            "aaxis": {
             "endlinecolor": "#2a3f5f",
             "gridcolor": "#C8D4E3",
             "linecolor": "#C8D4E3",
             "minorgridcolor": "#C8D4E3",
             "startlinecolor": "#2a3f5f"
            },
            "baxis": {
             "endlinecolor": "#2a3f5f",
             "gridcolor": "#C8D4E3",
             "linecolor": "#C8D4E3",
             "minorgridcolor": "#C8D4E3",
             "startlinecolor": "#2a3f5f"
            },
            "type": "carpet"
           }
          ],
          "choropleth": [
           {
            "colorbar": {
             "outlinewidth": 0,
             "ticks": ""
            },
            "type": "choropleth"
           }
          ],
          "contour": [
           {
            "colorbar": {
             "outlinewidth": 0,
             "ticks": ""
            },
            "colorscale": [
             [
              0,
              "#0d0887"
             ],
             [
              0.1111111111111111,
              "#46039f"
             ],
             [
              0.2222222222222222,
              "#7201a8"
             ],
             [
              0.3333333333333333,
              "#9c179e"
             ],
             [
              0.4444444444444444,
              "#bd3786"
             ],
             [
              0.5555555555555556,
              "#d8576b"
             ],
             [
              0.6666666666666666,
              "#ed7953"
             ],
             [
              0.7777777777777778,
              "#fb9f3a"
             ],
             [
              0.8888888888888888,
              "#fdca26"
             ],
             [
              1,
              "#f0f921"
             ]
            ],
            "type": "contour"
           }
          ],
          "contourcarpet": [
           {
            "colorbar": {
             "outlinewidth": 0,
             "ticks": ""
            },
            "type": "contourcarpet"
           }
          ],
          "heatmap": [
           {
            "colorbar": {
             "outlinewidth": 0,
             "ticks": ""
            },
            "colorscale": [
             [
              0,
              "#0d0887"
             ],
             [
              0.1111111111111111,
              "#46039f"
             ],
             [
              0.2222222222222222,
              "#7201a8"
             ],
             [
              0.3333333333333333,
              "#9c179e"
             ],
             [
              0.4444444444444444,
              "#bd3786"
             ],
             [
              0.5555555555555556,
              "#d8576b"
             ],
             [
              0.6666666666666666,
              "#ed7953"
             ],
             [
              0.7777777777777778,
              "#fb9f3a"
             ],
             [
              0.8888888888888888,
              "#fdca26"
             ],
             [
              1,
              "#f0f921"
             ]
            ],
            "type": "heatmap"
           }
          ],
          "histogram": [
           {
            "marker": {
             "pattern": {
              "fillmode": "overlay",
              "size": 10,
              "solidity": 0.2
             }
            },
            "type": "histogram"
           }
          ],
          "histogram2d": [
           {
            "colorbar": {
             "outlinewidth": 0,
             "ticks": ""
            },
            "colorscale": [
             [
              0,
              "#0d0887"
             ],
             [
              0.1111111111111111,
              "#46039f"
             ],
             [
              0.2222222222222222,
              "#7201a8"
             ],
             [
              0.3333333333333333,
              "#9c179e"
             ],
             [
              0.4444444444444444,
              "#bd3786"
             ],
             [
              0.5555555555555556,
              "#d8576b"
             ],
             [
              0.6666666666666666,
              "#ed7953"
             ],
             [
              0.7777777777777778,
              "#fb9f3a"
             ],
             [
              0.8888888888888888,
              "#fdca26"
             ],
             [
              1,
              "#f0f921"
             ]
            ],
            "type": "histogram2d"
           }
          ],
          "histogram2dcontour": [
           {
            "colorbar": {
             "outlinewidth": 0,
             "ticks": ""
            },
            "colorscale": [
             [
              0,
              "#0d0887"
             ],
             [
              0.1111111111111111,
              "#46039f"
             ],
             [
              0.2222222222222222,
              "#7201a8"
             ],
             [
              0.3333333333333333,
              "#9c179e"
             ],
             [
              0.4444444444444444,
              "#bd3786"
             ],
             [
              0.5555555555555556,
              "#d8576b"
             ],
             [
              0.6666666666666666,
              "#ed7953"
             ],
             [
              0.7777777777777778,
              "#fb9f3a"
             ],
             [
              0.8888888888888888,
              "#fdca26"
             ],
             [
              1,
              "#f0f921"
             ]
            ],
            "type": "histogram2dcontour"
           }
          ],
          "mesh3d": [
           {
            "colorbar": {
             "outlinewidth": 0,
             "ticks": ""
            },
            "type": "mesh3d"
           }
          ],
          "parcoords": [
           {
            "line": {
             "colorbar": {
              "outlinewidth": 0,
              "ticks": ""
             }
            },
            "type": "parcoords"
           }
          ],
          "pie": [
           {
            "automargin": true,
            "type": "pie"
           }
          ],
          "scatter": [
           {
            "fillpattern": {
             "fillmode": "overlay",
             "size": 10,
             "solidity": 0.2
            },
            "type": "scatter"
           }
          ],
          "scatter3d": [
           {
            "line": {
             "colorbar": {
              "outlinewidth": 0,
              "ticks": ""
             }
            },
            "marker": {
             "colorbar": {
              "outlinewidth": 0,
              "ticks": ""
             }
            },
            "type": "scatter3d"
           }
          ],
          "scattercarpet": [
           {
            "marker": {
             "colorbar": {
              "outlinewidth": 0,
              "ticks": ""
             }
            },
            "type": "scattercarpet"
           }
          ],
          "scattergeo": [
           {
            "marker": {
             "colorbar": {
              "outlinewidth": 0,
              "ticks": ""
             }
            },
            "type": "scattergeo"
           }
          ],
          "scattergl": [
           {
            "marker": {
             "colorbar": {
              "outlinewidth": 0,
              "ticks": ""
             }
            },
            "type": "scattergl"
           }
          ],
          "scattermap": [
           {
            "marker": {
             "colorbar": {
              "outlinewidth": 0,
              "ticks": ""
             }
            },
            "type": "scattermap"
           }
          ],
          "scattermapbox": [
           {
            "marker": {
             "colorbar": {
              "outlinewidth": 0,
              "ticks": ""
             }
            },
            "type": "scattermapbox"
           }
          ],
          "scatterpolar": [
           {
            "marker": {
             "colorbar": {
              "outlinewidth": 0,
              "ticks": ""
             }
            },
            "type": "scatterpolar"
           }
          ],
          "scatterpolargl": [
           {
            "marker": {
             "colorbar": {
              "outlinewidth": 0,
              "ticks": ""
             }
            },
            "type": "scatterpolargl"
           }
          ],
          "scatterternary": [
           {
            "marker": {
             "colorbar": {
              "outlinewidth": 0,
              "ticks": ""
             }
            },
            "type": "scatterternary"
           }
          ],
          "surface": [
           {
            "colorbar": {
             "outlinewidth": 0,
             "ticks": ""
            },
            "colorscale": [
             [
              0,
              "#0d0887"
             ],
             [
              0.1111111111111111,
              "#46039f"
             ],
             [
              0.2222222222222222,
              "#7201a8"
             ],
             [
              0.3333333333333333,
              "#9c179e"
             ],
             [
              0.4444444444444444,
              "#bd3786"
             ],
             [
              0.5555555555555556,
              "#d8576b"
             ],
             [
              0.6666666666666666,
              "#ed7953"
             ],
             [
              0.7777777777777778,
              "#fb9f3a"
             ],
             [
              0.8888888888888888,
              "#fdca26"
             ],
             [
              1,
              "#f0f921"
             ]
            ],
            "type": "surface"
           }
          ],
          "table": [
           {
            "cells": {
             "fill": {
              "color": "#EBF0F8"
             },
             "line": {
              "color": "white"
             }
            },
            "header": {
             "fill": {
              "color": "#C8D4E3"
             },
             "line": {
              "color": "white"
             }
            },
            "type": "table"
           }
          ]
         },
         "layout": {
          "annotationdefaults": {
           "arrowcolor": "#2a3f5f",
           "arrowhead": 0,
           "arrowwidth": 1
          },
          "autotypenumbers": "strict",
          "coloraxis": {
           "colorbar": {
            "outlinewidth": 0,
            "ticks": ""
           }
          },
          "colorscale": {
           "diverging": [
            [
             0,
             "#8e0152"
            ],
            [
             0.1,
             "#c51b7d"
            ],
            [
             0.2,
             "#de77ae"
            ],
            [
             0.3,
             "#f1b6da"
            ],
            [
             0.4,
             "#fde0ef"
            ],
            [
             0.5,
             "#f7f7f7"
            ],
            [
             0.6,
             "#e6f5d0"
            ],
            [
             0.7,
             "#b8e186"
            ],
            [
             0.8,
             "#7fbc41"
            ],
            [
             0.9,
             "#4d9221"
            ],
            [
             1,
             "#276419"
            ]
           ],
           "sequential": [
            [
             0,
             "#0d0887"
            ],
            [
             0.1111111111111111,
             "#46039f"
            ],
            [
             0.2222222222222222,
             "#7201a8"
            ],
            [
             0.3333333333333333,
             "#9c179e"
            ],
            [
             0.4444444444444444,
             "#bd3786"
            ],
            [
             0.5555555555555556,
             "#d8576b"
            ],
            [
             0.6666666666666666,
             "#ed7953"
            ],
            [
             0.7777777777777778,
             "#fb9f3a"
            ],
            [
             0.8888888888888888,
             "#fdca26"
            ],
            [
             1,
             "#f0f921"
            ]
           ],
           "sequentialminus": [
            [
             0,
             "#0d0887"
            ],
            [
             0.1111111111111111,
             "#46039f"
            ],
            [
             0.2222222222222222,
             "#7201a8"
            ],
            [
             0.3333333333333333,
             "#9c179e"
            ],
            [
             0.4444444444444444,
             "#bd3786"
            ],
            [
             0.5555555555555556,
             "#d8576b"
            ],
            [
             0.6666666666666666,
             "#ed7953"
            ],
            [
             0.7777777777777778,
             "#fb9f3a"
            ],
            [
             0.8888888888888888,
             "#fdca26"
            ],
            [
             1,
             "#f0f921"
            ]
           ]
          },
          "colorway": [
           "#636efa",
           "#EF553B",
           "#00cc96",
           "#ab63fa",
           "#FFA15A",
           "#19d3f3",
           "#FF6692",
           "#B6E880",
           "#FF97FF",
           "#FECB52"
          ],
          "font": {
           "color": "#2a3f5f"
          },
          "geo": {
           "bgcolor": "white",
           "lakecolor": "white",
           "landcolor": "white",
           "showlakes": true,
           "showland": true,
           "subunitcolor": "#C8D4E3"
          },
          "hoverlabel": {
           "align": "left"
          },
          "hovermode": "closest",
          "mapbox": {
           "style": "light"
          },
          "paper_bgcolor": "white",
          "plot_bgcolor": "white",
          "polar": {
           "angularaxis": {
            "gridcolor": "#EBF0F8",
            "linecolor": "#EBF0F8",
            "ticks": ""
           },
           "bgcolor": "white",
           "radialaxis": {
            "gridcolor": "#EBF0F8",
            "linecolor": "#EBF0F8",
            "ticks": ""
           }
          },
          "scene": {
           "xaxis": {
            "backgroundcolor": "white",
            "gridcolor": "#DFE8F3",
            "gridwidth": 2,
            "linecolor": "#EBF0F8",
            "showbackground": true,
            "ticks": "",
            "zerolinecolor": "#EBF0F8"
           },
           "yaxis": {
            "backgroundcolor": "white",
            "gridcolor": "#DFE8F3",
            "gridwidth": 2,
            "linecolor": "#EBF0F8",
            "showbackground": true,
            "ticks": "",
            "zerolinecolor": "#EBF0F8"
           },
           "zaxis": {
            "backgroundcolor": "white",
            "gridcolor": "#DFE8F3",
            "gridwidth": 2,
            "linecolor": "#EBF0F8",
            "showbackground": true,
            "ticks": "",
            "zerolinecolor": "#EBF0F8"
           }
          },
          "shapedefaults": {
           "line": {
            "color": "#2a3f5f"
           }
          },
          "ternary": {
           "aaxis": {
            "gridcolor": "#DFE8F3",
            "linecolor": "#A2B1C6",
            "ticks": ""
           },
           "baxis": {
            "gridcolor": "#DFE8F3",
            "linecolor": "#A2B1C6",
            "ticks": ""
           },
           "bgcolor": "white",
           "caxis": {
            "gridcolor": "#DFE8F3",
            "linecolor": "#A2B1C6",
            "ticks": ""
           }
          },
          "title": {
           "x": 0.05
          },
          "xaxis": {
           "automargin": true,
           "gridcolor": "#EBF0F8",
           "linecolor": "#EBF0F8",
           "ticks": "",
           "title": {
            "standoff": 15
           },
           "zerolinecolor": "#EBF0F8",
           "zerolinewidth": 2
          },
          "yaxis": {
           "automargin": true,
           "gridcolor": "#EBF0F8",
           "linecolor": "#EBF0F8",
           "ticks": "",
           "title": {
            "standoff": 15
           },
           "zerolinecolor": "#EBF0F8",
           "zerolinewidth": 2
          }
         }
        },
        "title": {
         "text": "Evolución de la OEF por Tipo de Generación"
        },
        "xaxis": {
         "title": {
          "text": "Año"
         }
        },
        "yaxis": {
         "title": {
          "text": "GWh"
         }
        }
       }
      }
     },
     "metadata": {},
     "output_type": "display_data"
    }
   ],
   "source": [
    "df_diario_oef = expandir_fechas(df_completo, \"FechaInicioObligacion\", \"FechaFinObligacion\", [\"OEFDiaria\", \"TipoGeneracion\", \"TipoSubasta\"])  # Se crea un DataFrame con los registros diarios\n",
    "\n",
    "df_diario_oef[\"Mes\"] = df_diario_oef[\"Fecha\"].dt.to_period(\"M\").dt.to_timestamp()               # Se agrupa por mes y se calcula la oef\n",
    "df_oef_tipoG = df_diario_oef.groupby([\"Mes\", \"TipoGeneracion\"])[\"OEFDiaria\"].sum().reset_index()     \n",
    "df_oef_tipoG['OEFDiaria'] = df_oef_tipoG['OEFDiaria']/1000000                                   # Se pasa a Gwh como unidad de medida\n",
    "\n",
    "fig = go.Figure()                                                                               # Se crea el objeto de gráfica\n",
    "\n",
    "for tipo in df_oef_tipoG[\"TipoGeneracion\"].dropna().unique():                                   # Se añade una línea por cada tipo de generación\n",
    "    tipo_data = df_oef_tipoG[df_oef_tipoG[\"TipoGeneracion\"] == tipo]\n",
    "    fig.add_trace(go.Bar(\n",
    "        x=tipo_data[\"Mes\"],                                                                     # Valores Eje X\n",
    "        y=tipo_data[\"OEFDiaria\"],                                                               # Valores Eje Y\n",
    "        name=tipo                                                                               # Nombre de la línea\n",
    "    ))\n",
    "\n",
    "fig.update_layout(                                                                              # Se configura el diseño del gráfico\n",
    "    title=\"Evolución de la OEF por Tipo de Generación\",                                         # Título del gráfico\n",
    "    xaxis_title=\"Año\",                                                                          # Título Eje X\n",
    "    yaxis_title=\"GWh\",                                                                          # Título Eje Y\n",
    "    template=\"plotly_white\",\n",
    "    barmode='stack'                                                                             # Agrupa las barras por categoría\n",
    ")\n",
    "\n",
    "fig.show()                                                                                      # Se muestra el gráfico"
   ]
  },
  {
   "cell_type": "code",
   "execution_count": 13,
   "metadata": {},
   "outputs": [
    {
     "data": {
      "application/vnd.plotly.v1+json": {
       "config": {
        "plotlyServerURL": "https://plot.ly"
       },
       "data": [
        {
         "type": "bar",
         "x": [
          "2021-01-01T00:00:00.000000000",
          "2022-01-01T00:00:00.000000000",
          "2023-01-01T00:00:00.000000000",
          "2024-01-01T00:00:00.000000000",
          "2025-01-01T00:00:00.000000000",
          "2026-01-01T00:00:00.000000000",
          "2027-01-01T00:00:00.000000000",
          "2028-01-01T00:00:00.000000000",
          "2029-01-01T00:00:00.000000000",
          "2030-01-01T00:00:00.000000000",
          "2031-01-01T00:00:00.000000000",
          "2032-01-01T00:00:00.000000000",
          "2033-01-01T00:00:00.000000000",
          "2034-01-01T00:00:00.000000000",
          "2035-01-01T00:00:00.000000000",
          "2036-01-01T00:00:00.000000000",
          "2037-01-01T00:00:00.000000000",
          "2038-01-01T00:00:00.000000000",
          "2039-01-01T00:00:00.000000000",
          "2040-01-01T00:00:00.000000000",
          "2041-01-01T00:00:00.000000000",
          "2042-01-01T00:00:00.000000000",
          "2043-01-01T00:00:00.000000000",
          "2044-01-01T00:00:00.000000000",
          "2045-01-01T00:00:00.000000000",
          "2046-01-01T00:00:00.000000000",
          "2047-01-01T00:00:00.000000000"
         ],
         "y": {
          "bdata": "knh5OrNdsUA8ZwsIpjnqQFtB0xJglOlAzApFOkWl9UDF4jcFB1n2QPEpAEaJvvFA0jWTr/EA8kAOg/krDObxQIHPDyMWq9pAgc8PIxar2kBrgNJQ3LXZQFCm0eQ0Fc5AopbmVqx4xUAxCKwc9jvEQG3/ykr3MMRAx/SEJVbIw0DyQjo8aqbDQE7S/DEjOsJA3sg88qMBuEB97C5QehK4QN7IPPKjAbhAzR39L1sMt0Aai6azO3OpQDRkPEoVhalAGoumsztzqUAai6azO3OpQN1AgXfiSadA",
          "dtype": "f8"
         }
        }
       ],
       "layout": {
        "template": {
         "data": {
          "bar": [
           {
            "error_x": {
             "color": "#2a3f5f"
            },
            "error_y": {
             "color": "#2a3f5f"
            },
            "marker": {
             "line": {
              "color": "white",
              "width": 0.5
             },
             "pattern": {
              "fillmode": "overlay",
              "size": 10,
              "solidity": 0.2
             }
            },
            "type": "bar"
           }
          ],
          "barpolar": [
           {
            "marker": {
             "line": {
              "color": "white",
              "width": 0.5
             },
             "pattern": {
              "fillmode": "overlay",
              "size": 10,
              "solidity": 0.2
             }
            },
            "type": "barpolar"
           }
          ],
          "carpet": [
           {
            "aaxis": {
             "endlinecolor": "#2a3f5f",
             "gridcolor": "#C8D4E3",
             "linecolor": "#C8D4E3",
             "minorgridcolor": "#C8D4E3",
             "startlinecolor": "#2a3f5f"
            },
            "baxis": {
             "endlinecolor": "#2a3f5f",
             "gridcolor": "#C8D4E3",
             "linecolor": "#C8D4E3",
             "minorgridcolor": "#C8D4E3",
             "startlinecolor": "#2a3f5f"
            },
            "type": "carpet"
           }
          ],
          "choropleth": [
           {
            "colorbar": {
             "outlinewidth": 0,
             "ticks": ""
            },
            "type": "choropleth"
           }
          ],
          "contour": [
           {
            "colorbar": {
             "outlinewidth": 0,
             "ticks": ""
            },
            "colorscale": [
             [
              0,
              "#0d0887"
             ],
             [
              0.1111111111111111,
              "#46039f"
             ],
             [
              0.2222222222222222,
              "#7201a8"
             ],
             [
              0.3333333333333333,
              "#9c179e"
             ],
             [
              0.4444444444444444,
              "#bd3786"
             ],
             [
              0.5555555555555556,
              "#d8576b"
             ],
             [
              0.6666666666666666,
              "#ed7953"
             ],
             [
              0.7777777777777778,
              "#fb9f3a"
             ],
             [
              0.8888888888888888,
              "#fdca26"
             ],
             [
              1,
              "#f0f921"
             ]
            ],
            "type": "contour"
           }
          ],
          "contourcarpet": [
           {
            "colorbar": {
             "outlinewidth": 0,
             "ticks": ""
            },
            "type": "contourcarpet"
           }
          ],
          "heatmap": [
           {
            "colorbar": {
             "outlinewidth": 0,
             "ticks": ""
            },
            "colorscale": [
             [
              0,
              "#0d0887"
             ],
             [
              0.1111111111111111,
              "#46039f"
             ],
             [
              0.2222222222222222,
              "#7201a8"
             ],
             [
              0.3333333333333333,
              "#9c179e"
             ],
             [
              0.4444444444444444,
              "#bd3786"
             ],
             [
              0.5555555555555556,
              "#d8576b"
             ],
             [
              0.6666666666666666,
              "#ed7953"
             ],
             [
              0.7777777777777778,
              "#fb9f3a"
             ],
             [
              0.8888888888888888,
              "#fdca26"
             ],
             [
              1,
              "#f0f921"
             ]
            ],
            "type": "heatmap"
           }
          ],
          "histogram": [
           {
            "marker": {
             "pattern": {
              "fillmode": "overlay",
              "size": 10,
              "solidity": 0.2
             }
            },
            "type": "histogram"
           }
          ],
          "histogram2d": [
           {
            "colorbar": {
             "outlinewidth": 0,
             "ticks": ""
            },
            "colorscale": [
             [
              0,
              "#0d0887"
             ],
             [
              0.1111111111111111,
              "#46039f"
             ],
             [
              0.2222222222222222,
              "#7201a8"
             ],
             [
              0.3333333333333333,
              "#9c179e"
             ],
             [
              0.4444444444444444,
              "#bd3786"
             ],
             [
              0.5555555555555556,
              "#d8576b"
             ],
             [
              0.6666666666666666,
              "#ed7953"
             ],
             [
              0.7777777777777778,
              "#fb9f3a"
             ],
             [
              0.8888888888888888,
              "#fdca26"
             ],
             [
              1,
              "#f0f921"
             ]
            ],
            "type": "histogram2d"
           }
          ],
          "histogram2dcontour": [
           {
            "colorbar": {
             "outlinewidth": 0,
             "ticks": ""
            },
            "colorscale": [
             [
              0,
              "#0d0887"
             ],
             [
              0.1111111111111111,
              "#46039f"
             ],
             [
              0.2222222222222222,
              "#7201a8"
             ],
             [
              0.3333333333333333,
              "#9c179e"
             ],
             [
              0.4444444444444444,
              "#bd3786"
             ],
             [
              0.5555555555555556,
              "#d8576b"
             ],
             [
              0.6666666666666666,
              "#ed7953"
             ],
             [
              0.7777777777777778,
              "#fb9f3a"
             ],
             [
              0.8888888888888888,
              "#fdca26"
             ],
             [
              1,
              "#f0f921"
             ]
            ],
            "type": "histogram2dcontour"
           }
          ],
          "mesh3d": [
           {
            "colorbar": {
             "outlinewidth": 0,
             "ticks": ""
            },
            "type": "mesh3d"
           }
          ],
          "parcoords": [
           {
            "line": {
             "colorbar": {
              "outlinewidth": 0,
              "ticks": ""
             }
            },
            "type": "parcoords"
           }
          ],
          "pie": [
           {
            "automargin": true,
            "type": "pie"
           }
          ],
          "scatter": [
           {
            "fillpattern": {
             "fillmode": "overlay",
             "size": 10,
             "solidity": 0.2
            },
            "type": "scatter"
           }
          ],
          "scatter3d": [
           {
            "line": {
             "colorbar": {
              "outlinewidth": 0,
              "ticks": ""
             }
            },
            "marker": {
             "colorbar": {
              "outlinewidth": 0,
              "ticks": ""
             }
            },
            "type": "scatter3d"
           }
          ],
          "scattercarpet": [
           {
            "marker": {
             "colorbar": {
              "outlinewidth": 0,
              "ticks": ""
             }
            },
            "type": "scattercarpet"
           }
          ],
          "scattergeo": [
           {
            "marker": {
             "colorbar": {
              "outlinewidth": 0,
              "ticks": ""
             }
            },
            "type": "scattergeo"
           }
          ],
          "scattergl": [
           {
            "marker": {
             "colorbar": {
              "outlinewidth": 0,
              "ticks": ""
             }
            },
            "type": "scattergl"
           }
          ],
          "scattermap": [
           {
            "marker": {
             "colorbar": {
              "outlinewidth": 0,
              "ticks": ""
             }
            },
            "type": "scattermap"
           }
          ],
          "scattermapbox": [
           {
            "marker": {
             "colorbar": {
              "outlinewidth": 0,
              "ticks": ""
             }
            },
            "type": "scattermapbox"
           }
          ],
          "scatterpolar": [
           {
            "marker": {
             "colorbar": {
              "outlinewidth": 0,
              "ticks": ""
             }
            },
            "type": "scatterpolar"
           }
          ],
          "scatterpolargl": [
           {
            "marker": {
             "colorbar": {
              "outlinewidth": 0,
              "ticks": ""
             }
            },
            "type": "scatterpolargl"
           }
          ],
          "scatterternary": [
           {
            "marker": {
             "colorbar": {
              "outlinewidth": 0,
              "ticks": ""
             }
            },
            "type": "scatterternary"
           }
          ],
          "surface": [
           {
            "colorbar": {
             "outlinewidth": 0,
             "ticks": ""
            },
            "colorscale": [
             [
              0,
              "#0d0887"
             ],
             [
              0.1111111111111111,
              "#46039f"
             ],
             [
              0.2222222222222222,
              "#7201a8"
             ],
             [
              0.3333333333333333,
              "#9c179e"
             ],
             [
              0.4444444444444444,
              "#bd3786"
             ],
             [
              0.5555555555555556,
              "#d8576b"
             ],
             [
              0.6666666666666666,
              "#ed7953"
             ],
             [
              0.7777777777777778,
              "#fb9f3a"
             ],
             [
              0.8888888888888888,
              "#fdca26"
             ],
             [
              1,
              "#f0f921"
             ]
            ],
            "type": "surface"
           }
          ],
          "table": [
           {
            "cells": {
             "fill": {
              "color": "#EBF0F8"
             },
             "line": {
              "color": "white"
             }
            },
            "header": {
             "fill": {
              "color": "#C8D4E3"
             },
             "line": {
              "color": "white"
             }
            },
            "type": "table"
           }
          ]
         },
         "layout": {
          "annotationdefaults": {
           "arrowcolor": "#2a3f5f",
           "arrowhead": 0,
           "arrowwidth": 1
          },
          "autotypenumbers": "strict",
          "coloraxis": {
           "colorbar": {
            "outlinewidth": 0,
            "ticks": ""
           }
          },
          "colorscale": {
           "diverging": [
            [
             0,
             "#8e0152"
            ],
            [
             0.1,
             "#c51b7d"
            ],
            [
             0.2,
             "#de77ae"
            ],
            [
             0.3,
             "#f1b6da"
            ],
            [
             0.4,
             "#fde0ef"
            ],
            [
             0.5,
             "#f7f7f7"
            ],
            [
             0.6,
             "#e6f5d0"
            ],
            [
             0.7,
             "#b8e186"
            ],
            [
             0.8,
             "#7fbc41"
            ],
            [
             0.9,
             "#4d9221"
            ],
            [
             1,
             "#276419"
            ]
           ],
           "sequential": [
            [
             0,
             "#0d0887"
            ],
            [
             0.1111111111111111,
             "#46039f"
            ],
            [
             0.2222222222222222,
             "#7201a8"
            ],
            [
             0.3333333333333333,
             "#9c179e"
            ],
            [
             0.4444444444444444,
             "#bd3786"
            ],
            [
             0.5555555555555556,
             "#d8576b"
            ],
            [
             0.6666666666666666,
             "#ed7953"
            ],
            [
             0.7777777777777778,
             "#fb9f3a"
            ],
            [
             0.8888888888888888,
             "#fdca26"
            ],
            [
             1,
             "#f0f921"
            ]
           ],
           "sequentialminus": [
            [
             0,
             "#0d0887"
            ],
            [
             0.1111111111111111,
             "#46039f"
            ],
            [
             0.2222222222222222,
             "#7201a8"
            ],
            [
             0.3333333333333333,
             "#9c179e"
            ],
            [
             0.4444444444444444,
             "#bd3786"
            ],
            [
             0.5555555555555556,
             "#d8576b"
            ],
            [
             0.6666666666666666,
             "#ed7953"
            ],
            [
             0.7777777777777778,
             "#fb9f3a"
            ],
            [
             0.8888888888888888,
             "#fdca26"
            ],
            [
             1,
             "#f0f921"
            ]
           ]
          },
          "colorway": [
           "#636efa",
           "#EF553B",
           "#00cc96",
           "#ab63fa",
           "#FFA15A",
           "#19d3f3",
           "#FF6692",
           "#B6E880",
           "#FF97FF",
           "#FECB52"
          ],
          "font": {
           "color": "#2a3f5f"
          },
          "geo": {
           "bgcolor": "white",
           "lakecolor": "white",
           "landcolor": "white",
           "showlakes": true,
           "showland": true,
           "subunitcolor": "#C8D4E3"
          },
          "hoverlabel": {
           "align": "left"
          },
          "hovermode": "closest",
          "mapbox": {
           "style": "light"
          },
          "paper_bgcolor": "white",
          "plot_bgcolor": "white",
          "polar": {
           "angularaxis": {
            "gridcolor": "#EBF0F8",
            "linecolor": "#EBF0F8",
            "ticks": ""
           },
           "bgcolor": "white",
           "radialaxis": {
            "gridcolor": "#EBF0F8",
            "linecolor": "#EBF0F8",
            "ticks": ""
           }
          },
          "scene": {
           "xaxis": {
            "backgroundcolor": "white",
            "gridcolor": "#DFE8F3",
            "gridwidth": 2,
            "linecolor": "#EBF0F8",
            "showbackground": true,
            "ticks": "",
            "zerolinecolor": "#EBF0F8"
           },
           "yaxis": {
            "backgroundcolor": "white",
            "gridcolor": "#DFE8F3",
            "gridwidth": 2,
            "linecolor": "#EBF0F8",
            "showbackground": true,
            "ticks": "",
            "zerolinecolor": "#EBF0F8"
           },
           "zaxis": {
            "backgroundcolor": "white",
            "gridcolor": "#DFE8F3",
            "gridwidth": 2,
            "linecolor": "#EBF0F8",
            "showbackground": true,
            "ticks": "",
            "zerolinecolor": "#EBF0F8"
           }
          },
          "shapedefaults": {
           "line": {
            "color": "#2a3f5f"
           }
          },
          "ternary": {
           "aaxis": {
            "gridcolor": "#DFE8F3",
            "linecolor": "#A2B1C6",
            "ticks": ""
           },
           "baxis": {
            "gridcolor": "#DFE8F3",
            "linecolor": "#A2B1C6",
            "ticks": ""
           },
           "bgcolor": "white",
           "caxis": {
            "gridcolor": "#DFE8F3",
            "linecolor": "#A2B1C6",
            "ticks": ""
           }
          },
          "title": {
           "x": 0.05
          },
          "xaxis": {
           "automargin": true,
           "gridcolor": "#EBF0F8",
           "linecolor": "#EBF0F8",
           "ticks": "",
           "title": {
            "standoff": 15
           },
           "zerolinecolor": "#EBF0F8",
           "zerolinewidth": 2
          },
          "yaxis": {
           "automargin": true,
           "gridcolor": "#EBF0F8",
           "linecolor": "#EBF0F8",
           "ticks": "",
           "title": {
            "standoff": 15
           },
           "zerolinecolor": "#EBF0F8",
           "zerolinewidth": 2
          }
         }
        },
        "title": {
         "text": "OEF por Año Cargo"
        },
        "xaxis": {
         "title": {
          "text": "Año Cargo"
         }
        },
        "yaxis": {
         "title": {
          "text": "GWh"
         }
        }
       }
      }
     },
     "metadata": {},
     "output_type": "display_data"
    }
   ],
   "source": [
    "df_diario_oef[\"Año\"] = df_diario_oef[\"Fecha\"].dt.to_period(\"Y\").dt.to_timestamp()   # Se agrupa por año y se calcula la oef\n",
    "df_año_cargo = df_diario_oef.groupby([\"Año\"])[\"OEFDiaria\"].sum().reset_index()     \n",
    "df_año_cargo['OEFDiaria'] = df_año_cargo['OEFDiaria']/1000000                       # Se pasa a Gwh como unidad de medida\n",
    "\n",
    "fig = go.Figure()                                                                   # Se crea el objeto de gráfica\n",
    "\n",
    "fig.add_trace(go.Bar(                                                               # Se añade gráfico de barras\n",
    "    x=df_año_cargo[\"Año\"],                                                          # Valores Eje X\n",
    "    y=df_año_cargo[\"OEFDiaria\"]                                                     # Valores Eje Y\n",
    "))\n",
    "\n",
    "fig.update_layout(                                                                  # Se configura el diseño del gráfico\n",
    "    title=\"OEF por Año Cargo\",                                                      # Título del gráfico\n",
    "    xaxis_title=\"Año Cargo\",                                                        # Título Eje X\n",
    "    yaxis_title=\"GWh\",                                                              # Título Eje Y\n",
    "    template=\"plotly_white\"\n",
    ")\n",
    "\n",
    "fig.show()                                                                          # Se muestra el gráfico"
   ]
  },
  {
   "cell_type": "code",
   "execution_count": 14,
   "metadata": {},
   "outputs": [
    {
     "data": {
      "application/vnd.plotly.v1+json": {
       "config": {
        "plotlyServerURL": "https://plot.ly"
       },
       "data": [
        {
         "name": "Asignación administrada",
         "type": "bar",
         "x": [
          "2021-12-01T00:00:00.000000000",
          "2022-01-01T00:00:00.000000000",
          "2022-02-01T00:00:00.000000000",
          "2022-03-01T00:00:00.000000000",
          "2022-04-01T00:00:00.000000000",
          "2022-05-01T00:00:00.000000000",
          "2022-06-01T00:00:00.000000000",
          "2022-07-01T00:00:00.000000000",
          "2022-08-01T00:00:00.000000000",
          "2022-09-01T00:00:00.000000000",
          "2022-10-01T00:00:00.000000000",
          "2022-11-01T00:00:00.000000000",
          "2023-12-01T00:00:00.000000000",
          "2024-01-01T00:00:00.000000000",
          "2024-02-01T00:00:00.000000000",
          "2024-03-01T00:00:00.000000000",
          "2024-04-01T00:00:00.000000000",
          "2024-05-01T00:00:00.000000000",
          "2024-06-01T00:00:00.000000000",
          "2024-07-01T00:00:00.000000000",
          "2024-08-01T00:00:00.000000000",
          "2024-09-01T00:00:00.000000000",
          "2024-10-01T00:00:00.000000000",
          "2024-11-01T00:00:00.000000000",
          "2024-12-01T00:00:00.000000000",
          "2025-01-01T00:00:00.000000000",
          "2025-02-01T00:00:00.000000000",
          "2025-03-01T00:00:00.000000000",
          "2025-04-01T00:00:00.000000000",
          "2025-05-01T00:00:00.000000000",
          "2025-06-01T00:00:00.000000000",
          "2025-07-01T00:00:00.000000000",
          "2025-08-01T00:00:00.000000000",
          "2025-09-01T00:00:00.000000000",
          "2025-10-01T00:00:00.000000000",
          "2025-11-01T00:00:00.000000000",
          "2025-12-01T00:00:00.000000000",
          "2026-01-01T00:00:00.000000000",
          "2026-02-01T00:00:00.000000000",
          "2026-03-01T00:00:00.000000000",
          "2026-04-01T00:00:00.000000000",
          "2026-05-01T00:00:00.000000000",
          "2026-06-01T00:00:00.000000000",
          "2026-07-01T00:00:00.000000000",
          "2026-08-01T00:00:00.000000000",
          "2026-09-01T00:00:00.000000000",
          "2026-10-01T00:00:00.000000000",
          "2026-11-01T00:00:00.000000000",
          "2026-12-01T00:00:00.000000000",
          "2027-01-01T00:00:00.000000000",
          "2027-02-01T00:00:00.000000000",
          "2027-03-01T00:00:00.000000000",
          "2027-04-01T00:00:00.000000000",
          "2027-05-01T00:00:00.000000000",
          "2027-06-01T00:00:00.000000000",
          "2027-07-01T00:00:00.000000000",
          "2027-08-01T00:00:00.000000000",
          "2027-09-01T00:00:00.000000000",
          "2027-10-01T00:00:00.000000000",
          "2027-11-01T00:00:00.000000000",
          "2027-12-01T00:00:00.000000000",
          "2028-01-01T00:00:00.000000000",
          "2028-02-01T00:00:00.000000000",
          "2028-03-01T00:00:00.000000000",
          "2028-04-01T00:00:00.000000000",
          "2028-05-01T00:00:00.000000000",
          "2028-06-01T00:00:00.000000000",
          "2028-07-01T00:00:00.000000000",
          "2028-08-01T00:00:00.000000000",
          "2028-09-01T00:00:00.000000000",
          "2028-10-01T00:00:00.000000000",
          "2028-11-01T00:00:00.000000000",
          "2028-12-01T00:00:00.000000000",
          "2029-01-01T00:00:00.000000000",
          "2029-02-01T00:00:00.000000000",
          "2029-03-01T00:00:00.000000000",
          "2029-04-01T00:00:00.000000000",
          "2029-05-01T00:00:00.000000000",
          "2029-06-01T00:00:00.000000000",
          "2029-07-01T00:00:00.000000000",
          "2029-08-01T00:00:00.000000000",
          "2029-09-01T00:00:00.000000000",
          "2029-10-01T00:00:00.000000000",
          "2029-11-01T00:00:00.000000000",
          "2029-12-01T00:00:00.000000000",
          "2030-01-01T00:00:00.000000000",
          "2030-02-01T00:00:00.000000000",
          "2030-03-01T00:00:00.000000000",
          "2030-04-01T00:00:00.000000000",
          "2030-05-01T00:00:00.000000000",
          "2030-06-01T00:00:00.000000000",
          "2030-07-01T00:00:00.000000000",
          "2030-08-01T00:00:00.000000000",
          "2030-09-01T00:00:00.000000000",
          "2030-10-01T00:00:00.000000000",
          "2030-11-01T00:00:00.000000000",
          "2030-12-01T00:00:00.000000000",
          "2031-01-01T00:00:00.000000000",
          "2031-02-01T00:00:00.000000000",
          "2031-03-01T00:00:00.000000000",
          "2031-04-01T00:00:00.000000000",
          "2031-05-01T00:00:00.000000000",
          "2031-06-01T00:00:00.000000000",
          "2031-07-01T00:00:00.000000000",
          "2031-08-01T00:00:00.000000000",
          "2031-09-01T00:00:00.000000000",
          "2031-10-01T00:00:00.000000000",
          "2031-11-01T00:00:00.000000000"
         ],
         "y": {
          "bdata": "6zU9KEjyr0DrNT0oSPKvQJOsw9HV2qxA6zU9KEjyr0B5Xb9gd+quQOs1PShI8q9AeV2/YHfqrkDrNT0oSPKvQOs1PShI8q9AeV2/YHfqrkDrNT0oSPKvQHldv2B36q5ApN++Doint0Ck374OiKe3QGB2Tx7aILZApN++Doint0ACK4cWMeS2QKTfvg6Ip7dAAiuHFjHktkCk374OiKe3QKTfvg6Ip7dAAiuHFjHktkCk374OiKe3QAIrhxYx5LZAXcKht8BQuUBdwqG3wFC5QNC3BUuV3bZAXcKht8BQuUCDaRg+sn+4QF3CobfAULlAg2kYPrJ/uEBdwqG3wFC5QF3CobfAULlAg2kYPrJ/uEBdwqG3wFC5QINpGD6yf7hAtd5vtA+IskC13m+0D4iyQMU8K2n1vLBAtd5vtA+IskBlU67wBu+xQLXeb7QPiLJAZVOu8AbvsUC13m+0D4iyQLXeb7QPiLJAZVOu8AbvsUC13m+0D4iyQGVTrvAG77FAI4eIm6sjs0Ajh4ibqyOzQJur5jmCSbFAI4eIm6sjs0BLk1LQnYWyQCOHiJurI7NAS5NS0J2FskAjh4ibqyOzQCOHiJurI7NAS5NS0J2FskAjh4ibqyOzQEuTUtCdhbJA+Ddor348gUD4N2ivfjyBQHSXxFnRH4BA+Ddor348gUC2Z5YEKK6AQPg3aK9+PIFAtmeWBCiugED4N2ivfjyBQPg3aK9+PIFAtmeWBCiugED4N2ivfjyBQLZnlgQoroBADamieJVIgUANqaJ4lUiBQKQ5svLLOH9ADamieJVIgUBOet/42rmAQA2poniVSIFATnrf+Nq5gEANqaJ4lUiBQA2poniVSIFATnrf+Nq5gEANqaJ4lUiBQE563/jauYBADamieJVIgUANqaJ4lUiBQKQ5svLLOH9ADamieJVIgUBOet/42rmAQA2poniVSIFATnrf+Nq5gEANqaJ4lUiBQA2poniVSIFATnrf+Nq5gEANqaJ4lUiBQE563/jauYBADamieJVIgUANqaJ4lUiBQKQ5svLLOH9ADamieJVIgUBOet/42rmAQA2poniVSIFATnrf+Nq5gEANqaJ4lUiBQA2poniVSIFATnrf+Nq5gEANqaJ4lUiBQE563/jauYBA",
          "dtype": "f8"
         }
        },
        {
         "name": "GPPS",
         "type": "bar",
         "x": [
          "2021-12-01T00:00:00.000000000",
          "2022-01-01T00:00:00.000000000",
          "2022-02-01T00:00:00.000000000",
          "2022-03-01T00:00:00.000000000",
          "2022-04-01T00:00:00.000000000",
          "2022-05-01T00:00:00.000000000",
          "2022-06-01T00:00:00.000000000",
          "2022-07-01T00:00:00.000000000",
          "2022-08-01T00:00:00.000000000",
          "2022-09-01T00:00:00.000000000",
          "2022-10-01T00:00:00.000000000",
          "2022-11-01T00:00:00.000000000",
          "2022-12-01T00:00:00.000000000",
          "2023-01-01T00:00:00.000000000",
          "2023-02-01T00:00:00.000000000",
          "2023-03-01T00:00:00.000000000",
          "2023-04-01T00:00:00.000000000",
          "2023-05-01T00:00:00.000000000",
          "2023-06-01T00:00:00.000000000",
          "2023-07-01T00:00:00.000000000",
          "2023-08-01T00:00:00.000000000",
          "2023-09-01T00:00:00.000000000",
          "2023-10-01T00:00:00.000000000",
          "2023-11-01T00:00:00.000000000",
          "2023-12-01T00:00:00.000000000",
          "2024-01-01T00:00:00.000000000",
          "2024-02-01T00:00:00.000000000",
          "2024-03-01T00:00:00.000000000",
          "2024-04-01T00:00:00.000000000",
          "2024-05-01T00:00:00.000000000",
          "2024-06-01T00:00:00.000000000",
          "2024-07-01T00:00:00.000000000",
          "2024-08-01T00:00:00.000000000",
          "2024-09-01T00:00:00.000000000",
          "2024-10-01T00:00:00.000000000",
          "2024-11-01T00:00:00.000000000",
          "2024-12-01T00:00:00.000000000",
          "2025-01-01T00:00:00.000000000",
          "2025-02-01T00:00:00.000000000",
          "2025-03-01T00:00:00.000000000",
          "2025-04-01T00:00:00.000000000",
          "2025-05-01T00:00:00.000000000",
          "2025-06-01T00:00:00.000000000",
          "2025-07-01T00:00:00.000000000",
          "2025-08-01T00:00:00.000000000",
          "2025-09-01T00:00:00.000000000",
          "2025-10-01T00:00:00.000000000",
          "2025-11-01T00:00:00.000000000",
          "2025-12-01T00:00:00.000000000",
          "2026-01-01T00:00:00.000000000",
          "2026-02-01T00:00:00.000000000",
          "2026-03-01T00:00:00.000000000",
          "2026-04-01T00:00:00.000000000",
          "2026-05-01T00:00:00.000000000",
          "2026-06-01T00:00:00.000000000",
          "2026-07-01T00:00:00.000000000",
          "2026-08-01T00:00:00.000000000",
          "2026-09-01T00:00:00.000000000",
          "2026-10-01T00:00:00.000000000",
          "2026-11-01T00:00:00.000000000",
          "2026-12-01T00:00:00.000000000",
          "2027-01-01T00:00:00.000000000",
          "2027-02-01T00:00:00.000000000",
          "2027-03-01T00:00:00.000000000",
          "2027-04-01T00:00:00.000000000",
          "2027-05-01T00:00:00.000000000",
          "2027-06-01T00:00:00.000000000",
          "2027-07-01T00:00:00.000000000",
          "2027-08-01T00:00:00.000000000",
          "2027-09-01T00:00:00.000000000",
          "2027-10-01T00:00:00.000000000",
          "2027-11-01T00:00:00.000000000",
          "2027-12-01T00:00:00.000000000",
          "2028-01-01T00:00:00.000000000",
          "2028-02-01T00:00:00.000000000",
          "2028-03-01T00:00:00.000000000",
          "2028-04-01T00:00:00.000000000",
          "2028-05-01T00:00:00.000000000",
          "2028-06-01T00:00:00.000000000",
          "2028-07-01T00:00:00.000000000",
          "2028-08-01T00:00:00.000000000",
          "2028-09-01T00:00:00.000000000",
          "2028-10-01T00:00:00.000000000",
          "2028-11-01T00:00:00.000000000",
          "2028-12-01T00:00:00.000000000",
          "2029-01-01T00:00:00.000000000",
          "2029-02-01T00:00:00.000000000",
          "2029-03-01T00:00:00.000000000",
          "2029-04-01T00:00:00.000000000",
          "2029-05-01T00:00:00.000000000",
          "2029-06-01T00:00:00.000000000",
          "2029-07-01T00:00:00.000000000",
          "2029-08-01T00:00:00.000000000",
          "2029-09-01T00:00:00.000000000",
          "2029-10-01T00:00:00.000000000",
          "2029-11-01T00:00:00.000000000",
          "2029-12-01T00:00:00.000000000",
          "2030-01-01T00:00:00.000000000",
          "2030-02-01T00:00:00.000000000",
          "2030-03-01T00:00:00.000000000",
          "2030-04-01T00:00:00.000000000",
          "2030-05-01T00:00:00.000000000",
          "2030-06-01T00:00:00.000000000",
          "2030-07-01T00:00:00.000000000",
          "2030-08-01T00:00:00.000000000",
          "2030-09-01T00:00:00.000000000",
          "2030-10-01T00:00:00.000000000",
          "2030-11-01T00:00:00.000000000",
          "2030-12-01T00:00:00.000000000",
          "2031-01-01T00:00:00.000000000",
          "2031-02-01T00:00:00.000000000",
          "2031-03-01T00:00:00.000000000",
          "2031-04-01T00:00:00.000000000",
          "2031-05-01T00:00:00.000000000",
          "2031-06-01T00:00:00.000000000",
          "2031-07-01T00:00:00.000000000",
          "2031-08-01T00:00:00.000000000",
          "2031-09-01T00:00:00.000000000",
          "2031-10-01T00:00:00.000000000",
          "2031-11-01T00:00:00.000000000",
          "2031-12-01T00:00:00.000000000",
          "2032-01-01T00:00:00.000000000",
          "2032-02-01T00:00:00.000000000",
          "2032-03-01T00:00:00.000000000",
          "2032-04-01T00:00:00.000000000",
          "2032-05-01T00:00:00.000000000",
          "2032-06-01T00:00:00.000000000",
          "2032-07-01T00:00:00.000000000",
          "2032-08-01T00:00:00.000000000",
          "2032-09-01T00:00:00.000000000",
          "2032-10-01T00:00:00.000000000",
          "2032-11-01T00:00:00.000000000",
          "2032-12-01T00:00:00.000000000",
          "2033-01-01T00:00:00.000000000",
          "2033-02-01T00:00:00.000000000",
          "2033-03-01T00:00:00.000000000",
          "2033-04-01T00:00:00.000000000",
          "2033-05-01T00:00:00.000000000",
          "2033-06-01T00:00:00.000000000",
          "2033-07-01T00:00:00.000000000",
          "2033-08-01T00:00:00.000000000",
          "2033-09-01T00:00:00.000000000",
          "2033-10-01T00:00:00.000000000",
          "2033-11-01T00:00:00.000000000",
          "2033-12-01T00:00:00.000000000",
          "2034-01-01T00:00:00.000000000",
          "2034-02-01T00:00:00.000000000",
          "2034-03-01T00:00:00.000000000",
          "2034-04-01T00:00:00.000000000",
          "2034-05-01T00:00:00.000000000",
          "2034-06-01T00:00:00.000000000",
          "2034-07-01T00:00:00.000000000",
          "2034-08-01T00:00:00.000000000",
          "2034-09-01T00:00:00.000000000",
          "2034-10-01T00:00:00.000000000",
          "2034-11-01T00:00:00.000000000",
          "2034-12-01T00:00:00.000000000",
          "2035-01-01T00:00:00.000000000",
          "2035-02-01T00:00:00.000000000",
          "2035-03-01T00:00:00.000000000",
          "2035-04-01T00:00:00.000000000",
          "2035-05-01T00:00:00.000000000",
          "2035-06-01T00:00:00.000000000",
          "2035-07-01T00:00:00.000000000",
          "2035-08-01T00:00:00.000000000",
          "2035-09-01T00:00:00.000000000",
          "2035-10-01T00:00:00.000000000",
          "2035-11-01T00:00:00.000000000",
          "2035-12-01T00:00:00.000000000",
          "2036-01-01T00:00:00.000000000",
          "2036-02-01T00:00:00.000000000",
          "2036-03-01T00:00:00.000000000",
          "2036-04-01T00:00:00.000000000",
          "2036-05-01T00:00:00.000000000",
          "2036-06-01T00:00:00.000000000",
          "2036-07-01T00:00:00.000000000",
          "2036-08-01T00:00:00.000000000",
          "2036-09-01T00:00:00.000000000",
          "2036-10-01T00:00:00.000000000",
          "2036-11-01T00:00:00.000000000",
          "2036-12-01T00:00:00.000000000",
          "2037-01-01T00:00:00.000000000",
          "2037-02-01T00:00:00.000000000",
          "2037-03-01T00:00:00.000000000",
          "2037-04-01T00:00:00.000000000",
          "2037-05-01T00:00:00.000000000",
          "2037-06-01T00:00:00.000000000",
          "2037-07-01T00:00:00.000000000",
          "2037-08-01T00:00:00.000000000",
          "2037-09-01T00:00:00.000000000",
          "2037-10-01T00:00:00.000000000",
          "2037-11-01T00:00:00.000000000",
          "2037-12-01T00:00:00.000000000",
          "2038-01-01T00:00:00.000000000",
          "2038-02-01T00:00:00.000000000",
          "2038-03-01T00:00:00.000000000",
          "2038-04-01T00:00:00.000000000",
          "2038-05-01T00:00:00.000000000",
          "2038-06-01T00:00:00.000000000",
          "2038-07-01T00:00:00.000000000",
          "2038-08-01T00:00:00.000000000",
          "2038-09-01T00:00:00.000000000",
          "2038-10-01T00:00:00.000000000",
          "2038-11-01T00:00:00.000000000"
         ],
         "y": {
          "bdata": "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",
          "dtype": "f8"
         }
        },
        {
         "name": "SUBASTA",
         "type": "bar",
         "x": [
          "2021-12-01T00:00:00.000000000",
          "2022-01-01T00:00:00.000000000",
          "2022-02-01T00:00:00.000000000",
          "2022-03-01T00:00:00.000000000",
          "2022-04-01T00:00:00.000000000",
          "2022-05-01T00:00:00.000000000",
          "2022-06-01T00:00:00.000000000",
          "2022-07-01T00:00:00.000000000",
          "2022-08-01T00:00:00.000000000",
          "2022-09-01T00:00:00.000000000",
          "2022-10-01T00:00:00.000000000",
          "2022-11-01T00:00:00.000000000",
          "2022-12-01T00:00:00.000000000",
          "2023-01-01T00:00:00.000000000",
          "2023-02-01T00:00:00.000000000",
          "2023-03-01T00:00:00.000000000",
          "2023-04-01T00:00:00.000000000",
          "2023-05-01T00:00:00.000000000",
          "2023-06-01T00:00:00.000000000",
          "2023-07-01T00:00:00.000000000",
          "2023-08-01T00:00:00.000000000",
          "2023-09-01T00:00:00.000000000",
          "2023-10-01T00:00:00.000000000",
          "2023-11-01T00:00:00.000000000",
          "2023-12-01T00:00:00.000000000",
          "2024-01-01T00:00:00.000000000",
          "2024-02-01T00:00:00.000000000",
          "2024-03-01T00:00:00.000000000",
          "2024-04-01T00:00:00.000000000",
          "2024-05-01T00:00:00.000000000",
          "2024-06-01T00:00:00.000000000",
          "2024-07-01T00:00:00.000000000",
          "2024-08-01T00:00:00.000000000",
          "2024-09-01T00:00:00.000000000",
          "2024-10-01T00:00:00.000000000",
          "2024-11-01T00:00:00.000000000",
          "2024-12-01T00:00:00.000000000",
          "2025-01-01T00:00:00.000000000",
          "2025-02-01T00:00:00.000000000",
          "2025-03-01T00:00:00.000000000",
          "2025-04-01T00:00:00.000000000",
          "2025-05-01T00:00:00.000000000",
          "2025-06-01T00:00:00.000000000",
          "2025-07-01T00:00:00.000000000",
          "2025-08-01T00:00:00.000000000",
          "2025-09-01T00:00:00.000000000",
          "2025-10-01T00:00:00.000000000",
          "2025-11-01T00:00:00.000000000",
          "2025-12-01T00:00:00.000000000",
          "2026-01-01T00:00:00.000000000",
          "2026-02-01T00:00:00.000000000",
          "2026-03-01T00:00:00.000000000",
          "2026-04-01T00:00:00.000000000",
          "2026-05-01T00:00:00.000000000",
          "2026-06-01T00:00:00.000000000",
          "2026-07-01T00:00:00.000000000",
          "2026-08-01T00:00:00.000000000",
          "2026-09-01T00:00:00.000000000",
          "2026-10-01T00:00:00.000000000",
          "2026-11-01T00:00:00.000000000",
          "2026-12-01T00:00:00.000000000",
          "2027-01-01T00:00:00.000000000",
          "2027-02-01T00:00:00.000000000",
          "2027-03-01T00:00:00.000000000",
          "2027-04-01T00:00:00.000000000",
          "2027-05-01T00:00:00.000000000",
          "2027-06-01T00:00:00.000000000",
          "2027-07-01T00:00:00.000000000",
          "2027-08-01T00:00:00.000000000",
          "2027-09-01T00:00:00.000000000",
          "2027-10-01T00:00:00.000000000",
          "2027-11-01T00:00:00.000000000",
          "2027-12-01T00:00:00.000000000",
          "2028-01-01T00:00:00.000000000",
          "2028-02-01T00:00:00.000000000",
          "2028-03-01T00:00:00.000000000",
          "2028-04-01T00:00:00.000000000",
          "2028-05-01T00:00:00.000000000",
          "2028-06-01T00:00:00.000000000",
          "2028-07-01T00:00:00.000000000",
          "2028-08-01T00:00:00.000000000",
          "2028-09-01T00:00:00.000000000",
          "2028-10-01T00:00:00.000000000",
          "2028-11-01T00:00:00.000000000",
          "2028-12-01T00:00:00.000000000",
          "2029-01-01T00:00:00.000000000",
          "2029-02-01T00:00:00.000000000",
          "2029-03-01T00:00:00.000000000",
          "2029-04-01T00:00:00.000000000",
          "2029-05-01T00:00:00.000000000",
          "2029-06-01T00:00:00.000000000",
          "2029-07-01T00:00:00.000000000",
          "2029-08-01T00:00:00.000000000",
          "2029-09-01T00:00:00.000000000",
          "2029-10-01T00:00:00.000000000",
          "2029-11-01T00:00:00.000000000",
          "2029-12-01T00:00:00.000000000",
          "2030-01-01T00:00:00.000000000",
          "2030-02-01T00:00:00.000000000",
          "2030-03-01T00:00:00.000000000",
          "2030-04-01T00:00:00.000000000",
          "2030-05-01T00:00:00.000000000",
          "2030-06-01T00:00:00.000000000",
          "2030-07-01T00:00:00.000000000",
          "2030-08-01T00:00:00.000000000",
          "2030-09-01T00:00:00.000000000",
          "2030-10-01T00:00:00.000000000",
          "2030-11-01T00:00:00.000000000",
          "2030-12-01T00:00:00.000000000",
          "2031-01-01T00:00:00.000000000",
          "2031-02-01T00:00:00.000000000",
          "2031-03-01T00:00:00.000000000",
          "2031-04-01T00:00:00.000000000",
          "2031-05-01T00:00:00.000000000",
          "2031-06-01T00:00:00.000000000",
          "2031-07-01T00:00:00.000000000",
          "2031-08-01T00:00:00.000000000",
          "2031-09-01T00:00:00.000000000",
          "2031-10-01T00:00:00.000000000",
          "2031-11-01T00:00:00.000000000",
          "2031-12-01T00:00:00.000000000",
          "2032-01-01T00:00:00.000000000",
          "2032-02-01T00:00:00.000000000",
          "2032-03-01T00:00:00.000000000",
          "2032-04-01T00:00:00.000000000",
          "2032-05-01T00:00:00.000000000",
          "2032-06-01T00:00:00.000000000",
          "2032-07-01T00:00:00.000000000",
          "2032-08-01T00:00:00.000000000",
          "2032-09-01T00:00:00.000000000",
          "2032-10-01T00:00:00.000000000",
          "2032-11-01T00:00:00.000000000",
          "2032-12-01T00:00:00.000000000",
          "2033-01-01T00:00:00.000000000",
          "2033-02-01T00:00:00.000000000",
          "2033-03-01T00:00:00.000000000",
          "2033-04-01T00:00:00.000000000",
          "2033-05-01T00:00:00.000000000",
          "2033-06-01T00:00:00.000000000",
          "2033-07-01T00:00:00.000000000",
          "2033-08-01T00:00:00.000000000",
          "2033-09-01T00:00:00.000000000",
          "2033-10-01T00:00:00.000000000",
          "2033-11-01T00:00:00.000000000",
          "2033-12-01T00:00:00.000000000",
          "2034-01-01T00:00:00.000000000",
          "2034-02-01T00:00:00.000000000",
          "2034-03-01T00:00:00.000000000",
          "2034-04-01T00:00:00.000000000",
          "2034-05-01T00:00:00.000000000",
          "2034-06-01T00:00:00.000000000",
          "2034-07-01T00:00:00.000000000",
          "2034-08-01T00:00:00.000000000",
          "2034-09-01T00:00:00.000000000",
          "2034-10-01T00:00:00.000000000",
          "2034-11-01T00:00:00.000000000",
          "2034-12-01T00:00:00.000000000",
          "2035-01-01T00:00:00.000000000",
          "2035-02-01T00:00:00.000000000",
          "2035-03-01T00:00:00.000000000",
          "2035-04-01T00:00:00.000000000",
          "2035-05-01T00:00:00.000000000",
          "2035-06-01T00:00:00.000000000",
          "2035-07-01T00:00:00.000000000",
          "2035-08-01T00:00:00.000000000",
          "2035-09-01T00:00:00.000000000",
          "2035-10-01T00:00:00.000000000",
          "2035-11-01T00:00:00.000000000",
          "2035-12-01T00:00:00.000000000",
          "2036-01-01T00:00:00.000000000",
          "2036-02-01T00:00:00.000000000",
          "2036-03-01T00:00:00.000000000",
          "2036-04-01T00:00:00.000000000",
          "2036-05-01T00:00:00.000000000",
          "2036-06-01T00:00:00.000000000",
          "2036-07-01T00:00:00.000000000",
          "2036-08-01T00:00:00.000000000",
          "2036-09-01T00:00:00.000000000",
          "2036-10-01T00:00:00.000000000",
          "2036-11-01T00:00:00.000000000",
          "2036-12-01T00:00:00.000000000",
          "2037-01-01T00:00:00.000000000",
          "2037-02-01T00:00:00.000000000",
          "2037-03-01T00:00:00.000000000",
          "2037-04-01T00:00:00.000000000",
          "2037-05-01T00:00:00.000000000",
          "2037-06-01T00:00:00.000000000",
          "2037-07-01T00:00:00.000000000",
          "2037-08-01T00:00:00.000000000",
          "2037-09-01T00:00:00.000000000",
          "2037-10-01T00:00:00.000000000",
          "2037-11-01T00:00:00.000000000",
          "2037-12-01T00:00:00.000000000",
          "2038-01-01T00:00:00.000000000",
          "2038-02-01T00:00:00.000000000",
          "2038-03-01T00:00:00.000000000",
          "2038-04-01T00:00:00.000000000",
          "2038-05-01T00:00:00.000000000",
          "2038-06-01T00:00:00.000000000",
          "2038-07-01T00:00:00.000000000",
          "2038-08-01T00:00:00.000000000",
          "2038-09-01T00:00:00.000000000",
          "2038-10-01T00:00:00.000000000",
          "2038-11-01T00:00:00.000000000",
          "2038-12-01T00:00:00.000000000",
          "2039-01-01T00:00:00.000000000",
          "2039-02-01T00:00:00.000000000",
          "2039-03-01T00:00:00.000000000",
          "2039-04-01T00:00:00.000000000",
          "2039-05-01T00:00:00.000000000",
          "2039-06-01T00:00:00.000000000",
          "2039-07-01T00:00:00.000000000",
          "2039-08-01T00:00:00.000000000",
          "2039-09-01T00:00:00.000000000",
          "2039-10-01T00:00:00.000000000",
          "2039-11-01T00:00:00.000000000",
          "2039-12-01T00:00:00.000000000",
          "2040-01-01T00:00:00.000000000",
          "2040-02-01T00:00:00.000000000",
          "2040-03-01T00:00:00.000000000",
          "2040-04-01T00:00:00.000000000",
          "2040-05-01T00:00:00.000000000",
          "2040-06-01T00:00:00.000000000",
          "2040-07-01T00:00:00.000000000",
          "2040-08-01T00:00:00.000000000",
          "2040-09-01T00:00:00.000000000",
          "2040-10-01T00:00:00.000000000",
          "2040-11-01T00:00:00.000000000",
          "2040-12-01T00:00:00.000000000",
          "2041-01-01T00:00:00.000000000",
          "2041-02-01T00:00:00.000000000",
          "2041-03-01T00:00:00.000000000",
          "2041-04-01T00:00:00.000000000",
          "2041-05-01T00:00:00.000000000",
          "2041-06-01T00:00:00.000000000",
          "2041-07-01T00:00:00.000000000",
          "2041-08-01T00:00:00.000000000",
          "2041-09-01T00:00:00.000000000",
          "2041-10-01T00:00:00.000000000",
          "2041-11-01T00:00:00.000000000",
          "2041-12-01T00:00:00.000000000",
          "2042-01-01T00:00:00.000000000",
          "2042-02-01T00:00:00.000000000",
          "2042-03-01T00:00:00.000000000",
          "2042-04-01T00:00:00.000000000",
          "2042-05-01T00:00:00.000000000",
          "2042-06-01T00:00:00.000000000",
          "2042-07-01T00:00:00.000000000",
          "2042-08-01T00:00:00.000000000",
          "2042-09-01T00:00:00.000000000",
          "2042-10-01T00:00:00.000000000",
          "2042-11-01T00:00:00.000000000",
          "2042-12-01T00:00:00.000000000",
          "2043-01-01T00:00:00.000000000",
          "2043-02-01T00:00:00.000000000",
          "2043-03-01T00:00:00.000000000",
          "2043-04-01T00:00:00.000000000",
          "2043-05-01T00:00:00.000000000",
          "2043-06-01T00:00:00.000000000",
          "2043-07-01T00:00:00.000000000",
          "2043-08-01T00:00:00.000000000",
          "2043-09-01T00:00:00.000000000",
          "2043-10-01T00:00:00.000000000",
          "2043-11-01T00:00:00.000000000",
          "2043-12-01T00:00:00.000000000",
          "2044-01-01T00:00:00.000000000",
          "2044-02-01T00:00:00.000000000",
          "2044-03-01T00:00:00.000000000",
          "2044-04-01T00:00:00.000000000",
          "2044-05-01T00:00:00.000000000",
          "2044-06-01T00:00:00.000000000",
          "2044-07-01T00:00:00.000000000",
          "2044-08-01T00:00:00.000000000",
          "2044-09-01T00:00:00.000000000",
          "2044-10-01T00:00:00.000000000",
          "2044-11-01T00:00:00.000000000",
          "2044-12-01T00:00:00.000000000",
          "2045-01-01T00:00:00.000000000",
          "2045-02-01T00:00:00.000000000",
          "2045-03-01T00:00:00.000000000",
          "2045-04-01T00:00:00.000000000",
          "2045-05-01T00:00:00.000000000",
          "2045-06-01T00:00:00.000000000",
          "2045-07-01T00:00:00.000000000",
          "2045-08-01T00:00:00.000000000",
          "2045-09-01T00:00:00.000000000",
          "2045-10-01T00:00:00.000000000",
          "2045-11-01T00:00:00.000000000",
          "2045-12-01T00:00:00.000000000",
          "2046-01-01T00:00:00.000000000",
          "2046-02-01T00:00:00.000000000",
          "2046-03-01T00:00:00.000000000",
          "2046-04-01T00:00:00.000000000",
          "2046-05-01T00:00:00.000000000",
          "2046-06-01T00:00:00.000000000",
          "2046-07-01T00:00:00.000000000",
          "2046-08-01T00:00:00.000000000",
          "2046-09-01T00:00:00.000000000",
          "2046-10-01T00:00:00.000000000",
          "2046-11-01T00:00:00.000000000",
          "2046-12-01T00:00:00.000000000",
          "2047-01-01T00:00:00.000000000",
          "2047-02-01T00:00:00.000000000",
          "2047-03-01T00:00:00.000000000",
          "2047-04-01T00:00:00.000000000",
          "2047-05-01T00:00:00.000000000",
          "2047-06-01T00:00:00.000000000",
          "2047-07-01T00:00:00.000000000",
          "2047-08-01T00:00:00.000000000",
          "2047-09-01T00:00:00.000000000",
          "2047-10-01T00:00:00.000000000",
          "2047-11-01T00:00:00.000000000"
         ],
         "y": {
          "bdata": "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",
          "dtype": "f8"
         }
        },
        {
         "name": "Subastas de reconfiguración de compra",
         "type": "bar",
         "x": [
          "2021-12-01T00:00:00.000000000",
          "2022-01-01T00:00:00.000000000",
          "2022-02-01T00:00:00.000000000",
          "2022-03-01T00:00:00.000000000",
          "2022-04-01T00:00:00.000000000",
          "2022-05-01T00:00:00.000000000",
          "2022-06-01T00:00:00.000000000",
          "2022-07-01T00:00:00.000000000",
          "2022-08-01T00:00:00.000000000",
          "2022-09-01T00:00:00.000000000",
          "2022-10-01T00:00:00.000000000",
          "2022-11-01T00:00:00.000000000",
          "2025-12-01T00:00:00.000000000",
          "2026-01-01T00:00:00.000000000",
          "2026-02-01T00:00:00.000000000",
          "2026-03-01T00:00:00.000000000",
          "2026-04-01T00:00:00.000000000",
          "2026-05-01T00:00:00.000000000",
          "2026-06-01T00:00:00.000000000",
          "2026-07-01T00:00:00.000000000",
          "2026-08-01T00:00:00.000000000",
          "2026-09-01T00:00:00.000000000",
          "2026-10-01T00:00:00.000000000",
          "2026-11-01T00:00:00.000000000",
          "2026-12-01T00:00:00.000000000",
          "2027-01-01T00:00:00.000000000",
          "2027-02-01T00:00:00.000000000",
          "2027-03-01T00:00:00.000000000",
          "2027-04-01T00:00:00.000000000",
          "2027-05-01T00:00:00.000000000",
          "2027-06-01T00:00:00.000000000",
          "2027-07-01T00:00:00.000000000",
          "2027-08-01T00:00:00.000000000",
          "2027-09-01T00:00:00.000000000",
          "2027-10-01T00:00:00.000000000",
          "2027-11-01T00:00:00.000000000",
          "2027-12-01T00:00:00.000000000",
          "2028-01-01T00:00:00.000000000",
          "2028-02-01T00:00:00.000000000",
          "2028-03-01T00:00:00.000000000",
          "2028-04-01T00:00:00.000000000",
          "2028-05-01T00:00:00.000000000",
          "2028-06-01T00:00:00.000000000",
          "2028-07-01T00:00:00.000000000",
          "2028-08-01T00:00:00.000000000",
          "2028-09-01T00:00:00.000000000",
          "2028-10-01T00:00:00.000000000",
          "2028-11-01T00:00:00.000000000"
         ],
         "y": {
          "bdata": "jUephCd0OUCNR6mEJ3Q5QIfddwyP/TZAjUephCd0OUA1JO6x9KE4QI1HqYQndDlANSTusfShOECNR6mEJ3Q5QI1HqYQndDlANSTusfShOECNR6mEJ3Q5QDUk7rH0oThAV5boLDMnbUBXlugsMydtQMqHoGr0VGpAV5boLDMnbUB9kdCWczZsQFeW6CwzJ21AfZHQlnM2bEBXlugsMydtQFeW6CwzJ21AfZHQlnM2bEBXlugsMydtQH2R0JZzNmxAf9k9eVgkYkB/2T15WCRiQN5xio7kYmBAf9k9eVgkYkBKDAIrh45hQH/ZPXlYJGJASgwCK4eOYUB/2T15WCRiQH/ZPXlYJGJASgwCK4eOYUB/2T15WCRiQEoMAiuHjmFAQGg9fJmlXUBAaD18maVdQKjlB67yu1tAQGg9fJmlXUD0piIVxrBcQEBoPXyZpV1A9KYiFcawXEBAaD18maVdQEBoPXyZpV1A9KYiFcawXEBAaD18maVdQPSmIhXGsFxA",
          "dtype": "f8"
         }
        },
        {
         "name": "Cesiones de OEF",
         "type": "bar",
         "x": [
          "2025-12-01T00:00:00.000000000",
          "2026-01-01T00:00:00.000000000",
          "2026-02-01T00:00:00.000000000",
          "2026-03-01T00:00:00.000000000",
          "2026-04-01T00:00:00.000000000",
          "2026-05-01T00:00:00.000000000",
          "2026-06-01T00:00:00.000000000",
          "2026-07-01T00:00:00.000000000",
          "2026-08-01T00:00:00.000000000",
          "2026-09-01T00:00:00.000000000",
          "2026-10-01T00:00:00.000000000",
          "2026-11-01T00:00:00.000000000",
          "2026-12-01T00:00:00.000000000",
          "2027-01-01T00:00:00.000000000",
          "2027-02-01T00:00:00.000000000",
          "2027-03-01T00:00:00.000000000",
          "2027-04-01T00:00:00.000000000",
          "2027-05-01T00:00:00.000000000",
          "2027-06-01T00:00:00.000000000",
          "2027-07-01T00:00:00.000000000",
          "2027-08-01T00:00:00.000000000",
          "2027-09-01T00:00:00.000000000",
          "2027-10-01T00:00:00.000000000",
          "2027-11-01T00:00:00.000000000",
          "2027-12-01T00:00:00.000000000",
          "2028-01-01T00:00:00.000000000",
          "2028-02-01T00:00:00.000000000",
          "2028-03-01T00:00:00.000000000",
          "2028-04-01T00:00:00.000000000",
          "2028-05-01T00:00:00.000000000",
          "2028-06-01T00:00:00.000000000",
          "2028-07-01T00:00:00.000000000",
          "2028-08-01T00:00:00.000000000",
          "2028-09-01T00:00:00.000000000",
          "2028-10-01T00:00:00.000000000",
          "2028-11-01T00:00:00.000000000",
          "2028-12-01T00:00:00.000000000",
          "2029-01-01T00:00:00.000000000",
          "2029-02-01T00:00:00.000000000",
          "2029-03-01T00:00:00.000000000",
          "2029-04-01T00:00:00.000000000",
          "2029-05-01T00:00:00.000000000",
          "2029-06-01T00:00:00.000000000",
          "2029-07-01T00:00:00.000000000",
          "2029-08-01T00:00:00.000000000",
          "2029-09-01T00:00:00.000000000",
          "2029-10-01T00:00:00.000000000",
          "2029-11-01T00:00:00.000000000",
          "2029-12-01T00:00:00.000000000",
          "2030-01-01T00:00:00.000000000",
          "2030-02-01T00:00:00.000000000",
          "2030-03-01T00:00:00.000000000",
          "2030-04-01T00:00:00.000000000",
          "2030-05-01T00:00:00.000000000",
          "2030-06-01T00:00:00.000000000",
          "2030-07-01T00:00:00.000000000",
          "2030-08-01T00:00:00.000000000",
          "2030-09-01T00:00:00.000000000",
          "2030-10-01T00:00:00.000000000",
          "2030-11-01T00:00:00.000000000",
          "2030-12-01T00:00:00.000000000",
          "2031-01-01T00:00:00.000000000",
          "2031-02-01T00:00:00.000000000",
          "2031-03-01T00:00:00.000000000",
          "2031-04-01T00:00:00.000000000",
          "2031-05-01T00:00:00.000000000",
          "2031-06-01T00:00:00.000000000",
          "2031-07-01T00:00:00.000000000",
          "2031-08-01T00:00:00.000000000",
          "2031-09-01T00:00:00.000000000",
          "2031-10-01T00:00:00.000000000",
          "2031-11-01T00:00:00.000000000",
          "2031-12-01T00:00:00.000000000",
          "2032-01-01T00:00:00.000000000",
          "2032-02-01T00:00:00.000000000",
          "2032-03-01T00:00:00.000000000",
          "2032-04-01T00:00:00.000000000",
          "2032-05-01T00:00:00.000000000",
          "2032-06-01T00:00:00.000000000",
          "2032-07-01T00:00:00.000000000",
          "2032-08-01T00:00:00.000000000",
          "2032-09-01T00:00:00.000000000",
          "2032-10-01T00:00:00.000000000",
          "2032-11-01T00:00:00.000000000",
          "2032-12-01T00:00:00.000000000",
          "2033-01-01T00:00:00.000000000",
          "2033-02-01T00:00:00.000000000",
          "2033-03-01T00:00:00.000000000",
          "2033-04-01T00:00:00.000000000",
          "2033-05-01T00:00:00.000000000",
          "2033-06-01T00:00:00.000000000",
          "2033-07-01T00:00:00.000000000",
          "2033-08-01T00:00:00.000000000",
          "2033-09-01T00:00:00.000000000",
          "2033-10-01T00:00:00.000000000",
          "2033-11-01T00:00:00.000000000",
          "2033-12-01T00:00:00.000000000",
          "2034-01-01T00:00:00.000000000",
          "2034-02-01T00:00:00.000000000",
          "2034-03-01T00:00:00.000000000",
          "2034-04-01T00:00:00.000000000",
          "2034-05-01T00:00:00.000000000",
          "2034-06-01T00:00:00.000000000",
          "2034-07-01T00:00:00.000000000",
          "2034-08-01T00:00:00.000000000",
          "2034-09-01T00:00:00.000000000",
          "2034-10-01T00:00:00.000000000",
          "2034-11-01T00:00:00.000000000",
          "2034-12-01T00:00:00.000000000",
          "2035-01-01T00:00:00.000000000",
          "2035-02-01T00:00:00.000000000",
          "2035-03-01T00:00:00.000000000",
          "2035-04-01T00:00:00.000000000",
          "2035-05-01T00:00:00.000000000",
          "2035-06-01T00:00:00.000000000",
          "2035-07-01T00:00:00.000000000",
          "2035-08-01T00:00:00.000000000",
          "2035-09-01T00:00:00.000000000",
          "2035-10-01T00:00:00.000000000",
          "2035-11-01T00:00:00.000000000",
          "2035-12-01T00:00:00.000000000",
          "2036-01-01T00:00:00.000000000",
          "2036-02-01T00:00:00.000000000",
          "2036-03-01T00:00:00.000000000",
          "2036-04-01T00:00:00.000000000",
          "2036-05-01T00:00:00.000000000",
          "2036-06-01T00:00:00.000000000",
          "2036-07-01T00:00:00.000000000",
          "2036-08-01T00:00:00.000000000",
          "2036-09-01T00:00:00.000000000",
          "2036-10-01T00:00:00.000000000",
          "2036-11-01T00:00:00.000000000",
          "2036-12-01T00:00:00.000000000",
          "2037-01-01T00:00:00.000000000",
          "2037-02-01T00:00:00.000000000",
          "2037-03-01T00:00:00.000000000",
          "2037-04-01T00:00:00.000000000",
          "2037-05-01T00:00:00.000000000",
          "2037-06-01T00:00:00.000000000",
          "2037-07-01T00:00:00.000000000",
          "2037-08-01T00:00:00.000000000",
          "2037-09-01T00:00:00.000000000",
          "2037-10-01T00:00:00.000000000",
          "2037-11-01T00:00:00.000000000",
          "2037-12-01T00:00:00.000000000",
          "2038-01-01T00:00:00.000000000",
          "2038-02-01T00:00:00.000000000",
          "2038-03-01T00:00:00.000000000",
          "2038-04-01T00:00:00.000000000",
          "2038-05-01T00:00:00.000000000",
          "2038-06-01T00:00:00.000000000",
          "2038-07-01T00:00:00.000000000",
          "2038-08-01T00:00:00.000000000",
          "2038-09-01T00:00:00.000000000",
          "2038-10-01T00:00:00.000000000",
          "2038-11-01T00:00:00.000000000",
          "2038-12-01T00:00:00.000000000",
          "2039-01-01T00:00:00.000000000",
          "2039-02-01T00:00:00.000000000",
          "2039-03-01T00:00:00.000000000",
          "2039-04-01T00:00:00.000000000",
          "2039-05-01T00:00:00.000000000",
          "2039-06-01T00:00:00.000000000",
          "2039-07-01T00:00:00.000000000",
          "2039-08-01T00:00:00.000000000",
          "2039-09-01T00:00:00.000000000",
          "2039-10-01T00:00:00.000000000",
          "2039-11-01T00:00:00.000000000",
          "2039-12-01T00:00:00.000000000",
          "2040-01-01T00:00:00.000000000",
          "2040-02-01T00:00:00.000000000",
          "2040-03-01T00:00:00.000000000",
          "2040-04-01T00:00:00.000000000",
          "2040-05-01T00:00:00.000000000",
          "2040-06-01T00:00:00.000000000",
          "2040-07-01T00:00:00.000000000",
          "2040-08-01T00:00:00.000000000",
          "2040-09-01T00:00:00.000000000",
          "2040-10-01T00:00:00.000000000",
          "2040-11-01T00:00:00.000000000",
          "2040-12-01T00:00:00.000000000",
          "2041-01-01T00:00:00.000000000",
          "2041-02-01T00:00:00.000000000",
          "2041-03-01T00:00:00.000000000",
          "2041-04-01T00:00:00.000000000",
          "2041-05-01T00:00:00.000000000",
          "2041-06-01T00:00:00.000000000",
          "2041-07-01T00:00:00.000000000",
          "2041-08-01T00:00:00.000000000",
          "2041-09-01T00:00:00.000000000",
          "2041-10-01T00:00:00.000000000",
          "2041-11-01T00:00:00.000000000",
          "2041-12-01T00:00:00.000000000",
          "2042-01-01T00:00:00.000000000",
          "2042-02-01T00:00:00.000000000",
          "2042-03-01T00:00:00.000000000",
          "2042-04-01T00:00:00.000000000",
          "2042-05-01T00:00:00.000000000",
          "2042-06-01T00:00:00.000000000",
          "2042-07-01T00:00:00.000000000",
          "2042-08-01T00:00:00.000000000",
          "2042-09-01T00:00:00.000000000",
          "2042-10-01T00:00:00.000000000",
          "2042-11-01T00:00:00.000000000"
         ],
         "y": {
          "bdata": "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",
          "dtype": "f8"
         }
        },
        {
         "name": "Tomadores del Cargo",
         "type": "bar",
         "x": [
          "2025-12-01T00:00:00.000000000",
          "2026-01-01T00:00:00.000000000",
          "2026-02-01T00:00:00.000000000",
          "2026-03-01T00:00:00.000000000",
          "2026-04-01T00:00:00.000000000",
          "2026-05-01T00:00:00.000000000",
          "2026-06-01T00:00:00.000000000",
          "2026-07-01T00:00:00.000000000",
          "2026-08-01T00:00:00.000000000",
          "2026-09-01T00:00:00.000000000",
          "2026-10-01T00:00:00.000000000",
          "2026-11-01T00:00:00.000000000",
          "2026-12-01T00:00:00.000000000",
          "2027-01-01T00:00:00.000000000",
          "2027-02-01T00:00:00.000000000",
          "2027-03-01T00:00:00.000000000",
          "2027-04-01T00:00:00.000000000",
          "2027-05-01T00:00:00.000000000",
          "2027-06-01T00:00:00.000000000",
          "2027-07-01T00:00:00.000000000",
          "2027-08-01T00:00:00.000000000",
          "2027-09-01T00:00:00.000000000",
          "2027-10-01T00:00:00.000000000",
          "2027-11-01T00:00:00.000000000",
          "2027-12-01T00:00:00.000000000",
          "2028-01-01T00:00:00.000000000",
          "2028-02-01T00:00:00.000000000",
          "2028-03-01T00:00:00.000000000",
          "2028-04-01T00:00:00.000000000",
          "2028-05-01T00:00:00.000000000",
          "2028-06-01T00:00:00.000000000",
          "2028-07-01T00:00:00.000000000",
          "2028-08-01T00:00:00.000000000",
          "2028-09-01T00:00:00.000000000",
          "2028-10-01T00:00:00.000000000",
          "2028-11-01T00:00:00.000000000",
          "2028-12-01T00:00:00.000000000",
          "2029-01-01T00:00:00.000000000",
          "2029-02-01T00:00:00.000000000",
          "2029-03-01T00:00:00.000000000",
          "2029-04-01T00:00:00.000000000",
          "2029-05-01T00:00:00.000000000",
          "2029-06-01T00:00:00.000000000",
          "2029-07-01T00:00:00.000000000",
          "2029-08-01T00:00:00.000000000",
          "2029-09-01T00:00:00.000000000",
          "2029-10-01T00:00:00.000000000",
          "2029-11-01T00:00:00.000000000",
          "2029-12-01T00:00:00.000000000",
          "2030-01-01T00:00:00.000000000",
          "2030-02-01T00:00:00.000000000",
          "2030-03-01T00:00:00.000000000",
          "2030-04-01T00:00:00.000000000",
          "2030-05-01T00:00:00.000000000",
          "2030-06-01T00:00:00.000000000",
          "2030-07-01T00:00:00.000000000",
          "2030-08-01T00:00:00.000000000",
          "2030-09-01T00:00:00.000000000",
          "2030-10-01T00:00:00.000000000",
          "2030-11-01T00:00:00.000000000",
          "2030-12-01T00:00:00.000000000",
          "2031-01-01T00:00:00.000000000",
          "2031-02-01T00:00:00.000000000",
          "2031-03-01T00:00:00.000000000",
          "2031-04-01T00:00:00.000000000",
          "2031-05-01T00:00:00.000000000",
          "2031-06-01T00:00:00.000000000",
          "2031-07-01T00:00:00.000000000",
          "2031-08-01T00:00:00.000000000",
          "2031-09-01T00:00:00.000000000",
          "2031-10-01T00:00:00.000000000",
          "2031-11-01T00:00:00.000000000",
          "2031-12-01T00:00:00.000000000",
          "2032-01-01T00:00:00.000000000",
          "2032-02-01T00:00:00.000000000",
          "2032-03-01T00:00:00.000000000",
          "2032-04-01T00:00:00.000000000",
          "2032-05-01T00:00:00.000000000",
          "2032-06-01T00:00:00.000000000",
          "2032-07-01T00:00:00.000000000",
          "2032-08-01T00:00:00.000000000",
          "2032-09-01T00:00:00.000000000",
          "2032-10-01T00:00:00.000000000",
          "2032-11-01T00:00:00.000000000",
          "2032-12-01T00:00:00.000000000",
          "2033-01-01T00:00:00.000000000",
          "2033-02-01T00:00:00.000000000",
          "2033-03-01T00:00:00.000000000",
          "2033-04-01T00:00:00.000000000",
          "2033-05-01T00:00:00.000000000",
          "2033-06-01T00:00:00.000000000",
          "2033-07-01T00:00:00.000000000",
          "2033-08-01T00:00:00.000000000",
          "2033-09-01T00:00:00.000000000",
          "2033-10-01T00:00:00.000000000",
          "2033-11-01T00:00:00.000000000",
          "2033-12-01T00:00:00.000000000",
          "2034-01-01T00:00:00.000000000",
          "2034-02-01T00:00:00.000000000",
          "2034-03-01T00:00:00.000000000",
          "2034-04-01T00:00:00.000000000",
          "2034-05-01T00:00:00.000000000",
          "2034-06-01T00:00:00.000000000",
          "2034-07-01T00:00:00.000000000",
          "2034-08-01T00:00:00.000000000",
          "2034-09-01T00:00:00.000000000",
          "2034-10-01T00:00:00.000000000",
          "2034-11-01T00:00:00.000000000",
          "2034-12-01T00:00:00.000000000",
          "2035-01-01T00:00:00.000000000",
          "2035-02-01T00:00:00.000000000",
          "2035-03-01T00:00:00.000000000",
          "2035-04-01T00:00:00.000000000",
          "2035-05-01T00:00:00.000000000",
          "2035-06-01T00:00:00.000000000",
          "2035-07-01T00:00:00.000000000",
          "2035-08-01T00:00:00.000000000",
          "2035-09-01T00:00:00.000000000",
          "2035-10-01T00:00:00.000000000",
          "2035-11-01T00:00:00.000000000"
         ],
         "y": {
          "bdata": "6IcRwqP9NUDohxHCo/01QLA4nPnV3DNA6IcRwqP9NUArGJXUCUg1QOiHEcKj/TVAKxiV1AlINUDohxHCo/01QOiHEcKj/TVAKxiV1AlINUDohxHCo/01QCsYldQJSDVA6IcRwqP9NUDohxHCo/01QLA4nPnV3DNA6IcRwqP9NUArGJXUCUg1QOiHEcKj/TVAKxiV1AlINUDohxHCo/01QOiHEcKj/TVAKxiV1AlINUDohxHCo/01QCsYldQJSDVA6IcRwqP9NUDohxHCo/01QG2oGOdvkjRA6IcRwqP9NUArGJXUCUg1QOiHEcKj/TVAKxiV1AlINUDohxHCo/01QOiHEcKj/TVAKxiV1AlINUDohxHCo/01QCsYldQJSDVA6IcRwqP9NUDohxHCo/01QLA4nPnV3DNA6IcRwqP9NUArGJXUCUg1QOiHEcKj/TVAKxiV1AlINUDohxHCo/01QOiHEcKj/TVAKxiV1AlINUDohxHCo/01QCsYldQJSDVA6IcRwqP9NUDohxHCo/01QLA4nPnV3DNA6IcRwqP9NUArGJXUCUg1QOiHEcKj/TVAKxiV1AlINUDohxHCo/01QOiHEcKj/TVAKxiV1AlINUDohxHCo/01QCsYldQJSDVA6IcRwqP9NUDohxHCo/01QLA4nPnV3DNA6IcRwqP9NUArGJXUCUg1QOiHEcKj/TVAKxiV1AlINUDohxHCo/01QOiHEcKj/TVAKxiV1AlINUDohxHCo/01QCsYldQJSDVA6IcRwqP9NUDohxHCo/01QG2oGOdvkjRA6IcRwqP9NUArGJXUCUg1QOiHEcKj/TVAKxiV1AlINUDohxHCo/01QOiHEcKj/TVAKxiV1AlINUDohxHCo/01QCsYldQJSDVA6IcRwqP9NUDohxHCo/01QLA4nPnV3DNA6IcRwqP9NUArGJXUCUg1QOiHEcKj/TVAKxiV1AlINUDohxHCo/01QOiHEcKj/TVAKxiV1AlINUDohxHCo/01QCsYldQJSDVA6IcRwqP9NUDohxHCo/01QLA4nPnV3DNA6IcRwqP9NUArGJXUCUg1QOiHEcKj/TVAKxiV1AlINUDohxHCo/01QOiHEcKj/TVAKxiV1AlINUDohxHCo/01QCsYldQJSDVA6IcRwqP9NUDohxHCo/01QLA4nPnV3DNA6IcRwqP9NUArGJXUCUg1QOiHEcKj/TVAKxiV1AlINUDohxHCo/01QOiHEcKj/TVAKxiV1AlINUDohxHCo/01QCsYldQJSDVA",
          "dtype": "f8"
         }
        }
       ],
       "layout": {
        "barmode": "stack",
        "template": {
         "data": {
          "bar": [
           {
            "error_x": {
             "color": "#2a3f5f"
            },
            "error_y": {
             "color": "#2a3f5f"
            },
            "marker": {
             "line": {
              "color": "white",
              "width": 0.5
             },
             "pattern": {
              "fillmode": "overlay",
              "size": 10,
              "solidity": 0.2
             }
            },
            "type": "bar"
           }
          ],
          "barpolar": [
           {
            "marker": {
             "line": {
              "color": "white",
              "width": 0.5
             },
             "pattern": {
              "fillmode": "overlay",
              "size": 10,
              "solidity": 0.2
             }
            },
            "type": "barpolar"
           }
          ],
          "carpet": [
           {
            "aaxis": {
             "endlinecolor": "#2a3f5f",
             "gridcolor": "#C8D4E3",
             "linecolor": "#C8D4E3",
             "minorgridcolor": "#C8D4E3",
             "startlinecolor": "#2a3f5f"
            },
            "baxis": {
             "endlinecolor": "#2a3f5f",
             "gridcolor": "#C8D4E3",
             "linecolor": "#C8D4E3",
             "minorgridcolor": "#C8D4E3",
             "startlinecolor": "#2a3f5f"
            },
            "type": "carpet"
           }
          ],
          "choropleth": [
           {
            "colorbar": {
             "outlinewidth": 0,
             "ticks": ""
            },
            "type": "choropleth"
           }
          ],
          "contour": [
           {
            "colorbar": {
             "outlinewidth": 0,
             "ticks": ""
            },
            "colorscale": [
             [
              0,
              "#0d0887"
             ],
             [
              0.1111111111111111,
              "#46039f"
             ],
             [
              0.2222222222222222,
              "#7201a8"
             ],
             [
              0.3333333333333333,
              "#9c179e"
             ],
             [
              0.4444444444444444,
              "#bd3786"
             ],
             [
              0.5555555555555556,
              "#d8576b"
             ],
             [
              0.6666666666666666,
              "#ed7953"
             ],
             [
              0.7777777777777778,
              "#fb9f3a"
             ],
             [
              0.8888888888888888,
              "#fdca26"
             ],
             [
              1,
              "#f0f921"
             ]
            ],
            "type": "contour"
           }
          ],
          "contourcarpet": [
           {
            "colorbar": {
             "outlinewidth": 0,
             "ticks": ""
            },
            "type": "contourcarpet"
           }
          ],
          "heatmap": [
           {
            "colorbar": {
             "outlinewidth": 0,
             "ticks": ""
            },
            "colorscale": [
             [
              0,
              "#0d0887"
             ],
             [
              0.1111111111111111,
              "#46039f"
             ],
             [
              0.2222222222222222,
              "#7201a8"
             ],
             [
              0.3333333333333333,
              "#9c179e"
             ],
             [
              0.4444444444444444,
              "#bd3786"
             ],
             [
              0.5555555555555556,
              "#d8576b"
             ],
             [
              0.6666666666666666,
              "#ed7953"
             ],
             [
              0.7777777777777778,
              "#fb9f3a"
             ],
             [
              0.8888888888888888,
              "#fdca26"
             ],
             [
              1,
              "#f0f921"
             ]
            ],
            "type": "heatmap"
           }
          ],
          "histogram": [
           {
            "marker": {
             "pattern": {
              "fillmode": "overlay",
              "size": 10,
              "solidity": 0.2
             }
            },
            "type": "histogram"
           }
          ],
          "histogram2d": [
           {
            "colorbar": {
             "outlinewidth": 0,
             "ticks": ""
            },
            "colorscale": [
             [
              0,
              "#0d0887"
             ],
             [
              0.1111111111111111,
              "#46039f"
             ],
             [
              0.2222222222222222,
              "#7201a8"
             ],
             [
              0.3333333333333333,
              "#9c179e"
             ],
             [
              0.4444444444444444,
              "#bd3786"
             ],
             [
              0.5555555555555556,
              "#d8576b"
             ],
             [
              0.6666666666666666,
              "#ed7953"
             ],
             [
              0.7777777777777778,
              "#fb9f3a"
             ],
             [
              0.8888888888888888,
              "#fdca26"
             ],
             [
              1,
              "#f0f921"
             ]
            ],
            "type": "histogram2d"
           }
          ],
          "histogram2dcontour": [
           {
            "colorbar": {
             "outlinewidth": 0,
             "ticks": ""
            },
            "colorscale": [
             [
              0,
              "#0d0887"
             ],
             [
              0.1111111111111111,
              "#46039f"
             ],
             [
              0.2222222222222222,
              "#7201a8"
             ],
             [
              0.3333333333333333,
              "#9c179e"
             ],
             [
              0.4444444444444444,
              "#bd3786"
             ],
             [
              0.5555555555555556,
              "#d8576b"
             ],
             [
              0.6666666666666666,
              "#ed7953"
             ],
             [
              0.7777777777777778,
              "#fb9f3a"
             ],
             [
              0.8888888888888888,
              "#fdca26"
             ],
             [
              1,
              "#f0f921"
             ]
            ],
            "type": "histogram2dcontour"
           }
          ],
          "mesh3d": [
           {
            "colorbar": {
             "outlinewidth": 0,
             "ticks": ""
            },
            "type": "mesh3d"
           }
          ],
          "parcoords": [
           {
            "line": {
             "colorbar": {
              "outlinewidth": 0,
              "ticks": ""
             }
            },
            "type": "parcoords"
           }
          ],
          "pie": [
           {
            "automargin": true,
            "type": "pie"
           }
          ],
          "scatter": [
           {
            "fillpattern": {
             "fillmode": "overlay",
             "size": 10,
             "solidity": 0.2
            },
            "type": "scatter"
           }
          ],
          "scatter3d": [
           {
            "line": {
             "colorbar": {
              "outlinewidth": 0,
              "ticks": ""
             }
            },
            "marker": {
             "colorbar": {
              "outlinewidth": 0,
              "ticks": ""
             }
            },
            "type": "scatter3d"
           }
          ],
          "scattercarpet": [
           {
            "marker": {
             "colorbar": {
              "outlinewidth": 0,
              "ticks": ""
             }
            },
            "type": "scattercarpet"
           }
          ],
          "scattergeo": [
           {
            "marker": {
             "colorbar": {
              "outlinewidth": 0,
              "ticks": ""
             }
            },
            "type": "scattergeo"
           }
          ],
          "scattergl": [
           {
            "marker": {
             "colorbar": {
              "outlinewidth": 0,
              "ticks": ""
             }
            },
            "type": "scattergl"
           }
          ],
          "scattermap": [
           {
            "marker": {
             "colorbar": {
              "outlinewidth": 0,
              "ticks": ""
             }
            },
            "type": "scattermap"
           }
          ],
          "scattermapbox": [
           {
            "marker": {
             "colorbar": {
              "outlinewidth": 0,
              "ticks": ""
             }
            },
            "type": "scattermapbox"
           }
          ],
          "scatterpolar": [
           {
            "marker": {
             "colorbar": {
              "outlinewidth": 0,
              "ticks": ""
             }
            },
            "type": "scatterpolar"
           }
          ],
          "scatterpolargl": [
           {
            "marker": {
             "colorbar": {
              "outlinewidth": 0,
              "ticks": ""
             }
            },
            "type": "scatterpolargl"
           }
          ],
          "scatterternary": [
           {
            "marker": {
             "colorbar": {
              "outlinewidth": 0,
              "ticks": ""
             }
            },
            "type": "scatterternary"
           }
          ],
          "surface": [
           {
            "colorbar": {
             "outlinewidth": 0,
             "ticks": ""
            },
            "colorscale": [
             [
              0,
              "#0d0887"
             ],
             [
              0.1111111111111111,
              "#46039f"
             ],
             [
              0.2222222222222222,
              "#7201a8"
             ],
             [
              0.3333333333333333,
              "#9c179e"
             ],
             [
              0.4444444444444444,
              "#bd3786"
             ],
             [
              0.5555555555555556,
              "#d8576b"
             ],
             [
              0.6666666666666666,
              "#ed7953"
             ],
             [
              0.7777777777777778,
              "#fb9f3a"
             ],
             [
              0.8888888888888888,
              "#fdca26"
             ],
             [
              1,
              "#f0f921"
             ]
            ],
            "type": "surface"
           }
          ],
          "table": [
           {
            "cells": {
             "fill": {
              "color": "#EBF0F8"
             },
             "line": {
              "color": "white"
             }
            },
            "header": {
             "fill": {
              "color": "#C8D4E3"
             },
             "line": {
              "color": "white"
             }
            },
            "type": "table"
           }
          ]
         },
         "layout": {
          "annotationdefaults": {
           "arrowcolor": "#2a3f5f",
           "arrowhead": 0,
           "arrowwidth": 1
          },
          "autotypenumbers": "strict",
          "coloraxis": {
           "colorbar": {
            "outlinewidth": 0,
            "ticks": ""
           }
          },
          "colorscale": {
           "diverging": [
            [
             0,
             "#8e0152"
            ],
            [
             0.1,
             "#c51b7d"
            ],
            [
             0.2,
             "#de77ae"
            ],
            [
             0.3,
             "#f1b6da"
            ],
            [
             0.4,
             "#fde0ef"
            ],
            [
             0.5,
             "#f7f7f7"
            ],
            [
             0.6,
             "#e6f5d0"
            ],
            [
             0.7,
             "#b8e186"
            ],
            [
             0.8,
             "#7fbc41"
            ],
            [
             0.9,
             "#4d9221"
            ],
            [
             1,
             "#276419"
            ]
           ],
           "sequential": [
            [
             0,
             "#0d0887"
            ],
            [
             0.1111111111111111,
             "#46039f"
            ],
            [
             0.2222222222222222,
             "#7201a8"
            ],
            [
             0.3333333333333333,
             "#9c179e"
            ],
            [
             0.4444444444444444,
             "#bd3786"
            ],
            [
             0.5555555555555556,
             "#d8576b"
            ],
            [
             0.6666666666666666,
             "#ed7953"
            ],
            [
             0.7777777777777778,
             "#fb9f3a"
            ],
            [
             0.8888888888888888,
             "#fdca26"
            ],
            [
             1,
             "#f0f921"
            ]
           ],
           "sequentialminus": [
            [
             0,
             "#0d0887"
            ],
            [
             0.1111111111111111,
             "#46039f"
            ],
            [
             0.2222222222222222,
             "#7201a8"
            ],
            [
             0.3333333333333333,
             "#9c179e"
            ],
            [
             0.4444444444444444,
             "#bd3786"
            ],
            [
             0.5555555555555556,
             "#d8576b"
            ],
            [
             0.6666666666666666,
             "#ed7953"
            ],
            [
             0.7777777777777778,
             "#fb9f3a"
            ],
            [
             0.8888888888888888,
             "#fdca26"
            ],
            [
             1,
             "#f0f921"
            ]
           ]
          },
          "colorway": [
           "#636efa",
           "#EF553B",
           "#00cc96",
           "#ab63fa",
           "#FFA15A",
           "#19d3f3",
           "#FF6692",
           "#B6E880",
           "#FF97FF",
           "#FECB52"
          ],
          "font": {
           "color": "#2a3f5f"
          },
          "geo": {
           "bgcolor": "white",
           "lakecolor": "white",
           "landcolor": "white",
           "showlakes": true,
           "showland": true,
           "subunitcolor": "#C8D4E3"
          },
          "hoverlabel": {
           "align": "left"
          },
          "hovermode": "closest",
          "mapbox": {
           "style": "light"
          },
          "paper_bgcolor": "white",
          "plot_bgcolor": "white",
          "polar": {
           "angularaxis": {
            "gridcolor": "#EBF0F8",
            "linecolor": "#EBF0F8",
            "ticks": ""
           },
           "bgcolor": "white",
           "radialaxis": {
            "gridcolor": "#EBF0F8",
            "linecolor": "#EBF0F8",
            "ticks": ""
           }
          },
          "scene": {
           "xaxis": {
            "backgroundcolor": "white",
            "gridcolor": "#DFE8F3",
            "gridwidth": 2,
            "linecolor": "#EBF0F8",
            "showbackground": true,
            "ticks": "",
            "zerolinecolor": "#EBF0F8"
           },
           "yaxis": {
            "backgroundcolor": "white",
            "gridcolor": "#DFE8F3",
            "gridwidth": 2,
            "linecolor": "#EBF0F8",
            "showbackground": true,
            "ticks": "",
            "zerolinecolor": "#EBF0F8"
           },
           "zaxis": {
            "backgroundcolor": "white",
            "gridcolor": "#DFE8F3",
            "gridwidth": 2,
            "linecolor": "#EBF0F8",
            "showbackground": true,
            "ticks": "",
            "zerolinecolor": "#EBF0F8"
           }
          },
          "shapedefaults": {
           "line": {
            "color": "#2a3f5f"
           }
          },
          "ternary": {
           "aaxis": {
            "gridcolor": "#DFE8F3",
            "linecolor": "#A2B1C6",
            "ticks": ""
           },
           "baxis": {
            "gridcolor": "#DFE8F3",
            "linecolor": "#A2B1C6",
            "ticks": ""
           },
           "bgcolor": "white",
           "caxis": {
            "gridcolor": "#DFE8F3",
            "linecolor": "#A2B1C6",
            "ticks": ""
           }
          },
          "title": {
           "x": 0.05
          },
          "xaxis": {
           "automargin": true,
           "gridcolor": "#EBF0F8",
           "linecolor": "#EBF0F8",
           "ticks": "",
           "title": {
            "standoff": 15
           },
           "zerolinecolor": "#EBF0F8",
           "zerolinewidth": 2
          },
          "yaxis": {
           "automargin": true,
           "gridcolor": "#EBF0F8",
           "linecolor": "#EBF0F8",
           "ticks": "",
           "title": {
            "standoff": 15
           },
           "zerolinecolor": "#EBF0F8",
           "zerolinewidth": 2
          }
         }
        },
        "title": {
         "text": "Evolución de la OEF por Tipo de Subasta"
        },
        "xaxis": {
         "title": {
          "text": "Año"
         }
        },
        "yaxis": {
         "title": {
          "text": "GWh"
         }
        }
       }
      }
     },
     "metadata": {},
     "output_type": "display_data"
    }
   ],
   "source": [
    "df_oef_tipoS = df_diario_oef.groupby([\"Mes\", \"TipoSubasta\"])[\"OEFDiaria\"].sum().reset_index()     \n",
    "df_oef_tipoS['OEFDiaria'] = df_oef_tipoS['OEFDiaria']/1000000                                   # Se pasa a Gwh como unidad de medida\n",
    "\n",
    "fig = go.Figure()                                                                               # Se crea el objeto de gráfica\n",
    "\n",
    "for tipo in df_oef_tipoS[\"TipoSubasta\"].dropna().unique():                                      # Se añade una línea por cada tipo de generación\n",
    "    tipo_data = df_oef_tipoS[df_oef_tipoS[\"TipoSubasta\"] == tipo]\n",
    "    fig.add_trace(go.Bar(\n",
    "        x=tipo_data[\"Mes\"],                                                                     # Valores Eje X\n",
    "        y=tipo_data[\"OEFDiaria\"],                                                               # Valores Eje Y\n",
    "        name=tipo                                                                               # Nombre de la línea\n",
    "    ))\n",
    "\n",
    "fig.update_layout(                                                                              # Se configura el diseño del gráfico\n",
    "    title=\"Evolución de la OEF por Tipo de Subasta\",                                            # Título del gráfico\n",
    "    xaxis_title=\"Año\",                                                                          # Título Eje X\n",
    "    yaxis_title=\"GWh\",                                                                          # Título Eje Y\n",
    "    template=\"plotly_white\",\n",
    "    barmode='stack'                                                                             # Agrupa las barras por categoría\n",
    ")\n",
    "\n",
    "fig.show()                                                                                      # Se muestra el gráfico"
   ]
  }
 ],
 "metadata": {
  "kernelspec": {
   "display_name": ".venv",
   "language": "python",
   "name": "python3"
  },
  "language_info": {
   "codemirror_mode": {
    "name": "ipython",
    "version": 3
   },
   "file_extension": ".py",
   "mimetype": "text/x-python",
   "name": "python",
   "nbconvert_exporter": "python",
   "pygments_lexer": "ipython3",
   "version": "3.13.5"
  }
 },
 "nbformat": 4,
 "nbformat_minor": 2
}
