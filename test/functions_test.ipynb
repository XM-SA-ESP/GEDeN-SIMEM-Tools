{
 "cells": [
  {
   "cell_type": "code",
   "execution_count": 1,
   "metadata": {},
   "outputs": [],
   "source": [
    "import sys\n",
    "import os\n",
    "sys.path.append(os.path.abspath('..\\src'))\n",
    "from pydatasimem import PyDataSimem\n",
    "\n",
    "simem = PyDataSimem()"
   ]
  },
  {
   "cell_type": "code",
   "execution_count": 5,
   "metadata": {},
   "outputs": [],
   "source": [
    "p_bolsa_id = 'EC6945'\n",
    "simem.dataset_id = p_bolsa_id\n",
    "p_escasez_id = 'ae3f23'\n",
    "fecha_inicial = '2023-04-01'\n",
    "fecha_final = '2024-04-30'"
   ]
  },
  {
   "cell_type": "markdown",
   "metadata": {},
   "source": [
    "---\n",
    "Necesito la resolucion  \n",
    "&emsp;-> Necesito la granularidad  \n",
    "&emsp;&emsp;-> Necesito el datasetid como atributo  \n",
    "-> Anadir a la funcion el datasetid(?)"
   ]
  },
  {
   "cell_type": "code",
   "execution_count": 6,
   "metadata": {},
   "outputs": [
    {
     "data": {
      "text/plain": [
       "['https://www.simem.co/backend-files/api/PublicData?startdate=2023-04-01&enddate=2023-05-01&datasetId=EC6945',\n",
       " 'https://www.simem.co/backend-files/api/PublicData?startdate=2023-05-02&enddate=2023-06-01&datasetId=EC6945',\n",
       " 'https://www.simem.co/backend-files/api/PublicData?startdate=2023-06-02&enddate=2023-07-02&datasetId=EC6945',\n",
       " 'https://www.simem.co/backend-files/api/PublicData?startdate=2023-07-03&enddate=2023-08-02&datasetId=EC6945',\n",
       " 'https://www.simem.co/backend-files/api/PublicData?startdate=2023-08-03&enddate=2023-09-02&datasetId=EC6945',\n",
       " 'https://www.simem.co/backend-files/api/PublicData?startdate=2023-09-03&enddate=2023-10-03&datasetId=EC6945',\n",
       " 'https://www.simem.co/backend-files/api/PublicData?startdate=2023-10-04&enddate=2023-11-03&datasetId=EC6945',\n",
       " 'https://www.simem.co/backend-files/api/PublicData?startdate=2023-11-04&enddate=2023-12-04&datasetId=EC6945',\n",
       " 'https://www.simem.co/backend-files/api/PublicData?startdate=2023-12-05&enddate=2024-01-04&datasetId=EC6945',\n",
       " 'https://www.simem.co/backend-files/api/PublicData?startdate=2024-01-05&enddate=2024-02-04&datasetId=EC6945',\n",
       " 'https://www.simem.co/backend-files/api/PublicData?startdate=2024-02-05&enddate=2024-03-06&datasetId=EC6945',\n",
       " 'https://www.simem.co/backend-files/api/PublicData?startdate=2024-03-07&enddate=2024-04-06&datasetId=EC6945',\n",
       " 'https://www.simem.co/backend-files/api/PublicData?startdate=2024-04-07&enddate=2024-04-30&datasetId=EC6945']"
      ]
     },
     "execution_count": 6,
     "metadata": {},
     "output_type": "execute_result"
    }
   ],
   "source": [
    "simem.create_urls(fecha_inicial, fecha_final, 31)"
   ]
  },
  {
   "cell_type": "markdown",
   "metadata": {},
   "source": [
    "---\n",
    "Necesito el dataset id como atributo"
   ]
  },
  {
   "cell_type": "code",
   "execution_count": 7,
   "metadata": {},
   "outputs": [
    {
     "data": {
      "text/plain": [
       "{'description': 'Precio de bolsa horario nacional, internacional y TIE',\n",
       " 'creationDate': '2023-10-02 21:36:52',\n",
       " 'lastUpdate': '2024-05-07 19:15:55',\n",
       " 'entity': 'XM',\n",
       " 'category': 'Precio de bolsa horario',\n",
       " 'periodicity': 'Diaria',\n",
       " 'granularity': 'Horaria',\n",
       " 'historicData': 'NaN',\n",
       " 'private': False}"
      ]
     },
     "execution_count": 7,
     "metadata": {},
     "output_type": "execute_result"
    }
   ],
   "source": [
    "simem.get_metadata()"
   ]
  }
 ],
 "metadata": {
  "kernelspec": {
   "display_name": "py311datasimem.env",
   "language": "python",
   "name": "python3"
  },
  "language_info": {
   "codemirror_mode": {
    "name": "ipython",
    "version": 3
   },
   "file_extension": ".py",
   "mimetype": "text/x-python",
   "name": "python",
   "nbconvert_exporter": "python",
   "pygments_lexer": "ipython3",
   "version": "3.11.8"
  }
 },
 "nbformat": 4,
 "nbformat_minor": 2
}
