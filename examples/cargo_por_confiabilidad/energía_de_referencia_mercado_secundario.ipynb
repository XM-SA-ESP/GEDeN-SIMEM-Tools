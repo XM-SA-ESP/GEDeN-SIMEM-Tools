{
 "cells": [
  {
   "attachments": {
    "SIMEM_logo_1.png": {
     "image/png": "[encoded data removed]"
    }
   },
   "cell_type": "markdown",
   "metadata": {},
   "source": [
    "![SIMEM_logo_1.png](attachment:SIMEM_logo_1.png)\n",
    "\n",
    "[SiMEM](https://www.simem.co/)"
   ]
  },
  {
   "cell_type": "markdown",
   "metadata": {},
   "source": [
    "## Caso de uso - Energía de Referencia para el Mercado Secundario\n",
    "\n",
    "# Objetivos de este Notebook\n",
    "\n",
    "* Explicar cómo se realiza la instalación e importación de la librería pydataxm desde la consola para su uso en ambientes locales\n",
    "* Explicar cómo se pueden consultar los conjuntos de datos a través de la librería Pydataxm\n",
    "* Explicar cómo realizar el procesamiento y manipulación de los datos consultados\n",
    "* Explicar el análisis de los datos consultados para dar respuesta al caso de uso propuesto\n",
    " \n",
    "**Índice**\n",
    "\n",
    "1. [Instalación de librerías](#section1)\n",
    "\n",
    "2. [Importación de librerías](#section2)\n",
    "\n",
    "3. [Consultar información de los conjuntos de datos](#section3)\n",
    "\n",
    "4. [Manipulación de datos](#section4)\n",
    "\n",
    "5. [Análisis para dar respuesta al caso de uso](#section5)"
   ]
  },
  {
   "cell_type": "markdown",
   "metadata": {},
   "source": [
    "<a id='section1'></a>\n",
    "# 1. Instalación de la librería\n",
    "Ejecutar el siguiente comando en el CMD para instalar la librería de python."
   ]
  },
  {
   "cell_type": "code",
   "execution_count": 1,
   "metadata": {},
   "outputs": [],
   "source": [
    "# import sys\n",
    "# !{sys.executable} -m pip install pydataxm"
   ]
  },
  {
   "cell_type": "markdown",
   "metadata": {},
   "source": [
    "<a id='section2'></a>\n",
    "# 2. Importación de librerías"
   ]
  },
  {
   "cell_type": "code",
   "execution_count": 2,
   "metadata": {},
   "outputs": [],
   "source": [
    "# Importación de librerías necesarias para la consulta y análisis de datos\n",
    "from pydataxm.pydatasimem import ReadSIMEM  # Importa clases para interactuar con datos del sistema SIMEM, utilizado para acceder a información energética en Colombia\n",
    "import pandas as pd                         # Librería para manipulación y análisis de datos en estructuras tipo DataFrame, muy útil para limpiar, transformar y explorar datos\n",
    "import plotly.graph_objects as go           # Módulo de Plotly para crear visualizaciones interactivas y personalizadas, como gráficos de líneas, barras, áreas, etc."
   ]
  },
  {
   "cell_type": "markdown",
   "metadata": {},
   "source": [
    "<a id='section3'></a>\n",
    "# 3. Consultar información de los conjuntos de datos\n",
    "El método de extracción recibe los parámetros con los que se va a realizar la consulta. \n",
    "El datasetID para un conjunto particular se puede encontrar en el [catálogo de conjuntos de datos.](https://www.simem.co/pages/catalogodatos/51FC0A59-3A00-462C-B449-9CB8D5E007FB)  \n",
    "Para este ejemplo el conjunto a presentar es  [Energía de Referencia para el Mercado Secundario](https://www.simem.co/datadetail/d808d43d-e3da-493d-aab5-015a818ade10)."
   ]
  },
  {
   "cell_type": "markdown",
   "metadata": {},
   "source": [
    "Se definen los parámetros de entrada y se crea el objeto ReadSIMEM() para realizar las consultas."
   ]
  },
  {
   "cell_type": "markdown",
   "metadata": {},
   "source": [
    "La función main contiene todo el proceso para transportar la información del dataset entre el rango de fechas solicitadas a un dataframe. Después de este paso, el proceso es de manipulación y visualización de datos."
   ]
  },
  {
   "cell_type": "code",
   "execution_count": 3,
   "metadata": {},
   "outputs": [
    {
     "name": "stdout",
     "output_type": "stream",
     "text": [
      "****************************************************************************************************\n",
      "Initializing object\n",
      "The object has been initialized with the dataset: \"Energía de Referencia para el Mercado Secundario\"\n",
      "****************************************************************************************************\n",
      "Inicio consulta sincronica\n",
      "Creacion url: 0.0015680789947509766\n",
      "Extraccion de registros: 73.39360475540161\n",
      "End of data extracting process\n",
      "****************************************************************************************************\n"
     ]
    },
    {
     "data": {
      "application/vnd.microsoft.datawrangler.viewer.v0+json": {
       "columns": [
        {
         "name": "index",
         "rawType": "int64",
         "type": "integer"
        },
        {
         "name": "FechaPublicacion",
         "rawType": "object",
         "type": "string"
        },
        {
         "name": "Fecha",
         "rawType": "object",
         "type": "string"
        },
        {
         "name": "CodigoDuracion",
         "rawType": "object",
         "type": "string"
        },
        {
         "name": "CodigoSICAgente",
         "rawType": "object",
         "type": "string"
        },
        {
         "name": "CodigoPlanta",
         "rawType": "object",
         "type": "string"
        },
        {
         "name": "ENFICCVerificada",
         "rawType": "float64",
         "type": "float"
        },
        {
         "name": "EDA",
         "rawType": "float64",
         "type": "float"
        },
        {
         "name": "OEF",
         "rawType": "float64",
         "type": "float"
        },
        {
         "name": "VCMSENFICC",
         "rawType": "float64",
         "type": "float"
        },
        {
         "name": "VCMSEDA",
         "rawType": "float64",
         "type": "float"
        },
        {
         "name": "VCMSTotales",
         "rawType": "float64",
         "type": "float"
        },
        {
         "name": "ENFICCNoComp",
         "rawType": "float64",
         "type": "float"
        },
        {
         "name": "EDANoComp",
         "rawType": "float64",
         "type": "float"
        },
        {
         "name": "EnergiaReferenciaMercadoSecundario",
         "rawType": "float64",
         "type": "float"
        }
       ],
       "ref": "bb6eda0e-11ba-462a-ad46-d6fe946b113b",
       "rows": [
        [
         "0",
         "2025-07-27",
         "2025-07-31",
         "P1D",
         "TYPG",
         "TYP2",
         "623520.0",
         "0.0",
         "0.0",
         "528000.0",
         "0.0",
         "528000.0",
         "95520.0",
         "0.0",
         "95520.0"
        ],
        [
         "1",
         "2025-07-27",
         "2025-07-31",
         "P1D",
         "TYPG",
         "TYP5",
         "1131536.0",
         "0.0",
         "1139999.0",
         "0.0",
         "0.0",
         "0.0",
         "-8463.0",
         "0.0",
         "-8463.0"
        ],
        [
         "2",
         "2025-07-27",
         "2025-07-31",
         "P1D",
         "TYPG",
         "TYP3",
         "1137984.0",
         "0.0",
         "1139999.0",
         "0.0",
         "0.0",
         "0.0",
         "-2015.0",
         "0.0",
         "-2015.0"
        ],
        [
         "3",
         "2025-07-27",
         "2025-07-31",
         "P1D",
         "TYPG",
         "TYP1",
         "189600.0",
         "0.0",
         "0.0",
         "189000.0",
         "0.0",
         "189000.0",
         "600.0",
         "0.0",
         "600.0"
        ],
        [
         "4",
         "2025-07-27",
         "2025-07-31",
         "P1D",
         "TYPG",
         "TYP4",
         "1140000.0",
         "0.0",
         "1139999.0",
         "0.0",
         "0.0",
         "0.0",
         "1.0",
         "0.0",
         "1.0"
        ],
        [
         "5",
         "2025-07-27",
         "2025-07-31",
         "P1D",
         "TRMG",
         "TSJ1",
         "3830853.0",
         "0.0",
         "3553472.0",
         "80000.0",
         "0.0",
         "80000.0",
         "197381.0",
         "0.0",
         "197381.0"
        ],
        [
         "6",
         "2025-07-27",
         "2025-07-31",
         "P1D",
         "TMVG",
         "TVL1",
         "5478572.0",
         "0.0",
         "5550728.0",
         "0.0",
         "0.0",
         "0.0",
         "-72156.0",
         "0.0",
         "-72156.0"
        ],
        [
         "7",
         "2025-07-27",
         "2025-07-31",
         "P1D",
         "TMNG",
         "TRN1",
         "1829900.0",
         "0.0",
         "1887700.0",
         "0.0",
         "0.0",
         "0.0",
         "-57800.0",
         "0.0",
         "-57800.0"
        ],
        [
         "8",
         "2025-07-27",
         "2025-07-31",
         "P1D",
         "TMFG",
         "TFL4",
         "9957707.0",
         "0.0",
         "10365425.0",
         "0.0",
         "0.0",
         "0.0",
         "-407718.0",
         "0.0",
         "-407718.0"
        ],
        [
         "9",
         "2025-07-27",
         "2025-07-31",
         "P1D",
         "TMFG",
         "TFL1",
         "3515013.0",
         "0.0",
         "3645028.0",
         "0.0",
         "0.0",
         "0.0",
         "-130015.0",
         "0.0",
         "-130015.0"
        ],
        [
         "10",
         "2025-07-27",
         "2025-07-31",
         "P1D",
         "TERG",
         "TSJ2",
         "3937816.0",
         "0.0",
         "3905465.0",
         "0.0",
         "0.0",
         "0.0",
         "32351.0",
         "0.0",
         "32351.0"
        ],
        [
         "11",
         "2025-07-27",
         "2025-07-31",
         "P1D",
         "TEMG",
         "TEC1",
         "4806987.0",
         "0.0",
         "4677217.0",
         "0.0",
         "0.0",
         "0.0",
         "129770.0",
         "0.0",
         "129770.0"
        ],
        [
         "12",
         "2025-07-27",
         "2025-07-31",
         "P1D",
         "TCNG",
         "TRM1",
         "5385396.0",
         "0.0",
         "0.0",
         "0.0",
         "0.0",
         "0.0",
         "5385396.0",
         "0.0",
         "5385396.0"
        ],
        [
         "13",
         "2025-07-27",
         "2025-07-31",
         "P1D",
         "TCIG",
         "TCDT",
         "12653987.0",
         "0.0",
         "12652668.0",
         "0.0",
         "0.0",
         "0.0",
         "1319.0",
         "0.0",
         "1319.0"
        ],
        [
         "14",
         "2025-07-27",
         "2025-07-31",
         "P1D",
         "TCBG",
         "TCBE",
         "806400.0",
         "0.0",
         "887040.0",
         "0.0",
         "0.0",
         "0.0",
         "-80640.0",
         "0.0",
         "-80640.0"
        ],
        [
         "15",
         "2025-07-27",
         "2025-07-31",
         "P1D",
         "TBSG",
         "TBST",
         "18436293.0",
         "0.0",
         "18331181.0",
         "0.0",
         "0.0",
         "0.0",
         "105112.0",
         "0.0",
         "105112.0"
        ],
        [
         "16",
         "2025-07-27",
         "2025-07-31",
         "P1D",
         "TBSG",
         "TBQ4",
         "1276687.0",
         "0.0",
         "1138538.0",
         "146853.0",
         "0.0",
         "146853.0",
         "-8704.0",
         "0.0",
         "-8704.0"
        ],
        [
         "17",
         "2025-07-27",
         "2025-07-31",
         "P1D",
         "TBSG",
         "TBQ3",
         "1335125.0",
         "0.0",
         "1114213.0",
         "197602.0",
         "0.0",
         "197602.0",
         "23310.0",
         "0.0",
         "23310.0"
        ],
        [
         "18",
         "2025-07-27",
         "2025-07-31",
         "P1D",
         "SOCG",
         "PPA4",
         "3865079.0",
         "0.0",
         "3863497.32",
         "0.0",
         "0.0",
         "0.0",
         "1581.68",
         "0.0",
         "1581.68"
        ],
        [
         "19",
         "2025-07-27",
         "2025-07-31",
         "P1D",
         "SLUG",
         "3IZ6",
         "371517.0",
         "0.0",
         "272888.0",
         "130000.0",
         "0.0",
         "130000.0",
         "-31371.0",
         "0.0",
         "-31371.0"
        ]
       ],
       "shape": {
        "columns": 14,
        "rows": 20
       }
      },
      "text/html": [
       "<div>\n",
       "<style scoped>\n",
       "    .dataframe tbody tr th:only-of-type {\n",
       "        vertical-align: middle;\n",
       "    }\n",
       "\n",
       "    .dataframe tbody tr th {\n",
       "        vertical-align: top;\n",
       "    }\n",
       "\n",
       "    .dataframe thead th {\n",
       "        text-align: right;\n",
       "    }\n",
       "</style>\n",
       "<table border=\"1\" class=\"dataframe\">\n",
       "  <thead>\n",
       "    <tr style=\"text-align: right;\">\n",
       "      <th></th>\n",
       "      <th>FechaPublicacion</th>\n",
       "      <th>Fecha</th>\n",
       "      <th>CodigoDuracion</th>\n",
       "      <th>CodigoSICAgente</th>\n",
       "      <th>CodigoPlanta</th>\n",
       "      <th>ENFICCVerificada</th>\n",
       "      <th>EDA</th>\n",
       "      <th>OEF</th>\n",
       "      <th>VCMSENFICC</th>\n",
       "      <th>VCMSEDA</th>\n",
       "      <th>VCMSTotales</th>\n",
       "      <th>ENFICCNoComp</th>\n",
       "      <th>EDANoComp</th>\n",
       "      <th>EnergiaReferenciaMercadoSecundario</th>\n",
       "    </tr>\n",
       "  </thead>\n",
       "  <tbody>\n",
       "    <tr>\n",
       "      <th>0</th>\n",
       "      <td>2025-07-27</td>\n",
       "      <td>2025-07-31</td>\n",
       "      <td>P1D</td>\n",
       "      <td>TYPG</td>\n",
       "      <td>TYP2</td>\n",
       "      <td>623520.0</td>\n",
       "      <td>0.0</td>\n",
       "      <td>0.00</td>\n",
       "      <td>528000.0</td>\n",
       "      <td>0.0</td>\n",
       "      <td>528000.0</td>\n",
       "      <td>95520.00</td>\n",
       "      <td>0.0</td>\n",
       "      <td>95520.00</td>\n",
       "    </tr>\n",
       "    <tr>\n",
       "      <th>1</th>\n",
       "      <td>2025-07-27</td>\n",
       "      <td>2025-07-31</td>\n",
       "      <td>P1D</td>\n",
       "      <td>TYPG</td>\n",
       "      <td>TYP5</td>\n",
       "      <td>1131536.0</td>\n",
       "      <td>0.0</td>\n",
       "      <td>1139999.00</td>\n",
       "      <td>0.0</td>\n",
       "      <td>0.0</td>\n",
       "      <td>0.0</td>\n",
       "      <td>-8463.00</td>\n",
       "      <td>0.0</td>\n",
       "      <td>-8463.00</td>\n",
       "    </tr>\n",
       "    <tr>\n",
       "      <th>2</th>\n",
       "      <td>2025-07-27</td>\n",
       "      <td>2025-07-31</td>\n",
       "      <td>P1D</td>\n",
       "      <td>TYPG</td>\n",
       "      <td>TYP3</td>\n",
       "      <td>1137984.0</td>\n",
       "      <td>0.0</td>\n",
       "      <td>1139999.00</td>\n",
       "      <td>0.0</td>\n",
       "      <td>0.0</td>\n",
       "      <td>0.0</td>\n",
       "      <td>-2015.00</td>\n",
       "      <td>0.0</td>\n",
       "      <td>-2015.00</td>\n",
       "    </tr>\n",
       "    <tr>\n",
       "      <th>3</th>\n",
       "      <td>2025-07-27</td>\n",
       "      <td>2025-07-31</td>\n",
       "      <td>P1D</td>\n",
       "      <td>TYPG</td>\n",
       "      <td>TYP1</td>\n",
       "      <td>189600.0</td>\n",
       "      <td>0.0</td>\n",
       "      <td>0.00</td>\n",
       "      <td>189000.0</td>\n",
       "      <td>0.0</td>\n",
       "      <td>189000.0</td>\n",
       "      <td>600.00</td>\n",
       "      <td>0.0</td>\n",
       "      <td>600.00</td>\n",
       "    </tr>\n",
       "    <tr>\n",
       "      <th>4</th>\n",
       "      <td>2025-07-27</td>\n",
       "      <td>2025-07-31</td>\n",
       "      <td>P1D</td>\n",
       "      <td>TYPG</td>\n",
       "      <td>TYP4</td>\n",
       "      <td>1140000.0</td>\n",
       "      <td>0.0</td>\n",
       "      <td>1139999.00</td>\n",
       "      <td>0.0</td>\n",
       "      <td>0.0</td>\n",
       "      <td>0.0</td>\n",
       "      <td>1.00</td>\n",
       "      <td>0.0</td>\n",
       "      <td>1.00</td>\n",
       "    </tr>\n",
       "    <tr>\n",
       "      <th>5</th>\n",
       "      <td>2025-07-27</td>\n",
       "      <td>2025-07-31</td>\n",
       "      <td>P1D</td>\n",
       "      <td>TRMG</td>\n",
       "      <td>TSJ1</td>\n",
       "      <td>3830853.0</td>\n",
       "      <td>0.0</td>\n",
       "      <td>3553472.00</td>\n",
       "      <td>80000.0</td>\n",
       "      <td>0.0</td>\n",
       "      <td>80000.0</td>\n",
       "      <td>197381.00</td>\n",
       "      <td>0.0</td>\n",
       "      <td>197381.00</td>\n",
       "    </tr>\n",
       "    <tr>\n",
       "      <th>6</th>\n",
       "      <td>2025-07-27</td>\n",
       "      <td>2025-07-31</td>\n",
       "      <td>P1D</td>\n",
       "      <td>TMVG</td>\n",
       "      <td>TVL1</td>\n",
       "      <td>5478572.0</td>\n",
       "      <td>0.0</td>\n",
       "      <td>5550728.00</td>\n",
       "      <td>0.0</td>\n",
       "      <td>0.0</td>\n",
       "      <td>0.0</td>\n",
       "      <td>-72156.00</td>\n",
       "      <td>0.0</td>\n",
       "      <td>-72156.00</td>\n",
       "    </tr>\n",
       "    <tr>\n",
       "      <th>7</th>\n",
       "      <td>2025-07-27</td>\n",
       "      <td>2025-07-31</td>\n",
       "      <td>P1D</td>\n",
       "      <td>TMNG</td>\n",
       "      <td>TRN1</td>\n",
       "      <td>1829900.0</td>\n",
       "      <td>0.0</td>\n",
       "      <td>1887700.00</td>\n",
       "      <td>0.0</td>\n",
       "      <td>0.0</td>\n",
       "      <td>0.0</td>\n",
       "      <td>-57800.00</td>\n",
       "      <td>0.0</td>\n",
       "      <td>-57800.00</td>\n",
       "    </tr>\n",
       "    <tr>\n",
       "      <th>8</th>\n",
       "      <td>2025-07-27</td>\n",
       "      <td>2025-07-31</td>\n",
       "      <td>P1D</td>\n",
       "      <td>TMFG</td>\n",
       "      <td>TFL4</td>\n",
       "      <td>9957707.0</td>\n",
       "      <td>0.0</td>\n",
       "      <td>10365425.00</td>\n",
       "      <td>0.0</td>\n",
       "      <td>0.0</td>\n",
       "      <td>0.0</td>\n",
       "      <td>-407718.00</td>\n",
       "      <td>0.0</td>\n",
       "      <td>-407718.00</td>\n",
       "    </tr>\n",
       "    <tr>\n",
       "      <th>9</th>\n",
       "      <td>2025-07-27</td>\n",
       "      <td>2025-07-31</td>\n",
       "      <td>P1D</td>\n",
       "      <td>TMFG</td>\n",
       "      <td>TFL1</td>\n",
       "      <td>3515013.0</td>\n",
       "      <td>0.0</td>\n",
       "      <td>3645028.00</td>\n",
       "      <td>0.0</td>\n",
       "      <td>0.0</td>\n",
       "      <td>0.0</td>\n",
       "      <td>-130015.00</td>\n",
       "      <td>0.0</td>\n",
       "      <td>-130015.00</td>\n",
       "    </tr>\n",
       "    <tr>\n",
       "      <th>10</th>\n",
       "      <td>2025-07-27</td>\n",
       "      <td>2025-07-31</td>\n",
       "      <td>P1D</td>\n",
       "      <td>TERG</td>\n",
       "      <td>TSJ2</td>\n",
       "      <td>3937816.0</td>\n",
       "      <td>0.0</td>\n",
       "      <td>3905465.00</td>\n",
       "      <td>0.0</td>\n",
       "      <td>0.0</td>\n",
       "      <td>0.0</td>\n",
       "      <td>32351.00</td>\n",
       "      <td>0.0</td>\n",
       "      <td>32351.00</td>\n",
       "    </tr>\n",
       "    <tr>\n",
       "      <th>11</th>\n",
       "      <td>2025-07-27</td>\n",
       "      <td>2025-07-31</td>\n",
       "      <td>P1D</td>\n",
       "      <td>TEMG</td>\n",
       "      <td>TEC1</td>\n",
       "      <td>4806987.0</td>\n",
       "      <td>0.0</td>\n",
       "      <td>4677217.00</td>\n",
       "      <td>0.0</td>\n",
       "      <td>0.0</td>\n",
       "      <td>0.0</td>\n",
       "      <td>129770.00</td>\n",
       "      <td>0.0</td>\n",
       "      <td>129770.00</td>\n",
       "    </tr>\n",
       "    <tr>\n",
       "      <th>12</th>\n",
       "      <td>2025-07-27</td>\n",
       "      <td>2025-07-31</td>\n",
       "      <td>P1D</td>\n",
       "      <td>TCNG</td>\n",
       "      <td>TRM1</td>\n",
       "      <td>5385396.0</td>\n",
       "      <td>0.0</td>\n",
       "      <td>0.00</td>\n",
       "      <td>0.0</td>\n",
       "      <td>0.0</td>\n",
       "      <td>0.0</td>\n",
       "      <td>5385396.00</td>\n",
       "      <td>0.0</td>\n",
       "      <td>5385396.00</td>\n",
       "    </tr>\n",
       "    <tr>\n",
       "      <th>13</th>\n",
       "      <td>2025-07-27</td>\n",
       "      <td>2025-07-31</td>\n",
       "      <td>P1D</td>\n",
       "      <td>TCIG</td>\n",
       "      <td>TCDT</td>\n",
       "      <td>12653987.0</td>\n",
       "      <td>0.0</td>\n",
       "      <td>12652668.00</td>\n",
       "      <td>0.0</td>\n",
       "      <td>0.0</td>\n",
       "      <td>0.0</td>\n",
       "      <td>1319.00</td>\n",
       "      <td>0.0</td>\n",
       "      <td>1319.00</td>\n",
       "    </tr>\n",
       "    <tr>\n",
       "      <th>14</th>\n",
       "      <td>2025-07-27</td>\n",
       "      <td>2025-07-31</td>\n",
       "      <td>P1D</td>\n",
       "      <td>TCBG</td>\n",
       "      <td>TCBE</td>\n",
       "      <td>806400.0</td>\n",
       "      <td>0.0</td>\n",
       "      <td>887040.00</td>\n",
       "      <td>0.0</td>\n",
       "      <td>0.0</td>\n",
       "      <td>0.0</td>\n",
       "      <td>-80640.00</td>\n",
       "      <td>0.0</td>\n",
       "      <td>-80640.00</td>\n",
       "    </tr>\n",
       "    <tr>\n",
       "      <th>15</th>\n",
       "      <td>2025-07-27</td>\n",
       "      <td>2025-07-31</td>\n",
       "      <td>P1D</td>\n",
       "      <td>TBSG</td>\n",
       "      <td>TBST</td>\n",
       "      <td>18436293.0</td>\n",
       "      <td>0.0</td>\n",
       "      <td>18331181.00</td>\n",
       "      <td>0.0</td>\n",
       "      <td>0.0</td>\n",
       "      <td>0.0</td>\n",
       "      <td>105112.00</td>\n",
       "      <td>0.0</td>\n",
       "      <td>105112.00</td>\n",
       "    </tr>\n",
       "    <tr>\n",
       "      <th>16</th>\n",
       "      <td>2025-07-27</td>\n",
       "      <td>2025-07-31</td>\n",
       "      <td>P1D</td>\n",
       "      <td>TBSG</td>\n",
       "      <td>TBQ4</td>\n",
       "      <td>1276687.0</td>\n",
       "      <td>0.0</td>\n",
       "      <td>1138538.00</td>\n",
       "      <td>146853.0</td>\n",
       "      <td>0.0</td>\n",
       "      <td>146853.0</td>\n",
       "      <td>-8704.00</td>\n",
       "      <td>0.0</td>\n",
       "      <td>-8704.00</td>\n",
       "    </tr>\n",
       "    <tr>\n",
       "      <th>17</th>\n",
       "      <td>2025-07-27</td>\n",
       "      <td>2025-07-31</td>\n",
       "      <td>P1D</td>\n",
       "      <td>TBSG</td>\n",
       "      <td>TBQ3</td>\n",
       "      <td>1335125.0</td>\n",
       "      <td>0.0</td>\n",
       "      <td>1114213.00</td>\n",
       "      <td>197602.0</td>\n",
       "      <td>0.0</td>\n",
       "      <td>197602.0</td>\n",
       "      <td>23310.00</td>\n",
       "      <td>0.0</td>\n",
       "      <td>23310.00</td>\n",
       "    </tr>\n",
       "    <tr>\n",
       "      <th>18</th>\n",
       "      <td>2025-07-27</td>\n",
       "      <td>2025-07-31</td>\n",
       "      <td>P1D</td>\n",
       "      <td>SOCG</td>\n",
       "      <td>PPA4</td>\n",
       "      <td>3865079.0</td>\n",
       "      <td>0.0</td>\n",
       "      <td>3863497.32</td>\n",
       "      <td>0.0</td>\n",
       "      <td>0.0</td>\n",
       "      <td>0.0</td>\n",
       "      <td>1581.68</td>\n",
       "      <td>0.0</td>\n",
       "      <td>1581.68</td>\n",
       "    </tr>\n",
       "    <tr>\n",
       "      <th>19</th>\n",
       "      <td>2025-07-27</td>\n",
       "      <td>2025-07-31</td>\n",
       "      <td>P1D</td>\n",
       "      <td>SLUG</td>\n",
       "      <td>3IZ6</td>\n",
       "      <td>371517.0</td>\n",
       "      <td>0.0</td>\n",
       "      <td>272888.00</td>\n",
       "      <td>130000.0</td>\n",
       "      <td>0.0</td>\n",
       "      <td>130000.0</td>\n",
       "      <td>-31371.00</td>\n",
       "      <td>0.0</td>\n",
       "      <td>-31371.00</td>\n",
       "    </tr>\n",
       "  </tbody>\n",
       "</table>\n",
       "</div>"
      ],
      "text/plain": [
       "   FechaPublicacion       Fecha CodigoDuracion CodigoSICAgente CodigoPlanta  \\\n",
       "0        2025-07-27  2025-07-31            P1D            TYPG         TYP2   \n",
       "1        2025-07-27  2025-07-31            P1D            TYPG         TYP5   \n",
       "2        2025-07-27  2025-07-31            P1D            TYPG         TYP3   \n",
       "3        2025-07-27  2025-07-31            P1D            TYPG         TYP1   \n",
       "4        2025-07-27  2025-07-31            P1D            TYPG         TYP4   \n",
       "5        2025-07-27  2025-07-31            P1D            TRMG         TSJ1   \n",
       "6        2025-07-27  2025-07-31            P1D            TMVG         TVL1   \n",
       "7        2025-07-27  2025-07-31            P1D            TMNG         TRN1   \n",
       "8        2025-07-27  2025-07-31            P1D            TMFG         TFL4   \n",
       "9        2025-07-27  2025-07-31            P1D            TMFG         TFL1   \n",
       "10       2025-07-27  2025-07-31            P1D            TERG         TSJ2   \n",
       "11       2025-07-27  2025-07-31            P1D            TEMG         TEC1   \n",
       "12       2025-07-27  2025-07-31            P1D            TCNG         TRM1   \n",
       "13       2025-07-27  2025-07-31            P1D            TCIG         TCDT   \n",
       "14       2025-07-27  2025-07-31            P1D            TCBG         TCBE   \n",
       "15       2025-07-27  2025-07-31            P1D            TBSG         TBST   \n",
       "16       2025-07-27  2025-07-31            P1D            TBSG         TBQ4   \n",
       "17       2025-07-27  2025-07-31            P1D            TBSG         TBQ3   \n",
       "18       2025-07-27  2025-07-31            P1D            SOCG         PPA4   \n",
       "19       2025-07-27  2025-07-31            P1D            SLUG         3IZ6   \n",
       "\n",
       "    ENFICCVerificada  EDA          OEF  VCMSENFICC  VCMSEDA  VCMSTotales  \\\n",
       "0           623520.0  0.0         0.00    528000.0      0.0     528000.0   \n",
       "1          1131536.0  0.0   1139999.00         0.0      0.0          0.0   \n",
       "2          1137984.0  0.0   1139999.00         0.0      0.0          0.0   \n",
       "3           189600.0  0.0         0.00    189000.0      0.0     189000.0   \n",
       "4          1140000.0  0.0   1139999.00         0.0      0.0          0.0   \n",
       "5          3830853.0  0.0   3553472.00     80000.0      0.0      80000.0   \n",
       "6          5478572.0  0.0   5550728.00         0.0      0.0          0.0   \n",
       "7          1829900.0  0.0   1887700.00         0.0      0.0          0.0   \n",
       "8          9957707.0  0.0  10365425.00         0.0      0.0          0.0   \n",
       "9          3515013.0  0.0   3645028.00         0.0      0.0          0.0   \n",
       "10         3937816.0  0.0   3905465.00         0.0      0.0          0.0   \n",
       "11         4806987.0  0.0   4677217.00         0.0      0.0          0.0   \n",
       "12         5385396.0  0.0         0.00         0.0      0.0          0.0   \n",
       "13        12653987.0  0.0  12652668.00         0.0      0.0          0.0   \n",
       "14          806400.0  0.0    887040.00         0.0      0.0          0.0   \n",
       "15        18436293.0  0.0  18331181.00         0.0      0.0          0.0   \n",
       "16         1276687.0  0.0   1138538.00    146853.0      0.0     146853.0   \n",
       "17         1335125.0  0.0   1114213.00    197602.0      0.0     197602.0   \n",
       "18         3865079.0  0.0   3863497.32         0.0      0.0          0.0   \n",
       "19          371517.0  0.0    272888.00    130000.0      0.0     130000.0   \n",
       "\n",
       "    ENFICCNoComp  EDANoComp  EnergiaReferenciaMercadoSecundario  \n",
       "0       95520.00        0.0                            95520.00  \n",
       "1       -8463.00        0.0                            -8463.00  \n",
       "2       -2015.00        0.0                            -2015.00  \n",
       "3         600.00        0.0                              600.00  \n",
       "4           1.00        0.0                                1.00  \n",
       "5      197381.00        0.0                           197381.00  \n",
       "6      -72156.00        0.0                           -72156.00  \n",
       "7      -57800.00        0.0                           -57800.00  \n",
       "8     -407718.00        0.0                          -407718.00  \n",
       "9     -130015.00        0.0                          -130015.00  \n",
       "10      32351.00        0.0                            32351.00  \n",
       "11     129770.00        0.0                           129770.00  \n",
       "12    5385396.00        0.0                          5385396.00  \n",
       "13       1319.00        0.0                             1319.00  \n",
       "14     -80640.00        0.0                           -80640.00  \n",
       "15     105112.00        0.0                           105112.00  \n",
       "16      -8704.00        0.0                            -8704.00  \n",
       "17      23310.00        0.0                            23310.00  \n",
       "18       1581.68        0.0                             1581.68  \n",
       "19     -31371.00        0.0                           -31371.00  "
      ]
     },
     "metadata": {},
     "output_type": "display_data"
    }
   ],
   "source": [
    "id_dataset = 'd808d4'                                       # ID del conjunto de datos a consultar\n",
    "fecha_inicial = '2025-07-01'                                # Fecha de inicio del rango de consulta\n",
    "fecha_final = '2026-01-31'                                  # Fecha de fin del rango de consulta\n",
    "simem = ReadSIMEM(id_dataset, fecha_inicial, fecha_final)   # Instancia de la clase ReadSIMEM con los parámetros definidos\n",
    "df_dataset = simem.main()                                   # Ejecución del método principal para obtener los datos en un DataFrame\n",
    "display(df_dataset.head(20))                                # Visualización de las primeras 20 filas del DataFrame"
   ]
  },
  {
   "cell_type": "markdown",
   "metadata": {},
   "source": [
    "<a id='section4'></a>\n",
    "# 4. Manipulación de datos\n",
    "Los siguientes pasos corresponden a las actividades de manipulación y preparación de los datos que son relevantes para el análisis. "
   ]
  },
  {
   "cell_type": "markdown",
   "metadata": {},
   "source": [
    "Los dataframes se filtarán para tener los datos necesarios para la visualización."
   ]
  },
  {
   "cell_type": "code",
   "execution_count": 4,
   "metadata": {},
   "outputs": [
    {
     "data": {
      "application/vnd.microsoft.datawrangler.viewer.v0+json": {
       "columns": [
        {
         "name": "index",
         "rawType": "int64",
         "type": "integer"
        },
        {
         "name": "FechaPublicacion",
         "rawType": "object",
         "type": "string"
        },
        {
         "name": "Fecha",
         "rawType": "object",
         "type": "string"
        },
        {
         "name": "CodigoDuracion",
         "rawType": "object",
         "type": "string"
        },
        {
         "name": "CodigoSICAgente",
         "rawType": "object",
         "type": "string"
        },
        {
         "name": "CodigoPlanta",
         "rawType": "object",
         "type": "string"
        },
        {
         "name": "ENFICCVerificada",
         "rawType": "float64",
         "type": "float"
        },
        {
         "name": "EDA",
         "rawType": "float64",
         "type": "float"
        },
        {
         "name": "OEF",
         "rawType": "float64",
         "type": "float"
        },
        {
         "name": "VCMSENFICC",
         "rawType": "float64",
         "type": "float"
        },
        {
         "name": "VCMSEDA",
         "rawType": "float64",
         "type": "float"
        },
        {
         "name": "VCMSTotales",
         "rawType": "float64",
         "type": "float"
        },
        {
         "name": "ENFICCNoComp",
         "rawType": "float64",
         "type": "float"
        },
        {
         "name": "EDANoComp",
         "rawType": "float64",
         "type": "float"
        },
        {
         "name": "EnergiaReferenciaMercadoSecundario",
         "rawType": "float64",
         "type": "float"
        }
       ],
       "ref": "8900af19-cfa8-42f3-8a66-d036f9f23c0a",
       "rows": [
        [
         "0",
         "2025-08-11",
         "2025-10-16",
         "P1D",
         "CHVG",
         "CHVR",
         "8021002.0",
         "0.0",
         "7762692.0",
         "0.0",
         "0.0",
         "0.0",
         "258310.0",
         "0.0",
         "258310.0"
        ],
        [
         "1",
         "2025-08-11",
         "2025-11-10",
         "P1D",
         "TBSG",
         "TBST",
         "18436293.0",
         "0.0",
         "18331181.0",
         "0.0",
         "0.0",
         "0.0",
         "105112.0",
         "0.0",
         "105112.0"
        ],
        [
         "2",
         "2025-08-11",
         "2025-11-10",
         "P1D",
         "TBSG",
         "TBQ4",
         "1276687.0",
         "0.0",
         "1138538.0",
         "0.0",
         "0.0",
         "0.0",
         "138149.0",
         "0.0",
         "138149.0"
        ],
        [
         "3",
         "2025-08-11",
         "2025-11-10",
         "P1D",
         "SOCG",
         "PPA4",
         "3865079.0",
         "0.0",
         "3863497.32",
         "0.0",
         "0.0",
         "0.0",
         "1581.68",
         "0.0",
         "1581.68"
        ],
        [
         "4",
         "2025-08-11",
         "2025-11-10",
         "P1D",
         "SLUG",
         "3IZ6",
         "371517.0",
         "0.0",
         "272888.0",
         "130000.0",
         "0.0",
         "130000.0",
         "-31371.0",
         "0.0",
         "-31371.0"
        ],
        [
         "5",
         "2025-08-11",
         "2025-11-10",
         "P1D",
         "SLMG",
         "MATA",
         "249483.0",
         "0.0",
         "249483.0",
         "100000.0",
         "0.0",
         "100000.0",
         "-100000.0",
         "0.0",
         "-100000.0"
        ],
        [
         "6",
         "2025-08-11",
         "2025-11-10",
         "P1D",
         "PRIG",
         "PRG1",
         "1800271.0",
         "0.0",
         "2005620.0",
         "0.0",
         "0.0",
         "0.0",
         "-205349.0",
         "0.0",
         "-205349.0"
        ],
        [
         "7",
         "2025-08-11",
         "2025-11-10",
         "P1D",
         "NTCG",
         "CTG2",
         "471325.0",
         "0.0",
         "0.0",
         "0.0",
         "0.0",
         "0.0",
         "471325.0",
         "0.0",
         "471325.0"
        ],
        [
         "8",
         "2025-08-11",
         "2025-11-10",
         "P1D",
         "NTCG",
         "CTG1",
         "220625.0",
         "0.0",
         "0.0",
         "0.0",
         "0.0",
         "0.0",
         "220625.0",
         "0.0",
         "220625.0"
        ],
        [
         "9",
         "2025-08-11",
         "2025-11-10",
         "P1D",
         "ISGG",
         "JAGS",
         "1129478.0",
         "0.0",
         "1096008.0",
         "0.0",
         "0.0",
         "0.0",
         "33470.0",
         "0.0",
         "33470.0"
        ],
        [
         "10",
         "2025-08-11",
         "2025-11-10",
         "P1D",
         "ISGG",
         "SMI1",
         "226889.0",
         "620185.0",
         "336096.0",
         "0.0",
         "0.0",
         "0.0",
         "-109207.0",
         "620185.0",
         "510978.0"
        ],
        [
         "11",
         "2025-08-11",
         "2025-11-10",
         "P1D",
         "ISGG",
         "MOY1",
         "591857.0",
         "664764.0",
         "591742.0",
         "0.0",
         "0.0",
         "0.0",
         "115.0",
         "664764.0",
         "664879.0"
        ],
        [
         "12",
         "2025-08-11",
         "2025-11-10",
         "P1D",
         "ISGG",
         "SOG1",
         "9575903.0",
         "157734.0",
         "10385562.0",
         "0.0",
         "0.0",
         "0.0",
         "-809659.0",
         "157734.0",
         "-651925.0"
        ],
        [
         "13",
         "2025-08-11",
         "2025-11-10",
         "P1D",
         "ISGG",
         "SNCR",
         "12389592.0",
         "5723662.0",
         "12075850.0",
         "0.0",
         "0.0",
         "0.0",
         "313742.0",
         "5723662.0",
         "6037404.0"
        ],
        [
         "14",
         "2025-08-11",
         "2025-11-10",
         "P1D",
         "ISGG",
         "HMLG",
         "2290113.0",
         "2605457.0",
         "2194495.0",
         "0.0",
         "0.0",
         "0.0",
         "95618.0",
         "2605457.0",
         "2701075.0"
        ],
        [
         "15",
         "2025-08-11",
         "2025-11-10",
         "P1D",
         "HIMG",
         "PPA1",
         "654600.0",
         "0.0",
         "716620.0",
         "0.0",
         "0.0",
         "0.0",
         "-62020.0",
         "0.0",
         "-62020.0"
        ],
        [
         "16",
         "2025-08-11",
         "2025-11-10",
         "P1D",
         "HIMG",
         "PPA2",
         "1348053.0",
         "0.0",
         "1443315.0",
         "0.0",
         "0.0",
         "0.0",
         "-95262.0",
         "0.0",
         "-95262.0"
        ],
        [
         "17",
         "2025-08-11",
         "2025-11-10",
         "P1D",
         "HIMG",
         "PPA3",
         "1317595.0",
         "0.0",
         "1444430.0",
         "0.0",
         "0.0",
         "0.0",
         "-126835.0",
         "0.0",
         "-126835.0"
        ],
        [
         "18",
         "2025-08-11",
         "2025-11-10",
         "P1D",
         "HDPG",
         "HMIN",
         "133498.0",
         "789891.0",
         "158099.0",
         "0.0",
         "0.0",
         "0.0",
         "-24601.0",
         "789891.0",
         "765290.0"
        ],
        [
         "19",
         "2025-08-11",
         "2025-11-10",
         "P1D",
         "HDPG",
         "CLL1",
         "773809.0",
         "447097.0",
         "547945.0",
         "16000.0",
         "0.0",
         "16000.0",
         "209864.0",
         "447097.0",
         "656961.0"
        ],
        [
         "20",
         "2025-08-11",
         "2025-11-10",
         "P1D",
         "GNSG",
         "3IQA",
         "81352.0",
         "0.0",
         "81352.0",
         "0.0",
         "0.0",
         "0.0",
         "0.0",
         "0.0",
         "0.0"
        ],
        [
         "21",
         "2025-08-11",
         "2025-11-10",
         "P1D",
         "CHVG",
         "CHVR",
         "8021002.0",
         "487819.0",
         "7762692.0",
         "0.0",
         "0.0",
         "0.0",
         "258310.0",
         "487819.0",
         "746129.0"
        ],
        [
         "22",
         "2025-08-11",
         "2025-11-10",
         "P1D",
         "EMUG",
         "URA1",
         "2127258.0",
         "2086618.0",
         "2052332.0",
         "0.0",
         "0.0",
         "0.0",
         "74926.0",
         "2086618.0",
         "2161544.0"
        ],
        [
         "23",
         "2025-08-11",
         "2025-11-10",
         "P1D",
         "ENDG",
         "3DDT",
         "524465.0",
         "0.0",
         "524465.0",
         "0.0",
         "0.0",
         "0.0",
         "0.0",
         "0.0",
         "0.0"
        ],
        [
         "24",
         "2025-08-11",
         "2025-11-10",
         "P1D",
         "ENDG",
         "ZPA3",
         "1044547.0",
         "0.0",
         "1151145.0",
         "0.0",
         "0.0",
         "0.0",
         "-106598.0",
         "0.0",
         "-106598.0"
        ],
        [
         "25",
         "2025-08-11",
         "2025-11-10",
         "P1D",
         "ENDG",
         "GVIO",
         "12093027.0",
         "0.0",
         "12058893.0",
         "0.0",
         "0.0",
         "0.0",
         "34134.0",
         "0.0",
         "34134.0"
        ],
        [
         "26",
         "2025-08-11",
         "2025-11-10",
         "P1D",
         "ENDG",
         "GYPO",
         "1201980.0",
         "0.0",
         "0.0",
         "0.0",
         "0.0",
         "0.0",
         "1201980.0",
         "0.0",
         "1201980.0"
        ],
        [
         "27",
         "2025-08-11",
         "2025-11-10",
         "P1D",
         "ENDG",
         "3HF5",
         "176962.0",
         "0.0",
         "0.0",
         "0.0",
         "0.0",
         "0.0",
         "176962.0",
         "0.0",
         "176962.0"
        ],
        [
         "28",
         "2025-08-11",
         "2025-11-10",
         "P1D",
         "ENDG",
         "CHBG",
         "4368371.0",
         "0.0",
         "4293151.0",
         "0.0",
         "0.0",
         "0.0",
         "75220.0",
         "0.0",
         "75220.0"
        ],
        [
         "29",
         "2025-08-11",
         "2025-11-10",
         "P1D",
         "TBSG",
         "TBQ3",
         "1335125.0",
         "0.0",
         "1114213.0",
         "0.0",
         "0.0",
         "0.0",
         "220912.0",
         "0.0",
         "220912.0"
        ],
        [
         "30",
         "2025-08-11",
         "2025-11-10",
         "P1D",
         "TCBG",
         "TCBE",
         "806400.0",
         "0.0",
         "887040.0",
         "0.0",
         "0.0",
         "0.0",
         "-80640.0",
         "0.0",
         "-80640.0"
        ],
        [
         "31",
         "2025-08-11",
         "2025-11-11",
         "P1D",
         "EPMG",
         "LTSJ",
         "2328817.0",
         "0.0",
         "2655897.0",
         "0.0",
         "0.0",
         "0.0",
         "-327080.0",
         "0.0",
         "-327080.0"
        ],
        [
         "32",
         "2025-08-11",
         "2025-11-10",
         "P1D",
         "TCIG",
         "TCDT",
         "12653987.0",
         "0.0",
         "12652668.0",
         "0.0",
         "0.0",
         "0.0",
         "1319.0",
         "0.0",
         "1319.0"
        ],
        [
         "33",
         "2025-08-11",
         "2025-11-11",
         "P1D",
         "ENDG",
         "3DDT",
         "524465.0",
         "0.0",
         "524465.0",
         "0.0",
         "0.0",
         "0.0",
         "0.0",
         "0.0",
         "0.0"
        ],
        [
         "34",
         "2025-08-11",
         "2025-11-11",
         "P1D",
         "ENDG",
         "ZPA5",
         "936359.0",
         "0.0",
         "1121912.0",
         "0.0",
         "0.0",
         "0.0",
         "-185553.0",
         "0.0",
         "-185553.0"
        ],
        [
         "35",
         "2025-08-11",
         "2025-11-11",
         "P1D",
         "ENDG",
         "PGUG",
         "10438356.0",
         "0.0",
         "10012749.0",
         "0.0",
         "0.0",
         "0.0",
         "425607.0",
         "0.0",
         "425607.0"
        ],
        [
         "36",
         "2025-08-11",
         "2025-11-11",
         "P1D",
         "ENDG",
         "CHBG",
         "4368371.0",
         "0.0",
         "4293151.0",
         "0.0",
         "0.0",
         "0.0",
         "75220.0",
         "0.0",
         "75220.0"
        ],
        [
         "37",
         "2025-08-11",
         "2025-11-11",
         "P1D",
         "ENDG",
         "ZPA3",
         "1044547.0",
         "0.0",
         "1151145.0",
         "0.0",
         "0.0",
         "0.0",
         "-106598.0",
         "0.0",
         "-106598.0"
        ],
        [
         "38",
         "2025-08-11",
         "2025-11-11",
         "P1D",
         "ENDG",
         "ZPA2",
         "534624.0",
         "0.0",
         "671953.0",
         "0.0",
         "0.0",
         "0.0",
         "-137329.0",
         "0.0",
         "-137329.0"
        ],
        [
         "39",
         "2025-08-11",
         "2025-11-11",
         "P1D",
         "ENDG",
         "GVIO",
         "12093027.0",
         "0.0",
         "12058893.0",
         "0.0",
         "0.0",
         "0.0",
         "34134.0",
         "0.0",
         "34134.0"
        ],
        [
         "40",
         "2025-08-11",
         "2025-11-11",
         "P1D",
         "ENDG",
         "QUI1",
         "4846529.0",
         "0.0",
         "4764403.0",
         "0.0",
         "0.0",
         "0.0",
         "82126.0",
         "0.0",
         "82126.0"
        ],
        [
         "41",
         "2025-08-11",
         "2025-11-11",
         "P1D",
         "ENDG",
         "GYPO",
         "1201980.0",
         "0.0",
         "0.0",
         "0.0",
         "0.0",
         "0.0",
         "1201980.0",
         "0.0",
         "1201980.0"
        ],
        [
         "42",
         "2025-08-11",
         "2025-11-11",
         "P1D",
         "ENDG",
         "EPFV",
         "236995.0",
         "0.0",
         "236995.0",
         "0.0",
         "0.0",
         "0.0",
         "0.0",
         "0.0",
         "0.0"
        ],
        [
         "43",
         "2025-08-11",
         "2025-11-11",
         "P1D",
         "ENDG",
         "ZPA4",
         "1136565.0",
         "0.0",
         "1161598.0",
         "0.0",
         "0.0",
         "0.0",
         "-25033.0",
         "0.0",
         "-25033.0"
        ],
        [
         "44",
         "2025-08-11",
         "2025-11-11",
         "P1D",
         "ENDG",
         "3HF5",
         "176962.0",
         "0.0",
         "0.0",
         "0.0",
         "0.0",
         "0.0",
         "176962.0",
         "0.0",
         "176962.0"
        ],
        [
         "45",
         "2025-08-11",
         "2025-11-11",
         "P1D",
         "EMUG",
         "URA1",
         "2127258.0",
         "2086618.0",
         "2052332.0",
         "0.0",
         "0.0",
         "0.0",
         "74926.0",
         "2086618.0",
         "2161544.0"
        ],
        [
         "46",
         "2025-08-11",
         "2025-11-11",
         "P1D",
         "CHVG",
         "CHVR",
         "8021002.0",
         "487819.0",
         "7762692.0",
         "0.0",
         "0.0",
         "0.0",
         "258310.0",
         "487819.0",
         "746129.0"
        ],
        [
         "47",
         "2025-08-11",
         "2025-11-10",
         "P1D",
         "TYPG",
         "TYP5",
         "1131536.0",
         "0.0",
         "1139999.0",
         "0.0",
         "0.0",
         "0.0",
         "-8463.0",
         "0.0",
         "-8463.0"
        ],
        [
         "48",
         "2025-08-11",
         "2025-11-10",
         "P1D",
         "TYPG",
         "TYP4",
         "1140000.0",
         "0.0",
         "1139999.0",
         "0.0",
         "0.0",
         "0.0",
         "1.0",
         "0.0",
         "1.0"
        ],
        [
         "49",
         "2025-08-11",
         "2025-11-10",
         "P1D",
         "TYPG",
         "TYP3",
         "1137984.0",
         "0.0",
         "1139999.0",
         "0.0",
         "0.0",
         "0.0",
         "-2015.0",
         "0.0",
         "-2015.0"
        ]
       ],
       "shape": {
        "columns": 14,
        "rows": 15695
       }
      },
      "text/html": [
       "<div>\n",
       "<style scoped>\n",
       "    .dataframe tbody tr th:only-of-type {\n",
       "        vertical-align: middle;\n",
       "    }\n",
       "\n",
       "    .dataframe tbody tr th {\n",
       "        vertical-align: top;\n",
       "    }\n",
       "\n",
       "    .dataframe thead th {\n",
       "        text-align: right;\n",
       "    }\n",
       "</style>\n",
       "<table border=\"1\" class=\"dataframe\">\n",
       "  <thead>\n",
       "    <tr style=\"text-align: right;\">\n",
       "      <th></th>\n",
       "      <th>FechaPublicacion</th>\n",
       "      <th>Fecha</th>\n",
       "      <th>CodigoDuracion</th>\n",
       "      <th>CodigoSICAgente</th>\n",
       "      <th>CodigoPlanta</th>\n",
       "      <th>ENFICCVerificada</th>\n",
       "      <th>EDA</th>\n",
       "      <th>OEF</th>\n",
       "      <th>VCMSENFICC</th>\n",
       "      <th>VCMSEDA</th>\n",
       "      <th>VCMSTotales</th>\n",
       "      <th>ENFICCNoComp</th>\n",
       "      <th>EDANoComp</th>\n",
       "      <th>EnergiaReferenciaMercadoSecundario</th>\n",
       "    </tr>\n",
       "  </thead>\n",
       "  <tbody>\n",
       "    <tr>\n",
       "      <th>0</th>\n",
       "      <td>2025-08-11</td>\n",
       "      <td>2025-10-16</td>\n",
       "      <td>P1D</td>\n",
       "      <td>CHVG</td>\n",
       "      <td>CHVR</td>\n",
       "      <td>8021002.0</td>\n",
       "      <td>0.0</td>\n",
       "      <td>7762692.00</td>\n",
       "      <td>0.0</td>\n",
       "      <td>0.0</td>\n",
       "      <td>0.0</td>\n",
       "      <td>258310.00</td>\n",
       "      <td>0.0</td>\n",
       "      <td>258310.00</td>\n",
       "    </tr>\n",
       "    <tr>\n",
       "      <th>1</th>\n",
       "      <td>2025-08-11</td>\n",
       "      <td>2025-11-10</td>\n",
       "      <td>P1D</td>\n",
       "      <td>TBSG</td>\n",
       "      <td>TBST</td>\n",
       "      <td>18436293.0</td>\n",
       "      <td>0.0</td>\n",
       "      <td>18331181.00</td>\n",
       "      <td>0.0</td>\n",
       "      <td>0.0</td>\n",
       "      <td>0.0</td>\n",
       "      <td>105112.00</td>\n",
       "      <td>0.0</td>\n",
       "      <td>105112.00</td>\n",
       "    </tr>\n",
       "    <tr>\n",
       "      <th>2</th>\n",
       "      <td>2025-08-11</td>\n",
       "      <td>2025-11-10</td>\n",
       "      <td>P1D</td>\n",
       "      <td>TBSG</td>\n",
       "      <td>TBQ4</td>\n",
       "      <td>1276687.0</td>\n",
       "      <td>0.0</td>\n",
       "      <td>1138538.00</td>\n",
       "      <td>0.0</td>\n",
       "      <td>0.0</td>\n",
       "      <td>0.0</td>\n",
       "      <td>138149.00</td>\n",
       "      <td>0.0</td>\n",
       "      <td>138149.00</td>\n",
       "    </tr>\n",
       "    <tr>\n",
       "      <th>3</th>\n",
       "      <td>2025-08-11</td>\n",
       "      <td>2025-11-10</td>\n",
       "      <td>P1D</td>\n",
       "      <td>SOCG</td>\n",
       "      <td>PPA4</td>\n",
       "      <td>3865079.0</td>\n",
       "      <td>0.0</td>\n",
       "      <td>3863497.32</td>\n",
       "      <td>0.0</td>\n",
       "      <td>0.0</td>\n",
       "      <td>0.0</td>\n",
       "      <td>1581.68</td>\n",
       "      <td>0.0</td>\n",
       "      <td>1581.68</td>\n",
       "    </tr>\n",
       "    <tr>\n",
       "      <th>4</th>\n",
       "      <td>2025-08-11</td>\n",
       "      <td>2025-11-10</td>\n",
       "      <td>P1D</td>\n",
       "      <td>SLUG</td>\n",
       "      <td>3IZ6</td>\n",
       "      <td>371517.0</td>\n",
       "      <td>0.0</td>\n",
       "      <td>272888.00</td>\n",
       "      <td>130000.0</td>\n",
       "      <td>0.0</td>\n",
       "      <td>130000.0</td>\n",
       "      <td>-31371.00</td>\n",
       "      <td>0.0</td>\n",
       "      <td>-31371.00</td>\n",
       "    </tr>\n",
       "    <tr>\n",
       "      <th>...</th>\n",
       "      <td>...</td>\n",
       "      <td>...</td>\n",
       "      <td>...</td>\n",
       "      <td>...</td>\n",
       "      <td>...</td>\n",
       "      <td>...</td>\n",
       "      <td>...</td>\n",
       "      <td>...</td>\n",
       "      <td>...</td>\n",
       "      <td>...</td>\n",
       "      <td>...</td>\n",
       "      <td>...</td>\n",
       "      <td>...</td>\n",
       "      <td>...</td>\n",
       "    </tr>\n",
       "    <tr>\n",
       "      <th>15690</th>\n",
       "      <td>2025-06-30</td>\n",
       "      <td>2025-07-01</td>\n",
       "      <td>P1D</td>\n",
       "      <td>EPMG</td>\n",
       "      <td>ESMR</td>\n",
       "      <td>312088.0</td>\n",
       "      <td>220038.0</td>\n",
       "      <td>312087.00</td>\n",
       "      <td>0.0</td>\n",
       "      <td>0.0</td>\n",
       "      <td>0.0</td>\n",
       "      <td>1.00</td>\n",
       "      <td>220038.0</td>\n",
       "      <td>220039.00</td>\n",
       "    </tr>\n",
       "    <tr>\n",
       "      <th>15691</th>\n",
       "      <td>2025-06-30</td>\n",
       "      <td>2025-07-01</td>\n",
       "      <td>P1D</td>\n",
       "      <td>EPMG</td>\n",
       "      <td>LTSJ</td>\n",
       "      <td>2328817.0</td>\n",
       "      <td>0.0</td>\n",
       "      <td>2655897.00</td>\n",
       "      <td>0.0</td>\n",
       "      <td>0.0</td>\n",
       "      <td>0.0</td>\n",
       "      <td>-327080.00</td>\n",
       "      <td>0.0</td>\n",
       "      <td>-327080.00</td>\n",
       "    </tr>\n",
       "    <tr>\n",
       "      <th>15692</th>\n",
       "      <td>2025-06-30</td>\n",
       "      <td>2025-07-01</td>\n",
       "      <td>P1D</td>\n",
       "      <td>EPMG</td>\n",
       "      <td>TSR1</td>\n",
       "      <td>7620617.0</td>\n",
       "      <td>0.0</td>\n",
       "      <td>7638380.00</td>\n",
       "      <td>0.0</td>\n",
       "      <td>0.0</td>\n",
       "      <td>0.0</td>\n",
       "      <td>-17763.00</td>\n",
       "      <td>0.0</td>\n",
       "      <td>-17763.00</td>\n",
       "    </tr>\n",
       "    <tr>\n",
       "      <th>15693</th>\n",
       "      <td>2025-06-30</td>\n",
       "      <td>2025-07-01</td>\n",
       "      <td>P1D</td>\n",
       "      <td>EPMG</td>\n",
       "      <td>PES1</td>\n",
       "      <td>14444252.0</td>\n",
       "      <td>1501446.0</td>\n",
       "      <td>14238910.00</td>\n",
       "      <td>0.0</td>\n",
       "      <td>3022828.0</td>\n",
       "      <td>3022828.0</td>\n",
       "      <td>205342.00</td>\n",
       "      <td>-1521382.0</td>\n",
       "      <td>-1316040.00</td>\n",
       "    </tr>\n",
       "    <tr>\n",
       "      <th>15694</th>\n",
       "      <td>2025-06-30</td>\n",
       "      <td>2025-07-01</td>\n",
       "      <td>P1D</td>\n",
       "      <td>GECG</td>\n",
       "      <td>GCA3</td>\n",
       "      <td>1578985.0</td>\n",
       "      <td>0.0</td>\n",
       "      <td>0.00</td>\n",
       "      <td>0.0</td>\n",
       "      <td>0.0</td>\n",
       "      <td>0.0</td>\n",
       "      <td>1578985.00</td>\n",
       "      <td>0.0</td>\n",
       "      <td>1578985.00</td>\n",
       "    </tr>\n",
       "  </tbody>\n",
       "</table>\n",
       "<p>15695 rows × 14 columns</p>\n",
       "</div>"
      ],
      "text/plain": [
       "      FechaPublicacion       Fecha CodigoDuracion CodigoSICAgente  \\\n",
       "0           2025-08-11  2025-10-16            P1D            CHVG   \n",
       "1           2025-08-11  2025-11-10            P1D            TBSG   \n",
       "2           2025-08-11  2025-11-10            P1D            TBSG   \n",
       "3           2025-08-11  2025-11-10            P1D            SOCG   \n",
       "4           2025-08-11  2025-11-10            P1D            SLUG   \n",
       "...                ...         ...            ...             ...   \n",
       "15690       2025-06-30  2025-07-01            P1D            EPMG   \n",
       "15691       2025-06-30  2025-07-01            P1D            EPMG   \n",
       "15692       2025-06-30  2025-07-01            P1D            EPMG   \n",
       "15693       2025-06-30  2025-07-01            P1D            EPMG   \n",
       "15694       2025-06-30  2025-07-01            P1D            GECG   \n",
       "\n",
       "      CodigoPlanta  ENFICCVerificada        EDA          OEF  VCMSENFICC  \\\n",
       "0             CHVR         8021002.0        0.0   7762692.00         0.0   \n",
       "1             TBST        18436293.0        0.0  18331181.00         0.0   \n",
       "2             TBQ4         1276687.0        0.0   1138538.00         0.0   \n",
       "3             PPA4         3865079.0        0.0   3863497.32         0.0   \n",
       "4             3IZ6          371517.0        0.0    272888.00    130000.0   \n",
       "...            ...               ...        ...          ...         ...   \n",
       "15690         ESMR          312088.0   220038.0    312087.00         0.0   \n",
       "15691         LTSJ         2328817.0        0.0   2655897.00         0.0   \n",
       "15692         TSR1         7620617.0        0.0   7638380.00         0.0   \n",
       "15693         PES1        14444252.0  1501446.0  14238910.00         0.0   \n",
       "15694         GCA3         1578985.0        0.0         0.00         0.0   \n",
       "\n",
       "         VCMSEDA  VCMSTotales  ENFICCNoComp  EDANoComp  \\\n",
       "0            0.0          0.0     258310.00        0.0   \n",
       "1            0.0          0.0     105112.00        0.0   \n",
       "2            0.0          0.0     138149.00        0.0   \n",
       "3            0.0          0.0       1581.68        0.0   \n",
       "4            0.0     130000.0     -31371.00        0.0   \n",
       "...          ...          ...           ...        ...   \n",
       "15690        0.0          0.0          1.00   220038.0   \n",
       "15691        0.0          0.0    -327080.00        0.0   \n",
       "15692        0.0          0.0     -17763.00        0.0   \n",
       "15693  3022828.0    3022828.0     205342.00 -1521382.0   \n",
       "15694        0.0          0.0    1578985.00        0.0   \n",
       "\n",
       "       EnergiaReferenciaMercadoSecundario  \n",
       "0                               258310.00  \n",
       "1                               105112.00  \n",
       "2                               138149.00  \n",
       "3                                 1581.68  \n",
       "4                               -31371.00  \n",
       "...                                   ...  \n",
       "15690                           220039.00  \n",
       "15691                          -327080.00  \n",
       "15692                           -17763.00  \n",
       "15693                         -1316040.00  \n",
       "15694                          1578985.00  \n",
       "\n",
       "[15695 rows x 14 columns]"
      ]
     },
     "execution_count": 4,
     "metadata": {},
     "output_type": "execute_result"
    }
   ],
   "source": [
    "df_ordenado = df_dataset.sort_values('FechaPublicacion', ascending=False)                                           # Ordenamos por FechaPublicacion descendente\n",
    "\n",
    "df_resultado = df_ordenado.drop_duplicates(subset=['Fecha', 'CodigoPlanta'], keep='first').reset_index(drop=True)   # Eliminamos duplicados manteniendo el más reciente por grupo\n",
    "\n",
    "df_resultado"
   ]
  },
  {
   "cell_type": "code",
   "execution_count": 5,
   "metadata": {},
   "outputs": [
    {
     "data": {
      "application/vnd.microsoft.datawrangler.viewer.v0+json": {
       "columns": [
        {
         "name": "index",
         "rawType": "int64",
         "type": "integer"
        },
        {
         "name": "Fecha",
         "rawType": "object",
         "type": "string"
        },
        {
         "name": "CodigoSICAgente",
         "rawType": "object",
         "type": "string"
        },
        {
         "name": "CodigoPlanta",
         "rawType": "object",
         "type": "string"
        },
        {
         "name": "ENFICCVerificada",
         "rawType": "float64",
         "type": "float"
        },
        {
         "name": "EDA",
         "rawType": "float64",
         "type": "float"
        },
        {
         "name": "OEF",
         "rawType": "float64",
         "type": "float"
        },
        {
         "name": "VCMSENFICC",
         "rawType": "float64",
         "type": "float"
        },
        {
         "name": "VCMSEDA",
         "rawType": "float64",
         "type": "float"
        },
        {
         "name": "VCMSTotales",
         "rawType": "float64",
         "type": "float"
        },
        {
         "name": "ENFICCNoComp",
         "rawType": "float64",
         "type": "float"
        },
        {
         "name": "EDANoComp",
         "rawType": "float64",
         "type": "float"
        },
        {
         "name": "EnergiaReferenciaMercadoSecundario",
         "rawType": "float64",
         "type": "float"
        }
       ],
       "ref": "c51366f8-5a6d-4478-a414-610abb337399",
       "rows": [
        [
         "0",
         "2025-10-16",
         "CHVG",
         "CHVR",
         "8021002.0",
         "0.0",
         "7762692.0",
         "0.0",
         "0.0",
         "0.0",
         "258310.0",
         "0.0",
         "258310.0"
        ],
        [
         "1",
         "2025-11-10",
         "TBSG",
         "TBST",
         "18436293.0",
         "0.0",
         "18331181.0",
         "0.0",
         "0.0",
         "0.0",
         "105112.0",
         "0.0",
         "105112.0"
        ],
        [
         "2",
         "2025-11-10",
         "TBSG",
         "TBQ4",
         "1276687.0",
         "0.0",
         "1138538.0",
         "0.0",
         "0.0",
         "0.0",
         "138149.0",
         "0.0",
         "138149.0"
        ],
        [
         "3",
         "2025-11-10",
         "SOCG",
         "PPA4",
         "3865079.0",
         "0.0",
         "3863497.32",
         "0.0",
         "0.0",
         "0.0",
         "1581.68",
         "0.0",
         "1581.68"
        ],
        [
         "4",
         "2025-11-10",
         "SLUG",
         "3IZ6",
         "371517.0",
         "0.0",
         "272888.0",
         "130000.0",
         "0.0",
         "130000.0",
         "-31371.0",
         "0.0",
         "-31371.0"
        ],
        [
         "5",
         "2025-11-10",
         "SLMG",
         "MATA",
         "249483.0",
         "0.0",
         "249483.0",
         "100000.0",
         "0.0",
         "100000.0",
         "-100000.0",
         "0.0",
         "-100000.0"
        ],
        [
         "6",
         "2025-11-10",
         "PRIG",
         "PRG1",
         "1800271.0",
         "0.0",
         "2005620.0",
         "0.0",
         "0.0",
         "0.0",
         "-205349.0",
         "0.0",
         "-205349.0"
        ],
        [
         "7",
         "2025-11-10",
         "NTCG",
         "CTG2",
         "471325.0",
         "0.0",
         "0.0",
         "0.0",
         "0.0",
         "0.0",
         "471325.0",
         "0.0",
         "471325.0"
        ],
        [
         "8",
         "2025-11-10",
         "NTCG",
         "CTG1",
         "220625.0",
         "0.0",
         "0.0",
         "0.0",
         "0.0",
         "0.0",
         "220625.0",
         "0.0",
         "220625.0"
        ],
        [
         "9",
         "2025-11-10",
         "ISGG",
         "JAGS",
         "1129478.0",
         "0.0",
         "1096008.0",
         "0.0",
         "0.0",
         "0.0",
         "33470.0",
         "0.0",
         "33470.0"
        ],
        [
         "10",
         "2025-11-10",
         "ISGG",
         "SMI1",
         "226889.0",
         "620185.0",
         "336096.0",
         "0.0",
         "0.0",
         "0.0",
         "-109207.0",
         "620185.0",
         "510978.0"
        ],
        [
         "11",
         "2025-11-10",
         "ISGG",
         "MOY1",
         "591857.0",
         "664764.0",
         "591742.0",
         "0.0",
         "0.0",
         "0.0",
         "115.0",
         "664764.0",
         "664879.0"
        ],
        [
         "12",
         "2025-11-10",
         "ISGG",
         "SOG1",
         "9575903.0",
         "157734.0",
         "10385562.0",
         "0.0",
         "0.0",
         "0.0",
         "-809659.0",
         "157734.0",
         "-651925.0"
        ],
        [
         "13",
         "2025-11-10",
         "ISGG",
         "SNCR",
         "12389592.0",
         "5723662.0",
         "12075850.0",
         "0.0",
         "0.0",
         "0.0",
         "313742.0",
         "5723662.0",
         "6037404.0"
        ],
        [
         "14",
         "2025-11-10",
         "ISGG",
         "HMLG",
         "2290113.0",
         "2605457.0",
         "2194495.0",
         "0.0",
         "0.0",
         "0.0",
         "95618.0",
         "2605457.0",
         "2701075.0"
        ],
        [
         "15",
         "2025-11-10",
         "HIMG",
         "PPA1",
         "654600.0",
         "0.0",
         "716620.0",
         "0.0",
         "0.0",
         "0.0",
         "-62020.0",
         "0.0",
         "-62020.0"
        ],
        [
         "16",
         "2025-11-10",
         "HIMG",
         "PPA2",
         "1348053.0",
         "0.0",
         "1443315.0",
         "0.0",
         "0.0",
         "0.0",
         "-95262.0",
         "0.0",
         "-95262.0"
        ],
        [
         "17",
         "2025-11-10",
         "HIMG",
         "PPA3",
         "1317595.0",
         "0.0",
         "1444430.0",
         "0.0",
         "0.0",
         "0.0",
         "-126835.0",
         "0.0",
         "-126835.0"
        ],
        [
         "18",
         "2025-11-10",
         "HDPG",
         "HMIN",
         "133498.0",
         "789891.0",
         "158099.0",
         "0.0",
         "0.0",
         "0.0",
         "-24601.0",
         "789891.0",
         "765290.0"
        ],
        [
         "19",
         "2025-11-10",
         "HDPG",
         "CLL1",
         "773809.0",
         "447097.0",
         "547945.0",
         "16000.0",
         "0.0",
         "16000.0",
         "209864.0",
         "447097.0",
         "656961.0"
        ],
        [
         "20",
         "2025-11-10",
         "GNSG",
         "3IQA",
         "81352.0",
         "0.0",
         "81352.0",
         "0.0",
         "0.0",
         "0.0",
         "0.0",
         "0.0",
         "0.0"
        ],
        [
         "21",
         "2025-11-10",
         "CHVG",
         "CHVR",
         "8021002.0",
         "487819.0",
         "7762692.0",
         "0.0",
         "0.0",
         "0.0",
         "258310.0",
         "487819.0",
         "746129.0"
        ],
        [
         "22",
         "2025-11-10",
         "EMUG",
         "URA1",
         "2127258.0",
         "2086618.0",
         "2052332.0",
         "0.0",
         "0.0",
         "0.0",
         "74926.0",
         "2086618.0",
         "2161544.0"
        ],
        [
         "23",
         "2025-11-10",
         "ENDG",
         "3DDT",
         "524465.0",
         "0.0",
         "524465.0",
         "0.0",
         "0.0",
         "0.0",
         "0.0",
         "0.0",
         "0.0"
        ],
        [
         "24",
         "2025-11-10",
         "ENDG",
         "ZPA3",
         "1044547.0",
         "0.0",
         "1151145.0",
         "0.0",
         "0.0",
         "0.0",
         "-106598.0",
         "0.0",
         "-106598.0"
        ],
        [
         "25",
         "2025-11-10",
         "ENDG",
         "GVIO",
         "12093027.0",
         "0.0",
         "12058893.0",
         "0.0",
         "0.0",
         "0.0",
         "34134.0",
         "0.0",
         "34134.0"
        ],
        [
         "26",
         "2025-11-10",
         "ENDG",
         "GYPO",
         "1201980.0",
         "0.0",
         "0.0",
         "0.0",
         "0.0",
         "0.0",
         "1201980.0",
         "0.0",
         "1201980.0"
        ],
        [
         "27",
         "2025-11-10",
         "ENDG",
         "3HF5",
         "176962.0",
         "0.0",
         "0.0",
         "0.0",
         "0.0",
         "0.0",
         "176962.0",
         "0.0",
         "176962.0"
        ],
        [
         "28",
         "2025-11-10",
         "ENDG",
         "CHBG",
         "4368371.0",
         "0.0",
         "4293151.0",
         "0.0",
         "0.0",
         "0.0",
         "75220.0",
         "0.0",
         "75220.0"
        ],
        [
         "29",
         "2025-11-10",
         "TBSG",
         "TBQ3",
         "1335125.0",
         "0.0",
         "1114213.0",
         "0.0",
         "0.0",
         "0.0",
         "220912.0",
         "0.0",
         "220912.0"
        ],
        [
         "30",
         "2025-11-10",
         "TCBG",
         "TCBE",
         "806400.0",
         "0.0",
         "887040.0",
         "0.0",
         "0.0",
         "0.0",
         "-80640.0",
         "0.0",
         "-80640.0"
        ],
        [
         "31",
         "2025-11-11",
         "EPMG",
         "LTSJ",
         "2328817.0",
         "0.0",
         "2655897.0",
         "0.0",
         "0.0",
         "0.0",
         "-327080.0",
         "0.0",
         "-327080.0"
        ],
        [
         "32",
         "2025-11-10",
         "TCIG",
         "TCDT",
         "12653987.0",
         "0.0",
         "12652668.0",
         "0.0",
         "0.0",
         "0.0",
         "1319.0",
         "0.0",
         "1319.0"
        ],
        [
         "33",
         "2025-11-11",
         "ENDG",
         "3DDT",
         "524465.0",
         "0.0",
         "524465.0",
         "0.0",
         "0.0",
         "0.0",
         "0.0",
         "0.0",
         "0.0"
        ],
        [
         "34",
         "2025-11-11",
         "ENDG",
         "ZPA5",
         "936359.0",
         "0.0",
         "1121912.0",
         "0.0",
         "0.0",
         "0.0",
         "-185553.0",
         "0.0",
         "-185553.0"
        ],
        [
         "35",
         "2025-11-11",
         "ENDG",
         "PGUG",
         "10438356.0",
         "0.0",
         "10012749.0",
         "0.0",
         "0.0",
         "0.0",
         "425607.0",
         "0.0",
         "425607.0"
        ],
        [
         "36",
         "2025-11-11",
         "ENDG",
         "CHBG",
         "4368371.0",
         "0.0",
         "4293151.0",
         "0.0",
         "0.0",
         "0.0",
         "75220.0",
         "0.0",
         "75220.0"
        ],
        [
         "37",
         "2025-11-11",
         "ENDG",
         "ZPA3",
         "1044547.0",
         "0.0",
         "1151145.0",
         "0.0",
         "0.0",
         "0.0",
         "-106598.0",
         "0.0",
         "-106598.0"
        ],
        [
         "38",
         "2025-11-11",
         "ENDG",
         "ZPA2",
         "534624.0",
         "0.0",
         "671953.0",
         "0.0",
         "0.0",
         "0.0",
         "-137329.0",
         "0.0",
         "-137329.0"
        ],
        [
         "39",
         "2025-11-11",
         "ENDG",
         "GVIO",
         "12093027.0",
         "0.0",
         "12058893.0",
         "0.0",
         "0.0",
         "0.0",
         "34134.0",
         "0.0",
         "34134.0"
        ],
        [
         "40",
         "2025-11-11",
         "ENDG",
         "QUI1",
         "4846529.0",
         "0.0",
         "4764403.0",
         "0.0",
         "0.0",
         "0.0",
         "82126.0",
         "0.0",
         "82126.0"
        ],
        [
         "41",
         "2025-11-11",
         "ENDG",
         "GYPO",
         "1201980.0",
         "0.0",
         "0.0",
         "0.0",
         "0.0",
         "0.0",
         "1201980.0",
         "0.0",
         "1201980.0"
        ],
        [
         "42",
         "2025-11-11",
         "ENDG",
         "EPFV",
         "236995.0",
         "0.0",
         "236995.0",
         "0.0",
         "0.0",
         "0.0",
         "0.0",
         "0.0",
         "0.0"
        ],
        [
         "43",
         "2025-11-11",
         "ENDG",
         "ZPA4",
         "1136565.0",
         "0.0",
         "1161598.0",
         "0.0",
         "0.0",
         "0.0",
         "-25033.0",
         "0.0",
         "-25033.0"
        ],
        [
         "44",
         "2025-11-11",
         "ENDG",
         "3HF5",
         "176962.0",
         "0.0",
         "0.0",
         "0.0",
         "0.0",
         "0.0",
         "176962.0",
         "0.0",
         "176962.0"
        ],
        [
         "45",
         "2025-11-11",
         "EMUG",
         "URA1",
         "2127258.0",
         "2086618.0",
         "2052332.0",
         "0.0",
         "0.0",
         "0.0",
         "74926.0",
         "2086618.0",
         "2161544.0"
        ],
        [
         "46",
         "2025-11-11",
         "CHVG",
         "CHVR",
         "8021002.0",
         "487819.0",
         "7762692.0",
         "0.0",
         "0.0",
         "0.0",
         "258310.0",
         "487819.0",
         "746129.0"
        ],
        [
         "47",
         "2025-11-10",
         "TYPG",
         "TYP5",
         "1131536.0",
         "0.0",
         "1139999.0",
         "0.0",
         "0.0",
         "0.0",
         "-8463.0",
         "0.0",
         "-8463.0"
        ],
        [
         "48",
         "2025-11-10",
         "TYPG",
         "TYP4",
         "1140000.0",
         "0.0",
         "1139999.0",
         "0.0",
         "0.0",
         "0.0",
         "1.0",
         "0.0",
         "1.0"
        ],
        [
         "49",
         "2025-11-10",
         "TYPG",
         "TYP3",
         "1137984.0",
         "0.0",
         "1139999.0",
         "0.0",
         "0.0",
         "0.0",
         "-2015.0",
         "0.0",
         "-2015.0"
        ]
       ],
       "shape": {
        "columns": 12,
        "rows": 15695
       }
      },
      "text/html": [
       "<div>\n",
       "<style scoped>\n",
       "    .dataframe tbody tr th:only-of-type {\n",
       "        vertical-align: middle;\n",
       "    }\n",
       "\n",
       "    .dataframe tbody tr th {\n",
       "        vertical-align: top;\n",
       "    }\n",
       "\n",
       "    .dataframe thead th {\n",
       "        text-align: right;\n",
       "    }\n",
       "</style>\n",
       "<table border=\"1\" class=\"dataframe\">\n",
       "  <thead>\n",
       "    <tr style=\"text-align: right;\">\n",
       "      <th></th>\n",
       "      <th>Fecha</th>\n",
       "      <th>CodigoSICAgente</th>\n",
       "      <th>CodigoPlanta</th>\n",
       "      <th>ENFICCVerificada</th>\n",
       "      <th>EDA</th>\n",
       "      <th>OEF</th>\n",
       "      <th>VCMSENFICC</th>\n",
       "      <th>VCMSEDA</th>\n",
       "      <th>VCMSTotales</th>\n",
       "      <th>ENFICCNoComp</th>\n",
       "      <th>EDANoComp</th>\n",
       "      <th>EnergiaReferenciaMercadoSecundario</th>\n",
       "    </tr>\n",
       "  </thead>\n",
       "  <tbody>\n",
       "    <tr>\n",
       "      <th>0</th>\n",
       "      <td>2025-10-16</td>\n",
       "      <td>CHVG</td>\n",
       "      <td>CHVR</td>\n",
       "      <td>8021002.0</td>\n",
       "      <td>0.0</td>\n",
       "      <td>7762692.00</td>\n",
       "      <td>0.0</td>\n",
       "      <td>0.0</td>\n",
       "      <td>0.0</td>\n",
       "      <td>258310.00</td>\n",
       "      <td>0.0</td>\n",
       "      <td>258310.00</td>\n",
       "    </tr>\n",
       "    <tr>\n",
       "      <th>1</th>\n",
       "      <td>2025-11-10</td>\n",
       "      <td>TBSG</td>\n",
       "      <td>TBST</td>\n",
       "      <td>18436293.0</td>\n",
       "      <td>0.0</td>\n",
       "      <td>18331181.00</td>\n",
       "      <td>0.0</td>\n",
       "      <td>0.0</td>\n",
       "      <td>0.0</td>\n",
       "      <td>105112.00</td>\n",
       "      <td>0.0</td>\n",
       "      <td>105112.00</td>\n",
       "    </tr>\n",
       "    <tr>\n",
       "      <th>2</th>\n",
       "      <td>2025-11-10</td>\n",
       "      <td>TBSG</td>\n",
       "      <td>TBQ4</td>\n",
       "      <td>1276687.0</td>\n",
       "      <td>0.0</td>\n",
       "      <td>1138538.00</td>\n",
       "      <td>0.0</td>\n",
       "      <td>0.0</td>\n",
       "      <td>0.0</td>\n",
       "      <td>138149.00</td>\n",
       "      <td>0.0</td>\n",
       "      <td>138149.00</td>\n",
       "    </tr>\n",
       "    <tr>\n",
       "      <th>3</th>\n",
       "      <td>2025-11-10</td>\n",
       "      <td>SOCG</td>\n",
       "      <td>PPA4</td>\n",
       "      <td>3865079.0</td>\n",
       "      <td>0.0</td>\n",
       "      <td>3863497.32</td>\n",
       "      <td>0.0</td>\n",
       "      <td>0.0</td>\n",
       "      <td>0.0</td>\n",
       "      <td>1581.68</td>\n",
       "      <td>0.0</td>\n",
       "      <td>1581.68</td>\n",
       "    </tr>\n",
       "    <tr>\n",
       "      <th>4</th>\n",
       "      <td>2025-11-10</td>\n",
       "      <td>SLUG</td>\n",
       "      <td>3IZ6</td>\n",
       "      <td>371517.0</td>\n",
       "      <td>0.0</td>\n",
       "      <td>272888.00</td>\n",
       "      <td>130000.0</td>\n",
       "      <td>0.0</td>\n",
       "      <td>130000.0</td>\n",
       "      <td>-31371.00</td>\n",
       "      <td>0.0</td>\n",
       "      <td>-31371.00</td>\n",
       "    </tr>\n",
       "    <tr>\n",
       "      <th>...</th>\n",
       "      <td>...</td>\n",
       "      <td>...</td>\n",
       "      <td>...</td>\n",
       "      <td>...</td>\n",
       "      <td>...</td>\n",
       "      <td>...</td>\n",
       "      <td>...</td>\n",
       "      <td>...</td>\n",
       "      <td>...</td>\n",
       "      <td>...</td>\n",
       "      <td>...</td>\n",
       "      <td>...</td>\n",
       "    </tr>\n",
       "    <tr>\n",
       "      <th>15690</th>\n",
       "      <td>2025-07-01</td>\n",
       "      <td>EPMG</td>\n",
       "      <td>ESMR</td>\n",
       "      <td>312088.0</td>\n",
       "      <td>220038.0</td>\n",
       "      <td>312087.00</td>\n",
       "      <td>0.0</td>\n",
       "      <td>0.0</td>\n",
       "      <td>0.0</td>\n",
       "      <td>1.00</td>\n",
       "      <td>220038.0</td>\n",
       "      <td>220039.00</td>\n",
       "    </tr>\n",
       "    <tr>\n",
       "      <th>15691</th>\n",
       "      <td>2025-07-01</td>\n",
       "      <td>EPMG</td>\n",
       "      <td>LTSJ</td>\n",
       "      <td>2328817.0</td>\n",
       "      <td>0.0</td>\n",
       "      <td>2655897.00</td>\n",
       "      <td>0.0</td>\n",
       "      <td>0.0</td>\n",
       "      <td>0.0</td>\n",
       "      <td>-327080.00</td>\n",
       "      <td>0.0</td>\n",
       "      <td>-327080.00</td>\n",
       "    </tr>\n",
       "    <tr>\n",
       "      <th>15692</th>\n",
       "      <td>2025-07-01</td>\n",
       "      <td>EPMG</td>\n",
       "      <td>TSR1</td>\n",
       "      <td>7620617.0</td>\n",
       "      <td>0.0</td>\n",
       "      <td>7638380.00</td>\n",
       "      <td>0.0</td>\n",
       "      <td>0.0</td>\n",
       "      <td>0.0</td>\n",
       "      <td>-17763.00</td>\n",
       "      <td>0.0</td>\n",
       "      <td>-17763.00</td>\n",
       "    </tr>\n",
       "    <tr>\n",
       "      <th>15693</th>\n",
       "      <td>2025-07-01</td>\n",
       "      <td>EPMG</td>\n",
       "      <td>PES1</td>\n",
       "      <td>14444252.0</td>\n",
       "      <td>1501446.0</td>\n",
       "      <td>14238910.00</td>\n",
       "      <td>0.0</td>\n",
       "      <td>3022828.0</td>\n",
       "      <td>3022828.0</td>\n",
       "      <td>205342.00</td>\n",
       "      <td>-1521382.0</td>\n",
       "      <td>-1316040.00</td>\n",
       "    </tr>\n",
       "    <tr>\n",
       "      <th>15694</th>\n",
       "      <td>2025-07-01</td>\n",
       "      <td>GECG</td>\n",
       "      <td>GCA3</td>\n",
       "      <td>1578985.0</td>\n",
       "      <td>0.0</td>\n",
       "      <td>0.00</td>\n",
       "      <td>0.0</td>\n",
       "      <td>0.0</td>\n",
       "      <td>0.0</td>\n",
       "      <td>1578985.00</td>\n",
       "      <td>0.0</td>\n",
       "      <td>1578985.00</td>\n",
       "    </tr>\n",
       "  </tbody>\n",
       "</table>\n",
       "<p>15695 rows × 12 columns</p>\n",
       "</div>"
      ],
      "text/plain": [
       "            Fecha CodigoSICAgente CodigoPlanta  ENFICCVerificada        EDA  \\\n",
       "0      2025-10-16            CHVG         CHVR         8021002.0        0.0   \n",
       "1      2025-11-10            TBSG         TBST        18436293.0        0.0   \n",
       "2      2025-11-10            TBSG         TBQ4         1276687.0        0.0   \n",
       "3      2025-11-10            SOCG         PPA4         3865079.0        0.0   \n",
       "4      2025-11-10            SLUG         3IZ6          371517.0        0.0   \n",
       "...           ...             ...          ...               ...        ...   \n",
       "15690  2025-07-01            EPMG         ESMR          312088.0   220038.0   \n",
       "15691  2025-07-01            EPMG         LTSJ         2328817.0        0.0   \n",
       "15692  2025-07-01            EPMG         TSR1         7620617.0        0.0   \n",
       "15693  2025-07-01            EPMG         PES1        14444252.0  1501446.0   \n",
       "15694  2025-07-01            GECG         GCA3         1578985.0        0.0   \n",
       "\n",
       "               OEF  VCMSENFICC    VCMSEDA  VCMSTotales  ENFICCNoComp  \\\n",
       "0       7762692.00         0.0        0.0          0.0     258310.00   \n",
       "1      18331181.00         0.0        0.0          0.0     105112.00   \n",
       "2       1138538.00         0.0        0.0          0.0     138149.00   \n",
       "3       3863497.32         0.0        0.0          0.0       1581.68   \n",
       "4        272888.00    130000.0        0.0     130000.0     -31371.00   \n",
       "...            ...         ...        ...          ...           ...   \n",
       "15690    312087.00         0.0        0.0          0.0          1.00   \n",
       "15691   2655897.00         0.0        0.0          0.0    -327080.00   \n",
       "15692   7638380.00         0.0        0.0          0.0     -17763.00   \n",
       "15693  14238910.00         0.0  3022828.0    3022828.0     205342.00   \n",
       "15694         0.00         0.0        0.0          0.0    1578985.00   \n",
       "\n",
       "       EDANoComp  EnergiaReferenciaMercadoSecundario  \n",
       "0            0.0                           258310.00  \n",
       "1            0.0                           105112.00  \n",
       "2            0.0                           138149.00  \n",
       "3            0.0                             1581.68  \n",
       "4            0.0                           -31371.00  \n",
       "...          ...                                 ...  \n",
       "15690   220038.0                           220039.00  \n",
       "15691        0.0                          -327080.00  \n",
       "15692        0.0                           -17763.00  \n",
       "15693 -1521382.0                         -1316040.00  \n",
       "15694        0.0                          1578985.00  \n",
       "\n",
       "[15695 rows x 12 columns]"
      ]
     },
     "metadata": {},
     "output_type": "display_data"
    }
   ],
   "source": [
    "listado_plantas = []                                  # Listado de plantas por el cuál se desea filtrar, vacío significa que se usarán todas las plantas para el análisis\n",
    "\n",
    "df_filtrado = df_resultado.drop(columns=['FechaPublicacion', 'CodigoDuracion'])   # Se eliminan las columnas que no son de interés\n",
    "\n",
    "if len(listado_plantas) > 0:\n",
    "    df_filtrado = df_filtrado[df_filtrado['CodigoPlanta'].isin(listado_plantas)]  # Se filtra por el listado de plantas\n",
    "\n",
    "display(df_filtrado)                                                              # Muestra el DataFrame filtrado"
   ]
  },
  {
   "cell_type": "markdown",
   "metadata": {},
   "source": [
    "<a id='section5'></a>\n",
    "# 5. Análisis para dar respuesta al caso de uso"
   ]
  },
  {
   "cell_type": "markdown",
   "metadata": {},
   "source": [
    "Ahora se realizan gráficas de distintas series de tiempo que pueden ser de interés"
   ]
  },
  {
   "cell_type": "code",
   "execution_count": 6,
   "metadata": {},
   "outputs": [],
   "source": [
    "df_filtrado[\"Fecha\"] = pd.to_datetime(df_filtrado[\"Fecha\"])                                 # Convertir la fecha\n",
    "\n",
    "df_filtrado_grouped = (                                                                     # Agrupar por Fecha y sumar solo columnas numéricas\n",
    "    df_filtrado.groupby(\"Fecha\", as_index=False)\n",
    "               .mean(numeric_only=True)\n",
    ")\n",
    "\n",
    "cols_num = df_filtrado_grouped.select_dtypes(include=\"number\").columns                      # Se cambia la unidad de medida por MWh\n",
    "df_filtrado_grouped[cols_num] = df_filtrado_grouped[cols_num] / 1000\n",
    "\n",
    "def plot_time_series(df_filtrado, date_col, variables, title):                              # Definir una función para graficar series de tiempo con múltiples variables\n",
    "\n",
    "    fig = go.Figure()                    # Crear una figura vacía con Plotly\n",
    "    \n",
    "    for var in variables:                # Iterar sobre cada variable a graficar\n",
    "        fig.add_trace(go.Scatter(        # Agregar una línea a la gráfica para cada variable\n",
    "            x=df_filtrado[date_col],     # Eje X: fechas\n",
    "            y=df_filtrado[var],          # Eje Y: valores de la variable\n",
    "            mode='lines',                # Tipo de gráfico: líneas\n",
    "            name=var                     # Nombre de la serie en la leyenda\n",
    "        ))\n",
    "    \n",
    "    fig.update_layout(                   # Personalizar el diseño de la gráfica\n",
    "        title=title,                     # Título de la gráfica\n",
    "        xaxis_title=\"Fecha\",             # Etiqueta del eje X\n",
    "        yaxis_title=\"MWh\",                # Etiqueta del eje Y\n",
    "        template=\"plotly_white\"          # Estilo visual claro\n",
    "    )\n",
    "    \n",
    "    fig.show()                           # Mostrar la gráfica"
   ]
  },
  {
   "cell_type": "markdown",
   "metadata": {},
   "source": [
    "Comportamiento EDA"
   ]
  },
  {
   "cell_type": "code",
   "execution_count": 7,
   "metadata": {},
   "outputs": [
    {
     "data": {
      "application/vnd.plotly.v1+json": {
       "config": {
        "plotlyServerURL": "https://plot.ly"
       },
       "data": [
        {
         "mode": "lines",
         "name": "EDANoComp",
         "type": "scatter",
         "x": [
          "2025-07-01T00:00:00.000000000",
          "2025-07-02T00:00:00.000000000",
          "2025-07-03T00:00:00.000000000",
          "2025-07-04T00:00:00.000000000",
          "2025-07-05T00:00:00.000000000",
          "2025-07-06T00:00:00.000000000",
          "2025-07-07T00:00:00.000000000",
          "2025-07-08T00:00:00.000000000",
          "2025-07-09T00:00:00.000000000",
          "2025-07-10T00:00:00.000000000",
          "2025-07-11T00:00:00.000000000",
          "2025-07-12T00:00:00.000000000",
          "2025-07-13T00:00:00.000000000",
          "2025-07-14T00:00:00.000000000",
          "2025-07-15T00:00:00.000000000",
          "2025-07-16T00:00:00.000000000",
          "2025-07-17T00:00:00.000000000",
          "2025-07-18T00:00:00.000000000",
          "2025-07-19T00:00:00.000000000",
          "2025-07-20T00:00:00.000000000",
          "2025-07-21T00:00:00.000000000",
          "2025-07-22T00:00:00.000000000",
          "2025-07-23T00:00:00.000000000",
          "2025-07-24T00:00:00.000000000",
          "2025-07-25T00:00:00.000000000",
          "2025-07-26T00:00:00.000000000",
          "2025-07-27T00:00:00.000000000",
          "2025-07-28T00:00:00.000000000",
          "2025-07-29T00:00:00.000000000",
          "2025-07-30T00:00:00.000000000",
          "2025-07-31T00:00:00.000000000",
          "2025-08-01T00:00:00.000000000",
          "2025-08-02T00:00:00.000000000",
          "2025-08-03T00:00:00.000000000",
          "2025-08-04T00:00:00.000000000",
          "2025-08-05T00:00:00.000000000",
          "2025-08-06T00:00:00.000000000",
          "2025-08-07T00:00:00.000000000",
          "2025-08-08T00:00:00.000000000",
          "2025-08-09T00:00:00.000000000",
          "2025-08-10T00:00:00.000000000",
          "2025-08-11T00:00:00.000000000",
          "2025-08-12T00:00:00.000000000",
          "2025-08-13T00:00:00.000000000",
          "2025-08-14T00:00:00.000000000",
          "2025-08-15T00:00:00.000000000",
          "2025-08-16T00:00:00.000000000",
          "2025-08-17T00:00:00.000000000",
          "2025-08-18T00:00:00.000000000",
          "2025-08-19T00:00:00.000000000",
          "2025-08-20T00:00:00.000000000",
          "2025-08-21T00:00:00.000000000",
          "2025-08-22T00:00:00.000000000",
          "2025-08-23T00:00:00.000000000",
          "2025-08-24T00:00:00.000000000",
          "2025-08-25T00:00:00.000000000",
          "2025-08-26T00:00:00.000000000",
          "2025-08-27T00:00:00.000000000",
          "2025-08-28T00:00:00.000000000",
          "2025-08-29T00:00:00.000000000",
          "2025-08-30T00:00:00.000000000",
          "2025-08-31T00:00:00.000000000",
          "2025-09-01T00:00:00.000000000",
          "2025-09-02T00:00:00.000000000",
          "2025-09-03T00:00:00.000000000",
          "2025-09-04T00:00:00.000000000",
          "2025-09-05T00:00:00.000000000",
          "2025-09-06T00:00:00.000000000",
          "2025-09-07T00:00:00.000000000",
          "2025-09-08T00:00:00.000000000",
          "2025-09-09T00:00:00.000000000",
          "2025-09-10T00:00:00.000000000",
          "2025-09-11T00:00:00.000000000",
          "2025-09-12T00:00:00.000000000",
          "2025-09-13T00:00:00.000000000",
          "2025-09-14T00:00:00.000000000",
          "2025-09-15T00:00:00.000000000",
          "2025-09-16T00:00:00.000000000",
          "2025-09-17T00:00:00.000000000",
          "2025-09-18T00:00:00.000000000",
          "2025-09-19T00:00:00.000000000",
          "2025-09-20T00:00:00.000000000",
          "2025-09-21T00:00:00.000000000",
          "2025-09-22T00:00:00.000000000",
          "2025-09-23T00:00:00.000000000",
          "2025-09-24T00:00:00.000000000",
          "2025-09-25T00:00:00.000000000",
          "2025-09-26T00:00:00.000000000",
          "2025-09-27T00:00:00.000000000",
          "2025-09-28T00:00:00.000000000",
          "2025-09-29T00:00:00.000000000",
          "2025-09-30T00:00:00.000000000",
          "2025-10-01T00:00:00.000000000",
          "2025-10-02T00:00:00.000000000",
          "2025-10-03T00:00:00.000000000",
          "2025-10-04T00:00:00.000000000",
          "2025-10-05T00:00:00.000000000",
          "2025-10-06T00:00:00.000000000",
          "2025-10-07T00:00:00.000000000",
          "2025-10-08T00:00:00.000000000",
          "2025-10-09T00:00:00.000000000",
          "2025-10-10T00:00:00.000000000",
          "2025-10-11T00:00:00.000000000",
          "2025-10-12T00:00:00.000000000",
          "2025-10-13T00:00:00.000000000",
          "2025-10-14T00:00:00.000000000",
          "2025-10-15T00:00:00.000000000",
          "2025-10-16T00:00:00.000000000",
          "2025-10-17T00:00:00.000000000",
          "2025-10-18T00:00:00.000000000",
          "2025-10-19T00:00:00.000000000",
          "2025-10-20T00:00:00.000000000",
          "2025-10-21T00:00:00.000000000",
          "2025-10-22T00:00:00.000000000",
          "2025-10-23T00:00:00.000000000",
          "2025-10-24T00:00:00.000000000",
          "2025-10-25T00:00:00.000000000",
          "2025-10-26T00:00:00.000000000",
          "2025-10-27T00:00:00.000000000",
          "2025-10-28T00:00:00.000000000",
          "2025-10-29T00:00:00.000000000",
          "2025-10-30T00:00:00.000000000",
          "2025-10-31T00:00:00.000000000",
          "2025-11-01T00:00:00.000000000",
          "2025-11-02T00:00:00.000000000",
          "2025-11-03T00:00:00.000000000",
          "2025-11-04T00:00:00.000000000",
          "2025-11-05T00:00:00.000000000",
          "2025-11-06T00:00:00.000000000",
          "2025-11-07T00:00:00.000000000",
          "2025-11-08T00:00:00.000000000",
          "2025-11-09T00:00:00.000000000",
          "2025-11-10T00:00:00.000000000",
          "2025-11-11T00:00:00.000000000",
          "2025-11-12T00:00:00.000000000",
          "2025-11-13T00:00:00.000000000",
          "2025-11-14T00:00:00.000000000",
          "2025-11-15T00:00:00.000000000",
          "2025-11-16T00:00:00.000000000",
          "2025-11-17T00:00:00.000000000",
          "2025-11-18T00:00:00.000000000",
          "2025-11-19T00:00:00.000000000",
          "2025-11-20T00:00:00.000000000",
          "2025-11-21T00:00:00.000000000",
          "2025-11-22T00:00:00.000000000",
          "2025-11-23T00:00:00.000000000",
          "2025-11-24T00:00:00.000000000",
          "2025-11-25T00:00:00.000000000",
          "2025-11-26T00:00:00.000000000",
          "2025-11-27T00:00:00.000000000",
          "2025-11-28T00:00:00.000000000",
          "2025-11-29T00:00:00.000000000",
          "2025-11-30T00:00:00.000000000",
          "2025-12-01T00:00:00.000000000",
          "2025-12-02T00:00:00.000000000",
          "2025-12-03T00:00:00.000000000",
          "2025-12-04T00:00:00.000000000",
          "2025-12-05T00:00:00.000000000",
          "2025-12-06T00:00:00.000000000",
          "2025-12-07T00:00:00.000000000",
          "2025-12-08T00:00:00.000000000",
          "2025-12-09T00:00:00.000000000",
          "2025-12-10T00:00:00.000000000",
          "2025-12-11T00:00:00.000000000",
          "2025-12-12T00:00:00.000000000",
          "2025-12-13T00:00:00.000000000",
          "2025-12-14T00:00:00.000000000",
          "2025-12-15T00:00:00.000000000",
          "2025-12-16T00:00:00.000000000",
          "2025-12-17T00:00:00.000000000",
          "2025-12-18T00:00:00.000000000",
          "2025-12-19T00:00:00.000000000",
          "2025-12-20T00:00:00.000000000",
          "2025-12-21T00:00:00.000000000",
          "2025-12-22T00:00:00.000000000",
          "2025-12-23T00:00:00.000000000",
          "2025-12-24T00:00:00.000000000",
          "2025-12-25T00:00:00.000000000",
          "2025-12-26T00:00:00.000000000",
          "2025-12-27T00:00:00.000000000",
          "2025-12-28T00:00:00.000000000",
          "2025-12-29T00:00:00.000000000",
          "2025-12-30T00:00:00.000000000",
          "2025-12-31T00:00:00.000000000",
          "2026-01-01T00:00:00.000000000",
          "2026-01-02T00:00:00.000000000",
          "2026-01-03T00:00:00.000000000",
          "2026-01-04T00:00:00.000000000",
          "2026-01-05T00:00:00.000000000",
          "2026-01-06T00:00:00.000000000",
          "2026-01-07T00:00:00.000000000",
          "2026-01-08T00:00:00.000000000",
          "2026-01-09T00:00:00.000000000",
          "2026-01-10T00:00:00.000000000",
          "2026-01-11T00:00:00.000000000",
          "2026-01-12T00:00:00.000000000",
          "2026-01-13T00:00:00.000000000",
          "2026-01-14T00:00:00.000000000",
          "2026-01-15T00:00:00.000000000",
          "2026-01-16T00:00:00.000000000",
          "2026-01-17T00:00:00.000000000",
          "2026-01-18T00:00:00.000000000",
          "2026-01-19T00:00:00.000000000",
          "2026-01-20T00:00:00.000000000",
          "2026-01-21T00:00:00.000000000",
          "2026-01-22T00:00:00.000000000",
          "2026-01-23T00:00:00.000000000",
          "2026-01-24T00:00:00.000000000",
          "2026-01-25T00:00:00.000000000",
          "2026-01-26T00:00:00.000000000",
          "2026-01-27T00:00:00.000000000",
          "2026-01-28T00:00:00.000000000",
          "2026-01-29T00:00:00.000000000",
          "2026-01-30T00:00:00.000000000",
          "2026-01-31T00:00:00.000000000"
         ],
         "y": {
          "bdata": "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",
          "dtype": "f8"
         }
        },
        {
         "mode": "lines",
         "name": "EDA",
         "type": "scatter",
         "x": [
          "2025-07-01T00:00:00.000000000",
          "2025-07-02T00:00:00.000000000",
          "2025-07-03T00:00:00.000000000",
          "2025-07-04T00:00:00.000000000",
          "2025-07-05T00:00:00.000000000",
          "2025-07-06T00:00:00.000000000",
          "2025-07-07T00:00:00.000000000",
          "2025-07-08T00:00:00.000000000",
          "2025-07-09T00:00:00.000000000",
          "2025-07-10T00:00:00.000000000",
          "2025-07-11T00:00:00.000000000",
          "2025-07-12T00:00:00.000000000",
          "2025-07-13T00:00:00.000000000",
          "2025-07-14T00:00:00.000000000",
          "2025-07-15T00:00:00.000000000",
          "2025-07-16T00:00:00.000000000",
          "2025-07-17T00:00:00.000000000",
          "2025-07-18T00:00:00.000000000",
          "2025-07-19T00:00:00.000000000",
          "2025-07-20T00:00:00.000000000",
          "2025-07-21T00:00:00.000000000",
          "2025-07-22T00:00:00.000000000",
          "2025-07-23T00:00:00.000000000",
          "2025-07-24T00:00:00.000000000",
          "2025-07-25T00:00:00.000000000",
          "2025-07-26T00:00:00.000000000",
          "2025-07-27T00:00:00.000000000",
          "2025-07-28T00:00:00.000000000",
          "2025-07-29T00:00:00.000000000",
          "2025-07-30T00:00:00.000000000",
          "2025-07-31T00:00:00.000000000",
          "2025-08-01T00:00:00.000000000",
          "2025-08-02T00:00:00.000000000",
          "2025-08-03T00:00:00.000000000",
          "2025-08-04T00:00:00.000000000",
          "2025-08-05T00:00:00.000000000",
          "2025-08-06T00:00:00.000000000",
          "2025-08-07T00:00:00.000000000",
          "2025-08-08T00:00:00.000000000",
          "2025-08-09T00:00:00.000000000",
          "2025-08-10T00:00:00.000000000",
          "2025-08-11T00:00:00.000000000",
          "2025-08-12T00:00:00.000000000",
          "2025-08-13T00:00:00.000000000",
          "2025-08-14T00:00:00.000000000",
          "2025-08-15T00:00:00.000000000",
          "2025-08-16T00:00:00.000000000",
          "2025-08-17T00:00:00.000000000",
          "2025-08-18T00:00:00.000000000",
          "2025-08-19T00:00:00.000000000",
          "2025-08-20T00:00:00.000000000",
          "2025-08-21T00:00:00.000000000",
          "2025-08-22T00:00:00.000000000",
          "2025-08-23T00:00:00.000000000",
          "2025-08-24T00:00:00.000000000",
          "2025-08-25T00:00:00.000000000",
          "2025-08-26T00:00:00.000000000",
          "2025-08-27T00:00:00.000000000",
          "2025-08-28T00:00:00.000000000",
          "2025-08-29T00:00:00.000000000",
          "2025-08-30T00:00:00.000000000",
          "2025-08-31T00:00:00.000000000",
          "2025-09-01T00:00:00.000000000",
          "2025-09-02T00:00:00.000000000",
          "2025-09-03T00:00:00.000000000",
          "2025-09-04T00:00:00.000000000",
          "2025-09-05T00:00:00.000000000",
          "2025-09-06T00:00:00.000000000",
          "2025-09-07T00:00:00.000000000",
          "2025-09-08T00:00:00.000000000",
          "2025-09-09T00:00:00.000000000",
          "2025-09-10T00:00:00.000000000",
          "2025-09-11T00:00:00.000000000",
          "2025-09-12T00:00:00.000000000",
          "2025-09-13T00:00:00.000000000",
          "2025-09-14T00:00:00.000000000",
          "2025-09-15T00:00:00.000000000",
          "2025-09-16T00:00:00.000000000",
          "2025-09-17T00:00:00.000000000",
          "2025-09-18T00:00:00.000000000",
          "2025-09-19T00:00:00.000000000",
          "2025-09-20T00:00:00.000000000",
          "2025-09-21T00:00:00.000000000",
          "2025-09-22T00:00:00.000000000",
          "2025-09-23T00:00:00.000000000",
          "2025-09-24T00:00:00.000000000",
          "2025-09-25T00:00:00.000000000",
          "2025-09-26T00:00:00.000000000",
          "2025-09-27T00:00:00.000000000",
          "2025-09-28T00:00:00.000000000",
          "2025-09-29T00:00:00.000000000",
          "2025-09-30T00:00:00.000000000",
          "2025-10-01T00:00:00.000000000",
          "2025-10-02T00:00:00.000000000",
          "2025-10-03T00:00:00.000000000",
          "2025-10-04T00:00:00.000000000",
          "2025-10-05T00:00:00.000000000",
          "2025-10-06T00:00:00.000000000",
          "2025-10-07T00:00:00.000000000",
          "2025-10-08T00:00:00.000000000",
          "2025-10-09T00:00:00.000000000",
          "2025-10-10T00:00:00.000000000",
          "2025-10-11T00:00:00.000000000",
          "2025-10-12T00:00:00.000000000",
          "2025-10-13T00:00:00.000000000",
          "2025-10-14T00:00:00.000000000",
          "2025-10-15T00:00:00.000000000",
          "2025-10-16T00:00:00.000000000",
          "2025-10-17T00:00:00.000000000",
          "2025-10-18T00:00:00.000000000",
          "2025-10-19T00:00:00.000000000",
          "2025-10-20T00:00:00.000000000",
          "2025-10-21T00:00:00.000000000",
          "2025-10-22T00:00:00.000000000",
          "2025-10-23T00:00:00.000000000",
          "2025-10-24T00:00:00.000000000",
          "2025-10-25T00:00:00.000000000",
          "2025-10-26T00:00:00.000000000",
          "2025-10-27T00:00:00.000000000",
          "2025-10-28T00:00:00.000000000",
          "2025-10-29T00:00:00.000000000",
          "2025-10-30T00:00:00.000000000",
          "2025-10-31T00:00:00.000000000",
          "2025-11-01T00:00:00.000000000",
          "2025-11-02T00:00:00.000000000",
          "2025-11-03T00:00:00.000000000",
          "2025-11-04T00:00:00.000000000",
          "2025-11-05T00:00:00.000000000",
          "2025-11-06T00:00:00.000000000",
          "2025-11-07T00:00:00.000000000",
          "2025-11-08T00:00:00.000000000",
          "2025-11-09T00:00:00.000000000",
          "2025-11-10T00:00:00.000000000",
          "2025-11-11T00:00:00.000000000",
          "2025-11-12T00:00:00.000000000",
          "2025-11-13T00:00:00.000000000",
          "2025-11-14T00:00:00.000000000",
          "2025-11-15T00:00:00.000000000",
          "2025-11-16T00:00:00.000000000",
          "2025-11-17T00:00:00.000000000",
          "2025-11-18T00:00:00.000000000",
          "2025-11-19T00:00:00.000000000",
          "2025-11-20T00:00:00.000000000",
          "2025-11-21T00:00:00.000000000",
          "2025-11-22T00:00:00.000000000",
          "2025-11-23T00:00:00.000000000",
          "2025-11-24T00:00:00.000000000",
          "2025-11-25T00:00:00.000000000",
          "2025-11-26T00:00:00.000000000",
          "2025-11-27T00:00:00.000000000",
          "2025-11-28T00:00:00.000000000",
          "2025-11-29T00:00:00.000000000",
          "2025-11-30T00:00:00.000000000",
          "2025-12-01T00:00:00.000000000",
          "2025-12-02T00:00:00.000000000",
          "2025-12-03T00:00:00.000000000",
          "2025-12-04T00:00:00.000000000",
          "2025-12-05T00:00:00.000000000",
          "2025-12-06T00:00:00.000000000",
          "2025-12-07T00:00:00.000000000",
          "2025-12-08T00:00:00.000000000",
          "2025-12-09T00:00:00.000000000",
          "2025-12-10T00:00:00.000000000",
          "2025-12-11T00:00:00.000000000",
          "2025-12-12T00:00:00.000000000",
          "2025-12-13T00:00:00.000000000",
          "2025-12-14T00:00:00.000000000",
          "2025-12-15T00:00:00.000000000",
          "2025-12-16T00:00:00.000000000",
          "2025-12-17T00:00:00.000000000",
          "2025-12-18T00:00:00.000000000",
          "2025-12-19T00:00:00.000000000",
          "2025-12-20T00:00:00.000000000",
          "2025-12-21T00:00:00.000000000",
          "2025-12-22T00:00:00.000000000",
          "2025-12-23T00:00:00.000000000",
          "2025-12-24T00:00:00.000000000",
          "2025-12-25T00:00:00.000000000",
          "2025-12-26T00:00:00.000000000",
          "2025-12-27T00:00:00.000000000",
          "2025-12-28T00:00:00.000000000",
          "2025-12-29T00:00:00.000000000",
          "2025-12-30T00:00:00.000000000",
          "2025-12-31T00:00:00.000000000",
          "2026-01-01T00:00:00.000000000",
          "2026-01-02T00:00:00.000000000",
          "2026-01-03T00:00:00.000000000",
          "2026-01-04T00:00:00.000000000",
          "2026-01-05T00:00:00.000000000",
          "2026-01-06T00:00:00.000000000",
          "2026-01-07T00:00:00.000000000",
          "2026-01-08T00:00:00.000000000",
          "2026-01-09T00:00:00.000000000",
          "2026-01-10T00:00:00.000000000",
          "2026-01-11T00:00:00.000000000",
          "2026-01-12T00:00:00.000000000",
          "2026-01-13T00:00:00.000000000",
          "2026-01-14T00:00:00.000000000",
          "2026-01-15T00:00:00.000000000",
          "2026-01-16T00:00:00.000000000",
          "2026-01-17T00:00:00.000000000",
          "2026-01-18T00:00:00.000000000",
          "2026-01-19T00:00:00.000000000",
          "2026-01-20T00:00:00.000000000",
          "2026-01-21T00:00:00.000000000",
          "2026-01-22T00:00:00.000000000",
          "2026-01-23T00:00:00.000000000",
          "2026-01-24T00:00:00.000000000",
          "2026-01-25T00:00:00.000000000",
          "2026-01-26T00:00:00.000000000",
          "2026-01-27T00:00:00.000000000",
          "2026-01-28T00:00:00.000000000",
          "2026-01-29T00:00:00.000000000",
          "2026-01-30T00:00:00.000000000",
          "2026-01-31T00:00:00.000000000"
         ],
         "y": {
          "bdata": "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",
          "dtype": "f8"
         }
        },
        {
         "mode": "lines",
         "name": "VCMSEDA",
         "type": "scatter",
         "x": [
          "2025-07-01T00:00:00.000000000",
          "2025-07-02T00:00:00.000000000",
          "2025-07-03T00:00:00.000000000",
          "2025-07-04T00:00:00.000000000",
          "2025-07-05T00:00:00.000000000",
          "2025-07-06T00:00:00.000000000",
          "2025-07-07T00:00:00.000000000",
          "2025-07-08T00:00:00.000000000",
          "2025-07-09T00:00:00.000000000",
          "2025-07-10T00:00:00.000000000",
          "2025-07-11T00:00:00.000000000",
          "2025-07-12T00:00:00.000000000",
          "2025-07-13T00:00:00.000000000",
          "2025-07-14T00:00:00.000000000",
          "2025-07-15T00:00:00.000000000",
          "2025-07-16T00:00:00.000000000",
          "2025-07-17T00:00:00.000000000",
          "2025-07-18T00:00:00.000000000",
          "2025-07-19T00:00:00.000000000",
          "2025-07-20T00:00:00.000000000",
          "2025-07-21T00:00:00.000000000",
          "2025-07-22T00:00:00.000000000",
          "2025-07-23T00:00:00.000000000",
          "2025-07-24T00:00:00.000000000",
          "2025-07-25T00:00:00.000000000",
          "2025-07-26T00:00:00.000000000",
          "2025-07-27T00:00:00.000000000",
          "2025-07-28T00:00:00.000000000",
          "2025-07-29T00:00:00.000000000",
          "2025-07-30T00:00:00.000000000",
          "2025-07-31T00:00:00.000000000",
          "2025-08-01T00:00:00.000000000",
          "2025-08-02T00:00:00.000000000",
          "2025-08-03T00:00:00.000000000",
          "2025-08-04T00:00:00.000000000",
          "2025-08-05T00:00:00.000000000",
          "2025-08-06T00:00:00.000000000",
          "2025-08-07T00:00:00.000000000",
          "2025-08-08T00:00:00.000000000",
          "2025-08-09T00:00:00.000000000",
          "2025-08-10T00:00:00.000000000",
          "2025-08-11T00:00:00.000000000",
          "2025-08-12T00:00:00.000000000",
          "2025-08-13T00:00:00.000000000",
          "2025-08-14T00:00:00.000000000",
          "2025-08-15T00:00:00.000000000",
          "2025-08-16T00:00:00.000000000",
          "2025-08-17T00:00:00.000000000",
          "2025-08-18T00:00:00.000000000",
          "2025-08-19T00:00:00.000000000",
          "2025-08-20T00:00:00.000000000",
          "2025-08-21T00:00:00.000000000",
          "2025-08-22T00:00:00.000000000",
          "2025-08-23T00:00:00.000000000",
          "2025-08-24T00:00:00.000000000",
          "2025-08-25T00:00:00.000000000",
          "2025-08-26T00:00:00.000000000",
          "2025-08-27T00:00:00.000000000",
          "2025-08-28T00:00:00.000000000",
          "2025-08-29T00:00:00.000000000",
          "2025-08-30T00:00:00.000000000",
          "2025-08-31T00:00:00.000000000",
          "2025-09-01T00:00:00.000000000",
          "2025-09-02T00:00:00.000000000",
          "2025-09-03T00:00:00.000000000",
          "2025-09-04T00:00:00.000000000",
          "2025-09-05T00:00:00.000000000",
          "2025-09-06T00:00:00.000000000",
          "2025-09-07T00:00:00.000000000",
          "2025-09-08T00:00:00.000000000",
          "2025-09-09T00:00:00.000000000",
          "2025-09-10T00:00:00.000000000",
          "2025-09-11T00:00:00.000000000",
          "2025-09-12T00:00:00.000000000",
          "2025-09-13T00:00:00.000000000",
          "2025-09-14T00:00:00.000000000",
          "2025-09-15T00:00:00.000000000",
          "2025-09-16T00:00:00.000000000",
          "2025-09-17T00:00:00.000000000",
          "2025-09-18T00:00:00.000000000",
          "2025-09-19T00:00:00.000000000",
          "2025-09-20T00:00:00.000000000",
          "2025-09-21T00:00:00.000000000",
          "2025-09-22T00:00:00.000000000",
          "2025-09-23T00:00:00.000000000",
          "2025-09-24T00:00:00.000000000",
          "2025-09-25T00:00:00.000000000",
          "2025-09-26T00:00:00.000000000",
          "2025-09-27T00:00:00.000000000",
          "2025-09-28T00:00:00.000000000",
          "2025-09-29T00:00:00.000000000",
          "2025-09-30T00:00:00.000000000",
          "2025-10-01T00:00:00.000000000",
          "2025-10-02T00:00:00.000000000",
          "2025-10-03T00:00:00.000000000",
          "2025-10-04T00:00:00.000000000",
          "2025-10-05T00:00:00.000000000",
          "2025-10-06T00:00:00.000000000",
          "2025-10-07T00:00:00.000000000",
          "2025-10-08T00:00:00.000000000",
          "2025-10-09T00:00:00.000000000",
          "2025-10-10T00:00:00.000000000",
          "2025-10-11T00:00:00.000000000",
          "2025-10-12T00:00:00.000000000",
          "2025-10-13T00:00:00.000000000",
          "2025-10-14T00:00:00.000000000",
          "2025-10-15T00:00:00.000000000",
          "2025-10-16T00:00:00.000000000",
          "2025-10-17T00:00:00.000000000",
          "2025-10-18T00:00:00.000000000",
          "2025-10-19T00:00:00.000000000",
          "2025-10-20T00:00:00.000000000",
          "2025-10-21T00:00:00.000000000",
          "2025-10-22T00:00:00.000000000",
          "2025-10-23T00:00:00.000000000",
          "2025-10-24T00:00:00.000000000",
          "2025-10-25T00:00:00.000000000",
          "2025-10-26T00:00:00.000000000",
          "2025-10-27T00:00:00.000000000",
          "2025-10-28T00:00:00.000000000",
          "2025-10-29T00:00:00.000000000",
          "2025-10-30T00:00:00.000000000",
          "2025-10-31T00:00:00.000000000",
          "2025-11-01T00:00:00.000000000",
          "2025-11-02T00:00:00.000000000",
          "2025-11-03T00:00:00.000000000",
          "2025-11-04T00:00:00.000000000",
          "2025-11-05T00:00:00.000000000",
          "2025-11-06T00:00:00.000000000",
          "2025-11-07T00:00:00.000000000",
          "2025-11-08T00:00:00.000000000",
          "2025-11-09T00:00:00.000000000",
          "2025-11-10T00:00:00.000000000",
          "2025-11-11T00:00:00.000000000",
          "2025-11-12T00:00:00.000000000",
          "2025-11-13T00:00:00.000000000",
          "2025-11-14T00:00:00.000000000",
          "2025-11-15T00:00:00.000000000",
          "2025-11-16T00:00:00.000000000",
          "2025-11-17T00:00:00.000000000",
          "2025-11-18T00:00:00.000000000",
          "2025-11-19T00:00:00.000000000",
          "2025-11-20T00:00:00.000000000",
          "2025-11-21T00:00:00.000000000",
          "2025-11-22T00:00:00.000000000",
          "2025-11-23T00:00:00.000000000",
          "2025-11-24T00:00:00.000000000",
          "2025-11-25T00:00:00.000000000",
          "2025-11-26T00:00:00.000000000",
          "2025-11-27T00:00:00.000000000",
          "2025-11-28T00:00:00.000000000",
          "2025-11-29T00:00:00.000000000",
          "2025-11-30T00:00:00.000000000",
          "2025-12-01T00:00:00.000000000",
          "2025-12-02T00:00:00.000000000",
          "2025-12-03T00:00:00.000000000",
          "2025-12-04T00:00:00.000000000",
          "2025-12-05T00:00:00.000000000",
          "2025-12-06T00:00:00.000000000",
          "2025-12-07T00:00:00.000000000",
          "2025-12-08T00:00:00.000000000",
          "2025-12-09T00:00:00.000000000",
          "2025-12-10T00:00:00.000000000",
          "2025-12-11T00:00:00.000000000",
          "2025-12-12T00:00:00.000000000",
          "2025-12-13T00:00:00.000000000",
          "2025-12-14T00:00:00.000000000",
          "2025-12-15T00:00:00.000000000",
          "2025-12-16T00:00:00.000000000",
          "2025-12-17T00:00:00.000000000",
          "2025-12-18T00:00:00.000000000",
          "2025-12-19T00:00:00.000000000",
          "2025-12-20T00:00:00.000000000",
          "2025-12-21T00:00:00.000000000",
          "2025-12-22T00:00:00.000000000",
          "2025-12-23T00:00:00.000000000",
          "2025-12-24T00:00:00.000000000",
          "2025-12-25T00:00:00.000000000",
          "2025-12-26T00:00:00.000000000",
          "2025-12-27T00:00:00.000000000",
          "2025-12-28T00:00:00.000000000",
          "2025-12-29T00:00:00.000000000",
          "2025-12-30T00:00:00.000000000",
          "2025-12-31T00:00:00.000000000",
          "2026-01-01T00:00:00.000000000",
          "2026-01-02T00:00:00.000000000",
          "2026-01-03T00:00:00.000000000",
          "2026-01-04T00:00:00.000000000",
          "2026-01-05T00:00:00.000000000",
          "2026-01-06T00:00:00.000000000",
          "2026-01-07T00:00:00.000000000",
          "2026-01-08T00:00:00.000000000",
          "2026-01-09T00:00:00.000000000",
          "2026-01-10T00:00:00.000000000",
          "2026-01-11T00:00:00.000000000",
          "2026-01-12T00:00:00.000000000",
          "2026-01-13T00:00:00.000000000",
          "2026-01-14T00:00:00.000000000",
          "2026-01-15T00:00:00.000000000",
          "2026-01-16T00:00:00.000000000",
          "2026-01-17T00:00:00.000000000",
          "2026-01-18T00:00:00.000000000",
          "2026-01-19T00:00:00.000000000",
          "2026-01-20T00:00:00.000000000",
          "2026-01-21T00:00:00.000000000",
          "2026-01-22T00:00:00.000000000",
          "2026-01-23T00:00:00.000000000",
          "2026-01-24T00:00:00.000000000",
          "2026-01-25T00:00:00.000000000",
          "2026-01-26T00:00:00.000000000",
          "2026-01-27T00:00:00.000000000",
          "2026-01-28T00:00:00.000000000",
          "2026-01-29T00:00:00.000000000",
          "2026-01-30T00:00:00.000000000",
          "2026-01-31T00:00:00.000000000"
         ],
         "y": {
          "bdata": "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",
          "dtype": "f8"
         }
        }
       ],
       "layout": {
        "template": {
         "data": {
          "bar": [
           {
            "error_x": {
             "color": "#2a3f5f"
            },
            "error_y": {
             "color": "#2a3f5f"
            },
            "marker": {
             "line": {
              "color": "white",
              "width": 0.5
             },
             "pattern": {
              "fillmode": "overlay",
              "size": 10,
              "solidity": 0.2
             }
            },
            "type": "bar"
           }
          ],
          "barpolar": [
           {
            "marker": {
             "line": {
              "color": "white",
              "width": 0.5
             },
             "pattern": {
              "fillmode": "overlay",
              "size": 10,
              "solidity": 0.2
             }
            },
            "type": "barpolar"
           }
          ],
          "carpet": [
           {
            "aaxis": {
             "endlinecolor": "#2a3f5f",
             "gridcolor": "#C8D4E3",
             "linecolor": "#C8D4E3",
             "minorgridcolor": "#C8D4E3",
             "startlinecolor": "#2a3f5f"
            },
            "baxis": {
             "endlinecolor": "#2a3f5f",
             "gridcolor": "#C8D4E3",
             "linecolor": "#C8D4E3",
             "minorgridcolor": "#C8D4E3",
             "startlinecolor": "#2a3f5f"
            },
            "type": "carpet"
           }
          ],
          "choropleth": [
           {
            "colorbar": {
             "outlinewidth": 0,
             "ticks": ""
            },
            "type": "choropleth"
           }
          ],
          "contour": [
           {
            "colorbar": {
             "outlinewidth": 0,
             "ticks": ""
            },
            "colorscale": [
             [
              0,
              "#0d0887"
             ],
             [
              0.1111111111111111,
              "#46039f"
             ],
             [
              0.2222222222222222,
              "#7201a8"
             ],
             [
              0.3333333333333333,
              "#9c179e"
             ],
             [
              0.4444444444444444,
              "#bd3786"
             ],
             [
              0.5555555555555556,
              "#d8576b"
             ],
             [
              0.6666666666666666,
              "#ed7953"
             ],
             [
              0.7777777777777778,
              "#fb9f3a"
             ],
             [
              0.8888888888888888,
              "#fdca26"
             ],
             [
              1,
              "#f0f921"
             ]
            ],
            "type": "contour"
           }
          ],
          "contourcarpet": [
           {
            "colorbar": {
             "outlinewidth": 0,
             "ticks": ""
            },
            "type": "contourcarpet"
           }
          ],
          "heatmap": [
           {
            "colorbar": {
             "outlinewidth": 0,
             "ticks": ""
            },
            "colorscale": [
             [
              0,
              "#0d0887"
             ],
             [
              0.1111111111111111,
              "#46039f"
             ],
             [
              0.2222222222222222,
              "#7201a8"
             ],
             [
              0.3333333333333333,
              "#9c179e"
             ],
             [
              0.4444444444444444,
              "#bd3786"
             ],
             [
              0.5555555555555556,
              "#d8576b"
             ],
             [
              0.6666666666666666,
              "#ed7953"
             ],
             [
              0.7777777777777778,
              "#fb9f3a"
             ],
             [
              0.8888888888888888,
              "#fdca26"
             ],
             [
              1,
              "#f0f921"
             ]
            ],
            "type": "heatmap"
           }
          ],
          "histogram": [
           {
            "marker": {
             "pattern": {
              "fillmode": "overlay",
              "size": 10,
              "solidity": 0.2
             }
            },
            "type": "histogram"
           }
          ],
          "histogram2d": [
           {
            "colorbar": {
             "outlinewidth": 0,
             "ticks": ""
            },
            "colorscale": [
             [
              0,
              "#0d0887"
             ],
             [
              0.1111111111111111,
              "#46039f"
             ],
             [
              0.2222222222222222,
              "#7201a8"
             ],
             [
              0.3333333333333333,
              "#9c179e"
             ],
             [
              0.4444444444444444,
              "#bd3786"
             ],
             [
              0.5555555555555556,
              "#d8576b"
             ],
             [
              0.6666666666666666,
              "#ed7953"
             ],
             [
              0.7777777777777778,
              "#fb9f3a"
             ],
             [
              0.8888888888888888,
              "#fdca26"
             ],
             [
              1,
              "#f0f921"
             ]
            ],
            "type": "histogram2d"
           }
          ],
          "histogram2dcontour": [
           {
            "colorbar": {
             "outlinewidth": 0,
             "ticks": ""
            },
            "colorscale": [
             [
              0,
              "#0d0887"
             ],
             [
              0.1111111111111111,
              "#46039f"
             ],
             [
              0.2222222222222222,
              "#7201a8"
             ],
             [
              0.3333333333333333,
              "#9c179e"
             ],
             [
              0.4444444444444444,
              "#bd3786"
             ],
             [
              0.5555555555555556,
              "#d8576b"
             ],
             [
              0.6666666666666666,
              "#ed7953"
             ],
             [
              0.7777777777777778,
              "#fb9f3a"
             ],
             [
              0.8888888888888888,
              "#fdca26"
             ],
             [
              1,
              "#f0f921"
             ]
            ],
            "type": "histogram2dcontour"
           }
          ],
          "mesh3d": [
           {
            "colorbar": {
             "outlinewidth": 0,
             "ticks": ""
            },
            "type": "mesh3d"
           }
          ],
          "parcoords": [
           {
            "line": {
             "colorbar": {
              "outlinewidth": 0,
              "ticks": ""
             }
            },
            "type": "parcoords"
           }
          ],
          "pie": [
           {
            "automargin": true,
            "type": "pie"
           }
          ],
          "scatter": [
           {
            "fillpattern": {
             "fillmode": "overlay",
             "size": 10,
             "solidity": 0.2
            },
            "type": "scatter"
           }
          ],
          "scatter3d": [
           {
            "line": {
             "colorbar": {
              "outlinewidth": 0,
              "ticks": ""
             }
            },
            "marker": {
             "colorbar": {
              "outlinewidth": 0,
              "ticks": ""
             }
            },
            "type": "scatter3d"
           }
          ],
          "scattercarpet": [
           {
            "marker": {
             "colorbar": {
              "outlinewidth": 0,
              "ticks": ""
             }
            },
            "type": "scattercarpet"
           }
          ],
          "scattergeo": [
           {
            "marker": {
             "colorbar": {
              "outlinewidth": 0,
              "ticks": ""
             }
            },
            "type": "scattergeo"
           }
          ],
          "scattergl": [
           {
            "marker": {
             "colorbar": {
              "outlinewidth": 0,
              "ticks": ""
             }
            },
            "type": "scattergl"
           }
          ],
          "scattermap": [
           {
            "marker": {
             "colorbar": {
              "outlinewidth": 0,
              "ticks": ""
             }
            },
            "type": "scattermap"
           }
          ],
          "scattermapbox": [
           {
            "marker": {
             "colorbar": {
              "outlinewidth": 0,
              "ticks": ""
             }
            },
            "type": "scattermapbox"
           }
          ],
          "scatterpolar": [
           {
            "marker": {
             "colorbar": {
              "outlinewidth": 0,
              "ticks": ""
             }
            },
            "type": "scatterpolar"
           }
          ],
          "scatterpolargl": [
           {
            "marker": {
             "colorbar": {
              "outlinewidth": 0,
              "ticks": ""
             }
            },
            "type": "scatterpolargl"
           }
          ],
          "scatterternary": [
           {
            "marker": {
             "colorbar": {
              "outlinewidth": 0,
              "ticks": ""
             }
            },
            "type": "scatterternary"
           }
          ],
          "surface": [
           {
            "colorbar": {
             "outlinewidth": 0,
             "ticks": ""
            },
            "colorscale": [
             [
              0,
              "#0d0887"
             ],
             [
              0.1111111111111111,
              "#46039f"
             ],
             [
              0.2222222222222222,
              "#7201a8"
             ],
             [
              0.3333333333333333,
              "#9c179e"
             ],
             [
              0.4444444444444444,
              "#bd3786"
             ],
             [
              0.5555555555555556,
              "#d8576b"
             ],
             [
              0.6666666666666666,
              "#ed7953"
             ],
             [
              0.7777777777777778,
              "#fb9f3a"
             ],
             [
              0.8888888888888888,
              "#fdca26"
             ],
             [
              1,
              "#f0f921"
             ]
            ],
            "type": "surface"
           }
          ],
          "table": [
           {
            "cells": {
             "fill": {
              "color": "#EBF0F8"
             },
             "line": {
              "color": "white"
             }
            },
            "header": {
             "fill": {
              "color": "#C8D4E3"
             },
             "line": {
              "color": "white"
             }
            },
            "type": "table"
           }
          ]
         },
         "layout": {
          "annotationdefaults": {
           "arrowcolor": "#2a3f5f",
           "arrowhead": 0,
           "arrowwidth": 1
          },
          "autotypenumbers": "strict",
          "coloraxis": {
           "colorbar": {
            "outlinewidth": 0,
            "ticks": ""
           }
          },
          "colorscale": {
           "diverging": [
            [
             0,
             "#8e0152"
            ],
            [
             0.1,
             "#c51b7d"
            ],
            [
             0.2,
             "#de77ae"
            ],
            [
             0.3,
             "#f1b6da"
            ],
            [
             0.4,
             "#fde0ef"
            ],
            [
             0.5,
             "#f7f7f7"
            ],
            [
             0.6,
             "#e6f5d0"
            ],
            [
             0.7,
             "#b8e186"
            ],
            [
             0.8,
             "#7fbc41"
            ],
            [
             0.9,
             "#4d9221"
            ],
            [
             1,
             "#276419"
            ]
           ],
           "sequential": [
            [
             0,
             "#0d0887"
            ],
            [
             0.1111111111111111,
             "#46039f"
            ],
            [
             0.2222222222222222,
             "#7201a8"
            ],
            [
             0.3333333333333333,
             "#9c179e"
            ],
            [
             0.4444444444444444,
             "#bd3786"
            ],
            [
             0.5555555555555556,
             "#d8576b"
            ],
            [
             0.6666666666666666,
             "#ed7953"
            ],
            [
             0.7777777777777778,
             "#fb9f3a"
            ],
            [
             0.8888888888888888,
             "#fdca26"
            ],
            [
             1,
             "#f0f921"
            ]
           ],
           "sequentialminus": [
            [
             0,
             "#0d0887"
            ],
            [
             0.1111111111111111,
             "#46039f"
            ],
            [
             0.2222222222222222,
             "#7201a8"
            ],
            [
             0.3333333333333333,
             "#9c179e"
            ],
            [
             0.4444444444444444,
             "#bd3786"
            ],
            [
             0.5555555555555556,
             "#d8576b"
            ],
            [
             0.6666666666666666,
             "#ed7953"
            ],
            [
             0.7777777777777778,
             "#fb9f3a"
            ],
            [
             0.8888888888888888,
             "#fdca26"
            ],
            [
             1,
             "#f0f921"
            ]
           ]
          },
          "colorway": [
           "#636efa",
           "#EF553B",
           "#00cc96",
           "#ab63fa",
           "#FFA15A",
           "#19d3f3",
           "#FF6692",
           "#B6E880",
           "#FF97FF",
           "#FECB52"
          ],
          "font": {
           "color": "#2a3f5f"
          },
          "geo": {
           "bgcolor": "white",
           "lakecolor": "white",
           "landcolor": "white",
           "showlakes": true,
           "showland": true,
           "subunitcolor": "#C8D4E3"
          },
          "hoverlabel": {
           "align": "left"
          },
          "hovermode": "closest",
          "mapbox": {
           "style": "light"
          },
          "paper_bgcolor": "white",
          "plot_bgcolor": "white",
          "polar": {
           "angularaxis": {
            "gridcolor": "#EBF0F8",
            "linecolor": "#EBF0F8",
            "ticks": ""
           },
           "bgcolor": "white",
           "radialaxis": {
            "gridcolor": "#EBF0F8",
            "linecolor": "#EBF0F8",
            "ticks": ""
           }
          },
          "scene": {
           "xaxis": {
            "backgroundcolor": "white",
            "gridcolor": "#DFE8F3",
            "gridwidth": 2,
            "linecolor": "#EBF0F8",
            "showbackground": true,
            "ticks": "",
            "zerolinecolor": "#EBF0F8"
           },
           "yaxis": {
            "backgroundcolor": "white",
            "gridcolor": "#DFE8F3",
            "gridwidth": 2,
            "linecolor": "#EBF0F8",
            "showbackground": true,
            "ticks": "",
            "zerolinecolor": "#EBF0F8"
           },
           "zaxis": {
            "backgroundcolor": "white",
            "gridcolor": "#DFE8F3",
            "gridwidth": 2,
            "linecolor": "#EBF0F8",
            "showbackground": true,
            "ticks": "",
            "zerolinecolor": "#EBF0F8"
           }
          },
          "shapedefaults": {
           "line": {
            "color": "#2a3f5f"
           }
          },
          "ternary": {
           "aaxis": {
            "gridcolor": "#DFE8F3",
            "linecolor": "#A2B1C6",
            "ticks": ""
           },
           "baxis": {
            "gridcolor": "#DFE8F3",
            "linecolor": "#A2B1C6",
            "ticks": ""
           },
           "bgcolor": "white",
           "caxis": {
            "gridcolor": "#DFE8F3",
            "linecolor": "#A2B1C6",
            "ticks": ""
           }
          },
          "title": {
           "x": 0.05
          },
          "xaxis": {
           "automargin": true,
           "gridcolor": "#EBF0F8",
           "linecolor": "#EBF0F8",
           "ticks": "",
           "title": {
            "standoff": 15
           },
           "zerolinecolor": "#EBF0F8",
           "zerolinewidth": 2
          },
          "yaxis": {
           "automargin": true,
           "gridcolor": "#EBF0F8",
           "linecolor": "#EBF0F8",
           "ticks": "",
           "title": {
            "standoff": 15
           },
           "zerolinecolor": "#EBF0F8",
           "zerolinewidth": 2
          }
         }
        },
        "title": {
         "text": "Comportamiento EDA"
        },
        "xaxis": {
         "title": {
          "text": "Fecha"
         }
        },
        "yaxis": {
         "title": {
          "text": "MWh"
         }
        }
       }
      }
     },
     "metadata": {},
     "output_type": "display_data"
    }
   ],
   "source": [
    "# Categoría: EDA\n",
    "produccion_vars = [\"EDANoComp\", \"EDA\", \"VCMSEDA\"]                                     # Variables que se usarán en la gráfica\n",
    "plot_time_series(df_filtrado_grouped, \"Fecha\", produccion_vars, \"Comportamiento EDA\") # Llamado a la función creada para graficar"
   ]
  },
  {
   "cell_type": "markdown",
   "metadata": {},
   "source": [
    "Comportamiento Ventas"
   ]
  },
  {
   "cell_type": "code",
   "execution_count": 8,
   "metadata": {},
   "outputs": [
    {
     "data": {
      "application/vnd.plotly.v1+json": {
       "config": {
        "plotlyServerURL": "https://plot.ly"
       },
       "data": [
        {
         "mode": "lines",
         "name": "VCMSENFICC",
         "type": "scatter",
         "x": [
          "2025-07-01T00:00:00.000000000",
          "2025-07-02T00:00:00.000000000",
          "2025-07-03T00:00:00.000000000",
          "2025-07-04T00:00:00.000000000",
          "2025-07-05T00:00:00.000000000",
          "2025-07-06T00:00:00.000000000",
          "2025-07-07T00:00:00.000000000",
          "2025-07-08T00:00:00.000000000",
          "2025-07-09T00:00:00.000000000",
          "2025-07-10T00:00:00.000000000",
          "2025-07-11T00:00:00.000000000",
          "2025-07-12T00:00:00.000000000",
          "2025-07-13T00:00:00.000000000",
          "2025-07-14T00:00:00.000000000",
          "2025-07-15T00:00:00.000000000",
          "2025-07-16T00:00:00.000000000",
          "2025-07-17T00:00:00.000000000",
          "2025-07-18T00:00:00.000000000",
          "2025-07-19T00:00:00.000000000",
          "2025-07-20T00:00:00.000000000",
          "2025-07-21T00:00:00.000000000",
          "2025-07-22T00:00:00.000000000",
          "2025-07-23T00:00:00.000000000",
          "2025-07-24T00:00:00.000000000",
          "2025-07-25T00:00:00.000000000",
          "2025-07-26T00:00:00.000000000",
          "2025-07-27T00:00:00.000000000",
          "2025-07-28T00:00:00.000000000",
          "2025-07-29T00:00:00.000000000",
          "2025-07-30T00:00:00.000000000",
          "2025-07-31T00:00:00.000000000",
          "2025-08-01T00:00:00.000000000",
          "2025-08-02T00:00:00.000000000",
          "2025-08-03T00:00:00.000000000",
          "2025-08-04T00:00:00.000000000",
          "2025-08-05T00:00:00.000000000",
          "2025-08-06T00:00:00.000000000",
          "2025-08-07T00:00:00.000000000",
          "2025-08-08T00:00:00.000000000",
          "2025-08-09T00:00:00.000000000",
          "2025-08-10T00:00:00.000000000",
          "2025-08-11T00:00:00.000000000",
          "2025-08-12T00:00:00.000000000",
          "2025-08-13T00:00:00.000000000",
          "2025-08-14T00:00:00.000000000",
          "2025-08-15T00:00:00.000000000",
          "2025-08-16T00:00:00.000000000",
          "2025-08-17T00:00:00.000000000",
          "2025-08-18T00:00:00.000000000",
          "2025-08-19T00:00:00.000000000",
          "2025-08-20T00:00:00.000000000",
          "2025-08-21T00:00:00.000000000",
          "2025-08-22T00:00:00.000000000",
          "2025-08-23T00:00:00.000000000",
          "2025-08-24T00:00:00.000000000",
          "2025-08-25T00:00:00.000000000",
          "2025-08-26T00:00:00.000000000",
          "2025-08-27T00:00:00.000000000",
          "2025-08-28T00:00:00.000000000",
          "2025-08-29T00:00:00.000000000",
          "2025-08-30T00:00:00.000000000",
          "2025-08-31T00:00:00.000000000",
          "2025-09-01T00:00:00.000000000",
          "2025-09-02T00:00:00.000000000",
          "2025-09-03T00:00:00.000000000",
          "2025-09-04T00:00:00.000000000",
          "2025-09-05T00:00:00.000000000",
          "2025-09-06T00:00:00.000000000",
          "2025-09-07T00:00:00.000000000",
          "2025-09-08T00:00:00.000000000",
          "2025-09-09T00:00:00.000000000",
          "2025-09-10T00:00:00.000000000",
          "2025-09-11T00:00:00.000000000",
          "2025-09-12T00:00:00.000000000",
          "2025-09-13T00:00:00.000000000",
          "2025-09-14T00:00:00.000000000",
          "2025-09-15T00:00:00.000000000",
          "2025-09-16T00:00:00.000000000",
          "2025-09-17T00:00:00.000000000",
          "2025-09-18T00:00:00.000000000",
          "2025-09-19T00:00:00.000000000",
          "2025-09-20T00:00:00.000000000",
          "2025-09-21T00:00:00.000000000",
          "2025-09-22T00:00:00.000000000",
          "2025-09-23T00:00:00.000000000",
          "2025-09-24T00:00:00.000000000",
          "2025-09-25T00:00:00.000000000",
          "2025-09-26T00:00:00.000000000",
          "2025-09-27T00:00:00.000000000",
          "2025-09-28T00:00:00.000000000",
          "2025-09-29T00:00:00.000000000",
          "2025-09-30T00:00:00.000000000",
          "2025-10-01T00:00:00.000000000",
          "2025-10-02T00:00:00.000000000",
          "2025-10-03T00:00:00.000000000",
          "2025-10-04T00:00:00.000000000",
          "2025-10-05T00:00:00.000000000",
          "2025-10-06T00:00:00.000000000",
          "2025-10-07T00:00:00.000000000",
          "2025-10-08T00:00:00.000000000",
          "2025-10-09T00:00:00.000000000",
          "2025-10-10T00:00:00.000000000",
          "2025-10-11T00:00:00.000000000",
          "2025-10-12T00:00:00.000000000",
          "2025-10-13T00:00:00.000000000",
          "2025-10-14T00:00:00.000000000",
          "2025-10-15T00:00:00.000000000",
          "2025-10-16T00:00:00.000000000",
          "2025-10-17T00:00:00.000000000",
          "2025-10-18T00:00:00.000000000",
          "2025-10-19T00:00:00.000000000",
          "2025-10-20T00:00:00.000000000",
          "2025-10-21T00:00:00.000000000",
          "2025-10-22T00:00:00.000000000",
          "2025-10-23T00:00:00.000000000",
          "2025-10-24T00:00:00.000000000",
          "2025-10-25T00:00:00.000000000",
          "2025-10-26T00:00:00.000000000",
          "2025-10-27T00:00:00.000000000",
          "2025-10-28T00:00:00.000000000",
          "2025-10-29T00:00:00.000000000",
          "2025-10-30T00:00:00.000000000",
          "2025-10-31T00:00:00.000000000",
          "2025-11-01T00:00:00.000000000",
          "2025-11-02T00:00:00.000000000",
          "2025-11-03T00:00:00.000000000",
          "2025-11-04T00:00:00.000000000",
          "2025-11-05T00:00:00.000000000",
          "2025-11-06T00:00:00.000000000",
          "2025-11-07T00:00:00.000000000",
          "2025-11-08T00:00:00.000000000",
          "2025-11-09T00:00:00.000000000",
          "2025-11-10T00:00:00.000000000",
          "2025-11-11T00:00:00.000000000",
          "2025-11-12T00:00:00.000000000",
          "2025-11-13T00:00:00.000000000",
          "2025-11-14T00:00:00.000000000",
          "2025-11-15T00:00:00.000000000",
          "2025-11-16T00:00:00.000000000",
          "2025-11-17T00:00:00.000000000",
          "2025-11-18T00:00:00.000000000",
          "2025-11-19T00:00:00.000000000",
          "2025-11-20T00:00:00.000000000",
          "2025-11-21T00:00:00.000000000",
          "2025-11-22T00:00:00.000000000",
          "2025-11-23T00:00:00.000000000",
          "2025-11-24T00:00:00.000000000",
          "2025-11-25T00:00:00.000000000",
          "2025-11-26T00:00:00.000000000",
          "2025-11-27T00:00:00.000000000",
          "2025-11-28T00:00:00.000000000",
          "2025-11-29T00:00:00.000000000",
          "2025-11-30T00:00:00.000000000",
          "2025-12-01T00:00:00.000000000",
          "2025-12-02T00:00:00.000000000",
          "2025-12-03T00:00:00.000000000",
          "2025-12-04T00:00:00.000000000",
          "2025-12-05T00:00:00.000000000",
          "2025-12-06T00:00:00.000000000",
          "2025-12-07T00:00:00.000000000",
          "2025-12-08T00:00:00.000000000",
          "2025-12-09T00:00:00.000000000",
          "2025-12-10T00:00:00.000000000",
          "2025-12-11T00:00:00.000000000",
          "2025-12-12T00:00:00.000000000",
          "2025-12-13T00:00:00.000000000",
          "2025-12-14T00:00:00.000000000",
          "2025-12-15T00:00:00.000000000",
          "2025-12-16T00:00:00.000000000",
          "2025-12-17T00:00:00.000000000",
          "2025-12-18T00:00:00.000000000",
          "2025-12-19T00:00:00.000000000",
          "2025-12-20T00:00:00.000000000",
          "2025-12-21T00:00:00.000000000",
          "2025-12-22T00:00:00.000000000",
          "2025-12-23T00:00:00.000000000",
          "2025-12-24T00:00:00.000000000",
          "2025-12-25T00:00:00.000000000",
          "2025-12-26T00:00:00.000000000",
          "2025-12-27T00:00:00.000000000",
          "2025-12-28T00:00:00.000000000",
          "2025-12-29T00:00:00.000000000",
          "2025-12-30T00:00:00.000000000",
          "2025-12-31T00:00:00.000000000",
          "2026-01-01T00:00:00.000000000",
          "2026-01-02T00:00:00.000000000",
          "2026-01-03T00:00:00.000000000",
          "2026-01-04T00:00:00.000000000",
          "2026-01-05T00:00:00.000000000",
          "2026-01-06T00:00:00.000000000",
          "2026-01-07T00:00:00.000000000",
          "2026-01-08T00:00:00.000000000",
          "2026-01-09T00:00:00.000000000",
          "2026-01-10T00:00:00.000000000",
          "2026-01-11T00:00:00.000000000",
          "2026-01-12T00:00:00.000000000",
          "2026-01-13T00:00:00.000000000",
          "2026-01-14T00:00:00.000000000",
          "2026-01-15T00:00:00.000000000",
          "2026-01-16T00:00:00.000000000",
          "2026-01-17T00:00:00.000000000",
          "2026-01-18T00:00:00.000000000",
          "2026-01-19T00:00:00.000000000",
          "2026-01-20T00:00:00.000000000",
          "2026-01-21T00:00:00.000000000",
          "2026-01-22T00:00:00.000000000",
          "2026-01-23T00:00:00.000000000",
          "2026-01-24T00:00:00.000000000",
          "2026-01-25T00:00:00.000000000",
          "2026-01-26T00:00:00.000000000",
          "2026-01-27T00:00:00.000000000",
          "2026-01-28T00:00:00.000000000",
          "2026-01-29T00:00:00.000000000",
          "2026-01-30T00:00:00.000000000",
          "2026-01-31T00:00:00.000000000"
         ],
         "y": {
          "bdata": "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",
          "dtype": "f8"
         }
        },
        {
         "mode": "lines",
         "name": "VCMSEDA",
         "type": "scatter",
         "x": [
          "2025-07-01T00:00:00.000000000",
          "2025-07-02T00:00:00.000000000",
          "2025-07-03T00:00:00.000000000",
          "2025-07-04T00:00:00.000000000",
          "2025-07-05T00:00:00.000000000",
          "2025-07-06T00:00:00.000000000",
          "2025-07-07T00:00:00.000000000",
          "2025-07-08T00:00:00.000000000",
          "2025-07-09T00:00:00.000000000",
          "2025-07-10T00:00:00.000000000",
          "2025-07-11T00:00:00.000000000",
          "2025-07-12T00:00:00.000000000",
          "2025-07-13T00:00:00.000000000",
          "2025-07-14T00:00:00.000000000",
          "2025-07-15T00:00:00.000000000",
          "2025-07-16T00:00:00.000000000",
          "2025-07-17T00:00:00.000000000",
          "2025-07-18T00:00:00.000000000",
          "2025-07-19T00:00:00.000000000",
          "2025-07-20T00:00:00.000000000",
          "2025-07-21T00:00:00.000000000",
          "2025-07-22T00:00:00.000000000",
          "2025-07-23T00:00:00.000000000",
          "2025-07-24T00:00:00.000000000",
          "2025-07-25T00:00:00.000000000",
          "2025-07-26T00:00:00.000000000",
          "2025-07-27T00:00:00.000000000",
          "2025-07-28T00:00:00.000000000",
          "2025-07-29T00:00:00.000000000",
          "2025-07-30T00:00:00.000000000",
          "2025-07-31T00:00:00.000000000",
          "2025-08-01T00:00:00.000000000",
          "2025-08-02T00:00:00.000000000",
          "2025-08-03T00:00:00.000000000",
          "2025-08-04T00:00:00.000000000",
          "2025-08-05T00:00:00.000000000",
          "2025-08-06T00:00:00.000000000",
          "2025-08-07T00:00:00.000000000",
          "2025-08-08T00:00:00.000000000",
          "2025-08-09T00:00:00.000000000",
          "2025-08-10T00:00:00.000000000",
          "2025-08-11T00:00:00.000000000",
          "2025-08-12T00:00:00.000000000",
          "2025-08-13T00:00:00.000000000",
          "2025-08-14T00:00:00.000000000",
          "2025-08-15T00:00:00.000000000",
          "2025-08-16T00:00:00.000000000",
          "2025-08-17T00:00:00.000000000",
          "2025-08-18T00:00:00.000000000",
          "2025-08-19T00:00:00.000000000",
          "2025-08-20T00:00:00.000000000",
          "2025-08-21T00:00:00.000000000",
          "2025-08-22T00:00:00.000000000",
          "2025-08-23T00:00:00.000000000",
          "2025-08-24T00:00:00.000000000",
          "2025-08-25T00:00:00.000000000",
          "2025-08-26T00:00:00.000000000",
          "2025-08-27T00:00:00.000000000",
          "2025-08-28T00:00:00.000000000",
          "2025-08-29T00:00:00.000000000",
          "2025-08-30T00:00:00.000000000",
          "2025-08-31T00:00:00.000000000",
          "2025-09-01T00:00:00.000000000",
          "2025-09-02T00:00:00.000000000",
          "2025-09-03T00:00:00.000000000",
          "2025-09-04T00:00:00.000000000",
          "2025-09-05T00:00:00.000000000",
          "2025-09-06T00:00:00.000000000",
          "2025-09-07T00:00:00.000000000",
          "2025-09-08T00:00:00.000000000",
          "2025-09-09T00:00:00.000000000",
          "2025-09-10T00:00:00.000000000",
          "2025-09-11T00:00:00.000000000",
          "2025-09-12T00:00:00.000000000",
          "2025-09-13T00:00:00.000000000",
          "2025-09-14T00:00:00.000000000",
          "2025-09-15T00:00:00.000000000",
          "2025-09-16T00:00:00.000000000",
          "2025-09-17T00:00:00.000000000",
          "2025-09-18T00:00:00.000000000",
          "2025-09-19T00:00:00.000000000",
          "2025-09-20T00:00:00.000000000",
          "2025-09-21T00:00:00.000000000",
          "2025-09-22T00:00:00.000000000",
          "2025-09-23T00:00:00.000000000",
          "2025-09-24T00:00:00.000000000",
          "2025-09-25T00:00:00.000000000",
          "2025-09-26T00:00:00.000000000",
          "2025-09-27T00:00:00.000000000",
          "2025-09-28T00:00:00.000000000",
          "2025-09-29T00:00:00.000000000",
          "2025-09-30T00:00:00.000000000",
          "2025-10-01T00:00:00.000000000",
          "2025-10-02T00:00:00.000000000",
          "2025-10-03T00:00:00.000000000",
          "2025-10-04T00:00:00.000000000",
          "2025-10-05T00:00:00.000000000",
          "2025-10-06T00:00:00.000000000",
          "2025-10-07T00:00:00.000000000",
          "2025-10-08T00:00:00.000000000",
          "2025-10-09T00:00:00.000000000",
          "2025-10-10T00:00:00.000000000",
          "2025-10-11T00:00:00.000000000",
          "2025-10-12T00:00:00.000000000",
          "2025-10-13T00:00:00.000000000",
          "2025-10-14T00:00:00.000000000",
          "2025-10-15T00:00:00.000000000",
          "2025-10-16T00:00:00.000000000",
          "2025-10-17T00:00:00.000000000",
          "2025-10-18T00:00:00.000000000",
          "2025-10-19T00:00:00.000000000",
          "2025-10-20T00:00:00.000000000",
          "2025-10-21T00:00:00.000000000",
          "2025-10-22T00:00:00.000000000",
          "2025-10-23T00:00:00.000000000",
          "2025-10-24T00:00:00.000000000",
          "2025-10-25T00:00:00.000000000",
          "2025-10-26T00:00:00.000000000",
          "2025-10-27T00:00:00.000000000",
          "2025-10-28T00:00:00.000000000",
          "2025-10-29T00:00:00.000000000",
          "2025-10-30T00:00:00.000000000",
          "2025-10-31T00:00:00.000000000",
          "2025-11-01T00:00:00.000000000",
          "2025-11-02T00:00:00.000000000",
          "2025-11-03T00:00:00.000000000",
          "2025-11-04T00:00:00.000000000",
          "2025-11-05T00:00:00.000000000",
          "2025-11-06T00:00:00.000000000",
          "2025-11-07T00:00:00.000000000",
          "2025-11-08T00:00:00.000000000",
          "2025-11-09T00:00:00.000000000",
          "2025-11-10T00:00:00.000000000",
          "2025-11-11T00:00:00.000000000",
          "2025-11-12T00:00:00.000000000",
          "2025-11-13T00:00:00.000000000",
          "2025-11-14T00:00:00.000000000",
          "2025-11-15T00:00:00.000000000",
          "2025-11-16T00:00:00.000000000",
          "2025-11-17T00:00:00.000000000",
          "2025-11-18T00:00:00.000000000",
          "2025-11-19T00:00:00.000000000",
          "2025-11-20T00:00:00.000000000",
          "2025-11-21T00:00:00.000000000",
          "2025-11-22T00:00:00.000000000",
          "2025-11-23T00:00:00.000000000",
          "2025-11-24T00:00:00.000000000",
          "2025-11-25T00:00:00.000000000",
          "2025-11-26T00:00:00.000000000",
          "2025-11-27T00:00:00.000000000",
          "2025-11-28T00:00:00.000000000",
          "2025-11-29T00:00:00.000000000",
          "2025-11-30T00:00:00.000000000",
          "2025-12-01T00:00:00.000000000",
          "2025-12-02T00:00:00.000000000",
          "2025-12-03T00:00:00.000000000",
          "2025-12-04T00:00:00.000000000",
          "2025-12-05T00:00:00.000000000",
          "2025-12-06T00:00:00.000000000",
          "2025-12-07T00:00:00.000000000",
          "2025-12-08T00:00:00.000000000",
          "2025-12-09T00:00:00.000000000",
          "2025-12-10T00:00:00.000000000",
          "2025-12-11T00:00:00.000000000",
          "2025-12-12T00:00:00.000000000",
          "2025-12-13T00:00:00.000000000",
          "2025-12-14T00:00:00.000000000",
          "2025-12-15T00:00:00.000000000",
          "2025-12-16T00:00:00.000000000",
          "2025-12-17T00:00:00.000000000",
          "2025-12-18T00:00:00.000000000",
          "2025-12-19T00:00:00.000000000",
          "2025-12-20T00:00:00.000000000",
          "2025-12-21T00:00:00.000000000",
          "2025-12-22T00:00:00.000000000",
          "2025-12-23T00:00:00.000000000",
          "2025-12-24T00:00:00.000000000",
          "2025-12-25T00:00:00.000000000",
          "2025-12-26T00:00:00.000000000",
          "2025-12-27T00:00:00.000000000",
          "2025-12-28T00:00:00.000000000",
          "2025-12-29T00:00:00.000000000",
          "2025-12-30T00:00:00.000000000",
          "2025-12-31T00:00:00.000000000",
          "2026-01-01T00:00:00.000000000",
          "2026-01-02T00:00:00.000000000",
          "2026-01-03T00:00:00.000000000",
          "2026-01-04T00:00:00.000000000",
          "2026-01-05T00:00:00.000000000",
          "2026-01-06T00:00:00.000000000",
          "2026-01-07T00:00:00.000000000",
          "2026-01-08T00:00:00.000000000",
          "2026-01-09T00:00:00.000000000",
          "2026-01-10T00:00:00.000000000",
          "2026-01-11T00:00:00.000000000",
          "2026-01-12T00:00:00.000000000",
          "2026-01-13T00:00:00.000000000",
          "2026-01-14T00:00:00.000000000",
          "2026-01-15T00:00:00.000000000",
          "2026-01-16T00:00:00.000000000",
          "2026-01-17T00:00:00.000000000",
          "2026-01-18T00:00:00.000000000",
          "2026-01-19T00:00:00.000000000",
          "2026-01-20T00:00:00.000000000",
          "2026-01-21T00:00:00.000000000",
          "2026-01-22T00:00:00.000000000",
          "2026-01-23T00:00:00.000000000",
          "2026-01-24T00:00:00.000000000",
          "2026-01-25T00:00:00.000000000",
          "2026-01-26T00:00:00.000000000",
          "2026-01-27T00:00:00.000000000",
          "2026-01-28T00:00:00.000000000",
          "2026-01-29T00:00:00.000000000",
          "2026-01-30T00:00:00.000000000",
          "2026-01-31T00:00:00.000000000"
         ],
         "y": {
          "bdata": "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",
          "dtype": "f8"
         }
        },
        {
         "mode": "lines",
         "name": "VCMSTotales",
         "type": "scatter",
         "x": [
          "2025-07-01T00:00:00.000000000",
          "2025-07-02T00:00:00.000000000",
          "2025-07-03T00:00:00.000000000",
          "2025-07-04T00:00:00.000000000",
          "2025-07-05T00:00:00.000000000",
          "2025-07-06T00:00:00.000000000",
          "2025-07-07T00:00:00.000000000",
          "2025-07-08T00:00:00.000000000",
          "2025-07-09T00:00:00.000000000",
          "2025-07-10T00:00:00.000000000",
          "2025-07-11T00:00:00.000000000",
          "2025-07-12T00:00:00.000000000",
          "2025-07-13T00:00:00.000000000",
          "2025-07-14T00:00:00.000000000",
          "2025-07-15T00:00:00.000000000",
          "2025-07-16T00:00:00.000000000",
          "2025-07-17T00:00:00.000000000",
          "2025-07-18T00:00:00.000000000",
          "2025-07-19T00:00:00.000000000",
          "2025-07-20T00:00:00.000000000",
          "2025-07-21T00:00:00.000000000",
          "2025-07-22T00:00:00.000000000",
          "2025-07-23T00:00:00.000000000",
          "2025-07-24T00:00:00.000000000",
          "2025-07-25T00:00:00.000000000",
          "2025-07-26T00:00:00.000000000",
          "2025-07-27T00:00:00.000000000",
          "2025-07-28T00:00:00.000000000",
          "2025-07-29T00:00:00.000000000",
          "2025-07-30T00:00:00.000000000",
          "2025-07-31T00:00:00.000000000",
          "2025-08-01T00:00:00.000000000",
          "2025-08-02T00:00:00.000000000",
          "2025-08-03T00:00:00.000000000",
          "2025-08-04T00:00:00.000000000",
          "2025-08-05T00:00:00.000000000",
          "2025-08-06T00:00:00.000000000",
          "2025-08-07T00:00:00.000000000",
          "2025-08-08T00:00:00.000000000",
          "2025-08-09T00:00:00.000000000",
          "2025-08-10T00:00:00.000000000",
          "2025-08-11T00:00:00.000000000",
          "2025-08-12T00:00:00.000000000",
          "2025-08-13T00:00:00.000000000",
          "2025-08-14T00:00:00.000000000",
          "2025-08-15T00:00:00.000000000",
          "2025-08-16T00:00:00.000000000",
          "2025-08-17T00:00:00.000000000",
          "2025-08-18T00:00:00.000000000",
          "2025-08-19T00:00:00.000000000",
          "2025-08-20T00:00:00.000000000",
          "2025-08-21T00:00:00.000000000",
          "2025-08-22T00:00:00.000000000",
          "2025-08-23T00:00:00.000000000",
          "2025-08-24T00:00:00.000000000",
          "2025-08-25T00:00:00.000000000",
          "2025-08-26T00:00:00.000000000",
          "2025-08-27T00:00:00.000000000",
          "2025-08-28T00:00:00.000000000",
          "2025-08-29T00:00:00.000000000",
          "2025-08-30T00:00:00.000000000",
          "2025-08-31T00:00:00.000000000",
          "2025-09-01T00:00:00.000000000",
          "2025-09-02T00:00:00.000000000",
          "2025-09-03T00:00:00.000000000",
          "2025-09-04T00:00:00.000000000",
          "2025-09-05T00:00:00.000000000",
          "2025-09-06T00:00:00.000000000",
          "2025-09-07T00:00:00.000000000",
          "2025-09-08T00:00:00.000000000",
          "2025-09-09T00:00:00.000000000",
          "2025-09-10T00:00:00.000000000",
          "2025-09-11T00:00:00.000000000",
          "2025-09-12T00:00:00.000000000",
          "2025-09-13T00:00:00.000000000",
          "2025-09-14T00:00:00.000000000",
          "2025-09-15T00:00:00.000000000",
          "2025-09-16T00:00:00.000000000",
          "2025-09-17T00:00:00.000000000",
          "2025-09-18T00:00:00.000000000",
          "2025-09-19T00:00:00.000000000",
          "2025-09-20T00:00:00.000000000",
          "2025-09-21T00:00:00.000000000",
          "2025-09-22T00:00:00.000000000",
          "2025-09-23T00:00:00.000000000",
          "2025-09-24T00:00:00.000000000",
          "2025-09-25T00:00:00.000000000",
          "2025-09-26T00:00:00.000000000",
          "2025-09-27T00:00:00.000000000",
          "2025-09-28T00:00:00.000000000",
          "2025-09-29T00:00:00.000000000",
          "2025-09-30T00:00:00.000000000",
          "2025-10-01T00:00:00.000000000",
          "2025-10-02T00:00:00.000000000",
          "2025-10-03T00:00:00.000000000",
          "2025-10-04T00:00:00.000000000",
          "2025-10-05T00:00:00.000000000",
          "2025-10-06T00:00:00.000000000",
          "2025-10-07T00:00:00.000000000",
          "2025-10-08T00:00:00.000000000",
          "2025-10-09T00:00:00.000000000",
          "2025-10-10T00:00:00.000000000",
          "2025-10-11T00:00:00.000000000",
          "2025-10-12T00:00:00.000000000",
          "2025-10-13T00:00:00.000000000",
          "2025-10-14T00:00:00.000000000",
          "2025-10-15T00:00:00.000000000",
          "2025-10-16T00:00:00.000000000",
          "2025-10-17T00:00:00.000000000",
          "2025-10-18T00:00:00.000000000",
          "2025-10-19T00:00:00.000000000",
          "2025-10-20T00:00:00.000000000",
          "2025-10-21T00:00:00.000000000",
          "2025-10-22T00:00:00.000000000",
          "2025-10-23T00:00:00.000000000",
          "2025-10-24T00:00:00.000000000",
          "2025-10-25T00:00:00.000000000",
          "2025-10-26T00:00:00.000000000",
          "2025-10-27T00:00:00.000000000",
          "2025-10-28T00:00:00.000000000",
          "2025-10-29T00:00:00.000000000",
          "2025-10-30T00:00:00.000000000",
          "2025-10-31T00:00:00.000000000",
          "2025-11-01T00:00:00.000000000",
          "2025-11-02T00:00:00.000000000",
          "2025-11-03T00:00:00.000000000",
          "2025-11-04T00:00:00.000000000",
          "2025-11-05T00:00:00.000000000",
          "2025-11-06T00:00:00.000000000",
          "2025-11-07T00:00:00.000000000",
          "2025-11-08T00:00:00.000000000",
          "2025-11-09T00:00:00.000000000",
          "2025-11-10T00:00:00.000000000",
          "2025-11-11T00:00:00.000000000",
          "2025-11-12T00:00:00.000000000",
          "2025-11-13T00:00:00.000000000",
          "2025-11-14T00:00:00.000000000",
          "2025-11-15T00:00:00.000000000",
          "2025-11-16T00:00:00.000000000",
          "2025-11-17T00:00:00.000000000",
          "2025-11-18T00:00:00.000000000",
          "2025-11-19T00:00:00.000000000",
          "2025-11-20T00:00:00.000000000",
          "2025-11-21T00:00:00.000000000",
          "2025-11-22T00:00:00.000000000",
          "2025-11-23T00:00:00.000000000",
          "2025-11-24T00:00:00.000000000",
          "2025-11-25T00:00:00.000000000",
          "2025-11-26T00:00:00.000000000",
          "2025-11-27T00:00:00.000000000",
          "2025-11-28T00:00:00.000000000",
          "2025-11-29T00:00:00.000000000",
          "2025-11-30T00:00:00.000000000",
          "2025-12-01T00:00:00.000000000",
          "2025-12-02T00:00:00.000000000",
          "2025-12-03T00:00:00.000000000",
          "2025-12-04T00:00:00.000000000",
          "2025-12-05T00:00:00.000000000",
          "2025-12-06T00:00:00.000000000",
          "2025-12-07T00:00:00.000000000",
          "2025-12-08T00:00:00.000000000",
          "2025-12-09T00:00:00.000000000",
          "2025-12-10T00:00:00.000000000",
          "2025-12-11T00:00:00.000000000",
          "2025-12-12T00:00:00.000000000",
          "2025-12-13T00:00:00.000000000",
          "2025-12-14T00:00:00.000000000",
          "2025-12-15T00:00:00.000000000",
          "2025-12-16T00:00:00.000000000",
          "2025-12-17T00:00:00.000000000",
          "2025-12-18T00:00:00.000000000",
          "2025-12-19T00:00:00.000000000",
          "2025-12-20T00:00:00.000000000",
          "2025-12-21T00:00:00.000000000",
          "2025-12-22T00:00:00.000000000",
          "2025-12-23T00:00:00.000000000",
          "2025-12-24T00:00:00.000000000",
          "2025-12-25T00:00:00.000000000",
          "2025-12-26T00:00:00.000000000",
          "2025-12-27T00:00:00.000000000",
          "2025-12-28T00:00:00.000000000",
          "2025-12-29T00:00:00.000000000",
          "2025-12-30T00:00:00.000000000",
          "2025-12-31T00:00:00.000000000",
          "2026-01-01T00:00:00.000000000",
          "2026-01-02T00:00:00.000000000",
          "2026-01-03T00:00:00.000000000",
          "2026-01-04T00:00:00.000000000",
          "2026-01-05T00:00:00.000000000",
          "2026-01-06T00:00:00.000000000",
          "2026-01-07T00:00:00.000000000",
          "2026-01-08T00:00:00.000000000",
          "2026-01-09T00:00:00.000000000",
          "2026-01-10T00:00:00.000000000",
          "2026-01-11T00:00:00.000000000",
          "2026-01-12T00:00:00.000000000",
          "2026-01-13T00:00:00.000000000",
          "2026-01-14T00:00:00.000000000",
          "2026-01-15T00:00:00.000000000",
          "2026-01-16T00:00:00.000000000",
          "2026-01-17T00:00:00.000000000",
          "2026-01-18T00:00:00.000000000",
          "2026-01-19T00:00:00.000000000",
          "2026-01-20T00:00:00.000000000",
          "2026-01-21T00:00:00.000000000",
          "2026-01-22T00:00:00.000000000",
          "2026-01-23T00:00:00.000000000",
          "2026-01-24T00:00:00.000000000",
          "2026-01-25T00:00:00.000000000",
          "2026-01-26T00:00:00.000000000",
          "2026-01-27T00:00:00.000000000",
          "2026-01-28T00:00:00.000000000",
          "2026-01-29T00:00:00.000000000",
          "2026-01-30T00:00:00.000000000",
          "2026-01-31T00:00:00.000000000"
         ],
         "y": {
          "bdata": "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",
          "dtype": "f8"
         }
        }
       ],
       "layout": {
        "template": {
         "data": {
          "bar": [
           {
            "error_x": {
             "color": "#2a3f5f"
            },
            "error_y": {
             "color": "#2a3f5f"
            },
            "marker": {
             "line": {
              "color": "white",
              "width": 0.5
             },
             "pattern": {
              "fillmode": "overlay",
              "size": 10,
              "solidity": 0.2
             }
            },
            "type": "bar"
           }
          ],
          "barpolar": [
           {
            "marker": {
             "line": {
              "color": "white",
              "width": 0.5
             },
             "pattern": {
              "fillmode": "overlay",
              "size": 10,
              "solidity": 0.2
             }
            },
            "type": "barpolar"
           }
          ],
          "carpet": [
           {
            "aaxis": {
             "endlinecolor": "#2a3f5f",
             "gridcolor": "#C8D4E3",
             "linecolor": "#C8D4E3",
             "minorgridcolor": "#C8D4E3",
             "startlinecolor": "#2a3f5f"
            },
            "baxis": {
             "endlinecolor": "#2a3f5f",
             "gridcolor": "#C8D4E3",
             "linecolor": "#C8D4E3",
             "minorgridcolor": "#C8D4E3",
             "startlinecolor": "#2a3f5f"
            },
            "type": "carpet"
           }
          ],
          "choropleth": [
           {
            "colorbar": {
             "outlinewidth": 0,
             "ticks": ""
            },
            "type": "choropleth"
           }
          ],
          "contour": [
           {
            "colorbar": {
             "outlinewidth": 0,
             "ticks": ""
            },
            "colorscale": [
             [
              0,
              "#0d0887"
             ],
             [
              0.1111111111111111,
              "#46039f"
             ],
             [
              0.2222222222222222,
              "#7201a8"
             ],
             [
              0.3333333333333333,
              "#9c179e"
             ],
             [
              0.4444444444444444,
              "#bd3786"
             ],
             [
              0.5555555555555556,
              "#d8576b"
             ],
             [
              0.6666666666666666,
              "#ed7953"
             ],
             [
              0.7777777777777778,
              "#fb9f3a"
             ],
             [
              0.8888888888888888,
              "#fdca26"
             ],
             [
              1,
              "#f0f921"
             ]
            ],
            "type": "contour"
           }
          ],
          "contourcarpet": [
           {
            "colorbar": {
             "outlinewidth": 0,
             "ticks": ""
            },
            "type": "contourcarpet"
           }
          ],
          "heatmap": [
           {
            "colorbar": {
             "outlinewidth": 0,
             "ticks": ""
            },
            "colorscale": [
             [
              0,
              "#0d0887"
             ],
             [
              0.1111111111111111,
              "#46039f"
             ],
             [
              0.2222222222222222,
              "#7201a8"
             ],
             [
              0.3333333333333333,
              "#9c179e"
             ],
             [
              0.4444444444444444,
              "#bd3786"
             ],
             [
              0.5555555555555556,
              "#d8576b"
             ],
             [
              0.6666666666666666,
              "#ed7953"
             ],
             [
              0.7777777777777778,
              "#fb9f3a"
             ],
             [
              0.8888888888888888,
              "#fdca26"
             ],
             [
              1,
              "#f0f921"
             ]
            ],
            "type": "heatmap"
           }
          ],
          "histogram": [
           {
            "marker": {
             "pattern": {
              "fillmode": "overlay",
              "size": 10,
              "solidity": 0.2
             }
            },
            "type": "histogram"
           }
          ],
          "histogram2d": [
           {
            "colorbar": {
             "outlinewidth": 0,
             "ticks": ""
            },
            "colorscale": [
             [
              0,
              "#0d0887"
             ],
             [
              0.1111111111111111,
              "#46039f"
             ],
             [
              0.2222222222222222,
              "#7201a8"
             ],
             [
              0.3333333333333333,
              "#9c179e"
             ],
             [
              0.4444444444444444,
              "#bd3786"
             ],
             [
              0.5555555555555556,
              "#d8576b"
             ],
             [
              0.6666666666666666,
              "#ed7953"
             ],
             [
              0.7777777777777778,
              "#fb9f3a"
             ],
             [
              0.8888888888888888,
              "#fdca26"
             ],
             [
              1,
              "#f0f921"
             ]
            ],
            "type": "histogram2d"
           }
          ],
          "histogram2dcontour": [
           {
            "colorbar": {
             "outlinewidth": 0,
             "ticks": ""
            },
            "colorscale": [
             [
              0,
              "#0d0887"
             ],
             [
              0.1111111111111111,
              "#46039f"
             ],
             [
              0.2222222222222222,
              "#7201a8"
             ],
             [
              0.3333333333333333,
              "#9c179e"
             ],
             [
              0.4444444444444444,
              "#bd3786"
             ],
             [
              0.5555555555555556,
              "#d8576b"
             ],
             [
              0.6666666666666666,
              "#ed7953"
             ],
             [
              0.7777777777777778,
              "#fb9f3a"
             ],
             [
              0.8888888888888888,
              "#fdca26"
             ],
             [
              1,
              "#f0f921"
             ]
            ],
            "type": "histogram2dcontour"
           }
          ],
          "mesh3d": [
           {
            "colorbar": {
             "outlinewidth": 0,
             "ticks": ""
            },
            "type": "mesh3d"
           }
          ],
          "parcoords": [
           {
            "line": {
             "colorbar": {
              "outlinewidth": 0,
              "ticks": ""
             }
            },
            "type": "parcoords"
           }
          ],
          "pie": [
           {
            "automargin": true,
            "type": "pie"
           }
          ],
          "scatter": [
           {
            "fillpattern": {
             "fillmode": "overlay",
             "size": 10,
             "solidity": 0.2
            },
            "type": "scatter"
           }
          ],
          "scatter3d": [
           {
            "line": {
             "colorbar": {
              "outlinewidth": 0,
              "ticks": ""
             }
            },
            "marker": {
             "colorbar": {
              "outlinewidth": 0,
              "ticks": ""
             }
            },
            "type": "scatter3d"
           }
          ],
          "scattercarpet": [
           {
            "marker": {
             "colorbar": {
              "outlinewidth": 0,
              "ticks": ""
             }
            },
            "type": "scattercarpet"
           }
          ],
          "scattergeo": [
           {
            "marker": {
             "colorbar": {
              "outlinewidth": 0,
              "ticks": ""
             }
            },
            "type": "scattergeo"
           }
          ],
          "scattergl": [
           {
            "marker": {
             "colorbar": {
              "outlinewidth": 0,
              "ticks": ""
             }
            },
            "type": "scattergl"
           }
          ],
          "scattermap": [
           {
            "marker": {
             "colorbar": {
              "outlinewidth": 0,
              "ticks": ""
             }
            },
            "type": "scattermap"
           }
          ],
          "scattermapbox": [
           {
            "marker": {
             "colorbar": {
              "outlinewidth": 0,
              "ticks": ""
             }
            },
            "type": "scattermapbox"
           }
          ],
          "scatterpolar": [
           {
            "marker": {
             "colorbar": {
              "outlinewidth": 0,
              "ticks": ""
             }
            },
            "type": "scatterpolar"
           }
          ],
          "scatterpolargl": [
           {
            "marker": {
             "colorbar": {
              "outlinewidth": 0,
              "ticks": ""
             }
            },
            "type": "scatterpolargl"
           }
          ],
          "scatterternary": [
           {
            "marker": {
             "colorbar": {
              "outlinewidth": 0,
              "ticks": ""
             }
            },
            "type": "scatterternary"
           }
          ],
          "surface": [
           {
            "colorbar": {
             "outlinewidth": 0,
             "ticks": ""
            },
            "colorscale": [
             [
              0,
              "#0d0887"
             ],
             [
              0.1111111111111111,
              "#46039f"
             ],
             [
              0.2222222222222222,
              "#7201a8"
             ],
             [
              0.3333333333333333,
              "#9c179e"
             ],
             [
              0.4444444444444444,
              "#bd3786"
             ],
             [
              0.5555555555555556,
              "#d8576b"
             ],
             [
              0.6666666666666666,
              "#ed7953"
             ],
             [
              0.7777777777777778,
              "#fb9f3a"
             ],
             [
              0.8888888888888888,
              "#fdca26"
             ],
             [
              1,
              "#f0f921"
             ]
            ],
            "type": "surface"
           }
          ],
          "table": [
           {
            "cells": {
             "fill": {
              "color": "#EBF0F8"
             },
             "line": {
              "color": "white"
             }
            },
            "header": {
             "fill": {
              "color": "#C8D4E3"
             },
             "line": {
              "color": "white"
             }
            },
            "type": "table"
           }
          ]
         },
         "layout": {
          "annotationdefaults": {
           "arrowcolor": "#2a3f5f",
           "arrowhead": 0,
           "arrowwidth": 1
          },
          "autotypenumbers": "strict",
          "coloraxis": {
           "colorbar": {
            "outlinewidth": 0,
            "ticks": ""
           }
          },
          "colorscale": {
           "diverging": [
            [
             0,
             "#8e0152"
            ],
            [
             0.1,
             "#c51b7d"
            ],
            [
             0.2,
             "#de77ae"
            ],
            [
             0.3,
             "#f1b6da"
            ],
            [
             0.4,
             "#fde0ef"
            ],
            [
             0.5,
             "#f7f7f7"
            ],
            [
             0.6,
             "#e6f5d0"
            ],
            [
             0.7,
             "#b8e186"
            ],
            [
             0.8,
             "#7fbc41"
            ],
            [
             0.9,
             "#4d9221"
            ],
            [
             1,
             "#276419"
            ]
           ],
           "sequential": [
            [
             0,
             "#0d0887"
            ],
            [
             0.1111111111111111,
             "#46039f"
            ],
            [
             0.2222222222222222,
             "#7201a8"
            ],
            [
             0.3333333333333333,
             "#9c179e"
            ],
            [
             0.4444444444444444,
             "#bd3786"
            ],
            [
             0.5555555555555556,
             "#d8576b"
            ],
            [
             0.6666666666666666,
             "#ed7953"
            ],
            [
             0.7777777777777778,
             "#fb9f3a"
            ],
            [
             0.8888888888888888,
             "#fdca26"
            ],
            [
             1,
             "#f0f921"
            ]
           ],
           "sequentialminus": [
            [
             0,
             "#0d0887"
            ],
            [
             0.1111111111111111,
             "#46039f"
            ],
            [
             0.2222222222222222,
             "#7201a8"
            ],
            [
             0.3333333333333333,
             "#9c179e"
            ],
            [
             0.4444444444444444,
             "#bd3786"
            ],
            [
             0.5555555555555556,
             "#d8576b"
            ],
            [
             0.6666666666666666,
             "#ed7953"
            ],
            [
             0.7777777777777778,
             "#fb9f3a"
            ],
            [
             0.8888888888888888,
             "#fdca26"
            ],
            [
             1,
             "#f0f921"
            ]
           ]
          },
          "colorway": [
           "#636efa",
           "#EF553B",
           "#00cc96",
           "#ab63fa",
           "#FFA15A",
           "#19d3f3",
           "#FF6692",
           "#B6E880",
           "#FF97FF",
           "#FECB52"
          ],
          "font": {
           "color": "#2a3f5f"
          },
          "geo": {
           "bgcolor": "white",
           "lakecolor": "white",
           "landcolor": "white",
           "showlakes": true,
           "showland": true,
           "subunitcolor": "#C8D4E3"
          },
          "hoverlabel": {
           "align": "left"
          },
          "hovermode": "closest",
          "mapbox": {
           "style": "light"
          },
          "paper_bgcolor": "white",
          "plot_bgcolor": "white",
          "polar": {
           "angularaxis": {
            "gridcolor": "#EBF0F8",
            "linecolor": "#EBF0F8",
            "ticks": ""
           },
           "bgcolor": "white",
           "radialaxis": {
            "gridcolor": "#EBF0F8",
            "linecolor": "#EBF0F8",
            "ticks": ""
           }
          },
          "scene": {
           "xaxis": {
            "backgroundcolor": "white",
            "gridcolor": "#DFE8F3",
            "gridwidth": 2,
            "linecolor": "#EBF0F8",
            "showbackground": true,
            "ticks": "",
            "zerolinecolor": "#EBF0F8"
           },
           "yaxis": {
            "backgroundcolor": "white",
            "gridcolor": "#DFE8F3",
            "gridwidth": 2,
            "linecolor": "#EBF0F8",
            "showbackground": true,
            "ticks": "",
            "zerolinecolor": "#EBF0F8"
           },
           "zaxis": {
            "backgroundcolor": "white",
            "gridcolor": "#DFE8F3",
            "gridwidth": 2,
            "linecolor": "#EBF0F8",
            "showbackground": true,
            "ticks": "",
            "zerolinecolor": "#EBF0F8"
           }
          },
          "shapedefaults": {
           "line": {
            "color": "#2a3f5f"
           }
          },
          "ternary": {
           "aaxis": {
            "gridcolor": "#DFE8F3",
            "linecolor": "#A2B1C6",
            "ticks": ""
           },
           "baxis": {
            "gridcolor": "#DFE8F3",
            "linecolor": "#A2B1C6",
            "ticks": ""
           },
           "bgcolor": "white",
           "caxis": {
            "gridcolor": "#DFE8F3",
            "linecolor": "#A2B1C6",
            "ticks": ""
           }
          },
          "title": {
           "x": 0.05
          },
          "xaxis": {
           "automargin": true,
           "gridcolor": "#EBF0F8",
           "linecolor": "#EBF0F8",
           "ticks": "",
           "title": {
            "standoff": 15
           },
           "zerolinecolor": "#EBF0F8",
           "zerolinewidth": 2
          },
          "yaxis": {
           "automargin": true,
           "gridcolor": "#EBF0F8",
           "linecolor": "#EBF0F8",
           "ticks": "",
           "title": {
            "standoff": 15
           },
           "zerolinecolor": "#EBF0F8",
           "zerolinewidth": 2
          }
         }
        },
        "title": {
         "text": "Comportamiento ventas"
        },
        "xaxis": {
         "title": {
          "text": "Fecha"
         }
        },
        "yaxis": {
         "title": {
          "text": "MWh"
         }
        }
       }
      }
     },
     "metadata": {},
     "output_type": "display_data"
    }
   ],
   "source": [
    "# Categoría: Ventas\n",
    "ventas_vars = [\"VCMSENFICC\", \"VCMSEDA\", \"VCMSTotales\"]                                 # Variables que se usarán en la gráfica\n",
    "plot_time_series(df_filtrado_grouped, \"Fecha\", ventas_vars, \"Comportamiento ventas\")   # Llamado a la función creada para graficar"
   ]
  },
  {
   "cell_type": "markdown",
   "metadata": {},
   "source": [
    "Comportamiento ENFICC"
   ]
  },
  {
   "cell_type": "code",
   "execution_count": 9,
   "metadata": {},
   "outputs": [
    {
     "data": {
      "application/vnd.plotly.v1+json": {
       "config": {
        "plotlyServerURL": "https://plot.ly"
       },
       "data": [
        {
         "mode": "lines",
         "name": "ENFICCVerificada",
         "type": "scatter",
         "x": [
          "2025-07-01T00:00:00.000000000",
          "2025-07-02T00:00:00.000000000",
          "2025-07-03T00:00:00.000000000",
          "2025-07-04T00:00:00.000000000",
          "2025-07-05T00:00:00.000000000",
          "2025-07-06T00:00:00.000000000",
          "2025-07-07T00:00:00.000000000",
          "2025-07-08T00:00:00.000000000",
          "2025-07-09T00:00:00.000000000",
          "2025-07-10T00:00:00.000000000",
          "2025-07-11T00:00:00.000000000",
          "2025-07-12T00:00:00.000000000",
          "2025-07-13T00:00:00.000000000",
          "2025-07-14T00:00:00.000000000",
          "2025-07-15T00:00:00.000000000",
          "2025-07-16T00:00:00.000000000",
          "2025-07-17T00:00:00.000000000",
          "2025-07-18T00:00:00.000000000",
          "2025-07-19T00:00:00.000000000",
          "2025-07-20T00:00:00.000000000",
          "2025-07-21T00:00:00.000000000",
          "2025-07-22T00:00:00.000000000",
          "2025-07-23T00:00:00.000000000",
          "2025-07-24T00:00:00.000000000",
          "2025-07-25T00:00:00.000000000",
          "2025-07-26T00:00:00.000000000",
          "2025-07-27T00:00:00.000000000",
          "2025-07-28T00:00:00.000000000",
          "2025-07-29T00:00:00.000000000",
          "2025-07-30T00:00:00.000000000",
          "2025-07-31T00:00:00.000000000",
          "2025-08-01T00:00:00.000000000",
          "2025-08-02T00:00:00.000000000",
          "2025-08-03T00:00:00.000000000",
          "2025-08-04T00:00:00.000000000",
          "2025-08-05T00:00:00.000000000",
          "2025-08-06T00:00:00.000000000",
          "2025-08-07T00:00:00.000000000",
          "2025-08-08T00:00:00.000000000",
          "2025-08-09T00:00:00.000000000",
          "2025-08-10T00:00:00.000000000",
          "2025-08-11T00:00:00.000000000",
          "2025-08-12T00:00:00.000000000",
          "2025-08-13T00:00:00.000000000",
          "2025-08-14T00:00:00.000000000",
          "2025-08-15T00:00:00.000000000",
          "2025-08-16T00:00:00.000000000",
          "2025-08-17T00:00:00.000000000",
          "2025-08-18T00:00:00.000000000",
          "2025-08-19T00:00:00.000000000",
          "2025-08-20T00:00:00.000000000",
          "2025-08-21T00:00:00.000000000",
          "2025-08-22T00:00:00.000000000",
          "2025-08-23T00:00:00.000000000",
          "2025-08-24T00:00:00.000000000",
          "2025-08-25T00:00:00.000000000",
          "2025-08-26T00:00:00.000000000",
          "2025-08-27T00:00:00.000000000",
          "2025-08-28T00:00:00.000000000",
          "2025-08-29T00:00:00.000000000",
          "2025-08-30T00:00:00.000000000",
          "2025-08-31T00:00:00.000000000",
          "2025-09-01T00:00:00.000000000",
          "2025-09-02T00:00:00.000000000",
          "2025-09-03T00:00:00.000000000",
          "2025-09-04T00:00:00.000000000",
          "2025-09-05T00:00:00.000000000",
          "2025-09-06T00:00:00.000000000",
          "2025-09-07T00:00:00.000000000",
          "2025-09-08T00:00:00.000000000",
          "2025-09-09T00:00:00.000000000",
          "2025-09-10T00:00:00.000000000",
          "2025-09-11T00:00:00.000000000",
          "2025-09-12T00:00:00.000000000",
          "2025-09-13T00:00:00.000000000",
          "2025-09-14T00:00:00.000000000",
          "2025-09-15T00:00:00.000000000",
          "2025-09-16T00:00:00.000000000",
          "2025-09-17T00:00:00.000000000",
          "2025-09-18T00:00:00.000000000",
          "2025-09-19T00:00:00.000000000",
          "2025-09-20T00:00:00.000000000",
          "2025-09-21T00:00:00.000000000",
          "2025-09-22T00:00:00.000000000",
          "2025-09-23T00:00:00.000000000",
          "2025-09-24T00:00:00.000000000",
          "2025-09-25T00:00:00.000000000",
          "2025-09-26T00:00:00.000000000",
          "2025-09-27T00:00:00.000000000",
          "2025-09-28T00:00:00.000000000",
          "2025-09-29T00:00:00.000000000",
          "2025-09-30T00:00:00.000000000",
          "2025-10-01T00:00:00.000000000",
          "2025-10-02T00:00:00.000000000",
          "2025-10-03T00:00:00.000000000",
          "2025-10-04T00:00:00.000000000",
          "2025-10-05T00:00:00.000000000",
          "2025-10-06T00:00:00.000000000",
          "2025-10-07T00:00:00.000000000",
          "2025-10-08T00:00:00.000000000",
          "2025-10-09T00:00:00.000000000",
          "2025-10-10T00:00:00.000000000",
          "2025-10-11T00:00:00.000000000",
          "2025-10-12T00:00:00.000000000",
          "2025-10-13T00:00:00.000000000",
          "2025-10-14T00:00:00.000000000",
          "2025-10-15T00:00:00.000000000",
          "2025-10-16T00:00:00.000000000",
          "2025-10-17T00:00:00.000000000",
          "2025-10-18T00:00:00.000000000",
          "2025-10-19T00:00:00.000000000",
          "2025-10-20T00:00:00.000000000",
          "2025-10-21T00:00:00.000000000",
          "2025-10-22T00:00:00.000000000",
          "2025-10-23T00:00:00.000000000",
          "2025-10-24T00:00:00.000000000",
          "2025-10-25T00:00:00.000000000",
          "2025-10-26T00:00:00.000000000",
          "2025-10-27T00:00:00.000000000",
          "2025-10-28T00:00:00.000000000",
          "2025-10-29T00:00:00.000000000",
          "2025-10-30T00:00:00.000000000",
          "2025-10-31T00:00:00.000000000",
          "2025-11-01T00:00:00.000000000",
          "2025-11-02T00:00:00.000000000",
          "2025-11-03T00:00:00.000000000",
          "2025-11-04T00:00:00.000000000",
          "2025-11-05T00:00:00.000000000",
          "2025-11-06T00:00:00.000000000",
          "2025-11-07T00:00:00.000000000",
          "2025-11-08T00:00:00.000000000",
          "2025-11-09T00:00:00.000000000",
          "2025-11-10T00:00:00.000000000",
          "2025-11-11T00:00:00.000000000",
          "2025-11-12T00:00:00.000000000",
          "2025-11-13T00:00:00.000000000",
          "2025-11-14T00:00:00.000000000",
          "2025-11-15T00:00:00.000000000",
          "2025-11-16T00:00:00.000000000",
          "2025-11-17T00:00:00.000000000",
          "2025-11-18T00:00:00.000000000",
          "2025-11-19T00:00:00.000000000",
          "2025-11-20T00:00:00.000000000",
          "2025-11-21T00:00:00.000000000",
          "2025-11-22T00:00:00.000000000",
          "2025-11-23T00:00:00.000000000",
          "2025-11-24T00:00:00.000000000",
          "2025-11-25T00:00:00.000000000",
          "2025-11-26T00:00:00.000000000",
          "2025-11-27T00:00:00.000000000",
          "2025-11-28T00:00:00.000000000",
          "2025-11-29T00:00:00.000000000",
          "2025-11-30T00:00:00.000000000",
          "2025-12-01T00:00:00.000000000",
          "2025-12-02T00:00:00.000000000",
          "2025-12-03T00:00:00.000000000",
          "2025-12-04T00:00:00.000000000",
          "2025-12-05T00:00:00.000000000",
          "2025-12-06T00:00:00.000000000",
          "2025-12-07T00:00:00.000000000",
          "2025-12-08T00:00:00.000000000",
          "2025-12-09T00:00:00.000000000",
          "2025-12-10T00:00:00.000000000",
          "2025-12-11T00:00:00.000000000",
          "2025-12-12T00:00:00.000000000",
          "2025-12-13T00:00:00.000000000",
          "2025-12-14T00:00:00.000000000",
          "2025-12-15T00:00:00.000000000",
          "2025-12-16T00:00:00.000000000",
          "2025-12-17T00:00:00.000000000",
          "2025-12-18T00:00:00.000000000",
          "2025-12-19T00:00:00.000000000",
          "2025-12-20T00:00:00.000000000",
          "2025-12-21T00:00:00.000000000",
          "2025-12-22T00:00:00.000000000",
          "2025-12-23T00:00:00.000000000",
          "2025-12-24T00:00:00.000000000",
          "2025-12-25T00:00:00.000000000",
          "2025-12-26T00:00:00.000000000",
          "2025-12-27T00:00:00.000000000",
          "2025-12-28T00:00:00.000000000",
          "2025-12-29T00:00:00.000000000",
          "2025-12-30T00:00:00.000000000",
          "2025-12-31T00:00:00.000000000",
          "2026-01-01T00:00:00.000000000",
          "2026-01-02T00:00:00.000000000",
          "2026-01-03T00:00:00.000000000",
          "2026-01-04T00:00:00.000000000",
          "2026-01-05T00:00:00.000000000",
          "2026-01-06T00:00:00.000000000",
          "2026-01-07T00:00:00.000000000",
          "2026-01-08T00:00:00.000000000",
          "2026-01-09T00:00:00.000000000",
          "2026-01-10T00:00:00.000000000",
          "2026-01-11T00:00:00.000000000",
          "2026-01-12T00:00:00.000000000",
          "2026-01-13T00:00:00.000000000",
          "2026-01-14T00:00:00.000000000",
          "2026-01-15T00:00:00.000000000",
          "2026-01-16T00:00:00.000000000",
          "2026-01-17T00:00:00.000000000",
          "2026-01-18T00:00:00.000000000",
          "2026-01-19T00:00:00.000000000",
          "2026-01-20T00:00:00.000000000",
          "2026-01-21T00:00:00.000000000",
          "2026-01-22T00:00:00.000000000",
          "2026-01-23T00:00:00.000000000",
          "2026-01-24T00:00:00.000000000",
          "2026-01-25T00:00:00.000000000",
          "2026-01-26T00:00:00.000000000",
          "2026-01-27T00:00:00.000000000",
          "2026-01-28T00:00:00.000000000",
          "2026-01-29T00:00:00.000000000",
          "2026-01-30T00:00:00.000000000",
          "2026-01-31T00:00:00.000000000"
         ],
         "y": {
          "bdata": "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",
          "dtype": "f8"
         }
        },
        {
         "mode": "lines",
         "name": "ENFICCNoComp",
         "type": "scatter",
         "x": [
          "2025-07-01T00:00:00.000000000",
          "2025-07-02T00:00:00.000000000",
          "2025-07-03T00:00:00.000000000",
          "2025-07-04T00:00:00.000000000",
          "2025-07-05T00:00:00.000000000",
          "2025-07-06T00:00:00.000000000",
          "2025-07-07T00:00:00.000000000",
          "2025-07-08T00:00:00.000000000",
          "2025-07-09T00:00:00.000000000",
          "2025-07-10T00:00:00.000000000",
          "2025-07-11T00:00:00.000000000",
          "2025-07-12T00:00:00.000000000",
          "2025-07-13T00:00:00.000000000",
          "2025-07-14T00:00:00.000000000",
          "2025-07-15T00:00:00.000000000",
          "2025-07-16T00:00:00.000000000",
          "2025-07-17T00:00:00.000000000",
          "2025-07-18T00:00:00.000000000",
          "2025-07-19T00:00:00.000000000",
          "2025-07-20T00:00:00.000000000",
          "2025-07-21T00:00:00.000000000",
          "2025-07-22T00:00:00.000000000",
          "2025-07-23T00:00:00.000000000",
          "2025-07-24T00:00:00.000000000",
          "2025-07-25T00:00:00.000000000",
          "2025-07-26T00:00:00.000000000",
          "2025-07-27T00:00:00.000000000",
          "2025-07-28T00:00:00.000000000",
          "2025-07-29T00:00:00.000000000",
          "2025-07-30T00:00:00.000000000",
          "2025-07-31T00:00:00.000000000",
          "2025-08-01T00:00:00.000000000",
          "2025-08-02T00:00:00.000000000",
          "2025-08-03T00:00:00.000000000",
          "2025-08-04T00:00:00.000000000",
          "2025-08-05T00:00:00.000000000",
          "2025-08-06T00:00:00.000000000",
          "2025-08-07T00:00:00.000000000",
          "2025-08-08T00:00:00.000000000",
          "2025-08-09T00:00:00.000000000",
          "2025-08-10T00:00:00.000000000",
          "2025-08-11T00:00:00.000000000",
          "2025-08-12T00:00:00.000000000",
          "2025-08-13T00:00:00.000000000",
          "2025-08-14T00:00:00.000000000",
          "2025-08-15T00:00:00.000000000",
          "2025-08-16T00:00:00.000000000",
          "2025-08-17T00:00:00.000000000",
          "2025-08-18T00:00:00.000000000",
          "2025-08-19T00:00:00.000000000",
          "2025-08-20T00:00:00.000000000",
          "2025-08-21T00:00:00.000000000",
          "2025-08-22T00:00:00.000000000",
          "2025-08-23T00:00:00.000000000",
          "2025-08-24T00:00:00.000000000",
          "2025-08-25T00:00:00.000000000",
          "2025-08-26T00:00:00.000000000",
          "2025-08-27T00:00:00.000000000",
          "2025-08-28T00:00:00.000000000",
          "2025-08-29T00:00:00.000000000",
          "2025-08-30T00:00:00.000000000",
          "2025-08-31T00:00:00.000000000",
          "2025-09-01T00:00:00.000000000",
          "2025-09-02T00:00:00.000000000",
          "2025-09-03T00:00:00.000000000",
          "2025-09-04T00:00:00.000000000",
          "2025-09-05T00:00:00.000000000",
          "2025-09-06T00:00:00.000000000",
          "2025-09-07T00:00:00.000000000",
          "2025-09-08T00:00:00.000000000",
          "2025-09-09T00:00:00.000000000",
          "2025-09-10T00:00:00.000000000",
          "2025-09-11T00:00:00.000000000",
          "2025-09-12T00:00:00.000000000",
          "2025-09-13T00:00:00.000000000",
          "2025-09-14T00:00:00.000000000",
          "2025-09-15T00:00:00.000000000",
          "2025-09-16T00:00:00.000000000",
          "2025-09-17T00:00:00.000000000",
          "2025-09-18T00:00:00.000000000",
          "2025-09-19T00:00:00.000000000",
          "2025-09-20T00:00:00.000000000",
          "2025-09-21T00:00:00.000000000",
          "2025-09-22T00:00:00.000000000",
          "2025-09-23T00:00:00.000000000",
          "2025-09-24T00:00:00.000000000",
          "2025-09-25T00:00:00.000000000",
          "2025-09-26T00:00:00.000000000",
          "2025-09-27T00:00:00.000000000",
          "2025-09-28T00:00:00.000000000",
          "2025-09-29T00:00:00.000000000",
          "2025-09-30T00:00:00.000000000",
          "2025-10-01T00:00:00.000000000",
          "2025-10-02T00:00:00.000000000",
          "2025-10-03T00:00:00.000000000",
          "2025-10-04T00:00:00.000000000",
          "2025-10-05T00:00:00.000000000",
          "2025-10-06T00:00:00.000000000",
          "2025-10-07T00:00:00.000000000",
          "2025-10-08T00:00:00.000000000",
          "2025-10-09T00:00:00.000000000",
          "2025-10-10T00:00:00.000000000",
          "2025-10-11T00:00:00.000000000",
          "2025-10-12T00:00:00.000000000",
          "2025-10-13T00:00:00.000000000",
          "2025-10-14T00:00:00.000000000",
          "2025-10-15T00:00:00.000000000",
          "2025-10-16T00:00:00.000000000",
          "2025-10-17T00:00:00.000000000",
          "2025-10-18T00:00:00.000000000",
          "2025-10-19T00:00:00.000000000",
          "2025-10-20T00:00:00.000000000",
          "2025-10-21T00:00:00.000000000",
          "2025-10-22T00:00:00.000000000",
          "2025-10-23T00:00:00.000000000",
          "2025-10-24T00:00:00.000000000",
          "2025-10-25T00:00:00.000000000",
          "2025-10-26T00:00:00.000000000",
          "2025-10-27T00:00:00.000000000",
          "2025-10-28T00:00:00.000000000",
          "2025-10-29T00:00:00.000000000",
          "2025-10-30T00:00:00.000000000",
          "2025-10-31T00:00:00.000000000",
          "2025-11-01T00:00:00.000000000",
          "2025-11-02T00:00:00.000000000",
          "2025-11-03T00:00:00.000000000",
          "2025-11-04T00:00:00.000000000",
          "2025-11-05T00:00:00.000000000",
          "2025-11-06T00:00:00.000000000",
          "2025-11-07T00:00:00.000000000",
          "2025-11-08T00:00:00.000000000",
          "2025-11-09T00:00:00.000000000",
          "2025-11-10T00:00:00.000000000",
          "2025-11-11T00:00:00.000000000",
          "2025-11-12T00:00:00.000000000",
          "2025-11-13T00:00:00.000000000",
          "2025-11-14T00:00:00.000000000",
          "2025-11-15T00:00:00.000000000",
          "2025-11-16T00:00:00.000000000",
          "2025-11-17T00:00:00.000000000",
          "2025-11-18T00:00:00.000000000",
          "2025-11-19T00:00:00.000000000",
          "2025-11-20T00:00:00.000000000",
          "2025-11-21T00:00:00.000000000",
          "2025-11-22T00:00:00.000000000",
          "2025-11-23T00:00:00.000000000",
          "2025-11-24T00:00:00.000000000",
          "2025-11-25T00:00:00.000000000",
          "2025-11-26T00:00:00.000000000",
          "2025-11-27T00:00:00.000000000",
          "2025-11-28T00:00:00.000000000",
          "2025-11-29T00:00:00.000000000",
          "2025-11-30T00:00:00.000000000",
          "2025-12-01T00:00:00.000000000",
          "2025-12-02T00:00:00.000000000",
          "2025-12-03T00:00:00.000000000",
          "2025-12-04T00:00:00.000000000",
          "2025-12-05T00:00:00.000000000",
          "2025-12-06T00:00:00.000000000",
          "2025-12-07T00:00:00.000000000",
          "2025-12-08T00:00:00.000000000",
          "2025-12-09T00:00:00.000000000",
          "2025-12-10T00:00:00.000000000",
          "2025-12-11T00:00:00.000000000",
          "2025-12-12T00:00:00.000000000",
          "2025-12-13T00:00:00.000000000",
          "2025-12-14T00:00:00.000000000",
          "2025-12-15T00:00:00.000000000",
          "2025-12-16T00:00:00.000000000",
          "2025-12-17T00:00:00.000000000",
          "2025-12-18T00:00:00.000000000",
          "2025-12-19T00:00:00.000000000",
          "2025-12-20T00:00:00.000000000",
          "2025-12-21T00:00:00.000000000",
          "2025-12-22T00:00:00.000000000",
          "2025-12-23T00:00:00.000000000",
          "2025-12-24T00:00:00.000000000",
          "2025-12-25T00:00:00.000000000",
          "2025-12-26T00:00:00.000000000",
          "2025-12-27T00:00:00.000000000",
          "2025-12-28T00:00:00.000000000",
          "2025-12-29T00:00:00.000000000",
          "2025-12-30T00:00:00.000000000",
          "2025-12-31T00:00:00.000000000",
          "2026-01-01T00:00:00.000000000",
          "2026-01-02T00:00:00.000000000",
          "2026-01-03T00:00:00.000000000",
          "2026-01-04T00:00:00.000000000",
          "2026-01-05T00:00:00.000000000",
          "2026-01-06T00:00:00.000000000",
          "2026-01-07T00:00:00.000000000",
          "2026-01-08T00:00:00.000000000",
          "2026-01-09T00:00:00.000000000",
          "2026-01-10T00:00:00.000000000",
          "2026-01-11T00:00:00.000000000",
          "2026-01-12T00:00:00.000000000",
          "2026-01-13T00:00:00.000000000",
          "2026-01-14T00:00:00.000000000",
          "2026-01-15T00:00:00.000000000",
          "2026-01-16T00:00:00.000000000",
          "2026-01-17T00:00:00.000000000",
          "2026-01-18T00:00:00.000000000",
          "2026-01-19T00:00:00.000000000",
          "2026-01-20T00:00:00.000000000",
          "2026-01-21T00:00:00.000000000",
          "2026-01-22T00:00:00.000000000",
          "2026-01-23T00:00:00.000000000",
          "2026-01-24T00:00:00.000000000",
          "2026-01-25T00:00:00.000000000",
          "2026-01-26T00:00:00.000000000",
          "2026-01-27T00:00:00.000000000",
          "2026-01-28T00:00:00.000000000",
          "2026-01-29T00:00:00.000000000",
          "2026-01-30T00:00:00.000000000",
          "2026-01-31T00:00:00.000000000"
         ],
         "y": {
          "bdata": "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",
          "dtype": "f8"
         }
        },
        {
         "mode": "lines",
         "name": "VCMSENFICC",
         "type": "scatter",
         "x": [
          "2025-07-01T00:00:00.000000000",
          "2025-07-02T00:00:00.000000000",
          "2025-07-03T00:00:00.000000000",
          "2025-07-04T00:00:00.000000000",
          "2025-07-05T00:00:00.000000000",
          "2025-07-06T00:00:00.000000000",
          "2025-07-07T00:00:00.000000000",
          "2025-07-08T00:00:00.000000000",
          "2025-07-09T00:00:00.000000000",
          "2025-07-10T00:00:00.000000000",
          "2025-07-11T00:00:00.000000000",
          "2025-07-12T00:00:00.000000000",
          "2025-07-13T00:00:00.000000000",
          "2025-07-14T00:00:00.000000000",
          "2025-07-15T00:00:00.000000000",
          "2025-07-16T00:00:00.000000000",
          "2025-07-17T00:00:00.000000000",
          "2025-07-18T00:00:00.000000000",
          "2025-07-19T00:00:00.000000000",
          "2025-07-20T00:00:00.000000000",
          "2025-07-21T00:00:00.000000000",
          "2025-07-22T00:00:00.000000000",
          "2025-07-23T00:00:00.000000000",
          "2025-07-24T00:00:00.000000000",
          "2025-07-25T00:00:00.000000000",
          "2025-07-26T00:00:00.000000000",
          "2025-07-27T00:00:00.000000000",
          "2025-07-28T00:00:00.000000000",
          "2025-07-29T00:00:00.000000000",
          "2025-07-30T00:00:00.000000000",
          "2025-07-31T00:00:00.000000000",
          "2025-08-01T00:00:00.000000000",
          "2025-08-02T00:00:00.000000000",
          "2025-08-03T00:00:00.000000000",
          "2025-08-04T00:00:00.000000000",
          "2025-08-05T00:00:00.000000000",
          "2025-08-06T00:00:00.000000000",
          "2025-08-07T00:00:00.000000000",
          "2025-08-08T00:00:00.000000000",
          "2025-08-09T00:00:00.000000000",
          "2025-08-10T00:00:00.000000000",
          "2025-08-11T00:00:00.000000000",
          "2025-08-12T00:00:00.000000000",
          "2025-08-13T00:00:00.000000000",
          "2025-08-14T00:00:00.000000000",
          "2025-08-15T00:00:00.000000000",
          "2025-08-16T00:00:00.000000000",
          "2025-08-17T00:00:00.000000000",
          "2025-08-18T00:00:00.000000000",
          "2025-08-19T00:00:00.000000000",
          "2025-08-20T00:00:00.000000000",
          "2025-08-21T00:00:00.000000000",
          "2025-08-22T00:00:00.000000000",
          "2025-08-23T00:00:00.000000000",
          "2025-08-24T00:00:00.000000000",
          "2025-08-25T00:00:00.000000000",
          "2025-08-26T00:00:00.000000000",
          "2025-08-27T00:00:00.000000000",
          "2025-08-28T00:00:00.000000000",
          "2025-08-29T00:00:00.000000000",
          "2025-08-30T00:00:00.000000000",
          "2025-08-31T00:00:00.000000000",
          "2025-09-01T00:00:00.000000000",
          "2025-09-02T00:00:00.000000000",
          "2025-09-03T00:00:00.000000000",
          "2025-09-04T00:00:00.000000000",
          "2025-09-05T00:00:00.000000000",
          "2025-09-06T00:00:00.000000000",
          "2025-09-07T00:00:00.000000000",
          "2025-09-08T00:00:00.000000000",
          "2025-09-09T00:00:00.000000000",
          "2025-09-10T00:00:00.000000000",
          "2025-09-11T00:00:00.000000000",
          "2025-09-12T00:00:00.000000000",
          "2025-09-13T00:00:00.000000000",
          "2025-09-14T00:00:00.000000000",
          "2025-09-15T00:00:00.000000000",
          "2025-09-16T00:00:00.000000000",
          "2025-09-17T00:00:00.000000000",
          "2025-09-18T00:00:00.000000000",
          "2025-09-19T00:00:00.000000000",
          "2025-09-20T00:00:00.000000000",
          "2025-09-21T00:00:00.000000000",
          "2025-09-22T00:00:00.000000000",
          "2025-09-23T00:00:00.000000000",
          "2025-09-24T00:00:00.000000000",
          "2025-09-25T00:00:00.000000000",
          "2025-09-26T00:00:00.000000000",
          "2025-09-27T00:00:00.000000000",
          "2025-09-28T00:00:00.000000000",
          "2025-09-29T00:00:00.000000000",
          "2025-09-30T00:00:00.000000000",
          "2025-10-01T00:00:00.000000000",
          "2025-10-02T00:00:00.000000000",
          "2025-10-03T00:00:00.000000000",
          "2025-10-04T00:00:00.000000000",
          "2025-10-05T00:00:00.000000000",
          "2025-10-06T00:00:00.000000000",
          "2025-10-07T00:00:00.000000000",
          "2025-10-08T00:00:00.000000000",
          "2025-10-09T00:00:00.000000000",
          "2025-10-10T00:00:00.000000000",
          "2025-10-11T00:00:00.000000000",
          "2025-10-12T00:00:00.000000000",
          "2025-10-13T00:00:00.000000000",
          "2025-10-14T00:00:00.000000000",
          "2025-10-15T00:00:00.000000000",
          "2025-10-16T00:00:00.000000000",
          "2025-10-17T00:00:00.000000000",
          "2025-10-18T00:00:00.000000000",
          "2025-10-19T00:00:00.000000000",
          "2025-10-20T00:00:00.000000000",
          "2025-10-21T00:00:00.000000000",
          "2025-10-22T00:00:00.000000000",
          "2025-10-23T00:00:00.000000000",
          "2025-10-24T00:00:00.000000000",
          "2025-10-25T00:00:00.000000000",
          "2025-10-26T00:00:00.000000000",
          "2025-10-27T00:00:00.000000000",
          "2025-10-28T00:00:00.000000000",
          "2025-10-29T00:00:00.000000000",
          "2025-10-30T00:00:00.000000000",
          "2025-10-31T00:00:00.000000000",
          "2025-11-01T00:00:00.000000000",
          "2025-11-02T00:00:00.000000000",
          "2025-11-03T00:00:00.000000000",
          "2025-11-04T00:00:00.000000000",
          "2025-11-05T00:00:00.000000000",
          "2025-11-06T00:00:00.000000000",
          "2025-11-07T00:00:00.000000000",
          "2025-11-08T00:00:00.000000000",
          "2025-11-09T00:00:00.000000000",
          "2025-11-10T00:00:00.000000000",
          "2025-11-11T00:00:00.000000000",
          "2025-11-12T00:00:00.000000000",
          "2025-11-13T00:00:00.000000000",
          "2025-11-14T00:00:00.000000000",
          "2025-11-15T00:00:00.000000000",
          "2025-11-16T00:00:00.000000000",
          "2025-11-17T00:00:00.000000000",
          "2025-11-18T00:00:00.000000000",
          "2025-11-19T00:00:00.000000000",
          "2025-11-20T00:00:00.000000000",
          "2025-11-21T00:00:00.000000000",
          "2025-11-22T00:00:00.000000000",
          "2025-11-23T00:00:00.000000000",
          "2025-11-24T00:00:00.000000000",
          "2025-11-25T00:00:00.000000000",
          "2025-11-26T00:00:00.000000000",
          "2025-11-27T00:00:00.000000000",
          "2025-11-28T00:00:00.000000000",
          "2025-11-29T00:00:00.000000000",
          "2025-11-30T00:00:00.000000000",
          "2025-12-01T00:00:00.000000000",
          "2025-12-02T00:00:00.000000000",
          "2025-12-03T00:00:00.000000000",
          "2025-12-04T00:00:00.000000000",
          "2025-12-05T00:00:00.000000000",
          "2025-12-06T00:00:00.000000000",
          "2025-12-07T00:00:00.000000000",
          "2025-12-08T00:00:00.000000000",
          "2025-12-09T00:00:00.000000000",
          "2025-12-10T00:00:00.000000000",
          "2025-12-11T00:00:00.000000000",
          "2025-12-12T00:00:00.000000000",
          "2025-12-13T00:00:00.000000000",
          "2025-12-14T00:00:00.000000000",
          "2025-12-15T00:00:00.000000000",
          "2025-12-16T00:00:00.000000000",
          "2025-12-17T00:00:00.000000000",
          "2025-12-18T00:00:00.000000000",
          "2025-12-19T00:00:00.000000000",
          "2025-12-20T00:00:00.000000000",
          "2025-12-21T00:00:00.000000000",
          "2025-12-22T00:00:00.000000000",
          "2025-12-23T00:00:00.000000000",
          "2025-12-24T00:00:00.000000000",
          "2025-12-25T00:00:00.000000000",
          "2025-12-26T00:00:00.000000000",
          "2025-12-27T00:00:00.000000000",
          "2025-12-28T00:00:00.000000000",
          "2025-12-29T00:00:00.000000000",
          "2025-12-30T00:00:00.000000000",
          "2025-12-31T00:00:00.000000000",
          "2026-01-01T00:00:00.000000000",
          "2026-01-02T00:00:00.000000000",
          "2026-01-03T00:00:00.000000000",
          "2026-01-04T00:00:00.000000000",
          "2026-01-05T00:00:00.000000000",
          "2026-01-06T00:00:00.000000000",
          "2026-01-07T00:00:00.000000000",
          "2026-01-08T00:00:00.000000000",
          "2026-01-09T00:00:00.000000000",
          "2026-01-10T00:00:00.000000000",
          "2026-01-11T00:00:00.000000000",
          "2026-01-12T00:00:00.000000000",
          "2026-01-13T00:00:00.000000000",
          "2026-01-14T00:00:00.000000000",
          "2026-01-15T00:00:00.000000000",
          "2026-01-16T00:00:00.000000000",
          "2026-01-17T00:00:00.000000000",
          "2026-01-18T00:00:00.000000000",
          "2026-01-19T00:00:00.000000000",
          "2026-01-20T00:00:00.000000000",
          "2026-01-21T00:00:00.000000000",
          "2026-01-22T00:00:00.000000000",
          "2026-01-23T00:00:00.000000000",
          "2026-01-24T00:00:00.000000000",
          "2026-01-25T00:00:00.000000000",
          "2026-01-26T00:00:00.000000000",
          "2026-01-27T00:00:00.000000000",
          "2026-01-28T00:00:00.000000000",
          "2026-01-29T00:00:00.000000000",
          "2026-01-30T00:00:00.000000000",
          "2026-01-31T00:00:00.000000000"
         ],
         "y": {
          "bdata": "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",
          "dtype": "f8"
         }
        }
       ],
       "layout": {
        "template": {
         "data": {
          "bar": [
           {
            "error_x": {
             "color": "#2a3f5f"
            },
            "error_y": {
             "color": "#2a3f5f"
            },
            "marker": {
             "line": {
              "color": "white",
              "width": 0.5
             },
             "pattern": {
              "fillmode": "overlay",
              "size": 10,
              "solidity": 0.2
             }
            },
            "type": "bar"
           }
          ],
          "barpolar": [
           {
            "marker": {
             "line": {
              "color": "white",
              "width": 0.5
             },
             "pattern": {
              "fillmode": "overlay",
              "size": 10,
              "solidity": 0.2
             }
            },
            "type": "barpolar"
           }
          ],
          "carpet": [
           {
            "aaxis": {
             "endlinecolor": "#2a3f5f",
             "gridcolor": "#C8D4E3",
             "linecolor": "#C8D4E3",
             "minorgridcolor": "#C8D4E3",
             "startlinecolor": "#2a3f5f"
            },
            "baxis": {
             "endlinecolor": "#2a3f5f",
             "gridcolor": "#C8D4E3",
             "linecolor": "#C8D4E3",
             "minorgridcolor": "#C8D4E3",
             "startlinecolor": "#2a3f5f"
            },
            "type": "carpet"
           }
          ],
          "choropleth": [
           {
            "colorbar": {
             "outlinewidth": 0,
             "ticks": ""
            },
            "type": "choropleth"
           }
          ],
          "contour": [
           {
            "colorbar": {
             "outlinewidth": 0,
             "ticks": ""
            },
            "colorscale": [
             [
              0,
              "#0d0887"
             ],
             [
              0.1111111111111111,
              "#46039f"
             ],
             [
              0.2222222222222222,
              "#7201a8"
             ],
             [
              0.3333333333333333,
              "#9c179e"
             ],
             [
              0.4444444444444444,
              "#bd3786"
             ],
             [
              0.5555555555555556,
              "#d8576b"
             ],
             [
              0.6666666666666666,
              "#ed7953"
             ],
             [
              0.7777777777777778,
              "#fb9f3a"
             ],
             [
              0.8888888888888888,
              "#fdca26"
             ],
             [
              1,
              "#f0f921"
             ]
            ],
            "type": "contour"
           }
          ],
          "contourcarpet": [
           {
            "colorbar": {
             "outlinewidth": 0,
             "ticks": ""
            },
            "type": "contourcarpet"
           }
          ],
          "heatmap": [
           {
            "colorbar": {
             "outlinewidth": 0,
             "ticks": ""
            },
            "colorscale": [
             [
              0,
              "#0d0887"
             ],
             [
              0.1111111111111111,
              "#46039f"
             ],
             [
              0.2222222222222222,
              "#7201a8"
             ],
             [
              0.3333333333333333,
              "#9c179e"
             ],
             [
              0.4444444444444444,
              "#bd3786"
             ],
             [
              0.5555555555555556,
              "#d8576b"
             ],
             [
              0.6666666666666666,
              "#ed7953"
             ],
             [
              0.7777777777777778,
              "#fb9f3a"
             ],
             [
              0.8888888888888888,
              "#fdca26"
             ],
             [
              1,
              "#f0f921"
             ]
            ],
            "type": "heatmap"
           }
          ],
          "histogram": [
           {
            "marker": {
             "pattern": {
              "fillmode": "overlay",
              "size": 10,
              "solidity": 0.2
             }
            },
            "type": "histogram"
           }
          ],
          "histogram2d": [
           {
            "colorbar": {
             "outlinewidth": 0,
             "ticks": ""
            },
            "colorscale": [
             [
              0,
              "#0d0887"
             ],
             [
              0.1111111111111111,
              "#46039f"
             ],
             [
              0.2222222222222222,
              "#7201a8"
             ],
             [
              0.3333333333333333,
              "#9c179e"
             ],
             [
              0.4444444444444444,
              "#bd3786"
             ],
             [
              0.5555555555555556,
              "#d8576b"
             ],
             [
              0.6666666666666666,
              "#ed7953"
             ],
             [
              0.7777777777777778,
              "#fb9f3a"
             ],
             [
              0.8888888888888888,
              "#fdca26"
             ],
             [
              1,
              "#f0f921"
             ]
            ],
            "type": "histogram2d"
           }
          ],
          "histogram2dcontour": [
           {
            "colorbar": {
             "outlinewidth": 0,
             "ticks": ""
            },
            "colorscale": [
             [
              0,
              "#0d0887"
             ],
             [
              0.1111111111111111,
              "#46039f"
             ],
             [
              0.2222222222222222,
              "#7201a8"
             ],
             [
              0.3333333333333333,
              "#9c179e"
             ],
             [
              0.4444444444444444,
              "#bd3786"
             ],
             [
              0.5555555555555556,
              "#d8576b"
             ],
             [
              0.6666666666666666,
              "#ed7953"
             ],
             [
              0.7777777777777778,
              "#fb9f3a"
             ],
             [
              0.8888888888888888,
              "#fdca26"
             ],
             [
              1,
              "#f0f921"
             ]
            ],
            "type": "histogram2dcontour"
           }
          ],
          "mesh3d": [
           {
            "colorbar": {
             "outlinewidth": 0,
             "ticks": ""
            },
            "type": "mesh3d"
           }
          ],
          "parcoords": [
           {
            "line": {
             "colorbar": {
              "outlinewidth": 0,
              "ticks": ""
             }
            },
            "type": "parcoords"
           }
          ],
          "pie": [
           {
            "automargin": true,
            "type": "pie"
           }
          ],
          "scatter": [
           {
            "fillpattern": {
             "fillmode": "overlay",
             "size": 10,
             "solidity": 0.2
            },
            "type": "scatter"
           }
          ],
          "scatter3d": [
           {
            "line": {
             "colorbar": {
              "outlinewidth": 0,
              "ticks": ""
             }
            },
            "marker": {
             "colorbar": {
              "outlinewidth": 0,
              "ticks": ""
             }
            },
            "type": "scatter3d"
           }
          ],
          "scattercarpet": [
           {
            "marker": {
             "colorbar": {
              "outlinewidth": 0,
              "ticks": ""
             }
            },
            "type": "scattercarpet"
           }
          ],
          "scattergeo": [
           {
            "marker": {
             "colorbar": {
              "outlinewidth": 0,
              "ticks": ""
             }
            },
            "type": "scattergeo"
           }
          ],
          "scattergl": [
           {
            "marker": {
             "colorbar": {
              "outlinewidth": 0,
              "ticks": ""
             }
            },
            "type": "scattergl"
           }
          ],
          "scattermap": [
           {
            "marker": {
             "colorbar": {
              "outlinewidth": 0,
              "ticks": ""
             }
            },
            "type": "scattermap"
           }
          ],
          "scattermapbox": [
           {
            "marker": {
             "colorbar": {
              "outlinewidth": 0,
              "ticks": ""
             }
            },
            "type": "scattermapbox"
           }
          ],
          "scatterpolar": [
           {
            "marker": {
             "colorbar": {
              "outlinewidth": 0,
              "ticks": ""
             }
            },
            "type": "scatterpolar"
           }
          ],
          "scatterpolargl": [
           {
            "marker": {
             "colorbar": {
              "outlinewidth": 0,
              "ticks": ""
             }
            },
            "type": "scatterpolargl"
           }
          ],
          "scatterternary": [
           {
            "marker": {
             "colorbar": {
              "outlinewidth": 0,
              "ticks": ""
             }
            },
            "type": "scatterternary"
           }
          ],
          "surface": [
           {
            "colorbar": {
             "outlinewidth": 0,
             "ticks": ""
            },
            "colorscale": [
             [
              0,
              "#0d0887"
             ],
             [
              0.1111111111111111,
              "#46039f"
             ],
             [
              0.2222222222222222,
              "#7201a8"
             ],
             [
              0.3333333333333333,
              "#9c179e"
             ],
             [
              0.4444444444444444,
              "#bd3786"
             ],
             [
              0.5555555555555556,
              "#d8576b"
             ],
             [
              0.6666666666666666,
              "#ed7953"
             ],
             [
              0.7777777777777778,
              "#fb9f3a"
             ],
             [
              0.8888888888888888,
              "#fdca26"
             ],
             [
              1,
              "#f0f921"
             ]
            ],
            "type": "surface"
           }
          ],
          "table": [
           {
            "cells": {
             "fill": {
              "color": "#EBF0F8"
             },
             "line": {
              "color": "white"
             }
            },
            "header": {
             "fill": {
              "color": "#C8D4E3"
             },
             "line": {
              "color": "white"
             }
            },
            "type": "table"
           }
          ]
         },
         "layout": {
          "annotationdefaults": {
           "arrowcolor": "#2a3f5f",
           "arrowhead": 0,
           "arrowwidth": 1
          },
          "autotypenumbers": "strict",
          "coloraxis": {
           "colorbar": {
            "outlinewidth": 0,
            "ticks": ""
           }
          },
          "colorscale": {
           "diverging": [
            [
             0,
             "#8e0152"
            ],
            [
             0.1,
             "#c51b7d"
            ],
            [
             0.2,
             "#de77ae"
            ],
            [
             0.3,
             "#f1b6da"
            ],
            [
             0.4,
             "#fde0ef"
            ],
            [
             0.5,
             "#f7f7f7"
            ],
            [
             0.6,
             "#e6f5d0"
            ],
            [
             0.7,
             "#b8e186"
            ],
            [
             0.8,
             "#7fbc41"
            ],
            [
             0.9,
             "#4d9221"
            ],
            [
             1,
             "#276419"
            ]
           ],
           "sequential": [
            [
             0,
             "#0d0887"
            ],
            [
             0.1111111111111111,
             "#46039f"
            ],
            [
             0.2222222222222222,
             "#7201a8"
            ],
            [
             0.3333333333333333,
             "#9c179e"
            ],
            [
             0.4444444444444444,
             "#bd3786"
            ],
            [
             0.5555555555555556,
             "#d8576b"
            ],
            [
             0.6666666666666666,
             "#ed7953"
            ],
            [
             0.7777777777777778,
             "#fb9f3a"
            ],
            [
             0.8888888888888888,
             "#fdca26"
            ],
            [
             1,
             "#f0f921"
            ]
           ],
           "sequentialminus": [
            [
             0,
             "#0d0887"
            ],
            [
             0.1111111111111111,
             "#46039f"
            ],
            [
             0.2222222222222222,
             "#7201a8"
            ],
            [
             0.3333333333333333,
             "#9c179e"
            ],
            [
             0.4444444444444444,
             "#bd3786"
            ],
            [
             0.5555555555555556,
             "#d8576b"
            ],
            [
             0.6666666666666666,
             "#ed7953"
            ],
            [
             0.7777777777777778,
             "#fb9f3a"
            ],
            [
             0.8888888888888888,
             "#fdca26"
            ],
            [
             1,
             "#f0f921"
            ]
           ]
          },
          "colorway": [
           "#636efa",
           "#EF553B",
           "#00cc96",
           "#ab63fa",
           "#FFA15A",
           "#19d3f3",
           "#FF6692",
           "#B6E880",
           "#FF97FF",
           "#FECB52"
          ],
          "font": {
           "color": "#2a3f5f"
          },
          "geo": {
           "bgcolor": "white",
           "lakecolor": "white",
           "landcolor": "white",
           "showlakes": true,
           "showland": true,
           "subunitcolor": "#C8D4E3"
          },
          "hoverlabel": {
           "align": "left"
          },
          "hovermode": "closest",
          "mapbox": {
           "style": "light"
          },
          "paper_bgcolor": "white",
          "plot_bgcolor": "white",
          "polar": {
           "angularaxis": {
            "gridcolor": "#EBF0F8",
            "linecolor": "#EBF0F8",
            "ticks": ""
           },
           "bgcolor": "white",
           "radialaxis": {
            "gridcolor": "#EBF0F8",
            "linecolor": "#EBF0F8",
            "ticks": ""
           }
          },
          "scene": {
           "xaxis": {
            "backgroundcolor": "white",
            "gridcolor": "#DFE8F3",
            "gridwidth": 2,
            "linecolor": "#EBF0F8",
            "showbackground": true,
            "ticks": "",
            "zerolinecolor": "#EBF0F8"
           },
           "yaxis": {
            "backgroundcolor": "white",
            "gridcolor": "#DFE8F3",
            "gridwidth": 2,
            "linecolor": "#EBF0F8",
            "showbackground": true,
            "ticks": "",
            "zerolinecolor": "#EBF0F8"
           },
           "zaxis": {
            "backgroundcolor": "white",
            "gridcolor": "#DFE8F3",
            "gridwidth": 2,
            "linecolor": "#EBF0F8",
            "showbackground": true,
            "ticks": "",
            "zerolinecolor": "#EBF0F8"
           }
          },
          "shapedefaults": {
           "line": {
            "color": "#2a3f5f"
           }
          },
          "ternary": {
           "aaxis": {
            "gridcolor": "#DFE8F3",
            "linecolor": "#A2B1C6",
            "ticks": ""
           },
           "baxis": {
            "gridcolor": "#DFE8F3",
            "linecolor": "#A2B1C6",
            "ticks": ""
           },
           "bgcolor": "white",
           "caxis": {
            "gridcolor": "#DFE8F3",
            "linecolor": "#A2B1C6",
            "ticks": ""
           }
          },
          "title": {
           "x": 0.05
          },
          "xaxis": {
           "automargin": true,
           "gridcolor": "#EBF0F8",
           "linecolor": "#EBF0F8",
           "ticks": "",
           "title": {
            "standoff": 15
           },
           "zerolinecolor": "#EBF0F8",
           "zerolinewidth": 2
          },
          "yaxis": {
           "automargin": true,
           "gridcolor": "#EBF0F8",
           "linecolor": "#EBF0F8",
           "ticks": "",
           "title": {
            "standoff": 15
           },
           "zerolinecolor": "#EBF0F8",
           "zerolinewidth": 2
          }
         }
        },
        "title": {
         "text": "Comportamiento ENFICC"
        },
        "xaxis": {
         "title": {
          "text": "Fecha"
         }
        },
        "yaxis": {
         "title": {
          "text": "MWh"
         }
        }
       }
      }
     },
     "metadata": {},
     "output_type": "display_data"
    }
   ],
   "source": [
    "# Categoría: ENFICC\n",
    "compromisos_vars = [\"ENFICCVerificada\", \"ENFICCNoComp\", \"VCMSENFICC\"]                      # Variables que se usarán en la gráfica\n",
    "plot_time_series(df_filtrado_grouped, \"Fecha\", compromisos_vars, \"Comportamiento ENFICC\")  # Llamado a la función creada para graficar"
   ]
  },
  {
   "cell_type": "markdown",
   "metadata": {},
   "source": [
    "Referencia:\n",
    "Medir el indicador clave del mercado secundario mediante la EnergiaReferenciaMercadoSecundario.\n",
    "\n",
    "Es una variable agregada que puede verse como el resultado de la interacción entre producción, ventas y compromisos."
   ]
  },
  {
   "cell_type": "code",
   "execution_count": 10,
   "metadata": {},
   "outputs": [
    {
     "data": {
      "application/vnd.plotly.v1+json": {
       "config": {
        "plotlyServerURL": "https://plot.ly"
       },
       "data": [
        {
         "mode": "lines",
         "name": "EnergiaReferenciaMercadoSecundario",
         "type": "scatter",
         "x": [
          "2025-07-01T00:00:00.000000000",
          "2025-07-02T00:00:00.000000000",
          "2025-07-03T00:00:00.000000000",
          "2025-07-04T00:00:00.000000000",
          "2025-07-05T00:00:00.000000000",
          "2025-07-06T00:00:00.000000000",
          "2025-07-07T00:00:00.000000000",
          "2025-07-08T00:00:00.000000000",
          "2025-07-09T00:00:00.000000000",
          "2025-07-10T00:00:00.000000000",
          "2025-07-11T00:00:00.000000000",
          "2025-07-12T00:00:00.000000000",
          "2025-07-13T00:00:00.000000000",
          "2025-07-14T00:00:00.000000000",
          "2025-07-15T00:00:00.000000000",
          "2025-07-16T00:00:00.000000000",
          "2025-07-17T00:00:00.000000000",
          "2025-07-18T00:00:00.000000000",
          "2025-07-19T00:00:00.000000000",
          "2025-07-20T00:00:00.000000000",
          "2025-07-21T00:00:00.000000000",
          "2025-07-22T00:00:00.000000000",
          "2025-07-23T00:00:00.000000000",
          "2025-07-24T00:00:00.000000000",
          "2025-07-25T00:00:00.000000000",
          "2025-07-26T00:00:00.000000000",
          "2025-07-27T00:00:00.000000000",
          "2025-07-28T00:00:00.000000000",
          "2025-07-29T00:00:00.000000000",
          "2025-07-30T00:00:00.000000000",
          "2025-07-31T00:00:00.000000000",
          "2025-08-01T00:00:00.000000000",
          "2025-08-02T00:00:00.000000000",
          "2025-08-03T00:00:00.000000000",
          "2025-08-04T00:00:00.000000000",
          "2025-08-05T00:00:00.000000000",
          "2025-08-06T00:00:00.000000000",
          "2025-08-07T00:00:00.000000000",
          "2025-08-08T00:00:00.000000000",
          "2025-08-09T00:00:00.000000000",
          "2025-08-10T00:00:00.000000000",
          "2025-08-11T00:00:00.000000000",
          "2025-08-12T00:00:00.000000000",
          "2025-08-13T00:00:00.000000000",
          "2025-08-14T00:00:00.000000000",
          "2025-08-15T00:00:00.000000000",
          "2025-08-16T00:00:00.000000000",
          "2025-08-17T00:00:00.000000000",
          "2025-08-18T00:00:00.000000000",
          "2025-08-19T00:00:00.000000000",
          "2025-08-20T00:00:00.000000000",
          "2025-08-21T00:00:00.000000000",
          "2025-08-22T00:00:00.000000000",
          "2025-08-23T00:00:00.000000000",
          "2025-08-24T00:00:00.000000000",
          "2025-08-25T00:00:00.000000000",
          "2025-08-26T00:00:00.000000000",
          "2025-08-27T00:00:00.000000000",
          "2025-08-28T00:00:00.000000000",
          "2025-08-29T00:00:00.000000000",
          "2025-08-30T00:00:00.000000000",
          "2025-08-31T00:00:00.000000000",
          "2025-09-01T00:00:00.000000000",
          "2025-09-02T00:00:00.000000000",
          "2025-09-03T00:00:00.000000000",
          "2025-09-04T00:00:00.000000000",
          "2025-09-05T00:00:00.000000000",
          "2025-09-06T00:00:00.000000000",
          "2025-09-07T00:00:00.000000000",
          "2025-09-08T00:00:00.000000000",
          "2025-09-09T00:00:00.000000000",
          "2025-09-10T00:00:00.000000000",
          "2025-09-11T00:00:00.000000000",
          "2025-09-12T00:00:00.000000000",
          "2025-09-13T00:00:00.000000000",
          "2025-09-14T00:00:00.000000000",
          "2025-09-15T00:00:00.000000000",
          "2025-09-16T00:00:00.000000000",
          "2025-09-17T00:00:00.000000000",
          "2025-09-18T00:00:00.000000000",
          "2025-09-19T00:00:00.000000000",
          "2025-09-20T00:00:00.000000000",
          "2025-09-21T00:00:00.000000000",
          "2025-09-22T00:00:00.000000000",
          "2025-09-23T00:00:00.000000000",
          "2025-09-24T00:00:00.000000000",
          "2025-09-25T00:00:00.000000000",
          "2025-09-26T00:00:00.000000000",
          "2025-09-27T00:00:00.000000000",
          "2025-09-28T00:00:00.000000000",
          "2025-09-29T00:00:00.000000000",
          "2025-09-30T00:00:00.000000000",
          "2025-10-01T00:00:00.000000000",
          "2025-10-02T00:00:00.000000000",
          "2025-10-03T00:00:00.000000000",
          "2025-10-04T00:00:00.000000000",
          "2025-10-05T00:00:00.000000000",
          "2025-10-06T00:00:00.000000000",
          "2025-10-07T00:00:00.000000000",
          "2025-10-08T00:00:00.000000000",
          "2025-10-09T00:00:00.000000000",
          "2025-10-10T00:00:00.000000000",
          "2025-10-11T00:00:00.000000000",
          "2025-10-12T00:00:00.000000000",
          "2025-10-13T00:00:00.000000000",
          "2025-10-14T00:00:00.000000000",
          "2025-10-15T00:00:00.000000000",
          "2025-10-16T00:00:00.000000000",
          "2025-10-17T00:00:00.000000000",
          "2025-10-18T00:00:00.000000000",
          "2025-10-19T00:00:00.000000000",
          "2025-10-20T00:00:00.000000000",
          "2025-10-21T00:00:00.000000000",
          "2025-10-22T00:00:00.000000000",
          "2025-10-23T00:00:00.000000000",
          "2025-10-24T00:00:00.000000000",
          "2025-10-25T00:00:00.000000000",
          "2025-10-26T00:00:00.000000000",
          "2025-10-27T00:00:00.000000000",
          "2025-10-28T00:00:00.000000000",
          "2025-10-29T00:00:00.000000000",
          "2025-10-30T00:00:00.000000000",
          "2025-10-31T00:00:00.000000000",
          "2025-11-01T00:00:00.000000000",
          "2025-11-02T00:00:00.000000000",
          "2025-11-03T00:00:00.000000000",
          "2025-11-04T00:00:00.000000000",
          "2025-11-05T00:00:00.000000000",
          "2025-11-06T00:00:00.000000000",
          "2025-11-07T00:00:00.000000000",
          "2025-11-08T00:00:00.000000000",
          "2025-11-09T00:00:00.000000000",
          "2025-11-10T00:00:00.000000000",
          "2025-11-11T00:00:00.000000000",
          "2025-11-12T00:00:00.000000000",
          "2025-11-13T00:00:00.000000000",
          "2025-11-14T00:00:00.000000000",
          "2025-11-15T00:00:00.000000000",
          "2025-11-16T00:00:00.000000000",
          "2025-11-17T00:00:00.000000000",
          "2025-11-18T00:00:00.000000000",
          "2025-11-19T00:00:00.000000000",
          "2025-11-20T00:00:00.000000000",
          "2025-11-21T00:00:00.000000000",
          "2025-11-22T00:00:00.000000000",
          "2025-11-23T00:00:00.000000000",
          "2025-11-24T00:00:00.000000000",
          "2025-11-25T00:00:00.000000000",
          "2025-11-26T00:00:00.000000000",
          "2025-11-27T00:00:00.000000000",
          "2025-11-28T00:00:00.000000000",
          "2025-11-29T00:00:00.000000000",
          "2025-11-30T00:00:00.000000000",
          "2025-12-01T00:00:00.000000000",
          "2025-12-02T00:00:00.000000000",
          "2025-12-03T00:00:00.000000000",
          "2025-12-04T00:00:00.000000000",
          "2025-12-05T00:00:00.000000000",
          "2025-12-06T00:00:00.000000000",
          "2025-12-07T00:00:00.000000000",
          "2025-12-08T00:00:00.000000000",
          "2025-12-09T00:00:00.000000000",
          "2025-12-10T00:00:00.000000000",
          "2025-12-11T00:00:00.000000000",
          "2025-12-12T00:00:00.000000000",
          "2025-12-13T00:00:00.000000000",
          "2025-12-14T00:00:00.000000000",
          "2025-12-15T00:00:00.000000000",
          "2025-12-16T00:00:00.000000000",
          "2025-12-17T00:00:00.000000000",
          "2025-12-18T00:00:00.000000000",
          "2025-12-19T00:00:00.000000000",
          "2025-12-20T00:00:00.000000000",
          "2025-12-21T00:00:00.000000000",
          "2025-12-22T00:00:00.000000000",
          "2025-12-23T00:00:00.000000000",
          "2025-12-24T00:00:00.000000000",
          "2025-12-25T00:00:00.000000000",
          "2025-12-26T00:00:00.000000000",
          "2025-12-27T00:00:00.000000000",
          "2025-12-28T00:00:00.000000000",
          "2025-12-29T00:00:00.000000000",
          "2025-12-30T00:00:00.000000000",
          "2025-12-31T00:00:00.000000000",
          "2026-01-01T00:00:00.000000000",
          "2026-01-02T00:00:00.000000000",
          "2026-01-03T00:00:00.000000000",
          "2026-01-04T00:00:00.000000000",
          "2026-01-05T00:00:00.000000000",
          "2026-01-06T00:00:00.000000000",
          "2026-01-07T00:00:00.000000000",
          "2026-01-08T00:00:00.000000000",
          "2026-01-09T00:00:00.000000000",
          "2026-01-10T00:00:00.000000000",
          "2026-01-11T00:00:00.000000000",
          "2026-01-12T00:00:00.000000000",
          "2026-01-13T00:00:00.000000000",
          "2026-01-14T00:00:00.000000000",
          "2026-01-15T00:00:00.000000000",
          "2026-01-16T00:00:00.000000000",
          "2026-01-17T00:00:00.000000000",
          "2026-01-18T00:00:00.000000000",
          "2026-01-19T00:00:00.000000000",
          "2026-01-20T00:00:00.000000000",
          "2026-01-21T00:00:00.000000000",
          "2026-01-22T00:00:00.000000000",
          "2026-01-23T00:00:00.000000000",
          "2026-01-24T00:00:00.000000000",
          "2026-01-25T00:00:00.000000000",
          "2026-01-26T00:00:00.000000000",
          "2026-01-27T00:00:00.000000000",
          "2026-01-28T00:00:00.000000000",
          "2026-01-29T00:00:00.000000000",
          "2026-01-30T00:00:00.000000000",
          "2026-01-31T00:00:00.000000000"
         ],
         "y": {
          "bdata": "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",
          "dtype": "f8"
         }
        },
        {
         "mode": "lines",
         "name": "VCMSTotales",
         "type": "scatter",
         "x": [
          "2025-07-01T00:00:00.000000000",
          "2025-07-02T00:00:00.000000000",
          "2025-07-03T00:00:00.000000000",
          "2025-07-04T00:00:00.000000000",
          "2025-07-05T00:00:00.000000000",
          "2025-07-06T00:00:00.000000000",
          "2025-07-07T00:00:00.000000000",
          "2025-07-08T00:00:00.000000000",
          "2025-07-09T00:00:00.000000000",
          "2025-07-10T00:00:00.000000000",
          "2025-07-11T00:00:00.000000000",
          "2025-07-12T00:00:00.000000000",
          "2025-07-13T00:00:00.000000000",
          "2025-07-14T00:00:00.000000000",
          "2025-07-15T00:00:00.000000000",
          "2025-07-16T00:00:00.000000000",
          "2025-07-17T00:00:00.000000000",
          "2025-07-18T00:00:00.000000000",
          "2025-07-19T00:00:00.000000000",
          "2025-07-20T00:00:00.000000000",
          "2025-07-21T00:00:00.000000000",
          "2025-07-22T00:00:00.000000000",
          "2025-07-23T00:00:00.000000000",
          "2025-07-24T00:00:00.000000000",
          "2025-07-25T00:00:00.000000000",
          "2025-07-26T00:00:00.000000000",
          "2025-07-27T00:00:00.000000000",
          "2025-07-28T00:00:00.000000000",
          "2025-07-29T00:00:00.000000000",
          "2025-07-30T00:00:00.000000000",
          "2025-07-31T00:00:00.000000000",
          "2025-08-01T00:00:00.000000000",
          "2025-08-02T00:00:00.000000000",
          "2025-08-03T00:00:00.000000000",
          "2025-08-04T00:00:00.000000000",
          "2025-08-05T00:00:00.000000000",
          "2025-08-06T00:00:00.000000000",
          "2025-08-07T00:00:00.000000000",
          "2025-08-08T00:00:00.000000000",
          "2025-08-09T00:00:00.000000000",
          "2025-08-10T00:00:00.000000000",
          "2025-08-11T00:00:00.000000000",
          "2025-08-12T00:00:00.000000000",
          "2025-08-13T00:00:00.000000000",
          "2025-08-14T00:00:00.000000000",
          "2025-08-15T00:00:00.000000000",
          "2025-08-16T00:00:00.000000000",
          "2025-08-17T00:00:00.000000000",
          "2025-08-18T00:00:00.000000000",
          "2025-08-19T00:00:00.000000000",
          "2025-08-20T00:00:00.000000000",
          "2025-08-21T00:00:00.000000000",
          "2025-08-22T00:00:00.000000000",
          "2025-08-23T00:00:00.000000000",
          "2025-08-24T00:00:00.000000000",
          "2025-08-25T00:00:00.000000000",
          "2025-08-26T00:00:00.000000000",
          "2025-08-27T00:00:00.000000000",
          "2025-08-28T00:00:00.000000000",
          "2025-08-29T00:00:00.000000000",
          "2025-08-30T00:00:00.000000000",
          "2025-08-31T00:00:00.000000000",
          "2025-09-01T00:00:00.000000000",
          "2025-09-02T00:00:00.000000000",
          "2025-09-03T00:00:00.000000000",
          "2025-09-04T00:00:00.000000000",
          "2025-09-05T00:00:00.000000000",
          "2025-09-06T00:00:00.000000000",
          "2025-09-07T00:00:00.000000000",
          "2025-09-08T00:00:00.000000000",
          "2025-09-09T00:00:00.000000000",
          "2025-09-10T00:00:00.000000000",
          "2025-09-11T00:00:00.000000000",
          "2025-09-12T00:00:00.000000000",
          "2025-09-13T00:00:00.000000000",
          "2025-09-14T00:00:00.000000000",
          "2025-09-15T00:00:00.000000000",
          "2025-09-16T00:00:00.000000000",
          "2025-09-17T00:00:00.000000000",
          "2025-09-18T00:00:00.000000000",
          "2025-09-19T00:00:00.000000000",
          "2025-09-20T00:00:00.000000000",
          "2025-09-21T00:00:00.000000000",
          "2025-09-22T00:00:00.000000000",
          "2025-09-23T00:00:00.000000000",
          "2025-09-24T00:00:00.000000000",
          "2025-09-25T00:00:00.000000000",
          "2025-09-26T00:00:00.000000000",
          "2025-09-27T00:00:00.000000000",
          "2025-09-28T00:00:00.000000000",
          "2025-09-29T00:00:00.000000000",
          "2025-09-30T00:00:00.000000000",
          "2025-10-01T00:00:00.000000000",
          "2025-10-02T00:00:00.000000000",
          "2025-10-03T00:00:00.000000000",
          "2025-10-04T00:00:00.000000000",
          "2025-10-05T00:00:00.000000000",
          "2025-10-06T00:00:00.000000000",
          "2025-10-07T00:00:00.000000000",
          "2025-10-08T00:00:00.000000000",
          "2025-10-09T00:00:00.000000000",
          "2025-10-10T00:00:00.000000000",
          "2025-10-11T00:00:00.000000000",
          "2025-10-12T00:00:00.000000000",
          "2025-10-13T00:00:00.000000000",
          "2025-10-14T00:00:00.000000000",
          "2025-10-15T00:00:00.000000000",
          "2025-10-16T00:00:00.000000000",
          "2025-10-17T00:00:00.000000000",
          "2025-10-18T00:00:00.000000000",
          "2025-10-19T00:00:00.000000000",
          "2025-10-20T00:00:00.000000000",
          "2025-10-21T00:00:00.000000000",
          "2025-10-22T00:00:00.000000000",
          "2025-10-23T00:00:00.000000000",
          "2025-10-24T00:00:00.000000000",
          "2025-10-25T00:00:00.000000000",
          "2025-10-26T00:00:00.000000000",
          "2025-10-27T00:00:00.000000000",
          "2025-10-28T00:00:00.000000000",
          "2025-10-29T00:00:00.000000000",
          "2025-10-30T00:00:00.000000000",
          "2025-10-31T00:00:00.000000000",
          "2025-11-01T00:00:00.000000000",
          "2025-11-02T00:00:00.000000000",
          "2025-11-03T00:00:00.000000000",
          "2025-11-04T00:00:00.000000000",
          "2025-11-05T00:00:00.000000000",
          "2025-11-06T00:00:00.000000000",
          "2025-11-07T00:00:00.000000000",
          "2025-11-08T00:00:00.000000000",
          "2025-11-09T00:00:00.000000000",
          "2025-11-10T00:00:00.000000000",
          "2025-11-11T00:00:00.000000000",
          "2025-11-12T00:00:00.000000000",
          "2025-11-13T00:00:00.000000000",
          "2025-11-14T00:00:00.000000000",
          "2025-11-15T00:00:00.000000000",
          "2025-11-16T00:00:00.000000000",
          "2025-11-17T00:00:00.000000000",
          "2025-11-18T00:00:00.000000000",
          "2025-11-19T00:00:00.000000000",
          "2025-11-20T00:00:00.000000000",
          "2025-11-21T00:00:00.000000000",
          "2025-11-22T00:00:00.000000000",
          "2025-11-23T00:00:00.000000000",
          "2025-11-24T00:00:00.000000000",
          "2025-11-25T00:00:00.000000000",
          "2025-11-26T00:00:00.000000000",
          "2025-11-27T00:00:00.000000000",
          "2025-11-28T00:00:00.000000000",
          "2025-11-29T00:00:00.000000000",
          "2025-11-30T00:00:00.000000000",
          "2025-12-01T00:00:00.000000000",
          "2025-12-02T00:00:00.000000000",
          "2025-12-03T00:00:00.000000000",
          "2025-12-04T00:00:00.000000000",
          "2025-12-05T00:00:00.000000000",
          "2025-12-06T00:00:00.000000000",
          "2025-12-07T00:00:00.000000000",
          "2025-12-08T00:00:00.000000000",
          "2025-12-09T00:00:00.000000000",
          "2025-12-10T00:00:00.000000000",
          "2025-12-11T00:00:00.000000000",
          "2025-12-12T00:00:00.000000000",
          "2025-12-13T00:00:00.000000000",
          "2025-12-14T00:00:00.000000000",
          "2025-12-15T00:00:00.000000000",
          "2025-12-16T00:00:00.000000000",
          "2025-12-17T00:00:00.000000000",
          "2025-12-18T00:00:00.000000000",
          "2025-12-19T00:00:00.000000000",
          "2025-12-20T00:00:00.000000000",
          "2025-12-21T00:00:00.000000000",
          "2025-12-22T00:00:00.000000000",
          "2025-12-23T00:00:00.000000000",
          "2025-12-24T00:00:00.000000000",
          "2025-12-25T00:00:00.000000000",
          "2025-12-26T00:00:00.000000000",
          "2025-12-27T00:00:00.000000000",
          "2025-12-28T00:00:00.000000000",
          "2025-12-29T00:00:00.000000000",
          "2025-12-30T00:00:00.000000000",
          "2025-12-31T00:00:00.000000000",
          "2026-01-01T00:00:00.000000000",
          "2026-01-02T00:00:00.000000000",
          "2026-01-03T00:00:00.000000000",
          "2026-01-04T00:00:00.000000000",
          "2026-01-05T00:00:00.000000000",
          "2026-01-06T00:00:00.000000000",
          "2026-01-07T00:00:00.000000000",
          "2026-01-08T00:00:00.000000000",
          "2026-01-09T00:00:00.000000000",
          "2026-01-10T00:00:00.000000000",
          "2026-01-11T00:00:00.000000000",
          "2026-01-12T00:00:00.000000000",
          "2026-01-13T00:00:00.000000000",
          "2026-01-14T00:00:00.000000000",
          "2026-01-15T00:00:00.000000000",
          "2026-01-16T00:00:00.000000000",
          "2026-01-17T00:00:00.000000000",
          "2026-01-18T00:00:00.000000000",
          "2026-01-19T00:00:00.000000000",
          "2026-01-20T00:00:00.000000000",
          "2026-01-21T00:00:00.000000000",
          "2026-01-22T00:00:00.000000000",
          "2026-01-23T00:00:00.000000000",
          "2026-01-24T00:00:00.000000000",
          "2026-01-25T00:00:00.000000000",
          "2026-01-26T00:00:00.000000000",
          "2026-01-27T00:00:00.000000000",
          "2026-01-28T00:00:00.000000000",
          "2026-01-29T00:00:00.000000000",
          "2026-01-30T00:00:00.000000000",
          "2026-01-31T00:00:00.000000000"
         ],
         "y": {
          "bdata": "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",
          "dtype": "f8"
         }
        }
       ],
       "layout": {
        "template": {
         "data": {
          "bar": [
           {
            "error_x": {
             "color": "#2a3f5f"
            },
            "error_y": {
             "color": "#2a3f5f"
            },
            "marker": {
             "line": {
              "color": "white",
              "width": 0.5
             },
             "pattern": {
              "fillmode": "overlay",
              "size": 10,
              "solidity": 0.2
             }
            },
            "type": "bar"
           }
          ],
          "barpolar": [
           {
            "marker": {
             "line": {
              "color": "white",
              "width": 0.5
             },
             "pattern": {
              "fillmode": "overlay",
              "size": 10,
              "solidity": 0.2
             }
            },
            "type": "barpolar"
           }
          ],
          "carpet": [
           {
            "aaxis": {
             "endlinecolor": "#2a3f5f",
             "gridcolor": "#C8D4E3",
             "linecolor": "#C8D4E3",
             "minorgridcolor": "#C8D4E3",
             "startlinecolor": "#2a3f5f"
            },
            "baxis": {
             "endlinecolor": "#2a3f5f",
             "gridcolor": "#C8D4E3",
             "linecolor": "#C8D4E3",
             "minorgridcolor": "#C8D4E3",
             "startlinecolor": "#2a3f5f"
            },
            "type": "carpet"
           }
          ],
          "choropleth": [
           {
            "colorbar": {
             "outlinewidth": 0,
             "ticks": ""
            },
            "type": "choropleth"
           }
          ],
          "contour": [
           {
            "colorbar": {
             "outlinewidth": 0,
             "ticks": ""
            },
            "colorscale": [
             [
              0,
              "#0d0887"
             ],
             [
              0.1111111111111111,
              "#46039f"
             ],
             [
              0.2222222222222222,
              "#7201a8"
             ],
             [
              0.3333333333333333,
              "#9c179e"
             ],
             [
              0.4444444444444444,
              "#bd3786"
             ],
             [
              0.5555555555555556,
              "#d8576b"
             ],
             [
              0.6666666666666666,
              "#ed7953"
             ],
             [
              0.7777777777777778,
              "#fb9f3a"
             ],
             [
              0.8888888888888888,
              "#fdca26"
             ],
             [
              1,
              "#f0f921"
             ]
            ],
            "type": "contour"
           }
          ],
          "contourcarpet": [
           {
            "colorbar": {
             "outlinewidth": 0,
             "ticks": ""
            },
            "type": "contourcarpet"
           }
          ],
          "heatmap": [
           {
            "colorbar": {
             "outlinewidth": 0,
             "ticks": ""
            },
            "colorscale": [
             [
              0,
              "#0d0887"
             ],
             [
              0.1111111111111111,
              "#46039f"
             ],
             [
              0.2222222222222222,
              "#7201a8"
             ],
             [
              0.3333333333333333,
              "#9c179e"
             ],
             [
              0.4444444444444444,
              "#bd3786"
             ],
             [
              0.5555555555555556,
              "#d8576b"
             ],
             [
              0.6666666666666666,
              "#ed7953"
             ],
             [
              0.7777777777777778,
              "#fb9f3a"
             ],
             [
              0.8888888888888888,
              "#fdca26"
             ],
             [
              1,
              "#f0f921"
             ]
            ],
            "type": "heatmap"
           }
          ],
          "histogram": [
           {
            "marker": {
             "pattern": {
              "fillmode": "overlay",
              "size": 10,
              "solidity": 0.2
             }
            },
            "type": "histogram"
           }
          ],
          "histogram2d": [
           {
            "colorbar": {
             "outlinewidth": 0,
             "ticks": ""
            },
            "colorscale": [
             [
              0,
              "#0d0887"
             ],
             [
              0.1111111111111111,
              "#46039f"
             ],
             [
              0.2222222222222222,
              "#7201a8"
             ],
             [
              0.3333333333333333,
              "#9c179e"
             ],
             [
              0.4444444444444444,
              "#bd3786"
             ],
             [
              0.5555555555555556,
              "#d8576b"
             ],
             [
              0.6666666666666666,
              "#ed7953"
             ],
             [
              0.7777777777777778,
              "#fb9f3a"
             ],
             [
              0.8888888888888888,
              "#fdca26"
             ],
             [
              1,
              "#f0f921"
             ]
            ],
            "type": "histogram2d"
           }
          ],
          "histogram2dcontour": [
           {
            "colorbar": {
             "outlinewidth": 0,
             "ticks": ""
            },
            "colorscale": [
             [
              0,
              "#0d0887"
             ],
             [
              0.1111111111111111,
              "#46039f"
             ],
             [
              0.2222222222222222,
              "#7201a8"
             ],
             [
              0.3333333333333333,
              "#9c179e"
             ],
             [
              0.4444444444444444,
              "#bd3786"
             ],
             [
              0.5555555555555556,
              "#d8576b"
             ],
             [
              0.6666666666666666,
              "#ed7953"
             ],
             [
              0.7777777777777778,
              "#fb9f3a"
             ],
             [
              0.8888888888888888,
              "#fdca26"
             ],
             [
              1,
              "#f0f921"
             ]
            ],
            "type": "histogram2dcontour"
           }
          ],
          "mesh3d": [
           {
            "colorbar": {
             "outlinewidth": 0,
             "ticks": ""
            },
            "type": "mesh3d"
           }
          ],
          "parcoords": [
           {
            "line": {
             "colorbar": {
              "outlinewidth": 0,
              "ticks": ""
             }
            },
            "type": "parcoords"
           }
          ],
          "pie": [
           {
            "automargin": true,
            "type": "pie"
           }
          ],
          "scatter": [
           {
            "fillpattern": {
             "fillmode": "overlay",
             "size": 10,
             "solidity": 0.2
            },
            "type": "scatter"
           }
          ],
          "scatter3d": [
           {
            "line": {
             "colorbar": {
              "outlinewidth": 0,
              "ticks": ""
             }
            },
            "marker": {
             "colorbar": {
              "outlinewidth": 0,
              "ticks": ""
             }
            },
            "type": "scatter3d"
           }
          ],
          "scattercarpet": [
           {
            "marker": {
             "colorbar": {
              "outlinewidth": 0,
              "ticks": ""
             }
            },
            "type": "scattercarpet"
           }
          ],
          "scattergeo": [
           {
            "marker": {
             "colorbar": {
              "outlinewidth": 0,
              "ticks": ""
             }
            },
            "type": "scattergeo"
           }
          ],
          "scattergl": [
           {
            "marker": {
             "colorbar": {
              "outlinewidth": 0,
              "ticks": ""
             }
            },
            "type": "scattergl"
           }
          ],
          "scattermap": [
           {
            "marker": {
             "colorbar": {
              "outlinewidth": 0,
              "ticks": ""
             }
            },
            "type": "scattermap"
           }
          ],
          "scattermapbox": [
           {
            "marker": {
             "colorbar": {
              "outlinewidth": 0,
              "ticks": ""
             }
            },
            "type": "scattermapbox"
           }
          ],
          "scatterpolar": [
           {
            "marker": {
             "colorbar": {
              "outlinewidth": 0,
              "ticks": ""
             }
            },
            "type": "scatterpolar"
           }
          ],
          "scatterpolargl": [
           {
            "marker": {
             "colorbar": {
              "outlinewidth": 0,
              "ticks": ""
             }
            },
            "type": "scatterpolargl"
           }
          ],
          "scatterternary": [
           {
            "marker": {
             "colorbar": {
              "outlinewidth": 0,
              "ticks": ""
             }
            },
            "type": "scatterternary"
           }
          ],
          "surface": [
           {
            "colorbar": {
             "outlinewidth": 0,
             "ticks": ""
            },
            "colorscale": [
             [
              0,
              "#0d0887"
             ],
             [
              0.1111111111111111,
              "#46039f"
             ],
             [
              0.2222222222222222,
              "#7201a8"
             ],
             [
              0.3333333333333333,
              "#9c179e"
             ],
             [
              0.4444444444444444,
              "#bd3786"
             ],
             [
              0.5555555555555556,
              "#d8576b"
             ],
             [
              0.6666666666666666,
              "#ed7953"
             ],
             [
              0.7777777777777778,
              "#fb9f3a"
             ],
             [
              0.8888888888888888,
              "#fdca26"
             ],
             [
              1,
              "#f0f921"
             ]
            ],
            "type": "surface"
           }
          ],
          "table": [
           {
            "cells": {
             "fill": {
              "color": "#EBF0F8"
             },
             "line": {
              "color": "white"
             }
            },
            "header": {
             "fill": {
              "color": "#C8D4E3"
             },
             "line": {
              "color": "white"
             }
            },
            "type": "table"
           }
          ]
         },
         "layout": {
          "annotationdefaults": {
           "arrowcolor": "#2a3f5f",
           "arrowhead": 0,
           "arrowwidth": 1
          },
          "autotypenumbers": "strict",
          "coloraxis": {
           "colorbar": {
            "outlinewidth": 0,
            "ticks": ""
           }
          },
          "colorscale": {
           "diverging": [
            [
             0,
             "#8e0152"
            ],
            [
             0.1,
             "#c51b7d"
            ],
            [
             0.2,
             "#de77ae"
            ],
            [
             0.3,
             "#f1b6da"
            ],
            [
             0.4,
             "#fde0ef"
            ],
            [
             0.5,
             "#f7f7f7"
            ],
            [
             0.6,
             "#e6f5d0"
            ],
            [
             0.7,
             "#b8e186"
            ],
            [
             0.8,
             "#7fbc41"
            ],
            [
             0.9,
             "#4d9221"
            ],
            [
             1,
             "#276419"
            ]
           ],
           "sequential": [
            [
             0,
             "#0d0887"
            ],
            [
             0.1111111111111111,
             "#46039f"
            ],
            [
             0.2222222222222222,
             "#7201a8"
            ],
            [
             0.3333333333333333,
             "#9c179e"
            ],
            [
             0.4444444444444444,
             "#bd3786"
            ],
            [
             0.5555555555555556,
             "#d8576b"
            ],
            [
             0.6666666666666666,
             "#ed7953"
            ],
            [
             0.7777777777777778,
             "#fb9f3a"
            ],
            [
             0.8888888888888888,
             "#fdca26"
            ],
            [
             1,
             "#f0f921"
            ]
           ],
           "sequentialminus": [
            [
             0,
             "#0d0887"
            ],
            [
             0.1111111111111111,
             "#46039f"
            ],
            [
             0.2222222222222222,
             "#7201a8"
            ],
            [
             0.3333333333333333,
             "#9c179e"
            ],
            [
             0.4444444444444444,
             "#bd3786"
            ],
            [
             0.5555555555555556,
             "#d8576b"
            ],
            [
             0.6666666666666666,
             "#ed7953"
            ],
            [
             0.7777777777777778,
             "#fb9f3a"
            ],
            [
             0.8888888888888888,
             "#fdca26"
            ],
            [
             1,
             "#f0f921"
            ]
           ]
          },
          "colorway": [
           "#636efa",
           "#EF553B",
           "#00cc96",
           "#ab63fa",
           "#FFA15A",
           "#19d3f3",
           "#FF6692",
           "#B6E880",
           "#FF97FF",
           "#FECB52"
          ],
          "font": {
           "color": "#2a3f5f"
          },
          "geo": {
           "bgcolor": "white",
           "lakecolor": "white",
           "landcolor": "white",
           "showlakes": true,
           "showland": true,
           "subunitcolor": "#C8D4E3"
          },
          "hoverlabel": {
           "align": "left"
          },
          "hovermode": "closest",
          "mapbox": {
           "style": "light"
          },
          "paper_bgcolor": "white",
          "plot_bgcolor": "white",
          "polar": {
           "angularaxis": {
            "gridcolor": "#EBF0F8",
            "linecolor": "#EBF0F8",
            "ticks": ""
           },
           "bgcolor": "white",
           "radialaxis": {
            "gridcolor": "#EBF0F8",
            "linecolor": "#EBF0F8",
            "ticks": ""
           }
          },
          "scene": {
           "xaxis": {
            "backgroundcolor": "white",
            "gridcolor": "#DFE8F3",
            "gridwidth": 2,
            "linecolor": "#EBF0F8",
            "showbackground": true,
            "ticks": "",
            "zerolinecolor": "#EBF0F8"
           },
           "yaxis": {
            "backgroundcolor": "white",
            "gridcolor": "#DFE8F3",
            "gridwidth": 2,
            "linecolor": "#EBF0F8",
            "showbackground": true,
            "ticks": "",
            "zerolinecolor": "#EBF0F8"
           },
           "zaxis": {
            "backgroundcolor": "white",
            "gridcolor": "#DFE8F3",
            "gridwidth": 2,
            "linecolor": "#EBF0F8",
            "showbackground": true,
            "ticks": "",
            "zerolinecolor": "#EBF0F8"
           }
          },
          "shapedefaults": {
           "line": {
            "color": "#2a3f5f"
           }
          },
          "ternary": {
           "aaxis": {
            "gridcolor": "#DFE8F3",
            "linecolor": "#A2B1C6",
            "ticks": ""
           },
           "baxis": {
            "gridcolor": "#DFE8F3",
            "linecolor": "#A2B1C6",
            "ticks": ""
           },
           "bgcolor": "white",
           "caxis": {
            "gridcolor": "#DFE8F3",
            "linecolor": "#A2B1C6",
            "ticks": ""
           }
          },
          "title": {
           "x": 0.05
          },
          "xaxis": {
           "automargin": true,
           "gridcolor": "#EBF0F8",
           "linecolor": "#EBF0F8",
           "ticks": "",
           "title": {
            "standoff": 15
           },
           "zerolinecolor": "#EBF0F8",
           "zerolinewidth": 2
          },
          "yaxis": {
           "automargin": true,
           "gridcolor": "#EBF0F8",
           "linecolor": "#EBF0F8",
           "ticks": "",
           "title": {
            "standoff": 15
           },
           "zerolinecolor": "#EBF0F8",
           "zerolinewidth": 2
          }
         }
        },
        "title": {
         "text": "Energía de Referencia para el Mercado Secundario"
        },
        "xaxis": {
         "title": {
          "text": "Fecha"
         }
        },
        "yaxis": {
         "title": {
          "text": "MWh"
         }
        }
       }
      }
     },
     "metadata": {},
     "output_type": "display_data"
    }
   ],
   "source": [
    "# Categoría: Referencia\n",
    "referencia_vars = [\"EnergiaReferenciaMercadoSecundario\", \"VCMSTotales\"]                                             # Variables que se usarán en la gráfica\n",
    "plot_time_series(df_filtrado_grouped, \"Fecha\", referencia_vars, \"Energía de Referencia para el Mercado Secundario\") # Llamado a la función creada para graficar"
   ]
  }
 ],
 "metadata": {
  "kernelspec": {
   "display_name": ".venv",
   "language": "python",
   "name": "python3"
  },
  "language_info": {
   "codemirror_mode": {
    "name": "ipython",
    "version": 3
   },
   "file_extension": ".py",
   "mimetype": "text/x-python",
   "name": "python",
   "nbconvert_exporter": "python",
   "pygments_lexer": "ipython3",
   "version": "3.13.5"
  }
 },
 "nbformat": 4,
 "nbformat_minor": 2
}
