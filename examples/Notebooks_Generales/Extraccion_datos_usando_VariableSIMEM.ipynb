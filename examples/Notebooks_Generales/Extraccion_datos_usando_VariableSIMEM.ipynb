{
 "cells": [
  {
   "cell_type": "markdown",
   "metadata": {},
   "source": [
    "![SIMEM_logo_1.png](../../assets/SIMEM_logo_1.png)\n",
    "\n",
    "\n",
    "[SiMEM](https://www.simem.co/)"
   ]
  },
  {
   "cell_type": "markdown",
   "metadata": {},
   "source": [
    "## Objetivos de este Notebook\n",
    "\n",
    "* Explicar cómo se puede consultar información de una variable predeterminada.\n",
    "\n",
    "## Índice\n",
    "\n",
    "1. [Importación de la clase VariableSIMEM](#section1)\n",
    "\n",
    "2. [Consultar el listado de variables disponibles](#section2)\n",
    "\n",
    "3. [Buscar el código de una variable](#section3)\n",
    "\n",
    "4. [Consultar datos de la variable](#section4)\n"
   ]
  },
  {
   "cell_type": "markdown",
   "metadata": {},
   "source": [
    "<a id='section1'></a>\n",
    "### Importación de la clase VariableSIMEM\n",
    "\n",
    "En la siguiente celda se importa el objeto VariableSIMEM, que contiene las funciones necesarias para cumplir los objetivos anteriormente mencionados."
   ]
  },
  {
   "cell_type": "code",
   "execution_count": 1,
   "metadata": {},
   "outputs": [],
   "source": [
    "import sys\n",
    "\n",
    "# !{sys.executable} -m pip install pydataxm    # Instala la librería pydatasimem.\n",
    "from pydataxm.pydatasimem import VariableSIMEM # Importa la libreria que fue instalada con pip install pydataxm\n",
    "import plotly.graph_objects as go\n",
    "import pandas as pd"
   ]
  },
  {
   "cell_type": "markdown",
   "metadata": {},
   "source": [
    "<a id='section2'></a>\n",
    "### Consultar el listado de variables disponibles dentro de la clase\n",
    "\n",
    "En la siguiente celda se muestra como consultar el listado de variables con el fin de buscar el código de la variable deseada."
   ]
  },
  {
   "cell_type": "code",
   "execution_count": 2,
   "metadata": {},
   "outputs": [
    {
     "data": {
      "application/vnd.microsoft.datawrangler.viewer.v0+json": {
       "columns": [
        {
         "name": "index",
         "rawType": "int64",
         "type": "integer"
        },
        {
         "name": "CodigoVariable",
         "rawType": "object",
         "type": "string"
        },
        {
         "name": "Nombre",
         "rawType": "object",
         "type": "string"
        },
        {
         "name": "Dimensiones",
         "rawType": "object",
         "type": "unknown"
        }
       ],
       "ref": "2f26b362-9d43-4b2a-ab5b-85fd25d60570",
       "rows": [
        [
         "0",
         "AportesHidricosEnergia",
         "Aportes hídricos de las series hidrológicas expresados en energía",
         "['CodigoSerieHidrologica', 'RegionHidrologica', 'Fecha']"
        ],
        [
         "1",
         "AportesHidricosMasa",
         "Aportes hídricos de las series hidrológicas",
         "['CodigoSerieHidrologica', 'RegionHidrologica', 'Fecha']"
        ],
        [
         "2",
         "AportesHidricosMasaPSS95",
         "Aportes hídricos para un 95% de Probabilidad de Ser Superado (PSS)",
         "['CodigoSerieHidrologica', 'RegionHidrologica', 'Fecha']"
        ],
        [
         "3",
         "CantidadVentasContratosSICEP",
         "Cantidad ventas en contratos del SICEP",
         "['Version', 'FechaHora']"
        ],
        [
         "4",
         "CapacidadAsignada",
         "Capacidad asignada al proyecto con reserva",
         "['FechaActualizacion']"
        ]
       ],
       "shape": {
        "columns": 3,
        "rows": 5
       }
      },
      "text/html": [
       "<div>\n",
       "<style scoped>\n",
       "    .dataframe tbody tr th:only-of-type {\n",
       "        vertical-align: middle;\n",
       "    }\n",
       "\n",
       "    .dataframe tbody tr th {\n",
       "        vertical-align: top;\n",
       "    }\n",
       "\n",
       "    .dataframe thead th {\n",
       "        text-align: right;\n",
       "    }\n",
       "</style>\n",
       "<table border=\"1\" class=\"dataframe\">\n",
       "  <thead>\n",
       "    <tr style=\"text-align: right;\">\n",
       "      <th></th>\n",
       "      <th>CodigoVariable</th>\n",
       "      <th>Nombre</th>\n",
       "      <th>Dimensiones</th>\n",
       "    </tr>\n",
       "  </thead>\n",
       "  <tbody>\n",
       "    <tr>\n",
       "      <th>0</th>\n",
       "      <td>AportesHidricosEnergia</td>\n",
       "      <td>Aportes hídricos de las series hidrológicas ex...</td>\n",
       "      <td>[CodigoSerieHidrologica, RegionHidrologica, Fe...</td>\n",
       "    </tr>\n",
       "    <tr>\n",
       "      <th>1</th>\n",
       "      <td>AportesHidricosMasa</td>\n",
       "      <td>Aportes hídricos de las series hidrológicas</td>\n",
       "      <td>[CodigoSerieHidrologica, RegionHidrologica, Fe...</td>\n",
       "    </tr>\n",
       "    <tr>\n",
       "      <th>2</th>\n",
       "      <td>AportesHidricosMasaPSS95</td>\n",
       "      <td>Aportes hídricos para un 95% de Probabilidad d...</td>\n",
       "      <td>[CodigoSerieHidrologica, RegionHidrologica, Fe...</td>\n",
       "    </tr>\n",
       "    <tr>\n",
       "      <th>3</th>\n",
       "      <td>CantidadVentasContratosSICEP</td>\n",
       "      <td>Cantidad ventas en contratos del SICEP</td>\n",
       "      <td>[Version, FechaHora]</td>\n",
       "    </tr>\n",
       "    <tr>\n",
       "      <th>4</th>\n",
       "      <td>CapacidadAsignada</td>\n",
       "      <td>Capacidad asignada al proyecto con reserva</td>\n",
       "      <td>[FechaActualizacion]</td>\n",
       "    </tr>\n",
       "  </tbody>\n",
       "</table>\n",
       "</div>"
      ],
      "text/plain": [
       "                 CodigoVariable  \\\n",
       "0        AportesHidricosEnergia   \n",
       "1           AportesHidricosMasa   \n",
       "2      AportesHidricosMasaPSS95   \n",
       "3  CantidadVentasContratosSICEP   \n",
       "4             CapacidadAsignada   \n",
       "\n",
       "                                              Nombre  \\\n",
       "0  Aportes hídricos de las series hidrológicas ex...   \n",
       "1        Aportes hídricos de las series hidrológicas   \n",
       "2  Aportes hídricos para un 95% de Probabilidad d...   \n",
       "3             Cantidad ventas en contratos del SICEP   \n",
       "4         Capacidad asignada al proyecto con reserva   \n",
       "\n",
       "                                         Dimensiones  \n",
       "0  [CodigoSerieHidrologica, RegionHidrologica, Fe...  \n",
       "1  [CodigoSerieHidrologica, RegionHidrologica, Fe...  \n",
       "2  [CodigoSerieHidrologica, RegionHidrologica, Fe...  \n",
       "3                               [Version, FechaHora]  \n",
       "4                               [FechaActualizacion]  "
      ]
     },
     "execution_count": 2,
     "metadata": {},
     "output_type": "execute_result"
    }
   ],
   "source": [
    "lisatado_variables = VariableSIMEM.get_collection() # Obtiene el listado de variables que se pueden usar dentro de VariableSIMEM\n",
    "lisatado_variables.head()                           # Imprime los primeros 5 registros del listado de variables"
   ]
  },
  {
   "cell_type": "markdown",
   "metadata": {},
   "source": [
    "<a id='section3'></a>\n",
    "### Buscar el código de una variable de interes\n",
    "\n",
    "En la siguiente celda se muestra como consultar el código de una variable a través de su nombre"
   ]
  },
  {
   "cell_type": "code",
   "execution_count": 3,
   "metadata": {},
   "outputs": [
    {
     "name": "stdout",
     "output_type": "stream",
     "text": [
      "['MPO_Int' 'MPO_Nal' 'MPO_Tie' 'PAR_Ofertado' 'PB_Int' 'PB_Nal' 'PB_Tie'\n",
      " 'PMaximoCargoConfi' 'POf_Original' 'PONE_ExpCol' 'PPBO' 'PPBOGReal'\n",
      " 'PrecioEscasez' 'PrecioEscasezActivacion' 'PrecioEscasezInferior'\n",
      " 'PrecioEscasezPonderado' 'PrecioEscasezPonderadoAgente'\n",
      " 'PrecioEscasezSuperior' 'PrecioMarginalEscasez'\n",
      " 'PrecioOfertaArranqueParadaCOP' 'PrecioOfertaArranqueParadaUSD'\n",
      " 'PrecioOfertaConfiguracion' 'PTB']\n"
     ]
    }
   ],
   "source": [
    "nombre_variable = 'Precio' # Nombre de la variable que se desea buscar\n",
    "cod_variable = lisatado_variables.query(\"Nombre.str.lower().str.contains(@nombre_variable.lower())\")['CodigoVariable'].values # Busca el nombre dentro del listado de variables\n",
    "print(cod_variable)        # Imprime los códigos de las variables que coinciden con el nombre"
   ]
  },
  {
   "cell_type": "markdown",
   "metadata": {},
   "source": [
    "Una vez obtenido el código de la variable de interés, se debe inicializar una instancia de la clase VariableSIMEM con este y dos fechas de interés, para poder obtener la información de la variable."
   ]
  },
  {
   "cell_type": "code",
   "execution_count": 4,
   "metadata": {},
   "outputs": [],
   "source": [
    "cod_variable = 'PrecioEscasez' # Código de la variable deseada\n",
    "fecha_inicio = '2024-01-01'    # Fecha inicial de los datos\n",
    "fecha_fin = '2024-12-31'       # Fecha final de los datos\n",
    "\n",
    "variable = VariableSIMEM(cod_variable, fecha_inicio, fecha_fin) # Se inicializa el objeto VariableSIMEM"
   ]
  },
  {
   "cell_type": "markdown",
   "metadata": {},
   "source": [
    "<a id='section4'></a>\n",
    "### Consultar datos de la variable\n",
    "\n",
    "En este caso se desea con sultar la información del `Precio de Escasez` durante el 2024"
   ]
  },
  {
   "cell_type": "code",
   "execution_count": 5,
   "metadata": {},
   "outputs": [
    {
     "name": "stdout",
     "output_type": "stream",
     "text": [
      "****************************************************************************************************\n",
      "Initializing object\n",
      "The object has been initialized with the dataset: \"Precios de escasez del Cargo por Confiabilidad\"\n",
      "****************************************************************************************************\n",
      "Inicio consulta sincronica\n",
      "Creacion url: 0.0018765926361083984\n",
      "Extraccion de registros: 3.627126932144165\n",
      "End of data extracting process\n",
      "****************************************************************************************************\n"
     ]
    },
    {
     "data": {
      "application/vnd.microsoft.datawrangler.viewer.v0+json": {
       "columns": [
        {
         "name": "Fecha",
         "rawType": "object",
         "type": "string"
        },
        {
         "name": "CodigoVariable",
         "rawType": "object",
         "type": "string"
        },
        {
         "name": "CodigoDuracion",
         "rawType": "object",
         "type": "string"
        },
        {
         "name": "Valor",
         "rawType": "float64",
         "type": "float"
        }
       ],
       "ref": "d71a9e9d-1540-4dc4-845d-c96f789e3fd6",
       "rows": [
        [
         "2024-12-01",
         "PrecioEscasez",
         "P1M",
         "798.7259"
        ],
        [
         "2024-11-01",
         "PrecioEscasez",
         "P1M",
         "811.9274"
        ],
        [
         "2024-10-01",
         "PrecioEscasez",
         "P1M",
         "751.3103"
        ],
        [
         "2024-09-01",
         "PrecioEscasez",
         "P1M",
         "785.0686"
        ],
        [
         "2024-08-01",
         "PrecioEscasez",
         "P1M",
         "818.3814"
        ],
        [
         "2024-07-01",
         "PrecioEscasez",
         "P1M",
         "810.7083"
        ],
        [
         "2024-06-01",
         "PrecioEscasez",
         "P1M",
         "766.5341"
        ],
        [
         "2024-05-01",
         "PrecioEscasez",
         "P1M",
         "793.3028"
        ],
        [
         "2024-04-01",
         "PrecioEscasez",
         "P1M",
         "742.6505"
        ],
        [
         "2024-03-01",
         "PrecioEscasez",
         "P1M",
         "727.8256"
        ],
        [
         "2024-02-01",
         "PrecioEscasez",
         "P1M",
         "745.6851"
        ],
        [
         "2024-01-01",
         "PrecioEscasez",
         "P1M",
         "739.8685"
        ]
       ],
       "shape": {
        "columns": 3,
        "rows": 12
       }
      },
      "text/html": [
       "<div>\n",
       "<style scoped>\n",
       "    .dataframe tbody tr th:only-of-type {\n",
       "        vertical-align: middle;\n",
       "    }\n",
       "\n",
       "    .dataframe tbody tr th {\n",
       "        vertical-align: top;\n",
       "    }\n",
       "\n",
       "    .dataframe thead th {\n",
       "        text-align: right;\n",
       "    }\n",
       "</style>\n",
       "<table border=\"1\" class=\"dataframe\">\n",
       "  <thead>\n",
       "    <tr style=\"text-align: right;\">\n",
       "      <th></th>\n",
       "      <th>CodigoVariable</th>\n",
       "      <th>CodigoDuracion</th>\n",
       "      <th>Valor</th>\n",
       "    </tr>\n",
       "    <tr>\n",
       "      <th>Fecha</th>\n",
       "      <th></th>\n",
       "      <th></th>\n",
       "      <th></th>\n",
       "    </tr>\n",
       "  </thead>\n",
       "  <tbody>\n",
       "    <tr>\n",
       "      <th>2024-12-01</th>\n",
       "      <td>PrecioEscasez</td>\n",
       "      <td>P1M</td>\n",
       "      <td>798.7259</td>\n",
       "    </tr>\n",
       "    <tr>\n",
       "      <th>2024-11-01</th>\n",
       "      <td>PrecioEscasez</td>\n",
       "      <td>P1M</td>\n",
       "      <td>811.9274</td>\n",
       "    </tr>\n",
       "    <tr>\n",
       "      <th>2024-10-01</th>\n",
       "      <td>PrecioEscasez</td>\n",
       "      <td>P1M</td>\n",
       "      <td>751.3103</td>\n",
       "    </tr>\n",
       "    <tr>\n",
       "      <th>2024-09-01</th>\n",
       "      <td>PrecioEscasez</td>\n",
       "      <td>P1M</td>\n",
       "      <td>785.0686</td>\n",
       "    </tr>\n",
       "    <tr>\n",
       "      <th>2024-08-01</th>\n",
       "      <td>PrecioEscasez</td>\n",
       "      <td>P1M</td>\n",
       "      <td>818.3814</td>\n",
       "    </tr>\n",
       "    <tr>\n",
       "      <th>2024-07-01</th>\n",
       "      <td>PrecioEscasez</td>\n",
       "      <td>P1M</td>\n",
       "      <td>810.7083</td>\n",
       "    </tr>\n",
       "    <tr>\n",
       "      <th>2024-06-01</th>\n",
       "      <td>PrecioEscasez</td>\n",
       "      <td>P1M</td>\n",
       "      <td>766.5341</td>\n",
       "    </tr>\n",
       "    <tr>\n",
       "      <th>2024-05-01</th>\n",
       "      <td>PrecioEscasez</td>\n",
       "      <td>P1M</td>\n",
       "      <td>793.3028</td>\n",
       "    </tr>\n",
       "    <tr>\n",
       "      <th>2024-04-01</th>\n",
       "      <td>PrecioEscasez</td>\n",
       "      <td>P1M</td>\n",
       "      <td>742.6505</td>\n",
       "    </tr>\n",
       "    <tr>\n",
       "      <th>2024-03-01</th>\n",
       "      <td>PrecioEscasez</td>\n",
       "      <td>P1M</td>\n",
       "      <td>727.8256</td>\n",
       "    </tr>\n",
       "    <tr>\n",
       "      <th>2024-02-01</th>\n",
       "      <td>PrecioEscasez</td>\n",
       "      <td>P1M</td>\n",
       "      <td>745.6851</td>\n",
       "    </tr>\n",
       "    <tr>\n",
       "      <th>2024-01-01</th>\n",
       "      <td>PrecioEscasez</td>\n",
       "      <td>P1M</td>\n",
       "      <td>739.8685</td>\n",
       "    </tr>\n",
       "  </tbody>\n",
       "</table>\n",
       "</div>"
      ],
      "text/plain": [
       "           CodigoVariable CodigoDuracion     Valor\n",
       "Fecha                                             \n",
       "2024-12-01  PrecioEscasez            P1M  798.7259\n",
       "2024-11-01  PrecioEscasez            P1M  811.9274\n",
       "2024-10-01  PrecioEscasez            P1M  751.3103\n",
       "2024-09-01  PrecioEscasez            P1M  785.0686\n",
       "2024-08-01  PrecioEscasez            P1M  818.3814\n",
       "2024-07-01  PrecioEscasez            P1M  810.7083\n",
       "2024-06-01  PrecioEscasez            P1M  766.5341\n",
       "2024-05-01  PrecioEscasez            P1M  793.3028\n",
       "2024-04-01  PrecioEscasez            P1M  742.6505\n",
       "2024-03-01  PrecioEscasez            P1M  727.8256\n",
       "2024-02-01  PrecioEscasez            P1M  745.6851\n",
       "2024-01-01  PrecioEscasez            P1M  739.8685"
      ]
     },
     "execution_count": 5,
     "metadata": {},
     "output_type": "execute_result"
    }
   ],
   "source": [
    "data = variable.get_data() # Obtiene los datos de la variable\n",
    "data"
   ]
  },
  {
   "cell_type": "markdown",
   "metadata": {},
   "source": [
    "### Graficar la serie de tiempo de la variable\n",
    "\n",
    "Teniendo ya la información consultada del 2024 para el `Precio de Escasez` graficaremos como es su comportamiento a lo largo del tiempo."
   ]
  },
  {
   "cell_type": "code",
   "execution_count": 6,
   "metadata": {},
   "outputs": [
    {
     "data": {
      "application/vnd.plotly.v1+json": {
       "config": {
        "plotlyServerURL": "https://plot.ly"
       },
       "data": [
        {
         "mode": "lines",
         "name": "Valor",
         "type": "scatter",
         "x": [
          "2024-01-01T00:00:00",
          "2024-02-01T00:00:00",
          "2024-03-01T00:00:00",
          "2024-04-01T00:00:00",
          "2024-05-01T00:00:00",
          "2024-06-01T00:00:00",
          "2024-07-01T00:00:00",
          "2024-08-01T00:00:00",
          "2024-09-01T00:00:00",
          "2024-10-01T00:00:00",
          "2024-11-01T00:00:00",
          "2024-12-01T00:00:00"
         ],
         "y": [
          739.8685,
          745.6851,
          727.8256,
          742.6505,
          793.3028,
          766.5341,
          810.7083,
          818.3814,
          785.0686,
          751.3103,
          811.9274,
          798.7259
         ]
        }
       ],
       "layout": {
        "template": {
         "data": {
          "bar": [
           {
            "error_x": {
             "color": "#2a3f5f"
            },
            "error_y": {
             "color": "#2a3f5f"
            },
            "marker": {
             "line": {
              "color": "white",
              "width": 0.5
             },
             "pattern": {
              "fillmode": "overlay",
              "size": 10,
              "solidity": 0.2
             }
            },
            "type": "bar"
           }
          ],
          "barpolar": [
           {
            "marker": {
             "line": {
              "color": "white",
              "width": 0.5
             },
             "pattern": {
              "fillmode": "overlay",
              "size": 10,
              "solidity": 0.2
             }
            },
            "type": "barpolar"
           }
          ],
          "carpet": [
           {
            "aaxis": {
             "endlinecolor": "#2a3f5f",
             "gridcolor": "#C8D4E3",
             "linecolor": "#C8D4E3",
             "minorgridcolor": "#C8D4E3",
             "startlinecolor": "#2a3f5f"
            },
            "baxis": {
             "endlinecolor": "#2a3f5f",
             "gridcolor": "#C8D4E3",
             "linecolor": "#C8D4E3",
             "minorgridcolor": "#C8D4E3",
             "startlinecolor": "#2a3f5f"
            },
            "type": "carpet"
           }
          ],
          "choropleth": [
           {
            "colorbar": {
             "outlinewidth": 0,
             "ticks": ""
            },
            "type": "choropleth"
           }
          ],
          "contour": [
           {
            "colorbar": {
             "outlinewidth": 0,
             "ticks": ""
            },
            "colorscale": [
             [
              0,
              "#0d0887"
             ],
             [
              0.1111111111111111,
              "#46039f"
             ],
             [
              0.2222222222222222,
              "#7201a8"
             ],
             [
              0.3333333333333333,
              "#9c179e"
             ],
             [
              0.4444444444444444,
              "#bd3786"
             ],
             [
              0.5555555555555556,
              "#d8576b"
             ],
             [
              0.6666666666666666,
              "#ed7953"
             ],
             [
              0.7777777777777778,
              "#fb9f3a"
             ],
             [
              0.8888888888888888,
              "#fdca26"
             ],
             [
              1,
              "#f0f921"
             ]
            ],
            "type": "contour"
           }
          ],
          "contourcarpet": [
           {
            "colorbar": {
             "outlinewidth": 0,
             "ticks": ""
            },
            "type": "contourcarpet"
           }
          ],
          "heatmap": [
           {
            "colorbar": {
             "outlinewidth": 0,
             "ticks": ""
            },
            "colorscale": [
             [
              0,
              "#0d0887"
             ],
             [
              0.1111111111111111,
              "#46039f"
             ],
             [
              0.2222222222222222,
              "#7201a8"
             ],
             [
              0.3333333333333333,
              "#9c179e"
             ],
             [
              0.4444444444444444,
              "#bd3786"
             ],
             [
              0.5555555555555556,
              "#d8576b"
             ],
             [
              0.6666666666666666,
              "#ed7953"
             ],
             [
              0.7777777777777778,
              "#fb9f3a"
             ],
             [
              0.8888888888888888,
              "#fdca26"
             ],
             [
              1,
              "#f0f921"
             ]
            ],
            "type": "heatmap"
           }
          ],
          "heatmapgl": [
           {
            "colorbar": {
             "outlinewidth": 0,
             "ticks": ""
            },
            "colorscale": [
             [
              0,
              "#0d0887"
             ],
             [
              0.1111111111111111,
              "#46039f"
             ],
             [
              0.2222222222222222,
              "#7201a8"
             ],
             [
              0.3333333333333333,
              "#9c179e"
             ],
             [
              0.4444444444444444,
              "#bd3786"
             ],
             [
              0.5555555555555556,
              "#d8576b"
             ],
             [
              0.6666666666666666,
              "#ed7953"
             ],
             [
              0.7777777777777778,
              "#fb9f3a"
             ],
             [
              0.8888888888888888,
              "#fdca26"
             ],
             [
              1,
              "#f0f921"
             ]
            ],
            "type": "heatmapgl"
           }
          ],
          "histogram": [
           {
            "marker": {
             "pattern": {
              "fillmode": "overlay",
              "size": 10,
              "solidity": 0.2
             }
            },
            "type": "histogram"
           }
          ],
          "histogram2d": [
           {
            "colorbar": {
             "outlinewidth": 0,
             "ticks": ""
            },
            "colorscale": [
             [
              0,
              "#0d0887"
             ],
             [
              0.1111111111111111,
              "#46039f"
             ],
             [
              0.2222222222222222,
              "#7201a8"
             ],
             [
              0.3333333333333333,
              "#9c179e"
             ],
             [
              0.4444444444444444,
              "#bd3786"
             ],
             [
              0.5555555555555556,
              "#d8576b"
             ],
             [
              0.6666666666666666,
              "#ed7953"
             ],
             [
              0.7777777777777778,
              "#fb9f3a"
             ],
             [
              0.8888888888888888,
              "#fdca26"
             ],
             [
              1,
              "#f0f921"
             ]
            ],
            "type": "histogram2d"
           }
          ],
          "histogram2dcontour": [
           {
            "colorbar": {
             "outlinewidth": 0,
             "ticks": ""
            },
            "colorscale": [
             [
              0,
              "#0d0887"
             ],
             [
              0.1111111111111111,
              "#46039f"
             ],
             [
              0.2222222222222222,
              "#7201a8"
             ],
             [
              0.3333333333333333,
              "#9c179e"
             ],
             [
              0.4444444444444444,
              "#bd3786"
             ],
             [
              0.5555555555555556,
              "#d8576b"
             ],
             [
              0.6666666666666666,
              "#ed7953"
             ],
             [
              0.7777777777777778,
              "#fb9f3a"
             ],
             [
              0.8888888888888888,
              "#fdca26"
             ],
             [
              1,
              "#f0f921"
             ]
            ],
            "type": "histogram2dcontour"
           }
          ],
          "mesh3d": [
           {
            "colorbar": {
             "outlinewidth": 0,
             "ticks": ""
            },
            "type": "mesh3d"
           }
          ],
          "parcoords": [
           {
            "line": {
             "colorbar": {
              "outlinewidth": 0,
              "ticks": ""
             }
            },
            "type": "parcoords"
           }
          ],
          "pie": [
           {
            "automargin": true,
            "type": "pie"
           }
          ],
          "scatter": [
           {
            "fillpattern": {
             "fillmode": "overlay",
             "size": 10,
             "solidity": 0.2
            },
            "type": "scatter"
           }
          ],
          "scatter3d": [
           {
            "line": {
             "colorbar": {
              "outlinewidth": 0,
              "ticks": ""
             }
            },
            "marker": {
             "colorbar": {
              "outlinewidth": 0,
              "ticks": ""
             }
            },
            "type": "scatter3d"
           }
          ],
          "scattercarpet": [
           {
            "marker": {
             "colorbar": {
              "outlinewidth": 0,
              "ticks": ""
             }
            },
            "type": "scattercarpet"
           }
          ],
          "scattergeo": [
           {
            "marker": {
             "colorbar": {
              "outlinewidth": 0,
              "ticks": ""
             }
            },
            "type": "scattergeo"
           }
          ],
          "scattergl": [
           {
            "marker": {
             "colorbar": {
              "outlinewidth": 0,
              "ticks": ""
             }
            },
            "type": "scattergl"
           }
          ],
          "scattermapbox": [
           {
            "marker": {
             "colorbar": {
              "outlinewidth": 0,
              "ticks": ""
             }
            },
            "type": "scattermapbox"
           }
          ],
          "scatterpolar": [
           {
            "marker": {
             "colorbar": {
              "outlinewidth": 0,
              "ticks": ""
             }
            },
            "type": "scatterpolar"
           }
          ],
          "scatterpolargl": [
           {
            "marker": {
             "colorbar": {
              "outlinewidth": 0,
              "ticks": ""
             }
            },
            "type": "scatterpolargl"
           }
          ],
          "scatterternary": [
           {
            "marker": {
             "colorbar": {
              "outlinewidth": 0,
              "ticks": ""
             }
            },
            "type": "scatterternary"
           }
          ],
          "surface": [
           {
            "colorbar": {
             "outlinewidth": 0,
             "ticks": ""
            },
            "colorscale": [
             [
              0,
              "#0d0887"
             ],
             [
              0.1111111111111111,
              "#46039f"
             ],
             [
              0.2222222222222222,
              "#7201a8"
             ],
             [
              0.3333333333333333,
              "#9c179e"
             ],
             [
              0.4444444444444444,
              "#bd3786"
             ],
             [
              0.5555555555555556,
              "#d8576b"
             ],
             [
              0.6666666666666666,
              "#ed7953"
             ],
             [
              0.7777777777777778,
              "#fb9f3a"
             ],
             [
              0.8888888888888888,
              "#fdca26"
             ],
             [
              1,
              "#f0f921"
             ]
            ],
            "type": "surface"
           }
          ],
          "table": [
           {
            "cells": {
             "fill": {
              "color": "#EBF0F8"
             },
             "line": {
              "color": "white"
             }
            },
            "header": {
             "fill": {
              "color": "#C8D4E3"
             },
             "line": {
              "color": "white"
             }
            },
            "type": "table"
           }
          ]
         },
         "layout": {
          "annotationdefaults": {
           "arrowcolor": "#2a3f5f",
           "arrowhead": 0,
           "arrowwidth": 1
          },
          "autotypenumbers": "strict",
          "coloraxis": {
           "colorbar": {
            "outlinewidth": 0,
            "ticks": ""
           }
          },
          "colorscale": {
           "diverging": [
            [
             0,
             "#8e0152"
            ],
            [
             0.1,
             "#c51b7d"
            ],
            [
             0.2,
             "#de77ae"
            ],
            [
             0.3,
             "#f1b6da"
            ],
            [
             0.4,
             "#fde0ef"
            ],
            [
             0.5,
             "#f7f7f7"
            ],
            [
             0.6,
             "#e6f5d0"
            ],
            [
             0.7,
             "#b8e186"
            ],
            [
             0.8,
             "#7fbc41"
            ],
            [
             0.9,
             "#4d9221"
            ],
            [
             1,
             "#276419"
            ]
           ],
           "sequential": [
            [
             0,
             "#0d0887"
            ],
            [
             0.1111111111111111,
             "#46039f"
            ],
            [
             0.2222222222222222,
             "#7201a8"
            ],
            [
             0.3333333333333333,
             "#9c179e"
            ],
            [
             0.4444444444444444,
             "#bd3786"
            ],
            [
             0.5555555555555556,
             "#d8576b"
            ],
            [
             0.6666666666666666,
             "#ed7953"
            ],
            [
             0.7777777777777778,
             "#fb9f3a"
            ],
            [
             0.8888888888888888,
             "#fdca26"
            ],
            [
             1,
             "#f0f921"
            ]
           ],
           "sequentialminus": [
            [
             0,
             "#0d0887"
            ],
            [
             0.1111111111111111,
             "#46039f"
            ],
            [
             0.2222222222222222,
             "#7201a8"
            ],
            [
             0.3333333333333333,
             "#9c179e"
            ],
            [
             0.4444444444444444,
             "#bd3786"
            ],
            [
             0.5555555555555556,
             "#d8576b"
            ],
            [
             0.6666666666666666,
             "#ed7953"
            ],
            [
             0.7777777777777778,
             "#fb9f3a"
            ],
            [
             0.8888888888888888,
             "#fdca26"
            ],
            [
             1,
             "#f0f921"
            ]
           ]
          },
          "colorway": [
           "#636efa",
           "#EF553B",
           "#00cc96",
           "#ab63fa",
           "#FFA15A",
           "#19d3f3",
           "#FF6692",
           "#B6E880",
           "#FF97FF",
           "#FECB52"
          ],
          "font": {
           "color": "#2a3f5f"
          },
          "geo": {
           "bgcolor": "white",
           "lakecolor": "white",
           "landcolor": "white",
           "showlakes": true,
           "showland": true,
           "subunitcolor": "#C8D4E3"
          },
          "hoverlabel": {
           "align": "left"
          },
          "hovermode": "closest",
          "mapbox": {
           "style": "light"
          },
          "paper_bgcolor": "white",
          "plot_bgcolor": "white",
          "polar": {
           "angularaxis": {
            "gridcolor": "#EBF0F8",
            "linecolor": "#EBF0F8",
            "ticks": ""
           },
           "bgcolor": "white",
           "radialaxis": {
            "gridcolor": "#EBF0F8",
            "linecolor": "#EBF0F8",
            "ticks": ""
           }
          },
          "scene": {
           "xaxis": {
            "backgroundcolor": "white",
            "gridcolor": "#DFE8F3",
            "gridwidth": 2,
            "linecolor": "#EBF0F8",
            "showbackground": true,
            "ticks": "",
            "zerolinecolor": "#EBF0F8"
           },
           "yaxis": {
            "backgroundcolor": "white",
            "gridcolor": "#DFE8F3",
            "gridwidth": 2,
            "linecolor": "#EBF0F8",
            "showbackground": true,
            "ticks": "",
            "zerolinecolor": "#EBF0F8"
           },
           "zaxis": {
            "backgroundcolor": "white",
            "gridcolor": "#DFE8F3",
            "gridwidth": 2,
            "linecolor": "#EBF0F8",
            "showbackground": true,
            "ticks": "",
            "zerolinecolor": "#EBF0F8"
           }
          },
          "shapedefaults": {
           "line": {
            "color": "#2a3f5f"
           }
          },
          "ternary": {
           "aaxis": {
            "gridcolor": "#DFE8F3",
            "linecolor": "#A2B1C6",
            "ticks": ""
           },
           "baxis": {
            "gridcolor": "#DFE8F3",
            "linecolor": "#A2B1C6",
            "ticks": ""
           },
           "bgcolor": "white",
           "caxis": {
            "gridcolor": "#DFE8F3",
            "linecolor": "#A2B1C6",
            "ticks": ""
           }
          },
          "title": {
           "x": 0.05
          },
          "xaxis": {
           "automargin": true,
           "gridcolor": "#EBF0F8",
           "linecolor": "#EBF0F8",
           "ticks": "",
           "title": {
            "standoff": 15
           },
           "zerolinecolor": "#EBF0F8",
           "zerolinewidth": 2
          },
          "yaxis": {
           "automargin": true,
           "gridcolor": "#EBF0F8",
           "linecolor": "#EBF0F8",
           "ticks": "",
           "title": {
            "standoff": 15
           },
           "zerolinecolor": "#EBF0F8",
           "zerolinewidth": 2
          }
         }
        },
        "title": {
         "text": "Serie de tiempo"
        },
        "xaxis": {
         "tickformat": "%d-%m-%y",
         "title": {
          "text": "Fecha"
         }
        },
        "yaxis": {
         "title": {
          "text": "Valor"
         }
        }
       }
      }
     },
     "metadata": {},
     "output_type": "display_data"
    }
   ],
   "source": [
    "df_reset = data.reset_index() # Quita el índice de fecha para porder usarla al momento de gráficar\n",
    "\n",
    "df_reset[\"Fecha\"] = pd.to_datetime(df_reset[\"Fecha\"]) # Convierte la columna a Fecha a un tipo de dato datetime\n",
    "df_reset.sort_values(by=\"Fecha\", inplace=True)        # Ordena los datos según la fecha\n",
    "\n",
    "fig = go.Figure() # Crea una figura vacía de Plotly para agregar trazos (gráficas)\n",
    "\n",
    "fig.add_trace(go.Scatter(\n",
    " x=df_reset[\"Fecha\"], # Asigna la columna 'Fecha' al eje X\n",
    " y=df_reset[\"Valor\"], # Asigna la columna 'Valor' al eje Y\n",
    " mode='lines',        # Especifica que se dibuje una línea (sin marcadores)\n",
    " name=\"Valor\"         # Nombre de la serie que aparecerá en la leyenda\n",
    "))\n",
    "\n",
    "fig.update_layout(\n",
    " title=\"Serie de tiempo\",           # Título principal del gráfico\n",
    " xaxis_title='Fecha',               # Etiqueta del eje X\n",
    " yaxis_title='Valor',               # Etiqueta del eje Y\n",
    " xaxis=dict(tickformat='%d-%m-%y'), # Formato de fecha para las marcas del eje X (día-mes-año)\n",
    " template='plotly_white'            # Estilo visual del gráfico (fondo blanco y diseño limpio)\n",
    ")\n",
    "\n",
    "fig.show() # Muestra la gráfica directamente en el notebook"
   ]
  }
 ],
 "metadata": {
  "kernelspec": {
   "display_name": ".venv",
   "language": "python",
   "name": "python3"
  },
  "language_info": {
   "codemirror_mode": {
    "name": "ipython",
    "version": 3
   },
   "file_extension": ".py",
   "mimetype": "text/x-python",
   "name": "python",
   "nbconvert_exporter": "python",
   "pygments_lexer": "ipython3",
   "version": "3.12.7"
  }
 },
 "nbformat": 4,
 "nbformat_minor": 2
}
