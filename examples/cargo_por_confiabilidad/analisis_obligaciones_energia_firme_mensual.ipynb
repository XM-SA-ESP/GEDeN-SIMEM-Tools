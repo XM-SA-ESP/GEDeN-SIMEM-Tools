{
 "cells": [
  {
   "attachments": {
    "SIMEM_logo_1.png": {
     "image/png": "[encoded data removed]"
    }
   },
   "cell_type": "markdown",
   "metadata": {},
   "source": [
    "![SIMEM_logo_1.png](attachment:SIMEM_logo_1.png)\n",
    "\n",
    "[SiMEM](https://www.simem.co/)"
   ]
  },
  {
   "cell_type": "markdown",
   "metadata": {},
   "source": [
    "## Caso de uso - Asignaciones de OEF por planta\n",
    "\n",
    "# Objetivos de este notebook\n",
    "\n",
    "* Explicar cómo se realiza la instalación e importación de la librería pydataxm desde la consola para su uso en ambientes locales\n",
    "* Explicar cómo se pueden consultar los conjuntos de datos a través de la librería Pydataxm\n",
    "* Explicar cómo realizar el procesamiento y manipulación de los datos consultados\n",
    "* Explicar el análisis de los datos consultados para dar respuesta al caso de uso propuesto\n",
    "\n",
    "**Índice**\n",
    "\n",
    "1. [Instalación de librerías](#section1)\n",
    "\n",
    "2. [Importación de librerías](#section2)\n",
    "\n",
    "3. [Consultar información de los conjuntos de datos](#section3)\n",
    "\n",
    "4. [Manipulación de datos](#section4)\n",
    "\n",
    "5. [Análisis para dar respuesta al caso de uso](#section5)\n"
   ]
  },
  {
   "cell_type": "markdown",
   "metadata": {},
   "source": [
    "<a id='section1'></a>\n",
    "# 1. Instalación de la librería\n",
    "Ejecutar el siguiente comando en el CMD para instalar la librería de python."
   ]
  },
  {
   "cell_type": "code",
   "execution_count": 1,
   "metadata": {},
   "outputs": [],
   "source": [
    "# import sys\n",
    "# !{sys.executable} -m pip install pydataxm"
   ]
  },
  {
   "cell_type": "markdown",
   "metadata": {},
   "source": [
    "<a id='section2'></a>\n",
    "# 2. Importación de librerías\n"
   ]
  },
  {
   "cell_type": "code",
   "execution_count": 2,
   "metadata": {},
   "outputs": [],
   "source": [
    "from pydataxm.pydatasimem import ReadSIMEM  # Importa clases para interactuar con datos del sistema SIMEM, utilizado para acceder a información energética en Colombia\n",
    "import pandas as pd                         # Librería para manipulación y análisis de datos en estructuras tipo DataFrame, muy útil para limpiar, transformar y explorar datos\n",
    "# import matplotlib.pyplot as plt             # Para crear gráficos estáticos como barras, líneas, histogramas, etc.\n",
    "# import seaborn as sns                       # Librería basada en matplotlib para visual\n",
    "from dateutil.relativedelta import relativedelta\n",
    "import plotly.graph_objects as go           # Módulo de Plotly para crear visualizaciones interactivas y personalizadas, como gráficos de líneas, barras, áreas, etc.\n",
    "# import numpy as np"
   ]
  },
  {
   "cell_type": "markdown",
   "metadata": {},
   "source": [
    "<a id='section3'></a>\n",
    "# 3. Consultar información de los conjuntos de datos\n",
    "El método de extracción recibe los parámetros con los que se va a realizar la consulta. \n",
    "El datasetID para un conjunto particular se puede encontrar en el [catálogo de conjuntos de datos.](https://www.simem.co/pages/catalogodatos/51FC0A59-3A00-462C-B449-9CB8D5E007FB)  \n",
    "Para este ejemplo el conjunto a presentar es  [Asignaciones de OEF por planta](https://www.simem.co/datadetail/306C6790-E645-4966-8031-5A5658D8B962)."
   ]
  },
  {
   "cell_type": "markdown",
   "metadata": {},
   "source": [
    "Se definen los parámetros de entrada y se crea el objeto ReadSIMEM() para realizar las consultas."
   ]
  },
  {
   "cell_type": "code",
   "execution_count": 3,
   "metadata": {},
   "outputs": [
    {
     "name": "stdout",
     "output_type": "stream",
     "text": [
      "****************************************************************************************************\n",
      "Initializing object\n",
      "The object has been initialized with the dataset: \"Asignaciones de OEF por planta\"\n",
      "****************************************************************************************************\n",
      "Inicio consulta sincronica\n",
      "Creacion url: 0.0018849372863769531\n",
      "Extraccion de registros: 2.7290267944335938\n",
      "End of data extracting process\n",
      "****************************************************************************************************\n"
     ]
    },
    {
     "data": {
      "application/vnd.microsoft.datawrangler.viewer.v0+json": {
       "columns": [
        {
         "name": "index",
         "rawType": "int64",
         "type": "integer"
        },
        {
         "name": "FechaPublicacion",
         "rawType": "object",
         "type": "string"
        },
        {
         "name": "FechaInicioCargo",
         "rawType": "object",
         "type": "string"
        },
        {
         "name": "FechaFinCargo",
         "rawType": "object",
         "type": "string"
        },
        {
         "name": "CodigoSICAgente",
         "rawType": "object",
         "type": "string"
        },
        {
         "name": "CodigoPlanta",
         "rawType": "object",
         "type": "string"
        },
        {
         "name": "Tecnologia",
         "rawType": "object",
         "type": "string"
        },
        {
         "name": "OEF",
         "rawType": "float64",
         "type": "float"
        }
       ],
       "ref": "ffbc33a5-066c-4155-aab7-e7a6249c84eb",
       "rows": [
        [
         "0",
         "2025-08-04",
         "2030-12-01",
         "2031-11-30",
         "ISGG",
         "SMI1",
         "Filo de Agua",
         "122675040.0"
        ],
        [
         "1",
         "2025-08-04",
         "2030-12-01",
         "2031-11-30",
         "SOLG",
         "PRMA",
         "Solar",
         "32921175.0"
        ],
        [
         "2",
         "2025-08-04",
         "2030-12-01",
         "2031-11-30",
         "EPMG",
         "SNFR",
         "Filo de Agua",
         "33669790.0"
        ],
        [
         "3",
         "2025-08-04",
         "2030-12-01",
         "2031-11-30",
         "GECG",
         "GE32",
         "Termica",
         "1971000000.0"
        ],
        [
         "4",
         "2025-08-04",
         "2030-12-01",
         "2031-11-30",
         "PSXG",
         "POMA",
         "Solar",
         "28772950.0"
        ]
       ],
       "shape": {
        "columns": 7,
        "rows": 5
       }
      },
      "text/html": [
       "<div>\n",
       "<style scoped>\n",
       "    .dataframe tbody tr th:only-of-type {\n",
       "        vertical-align: middle;\n",
       "    }\n",
       "\n",
       "    .dataframe tbody tr th {\n",
       "        vertical-align: top;\n",
       "    }\n",
       "\n",
       "    .dataframe thead th {\n",
       "        text-align: right;\n",
       "    }\n",
       "</style>\n",
       "<table border=\"1\" class=\"dataframe\">\n",
       "  <thead>\n",
       "    <tr style=\"text-align: right;\">\n",
       "      <th></th>\n",
       "      <th>FechaPublicacion</th>\n",
       "      <th>FechaInicioCargo</th>\n",
       "      <th>FechaFinCargo</th>\n",
       "      <th>CodigoSICAgente</th>\n",
       "      <th>CodigoPlanta</th>\n",
       "      <th>Tecnologia</th>\n",
       "      <th>OEF</th>\n",
       "    </tr>\n",
       "  </thead>\n",
       "  <tbody>\n",
       "    <tr>\n",
       "      <th>0</th>\n",
       "      <td>2025-08-04</td>\n",
       "      <td>2030-12-01</td>\n",
       "      <td>2031-11-30</td>\n",
       "      <td>ISGG</td>\n",
       "      <td>SMI1</td>\n",
       "      <td>Filo de Agua</td>\n",
       "      <td>1.226750e+08</td>\n",
       "    </tr>\n",
       "    <tr>\n",
       "      <th>1</th>\n",
       "      <td>2025-08-04</td>\n",
       "      <td>2030-12-01</td>\n",
       "      <td>2031-11-30</td>\n",
       "      <td>SOLG</td>\n",
       "      <td>PRMA</td>\n",
       "      <td>Solar</td>\n",
       "      <td>3.292118e+07</td>\n",
       "    </tr>\n",
       "    <tr>\n",
       "      <th>2</th>\n",
       "      <td>2025-08-04</td>\n",
       "      <td>2030-12-01</td>\n",
       "      <td>2031-11-30</td>\n",
       "      <td>EPMG</td>\n",
       "      <td>SNFR</td>\n",
       "      <td>Filo de Agua</td>\n",
       "      <td>3.366979e+07</td>\n",
       "    </tr>\n",
       "    <tr>\n",
       "      <th>3</th>\n",
       "      <td>2025-08-04</td>\n",
       "      <td>2030-12-01</td>\n",
       "      <td>2031-11-30</td>\n",
       "      <td>GECG</td>\n",
       "      <td>GE32</td>\n",
       "      <td>Termica</td>\n",
       "      <td>1.971000e+09</td>\n",
       "    </tr>\n",
       "    <tr>\n",
       "      <th>4</th>\n",
       "      <td>2025-08-04</td>\n",
       "      <td>2030-12-01</td>\n",
       "      <td>2031-11-30</td>\n",
       "      <td>PSXG</td>\n",
       "      <td>POMA</td>\n",
       "      <td>Solar</td>\n",
       "      <td>2.877295e+07</td>\n",
       "    </tr>\n",
       "  </tbody>\n",
       "</table>\n",
       "</div>"
      ],
      "text/plain": [
       "  FechaPublicacion FechaInicioCargo FechaFinCargo CodigoSICAgente  \\\n",
       "0       2025-08-04       2030-12-01    2031-11-30            ISGG   \n",
       "1       2025-08-04       2030-12-01    2031-11-30            SOLG   \n",
       "2       2025-08-04       2030-12-01    2031-11-30            EPMG   \n",
       "3       2025-08-04       2030-12-01    2031-11-30            GECG   \n",
       "4       2025-08-04       2030-12-01    2031-11-30            PSXG   \n",
       "\n",
       "  CodigoPlanta    Tecnologia           OEF  \n",
       "0         SMI1  Filo de Agua  1.226750e+08  \n",
       "1         PRMA         Solar  3.292118e+07  \n",
       "2         SNFR  Filo de Agua  3.366979e+07  \n",
       "3         GE32       Termica  1.971000e+09  \n",
       "4         POMA         Solar  2.877295e+07  "
      ]
     },
     "execution_count": 3,
     "metadata": {},
     "output_type": "execute_result"
    }
   ],
   "source": [
    "id_dataset = '306c67'                                       # ID del conjunto de datos a consultar\n",
    "fecha_inicial = '2025-12-01'                                # Fecha de inicio del rango de consulta\n",
    "fecha_final = '2032-11-30'                                  # Fecha de fin del rango de consulta\n",
    "simem = ReadSIMEM(id_dataset, fecha_inicial, fecha_final)   # Instancia de la clase ReadSIMEM con los parámetros definidos\n",
    "df_dataset = simem.main()                                   # Ejecución del método principal para obtener los datos en un DataFrame\n",
    "df_dataset.head(5)                                          # Visualización de las primeras 5 filas del DataFrame"
   ]
  },
  {
   "cell_type": "markdown",
   "metadata": {},
   "source": [
    "<a id='section4'></a>\n",
    "# 4. Manipulación de datos\n",
    "Los siguientes pasos corresponden a las actividades de manipulación y preparación de los datos que son relevantes para el análisis. "
   ]
  },
  {
   "cell_type": "markdown",
   "metadata": {},
   "source": [
    "### Filtrar la máxima versión para el periodo de consulta de los datos, es decir, la fecha de publicación mas reciente de las proyecciones"
   ]
  },
  {
   "cell_type": "code",
   "execution_count": 4,
   "metadata": {},
   "outputs": [
    {
     "data": {
      "application/vnd.microsoft.datawrangler.viewer.v0+json": {
       "columns": [
        {
         "name": "index",
         "rawType": "int64",
         "type": "integer"
        },
        {
         "name": "FechaPublicacion",
         "rawType": "object",
         "type": "string"
        },
        {
         "name": "FechaInicioCargo",
         "rawType": "object",
         "type": "string"
        },
        {
         "name": "FechaFinCargo",
         "rawType": "object",
         "type": "string"
        },
        {
         "name": "CodigoSICAgente",
         "rawType": "object",
         "type": "string"
        },
        {
         "name": "CodigoPlanta",
         "rawType": "object",
         "type": "string"
        },
        {
         "name": "Tecnologia",
         "rawType": "object",
         "type": "string"
        },
        {
         "name": "OEF",
         "rawType": "float64",
         "type": "float"
        }
       ],
       "ref": "7d73a5e5-7f71-4b3e-830f-028b74b9829e",
       "rows": [
        [
         "0",
         "2025-08-04",
         "2030-12-01",
         "2031-11-30",
         "ISGG",
         "SMI1",
         "Filo de Agua",
         "122675040.0"
        ],
        [
         "1",
         "2025-08-04",
         "2026-03-01",
         "2026-03-31",
         "EMUG",
         "URA1",
         "Hidraulica",
         "0.0"
        ],
        [
         "2",
         "2025-08-04",
         "2026-04-01",
         "2026-04-30",
         "SLUG",
         "3IZ6",
         "Solar",
         "73907.57"
        ],
        [
         "3",
         "2025-08-04",
         "2026-04-01",
         "2026-04-30",
         "EPMG",
         "SNFR",
         "Hidraulica",
         "0.0"
        ],
        [
         "4",
         "2025-08-04",
         "2026-04-01",
         "2026-04-30",
         "EPMG",
         "PRC3",
         "Hidraulica",
         "0.0"
        ],
        [
         "5",
         "2025-08-04",
         "2026-03-01",
         "2026-03-31",
         "EPMG",
         "SNFR",
         "Hidraulica",
         "2069433.5688"
        ],
        [
         "6",
         "2025-08-04",
         "2026-03-01",
         "2026-03-31",
         "EPSG",
         "ALBG",
         "Hidraulica",
         "2540286.0"
        ],
        [
         "7",
         "2025-08-04",
         "2026-03-01",
         "2026-03-31",
         "EPMG",
         "ESMR",
         "Hidraulica",
         "1552075.1766"
        ],
        [
         "8",
         "2025-08-04",
         "2026-03-01",
         "2026-03-31",
         "SLMG",
         "MATA",
         "Solar",
         "116363.45"
        ],
        [
         "9",
         "2025-08-04",
         "2026-03-01",
         "2026-03-31",
         "EPMG",
         "PES1",
         "Hidraulica",
         "0.0"
        ],
        [
         "10",
         "2025-08-04",
         "2026-03-01",
         "2026-03-31",
         "EPMG",
         "PRC3",
         "Hidraulica",
         "0.0"
        ],
        [
         "11",
         "2025-08-04",
         "2026-03-01",
         "2026-03-31",
         "EPMG",
         "GTRG",
         "Hidraulica",
         "7468213.3413"
        ],
        [
         "12",
         "2025-08-04",
         "2026-03-01",
         "2026-03-31",
         "SLUG",
         "3IZ6",
         "Solar",
         "154627.97"
        ],
        [
         "13",
         "2025-08-04",
         "2026-03-01",
         "2026-03-31",
         "SDCG",
         "3INX",
         "Solar",
         "78999.98"
        ],
        [
         "14",
         "2025-08-04",
         "2026-04-01",
         "2026-04-30",
         "EPMG",
         "ESMR",
         "Hidraulica",
         "0.0"
        ],
        [
         "15",
         "2025-08-04",
         "2026-02-01",
         "2026-02-28",
         "EPMG",
         "ESMR",
         "Hidraulica",
         "971115.7477"
        ],
        [
         "16",
         "2025-08-04",
         "2026-02-01",
         "2026-02-28",
         "EPMG",
         "PES1",
         "Hidraulica",
         "0.0"
        ],
        [
         "17",
         "2025-08-04",
         "2026-02-01",
         "2026-02-28",
         "SLMG",
         "MATA",
         "Solar",
         "156294.88"
        ],
        [
         "18",
         "2025-08-04",
         "2026-02-01",
         "2026-02-28",
         "EPMG",
         "GTRG",
         "Hidraulica",
         "0.0"
        ],
        [
         "19",
         "2025-08-04",
         "2026-02-01",
         "2026-02-28",
         "SDCG",
         "3INX",
         "Solar",
         "84999.97"
        ],
        [
         "20",
         "2025-08-04",
         "2026-02-01",
         "2026-02-28",
         "EPMG",
         "SNFR",
         "Hidraulica",
         "5423010.1711"
        ],
        [
         "21",
         "2025-08-04",
         "2026-02-01",
         "2026-02-28",
         "SLUG",
         "3IZ6",
         "Solar",
         "121036.72"
        ],
        [
         "22",
         "2025-08-04",
         "2026-02-01",
         "2026-02-28",
         "EMUG",
         "URA1",
         "Hidraulica",
         "0.0"
        ],
        [
         "23",
         "2025-08-04",
         "2026-02-01",
         "2026-02-28",
         "EPSG",
         "ALBG",
         "Hidraulica",
         "6350916.0"
        ],
        [
         "24",
         "2025-08-04",
         "2026-02-01",
         "2026-02-28",
         "EPMG",
         "PRC3",
         "Hidraulica",
         "0.0"
        ],
        [
         "25",
         "2025-08-04",
         "2026-01-01",
         "2026-01-31",
         "EPMG",
         "PES1",
         "Hidraulica",
         "0.0"
        ],
        [
         "26",
         "2025-08-04",
         "2026-04-01",
         "2026-04-30",
         "EPSG",
         "ALBG",
         "Hidraulica",
         "0.0"
        ],
        [
         "27",
         "2025-08-04",
         "2026-04-01",
         "2026-04-30",
         "EPMG",
         "GTRG",
         "Hidraulica",
         "13403023.3"
        ],
        [
         "28",
         "2025-08-04",
         "2026-07-01",
         "2026-07-31",
         "EPMG",
         "SNFR",
         "Hidraulica",
         "0.0"
        ],
        [
         "29",
         "2025-08-04",
         "2026-05-01",
         "2026-05-31",
         "EPMG",
         "GTRG",
         "Hidraulica",
         "0.0"
        ],
        [
         "30",
         "2025-08-04",
         "2026-07-01",
         "2026-07-31",
         "EPMG",
         "ESMR",
         "Hidraulica",
         "0.0"
        ],
        [
         "31",
         "2025-08-04",
         "2026-06-01",
         "2026-06-30",
         "EPMG",
         "ESMR",
         "Hidraulica",
         "0.0"
        ],
        [
         "32",
         "2025-08-04",
         "2026-06-01",
         "2026-06-30",
         "EPMG",
         "PRC3",
         "Hidraulica",
         "0.0"
        ],
        [
         "33",
         "2025-08-04",
         "2026-06-01",
         "2026-06-30",
         "EMUG",
         "URA1",
         "Hidraulica",
         "4308359.7846"
        ],
        [
         "34",
         "2025-08-04",
         "2026-06-01",
         "2026-06-30",
         "SLMG",
         "MATA",
         "Solar",
         "66232.34"
        ],
        [
         "35",
         "2025-08-04",
         "2026-06-01",
         "2026-06-30",
         "EPMG",
         "PES1",
         "Hidraulica",
         "9203205.4601"
        ],
        [
         "36",
         "2025-08-04",
         "2026-06-01",
         "2026-06-30",
         "SDCG",
         "3INX",
         "Solar",
         "31820.14"
        ],
        [
         "37",
         "2025-08-04",
         "2026-06-01",
         "2026-06-30",
         "SLUG",
         "3IZ6",
         "Solar",
         "68113.69"
        ],
        [
         "38",
         "2025-08-04",
         "2026-06-01",
         "2026-06-30",
         "EPSG",
         "ALBG",
         "Hidraulica",
         "0.0"
        ],
        [
         "39",
         "2025-08-04",
         "2026-06-01",
         "2026-06-30",
         "EPMG",
         "GTRG",
         "Hidraulica",
         "0.0"
        ],
        [
         "40",
         "2025-08-04",
         "2026-06-01",
         "2026-06-30",
         "EPMG",
         "SNFR",
         "Hidraulica",
         "0.0"
        ],
        [
         "41",
         "2025-08-04",
         "2026-05-01",
         "2026-05-31",
         "EPMG",
         "PES1",
         "Hidraulica",
         "9322846.3383"
        ],
        [
         "42",
         "2025-08-04",
         "2026-04-01",
         "2026-04-30",
         "SLMG",
         "MATA",
         "Solar",
         "59359.45"
        ],
        [
         "43",
         "2025-08-04",
         "2026-05-01",
         "2026-05-31",
         "SLMG",
         "MATA",
         "Solar",
         "68641.27"
        ],
        [
         "44",
         "2025-08-04",
         "2026-05-01",
         "2026-05-31",
         "SLUG",
         "3IZ6",
         "Solar",
         "74370.46"
        ],
        [
         "45",
         "2025-08-04",
         "2026-05-01",
         "2026-05-31",
         "SDCG",
         "3INX",
         "Solar",
         "20999.99"
        ],
        [
         "46",
         "2025-08-04",
         "2026-05-01",
         "2026-05-31",
         "EPMG",
         "ESMR",
         "Hidraulica",
         "0.0"
        ],
        [
         "47",
         "2025-08-04",
         "2026-05-01",
         "2026-05-31",
         "EPMG",
         "PRC3",
         "Hidraulica",
         "0.0"
        ],
        [
         "48",
         "2025-08-04",
         "2026-05-01",
         "2026-05-31",
         "EMUG",
         "URA1",
         "Hidraulica",
         "4451971.8943"
        ],
        [
         "49",
         "2025-08-04",
         "2026-05-01",
         "2026-05-31",
         "EPMG",
         "SNFR",
         "Hidraulica",
         "0.0"
        ]
       ],
       "shape": {
        "columns": 7,
        "rows": 811
       }
      },
      "text/html": [
       "<div>\n",
       "<style scoped>\n",
       "    .dataframe tbody tr th:only-of-type {\n",
       "        vertical-align: middle;\n",
       "    }\n",
       "\n",
       "    .dataframe tbody tr th {\n",
       "        vertical-align: top;\n",
       "    }\n",
       "\n",
       "    .dataframe thead th {\n",
       "        text-align: right;\n",
       "    }\n",
       "</style>\n",
       "<table border=\"1\" class=\"dataframe\">\n",
       "  <thead>\n",
       "    <tr style=\"text-align: right;\">\n",
       "      <th></th>\n",
       "      <th>FechaPublicacion</th>\n",
       "      <th>FechaInicioCargo</th>\n",
       "      <th>FechaFinCargo</th>\n",
       "      <th>CodigoSICAgente</th>\n",
       "      <th>CodigoPlanta</th>\n",
       "      <th>Tecnologia</th>\n",
       "      <th>OEF</th>\n",
       "    </tr>\n",
       "  </thead>\n",
       "  <tbody>\n",
       "    <tr>\n",
       "      <th>0</th>\n",
       "      <td>2025-08-04</td>\n",
       "      <td>2030-12-01</td>\n",
       "      <td>2031-11-30</td>\n",
       "      <td>ISGG</td>\n",
       "      <td>SMI1</td>\n",
       "      <td>Filo de Agua</td>\n",
       "      <td>1.226750e+08</td>\n",
       "    </tr>\n",
       "    <tr>\n",
       "      <th>1</th>\n",
       "      <td>2025-08-04</td>\n",
       "      <td>2026-03-01</td>\n",
       "      <td>2026-03-31</td>\n",
       "      <td>EMUG</td>\n",
       "      <td>URA1</td>\n",
       "      <td>Hidraulica</td>\n",
       "      <td>0.000000e+00</td>\n",
       "    </tr>\n",
       "    <tr>\n",
       "      <th>2</th>\n",
       "      <td>2025-08-04</td>\n",
       "      <td>2026-04-01</td>\n",
       "      <td>2026-04-30</td>\n",
       "      <td>SLUG</td>\n",
       "      <td>3IZ6</td>\n",
       "      <td>Solar</td>\n",
       "      <td>7.390757e+04</td>\n",
       "    </tr>\n",
       "    <tr>\n",
       "      <th>3</th>\n",
       "      <td>2025-08-04</td>\n",
       "      <td>2026-04-01</td>\n",
       "      <td>2026-04-30</td>\n",
       "      <td>EPMG</td>\n",
       "      <td>SNFR</td>\n",
       "      <td>Hidraulica</td>\n",
       "      <td>0.000000e+00</td>\n",
       "    </tr>\n",
       "    <tr>\n",
       "      <th>4</th>\n",
       "      <td>2025-08-04</td>\n",
       "      <td>2026-04-01</td>\n",
       "      <td>2026-04-30</td>\n",
       "      <td>EPMG</td>\n",
       "      <td>PRC3</td>\n",
       "      <td>Hidraulica</td>\n",
       "      <td>0.000000e+00</td>\n",
       "    </tr>\n",
       "    <tr>\n",
       "      <th>...</th>\n",
       "      <td>...</td>\n",
       "      <td>...</td>\n",
       "      <td>...</td>\n",
       "      <td>...</td>\n",
       "      <td>...</td>\n",
       "      <td>...</td>\n",
       "      <td>...</td>\n",
       "    </tr>\n",
       "    <tr>\n",
       "      <th>806</th>\n",
       "      <td>2025-08-04</td>\n",
       "      <td>2027-12-01</td>\n",
       "      <td>2028-11-30</td>\n",
       "      <td>ORQG</td>\n",
       "      <td>ODEA</td>\n",
       "      <td>Solar</td>\n",
       "      <td>1.262070e+08</td>\n",
       "    </tr>\n",
       "    <tr>\n",
       "      <th>807</th>\n",
       "      <td>2025-08-04</td>\n",
       "      <td>2027-12-01</td>\n",
       "      <td>2028-11-30</td>\n",
       "      <td>EPMG</td>\n",
       "      <td>TSR1</td>\n",
       "      <td>Termica</td>\n",
       "      <td>2.789146e+09</td>\n",
       "    </tr>\n",
       "    <tr>\n",
       "      <th>808</th>\n",
       "      <td>2025-08-04</td>\n",
       "      <td>2027-12-01</td>\n",
       "      <td>2028-11-30</td>\n",
       "      <td>TBSG</td>\n",
       "      <td>TBQ4</td>\n",
       "      <td>Termica</td>\n",
       "      <td>4.672674e+08</td>\n",
       "    </tr>\n",
       "    <tr>\n",
       "      <th>809</th>\n",
       "      <td>2025-08-04</td>\n",
       "      <td>2027-12-01</td>\n",
       "      <td>2028-11-30</td>\n",
       "      <td>BRZG</td>\n",
       "      <td>BOSA</td>\n",
       "      <td>Solar</td>\n",
       "      <td>7.714475e+07</td>\n",
       "    </tr>\n",
       "    <tr>\n",
       "      <th>810</th>\n",
       "      <td>2025-08-04</td>\n",
       "      <td>2027-12-01</td>\n",
       "      <td>2028-11-30</td>\n",
       "      <td>SDEG</td>\n",
       "      <td>MGAR</td>\n",
       "      <td>Solar</td>\n",
       "      <td>1.362669e+08</td>\n",
       "    </tr>\n",
       "  </tbody>\n",
       "</table>\n",
       "<p>811 rows × 7 columns</p>\n",
       "</div>"
      ],
      "text/plain": [
       "    FechaPublicacion FechaInicioCargo FechaFinCargo CodigoSICAgente  \\\n",
       "0         2025-08-04       2030-12-01    2031-11-30            ISGG   \n",
       "1         2025-08-04       2026-03-01    2026-03-31            EMUG   \n",
       "2         2025-08-04       2026-04-01    2026-04-30            SLUG   \n",
       "3         2025-08-04       2026-04-01    2026-04-30            EPMG   \n",
       "4         2025-08-04       2026-04-01    2026-04-30            EPMG   \n",
       "..               ...              ...           ...             ...   \n",
       "806       2025-08-04       2027-12-01    2028-11-30            ORQG   \n",
       "807       2025-08-04       2027-12-01    2028-11-30            EPMG   \n",
       "808       2025-08-04       2027-12-01    2028-11-30            TBSG   \n",
       "809       2025-08-04       2027-12-01    2028-11-30            BRZG   \n",
       "810       2025-08-04       2027-12-01    2028-11-30            SDEG   \n",
       "\n",
       "    CodigoPlanta    Tecnologia           OEF  \n",
       "0           SMI1  Filo de Agua  1.226750e+08  \n",
       "1           URA1    Hidraulica  0.000000e+00  \n",
       "2           3IZ6         Solar  7.390757e+04  \n",
       "3           SNFR    Hidraulica  0.000000e+00  \n",
       "4           PRC3    Hidraulica  0.000000e+00  \n",
       "..           ...           ...           ...  \n",
       "806         ODEA         Solar  1.262070e+08  \n",
       "807         TSR1       Termica  2.789146e+09  \n",
       "808         TBQ4       Termica  4.672674e+08  \n",
       "809         BOSA         Solar  7.714475e+07  \n",
       "810         MGAR         Solar  1.362669e+08  \n",
       "\n",
       "[811 rows x 7 columns]"
      ]
     },
     "execution_count": 4,
     "metadata": {},
     "output_type": "execute_result"
    }
   ],
   "source": [
    "df_dataset = df_dataset.sort_values('FechaPublicacion', ascending=False)                            # Se ordena por FechaPublicacion descendente\n",
    "\n",
    "df_dataset = df_dataset.drop_duplicates(subset=[\n",
    "    'CodigoPlanta', 'FechaInicioCargo', 'FechaFinCargo'], keep='first').reset_index(drop=True)      # Se eliminan los duplicados manteniendo el más reciente por grupo\n",
    "df_dataset"
   ]
  },
  {
   "cell_type": "markdown",
   "metadata": {},
   "source": [
    "Mensualización de los datos"
   ]
  },
  {
   "cell_type": "code",
   "execution_count": 5,
   "metadata": {},
   "outputs": [],
   "source": [
    "# fechas en formato datetime\n",
    "df_dataset['FechaInicioCargo'] = pd.to_datetime(df_dataset['FechaInicioCargo'])\n",
    "df_dataset['FechaFinCargo'] = pd.to_datetime(df_dataset['FechaFinCargo'])\n",
    "\n",
    "# Diccionario para acumular energía por mes\n",
    "energia_mensual = {}\n",
    "\n",
    "# Procesar cada fila del DataFrame\n",
    "for _, row in df_dataset.iterrows():\n",
    "    fecha_ini = row['FechaInicioCargo']\n",
    "    fecha_fin = row['FechaFinCargo']\n",
    "    energia_total = row['OEF']\n",
    "    \n",
    "    # Generar lista de meses en el rango\n",
    "    meses = []\n",
    "    fecha_actual = fecha_ini\n",
    "    while fecha_actual <= fecha_fin:\n",
    "        meses.append(fecha_actual.strftime(\"%Y-%m\"))\n",
    "        fecha_actual += relativedelta(months=1)\n",
    "    \n",
    "    energia_por_mes = energia_total / len(meses)\n",
    "    \n",
    "    for mes in meses:\n",
    "        energia_mensual[mes] = energia_mensual.get(mes, 0) + energia_por_mes\n",
    "\n",
    "# Convertir a DataFrame para graficar\n",
    "df_mensual = pd.DataFrame(list(energia_mensual.items()), columns=[\"Mes\", \"Energia\"])\n",
    "df_mensual[\"Mes\"] = pd.to_datetime(df_mensual[\"Mes\"])\n",
    "df_mensual = df_mensual.sort_values(\"Mes\")\n",
    "\n",
    "millon = 1000000\n",
    "df_mensual['Energia'] = df_mensual['Energia'].div(millon)"
   ]
  },
  {
   "cell_type": "markdown",
   "metadata": {},
   "source": [
    "<a id='section5'></a>\n",
    "# 5. Análisis para dar respuesta al caso de uso"
   ]
  },
  {
   "cell_type": "markdown",
   "metadata": {},
   "source": [
    "### Obligacion de energia firme acumulada mensualmente"
   ]
  },
  {
   "cell_type": "code",
   "execution_count": 6,
   "metadata": {},
   "outputs": [
    {
     "data": {
      "application/vnd.plotly.v1+json": {
       "config": {
        "plotlyServerURL": "https://plot.ly"
       },
       "data": [
        {
         "marker": {
          "color": "skyblue"
         },
         "type": "bar",
         "x": [
          "2025-12-01T00:00:00.000000000",
          "2026-01-01T00:00:00.000000000",
          "2026-02-01T00:00:00.000000000",
          "2026-03-01T00:00:00.000000000",
          "2026-04-01T00:00:00.000000000",
          "2026-05-01T00:00:00.000000000",
          "2026-06-01T00:00:00.000000000",
          "2026-07-01T00:00:00.000000000",
          "2026-08-01T00:00:00.000000000",
          "2026-09-01T00:00:00.000000000",
          "2026-10-01T00:00:00.000000000",
          "2026-11-01T00:00:00.000000000",
          "2026-12-01T00:00:00.000000000",
          "2027-01-01T00:00:00.000000000",
          "2027-02-01T00:00:00.000000000",
          "2027-03-01T00:00:00.000000000",
          "2027-04-01T00:00:00.000000000",
          "2027-05-01T00:00:00.000000000",
          "2027-06-01T00:00:00.000000000",
          "2027-07-01T00:00:00.000000000",
          "2027-08-01T00:00:00.000000000",
          "2027-09-01T00:00:00.000000000",
          "2027-10-01T00:00:00.000000000",
          "2027-11-01T00:00:00.000000000",
          "2027-12-01T00:00:00.000000000",
          "2028-01-01T00:00:00.000000000",
          "2028-02-01T00:00:00.000000000",
          "2028-03-01T00:00:00.000000000",
          "2028-04-01T00:00:00.000000000",
          "2028-05-01T00:00:00.000000000",
          "2028-06-01T00:00:00.000000000",
          "2028-07-01T00:00:00.000000000",
          "2028-08-01T00:00:00.000000000",
          "2028-09-01T00:00:00.000000000",
          "2028-10-01T00:00:00.000000000",
          "2028-11-01T00:00:00.000000000",
          "2028-12-01T00:00:00.000000000",
          "2029-01-01T00:00:00.000000000",
          "2029-02-01T00:00:00.000000000",
          "2029-03-01T00:00:00.000000000",
          "2029-04-01T00:00:00.000000000",
          "2029-05-01T00:00:00.000000000",
          "2029-06-01T00:00:00.000000000",
          "2029-07-01T00:00:00.000000000",
          "2029-08-01T00:00:00.000000000",
          "2029-09-01T00:00:00.000000000",
          "2029-10-01T00:00:00.000000000",
          "2029-11-01T00:00:00.000000000",
          "2029-12-01T00:00:00.000000000",
          "2030-01-01T00:00:00.000000000",
          "2030-02-01T00:00:00.000000000",
          "2030-03-01T00:00:00.000000000",
          "2030-04-01T00:00:00.000000000",
          "2030-05-01T00:00:00.000000000",
          "2030-06-01T00:00:00.000000000",
          "2030-07-01T00:00:00.000000000",
          "2030-08-01T00:00:00.000000000",
          "2030-09-01T00:00:00.000000000",
          "2030-10-01T00:00:00.000000000",
          "2030-11-01T00:00:00.000000000",
          "2030-12-01T00:00:00.000000000",
          "2031-01-01T00:00:00.000000000",
          "2031-02-01T00:00:00.000000000",
          "2031-03-01T00:00:00.000000000",
          "2031-04-01T00:00:00.000000000",
          "2031-05-01T00:00:00.000000000",
          "2031-06-01T00:00:00.000000000",
          "2031-07-01T00:00:00.000000000",
          "2031-08-01T00:00:00.000000000",
          "2031-09-01T00:00:00.000000000",
          "2031-10-01T00:00:00.000000000",
          "2031-11-01T00:00:00.000000000",
          "2031-12-01T00:00:00.000000000",
          "2032-01-01T00:00:00.000000000",
          "2032-02-01T00:00:00.000000000",
          "2032-03-01T00:00:00.000000000",
          "2032-04-01T00:00:00.000000000",
          "2032-05-01T00:00:00.000000000",
          "2032-06-01T00:00:00.000000000",
          "2032-07-01T00:00:00.000000000",
          "2032-08-01T00:00:00.000000000",
          "2032-09-01T00:00:00.000000000",
          "2032-10-01T00:00:00.000000000",
          "2032-11-01T00:00:00.000000000",
          "2032-12-01T00:00:00.000000000",
          "2033-01-01T00:00:00.000000000",
          "2033-02-01T00:00:00.000000000",
          "2033-03-01T00:00:00.000000000",
          "2033-04-01T00:00:00.000000000",
          "2033-05-01T00:00:00.000000000",
          "2033-06-01T00:00:00.000000000",
          "2033-07-01T00:00:00.000000000",
          "2033-08-01T00:00:00.000000000",
          "2033-09-01T00:00:00.000000000",
          "2033-10-01T00:00:00.000000000",
          "2033-11-01T00:00:00.000000000"
         ],
         "y": {
          "bdata": "o9mH8DwsvEAAT2btsyu8QPktXeEwK7xAmAjIRRAsvEApY3DDpiu8QAresbsFLLxAu0xX5MIrvEBquPblMSy8QNpfS/ZCLLxAXoAcxBQsvED23swaaSy8QLwBwEsbLLxAaULhikQSyED6fqDqEBLIQJRL5j3XEchAfPLXKj0SyEDzB36/ChLIQAA5bfUrEshAG6zbzRYSyEAmeDCgPxLIQIzZUHBZEshAI/MB/TkSyEA3/K2VXxLIQIDfWIlGEshAoAG4e59WwECgAbh7n1bAQKABuHufVsBAoAG4e59WwECgAbh7n1bAQKABuHufVsBAoAG4e59WwECgAbh7n1bAQKABuHufVsBAoAG4e59WwECgAbh7n1bAQKABuHufVsBA6I59iBlTsEDojn2IGVOwQOiOfYgZU7BA6I59iBlTsEDojn2IGVOwQOiOfYgZU7BA6I59iBlTsEDojn2IGVOwQOiOfYgZU7BA6I59iBlTsEDojn2IGVOwQOiOfYgZU7BA6o59iBlTsEDqjn2IGVOwQOqOfYgZU7BA6o59iBlTsEDqjn2IGVOwQOqOfYgZU7BA6o59iBlTsEDqjn2IGVOwQOqOfYgZU7BA6o59iBlTsEDqjn2IGVOwQOqOfYgZU7BA5459iBlTsEDnjn2IGVOwQOeOfYgZU7BA5459iBlTsEDnjn2IGVOwQOeOfYgZU7BA5459iBlTsEDnjn2IGVOwQOeOfYgZU7BA5459iBlTsEDnjn2IGVOwQOeOfYgZU7BA4rmM1eSyoUDiuYzV5LKhQOK5jNXksqFA4rmM1eSyoUDiuYzV5LKhQOK5jNXksqFA4rmM1eSyoUDiuYzV5LKhQOK5jNXksqFA4rmM1eSyoUDiuYzV5LKhQOK5jNXksqFAeX8q3D2om0B5fyrcPaibQHl/Ktw9qJtAeX8q3D2om0B5fyrcPaibQHl/Ktw9qJtAeX8q3D2om0B5fyrcPaibQHl/Ktw9qJtAeX8q3D2om0B5fyrcPaibQHl/Ktw9qJtA",
          "dtype": "f8"
         }
        }
       ],
       "layout": {
        "template": {
         "data": {
          "bar": [
           {
            "error_x": {
             "color": "#2a3f5f"
            },
            "error_y": {
             "color": "#2a3f5f"
            },
            "marker": {
             "line": {
              "color": "white",
              "width": 0.5
             },
             "pattern": {
              "fillmode": "overlay",
              "size": 10,
              "solidity": 0.2
             }
            },
            "type": "bar"
           }
          ],
          "barpolar": [
           {
            "marker": {
             "line": {
              "color": "white",
              "width": 0.5
             },
             "pattern": {
              "fillmode": "overlay",
              "size": 10,
              "solidity": 0.2
             }
            },
            "type": "barpolar"
           }
          ],
          "carpet": [
           {
            "aaxis": {
             "endlinecolor": "#2a3f5f",
             "gridcolor": "#C8D4E3",
             "linecolor": "#C8D4E3",
             "minorgridcolor": "#C8D4E3",
             "startlinecolor": "#2a3f5f"
            },
            "baxis": {
             "endlinecolor": "#2a3f5f",
             "gridcolor": "#C8D4E3",
             "linecolor": "#C8D4E3",
             "minorgridcolor": "#C8D4E3",
             "startlinecolor": "#2a3f5f"
            },
            "type": "carpet"
           }
          ],
          "choropleth": [
           {
            "colorbar": {
             "outlinewidth": 0,
             "ticks": ""
            },
            "type": "choropleth"
           }
          ],
          "contour": [
           {
            "colorbar": {
             "outlinewidth": 0,
             "ticks": ""
            },
            "colorscale": [
             [
              0,
              "#0d0887"
             ],
             [
              0.1111111111111111,
              "#46039f"
             ],
             [
              0.2222222222222222,
              "#7201a8"
             ],
             [
              0.3333333333333333,
              "#9c179e"
             ],
             [
              0.4444444444444444,
              "#bd3786"
             ],
             [
              0.5555555555555556,
              "#d8576b"
             ],
             [
              0.6666666666666666,
              "#ed7953"
             ],
             [
              0.7777777777777778,
              "#fb9f3a"
             ],
             [
              0.8888888888888888,
              "#fdca26"
             ],
             [
              1,
              "#f0f921"
             ]
            ],
            "type": "contour"
           }
          ],
          "contourcarpet": [
           {
            "colorbar": {
             "outlinewidth": 0,
             "ticks": ""
            },
            "type": "contourcarpet"
           }
          ],
          "heatmap": [
           {
            "colorbar": {
             "outlinewidth": 0,
             "ticks": ""
            },
            "colorscale": [
             [
              0,
              "#0d0887"
             ],
             [
              0.1111111111111111,
              "#46039f"
             ],
             [
              0.2222222222222222,
              "#7201a8"
             ],
             [
              0.3333333333333333,
              "#9c179e"
             ],
             [
              0.4444444444444444,
              "#bd3786"
             ],
             [
              0.5555555555555556,
              "#d8576b"
             ],
             [
              0.6666666666666666,
              "#ed7953"
             ],
             [
              0.7777777777777778,
              "#fb9f3a"
             ],
             [
              0.8888888888888888,
              "#fdca26"
             ],
             [
              1,
              "#f0f921"
             ]
            ],
            "type": "heatmap"
           }
          ],
          "histogram": [
           {
            "marker": {
             "pattern": {
              "fillmode": "overlay",
              "size": 10,
              "solidity": 0.2
             }
            },
            "type": "histogram"
           }
          ],
          "histogram2d": [
           {
            "colorbar": {
             "outlinewidth": 0,
             "ticks": ""
            },
            "colorscale": [
             [
              0,
              "#0d0887"
             ],
             [
              0.1111111111111111,
              "#46039f"
             ],
             [
              0.2222222222222222,
              "#7201a8"
             ],
             [
              0.3333333333333333,
              "#9c179e"
             ],
             [
              0.4444444444444444,
              "#bd3786"
             ],
             [
              0.5555555555555556,
              "#d8576b"
             ],
             [
              0.6666666666666666,
              "#ed7953"
             ],
             [
              0.7777777777777778,
              "#fb9f3a"
             ],
             [
              0.8888888888888888,
              "#fdca26"
             ],
             [
              1,
              "#f0f921"
             ]
            ],
            "type": "histogram2d"
           }
          ],
          "histogram2dcontour": [
           {
            "colorbar": {
             "outlinewidth": 0,
             "ticks": ""
            },
            "colorscale": [
             [
              0,
              "#0d0887"
             ],
             [
              0.1111111111111111,
              "#46039f"
             ],
             [
              0.2222222222222222,
              "#7201a8"
             ],
             [
              0.3333333333333333,
              "#9c179e"
             ],
             [
              0.4444444444444444,
              "#bd3786"
             ],
             [
              0.5555555555555556,
              "#d8576b"
             ],
             [
              0.6666666666666666,
              "#ed7953"
             ],
             [
              0.7777777777777778,
              "#fb9f3a"
             ],
             [
              0.8888888888888888,
              "#fdca26"
             ],
             [
              1,
              "#f0f921"
             ]
            ],
            "type": "histogram2dcontour"
           }
          ],
          "mesh3d": [
           {
            "colorbar": {
             "outlinewidth": 0,
             "ticks": ""
            },
            "type": "mesh3d"
           }
          ],
          "parcoords": [
           {
            "line": {
             "colorbar": {
              "outlinewidth": 0,
              "ticks": ""
             }
            },
            "type": "parcoords"
           }
          ],
          "pie": [
           {
            "automargin": true,
            "type": "pie"
           }
          ],
          "scatter": [
           {
            "fillpattern": {
             "fillmode": "overlay",
             "size": 10,
             "solidity": 0.2
            },
            "type": "scatter"
           }
          ],
          "scatter3d": [
           {
            "line": {
             "colorbar": {
              "outlinewidth": 0,
              "ticks": ""
             }
            },
            "marker": {
             "colorbar": {
              "outlinewidth": 0,
              "ticks": ""
             }
            },
            "type": "scatter3d"
           }
          ],
          "scattercarpet": [
           {
            "marker": {
             "colorbar": {
              "outlinewidth": 0,
              "ticks": ""
             }
            },
            "type": "scattercarpet"
           }
          ],
          "scattergeo": [
           {
            "marker": {
             "colorbar": {
              "outlinewidth": 0,
              "ticks": ""
             }
            },
            "type": "scattergeo"
           }
          ],
          "scattergl": [
           {
            "marker": {
             "colorbar": {
              "outlinewidth": 0,
              "ticks": ""
             }
            },
            "type": "scattergl"
           }
          ],
          "scattermap": [
           {
            "marker": {
             "colorbar": {
              "outlinewidth": 0,
              "ticks": ""
             }
            },
            "type": "scattermap"
           }
          ],
          "scattermapbox": [
           {
            "marker": {
             "colorbar": {
              "outlinewidth": 0,
              "ticks": ""
             }
            },
            "type": "scattermapbox"
           }
          ],
          "scatterpolar": [
           {
            "marker": {
             "colorbar": {
              "outlinewidth": 0,
              "ticks": ""
             }
            },
            "type": "scatterpolar"
           }
          ],
          "scatterpolargl": [
           {
            "marker": {
             "colorbar": {
              "outlinewidth": 0,
              "ticks": ""
             }
            },
            "type": "scatterpolargl"
           }
          ],
          "scatterternary": [
           {
            "marker": {
             "colorbar": {
              "outlinewidth": 0,
              "ticks": ""
             }
            },
            "type": "scatterternary"
           }
          ],
          "surface": [
           {
            "colorbar": {
             "outlinewidth": 0,
             "ticks": ""
            },
            "colorscale": [
             [
              0,
              "#0d0887"
             ],
             [
              0.1111111111111111,
              "#46039f"
             ],
             [
              0.2222222222222222,
              "#7201a8"
             ],
             [
              0.3333333333333333,
              "#9c179e"
             ],
             [
              0.4444444444444444,
              "#bd3786"
             ],
             [
              0.5555555555555556,
              "#d8576b"
             ],
             [
              0.6666666666666666,
              "#ed7953"
             ],
             [
              0.7777777777777778,
              "#fb9f3a"
             ],
             [
              0.8888888888888888,
              "#fdca26"
             ],
             [
              1,
              "#f0f921"
             ]
            ],
            "type": "surface"
           }
          ],
          "table": [
           {
            "cells": {
             "fill": {
              "color": "#EBF0F8"
             },
             "line": {
              "color": "white"
             }
            },
            "header": {
             "fill": {
              "color": "#C8D4E3"
             },
             "line": {
              "color": "white"
             }
            },
            "type": "table"
           }
          ]
         },
         "layout": {
          "annotationdefaults": {
           "arrowcolor": "#2a3f5f",
           "arrowhead": 0,
           "arrowwidth": 1
          },
          "autotypenumbers": "strict",
          "coloraxis": {
           "colorbar": {
            "outlinewidth": 0,
            "ticks": ""
           }
          },
          "colorscale": {
           "diverging": [
            [
             0,
             "#8e0152"
            ],
            [
             0.1,
             "#c51b7d"
            ],
            [
             0.2,
             "#de77ae"
            ],
            [
             0.3,
             "#f1b6da"
            ],
            [
             0.4,
             "#fde0ef"
            ],
            [
             0.5,
             "#f7f7f7"
            ],
            [
             0.6,
             "#e6f5d0"
            ],
            [
             0.7,
             "#b8e186"
            ],
            [
             0.8,
             "#7fbc41"
            ],
            [
             0.9,
             "#4d9221"
            ],
            [
             1,
             "#276419"
            ]
           ],
           "sequential": [
            [
             0,
             "#0d0887"
            ],
            [
             0.1111111111111111,
             "#46039f"
            ],
            [
             0.2222222222222222,
             "#7201a8"
            ],
            [
             0.3333333333333333,
             "#9c179e"
            ],
            [
             0.4444444444444444,
             "#bd3786"
            ],
            [
             0.5555555555555556,
             "#d8576b"
            ],
            [
             0.6666666666666666,
             "#ed7953"
            ],
            [
             0.7777777777777778,
             "#fb9f3a"
            ],
            [
             0.8888888888888888,
             "#fdca26"
            ],
            [
             1,
             "#f0f921"
            ]
           ],
           "sequentialminus": [
            [
             0,
             "#0d0887"
            ],
            [
             0.1111111111111111,
             "#46039f"
            ],
            [
             0.2222222222222222,
             "#7201a8"
            ],
            [
             0.3333333333333333,
             "#9c179e"
            ],
            [
             0.4444444444444444,
             "#bd3786"
            ],
            [
             0.5555555555555556,
             "#d8576b"
            ],
            [
             0.6666666666666666,
             "#ed7953"
            ],
            [
             0.7777777777777778,
             "#fb9f3a"
            ],
            [
             0.8888888888888888,
             "#fdca26"
            ],
            [
             1,
             "#f0f921"
            ]
           ]
          },
          "colorway": [
           "#636efa",
           "#EF553B",
           "#00cc96",
           "#ab63fa",
           "#FFA15A",
           "#19d3f3",
           "#FF6692",
           "#B6E880",
           "#FF97FF",
           "#FECB52"
          ],
          "font": {
           "color": "#2a3f5f"
          },
          "geo": {
           "bgcolor": "white",
           "lakecolor": "white",
           "landcolor": "white",
           "showlakes": true,
           "showland": true,
           "subunitcolor": "#C8D4E3"
          },
          "hoverlabel": {
           "align": "left"
          },
          "hovermode": "closest",
          "mapbox": {
           "style": "light"
          },
          "paper_bgcolor": "white",
          "plot_bgcolor": "white",
          "polar": {
           "angularaxis": {
            "gridcolor": "#EBF0F8",
            "linecolor": "#EBF0F8",
            "ticks": ""
           },
           "bgcolor": "white",
           "radialaxis": {
            "gridcolor": "#EBF0F8",
            "linecolor": "#EBF0F8",
            "ticks": ""
           }
          },
          "scene": {
           "xaxis": {
            "backgroundcolor": "white",
            "gridcolor": "#DFE8F3",
            "gridwidth": 2,
            "linecolor": "#EBF0F8",
            "showbackground": true,
            "ticks": "",
            "zerolinecolor": "#EBF0F8"
           },
           "yaxis": {
            "backgroundcolor": "white",
            "gridcolor": "#DFE8F3",
            "gridwidth": 2,
            "linecolor": "#EBF0F8",
            "showbackground": true,
            "ticks": "",
            "zerolinecolor": "#EBF0F8"
           },
           "zaxis": {
            "backgroundcolor": "white",
            "gridcolor": "#DFE8F3",
            "gridwidth": 2,
            "linecolor": "#EBF0F8",
            "showbackground": true,
            "ticks": "",
            "zerolinecolor": "#EBF0F8"
           }
          },
          "shapedefaults": {
           "line": {
            "color": "#2a3f5f"
           }
          },
          "ternary": {
           "aaxis": {
            "gridcolor": "#DFE8F3",
            "linecolor": "#A2B1C6",
            "ticks": ""
           },
           "baxis": {
            "gridcolor": "#DFE8F3",
            "linecolor": "#A2B1C6",
            "ticks": ""
           },
           "bgcolor": "white",
           "caxis": {
            "gridcolor": "#DFE8F3",
            "linecolor": "#A2B1C6",
            "ticks": ""
           }
          },
          "title": {
           "x": 0.05
          },
          "xaxis": {
           "automargin": true,
           "gridcolor": "#EBF0F8",
           "linecolor": "#EBF0F8",
           "ticks": "",
           "title": {
            "standoff": 15
           },
           "zerolinecolor": "#EBF0F8",
           "zerolinewidth": 2
          },
          "yaxis": {
           "automargin": true,
           "gridcolor": "#EBF0F8",
           "linecolor": "#EBF0F8",
           "ticks": "",
           "title": {
            "standoff": 15
           },
           "zerolinecolor": "#EBF0F8",
           "zerolinewidth": 2
          }
         }
        },
        "title": {
         "text": "Obligaciones de energía firme por mes"
        },
        "xaxis": {
         "title": {
          "text": "Mes"
         }
        },
        "yaxis": {
         "title": {
          "text": "GW-mes"
         }
        }
       }
      }
     },
     "metadata": {},
     "output_type": "display_data"
    }
   ],
   "source": [
    "fig = go.Figure(data=[                                  # Se crea la gráfica de barras\n",
    "    go.Bar(\n",
    "        x=df_mensual['Mes'],                     # Valores Eje X\n",
    "        y=df_mensual['Energia'],                 # Valores Eje Y\n",
    "        marker_color='skyblue'                       # Color del gráfico\n",
    "    )\n",
    "])\n",
    "\n",
    "fig.update_layout(                                      # Configurar el diseño del gráfico\n",
    "    title='Obligaciones de energía firme por mes',  # Título del gráfico\n",
    "    xaxis_title='Mes',                        # Título Eje X\n",
    "    yaxis_title='GW-mes',                                  # Título Eje Y\n",
    "    template='plotly_white'\n",
    ")\n",
    "\n",
    "fig.show()                                              # Se muestra el gráfico"
   ]
  }
 ],
 "metadata": {
  "kernelspec": {
   "display_name": ".venv",
   "language": "python",
   "name": "python3"
  },
  "language_info": {
   "codemirror_mode": {
    "name": "ipython",
    "version": 3
   },
   "file_extension": ".py",
   "mimetype": "text/x-python",
   "name": "python",
   "nbconvert_exporter": "python",
   "pygments_lexer": "ipython3",
   "version": "3.13.5"
  }
 },
 "nbformat": 4,
 "nbformat_minor": 2
}
