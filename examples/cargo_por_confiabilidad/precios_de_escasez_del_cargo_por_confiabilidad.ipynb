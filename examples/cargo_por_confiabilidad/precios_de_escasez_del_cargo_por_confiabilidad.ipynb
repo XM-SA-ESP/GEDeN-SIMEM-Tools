{
 "cells": [
  {
   "attachments": {
    "SIMEM_logo_1.png": {
     "image/png": "[encoded data removed]"
    }
   },
   "cell_type": "markdown",
   "metadata": {},
   "source": [
    "![SIMEM_logo_1.png](attachment:SIMEM_logo_1.png)\n",
    "\n",
    "[SiMEM](https://www.simem.co/)"
   ]
  },
  {
   "cell_type": "markdown",
   "metadata": {},
   "source": [
    "## Caso de uso - Precios de escasez del Cargo por Confiabilidad\n",
    "\n",
    "# Objetivos de este Notebook\n",
    "\n",
    "* Explicar cómo se realiza la instalación e importación de la librería pydataxm desde la consola para su uso en ambientes locales\n",
    "* Explicar cómo se pueden consultar los conjuntos de datos a través de la librería Pydataxm\n",
    "* Explicar cómo realizar el procesamiento y manipulación de los datos consultados\n",
    "* Explicar el análisis de los datos consultados para dar respuesta al caso de uso propuesto\n",
    " \n",
    "**Índice**\n",
    "\n",
    "1. [Instalación de librerías](#section1)\n",
    "\n",
    "2. [Importación de librerías](#section2)\n",
    "\n",
    "3. [Consultar información de los conjuntos de datos](#section3)\n",
    "\n",
    "4. [Manipulación de datos](#section4)\n",
    "\n",
    "5. [Análisis para dar respuesta al caso de uso](#section5)"
   ]
  },
  {
   "cell_type": "markdown",
   "metadata": {},
   "source": [
    "<a id='section1'></a>\n",
    "# 1. Instalación de la librería\n",
    "Ejecutar el siguiente comando en el CMD para instalar la librería de python."
   ]
  },
  {
   "cell_type": "code",
   "execution_count": 1,
   "metadata": {},
   "outputs": [],
   "source": [
    "# import sys\n",
    "# !{sys.executable} -m pip install pydataxm"
   ]
  },
  {
   "cell_type": "markdown",
   "metadata": {},
   "source": [
    "<a id='section2'></a>\n",
    "# 2. Importación de librerías"
   ]
  },
  {
   "cell_type": "code",
   "execution_count": 2,
   "metadata": {},
   "outputs": [],
   "source": [
    "# Importación de librerías necesarias para la consulta y análisis de datos\n",
    "from pydataxm.pydatasimem import ReadSIMEM, VariableSIMEM  # Importa clases para interactuar con datos del sistema SIMEM, utilizado para acceder a información energética en Colombia\n",
    "import pandas as pd                         # Librería para manipulación y análisis de datos en estructuras tipo DataFrame, muy útil para limpiar, transformar y explorar datos\n",
    "import matplotlib.pyplot as plt             # Para crear gráficos estáticos como barras, líneas, histogramas, etc."
   ]
  },
  {
   "cell_type": "markdown",
   "metadata": {},
   "source": [
    "<a id='section3'></a>\n",
    "# 3. Consultar información de los conjuntos de datos\n",
    "El método de extracción recibe los parámetros con los que se va a realizar la consulta. \n",
    "El datasetID para un conjunto particular se puede encontrar en el [catálogo de conjuntos de datos.](https://www.simem.co/pages/catalogodatos/51FC0A59-3A00-462C-B449-9CB8D5E007FB)  \n",
    "Para este ejemplo el conjunto a presentar es  [Precios de escasez del Cargo por Confiabilidad](https://www.simem.co/datadetail/AE3F2310-154D-4391-B17C-081A83BC6E0F)."
   ]
  },
  {
   "cell_type": "markdown",
   "metadata": {},
   "source": [
    "Se definen los parámetros de entrada y se crea el objeto ReadSIMEM() para realizar las consultas."
   ]
  },
  {
   "cell_type": "markdown",
   "metadata": {},
   "source": [
    "La función main contiene todo el proceso para transportar la información del dataset entre el rango de fechas solicitadas a un dataframe. Después de este paso, el proceso es de manipulación y visualización de datos."
   ]
  },
  {
   "cell_type": "code",
   "execution_count": 3,
   "metadata": {},
   "outputs": [
    {
     "name": "stdout",
     "output_type": "stream",
     "text": [
      "****************************************************************************************************\n",
      "Initializing object\n",
      "The object has been initialized with the dataset: \"Precios de escasez del Cargo por Confiabilidad\"\n",
      "****************************************************************************************************\n",
      "Inicio consulta sincronica\n",
      "Creacion url: 0.0014729499816894531\n",
      "Extraccion de registros: 3.7891101837158203\n",
      "End of data extracting process\n",
      "****************************************************************************************************\n"
     ]
    },
    {
     "data": {
      "application/vnd.microsoft.datawrangler.viewer.v0+json": {
       "columns": [
        {
         "name": "index",
         "rawType": "int64",
         "type": "integer"
        },
        {
         "name": "CodigoVariable",
         "rawType": "object",
         "type": "string"
        },
        {
         "name": "Fecha",
         "rawType": "object",
         "type": "string"
        },
        {
         "name": "CodigoDuracion",
         "rawType": "object",
         "type": "string"
        },
        {
         "name": "Valor",
         "rawType": "float64",
         "type": "float"
        }
       ],
       "ref": "738664c3-b328-40d2-a1b3-554547371558",
       "rows": [
        [
         "0",
         "PrecioEscasezSuperior",
         "2025-06-01",
         "P1M",
         "858.7901"
        ],
        [
         "1",
         "PrecioEscasez",
         "2025-06-01",
         "P1M",
         "673.7357"
        ],
        [
         "2",
         "PrecioEscasezInferior",
         "2025-06-01",
         "P1M",
         "345.376"
        ],
        [
         "3",
         "PrecioEscasez",
         "2025-05-01",
         "P1M",
         "724.3077"
        ],
        [
         "4",
         "PrecioEscasezSuperior",
         "2025-05-01",
         "P1M",
         "891.2178"
        ],
        [
         "5",
         "PrecioEscasezInferior",
         "2025-05-01",
         "P1M",
         "338.544"
        ],
        [
         "6",
         "PrecioEscasez",
         "2025-04-01",
         "P1M",
         "739.7958"
        ],
        [
         "7",
         "PrecioEscasezInferior",
         "2025-04-01",
         "P1M",
         "336.12"
        ],
        [
         "8",
         "PrecioEscasezSuperior",
         "2025-04-01",
         "P1M",
         "928.3287"
        ],
        [
         "9",
         "PrecioEscasezSuperior",
         "2025-03-01",
         "P1M",
         "937.3031"
        ],
        [
         "10",
         "PrecioEscasezInferior",
         "2025-03-01",
         "P1M",
         "323.892"
        ],
        [
         "11",
         "PrecioEscasez",
         "2025-03-01",
         "P1M",
         "770.5473"
        ],
        [
         "12",
         "PrecioEscasez",
         "2025-02-01",
         "P1M",
         "793.9002"
        ],
        [
         "13",
         "PrecioEscasezActivacion",
         "2025-02-01",
         "P1M",
         "970.5912"
        ],
        [
         "14",
         "PrecioMarginalEscasez",
         "2025-02-01",
         "P1M",
         "970.5912"
        ],
        [
         "15",
         "PrecioEscasezActivacion",
         "2025-01-01",
         "P1M",
         "951.7622"
        ],
        [
         "16",
         "PrecioEscasez",
         "2025-01-01",
         "P1M",
         "797.3857"
        ],
        [
         "17",
         "PrecioMarginalEscasez",
         "2025-01-01",
         "P1M",
         "951.7622"
        ],
        [
         "18",
         "PrecioEscasezActivacion",
         "2024-12-01",
         "P1M",
         "948.8451"
        ],
        [
         "19",
         "PrecioEscasez",
         "2024-12-01",
         "P1M",
         "798.7259"
        ]
       ],
       "shape": {
        "columns": 4,
        "rows": 20
       }
      },
      "text/html": [
       "<div>\n",
       "<style scoped>\n",
       "    .dataframe tbody tr th:only-of-type {\n",
       "        vertical-align: middle;\n",
       "    }\n",
       "\n",
       "    .dataframe tbody tr th {\n",
       "        vertical-align: top;\n",
       "    }\n",
       "\n",
       "    .dataframe thead th {\n",
       "        text-align: right;\n",
       "    }\n",
       "</style>\n",
       "<table border=\"1\" class=\"dataframe\">\n",
       "  <thead>\n",
       "    <tr style=\"text-align: right;\">\n",
       "      <th></th>\n",
       "      <th>CodigoVariable</th>\n",
       "      <th>Fecha</th>\n",
       "      <th>CodigoDuracion</th>\n",
       "      <th>Valor</th>\n",
       "    </tr>\n",
       "  </thead>\n",
       "  <tbody>\n",
       "    <tr>\n",
       "      <th>0</th>\n",
       "      <td>PrecioEscasezSuperior</td>\n",
       "      <td>2025-06-01</td>\n",
       "      <td>P1M</td>\n",
       "      <td>858.7901</td>\n",
       "    </tr>\n",
       "    <tr>\n",
       "      <th>1</th>\n",
       "      <td>PrecioEscasez</td>\n",
       "      <td>2025-06-01</td>\n",
       "      <td>P1M</td>\n",
       "      <td>673.7357</td>\n",
       "    </tr>\n",
       "    <tr>\n",
       "      <th>2</th>\n",
       "      <td>PrecioEscasezInferior</td>\n",
       "      <td>2025-06-01</td>\n",
       "      <td>P1M</td>\n",
       "      <td>345.3760</td>\n",
       "    </tr>\n",
       "    <tr>\n",
       "      <th>3</th>\n",
       "      <td>PrecioEscasez</td>\n",
       "      <td>2025-05-01</td>\n",
       "      <td>P1M</td>\n",
       "      <td>724.3077</td>\n",
       "    </tr>\n",
       "    <tr>\n",
       "      <th>4</th>\n",
       "      <td>PrecioEscasezSuperior</td>\n",
       "      <td>2025-05-01</td>\n",
       "      <td>P1M</td>\n",
       "      <td>891.2178</td>\n",
       "    </tr>\n",
       "    <tr>\n",
       "      <th>5</th>\n",
       "      <td>PrecioEscasezInferior</td>\n",
       "      <td>2025-05-01</td>\n",
       "      <td>P1M</td>\n",
       "      <td>338.5440</td>\n",
       "    </tr>\n",
       "    <tr>\n",
       "      <th>6</th>\n",
       "      <td>PrecioEscasez</td>\n",
       "      <td>2025-04-01</td>\n",
       "      <td>P1M</td>\n",
       "      <td>739.7958</td>\n",
       "    </tr>\n",
       "    <tr>\n",
       "      <th>7</th>\n",
       "      <td>PrecioEscasezInferior</td>\n",
       "      <td>2025-04-01</td>\n",
       "      <td>P1M</td>\n",
       "      <td>336.1200</td>\n",
       "    </tr>\n",
       "    <tr>\n",
       "      <th>8</th>\n",
       "      <td>PrecioEscasezSuperior</td>\n",
       "      <td>2025-04-01</td>\n",
       "      <td>P1M</td>\n",
       "      <td>928.3287</td>\n",
       "    </tr>\n",
       "    <tr>\n",
       "      <th>9</th>\n",
       "      <td>PrecioEscasezSuperior</td>\n",
       "      <td>2025-03-01</td>\n",
       "      <td>P1M</td>\n",
       "      <td>937.3031</td>\n",
       "    </tr>\n",
       "    <tr>\n",
       "      <th>10</th>\n",
       "      <td>PrecioEscasezInferior</td>\n",
       "      <td>2025-03-01</td>\n",
       "      <td>P1M</td>\n",
       "      <td>323.8920</td>\n",
       "    </tr>\n",
       "    <tr>\n",
       "      <th>11</th>\n",
       "      <td>PrecioEscasez</td>\n",
       "      <td>2025-03-01</td>\n",
       "      <td>P1M</td>\n",
       "      <td>770.5473</td>\n",
       "    </tr>\n",
       "    <tr>\n",
       "      <th>12</th>\n",
       "      <td>PrecioEscasez</td>\n",
       "      <td>2025-02-01</td>\n",
       "      <td>P1M</td>\n",
       "      <td>793.9002</td>\n",
       "    </tr>\n",
       "    <tr>\n",
       "      <th>13</th>\n",
       "      <td>PrecioEscasezActivacion</td>\n",
       "      <td>2025-02-01</td>\n",
       "      <td>P1M</td>\n",
       "      <td>970.5912</td>\n",
       "    </tr>\n",
       "    <tr>\n",
       "      <th>14</th>\n",
       "      <td>PrecioMarginalEscasez</td>\n",
       "      <td>2025-02-01</td>\n",
       "      <td>P1M</td>\n",
       "      <td>970.5912</td>\n",
       "    </tr>\n",
       "    <tr>\n",
       "      <th>15</th>\n",
       "      <td>PrecioEscasezActivacion</td>\n",
       "      <td>2025-01-01</td>\n",
       "      <td>P1M</td>\n",
       "      <td>951.7622</td>\n",
       "    </tr>\n",
       "    <tr>\n",
       "      <th>16</th>\n",
       "      <td>PrecioEscasez</td>\n",
       "      <td>2025-01-01</td>\n",
       "      <td>P1M</td>\n",
       "      <td>797.3857</td>\n",
       "    </tr>\n",
       "    <tr>\n",
       "      <th>17</th>\n",
       "      <td>PrecioMarginalEscasez</td>\n",
       "      <td>2025-01-01</td>\n",
       "      <td>P1M</td>\n",
       "      <td>951.7622</td>\n",
       "    </tr>\n",
       "    <tr>\n",
       "      <th>18</th>\n",
       "      <td>PrecioEscasezActivacion</td>\n",
       "      <td>2024-12-01</td>\n",
       "      <td>P1M</td>\n",
       "      <td>948.8451</td>\n",
       "    </tr>\n",
       "    <tr>\n",
       "      <th>19</th>\n",
       "      <td>PrecioEscasez</td>\n",
       "      <td>2024-12-01</td>\n",
       "      <td>P1M</td>\n",
       "      <td>798.7259</td>\n",
       "    </tr>\n",
       "  </tbody>\n",
       "</table>\n",
       "</div>"
      ],
      "text/plain": [
       "             CodigoVariable       Fecha CodigoDuracion     Valor\n",
       "0     PrecioEscasezSuperior  2025-06-01            P1M  858.7901\n",
       "1             PrecioEscasez  2025-06-01            P1M  673.7357\n",
       "2     PrecioEscasezInferior  2025-06-01            P1M  345.3760\n",
       "3             PrecioEscasez  2025-05-01            P1M  724.3077\n",
       "4     PrecioEscasezSuperior  2025-05-01            P1M  891.2178\n",
       "5     PrecioEscasezInferior  2025-05-01            P1M  338.5440\n",
       "6             PrecioEscasez  2025-04-01            P1M  739.7958\n",
       "7     PrecioEscasezInferior  2025-04-01            P1M  336.1200\n",
       "8     PrecioEscasezSuperior  2025-04-01            P1M  928.3287\n",
       "9     PrecioEscasezSuperior  2025-03-01            P1M  937.3031\n",
       "10    PrecioEscasezInferior  2025-03-01            P1M  323.8920\n",
       "11            PrecioEscasez  2025-03-01            P1M  770.5473\n",
       "12            PrecioEscasez  2025-02-01            P1M  793.9002\n",
       "13  PrecioEscasezActivacion  2025-02-01            P1M  970.5912\n",
       "14    PrecioMarginalEscasez  2025-02-01            P1M  970.5912\n",
       "15  PrecioEscasezActivacion  2025-01-01            P1M  951.7622\n",
       "16            PrecioEscasez  2025-01-01            P1M  797.3857\n",
       "17    PrecioMarginalEscasez  2025-01-01            P1M  951.7622\n",
       "18  PrecioEscasezActivacion  2024-12-01            P1M  948.8451\n",
       "19            PrecioEscasez  2024-12-01            P1M  798.7259"
      ]
     },
     "metadata": {},
     "output_type": "display_data"
    }
   ],
   "source": [
    "id_dataset = 'ae3f23'                                       # ID del conjunto de datos a consultar\n",
    "fecha_inicial = '2024-01-01'                                # Fecha de inicio del rango de consulta\n",
    "fecha_final = '2025-06-30'                                  # Fecha de fin del rango de consulta\n",
    "simem = ReadSIMEM(id_dataset, fecha_inicial, fecha_final)   # Instancia de la clase ReadSIMEM con los parámetros definidos\n",
    "df_pe = simem.main()                                        # Ejecución del método principal para obtener los datos en un DataFrame\n",
    "display(df_pe.head(20))                                     # Visualización de las primeras 20 filas del DataFrame"
   ]
  },
  {
   "cell_type": "markdown",
   "metadata": {},
   "source": [
    "Se leerá el conjunto de datos con el precio de bolsa horario con los mismos rangos de fechas, y este luego se filtrará por su máxima versión"
   ]
  },
  {
   "cell_type": "code",
   "execution_count": 4,
   "metadata": {},
   "outputs": [
    {
     "name": "stdout",
     "output_type": "stream",
     "text": [
      "****************************************************************************************************\n",
      "Initializing object\n",
      "The object has been initialized with the dataset: \"Precio de bolsa horario\"\n",
      "****************************************************************************************************\n",
      "Inicio consulta sincronica\n",
      "Creacion url: 0.0021131038665771484\n",
      "Extraccion de registros: 65.31173491477966\n",
      "End of data extracting process\n",
      "****************************************************************************************************\n",
      "****************************************************************************************************\n",
      "Initializing object\n",
      "The object has been initialized with the dataset: \"Versiones de factura para la liquidación mensual\"\n",
      "****************************************************************************************************\n",
      "Inicio consulta sincronica\n",
      "Creacion url: 0.0011534690856933594\n",
      "Extraccion de registros: 19.18060851097107\n",
      "End of data extracting process\n",
      "****************************************************************************************************\n"
     ]
    },
    {
     "data": {
      "application/vnd.microsoft.datawrangler.viewer.v0+json": {
       "columns": [
        {
         "name": "('FechaHora', 'Version')",
         "rawType": "object",
         "type": "unknown"
        },
        {
         "name": "CodigoVariable",
         "rawType": "object",
         "type": "string"
        },
        {
         "name": "CodigoDuracion",
         "rawType": "object",
         "type": "string"
        },
        {
         "name": "UnidadMedida",
         "rawType": "object",
         "type": "string"
        },
        {
         "name": "Valor",
         "rawType": "float64",
         "type": "float"
        }
       ],
       "ref": "c2124da9-8785-41e2-870e-12a3a8ee2890",
       "rows": [
        [
         "('2024-01-31 23:00:00', 'TX5')",
         "PB_Nal",
         "PT1H",
         "COP/kWh",
         "620.1993"
        ],
        [
         "('2024-01-31 22:00:00', 'TX5')",
         "PB_Nal",
         "PT1H",
         "COP/kWh",
         "620.1993"
        ],
        [
         "('2024-01-31 21:00:00', 'TX5')",
         "PB_Nal",
         "PT1H",
         "COP/kWh",
         "672.3103"
        ],
        [
         "('2024-01-31 20:00:00', 'TX5')",
         "PB_Nal",
         "PT1H",
         "COP/kWh",
         "672.3103"
        ],
        [
         "('2024-01-31 19:00:00', 'TX5')",
         "PB_Nal",
         "PT1H",
         "COP/kWh",
         "672.3103"
        ],
        [
         "('2024-01-31 18:00:00', 'TX5')",
         "PB_Nal",
         "PT1H",
         "COP/kWh",
         "672.3103"
        ],
        [
         "('2024-01-31 17:00:00', 'TX5')",
         "PB_Nal",
         "PT1H",
         "COP/kWh",
         "672.3103"
        ],
        [
         "('2024-01-31 16:00:00', 'TX5')",
         "PB_Nal",
         "PT1H",
         "COP/kWh",
         "672.3103"
        ],
        [
         "('2024-01-31 15:00:00', 'TX5')",
         "PB_Nal",
         "PT1H",
         "COP/kWh",
         "672.3103"
        ],
        [
         "('2024-01-31 14:00:00', 'TX5')",
         "PB_Nal",
         "PT1H",
         "COP/kWh",
         "672.3103"
        ]
       ],
       "shape": {
        "columns": 4,
        "rows": 10
       }
      },
      "text/html": [
       "<div>\n",
       "<style scoped>\n",
       "    .dataframe tbody tr th:only-of-type {\n",
       "        vertical-align: middle;\n",
       "    }\n",
       "\n",
       "    .dataframe tbody tr th {\n",
       "        vertical-align: top;\n",
       "    }\n",
       "\n",
       "    .dataframe thead th {\n",
       "        text-align: right;\n",
       "    }\n",
       "</style>\n",
       "<table border=\"1\" class=\"dataframe\">\n",
       "  <thead>\n",
       "    <tr style=\"text-align: right;\">\n",
       "      <th></th>\n",
       "      <th></th>\n",
       "      <th>CodigoVariable</th>\n",
       "      <th>CodigoDuracion</th>\n",
       "      <th>UnidadMedida</th>\n",
       "      <th>Valor</th>\n",
       "    </tr>\n",
       "    <tr>\n",
       "      <th>FechaHora</th>\n",
       "      <th>Version</th>\n",
       "      <th></th>\n",
       "      <th></th>\n",
       "      <th></th>\n",
       "      <th></th>\n",
       "    </tr>\n",
       "  </thead>\n",
       "  <tbody>\n",
       "    <tr>\n",
       "      <th>2024-01-31 23:00:00</th>\n",
       "      <th>TX5</th>\n",
       "      <td>PB_Nal</td>\n",
       "      <td>PT1H</td>\n",
       "      <td>COP/kWh</td>\n",
       "      <td>620.1993</td>\n",
       "    </tr>\n",
       "    <tr>\n",
       "      <th>2024-01-31 22:00:00</th>\n",
       "      <th>TX5</th>\n",
       "      <td>PB_Nal</td>\n",
       "      <td>PT1H</td>\n",
       "      <td>COP/kWh</td>\n",
       "      <td>620.1993</td>\n",
       "    </tr>\n",
       "    <tr>\n",
       "      <th>2024-01-31 21:00:00</th>\n",
       "      <th>TX5</th>\n",
       "      <td>PB_Nal</td>\n",
       "      <td>PT1H</td>\n",
       "      <td>COP/kWh</td>\n",
       "      <td>672.3103</td>\n",
       "    </tr>\n",
       "    <tr>\n",
       "      <th>2024-01-31 20:00:00</th>\n",
       "      <th>TX5</th>\n",
       "      <td>PB_Nal</td>\n",
       "      <td>PT1H</td>\n",
       "      <td>COP/kWh</td>\n",
       "      <td>672.3103</td>\n",
       "    </tr>\n",
       "    <tr>\n",
       "      <th>2024-01-31 19:00:00</th>\n",
       "      <th>TX5</th>\n",
       "      <td>PB_Nal</td>\n",
       "      <td>PT1H</td>\n",
       "      <td>COP/kWh</td>\n",
       "      <td>672.3103</td>\n",
       "    </tr>\n",
       "    <tr>\n",
       "      <th>2024-01-31 18:00:00</th>\n",
       "      <th>TX5</th>\n",
       "      <td>PB_Nal</td>\n",
       "      <td>PT1H</td>\n",
       "      <td>COP/kWh</td>\n",
       "      <td>672.3103</td>\n",
       "    </tr>\n",
       "    <tr>\n",
       "      <th>2024-01-31 17:00:00</th>\n",
       "      <th>TX5</th>\n",
       "      <td>PB_Nal</td>\n",
       "      <td>PT1H</td>\n",
       "      <td>COP/kWh</td>\n",
       "      <td>672.3103</td>\n",
       "    </tr>\n",
       "    <tr>\n",
       "      <th>2024-01-31 16:00:00</th>\n",
       "      <th>TX5</th>\n",
       "      <td>PB_Nal</td>\n",
       "      <td>PT1H</td>\n",
       "      <td>COP/kWh</td>\n",
       "      <td>672.3103</td>\n",
       "    </tr>\n",
       "    <tr>\n",
       "      <th>2024-01-31 15:00:00</th>\n",
       "      <th>TX5</th>\n",
       "      <td>PB_Nal</td>\n",
       "      <td>PT1H</td>\n",
       "      <td>COP/kWh</td>\n",
       "      <td>672.3103</td>\n",
       "    </tr>\n",
       "    <tr>\n",
       "      <th>2024-01-31 14:00:00</th>\n",
       "      <th>TX5</th>\n",
       "      <td>PB_Nal</td>\n",
       "      <td>PT1H</td>\n",
       "      <td>COP/kWh</td>\n",
       "      <td>672.3103</td>\n",
       "    </tr>\n",
       "  </tbody>\n",
       "</table>\n",
       "</div>"
      ],
      "text/plain": [
       "                            CodigoVariable CodigoDuracion UnidadMedida  \\\n",
       "FechaHora           Version                                              \n",
       "2024-01-31 23:00:00 TX5             PB_Nal           PT1H      COP/kWh   \n",
       "2024-01-31 22:00:00 TX5             PB_Nal           PT1H      COP/kWh   \n",
       "2024-01-31 21:00:00 TX5             PB_Nal           PT1H      COP/kWh   \n",
       "2024-01-31 20:00:00 TX5             PB_Nal           PT1H      COP/kWh   \n",
       "2024-01-31 19:00:00 TX5             PB_Nal           PT1H      COP/kWh   \n",
       "2024-01-31 18:00:00 TX5             PB_Nal           PT1H      COP/kWh   \n",
       "2024-01-31 17:00:00 TX5             PB_Nal           PT1H      COP/kWh   \n",
       "2024-01-31 16:00:00 TX5             PB_Nal           PT1H      COP/kWh   \n",
       "2024-01-31 15:00:00 TX5             PB_Nal           PT1H      COP/kWh   \n",
       "2024-01-31 14:00:00 TX5             PB_Nal           PT1H      COP/kWh   \n",
       "\n",
       "                                Valor  \n",
       "FechaHora           Version            \n",
       "2024-01-31 23:00:00 TX5      620.1993  \n",
       "2024-01-31 22:00:00 TX5      620.1993  \n",
       "2024-01-31 21:00:00 TX5      672.3103  \n",
       "2024-01-31 20:00:00 TX5      672.3103  \n",
       "2024-01-31 19:00:00 TX5      672.3103  \n",
       "2024-01-31 18:00:00 TX5      672.3103  \n",
       "2024-01-31 17:00:00 TX5      672.3103  \n",
       "2024-01-31 16:00:00 TX5      672.3103  \n",
       "2024-01-31 15:00:00 TX5      672.3103  \n",
       "2024-01-31 14:00:00 TX5      672.3103  "
      ]
     },
     "metadata": {},
     "output_type": "display_data"
    }
   ],
   "source": [
    "cod_variable = 'PB_Nal'                                                 # ID del conjunto de datos a consultar\n",
    "fecha_inicial = '2024-01-01'                                            # Fecha de inicio del rango de consulta\n",
    "fecha_final = '2025-06-30'                                              # Fecha de fin del rango de consulta\n",
    "simem_pbNal = VariableSIMEM(cod_variable, fecha_inicial, fecha_final)   # Instancia de la clase ReadSIMEM con los parámetros definidos\n",
    "df_pbNal = simem_pbNal.get_data()                                       # Ejecución del método principal para obtener los datos en un DataFrame\n",
    "display(df_pbNal.head(10))                                              # Visualización de las primeras 10 filas del DataFrame"
   ]
  },
  {
   "cell_type": "markdown",
   "metadata": {},
   "source": [
    "<a id='section4'></a>\n",
    "# 4. Manipulación de datos\n",
    "Los siguientes pasos corresponden a las actividades de manipulación y preparación de los datos que son relevantes para el análisis. "
   ]
  },
  {
   "cell_type": "markdown",
   "metadata": {},
   "source": [
    "Los dataframes se filtarán para tener los datos necesarios para la visualización."
   ]
  },
  {
   "cell_type": "code",
   "execution_count": 5,
   "metadata": {},
   "outputs": [
    {
     "data": {
      "application/vnd.microsoft.datawrangler.viewer.v0+json": {
       "columns": [
        {
         "name": "index",
         "rawType": "int64",
         "type": "integer"
        },
        {
         "name": "Fecha",
         "rawType": "object",
         "type": "string"
        },
        {
         "name": "CodigoVariable",
         "rawType": "object",
         "type": "string"
        },
        {
         "name": "Valor",
         "rawType": "float64",
         "type": "float"
        }
       ],
       "ref": "78e9d79b-72ff-40b4-84b6-9cdad3f3302d",
       "rows": [
        [
         "0",
         "2025-06-01",
         "PrecioEscasezSuperior",
         "858.7901"
        ],
        [
         "1",
         "2025-06-01",
         "PrecioEscasez",
         "673.7357"
        ],
        [
         "2",
         "2025-06-01",
         "PrecioEscasezInferior",
         "345.376"
        ],
        [
         "3",
         "2025-05-01",
         "PrecioEscasez",
         "724.3077"
        ],
        [
         "4",
         "2025-05-01",
         "PrecioEscasezSuperior",
         "891.2178"
        ]
       ],
       "shape": {
        "columns": 3,
        "rows": 5
       }
      },
      "text/html": [
       "<div>\n",
       "<style scoped>\n",
       "    .dataframe tbody tr th:only-of-type {\n",
       "        vertical-align: middle;\n",
       "    }\n",
       "\n",
       "    .dataframe tbody tr th {\n",
       "        vertical-align: top;\n",
       "    }\n",
       "\n",
       "    .dataframe thead th {\n",
       "        text-align: right;\n",
       "    }\n",
       "</style>\n",
       "<table border=\"1\" class=\"dataframe\">\n",
       "  <thead>\n",
       "    <tr style=\"text-align: right;\">\n",
       "      <th></th>\n",
       "      <th>Fecha</th>\n",
       "      <th>CodigoVariable</th>\n",
       "      <th>Valor</th>\n",
       "    </tr>\n",
       "  </thead>\n",
       "  <tbody>\n",
       "    <tr>\n",
       "      <th>0</th>\n",
       "      <td>2025-06-01</td>\n",
       "      <td>PrecioEscasezSuperior</td>\n",
       "      <td>858.7901</td>\n",
       "    </tr>\n",
       "    <tr>\n",
       "      <th>1</th>\n",
       "      <td>2025-06-01</td>\n",
       "      <td>PrecioEscasez</td>\n",
       "      <td>673.7357</td>\n",
       "    </tr>\n",
       "    <tr>\n",
       "      <th>2</th>\n",
       "      <td>2025-06-01</td>\n",
       "      <td>PrecioEscasezInferior</td>\n",
       "      <td>345.3760</td>\n",
       "    </tr>\n",
       "    <tr>\n",
       "      <th>3</th>\n",
       "      <td>2025-05-01</td>\n",
       "      <td>PrecioEscasez</td>\n",
       "      <td>724.3077</td>\n",
       "    </tr>\n",
       "    <tr>\n",
       "      <th>4</th>\n",
       "      <td>2025-05-01</td>\n",
       "      <td>PrecioEscasezSuperior</td>\n",
       "      <td>891.2178</td>\n",
       "    </tr>\n",
       "  </tbody>\n",
       "</table>\n",
       "</div>"
      ],
      "text/plain": [
       "        Fecha         CodigoVariable     Valor\n",
       "0  2025-06-01  PrecioEscasezSuperior  858.7901\n",
       "1  2025-06-01          PrecioEscasez  673.7357\n",
       "2  2025-06-01  PrecioEscasezInferior  345.3760\n",
       "3  2025-05-01          PrecioEscasez  724.3077\n",
       "4  2025-05-01  PrecioEscasezSuperior  891.2178"
      ]
     },
     "metadata": {},
     "output_type": "display_data"
    }
   ],
   "source": [
    "df_pe_filtrado = df_pe[['Fecha', 'CodigoVariable','Valor']]          # Selecciona únicamente las columnas 'Fecha','CodigoVariable' y 'Valor' del DataFrame\n",
    "\n",
    "display(df_pe_filtrado.head(5))                                      # Muestra el DataFrame filtrado"
   ]
  },
  {
   "cell_type": "code",
   "execution_count": 6,
   "metadata": {},
   "outputs": [
    {
     "data": {
      "application/vnd.microsoft.datawrangler.viewer.v0+json": {
       "columns": [
        {
         "name": "index",
         "rawType": "int64",
         "type": "integer"
        },
        {
         "name": "Fecha",
         "rawType": "object",
         "type": "string"
        },
        {
         "name": "PrecioEscasez",
         "rawType": "float64",
         "type": "float"
        },
        {
         "name": "PrecioEscasezActivacion",
         "rawType": "float64",
         "type": "float"
        },
        {
         "name": "PrecioEscasezInferior",
         "rawType": "float64",
         "type": "float"
        },
        {
         "name": "PrecioEscasezSuperior",
         "rawType": "float64",
         "type": "float"
        },
        {
         "name": "PrecioMarginalEscasez",
         "rawType": "float64",
         "type": "float"
        }
       ],
       "ref": "78d7d44b-83cd-4a7e-83e1-5b346ac2cc92",
       "rows": [
        [
         "0",
         "2024-01-01",
         "739.8685",
         "1045.0804",
         null,
         null,
         "1045.0804"
        ],
        [
         "1",
         "2024-02-01",
         "745.6851",
         "1019.3739",
         null,
         null,
         "1019.3739"
        ],
        [
         "2",
         "2024-03-01",
         "727.8256",
         "1034.4405",
         null,
         null,
         "1034.4405"
        ],
        [
         "3",
         "2024-04-01",
         "742.6505",
         "1056.6221",
         null,
         null,
         "1056.6221"
        ],
        [
         "4",
         "2024-05-01",
         "793.3028",
         "993.76",
         null,
         null,
         "993.76"
        ]
       ],
       "shape": {
        "columns": 6,
        "rows": 5
       }
      },
      "text/html": [
       "<div>\n",
       "<style scoped>\n",
       "    .dataframe tbody tr th:only-of-type {\n",
       "        vertical-align: middle;\n",
       "    }\n",
       "\n",
       "    .dataframe tbody tr th {\n",
       "        vertical-align: top;\n",
       "    }\n",
       "\n",
       "    .dataframe thead th {\n",
       "        text-align: right;\n",
       "    }\n",
       "</style>\n",
       "<table border=\"1\" class=\"dataframe\">\n",
       "  <thead>\n",
       "    <tr style=\"text-align: right;\">\n",
       "      <th>CodigoVariable</th>\n",
       "      <th>Fecha</th>\n",
       "      <th>PrecioEscasez</th>\n",
       "      <th>PrecioEscasezActivacion</th>\n",
       "      <th>PrecioEscasezInferior</th>\n",
       "      <th>PrecioEscasezSuperior</th>\n",
       "      <th>PrecioMarginalEscasez</th>\n",
       "    </tr>\n",
       "  </thead>\n",
       "  <tbody>\n",
       "    <tr>\n",
       "      <th>0</th>\n",
       "      <td>2024-01-01</td>\n",
       "      <td>739.8685</td>\n",
       "      <td>1045.0804</td>\n",
       "      <td>NaN</td>\n",
       "      <td>NaN</td>\n",
       "      <td>1045.0804</td>\n",
       "    </tr>\n",
       "    <tr>\n",
       "      <th>1</th>\n",
       "      <td>2024-02-01</td>\n",
       "      <td>745.6851</td>\n",
       "      <td>1019.3739</td>\n",
       "      <td>NaN</td>\n",
       "      <td>NaN</td>\n",
       "      <td>1019.3739</td>\n",
       "    </tr>\n",
       "    <tr>\n",
       "      <th>2</th>\n",
       "      <td>2024-03-01</td>\n",
       "      <td>727.8256</td>\n",
       "      <td>1034.4405</td>\n",
       "      <td>NaN</td>\n",
       "      <td>NaN</td>\n",
       "      <td>1034.4405</td>\n",
       "    </tr>\n",
       "    <tr>\n",
       "      <th>3</th>\n",
       "      <td>2024-04-01</td>\n",
       "      <td>742.6505</td>\n",
       "      <td>1056.6221</td>\n",
       "      <td>NaN</td>\n",
       "      <td>NaN</td>\n",
       "      <td>1056.6221</td>\n",
       "    </tr>\n",
       "    <tr>\n",
       "      <th>4</th>\n",
       "      <td>2024-05-01</td>\n",
       "      <td>793.3028</td>\n",
       "      <td>993.7600</td>\n",
       "      <td>NaN</td>\n",
       "      <td>NaN</td>\n",
       "      <td>993.7600</td>\n",
       "    </tr>\n",
       "  </tbody>\n",
       "</table>\n",
       "</div>"
      ],
      "text/plain": [
       "CodigoVariable       Fecha  PrecioEscasez  PrecioEscasezActivacion  \\\n",
       "0               2024-01-01       739.8685                1045.0804   \n",
       "1               2024-02-01       745.6851                1019.3739   \n",
       "2               2024-03-01       727.8256                1034.4405   \n",
       "3               2024-04-01       742.6505                1056.6221   \n",
       "4               2024-05-01       793.3028                 993.7600   \n",
       "\n",
       "CodigoVariable  PrecioEscasezInferior  PrecioEscasezSuperior  \\\n",
       "0                                 NaN                    NaN   \n",
       "1                                 NaN                    NaN   \n",
       "2                                 NaN                    NaN   \n",
       "3                                 NaN                    NaN   \n",
       "4                                 NaN                    NaN   \n",
       "\n",
       "CodigoVariable  PrecioMarginalEscasez  \n",
       "0                           1045.0804  \n",
       "1                           1019.3739  \n",
       "2                           1034.4405  \n",
       "3                           1056.6221  \n",
       "4                            993.7600  "
      ]
     },
     "metadata": {},
     "output_type": "display_data"
    }
   ],
   "source": [
    "df_pe_pivot = df_pe_filtrado.pivot(index='Fecha', columns='CodigoVariable', values='Valor')    # Pivotear el DataFrame usando 'Fecha' como índice\n",
    "df_pe_pivot.reset_index(inplace=True)                                                          # Devuelve el indice como columna Fecha\n",
    "\n",
    "display(df_pe_pivot.head(5))                                                                   # Muestra el DataFrame pivoteado"
   ]
  },
  {
   "cell_type": "code",
   "execution_count": 7,
   "metadata": {},
   "outputs": [
    {
     "data": {
      "application/vnd.microsoft.datawrangler.viewer.v0+json": {
       "columns": [
        {
         "name": "index",
         "rawType": "int64",
         "type": "integer"
        },
        {
         "name": "Fecha",
         "rawType": "datetime64[ns]",
         "type": "datetime"
        },
        {
         "name": "PrecioEscasez",
         "rawType": "float64",
         "type": "float"
        },
        {
         "name": "PrecioEscasezActivacion",
         "rawType": "float64",
         "type": "float"
        },
        {
         "name": "PrecioEscasezInferior",
         "rawType": "float64",
         "type": "float"
        },
        {
         "name": "PrecioEscasezSuperior",
         "rawType": "float64",
         "type": "float"
        },
        {
         "name": "PrecioMarginalEscasez",
         "rawType": "float64",
         "type": "float"
        },
        {
         "name": "año_mes",
         "rawType": "object",
         "type": "string"
        }
       ],
       "ref": "70ce4f9d-252e-4ad0-931c-429abca319fb",
       "rows": [
        [
         "0",
         "2024-01-01 00:00:00",
         "739.8685",
         "1045.0804",
         null,
         null,
         "1045.0804",
         "2024-01"
        ],
        [
         "1",
         "2024-02-01 00:00:00",
         "745.6851",
         "1019.3739",
         null,
         null,
         "1019.3739",
         "2024-02"
        ],
        [
         "2",
         "2024-03-01 00:00:00",
         "727.8256",
         "1034.4405",
         null,
         null,
         "1034.4405",
         "2024-03"
        ],
        [
         "3",
         "2024-04-01 00:00:00",
         "742.6505",
         "1056.6221",
         null,
         null,
         "1056.6221",
         "2024-04"
        ],
        [
         "4",
         "2024-05-01 00:00:00",
         "793.3028",
         "993.76",
         null,
         null,
         "993.76",
         "2024-05"
        ]
       ],
       "shape": {
        "columns": 7,
        "rows": 5
       }
      },
      "text/html": [
       "<div>\n",
       "<style scoped>\n",
       "    .dataframe tbody tr th:only-of-type {\n",
       "        vertical-align: middle;\n",
       "    }\n",
       "\n",
       "    .dataframe tbody tr th {\n",
       "        vertical-align: top;\n",
       "    }\n",
       "\n",
       "    .dataframe thead th {\n",
       "        text-align: right;\n",
       "    }\n",
       "</style>\n",
       "<table border=\"1\" class=\"dataframe\">\n",
       "  <thead>\n",
       "    <tr style=\"text-align: right;\">\n",
       "      <th>CodigoVariable</th>\n",
       "      <th>Fecha</th>\n",
       "      <th>PrecioEscasez</th>\n",
       "      <th>PrecioEscasezActivacion</th>\n",
       "      <th>PrecioEscasezInferior</th>\n",
       "      <th>PrecioEscasezSuperior</th>\n",
       "      <th>PrecioMarginalEscasez</th>\n",
       "      <th>año_mes</th>\n",
       "    </tr>\n",
       "  </thead>\n",
       "  <tbody>\n",
       "    <tr>\n",
       "      <th>0</th>\n",
       "      <td>2024-01-01</td>\n",
       "      <td>739.8685</td>\n",
       "      <td>1045.0804</td>\n",
       "      <td>NaN</td>\n",
       "      <td>NaN</td>\n",
       "      <td>1045.0804</td>\n",
       "      <td>2024-01</td>\n",
       "    </tr>\n",
       "    <tr>\n",
       "      <th>1</th>\n",
       "      <td>2024-02-01</td>\n",
       "      <td>745.6851</td>\n",
       "      <td>1019.3739</td>\n",
       "      <td>NaN</td>\n",
       "      <td>NaN</td>\n",
       "      <td>1019.3739</td>\n",
       "      <td>2024-02</td>\n",
       "    </tr>\n",
       "    <tr>\n",
       "      <th>2</th>\n",
       "      <td>2024-03-01</td>\n",
       "      <td>727.8256</td>\n",
       "      <td>1034.4405</td>\n",
       "      <td>NaN</td>\n",
       "      <td>NaN</td>\n",
       "      <td>1034.4405</td>\n",
       "      <td>2024-03</td>\n",
       "    </tr>\n",
       "    <tr>\n",
       "      <th>3</th>\n",
       "      <td>2024-04-01</td>\n",
       "      <td>742.6505</td>\n",
       "      <td>1056.6221</td>\n",
       "      <td>NaN</td>\n",
       "      <td>NaN</td>\n",
       "      <td>1056.6221</td>\n",
       "      <td>2024-04</td>\n",
       "    </tr>\n",
       "    <tr>\n",
       "      <th>4</th>\n",
       "      <td>2024-05-01</td>\n",
       "      <td>793.3028</td>\n",
       "      <td>993.7600</td>\n",
       "      <td>NaN</td>\n",
       "      <td>NaN</td>\n",
       "      <td>993.7600</td>\n",
       "      <td>2024-05</td>\n",
       "    </tr>\n",
       "  </tbody>\n",
       "</table>\n",
       "</div>"
      ],
      "text/plain": [
       "CodigoVariable      Fecha  PrecioEscasez  PrecioEscasezActivacion  \\\n",
       "0              2024-01-01       739.8685                1045.0804   \n",
       "1              2024-02-01       745.6851                1019.3739   \n",
       "2              2024-03-01       727.8256                1034.4405   \n",
       "3              2024-04-01       742.6505                1056.6221   \n",
       "4              2024-05-01       793.3028                 993.7600   \n",
       "\n",
       "CodigoVariable  PrecioEscasezInferior  PrecioEscasezSuperior  \\\n",
       "0                                 NaN                    NaN   \n",
       "1                                 NaN                    NaN   \n",
       "2                                 NaN                    NaN   \n",
       "3                                 NaN                    NaN   \n",
       "4                                 NaN                    NaN   \n",
       "\n",
       "CodigoVariable  PrecioMarginalEscasez  año_mes  \n",
       "0                           1045.0804  2024-01  \n",
       "1                           1019.3739  2024-02  \n",
       "2                           1034.4405  2024-03  \n",
       "3                           1056.6221  2024-04  \n",
       "4                            993.7600  2024-05  "
      ]
     },
     "metadata": {},
     "output_type": "display_data"
    }
   ],
   "source": [
    "df_pe_pivot['Fecha'] = pd.to_datetime(df_pe_pivot['Fecha'])                                                                 # Se asegura que la columna Fecha sea de tipo Datetime\n",
    "df_pe_pivot['año_mes'] = df_pe_pivot['Fecha'].dt.strftime('%Y-%m')                                                          # Se agrega una columna con el año y el mes\n",
    "df_pe_pivot[\"PrecioMarginalEscasez\"] = df_pe_pivot[\"PrecioMarginalEscasez\"].fillna(df_pe_pivot[\"PrecioEscasezSuperior\"])    # Se rellenan los valores faltantes de PrecioMarginalEscasez\n",
    "\n",
    "display(df_pe_pivot.head(5))                                                                                                # Muestra el DataFrame con la nueva columna año-mes"
   ]
  },
  {
   "cell_type": "markdown",
   "metadata": {},
   "source": [
    "Ahora se manipularán los datos del precio de bolsa para unirlos con los de precio de escasez"
   ]
  },
  {
   "cell_type": "code",
   "execution_count": 8,
   "metadata": {},
   "outputs": [
    {
     "data": {
      "application/vnd.microsoft.datawrangler.viewer.v0+json": {
       "columns": [
        {
         "name": "index",
         "rawType": "int64",
         "type": "integer"
        },
        {
         "name": "FechaHora",
         "rawType": "object",
         "type": "string"
        },
        {
         "name": "CodigoVariable",
         "rawType": "object",
         "type": "string"
        },
        {
         "name": "Version",
         "rawType": "object",
         "type": "string"
        },
        {
         "name": "Valor",
         "rawType": "float64",
         "type": "float"
        }
       ],
       "ref": "98e515c1-200d-4a18-8cd1-4af5cb5c8e69",
       "rows": [
        [
         "725",
         "2024-01-01 00:00:00",
         "PB_Nal",
         "TX5",
         "251.9116"
        ],
        [
         "724",
         "2024-01-01 01:00:00",
         "PB_Nal",
         "TX5",
         "251.9116"
        ],
        [
         "723",
         "2024-01-01 02:00:00",
         "PB_Nal",
         "TX5",
         "251.9116"
        ],
        [
         "722",
         "2024-01-01 03:00:00",
         "PB_Nal",
         "TX5",
         "281.9116"
        ],
        [
         "721",
         "2024-01-01 04:00:00",
         "PB_Nal",
         "TX5",
         "281.9116"
        ],
        [
         "720",
         "2024-01-01 05:00:00",
         "PB_Nal",
         "TX5",
         "251.9116"
        ],
        [
         "743",
         "2024-01-01 06:00:00",
         "PB_Nal",
         "TX5",
         "152.9116"
        ],
        [
         "742",
         "2024-01-01 07:00:00",
         "PB_Nal",
         "TX5",
         "95.8516"
        ],
        [
         "741",
         "2024-01-01 08:00:00",
         "PB_Nal",
         "TX5",
         "95.8516"
        ],
        [
         "740",
         "2024-01-01 09:00:00",
         "PB_Nal",
         "TX5",
         "95.8516"
        ],
        [
         "739",
         "2024-01-01 10:00:00",
         "PB_Nal",
         "TX5",
         "95.8516"
        ],
        [
         "738",
         "2024-01-01 11:00:00",
         "PB_Nal",
         "TX5",
         "152.9116"
        ],
        [
         "737",
         "2024-01-01 12:00:00",
         "PB_Nal",
         "TX5",
         "152.9116"
        ],
        [
         "736",
         "2024-01-01 13:00:00",
         "PB_Nal",
         "TX5",
         "152.9116"
        ],
        [
         "735",
         "2024-01-01 14:00:00",
         "PB_Nal",
         "TX5",
         "152.9116"
        ],
        [
         "734",
         "2024-01-01 15:00:00",
         "PB_Nal",
         "TX5",
         "251.9116"
        ],
        [
         "733",
         "2024-01-01 16:00:00",
         "PB_Nal",
         "TX5",
         "281.9116"
        ],
        [
         "732",
         "2024-01-01 17:00:00",
         "PB_Nal",
         "TX5",
         "281.9116"
        ],
        [
         "731",
         "2024-01-01 18:00:00",
         "PB_Nal",
         "TX5",
         "301.2326"
        ],
        [
         "730",
         "2024-01-01 19:00:00",
         "PB_Nal",
         "TX5",
         "301.2326"
        ],
        [
         "729",
         "2024-01-01 20:00:00",
         "PB_Nal",
         "TX5",
         "301.2326"
        ],
        [
         "728",
         "2024-01-01 21:00:00",
         "PB_Nal",
         "TX5",
         "301.2326"
        ],
        [
         "727",
         "2024-01-01 22:00:00",
         "PB_Nal",
         "TX5",
         "301.2326"
        ],
        [
         "726",
         "2024-01-01 23:00:00",
         "PB_Nal",
         "TX5",
         "290.9116"
        ],
        [
         "719",
         "2024-01-02 00:00:00",
         "PB_Nal",
         "TX5",
         "360.2213"
        ],
        [
         "718",
         "2024-01-02 01:00:00",
         "PB_Nal",
         "TX5",
         "360.2213"
        ],
        [
         "717",
         "2024-01-02 02:00:00",
         "PB_Nal",
         "TX5",
         "309.8213"
        ],
        [
         "716",
         "2024-01-02 03:00:00",
         "PB_Nal",
         "TX5",
         "284.3213"
        ],
        [
         "715",
         "2024-01-02 04:00:00",
         "PB_Nal",
         "TX5",
         "309.8213"
        ],
        [
         "714",
         "2024-01-02 05:00:00",
         "PB_Nal",
         "TX5",
         "317.3213"
        ],
        [
         "713",
         "2024-01-02 06:00:00",
         "PB_Nal",
         "TX5",
         "317.3213"
        ],
        [
         "712",
         "2024-01-02 07:00:00",
         "PB_Nal",
         "TX5",
         "360.2213"
        ],
        [
         "711",
         "2024-01-02 08:00:00",
         "PB_Nal",
         "TX5",
         "379.3213"
        ],
        [
         "710",
         "2024-01-02 09:00:00",
         "PB_Nal",
         "TX5",
         "317.3213"
        ],
        [
         "709",
         "2024-01-02 10:00:00",
         "PB_Nal",
         "TX5",
         "360.2213"
        ],
        [
         "708",
         "2024-01-02 11:00:00",
         "PB_Nal",
         "TX5",
         "379.3213"
        ],
        [
         "707",
         "2024-01-02 12:00:00",
         "PB_Nal",
         "TX5",
         "419.3213"
        ],
        [
         "706",
         "2024-01-02 13:00:00",
         "PB_Nal",
         "TX5",
         "419.3213"
        ],
        [
         "705",
         "2024-01-02 14:00:00",
         "PB_Nal",
         "TX5",
         "419.3213"
        ],
        [
         "704",
         "2024-01-02 15:00:00",
         "PB_Nal",
         "TX5",
         "419.3213"
        ],
        [
         "703",
         "2024-01-02 16:00:00",
         "PB_Nal",
         "TX5",
         "419.3213"
        ],
        [
         "702",
         "2024-01-02 17:00:00",
         "PB_Nal",
         "TX5",
         "419.3213"
        ],
        [
         "701",
         "2024-01-02 18:00:00",
         "PB_Nal",
         "TX5",
         "449.3213"
        ],
        [
         "700",
         "2024-01-02 19:00:00",
         "PB_Nal",
         "TX5",
         "449.3213"
        ],
        [
         "699",
         "2024-01-02 20:00:00",
         "PB_Nal",
         "TX5",
         "449.3213"
        ],
        [
         "698",
         "2024-01-02 21:00:00",
         "PB_Nal",
         "TX5",
         "449.3213"
        ],
        [
         "697",
         "2024-01-02 22:00:00",
         "PB_Nal",
         "TX5",
         "419.3213"
        ],
        [
         "696",
         "2024-01-02 23:00:00",
         "PB_Nal",
         "TX5",
         "419.3213"
        ],
        [
         "678",
         "2024-01-03 00:00:00",
         "PB_Nal",
         "TX5",
         "429.4882"
        ],
        [
         "679",
         "2024-01-03 01:00:00",
         "PB_Nal",
         "TX5",
         "429.4882"
        ]
       ],
       "shape": {
        "columns": 4,
        "rows": 12384
       }
      },
      "text/html": [
       "<div>\n",
       "<style scoped>\n",
       "    .dataframe tbody tr th:only-of-type {\n",
       "        vertical-align: middle;\n",
       "    }\n",
       "\n",
       "    .dataframe tbody tr th {\n",
       "        vertical-align: top;\n",
       "    }\n",
       "\n",
       "    .dataframe thead th {\n",
       "        text-align: right;\n",
       "    }\n",
       "</style>\n",
       "<table border=\"1\" class=\"dataframe\">\n",
       "  <thead>\n",
       "    <tr style=\"text-align: right;\">\n",
       "      <th></th>\n",
       "      <th>FechaHora</th>\n",
       "      <th>CodigoVariable</th>\n",
       "      <th>Version</th>\n",
       "      <th>Valor</th>\n",
       "    </tr>\n",
       "  </thead>\n",
       "  <tbody>\n",
       "    <tr>\n",
       "      <th>725</th>\n",
       "      <td>2024-01-01 00:00:00</td>\n",
       "      <td>PB_Nal</td>\n",
       "      <td>TX5</td>\n",
       "      <td>251.9116</td>\n",
       "    </tr>\n",
       "    <tr>\n",
       "      <th>724</th>\n",
       "      <td>2024-01-01 01:00:00</td>\n",
       "      <td>PB_Nal</td>\n",
       "      <td>TX5</td>\n",
       "      <td>251.9116</td>\n",
       "    </tr>\n",
       "    <tr>\n",
       "      <th>723</th>\n",
       "      <td>2024-01-01 02:00:00</td>\n",
       "      <td>PB_Nal</td>\n",
       "      <td>TX5</td>\n",
       "      <td>251.9116</td>\n",
       "    </tr>\n",
       "    <tr>\n",
       "      <th>722</th>\n",
       "      <td>2024-01-01 03:00:00</td>\n",
       "      <td>PB_Nal</td>\n",
       "      <td>TX5</td>\n",
       "      <td>281.9116</td>\n",
       "    </tr>\n",
       "    <tr>\n",
       "      <th>721</th>\n",
       "      <td>2024-01-01 04:00:00</td>\n",
       "      <td>PB_Nal</td>\n",
       "      <td>TX5</td>\n",
       "      <td>281.9116</td>\n",
       "    </tr>\n",
       "    <tr>\n",
       "      <th>...</th>\n",
       "      <td>...</td>\n",
       "      <td>...</td>\n",
       "      <td>...</td>\n",
       "      <td>...</td>\n",
       "    </tr>\n",
       "    <tr>\n",
       "      <th>11683</th>\n",
       "      <td>2025-06-30 19:00:00</td>\n",
       "      <td>PB_Nal</td>\n",
       "      <td>TXF</td>\n",
       "      <td>112.5489</td>\n",
       "    </tr>\n",
       "    <tr>\n",
       "      <th>11684</th>\n",
       "      <td>2025-06-30 20:00:00</td>\n",
       "      <td>PB_Nal</td>\n",
       "      <td>TXF</td>\n",
       "      <td>112.5489</td>\n",
       "    </tr>\n",
       "    <tr>\n",
       "      <th>11685</th>\n",
       "      <td>2025-06-30 21:00:00</td>\n",
       "      <td>PB_Nal</td>\n",
       "      <td>TXF</td>\n",
       "      <td>106.2489</td>\n",
       "    </tr>\n",
       "    <tr>\n",
       "      <th>11686</th>\n",
       "      <td>2025-06-30 22:00:00</td>\n",
       "      <td>PB_Nal</td>\n",
       "      <td>TXF</td>\n",
       "      <td>105.5489</td>\n",
       "    </tr>\n",
       "    <tr>\n",
       "      <th>11687</th>\n",
       "      <td>2025-06-30 23:00:00</td>\n",
       "      <td>PB_Nal</td>\n",
       "      <td>TXF</td>\n",
       "      <td>105.5489</td>\n",
       "    </tr>\n",
       "  </tbody>\n",
       "</table>\n",
       "<p>12384 rows × 4 columns</p>\n",
       "</div>"
      ],
      "text/plain": [
       "                 FechaHora CodigoVariable Version     Valor\n",
       "725    2024-01-01 00:00:00         PB_Nal     TX5  251.9116\n",
       "724    2024-01-01 01:00:00         PB_Nal     TX5  251.9116\n",
       "723    2024-01-01 02:00:00         PB_Nal     TX5  251.9116\n",
       "722    2024-01-01 03:00:00         PB_Nal     TX5  281.9116\n",
       "721    2024-01-01 04:00:00         PB_Nal     TX5  281.9116\n",
       "...                    ...            ...     ...       ...\n",
       "11683  2025-06-30 19:00:00         PB_Nal     TXF  112.5489\n",
       "11684  2025-06-30 20:00:00         PB_Nal     TXF  112.5489\n",
       "11685  2025-06-30 21:00:00         PB_Nal     TXF  106.2489\n",
       "11686  2025-06-30 22:00:00         PB_Nal     TXF  105.5489\n",
       "11687  2025-06-30 23:00:00         PB_Nal     TXF  105.5489\n",
       "\n",
       "[12384 rows x 4 columns]"
      ]
     },
     "execution_count": 8,
     "metadata": {},
     "output_type": "execute_result"
    }
   ],
   "source": [
    "df_pbNal_filtrado = df_pbNal.reset_index()                                                                      # Los indices se pasan a columnas\n",
    "df_pbNal_filtrado = df_pbNal_filtrado.sort_values(by='FechaHora')                                               # Ordena los datos por la fecha\n",
    "df_pbNal_filtrado = df_pbNal_filtrado[['FechaHora', 'CodigoVariable', 'Version', 'Valor']]                      # Selecciona únicamente las columnas 'FechaHora','CodigoVariable', 'Version' y 'Valor' del DataFrame\n",
    "df_pbNal_filtrado                                                                                               # Muestra el resultado filtrado"
   ]
  },
  {
   "cell_type": "code",
   "execution_count": 9,
   "metadata": {},
   "outputs": [
    {
     "data": {
      "application/vnd.microsoft.datawrangler.viewer.v0+json": {
       "columns": [
        {
         "name": "index",
         "rawType": "int64",
         "type": "integer"
        },
        {
         "name": "FechaHora",
         "rawType": "object",
         "type": "string"
        },
        {
         "name": "PB_Nal",
         "rawType": "float64",
         "type": "float"
        }
       ],
       "ref": "82af70c8-ff7d-4d4f-a1dc-8aa6d52b2c5b",
       "rows": [
        [
         "0",
         "2024-01-01 00:00:00",
         "251.9116"
        ],
        [
         "1",
         "2024-01-01 01:00:00",
         "251.9116"
        ],
        [
         "2",
         "2024-01-01 02:00:00",
         "251.9116"
        ],
        [
         "3",
         "2024-01-01 03:00:00",
         "281.9116"
        ],
        [
         "4",
         "2024-01-01 04:00:00",
         "281.9116"
        ]
       ],
       "shape": {
        "columns": 2,
        "rows": 5
       }
      },
      "text/html": [
       "<div>\n",
       "<style scoped>\n",
       "    .dataframe tbody tr th:only-of-type {\n",
       "        vertical-align: middle;\n",
       "    }\n",
       "\n",
       "    .dataframe tbody tr th {\n",
       "        vertical-align: top;\n",
       "    }\n",
       "\n",
       "    .dataframe thead th {\n",
       "        text-align: right;\n",
       "    }\n",
       "</style>\n",
       "<table border=\"1\" class=\"dataframe\">\n",
       "  <thead>\n",
       "    <tr style=\"text-align: right;\">\n",
       "      <th>CodigoVariable</th>\n",
       "      <th>FechaHora</th>\n",
       "      <th>PB_Nal</th>\n",
       "    </tr>\n",
       "  </thead>\n",
       "  <tbody>\n",
       "    <tr>\n",
       "      <th>0</th>\n",
       "      <td>2024-01-01 00:00:00</td>\n",
       "      <td>251.9116</td>\n",
       "    </tr>\n",
       "    <tr>\n",
       "      <th>1</th>\n",
       "      <td>2024-01-01 01:00:00</td>\n",
       "      <td>251.9116</td>\n",
       "    </tr>\n",
       "    <tr>\n",
       "      <th>2</th>\n",
       "      <td>2024-01-01 02:00:00</td>\n",
       "      <td>251.9116</td>\n",
       "    </tr>\n",
       "    <tr>\n",
       "      <th>3</th>\n",
       "      <td>2024-01-01 03:00:00</td>\n",
       "      <td>281.9116</td>\n",
       "    </tr>\n",
       "    <tr>\n",
       "      <th>4</th>\n",
       "      <td>2024-01-01 04:00:00</td>\n",
       "      <td>281.9116</td>\n",
       "    </tr>\n",
       "  </tbody>\n",
       "</table>\n",
       "</div>"
      ],
      "text/plain": [
       "CodigoVariable            FechaHora    PB_Nal\n",
       "0               2024-01-01 00:00:00  251.9116\n",
       "1               2024-01-01 01:00:00  251.9116\n",
       "2               2024-01-01 02:00:00  251.9116\n",
       "3               2024-01-01 03:00:00  281.9116\n",
       "4               2024-01-01 04:00:00  281.9116"
      ]
     },
     "metadata": {},
     "output_type": "display_data"
    }
   ],
   "source": [
    "df_pbNal_pivot = df_pbNal_filtrado.pivot(index='FechaHora', columns='CodigoVariable', values='Valor')    # Pivotear el DataFrame usando 'Fecha' como índice\n",
    "df_pbNal_pivot.reset_index(inplace=True)                                                                 # Devuelve el indice como columna Fecha\n",
    "\n",
    "display(df_pbNal_pivot.head(5))                                                                          # Muestra el DataFrame pivoteado"
   ]
  },
  {
   "cell_type": "code",
   "execution_count": 10,
   "metadata": {},
   "outputs": [
    {
     "data": {
      "application/vnd.microsoft.datawrangler.viewer.v0+json": {
       "columns": [
        {
         "name": "index",
         "rawType": "int64",
         "type": "integer"
        },
        {
         "name": "FechaHora",
         "rawType": "datetime64[ns]",
         "type": "datetime"
        },
        {
         "name": "PB_Nal",
         "rawType": "float64",
         "type": "float"
        },
        {
         "name": "año_mes",
         "rawType": "object",
         "type": "string"
        }
       ],
       "ref": "392b7d63-14a6-40af-9d31-53ef2d93e9e3",
       "rows": [
        [
         "0",
         "2024-01-01 00:00:00",
         "251.9116",
         "2024-01"
        ],
        [
         "1",
         "2024-01-01 01:00:00",
         "251.9116",
         "2024-01"
        ],
        [
         "2",
         "2024-01-01 02:00:00",
         "251.9116",
         "2024-01"
        ],
        [
         "3",
         "2024-01-01 03:00:00",
         "281.9116",
         "2024-01"
        ],
        [
         "4",
         "2024-01-01 04:00:00",
         "281.9116",
         "2024-01"
        ]
       ],
       "shape": {
        "columns": 3,
        "rows": 5
       }
      },
      "text/html": [
       "<div>\n",
       "<style scoped>\n",
       "    .dataframe tbody tr th:only-of-type {\n",
       "        vertical-align: middle;\n",
       "    }\n",
       "\n",
       "    .dataframe tbody tr th {\n",
       "        vertical-align: top;\n",
       "    }\n",
       "\n",
       "    .dataframe thead th {\n",
       "        text-align: right;\n",
       "    }\n",
       "</style>\n",
       "<table border=\"1\" class=\"dataframe\">\n",
       "  <thead>\n",
       "    <tr style=\"text-align: right;\">\n",
       "      <th>CodigoVariable</th>\n",
       "      <th>FechaHora</th>\n",
       "      <th>PB_Nal</th>\n",
       "      <th>año_mes</th>\n",
       "    </tr>\n",
       "  </thead>\n",
       "  <tbody>\n",
       "    <tr>\n",
       "      <th>0</th>\n",
       "      <td>2024-01-01 00:00:00</td>\n",
       "      <td>251.9116</td>\n",
       "      <td>2024-01</td>\n",
       "    </tr>\n",
       "    <tr>\n",
       "      <th>1</th>\n",
       "      <td>2024-01-01 01:00:00</td>\n",
       "      <td>251.9116</td>\n",
       "      <td>2024-01</td>\n",
       "    </tr>\n",
       "    <tr>\n",
       "      <th>2</th>\n",
       "      <td>2024-01-01 02:00:00</td>\n",
       "      <td>251.9116</td>\n",
       "      <td>2024-01</td>\n",
       "    </tr>\n",
       "    <tr>\n",
       "      <th>3</th>\n",
       "      <td>2024-01-01 03:00:00</td>\n",
       "      <td>281.9116</td>\n",
       "      <td>2024-01</td>\n",
       "    </tr>\n",
       "    <tr>\n",
       "      <th>4</th>\n",
       "      <td>2024-01-01 04:00:00</td>\n",
       "      <td>281.9116</td>\n",
       "      <td>2024-01</td>\n",
       "    </tr>\n",
       "  </tbody>\n",
       "</table>\n",
       "</div>"
      ],
      "text/plain": [
       "CodigoVariable           FechaHora    PB_Nal  año_mes\n",
       "0              2024-01-01 00:00:00  251.9116  2024-01\n",
       "1              2024-01-01 01:00:00  251.9116  2024-01\n",
       "2              2024-01-01 02:00:00  251.9116  2024-01\n",
       "3              2024-01-01 03:00:00  281.9116  2024-01\n",
       "4              2024-01-01 04:00:00  281.9116  2024-01"
      ]
     },
     "metadata": {},
     "output_type": "display_data"
    }
   ],
   "source": [
    "df_pbNal_pivot['FechaHora'] = pd.to_datetime(df_pbNal_pivot['FechaHora'])                        # Se asegura que la columna FechaHora sea de tipo Datetime\n",
    "df_pbNal_pivot['año_mes'] = df_pbNal_pivot['FechaHora'].dt.strftime('%Y-%m')                     # Se agrega una columna con el año y el mes\n",
    "\n",
    "display(df_pbNal_pivot.head(5))                                                                  # Muestra el DataFrame con la nueva columna año-mes"
   ]
  },
  {
   "cell_type": "markdown",
   "metadata": {},
   "source": [
    "En esta sección se crea un nuevo DataFrame a partir del Precio de bolsa horario con el fin de tenerlo mensual"
   ]
  },
  {
   "cell_type": "code",
   "execution_count": 11,
   "metadata": {},
   "outputs": [
    {
     "data": {
      "application/vnd.microsoft.datawrangler.viewer.v0+json": {
       "columns": [
        {
         "name": "index",
         "rawType": "int64",
         "type": "integer"
        },
        {
         "name": "año_mes",
         "rawType": "object",
         "type": "string"
        },
        {
         "name": "PB_Nal_mensual",
         "rawType": "float64",
         "type": "float"
        }
       ],
       "ref": "f35ba1f2-e175-4010-b8ef-68a229f2cdae",
       "rows": [
        [
         "0",
         "2024-01",
         "558.7221930107527"
        ],
        [
         "1",
         "2024-02",
         "568.7060784482759"
        ],
        [
         "2",
         "2024-03",
         "622.7735669354838"
        ],
        [
         "3",
         "2024-04",
         "748.6567697222222"
        ],
        [
         "4",
         "2024-05",
         "291.5498510752688"
        ]
       ],
       "shape": {
        "columns": 2,
        "rows": 5
       }
      },
      "text/html": [
       "<div>\n",
       "<style scoped>\n",
       "    .dataframe tbody tr th:only-of-type {\n",
       "        vertical-align: middle;\n",
       "    }\n",
       "\n",
       "    .dataframe tbody tr th {\n",
       "        vertical-align: top;\n",
       "    }\n",
       "\n",
       "    .dataframe thead th {\n",
       "        text-align: right;\n",
       "    }\n",
       "</style>\n",
       "<table border=\"1\" class=\"dataframe\">\n",
       "  <thead>\n",
       "    <tr style=\"text-align: right;\">\n",
       "      <th></th>\n",
       "      <th>año_mes</th>\n",
       "      <th>PB_Nal_mensual</th>\n",
       "    </tr>\n",
       "  </thead>\n",
       "  <tbody>\n",
       "    <tr>\n",
       "      <th>0</th>\n",
       "      <td>2024-01</td>\n",
       "      <td>558.722193</td>\n",
       "    </tr>\n",
       "    <tr>\n",
       "      <th>1</th>\n",
       "      <td>2024-02</td>\n",
       "      <td>568.706078</td>\n",
       "    </tr>\n",
       "    <tr>\n",
       "      <th>2</th>\n",
       "      <td>2024-03</td>\n",
       "      <td>622.773567</td>\n",
       "    </tr>\n",
       "    <tr>\n",
       "      <th>3</th>\n",
       "      <td>2024-04</td>\n",
       "      <td>748.656770</td>\n",
       "    </tr>\n",
       "    <tr>\n",
       "      <th>4</th>\n",
       "      <td>2024-05</td>\n",
       "      <td>291.549851</td>\n",
       "    </tr>\n",
       "  </tbody>\n",
       "</table>\n",
       "</div>"
      ],
      "text/plain": [
       "   año_mes  PB_Nal_mensual\n",
       "0  2024-01      558.722193\n",
       "1  2024-02      568.706078\n",
       "2  2024-03      622.773567\n",
       "3  2024-04      748.656770\n",
       "4  2024-05      291.549851"
      ]
     },
     "metadata": {},
     "output_type": "display_data"
    }
   ],
   "source": [
    "df_pbNal_mensual = df_pbNal_pivot.groupby('año_mes', as_index=False)['PB_Nal'].mean()    # Se agrupa la información del precio de bolsa por mes\n",
    "df_pbNal_mensual.rename(columns={'PB_Nal': 'PB_Nal_mensual'}, inplace=True)\n",
    "\n",
    "display(df_pbNal_mensual.head(5))                                                        # Muestra el DataFrame con la nueva columna año-mes"
   ]
  },
  {
   "cell_type": "markdown",
   "metadata": {},
   "source": [
    "Ahora se unen los dos DataFrames, el de Precios de Escasez y el de Precio de bolsa mensual con el fin de tener unicamnete uno mensual"
   ]
  },
  {
   "cell_type": "code",
   "execution_count": 12,
   "metadata": {},
   "outputs": [
    {
     "data": {
      "application/vnd.microsoft.datawrangler.viewer.v0+json": {
       "columns": [
        {
         "name": "index",
         "rawType": "int64",
         "type": "integer"
        },
        {
         "name": "Fecha",
         "rawType": "datetime64[ns]",
         "type": "datetime"
        },
        {
         "name": "PrecioEscasez",
         "rawType": "float64",
         "type": "float"
        },
        {
         "name": "PrecioEscasezActivacion",
         "rawType": "float64",
         "type": "float"
        },
        {
         "name": "PrecioEscasezInferior",
         "rawType": "float64",
         "type": "float"
        },
        {
         "name": "PrecioEscasezSuperior",
         "rawType": "float64",
         "type": "float"
        },
        {
         "name": "PrecioMarginalEscasez",
         "rawType": "float64",
         "type": "float"
        },
        {
         "name": "año_mes",
         "rawType": "object",
         "type": "string"
        },
        {
         "name": "PB_Nal_mensual",
         "rawType": "float64",
         "type": "float"
        }
       ],
       "ref": "65e8c3b8-e487-4ef3-9f21-9423d9af1092",
       "rows": [
        [
         "0",
         "2024-01-01 00:00:00",
         "739.8685",
         "1045.0804",
         null,
         null,
         "1045.0804",
         "2024-01",
         "558.7221930107527"
        ],
        [
         "1",
         "2024-02-01 00:00:00",
         "745.6851",
         "1019.3739",
         null,
         null,
         "1019.3739",
         "2024-02",
         "568.7060784482759"
        ],
        [
         "2",
         "2024-03-01 00:00:00",
         "727.8256",
         "1034.4405",
         null,
         null,
         "1034.4405",
         "2024-03",
         "622.7735669354838"
        ],
        [
         "3",
         "2024-04-01 00:00:00",
         "742.6505",
         "1056.6221",
         null,
         null,
         "1056.6221",
         "2024-04",
         "748.6567697222222"
        ],
        [
         "4",
         "2024-05-01 00:00:00",
         "793.3028",
         "993.76",
         null,
         null,
         "993.76",
         "2024-05",
         "291.5498510752688"
        ],
        [
         "5",
         "2024-06-01 00:00:00",
         "766.5341",
         "975.8979",
         null,
         null,
         "975.8979",
         "2024-06",
         "280.6973672222222"
        ],
        [
         "6",
         "2024-07-01 00:00:00",
         "810.7083",
         "951.2523",
         null,
         null,
         "951.2523",
         "2024-07",
         "285.09281962365594"
        ],
        [
         "7",
         "2024-08-01 00:00:00",
         "818.3814",
         "920.8174",
         null,
         null,
         "920.8174",
         "2024-08",
         "567.4177529569893"
        ],
        [
         "8",
         "2024-09-01 00:00:00",
         "785.0686",
         "932.4902",
         null,
         null,
         "932.4902",
         "2024-09",
         "873.7069555555556"
        ],
        [
         "9",
         "2024-10-01 00:00:00",
         "751.3103",
         "945.3104",
         null,
         null,
         "945.3104",
         "2024-10",
         "1529.1356704301074"
        ],
        [
         "10",
         "2024-11-01 00:00:00",
         "811.9274",
         "936.0598",
         null,
         null,
         "936.0598",
         "2024-11",
         "1046.4334269444446"
        ],
        [
         "11",
         "2024-12-01 00:00:00",
         "798.7259",
         "948.8451",
         null,
         null,
         "948.8451",
         "2024-12",
         "741.0041623655915"
        ],
        [
         "12",
         "2025-01-01 00:00:00",
         "797.3857",
         "951.7622",
         null,
         null,
         "951.7622",
         "2025-01",
         "519.6601483870968"
        ],
        [
         "13",
         "2025-02-01 00:00:00",
         "793.9002",
         "970.5912",
         null,
         null,
         "970.5912",
         "2025-02",
         "428.8878502976191"
        ],
        [
         "14",
         "2025-03-01 00:00:00",
         "770.5473",
         null,
         "323.892",
         "937.3031",
         "937.3031",
         "2025-03",
         "228.39754704301075"
        ],
        [
         "15",
         "2025-04-01 00:00:00",
         "739.7958",
         null,
         "336.12",
         "928.3287",
         "928.3287",
         "2025-04",
         "140.6284238888889"
        ],
        [
         "16",
         "2025-06-01 00:00:00",
         "673.7357",
         null,
         "345.376",
         "858.7901",
         "858.7901",
         "2025-06",
         "111.97991444444445"
        ]
       ],
       "shape": {
        "columns": 8,
        "rows": 17
       }
      },
      "text/html": [
       "<div>\n",
       "<style scoped>\n",
       "    .dataframe tbody tr th:only-of-type {\n",
       "        vertical-align: middle;\n",
       "    }\n",
       "\n",
       "    .dataframe tbody tr th {\n",
       "        vertical-align: top;\n",
       "    }\n",
       "\n",
       "    .dataframe thead th {\n",
       "        text-align: right;\n",
       "    }\n",
       "</style>\n",
       "<table border=\"1\" class=\"dataframe\">\n",
       "  <thead>\n",
       "    <tr style=\"text-align: right;\">\n",
       "      <th></th>\n",
       "      <th>Fecha</th>\n",
       "      <th>PrecioEscasez</th>\n",
       "      <th>PrecioEscasezActivacion</th>\n",
       "      <th>PrecioEscasezInferior</th>\n",
       "      <th>PrecioEscasezSuperior</th>\n",
       "      <th>PrecioMarginalEscasez</th>\n",
       "      <th>año_mes</th>\n",
       "      <th>PB_Nal_mensual</th>\n",
       "    </tr>\n",
       "  </thead>\n",
       "  <tbody>\n",
       "    <tr>\n",
       "      <th>0</th>\n",
       "      <td>2024-01-01</td>\n",
       "      <td>739.8685</td>\n",
       "      <td>1045.0804</td>\n",
       "      <td>NaN</td>\n",
       "      <td>NaN</td>\n",
       "      <td>1045.0804</td>\n",
       "      <td>2024-01</td>\n",
       "      <td>558.722193</td>\n",
       "    </tr>\n",
       "    <tr>\n",
       "      <th>1</th>\n",
       "      <td>2024-02-01</td>\n",
       "      <td>745.6851</td>\n",
       "      <td>1019.3739</td>\n",
       "      <td>NaN</td>\n",
       "      <td>NaN</td>\n",
       "      <td>1019.3739</td>\n",
       "      <td>2024-02</td>\n",
       "      <td>568.706078</td>\n",
       "    </tr>\n",
       "    <tr>\n",
       "      <th>2</th>\n",
       "      <td>2024-03-01</td>\n",
       "      <td>727.8256</td>\n",
       "      <td>1034.4405</td>\n",
       "      <td>NaN</td>\n",
       "      <td>NaN</td>\n",
       "      <td>1034.4405</td>\n",
       "      <td>2024-03</td>\n",
       "      <td>622.773567</td>\n",
       "    </tr>\n",
       "    <tr>\n",
       "      <th>3</th>\n",
       "      <td>2024-04-01</td>\n",
       "      <td>742.6505</td>\n",
       "      <td>1056.6221</td>\n",
       "      <td>NaN</td>\n",
       "      <td>NaN</td>\n",
       "      <td>1056.6221</td>\n",
       "      <td>2024-04</td>\n",
       "      <td>748.656770</td>\n",
       "    </tr>\n",
       "    <tr>\n",
       "      <th>4</th>\n",
       "      <td>2024-05-01</td>\n",
       "      <td>793.3028</td>\n",
       "      <td>993.7600</td>\n",
       "      <td>NaN</td>\n",
       "      <td>NaN</td>\n",
       "      <td>993.7600</td>\n",
       "      <td>2024-05</td>\n",
       "      <td>291.549851</td>\n",
       "    </tr>\n",
       "    <tr>\n",
       "      <th>5</th>\n",
       "      <td>2024-06-01</td>\n",
       "      <td>766.5341</td>\n",
       "      <td>975.8979</td>\n",
       "      <td>NaN</td>\n",
       "      <td>NaN</td>\n",
       "      <td>975.8979</td>\n",
       "      <td>2024-06</td>\n",
       "      <td>280.697367</td>\n",
       "    </tr>\n",
       "    <tr>\n",
       "      <th>6</th>\n",
       "      <td>2024-07-01</td>\n",
       "      <td>810.7083</td>\n",
       "      <td>951.2523</td>\n",
       "      <td>NaN</td>\n",
       "      <td>NaN</td>\n",
       "      <td>951.2523</td>\n",
       "      <td>2024-07</td>\n",
       "      <td>285.092820</td>\n",
       "    </tr>\n",
       "    <tr>\n",
       "      <th>7</th>\n",
       "      <td>2024-08-01</td>\n",
       "      <td>818.3814</td>\n",
       "      <td>920.8174</td>\n",
       "      <td>NaN</td>\n",
       "      <td>NaN</td>\n",
       "      <td>920.8174</td>\n",
       "      <td>2024-08</td>\n",
       "      <td>567.417753</td>\n",
       "    </tr>\n",
       "    <tr>\n",
       "      <th>8</th>\n",
       "      <td>2024-09-01</td>\n",
       "      <td>785.0686</td>\n",
       "      <td>932.4902</td>\n",
       "      <td>NaN</td>\n",
       "      <td>NaN</td>\n",
       "      <td>932.4902</td>\n",
       "      <td>2024-09</td>\n",
       "      <td>873.706956</td>\n",
       "    </tr>\n",
       "    <tr>\n",
       "      <th>9</th>\n",
       "      <td>2024-10-01</td>\n",
       "      <td>751.3103</td>\n",
       "      <td>945.3104</td>\n",
       "      <td>NaN</td>\n",
       "      <td>NaN</td>\n",
       "      <td>945.3104</td>\n",
       "      <td>2024-10</td>\n",
       "      <td>1529.135670</td>\n",
       "    </tr>\n",
       "    <tr>\n",
       "      <th>10</th>\n",
       "      <td>2024-11-01</td>\n",
       "      <td>811.9274</td>\n",
       "      <td>936.0598</td>\n",
       "      <td>NaN</td>\n",
       "      <td>NaN</td>\n",
       "      <td>936.0598</td>\n",
       "      <td>2024-11</td>\n",
       "      <td>1046.433427</td>\n",
       "    </tr>\n",
       "    <tr>\n",
       "      <th>11</th>\n",
       "      <td>2024-12-01</td>\n",
       "      <td>798.7259</td>\n",
       "      <td>948.8451</td>\n",
       "      <td>NaN</td>\n",
       "      <td>NaN</td>\n",
       "      <td>948.8451</td>\n",
       "      <td>2024-12</td>\n",
       "      <td>741.004162</td>\n",
       "    </tr>\n",
       "    <tr>\n",
       "      <th>12</th>\n",
       "      <td>2025-01-01</td>\n",
       "      <td>797.3857</td>\n",
       "      <td>951.7622</td>\n",
       "      <td>NaN</td>\n",
       "      <td>NaN</td>\n",
       "      <td>951.7622</td>\n",
       "      <td>2025-01</td>\n",
       "      <td>519.660148</td>\n",
       "    </tr>\n",
       "    <tr>\n",
       "      <th>13</th>\n",
       "      <td>2025-02-01</td>\n",
       "      <td>793.9002</td>\n",
       "      <td>970.5912</td>\n",
       "      <td>NaN</td>\n",
       "      <td>NaN</td>\n",
       "      <td>970.5912</td>\n",
       "      <td>2025-02</td>\n",
       "      <td>428.887850</td>\n",
       "    </tr>\n",
       "    <tr>\n",
       "      <th>14</th>\n",
       "      <td>2025-03-01</td>\n",
       "      <td>770.5473</td>\n",
       "      <td>NaN</td>\n",
       "      <td>323.892</td>\n",
       "      <td>937.3031</td>\n",
       "      <td>937.3031</td>\n",
       "      <td>2025-03</td>\n",
       "      <td>228.397547</td>\n",
       "    </tr>\n",
       "    <tr>\n",
       "      <th>15</th>\n",
       "      <td>2025-04-01</td>\n",
       "      <td>739.7958</td>\n",
       "      <td>NaN</td>\n",
       "      <td>336.120</td>\n",
       "      <td>928.3287</td>\n",
       "      <td>928.3287</td>\n",
       "      <td>2025-04</td>\n",
       "      <td>140.628424</td>\n",
       "    </tr>\n",
       "    <tr>\n",
       "      <th>16</th>\n",
       "      <td>2025-06-01</td>\n",
       "      <td>673.7357</td>\n",
       "      <td>NaN</td>\n",
       "      <td>345.376</td>\n",
       "      <td>858.7901</td>\n",
       "      <td>858.7901</td>\n",
       "      <td>2025-06</td>\n",
       "      <td>111.979914</td>\n",
       "    </tr>\n",
       "  </tbody>\n",
       "</table>\n",
       "</div>"
      ],
      "text/plain": [
       "        Fecha  PrecioEscasez  PrecioEscasezActivacion  PrecioEscasezInferior  \\\n",
       "0  2024-01-01       739.8685                1045.0804                    NaN   \n",
       "1  2024-02-01       745.6851                1019.3739                    NaN   \n",
       "2  2024-03-01       727.8256                1034.4405                    NaN   \n",
       "3  2024-04-01       742.6505                1056.6221                    NaN   \n",
       "4  2024-05-01       793.3028                 993.7600                    NaN   \n",
       "5  2024-06-01       766.5341                 975.8979                    NaN   \n",
       "6  2024-07-01       810.7083                 951.2523                    NaN   \n",
       "7  2024-08-01       818.3814                 920.8174                    NaN   \n",
       "8  2024-09-01       785.0686                 932.4902                    NaN   \n",
       "9  2024-10-01       751.3103                 945.3104                    NaN   \n",
       "10 2024-11-01       811.9274                 936.0598                    NaN   \n",
       "11 2024-12-01       798.7259                 948.8451                    NaN   \n",
       "12 2025-01-01       797.3857                 951.7622                    NaN   \n",
       "13 2025-02-01       793.9002                 970.5912                    NaN   \n",
       "14 2025-03-01       770.5473                      NaN                323.892   \n",
       "15 2025-04-01       739.7958                      NaN                336.120   \n",
       "16 2025-06-01       673.7357                      NaN                345.376   \n",
       "\n",
       "    PrecioEscasezSuperior  PrecioMarginalEscasez  año_mes  PB_Nal_mensual  \n",
       "0                     NaN              1045.0804  2024-01      558.722193  \n",
       "1                     NaN              1019.3739  2024-02      568.706078  \n",
       "2                     NaN              1034.4405  2024-03      622.773567  \n",
       "3                     NaN              1056.6221  2024-04      748.656770  \n",
       "4                     NaN               993.7600  2024-05      291.549851  \n",
       "5                     NaN               975.8979  2024-06      280.697367  \n",
       "6                     NaN               951.2523  2024-07      285.092820  \n",
       "7                     NaN               920.8174  2024-08      567.417753  \n",
       "8                     NaN               932.4902  2024-09      873.706956  \n",
       "9                     NaN               945.3104  2024-10     1529.135670  \n",
       "10                    NaN               936.0598  2024-11     1046.433427  \n",
       "11                    NaN               948.8451  2024-12      741.004162  \n",
       "12                    NaN               951.7622  2025-01      519.660148  \n",
       "13                    NaN               970.5912  2025-02      428.887850  \n",
       "14               937.3031               937.3031  2025-03      228.397547  \n",
       "15               928.3287               928.3287  2025-04      140.628424  \n",
       "16               858.7901               858.7901  2025-06      111.979914  "
      ]
     },
     "execution_count": 12,
     "metadata": {},
     "output_type": "execute_result"
    }
   ],
   "source": [
    "df_mensual = pd.merge(df_pe_pivot, df_pbNal_mensual, on='año_mes', how='inner')\n",
    "\n",
    "df_mensual"
   ]
  },
  {
   "cell_type": "markdown",
   "metadata": {},
   "source": [
    "<a id='section5'></a>\n",
    "# 5. Análisis para dar respuesta al caso de uso"
   ]
  },
  {
   "cell_type": "markdown",
   "metadata": {},
   "source": [
    "Ahora se grafica el valor de los distintos Precios de Escasez"
   ]
  },
  {
   "cell_type": "code",
   "execution_count": 15,
   "metadata": {},
   "outputs": [
    {
     "data": {
      "image/png": "[encoded data removed]",
      "text/plain": [
       "<Figure size 1800x600 with 1 Axes>"
      ]
     },
     "metadata": {},
     "output_type": "display_data"
    }
   ],
   "source": [
    "# Crear la figura de Matplotlib\n",
    "plt.figure(figsize=(18, 6))  # Tamaño del gráfico\n",
    "\n",
    "# Agregar una línea por cada Precio de Escasez\n",
    "for tipo in ['PrecioEscasez', 'PrecioEscasezInferior', 'PrecioMarginalEscasez', 'PrecioEscasezSuperior']:\n",
    "    plt.plot(\n",
    "        df_pe_pivot['Fecha'],         # Valores Eje X\n",
    "        df_pe_pivot[tipo],            # Valores Eje Y\n",
    "        label=tipo,                   # Nombre de la línea\n",
    "        marker='o',                   # Marcadores en los puntos\n",
    "        linestyle='-'                 # Estilo de línea\n",
    "    )\n",
    "\n",
    "# Se configura el diseño del gráfico\n",
    "plt.title(\"Evolución de los Precios de Escasez\")     # Título del gráfico\n",
    "plt.xlabel(\"Año\")                                    # Título Eje X\n",
    "plt.ylabel(\"COP/KWh\")                                # Título Eje Y\n",
    "plt.legend()                                         # Mostrar leyenda\n",
    "plt.grid(True, linestyle='--', alpha=0.7)            # Líneas de guía\n",
    "\n",
    "plt.tight_layout()  # Ajuste automático del diseño\n",
    "plt.show()          # Se muestra el gráfico"
   ]
  },
  {
   "cell_type": "markdown",
   "metadata": {},
   "source": [
    "Se añade a la gráfica el valor del Precio de bolsa mensual y también el horario"
   ]
  },
  {
   "cell_type": "code",
   "execution_count": 24,
   "metadata": {},
   "outputs": [
    {
     "data": {
      "image/png": "[encoded data removed]",
      "text/plain": [
       "<Figure size 1800x600 with 1 Axes>"
      ]
     },
     "metadata": {},
     "output_type": "display_data"
    }
   ],
   "source": [
    "# Crear la figura de Matplotlib\n",
    "plt.figure(figsize=(18, 6))  # Tamaño del gráfico\n",
    "\n",
    "# Agregar una línea por cada Precio de Escasez\n",
    "for tipo in ['PrecioEscasez', 'PrecioEscasezInferior', 'PrecioMarginalEscasez', 'PrecioEscasezSuperior']:\n",
    "    plt.plot(\n",
    "        df_pe_pivot['Fecha'],         # Valores Eje X\n",
    "        df_pe_pivot[tipo],            # Valores Eje Y\n",
    "        label=tipo,                   # Nombre de la línea\n",
    "        marker='o',                   # Marcadores en los puntos\n",
    "        linestyle='-'                 # Estilo de línea\n",
    "    )\n",
    "\n",
    "# Se añade línea para el Precio de bolsa mensual\n",
    "plt.plot(\n",
    "    df_mensual['Fecha'],              # Valores Eje X\n",
    "    df_mensual['PB_Nal_mensual'],     # Valores Eje Y\n",
    "    label='PB_Nal_mensual',           # Nombre de la línea\n",
    "    marker='o',                       # Marcadores en los puntos\n",
    "    color='black',                    # Color del gráfico\n",
    "    linestyle='-'                     # Estilo de línea\n",
    ")\n",
    "\n",
    "# Se añade línea para el Precio de bolsa diario\n",
    "plt.plot(\n",
    "    df_pbNal_pivot['FechaHora'],      # Valores Eje X\n",
    "    df_pbNal_pivot['PB_Nal'],         # Valores Eje Y\n",
    "    label='PB_Nal',                   # Nombre de la línea\n",
    "    color='lightpink',                # Color del gráfico\n",
    "    linewidth=0.4                     # Grosor de la línea\n",
    ")\n",
    "\n",
    "# Se actualiza el Título del gráfico\n",
    "plt.title(\"Evolución de los Precios de Escasez VS Precio de Bolsa\")  # Título del gráfico\n",
    "plt.xlabel(\"Fecha\")                                                  # Título Eje X\n",
    "plt.ylabel(\"COP/KWh\")                                                # Título Eje Y\n",
    "plt.legend()                                                         # Mostrar leyenda\n",
    "plt.grid(True, linestyle='--', alpha=0.7)                            # Líneas de guía\n",
    "\n",
    "plt.tight_layout()  # Ajuste automático del diseño\n",
    "plt.show()          # Se muestra el gráfico"
   ]
  }
 ],
 "metadata": {
  "kernelspec": {
   "display_name": ".venv",
   "language": "python",
   "name": "python3"
  },
  "language_info": {
   "codemirror_mode": {
    "name": "ipython",
    "version": 3
   },
   "file_extension": ".py",
   "mimetype": "text/x-python",
   "name": "python",
   "nbconvert_exporter": "python",
   "pygments_lexer": "ipython3",
   "version": "3.13.5"
  }
 },
 "nbformat": 4,
 "nbformat_minor": 2
}
