{
 "cells": [
  {
   "attachments": {
    "SIMEM_logo_1.png": {
     "image/png": "[encoded data removed]"
    }
   },
   "cell_type": "markdown",
   "metadata": {},
   "source": [
    "![SIMEM_logo_1.png](attachment:SIMEM_logo_1.png)\n",
    "\n",
    "[SiMEM](https://www.simem.co/)"
   ]
  },
  {
   "cell_type": "markdown",
   "metadata": {},
   "source": [
    "## Caso de uso - Cantidades y precios en contratos de energía del Mercado Mayorista para el mercado Regulado\n",
    "\n",
    "\n",
    "# Objetivos de este Notebook\n",
    "\n",
    "* Explicar cómo se realiza la instalación e importación de la librería pydataxm desde la consola para su uso en ambientes locales\n",
    "* Explicar cómo se pueden consultar los conjuntos de datos a través de la librería Pydataxm\n",
    "* Explicar cómo realizar el procesamiento y manipulación de los datos consultados\n",
    "* Explicar el análisis de los datos consultados para dar respuesta al caso de uso propuesto\n",
    "\n",
    "**Índice**\n",
    "\n",
    "1. [Instalación de librerías](#section1)\n",
    "\n",
    "2. [Importación de librerías](#section2)\n",
    "\n",
    "3. [Consultar información de los conjuntos de datos](#section3)\n",
    "\n",
    "4. [Manipulación de datos](#section4)\n",
    "\n",
    "5. [Análisis para dar respuesta al caso de uso](#section5)\n"
   ]
  },
  {
   "cell_type": "markdown",
   "metadata": {},
   "source": [
    "<a id='section1'></a>\n",
    "# 1. Instalación de la librería\n",
    "Ejecutar el siguiente comando en el CMD para instalar la librería de python."
   ]
  },
  {
   "cell_type": "code",
   "execution_count": null,
   "metadata": {},
   "outputs": [],
   "source": [
    "# !{sys.executable} -m pip install pydataxm"
   ]
  },
  {
   "cell_type": "markdown",
   "metadata": {},
   "source": [
    "<a id='section2'></a>\n",
    "# 2. Importación de librerías\n"
   ]
  },
  {
   "cell_type": "code",
   "execution_count": 41,
   "metadata": {},
   "outputs": [],
   "source": [
    "from pydataxm.pydatasimem import ReadSIMEM, VariableSIMEM  # Importa clases para interactuar con datos del sistema SIMEM\n",
    "import pandas as pd                             # Librería para manipulación y análisis de datos en estructuras tipo DataFrame\n",
    "import datetime as dt                           # Módulo para trabajar con fechas y horas\n",
    "from datetime import timedelta                  # Importa la clase timedelta para operaciones con diferencias de tiempo\n",
    "import matplotlib.pyplot as plt                 # Importa la librería matplotlib para graficar\n"
   ]
  },
  {
   "cell_type": "markdown",
   "metadata": {},
   "source": [
    "<a id='section3'></a>\n",
    "# 3. Consultar información de los conjuntos de datos\n",
    "El método de extracción recibe los parámetros con los que se va a realizar la consulta. \n",
    "El datasetID para un conjunto particular se puede encontrar en el [catálogo de conjuntos de datos.](https://www.simem.co/pages/catalogodatos/51FC0A59-3A00-462C-B449-9CB8D5E007FB)  \n",
    "Para este ejemplo el conjunto a presentar es  [Cantidades y precios en contratos de energía del Mercado Mayorista por comercializador](https://www.simem.co/datadetail/d316478b-b8c0-4050-49ec-08dce7ce0b90)."
   ]
  },
  {
   "cell_type": "markdown",
   "metadata": {},
   "source": [
    "Se definen los parámetros de entrada y se crea el objeto ReadSIMEM() para realizar las consultas."
   ]
  },
  {
   "cell_type": "code",
   "execution_count": 100,
   "metadata": {},
   "outputs": [
    {
     "name": "stdout",
     "output_type": "stream",
     "text": [
      "****************************************************************************************************\n",
      "Initializing object\n",
      "The object has been initialized with the dataset: \"Cantidades y precios en contratos de energía del Mercado Mayorista por comercializador\"\n",
      "****************************************************************************************************\n",
      "Inicio consulta sincronica\n",
      "Creacion url: 0.0009434223175048828\n",
      "Extraccion de registros: 13.191309452056885\n",
      "End of data extracting process\n",
      "****************************************************************************************************\n"
     ]
    },
    {
     "data": {
      "application/vnd.microsoft.datawrangler.viewer.v0+json": {
       "columns": [
        {
         "name": "index",
         "rawType": "int64",
         "type": "integer"
        },
        {
         "name": "Fecha",
         "rawType": "object",
         "type": "string"
        },
        {
         "name": "CodigoAgenteComprador",
         "rawType": "object",
         "type": "string"
        },
        {
         "name": "TipoMercado",
         "rawType": "object",
         "type": "string"
        },
        {
         "name": "Mecanismo",
         "rawType": "object",
         "type": "string"
        },
        {
         "name": "NormatividadRelacionada",
         "rawType": "object",
         "type": "string"
        },
        {
         "name": "Cantidad",
         "rawType": "float64",
         "type": "float"
        },
        {
         "name": "PPP",
         "rawType": "float64",
         "type": "float"
        },
        {
         "name": "Version",
         "rawType": "object",
         "type": "string"
        }
       ],
       "ref": "30384e55-67ca-491a-9e69-f3a5b818b25e",
       "rows": [
        [
         "0",
         "2025-01-31",
         "FERC",
         "No Regulado",
         "Negociación Bilateral",
         "Resolución CREG 024 del 1995",
         "1145939.875",
         "303.3234",
         "TXF"
        ],
        [
         "1",
         "2025-01-31",
         "CEOG",
         "No Regulado",
         "Negociación Bilateral",
         "Resolución CREG 024 del 1995",
         "120000.0",
         "348.7797",
         "TXF"
        ],
        [
         "2",
         "2025-01-31",
         "LMEC",
         "No Regulado",
         "Negociación Bilateral",
         "Resolución CREG 024 del 1995",
         "8206.7998046875",
         "383.494",
         "TXR"
        ],
        [
         "3",
         "2025-01-31",
         "CBYC",
         "No Regulado",
         "Negociación Bilateral",
         "Resolución CREG 024 del 1995",
         "0.0",
         "0.0",
         "TXR"
        ],
        [
         "4",
         "2025-01-31",
         "ASCC",
         "No Regulado",
         "Negociación Bilateral",
         "Resolución CREG 024 del 1995",
         "21814.259765625",
         "373.9178",
         "TXR"
        ],
        [
         "5",
         "2025-01-31",
         "EEPC",
         "Regulado",
         "Antes del SICEP",
         "Resolución CREG 020 del 1996",
         "223539.84375",
         "318.7953",
         "TX3"
        ],
        [
         "6",
         "2025-01-31",
         "CHVC",
         "No Regulado",
         "Mecanismos de Comercialización",
         "Resolución MME 40590 del 2019",
         "50877.9296875",
         "275.8687",
         "TXR"
        ],
        [
         "7",
         "2025-01-31",
         "SCEC",
         "Regulado",
         "Por fuera del SICEP",
         "Resolución CREG 101 036 del 2024",
         "9673.5703125",
         "386.1201",
         "TXR"
        ],
        [
         "8",
         "2025-01-31",
         "CASC",
         "Regulado",
         "SICEP",
         "Resolución CREG 130 del 2019",
         "930975.0",
         "349.0086",
         "TX3"
        ],
        [
         "9",
         "2025-01-31",
         "CIEG",
         "No Regulado",
         "Negociación Bilateral",
         "Resolución CREG 024 del 1995",
         "48000.0",
         "311.5603",
         "TXR"
        ],
        [
         "10",
         "2025-01-31",
         "EDPC",
         "Regulado",
         "Mecanismos de Comercialización",
         "Resolución MME 40590 del 2019",
         "44915.08984375",
         "264.5299",
         "TXR"
        ],
        [
         "11",
         "2025-01-31",
         "EMEC",
         "Regulado",
         "Por fuera del SICEP",
         "Resolución CREG 101 036 del 2024",
         "3695.919921875",
         "577.8069",
         "TXR"
        ],
        [
         "12",
         "2025-01-31",
         "IAEC",
         "No Regulado",
         "Negociación Bilateral",
         "Resolución CREG 024 del 1995",
         "277291.1875",
         "293.7456",
         "TXF"
        ],
        [
         "13",
         "2025-01-31",
         "EMSC",
         "Regulado",
         "SICEP",
         "Resolución CREG 130 del 2019",
         "1004000.0",
         "341.6994",
         "TXF"
        ],
        [
         "14",
         "2025-01-31",
         "EBPC",
         "Regulado",
         "Por fuera del SICEP",
         "Resolución CREG 101 036 del 2024",
         "211101.734375",
         "463.1066",
         "TXF"
        ],
        [
         "15",
         "2025-01-31",
         "EPTC",
         "No Regulado",
         "Negociación Bilateral",
         "Resolución CREG 024 del 1995",
         "67741.921875",
         "407.8704",
         "TXR"
        ],
        [
         "16",
         "2025-01-31",
         "CHVC",
         "Regulado",
         "Mecanismos de Comercialización",
         "Resolución MME 40590 del 2019",
         "43779.7890625",
         "278.2424",
         "TXR"
        ],
        [
         "17",
         "2025-01-31",
         "ETTC",
         "No Regulado",
         "Negociación Bilateral",
         "Resolución CREG 024 del 1995",
         "734458.375",
         "396.2265",
         "TXF"
        ],
        [
         "18",
         "2025-01-31",
         "LESC",
         "No Regulado",
         "Mecanismos de Comercialización",
         "Resolución MME 40590 del 2019",
         "3502.47998046875",
         "322.9243",
         "TXF"
        ],
        [
         "19",
         "2025-01-31",
         "HLAC",
         "No Regulado",
         "Negociación Bilateral",
         "Resolución CREG 024 del 1995",
         "580019.125",
         "305.8454",
         "TX3"
        ]
       ],
       "shape": {
        "columns": 8,
        "rows": 20
       }
      },
      "text/html": [
       "<div>\n",
       "<style scoped>\n",
       "    .dataframe tbody tr th:only-of-type {\n",
       "        vertical-align: middle;\n",
       "    }\n",
       "\n",
       "    .dataframe tbody tr th {\n",
       "        vertical-align: top;\n",
       "    }\n",
       "\n",
       "    .dataframe thead th {\n",
       "        text-align: right;\n",
       "    }\n",
       "</style>\n",
       "<table border=\"1\" class=\"dataframe\">\n",
       "  <thead>\n",
       "    <tr style=\"text-align: right;\">\n",
       "      <th></th>\n",
       "      <th>Fecha</th>\n",
       "      <th>CodigoAgenteComprador</th>\n",
       "      <th>TipoMercado</th>\n",
       "      <th>Mecanismo</th>\n",
       "      <th>NormatividadRelacionada</th>\n",
       "      <th>Cantidad</th>\n",
       "      <th>PPP</th>\n",
       "      <th>Version</th>\n",
       "    </tr>\n",
       "  </thead>\n",
       "  <tbody>\n",
       "    <tr>\n",
       "      <th>0</th>\n",
       "      <td>2025-01-31</td>\n",
       "      <td>FERC</td>\n",
       "      <td>No Regulado</td>\n",
       "      <td>Negociación Bilateral</td>\n",
       "      <td>Resolución CREG 024 del 1995</td>\n",
       "      <td>1.145940e+06</td>\n",
       "      <td>303.3234</td>\n",
       "      <td>TXF</td>\n",
       "    </tr>\n",
       "    <tr>\n",
       "      <th>1</th>\n",
       "      <td>2025-01-31</td>\n",
       "      <td>CEOG</td>\n",
       "      <td>No Regulado</td>\n",
       "      <td>Negociación Bilateral</td>\n",
       "      <td>Resolución CREG 024 del 1995</td>\n",
       "      <td>1.200000e+05</td>\n",
       "      <td>348.7797</td>\n",
       "      <td>TXF</td>\n",
       "    </tr>\n",
       "    <tr>\n",
       "      <th>2</th>\n",
       "      <td>2025-01-31</td>\n",
       "      <td>LMEC</td>\n",
       "      <td>No Regulado</td>\n",
       "      <td>Negociación Bilateral</td>\n",
       "      <td>Resolución CREG 024 del 1995</td>\n",
       "      <td>8.206800e+03</td>\n",
       "      <td>383.4940</td>\n",
       "      <td>TXR</td>\n",
       "    </tr>\n",
       "    <tr>\n",
       "      <th>3</th>\n",
       "      <td>2025-01-31</td>\n",
       "      <td>CBYC</td>\n",
       "      <td>No Regulado</td>\n",
       "      <td>Negociación Bilateral</td>\n",
       "      <td>Resolución CREG 024 del 1995</td>\n",
       "      <td>0.000000e+00</td>\n",
       "      <td>0.0000</td>\n",
       "      <td>TXR</td>\n",
       "    </tr>\n",
       "    <tr>\n",
       "      <th>4</th>\n",
       "      <td>2025-01-31</td>\n",
       "      <td>ASCC</td>\n",
       "      <td>No Regulado</td>\n",
       "      <td>Negociación Bilateral</td>\n",
       "      <td>Resolución CREG 024 del 1995</td>\n",
       "      <td>2.181426e+04</td>\n",
       "      <td>373.9178</td>\n",
       "      <td>TXR</td>\n",
       "    </tr>\n",
       "    <tr>\n",
       "      <th>5</th>\n",
       "      <td>2025-01-31</td>\n",
       "      <td>EEPC</td>\n",
       "      <td>Regulado</td>\n",
       "      <td>Antes del SICEP</td>\n",
       "      <td>Resolución CREG 020 del 1996</td>\n",
       "      <td>2.235398e+05</td>\n",
       "      <td>318.7953</td>\n",
       "      <td>TX3</td>\n",
       "    </tr>\n",
       "    <tr>\n",
       "      <th>6</th>\n",
       "      <td>2025-01-31</td>\n",
       "      <td>CHVC</td>\n",
       "      <td>No Regulado</td>\n",
       "      <td>Mecanismos de Comercialización</td>\n",
       "      <td>Resolución MME 40590 del 2019</td>\n",
       "      <td>5.087793e+04</td>\n",
       "      <td>275.8687</td>\n",
       "      <td>TXR</td>\n",
       "    </tr>\n",
       "    <tr>\n",
       "      <th>7</th>\n",
       "      <td>2025-01-31</td>\n",
       "      <td>SCEC</td>\n",
       "      <td>Regulado</td>\n",
       "      <td>Por fuera del SICEP</td>\n",
       "      <td>Resolución CREG 101 036 del 2024</td>\n",
       "      <td>9.673570e+03</td>\n",
       "      <td>386.1201</td>\n",
       "      <td>TXR</td>\n",
       "    </tr>\n",
       "    <tr>\n",
       "      <th>8</th>\n",
       "      <td>2025-01-31</td>\n",
       "      <td>CASC</td>\n",
       "      <td>Regulado</td>\n",
       "      <td>SICEP</td>\n",
       "      <td>Resolución CREG 130 del 2019</td>\n",
       "      <td>9.309750e+05</td>\n",
       "      <td>349.0086</td>\n",
       "      <td>TX3</td>\n",
       "    </tr>\n",
       "    <tr>\n",
       "      <th>9</th>\n",
       "      <td>2025-01-31</td>\n",
       "      <td>CIEG</td>\n",
       "      <td>No Regulado</td>\n",
       "      <td>Negociación Bilateral</td>\n",
       "      <td>Resolución CREG 024 del 1995</td>\n",
       "      <td>4.800000e+04</td>\n",
       "      <td>311.5603</td>\n",
       "      <td>TXR</td>\n",
       "    </tr>\n",
       "    <tr>\n",
       "      <th>10</th>\n",
       "      <td>2025-01-31</td>\n",
       "      <td>EDPC</td>\n",
       "      <td>Regulado</td>\n",
       "      <td>Mecanismos de Comercialización</td>\n",
       "      <td>Resolución MME 40590 del 2019</td>\n",
       "      <td>4.491509e+04</td>\n",
       "      <td>264.5299</td>\n",
       "      <td>TXR</td>\n",
       "    </tr>\n",
       "    <tr>\n",
       "      <th>11</th>\n",
       "      <td>2025-01-31</td>\n",
       "      <td>EMEC</td>\n",
       "      <td>Regulado</td>\n",
       "      <td>Por fuera del SICEP</td>\n",
       "      <td>Resolución CREG 101 036 del 2024</td>\n",
       "      <td>3.695920e+03</td>\n",
       "      <td>577.8069</td>\n",
       "      <td>TXR</td>\n",
       "    </tr>\n",
       "    <tr>\n",
       "      <th>12</th>\n",
       "      <td>2025-01-31</td>\n",
       "      <td>IAEC</td>\n",
       "      <td>No Regulado</td>\n",
       "      <td>Negociación Bilateral</td>\n",
       "      <td>Resolución CREG 024 del 1995</td>\n",
       "      <td>2.772912e+05</td>\n",
       "      <td>293.7456</td>\n",
       "      <td>TXF</td>\n",
       "    </tr>\n",
       "    <tr>\n",
       "      <th>13</th>\n",
       "      <td>2025-01-31</td>\n",
       "      <td>EMSC</td>\n",
       "      <td>Regulado</td>\n",
       "      <td>SICEP</td>\n",
       "      <td>Resolución CREG 130 del 2019</td>\n",
       "      <td>1.004000e+06</td>\n",
       "      <td>341.6994</td>\n",
       "      <td>TXF</td>\n",
       "    </tr>\n",
       "    <tr>\n",
       "      <th>14</th>\n",
       "      <td>2025-01-31</td>\n",
       "      <td>EBPC</td>\n",
       "      <td>Regulado</td>\n",
       "      <td>Por fuera del SICEP</td>\n",
       "      <td>Resolución CREG 101 036 del 2024</td>\n",
       "      <td>2.111017e+05</td>\n",
       "      <td>463.1066</td>\n",
       "      <td>TXF</td>\n",
       "    </tr>\n",
       "    <tr>\n",
       "      <th>15</th>\n",
       "      <td>2025-01-31</td>\n",
       "      <td>EPTC</td>\n",
       "      <td>No Regulado</td>\n",
       "      <td>Negociación Bilateral</td>\n",
       "      <td>Resolución CREG 024 del 1995</td>\n",
       "      <td>6.774192e+04</td>\n",
       "      <td>407.8704</td>\n",
       "      <td>TXR</td>\n",
       "    </tr>\n",
       "    <tr>\n",
       "      <th>16</th>\n",
       "      <td>2025-01-31</td>\n",
       "      <td>CHVC</td>\n",
       "      <td>Regulado</td>\n",
       "      <td>Mecanismos de Comercialización</td>\n",
       "      <td>Resolución MME 40590 del 2019</td>\n",
       "      <td>4.377979e+04</td>\n",
       "      <td>278.2424</td>\n",
       "      <td>TXR</td>\n",
       "    </tr>\n",
       "    <tr>\n",
       "      <th>17</th>\n",
       "      <td>2025-01-31</td>\n",
       "      <td>ETTC</td>\n",
       "      <td>No Regulado</td>\n",
       "      <td>Negociación Bilateral</td>\n",
       "      <td>Resolución CREG 024 del 1995</td>\n",
       "      <td>7.344584e+05</td>\n",
       "      <td>396.2265</td>\n",
       "      <td>TXF</td>\n",
       "    </tr>\n",
       "    <tr>\n",
       "      <th>18</th>\n",
       "      <td>2025-01-31</td>\n",
       "      <td>LESC</td>\n",
       "      <td>No Regulado</td>\n",
       "      <td>Mecanismos de Comercialización</td>\n",
       "      <td>Resolución MME 40590 del 2019</td>\n",
       "      <td>3.502480e+03</td>\n",
       "      <td>322.9243</td>\n",
       "      <td>TXF</td>\n",
       "    </tr>\n",
       "    <tr>\n",
       "      <th>19</th>\n",
       "      <td>2025-01-31</td>\n",
       "      <td>HLAC</td>\n",
       "      <td>No Regulado</td>\n",
       "      <td>Negociación Bilateral</td>\n",
       "      <td>Resolución CREG 024 del 1995</td>\n",
       "      <td>5.800191e+05</td>\n",
       "      <td>305.8454</td>\n",
       "      <td>TX3</td>\n",
       "    </tr>\n",
       "  </tbody>\n",
       "</table>\n",
       "</div>"
      ],
      "text/plain": [
       "         Fecha CodigoAgenteComprador  TipoMercado  \\\n",
       "0   2025-01-31                  FERC  No Regulado   \n",
       "1   2025-01-31                  CEOG  No Regulado   \n",
       "2   2025-01-31                  LMEC  No Regulado   \n",
       "3   2025-01-31                  CBYC  No Regulado   \n",
       "4   2025-01-31                  ASCC  No Regulado   \n",
       "5   2025-01-31                  EEPC     Regulado   \n",
       "6   2025-01-31                  CHVC  No Regulado   \n",
       "7   2025-01-31                  SCEC     Regulado   \n",
       "8   2025-01-31                  CASC     Regulado   \n",
       "9   2025-01-31                  CIEG  No Regulado   \n",
       "10  2025-01-31                  EDPC     Regulado   \n",
       "11  2025-01-31                  EMEC     Regulado   \n",
       "12  2025-01-31                  IAEC  No Regulado   \n",
       "13  2025-01-31                  EMSC     Regulado   \n",
       "14  2025-01-31                  EBPC     Regulado   \n",
       "15  2025-01-31                  EPTC  No Regulado   \n",
       "16  2025-01-31                  CHVC     Regulado   \n",
       "17  2025-01-31                  ETTC  No Regulado   \n",
       "18  2025-01-31                  LESC  No Regulado   \n",
       "19  2025-01-31                  HLAC  No Regulado   \n",
       "\n",
       "                         Mecanismo           NormatividadRelacionada  \\\n",
       "0            Negociación Bilateral      Resolución CREG 024 del 1995   \n",
       "1            Negociación Bilateral      Resolución CREG 024 del 1995   \n",
       "2            Negociación Bilateral      Resolución CREG 024 del 1995   \n",
       "3            Negociación Bilateral      Resolución CREG 024 del 1995   \n",
       "4            Negociación Bilateral      Resolución CREG 024 del 1995   \n",
       "5                  Antes del SICEP      Resolución CREG 020 del 1996   \n",
       "6   Mecanismos de Comercialización     Resolución MME 40590 del 2019   \n",
       "7              Por fuera del SICEP  Resolución CREG 101 036 del 2024   \n",
       "8                            SICEP      Resolución CREG 130 del 2019   \n",
       "9            Negociación Bilateral      Resolución CREG 024 del 1995   \n",
       "10  Mecanismos de Comercialización     Resolución MME 40590 del 2019   \n",
       "11             Por fuera del SICEP  Resolución CREG 101 036 del 2024   \n",
       "12           Negociación Bilateral      Resolución CREG 024 del 1995   \n",
       "13                           SICEP      Resolución CREG 130 del 2019   \n",
       "14             Por fuera del SICEP  Resolución CREG 101 036 del 2024   \n",
       "15           Negociación Bilateral      Resolución CREG 024 del 1995   \n",
       "16  Mecanismos de Comercialización     Resolución MME 40590 del 2019   \n",
       "17           Negociación Bilateral      Resolución CREG 024 del 1995   \n",
       "18  Mecanismos de Comercialización     Resolución MME 40590 del 2019   \n",
       "19           Negociación Bilateral      Resolución CREG 024 del 1995   \n",
       "\n",
       "        Cantidad       PPP Version  \n",
       "0   1.145940e+06  303.3234     TXF  \n",
       "1   1.200000e+05  348.7797     TXF  \n",
       "2   8.206800e+03  383.4940     TXR  \n",
       "3   0.000000e+00    0.0000     TXR  \n",
       "4   2.181426e+04  373.9178     TXR  \n",
       "5   2.235398e+05  318.7953     TX3  \n",
       "6   5.087793e+04  275.8687     TXR  \n",
       "7   9.673570e+03  386.1201     TXR  \n",
       "8   9.309750e+05  349.0086     TX3  \n",
       "9   4.800000e+04  311.5603     TXR  \n",
       "10  4.491509e+04  264.5299     TXR  \n",
       "11  3.695920e+03  577.8069     TXR  \n",
       "12  2.772912e+05  293.7456     TXF  \n",
       "13  1.004000e+06  341.6994     TXF  \n",
       "14  2.111017e+05  463.1066     TXF  \n",
       "15  6.774192e+04  407.8704     TXR  \n",
       "16  4.377979e+04  278.2424     TXR  \n",
       "17  7.344584e+05  396.2265     TXF  \n",
       "18  3.502480e+03  322.9243     TXF  \n",
       "19  5.800191e+05  305.8454     TX3  "
      ]
     },
     "metadata": {},
     "output_type": "display_data"
    }
   ],
   "source": [
    "id_dataset = 'd31647'                                       # ID del conjunto de datos a consultar\n",
    "fecha_inicial = '2025-01-01'                                # Fecha de inicio del rango de consulta\n",
    "fecha_final = '2025-05-31'                                  # Fecha de fin del rango de consulta\n",
    "simem = ReadSIMEM(id_dataset, fecha_inicial, fecha_final)   # Instancia de la clase ReadSIMEM con los parámetros definidos\n",
    "df_dataset = simem.main()                                   # Ejecución del método principal para obtener los datos en un DataFrame\n",
    "display(df_dataset.head(20))                                # Visualización de las primeras 20 filas del DataFrame\n"
   ]
  },
  {
   "cell_type": "code",
   "execution_count": 101,
   "metadata": {},
   "outputs": [],
   "source": [
    "df_dataset.to_clipboard()"
   ]
  },
  {
   "cell_type": "markdown",
   "metadata": {},
   "source": [
    "<a id='section4'></a>\n",
    "# 4. Manipulación de datos\n",
    "Los siguientes pasos corresponden a las actividades de manipulación y preparación de los datos que son relevantes para el análisis. "
   ]
  },
  {
   "cell_type": "markdown",
   "metadata": {},
   "source": [
    "### Filtrar la máxima versión para el periodo de consulta de los datos\n",
    "El método filtra para el dataset de consulta, la máxima versión de la liquidación para cada uno de los días. "
   ]
  },
  {
   "cell_type": "code",
   "execution_count": 104,
   "metadata": {},
   "outputs": [],
   "source": [
    "def filtrar_ultima_version(df, columna_fecha, columna_version, columna_variable=None):                      # Función para filtrar la última versión de registros por mes y variables (opcional)\n",
    "    versiones = ['TX1', 'TX2', 'TXR', 'TXF', 'TX3', 'TX4', 'TX5', 'TX6', 'TX7', 'TX8', 'TX9', 'TX10']        # Lista de versiones ordenadas por prioridad\n",
    "    version_orden = pd.Series(range(1, len(versiones) + 1), index=versiones)                                # Serie que asigna un orden numérico a cada versión\n",
    "    df[columna_fecha] = pd.to_datetime(df[columna_fecha])                                                   # Conversión de la columna de fecha a tipo datetime\n",
    "    df['año_mes'] = df[columna_fecha].dt.to_period('M')                                                     # Se crea una columna con el año y mes del registro\n",
    "    df['orden_version'] = df[columna_version].map(version_orden)                                            # Se asigna el orden de versión a cada fila\n",
    "\n",
    "    if columna_variable is None:                                                                            # Si no se especifican variables adicionales\n",
    "        df_filtrado = df.sort_values(['año_mes', 'orden_version'], ascending=[True, False])                 # Ordena por mes y versión descendente\n",
    "        df_filtrado = df_filtrado.drop_duplicates(subset=[columna_fecha], keep='first')                     # Elimina duplicados conservando la última versión por fecha\n",
    "    else:                                                                                                    # Si se especifican variables adicionales\n",
    "        if isinstance(columna_variable, str):                                                               # Convierte a lista si es un solo string\n",
    "            columna_variable = [columna_variable]\n",
    "        orden_columnas = columna_variable + ['año_mes', 'orden_version']                                    # Define el orden de columnas para ordenar\n",
    "        df_filtrado = df.sort_values(orden_columnas, ascending=[True]*len(columna_variable) + [True, False])# Ordena por variables, mes y versión\n",
    "        df_filtrado = df_filtrado.drop_duplicates(subset=columna_variable + [columna_fecha], keep='first')  # Elimina duplicados por variables y fecha\n",
    "\n",
    "    df_filtrado = df_filtrado.drop(columns=['año_mes', 'orden_version'])                                    # Elimina columnas auxiliares\n",
    "    return df_filtrado                                                                                      # Retorna el DataFrame filtrado\n",
    "  \n",
    "\n",
    "df_result = filtrar_ultima_version(df=df_dataset, columna_fecha='Fecha', columna_version='Version', columna_variable=['CodigoAgenteComprador','TipoMercado','Mecanismo','NormatividadRelacionada'])"
   ]
  },
  {
   "cell_type": "code",
   "execution_count": 105,
   "metadata": {},
   "outputs": [],
   "source": [
    "df_result.to_clipboard()"
   ]
  },
  {
   "cell_type": "code",
   "execution_count": 106,
   "metadata": {},
   "outputs": [
    {
     "data": {
      "application/vnd.microsoft.datawrangler.viewer.v0+json": {
       "columns": [
        {
         "name": "index",
         "rawType": "int64",
         "type": "integer"
        },
        {
         "name": "Fecha",
         "rawType": "datetime64[ns]",
         "type": "datetime"
        },
        {
         "name": "CodigoAgenteComprador",
         "rawType": "object",
         "type": "string"
        },
        {
         "name": "TipoMercado",
         "rawType": "object",
         "type": "string"
        },
        {
         "name": "Mecanismo",
         "rawType": "object",
         "type": "string"
        },
        {
         "name": "NormatividadRelacionada",
         "rawType": "object",
         "type": "string"
        },
        {
         "name": "Cantidad",
         "rawType": "float64",
         "type": "float"
        },
        {
         "name": "PPP",
         "rawType": "float64",
         "type": "float"
        },
        {
         "name": "Version",
         "rawType": "object",
         "type": "string"
        }
       ],
       "ref": "505b6b04-1bab-4bfe-8b24-c58ed1c98920",
       "rows": [
        [
         "699",
         "2025-01-31 00:00:00",
         "ASCC",
         "Regulado",
         "Antes del SICEP",
         "Resolución CREG 020 del 1996",
         "55125.94140625",
         "372.2522",
         "TX3"
        ],
        [
         "1387",
         "2025-01-30 00:00:00",
         "ASCC",
         "Regulado",
         "Antes del SICEP",
         "Resolución CREG 020 del 1996",
         "53900.0703125",
         "372.2522",
         "TX3"
        ],
        [
         "2070",
         "2025-01-29 00:00:00",
         "ASCC",
         "Regulado",
         "Antes del SICEP",
         "Resolución CREG 020 del 1996",
         "54232.94921875",
         "372.2522",
         "TX3"
        ],
        [
         "2756",
         "2025-01-28 00:00:00",
         "ASCC",
         "Regulado",
         "Antes del SICEP",
         "Resolución CREG 020 del 1996",
         "55763.671875",
         "372.2522",
         "TX3"
        ],
        [
         "3447",
         "2025-01-27 00:00:00",
         "ASCC",
         "Regulado",
         "Antes del SICEP",
         "Resolución CREG 020 del 1996",
         "52100.51171875",
         "372.2522",
         "TX3"
        ],
        [
         "3656",
         "2025-01-26 00:00:00",
         "ASCC",
         "Regulado",
         "Antes del SICEP",
         "Resolución CREG 020 del 1996",
         "39990.5390625",
         "372.2522",
         "TX3"
        ],
        [
         "4679",
         "2025-01-25 00:00:00",
         "ASCC",
         "Regulado",
         "Antes del SICEP",
         "Resolución CREG 020 del 1996",
         "47051.80078125",
         "372.2522",
         "TX3"
        ],
        [
         "5039",
         "2025-01-24 00:00:00",
         "ASCC",
         "Regulado",
         "Antes del SICEP",
         "Resolución CREG 020 del 1996",
         "55257.41015625",
         "372.2522",
         "TX3"
        ],
        [
         "5646",
         "2025-01-23 00:00:00",
         "ASCC",
         "Regulado",
         "Antes del SICEP",
         "Resolución CREG 020 del 1996",
         "52572.16015625",
         "372.2522",
         "TX3"
        ],
        [
         "6823",
         "2025-01-22 00:00:00",
         "ASCC",
         "Regulado",
         "Antes del SICEP",
         "Resolución CREG 020 del 1996",
         "52696.6796875",
         "372.2522",
         "TX3"
        ],
        [
         "7692",
         "2025-01-21 00:00:00",
         "ASCC",
         "Regulado",
         "Antes del SICEP",
         "Resolución CREG 020 del 1996",
         "52835.44140625",
         "372.2522",
         "TX3"
        ],
        [
         "7947",
         "2025-01-20 00:00:00",
         "ASCC",
         "Regulado",
         "Antes del SICEP",
         "Resolución CREG 020 del 1996",
         "50207.5",
         "372.2522",
         "TX3"
        ],
        [
         "8540",
         "2025-01-19 00:00:00",
         "ASCC",
         "Regulado",
         "Antes del SICEP",
         "Resolución CREG 020 del 1996",
         "39057.2890625",
         "372.2522",
         "TX3"
        ],
        [
         "9854",
         "2025-01-18 00:00:00",
         "ASCC",
         "Regulado",
         "Antes del SICEP",
         "Resolución CREG 020 del 1996",
         "45355.69921875",
         "372.2522",
         "TX3"
        ],
        [
         "10145",
         "2025-01-17 00:00:00",
         "ASCC",
         "Regulado",
         "Antes del SICEP",
         "Resolución CREG 020 del 1996",
         "52695.7109375",
         "372.2522",
         "TX3"
        ],
        [
         "11109",
         "2025-01-16 00:00:00",
         "ASCC",
         "Regulado",
         "Antes del SICEP",
         "Resolución CREG 020 del 1996",
         "53218.9296875",
         "372.2522",
         "TX3"
        ],
        [
         "11905",
         "2025-01-15 00:00:00",
         "ASCC",
         "Regulado",
         "Antes del SICEP",
         "Resolución CREG 020 del 1996",
         "51572.859375",
         "372.2522",
         "TX3"
        ],
        [
         "12218",
         "2025-01-14 00:00:00",
         "ASCC",
         "Regulado",
         "Antes del SICEP",
         "Resolución CREG 020 del 1996",
         "50016.76953125",
         "372.2522",
         "TX3"
        ],
        [
         "13105",
         "2025-01-13 00:00:00",
         "ASCC",
         "Regulado",
         "Antes del SICEP",
         "Resolución CREG 020 del 1996",
         "51559.0703125",
         "372.2522",
         "TX3"
        ],
        [
         "13409",
         "2025-01-12 00:00:00",
         "ASCC",
         "Regulado",
         "Antes del SICEP",
         "Resolución CREG 020 del 1996",
         "39388.66015625",
         "372.2522",
         "TX3"
        ],
        [
         "14273",
         "2025-01-11 00:00:00",
         "ASCC",
         "Regulado",
         "Antes del SICEP",
         "Resolución CREG 020 del 1996",
         "48955.44140625",
         "372.2522",
         "TX3"
        ],
        [
         "14854",
         "2025-01-10 00:00:00",
         "ASCC",
         "Regulado",
         "Antes del SICEP",
         "Resolución CREG 020 del 1996",
         "51603.3203125",
         "372.2522",
         "TX3"
        ],
        [
         "15996",
         "2025-01-09 00:00:00",
         "ASCC",
         "Regulado",
         "Antes del SICEP",
         "Resolución CREG 020 del 1996",
         "51212.33984375",
         "372.2522",
         "TX3"
        ],
        [
         "16775",
         "2025-01-08 00:00:00",
         "ASCC",
         "Regulado",
         "Antes del SICEP",
         "Resolución CREG 020 del 1996",
         "51078.1796875",
         "372.2522",
         "TX3"
        ],
        [
         "17511",
         "2025-01-07 00:00:00",
         "ASCC",
         "Regulado",
         "Antes del SICEP",
         "Resolución CREG 020 del 1996",
         "48536.2109375",
         "372.2522",
         "TX3"
        ],
        [
         "17773",
         "2025-01-06 00:00:00",
         "ASCC",
         "Regulado",
         "Antes del SICEP",
         "Resolución CREG 020 del 1996",
         "40506.9609375",
         "372.2522",
         "TX3"
        ],
        [
         "18860",
         "2025-01-05 00:00:00",
         "ASCC",
         "Regulado",
         "Antes del SICEP",
         "Resolución CREG 020 del 1996",
         "44916.05859375",
         "372.2522",
         "TX3"
        ],
        [
         "19142",
         "2025-01-04 00:00:00",
         "ASCC",
         "Regulado",
         "Antes del SICEP",
         "Resolución CREG 020 del 1996",
         "50816.33984375",
         "372.2522",
         "TX3"
        ],
        [
         "20256",
         "2025-01-03 00:00:00",
         "ASCC",
         "Regulado",
         "Antes del SICEP",
         "Resolución CREG 020 del 1996",
         "51518.23828125",
         "372.2522",
         "TX3"
        ],
        [
         "20916",
         "2025-01-02 00:00:00",
         "ASCC",
         "Regulado",
         "Antes del SICEP",
         "Resolución CREG 020 del 1996",
         "49233.37890625",
         "372.2522",
         "TX3"
        ],
        [
         "21066",
         "2025-01-01 00:00:00",
         "ASCC",
         "Regulado",
         "Antes del SICEP",
         "Resolución CREG 020 del 1996",
         "38621.7109375",
         "372.2522",
         "TX3"
        ],
        [
         "23955",
         "2025-02-28 00:00:00",
         "ASCC",
         "Regulado",
         "Antes del SICEP",
         "Resolución CREG 020 del 1996",
         "59407.4609375",
         "370.8044",
         "TX3"
        ],
        [
         "24608",
         "2025-02-27 00:00:00",
         "ASCC",
         "Regulado",
         "Antes del SICEP",
         "Resolución CREG 020 del 1996",
         "60986.8515625",
         "370.8044",
         "TX3"
        ],
        [
         "25454",
         "2025-02-26 00:00:00",
         "ASCC",
         "Regulado",
         "Antes del SICEP",
         "Resolución CREG 020 del 1996",
         "61943.58984375",
         "370.8044",
         "TX3"
        ],
        [
         "26017",
         "2025-02-25 00:00:00",
         "ASCC",
         "Regulado",
         "Antes del SICEP",
         "Resolución CREG 020 del 1996",
         "58512.421875",
         "370.8044",
         "TX3"
        ],
        [
         "26765",
         "2025-02-24 00:00:00",
         "ASCC",
         "Regulado",
         "Antes del SICEP",
         "Resolución CREG 020 del 1996",
         "57732.62890625",
         "370.8044",
         "TX3"
        ],
        [
         "27673",
         "2025-02-23 00:00:00",
         "ASCC",
         "Regulado",
         "Antes del SICEP",
         "Resolución CREG 020 del 1996",
         "41246.4296875",
         "370.8044",
         "TX3"
        ],
        [
         "28786",
         "2025-02-22 00:00:00",
         "ASCC",
         "Regulado",
         "Antes del SICEP",
         "Resolución CREG 020 del 1996",
         "52107.01953125",
         "370.8044",
         "TX3"
        ],
        [
         "29364",
         "2025-02-21 00:00:00",
         "ASCC",
         "Regulado",
         "Antes del SICEP",
         "Resolución CREG 020 del 1996",
         "59933.6796875",
         "370.8044",
         "TX3"
        ],
        [
         "29715",
         "2025-02-20 00:00:00",
         "ASCC",
         "Regulado",
         "Antes del SICEP",
         "Resolución CREG 020 del 1996",
         "61731.1796875",
         "370.8044",
         "TX3"
        ],
        [
         "30402",
         "2025-02-19 00:00:00",
         "ASCC",
         "Regulado",
         "Antes del SICEP",
         "Resolución CREG 020 del 1996",
         "60338.53125",
         "370.8044",
         "TX3"
        ],
        [
         "31105",
         "2025-02-18 00:00:00",
         "ASCC",
         "Regulado",
         "Antes del SICEP",
         "Resolución CREG 020 del 1996",
         "58652.71875",
         "370.8044",
         "TX3"
        ],
        [
         "31996",
         "2025-02-17 00:00:00",
         "ASCC",
         "Regulado",
         "Antes del SICEP",
         "Resolución CREG 020 del 1996",
         "54960.55859375",
         "370.8044",
         "TX3"
        ],
        [
         "32588",
         "2025-02-16 00:00:00",
         "ASCC",
         "Regulado",
         "Antes del SICEP",
         "Resolución CREG 020 del 1996",
         "42131.9296875",
         "370.8044",
         "TX3"
        ],
        [
         "33820",
         "2025-02-15 00:00:00",
         "ASCC",
         "Regulado",
         "Antes del SICEP",
         "Resolución CREG 020 del 1996",
         "48967.3515625",
         "370.8044",
         "TX3"
        ],
        [
         "34453",
         "2025-02-14 00:00:00",
         "ASCC",
         "Regulado",
         "Antes del SICEP",
         "Resolución CREG 020 del 1996",
         "58118.80859375",
         "370.8044",
         "TX3"
        ],
        [
         "34776",
         "2025-02-13 00:00:00",
         "ASCC",
         "Regulado",
         "Antes del SICEP",
         "Resolución CREG 020 del 1996",
         "57272.1796875",
         "370.8044",
         "TX3"
        ],
        [
         "35760",
         "2025-02-12 00:00:00",
         "ASCC",
         "Regulado",
         "Antes del SICEP",
         "Resolución CREG 020 del 1996",
         "58053.0",
         "370.8044",
         "TX3"
        ],
        [
         "36399",
         "2025-02-11 00:00:00",
         "ASCC",
         "Regulado",
         "Antes del SICEP",
         "Resolución CREG 020 del 1996",
         "57333.41015625",
         "370.8044",
         "TX3"
        ],
        [
         "37148",
         "2025-02-10 00:00:00",
         "ASCC",
         "Regulado",
         "Antes del SICEP",
         "Resolución CREG 020 del 1996",
         "56638.66015625",
         "370.8044",
         "TX3"
        ]
       ],
       "shape": {
        "columns": 8,
        "rows": 16762
       }
      },
      "text/html": [
       "<div>\n",
       "<style scoped>\n",
       "    .dataframe tbody tr th:only-of-type {\n",
       "        vertical-align: middle;\n",
       "    }\n",
       "\n",
       "    .dataframe tbody tr th {\n",
       "        vertical-align: top;\n",
       "    }\n",
       "\n",
       "    .dataframe thead th {\n",
       "        text-align: right;\n",
       "    }\n",
       "</style>\n",
       "<table border=\"1\" class=\"dataframe\">\n",
       "  <thead>\n",
       "    <tr style=\"text-align: right;\">\n",
       "      <th></th>\n",
       "      <th>Fecha</th>\n",
       "      <th>CodigoAgenteComprador</th>\n",
       "      <th>TipoMercado</th>\n",
       "      <th>Mecanismo</th>\n",
       "      <th>NormatividadRelacionada</th>\n",
       "      <th>Cantidad</th>\n",
       "      <th>PPP</th>\n",
       "      <th>Version</th>\n",
       "    </tr>\n",
       "  </thead>\n",
       "  <tbody>\n",
       "    <tr>\n",
       "      <th>699</th>\n",
       "      <td>2025-01-31</td>\n",
       "      <td>ASCC</td>\n",
       "      <td>Regulado</td>\n",
       "      <td>Antes del SICEP</td>\n",
       "      <td>Resolución CREG 020 del 1996</td>\n",
       "      <td>55125.941406</td>\n",
       "      <td>372.2522</td>\n",
       "      <td>TX3</td>\n",
       "    </tr>\n",
       "    <tr>\n",
       "      <th>1387</th>\n",
       "      <td>2025-01-30</td>\n",
       "      <td>ASCC</td>\n",
       "      <td>Regulado</td>\n",
       "      <td>Antes del SICEP</td>\n",
       "      <td>Resolución CREG 020 del 1996</td>\n",
       "      <td>53900.070312</td>\n",
       "      <td>372.2522</td>\n",
       "      <td>TX3</td>\n",
       "    </tr>\n",
       "    <tr>\n",
       "      <th>2070</th>\n",
       "      <td>2025-01-29</td>\n",
       "      <td>ASCC</td>\n",
       "      <td>Regulado</td>\n",
       "      <td>Antes del SICEP</td>\n",
       "      <td>Resolución CREG 020 del 1996</td>\n",
       "      <td>54232.949219</td>\n",
       "      <td>372.2522</td>\n",
       "      <td>TX3</td>\n",
       "    </tr>\n",
       "    <tr>\n",
       "      <th>2756</th>\n",
       "      <td>2025-01-28</td>\n",
       "      <td>ASCC</td>\n",
       "      <td>Regulado</td>\n",
       "      <td>Antes del SICEP</td>\n",
       "      <td>Resolución CREG 020 del 1996</td>\n",
       "      <td>55763.671875</td>\n",
       "      <td>372.2522</td>\n",
       "      <td>TX3</td>\n",
       "    </tr>\n",
       "    <tr>\n",
       "      <th>3447</th>\n",
       "      <td>2025-01-27</td>\n",
       "      <td>ASCC</td>\n",
       "      <td>Regulado</td>\n",
       "      <td>Antes del SICEP</td>\n",
       "      <td>Resolución CREG 020 del 1996</td>\n",
       "      <td>52100.511719</td>\n",
       "      <td>372.2522</td>\n",
       "      <td>TX3</td>\n",
       "    </tr>\n",
       "    <tr>\n",
       "      <th>...</th>\n",
       "      <td>...</td>\n",
       "      <td>...</td>\n",
       "      <td>...</td>\n",
       "      <td>...</td>\n",
       "      <td>...</td>\n",
       "      <td>...</td>\n",
       "      <td>...</td>\n",
       "      <td>...</td>\n",
       "    </tr>\n",
       "    <tr>\n",
       "      <th>90484</th>\n",
       "      <td>2025-05-09</td>\n",
       "      <td>TPLC</td>\n",
       "      <td>Regulado</td>\n",
       "      <td>SICEP</td>\n",
       "      <td>Resolución CREG 130 del 2019</td>\n",
       "      <td>25541.740234</td>\n",
       "      <td>310.7445</td>\n",
       "      <td>TXR</td>\n",
       "    </tr>\n",
       "    <tr>\n",
       "      <th>90743</th>\n",
       "      <td>2025-05-08</td>\n",
       "      <td>TPLC</td>\n",
       "      <td>Regulado</td>\n",
       "      <td>SICEP</td>\n",
       "      <td>Resolución CREG 130 del 2019</td>\n",
       "      <td>25541.740234</td>\n",
       "      <td>310.7445</td>\n",
       "      <td>TXR</td>\n",
       "    </tr>\n",
       "    <tr>\n",
       "      <th>91520</th>\n",
       "      <td>2025-05-07</td>\n",
       "      <td>TPLC</td>\n",
       "      <td>Regulado</td>\n",
       "      <td>SICEP</td>\n",
       "      <td>Resolución CREG 130 del 2019</td>\n",
       "      <td>25541.740234</td>\n",
       "      <td>310.7445</td>\n",
       "      <td>TXR</td>\n",
       "    </tr>\n",
       "    <tr>\n",
       "      <th>92021</th>\n",
       "      <td>2025-05-06</td>\n",
       "      <td>TPLC</td>\n",
       "      <td>Regulado</td>\n",
       "      <td>SICEP</td>\n",
       "      <td>Resolución CREG 130 del 2019</td>\n",
       "      <td>25541.740234</td>\n",
       "      <td>310.7445</td>\n",
       "      <td>TXR</td>\n",
       "    </tr>\n",
       "    <tr>\n",
       "      <th>92533</th>\n",
       "      <td>2025-05-05</td>\n",
       "      <td>TPLC</td>\n",
       "      <td>Regulado</td>\n",
       "      <td>SICEP</td>\n",
       "      <td>Resolución CREG 130 del 2019</td>\n",
       "      <td>25541.740234</td>\n",
       "      <td>310.7445</td>\n",
       "      <td>TXR</td>\n",
       "    </tr>\n",
       "  </tbody>\n",
       "</table>\n",
       "<p>16762 rows × 8 columns</p>\n",
       "</div>"
      ],
      "text/plain": [
       "           Fecha CodigoAgenteComprador TipoMercado        Mecanismo  \\\n",
       "699   2025-01-31                  ASCC    Regulado  Antes del SICEP   \n",
       "1387  2025-01-30                  ASCC    Regulado  Antes del SICEP   \n",
       "2070  2025-01-29                  ASCC    Regulado  Antes del SICEP   \n",
       "2756  2025-01-28                  ASCC    Regulado  Antes del SICEP   \n",
       "3447  2025-01-27                  ASCC    Regulado  Antes del SICEP   \n",
       "...          ...                   ...         ...              ...   \n",
       "90484 2025-05-09                  TPLC    Regulado            SICEP   \n",
       "90743 2025-05-08                  TPLC    Regulado            SICEP   \n",
       "91520 2025-05-07                  TPLC    Regulado            SICEP   \n",
       "92021 2025-05-06                  TPLC    Regulado            SICEP   \n",
       "92533 2025-05-05                  TPLC    Regulado            SICEP   \n",
       "\n",
       "            NormatividadRelacionada      Cantidad       PPP Version  \n",
       "699    Resolución CREG 020 del 1996  55125.941406  372.2522     TX3  \n",
       "1387   Resolución CREG 020 del 1996  53900.070312  372.2522     TX3  \n",
       "2070   Resolución CREG 020 del 1996  54232.949219  372.2522     TX3  \n",
       "2756   Resolución CREG 020 del 1996  55763.671875  372.2522     TX3  \n",
       "3447   Resolución CREG 020 del 1996  52100.511719  372.2522     TX3  \n",
       "...                             ...           ...       ...     ...  \n",
       "90484  Resolución CREG 130 del 2019  25541.740234  310.7445     TXR  \n",
       "90743  Resolución CREG 130 del 2019  25541.740234  310.7445     TXR  \n",
       "91520  Resolución CREG 130 del 2019  25541.740234  310.7445     TXR  \n",
       "92021  Resolución CREG 130 del 2019  25541.740234  310.7445     TXR  \n",
       "92533  Resolución CREG 130 del 2019  25541.740234  310.7445     TXR  \n",
       "\n",
       "[16762 rows x 8 columns]"
      ]
     },
     "execution_count": 106,
     "metadata": {},
     "output_type": "execute_result"
    }
   ],
   "source": [
    "df = df_result[df_result['TipoMercado']=='Regulado']\n",
    "df"
   ]
  },
  {
   "cell_type": "code",
   "execution_count": 73,
   "metadata": {},
   "outputs": [],
   "source": [
    "df.to_clipboard()"
   ]
  },
  {
   "cell_type": "markdown",
   "metadata": {},
   "source": [
    "<a id='section5'></a>\n",
    "# 5. Análisis para dar respuesta al caso de uso"
   ]
  },
  {
   "cell_type": "markdown",
   "metadata": {},
   "source": [
    "### Calcular el promedio ponderado para el mercado regulado y por mecanismo de adjudicación\n",
    "El siguiente código realiza un cálculo del precio promedio de contratos del sistema por mecanismo de asignación y de forma diaria "
   ]
  },
  {
   "cell_type": "code",
   "execution_count": 107,
   "metadata": {},
   "outputs": [
    {
     "name": "stderr",
     "output_type": "stream",
     "text": [
      "C:\\Users\\50396\\AppData\\Local\\Temp\\ipykernel_39488\\3276001162.py:1: SettingWithCopyWarning: \n",
      "A value is trying to be set on a copy of a slice from a DataFrame.\n",
      "Try using .loc[row_indexer,col_indexer] = value instead\n",
      "\n",
      "See the caveats in the documentation: https://pandas.pydata.org/pandas-docs/stable/user_guide/indexing.html#returning-a-view-versus-a-copy\n",
      "  df['Fecha'] = pd.to_datetime(df['Fecha'])                                   # Convierte la columna 'Fecha' a formato datetime\n",
      "C:\\Users\\50396\\AppData\\Local\\Temp\\ipykernel_39488\\3276001162.py:3: SettingWithCopyWarning: \n",
      "A value is trying to be set on a copy of a slice from a DataFrame.\n",
      "Try using .loc[row_indexer,col_indexer] = value instead\n",
      "\n",
      "See the caveats in the documentation: https://pandas.pydata.org/pandas-docs/stable/user_guide/indexing.html#returning-a-view-versus-a-copy\n",
      "  df['ValorPonderado'] = df['Cantidad'] * df['PPP']                           # Crea una nueva columna con Cantidad * PPP\n",
      "C:\\Users\\50396\\AppData\\Local\\Temp\\ipykernel_39488\\3276001162.py:7: DeprecationWarning: DataFrameGroupBy.apply operated on the grouping columns. This behavior is deprecated, and in a future version of pandas the grouping columns will be excluded from the operation. Either pass `include_groups=False` to exclude the groupings or explicitly select the grouping columns after groupby to silence this warning.\n",
      "  ).apply(lambda x: x['ValorPonderado'].sum() / x['Cantidad'].sum()           # Calcula el promedio ponderado\n"
     ]
    },
    {
     "data": {
      "application/vnd.microsoft.datawrangler.viewer.v0+json": {
       "columns": [
        {
         "name": "index",
         "rawType": "int64",
         "type": "integer"
        },
        {
         "name": "Fecha",
         "rawType": "datetime64[ns]",
         "type": "datetime"
        },
        {
         "name": "Mecanismo",
         "rawType": "object",
         "type": "string"
        },
        {
         "name": "PPP_Promedio_Ponderado",
         "rawType": "float64",
         "type": "float"
        }
       ],
       "ref": "e60897cd-240d-403c-ac6a-2d0b425e15e1",
       "rows": [
        [
         "0",
         "2025-01-01 00:00:00",
         "Antes del SICEP",
         "311.4011959169676"
        ],
        [
         "1",
         "2025-01-01 00:00:00",
         "Mecanismos de Comercialización",
         "260.7184797034792"
        ],
        [
         "2",
         "2025-01-01 00:00:00",
         "Por fuera del SICEP",
         "423.94007705931034"
        ],
        [
         "3",
         "2025-01-01 00:00:00",
         "SICEP",
         "303.2809598788579"
        ],
        [
         "4",
         "2025-01-02 00:00:00",
         "Antes del SICEP",
         "313.9479093419815"
        ],
        [
         "5",
         "2025-01-02 00:00:00",
         "Mecanismos de Comercialización",
         "260.7184797034792"
        ],
        [
         "6",
         "2025-01-02 00:00:00",
         "Por fuera del SICEP",
         "424.5107743004949"
        ],
        [
         "7",
         "2025-01-02 00:00:00",
         "SICEP",
         "302.9093487096769"
        ],
        [
         "8",
         "2025-01-03 00:00:00",
         "Antes del SICEP",
         "314.5170535634504"
        ],
        [
         "9",
         "2025-01-03 00:00:00",
         "Mecanismos de Comercialización",
         "260.7184797034792"
        ],
        [
         "10",
         "2025-01-03 00:00:00",
         "Por fuera del SICEP",
         "424.89536717310244"
        ],
        [
         "11",
         "2025-01-03 00:00:00",
         "SICEP",
         "303.228594256947"
        ],
        [
         "12",
         "2025-01-04 00:00:00",
         "Antes del SICEP",
         "313.05752025428865"
        ],
        [
         "13",
         "2025-01-04 00:00:00",
         "Mecanismos de Comercialización",
         "260.7184797034792"
        ],
        [
         "14",
         "2025-01-04 00:00:00",
         "Por fuera del SICEP",
         "421.780383293568"
        ],
        [
         "15",
         "2025-01-04 00:00:00",
         "SICEP",
         "303.2993361341035"
        ],
        [
         "16",
         "2025-01-05 00:00:00",
         "Antes del SICEP",
         "311.7443436603864"
        ],
        [
         "17",
         "2025-01-05 00:00:00",
         "Mecanismos de Comercialización",
         "260.7184797034792"
        ],
        [
         "18",
         "2025-01-05 00:00:00",
         "Por fuera del SICEP",
         "423.4764795596507"
        ],
        [
         "19",
         "2025-01-05 00:00:00",
         "SICEP",
         "303.68290287041697"
        ],
        [
         "20",
         "2025-01-06 00:00:00",
         "Antes del SICEP",
         "312.18394428257255"
        ],
        [
         "21",
         "2025-01-06 00:00:00",
         "Mecanismos de Comercialización",
         "260.7184797034792"
        ],
        [
         "22",
         "2025-01-06 00:00:00",
         "Por fuera del SICEP",
         "415.7318568372558"
        ],
        [
         "23",
         "2025-01-06 00:00:00",
         "SICEP",
         "303.631322272101"
        ],
        [
         "24",
         "2025-01-07 00:00:00",
         "Antes del SICEP",
         "314.99321138196774"
        ],
        [
         "25",
         "2025-01-07 00:00:00",
         "Mecanismos de Comercialización",
         "260.7184797034792"
        ],
        [
         "26",
         "2025-01-07 00:00:00",
         "Por fuera del SICEP",
         "408.4941141893363"
        ],
        [
         "27",
         "2025-01-07 00:00:00",
         "SICEP",
         "303.2292196632377"
        ],
        [
         "28",
         "2025-01-08 00:00:00",
         "Antes del SICEP",
         "315.33643791232174"
        ],
        [
         "29",
         "2025-01-08 00:00:00",
         "Mecanismos de Comercialización",
         "260.7184797034792"
        ],
        [
         "30",
         "2025-01-08 00:00:00",
         "Por fuera del SICEP",
         "412.4898241089511"
        ],
        [
         "31",
         "2025-01-08 00:00:00",
         "SICEP",
         "303.22753975500405"
        ],
        [
         "32",
         "2025-01-09 00:00:00",
         "Antes del SICEP",
         "315.71341663661303"
        ],
        [
         "33",
         "2025-01-09 00:00:00",
         "Mecanismos de Comercialización",
         "260.7184797034792"
        ],
        [
         "34",
         "2025-01-09 00:00:00",
         "Por fuera del SICEP",
         "416.1463177233703"
        ],
        [
         "35",
         "2025-01-09 00:00:00",
         "SICEP",
         "303.22780749980075"
        ],
        [
         "36",
         "2025-01-10 00:00:00",
         "Antes del SICEP",
         "315.8994529450003"
        ],
        [
         "37",
         "2025-01-10 00:00:00",
         "Mecanismos de Comercialización",
         "260.7184797034792"
        ],
        [
         "38",
         "2025-01-10 00:00:00",
         "Por fuera del SICEP",
         "422.03391206272164"
        ],
        [
         "39",
         "2025-01-10 00:00:00",
         "SICEP",
         "303.22753211703883"
        ],
        [
         "40",
         "2025-01-11 00:00:00",
         "Antes del SICEP",
         "314.6858450776417"
        ],
        [
         "41",
         "2025-01-11 00:00:00",
         "Mecanismos de Comercialización",
         "260.7184797034792"
        ],
        [
         "42",
         "2025-01-11 00:00:00",
         "Por fuera del SICEP",
         "424.3770358071114"
        ],
        [
         "43",
         "2025-01-11 00:00:00",
         "SICEP",
         "303.29759122465595"
        ],
        [
         "44",
         "2025-01-12 00:00:00",
         "Antes del SICEP",
         "312.9687832934738"
        ],
        [
         "45",
         "2025-01-12 00:00:00",
         "Mecanismos de Comercialización",
         "260.7184797034792"
        ],
        [
         "46",
         "2025-01-12 00:00:00",
         "Por fuera del SICEP",
         "384.90446911742964"
        ],
        [
         "47",
         "2025-01-12 00:00:00",
         "SICEP",
         "303.68154934897973"
        ],
        [
         "48",
         "2025-01-13 00:00:00",
         "Antes del SICEP",
         "316.6394470105973"
        ],
        [
         "49",
         "2025-01-13 00:00:00",
         "Mecanismos de Comercialización",
         "260.7184797034792"
        ]
       ],
       "shape": {
        "columns": 3,
        "rows": 604
       }
      },
      "text/html": [
       "<div>\n",
       "<style scoped>\n",
       "    .dataframe tbody tr th:only-of-type {\n",
       "        vertical-align: middle;\n",
       "    }\n",
       "\n",
       "    .dataframe tbody tr th {\n",
       "        vertical-align: top;\n",
       "    }\n",
       "\n",
       "    .dataframe thead th {\n",
       "        text-align: right;\n",
       "    }\n",
       "</style>\n",
       "<table border=\"1\" class=\"dataframe\">\n",
       "  <thead>\n",
       "    <tr style=\"text-align: right;\">\n",
       "      <th></th>\n",
       "      <th>Fecha</th>\n",
       "      <th>Mecanismo</th>\n",
       "      <th>PPP_Promedio_Ponderado</th>\n",
       "    </tr>\n",
       "  </thead>\n",
       "  <tbody>\n",
       "    <tr>\n",
       "      <th>0</th>\n",
       "      <td>2025-01-01</td>\n",
       "      <td>Antes del SICEP</td>\n",
       "      <td>311.401196</td>\n",
       "    </tr>\n",
       "    <tr>\n",
       "      <th>1</th>\n",
       "      <td>2025-01-01</td>\n",
       "      <td>Mecanismos de Comercialización</td>\n",
       "      <td>260.718480</td>\n",
       "    </tr>\n",
       "    <tr>\n",
       "      <th>2</th>\n",
       "      <td>2025-01-01</td>\n",
       "      <td>Por fuera del SICEP</td>\n",
       "      <td>423.940077</td>\n",
       "    </tr>\n",
       "    <tr>\n",
       "      <th>3</th>\n",
       "      <td>2025-01-01</td>\n",
       "      <td>SICEP</td>\n",
       "      <td>303.280960</td>\n",
       "    </tr>\n",
       "    <tr>\n",
       "      <th>4</th>\n",
       "      <td>2025-01-02</td>\n",
       "      <td>Antes del SICEP</td>\n",
       "      <td>313.947909</td>\n",
       "    </tr>\n",
       "    <tr>\n",
       "      <th>...</th>\n",
       "      <td>...</td>\n",
       "      <td>...</td>\n",
       "      <td>...</td>\n",
       "    </tr>\n",
       "    <tr>\n",
       "      <th>599</th>\n",
       "      <td>2025-05-30</td>\n",
       "      <td>SICEP</td>\n",
       "      <td>308.933782</td>\n",
       "    </tr>\n",
       "    <tr>\n",
       "      <th>600</th>\n",
       "      <td>2025-05-31</td>\n",
       "      <td>Antes del SICEP</td>\n",
       "      <td>315.483373</td>\n",
       "    </tr>\n",
       "    <tr>\n",
       "      <th>601</th>\n",
       "      <td>2025-05-31</td>\n",
       "      <td>Mecanismos de Comercialización</td>\n",
       "      <td>263.554470</td>\n",
       "    </tr>\n",
       "    <tr>\n",
       "      <th>602</th>\n",
       "      <td>2025-05-31</td>\n",
       "      <td>Por fuera del SICEP</td>\n",
       "      <td>342.522280</td>\n",
       "    </tr>\n",
       "    <tr>\n",
       "      <th>603</th>\n",
       "      <td>2025-05-31</td>\n",
       "      <td>SICEP</td>\n",
       "      <td>308.928438</td>\n",
       "    </tr>\n",
       "  </tbody>\n",
       "</table>\n",
       "<p>604 rows × 3 columns</p>\n",
       "</div>"
      ],
      "text/plain": [
       "         Fecha                       Mecanismo  PPP_Promedio_Ponderado\n",
       "0   2025-01-01                 Antes del SICEP              311.401196\n",
       "1   2025-01-01  Mecanismos de Comercialización              260.718480\n",
       "2   2025-01-01             Por fuera del SICEP              423.940077\n",
       "3   2025-01-01                           SICEP              303.280960\n",
       "4   2025-01-02                 Antes del SICEP              313.947909\n",
       "..         ...                             ...                     ...\n",
       "599 2025-05-30                           SICEP              308.933782\n",
       "600 2025-05-31                 Antes del SICEP              315.483373\n",
       "601 2025-05-31  Mecanismos de Comercialización              263.554470\n",
       "602 2025-05-31             Por fuera del SICEP              342.522280\n",
       "603 2025-05-31                           SICEP              308.928438\n",
       "\n",
       "[604 rows x 3 columns]"
      ]
     },
     "metadata": {},
     "output_type": "display_data"
    }
   ],
   "source": [
    "df['Fecha'] = pd.to_datetime(df['Fecha'])                                   # Convierte la columna 'Fecha' a formato datetime\n",
    "\n",
    "df['ValorPonderado'] = df['Cantidad'] * df['PPP']                           # Crea una nueva columna con Cantidad * PPP\n",
    "\n",
    "promedio_ponderado = df.groupby(                                            # Agrupa por Fecha, Mecanismo\n",
    "    ['Fecha', 'Mecanismo']\n",
    ").apply(lambda x: x['ValorPonderado'].sum() / x['Cantidad'].sum()           # Calcula el promedio ponderado\n",
    ").reset_index(name='PPP_Promedio_Ponderado')                                # Renombra la columna del resultado\n",
    "\n",
    "display(promedio_ponderado)                                                 # Muestra el resultado final\n"
   ]
  },
  {
   "cell_type": "code",
   "execution_count": null,
   "metadata": {},
   "outputs": [
    {
     "data": {
      "image/png": "[encoded data removed]",
      "text/plain": [
       "<Figure size 1200x600 with 1 Axes>"
      ]
     },
     "metadata": {},
     "output_type": "display_data"
    }
   ],
   "source": [
    "\n",
    "plt.figure(figsize=(12, 6))                                                     # Define el tamaño de la figura\n",
    "\n",
    "for mecanismo in promedio_ponderado['Mecanismo'].unique():                      # Itera sobre cada mecanismo único\n",
    "    data = promedio_ponderado[promedio_ponderado['Mecanismo'] == mecanismo]     # Filtra los datos por mecanismo\n",
    "    plt.plot(data['Fecha'], data['PPP_Promedio_Ponderado'], label=mecanismo)    # Grafica los datos\n",
    "\n",
    "plt.title('Evolución diaria del PPP promedio ponderado por Mecanismo y por sistema')          # Título de la gráfica\n",
    "plt.xlabel('Fecha')                                                             # Etiqueta del eje X\n",
    "plt.ylabel('PPP Promedio Ponderado COP/kWh')                                    # Etiqueta del eje Y\n",
    "plt.legend(title='Mecanismo')                                                   # Leyenda de la gráfica\n",
    "plt.grid(True)                                                                  # Añade una cuadrícula\n",
    "plt.show()                                                                      # Muestra la gráfica\n",
    "\n"
   ]
  },
  {
   "cell_type": "markdown",
   "metadata": {},
   "source": [
    "El siguiente código realiza un cálculo del precio promedio de contratos del sistema por mecanismo de asignación y de forma diaria. Para el código del agente deseado"
   ]
  },
  {
   "cell_type": "code",
   "execution_count": 116,
   "metadata": {},
   "outputs": [
    {
     "name": "stderr",
     "output_type": "stream",
     "text": [
      "C:\\Users\\50396\\AppData\\Local\\Temp\\ipykernel_39488\\3137989841.py:6: DeprecationWarning: DataFrameGroupBy.apply operated on the grouping columns. This behavior is deprecated, and in a future version of pandas the grouping columns will be excluded from the operation. Either pass `include_groups=False` to exclude the groupings or explicitly select the grouping columns after groupby to silence this warning.\n",
      "  ).apply(lambda x: x['ValorPonderado'].sum() / x['Cantidad'].sum()           # Calcula el promedio ponderado\n"
     ]
    },
    {
     "data": {
      "application/vnd.microsoft.datawrangler.viewer.v0+json": {
       "columns": [
        {
         "name": "index",
         "rawType": "int64",
         "type": "integer"
        },
        {
         "name": "Fecha",
         "rawType": "datetime64[ns]",
         "type": "datetime"
        },
        {
         "name": "Mecanismo",
         "rawType": "object",
         "type": "string"
        },
        {
         "name": "PPP_Promedio_Ponderado",
         "rawType": "float64",
         "type": "float"
        }
       ],
       "ref": "6d9dff64-67b9-465f-9ff0-89c4501aba4a",
       "rows": [
        [
         "0",
         "2025-01-01 00:00:00",
         "Mecanismos de Comercialización",
         "267.0057"
        ],
        [
         "1",
         "2025-01-01 00:00:00",
         "Por fuera del SICEP",
         "342.2439"
        ],
        [
         "2",
         "2025-01-01 00:00:00",
         "SICEP",
         "297.2738"
        ],
        [
         "3",
         "2025-01-02 00:00:00",
         "Mecanismos de Comercialización",
         "267.0057"
        ],
        [
         "4",
         "2025-01-02 00:00:00",
         "Por fuera del SICEP",
         "342.2439"
        ],
        [
         "5",
         "2025-01-02 00:00:00",
         "SICEP",
         "298.0789"
        ],
        [
         "6",
         "2025-01-03 00:00:00",
         "Mecanismos de Comercialización",
         "267.0057"
        ],
        [
         "7",
         "2025-01-03 00:00:00",
         "Por fuera del SICEP",
         "342.2439"
        ],
        [
         "8",
         "2025-01-03 00:00:00",
         "SICEP",
         "298.0789"
        ],
        [
         "9",
         "2025-01-04 00:00:00",
         "Mecanismos de Comercialización",
         "267.0057"
        ],
        [
         "10",
         "2025-01-04 00:00:00",
         "Por fuera del SICEP",
         "342.2439"
        ],
        [
         "11",
         "2025-01-04 00:00:00",
         "SICEP",
         "297.8915"
        ],
        [
         "12",
         "2025-01-05 00:00:00",
         "Mecanismos de Comercialización",
         "267.0057"
        ],
        [
         "13",
         "2025-01-05 00:00:00",
         "Por fuera del SICEP",
         "342.2439"
        ],
        [
         "14",
         "2025-01-05 00:00:00",
         "SICEP",
         "297.6495"
        ],
        [
         "15",
         "2025-01-06 00:00:00",
         "Mecanismos de Comercialización",
         "267.0057"
        ],
        [
         "16",
         "2025-01-06 00:00:00",
         "Por fuera del SICEP",
         "328.1373"
        ],
        [
         "17",
         "2025-01-06 00:00:00",
         "SICEP",
         "297.2738"
        ],
        [
         "18",
         "2025-01-07 00:00:00",
         "Mecanismos de Comercialización",
         "267.0057"
        ],
        [
         "19",
         "2025-01-07 00:00:00",
         "Por fuera del SICEP",
         "331.8987"
        ],
        [
         "20",
         "2025-01-07 00:00:00",
         "SICEP",
         "298.0789"
        ],
        [
         "21",
         "2025-01-08 00:00:00",
         "Mecanismos de Comercialización",
         "267.0057"
        ],
        [
         "22",
         "2025-01-08 00:00:00",
         "Por fuera del SICEP",
         "325.7865"
        ],
        [
         "23",
         "2025-01-08 00:00:00",
         "SICEP",
         "298.0789"
        ],
        [
         "24",
         "2025-01-09 00:00:00",
         "Mecanismos de Comercialización",
         "267.0057"
        ],
        [
         "25",
         "2025-01-09 00:00:00",
         "Por fuera del SICEP",
         "327.71070000000003"
        ],
        [
         "26",
         "2025-01-09 00:00:00",
         "SICEP",
         "298.0789"
        ],
        [
         "27",
         "2025-01-10 00:00:00",
         "Mecanismos de Comercialización",
         "267.0057"
        ],
        [
         "28",
         "2025-01-10 00:00:00",
         "Por fuera del SICEP",
         "328.4474"
        ],
        [
         "29",
         "2025-01-10 00:00:00",
         "SICEP",
         "298.0789"
        ],
        [
         "30",
         "2025-01-11 00:00:00",
         "Mecanismos de Comercialización",
         "267.0057"
        ],
        [
         "31",
         "2025-01-11 00:00:00",
         "Por fuera del SICEP",
         "340.3941"
        ],
        [
         "32",
         "2025-01-11 00:00:00",
         "SICEP",
         "297.8915"
        ],
        [
         "33",
         "2025-01-12 00:00:00",
         "Mecanismos de Comercialización",
         "267.0057"
        ],
        [
         "34",
         "2025-01-12 00:00:00",
         "Por fuera del SICEP",
         "324.0243"
        ],
        [
         "35",
         "2025-01-12 00:00:00",
         "SICEP",
         "297.6495"
        ],
        [
         "36",
         "2025-01-13 00:00:00",
         "Mecanismos de Comercialización",
         "267.0057"
        ],
        [
         "37",
         "2025-01-13 00:00:00",
         "Por fuera del SICEP",
         "327.3387"
        ],
        [
         "38",
         "2025-01-13 00:00:00",
         "SICEP",
         "298.0789"
        ],
        [
         "39",
         "2025-01-14 00:00:00",
         "Mecanismos de Comercialización",
         "267.0057"
        ],
        [
         "40",
         "2025-01-14 00:00:00",
         "Por fuera del SICEP",
         "325.97559999999993"
        ],
        [
         "41",
         "2025-01-14 00:00:00",
         "SICEP",
         "298.0789"
        ],
        [
         "42",
         "2025-01-15 00:00:00",
         "Mecanismos de Comercialización",
         "267.0057"
        ],
        [
         "43",
         "2025-01-15 00:00:00",
         "Por fuera del SICEP",
         "324.1032"
        ],
        [
         "44",
         "2025-01-15 00:00:00",
         "SICEP",
         "298.0789"
        ],
        [
         "45",
         "2025-01-16 00:00:00",
         "Mecanismos de Comercialización",
         "267.0057"
        ],
        [
         "46",
         "2025-01-16 00:00:00",
         "Por fuera del SICEP",
         "325.0298"
        ],
        [
         "47",
         "2025-01-16 00:00:00",
         "SICEP",
         "298.0789"
        ],
        [
         "48",
         "2025-01-17 00:00:00",
         "Mecanismos de Comercialización",
         "267.0057"
        ],
        [
         "49",
         "2025-01-17 00:00:00",
         "Por fuera del SICEP",
         "329.3022"
        ]
       ],
       "shape": {
        "columns": 3,
        "rows": 453
       }
      },
      "text/html": [
       "<div>\n",
       "<style scoped>\n",
       "    .dataframe tbody tr th:only-of-type {\n",
       "        vertical-align: middle;\n",
       "    }\n",
       "\n",
       "    .dataframe tbody tr th {\n",
       "        vertical-align: top;\n",
       "    }\n",
       "\n",
       "    .dataframe thead th {\n",
       "        text-align: right;\n",
       "    }\n",
       "</style>\n",
       "<table border=\"1\" class=\"dataframe\">\n",
       "  <thead>\n",
       "    <tr style=\"text-align: right;\">\n",
       "      <th></th>\n",
       "      <th>Fecha</th>\n",
       "      <th>Mecanismo</th>\n",
       "      <th>PPP_Promedio_Ponderado</th>\n",
       "    </tr>\n",
       "  </thead>\n",
       "  <tbody>\n",
       "    <tr>\n",
       "      <th>0</th>\n",
       "      <td>2025-01-01</td>\n",
       "      <td>Mecanismos de Comercialización</td>\n",
       "      <td>267.0057</td>\n",
       "    </tr>\n",
       "    <tr>\n",
       "      <th>1</th>\n",
       "      <td>2025-01-01</td>\n",
       "      <td>Por fuera del SICEP</td>\n",
       "      <td>342.2439</td>\n",
       "    </tr>\n",
       "    <tr>\n",
       "      <th>2</th>\n",
       "      <td>2025-01-01</td>\n",
       "      <td>SICEP</td>\n",
       "      <td>297.2738</td>\n",
       "    </tr>\n",
       "    <tr>\n",
       "      <th>3</th>\n",
       "      <td>2025-01-02</td>\n",
       "      <td>Mecanismos de Comercialización</td>\n",
       "      <td>267.0057</td>\n",
       "    </tr>\n",
       "    <tr>\n",
       "      <th>4</th>\n",
       "      <td>2025-01-02</td>\n",
       "      <td>Por fuera del SICEP</td>\n",
       "      <td>342.2439</td>\n",
       "    </tr>\n",
       "    <tr>\n",
       "      <th>...</th>\n",
       "      <td>...</td>\n",
       "      <td>...</td>\n",
       "      <td>...</td>\n",
       "    </tr>\n",
       "    <tr>\n",
       "      <th>448</th>\n",
       "      <td>2025-05-30</td>\n",
       "      <td>Por fuera del SICEP</td>\n",
       "      <td>299.7704</td>\n",
       "    </tr>\n",
       "    <tr>\n",
       "      <th>449</th>\n",
       "      <td>2025-05-30</td>\n",
       "      <td>SICEP</td>\n",
       "      <td>304.4626</td>\n",
       "    </tr>\n",
       "    <tr>\n",
       "      <th>450</th>\n",
       "      <td>2025-05-31</td>\n",
       "      <td>Mecanismos de Comercialización</td>\n",
       "      <td>267.4180</td>\n",
       "    </tr>\n",
       "    <tr>\n",
       "      <th>451</th>\n",
       "      <td>2025-05-31</td>\n",
       "      <td>Por fuera del SICEP</td>\n",
       "      <td>300.1542</td>\n",
       "    </tr>\n",
       "    <tr>\n",
       "      <th>452</th>\n",
       "      <td>2025-05-31</td>\n",
       "      <td>SICEP</td>\n",
       "      <td>303.3029</td>\n",
       "    </tr>\n",
       "  </tbody>\n",
       "</table>\n",
       "<p>453 rows × 3 columns</p>\n",
       "</div>"
      ],
      "text/plain": [
       "         Fecha                       Mecanismo  PPP_Promedio_Ponderado\n",
       "0   2025-01-01  Mecanismos de Comercialización                267.0057\n",
       "1   2025-01-01             Por fuera del SICEP                342.2439\n",
       "2   2025-01-01                           SICEP                297.2738\n",
       "3   2025-01-02  Mecanismos de Comercialización                267.0057\n",
       "4   2025-01-02             Por fuera del SICEP                342.2439\n",
       "..         ...                             ...                     ...\n",
       "448 2025-05-30             Por fuera del SICEP                299.7704\n",
       "449 2025-05-30                           SICEP                304.4626\n",
       "450 2025-05-31  Mecanismos de Comercialización                267.4180\n",
       "451 2025-05-31             Por fuera del SICEP                300.1542\n",
       "452 2025-05-31                           SICEP                303.3029\n",
       "\n",
       "[453 rows x 3 columns]"
      ]
     },
     "metadata": {},
     "output_type": "display_data"
    }
   ],
   "source": [
    "code_Agente = 'EPMC'\n",
    "df_agente = df[df['CodigoAgenteComprador']==code_Agente]\n",
    "\n",
    "promedio_ponderado_agente = df_agente.groupby(                                            # Agrupa por Fecha, Mecanismo\n",
    "    ['Fecha', 'Mecanismo']\n",
    ").apply(lambda x: x['ValorPonderado'].sum() / x['Cantidad'].sum()           # Calcula el promedio ponderado\n",
    ").reset_index(name='PPP_Promedio_Ponderado')                                # Renombra la columna del resultado\n",
    "\n",
    "display(promedio_ponderado_agente)                                                 # Muestra el resultado final"
   ]
  },
  {
   "cell_type": "code",
   "execution_count": 117,
   "metadata": {},
   "outputs": [
    {
     "data": {
      "image/png": "[encoded data removed]",
      "text/plain": [
       "<Figure size 1200x600 with 1 Axes>"
      ]
     },
     "metadata": {},
     "output_type": "display_data"
    }
   ],
   "source": [
    "\n",
    "plt.figure(figsize=(12, 6))                                                                 # Define el tamaño de la figura\n",
    "\n",
    "for mecanismo in promedio_ponderado_agente['Mecanismo'].unique():                           # Itera sobre cada mecanismo único\n",
    "    data = promedio_ponderado_agente[promedio_ponderado_agente['Mecanismo'] == mecanismo]   # Filtra los datos por mecanismo\n",
    "    plt.plot(data['Fecha'], data['PPP_Promedio_Ponderado'], label=mecanismo)                # Grafica los datos\n",
    "\n",
    "plt.title('Evolución diaria del PPP promedio ponderado por Mecanismo - ' + code_Agente)                      # Título de la gráfica\n",
    "plt.xlabel('Fecha')                                                                         # Etiqueta del eje X\n",
    "plt.ylabel('PPP Promedio Ponderado COP/kWh')                                                        # Etiqueta del eje Y\n",
    "plt.legend(title='Mecanismo')                                                               # Leyenda de la gráfica\n",
    "plt.grid(True)                                                                              # Añade una cuadrícula\n",
    "plt.show()                                                                                  # Muestra la gráfica\n"
   ]
  },
  {
   "cell_type": "markdown",
   "metadata": {},
   "source": [
    "El siguiente código calcula para el sistema las cantidades de energía compradas en contratos de largo plazo por mecanismo"
   ]
  },
  {
   "cell_type": "code",
   "execution_count": 139,
   "metadata": {},
   "outputs": [
    {
     "name": "stderr",
     "output_type": "stream",
     "text": [
      "C:\\Users\\50396\\AppData\\Local\\Temp\\ipykernel_39488\\4116449607.py:4: SettingWithCopyWarning: \n",
      "A value is trying to be set on a copy of a slice from a DataFrame.\n",
      "Try using .loc[row_indexer,col_indexer] = value instead\n",
      "\n",
      "See the caveats in the documentation: https://pandas.pydata.org/pandas-docs/stable/user_guide/indexing.html#returning-a-view-versus-a-copy\n",
      "  df_result_energia['Cantidad'] = df_result_energia['Cantidad'] / 1000000 #Se divide la columna cantidad entre 1,000,000 de manera que la cifra quede en GWh\n"
     ]
    },
    {
     "data": {
      "application/vnd.microsoft.datawrangler.viewer.v0+json": {
       "columns": [
        {
         "name": "Fecha",
         "rawType": "datetime64[ns]",
         "type": "datetime"
        },
        {
         "name": "Antes del SICEP",
         "rawType": "float64",
         "type": "float"
        },
        {
         "name": "Mecanismos de Comercialización",
         "rawType": "float64",
         "type": "float"
        },
        {
         "name": "Por fuera del SICEP",
         "rawType": "float64",
         "type": "float"
        },
        {
         "name": "SICEP",
         "rawType": "float64",
         "type": "float"
        },
        {
         "name": "Total",
         "rawType": "float64",
         "type": "float"
        }
       ],
       "ref": "c74eaaf4-e364-4f59-a2fd-248bf14ef90e",
       "rows": [
        [
         "2025-01-01 00:00:00",
         "18.3808403671875",
         "8.622153513288499",
         "12.816961140625",
         "67.01610720410156",
         "106.83606222520255"
        ],
        [
         "2025-01-02 00:00:00",
         "19.33079940234375",
         "8.622153513288499",
         "12.831618098876953",
         "78.83193225",
         "119.61650326450919"
        ],
        [
         "2025-01-03 00:00:00",
         "19.72553816796875",
         "8.622153513288499",
         "12.801495297607422",
         "79.52747234570312",
         "120.6766593245678"
        ],
        [
         "2025-01-04 00:00:00",
         "19.33189710546875",
         "8.622153513288499",
         "13.127049487548827",
         "76.47467573339844",
         "117.55577583970452"
        ],
        [
         "2025-01-05 00:00:00",
         "18.748997699218748",
         "8.622153513288499",
         "12.82148375048828",
         "70.217220515625",
         "110.40985547862053"
        ],
        [
         "2025-01-06 00:00:00",
         "18.7850629140625",
         "8.622153513288499",
         "12.621810727172852",
         "69.55568263964844",
         "109.58470979417228"
        ],
        [
         "2025-01-07 00:00:00",
         "19.8445888984375",
         "8.622153513288499",
         "11.381649157958984",
         "79.64601817871093",
         "119.49440974839592"
        ],
        [
         "2025-01-08 00:00:00",
         "19.9064030390625",
         "8.622153513288499",
         "14.127208134765626",
         "79.65166822167969",
         "122.3074329087963"
        ],
        [
         "2025-01-09 00:00:00",
         "19.94363451171875",
         "8.622153513288499",
         "14.447585739501953",
         "79.65488597167969",
         "122.66825973618889"
        ],
        [
         "2025-01-10 00:00:00",
         "19.9609051484375",
         "8.622153513288499",
         "13.26120881640625",
         "79.65676558398438",
         "121.50103306211663"
        ],
        [
         "2025-01-11 00:00:00",
         "19.491751675781252",
         "8.622153513288499",
         "12.698727585693359",
         "76.60736374804688",
         "117.41999652280998"
        ],
        [
         "2025-01-12 00:00:00",
         "18.83456785546875",
         "8.622153513288499",
         "9.26245505053711",
         "70.34407812109374",
         "107.0632545403881"
        ],
        [
         "2025-01-13 00:00:00",
         "20.231770632812502",
         "8.622153513288499",
         "13.171367915771484",
         "79.86903090234375",
         "121.89432296421623"
        ],
        [
         "2025-01-14 00:00:00",
         "20.301337363281252",
         "8.622153513288499",
         "13.51855690209961",
         "79.87990577734375",
         "122.32195355601311"
        ],
        [
         "2025-01-15 00:00:00",
         "20.282783453125",
         "8.622153513288499",
         "9.395760940429687",
         "79.88008822753906",
         "118.18078613438225"
        ],
        [
         "2025-01-16 00:00:00",
         "20.2838934296875",
         "8.622153513288499",
         "14.275619790527344",
         "79.87972278808594",
         "123.06138952158929"
        ],
        [
         "2025-01-17 00:00:00",
         "20.2735492265625",
         "8.622153513288499",
         "14.160835533935545",
         "79.88030934765625",
         "122.9368476214428"
        ],
        [
         "2025-01-18 00:00:00",
         "19.75335837109375",
         "8.622153513288499",
         "9.979959546142577",
         "76.83014350976562",
         "115.18561494029045"
        ],
        [
         "2025-01-19 00:00:00",
         "19.073228734375",
         "8.622153513288499",
         "11.745791964355469",
         "70.56382896191407",
         "110.00500317393303"
        ],
        [
         "2025-01-20 00:00:00",
         "20.231159328125003",
         "8.622153513288499",
         "15.488306103271485",
         "79.87448427929688",
         "124.21610322398186"
        ],
        [
         "2025-01-21 00:00:00",
         "20.29267942578125",
         "8.622153513288499",
         "9.55231289892578",
         "79.88038098730469",
         "118.34752682530022"
        ],
        [
         "2025-01-22 00:00:00",
         "20.2958273515625",
         "8.622153513288499",
         "12.425612122070312",
         "79.87611570800782",
         "121.21970869492912"
        ],
        [
         "2025-01-23 00:00:00",
         "19.82149951953125",
         "8.622153513288499",
         "13.940393608886719",
         "79.88147074804688",
         "122.26551738975334"
        ],
        [
         "2025-01-24 00:00:00",
         "19.81220466015625",
         "8.622153513288499",
         "15.49919736694336",
         "79.88120953808594",
         "123.81476507847405"
        ],
        [
         "2025-01-25 00:00:00",
         "19.280563550781253",
         "8.622153513288499",
         "13.65173173828125",
         "76.83161995214843",
         "118.38606875449943"
        ],
        [
         "2025-01-26 00:00:00",
         "18.5823716640625",
         "8.622153513288499",
         "15.284299206176758",
         "70.57735688183594",
         "113.0661812653637"
        ],
        [
         "2025-01-27 00:00:00",
         "19.781822527343753",
         "8.622153513288499",
         "15.385004068603516",
         "79.87976021679688",
         "123.66874032603265"
        ],
        [
         "2025-01-28 00:00:00",
         "19.830328140625003",
         "8.622153513288499",
         "15.781184005371093",
         "79.88167181738281",
         "124.1153374766674"
        ],
        [
         "2025-01-29 00:00:00",
         "19.82159177734375",
         "8.622153513288499",
         "14.474560673583984",
         "79.88179935742187",
         "122.8001053216381"
        ],
        [
         "2025-01-30 00:00:00",
         "19.8413219609375",
         "8.622153513288499",
         "15.582261873046875",
         "79.88205083789063",
         "123.92778818516351"
        ],
        [
         "2025-01-31 00:00:00",
         "19.84835176953125",
         "8.622153513288499",
         "14.278462797851562",
         "79.8816454873047",
         "122.63061356797601"
        ],
        [
         "2025-02-01 00:00:00",
         "18.68462911328125",
         "8.622153513288499",
         "14.6927148046875",
         "80.69164215136719",
         "122.69113958262443"
        ],
        [
         "2025-02-02 00:00:00",
         "17.93936558203125",
         "8.622153513288499",
         "15.182174645996094",
         "74.068992359375",
         "115.81268610069085"
        ],
        [
         "2025-02-03 00:00:00",
         "19.161034265625002",
         "8.622153513288499",
         "15.869569916015625",
         "83.97359311523438",
         "127.6263508101635"
        ],
        [
         "2025-02-04 00:00:00",
         "19.205102269531253",
         "8.622153513288499",
         "12.546116493652343",
         "83.99330715332032",
         "124.36667942979241"
        ],
        [
         "2025-02-05 00:00:00",
         "19.2396686875",
         "8.622153513288499",
         "15.191895045410156",
         "83.99344782421875",
         "127.0471650704174"
        ],
        [
         "2025-02-06 00:00:00",
         "19.21823355078125",
         "8.622153513288499",
         "10.531236723876953",
         "83.99354422265625",
         "122.36516801060296"
        ],
        [
         "2025-02-07 00:00:00",
         "19.22164884375",
         "8.622153513288499",
         "14.102895405517577",
         "83.99323140820313",
         "125.9399291707592"
        ],
        [
         "2025-02-08 00:00:00",
         "18.65235228515625",
         "8.622153513288499",
         "15.574652478271485",
         "80.68838093554687",
         "123.53753921226311"
        ],
        [
         "2025-02-09 00:00:00",
         "17.899107390625",
         "8.622153513288499",
         "11.533236948730469",
         "74.0680004638672",
         "112.12249831651116"
        ],
        [
         "2025-02-10 00:00:00",
         "19.128002019531248",
         "8.622153513288499",
         "15.498247903076171",
         "83.97822601953125",
         "127.22662945542717"
        ],
        [
         "2025-02-11 00:00:00",
         "19.165743753906252",
         "8.622153513288499",
         "16.586220271484375",
         "83.99278817675781",
         "128.36690571543693"
        ],
        [
         "2025-02-12 00:00:00",
         "19.19221803125",
         "8.622153513288499",
         "15.206131643066406",
         "83.99434333496094",
         "127.01484652256585"
        ],
        [
         "2025-02-13 00:00:00",
         "19.1867699296875",
         "8.622153513288499",
         "15.956612011962891",
         "83.9923294765625",
         "127.75786493150139"
        ],
        [
         "2025-02-14 00:00:00",
         "19.19025776171875",
         "8.622153513288499",
         "15.887761776611327",
         "83.99354767382813",
         "127.69372072544671"
        ],
        [
         "2025-02-15 00:00:00",
         "18.6675595078125",
         "8.622153513288499",
         "10.236648253662109",
         "80.68706144726562",
         "118.21342272202872"
        ],
        [
         "2025-02-16 00:00:00",
         "17.9396265859375",
         "8.622153513288499",
         "15.973681606201172",
         "74.095047203125",
         "116.63050890855217"
        ],
        [
         "2025-02-17 00:00:00",
         "19.173764902343752",
         "8.622153513288499",
         "15.665984583984375",
         "84.01649290917969",
         "127.47839590879632"
        ],
        [
         "2025-02-18 00:00:00",
         "19.243084343750002",
         "8.622153513288499",
         "16.174323790771485",
         "84.03371426171876",
         "128.07327590952875"
        ],
        [
         "2025-02-19 00:00:00",
         "19.2662050625",
         "8.051371487897873",
         "16.96464209399414",
         "84.03268135253906",
         "128.31489999693108"
        ]
       ],
       "shape": {
        "columns": 5,
        "rows": 151
       }
      },
      "text/html": [
       "<div>\n",
       "<style scoped>\n",
       "    .dataframe tbody tr th:only-of-type {\n",
       "        vertical-align: middle;\n",
       "    }\n",
       "\n",
       "    .dataframe tbody tr th {\n",
       "        vertical-align: top;\n",
       "    }\n",
       "\n",
       "    .dataframe thead th {\n",
       "        text-align: right;\n",
       "    }\n",
       "</style>\n",
       "<table border=\"1\" class=\"dataframe\">\n",
       "  <thead>\n",
       "    <tr style=\"text-align: right;\">\n",
       "      <th>Mecanismo</th>\n",
       "      <th>Antes del SICEP</th>\n",
       "      <th>Mecanismos de Comercialización</th>\n",
       "      <th>Por fuera del SICEP</th>\n",
       "      <th>SICEP</th>\n",
       "      <th>Total</th>\n",
       "    </tr>\n",
       "    <tr>\n",
       "      <th>Fecha</th>\n",
       "      <th></th>\n",
       "      <th></th>\n",
       "      <th></th>\n",
       "      <th></th>\n",
       "      <th></th>\n",
       "    </tr>\n",
       "  </thead>\n",
       "  <tbody>\n",
       "    <tr>\n",
       "      <th>2025-01-01</th>\n",
       "      <td>18.380840</td>\n",
       "      <td>8.622154</td>\n",
       "      <td>12.816961</td>\n",
       "      <td>67.016107</td>\n",
       "      <td>106.836062</td>\n",
       "    </tr>\n",
       "    <tr>\n",
       "      <th>2025-01-02</th>\n",
       "      <td>19.330799</td>\n",
       "      <td>8.622154</td>\n",
       "      <td>12.831618</td>\n",
       "      <td>78.831932</td>\n",
       "      <td>119.616503</td>\n",
       "    </tr>\n",
       "    <tr>\n",
       "      <th>2025-01-03</th>\n",
       "      <td>19.725538</td>\n",
       "      <td>8.622154</td>\n",
       "      <td>12.801495</td>\n",
       "      <td>79.527472</td>\n",
       "      <td>120.676659</td>\n",
       "    </tr>\n",
       "    <tr>\n",
       "      <th>2025-01-04</th>\n",
       "      <td>19.331897</td>\n",
       "      <td>8.622154</td>\n",
       "      <td>13.127049</td>\n",
       "      <td>76.474676</td>\n",
       "      <td>117.555776</td>\n",
       "    </tr>\n",
       "    <tr>\n",
       "      <th>2025-01-05</th>\n",
       "      <td>18.748998</td>\n",
       "      <td>8.622154</td>\n",
       "      <td>12.821484</td>\n",
       "      <td>70.217221</td>\n",
       "      <td>110.409855</td>\n",
       "    </tr>\n",
       "    <tr>\n",
       "      <th>...</th>\n",
       "      <td>...</td>\n",
       "      <td>...</td>\n",
       "      <td>...</td>\n",
       "      <td>...</td>\n",
       "      <td>...</td>\n",
       "    </tr>\n",
       "    <tr>\n",
       "      <th>2025-05-27</th>\n",
       "      <td>20.545864</td>\n",
       "      <td>8.051371</td>\n",
       "      <td>17.977811</td>\n",
       "      <td>88.561635</td>\n",
       "      <td>135.136681</td>\n",
       "    </tr>\n",
       "    <tr>\n",
       "      <th>2025-05-28</th>\n",
       "      <td>20.563307</td>\n",
       "      <td>8.051371</td>\n",
       "      <td>17.667331</td>\n",
       "      <td>88.563746</td>\n",
       "      <td>134.845756</td>\n",
       "    </tr>\n",
       "    <tr>\n",
       "      <th>2025-05-29</th>\n",
       "      <td>20.583053</td>\n",
       "      <td>8.051371</td>\n",
       "      <td>17.192373</td>\n",
       "      <td>88.564173</td>\n",
       "      <td>134.390970</td>\n",
       "    </tr>\n",
       "    <tr>\n",
       "      <th>2025-05-30</th>\n",
       "      <td>20.578078</td>\n",
       "      <td>8.051371</td>\n",
       "      <td>17.658942</td>\n",
       "      <td>88.563520</td>\n",
       "      <td>134.851912</td>\n",
       "    </tr>\n",
       "    <tr>\n",
       "      <th>2025-05-31</th>\n",
       "      <td>20.112281</td>\n",
       "      <td>8.051371</td>\n",
       "      <td>16.781819</td>\n",
       "      <td>84.870367</td>\n",
       "      <td>129.815839</td>\n",
       "    </tr>\n",
       "  </tbody>\n",
       "</table>\n",
       "<p>151 rows × 5 columns</p>\n",
       "</div>"
      ],
      "text/plain": [
       "Mecanismo   Antes del SICEP  Mecanismos de Comercialización  \\\n",
       "Fecha                                                         \n",
       "2025-01-01        18.380840                        8.622154   \n",
       "2025-01-02        19.330799                        8.622154   \n",
       "2025-01-03        19.725538                        8.622154   \n",
       "2025-01-04        19.331897                        8.622154   \n",
       "2025-01-05        18.748998                        8.622154   \n",
       "...                     ...                             ...   \n",
       "2025-05-27        20.545864                        8.051371   \n",
       "2025-05-28        20.563307                        8.051371   \n",
       "2025-05-29        20.583053                        8.051371   \n",
       "2025-05-30        20.578078                        8.051371   \n",
       "2025-05-31        20.112281                        8.051371   \n",
       "\n",
       "Mecanismo   Por fuera del SICEP      SICEP       Total  \n",
       "Fecha                                                   \n",
       "2025-01-01            12.816961  67.016107  106.836062  \n",
       "2025-01-02            12.831618  78.831932  119.616503  \n",
       "2025-01-03            12.801495  79.527472  120.676659  \n",
       "2025-01-04            13.127049  76.474676  117.555776  \n",
       "2025-01-05            12.821484  70.217221  110.409855  \n",
       "...                         ...        ...         ...  \n",
       "2025-05-27            17.977811  88.561635  135.136681  \n",
       "2025-05-28            17.667331  88.563746  134.845756  \n",
       "2025-05-29            17.192373  88.564173  134.390970  \n",
       "2025-05-30            17.658942  88.563520  134.851912  \n",
       "2025-05-31            16.781819  84.870367  129.815839  \n",
       "\n",
       "[151 rows x 5 columns]"
      ]
     },
     "execution_count": 139,
     "metadata": {},
     "output_type": "execute_result"
    }
   ],
   "source": [
    "df_result['Fecha'] = pd.to_datetime(df_result['Fecha'])                 # Convierte la columna 'Fecha' a formato datetime\n",
    "\n",
    "df_result_energia = df_result[df_result['TipoMercado']=='Regulado']     # Se filtra las cantidades y precio solo del mercado Regulado\n",
    "df_result_energia['Cantidad'] = df_result_energia['Cantidad'] / 1000000 #Se divide la columna cantidad entre 1,000,000 de manera que la cifra quede en GWh\n",
    "\n",
    "tabla_pivote = df_result_energia.pivot_table(                            # Crea una tabla pivote\n",
    "    values='Cantidad',                                                  # Valor a agregar: cantidad de energía\n",
    "    index='Fecha',                                                      # Eje X: fechas\n",
    "    columns='Mecanismo',                                                # Eje Y: mecanismos\n",
    "    aggfunc='sum'                                                       # Función de agregación: suma\n",
    ")\n",
    "\n",
    "tabla_pivote['Total'] = tabla_pivote.sum(axis=1)                        # Agrega una columna 'Total' con la suma por fila\n",
    "\n",
    "tabla_pivote                                                            # Muestra la tabla resultante\n"
   ]
  },
  {
   "cell_type": "code",
   "execution_count": 153,
   "metadata": {},
   "outputs": [
    {
     "data": {
      "image/png": "[encoded data removed]",
      "text/plain": [
       "<Figure size 1200x800 with 1 Axes>"
      ]
     },
     "metadata": {},
     "output_type": "display_data"
    }
   ],
   "source": [
    "\n",
    "\n",
    "ax = tabla_pivote[['Antes del SICEP', 'Mecanismos de Comercialización', 'Por fuera del SICEP',\n",
    "                    'SICEP']].plot(kind='bar', stacked=True, figsize=(12, 8), ylim=(0, 160)) # Crear la gráfica de barras apiladas\n",
    "\n",
    "ax.set_xticklabels(tabla_pivote.index.strftime('%Y-%m'))                                                                            # Formatear el eje X\n",
    "\n",
    "\n",
    "# Set X-axis labels every 30 records\n",
    "ticks_to_use = range(0, len(tabla_pivote), 30)                                                                                      # Definir posiciones de ticks cada 30 registros\n",
    "ax.set_xticks(ticks_to_use)                                                                                                         # Establecer posiciones de ticks en el eje X\n",
    "\n",
    "ax.set_xticklabels([tabla_pivote.index[i].strftime('%Y-%m') for i in ticks_to_use], rotation=45)                                    # Establecer etiquetas formateadas en el eje X\n",
    "\n",
    "ax.legend(loc='upper left')                                                                                                         # Configurar la leyenda\n",
    "\n",
    "plt.xlabel('Fecha')                                                                                                                 # Etiqueta del eje X\n",
    "plt.ylabel('Energía despachada en contratos GWh')                                                                                   # Etiqueta del eje Y\n",
    "plt.title('Energía despachada en contratos en el mercado regulado por Mecanismo de contratación')                                   # Título de la gráfica\n",
    "plt.tight_layout()                                                                                                                  # Ajustar el diseño para que no se corten las etiquetas\n",
    "\n",
    "plt.show()                                                                                                                          # Mostrar la gráfica\n",
    "\n"
   ]
  },
  {
   "cell_type": "markdown",
   "metadata": {},
   "source": [
    "El siguiente código calcula para el agente de interés las cantidades de energía compradas en contratos de largo plazo por mecanismo"
   ]
  },
  {
   "cell_type": "code",
   "execution_count": 166,
   "metadata": {},
   "outputs": [
    {
     "name": "stderr",
     "output_type": "stream",
     "text": [
      "C:\\Users\\50396\\AppData\\Local\\Temp\\ipykernel_39488\\3207414800.py:5: SettingWithCopyWarning: \n",
      "A value is trying to be set on a copy of a slice from a DataFrame.\n",
      "Try using .loc[row_indexer,col_indexer] = value instead\n",
      "\n",
      "See the caveats in the documentation: https://pandas.pydata.org/pandas-docs/stable/user_guide/indexing.html#returning-a-view-versus-a-copy\n",
      "  df_result_agente['Fecha'] = pd.to_datetime(df_result_agente['Fecha'])                   # Convierte la columna 'Fecha' a formato datetime\n"
     ]
    },
    {
     "data": {
      "application/vnd.microsoft.datawrangler.viewer.v0+json": {
       "columns": [
        {
         "name": "Fecha",
         "rawType": "datetime64[ns]",
         "type": "datetime"
        },
        {
         "name": "Mecanismos de Comercialización",
         "rawType": "float64",
         "type": "float"
        },
        {
         "name": "Por fuera del SICEP",
         "rawType": "float64",
         "type": "float"
        },
        {
         "name": "SICEP",
         "rawType": "float64",
         "type": "float"
        },
        {
         "name": "Total",
         "rawType": "float64",
         "type": "float"
        }
       ],
       "ref": "1b9aac51-8be6-4f3f-9248-e74771de4d47",
       "rows": [
        [
         "2025-01-01 00:00:00",
         "1.069747",
         "0.477065125",
         "11.843473",
         "13.390285125"
        ],
        [
         "2025-01-02 00:00:00",
         "1.069747",
         "0.4726923125",
         "13.922885",
         "15.465324312500002"
        ],
        [
         "2025-01-03 00:00:00",
         "1.069747",
         "0.4681988125",
         "13.922885",
         "15.460830812500001"
        ],
        [
         "2025-01-04 00:00:00",
         "1.069747",
         "0.5208",
         "13.354966",
         "14.945512999999998"
        ],
        [
         "2025-01-05 00:00:00",
         "1.069747",
         "0.49131865625",
         "12.312468",
         "13.87353365625"
        ],
        [
         "2025-01-06 00:00:00",
         "1.069747",
         "0.832053375",
         "11.843473",
         "13.745273375"
        ],
        [
         "2025-01-07 00:00:00",
         "1.069747",
         "0.7764",
         "13.922885",
         "15.769032000000001"
        ],
        [
         "2025-01-08 00:00:00",
         "1.069747",
         "1.092064625",
         "13.922885",
         "16.084696625"
        ],
        [
         "2025-01-09 00:00:00",
         "1.069747",
         "0.9689029375",
         "13.922885",
         "15.961534937500002"
        ],
        [
         "2025-01-10 00:00:00",
         "1.069747",
         "0.7432399375",
         "13.922885",
         "15.7358719375"
        ],
        [
         "2025-01-11 00:00:00",
         "1.069747",
         "0.48670465625",
         "13.354966",
         "14.911417656249998"
        ],
        [
         "2025-01-12 00:00:00",
         "1.069747",
         "1.17558275",
         "12.312468",
         "14.55779775"
        ],
        [
         "2025-01-13 00:00:00",
         "1.069747",
         "0.908397",
         "13.922885",
         "15.901029000000001"
        ],
        [
         "2025-01-14 00:00:00",
         "1.069747",
         "0.840722875",
         "13.922885",
         "15.833354875000001"
        ],
        [
         "2025-01-15 00:00:00",
         "1.069747",
         "1.1807",
         "13.922885",
         "16.173332000000002"
        ],
        [
         "2025-01-16 00:00:00",
         "1.069747",
         "1.151702875",
         "13.922885",
         "16.144334875000002"
        ],
        [
         "2025-01-17 00:00:00",
         "1.069747",
         "0.698992875",
         "13.922885",
         "15.691624875"
        ],
        [
         "2025-01-18 00:00:00",
         "1.069747",
         "1.174",
         "13.354966",
         "15.598713"
        ],
        [
         "2025-01-19 00:00:00",
         "1.069747",
         "1.1856895",
         "12.312468",
         "14.567904500000001"
        ],
        [
         "2025-01-20 00:00:00",
         "1.069747",
         "0.6422421875",
         "13.922885",
         "15.634874187500001"
        ],
        [
         "2025-01-21 00:00:00",
         "1.069747",
         "0.8579124375",
         "13.922885",
         "15.850544437500002"
        ],
        [
         "2025-01-22 00:00:00",
         "1.069747",
         "0.3389430625",
         "13.922885",
         "15.3315750625"
        ],
        [
         "2025-01-23 00:00:00",
         "1.069747",
         "0.24156415625",
         "13.922885",
         "15.23419615625"
        ],
        [
         "2025-01-24 00:00:00",
         "1.069747",
         "0.533012",
         "13.922885",
         "15.525644000000002"
        ],
        [
         "2025-01-25 00:00:00",
         "1.069747",
         "0.630857375",
         "13.354966",
         "15.055570374999999"
        ],
        [
         "2025-01-26 00:00:00",
         "1.069747",
         "0.65715",
         "12.312468",
         "14.039365"
        ],
        [
         "2025-01-27 00:00:00",
         "1.069747",
         "0.430254875",
         "13.922885",
         "15.422886875000001"
        ],
        [
         "2025-01-28 00:00:00",
         "1.069747",
         "0.7646054375",
         "13.922885",
         "15.7572374375"
        ],
        [
         "2025-01-29 00:00:00",
         "1.069747",
         "0.33094184375",
         "13.922885",
         "15.323573843750001"
        ],
        [
         "2025-01-30 00:00:00",
         "1.069747",
         "0.5871185625",
         "13.922885",
         "15.579750562500001"
        ],
        [
         "2025-01-31 00:00:00",
         "1.069747",
         "0.5757545",
         "13.922885",
         "15.5683865"
        ],
        [
         "2025-02-01 00:00:00",
         "1.069747",
         "0.45335259375",
         "13.586923",
         "15.110022593750001"
        ],
        [
         "2025-02-02 00:00:00",
         "1.069747",
         "0.46421646875",
         "12.539804",
         "14.07376746875"
        ],
        [
         "2025-02-03 00:00:00",
         "1.069747",
         "0.57133475",
         "14.188521",
         "15.82960275"
        ],
        [
         "2025-02-04 00:00:00",
         "1.069747",
         "0.672312125",
         "14.188521",
         "15.930580124999999"
        ],
        [
         "2025-02-05 00:00:00",
         "1.069747",
         "0.36063375",
         "14.188521",
         "15.61890175"
        ],
        [
         "2025-02-06 00:00:00",
         "1.069747",
         "0.70037925",
         "14.188521",
         "15.95864725"
        ],
        [
         "2025-02-07 00:00:00",
         "1.069747",
         "0.35660709375",
         "14.188521",
         "15.61487509375"
        ],
        [
         "2025-02-08 00:00:00",
         "1.069747",
         "0.48408721875",
         "13.586923",
         "15.14075721875"
        ],
        [
         "2025-02-09 00:00:00",
         "1.069747",
         "0.5751285",
         "12.539804",
         "14.1846795"
        ],
        [
         "2025-02-10 00:00:00",
         "1.069747",
         "0.4587984375",
         "14.188521",
         "15.7170664375"
        ],
        [
         "2025-02-11 00:00:00",
         "1.069747",
         "0.5173945",
         "14.188521",
         "15.7756625"
        ],
        [
         "2025-02-12 00:00:00",
         "1.069747",
         "0.6197843125",
         "14.188521",
         "15.8780523125"
        ],
        [
         "2025-02-13 00:00:00",
         "1.069747",
         "0.485666625",
         "14.188521",
         "15.743934625"
        ],
        [
         "2025-02-14 00:00:00",
         "1.069747",
         "0.4105575",
         "14.188521",
         "15.6688255"
        ],
        [
         "2025-02-15 00:00:00",
         "1.069747",
         "0.73775775",
         "13.586923",
         "15.39442775"
        ],
        [
         "2025-02-16 00:00:00",
         "1.069747",
         "0.72802425",
         "12.539804",
         "14.33757525"
        ],
        [
         "2025-02-17 00:00:00",
         "1.069747",
         "0.5623678125",
         "14.188521",
         "15.820635812499999"
        ],
        [
         "2025-02-18 00:00:00",
         "1.069747",
         "0.4734256875",
         "14.188521",
         "15.7316936875"
        ],
        [
         "2025-02-19 00:00:00",
         "1.069747",
         "0.611136",
         "14.188521",
         "15.869404"
        ]
       ],
       "shape": {
        "columns": 4,
        "rows": 151
       }
      },
      "text/html": [
       "<div>\n",
       "<style scoped>\n",
       "    .dataframe tbody tr th:only-of-type {\n",
       "        vertical-align: middle;\n",
       "    }\n",
       "\n",
       "    .dataframe tbody tr th {\n",
       "        vertical-align: top;\n",
       "    }\n",
       "\n",
       "    .dataframe thead th {\n",
       "        text-align: right;\n",
       "    }\n",
       "</style>\n",
       "<table border=\"1\" class=\"dataframe\">\n",
       "  <thead>\n",
       "    <tr style=\"text-align: right;\">\n",
       "      <th>Mecanismo</th>\n",
       "      <th>Mecanismos de Comercialización</th>\n",
       "      <th>Por fuera del SICEP</th>\n",
       "      <th>SICEP</th>\n",
       "      <th>Total</th>\n",
       "    </tr>\n",
       "    <tr>\n",
       "      <th>Fecha</th>\n",
       "      <th></th>\n",
       "      <th></th>\n",
       "      <th></th>\n",
       "      <th></th>\n",
       "    </tr>\n",
       "  </thead>\n",
       "  <tbody>\n",
       "    <tr>\n",
       "      <th>2025-01-01</th>\n",
       "      <td>1.069747</td>\n",
       "      <td>0.477065</td>\n",
       "      <td>11.843473</td>\n",
       "      <td>13.390285</td>\n",
       "    </tr>\n",
       "    <tr>\n",
       "      <th>2025-01-02</th>\n",
       "      <td>1.069747</td>\n",
       "      <td>0.472692</td>\n",
       "      <td>13.922885</td>\n",
       "      <td>15.465324</td>\n",
       "    </tr>\n",
       "    <tr>\n",
       "      <th>2025-01-03</th>\n",
       "      <td>1.069747</td>\n",
       "      <td>0.468199</td>\n",
       "      <td>13.922885</td>\n",
       "      <td>15.460831</td>\n",
       "    </tr>\n",
       "    <tr>\n",
       "      <th>2025-01-04</th>\n",
       "      <td>1.069747</td>\n",
       "      <td>0.520800</td>\n",
       "      <td>13.354966</td>\n",
       "      <td>14.945513</td>\n",
       "    </tr>\n",
       "    <tr>\n",
       "      <th>2025-01-05</th>\n",
       "      <td>1.069747</td>\n",
       "      <td>0.491319</td>\n",
       "      <td>12.312468</td>\n",
       "      <td>13.873534</td>\n",
       "    </tr>\n",
       "    <tr>\n",
       "      <th>...</th>\n",
       "      <td>...</td>\n",
       "      <td>...</td>\n",
       "      <td>...</td>\n",
       "      <td>...</td>\n",
       "    </tr>\n",
       "    <tr>\n",
       "      <th>2025-05-27</th>\n",
       "      <td>1.069747</td>\n",
       "      <td>0.958059</td>\n",
       "      <td>15.088823</td>\n",
       "      <td>17.116629</td>\n",
       "    </tr>\n",
       "    <tr>\n",
       "      <th>2025-05-28</th>\n",
       "      <td>1.069747</td>\n",
       "      <td>0.862931</td>\n",
       "      <td>15.088823</td>\n",
       "      <td>17.021501</td>\n",
       "    </tr>\n",
       "    <tr>\n",
       "      <th>2025-05-29</th>\n",
       "      <td>1.069747</td>\n",
       "      <td>0.969132</td>\n",
       "      <td>15.088823</td>\n",
       "      <td>17.127702</td>\n",
       "    </tr>\n",
       "    <tr>\n",
       "      <th>2025-05-30</th>\n",
       "      <td>1.069747</td>\n",
       "      <td>0.844981</td>\n",
       "      <td>15.088823</td>\n",
       "      <td>17.003551</td>\n",
       "    </tr>\n",
       "    <tr>\n",
       "      <th>2025-05-31</th>\n",
       "      <td>1.069747</td>\n",
       "      <td>0.725166</td>\n",
       "      <td>14.765309</td>\n",
       "      <td>16.560222</td>\n",
       "    </tr>\n",
       "  </tbody>\n",
       "</table>\n",
       "<p>151 rows × 4 columns</p>\n",
       "</div>"
      ],
      "text/plain": [
       "Mecanismo   Mecanismos de Comercialización  Por fuera del SICEP      SICEP  \\\n",
       "Fecha                                                                        \n",
       "2025-01-01                        1.069747             0.477065  11.843473   \n",
       "2025-01-02                        1.069747             0.472692  13.922885   \n",
       "2025-01-03                        1.069747             0.468199  13.922885   \n",
       "2025-01-04                        1.069747             0.520800  13.354966   \n",
       "2025-01-05                        1.069747             0.491319  12.312468   \n",
       "...                                    ...                  ...        ...   \n",
       "2025-05-27                        1.069747             0.958059  15.088823   \n",
       "2025-05-28                        1.069747             0.862931  15.088823   \n",
       "2025-05-29                        1.069747             0.969132  15.088823   \n",
       "2025-05-30                        1.069747             0.844981  15.088823   \n",
       "2025-05-31                        1.069747             0.725166  14.765309   \n",
       "\n",
       "Mecanismo       Total  \n",
       "Fecha                  \n",
       "2025-01-01  13.390285  \n",
       "2025-01-02  15.465324  \n",
       "2025-01-03  15.460831  \n",
       "2025-01-04  14.945513  \n",
       "2025-01-05  13.873534  \n",
       "...               ...  \n",
       "2025-05-27  17.116629  \n",
       "2025-05-28  17.021501  \n",
       "2025-05-29  17.127702  \n",
       "2025-05-30  17.003551  \n",
       "2025-05-31  16.560222  \n",
       "\n",
       "[151 rows x 4 columns]"
      ]
     },
     "execution_count": 166,
     "metadata": {},
     "output_type": "execute_result"
    }
   ],
   "source": [
    "code_Agente = 'EPMC'\n",
    "df_result_agente = df[df['CodigoAgenteComprador']==code_Agente]\n",
    "\n",
    "\n",
    "df_result_agente['Fecha'] = pd.to_datetime(df_result_agente['Fecha'])                   # Convierte la columna 'Fecha' a formato datetime\n",
    "\n",
    "df_result_energia = df_result_agente[df_result_agente['TipoMercado']=='Regulado']       # Se filtra las cantidades y precio solo del mercado Regulado\n",
    "df_result_energia['Cantidad'] = df_result_energia['Cantidad'] / 1000000                 #Se divide la columna cantidad entre 1,000,000 de manera que la cifra quede en GWh\n",
    "\n",
    "tabla_pivote_agente = df_result_energia.pivot_table(                                           # Crea una tabla pivote\n",
    "    values='Cantidad',                                                                  # Valor a agregar: cantidad de energía\n",
    "    index='Fecha',                                                                      # Eje X: fechas\n",
    "    columns='Mecanismo',                                                                # Eje Y: mecanismos\n",
    "    aggfunc='sum'                                                                       # Función de agregación: suma\n",
    ")\n",
    "\n",
    "tabla_pivote_agente['Total'] = tabla_pivote_agente.sum(axis=1)                                        # Agrega una columna 'Total' con la suma por fila\n",
    "\n",
    "tabla_pivote_agente                                                                            # Muestra la tabla resultante"
   ]
  },
  {
   "cell_type": "code",
   "execution_count": null,
   "metadata": {},
   "outputs": [
    {
     "data": {
      "image/png": "[encoded data removed]",
      "text/plain": [
       "<Figure size 1200x800 with 1 Axes>"
      ]
     },
     "metadata": {},
     "output_type": "display_data"
    }
   ],
   "source": [
    "if 'Total' in tabla_pivote_agente.columns:                                                                                          # Verificar si la columna 'Total' existe\n",
    "    tabla_pivote_agente = tabla_pivote_agente.drop(columns='Total')                                                                 # Eliminar la columna 'Total'\n",
    "\n",
    "ax = tabla_pivote_agente.plot(kind='bar', stacked=True, figsize=(12, 8), ylim=(0, 20))                                              # Crear la gráfica de barras apiladas\n",
    "\n",
    "ax.set_xticklabels(tabla_pivote_agente.index.strftime('%Y-%m'))                                                                     # Formatear el eje X\n",
    "\n",
    "ticks_to_use = range(0, len(tabla_pivote_agente), 30)                                                                               # Definir posiciones de ticks cada 30 registros\n",
    "ax.set_xticks(ticks_to_use)                                                                                                         # Establecer posiciones de ticks en el eje X\n",
    "\n",
    "ax.set_xticklabels([tabla_pivote_agente.index[i].strftime('%Y-%m') for i in ticks_to_use], rotation=45)                             # Establecer etiquetas formateadas en el eje X\n",
    "\n",
    "ax.legend(loc='upper left')                                                                                                         # Configurar la leyenda\n",
    "\n",
    "plt.xlabel('Fecha')                                                                                                                 # Etiqueta del eje X\n",
    "plt.ylabel('Energía despachada en contratos GWh')                                                                                   # Etiqueta del eje Y\n",
    "plt.title('Energía despachada en contratos en el mercado regulado por Mecanismo de contratación agente: ' + code_Agente)                                   # Título de la gráfica\n",
    "plt.tight_layout()                                                                                                                  # Ajustar el diseño para que no se corten las etiquetas\n",
    "\n",
    "plt.show()     "
   ]
  }
 ],
 "metadata": {
  "kernelspec": {
   "display_name": "GAIA",
   "language": "python",
   "name": "python3"
  },
  "language_info": {
   "codemirror_mode": {
    "name": "ipython",
    "version": 3
   },
   "file_extension": ".py",
   "mimetype": "text/x-python",
   "name": "python",
   "nbconvert_exporter": "python",
   "pygments_lexer": "ipython3",
   "version": "3.10.11"
  }
 },
 "nbformat": 4,
 "nbformat_minor": 2
}
