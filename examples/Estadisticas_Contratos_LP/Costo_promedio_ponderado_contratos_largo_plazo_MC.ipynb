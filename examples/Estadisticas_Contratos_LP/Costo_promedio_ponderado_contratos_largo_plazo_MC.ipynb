{
 "cells": [
  {
   "attachments": {
    "SIMEM_logo_1.png": {
     "image/png": "[encoded data removed]"
    }
   },
   "cell_type": "markdown",
   "metadata": {},
   "source": [
    "![SIMEM_logo_1.png](attachment:SIMEM_logo_1.png)\n",
    "\n",
    "[SiMEM](https://www.simem.co/)"
   ]
  },
  {
   "cell_type": "markdown",
   "metadata": {},
   "source": [
    "## Caso de uso - Costo promedio ponderado en contratos de largo plazo MC\n",
    "\n",
    "# Objetivos de este Notebook\n",
    "\n",
    "* Explicar cómo se realiza la instalación e importación de la librería pydataxm desde la consola para su uso en ambientes locales\n",
    "* Explicar cómo se pueden consultar los conjuntos de datos a través de la librería Pydataxm\n",
    "* Explicar cómo realizar el procesamiento y manipulación de los datos consultados\n",
    "* Explicar el análisis de los datos consultados para dar respuesta al caso de uso propuesto\n",
    " \n",
    "**Índice**\n",
    "\n",
    "1. [Instalación de librerías](#section1)\n",
    "\n",
    "2. [Importación de librerías](#section2)\n",
    "\n",
    "3. [Consultar información de los conjuntos de datos](#section3)\n",
    "\n",
    "4. [Manipulación de datos](#section4)\n",
    "\n",
    "5. [Análisis para dar respuesta al caso de uso](#section5)"
   ]
  },
  {
   "cell_type": "markdown",
   "metadata": {},
   "source": [
    "<a id='section1'></a>\n",
    "# 1. Instalación de la librería\n",
    "Ejecutar el siguiente comando en el CMD para instalar la librería de python."
   ]
  },
  {
   "cell_type": "code",
   "execution_count": 1,
   "metadata": {},
   "outputs": [],
   "source": [
    "# import sys\n",
    "# !{sys.executable} -m pip install pydataxm"
   ]
  },
  {
   "cell_type": "markdown",
   "metadata": {},
   "source": [
    "<a id='section2'></a>\n",
    "# 2. Importación de librerías"
   ]
  },
  {
   "cell_type": "code",
   "execution_count": 2,
   "metadata": {},
   "outputs": [],
   "source": [
    "# Importación de librerías necesarias para la consulta y análisis de datos\n",
    "from pydataxm.pydatasimem import ReadSIMEM  # Importa clases para interactuar con datos del sistema SIMEM, utilizado para acceder a información energética en Colombia\n",
    "import pandas as pd                         # Librería para manipulación y análisis de datos en estructuras tipo DataFrame, muy útil para limpiar, transformar y explorar datos\n",
    "import plotly.graph_objects as go           # Módulo de Plotly para crear visualizaciones interactivas y personalizadas, como gráficos de líneas, barras, áreas, etc."
   ]
  },
  {
   "cell_type": "markdown",
   "metadata": {},
   "source": [
    "<a id='section3'></a>\n",
    "# 3. Consultar información de los conjuntos de datos\n",
    "El método de extracción recibe los parámetros con los que se va a realizar la consulta. \n",
    "El datasetID para un conjunto particular se puede encontrar en el [catálogo de conjuntos de datos.](https://www.simem.co/pages/catalogodatos/51FC0A59-3A00-462C-B449-9CB8D5E007FB)  \n",
    "Para este ejemplo el conjunto a presentar es  [Cantidades y precios en contratos de energía del Mercado Mayorista por comercializador](https://www.simem.co/datadetail/d316478b-b8c0-4050-49ec-08dce7ce0b90) para el período 2022-2024."
   ]
  },
  {
   "cell_type": "markdown",
   "metadata": {},
   "source": [
    "Se definen los parámetros de entrada y se crea el objeto ReadSIMEM() para realizar las consultas."
   ]
  },
  {
   "cell_type": "markdown",
   "metadata": {},
   "source": [
    "La función main contiene todo el proceso para transportar la información del dataset entre el rango de fechas solicitadas a un dataframe. Después de este paso, el proceso es de manipulación y visualización de datos."
   ]
  },
  {
   "cell_type": "code",
   "execution_count": 3,
   "metadata": {},
   "outputs": [
    {
     "name": "stdout",
     "output_type": "stream",
     "text": [
      "****************************************************************************************************\n",
      "Initializing object\n",
      "The object has been initialized with the dataset: \"Cantidades y precios en contratos de energía del Mercado Mayorista por comercializador\"\n",
      "****************************************************************************************************\n",
      "Inicio consulta sincronica\n",
      "Creacion url: 0.0009970664978027344\n",
      "Extraccion de registros: 86.72060823440552\n",
      "End of data extracting process\n",
      "****************************************************************************************************\n"
     ]
    },
    {
     "data": {
      "application/vnd.microsoft.datawrangler.viewer.v0+json": {
       "columns": [
        {
         "name": "index",
         "rawType": "int64",
         "type": "integer"
        },
        {
         "name": "Fecha",
         "rawType": "object",
         "type": "string"
        },
        {
         "name": "CodigoAgenteComprador",
         "rawType": "object",
         "type": "string"
        },
        {
         "name": "TipoMercado",
         "rawType": "object",
         "type": "string"
        },
        {
         "name": "Mecanismo",
         "rawType": "object",
         "type": "string"
        },
        {
         "name": "NormatividadRelacionada",
         "rawType": "object",
         "type": "string"
        },
        {
         "name": "Cantidad",
         "rawType": "float64",
         "type": "float"
        },
        {
         "name": "PPP",
         "rawType": "float64",
         "type": "float"
        },
        {
         "name": "Version",
         "rawType": "object",
         "type": "string"
        }
       ],
       "ref": "9a2c3c18-cd70-4983-a5f4-d5d6008e9b3e",
       "rows": [
        [
         "0",
         "2022-01-31",
         "RTQC",
         "Regulado",
         "SICEP",
         "Resolución CREG 130 del 2019",
         "67682.640625",
         "281.5585",
         "TX4"
        ],
        [
         "1",
         "2022-01-31",
         "RTQC",
         "No Regulado",
         "Mecanismos de Comercialización",
         "Resolución MME 40590 del 2019",
         "106373.5",
         "199.4706",
         "TX4"
        ],
        [
         "2",
         "2022-01-31",
         "DEPC",
         "No Regulado",
         "Negociación Bilateral",
         "Resolución CREG 024 del 1995",
         "9142.6796875",
         "506.668",
         "TX4"
        ],
        [
         "3",
         "2022-01-31",
         "ESSC",
         "Regulado",
         "Antes del SICEP",
         "Resolución CREG 020 del 1996",
         "3962254.0",
         "241.5689",
         "TX4"
        ],
        [
         "4",
         "2022-01-31",
         "CAFC",
         "No Regulado",
         "Negociación Bilateral",
         "Resolución CREG 024 del 1995",
         "48000.0",
         "230.4433",
         "TX4"
        ],
        [
         "5",
         "2022-01-31",
         "CQTC",
         "Regulado",
         "SICEP",
         "Resolución CREG 130 del 2019",
         "150240.0",
         "262.591",
         "TX4"
        ],
        [
         "6",
         "2022-01-31",
         "EPSC",
         "Regulado",
         "Mecanismos de Comercialización",
         "Resolución MME 40590 del 2019",
         "675999.3125",
         "200.0965",
         "TX4"
        ],
        [
         "7",
         "2022-01-31",
         "FREC",
         "No Regulado",
         "Negociación Bilateral",
         "Resolución CREG 024 del 1995",
         "156000.0",
         "243.0802",
         "TX4"
        ],
        [
         "8",
         "2022-01-31",
         "CHCC",
         "Regulado",
         "Antes del SICEP",
         "Resolución CREG 020 del 1996",
         "1635794.5",
         "237.0105",
         "TX4"
        ],
        [
         "9",
         "2022-01-31",
         "NRCC",
         "No Regulado",
         "Negociación Bilateral",
         "Resolución CREG 024 del 1995",
         "399286.125",
         "521.7766",
         "TX4"
        ],
        [
         "10",
         "2022-01-31",
         "ISGC",
         "No Regulado",
         "Negociación Bilateral",
         "Resolución CREG 024 del 1995",
         "11179395.0",
         "179.7968",
         "TX4"
        ],
        [
         "11",
         "2022-01-31",
         "ASCC",
         "No Regulado",
         "Negociación Bilateral",
         "Resolución CREG 024 del 1995",
         "21857.810546875",
         "337.1726",
         "TX4"
        ],
        [
         "12",
         "2022-01-31",
         "QIEC",
         "No Regulado",
         "Negociación Bilateral",
         "Resolución CREG 024 del 1995",
         "334956.84375",
         "257.4093",
         "TX4"
        ],
        [
         "13",
         "2022-01-31",
         "VESC",
         "No Regulado",
         "Negociación Bilateral",
         "Resolución CREG 024 del 1995",
         "24000.0",
         "277.2732",
         "TX4"
        ],
        [
         "14",
         "2022-01-31",
         "CETC",
         "Regulado",
         "Mecanismos de Comercialización",
         "Resolución MME 40590 del 2019",
         "46999.328125",
         "200.0965",
         "TX4"
        ],
        [
         "15",
         "2022-01-31",
         "CDNC",
         "Regulado",
         "Mecanismos de Comercialización",
         "Resolución MME 40590 del 2019",
         "116568.4609375",
         "210.1795",
         "TX4"
        ],
        [
         "16",
         "2022-01-31",
         "GNCC",
         "Regulado",
         "Mecanismos de Comercialización",
         "Resolución MME 40590 del 2019",
         "116757.34375",
         "211.95",
         "TX4"
        ],
        [
         "17",
         "2022-01-31",
         "EOEG",
         "No Regulado",
         "Negociación Bilateral",
         "Resolución CREG 024 del 1995",
         "2686400.0",
         "273.4562",
         "TX4"
        ],
        [
         "18",
         "2022-01-31",
         "EPMC",
         "Regulado",
         "SICEP",
         "Resolución CREG 130 del 2019",
         "2829786.0",
         "254.8258",
         "TX4"
        ],
        [
         "19",
         "2022-01-31",
         "CASC",
         "Regulado",
         "Mecanismos de Comercialización",
         "Resolución MME 40590 del 2019",
         "63390.03125",
         "213.8322",
         "TX4"
        ]
       ],
       "shape": {
        "columns": 8,
        "rows": 20
       }
      },
      "text/html": [
       "<div>\n",
       "<style scoped>\n",
       "    .dataframe tbody tr th:only-of-type {\n",
       "        vertical-align: middle;\n",
       "    }\n",
       "\n",
       "    .dataframe tbody tr th {\n",
       "        vertical-align: top;\n",
       "    }\n",
       "\n",
       "    .dataframe thead th {\n",
       "        text-align: right;\n",
       "    }\n",
       "</style>\n",
       "<table border=\"1\" class=\"dataframe\">\n",
       "  <thead>\n",
       "    <tr style=\"text-align: right;\">\n",
       "      <th></th>\n",
       "      <th>Fecha</th>\n",
       "      <th>CodigoAgenteComprador</th>\n",
       "      <th>TipoMercado</th>\n",
       "      <th>Mecanismo</th>\n",
       "      <th>NormatividadRelacionada</th>\n",
       "      <th>Cantidad</th>\n",
       "      <th>PPP</th>\n",
       "      <th>Version</th>\n",
       "    </tr>\n",
       "  </thead>\n",
       "  <tbody>\n",
       "    <tr>\n",
       "      <th>0</th>\n",
       "      <td>2022-01-31</td>\n",
       "      <td>RTQC</td>\n",
       "      <td>Regulado</td>\n",
       "      <td>SICEP</td>\n",
       "      <td>Resolución CREG 130 del 2019</td>\n",
       "      <td>6.768264e+04</td>\n",
       "      <td>281.5585</td>\n",
       "      <td>TX4</td>\n",
       "    </tr>\n",
       "    <tr>\n",
       "      <th>1</th>\n",
       "      <td>2022-01-31</td>\n",
       "      <td>RTQC</td>\n",
       "      <td>No Regulado</td>\n",
       "      <td>Mecanismos de Comercialización</td>\n",
       "      <td>Resolución MME 40590 del 2019</td>\n",
       "      <td>1.063735e+05</td>\n",
       "      <td>199.4706</td>\n",
       "      <td>TX4</td>\n",
       "    </tr>\n",
       "    <tr>\n",
       "      <th>2</th>\n",
       "      <td>2022-01-31</td>\n",
       "      <td>DEPC</td>\n",
       "      <td>No Regulado</td>\n",
       "      <td>Negociación Bilateral</td>\n",
       "      <td>Resolución CREG 024 del 1995</td>\n",
       "      <td>9.142680e+03</td>\n",
       "      <td>506.6680</td>\n",
       "      <td>TX4</td>\n",
       "    </tr>\n",
       "    <tr>\n",
       "      <th>3</th>\n",
       "      <td>2022-01-31</td>\n",
       "      <td>ESSC</td>\n",
       "      <td>Regulado</td>\n",
       "      <td>Antes del SICEP</td>\n",
       "      <td>Resolución CREG 020 del 1996</td>\n",
       "      <td>3.962254e+06</td>\n",
       "      <td>241.5689</td>\n",
       "      <td>TX4</td>\n",
       "    </tr>\n",
       "    <tr>\n",
       "      <th>4</th>\n",
       "      <td>2022-01-31</td>\n",
       "      <td>CAFC</td>\n",
       "      <td>No Regulado</td>\n",
       "      <td>Negociación Bilateral</td>\n",
       "      <td>Resolución CREG 024 del 1995</td>\n",
       "      <td>4.800000e+04</td>\n",
       "      <td>230.4433</td>\n",
       "      <td>TX4</td>\n",
       "    </tr>\n",
       "    <tr>\n",
       "      <th>5</th>\n",
       "      <td>2022-01-31</td>\n",
       "      <td>CQTC</td>\n",
       "      <td>Regulado</td>\n",
       "      <td>SICEP</td>\n",
       "      <td>Resolución CREG 130 del 2019</td>\n",
       "      <td>1.502400e+05</td>\n",
       "      <td>262.5910</td>\n",
       "      <td>TX4</td>\n",
       "    </tr>\n",
       "    <tr>\n",
       "      <th>6</th>\n",
       "      <td>2022-01-31</td>\n",
       "      <td>EPSC</td>\n",
       "      <td>Regulado</td>\n",
       "      <td>Mecanismos de Comercialización</td>\n",
       "      <td>Resolución MME 40590 del 2019</td>\n",
       "      <td>6.759993e+05</td>\n",
       "      <td>200.0965</td>\n",
       "      <td>TX4</td>\n",
       "    </tr>\n",
       "    <tr>\n",
       "      <th>7</th>\n",
       "      <td>2022-01-31</td>\n",
       "      <td>FREC</td>\n",
       "      <td>No Regulado</td>\n",
       "      <td>Negociación Bilateral</td>\n",
       "      <td>Resolución CREG 024 del 1995</td>\n",
       "      <td>1.560000e+05</td>\n",
       "      <td>243.0802</td>\n",
       "      <td>TX4</td>\n",
       "    </tr>\n",
       "    <tr>\n",
       "      <th>8</th>\n",
       "      <td>2022-01-31</td>\n",
       "      <td>CHCC</td>\n",
       "      <td>Regulado</td>\n",
       "      <td>Antes del SICEP</td>\n",
       "      <td>Resolución CREG 020 del 1996</td>\n",
       "      <td>1.635794e+06</td>\n",
       "      <td>237.0105</td>\n",
       "      <td>TX4</td>\n",
       "    </tr>\n",
       "    <tr>\n",
       "      <th>9</th>\n",
       "      <td>2022-01-31</td>\n",
       "      <td>NRCC</td>\n",
       "      <td>No Regulado</td>\n",
       "      <td>Negociación Bilateral</td>\n",
       "      <td>Resolución CREG 024 del 1995</td>\n",
       "      <td>3.992861e+05</td>\n",
       "      <td>521.7766</td>\n",
       "      <td>TX4</td>\n",
       "    </tr>\n",
       "    <tr>\n",
       "      <th>10</th>\n",
       "      <td>2022-01-31</td>\n",
       "      <td>ISGC</td>\n",
       "      <td>No Regulado</td>\n",
       "      <td>Negociación Bilateral</td>\n",
       "      <td>Resolución CREG 024 del 1995</td>\n",
       "      <td>1.117940e+07</td>\n",
       "      <td>179.7968</td>\n",
       "      <td>TX4</td>\n",
       "    </tr>\n",
       "    <tr>\n",
       "      <th>11</th>\n",
       "      <td>2022-01-31</td>\n",
       "      <td>ASCC</td>\n",
       "      <td>No Regulado</td>\n",
       "      <td>Negociación Bilateral</td>\n",
       "      <td>Resolución CREG 024 del 1995</td>\n",
       "      <td>2.185781e+04</td>\n",
       "      <td>337.1726</td>\n",
       "      <td>TX4</td>\n",
       "    </tr>\n",
       "    <tr>\n",
       "      <th>12</th>\n",
       "      <td>2022-01-31</td>\n",
       "      <td>QIEC</td>\n",
       "      <td>No Regulado</td>\n",
       "      <td>Negociación Bilateral</td>\n",
       "      <td>Resolución CREG 024 del 1995</td>\n",
       "      <td>3.349568e+05</td>\n",
       "      <td>257.4093</td>\n",
       "      <td>TX4</td>\n",
       "    </tr>\n",
       "    <tr>\n",
       "      <th>13</th>\n",
       "      <td>2022-01-31</td>\n",
       "      <td>VESC</td>\n",
       "      <td>No Regulado</td>\n",
       "      <td>Negociación Bilateral</td>\n",
       "      <td>Resolución CREG 024 del 1995</td>\n",
       "      <td>2.400000e+04</td>\n",
       "      <td>277.2732</td>\n",
       "      <td>TX4</td>\n",
       "    </tr>\n",
       "    <tr>\n",
       "      <th>14</th>\n",
       "      <td>2022-01-31</td>\n",
       "      <td>CETC</td>\n",
       "      <td>Regulado</td>\n",
       "      <td>Mecanismos de Comercialización</td>\n",
       "      <td>Resolución MME 40590 del 2019</td>\n",
       "      <td>4.699933e+04</td>\n",
       "      <td>200.0965</td>\n",
       "      <td>TX4</td>\n",
       "    </tr>\n",
       "    <tr>\n",
       "      <th>15</th>\n",
       "      <td>2022-01-31</td>\n",
       "      <td>CDNC</td>\n",
       "      <td>Regulado</td>\n",
       "      <td>Mecanismos de Comercialización</td>\n",
       "      <td>Resolución MME 40590 del 2019</td>\n",
       "      <td>1.165685e+05</td>\n",
       "      <td>210.1795</td>\n",
       "      <td>TX4</td>\n",
       "    </tr>\n",
       "    <tr>\n",
       "      <th>16</th>\n",
       "      <td>2022-01-31</td>\n",
       "      <td>GNCC</td>\n",
       "      <td>Regulado</td>\n",
       "      <td>Mecanismos de Comercialización</td>\n",
       "      <td>Resolución MME 40590 del 2019</td>\n",
       "      <td>1.167573e+05</td>\n",
       "      <td>211.9500</td>\n",
       "      <td>TX4</td>\n",
       "    </tr>\n",
       "    <tr>\n",
       "      <th>17</th>\n",
       "      <td>2022-01-31</td>\n",
       "      <td>EOEG</td>\n",
       "      <td>No Regulado</td>\n",
       "      <td>Negociación Bilateral</td>\n",
       "      <td>Resolución CREG 024 del 1995</td>\n",
       "      <td>2.686400e+06</td>\n",
       "      <td>273.4562</td>\n",
       "      <td>TX4</td>\n",
       "    </tr>\n",
       "    <tr>\n",
       "      <th>18</th>\n",
       "      <td>2022-01-31</td>\n",
       "      <td>EPMC</td>\n",
       "      <td>Regulado</td>\n",
       "      <td>SICEP</td>\n",
       "      <td>Resolución CREG 130 del 2019</td>\n",
       "      <td>2.829786e+06</td>\n",
       "      <td>254.8258</td>\n",
       "      <td>TX4</td>\n",
       "    </tr>\n",
       "    <tr>\n",
       "      <th>19</th>\n",
       "      <td>2022-01-31</td>\n",
       "      <td>CASC</td>\n",
       "      <td>Regulado</td>\n",
       "      <td>Mecanismos de Comercialización</td>\n",
       "      <td>Resolución MME 40590 del 2019</td>\n",
       "      <td>6.339003e+04</td>\n",
       "      <td>213.8322</td>\n",
       "      <td>TX4</td>\n",
       "    </tr>\n",
       "  </tbody>\n",
       "</table>\n",
       "</div>"
      ],
      "text/plain": [
       "         Fecha CodigoAgenteComprador  TipoMercado  \\\n",
       "0   2022-01-31                  RTQC     Regulado   \n",
       "1   2022-01-31                  RTQC  No Regulado   \n",
       "2   2022-01-31                  DEPC  No Regulado   \n",
       "3   2022-01-31                  ESSC     Regulado   \n",
       "4   2022-01-31                  CAFC  No Regulado   \n",
       "5   2022-01-31                  CQTC     Regulado   \n",
       "6   2022-01-31                  EPSC     Regulado   \n",
       "7   2022-01-31                  FREC  No Regulado   \n",
       "8   2022-01-31                  CHCC     Regulado   \n",
       "9   2022-01-31                  NRCC  No Regulado   \n",
       "10  2022-01-31                  ISGC  No Regulado   \n",
       "11  2022-01-31                  ASCC  No Regulado   \n",
       "12  2022-01-31                  QIEC  No Regulado   \n",
       "13  2022-01-31                  VESC  No Regulado   \n",
       "14  2022-01-31                  CETC     Regulado   \n",
       "15  2022-01-31                  CDNC     Regulado   \n",
       "16  2022-01-31                  GNCC     Regulado   \n",
       "17  2022-01-31                  EOEG  No Regulado   \n",
       "18  2022-01-31                  EPMC     Regulado   \n",
       "19  2022-01-31                  CASC     Regulado   \n",
       "\n",
       "                         Mecanismo        NormatividadRelacionada  \\\n",
       "0                            SICEP   Resolución CREG 130 del 2019   \n",
       "1   Mecanismos de Comercialización  Resolución MME 40590 del 2019   \n",
       "2            Negociación Bilateral   Resolución CREG 024 del 1995   \n",
       "3                  Antes del SICEP   Resolución CREG 020 del 1996   \n",
       "4            Negociación Bilateral   Resolución CREG 024 del 1995   \n",
       "5                            SICEP   Resolución CREG 130 del 2019   \n",
       "6   Mecanismos de Comercialización  Resolución MME 40590 del 2019   \n",
       "7            Negociación Bilateral   Resolución CREG 024 del 1995   \n",
       "8                  Antes del SICEP   Resolución CREG 020 del 1996   \n",
       "9            Negociación Bilateral   Resolución CREG 024 del 1995   \n",
       "10           Negociación Bilateral   Resolución CREG 024 del 1995   \n",
       "11           Negociación Bilateral   Resolución CREG 024 del 1995   \n",
       "12           Negociación Bilateral   Resolución CREG 024 del 1995   \n",
       "13           Negociación Bilateral   Resolución CREG 024 del 1995   \n",
       "14  Mecanismos de Comercialización  Resolución MME 40590 del 2019   \n",
       "15  Mecanismos de Comercialización  Resolución MME 40590 del 2019   \n",
       "16  Mecanismos de Comercialización  Resolución MME 40590 del 2019   \n",
       "17           Negociación Bilateral   Resolución CREG 024 del 1995   \n",
       "18                           SICEP   Resolución CREG 130 del 2019   \n",
       "19  Mecanismos de Comercialización  Resolución MME 40590 del 2019   \n",
       "\n",
       "        Cantidad       PPP Version  \n",
       "0   6.768264e+04  281.5585     TX4  \n",
       "1   1.063735e+05  199.4706     TX4  \n",
       "2   9.142680e+03  506.6680     TX4  \n",
       "3   3.962254e+06  241.5689     TX4  \n",
       "4   4.800000e+04  230.4433     TX4  \n",
       "5   1.502400e+05  262.5910     TX4  \n",
       "6   6.759993e+05  200.0965     TX4  \n",
       "7   1.560000e+05  243.0802     TX4  \n",
       "8   1.635794e+06  237.0105     TX4  \n",
       "9   3.992861e+05  521.7766     TX4  \n",
       "10  1.117940e+07  179.7968     TX4  \n",
       "11  2.185781e+04  337.1726     TX4  \n",
       "12  3.349568e+05  257.4093     TX4  \n",
       "13  2.400000e+04  277.2732     TX4  \n",
       "14  4.699933e+04  200.0965     TX4  \n",
       "15  1.165685e+05  210.1795     TX4  \n",
       "16  1.167573e+05  211.9500     TX4  \n",
       "17  2.686400e+06  273.4562     TX4  \n",
       "18  2.829786e+06  254.8258     TX4  \n",
       "19  6.339003e+04  213.8322     TX4  "
      ]
     },
     "metadata": {},
     "output_type": "display_data"
    }
   ],
   "source": [
    "id_dataset = 'd31647'                                       # ID del conjunto de datos a consultar\n",
    "fecha_inicial = '2022-01-01'                                # Fecha de inicio del rango de consulta\n",
    "fecha_final = '2024-12-31'                                  # Fecha de fin del rango de consulta\n",
    "simem = ReadSIMEM(id_dataset, fecha_inicial, fecha_final)   # Instancia de la clase ReadSIMEM con los parámetros definidos\n",
    "df_dataset = simem.main()                                   # Ejecución del método principal para obtener los datos en un DataFrame\n",
    "display(df_dataset.head(20))                                # Visualización de las primeras 20 filas del DataFrame"
   ]
  },
  {
   "cell_type": "markdown",
   "metadata": {},
   "source": [
    "<a id='section4'></a>\n",
    "# 4. Manipulación de datos\n",
    "Los siguientes pasos corresponden a las actividades de manipulación y preparación de los datos que son relevantes para el análisis. "
   ]
  },
  {
   "cell_type": "markdown",
   "metadata": {},
   "source": [
    "### Filtrar la máxima versión para el periodo de consulta de los datos\n",
    "El método filtra para el dataset de consulta, la máxima versión de la liquidación para cada uno de los días. "
   ]
  },
  {
   "cell_type": "code",
   "execution_count": 4,
   "metadata": {},
   "outputs": [
    {
     "data": {
      "application/vnd.microsoft.datawrangler.viewer.v0+json": {
       "columns": [
        {
         "name": "index",
         "rawType": "int64",
         "type": "integer"
        },
        {
         "name": "Fecha",
         "rawType": "datetime64[ns]",
         "type": "datetime"
        },
        {
         "name": "CodigoAgenteComprador",
         "rawType": "object",
         "type": "string"
        },
        {
         "name": "TipoMercado",
         "rawType": "object",
         "type": "string"
        },
        {
         "name": "Mecanismo",
         "rawType": "object",
         "type": "string"
        },
        {
         "name": "NormatividadRelacionada",
         "rawType": "object",
         "type": "string"
        },
        {
         "name": "Cantidad",
         "rawType": "float64",
         "type": "float"
        },
        {
         "name": "PPP",
         "rawType": "float64",
         "type": "float"
        },
        {
         "name": "Version",
         "rawType": "object",
         "type": "string"
        }
       ],
       "ref": "dba8d895-19c5-4e5a-a8e1-3167f9f8ad5f",
       "rows": [
        [
         "5386",
         "2022-01-01 00:00:00",
         "EDPC",
         "Regulado",
         "Antes del SICEP",
         "Resolución CREG 020 del 1996",
         "335249.4375",
         "269.4868",
         "TX4"
        ],
        [
         "5299",
         "2022-01-01 00:00:00",
         "QIEC",
         "Regulado",
         "Antes del SICEP",
         "Resolución CREG 020 del 1996",
         "237218.3125",
         "330.3534",
         "TX4"
        ],
        [
         "5462",
         "2022-01-01 00:00:00",
         "EPSG",
         "No Regulado",
         "Negociación Bilateral",
         "Resolución CREG 024 del 1995",
         "474563.03125",
         "245.4239",
         "TX4"
        ],
        [
         "5324",
         "2022-01-01 00:00:00",
         "CMMC",
         "Regulado",
         "Antes del SICEP",
         "Resolución CREG 020 del 1996",
         "13460179.0",
         "270.048",
         "TX4"
        ],
        [
         "5465",
         "2022-01-01 00:00:00",
         "HIMG",
         "No Regulado",
         "Negociación Bilateral",
         "Resolución CREG 024 del 1995",
         "1387195.5",
         "274.0869",
         "TX4"
        ],
        [
         "5368",
         "2022-01-01 00:00:00",
         "CDSC",
         "Regulado",
         "Antes del SICEP",
         "Resolución CREG 020 del 1996",
         "7547238.5",
         "231.243",
         "TX4"
        ],
        [
         "5313",
         "2022-01-01 00:00:00",
         "ITLC",
         "No Regulado",
         "Negociación Bilateral",
         "Resolución CREG 024 del 1995",
         "258064.5625",
         "257.4928",
         "TX4"
        ],
        [
         "5336",
         "2022-01-01 00:00:00",
         "EPMC",
         "Regulado",
         "Mecanismos de Comercialización",
         "Resolución MME 40590 del 2019",
         "1936999.375",
         "200.0965",
         "TX4"
        ],
        [
         "5418",
         "2022-01-01 00:00:00",
         "NMRC",
         "Regulado",
         "SICEP",
         "Resolución CREG 130 del 2019",
         "3486.489990234375",
         "274.6243",
         "TX4"
        ],
        [
         "5350",
         "2022-01-01 00:00:00",
         "CASC",
         "Regulado",
         "Mecanismos de Comercialización",
         "Resolución MME 40590 del 2019",
         "63390.03125",
         "213.8322",
         "TX4"
        ],
        [
         "5318",
         "2022-01-01 00:00:00",
         "SPRC",
         "No Regulado",
         "Negociación Bilateral",
         "Resolución CREG 024 del 1995",
         "15688.7998046875",
         "186.6839",
         "TX4"
        ],
        [
         "5353",
         "2022-01-01 00:00:00",
         "CMMC",
         "Regulado",
         "Mecanismos de Comercialización",
         "Resolución MME 40590 del 2019",
         "1484001.875",
         "202.5632",
         "TX4"
        ],
        [
         "5300",
         "2022-01-01 00:00:00",
         "EPMC",
         "No Regulado",
         "Negociación Bilateral",
         "Resolución CREG 024 del 1995",
         "6325090.0",
         "243.0579",
         "TX4"
        ],
        [
         "5366",
         "2022-01-01 00:00:00",
         "ESSC",
         "Regulado",
         "Mecanismos de Comercialización",
         "Resolución MME 40590 del 2019",
         "627999.25",
         "200.0965",
         "TX4"
        ],
        [
         "5413",
         "2022-01-01 00:00:00",
         "CDSC",
         "Regulado",
         "Mecanismos de Comercialización",
         "Resolución MME 40590 del 2019",
         "2391264.0",
         "201.9189",
         "TX4"
        ],
        [
         "5376",
         "2022-01-01 00:00:00",
         "AMRC",
         "No Regulado",
         "Negociación Bilateral",
         "Resolución CREG 024 del 1995",
         "2484914.5",
         "236.0851",
         "TX4"
        ],
        [
         "5344",
         "2022-01-01 00:00:00",
         "RTQC",
         "Regulado",
         "Mecanismos de Comercialización",
         "Resolución MME 40590 del 2019",
         "13624.2001953125",
         "204.9831",
         "TX4"
        ],
        [
         "5432",
         "2022-01-01 00:00:00",
         "RTQC",
         "Regulado",
         "SICEP",
         "Resolución CREG 130 del 2019",
         "67682.640625",
         "281.5585",
         "TX4"
        ],
        [
         "5309",
         "2022-01-01 00:00:00",
         "NRCC",
         "Regulado",
         "Antes del SICEP",
         "Resolución CREG 020 del 1996",
         "84487.75",
         "236.0207",
         "TX4"
        ],
        [
         "5459",
         "2022-01-01 00:00:00",
         "VNRG",
         "No Regulado",
         "Negociación Bilateral",
         "Resolución CREG 024 del 1995",
         "1989995.0",
         "284.8154",
         "TX4"
        ],
        [
         "5434",
         "2022-01-01 00:00:00",
         "EDQC",
         "Regulado",
         "Antes del SICEP",
         "Resolución CREG 020 del 1996",
         "708100.0625",
         "237.8033",
         "TX4"
        ],
        [
         "5450",
         "2022-01-01 00:00:00",
         "RQEC",
         "No Regulado",
         "Negociación Bilateral",
         "Resolución CREG 024 del 1995",
         "27293.849609375",
         "265.9494",
         "TX4"
        ],
        [
         "5461",
         "2022-01-01 00:00:00",
         "EEPC",
         "Regulado",
         "Antes del SICEP",
         "Resolución CREG 020 del 1996",
         "686994.875",
         "257.2487",
         "TX4"
        ],
        [
         "5337",
         "2022-01-01 00:00:00",
         "EMIC",
         "Regulado",
         "Mecanismos de Comercialización",
         "Resolución MME 40590 del 2019",
         "441002.0",
         "207.9144",
         "TX4"
        ],
        [
         "5380",
         "2022-01-01 00:00:00",
         "ESSC",
         "Regulado",
         "SICEP",
         "Resolución CREG 130 del 2019",
         "480000.0",
         "253.9776",
         "TX4"
        ],
        [
         "5306",
         "2022-01-01 00:00:00",
         "EMEC",
         "Regulado",
         "Mecanismos de Comercialización",
         "Resolución MME 40590 del 2019",
         "437.80999755859375",
         "213.8315",
         "TX4"
        ],
        [
         "5346",
         "2022-01-01 00:00:00",
         "CHVG",
         "No Regulado",
         "Negociación Bilateral",
         "Resolución CREG 024 del 1995",
         "630000.0",
         "266.947",
         "TX4"
        ],
        [
         "5369",
         "2022-01-01 00:00:00",
         "ENIC",
         "Regulado",
         "SICEP",
         "Resolución CREG 130 del 2019",
         "290860.4375",
         "264.4472",
         "TX4"
        ],
        [
         "5437",
         "2022-01-01 00:00:00",
         "GCMG",
         "No Regulado",
         "Negociación Bilateral",
         "Resolución CREG 024 del 1995",
         "24.0",
         "190.6981",
         "TX4"
        ],
        [
         "5446",
         "2022-01-01 00:00:00",
         "EPSC",
         "No Regulado",
         "Negociación Bilateral",
         "Resolución CREG 024 del 1995",
         "2415726.25",
         "248.6716",
         "TX4"
        ],
        [
         "5297",
         "2022-01-01 00:00:00",
         "CDNC",
         "No Regulado",
         "Negociación Bilateral",
         "Resolución CREG 024 del 1995",
         "126873.03125",
         "233.4441",
         "TX4"
        ],
        [
         "5396",
         "2022-01-01 00:00:00",
         "CDSC",
         "No Regulado",
         "Negociación Bilateral",
         "Resolución CREG 024 del 1995",
         "14144.0400390625",
         "283.6914",
         "TX4"
        ],
        [
         "5320",
         "2022-01-01 00:00:00",
         "CNRC",
         "No Regulado",
         "Negociación Bilateral",
         "Resolución CREG 024 del 1995",
         "2087124.0",
         "244.6101",
         "TX4"
        ],
        [
         "5359",
         "2022-01-01 00:00:00",
         "EDNG",
         "No Regulado",
         "Negociación Bilateral",
         "Resolución CREG 024 del 1995",
         "0.0",
         "0.0",
         "TX4"
        ],
        [
         "5443",
         "2022-01-01 00:00:00",
         "EMSC",
         "Regulado",
         "Mecanismos de Comercialización",
         "Resolución MME 40590 del 2019",
         "195114.671875",
         "204.3286",
         "TX4"
        ],
        [
         "5349",
         "2022-01-01 00:00:00",
         "EMEC",
         "No Regulado",
         "Negociación Bilateral",
         "Resolución CREG 024 del 1995",
         "76330.34375",
         "199.5252",
         "TX4"
        ],
        [
         "5393",
         "2022-01-01 00:00:00",
         "EBPC",
         "Regulado",
         "Mecanismos de Comercialización",
         "Resolución MME 40590 del 2019",
         "9648.4501953125",
         "213.8322",
         "TX4"
        ],
        [
         "5354",
         "2022-01-01 00:00:00",
         "CETC",
         "Regulado",
         "Antes del SICEP",
         "Resolución CREG 020 del 1996",
         "342680.125",
         "292.1286",
         "TX4"
        ],
        [
         "5401",
         "2022-01-01 00:00:00",
         "ETTC",
         "Regulado",
         "Antes del SICEP",
         "Resolución CREG 020 del 1996",
         "279144.625",
         "414.0087",
         "TX4"
        ],
        [
         "5371",
         "2022-01-01 00:00:00",
         "CMMC",
         "Regulado",
         "SICEP",
         "Resolución CREG 130 del 2019",
         "2274296.25",
         "280.4093",
         "TX4"
        ],
        [
         "5375",
         "2022-01-01 00:00:00",
         "EMPC",
         "Regulado",
         "SICEP",
         "Resolución CREG 130 del 2019",
         "32190.05078125",
         "285.4782",
         "TX4"
        ],
        [
         "5395",
         "2022-01-01 00:00:00",
         "EPSC",
         "Regulado",
         "SICEP",
         "Resolución CREG 130 del 2019",
         "631942.0",
         "289.172",
         "TX4"
        ],
        [
         "5382",
         "2022-01-01 00:00:00",
         "RTQC",
         "No Regulado",
         "Negociación Bilateral",
         "Resolución CREG 024 del 1995",
         "1141111.25",
         "259.1027",
         "TX4"
        ],
        [
         "5412",
         "2022-01-01 00:00:00",
         "CETC",
         "Regulado",
         "Mecanismos de Comercialización",
         "Resolución MME 40590 del 2019",
         "46999.328125",
         "200.0965",
         "TX4"
        ],
        [
         "5321",
         "2022-01-01 00:00:00",
         "HLAC",
         "No Regulado",
         "Negociación Bilateral",
         "Resolución CREG 024 del 1995",
         "531366.25",
         "260.1198",
         "TX4"
        ],
        [
         "5442",
         "2022-01-01 00:00:00",
         "EMIC",
         "Regulado",
         "Antes del SICEP",
         "Resolución CREG 020 del 1996",
         "4548422.0",
         "289.9298",
         "TX4"
        ],
        [
         "5385",
         "2022-01-01 00:00:00",
         "EBPC",
         "Regulado",
         "Antes del SICEP",
         "Resolución CREG 020 del 1996",
         "204193.203125",
         "273.5142",
         "TX4"
        ],
        [
         "5310",
         "2022-01-01 00:00:00",
         "CHVC",
         "No Regulado",
         "Negociación Bilateral",
         "Resolución CREG 024 del 1995",
         "1212489.625",
         "234.7735",
         "TX4"
        ],
        [
         "5373",
         "2022-01-01 00:00:00",
         "CDNC",
         "Regulado",
         "Antes del SICEP",
         "Resolución CREG 020 del 1996",
         "1892155.875",
         "260.0959",
         "TX4"
        ],
        [
         "5356",
         "2022-01-01 00:00:00",
         "LESC",
         "No Regulado",
         "Negociación Bilateral",
         "Resolución CREG 024 del 1995",
         "192000.0",
         "256.4149",
         "TX4"
        ]
       ],
       "shape": {
        "columns": 8,
        "rows": 233042
       }
      },
      "text/html": [
       "<div>\n",
       "<style scoped>\n",
       "    .dataframe tbody tr th:only-of-type {\n",
       "        vertical-align: middle;\n",
       "    }\n",
       "\n",
       "    .dataframe tbody tr th {\n",
       "        vertical-align: top;\n",
       "    }\n",
       "\n",
       "    .dataframe thead th {\n",
       "        text-align: right;\n",
       "    }\n",
       "</style>\n",
       "<table border=\"1\" class=\"dataframe\">\n",
       "  <thead>\n",
       "    <tr style=\"text-align: right;\">\n",
       "      <th></th>\n",
       "      <th>Fecha</th>\n",
       "      <th>CodigoAgenteComprador</th>\n",
       "      <th>TipoMercado</th>\n",
       "      <th>Mecanismo</th>\n",
       "      <th>NormatividadRelacionada</th>\n",
       "      <th>Cantidad</th>\n",
       "      <th>PPP</th>\n",
       "      <th>Version</th>\n",
       "    </tr>\n",
       "  </thead>\n",
       "  <tbody>\n",
       "    <tr>\n",
       "      <th>5386</th>\n",
       "      <td>2022-01-01</td>\n",
       "      <td>EDPC</td>\n",
       "      <td>Regulado</td>\n",
       "      <td>Antes del SICEP</td>\n",
       "      <td>Resolución CREG 020 del 1996</td>\n",
       "      <td>3.352494e+05</td>\n",
       "      <td>269.4868</td>\n",
       "      <td>TX4</td>\n",
       "    </tr>\n",
       "    <tr>\n",
       "      <th>5299</th>\n",
       "      <td>2022-01-01</td>\n",
       "      <td>QIEC</td>\n",
       "      <td>Regulado</td>\n",
       "      <td>Antes del SICEP</td>\n",
       "      <td>Resolución CREG 020 del 1996</td>\n",
       "      <td>2.372183e+05</td>\n",
       "      <td>330.3534</td>\n",
       "      <td>TX4</td>\n",
       "    </tr>\n",
       "    <tr>\n",
       "      <th>5462</th>\n",
       "      <td>2022-01-01</td>\n",
       "      <td>EPSG</td>\n",
       "      <td>No Regulado</td>\n",
       "      <td>Negociación Bilateral</td>\n",
       "      <td>Resolución CREG 024 del 1995</td>\n",
       "      <td>4.745630e+05</td>\n",
       "      <td>245.4239</td>\n",
       "      <td>TX4</td>\n",
       "    </tr>\n",
       "    <tr>\n",
       "      <th>5324</th>\n",
       "      <td>2022-01-01</td>\n",
       "      <td>CMMC</td>\n",
       "      <td>Regulado</td>\n",
       "      <td>Antes del SICEP</td>\n",
       "      <td>Resolución CREG 020 del 1996</td>\n",
       "      <td>1.346018e+07</td>\n",
       "      <td>270.0480</td>\n",
       "      <td>TX4</td>\n",
       "    </tr>\n",
       "    <tr>\n",
       "      <th>5465</th>\n",
       "      <td>2022-01-01</td>\n",
       "      <td>HIMG</td>\n",
       "      <td>No Regulado</td>\n",
       "      <td>Negociación Bilateral</td>\n",
       "      <td>Resolución CREG 024 del 1995</td>\n",
       "      <td>1.387196e+06</td>\n",
       "      <td>274.0869</td>\n",
       "      <td>TX4</td>\n",
       "    </tr>\n",
       "    <tr>\n",
       "      <th>...</th>\n",
       "      <td>...</td>\n",
       "      <td>...</td>\n",
       "      <td>...</td>\n",
       "      <td>...</td>\n",
       "      <td>...</td>\n",
       "      <td>...</td>\n",
       "      <td>...</td>\n",
       "      <td>...</td>\n",
       "    </tr>\n",
       "    <tr>\n",
       "      <th>279271</th>\n",
       "      <td>2024-12-31</td>\n",
       "      <td>EPMC</td>\n",
       "      <td>Regulado</td>\n",
       "      <td>Antes del SICEP</td>\n",
       "      <td>Resolución CREG 020 del 1996</td>\n",
       "      <td>7.441588e+06</td>\n",
       "      <td>297.9799</td>\n",
       "      <td>TX4</td>\n",
       "    </tr>\n",
       "    <tr>\n",
       "      <th>279133</th>\n",
       "      <td>2024-12-31</td>\n",
       "      <td>EMIC</td>\n",
       "      <td>Regulado</td>\n",
       "      <td>SICEP</td>\n",
       "      <td>Resolución CREG 130 del 2019</td>\n",
       "      <td>1.082764e+06</td>\n",
       "      <td>305.3460</td>\n",
       "      <td>TX4</td>\n",
       "    </tr>\n",
       "    <tr>\n",
       "      <th>279373</th>\n",
       "      <td>2024-12-31</td>\n",
       "      <td>CNSC</td>\n",
       "      <td>Regulado</td>\n",
       "      <td>Por fuera del SICEP</td>\n",
       "      <td>Resolución CREG 101 036 del 2024</td>\n",
       "      <td>1.204265e+05</td>\n",
       "      <td>441.3885</td>\n",
       "      <td>TX4</td>\n",
       "    </tr>\n",
       "    <tr>\n",
       "      <th>279465</th>\n",
       "      <td>2024-12-31</td>\n",
       "      <td>EOEG</td>\n",
       "      <td>No Regulado</td>\n",
       "      <td>Negociación Bilateral</td>\n",
       "      <td>Resolución CREG 024 del 1995</td>\n",
       "      <td>1.920000e+06</td>\n",
       "      <td>356.8787</td>\n",
       "      <td>TX4</td>\n",
       "    </tr>\n",
       "    <tr>\n",
       "      <th>279074</th>\n",
       "      <td>2024-12-31</td>\n",
       "      <td>NMRC</td>\n",
       "      <td>No Regulado</td>\n",
       "      <td>Negociación Bilateral</td>\n",
       "      <td>Resolución CREG 024 del 1995</td>\n",
       "      <td>1.204890e+04</td>\n",
       "      <td>308.9580</td>\n",
       "      <td>TX4</td>\n",
       "    </tr>\n",
       "  </tbody>\n",
       "</table>\n",
       "<p>233042 rows × 8 columns</p>\n",
       "</div>"
      ],
      "text/plain": [
       "            Fecha CodigoAgenteComprador  TipoMercado              Mecanismo  \\\n",
       "5386   2022-01-01                  EDPC     Regulado        Antes del SICEP   \n",
       "5299   2022-01-01                  QIEC     Regulado        Antes del SICEP   \n",
       "5462   2022-01-01                  EPSG  No Regulado  Negociación Bilateral   \n",
       "5324   2022-01-01                  CMMC     Regulado        Antes del SICEP   \n",
       "5465   2022-01-01                  HIMG  No Regulado  Negociación Bilateral   \n",
       "...           ...                   ...          ...                    ...   \n",
       "279271 2024-12-31                  EPMC     Regulado        Antes del SICEP   \n",
       "279133 2024-12-31                  EMIC     Regulado                  SICEP   \n",
       "279373 2024-12-31                  CNSC     Regulado    Por fuera del SICEP   \n",
       "279465 2024-12-31                  EOEG  No Regulado  Negociación Bilateral   \n",
       "279074 2024-12-31                  NMRC  No Regulado  Negociación Bilateral   \n",
       "\n",
       "                 NormatividadRelacionada      Cantidad       PPP Version  \n",
       "5386        Resolución CREG 020 del 1996  3.352494e+05  269.4868     TX4  \n",
       "5299        Resolución CREG 020 del 1996  2.372183e+05  330.3534     TX4  \n",
       "5462        Resolución CREG 024 del 1995  4.745630e+05  245.4239     TX4  \n",
       "5324        Resolución CREG 020 del 1996  1.346018e+07  270.0480     TX4  \n",
       "5465        Resolución CREG 024 del 1995  1.387196e+06  274.0869     TX4  \n",
       "...                                  ...           ...       ...     ...  \n",
       "279271      Resolución CREG 020 del 1996  7.441588e+06  297.9799     TX4  \n",
       "279133      Resolución CREG 130 del 2019  1.082764e+06  305.3460     TX4  \n",
       "279373  Resolución CREG 101 036 del 2024  1.204265e+05  441.3885     TX4  \n",
       "279465      Resolución CREG 024 del 1995  1.920000e+06  356.8787     TX4  \n",
       "279074      Resolución CREG 024 del 1995  1.204890e+04  308.9580     TX4  \n",
       "\n",
       "[233042 rows x 8 columns]"
      ]
     },
     "execution_count": 4,
     "metadata": {},
     "output_type": "execute_result"
    }
   ],
   "source": [
    "def filtrar_ultima_version(df, columna_fecha, columna_version, columna_variable=None):                      # Función para filtrar la última versión de registros por mes y variables (opcional)\n",
    "    versiones = ['TX1', 'TX2', 'TXR', 'TXF', 'TX3', 'TX4', 'TX5', 'TX6', 'TX7', 'TX8', 'TX9', 'TX10']        # Lista de versiones ordenadas por prioridad\n",
    "    version_orden = pd.Series(range(1, len(versiones) + 1), index=versiones)                                # Serie que asigna un orden numérico a cada versión\n",
    "    df[columna_fecha] = pd.to_datetime(df[columna_fecha])                                                   # Conversión de la columna de fecha a tipo datetime\n",
    "    df['año_mes'] = df[columna_fecha].dt.to_period('M')                                                     # Se crea una columna con el año y mes del registro\n",
    "    df['orden_version'] = df[columna_version].map(version_orden)                                            # Se asigna el orden de versión a cada fila\n",
    "\n",
    "    if columna_variable is None:                                                                            # Si no se especifican variables adicionales\n",
    "        df_filtrado = df.sort_values(['año_mes', 'orden_version'], ascending=[True, False])                 # Ordena por mes y versión descendente\n",
    "        df_filtrado = df_filtrado.drop_duplicates(subset=[columna_fecha], keep='first')                     # Elimina duplicados conservando la última versión por fecha\n",
    "    else:                                                                                                    # Si se especifican variables adicionales\n",
    "        if isinstance(columna_variable, str):                                                               # Convierte a lista si es un solo string\n",
    "            columna_variable = [columna_variable]\n",
    "        orden_columnas = columna_variable + ['año_mes', 'orden_version']                                    # Define el orden de columnas para ordenar\n",
    "        df_filtrado = df.sort_values(orden_columnas, ascending=[True]*len(columna_variable) + [True, False])# Ordena por variables, mes y versión\n",
    "        df_filtrado = df_filtrado.drop_duplicates(subset=columna_variable + [columna_fecha], keep='first')  # Elimina duplicados por variables y fecha\n",
    "\n",
    "    df_filtrado = df_filtrado.drop(columns=['año_mes', 'orden_version'])                                    # Elimina columnas auxiliares\n",
    "    return df_filtrado                                                                                      # Retorna el DataFrame filtrado\n",
    "\n",
    "df_result = filtrar_ultima_version(df=df_dataset, columna_fecha='Fecha', columna_version='Version', \n",
    "                                   columna_variable=['CodigoAgenteComprador','TipoMercado', 'Mecanismo'])  # Aplica la función al DataFrame original\n",
    "df_result = df_result.sort_values(by='Fecha')                                                               # Ordena los datos por la fecha\n",
    "df_result                                                                                                   # Muestra el resultado filtrado"
   ]
  },
  {
   "cell_type": "markdown",
   "metadata": {},
   "source": [
    "Los dataframes se filtarán para tener los datos necesarios para la visualización, eligiendo el Mecanismo y el tipo de mercado en el que participa."
   ]
  },
  {
   "cell_type": "code",
   "execution_count": 5,
   "metadata": {},
   "outputs": [
    {
     "data": {
      "application/vnd.microsoft.datawrangler.viewer.v0+json": {
       "columns": [
        {
         "name": "index",
         "rawType": "int64",
         "type": "integer"
        },
        {
         "name": "Fecha",
         "rawType": "datetime64[ns]",
         "type": "datetime"
        },
        {
         "name": "CodigoAgenteComprador",
         "rawType": "object",
         "type": "string"
        },
        {
         "name": "Cantidad",
         "rawType": "float64",
         "type": "float"
        },
        {
         "name": "PPP",
         "rawType": "float64",
         "type": "float"
        }
       ],
       "ref": "85f975ef-6932-4ea4-b6e5-7c1aa475c8f9",
       "rows": [
        [
         "5386",
         "2022-01-01 00:00:00",
         "EDPC",
         "335249.4375",
         "269.4868"
        ],
        [
         "5299",
         "2022-01-01 00:00:00",
         "QIEC",
         "237218.3125",
         "330.3534"
        ],
        [
         "5324",
         "2022-01-01 00:00:00",
         "CMMC",
         "13460179.0",
         "270.048"
        ],
        [
         "5368",
         "2022-01-01 00:00:00",
         "CDSC",
         "7547238.5",
         "231.243"
        ],
        [
         "5418",
         "2022-01-01 00:00:00",
         "NMRC",
         "3486.489990234375",
         "274.6243"
        ],
        [
         "5432",
         "2022-01-01 00:00:00",
         "RTQC",
         "67682.640625",
         "281.5585"
        ],
        [
         "5309",
         "2022-01-01 00:00:00",
         "NRCC",
         "84487.75",
         "236.0207"
        ],
        [
         "5434",
         "2022-01-01 00:00:00",
         "EDQC",
         "708100.0625",
         "237.8033"
        ],
        [
         "5461",
         "2022-01-01 00:00:00",
         "EEPC",
         "686994.875",
         "257.2487"
        ],
        [
         "5380",
         "2022-01-01 00:00:00",
         "ESSC",
         "480000.0",
         "253.9776"
        ],
        [
         "5369",
         "2022-01-01 00:00:00",
         "ENIC",
         "290860.4375",
         "264.4472"
        ],
        [
         "5354",
         "2022-01-01 00:00:00",
         "CETC",
         "342680.125",
         "292.1286"
        ],
        [
         "5401",
         "2022-01-01 00:00:00",
         "ETTC",
         "279144.625",
         "414.0087"
        ],
        [
         "5371",
         "2022-01-01 00:00:00",
         "CMMC",
         "2274296.25",
         "280.4093"
        ],
        [
         "5375",
         "2022-01-01 00:00:00",
         "EMPC",
         "32190.05078125",
         "285.4782"
        ],
        [
         "5395",
         "2022-01-01 00:00:00",
         "EPSC",
         "631942.0",
         "289.172"
        ],
        [
         "5442",
         "2022-01-01 00:00:00",
         "EMIC",
         "4548422.0",
         "289.9298"
        ],
        [
         "5385",
         "2022-01-01 00:00:00",
         "EBPC",
         "204193.203125",
         "273.5142"
        ],
        [
         "5373",
         "2022-01-01 00:00:00",
         "CDNC",
         "1892155.875",
         "260.0959"
        ],
        [
         "5392",
         "2022-01-01 00:00:00",
         "CNSC",
         "2121321.75",
         "236.3658"
        ],
        [
         "5460",
         "2022-01-01 00:00:00",
         "GNCC",
         "1823828.875",
         "268.5212"
        ],
        [
         "5340",
         "2022-01-01 00:00:00",
         "CDSC",
         "5905852.0",
         "284.2638"
        ],
        [
         "5444",
         "2022-01-01 00:00:00",
         "EVSC",
         "36135.0",
         "288.7082"
        ],
        [
         "5414",
         "2022-01-01 00:00:00",
         "EBSC",
         "1829241.375",
         "258.7934"
        ],
        [
         "5440",
         "2022-01-01 00:00:00",
         "CNSC",
         "700938.0",
         "287.2915"
        ],
        [
         "5456",
         "2022-01-01 00:00:00",
         "EMSC",
         "2278669.5",
         "264.0789"
        ],
        [
         "5329",
         "2022-01-01 00:00:00",
         "EGVC",
         "193713.59375",
         "309.319"
        ],
        [
         "5421",
         "2022-01-01 00:00:00",
         "HLAC",
         "1366395.0",
         "262.3526"
        ],
        [
         "5364",
         "2022-01-01 00:00:00",
         "ENIC",
         "526254.0",
         "271.4838"
        ],
        [
         "5326",
         "2022-01-01 00:00:00",
         "DLRC",
         "42357.78125",
         "286.1414"
        ],
        [
         "5314",
         "2022-01-01 00:00:00",
         "CASC",
         "1080665.0",
         "249.3554"
        ],
        [
         "5430",
         "2022-01-01 00:00:00",
         "RTAC",
         "381075.3125",
         "260.6693"
        ],
        [
         "5457",
         "2022-01-01 00:00:00",
         "CQTC",
         "0.0",
         "0.0"
        ],
        [
         "5323",
         "2022-01-01 00:00:00",
         "CSSC",
         "2105717.25",
         "293.6596"
        ],
        [
         "5431",
         "2022-01-01 00:00:00",
         "EMEC",
         "11132.8896484375",
         "242.9371"
        ],
        [
         "5365",
         "2022-01-01 00:00:00",
         "DCLC",
         "478407.9375",
         "266.4674"
        ],
        [
         "5325",
         "2022-01-01 00:00:00",
         "EPMC",
         "10696088.0",
         "238.6593"
        ],
        [
         "5391",
         "2022-01-01 00:00:00",
         "ESSC",
         "3466038.0",
         "241.0987"
        ],
        [
         "5333",
         "2022-01-01 00:00:00",
         "EDPC",
         "199784.53125",
         "254.419"
        ],
        [
         "5367",
         "2022-01-01 00:00:00",
         "CQTC",
         "0.0",
         "0.0"
        ],
        [
         "5464",
         "2022-01-01 00:00:00",
         "CEOC",
         "1439699.625",
         "274.8932"
        ],
        [
         "5409",
         "2022-01-01 00:00:00",
         "CSSC",
         "13736179.0",
         "269.5205"
        ],
        [
         "5422",
         "2022-01-01 00:00:00",
         "EPMC",
         "2104830.5",
         "247.0888"
        ],
        [
         "5404",
         "2022-01-01 00:00:00",
         "ASCC",
         "32687.140625",
         "341.9372"
        ],
        [
         "5334",
         "2022-01-01 00:00:00",
         "CHCC",
         "1602504.75",
         "238.1192"
        ],
        [
         "5416",
         "2022-01-01 00:00:00",
         "EMIC",
         "0.0",
         "0.0"
        ],
        [
         "5469",
         "2022-01-01 00:00:00",
         "EPSC",
         "4326433.0",
         "285.1325"
        ],
        [
         "5319",
         "2022-01-01 00:00:00",
         "EPTC",
         "180645.125",
         "283.5008"
        ],
        [
         "5378",
         "2022-01-01 00:00:00",
         "EEPC",
         "86113.8984375",
         "299.7354"
        ],
        [
         "5125",
         "2022-01-02 00:00:00",
         "NMRC",
         "3310.75",
         "274.6243"
        ]
       ],
       "shape": {
        "columns": 4,
        "rows": 60605
       }
      },
      "text/html": [
       "<div>\n",
       "<style scoped>\n",
       "    .dataframe tbody tr th:only-of-type {\n",
       "        vertical-align: middle;\n",
       "    }\n",
       "\n",
       "    .dataframe tbody tr th {\n",
       "        vertical-align: top;\n",
       "    }\n",
       "\n",
       "    .dataframe thead th {\n",
       "        text-align: right;\n",
       "    }\n",
       "</style>\n",
       "<table border=\"1\" class=\"dataframe\">\n",
       "  <thead>\n",
       "    <tr style=\"text-align: right;\">\n",
       "      <th></th>\n",
       "      <th>Fecha</th>\n",
       "      <th>CodigoAgenteComprador</th>\n",
       "      <th>Cantidad</th>\n",
       "      <th>PPP</th>\n",
       "    </tr>\n",
       "  </thead>\n",
       "  <tbody>\n",
       "    <tr>\n",
       "      <th>5386</th>\n",
       "      <td>2022-01-01</td>\n",
       "      <td>EDPC</td>\n",
       "      <td>3.352494e+05</td>\n",
       "      <td>269.4868</td>\n",
       "    </tr>\n",
       "    <tr>\n",
       "      <th>5299</th>\n",
       "      <td>2022-01-01</td>\n",
       "      <td>QIEC</td>\n",
       "      <td>2.372183e+05</td>\n",
       "      <td>330.3534</td>\n",
       "    </tr>\n",
       "    <tr>\n",
       "      <th>5324</th>\n",
       "      <td>2022-01-01</td>\n",
       "      <td>CMMC</td>\n",
       "      <td>1.346018e+07</td>\n",
       "      <td>270.0480</td>\n",
       "    </tr>\n",
       "    <tr>\n",
       "      <th>5368</th>\n",
       "      <td>2022-01-01</td>\n",
       "      <td>CDSC</td>\n",
       "      <td>7.547238e+06</td>\n",
       "      <td>231.2430</td>\n",
       "    </tr>\n",
       "    <tr>\n",
       "      <th>5418</th>\n",
       "      <td>2022-01-01</td>\n",
       "      <td>NMRC</td>\n",
       "      <td>3.486490e+03</td>\n",
       "      <td>274.6243</td>\n",
       "    </tr>\n",
       "    <tr>\n",
       "      <th>...</th>\n",
       "      <td>...</td>\n",
       "      <td>...</td>\n",
       "      <td>...</td>\n",
       "      <td>...</td>\n",
       "    </tr>\n",
       "    <tr>\n",
       "      <th>279023</th>\n",
       "      <td>2024-12-31</td>\n",
       "      <td>EDPC</td>\n",
       "      <td>3.524595e+05</td>\n",
       "      <td>308.3481</td>\n",
       "    </tr>\n",
       "    <tr>\n",
       "      <th>279339</th>\n",
       "      <td>2024-12-31</td>\n",
       "      <td>NEUC</td>\n",
       "      <td>3.403778e+05</td>\n",
       "      <td>301.6630</td>\n",
       "    </tr>\n",
       "    <tr>\n",
       "      <th>279210</th>\n",
       "      <td>2024-12-31</td>\n",
       "      <td>CNSC</td>\n",
       "      <td>2.204355e+06</td>\n",
       "      <td>304.2154</td>\n",
       "    </tr>\n",
       "    <tr>\n",
       "      <th>279271</th>\n",
       "      <td>2024-12-31</td>\n",
       "      <td>EPMC</td>\n",
       "      <td>7.441588e+06</td>\n",
       "      <td>297.9799</td>\n",
       "    </tr>\n",
       "    <tr>\n",
       "      <th>279133</th>\n",
       "      <td>2024-12-31</td>\n",
       "      <td>EMIC</td>\n",
       "      <td>1.082764e+06</td>\n",
       "      <td>305.3460</td>\n",
       "    </tr>\n",
       "  </tbody>\n",
       "</table>\n",
       "<p>60605 rows × 4 columns</p>\n",
       "</div>"
      ],
      "text/plain": [
       "            Fecha CodigoAgenteComprador      Cantidad       PPP\n",
       "5386   2022-01-01                  EDPC  3.352494e+05  269.4868\n",
       "5299   2022-01-01                  QIEC  2.372183e+05  330.3534\n",
       "5324   2022-01-01                  CMMC  1.346018e+07  270.0480\n",
       "5368   2022-01-01                  CDSC  7.547238e+06  231.2430\n",
       "5418   2022-01-01                  NMRC  3.486490e+03  274.6243\n",
       "...           ...                   ...           ...       ...\n",
       "279023 2024-12-31                  EDPC  3.524595e+05  308.3481\n",
       "279339 2024-12-31                  NEUC  3.403778e+05  301.6630\n",
       "279210 2024-12-31                  CNSC  2.204355e+06  304.2154\n",
       "279271 2024-12-31                  EPMC  7.441588e+06  297.9799\n",
       "279133 2024-12-31                  EMIC  1.082764e+06  305.3460\n",
       "\n",
       "[60605 rows x 4 columns]"
      ]
     },
     "metadata": {},
     "output_type": "display_data"
    }
   ],
   "source": [
    "df_filtrado = df_result[\n",
    "    (df_result['TipoMercado'] == 'Regulado') & \n",
    "    (df_result['Mecanismo'].isin(['SICEP', 'Antes del SICEP']))\n",
    "]                                                           # Filtra el DataFrame para conservar solo las filas donde 'TipoMercado' sea 'Regulado' y 'Mecanismo' esté en ['SICEP', 'Antes del SICEP']\n",
    "\n",
    "df_filtrado = df_filtrado[['Fecha', 'CodigoAgenteComprador','Cantidad', 'PPP']]     # Selecciona únicamente las columnas 'Fecha','CodigoAgenteComprador','Cantidad' y 'PPP' del DataFrame filtrado\n",
    "\n",
    "display(df_filtrado)                                        # Muestra el DataFrame filtrado"
   ]
  },
  {
   "cell_type": "markdown",
   "metadata": {},
   "source": [
    "Luego de seleccionar solamente la información relevante para el análisis. Los pasos a realizar para preparar la información son:\n",
    "- Se realiza el cálculo del Dinero\n",
    "- El calculo del MC se realiza de forma mensual por lo que se procede a realizar la suma por mes de Cantidad y Dinero."
   ]
  },
  {
   "cell_type": "code",
   "execution_count": 6,
   "metadata": {},
   "outputs": [
    {
     "data": {
      "application/vnd.microsoft.datawrangler.viewer.v0+json": {
       "columns": [
        {
         "name": "index",
         "rawType": "int64",
         "type": "integer"
        },
        {
         "name": "Fecha",
         "rawType": "datetime64[ns]",
         "type": "datetime"
        },
        {
         "name": "CodigoAgenteComprador",
         "rawType": "object",
         "type": "string"
        },
        {
         "name": "Cantidad",
         "rawType": "float64",
         "type": "float"
        },
        {
         "name": "PPP",
         "rawType": "float64",
         "type": "float"
        },
        {
         "name": "Dinero",
         "rawType": "float64",
         "type": "float"
        }
       ],
       "ref": "9e58012f-bfcf-4105-8c5f-083264a924cf",
       "rows": [
        [
         "5386",
         "2022-01-01 00:00:00",
         "EDPC",
         "335249.4375",
         "269.4868",
         "90345298.113675"
        ],
        [
         "5299",
         "2022-01-01 00:00:00",
         "QIEC",
         "237218.3125",
         "330.3534",
         "78365876.0766375"
        ],
        [
         "5324",
         "2022-01-01 00:00:00",
         "CMMC",
         "13460179.0",
         "270.048",
         "3634894418.592"
        ],
        [
         "5368",
         "2022-01-01 00:00:00",
         "CDSC",
         "7547238.5",
         "231.243",
         "1745246072.4555"
        ],
        [
         "5418",
         "2022-01-01 00:00:00",
         "NMRC",
         "3486.489990234375",
         "274.6243",
         "957474.8730251221"
        ],
        [
         "5432",
         "2022-01-01 00:00:00",
         "RTQC",
         "67682.640625",
         "281.5585",
         "19056622.77041406"
        ],
        [
         "5309",
         "2022-01-01 00:00:00",
         "NRCC",
         "84487.75",
         "236.0207",
         "19940857.896425"
        ],
        [
         "5434",
         "2022-01-01 00:00:00",
         "EDQC",
         "708100.0625",
         "237.8033",
         "168388531.59270626"
        ],
        [
         "5461",
         "2022-01-01 00:00:00",
         "EEPC",
         "686994.875",
         "257.2487",
         "176728538.5004125"
        ],
        [
         "5380",
         "2022-01-01 00:00:00",
         "ESSC",
         "480000.0",
         "253.9776",
         "121909248.0"
        ],
        [
         "5369",
         "2022-01-01 00:00:00",
         "ENIC",
         "290860.4375",
         "264.4472",
         "76917228.28765"
        ],
        [
         "5354",
         "2022-01-01 00:00:00",
         "CETC",
         "342680.125",
         "292.1286",
         "100106665.164075"
        ],
        [
         "5401",
         "2022-01-01 00:00:00",
         "ETTC",
         "279144.625",
         "414.0087",
         "115568303.3082375"
        ],
        [
         "5371",
         "2022-01-01 00:00:00",
         "CMMC",
         "2274296.25",
         "280.4093",
         "637733819.455125"
        ],
        [
         "5375",
         "2022-01-01 00:00:00",
         "EMPC",
         "32190.05078125",
         "285.4782",
         "9189557.754939845"
        ],
        [
         "5395",
         "2022-01-01 00:00:00",
         "EPSC",
         "631942.0",
         "289.172",
         "182739932.02400002"
        ],
        [
         "5442",
         "2022-01-01 00:00:00",
         "EMIC",
         "4548422.0",
         "289.9298",
         "1318723080.7756"
        ],
        [
         "5385",
         "2022-01-01 00:00:00",
         "EBPC",
         "204193.203125",
         "273.5142",
         "55849740.598171875"
        ],
        [
         "5373",
         "2022-01-01 00:00:00",
         "CDNC",
         "1892155.875",
         "260.0959",
         "492141985.24841243"
        ],
        [
         "5392",
         "2022-01-01 00:00:00",
         "CNSC",
         "2121321.75",
         "236.3658",
         "501407912.49615"
        ],
        [
         "5460",
         "2022-01-01 00:00:00",
         "GNCC",
         "1823828.875",
         "268.5212",
         "489736718.10965"
        ],
        [
         "5340",
         "2022-01-01 00:00:00",
         "CDSC",
         "5905852.0",
         "284.2638",
         "1678819931.7576"
        ],
        [
         "5444",
         "2022-01-01 00:00:00",
         "EVSC",
         "36135.0",
         "288.7082",
         "10432470.807"
        ],
        [
         "5414",
         "2022-01-01 00:00:00",
         "EBSC",
         "1829241.375",
         "258.7934",
         "473395594.856925"
        ],
        [
         "5440",
         "2022-01-01 00:00:00",
         "CNSC",
         "700938.0",
         "287.2915",
         "201373529.427"
        ],
        [
         "5456",
         "2022-01-01 00:00:00",
         "EMSC",
         "2278669.5",
         "264.0789",
         "601748535.0235499"
        ],
        [
         "5329",
         "2022-01-01 00:00:00",
         "EGVC",
         "193713.59375",
         "309.319",
         "59919295.10515625"
        ],
        [
         "5421",
         "2022-01-01 00:00:00",
         "HLAC",
         "1366395.0",
         "262.3526",
         "358477280.877"
        ],
        [
         "5364",
         "2022-01-01 00:00:00",
         "ENIC",
         "526254.0",
         "271.4838",
         "142869435.68519998"
        ],
        [
         "5326",
         "2022-01-01 00:00:00",
         "DLRC",
         "42357.78125",
         "286.1414",
         "12120314.827768749"
        ],
        [
         "5314",
         "2022-01-01 00:00:00",
         "CASC",
         "1080665.0",
         "249.3554",
         "269469653.341"
        ],
        [
         "5430",
         "2022-01-01 00:00:00",
         "RTAC",
         "381075.3125",
         "260.6693",
         "99334634.95665626"
        ],
        [
         "5457",
         "2022-01-01 00:00:00",
         "CQTC",
         "0.0",
         "0.0",
         "0.0"
        ],
        [
         "5323",
         "2022-01-01 00:00:00",
         "CSSC",
         "2105717.25",
         "293.6596",
         "618364085.3481001"
        ],
        [
         "5431",
         "2022-01-01 00:00:00",
         "EMEC",
         "11132.8896484375",
         "242.9371",
         "2704591.925811426"
        ],
        [
         "5365",
         "2022-01-01 00:00:00",
         "DCLC",
         "478407.9375",
         "266.4674",
         "127480119.2449875"
        ],
        [
         "5325",
         "2022-01-01 00:00:00",
         "EPMC",
         "10696088.0",
         "238.6593",
         "2552720874.8184"
        ],
        [
         "5391",
         "2022-01-01 00:00:00",
         "ESSC",
         "3466038.0",
         "241.0987",
         "835657255.9506"
        ],
        [
         "5333",
         "2022-01-01 00:00:00",
         "EDPC",
         "199784.53125",
         "254.419",
         "50828980.656093754"
        ],
        [
         "5367",
         "2022-01-01 00:00:00",
         "CQTC",
         "0.0",
         "0.0",
         "0.0"
        ],
        [
         "5464",
         "2022-01-01 00:00:00",
         "CEOC",
         "1439699.625",
         "274.8932",
         "395763636.95505"
        ],
        [
         "5409",
         "2022-01-01 00:00:00",
         "CSSC",
         "13736179.0",
         "269.5205",
         "3702181832.1695004"
        ],
        [
         "5422",
         "2022-01-01 00:00:00",
         "EPMC",
         "2104830.5",
         "247.0888",
         "520080042.44839996"
        ],
        [
         "5404",
         "2022-01-01 00:00:00",
         "ASCC",
         "32687.140625",
         "341.9372",
         "11176949.34131875"
        ],
        [
         "5334",
         "2022-01-01 00:00:00",
         "CHCC",
         "1602504.75",
         "238.1192",
         "381587149.0662"
        ],
        [
         "5416",
         "2022-01-01 00:00:00",
         "EMIC",
         "0.0",
         "0.0",
         "0.0"
        ],
        [
         "5469",
         "2022-01-01 00:00:00",
         "EPSC",
         "4326433.0",
         "285.1325",
         "1233606657.3725"
        ],
        [
         "5319",
         "2022-01-01 00:00:00",
         "EPTC",
         "180645.125",
         "283.5008",
         "51213037.453600004"
        ],
        [
         "5378",
         "2022-01-01 00:00:00",
         "EEPC",
         "86113.8984375",
         "299.7354",
         "25811383.79372344"
        ],
        [
         "5125",
         "2022-01-02 00:00:00",
         "NMRC",
         "3310.75",
         "274.6243",
         "909212.401225"
        ]
       ],
       "shape": {
        "columns": 5,
        "rows": 60605
       }
      },
      "text/html": [
       "<div>\n",
       "<style scoped>\n",
       "    .dataframe tbody tr th:only-of-type {\n",
       "        vertical-align: middle;\n",
       "    }\n",
       "\n",
       "    .dataframe tbody tr th {\n",
       "        vertical-align: top;\n",
       "    }\n",
       "\n",
       "    .dataframe thead th {\n",
       "        text-align: right;\n",
       "    }\n",
       "</style>\n",
       "<table border=\"1\" class=\"dataframe\">\n",
       "  <thead>\n",
       "    <tr style=\"text-align: right;\">\n",
       "      <th></th>\n",
       "      <th>Fecha</th>\n",
       "      <th>CodigoAgenteComprador</th>\n",
       "      <th>Cantidad</th>\n",
       "      <th>PPP</th>\n",
       "      <th>Dinero</th>\n",
       "    </tr>\n",
       "  </thead>\n",
       "  <tbody>\n",
       "    <tr>\n",
       "      <th>5386</th>\n",
       "      <td>2022-01-01</td>\n",
       "      <td>EDPC</td>\n",
       "      <td>3.352494e+05</td>\n",
       "      <td>269.4868</td>\n",
       "      <td>9.034530e+07</td>\n",
       "    </tr>\n",
       "    <tr>\n",
       "      <th>5299</th>\n",
       "      <td>2022-01-01</td>\n",
       "      <td>QIEC</td>\n",
       "      <td>2.372183e+05</td>\n",
       "      <td>330.3534</td>\n",
       "      <td>7.836588e+07</td>\n",
       "    </tr>\n",
       "    <tr>\n",
       "      <th>5324</th>\n",
       "      <td>2022-01-01</td>\n",
       "      <td>CMMC</td>\n",
       "      <td>1.346018e+07</td>\n",
       "      <td>270.0480</td>\n",
       "      <td>3.634894e+09</td>\n",
       "    </tr>\n",
       "    <tr>\n",
       "      <th>5368</th>\n",
       "      <td>2022-01-01</td>\n",
       "      <td>CDSC</td>\n",
       "      <td>7.547238e+06</td>\n",
       "      <td>231.2430</td>\n",
       "      <td>1.745246e+09</td>\n",
       "    </tr>\n",
       "    <tr>\n",
       "      <th>5418</th>\n",
       "      <td>2022-01-01</td>\n",
       "      <td>NMRC</td>\n",
       "      <td>3.486490e+03</td>\n",
       "      <td>274.6243</td>\n",
       "      <td>9.574749e+05</td>\n",
       "    </tr>\n",
       "    <tr>\n",
       "      <th>...</th>\n",
       "      <td>...</td>\n",
       "      <td>...</td>\n",
       "      <td>...</td>\n",
       "      <td>...</td>\n",
       "      <td>...</td>\n",
       "    </tr>\n",
       "    <tr>\n",
       "      <th>279023</th>\n",
       "      <td>2024-12-31</td>\n",
       "      <td>EDPC</td>\n",
       "      <td>3.524595e+05</td>\n",
       "      <td>308.3481</td>\n",
       "      <td>1.086802e+08</td>\n",
       "    </tr>\n",
       "    <tr>\n",
       "      <th>279339</th>\n",
       "      <td>2024-12-31</td>\n",
       "      <td>NEUC</td>\n",
       "      <td>3.403778e+05</td>\n",
       "      <td>301.6630</td>\n",
       "      <td>1.026794e+08</td>\n",
       "    </tr>\n",
       "    <tr>\n",
       "      <th>279210</th>\n",
       "      <td>2024-12-31</td>\n",
       "      <td>CNSC</td>\n",
       "      <td>2.204355e+06</td>\n",
       "      <td>304.2154</td>\n",
       "      <td>6.705988e+08</td>\n",
       "    </tr>\n",
       "    <tr>\n",
       "      <th>279271</th>\n",
       "      <td>2024-12-31</td>\n",
       "      <td>EPMC</td>\n",
       "      <td>7.441588e+06</td>\n",
       "      <td>297.9799</td>\n",
       "      <td>2.217444e+09</td>\n",
       "    </tr>\n",
       "    <tr>\n",
       "      <th>279133</th>\n",
       "      <td>2024-12-31</td>\n",
       "      <td>EMIC</td>\n",
       "      <td>1.082764e+06</td>\n",
       "      <td>305.3460</td>\n",
       "      <td>3.306177e+08</td>\n",
       "    </tr>\n",
       "  </tbody>\n",
       "</table>\n",
       "<p>60605 rows × 5 columns</p>\n",
       "</div>"
      ],
      "text/plain": [
       "            Fecha CodigoAgenteComprador      Cantidad       PPP        Dinero\n",
       "5386   2022-01-01                  EDPC  3.352494e+05  269.4868  9.034530e+07\n",
       "5299   2022-01-01                  QIEC  2.372183e+05  330.3534  7.836588e+07\n",
       "5324   2022-01-01                  CMMC  1.346018e+07  270.0480  3.634894e+09\n",
       "5368   2022-01-01                  CDSC  7.547238e+06  231.2430  1.745246e+09\n",
       "5418   2022-01-01                  NMRC  3.486490e+03  274.6243  9.574749e+05\n",
       "...           ...                   ...           ...       ...           ...\n",
       "279023 2024-12-31                  EDPC  3.524595e+05  308.3481  1.086802e+08\n",
       "279339 2024-12-31                  NEUC  3.403778e+05  301.6630  1.026794e+08\n",
       "279210 2024-12-31                  CNSC  2.204355e+06  304.2154  6.705988e+08\n",
       "279271 2024-12-31                  EPMC  7.441588e+06  297.9799  2.217444e+09\n",
       "279133 2024-12-31                  EMIC  1.082764e+06  305.3460  3.306177e+08\n",
       "\n",
       "[60605 rows x 5 columns]"
      ]
     },
     "metadata": {},
     "output_type": "display_data"
    }
   ],
   "source": [
    "df_filtrado['Dinero'] = df_filtrado['Cantidad'] * df_filtrado['PPP']   # Crea una nueva columna 'Dinero' calculando el valor total como producto de 'Cantidad' por 'PPP'\n",
    "\n",
    "df_filtrado = df_filtrado[['Fecha', 'CodigoAgenteComprador', 'Cantidad', \n",
    "                           'PPP', 'Dinero']]                           # Reorganiza el DataFrame para conservar solo las columnas 'Fecha','CodigoAgenteComprador','Cantidad','PPP y 'Dinero'\n",
    "\n",
    "display(df_filtrado)                                                   # Muestra el DataFrame actualizado"
   ]
  },
  {
   "cell_type": "code",
   "execution_count": 7,
   "metadata": {},
   "outputs": [
    {
     "data": {
      "application/vnd.microsoft.datawrangler.viewer.v0+json": {
       "columns": [
        {
         "name": "index",
         "rawType": "int64",
         "type": "integer"
        },
        {
         "name": "Fecha",
         "rawType": "datetime64[ns]",
         "type": "datetime"
        },
        {
         "name": "Cantidad",
         "rawType": "float64",
         "type": "float"
        },
        {
         "name": "Dinero",
         "rawType": "float64",
         "type": "float"
        }
       ],
       "ref": "1b77e329-1f2a-462d-bc96-333a79f03a97",
       "rows": [
        [
         "0",
         "2022-01-01 00:00:00",
         "3106836623.9299316",
         "820663827188.3175"
        ],
        [
         "1",
         "2022-02-01 00:00:00",
         "2827535897.38501",
         "771131671737.9127"
        ],
        [
         "2",
         "2022-03-01 00:00:00",
         "3152220882.911133",
         "873922503369.2076"
        ],
        [
         "3",
         "2022-04-01 00:00:00",
         "3119875898.5185547",
         "879589602936.0742"
        ],
        [
         "4",
         "2022-05-01 00:00:00",
         "3386336835.2875977",
         "974499289617.0101"
        ],
        [
         "5",
         "2022-06-01 00:00:00",
         "3319013315.7160645",
         "957011182141.7766"
        ],
        [
         "6",
         "2022-07-01 00:00:00",
         "3385387050.1865234",
         "996470980544.0477"
        ],
        [
         "7",
         "2022-08-01 00:00:00",
         "3358022990.2368164",
         "985797288973.631"
        ],
        [
         "8",
         "2022-09-01 00:00:00",
         "3399393739.770996",
         "999346045031.959"
        ],
        [
         "9",
         "2022-10-01 00:00:00",
         "3535560411.0273438",
         "1021018276742.8298"
        ],
        [
         "10",
         "2022-11-01 00:00:00",
         "3464838453.1352844",
         "998675489921.9359"
        ],
        [
         "11",
         "2022-12-01 00:00:00",
         "3223038223.5749664",
         "932873895375.7715"
        ],
        [
         "12",
         "2023-01-01 00:00:00",
         "2909742938.5351562",
         "839831976001.2754"
        ],
        [
         "13",
         "2023-02-01 00:00:00",
         "2687498939.357422",
         "790427825550.4631"
        ],
        [
         "14",
         "2023-03-01 00:00:00",
         "2953394508.873047",
         "860840890976.1259"
        ],
        [
         "15",
         "2023-04-01 00:00:00",
         "2866065037.4785156",
         "828119709575.65"
        ],
        [
         "16",
         "2023-05-01 00:00:00",
         "3047226403.220703",
         "882735361368.7327"
        ],
        [
         "17",
         "2023-06-01 00:00:00",
         "3004575492.3847656",
         "860403655591.8793"
        ],
        [
         "18",
         "2023-07-01 00:00:00",
         "3176227578.1591797",
         "906161708239.9055"
        ],
        [
         "19",
         "2023-08-01 00:00:00",
         "3185349726.0058594",
         "920102809149.8423"
        ],
        [
         "20",
         "2023-09-01 00:00:00",
         "3177571663.201172",
         "931921100007.6256"
        ],
        [
         "21",
         "2023-10-01 00:00:00",
         "3237522971.616211",
         "957029678665.8903"
        ],
        [
         "22",
         "2023-11-01 00:00:00",
         "3220824020.5527344",
         "931069189659.3748"
        ],
        [
         "23",
         "2023-12-01 00:00:00",
         "3012591575.6711426",
         "871850064124.1388"
        ],
        [
         "24",
         "2024-01-01 00:00:00",
         "3101210948.9726562",
         "909357710490.7676"
        ],
        [
         "25",
         "2024-02-01 00:00:00",
         "2922162330.6445312",
         "862338115008.5713"
        ],
        [
         "26",
         "2024-03-01 00:00:00",
         "3232811966.814453",
         "1001404901234.911"
        ],
        [
         "27",
         "2024-04-01 00:00:00",
         "3179972579.1992188",
         "995051429828.3442"
        ],
        [
         "28",
         "2024-05-01 00:00:00",
         "3389156663.4785156",
         "1045259008715.2866"
        ],
        [
         "29",
         "2024-06-01 00:00:00",
         "3363333636.63916",
         "1050944386832.2501"
        ],
        [
         "30",
         "2024-07-01 00:00:00",
         "3537844220.1220703",
         "1107142762861.7576"
        ],
        [
         "31",
         "2024-08-01 00:00:00",
         "3470062101.0490723",
         "1062719633577.6008"
        ],
        [
         "32",
         "2024-09-01 00:00:00",
         "3295765331.873047",
         "1034478694194.6101"
        ],
        [
         "33",
         "2024-10-01 00:00:00",
         "3300439366.927246",
         "1035337637127.7535"
        ],
        [
         "34",
         "2024-11-01 00:00:00",
         "3200317452.631836",
         "1000947145801.0691"
        ],
        [
         "35",
         "2024-12-01 00:00:00",
         "3174375849.258789",
         "986658795044.6958"
        ]
       ],
       "shape": {
        "columns": 3,
        "rows": 36
       }
      },
      "text/html": [
       "<div>\n",
       "<style scoped>\n",
       "    .dataframe tbody tr th:only-of-type {\n",
       "        vertical-align: middle;\n",
       "    }\n",
       "\n",
       "    .dataframe tbody tr th {\n",
       "        vertical-align: top;\n",
       "    }\n",
       "\n",
       "    .dataframe thead th {\n",
       "        text-align: right;\n",
       "    }\n",
       "</style>\n",
       "<table border=\"1\" class=\"dataframe\">\n",
       "  <thead>\n",
       "    <tr style=\"text-align: right;\">\n",
       "      <th></th>\n",
       "      <th>Fecha</th>\n",
       "      <th>Cantidad</th>\n",
       "      <th>Dinero</th>\n",
       "    </tr>\n",
       "  </thead>\n",
       "  <tbody>\n",
       "    <tr>\n",
       "      <th>0</th>\n",
       "      <td>2022-01-01</td>\n",
       "      <td>3.106837e+09</td>\n",
       "      <td>8.206638e+11</td>\n",
       "    </tr>\n",
       "    <tr>\n",
       "      <th>1</th>\n",
       "      <td>2022-02-01</td>\n",
       "      <td>2.827536e+09</td>\n",
       "      <td>7.711317e+11</td>\n",
       "    </tr>\n",
       "    <tr>\n",
       "      <th>2</th>\n",
       "      <td>2022-03-01</td>\n",
       "      <td>3.152221e+09</td>\n",
       "      <td>8.739225e+11</td>\n",
       "    </tr>\n",
       "    <tr>\n",
       "      <th>3</th>\n",
       "      <td>2022-04-01</td>\n",
       "      <td>3.119876e+09</td>\n",
       "      <td>8.795896e+11</td>\n",
       "    </tr>\n",
       "    <tr>\n",
       "      <th>4</th>\n",
       "      <td>2022-05-01</td>\n",
       "      <td>3.386337e+09</td>\n",
       "      <td>9.744993e+11</td>\n",
       "    </tr>\n",
       "    <tr>\n",
       "      <th>5</th>\n",
       "      <td>2022-06-01</td>\n",
       "      <td>3.319013e+09</td>\n",
       "      <td>9.570112e+11</td>\n",
       "    </tr>\n",
       "    <tr>\n",
       "      <th>6</th>\n",
       "      <td>2022-07-01</td>\n",
       "      <td>3.385387e+09</td>\n",
       "      <td>9.964710e+11</td>\n",
       "    </tr>\n",
       "    <tr>\n",
       "      <th>7</th>\n",
       "      <td>2022-08-01</td>\n",
       "      <td>3.358023e+09</td>\n",
       "      <td>9.857973e+11</td>\n",
       "    </tr>\n",
       "    <tr>\n",
       "      <th>8</th>\n",
       "      <td>2022-09-01</td>\n",
       "      <td>3.399394e+09</td>\n",
       "      <td>9.993460e+11</td>\n",
       "    </tr>\n",
       "    <tr>\n",
       "      <th>9</th>\n",
       "      <td>2022-10-01</td>\n",
       "      <td>3.535560e+09</td>\n",
       "      <td>1.021018e+12</td>\n",
       "    </tr>\n",
       "    <tr>\n",
       "      <th>10</th>\n",
       "      <td>2022-11-01</td>\n",
       "      <td>3.464838e+09</td>\n",
       "      <td>9.986755e+11</td>\n",
       "    </tr>\n",
       "    <tr>\n",
       "      <th>11</th>\n",
       "      <td>2022-12-01</td>\n",
       "      <td>3.223038e+09</td>\n",
       "      <td>9.328739e+11</td>\n",
       "    </tr>\n",
       "    <tr>\n",
       "      <th>12</th>\n",
       "      <td>2023-01-01</td>\n",
       "      <td>2.909743e+09</td>\n",
       "      <td>8.398320e+11</td>\n",
       "    </tr>\n",
       "    <tr>\n",
       "      <th>13</th>\n",
       "      <td>2023-02-01</td>\n",
       "      <td>2.687499e+09</td>\n",
       "      <td>7.904278e+11</td>\n",
       "    </tr>\n",
       "    <tr>\n",
       "      <th>14</th>\n",
       "      <td>2023-03-01</td>\n",
       "      <td>2.953395e+09</td>\n",
       "      <td>8.608409e+11</td>\n",
       "    </tr>\n",
       "    <tr>\n",
       "      <th>15</th>\n",
       "      <td>2023-04-01</td>\n",
       "      <td>2.866065e+09</td>\n",
       "      <td>8.281197e+11</td>\n",
       "    </tr>\n",
       "    <tr>\n",
       "      <th>16</th>\n",
       "      <td>2023-05-01</td>\n",
       "      <td>3.047226e+09</td>\n",
       "      <td>8.827354e+11</td>\n",
       "    </tr>\n",
       "    <tr>\n",
       "      <th>17</th>\n",
       "      <td>2023-06-01</td>\n",
       "      <td>3.004575e+09</td>\n",
       "      <td>8.604037e+11</td>\n",
       "    </tr>\n",
       "    <tr>\n",
       "      <th>18</th>\n",
       "      <td>2023-07-01</td>\n",
       "      <td>3.176228e+09</td>\n",
       "      <td>9.061617e+11</td>\n",
       "    </tr>\n",
       "    <tr>\n",
       "      <th>19</th>\n",
       "      <td>2023-08-01</td>\n",
       "      <td>3.185350e+09</td>\n",
       "      <td>9.201028e+11</td>\n",
       "    </tr>\n",
       "    <tr>\n",
       "      <th>20</th>\n",
       "      <td>2023-09-01</td>\n",
       "      <td>3.177572e+09</td>\n",
       "      <td>9.319211e+11</td>\n",
       "    </tr>\n",
       "    <tr>\n",
       "      <th>21</th>\n",
       "      <td>2023-10-01</td>\n",
       "      <td>3.237523e+09</td>\n",
       "      <td>9.570297e+11</td>\n",
       "    </tr>\n",
       "    <tr>\n",
       "      <th>22</th>\n",
       "      <td>2023-11-01</td>\n",
       "      <td>3.220824e+09</td>\n",
       "      <td>9.310692e+11</td>\n",
       "    </tr>\n",
       "    <tr>\n",
       "      <th>23</th>\n",
       "      <td>2023-12-01</td>\n",
       "      <td>3.012592e+09</td>\n",
       "      <td>8.718501e+11</td>\n",
       "    </tr>\n",
       "    <tr>\n",
       "      <th>24</th>\n",
       "      <td>2024-01-01</td>\n",
       "      <td>3.101211e+09</td>\n",
       "      <td>9.093577e+11</td>\n",
       "    </tr>\n",
       "    <tr>\n",
       "      <th>25</th>\n",
       "      <td>2024-02-01</td>\n",
       "      <td>2.922162e+09</td>\n",
       "      <td>8.623381e+11</td>\n",
       "    </tr>\n",
       "    <tr>\n",
       "      <th>26</th>\n",
       "      <td>2024-03-01</td>\n",
       "      <td>3.232812e+09</td>\n",
       "      <td>1.001405e+12</td>\n",
       "    </tr>\n",
       "    <tr>\n",
       "      <th>27</th>\n",
       "      <td>2024-04-01</td>\n",
       "      <td>3.179973e+09</td>\n",
       "      <td>9.950514e+11</td>\n",
       "    </tr>\n",
       "    <tr>\n",
       "      <th>28</th>\n",
       "      <td>2024-05-01</td>\n",
       "      <td>3.389157e+09</td>\n",
       "      <td>1.045259e+12</td>\n",
       "    </tr>\n",
       "    <tr>\n",
       "      <th>29</th>\n",
       "      <td>2024-06-01</td>\n",
       "      <td>3.363334e+09</td>\n",
       "      <td>1.050944e+12</td>\n",
       "    </tr>\n",
       "    <tr>\n",
       "      <th>30</th>\n",
       "      <td>2024-07-01</td>\n",
       "      <td>3.537844e+09</td>\n",
       "      <td>1.107143e+12</td>\n",
       "    </tr>\n",
       "    <tr>\n",
       "      <th>31</th>\n",
       "      <td>2024-08-01</td>\n",
       "      <td>3.470062e+09</td>\n",
       "      <td>1.062720e+12</td>\n",
       "    </tr>\n",
       "    <tr>\n",
       "      <th>32</th>\n",
       "      <td>2024-09-01</td>\n",
       "      <td>3.295765e+09</td>\n",
       "      <td>1.034479e+12</td>\n",
       "    </tr>\n",
       "    <tr>\n",
       "      <th>33</th>\n",
       "      <td>2024-10-01</td>\n",
       "      <td>3.300439e+09</td>\n",
       "      <td>1.035338e+12</td>\n",
       "    </tr>\n",
       "    <tr>\n",
       "      <th>34</th>\n",
       "      <td>2024-11-01</td>\n",
       "      <td>3.200317e+09</td>\n",
       "      <td>1.000947e+12</td>\n",
       "    </tr>\n",
       "    <tr>\n",
       "      <th>35</th>\n",
       "      <td>2024-12-01</td>\n",
       "      <td>3.174376e+09</td>\n",
       "      <td>9.866588e+11</td>\n",
       "    </tr>\n",
       "  </tbody>\n",
       "</table>\n",
       "</div>"
      ],
      "text/plain": [
       "        Fecha      Cantidad        Dinero\n",
       "0  2022-01-01  3.106837e+09  8.206638e+11\n",
       "1  2022-02-01  2.827536e+09  7.711317e+11\n",
       "2  2022-03-01  3.152221e+09  8.739225e+11\n",
       "3  2022-04-01  3.119876e+09  8.795896e+11\n",
       "4  2022-05-01  3.386337e+09  9.744993e+11\n",
       "5  2022-06-01  3.319013e+09  9.570112e+11\n",
       "6  2022-07-01  3.385387e+09  9.964710e+11\n",
       "7  2022-08-01  3.358023e+09  9.857973e+11\n",
       "8  2022-09-01  3.399394e+09  9.993460e+11\n",
       "9  2022-10-01  3.535560e+09  1.021018e+12\n",
       "10 2022-11-01  3.464838e+09  9.986755e+11\n",
       "11 2022-12-01  3.223038e+09  9.328739e+11\n",
       "12 2023-01-01  2.909743e+09  8.398320e+11\n",
       "13 2023-02-01  2.687499e+09  7.904278e+11\n",
       "14 2023-03-01  2.953395e+09  8.608409e+11\n",
       "15 2023-04-01  2.866065e+09  8.281197e+11\n",
       "16 2023-05-01  3.047226e+09  8.827354e+11\n",
       "17 2023-06-01  3.004575e+09  8.604037e+11\n",
       "18 2023-07-01  3.176228e+09  9.061617e+11\n",
       "19 2023-08-01  3.185350e+09  9.201028e+11\n",
       "20 2023-09-01  3.177572e+09  9.319211e+11\n",
       "21 2023-10-01  3.237523e+09  9.570297e+11\n",
       "22 2023-11-01  3.220824e+09  9.310692e+11\n",
       "23 2023-12-01  3.012592e+09  8.718501e+11\n",
       "24 2024-01-01  3.101211e+09  9.093577e+11\n",
       "25 2024-02-01  2.922162e+09  8.623381e+11\n",
       "26 2024-03-01  3.232812e+09  1.001405e+12\n",
       "27 2024-04-01  3.179973e+09  9.950514e+11\n",
       "28 2024-05-01  3.389157e+09  1.045259e+12\n",
       "29 2024-06-01  3.363334e+09  1.050944e+12\n",
       "30 2024-07-01  3.537844e+09  1.107143e+12\n",
       "31 2024-08-01  3.470062e+09  1.062720e+12\n",
       "32 2024-09-01  3.295765e+09  1.034479e+12\n",
       "33 2024-10-01  3.300439e+09  1.035338e+12\n",
       "34 2024-11-01  3.200317e+09  1.000947e+12\n",
       "35 2024-12-01  3.174376e+09  9.866588e+11"
      ]
     },
     "execution_count": 7,
     "metadata": {},
     "output_type": "execute_result"
    }
   ],
   "source": [
    "df_resumen = df_filtrado.groupby(df_filtrado['Fecha'].dt.to_period('M')).agg({    # Agrupa el DataFrame por 'Periodo' (mes)\n",
    "    'Cantidad': 'sum',                                                            # Suma total de la columna 'Cantidad' por grupo\n",
    "    'Dinero': 'sum'                                                               # Suma total de la columna 'Dinero' por grupo\n",
    "}).reset_index()                                                                  # Reinicia el índice para que 'Periodo' y 'CodigoAgenteComprador' vuelvan a ser columnas normales\n",
    "                  \n",
    "df_resumen['Fecha'] = df_resumen['Fecha'].dt.to_timestamp()                       # Convierte la columna 'Periodo' de tipo Period (mensual) a tipo Timestamp (fecha)\n",
    "\n",
    "df_resumen                                                                        # Muestra el DataFrame resultante"
   ]
  },
  {
   "cell_type": "markdown",
   "metadata": {},
   "source": [
    "<a id='section5'></a>\n",
    "# 5. Análisis para dar respuesta al caso de uso"
   ]
  },
  {
   "cell_type": "markdown",
   "metadata": {},
   "source": [
    "Ahora se realiza el cálculo del MC por mes, el cual es Dinero/Cantidad"
   ]
  },
  {
   "cell_type": "code",
   "execution_count": 8,
   "metadata": {},
   "outputs": [
    {
     "data": {
      "application/vnd.microsoft.datawrangler.viewer.v0+json": {
       "columns": [
        {
         "name": "index",
         "rawType": "int64",
         "type": "integer"
        },
        {
         "name": "Fecha",
         "rawType": "datetime64[ns]",
         "type": "datetime"
        },
        {
         "name": "Cantidad",
         "rawType": "float64",
         "type": "float"
        },
        {
         "name": "Dinero",
         "rawType": "float64",
         "type": "float"
        },
        {
         "name": "MC",
         "rawType": "float64",
         "type": "float"
        }
       ],
       "ref": "6ed2deee-ee19-494e-a451-ca3ca019d40c",
       "rows": [
        [
         "0",
         "2022-01-01 00:00:00",
         "3106836623.9299316",
         "820663827188.3175",
         "264.14772533170253"
        ],
        [
         "1",
         "2022-02-01 00:00:00",
         "2827535897.38501",
         "771131671737.9127",
         "272.7221509198445"
        ],
        [
         "2",
         "2022-03-01 00:00:00",
         "3152220882.911133",
         "873922503369.2076",
         "277.24024928168245"
        ],
        [
         "3",
         "2022-04-01 00:00:00",
         "3119875898.5185547",
         "879589602936.0742",
         "281.93095864926534"
        ],
        [
         "4",
         "2022-05-01 00:00:00",
         "3386336835.2875977",
         "974499289617.0101",
         "287.7738798639761"
        ],
        [
         "5",
         "2022-06-01 00:00:00",
         "3319013315.7160645",
         "957011182141.7766",
         "288.3420737151532"
        ],
        [
         "6",
         "2022-07-01 00:00:00",
         "3385387050.1865234",
         "996470980544.0477",
         "294.3447723323528"
        ],
        [
         "7",
         "2022-08-01 00:00:00",
         "3358022990.2368164",
         "985797288973.631",
         "293.5647825639544"
        ],
        [
         "8",
         "2022-09-01 00:00:00",
         "3399393739.770996",
         "999346045031.959",
         "293.9777270694395"
        ],
        [
         "9",
         "2022-10-01 00:00:00",
         "3535560411.0273438",
         "1021018276742.8298",
         "288.78541392145183"
        ],
        [
         "10",
         "2022-11-01 00:00:00",
         "3464838453.1352844",
         "998675489921.9359",
         "288.23147267320593"
        ],
        [
         "11",
         "2022-12-01 00:00:00",
         "3223038223.5749664",
         "932873895375.7715",
         "289.4392900935055"
        ],
        [
         "12",
         "2023-01-01 00:00:00",
         "2909742938.5351562",
         "839831976001.2754",
         "288.62755017942226"
        ],
        [
         "13",
         "2023-02-01 00:00:00",
         "2687498939.357422",
         "790427825550.4631",
         "294.1127953484713"
        ],
        [
         "14",
         "2023-03-01 00:00:00",
         "2953394508.873047",
         "860840890976.1259",
         "291.4750766922109"
        ],
        [
         "15",
         "2023-04-01 00:00:00",
         "2866065037.4785156",
         "828119709575.65",
         "288.9396083991893"
        ],
        [
         "16",
         "2023-05-01 00:00:00",
         "3047226403.220703",
         "882735361368.7327",
         "289.68486241644"
        ],
        [
         "17",
         "2023-06-01 00:00:00",
         "3004575492.3847656",
         "860403655591.8793",
         "286.3644657199035"
        ],
        [
         "18",
         "2023-07-01 00:00:00",
         "3176227578.1591797",
         "906161708239.9055",
         "285.2949563409692"
        ],
        [
         "19",
         "2023-08-01 00:00:00",
         "3185349726.0058594",
         "920102809149.8423",
         "288.8545648968875"
        ],
        [
         "20",
         "2023-09-01 00:00:00",
         "3177571663.201172",
         "931921100007.6256",
         "293.28090717827683"
        ],
        [
         "21",
         "2023-10-01 00:00:00",
         "3237522971.616211",
         "957029678665.8903",
         "295.60552529087676"
        ],
        [
         "22",
         "2023-11-01 00:00:00",
         "3220824020.5527344",
         "931069189659.3748",
         "289.0779451836029"
        ],
        [
         "23",
         "2023-12-01 00:00:00",
         "3012591575.6711426",
         "871850064124.1388",
         "289.4020122624517"
        ],
        [
         "24",
         "2024-01-01 00:00:00",
         "3101210948.9726562",
         "909357710490.7676",
         "293.2266541855246"
        ],
        [
         "25",
         "2024-02-01 00:00:00",
         "2922162330.6445312",
         "862338115008.5713",
         "295.10274154357757"
        ],
        [
         "26",
         "2024-03-01 00:00:00",
         "3232811966.814453",
         "1001404901234.911",
         "309.7628044917425"
        ],
        [
         "27",
         "2024-04-01 00:00:00",
         "3179972579.1992188",
         "995051429828.3442",
         "312.9119528693918"
        ],
        [
         "28",
         "2024-05-01 00:00:00",
         "3389156663.4785156",
         "1045259008715.2866",
         "308.41271516863674"
        ],
        [
         "29",
         "2024-06-01 00:00:00",
         "3363333636.63916",
         "1050944386832.2501",
         "312.4710481837345"
        ],
        [
         "30",
         "2024-07-01 00:00:00",
         "3537844220.1220703",
         "1107142762861.7576",
         "312.94276796154594"
        ],
        [
         "31",
         "2024-08-01 00:00:00",
         "3470062101.0490723",
         "1062719633577.6008",
         "306.2537795091098"
        ],
        [
         "32",
         "2024-09-01 00:00:00",
         "3295765331.873047",
         "1034478694194.6101",
         "313.8811747882232"
        ],
        [
         "33",
         "2024-10-01 00:00:00",
         "3300439366.927246",
         "1035337637127.7535",
         "313.696911842276"
        ],
        [
         "34",
         "2024-11-01 00:00:00",
         "3200317452.631836",
         "1000947145801.0691",
         "312.7649555446204"
        ],
        [
         "35",
         "2024-12-01 00:00:00",
         "3174375849.258789",
         "986658795044.6958",
         "310.81977746115945"
        ]
       ],
       "shape": {
        "columns": 4,
        "rows": 36
       }
      },
      "text/html": [
       "<div>\n",
       "<style scoped>\n",
       "    .dataframe tbody tr th:only-of-type {\n",
       "        vertical-align: middle;\n",
       "    }\n",
       "\n",
       "    .dataframe tbody tr th {\n",
       "        vertical-align: top;\n",
       "    }\n",
       "\n",
       "    .dataframe thead th {\n",
       "        text-align: right;\n",
       "    }\n",
       "</style>\n",
       "<table border=\"1\" class=\"dataframe\">\n",
       "  <thead>\n",
       "    <tr style=\"text-align: right;\">\n",
       "      <th></th>\n",
       "      <th>Fecha</th>\n",
       "      <th>Cantidad</th>\n",
       "      <th>Dinero</th>\n",
       "      <th>MC</th>\n",
       "    </tr>\n",
       "  </thead>\n",
       "  <tbody>\n",
       "    <tr>\n",
       "      <th>0</th>\n",
       "      <td>2022-01-01</td>\n",
       "      <td>3.106837e+09</td>\n",
       "      <td>8.206638e+11</td>\n",
       "      <td>264.147725</td>\n",
       "    </tr>\n",
       "    <tr>\n",
       "      <th>1</th>\n",
       "      <td>2022-02-01</td>\n",
       "      <td>2.827536e+09</td>\n",
       "      <td>7.711317e+11</td>\n",
       "      <td>272.722151</td>\n",
       "    </tr>\n",
       "    <tr>\n",
       "      <th>2</th>\n",
       "      <td>2022-03-01</td>\n",
       "      <td>3.152221e+09</td>\n",
       "      <td>8.739225e+11</td>\n",
       "      <td>277.240249</td>\n",
       "    </tr>\n",
       "    <tr>\n",
       "      <th>3</th>\n",
       "      <td>2022-04-01</td>\n",
       "      <td>3.119876e+09</td>\n",
       "      <td>8.795896e+11</td>\n",
       "      <td>281.930959</td>\n",
       "    </tr>\n",
       "    <tr>\n",
       "      <th>4</th>\n",
       "      <td>2022-05-01</td>\n",
       "      <td>3.386337e+09</td>\n",
       "      <td>9.744993e+11</td>\n",
       "      <td>287.773880</td>\n",
       "    </tr>\n",
       "    <tr>\n",
       "      <th>5</th>\n",
       "      <td>2022-06-01</td>\n",
       "      <td>3.319013e+09</td>\n",
       "      <td>9.570112e+11</td>\n",
       "      <td>288.342074</td>\n",
       "    </tr>\n",
       "    <tr>\n",
       "      <th>6</th>\n",
       "      <td>2022-07-01</td>\n",
       "      <td>3.385387e+09</td>\n",
       "      <td>9.964710e+11</td>\n",
       "      <td>294.344772</td>\n",
       "    </tr>\n",
       "    <tr>\n",
       "      <th>7</th>\n",
       "      <td>2022-08-01</td>\n",
       "      <td>3.358023e+09</td>\n",
       "      <td>9.857973e+11</td>\n",
       "      <td>293.564783</td>\n",
       "    </tr>\n",
       "    <tr>\n",
       "      <th>8</th>\n",
       "      <td>2022-09-01</td>\n",
       "      <td>3.399394e+09</td>\n",
       "      <td>9.993460e+11</td>\n",
       "      <td>293.977727</td>\n",
       "    </tr>\n",
       "    <tr>\n",
       "      <th>9</th>\n",
       "      <td>2022-10-01</td>\n",
       "      <td>3.535560e+09</td>\n",
       "      <td>1.021018e+12</td>\n",
       "      <td>288.785414</td>\n",
       "    </tr>\n",
       "    <tr>\n",
       "      <th>10</th>\n",
       "      <td>2022-11-01</td>\n",
       "      <td>3.464838e+09</td>\n",
       "      <td>9.986755e+11</td>\n",
       "      <td>288.231473</td>\n",
       "    </tr>\n",
       "    <tr>\n",
       "      <th>11</th>\n",
       "      <td>2022-12-01</td>\n",
       "      <td>3.223038e+09</td>\n",
       "      <td>9.328739e+11</td>\n",
       "      <td>289.439290</td>\n",
       "    </tr>\n",
       "    <tr>\n",
       "      <th>12</th>\n",
       "      <td>2023-01-01</td>\n",
       "      <td>2.909743e+09</td>\n",
       "      <td>8.398320e+11</td>\n",
       "      <td>288.627550</td>\n",
       "    </tr>\n",
       "    <tr>\n",
       "      <th>13</th>\n",
       "      <td>2023-02-01</td>\n",
       "      <td>2.687499e+09</td>\n",
       "      <td>7.904278e+11</td>\n",
       "      <td>294.112795</td>\n",
       "    </tr>\n",
       "    <tr>\n",
       "      <th>14</th>\n",
       "      <td>2023-03-01</td>\n",
       "      <td>2.953395e+09</td>\n",
       "      <td>8.608409e+11</td>\n",
       "      <td>291.475077</td>\n",
       "    </tr>\n",
       "    <tr>\n",
       "      <th>15</th>\n",
       "      <td>2023-04-01</td>\n",
       "      <td>2.866065e+09</td>\n",
       "      <td>8.281197e+11</td>\n",
       "      <td>288.939608</td>\n",
       "    </tr>\n",
       "    <tr>\n",
       "      <th>16</th>\n",
       "      <td>2023-05-01</td>\n",
       "      <td>3.047226e+09</td>\n",
       "      <td>8.827354e+11</td>\n",
       "      <td>289.684862</td>\n",
       "    </tr>\n",
       "    <tr>\n",
       "      <th>17</th>\n",
       "      <td>2023-06-01</td>\n",
       "      <td>3.004575e+09</td>\n",
       "      <td>8.604037e+11</td>\n",
       "      <td>286.364466</td>\n",
       "    </tr>\n",
       "    <tr>\n",
       "      <th>18</th>\n",
       "      <td>2023-07-01</td>\n",
       "      <td>3.176228e+09</td>\n",
       "      <td>9.061617e+11</td>\n",
       "      <td>285.294956</td>\n",
       "    </tr>\n",
       "    <tr>\n",
       "      <th>19</th>\n",
       "      <td>2023-08-01</td>\n",
       "      <td>3.185350e+09</td>\n",
       "      <td>9.201028e+11</td>\n",
       "      <td>288.854565</td>\n",
       "    </tr>\n",
       "    <tr>\n",
       "      <th>20</th>\n",
       "      <td>2023-09-01</td>\n",
       "      <td>3.177572e+09</td>\n",
       "      <td>9.319211e+11</td>\n",
       "      <td>293.280907</td>\n",
       "    </tr>\n",
       "    <tr>\n",
       "      <th>21</th>\n",
       "      <td>2023-10-01</td>\n",
       "      <td>3.237523e+09</td>\n",
       "      <td>9.570297e+11</td>\n",
       "      <td>295.605525</td>\n",
       "    </tr>\n",
       "    <tr>\n",
       "      <th>22</th>\n",
       "      <td>2023-11-01</td>\n",
       "      <td>3.220824e+09</td>\n",
       "      <td>9.310692e+11</td>\n",
       "      <td>289.077945</td>\n",
       "    </tr>\n",
       "    <tr>\n",
       "      <th>23</th>\n",
       "      <td>2023-12-01</td>\n",
       "      <td>3.012592e+09</td>\n",
       "      <td>8.718501e+11</td>\n",
       "      <td>289.402012</td>\n",
       "    </tr>\n",
       "    <tr>\n",
       "      <th>24</th>\n",
       "      <td>2024-01-01</td>\n",
       "      <td>3.101211e+09</td>\n",
       "      <td>9.093577e+11</td>\n",
       "      <td>293.226654</td>\n",
       "    </tr>\n",
       "    <tr>\n",
       "      <th>25</th>\n",
       "      <td>2024-02-01</td>\n",
       "      <td>2.922162e+09</td>\n",
       "      <td>8.623381e+11</td>\n",
       "      <td>295.102742</td>\n",
       "    </tr>\n",
       "    <tr>\n",
       "      <th>26</th>\n",
       "      <td>2024-03-01</td>\n",
       "      <td>3.232812e+09</td>\n",
       "      <td>1.001405e+12</td>\n",
       "      <td>309.762804</td>\n",
       "    </tr>\n",
       "    <tr>\n",
       "      <th>27</th>\n",
       "      <td>2024-04-01</td>\n",
       "      <td>3.179973e+09</td>\n",
       "      <td>9.950514e+11</td>\n",
       "      <td>312.911953</td>\n",
       "    </tr>\n",
       "    <tr>\n",
       "      <th>28</th>\n",
       "      <td>2024-05-01</td>\n",
       "      <td>3.389157e+09</td>\n",
       "      <td>1.045259e+12</td>\n",
       "      <td>308.412715</td>\n",
       "    </tr>\n",
       "    <tr>\n",
       "      <th>29</th>\n",
       "      <td>2024-06-01</td>\n",
       "      <td>3.363334e+09</td>\n",
       "      <td>1.050944e+12</td>\n",
       "      <td>312.471048</td>\n",
       "    </tr>\n",
       "    <tr>\n",
       "      <th>30</th>\n",
       "      <td>2024-07-01</td>\n",
       "      <td>3.537844e+09</td>\n",
       "      <td>1.107143e+12</td>\n",
       "      <td>312.942768</td>\n",
       "    </tr>\n",
       "    <tr>\n",
       "      <th>31</th>\n",
       "      <td>2024-08-01</td>\n",
       "      <td>3.470062e+09</td>\n",
       "      <td>1.062720e+12</td>\n",
       "      <td>306.253780</td>\n",
       "    </tr>\n",
       "    <tr>\n",
       "      <th>32</th>\n",
       "      <td>2024-09-01</td>\n",
       "      <td>3.295765e+09</td>\n",
       "      <td>1.034479e+12</td>\n",
       "      <td>313.881175</td>\n",
       "    </tr>\n",
       "    <tr>\n",
       "      <th>33</th>\n",
       "      <td>2024-10-01</td>\n",
       "      <td>3.300439e+09</td>\n",
       "      <td>1.035338e+12</td>\n",
       "      <td>313.696912</td>\n",
       "    </tr>\n",
       "    <tr>\n",
       "      <th>34</th>\n",
       "      <td>2024-11-01</td>\n",
       "      <td>3.200317e+09</td>\n",
       "      <td>1.000947e+12</td>\n",
       "      <td>312.764956</td>\n",
       "    </tr>\n",
       "    <tr>\n",
       "      <th>35</th>\n",
       "      <td>2024-12-01</td>\n",
       "      <td>3.174376e+09</td>\n",
       "      <td>9.866588e+11</td>\n",
       "      <td>310.819777</td>\n",
       "    </tr>\n",
       "  </tbody>\n",
       "</table>\n",
       "</div>"
      ],
      "text/plain": [
       "        Fecha      Cantidad        Dinero          MC\n",
       "0  2022-01-01  3.106837e+09  8.206638e+11  264.147725\n",
       "1  2022-02-01  2.827536e+09  7.711317e+11  272.722151\n",
       "2  2022-03-01  3.152221e+09  8.739225e+11  277.240249\n",
       "3  2022-04-01  3.119876e+09  8.795896e+11  281.930959\n",
       "4  2022-05-01  3.386337e+09  9.744993e+11  287.773880\n",
       "5  2022-06-01  3.319013e+09  9.570112e+11  288.342074\n",
       "6  2022-07-01  3.385387e+09  9.964710e+11  294.344772\n",
       "7  2022-08-01  3.358023e+09  9.857973e+11  293.564783\n",
       "8  2022-09-01  3.399394e+09  9.993460e+11  293.977727\n",
       "9  2022-10-01  3.535560e+09  1.021018e+12  288.785414\n",
       "10 2022-11-01  3.464838e+09  9.986755e+11  288.231473\n",
       "11 2022-12-01  3.223038e+09  9.328739e+11  289.439290\n",
       "12 2023-01-01  2.909743e+09  8.398320e+11  288.627550\n",
       "13 2023-02-01  2.687499e+09  7.904278e+11  294.112795\n",
       "14 2023-03-01  2.953395e+09  8.608409e+11  291.475077\n",
       "15 2023-04-01  2.866065e+09  8.281197e+11  288.939608\n",
       "16 2023-05-01  3.047226e+09  8.827354e+11  289.684862\n",
       "17 2023-06-01  3.004575e+09  8.604037e+11  286.364466\n",
       "18 2023-07-01  3.176228e+09  9.061617e+11  285.294956\n",
       "19 2023-08-01  3.185350e+09  9.201028e+11  288.854565\n",
       "20 2023-09-01  3.177572e+09  9.319211e+11  293.280907\n",
       "21 2023-10-01  3.237523e+09  9.570297e+11  295.605525\n",
       "22 2023-11-01  3.220824e+09  9.310692e+11  289.077945\n",
       "23 2023-12-01  3.012592e+09  8.718501e+11  289.402012\n",
       "24 2024-01-01  3.101211e+09  9.093577e+11  293.226654\n",
       "25 2024-02-01  2.922162e+09  8.623381e+11  295.102742\n",
       "26 2024-03-01  3.232812e+09  1.001405e+12  309.762804\n",
       "27 2024-04-01  3.179973e+09  9.950514e+11  312.911953\n",
       "28 2024-05-01  3.389157e+09  1.045259e+12  308.412715\n",
       "29 2024-06-01  3.363334e+09  1.050944e+12  312.471048\n",
       "30 2024-07-01  3.537844e+09  1.107143e+12  312.942768\n",
       "31 2024-08-01  3.470062e+09  1.062720e+12  306.253780\n",
       "32 2024-09-01  3.295765e+09  1.034479e+12  313.881175\n",
       "33 2024-10-01  3.300439e+09  1.035338e+12  313.696912\n",
       "34 2024-11-01  3.200317e+09  1.000947e+12  312.764956\n",
       "35 2024-12-01  3.174376e+09  9.866588e+11  310.819777"
      ]
     },
     "metadata": {},
     "output_type": "display_data"
    }
   ],
   "source": [
    "df_resumen['MC'] = df_resumen['Dinero'] / df_resumen['Cantidad']      # Calcula el valor promedio mensual (MC) dividiendo el total de dinero entre la cantidad para cada mes\n",
    "\n",
    "df_MC = df_resumen[['Fecha', 'Cantidad', 'Dinero', 'MC']]             # Crea un nuevo DataFrame con las columnas 'Fecha', 'Cantidad', 'Dinero' y 'MC'\n",
    "display(df_MC)                                                        # Muestra el DataFrame resultante con el cálculo del valor promedio mensual"
   ]
  },
  {
   "cell_type": "markdown",
   "metadata": {},
   "source": [
    "Ahora se grafica el valor del MC durante el período 2022-2024"
   ]
  },
  {
   "cell_type": "code",
   "execution_count": 9,
   "metadata": {},
   "outputs": [
    {
     "data": {
      "application/vnd.plotly.v1+json": {
       "config": {
        "plotlyServerURL": "https://plot.ly"
       },
       "data": [
        {
         "mode": "lines",
         "name": "MC",
         "type": "scatter",
         "x": [
          "2022-01-01T00:00:00",
          "2022-02-01T00:00:00",
          "2022-03-01T00:00:00",
          "2022-04-01T00:00:00",
          "2022-05-01T00:00:00",
          "2022-06-01T00:00:00",
          "2022-07-01T00:00:00",
          "2022-08-01T00:00:00",
          "2022-09-01T00:00:00",
          "2022-10-01T00:00:00",
          "2022-11-01T00:00:00",
          "2022-12-01T00:00:00",
          "2023-01-01T00:00:00",
          "2023-02-01T00:00:00",
          "2023-03-01T00:00:00",
          "2023-04-01T00:00:00",
          "2023-05-01T00:00:00",
          "2023-06-01T00:00:00",
          "2023-07-01T00:00:00",
          "2023-08-01T00:00:00",
          "2023-09-01T00:00:00",
          "2023-10-01T00:00:00",
          "2023-11-01T00:00:00",
          "2023-12-01T00:00:00",
          "2024-01-01T00:00:00",
          "2024-02-01T00:00:00",
          "2024-03-01T00:00:00",
          "2024-04-01T00:00:00",
          "2024-05-01T00:00:00",
          "2024-06-01T00:00:00",
          "2024-07-01T00:00:00",
          "2024-08-01T00:00:00",
          "2024-09-01T00:00:00",
          "2024-10-01T00:00:00",
          "2024-11-01T00:00:00",
          "2024-12-01T00:00:00"
         ],
         "y": [
          264.14772533170253,
          272.7221509198445,
          277.24024928168245,
          281.93095864926534,
          287.7738798639761,
          288.3420737151532,
          294.3447723323528,
          293.5647825639544,
          293.9777270694395,
          288.78541392145183,
          288.23147267320593,
          289.4392900935055,
          288.62755017942226,
          294.1127953484713,
          291.4750766922109,
          288.9396083991893,
          289.68486241644,
          286.3644657199035,
          285.2949563409692,
          288.8545648968875,
          293.28090717827683,
          295.60552529087676,
          289.0779451836029,
          289.4020122624517,
          293.2266541855246,
          295.10274154357757,
          309.7628044917425,
          312.9119528693918,
          308.41271516863674,
          312.4710481837345,
          312.94276796154594,
          306.2537795091098,
          313.8811747882232,
          313.696911842276,
          312.7649555446204,
          310.81977746115945
         ]
        }
       ],
       "layout": {
        "template": {
         "data": {
          "bar": [
           {
            "error_x": {
             "color": "#2a3f5f"
            },
            "error_y": {
             "color": "#2a3f5f"
            },
            "marker": {
             "line": {
              "color": "white",
              "width": 0.5
             },
             "pattern": {
              "fillmode": "overlay",
              "size": 10,
              "solidity": 0.2
             }
            },
            "type": "bar"
           }
          ],
          "barpolar": [
           {
            "marker": {
             "line": {
              "color": "white",
              "width": 0.5
             },
             "pattern": {
              "fillmode": "overlay",
              "size": 10,
              "solidity": 0.2
             }
            },
            "type": "barpolar"
           }
          ],
          "carpet": [
           {
            "aaxis": {
             "endlinecolor": "#2a3f5f",
             "gridcolor": "#C8D4E3",
             "linecolor": "#C8D4E3",
             "minorgridcolor": "#C8D4E3",
             "startlinecolor": "#2a3f5f"
            },
            "baxis": {
             "endlinecolor": "#2a3f5f",
             "gridcolor": "#C8D4E3",
             "linecolor": "#C8D4E3",
             "minorgridcolor": "#C8D4E3",
             "startlinecolor": "#2a3f5f"
            },
            "type": "carpet"
           }
          ],
          "choropleth": [
           {
            "colorbar": {
             "outlinewidth": 0,
             "ticks": ""
            },
            "type": "choropleth"
           }
          ],
          "contour": [
           {
            "colorbar": {
             "outlinewidth": 0,
             "ticks": ""
            },
            "colorscale": [
             [
              0,
              "#0d0887"
             ],
             [
              0.1111111111111111,
              "#46039f"
             ],
             [
              0.2222222222222222,
              "#7201a8"
             ],
             [
              0.3333333333333333,
              "#9c179e"
             ],
             [
              0.4444444444444444,
              "#bd3786"
             ],
             [
              0.5555555555555556,
              "#d8576b"
             ],
             [
              0.6666666666666666,
              "#ed7953"
             ],
             [
              0.7777777777777778,
              "#fb9f3a"
             ],
             [
              0.8888888888888888,
              "#fdca26"
             ],
             [
              1,
              "#f0f921"
             ]
            ],
            "type": "contour"
           }
          ],
          "contourcarpet": [
           {
            "colorbar": {
             "outlinewidth": 0,
             "ticks": ""
            },
            "type": "contourcarpet"
           }
          ],
          "heatmap": [
           {
            "colorbar": {
             "outlinewidth": 0,
             "ticks": ""
            },
            "colorscale": [
             [
              0,
              "#0d0887"
             ],
             [
              0.1111111111111111,
              "#46039f"
             ],
             [
              0.2222222222222222,
              "#7201a8"
             ],
             [
              0.3333333333333333,
              "#9c179e"
             ],
             [
              0.4444444444444444,
              "#bd3786"
             ],
             [
              0.5555555555555556,
              "#d8576b"
             ],
             [
              0.6666666666666666,
              "#ed7953"
             ],
             [
              0.7777777777777778,
              "#fb9f3a"
             ],
             [
              0.8888888888888888,
              "#fdca26"
             ],
             [
              1,
              "#f0f921"
             ]
            ],
            "type": "heatmap"
           }
          ],
          "heatmapgl": [
           {
            "colorbar": {
             "outlinewidth": 0,
             "ticks": ""
            },
            "colorscale": [
             [
              0,
              "#0d0887"
             ],
             [
              0.1111111111111111,
              "#46039f"
             ],
             [
              0.2222222222222222,
              "#7201a8"
             ],
             [
              0.3333333333333333,
              "#9c179e"
             ],
             [
              0.4444444444444444,
              "#bd3786"
             ],
             [
              0.5555555555555556,
              "#d8576b"
             ],
             [
              0.6666666666666666,
              "#ed7953"
             ],
             [
              0.7777777777777778,
              "#fb9f3a"
             ],
             [
              0.8888888888888888,
              "#fdca26"
             ],
             [
              1,
              "#f0f921"
             ]
            ],
            "type": "heatmapgl"
           }
          ],
          "histogram": [
           {
            "marker": {
             "pattern": {
              "fillmode": "overlay",
              "size": 10,
              "solidity": 0.2
             }
            },
            "type": "histogram"
           }
          ],
          "histogram2d": [
           {
            "colorbar": {
             "outlinewidth": 0,
             "ticks": ""
            },
            "colorscale": [
             [
              0,
              "#0d0887"
             ],
             [
              0.1111111111111111,
              "#46039f"
             ],
             [
              0.2222222222222222,
              "#7201a8"
             ],
             [
              0.3333333333333333,
              "#9c179e"
             ],
             [
              0.4444444444444444,
              "#bd3786"
             ],
             [
              0.5555555555555556,
              "#d8576b"
             ],
             [
              0.6666666666666666,
              "#ed7953"
             ],
             [
              0.7777777777777778,
              "#fb9f3a"
             ],
             [
              0.8888888888888888,
              "#fdca26"
             ],
             [
              1,
              "#f0f921"
             ]
            ],
            "type": "histogram2d"
           }
          ],
          "histogram2dcontour": [
           {
            "colorbar": {
             "outlinewidth": 0,
             "ticks": ""
            },
            "colorscale": [
             [
              0,
              "#0d0887"
             ],
             [
              0.1111111111111111,
              "#46039f"
             ],
             [
              0.2222222222222222,
              "#7201a8"
             ],
             [
              0.3333333333333333,
              "#9c179e"
             ],
             [
              0.4444444444444444,
              "#bd3786"
             ],
             [
              0.5555555555555556,
              "#d8576b"
             ],
             [
              0.6666666666666666,
              "#ed7953"
             ],
             [
              0.7777777777777778,
              "#fb9f3a"
             ],
             [
              0.8888888888888888,
              "#fdca26"
             ],
             [
              1,
              "#f0f921"
             ]
            ],
            "type": "histogram2dcontour"
           }
          ],
          "mesh3d": [
           {
            "colorbar": {
             "outlinewidth": 0,
             "ticks": ""
            },
            "type": "mesh3d"
           }
          ],
          "parcoords": [
           {
            "line": {
             "colorbar": {
              "outlinewidth": 0,
              "ticks": ""
             }
            },
            "type": "parcoords"
           }
          ],
          "pie": [
           {
            "automargin": true,
            "type": "pie"
           }
          ],
          "scatter": [
           {
            "fillpattern": {
             "fillmode": "overlay",
             "size": 10,
             "solidity": 0.2
            },
            "type": "scatter"
           }
          ],
          "scatter3d": [
           {
            "line": {
             "colorbar": {
              "outlinewidth": 0,
              "ticks": ""
             }
            },
            "marker": {
             "colorbar": {
              "outlinewidth": 0,
              "ticks": ""
             }
            },
            "type": "scatter3d"
           }
          ],
          "scattercarpet": [
           {
            "marker": {
             "colorbar": {
              "outlinewidth": 0,
              "ticks": ""
             }
            },
            "type": "scattercarpet"
           }
          ],
          "scattergeo": [
           {
            "marker": {
             "colorbar": {
              "outlinewidth": 0,
              "ticks": ""
             }
            },
            "type": "scattergeo"
           }
          ],
          "scattergl": [
           {
            "marker": {
             "colorbar": {
              "outlinewidth": 0,
              "ticks": ""
             }
            },
            "type": "scattergl"
           }
          ],
          "scattermapbox": [
           {
            "marker": {
             "colorbar": {
              "outlinewidth": 0,
              "ticks": ""
             }
            },
            "type": "scattermapbox"
           }
          ],
          "scatterpolar": [
           {
            "marker": {
             "colorbar": {
              "outlinewidth": 0,
              "ticks": ""
             }
            },
            "type": "scatterpolar"
           }
          ],
          "scatterpolargl": [
           {
            "marker": {
             "colorbar": {
              "outlinewidth": 0,
              "ticks": ""
             }
            },
            "type": "scatterpolargl"
           }
          ],
          "scatterternary": [
           {
            "marker": {
             "colorbar": {
              "outlinewidth": 0,
              "ticks": ""
             }
            },
            "type": "scatterternary"
           }
          ],
          "surface": [
           {
            "colorbar": {
             "outlinewidth": 0,
             "ticks": ""
            },
            "colorscale": [
             [
              0,
              "#0d0887"
             ],
             [
              0.1111111111111111,
              "#46039f"
             ],
             [
              0.2222222222222222,
              "#7201a8"
             ],
             [
              0.3333333333333333,
              "#9c179e"
             ],
             [
              0.4444444444444444,
              "#bd3786"
             ],
             [
              0.5555555555555556,
              "#d8576b"
             ],
             [
              0.6666666666666666,
              "#ed7953"
             ],
             [
              0.7777777777777778,
              "#fb9f3a"
             ],
             [
              0.8888888888888888,
              "#fdca26"
             ],
             [
              1,
              "#f0f921"
             ]
            ],
            "type": "surface"
           }
          ],
          "table": [
           {
            "cells": {
             "fill": {
              "color": "#EBF0F8"
             },
             "line": {
              "color": "white"
             }
            },
            "header": {
             "fill": {
              "color": "#C8D4E3"
             },
             "line": {
              "color": "white"
             }
            },
            "type": "table"
           }
          ]
         },
         "layout": {
          "annotationdefaults": {
           "arrowcolor": "#2a3f5f",
           "arrowhead": 0,
           "arrowwidth": 1
          },
          "autotypenumbers": "strict",
          "coloraxis": {
           "colorbar": {
            "outlinewidth": 0,
            "ticks": ""
           }
          },
          "colorscale": {
           "diverging": [
            [
             0,
             "#8e0152"
            ],
            [
             0.1,
             "#c51b7d"
            ],
            [
             0.2,
             "#de77ae"
            ],
            [
             0.3,
             "#f1b6da"
            ],
            [
             0.4,
             "#fde0ef"
            ],
            [
             0.5,
             "#f7f7f7"
            ],
            [
             0.6,
             "#e6f5d0"
            ],
            [
             0.7,
             "#b8e186"
            ],
            [
             0.8,
             "#7fbc41"
            ],
            [
             0.9,
             "#4d9221"
            ],
            [
             1,
             "#276419"
            ]
           ],
           "sequential": [
            [
             0,
             "#0d0887"
            ],
            [
             0.1111111111111111,
             "#46039f"
            ],
            [
             0.2222222222222222,
             "#7201a8"
            ],
            [
             0.3333333333333333,
             "#9c179e"
            ],
            [
             0.4444444444444444,
             "#bd3786"
            ],
            [
             0.5555555555555556,
             "#d8576b"
            ],
            [
             0.6666666666666666,
             "#ed7953"
            ],
            [
             0.7777777777777778,
             "#fb9f3a"
            ],
            [
             0.8888888888888888,
             "#fdca26"
            ],
            [
             1,
             "#f0f921"
            ]
           ],
           "sequentialminus": [
            [
             0,
             "#0d0887"
            ],
            [
             0.1111111111111111,
             "#46039f"
            ],
            [
             0.2222222222222222,
             "#7201a8"
            ],
            [
             0.3333333333333333,
             "#9c179e"
            ],
            [
             0.4444444444444444,
             "#bd3786"
            ],
            [
             0.5555555555555556,
             "#d8576b"
            ],
            [
             0.6666666666666666,
             "#ed7953"
            ],
            [
             0.7777777777777778,
             "#fb9f3a"
            ],
            [
             0.8888888888888888,
             "#fdca26"
            ],
            [
             1,
             "#f0f921"
            ]
           ]
          },
          "colorway": [
           "#636efa",
           "#EF553B",
           "#00cc96",
           "#ab63fa",
           "#FFA15A",
           "#19d3f3",
           "#FF6692",
           "#B6E880",
           "#FF97FF",
           "#FECB52"
          ],
          "font": {
           "color": "#2a3f5f"
          },
          "geo": {
           "bgcolor": "white",
           "lakecolor": "white",
           "landcolor": "white",
           "showlakes": true,
           "showland": true,
           "subunitcolor": "#C8D4E3"
          },
          "hoverlabel": {
           "align": "left"
          },
          "hovermode": "closest",
          "mapbox": {
           "style": "light"
          },
          "paper_bgcolor": "white",
          "plot_bgcolor": "white",
          "polar": {
           "angularaxis": {
            "gridcolor": "#EBF0F8",
            "linecolor": "#EBF0F8",
            "ticks": ""
           },
           "bgcolor": "white",
           "radialaxis": {
            "gridcolor": "#EBF0F8",
            "linecolor": "#EBF0F8",
            "ticks": ""
           }
          },
          "scene": {
           "xaxis": {
            "backgroundcolor": "white",
            "gridcolor": "#DFE8F3",
            "gridwidth": 2,
            "linecolor": "#EBF0F8",
            "showbackground": true,
            "ticks": "",
            "zerolinecolor": "#EBF0F8"
           },
           "yaxis": {
            "backgroundcolor": "white",
            "gridcolor": "#DFE8F3",
            "gridwidth": 2,
            "linecolor": "#EBF0F8",
            "showbackground": true,
            "ticks": "",
            "zerolinecolor": "#EBF0F8"
           },
           "zaxis": {
            "backgroundcolor": "white",
            "gridcolor": "#DFE8F3",
            "gridwidth": 2,
            "linecolor": "#EBF0F8",
            "showbackground": true,
            "ticks": "",
            "zerolinecolor": "#EBF0F8"
           }
          },
          "shapedefaults": {
           "line": {
            "color": "#2a3f5f"
           }
          },
          "ternary": {
           "aaxis": {
            "gridcolor": "#DFE8F3",
            "linecolor": "#A2B1C6",
            "ticks": ""
           },
           "baxis": {
            "gridcolor": "#DFE8F3",
            "linecolor": "#A2B1C6",
            "ticks": ""
           },
           "bgcolor": "white",
           "caxis": {
            "gridcolor": "#DFE8F3",
            "linecolor": "#A2B1C6",
            "ticks": ""
           }
          },
          "title": {
           "x": 0.05
          },
          "xaxis": {
           "automargin": true,
           "gridcolor": "#EBF0F8",
           "linecolor": "#EBF0F8",
           "ticks": "",
           "title": {
            "standoff": 15
           },
           "zerolinecolor": "#EBF0F8",
           "zerolinewidth": 2
          },
          "yaxis": {
           "automargin": true,
           "gridcolor": "#EBF0F8",
           "linecolor": "#EBF0F8",
           "ticks": "",
           "title": {
            "standoff": 15
           },
           "zerolinecolor": "#EBF0F8",
           "zerolinewidth": 2
          }
         }
        },
        "title": {
         "text": "Evolución del Precio Promedio de Compra (MC)"
        },
        "xaxis": {
         "tickformat": "%d-%m-%y",
         "title": {
          "text": "Fecha"
         }
        },
        "yaxis": {
         "title": {
          "text": "MC"
         }
        }
       }
      }
     },
     "metadata": {},
     "output_type": "display_data"
    }
   ],
   "source": [
    "fig = go.Figure()      # Crear la figura de Plotly\n",
    "\n",
    "# Agregar la serie de tiempo para la columna 'MC'\n",
    "fig.add_trace(go.Scatter(\n",
    "    x=df_MC[\"Fecha\"],  # Eje X: fechas\n",
    "    y=df_MC[\"MC\"],     # Eje Y: valores de MC\n",
    "    mode='lines',      # Tipo de gráfico: líneas\n",
    "    name=\"MC\"          # Nombre de la serie\n",
    "))\n",
    "\n",
    "# Configurar el diseño del gráfico\n",
    "fig.update_layout(\n",
    "    title=\"Evolución del Precio Promedio de Compra (MC)\",  # Título del gráfico\n",
    "    xaxis_title='Fecha',                                   # Etiqueta del eje X\n",
    "    yaxis_title='MC',                                      # Etiqueta del eje Y\n",
    "    xaxis=dict(tickformat='%d-%m-%y'),                     # Formato de fecha en el eje X\n",
    "    template='plotly_white'                                # Estilo visual limpio\n",
    ")\n",
    "\n",
    "fig.show()            # Mostrar la gráfica"
   ]
  },
  {
   "cell_type": "markdown",
   "metadata": {},
   "source": [
    "Ahora se realiza una gráfica para ver el comportamiento del `PPP` de agentes VS el `MC`"
   ]
  },
  {
   "cell_type": "code",
   "execution_count": 10,
   "metadata": {},
   "outputs": [],
   "source": [
    "def graficar_ppp_vs_mc(df_filtrado, df_MC, codigos_agentes):\n",
    "    \n",
    "    df_agentes = df_filtrado[df_filtrado['CodigoAgenteComprador'].isin(codigos_agentes)].copy()     # Filtrar solo los agentes deseados\n",
    "\n",
    "    df_agentes['Periodo'] = df_agentes['Fecha'].dt.to_period('M')                                   # Crear columna de periodo mensual\n",
    "\n",
    "    df_resumen = df_agentes.groupby(['Periodo', 'CodigoAgenteComprador'])[['Cantidad', 'Dinero']].sum().reset_index()           # Calcular totales por agente y mes\n",
    "\n",
    "    df_resumen['PPP'] = df_resumen.apply(lambda row: row['Dinero'] / row['Cantidad'] if row['Cantidad'] != 0 else 0, axis=1)    # Calcular PPP usando apply con lambda\n",
    "\n",
    "    df_resumen['Fecha'] = df_resumen['Periodo'].dt.to_timestamp()                                   # Convertir Periodo a Timestamp para graficar\n",
    "\n",
    "    df_pivot = df_resumen.pivot(index='Fecha', columns='CodigoAgenteComprador', values='PPP')       # Pivotear para tener una columna por agente\n",
    "\n",
    "    fig = go.Figure()               # Crear la figura\n",
    "\n",
    "    fig.add_trace(go.Scatter(       # Agregar línea de MC\n",
    "        x=df_MC[\"Fecha\"],\n",
    "        y=df_MC[\"MC\"],\n",
    "        mode='lines',\n",
    "        name=\"MC\"\n",
    "    ))\n",
    "\n",
    "    df_pivot.apply(lambda col: fig.add_trace(go.Scatter(    # Agregar líneas de PPP por agente usando apply sobre columnas\n",
    "        x=col.index,\n",
    "        y=col.values,\n",
    "        mode='lines',\n",
    "        name=f\"PPP {col.name}\"\n",
    "    )), axis=0)\n",
    "\n",
    "    fig.update_layout(              # Configurar diseño\n",
    "        title=\"PPP de agentes seleccionados VS MC\",\n",
    "        xaxis_title='Fecha',\n",
    "        yaxis_title='Valor',\n",
    "        xaxis=dict(tickformat='%d-%m-%y'),\n",
    "        template='plotly_white'\n",
    "    )\n",
    "\n",
    "    fig.show()                      # Mostrar la gráfica"
   ]
  },
  {
   "cell_type": "code",
   "execution_count": 12,
   "metadata": {},
   "outputs": [
    {
     "data": {
      "application/vnd.plotly.v1+json": {
       "config": {
        "plotlyServerURL": "https://plot.ly"
       },
       "data": [
        {
         "mode": "lines",
         "name": "MC",
         "type": "scatter",
         "x": [
          "2022-01-01T00:00:00",
          "2022-02-01T00:00:00",
          "2022-03-01T00:00:00",
          "2022-04-01T00:00:00",
          "2022-05-01T00:00:00",
          "2022-06-01T00:00:00",
          "2022-07-01T00:00:00",
          "2022-08-01T00:00:00",
          "2022-09-01T00:00:00",
          "2022-10-01T00:00:00",
          "2022-11-01T00:00:00",
          "2022-12-01T00:00:00",
          "2023-01-01T00:00:00",
          "2023-02-01T00:00:00",
          "2023-03-01T00:00:00",
          "2023-04-01T00:00:00",
          "2023-05-01T00:00:00",
          "2023-06-01T00:00:00",
          "2023-07-01T00:00:00",
          "2023-08-01T00:00:00",
          "2023-09-01T00:00:00",
          "2023-10-01T00:00:00",
          "2023-11-01T00:00:00",
          "2023-12-01T00:00:00",
          "2024-01-01T00:00:00",
          "2024-02-01T00:00:00",
          "2024-03-01T00:00:00",
          "2024-04-01T00:00:00",
          "2024-05-01T00:00:00",
          "2024-06-01T00:00:00",
          "2024-07-01T00:00:00",
          "2024-08-01T00:00:00",
          "2024-09-01T00:00:00",
          "2024-10-01T00:00:00",
          "2024-11-01T00:00:00",
          "2024-12-01T00:00:00"
         ],
         "y": [
          264.14772533170253,
          272.7221509198445,
          277.24024928168245,
          281.93095864926534,
          287.7738798639761,
          288.3420737151532,
          294.3447723323528,
          293.5647825639544,
          293.9777270694395,
          288.78541392145183,
          288.23147267320593,
          289.4392900935055,
          288.62755017942226,
          294.1127953484713,
          291.4750766922109,
          288.9396083991893,
          289.68486241644,
          286.3644657199035,
          285.2949563409692,
          288.8545648968875,
          293.28090717827683,
          295.60552529087676,
          289.0779451836029,
          289.4020122624517,
          293.2266541855246,
          295.10274154357757,
          309.7628044917425,
          312.9119528693918,
          308.41271516863674,
          312.4710481837345,
          312.94276796154594,
          306.2537795091098,
          313.8811747882232,
          313.696911842276,
          312.7649555446204,
          310.81977746115945
         ]
        },
        {
         "mode": "lines",
         "name": "PPP CASC",
         "type": "scatter",
         "x": [
          "2022-01-01T00:00:00",
          "2022-02-01T00:00:00",
          "2022-03-01T00:00:00",
          "2022-04-01T00:00:00",
          "2022-05-01T00:00:00",
          "2022-06-01T00:00:00",
          "2022-07-01T00:00:00",
          "2022-08-01T00:00:00",
          "2022-09-01T00:00:00",
          "2022-10-01T00:00:00",
          "2022-11-01T00:00:00",
          "2022-12-01T00:00:00",
          "2023-01-01T00:00:00",
          "2023-02-01T00:00:00",
          "2023-03-01T00:00:00",
          "2023-04-01T00:00:00",
          "2023-05-01T00:00:00",
          "2023-06-01T00:00:00",
          "2023-07-01T00:00:00",
          "2023-08-01T00:00:00",
          "2023-09-01T00:00:00",
          "2023-10-01T00:00:00",
          "2023-11-01T00:00:00",
          "2023-12-01T00:00:00",
          "2024-01-01T00:00:00",
          "2024-02-01T00:00:00",
          "2024-03-01T00:00:00",
          "2024-04-01T00:00:00",
          "2024-05-01T00:00:00",
          "2024-06-01T00:00:00",
          "2024-07-01T00:00:00",
          "2024-08-01T00:00:00",
          "2024-09-01T00:00:00",
          "2024-10-01T00:00:00",
          "2024-11-01T00:00:00",
          "2024-12-01T00:00:00"
         ],
         "y": [
          249.44394070030742,
          256.34957294712405,
          262.25894268354097,
          265.96361059063065,
          272.3640116622192,
          273.01724023338187,
          279.8081452445004,
          278.3878711580195,
          281.3180355424705,
          275.2676690113912,
          272.10257767011416,
          270.47725098515957,
          275.4091430364449,
          279.5540785042405,
          279.62779373496295,
          279.19885005462345,
          278.97576918835125,
          278.4177855362725,
          278.23124240968883,
          280.3308335130214,
          279.80402686150313,
          284.19309866380735,
          280.8798197258246,
          278.4199678839199,
          306.8454,
          309.8269,
          309.742,
          310.9144,
          310.3484,
          319.5405,
          332.91839999999996,
          320.3088000000001,
          337.639,
          337.5453,
          342.3788,
          322.3461
         ]
        },
        {
         "mode": "lines",
         "name": "PPP EDPC",
         "type": "scatter",
         "x": [
          "2022-01-01T00:00:00",
          "2022-02-01T00:00:00",
          "2022-03-01T00:00:00",
          "2022-04-01T00:00:00",
          "2022-05-01T00:00:00",
          "2022-06-01T00:00:00",
          "2022-07-01T00:00:00",
          "2022-08-01T00:00:00",
          "2022-09-01T00:00:00",
          "2022-10-01T00:00:00",
          "2022-11-01T00:00:00",
          "2022-12-01T00:00:00",
          "2023-01-01T00:00:00",
          "2023-02-01T00:00:00",
          "2023-03-01T00:00:00",
          "2023-04-01T00:00:00",
          "2023-05-01T00:00:00",
          "2023-06-01T00:00:00",
          "2023-07-01T00:00:00",
          "2023-08-01T00:00:00",
          "2023-09-01T00:00:00",
          "2023-10-01T00:00:00",
          "2023-11-01T00:00:00",
          "2023-12-01T00:00:00",
          "2024-01-01T00:00:00",
          "2024-02-01T00:00:00",
          "2024-03-01T00:00:00",
          "2024-04-01T00:00:00",
          "2024-05-01T00:00:00",
          "2024-06-01T00:00:00",
          "2024-07-01T00:00:00",
          "2024-08-01T00:00:00",
          "2024-09-01T00:00:00",
          "2024-10-01T00:00:00",
          "2024-11-01T00:00:00",
          "2024-12-01T00:00:00"
         ],
         "y": [
          263.91599056190626,
          271.0777248828838,
          277.2323026900559,
          280.9032454004218,
          287.9917710793639,
          288.4266281381499,
          295.74702454703703,
          294.38443190902444,
          296.5873591558831,
          283.7144723207032,
          278.58954143650374,
          277.27925858647643,
          275.45224649250474,
          279.5834438155046,
          279.46370369514165,
          276.086252492436,
          273.85177223673367,
          269.54208487064005,
          267.38282988035513,
          270.543520647656,
          272.87237543725905,
          274.4753305087634,
          271.3721454254974,
          268.9622165246141,
          293.5706611796171,
          296.449382297451,
          296.34982170752534,
          297.4670709562871,
          298.3843715975398,
          300.5347174239411,
          309.4534820315898,
          298.67429692794053,
          301.4463904388468,
          314.49788697151286,
          318.23103179497355,
          308.35589585349703
         ]
        },
        {
         "mode": "lines",
         "name": "PPP EPMC",
         "type": "scatter",
         "x": [
          "2022-01-01T00:00:00",
          "2022-02-01T00:00:00",
          "2022-03-01T00:00:00",
          "2022-04-01T00:00:00",
          "2022-05-01T00:00:00",
          "2022-06-01T00:00:00",
          "2022-07-01T00:00:00",
          "2022-08-01T00:00:00",
          "2022-09-01T00:00:00",
          "2022-10-01T00:00:00",
          "2022-11-01T00:00:00",
          "2022-12-01T00:00:00",
          "2023-01-01T00:00:00",
          "2023-02-01T00:00:00",
          "2023-03-01T00:00:00",
          "2023-04-01T00:00:00",
          "2023-05-01T00:00:00",
          "2023-06-01T00:00:00",
          "2023-07-01T00:00:00",
          "2023-08-01T00:00:00",
          "2023-09-01T00:00:00",
          "2023-10-01T00:00:00",
          "2023-11-01T00:00:00",
          "2023-12-01T00:00:00",
          "2024-01-01T00:00:00",
          "2024-02-01T00:00:00",
          "2024-03-01T00:00:00",
          "2024-04-01T00:00:00",
          "2024-05-01T00:00:00",
          "2024-06-01T00:00:00",
          "2024-07-01T00:00:00",
          "2024-08-01T00:00:00",
          "2024-09-01T00:00:00",
          "2024-10-01T00:00:00",
          "2024-11-01T00:00:00",
          "2024-12-01T00:00:00"
         ],
         "y": [
          240.5873124781768,
          248.68347972928615,
          251.43679513228955,
          256.2765587393024,
          264.66111600753254,
          266.82847949034925,
          269.9708424276038,
          270.4989423695675,
          273.8882410418532,
          267.30945102013965,
          268.3176634897728,
          265.9810488245225,
          280.9089834079708,
          285.4275008100332,
          287.0582447439316,
          284.3021246993305,
          283.15373480886126,
          280.9010139645624,
          279.91044542561576,
          282.7817229982227,
          283.07990230884224,
          283.6591293595959,
          280.52794933780933,
          280.03784133932595,
          283.0732433908096,
          285.66485091193334,
          285.7571824795247,
          286.8177700208712,
          286.38031036628286,
          291.50283299963326,
          294.7706452027856,
          291.110043728887,
          291.0305247639907,
          294.1111051175433,
          299.53915047072786,
          297.3608410908691
         ]
        }
       ],
       "layout": {
        "template": {
         "data": {
          "bar": [
           {
            "error_x": {
             "color": "#2a3f5f"
            },
            "error_y": {
             "color": "#2a3f5f"
            },
            "marker": {
             "line": {
              "color": "white",
              "width": 0.5
             },
             "pattern": {
              "fillmode": "overlay",
              "size": 10,
              "solidity": 0.2
             }
            },
            "type": "bar"
           }
          ],
          "barpolar": [
           {
            "marker": {
             "line": {
              "color": "white",
              "width": 0.5
             },
             "pattern": {
              "fillmode": "overlay",
              "size": 10,
              "solidity": 0.2
             }
            },
            "type": "barpolar"
           }
          ],
          "carpet": [
           {
            "aaxis": {
             "endlinecolor": "#2a3f5f",
             "gridcolor": "#C8D4E3",
             "linecolor": "#C8D4E3",
             "minorgridcolor": "#C8D4E3",
             "startlinecolor": "#2a3f5f"
            },
            "baxis": {
             "endlinecolor": "#2a3f5f",
             "gridcolor": "#C8D4E3",
             "linecolor": "#C8D4E3",
             "minorgridcolor": "#C8D4E3",
             "startlinecolor": "#2a3f5f"
            },
            "type": "carpet"
           }
          ],
          "choropleth": [
           {
            "colorbar": {
             "outlinewidth": 0,
             "ticks": ""
            },
            "type": "choropleth"
           }
          ],
          "contour": [
           {
            "colorbar": {
             "outlinewidth": 0,
             "ticks": ""
            },
            "colorscale": [
             [
              0,
              "#0d0887"
             ],
             [
              0.1111111111111111,
              "#46039f"
             ],
             [
              0.2222222222222222,
              "#7201a8"
             ],
             [
              0.3333333333333333,
              "#9c179e"
             ],
             [
              0.4444444444444444,
              "#bd3786"
             ],
             [
              0.5555555555555556,
              "#d8576b"
             ],
             [
              0.6666666666666666,
              "#ed7953"
             ],
             [
              0.7777777777777778,
              "#fb9f3a"
             ],
             [
              0.8888888888888888,
              "#fdca26"
             ],
             [
              1,
              "#f0f921"
             ]
            ],
            "type": "contour"
           }
          ],
          "contourcarpet": [
           {
            "colorbar": {
             "outlinewidth": 0,
             "ticks": ""
            },
            "type": "contourcarpet"
           }
          ],
          "heatmap": [
           {
            "colorbar": {
             "outlinewidth": 0,
             "ticks": ""
            },
            "colorscale": [
             [
              0,
              "#0d0887"
             ],
             [
              0.1111111111111111,
              "#46039f"
             ],
             [
              0.2222222222222222,
              "#7201a8"
             ],
             [
              0.3333333333333333,
              "#9c179e"
             ],
             [
              0.4444444444444444,
              "#bd3786"
             ],
             [
              0.5555555555555556,
              "#d8576b"
             ],
             [
              0.6666666666666666,
              "#ed7953"
             ],
             [
              0.7777777777777778,
              "#fb9f3a"
             ],
             [
              0.8888888888888888,
              "#fdca26"
             ],
             [
              1,
              "#f0f921"
             ]
            ],
            "type": "heatmap"
           }
          ],
          "heatmapgl": [
           {
            "colorbar": {
             "outlinewidth": 0,
             "ticks": ""
            },
            "colorscale": [
             [
              0,
              "#0d0887"
             ],
             [
              0.1111111111111111,
              "#46039f"
             ],
             [
              0.2222222222222222,
              "#7201a8"
             ],
             [
              0.3333333333333333,
              "#9c179e"
             ],
             [
              0.4444444444444444,
              "#bd3786"
             ],
             [
              0.5555555555555556,
              "#d8576b"
             ],
             [
              0.6666666666666666,
              "#ed7953"
             ],
             [
              0.7777777777777778,
              "#fb9f3a"
             ],
             [
              0.8888888888888888,
              "#fdca26"
             ],
             [
              1,
              "#f0f921"
             ]
            ],
            "type": "heatmapgl"
           }
          ],
          "histogram": [
           {
            "marker": {
             "pattern": {
              "fillmode": "overlay",
              "size": 10,
              "solidity": 0.2
             }
            },
            "type": "histogram"
           }
          ],
          "histogram2d": [
           {
            "colorbar": {
             "outlinewidth": 0,
             "ticks": ""
            },
            "colorscale": [
             [
              0,
              "#0d0887"
             ],
             [
              0.1111111111111111,
              "#46039f"
             ],
             [
              0.2222222222222222,
              "#7201a8"
             ],
             [
              0.3333333333333333,
              "#9c179e"
             ],
             [
              0.4444444444444444,
              "#bd3786"
             ],
             [
              0.5555555555555556,
              "#d8576b"
             ],
             [
              0.6666666666666666,
              "#ed7953"
             ],
             [
              0.7777777777777778,
              "#fb9f3a"
             ],
             [
              0.8888888888888888,
              "#fdca26"
             ],
             [
              1,
              "#f0f921"
             ]
            ],
            "type": "histogram2d"
           }
          ],
          "histogram2dcontour": [
           {
            "colorbar": {
             "outlinewidth": 0,
             "ticks": ""
            },
            "colorscale": [
             [
              0,
              "#0d0887"
             ],
             [
              0.1111111111111111,
              "#46039f"
             ],
             [
              0.2222222222222222,
              "#7201a8"
             ],
             [
              0.3333333333333333,
              "#9c179e"
             ],
             [
              0.4444444444444444,
              "#bd3786"
             ],
             [
              0.5555555555555556,
              "#d8576b"
             ],
             [
              0.6666666666666666,
              "#ed7953"
             ],
             [
              0.7777777777777778,
              "#fb9f3a"
             ],
             [
              0.8888888888888888,
              "#fdca26"
             ],
             [
              1,
              "#f0f921"
             ]
            ],
            "type": "histogram2dcontour"
           }
          ],
          "mesh3d": [
           {
            "colorbar": {
             "outlinewidth": 0,
             "ticks": ""
            },
            "type": "mesh3d"
           }
          ],
          "parcoords": [
           {
            "line": {
             "colorbar": {
              "outlinewidth": 0,
              "ticks": ""
             }
            },
            "type": "parcoords"
           }
          ],
          "pie": [
           {
            "automargin": true,
            "type": "pie"
           }
          ],
          "scatter": [
           {
            "fillpattern": {
             "fillmode": "overlay",
             "size": 10,
             "solidity": 0.2
            },
            "type": "scatter"
           }
          ],
          "scatter3d": [
           {
            "line": {
             "colorbar": {
              "outlinewidth": 0,
              "ticks": ""
             }
            },
            "marker": {
             "colorbar": {
              "outlinewidth": 0,
              "ticks": ""
             }
            },
            "type": "scatter3d"
           }
          ],
          "scattercarpet": [
           {
            "marker": {
             "colorbar": {
              "outlinewidth": 0,
              "ticks": ""
             }
            },
            "type": "scattercarpet"
           }
          ],
          "scattergeo": [
           {
            "marker": {
             "colorbar": {
              "outlinewidth": 0,
              "ticks": ""
             }
            },
            "type": "scattergeo"
           }
          ],
          "scattergl": [
           {
            "marker": {
             "colorbar": {
              "outlinewidth": 0,
              "ticks": ""
             }
            },
            "type": "scattergl"
           }
          ],
          "scattermapbox": [
           {
            "marker": {
             "colorbar": {
              "outlinewidth": 0,
              "ticks": ""
             }
            },
            "type": "scattermapbox"
           }
          ],
          "scatterpolar": [
           {
            "marker": {
             "colorbar": {
              "outlinewidth": 0,
              "ticks": ""
             }
            },
            "type": "scatterpolar"
           }
          ],
          "scatterpolargl": [
           {
            "marker": {
             "colorbar": {
              "outlinewidth": 0,
              "ticks": ""
             }
            },
            "type": "scatterpolargl"
           }
          ],
          "scatterternary": [
           {
            "marker": {
             "colorbar": {
              "outlinewidth": 0,
              "ticks": ""
             }
            },
            "type": "scatterternary"
           }
          ],
          "surface": [
           {
            "colorbar": {
             "outlinewidth": 0,
             "ticks": ""
            },
            "colorscale": [
             [
              0,
              "#0d0887"
             ],
             [
              0.1111111111111111,
              "#46039f"
             ],
             [
              0.2222222222222222,
              "#7201a8"
             ],
             [
              0.3333333333333333,
              "#9c179e"
             ],
             [
              0.4444444444444444,
              "#bd3786"
             ],
             [
              0.5555555555555556,
              "#d8576b"
             ],
             [
              0.6666666666666666,
              "#ed7953"
             ],
             [
              0.7777777777777778,
              "#fb9f3a"
             ],
             [
              0.8888888888888888,
              "#fdca26"
             ],
             [
              1,
              "#f0f921"
             ]
            ],
            "type": "surface"
           }
          ],
          "table": [
           {
            "cells": {
             "fill": {
              "color": "#EBF0F8"
             },
             "line": {
              "color": "white"
             }
            },
            "header": {
             "fill": {
              "color": "#C8D4E3"
             },
             "line": {
              "color": "white"
             }
            },
            "type": "table"
           }
          ]
         },
         "layout": {
          "annotationdefaults": {
           "arrowcolor": "#2a3f5f",
           "arrowhead": 0,
           "arrowwidth": 1
          },
          "autotypenumbers": "strict",
          "coloraxis": {
           "colorbar": {
            "outlinewidth": 0,
            "ticks": ""
           }
          },
          "colorscale": {
           "diverging": [
            [
             0,
             "#8e0152"
            ],
            [
             0.1,
             "#c51b7d"
            ],
            [
             0.2,
             "#de77ae"
            ],
            [
             0.3,
             "#f1b6da"
            ],
            [
             0.4,
             "#fde0ef"
            ],
            [
             0.5,
             "#f7f7f7"
            ],
            [
             0.6,
             "#e6f5d0"
            ],
            [
             0.7,
             "#b8e186"
            ],
            [
             0.8,
             "#7fbc41"
            ],
            [
             0.9,
             "#4d9221"
            ],
            [
             1,
             "#276419"
            ]
           ],
           "sequential": [
            [
             0,
             "#0d0887"
            ],
            [
             0.1111111111111111,
             "#46039f"
            ],
            [
             0.2222222222222222,
             "#7201a8"
            ],
            [
             0.3333333333333333,
             "#9c179e"
            ],
            [
             0.4444444444444444,
             "#bd3786"
            ],
            [
             0.5555555555555556,
             "#d8576b"
            ],
            [
             0.6666666666666666,
             "#ed7953"
            ],
            [
             0.7777777777777778,
             "#fb9f3a"
            ],
            [
             0.8888888888888888,
             "#fdca26"
            ],
            [
             1,
             "#f0f921"
            ]
           ],
           "sequentialminus": [
            [
             0,
             "#0d0887"
            ],
            [
             0.1111111111111111,
             "#46039f"
            ],
            [
             0.2222222222222222,
             "#7201a8"
            ],
            [
             0.3333333333333333,
             "#9c179e"
            ],
            [
             0.4444444444444444,
             "#bd3786"
            ],
            [
             0.5555555555555556,
             "#d8576b"
            ],
            [
             0.6666666666666666,
             "#ed7953"
            ],
            [
             0.7777777777777778,
             "#fb9f3a"
            ],
            [
             0.8888888888888888,
             "#fdca26"
            ],
            [
             1,
             "#f0f921"
            ]
           ]
          },
          "colorway": [
           "#636efa",
           "#EF553B",
           "#00cc96",
           "#ab63fa",
           "#FFA15A",
           "#19d3f3",
           "#FF6692",
           "#B6E880",
           "#FF97FF",
           "#FECB52"
          ],
          "font": {
           "color": "#2a3f5f"
          },
          "geo": {
           "bgcolor": "white",
           "lakecolor": "white",
           "landcolor": "white",
           "showlakes": true,
           "showland": true,
           "subunitcolor": "#C8D4E3"
          },
          "hoverlabel": {
           "align": "left"
          },
          "hovermode": "closest",
          "mapbox": {
           "style": "light"
          },
          "paper_bgcolor": "white",
          "plot_bgcolor": "white",
          "polar": {
           "angularaxis": {
            "gridcolor": "#EBF0F8",
            "linecolor": "#EBF0F8",
            "ticks": ""
           },
           "bgcolor": "white",
           "radialaxis": {
            "gridcolor": "#EBF0F8",
            "linecolor": "#EBF0F8",
            "ticks": ""
           }
          },
          "scene": {
           "xaxis": {
            "backgroundcolor": "white",
            "gridcolor": "#DFE8F3",
            "gridwidth": 2,
            "linecolor": "#EBF0F8",
            "showbackground": true,
            "ticks": "",
            "zerolinecolor": "#EBF0F8"
           },
           "yaxis": {
            "backgroundcolor": "white",
            "gridcolor": "#DFE8F3",
            "gridwidth": 2,
            "linecolor": "#EBF0F8",
            "showbackground": true,
            "ticks": "",
            "zerolinecolor": "#EBF0F8"
           },
           "zaxis": {
            "backgroundcolor": "white",
            "gridcolor": "#DFE8F3",
            "gridwidth": 2,
            "linecolor": "#EBF0F8",
            "showbackground": true,
            "ticks": "",
            "zerolinecolor": "#EBF0F8"
           }
          },
          "shapedefaults": {
           "line": {
            "color": "#2a3f5f"
           }
          },
          "ternary": {
           "aaxis": {
            "gridcolor": "#DFE8F3",
            "linecolor": "#A2B1C6",
            "ticks": ""
           },
           "baxis": {
            "gridcolor": "#DFE8F3",
            "linecolor": "#A2B1C6",
            "ticks": ""
           },
           "bgcolor": "white",
           "caxis": {
            "gridcolor": "#DFE8F3",
            "linecolor": "#A2B1C6",
            "ticks": ""
           }
          },
          "title": {
           "x": 0.05
          },
          "xaxis": {
           "automargin": true,
           "gridcolor": "#EBF0F8",
           "linecolor": "#EBF0F8",
           "ticks": "",
           "title": {
            "standoff": 15
           },
           "zerolinecolor": "#EBF0F8",
           "zerolinewidth": 2
          },
          "yaxis": {
           "automargin": true,
           "gridcolor": "#EBF0F8",
           "linecolor": "#EBF0F8",
           "ticks": "",
           "title": {
            "standoff": 15
           },
           "zerolinecolor": "#EBF0F8",
           "zerolinewidth": 2
          }
         }
        },
        "title": {
         "text": "PPP de agentes seleccionados VS MC"
        },
        "xaxis": {
         "tickformat": "%d-%m-%y",
         "title": {
          "text": "Fecha"
         }
        },
        "yaxis": {
         "title": {
          "text": "Valor"
         }
        }
       }
      }
     },
     "metadata": {},
     "output_type": "display_data"
    }
   ],
   "source": [
    "graficar_ppp_vs_mc(df_filtrado=df_filtrado, df_MC=df_MC, codigos_agentes=['EPMC', 'CASC', 'EDPC'])        # Grafica el PPP del listado de agentes seleccionados VS el MC"
   ]
  }
 ],
 "metadata": {
  "kernelspec": {
   "display_name": ".venv",
   "language": "python",
   "name": "python3"
  },
  "language_info": {
   "codemirror_mode": {
    "name": "ipython",
    "version": 3
   },
   "file_extension": ".py",
   "mimetype": "text/x-python",
   "name": "python",
   "nbconvert_exporter": "python",
   "pygments_lexer": "ipython3",
   "version": "3.12.7"
  }
 },
 "nbformat": 4,
 "nbformat_minor": 2
}
