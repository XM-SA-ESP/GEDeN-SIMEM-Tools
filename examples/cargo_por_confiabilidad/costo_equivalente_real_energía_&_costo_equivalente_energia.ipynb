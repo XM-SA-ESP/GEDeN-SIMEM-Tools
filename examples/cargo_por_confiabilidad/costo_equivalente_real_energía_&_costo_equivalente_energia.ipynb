{
 "cells": [
  {
   "attachments": {
    "SIMEM_logo_1.png": {
     "image/png": "[encoded data removed]"
    }
   },
   "cell_type": "markdown",
   "metadata": {},
   "source": [
    "![SIMEM_logo_1.png](attachment:SIMEM_logo_1.png)\n",
    "\n",
    "[SiMEM](https://www.simem.co/)"
   ]
  },
  {
   "cell_type": "markdown",
   "metadata": {},
   "source": [
    "## Caso de uso - Costo Equivalente Real de Energía y Costo Equivalente de Energía\n",
    "\n",
    "# Objetivos de este Notebook\n",
    "\n",
    "* Explicar cómo se realiza la instalación e importación de la librería pydataxm desde la consola para su uso en ambientes locales\n",
    "* Explicar cómo se pueden consultar los conjuntos de datos a través de la librería Pydataxm\n",
    "* Explicar cómo realizar el procesamiento y manipulación de los datos consultados\n",
    "* Explicar el análisis de los datos consultados para dar respuesta al caso de uso propuesto\n",
    " \n",
    "**Índice**\n",
    "\n",
    "1. [Instalación de librerías](#section1)\n",
    "\n",
    "2. [Importación de librerías](#section2)\n",
    "\n",
    "3. [Consultar información de los conjuntos de datos](#section3)\n",
    "\n",
    "4. [Manipulación de datos](#section4)\n",
    "\n",
    "5. [Análisis para dar respuesta al caso de uso](#section5)"
   ]
  },
  {
   "cell_type": "markdown",
   "metadata": {},
   "source": [
    "<a id='section1'></a>\n",
    "# 1. Instalación de la librería\n",
    "Ejecutar el siguiente comando en el CMD para instalar la librería de python."
   ]
  },
  {
   "cell_type": "code",
   "execution_count": 1,
   "metadata": {},
   "outputs": [],
   "source": [
    "# import sys\n",
    "# !{sys.executable} -m pip install pydataxm"
   ]
  },
  {
   "cell_type": "markdown",
   "metadata": {},
   "source": [
    "<a id='section2'></a>\n",
    "# 2. Importación de librerías"
   ]
  },
  {
   "cell_type": "code",
   "execution_count": 21,
   "metadata": {},
   "outputs": [],
   "source": [
    "# Importación de librerías necesarias para la consulta y análisis de datos\n",
    "from pydataxm.pydatasimem import ReadSIMEM  # Importa clases para interactuar con datos del sistema SIMEM, utilizado para acceder a información energética en Colombia\n",
    "import pandas as pd                         # Librería para manipulación y análisis de datos en estructuras tipo DataFrame, muy útil para limpiar, transformar y explorar datos\n",
    "import matplotlib.pyplot as plt             # Para crear gráficos estáticos como barras, líneas, histogramas, etc."
   ]
  },
  {
   "cell_type": "markdown",
   "metadata": {},
   "source": [
    "<a id='section3'></a>\n",
    "# 3. Consultar información de los conjuntos de datos\n",
    "El método de extracción recibe los parámetros con los que se va a realizar la consulta. \n",
    "El datasetID para un conjunto particular se puede encontrar en el [catálogo de conjuntos de datos.](https://www.simem.co/pages/catalogodatos/51FC0A59-3A00-462C-B449-9CB8D5E007FB)  \n",
    "Para este ejemplo el conjunto a presentar es  [Costo Equivalente Real de Energía y Costo Equivalente de Energía (CERE y CEE)](https://www.simem.co/datadetail/ED7CAABF-FD4E-45F2-91CA-AC5B8CB4AFF0) para el período 2022-2024."
   ]
  },
  {
   "cell_type": "markdown",
   "metadata": {},
   "source": [
    "Se definen los parámetros de entrada y se crea el objeto ReadSIMEM() para realizar las consultas."
   ]
  },
  {
   "cell_type": "markdown",
   "metadata": {},
   "source": [
    "La función main contiene todo el proceso para transportar la información del dataset entre el rango de fechas solicitadas a un dataframe. Después de este paso, el proceso es de manipulación y visualización de datos."
   ]
  },
  {
   "cell_type": "code",
   "execution_count": 3,
   "metadata": {},
   "outputs": [
    {
     "name": "stdout",
     "output_type": "stream",
     "text": [
      "****************************************************************************************************\n",
      "Initializing object\n",
      "The object has been initialized with the dataset: \"Costo Equivalente Real de Energía y Costo Equivalente de Energía (CERE y CEE)\"\n",
      "****************************************************************************************************\n",
      "Inicio consulta sincronica\n",
      "Creacion url: 0.001453399658203125\n",
      "Extraccion de registros: 4.170773029327393\n",
      "End of data extracting process\n",
      "****************************************************************************************************\n"
     ]
    },
    {
     "data": {
      "application/vnd.microsoft.datawrangler.viewer.v0+json": {
       "columns": [
        {
         "name": "index",
         "rawType": "int64",
         "type": "integer"
        },
        {
         "name": "Fecha",
         "rawType": "object",
         "type": "string"
        },
        {
         "name": "CodigoDuracion",
         "rawType": "object",
         "type": "string"
        },
        {
         "name": "CEE",
         "rawType": "float64",
         "type": "float"
        },
        {
         "name": "CERE",
         "rawType": "float64",
         "type": "float"
        }
       ],
       "ref": "d497afab-fcdf-484c-934b-5606bcdca5e4",
       "rows": [
        [
         "0",
         "2023-12-01",
         "P1M",
         "74.55",
         "75.62"
        ],
        [
         "1",
         "2023-11-01",
         "P1M",
         "82.56",
         "81.51"
        ],
        [
         "2",
         "2023-10-01",
         "P1M",
         "80.91",
         "76.62"
        ],
        [
         "3",
         "2023-09-01",
         "P1M",
         "82.68",
         "79.8"
        ],
        [
         "4",
         "2023-08-01",
         "P1M",
         "79.99",
         "82.44"
        ],
        [
         "5",
         "2023-07-01",
         "P1M",
         "84.41",
         "82.12"
        ],
        [
         "6",
         "2023-06-01",
         "P1M",
         "92.27",
         "88.08"
        ],
        [
         "7",
         "2023-05-01",
         "P1M",
         "93.09",
         "90.9"
        ],
        [
         "8",
         "2023-04-01",
         "P1M",
         "98.08",
         "101.94"
        ],
        [
         "9",
         "2023-03-01",
         "P1M",
         "99.65",
         "98.43"
        ],
        [
         "10",
         "2023-02-01",
         "P1M",
         "93.46",
         "102.48"
        ],
        [
         "11",
         "2023-01-01",
         "P1M",
         "98.0",
         "99.08"
        ],
        [
         "12",
         "2022-12-01",
         "P1M",
         "96.17",
         "102.46"
        ],
        [
         "13",
         "2022-11-01",
         "P1M",
         "92.37",
         "98.95"
        ],
        [
         "14",
         "2022-10-01",
         "P1M",
         "83.93",
         "98.06"
        ],
        [
         "15",
         "2022-09-01",
         "P1M",
         "83.36",
         "92.04"
        ],
        [
         "16",
         "2022-08-01",
         "P1M",
         "83.86",
         "89.27"
        ],
        [
         "17",
         "2022-07-01",
         "P1M",
         "79.59",
         "85.71"
        ],
        [
         "18",
         "2022-06-01",
         "P1M",
         "77.74",
         "85.0"
        ],
        [
         "19",
         "2022-05-01",
         "P1M",
         "78.16",
         "77.91"
        ]
       ],
       "shape": {
        "columns": 4,
        "rows": 20
       }
      },
      "text/html": [
       "<div>\n",
       "<style scoped>\n",
       "    .dataframe tbody tr th:only-of-type {\n",
       "        vertical-align: middle;\n",
       "    }\n",
       "\n",
       "    .dataframe tbody tr th {\n",
       "        vertical-align: top;\n",
       "    }\n",
       "\n",
       "    .dataframe thead th {\n",
       "        text-align: right;\n",
       "    }\n",
       "</style>\n",
       "<table border=\"1\" class=\"dataframe\">\n",
       "  <thead>\n",
       "    <tr style=\"text-align: right;\">\n",
       "      <th></th>\n",
       "      <th>Fecha</th>\n",
       "      <th>CodigoDuracion</th>\n",
       "      <th>CEE</th>\n",
       "      <th>CERE</th>\n",
       "    </tr>\n",
       "  </thead>\n",
       "  <tbody>\n",
       "    <tr>\n",
       "      <th>0</th>\n",
       "      <td>2023-12-01</td>\n",
       "      <td>P1M</td>\n",
       "      <td>74.55</td>\n",
       "      <td>75.62</td>\n",
       "    </tr>\n",
       "    <tr>\n",
       "      <th>1</th>\n",
       "      <td>2023-11-01</td>\n",
       "      <td>P1M</td>\n",
       "      <td>82.56</td>\n",
       "      <td>81.51</td>\n",
       "    </tr>\n",
       "    <tr>\n",
       "      <th>2</th>\n",
       "      <td>2023-10-01</td>\n",
       "      <td>P1M</td>\n",
       "      <td>80.91</td>\n",
       "      <td>76.62</td>\n",
       "    </tr>\n",
       "    <tr>\n",
       "      <th>3</th>\n",
       "      <td>2023-09-01</td>\n",
       "      <td>P1M</td>\n",
       "      <td>82.68</td>\n",
       "      <td>79.80</td>\n",
       "    </tr>\n",
       "    <tr>\n",
       "      <th>4</th>\n",
       "      <td>2023-08-01</td>\n",
       "      <td>P1M</td>\n",
       "      <td>79.99</td>\n",
       "      <td>82.44</td>\n",
       "    </tr>\n",
       "    <tr>\n",
       "      <th>5</th>\n",
       "      <td>2023-07-01</td>\n",
       "      <td>P1M</td>\n",
       "      <td>84.41</td>\n",
       "      <td>82.12</td>\n",
       "    </tr>\n",
       "    <tr>\n",
       "      <th>6</th>\n",
       "      <td>2023-06-01</td>\n",
       "      <td>P1M</td>\n",
       "      <td>92.27</td>\n",
       "      <td>88.08</td>\n",
       "    </tr>\n",
       "    <tr>\n",
       "      <th>7</th>\n",
       "      <td>2023-05-01</td>\n",
       "      <td>P1M</td>\n",
       "      <td>93.09</td>\n",
       "      <td>90.90</td>\n",
       "    </tr>\n",
       "    <tr>\n",
       "      <th>8</th>\n",
       "      <td>2023-04-01</td>\n",
       "      <td>P1M</td>\n",
       "      <td>98.08</td>\n",
       "      <td>101.94</td>\n",
       "    </tr>\n",
       "    <tr>\n",
       "      <th>9</th>\n",
       "      <td>2023-03-01</td>\n",
       "      <td>P1M</td>\n",
       "      <td>99.65</td>\n",
       "      <td>98.43</td>\n",
       "    </tr>\n",
       "    <tr>\n",
       "      <th>10</th>\n",
       "      <td>2023-02-01</td>\n",
       "      <td>P1M</td>\n",
       "      <td>93.46</td>\n",
       "      <td>102.48</td>\n",
       "    </tr>\n",
       "    <tr>\n",
       "      <th>11</th>\n",
       "      <td>2023-01-01</td>\n",
       "      <td>P1M</td>\n",
       "      <td>98.00</td>\n",
       "      <td>99.08</td>\n",
       "    </tr>\n",
       "    <tr>\n",
       "      <th>12</th>\n",
       "      <td>2022-12-01</td>\n",
       "      <td>P1M</td>\n",
       "      <td>96.17</td>\n",
       "      <td>102.46</td>\n",
       "    </tr>\n",
       "    <tr>\n",
       "      <th>13</th>\n",
       "      <td>2022-11-01</td>\n",
       "      <td>P1M</td>\n",
       "      <td>92.37</td>\n",
       "      <td>98.95</td>\n",
       "    </tr>\n",
       "    <tr>\n",
       "      <th>14</th>\n",
       "      <td>2022-10-01</td>\n",
       "      <td>P1M</td>\n",
       "      <td>83.93</td>\n",
       "      <td>98.06</td>\n",
       "    </tr>\n",
       "    <tr>\n",
       "      <th>15</th>\n",
       "      <td>2022-09-01</td>\n",
       "      <td>P1M</td>\n",
       "      <td>83.36</td>\n",
       "      <td>92.04</td>\n",
       "    </tr>\n",
       "    <tr>\n",
       "      <th>16</th>\n",
       "      <td>2022-08-01</td>\n",
       "      <td>P1M</td>\n",
       "      <td>83.86</td>\n",
       "      <td>89.27</td>\n",
       "    </tr>\n",
       "    <tr>\n",
       "      <th>17</th>\n",
       "      <td>2022-07-01</td>\n",
       "      <td>P1M</td>\n",
       "      <td>79.59</td>\n",
       "      <td>85.71</td>\n",
       "    </tr>\n",
       "    <tr>\n",
       "      <th>18</th>\n",
       "      <td>2022-06-01</td>\n",
       "      <td>P1M</td>\n",
       "      <td>77.74</td>\n",
       "      <td>85.00</td>\n",
       "    </tr>\n",
       "    <tr>\n",
       "      <th>19</th>\n",
       "      <td>2022-05-01</td>\n",
       "      <td>P1M</td>\n",
       "      <td>78.16</td>\n",
       "      <td>77.91</td>\n",
       "    </tr>\n",
       "  </tbody>\n",
       "</table>\n",
       "</div>"
      ],
      "text/plain": [
       "         Fecha CodigoDuracion    CEE    CERE\n",
       "0   2023-12-01            P1M  74.55   75.62\n",
       "1   2023-11-01            P1M  82.56   81.51\n",
       "2   2023-10-01            P1M  80.91   76.62\n",
       "3   2023-09-01            P1M  82.68   79.80\n",
       "4   2023-08-01            P1M  79.99   82.44\n",
       "5   2023-07-01            P1M  84.41   82.12\n",
       "6   2023-06-01            P1M  92.27   88.08\n",
       "7   2023-05-01            P1M  93.09   90.90\n",
       "8   2023-04-01            P1M  98.08  101.94\n",
       "9   2023-03-01            P1M  99.65   98.43\n",
       "10  2023-02-01            P1M  93.46  102.48\n",
       "11  2023-01-01            P1M  98.00   99.08\n",
       "12  2022-12-01            P1M  96.17  102.46\n",
       "13  2022-11-01            P1M  92.37   98.95\n",
       "14  2022-10-01            P1M  83.93   98.06\n",
       "15  2022-09-01            P1M  83.36   92.04\n",
       "16  2022-08-01            P1M  83.86   89.27\n",
       "17  2022-07-01            P1M  79.59   85.71\n",
       "18  2022-06-01            P1M  77.74   85.00\n",
       "19  2022-05-01            P1M  78.16   77.91"
      ]
     },
     "metadata": {},
     "output_type": "display_data"
    }
   ],
   "source": [
    "id_dataset = 'ED7CAA'                                       # ID del conjunto de datos a consultar\n",
    "fecha_inicial = '2022-01-01'                                # Fecha de inicio del rango de consulta\n",
    "fecha_final = '2024-12-31'                                  # Fecha de fin del rango de consulta\n",
    "simem = ReadSIMEM(id_dataset, fecha_inicial, fecha_final)   # Instancia de la clase ReadSIMEM con los parámetros definidos\n",
    "df_dataset = simem.main()                                   # Ejecución del método principal para obtener los datos en un DataFrame\n",
    "display(df_dataset.head(20))                                # Visualización de las primeras 20 filas del DataFrame"
   ]
  },
  {
   "cell_type": "markdown",
   "metadata": {},
   "source": [
    "Además se leerán los conjuntos de datos con el precio de bolsa horario y oef diaria con los mismos rangos de fechas"
   ]
  },
  {
   "cell_type": "code",
   "execution_count": 4,
   "metadata": {},
   "outputs": [
    {
     "name": "stdout",
     "output_type": "stream",
     "text": [
      "****************************************************************************************************\n",
      "Initializing object\n",
      "The object has been initialized with the dataset: \"Precio de bolsa horario\"\n",
      "****************************************************************************************************\n",
      "Inicio consulta sincronica\n",
      "Creacion url: 0.0015819072723388672\n",
      "Extraccion de registros: 169.10759258270264\n",
      "End of data extracting process\n",
      "****************************************************************************************************\n"
     ]
    },
    {
     "data": {
      "application/vnd.microsoft.datawrangler.viewer.v0+json": {
       "columns": [
        {
         "name": "index",
         "rawType": "int64",
         "type": "integer"
        },
        {
         "name": "CodigoVariable",
         "rawType": "object",
         "type": "string"
        },
        {
         "name": "FechaHora",
         "rawType": "object",
         "type": "string"
        },
        {
         "name": "CodigoDuracion",
         "rawType": "object",
         "type": "string"
        },
        {
         "name": "UnidadMedida",
         "rawType": "object",
         "type": "string"
        },
        {
         "name": "Version",
         "rawType": "object",
         "type": "string"
        },
        {
         "name": "Valor",
         "rawType": "float64",
         "type": "float"
        }
       ],
       "ref": "b0cdcd89-39c8-4c14-a5e7-b46eec33da18",
       "rows": [
        [
         "0",
         "PB_Nal",
         "2022-01-31 00:00:00",
         "PT1H",
         "COP/kWh",
         "TX4",
         "454.2241"
        ],
        [
         "1",
         "PB_Nal",
         "2022-01-31 01:00:00",
         "PT1H",
         "COP/kWh",
         "TX4",
         "454.2241"
        ],
        [
         "2",
         "PB_Nal",
         "2022-01-31 02:00:00",
         "PT1H",
         "COP/kWh",
         "TX4",
         "454.2241"
        ],
        [
         "3",
         "PB_Nal",
         "2022-01-31 03:00:00",
         "PT1H",
         "COP/kWh",
         "TX4",
         "454.2241"
        ],
        [
         "4",
         "PB_Nal",
         "2022-01-31 04:00:00",
         "PT1H",
         "COP/kWh",
         "TX4",
         "454.2241"
        ],
        [
         "5",
         "PB_Nal",
         "2022-01-31 05:00:00",
         "PT1H",
         "COP/kWh",
         "TX4",
         "527.2241"
        ],
        [
         "6",
         "PB_Nal",
         "2022-01-31 06:00:00",
         "PT1H",
         "COP/kWh",
         "TX4",
         "527.2241"
        ],
        [
         "7",
         "PB_Nal",
         "2022-01-31 07:00:00",
         "PT1H",
         "COP/kWh",
         "TX4",
         "527.2241"
        ],
        [
         "8",
         "PB_Nal",
         "2022-01-31 08:00:00",
         "PT1H",
         "COP/kWh",
         "TX4",
         "537.2241"
        ],
        [
         "9",
         "PB_Nal",
         "2022-01-31 09:00:00",
         "PT1H",
         "COP/kWh",
         "TX4",
         "537.2241"
        ]
       ],
       "shape": {
        "columns": 6,
        "rows": 10
       }
      },
      "text/html": [
       "<div>\n",
       "<style scoped>\n",
       "    .dataframe tbody tr th:only-of-type {\n",
       "        vertical-align: middle;\n",
       "    }\n",
       "\n",
       "    .dataframe tbody tr th {\n",
       "        vertical-align: top;\n",
       "    }\n",
       "\n",
       "    .dataframe thead th {\n",
       "        text-align: right;\n",
       "    }\n",
       "</style>\n",
       "<table border=\"1\" class=\"dataframe\">\n",
       "  <thead>\n",
       "    <tr style=\"text-align: right;\">\n",
       "      <th></th>\n",
       "      <th>CodigoVariable</th>\n",
       "      <th>FechaHora</th>\n",
       "      <th>CodigoDuracion</th>\n",
       "      <th>UnidadMedida</th>\n",
       "      <th>Version</th>\n",
       "      <th>Valor</th>\n",
       "    </tr>\n",
       "  </thead>\n",
       "  <tbody>\n",
       "    <tr>\n",
       "      <th>0</th>\n",
       "      <td>PB_Nal</td>\n",
       "      <td>2022-01-31 00:00:00</td>\n",
       "      <td>PT1H</td>\n",
       "      <td>COP/kWh</td>\n",
       "      <td>TX4</td>\n",
       "      <td>454.2241</td>\n",
       "    </tr>\n",
       "    <tr>\n",
       "      <th>1</th>\n",
       "      <td>PB_Nal</td>\n",
       "      <td>2022-01-31 01:00:00</td>\n",
       "      <td>PT1H</td>\n",
       "      <td>COP/kWh</td>\n",
       "      <td>TX4</td>\n",
       "      <td>454.2241</td>\n",
       "    </tr>\n",
       "    <tr>\n",
       "      <th>2</th>\n",
       "      <td>PB_Nal</td>\n",
       "      <td>2022-01-31 02:00:00</td>\n",
       "      <td>PT1H</td>\n",
       "      <td>COP/kWh</td>\n",
       "      <td>TX4</td>\n",
       "      <td>454.2241</td>\n",
       "    </tr>\n",
       "    <tr>\n",
       "      <th>3</th>\n",
       "      <td>PB_Nal</td>\n",
       "      <td>2022-01-31 03:00:00</td>\n",
       "      <td>PT1H</td>\n",
       "      <td>COP/kWh</td>\n",
       "      <td>TX4</td>\n",
       "      <td>454.2241</td>\n",
       "    </tr>\n",
       "    <tr>\n",
       "      <th>4</th>\n",
       "      <td>PB_Nal</td>\n",
       "      <td>2022-01-31 04:00:00</td>\n",
       "      <td>PT1H</td>\n",
       "      <td>COP/kWh</td>\n",
       "      <td>TX4</td>\n",
       "      <td>454.2241</td>\n",
       "    </tr>\n",
       "    <tr>\n",
       "      <th>5</th>\n",
       "      <td>PB_Nal</td>\n",
       "      <td>2022-01-31 05:00:00</td>\n",
       "      <td>PT1H</td>\n",
       "      <td>COP/kWh</td>\n",
       "      <td>TX4</td>\n",
       "      <td>527.2241</td>\n",
       "    </tr>\n",
       "    <tr>\n",
       "      <th>6</th>\n",
       "      <td>PB_Nal</td>\n",
       "      <td>2022-01-31 06:00:00</td>\n",
       "      <td>PT1H</td>\n",
       "      <td>COP/kWh</td>\n",
       "      <td>TX4</td>\n",
       "      <td>527.2241</td>\n",
       "    </tr>\n",
       "    <tr>\n",
       "      <th>7</th>\n",
       "      <td>PB_Nal</td>\n",
       "      <td>2022-01-31 07:00:00</td>\n",
       "      <td>PT1H</td>\n",
       "      <td>COP/kWh</td>\n",
       "      <td>TX4</td>\n",
       "      <td>527.2241</td>\n",
       "    </tr>\n",
       "    <tr>\n",
       "      <th>8</th>\n",
       "      <td>PB_Nal</td>\n",
       "      <td>2022-01-31 08:00:00</td>\n",
       "      <td>PT1H</td>\n",
       "      <td>COP/kWh</td>\n",
       "      <td>TX4</td>\n",
       "      <td>537.2241</td>\n",
       "    </tr>\n",
       "    <tr>\n",
       "      <th>9</th>\n",
       "      <td>PB_Nal</td>\n",
       "      <td>2022-01-31 09:00:00</td>\n",
       "      <td>PT1H</td>\n",
       "      <td>COP/kWh</td>\n",
       "      <td>TX4</td>\n",
       "      <td>537.2241</td>\n",
       "    </tr>\n",
       "  </tbody>\n",
       "</table>\n",
       "</div>"
      ],
      "text/plain": [
       "  CodigoVariable            FechaHora CodigoDuracion UnidadMedida Version  \\\n",
       "0         PB_Nal  2022-01-31 00:00:00           PT1H      COP/kWh     TX4   \n",
       "1         PB_Nal  2022-01-31 01:00:00           PT1H      COP/kWh     TX4   \n",
       "2         PB_Nal  2022-01-31 02:00:00           PT1H      COP/kWh     TX4   \n",
       "3         PB_Nal  2022-01-31 03:00:00           PT1H      COP/kWh     TX4   \n",
       "4         PB_Nal  2022-01-31 04:00:00           PT1H      COP/kWh     TX4   \n",
       "5         PB_Nal  2022-01-31 05:00:00           PT1H      COP/kWh     TX4   \n",
       "6         PB_Nal  2022-01-31 06:00:00           PT1H      COP/kWh     TX4   \n",
       "7         PB_Nal  2022-01-31 07:00:00           PT1H      COP/kWh     TX4   \n",
       "8         PB_Nal  2022-01-31 08:00:00           PT1H      COP/kWh     TX4   \n",
       "9         PB_Nal  2022-01-31 09:00:00           PT1H      COP/kWh     TX4   \n",
       "\n",
       "      Valor  \n",
       "0  454.2241  \n",
       "1  454.2241  \n",
       "2  454.2241  \n",
       "3  454.2241  \n",
       "4  454.2241  \n",
       "5  527.2241  \n",
       "6  527.2241  \n",
       "7  527.2241  \n",
       "8  537.2241  \n",
       "9  537.2241  "
      ]
     },
     "metadata": {},
     "output_type": "display_data"
    }
   ],
   "source": [
    "id_dataset = 'EC6945'                                                                           # ID del conjunto de datos a consultar\n",
    "fecha_inicial = '2022-01-01'                                                                    # Fecha de inicio del rango de consulta\n",
    "fecha_final = '2024-12-31'                                                                      # Fecha de fin del rango de consulta\n",
    "nombre_columna = 'CodigoVariable'                                                               # Nombre de la columna que se desea filtrar\n",
    "valor_filtro = 'PB_Nal'                                                                         # Valor del filtro para la columna\n",
    "simem_pbNal = ReadSIMEM(id_dataset, fecha_inicial, fecha_final, nombre_columna, valor_filtro)   # Instancia de la clase ReadSIMEM con los parámetros definidos\n",
    "df_pbNal = simem_pbNal.main(filter=True)                                                        # Ejecución del método principal para obtener los datos en un DataFrame\n",
    "display(df_pbNal.head(10))                                                                      # Visualización de las primeras 10 filas del DataFrame"
   ]
  },
  {
   "cell_type": "markdown",
   "metadata": {},
   "source": [
    "Se leerá el conjunto de datos con la OEF diaria con los mismos rangos de fechas, y se filtrará este por su máxima versión"
   ]
  },
  {
   "cell_type": "code",
   "execution_count": 5,
   "metadata": {},
   "outputs": [
    {
     "name": "stdout",
     "output_type": "stream",
     "text": [
      "****************************************************************************************************\n",
      "Initializing object\n",
      "The object has been initialized with the dataset: \"Datos soporte del proceso de liquidación por Código sic agente, Recurso, versión y diaria\"\n",
      "****************************************************************************************************\n",
      "Inicio consulta sincronica\n",
      "Creacion url: 0.001194000244140625\n",
      "Extraccion de registros: 195.2318286895752\n",
      "End of data extracting process\n",
      "****************************************************************************************************\n"
     ]
    },
    {
     "data": {
      "application/vnd.microsoft.datawrangler.viewer.v0+json": {
       "columns": [
        {
         "name": "index",
         "rawType": "int64",
         "type": "integer"
        },
        {
         "name": "CodigoVariable",
         "rawType": "object",
         "type": "string"
        },
        {
         "name": "FechaInicio",
         "rawType": "object",
         "type": "string"
        },
        {
         "name": "CodigoDuracion",
         "rawType": "object",
         "type": "string"
        },
        {
         "name": "UnidadMedida",
         "rawType": "object",
         "type": "string"
        },
        {
         "name": "CodigoSICAgente",
         "rawType": "object",
         "type": "string"
        },
        {
         "name": "CodigoPlanta",
         "rawType": "object",
         "type": "string"
        },
        {
         "name": "Version",
         "rawType": "object",
         "type": "string"
        },
        {
         "name": "Valor",
         "rawType": "float64",
         "type": "float"
        }
       ],
       "ref": "ab1aa9cc-c7cf-48f3-b7a0-c15540a64db3",
       "rows": [
        [
         "0",
         "OEFDiaria",
         "2022-01-31",
         "P1D",
         "kWh",
         "CDNG",
         "RBB1",
         "TX4",
         "61009.8086"
        ],
        [
         "1",
         "OEFDiaria",
         "2022-01-31",
         "P1D",
         "kWh",
         "ISGG",
         "GCA1",
         "TX4",
         "74310.4531"
        ],
        [
         "2",
         "OEFDiaria",
         "2022-01-31",
         "P1D",
         "kWh",
         "EMEG",
         "PIC1",
         "TX4",
         "3828.0"
        ],
        [
         "3",
         "OEFDiaria",
         "2022-01-31",
         "P1D",
         "kWh",
         "EPSG",
         "2S6S",
         "TX4",
         "237.6"
        ],
        [
         "4",
         "OEFDiaria",
         "2022-01-31",
         "P1D",
         "kWh",
         "EPMG",
         "SNC1",
         "TX4",
         "13760.3799"
        ],
        [
         "5",
         "OEFDiaria",
         "2022-01-31",
         "P1D",
         "kWh",
         "ENDG",
         "GVIO",
         "TX4",
         "11809108.0"
        ],
        [
         "6",
         "OEFDiaria",
         "2022-01-31",
         "P1D",
         "kWh",
         "EPSG",
         "RCL1",
         "TX4",
         "32800.1406"
        ],
        [
         "7",
         "OEFDiaria",
         "2022-01-31",
         "P1D",
         "kWh",
         "CETG",
         "RMR1",
         "TX4",
         "45748.3008"
        ],
        [
         "8",
         "OEFDiaria",
         "2022-01-31",
         "P1D",
         "kWh",
         "CETG",
         "RFR2",
         "TX4",
         "125469.6016"
        ],
        [
         "9",
         "OEFDiaria",
         "2022-01-31",
         "P1D",
         "kWh",
         "EGEG",
         "2YIR",
         "TX4",
         "11220.5498"
        ]
       ],
       "shape": {
        "columns": 8,
        "rows": 10
       }
      },
      "text/html": [
       "<div>\n",
       "<style scoped>\n",
       "    .dataframe tbody tr th:only-of-type {\n",
       "        vertical-align: middle;\n",
       "    }\n",
       "\n",
       "    .dataframe tbody tr th {\n",
       "        vertical-align: top;\n",
       "    }\n",
       "\n",
       "    .dataframe thead th {\n",
       "        text-align: right;\n",
       "    }\n",
       "</style>\n",
       "<table border=\"1\" class=\"dataframe\">\n",
       "  <thead>\n",
       "    <tr style=\"text-align: right;\">\n",
       "      <th></th>\n",
       "      <th>CodigoVariable</th>\n",
       "      <th>FechaInicio</th>\n",
       "      <th>CodigoDuracion</th>\n",
       "      <th>UnidadMedida</th>\n",
       "      <th>CodigoSICAgente</th>\n",
       "      <th>CodigoPlanta</th>\n",
       "      <th>Version</th>\n",
       "      <th>Valor</th>\n",
       "    </tr>\n",
       "  </thead>\n",
       "  <tbody>\n",
       "    <tr>\n",
       "      <th>0</th>\n",
       "      <td>OEFDiaria</td>\n",
       "      <td>2022-01-31</td>\n",
       "      <td>P1D</td>\n",
       "      <td>kWh</td>\n",
       "      <td>CDNG</td>\n",
       "      <td>RBB1</td>\n",
       "      <td>TX4</td>\n",
       "      <td>6.100981e+04</td>\n",
       "    </tr>\n",
       "    <tr>\n",
       "      <th>1</th>\n",
       "      <td>OEFDiaria</td>\n",
       "      <td>2022-01-31</td>\n",
       "      <td>P1D</td>\n",
       "      <td>kWh</td>\n",
       "      <td>ISGG</td>\n",
       "      <td>GCA1</td>\n",
       "      <td>TX4</td>\n",
       "      <td>7.431045e+04</td>\n",
       "    </tr>\n",
       "    <tr>\n",
       "      <th>2</th>\n",
       "      <td>OEFDiaria</td>\n",
       "      <td>2022-01-31</td>\n",
       "      <td>P1D</td>\n",
       "      <td>kWh</td>\n",
       "      <td>EMEG</td>\n",
       "      <td>PIC1</td>\n",
       "      <td>TX4</td>\n",
       "      <td>3.828000e+03</td>\n",
       "    </tr>\n",
       "    <tr>\n",
       "      <th>3</th>\n",
       "      <td>OEFDiaria</td>\n",
       "      <td>2022-01-31</td>\n",
       "      <td>P1D</td>\n",
       "      <td>kWh</td>\n",
       "      <td>EPSG</td>\n",
       "      <td>2S6S</td>\n",
       "      <td>TX4</td>\n",
       "      <td>2.376000e+02</td>\n",
       "    </tr>\n",
       "    <tr>\n",
       "      <th>4</th>\n",
       "      <td>OEFDiaria</td>\n",
       "      <td>2022-01-31</td>\n",
       "      <td>P1D</td>\n",
       "      <td>kWh</td>\n",
       "      <td>EPMG</td>\n",
       "      <td>SNC1</td>\n",
       "      <td>TX4</td>\n",
       "      <td>1.376038e+04</td>\n",
       "    </tr>\n",
       "    <tr>\n",
       "      <th>5</th>\n",
       "      <td>OEFDiaria</td>\n",
       "      <td>2022-01-31</td>\n",
       "      <td>P1D</td>\n",
       "      <td>kWh</td>\n",
       "      <td>ENDG</td>\n",
       "      <td>GVIO</td>\n",
       "      <td>TX4</td>\n",
       "      <td>1.180911e+07</td>\n",
       "    </tr>\n",
       "    <tr>\n",
       "      <th>6</th>\n",
       "      <td>OEFDiaria</td>\n",
       "      <td>2022-01-31</td>\n",
       "      <td>P1D</td>\n",
       "      <td>kWh</td>\n",
       "      <td>EPSG</td>\n",
       "      <td>RCL1</td>\n",
       "      <td>TX4</td>\n",
       "      <td>3.280014e+04</td>\n",
       "    </tr>\n",
       "    <tr>\n",
       "      <th>7</th>\n",
       "      <td>OEFDiaria</td>\n",
       "      <td>2022-01-31</td>\n",
       "      <td>P1D</td>\n",
       "      <td>kWh</td>\n",
       "      <td>CETG</td>\n",
       "      <td>RMR1</td>\n",
       "      <td>TX4</td>\n",
       "      <td>4.574830e+04</td>\n",
       "    </tr>\n",
       "    <tr>\n",
       "      <th>8</th>\n",
       "      <td>OEFDiaria</td>\n",
       "      <td>2022-01-31</td>\n",
       "      <td>P1D</td>\n",
       "      <td>kWh</td>\n",
       "      <td>CETG</td>\n",
       "      <td>RFR2</td>\n",
       "      <td>TX4</td>\n",
       "      <td>1.254696e+05</td>\n",
       "    </tr>\n",
       "    <tr>\n",
       "      <th>9</th>\n",
       "      <td>OEFDiaria</td>\n",
       "      <td>2022-01-31</td>\n",
       "      <td>P1D</td>\n",
       "      <td>kWh</td>\n",
       "      <td>EGEG</td>\n",
       "      <td>2YIR</td>\n",
       "      <td>TX4</td>\n",
       "      <td>1.122055e+04</td>\n",
       "    </tr>\n",
       "  </tbody>\n",
       "</table>\n",
       "</div>"
      ],
      "text/plain": [
       "  CodigoVariable FechaInicio CodigoDuracion UnidadMedida CodigoSICAgente  \\\n",
       "0      OEFDiaria  2022-01-31            P1D          kWh            CDNG   \n",
       "1      OEFDiaria  2022-01-31            P1D          kWh            ISGG   \n",
       "2      OEFDiaria  2022-01-31            P1D          kWh            EMEG   \n",
       "3      OEFDiaria  2022-01-31            P1D          kWh            EPSG   \n",
       "4      OEFDiaria  2022-01-31            P1D          kWh            EPMG   \n",
       "5      OEFDiaria  2022-01-31            P1D          kWh            ENDG   \n",
       "6      OEFDiaria  2022-01-31            P1D          kWh            EPSG   \n",
       "7      OEFDiaria  2022-01-31            P1D          kWh            CETG   \n",
       "8      OEFDiaria  2022-01-31            P1D          kWh            CETG   \n",
       "9      OEFDiaria  2022-01-31            P1D          kWh            EGEG   \n",
       "\n",
       "  CodigoPlanta Version         Valor  \n",
       "0         RBB1     TX4  6.100981e+04  \n",
       "1         GCA1     TX4  7.431045e+04  \n",
       "2         PIC1     TX4  3.828000e+03  \n",
       "3         2S6S     TX4  2.376000e+02  \n",
       "4         SNC1     TX4  1.376038e+04  \n",
       "5         GVIO     TX4  1.180911e+07  \n",
       "6         RCL1     TX4  3.280014e+04  \n",
       "7         RMR1     TX4  4.574830e+04  \n",
       "8         RFR2     TX4  1.254696e+05  \n",
       "9         2YIR     TX4  1.122055e+04  "
      ]
     },
     "metadata": {},
     "output_type": "display_data"
    }
   ],
   "source": [
    "id_dataset = '4eb7e3'                                                                           # ID del conjunto de datos a consultar\n",
    "fecha_inicial = '2022-01-01'                                                                    # Fecha de inicio del rango de consulta\n",
    "fecha_final = '2024-12-31'                                                                      # Fecha de fin del rango de consulta\n",
    "nombre_columna = 'CodigoVariable'                                                               # Nombre de la columna que se desea filtrar\n",
    "valor_filtro = 'OEFDiaria'                                                                      # Valor del filtro para la columna\n",
    "simem_oef = ReadSIMEM(id_dataset, fecha_inicial, fecha_final, nombre_columna, valor_filtro)     # Instancia de la clase ReadSIMEM con los parámetros definidos\n",
    "df_oef = simem_oef.main(filter=True)                                                            # Ejecución del método principal para obtener los datos en un DataFrame\n",
    "display(df_oef.head(10))                                                                        # Visualización de las primeras 10 filas del DataFrame"
   ]
  },
  {
   "cell_type": "markdown",
   "metadata": {},
   "source": [
    "<a id='section4'></a>\n",
    "# 4. Manipulación de datos\n",
    "Los siguientes pasos corresponden a las actividades de manipulación y preparación de los datos que son relevantes para el análisis. "
   ]
  },
  {
   "cell_type": "markdown",
   "metadata": {},
   "source": [
    "Inicialmente se crearán funciones que serán de utilidad para el proceso de Manipulación de datos"
   ]
  },
  {
   "cell_type": "code",
   "execution_count": 6,
   "metadata": {},
   "outputs": [],
   "source": [
    "def filtrar_ultima_version(df, columna_fecha, columna_version, columna_variable=None):                      # Función para filtrar la última versión de registros por mes y variables (opcional)\n",
    "    versiones = ['TX1', 'TX2', 'TXR', 'TXF', 'TX3', 'TX4', 'TX5', 'TX6', 'TX7', 'TX8', 'TX9', 'TX10']        # Lista de versiones ordenadas por prioridad\n",
    "    version_orden = pd.Series(range(1, len(versiones) + 1), index=versiones)                                # Serie que asigna un orden numérico a cada versión\n",
    "    df[columna_fecha] = pd.to_datetime(df[columna_fecha])                                                   # Conversión de la columna de fecha a tipo datetime\n",
    "    df['año_mes'] = df[columna_fecha].dt.to_period('M')                                                     # Se crea una columna con el año y mes del registro\n",
    "    df['orden_version'] = df[columna_version].map(version_orden)                                            # Se asigna el orden de versión a cada fila\n",
    "\n",
    "    if columna_variable is None:                                                                            # Si no se especifican variables adicionales\n",
    "        df_filtrado = df.sort_values(['año_mes', 'orden_version'], ascending=[True, False])                 # Ordena por mes y versión descendente\n",
    "        df_filtrado = df_filtrado.drop_duplicates(subset=[columna_fecha], keep='first')                     # Elimina duplicados conservando la última versión por fecha\n",
    "    else:                                                                                                    # Si se especifican variables adicionales\n",
    "        if isinstance(columna_variable, str):                                                               # Convierte a lista si es un solo string\n",
    "            columna_variable = [columna_variable]\n",
    "        orden_columnas = columna_variable + ['año_mes', 'orden_version']                                    # Define el orden de columnas para ordenar\n",
    "        df_filtrado = df.sort_values(orden_columnas, ascending=[True]*len(columna_variable) + [True, False])# Ordena por variables, mes y versión\n",
    "        df_filtrado = df_filtrado.drop_duplicates(subset=columna_variable + [columna_fecha], keep='first')  # Elimina duplicados por variables y fecha\n",
    "\n",
    "    df_filtrado = df_filtrado.drop(columns=['año_mes', 'orden_version'])                                    # Elimina columnas auxiliares\n",
    "    return df_filtrado                                                                                      # Retorna el DataFrame filtrado"
   ]
  },
  {
   "cell_type": "code",
   "execution_count": 7,
   "metadata": {},
   "outputs": [],
   "source": [
    "def agrupar_mensualmente_dataset(df, columna_fecha, columna_variable, columna_valor, variable, operacion):\n",
    "    df = df.sort_values(by=columna_fecha)                                                       # Ordena los datos por la columna fecha\n",
    "    df_pivot = df.pivot(index=columna_fecha, columns=columna_variable, values=columna_valor)    # Pivotear el DataFrame usando 'Fecha' como índice\n",
    "    df_pivot.reset_index(inplace=True)                                                          # Resetea el indice como columna Fecha\n",
    "    df_pivot = df_pivot.assign(Fecha=pd.to_datetime(df_pivot[columna_fecha]))                   # Se cambia el tipo de dato de la columna Fecha\n",
    "    df_pivot['año_mes'] = df_pivot['Fecha'].dt.strftime('%Y-%m')                                # Se agrega una columna con el año y el mes\n",
    "    if operacion == 'sum':\n",
    "        df_mensual = df_pivot.groupby('año_mes', as_index=False)[variable].sum()                   # Se agrupa la información del precio de bolsa por mes\n",
    "    else:\n",
    "        df_mensual = df_pivot.groupby('año_mes', as_index=False)[variable].mean()                   # Se agrupa la información del precio de bolsa por mes\n",
    "    df_mensual.rename(columns={variable: f'{variable}_mensual'}, inplace=True)                  # Se renombra la columna de la variable\n",
    "    return df_mensual                                                                           # Se retorna el dataset agrupado mensualmente"
   ]
  },
  {
   "cell_type": "markdown",
   "metadata": {},
   "source": [
    "Los dataframes se filtarán para tener los datos necesarios para la visualización, eligiendo el CERE y el CEE."
   ]
  },
  {
   "cell_type": "code",
   "execution_count": 8,
   "metadata": {},
   "outputs": [
    {
     "data": {
      "application/vnd.microsoft.datawrangler.viewer.v0+json": {
       "columns": [
        {
         "name": "index",
         "rawType": "int64",
         "type": "integer"
        },
        {
         "name": "Fecha",
         "rawType": "object",
         "type": "string"
        },
        {
         "name": "CERE",
         "rawType": "float64",
         "type": "float"
        },
        {
         "name": "CEE",
         "rawType": "float64",
         "type": "float"
        }
       ],
       "ref": "a4273bd0-8327-44cb-8b8c-b4cf29803450",
       "rows": [
        [
         "24",
         "2024-12-01",
         "93.15",
         "87.75"
        ],
        [
         "25",
         "2024-11-01",
         "83.95",
         "84.31"
        ],
        [
         "26",
         "2024-10-01",
         "79.46",
         "81.9"
        ],
        [
         "27",
         "2024-09-01",
         "79.66",
         "77.65"
        ],
        [
         "28",
         "2024-08-01",
         "83.99",
         "76.03"
        ]
       ],
       "shape": {
        "columns": 3,
        "rows": 5
       }
      },
      "text/html": [
       "<div>\n",
       "<style scoped>\n",
       "    .dataframe tbody tr th:only-of-type {\n",
       "        vertical-align: middle;\n",
       "    }\n",
       "\n",
       "    .dataframe tbody tr th {\n",
       "        vertical-align: top;\n",
       "    }\n",
       "\n",
       "    .dataframe thead th {\n",
       "        text-align: right;\n",
       "    }\n",
       "</style>\n",
       "<table border=\"1\" class=\"dataframe\">\n",
       "  <thead>\n",
       "    <tr style=\"text-align: right;\">\n",
       "      <th></th>\n",
       "      <th>Fecha</th>\n",
       "      <th>CERE</th>\n",
       "      <th>CEE</th>\n",
       "    </tr>\n",
       "  </thead>\n",
       "  <tbody>\n",
       "    <tr>\n",
       "      <th>24</th>\n",
       "      <td>2024-12-01</td>\n",
       "      <td>93.15</td>\n",
       "      <td>87.75</td>\n",
       "    </tr>\n",
       "    <tr>\n",
       "      <th>25</th>\n",
       "      <td>2024-11-01</td>\n",
       "      <td>83.95</td>\n",
       "      <td>84.31</td>\n",
       "    </tr>\n",
       "    <tr>\n",
       "      <th>26</th>\n",
       "      <td>2024-10-01</td>\n",
       "      <td>79.46</td>\n",
       "      <td>81.90</td>\n",
       "    </tr>\n",
       "    <tr>\n",
       "      <th>27</th>\n",
       "      <td>2024-09-01</td>\n",
       "      <td>79.66</td>\n",
       "      <td>77.65</td>\n",
       "    </tr>\n",
       "    <tr>\n",
       "      <th>28</th>\n",
       "      <td>2024-08-01</td>\n",
       "      <td>83.99</td>\n",
       "      <td>76.03</td>\n",
       "    </tr>\n",
       "  </tbody>\n",
       "</table>\n",
       "</div>"
      ],
      "text/plain": [
       "         Fecha   CERE    CEE\n",
       "24  2024-12-01  93.15  87.75\n",
       "25  2024-11-01  83.95  84.31\n",
       "26  2024-10-01  79.46  81.90\n",
       "27  2024-09-01  79.66  77.65\n",
       "28  2024-08-01  83.99  76.03"
      ]
     },
     "metadata": {},
     "output_type": "display_data"
    }
   ],
   "source": [
    "df_filtrado = df_dataset[['Fecha', 'CERE','CEE']]                   # Selecciona únicamente las columnas 'Fecha','CERE' y 'CEE' del DataFrame\n",
    "df_filtrado = df_filtrado.sort_values(by='Fecha', ascending=False)  # Ordena los datos por la columna Fecha\n",
    "\n",
    "display(df_filtrado.head(5))                                        # Muestra el DataFrame filtrado"
   ]
  },
  {
   "cell_type": "code",
   "execution_count": 9,
   "metadata": {},
   "outputs": [
    {
     "data": {
      "application/vnd.microsoft.datawrangler.viewer.v0+json": {
       "columns": [
        {
         "name": "index",
         "rawType": "int64",
         "type": "integer"
        },
        {
         "name": "Fecha",
         "rawType": "datetime64[ns]",
         "type": "datetime"
        },
        {
         "name": "CERE",
         "rawType": "float64",
         "type": "float"
        },
        {
         "name": "CEE",
         "rawType": "float64",
         "type": "float"
        },
        {
         "name": "año_mes",
         "rawType": "object",
         "type": "string"
        }
       ],
       "ref": "08650d57-b145-4378-85a1-1f10df0d2412",
       "rows": [
        [
         "24",
         "2024-12-01 00:00:00",
         "93.15",
         "87.75",
         "2024-12"
        ],
        [
         "25",
         "2024-11-01 00:00:00",
         "83.95",
         "84.31",
         "2024-11"
        ],
        [
         "26",
         "2024-10-01 00:00:00",
         "79.46",
         "81.9",
         "2024-10"
        ],
        [
         "27",
         "2024-09-01 00:00:00",
         "79.66",
         "77.65",
         "2024-09"
        ],
        [
         "28",
         "2024-08-01 00:00:00",
         "83.99",
         "76.03",
         "2024-08"
        ]
       ],
       "shape": {
        "columns": 4,
        "rows": 5
       }
      },
      "text/html": [
       "<div>\n",
       "<style scoped>\n",
       "    .dataframe tbody tr th:only-of-type {\n",
       "        vertical-align: middle;\n",
       "    }\n",
       "\n",
       "    .dataframe tbody tr th {\n",
       "        vertical-align: top;\n",
       "    }\n",
       "\n",
       "    .dataframe thead th {\n",
       "        text-align: right;\n",
       "    }\n",
       "</style>\n",
       "<table border=\"1\" class=\"dataframe\">\n",
       "  <thead>\n",
       "    <tr style=\"text-align: right;\">\n",
       "      <th></th>\n",
       "      <th>Fecha</th>\n",
       "      <th>CERE</th>\n",
       "      <th>CEE</th>\n",
       "      <th>año_mes</th>\n",
       "    </tr>\n",
       "  </thead>\n",
       "  <tbody>\n",
       "    <tr>\n",
       "      <th>24</th>\n",
       "      <td>2024-12-01</td>\n",
       "      <td>93.15</td>\n",
       "      <td>87.75</td>\n",
       "      <td>2024-12</td>\n",
       "    </tr>\n",
       "    <tr>\n",
       "      <th>25</th>\n",
       "      <td>2024-11-01</td>\n",
       "      <td>83.95</td>\n",
       "      <td>84.31</td>\n",
       "      <td>2024-11</td>\n",
       "    </tr>\n",
       "    <tr>\n",
       "      <th>26</th>\n",
       "      <td>2024-10-01</td>\n",
       "      <td>79.46</td>\n",
       "      <td>81.90</td>\n",
       "      <td>2024-10</td>\n",
       "    </tr>\n",
       "    <tr>\n",
       "      <th>27</th>\n",
       "      <td>2024-09-01</td>\n",
       "      <td>79.66</td>\n",
       "      <td>77.65</td>\n",
       "      <td>2024-09</td>\n",
       "    </tr>\n",
       "    <tr>\n",
       "      <th>28</th>\n",
       "      <td>2024-08-01</td>\n",
       "      <td>83.99</td>\n",
       "      <td>76.03</td>\n",
       "      <td>2024-08</td>\n",
       "    </tr>\n",
       "  </tbody>\n",
       "</table>\n",
       "</div>"
      ],
      "text/plain": [
       "        Fecha   CERE    CEE  año_mes\n",
       "24 2024-12-01  93.15  87.75  2024-12\n",
       "25 2024-11-01  83.95  84.31  2024-11\n",
       "26 2024-10-01  79.46  81.90  2024-10\n",
       "27 2024-09-01  79.66  77.65  2024-09\n",
       "28 2024-08-01  83.99  76.03  2024-08"
      ]
     },
     "metadata": {},
     "output_type": "display_data"
    }
   ],
   "source": [
    "df_filtrado['Fecha'] = pd.to_datetime(df_filtrado['Fecha'])                     # Se asegura que la columna Fecha sea de tipo Datetime\n",
    "df_filtrado['año_mes'] = df_filtrado['Fecha'].dt.strftime('%Y-%m')              # Se agrega una columna con el año y el mes\n",
    "\n",
    "display(df_filtrado.head(5))                                                    # Muestra el DataFrame con la nueva columna año-mes"
   ]
  },
  {
   "cell_type": "markdown",
   "metadata": {},
   "source": [
    "Ahora se manipularan los datos del precio de bolsa"
   ]
  },
  {
   "cell_type": "code",
   "execution_count": 10,
   "metadata": {},
   "outputs": [
    {
     "data": {
      "application/vnd.microsoft.datawrangler.viewer.v0+json": {
       "columns": [
        {
         "name": "index",
         "rawType": "int64",
         "type": "integer"
        },
        {
         "name": "FechaHora",
         "rawType": "datetime64[ns]",
         "type": "datetime"
        },
        {
         "name": "CodigoVariable",
         "rawType": "object",
         "type": "string"
        },
        {
         "name": "Version",
         "rawType": "object",
         "type": "string"
        },
        {
         "name": "Valor",
         "rawType": "float64",
         "type": "float"
        }
       ],
       "ref": "dbe2f613-f5d1-4fbb-b1c1-3eb109c8e894",
       "rows": [
        [
         "720",
         "2022-01-01 00:00:00",
         "PB_Nal",
         "TX4",
         "186.5768"
        ],
        [
         "721",
         "2022-01-01 01:00:00",
         "PB_Nal",
         "TX4",
         "186.5768"
        ],
        [
         "722",
         "2022-01-01 02:00:00",
         "PB_Nal",
         "TX4",
         "186.5768"
        ],
        [
         "723",
         "2022-01-01 03:00:00",
         "PB_Nal",
         "TX4",
         "198.2558"
        ],
        [
         "724",
         "2022-01-01 04:00:00",
         "PB_Nal",
         "TX4",
         "186.5768"
        ],
        [
         "725",
         "2022-01-01 05:00:00",
         "PB_Nal",
         "TX4",
         "186.5768"
        ],
        [
         "726",
         "2022-01-01 06:00:00",
         "PB_Nal",
         "TX4",
         "185.5768"
        ],
        [
         "727",
         "2022-01-01 07:00:00",
         "PB_Nal",
         "TX4",
         "183.5568"
        ],
        [
         "728",
         "2022-01-01 08:00:00",
         "PB_Nal",
         "TX4",
         "185.5768"
        ],
        [
         "729",
         "2022-01-01 09:00:00",
         "PB_Nal",
         "TX4",
         "185.5768"
        ],
        [
         "730",
         "2022-01-01 10:00:00",
         "PB_Nal",
         "TX4",
         "186.5768"
        ],
        [
         "731",
         "2022-01-01 11:00:00",
         "PB_Nal",
         "TX4",
         "186.5768"
        ],
        [
         "732",
         "2022-01-01 12:00:00",
         "PB_Nal",
         "TX4",
         "187.5568"
        ],
        [
         "733",
         "2022-01-01 13:00:00",
         "PB_Nal",
         "TX4",
         "191.4778"
        ],
        [
         "734",
         "2022-01-01 14:00:00",
         "PB_Nal",
         "TX4",
         "187.5568"
        ],
        [
         "735",
         "2022-01-01 15:00:00",
         "PB_Nal",
         "TX4",
         "186.5768"
        ],
        [
         "736",
         "2022-01-01 16:00:00",
         "PB_Nal",
         "TX4",
         "186.5768"
        ],
        [
         "737",
         "2022-01-01 17:00:00",
         "PB_Nal",
         "TX4",
         "187.5568"
        ],
        [
         "738",
         "2022-01-01 18:00:00",
         "PB_Nal",
         "TX4",
         "224.5768"
        ],
        [
         "739",
         "2022-01-01 19:00:00",
         "PB_Nal",
         "TX4",
         "224.5768"
        ],
        [
         "740",
         "2022-01-01 20:00:00",
         "PB_Nal",
         "TX4",
         "224.5768"
        ],
        [
         "741",
         "2022-01-01 21:00:00",
         "PB_Nal",
         "TX4",
         "224.5768"
        ],
        [
         "742",
         "2022-01-01 22:00:00",
         "PB_Nal",
         "TX4",
         "224.5768"
        ],
        [
         "743",
         "2022-01-01 23:00:00",
         "PB_Nal",
         "TX4",
         "186.5768"
        ],
        [
         "719",
         "2022-01-02 00:00:00",
         "PB_Nal",
         "TX4",
         "145.7263"
        ],
        [
         "718",
         "2022-01-02 01:00:00",
         "PB_Nal",
         "TX4",
         "145.7263"
        ],
        [
         "717",
         "2022-01-02 02:00:00",
         "PB_Nal",
         "TX4",
         "145.7263"
        ],
        [
         "716",
         "2022-01-02 03:00:00",
         "PB_Nal",
         "TX4",
         "145.7263"
        ],
        [
         "715",
         "2022-01-02 04:00:00",
         "PB_Nal",
         "TX4",
         "145.7263"
        ],
        [
         "714",
         "2022-01-02 05:00:00",
         "PB_Nal",
         "TX4",
         "145.7263"
        ],
        [
         "713",
         "2022-01-02 06:00:00",
         "PB_Nal",
         "TX4",
         "145.7263"
        ],
        [
         "712",
         "2022-01-02 07:00:00",
         "PB_Nal",
         "TX4",
         "145.7263"
        ],
        [
         "711",
         "2022-01-02 08:00:00",
         "PB_Nal",
         "TX4",
         "145.7263"
        ],
        [
         "710",
         "2022-01-02 09:00:00",
         "PB_Nal",
         "TX4",
         "145.7263"
        ],
        [
         "709",
         "2022-01-02 10:00:00",
         "PB_Nal",
         "TX4",
         "150.6533"
        ],
        [
         "708",
         "2022-01-02 11:00:00",
         "PB_Nal",
         "TX4",
         "226.7263"
        ],
        [
         "707",
         "2022-01-02 12:00:00",
         "PB_Nal",
         "TX4",
         "226.7263"
        ],
        [
         "706",
         "2022-01-02 13:00:00",
         "PB_Nal",
         "TX4",
         "226.7263"
        ],
        [
         "705",
         "2022-01-02 14:00:00",
         "PB_Nal",
         "TX4",
         "226.7263"
        ],
        [
         "704",
         "2022-01-02 15:00:00",
         "PB_Nal",
         "TX4",
         "226.7263"
        ],
        [
         "703",
         "2022-01-02 16:00:00",
         "PB_Nal",
         "TX4",
         "188.7063"
        ],
        [
         "702",
         "2022-01-02 17:00:00",
         "PB_Nal",
         "TX4",
         "226.7263"
        ],
        [
         "701",
         "2022-01-02 18:00:00",
         "PB_Nal",
         "TX4",
         "257.7263"
        ],
        [
         "700",
         "2022-01-02 19:00:00",
         "PB_Nal",
         "TX4",
         "257.7263"
        ],
        [
         "699",
         "2022-01-02 20:00:00",
         "PB_Nal",
         "TX4",
         "257.7263"
        ],
        [
         "698",
         "2022-01-02 21:00:00",
         "PB_Nal",
         "TX4",
         "257.7263"
        ],
        [
         "697",
         "2022-01-02 22:00:00",
         "PB_Nal",
         "TX4",
         "257.7263"
        ],
        [
         "696",
         "2022-01-02 23:00:00",
         "PB_Nal",
         "TX4",
         "226.7263"
        ],
        [
         "672",
         "2022-01-03 00:00:00",
         "PB_Nal",
         "TX4",
         "97.9012"
        ],
        [
         "673",
         "2022-01-03 01:00:00",
         "PB_Nal",
         "TX4",
         "188.1542"
        ]
       ],
       "shape": {
        "columns": 4,
        "rows": 26304
       }
      },
      "text/html": [
       "<div>\n",
       "<style scoped>\n",
       "    .dataframe tbody tr th:only-of-type {\n",
       "        vertical-align: middle;\n",
       "    }\n",
       "\n",
       "    .dataframe tbody tr th {\n",
       "        vertical-align: top;\n",
       "    }\n",
       "\n",
       "    .dataframe thead th {\n",
       "        text-align: right;\n",
       "    }\n",
       "</style>\n",
       "<table border=\"1\" class=\"dataframe\">\n",
       "  <thead>\n",
       "    <tr style=\"text-align: right;\">\n",
       "      <th></th>\n",
       "      <th>FechaHora</th>\n",
       "      <th>CodigoVariable</th>\n",
       "      <th>Version</th>\n",
       "      <th>Valor</th>\n",
       "    </tr>\n",
       "  </thead>\n",
       "  <tbody>\n",
       "    <tr>\n",
       "      <th>720</th>\n",
       "      <td>2022-01-01 00:00:00</td>\n",
       "      <td>PB_Nal</td>\n",
       "      <td>TX4</td>\n",
       "      <td>186.5768</td>\n",
       "    </tr>\n",
       "    <tr>\n",
       "      <th>721</th>\n",
       "      <td>2022-01-01 01:00:00</td>\n",
       "      <td>PB_Nal</td>\n",
       "      <td>TX4</td>\n",
       "      <td>186.5768</td>\n",
       "    </tr>\n",
       "    <tr>\n",
       "      <th>722</th>\n",
       "      <td>2022-01-01 02:00:00</td>\n",
       "      <td>PB_Nal</td>\n",
       "      <td>TX4</td>\n",
       "      <td>186.5768</td>\n",
       "    </tr>\n",
       "    <tr>\n",
       "      <th>723</th>\n",
       "      <td>2022-01-01 03:00:00</td>\n",
       "      <td>PB_Nal</td>\n",
       "      <td>TX4</td>\n",
       "      <td>198.2558</td>\n",
       "    </tr>\n",
       "    <tr>\n",
       "      <th>724</th>\n",
       "      <td>2022-01-01 04:00:00</td>\n",
       "      <td>PB_Nal</td>\n",
       "      <td>TX4</td>\n",
       "      <td>186.5768</td>\n",
       "    </tr>\n",
       "    <tr>\n",
       "      <th>...</th>\n",
       "      <td>...</td>\n",
       "      <td>...</td>\n",
       "      <td>...</td>\n",
       "      <td>...</td>\n",
       "    </tr>\n",
       "    <tr>\n",
       "      <th>95974</th>\n",
       "      <td>2024-12-31 19:00:00</td>\n",
       "      <td>PB_Nal</td>\n",
       "      <td>TX6</td>\n",
       "      <td>500.0515</td>\n",
       "    </tr>\n",
       "    <tr>\n",
       "      <th>95973</th>\n",
       "      <td>2024-12-31 20:00:00</td>\n",
       "      <td>PB_Nal</td>\n",
       "      <td>TX6</td>\n",
       "      <td>249.6995</td>\n",
       "    </tr>\n",
       "    <tr>\n",
       "      <th>95972</th>\n",
       "      <td>2024-12-31 21:00:00</td>\n",
       "      <td>PB_Nal</td>\n",
       "      <td>TX6</td>\n",
       "      <td>155.0515</td>\n",
       "    </tr>\n",
       "    <tr>\n",
       "      <th>95971</th>\n",
       "      <td>2024-12-31 22:00:00</td>\n",
       "      <td>PB_Nal</td>\n",
       "      <td>TX6</td>\n",
       "      <td>119.0515</td>\n",
       "    </tr>\n",
       "    <tr>\n",
       "      <th>95970</th>\n",
       "      <td>2024-12-31 23:00:00</td>\n",
       "      <td>PB_Nal</td>\n",
       "      <td>TX6</td>\n",
       "      <td>119.0515</td>\n",
       "    </tr>\n",
       "  </tbody>\n",
       "</table>\n",
       "<p>26304 rows × 4 columns</p>\n",
       "</div>"
      ],
      "text/plain": [
       "                FechaHora CodigoVariable Version     Valor\n",
       "720   2022-01-01 00:00:00         PB_Nal     TX4  186.5768\n",
       "721   2022-01-01 01:00:00         PB_Nal     TX4  186.5768\n",
       "722   2022-01-01 02:00:00         PB_Nal     TX4  186.5768\n",
       "723   2022-01-01 03:00:00         PB_Nal     TX4  198.2558\n",
       "724   2022-01-01 04:00:00         PB_Nal     TX4  186.5768\n",
       "...                   ...            ...     ...       ...\n",
       "95974 2024-12-31 19:00:00         PB_Nal     TX6  500.0515\n",
       "95973 2024-12-31 20:00:00         PB_Nal     TX6  249.6995\n",
       "95972 2024-12-31 21:00:00         PB_Nal     TX6  155.0515\n",
       "95971 2024-12-31 22:00:00         PB_Nal     TX6  119.0515\n",
       "95970 2024-12-31 23:00:00         PB_Nal     TX6  119.0515\n",
       "\n",
       "[26304 rows x 4 columns]"
      ]
     },
     "execution_count": 10,
     "metadata": {},
     "output_type": "execute_result"
    }
   ],
   "source": [
    "df_result = filtrar_ultima_version(df=df_pbNal, columna_fecha='FechaHora', columna_version='Version')       # Aplica la función al DataFrame original\n",
    "df_result = df_result.sort_values(by='FechaHora')                                                           # Ordena los datos por la fecha\n",
    "df_result = df_result[['FechaHora', 'CodigoVariable', 'Version', 'Valor']]                                  # Selecciona únicamente las columnas 'FechaHora','CodigoVariable', 'Version' y 'Valor' del DataFrame\n",
    "df_result                                                                                                   # Muestra el resultado filtrado"
   ]
  },
  {
   "cell_type": "code",
   "execution_count": 11,
   "metadata": {},
   "outputs": [
    {
     "data": {
      "application/vnd.microsoft.datawrangler.viewer.v0+json": {
       "columns": [
        {
         "name": "index",
         "rawType": "int64",
         "type": "integer"
        },
        {
         "name": "año_mes",
         "rawType": "object",
         "type": "string"
        },
        {
         "name": "PB_Nal_mensual",
         "rawType": "float64",
         "type": "float"
        }
       ],
       "ref": "54dc903c-a314-414a-bfe4-ab5081340680",
       "rows": [
        [
         "0",
         "2022-01",
         "289.9188690860215"
        ],
        [
         "1",
         "2022-02",
         "399.1646476190476"
        ],
        [
         "2",
         "2022-03",
         "227.00018306451614"
        ],
        [
         "3",
         "2022-04",
         "143.7947822222222"
        ],
        [
         "4",
         "2022-05",
         "105.48974086021505"
        ]
       ],
       "shape": {
        "columns": 2,
        "rows": 5
       }
      },
      "text/html": [
       "<div>\n",
       "<style scoped>\n",
       "    .dataframe tbody tr th:only-of-type {\n",
       "        vertical-align: middle;\n",
       "    }\n",
       "\n",
       "    .dataframe tbody tr th {\n",
       "        vertical-align: top;\n",
       "    }\n",
       "\n",
       "    .dataframe thead th {\n",
       "        text-align: right;\n",
       "    }\n",
       "</style>\n",
       "<table border=\"1\" class=\"dataframe\">\n",
       "  <thead>\n",
       "    <tr style=\"text-align: right;\">\n",
       "      <th></th>\n",
       "      <th>año_mes</th>\n",
       "      <th>PB_Nal_mensual</th>\n",
       "    </tr>\n",
       "  </thead>\n",
       "  <tbody>\n",
       "    <tr>\n",
       "      <th>0</th>\n",
       "      <td>2022-01</td>\n",
       "      <td>289.918869</td>\n",
       "    </tr>\n",
       "    <tr>\n",
       "      <th>1</th>\n",
       "      <td>2022-02</td>\n",
       "      <td>399.164648</td>\n",
       "    </tr>\n",
       "    <tr>\n",
       "      <th>2</th>\n",
       "      <td>2022-03</td>\n",
       "      <td>227.000183</td>\n",
       "    </tr>\n",
       "    <tr>\n",
       "      <th>3</th>\n",
       "      <td>2022-04</td>\n",
       "      <td>143.794782</td>\n",
       "    </tr>\n",
       "    <tr>\n",
       "      <th>4</th>\n",
       "      <td>2022-05</td>\n",
       "      <td>105.489741</td>\n",
       "    </tr>\n",
       "  </tbody>\n",
       "</table>\n",
       "</div>"
      ],
      "text/plain": [
       "   año_mes  PB_Nal_mensual\n",
       "0  2022-01      289.918869\n",
       "1  2022-02      399.164648\n",
       "2  2022-03      227.000183\n",
       "3  2022-04      143.794782\n",
       "4  2022-05      105.489741"
      ]
     },
     "metadata": {},
     "output_type": "display_data"
    }
   ],
   "source": [
    "df_pbNal_mensual = agrupar_mensualmente_dataset(df_result, 'FechaHora', 'CodigoVariable', 'Valor', 'PB_Nal', 'mean')   # Se aplica la función para agrupar al DataFrame filtrado\n",
    "display(df_pbNal_mensual.head(5))                                                                              # Muestra los primeros 5 registros del DataFrame mensual"
   ]
  },
  {
   "cell_type": "markdown",
   "metadata": {},
   "source": [
    "Ahora se manipularan los datos de la oef"
   ]
  },
  {
   "cell_type": "code",
   "execution_count": 12,
   "metadata": {},
   "outputs": [
    {
     "data": {
      "application/vnd.microsoft.datawrangler.viewer.v0+json": {
       "columns": [
        {
         "name": "index",
         "rawType": "int64",
         "type": "integer"
        },
        {
         "name": "FechaInicio",
         "rawType": "datetime64[ns]",
         "type": "datetime"
        },
        {
         "name": "CodigoVariable",
         "rawType": "object",
         "type": "string"
        },
        {
         "name": "Valor",
         "rawType": "float64",
         "type": "float"
        }
       ],
       "ref": "4dafaa9c-f415-45cd-b0de-8adc368f2eb2",
       "rows": [
        [
         "0",
         "2022-01-01 00:00:00",
         "OEFDiaria",
         "182192024.3897"
        ],
        [
         "1",
         "2022-01-02 00:00:00",
         "OEFDiaria",
         "192018149.7351"
        ],
        [
         "2",
         "2022-01-03 00:00:00",
         "OEFDiaria",
         "214127734.7943"
        ],
        [
         "3",
         "2022-01-04 00:00:00",
         "OEFDiaria",
         "219853943.95769998"
        ],
        [
         "4",
         "2022-01-05 00:00:00",
         "OEFDiaria",
         "222713372.7391"
        ],
        [
         "5",
         "2022-01-06 00:00:00",
         "OEFDiaria",
         "222718222.8647"
        ],
        [
         "6",
         "2022-01-07 00:00:00",
         "OEFDiaria",
         "224253897.9583"
        ],
        [
         "7",
         "2022-01-08 00:00:00",
         "OEFDiaria",
         "218934107.3739"
        ],
        [
         "8",
         "2022-01-09 00:00:00",
         "OEFDiaria",
         "202614380.3053"
        ],
        [
         "9",
         "2022-01-10 00:00:00",
         "OEFDiaria",
         "204048054.3828"
        ],
        [
         "10",
         "2022-01-11 00:00:00",
         "OEFDiaria",
         "220531025.5313"
        ],
        [
         "11",
         "2022-01-12 00:00:00",
         "OEFDiaria",
         "224923392.3161"
        ],
        [
         "12",
         "2022-01-13 00:00:00",
         "OEFDiaria",
         "226767348.6646"
        ],
        [
         "13",
         "2022-01-14 00:00:00",
         "OEFDiaria",
         "227533192.6557"
        ],
        [
         "14",
         "2022-01-15 00:00:00",
         "OEFDiaria",
         "219174264.8086"
        ],
        [
         "15",
         "2022-01-16 00:00:00",
         "OEFDiaria",
         "206359568.9479"
        ],
        [
         "16",
         "2022-01-17 00:00:00",
         "OEFDiaria",
         "227115742.3403"
        ],
        [
         "17",
         "2022-01-18 00:00:00",
         "OEFDiaria",
         "230153055.1614"
        ],
        [
         "18",
         "2022-01-19 00:00:00",
         "OEFDiaria",
         "231789873.949"
        ],
        [
         "19",
         "2022-01-20 00:00:00",
         "OEFDiaria",
         "233186707.4712"
        ],
        [
         "20",
         "2022-01-21 00:00:00",
         "OEFDiaria",
         "235810402.1561"
        ],
        [
         "21",
         "2022-01-22 00:00:00",
         "OEFDiaria",
         "224889966.2404"
        ],
        [
         "22",
         "2022-01-23 00:00:00",
         "OEFDiaria",
         "208551370.6473"
        ],
        [
         "23",
         "2022-01-24 00:00:00",
         "OEFDiaria",
         "230486933.6027"
        ],
        [
         "24",
         "2022-01-25 00:00:00",
         "OEFDiaria",
         "231519661.5397"
        ],
        [
         "25",
         "2022-01-26 00:00:00",
         "OEFDiaria",
         "231641766.0191"
        ],
        [
         "26",
         "2022-01-27 00:00:00",
         "OEFDiaria",
         "232838106.8934"
        ],
        [
         "27",
         "2022-01-28 00:00:00",
         "OEFDiaria",
         "233393239.6868"
        ],
        [
         "28",
         "2022-01-29 00:00:00",
         "OEFDiaria",
         "222042561.109"
        ],
        [
         "29",
         "2022-01-30 00:00:00",
         "OEFDiaria",
         "200795984.5559"
        ],
        [
         "30",
         "2022-01-31 00:00:00",
         "OEFDiaria",
         "223751092.9543"
        ],
        [
         "31",
         "2022-02-01 00:00:00",
         "OEFDiaria",
         "233115373.6661"
        ],
        [
         "32",
         "2022-02-02 00:00:00",
         "OEFDiaria",
         "236007856.6287"
        ],
        [
         "33",
         "2022-02-03 00:00:00",
         "OEFDiaria",
         "238161549.8048"
        ],
        [
         "34",
         "2022-02-04 00:00:00",
         "OEFDiaria",
         "237683243.16"
        ],
        [
         "35",
         "2022-02-05 00:00:00",
         "OEFDiaria",
         "225910613.0272"
        ],
        [
         "36",
         "2022-02-06 00:00:00",
         "OEFDiaria",
         "204824650.7352"
        ],
        [
         "37",
         "2022-02-07 00:00:00",
         "OEFDiaria",
         "230981531.6897"
        ],
        [
         "38",
         "2022-02-08 00:00:00",
         "OEFDiaria",
         "232565304.807"
        ],
        [
         "39",
         "2022-02-09 00:00:00",
         "OEFDiaria",
         "233845084.9141"
        ],
        [
         "40",
         "2022-02-10 00:00:00",
         "OEFDiaria",
         "233933590.0158"
        ],
        [
         "41",
         "2022-02-11 00:00:00",
         "OEFDiaria",
         "237112413.259"
        ],
        [
         "42",
         "2022-02-12 00:00:00",
         "OEFDiaria",
         "229805615.201"
        ],
        [
         "43",
         "2022-02-13 00:00:00",
         "OEFDiaria",
         "211997905.74560001"
        ],
        [
         "44",
         "2022-02-14 00:00:00",
         "OEFDiaria",
         "235263241.0089"
        ],
        [
         "45",
         "2022-02-15 00:00:00",
         "OEFDiaria",
         "235809038.7191"
        ],
        [
         "46",
         "2022-02-16 00:00:00",
         "OEFDiaria",
         "234976852.0928"
        ],
        [
         "47",
         "2022-02-17 00:00:00",
         "OEFDiaria",
         "238353902.0957"
        ],
        [
         "48",
         "2022-02-18 00:00:00",
         "OEFDiaria",
         "236719757.88549998"
        ],
        [
         "49",
         "2022-02-19 00:00:00",
         "OEFDiaria",
         "227453141.3334"
        ]
       ],
       "shape": {
        "columns": 3,
        "rows": 1037
       }
      },
      "text/html": [
       "<div>\n",
       "<style scoped>\n",
       "    .dataframe tbody tr th:only-of-type {\n",
       "        vertical-align: middle;\n",
       "    }\n",
       "\n",
       "    .dataframe tbody tr th {\n",
       "        vertical-align: top;\n",
       "    }\n",
       "\n",
       "    .dataframe thead th {\n",
       "        text-align: right;\n",
       "    }\n",
       "</style>\n",
       "<table border=\"1\" class=\"dataframe\">\n",
       "  <thead>\n",
       "    <tr style=\"text-align: right;\">\n",
       "      <th></th>\n",
       "      <th>FechaInicio</th>\n",
       "      <th>CodigoVariable</th>\n",
       "      <th>Valor</th>\n",
       "    </tr>\n",
       "  </thead>\n",
       "  <tbody>\n",
       "    <tr>\n",
       "      <th>0</th>\n",
       "      <td>2022-01-01</td>\n",
       "      <td>OEFDiaria</td>\n",
       "      <td>1.821920e+08</td>\n",
       "    </tr>\n",
       "    <tr>\n",
       "      <th>1</th>\n",
       "      <td>2022-01-02</td>\n",
       "      <td>OEFDiaria</td>\n",
       "      <td>1.920181e+08</td>\n",
       "    </tr>\n",
       "    <tr>\n",
       "      <th>2</th>\n",
       "      <td>2022-01-03</td>\n",
       "      <td>OEFDiaria</td>\n",
       "      <td>2.141277e+08</td>\n",
       "    </tr>\n",
       "    <tr>\n",
       "      <th>3</th>\n",
       "      <td>2022-01-04</td>\n",
       "      <td>OEFDiaria</td>\n",
       "      <td>2.198539e+08</td>\n",
       "    </tr>\n",
       "    <tr>\n",
       "      <th>4</th>\n",
       "      <td>2022-01-05</td>\n",
       "      <td>OEFDiaria</td>\n",
       "      <td>2.227134e+08</td>\n",
       "    </tr>\n",
       "    <tr>\n",
       "      <th>...</th>\n",
       "      <td>...</td>\n",
       "      <td>...</td>\n",
       "      <td>...</td>\n",
       "    </tr>\n",
       "    <tr>\n",
       "      <th>1032</th>\n",
       "      <td>2024-12-27</td>\n",
       "      <td>OEFDiaria</td>\n",
       "      <td>2.487503e+08</td>\n",
       "    </tr>\n",
       "    <tr>\n",
       "      <th>1033</th>\n",
       "      <td>2024-12-28</td>\n",
       "      <td>OEFDiaria</td>\n",
       "      <td>2.368879e+08</td>\n",
       "    </tr>\n",
       "    <tr>\n",
       "      <th>1034</th>\n",
       "      <td>2024-12-29</td>\n",
       "      <td>OEFDiaria</td>\n",
       "      <td>2.237699e+08</td>\n",
       "    </tr>\n",
       "    <tr>\n",
       "      <th>1035</th>\n",
       "      <td>2024-12-30</td>\n",
       "      <td>OEFDiaria</td>\n",
       "      <td>2.344286e+08</td>\n",
       "    </tr>\n",
       "    <tr>\n",
       "      <th>1036</th>\n",
       "      <td>2024-12-31</td>\n",
       "      <td>OEFDiaria</td>\n",
       "      <td>2.221631e+08</td>\n",
       "    </tr>\n",
       "  </tbody>\n",
       "</table>\n",
       "<p>1037 rows × 3 columns</p>\n",
       "</div>"
      ],
      "text/plain": [
       "     FechaInicio CodigoVariable         Valor\n",
       "0     2022-01-01      OEFDiaria  1.821920e+08\n",
       "1     2022-01-02      OEFDiaria  1.920181e+08\n",
       "2     2022-01-03      OEFDiaria  2.141277e+08\n",
       "3     2022-01-04      OEFDiaria  2.198539e+08\n",
       "4     2022-01-05      OEFDiaria  2.227134e+08\n",
       "...          ...            ...           ...\n",
       "1032  2024-12-27      OEFDiaria  2.487503e+08\n",
       "1033  2024-12-28      OEFDiaria  2.368879e+08\n",
       "1034  2024-12-29      OEFDiaria  2.237699e+08\n",
       "1035  2024-12-30      OEFDiaria  2.344286e+08\n",
       "1036  2024-12-31      OEFDiaria  2.221631e+08\n",
       "\n",
       "[1037 rows x 3 columns]"
      ]
     },
     "execution_count": 12,
     "metadata": {},
     "output_type": "execute_result"
    }
   ],
   "source": [
    "df_oef_result = filtrar_ultima_version(df=df_oef, columna_fecha='FechaInicio', columna_version='Version',\n",
    "                                       columna_variable='CodigoPlanta')     # Aplica la función al DataFrame original\n",
    "df_oef_result = df_oef_result.sort_values(by='FechaInicio')                                                   # Ordena los datos por la fecha\n",
    "df_oef_result = df_oef_result[['FechaInicio', 'CodigoVariable', 'CodigoPlanta', 'Version', 'Valor']]          # Selecciona únicamente las columnas necesarias del DataFrame\n",
    "df_oef_result = df_oef_result.groupby(['FechaInicio','CodigoVariable'])['Valor'].sum().reset_index()\n",
    "df_oef_result                                                                                                 # Muestra el resultado filtrado"
   ]
  },
  {
   "cell_type": "code",
   "execution_count": 13,
   "metadata": {},
   "outputs": [
    {
     "data": {
      "application/vnd.microsoft.datawrangler.viewer.v0+json": {
       "columns": [
        {
         "name": "index",
         "rawType": "int64",
         "type": "integer"
        },
        {
         "name": "año_mes",
         "rawType": "object",
         "type": "string"
        },
        {
         "name": "OEFDiaria_mensual",
         "rawType": "float64",
         "type": "float"
        }
       ],
       "ref": "039150bc-2f53-4f90-a6a1-bd9a5d55601d",
       "rows": [
        [
         "0",
         "2022-01",
         "6826.7291457517"
        ],
        [
         "1",
         "2022-02",
         "6464.6168592226"
        ],
        [
         "2",
         "2022-03",
         "7013.97296668"
        ],
        [
         "3",
         "2022-04",
         "6784.9484863304"
        ],
        [
         "4",
         "2022-05",
         "7055.033433397801"
        ]
       ],
       "shape": {
        "columns": 2,
        "rows": 5
       }
      },
      "text/html": [
       "<div>\n",
       "<style scoped>\n",
       "    .dataframe tbody tr th:only-of-type {\n",
       "        vertical-align: middle;\n",
       "    }\n",
       "\n",
       "    .dataframe tbody tr th {\n",
       "        vertical-align: top;\n",
       "    }\n",
       "\n",
       "    .dataframe thead th {\n",
       "        text-align: right;\n",
       "    }\n",
       "</style>\n",
       "<table border=\"1\" class=\"dataframe\">\n",
       "  <thead>\n",
       "    <tr style=\"text-align: right;\">\n",
       "      <th></th>\n",
       "      <th>año_mes</th>\n",
       "      <th>OEFDiaria_mensual</th>\n",
       "    </tr>\n",
       "  </thead>\n",
       "  <tbody>\n",
       "    <tr>\n",
       "      <th>0</th>\n",
       "      <td>2022-01</td>\n",
       "      <td>6826.729146</td>\n",
       "    </tr>\n",
       "    <tr>\n",
       "      <th>1</th>\n",
       "      <td>2022-02</td>\n",
       "      <td>6464.616859</td>\n",
       "    </tr>\n",
       "    <tr>\n",
       "      <th>2</th>\n",
       "      <td>2022-03</td>\n",
       "      <td>7013.972967</td>\n",
       "    </tr>\n",
       "    <tr>\n",
       "      <th>3</th>\n",
       "      <td>2022-04</td>\n",
       "      <td>6784.948486</td>\n",
       "    </tr>\n",
       "    <tr>\n",
       "      <th>4</th>\n",
       "      <td>2022-05</td>\n",
       "      <td>7055.033433</td>\n",
       "    </tr>\n",
       "  </tbody>\n",
       "</table>\n",
       "</div>"
      ],
      "text/plain": [
       "   año_mes  OEFDiaria_mensual\n",
       "0  2022-01        6826.729146\n",
       "1  2022-02        6464.616859\n",
       "2  2022-03        7013.972967\n",
       "3  2022-04        6784.948486\n",
       "4  2022-05        7055.033433"
      ]
     },
     "metadata": {},
     "output_type": "display_data"
    }
   ],
   "source": [
    "df_oef_mensual = agrupar_mensualmente_dataset(df_oef_result, 'FechaInicio', 'CodigoVariable', 'Valor', 'OEFDiaria', 'sum')   # Se aplica la función para agrupar al DataFrame filtrado\n",
    "df_oef_mensual['OEFDiaria_mensual'] = df_oef_mensual['OEFDiaria_mensual']/1000000\n",
    "display(df_oef_mensual.head(5))      "
   ]
  },
  {
   "cell_type": "markdown",
   "metadata": {},
   "source": [
    "Se une la información del CERE y CEE con el precio de bolsa y OEF"
   ]
  },
  {
   "cell_type": "code",
   "execution_count": 14,
   "metadata": {},
   "outputs": [
    {
     "data": {
      "application/vnd.microsoft.datawrangler.viewer.v0+json": {
       "columns": [
        {
         "name": "index",
         "rawType": "int64",
         "type": "integer"
        },
        {
         "name": "Fecha",
         "rawType": "datetime64[ns]",
         "type": "datetime"
        },
        {
         "name": "CERE",
         "rawType": "float64",
         "type": "float"
        },
        {
         "name": "CEE",
         "rawType": "float64",
         "type": "float"
        },
        {
         "name": "año_mes",
         "rawType": "object",
         "type": "string"
        },
        {
         "name": "PB_Nal_mensual",
         "rawType": "float64",
         "type": "float"
        },
        {
         "name": "OEFDiaria_mensual",
         "rawType": "float64",
         "type": "float"
        }
       ],
       "ref": "e7cf4a7b-b182-4a3c-a105-c9011fef87af",
       "rows": [
        [
         "0",
         "2024-12-01 00:00:00",
         "93.15",
         "87.75",
         "2024-12",
         "741.0041623655915",
         "7670.3424530007"
        ],
        [
         "1",
         "2024-11-01 00:00:00",
         "83.95",
         "84.31",
         "2024-11",
         "1046.4334269444446",
         "7173.605448714"
        ],
        [
         "2",
         "2024-10-01 00:00:00",
         "79.46",
         "81.9",
         "2024-10",
         "1529.1356704301074",
         "7256.194704216799"
        ],
        [
         "3",
         "2024-09-01 00:00:00",
         "79.66",
         "77.65",
         "2024-09",
         "873.7069555555556",
         "7277.46765942"
        ],
        [
         "4",
         "2024-08-01 00:00:00",
         "83.99",
         "76.03",
         "2024-08",
         "567.4177529569893",
         "7544.31969073"
        ],
        [
         "5",
         "2024-07-01 00:00:00",
         "83.17",
         "77.09",
         "2024-07",
         "285.09281962365594",
         "7580.75366754"
        ],
        [
         "6",
         "2024-06-01 00:00:00",
         "86.72",
         "72.86",
         "2024-06",
         "280.6973672222222",
         "7304.60397533"
        ],
        [
         "7",
         "2024-05-01 00:00:00",
         "76.81",
         "74.49",
         "2024-05",
         "291.5498510752688",
         "7407.995790319999"
        ],
        [
         "8",
         "2024-04-01 00:00:00",
         "74.88",
         "72.5",
         "2024-04",
         "748.6567697222222",
         "7127.2365804214005"
        ],
        [
         "9",
         "2024-03-01 00:00:00",
         "72.93",
         "74.5",
         "2024-03",
         "622.7735669354838",
         "7203.8436871792"
        ],
        [
         "10",
         "2024-02-01 00:00:00",
         "77.13",
         "77.02",
         "2024-02",
         "568.7060784482759",
         "6915.2399196699"
        ],
        [
         "11",
         "2024-01-01 00:00:00",
         "75.23",
         "76.51",
         "2024-01",
         "558.7221930107527",
         "7125.85011166"
        ],
        [
         "12",
         "2023-12-01 00:00:00",
         "75.62",
         "74.55",
         "2023-12",
         "656.1912497311828",
         "7358.586888010999"
        ],
        [
         "13",
         "2023-11-01 00:00:00",
         "81.51",
         "82.56",
         "2023-11",
         "504.54990638888887",
         "7643.5016742255"
        ],
        [
         "14",
         "2023-10-01 00:00:00",
         "76.62",
         "80.91",
         "2023-10",
         "1015.4398768817204",
         "7788.6389489197"
        ],
        [
         "15",
         "2023-09-01 00:00:00",
         "79.8",
         "82.68",
         "2023-09",
         "1014.9861272222222",
         "7698.1819419256"
        ],
        [
         "16",
         "2023-08-01 00:00:00",
         "82.44",
         "79.99",
         "2023-08",
         "529.8244682795699",
         "7941.9746227363"
        ],
        [
         "17",
         "2023-07-01 00:00:00",
         "82.12",
         "84.41",
         "2023-07",
         "521.6455389784946",
         "7807.435546271599"
        ],
        [
         "18",
         "2023-06-01 00:00:00",
         "88.08",
         "92.27",
         "2023-06",
         "462.19300416666664",
         "7678.0169567441"
        ],
        [
         "19",
         "2023-05-01 00:00:00",
         "90.9",
         "93.09",
         "2023-05",
         "569.6889959677419",
         "7836.2234655105"
        ],
        [
         "20",
         "2023-04-01 00:00:00",
         "101.94",
         "98.08",
         "2023-04",
         "226.95729972222225",
         "2738.1433051228"
        ],
        [
         "21",
         "2023-03-01 00:00:00",
         "98.43",
         "99.65",
         "2023-03",
         "293.4954086021505",
         "4206.5020524009"
        ],
        [
         "22",
         "2023-02-01 00:00:00",
         "102.48",
         "93.46",
         "2023-02",
         "526.6859520833334",
         "3858.4200295819996"
        ],
        [
         "23",
         "2023-01-01 00:00:00",
         "99.08",
         "98.0",
         "2023-01",
         "371.9813134408602",
         "4404.1809739203"
        ],
        [
         "24",
         "2022-12-01 00:00:00",
         "102.46",
         "96.17",
         "2022-12",
         "338.08440107526883",
         "7680.4883642852"
        ],
        [
         "25",
         "2022-11-01 00:00:00",
         "98.95",
         "92.37",
         "2022-11",
         "184.53592583333335",
         "7325.7634813316"
        ],
        [
         "26",
         "2022-10-01 00:00:00",
         "98.06",
         "83.93",
         "2022-10",
         "298.067136827957",
         "7497.1805211021"
        ],
        [
         "27",
         "2022-09-01 00:00:00",
         "92.04",
         "83.36",
         "2022-09",
         "251.0653938888889",
         "7355.289053720199"
        ],
        [
         "28",
         "2022-08-01 00:00:00",
         "89.27",
         "83.86",
         "2022-08",
         "150.88628924731182",
         "7178.4733935681"
        ],
        [
         "29",
         "2022-07-01 00:00:00",
         "85.71",
         "79.59",
         "2022-07",
         "109.39846451612902",
         "7054.039530444899"
        ],
        [
         "30",
         "2022-06-01 00:00:00",
         "85.0",
         "77.74",
         "2022-06",
         "104.1452788888889",
         "6887.467459248201"
        ],
        [
         "31",
         "2022-05-01 00:00:00",
         "77.91",
         "78.16",
         "2022-05",
         "105.48974086021505",
         "7055.033433397801"
        ],
        [
         "32",
         "2022-04-01 00:00:00",
         "80.5",
         "75.3",
         "2022-04",
         "143.7947822222222",
         "6784.9484863304"
        ],
        [
         "33",
         "2022-03-01 00:00:00",
         "73.32",
         "76.38",
         "2022-03",
         "227.00018306451614",
         "7013.97296668"
        ],
        [
         "34",
         "2022-02-01 00:00:00",
         "78.49",
         "77.49",
         "2022-02",
         "399.1646476190476",
         "6464.6168592226"
        ],
        [
         "35",
         "2022-01-01 00:00:00",
         "80.84",
         "76.93",
         "2022-01",
         "289.9188690860215",
         "6826.7291457517"
        ]
       ],
       "shape": {
        "columns": 6,
        "rows": 36
       }
      },
      "text/html": [
       "<div>\n",
       "<style scoped>\n",
       "    .dataframe tbody tr th:only-of-type {\n",
       "        vertical-align: middle;\n",
       "    }\n",
       "\n",
       "    .dataframe tbody tr th {\n",
       "        vertical-align: top;\n",
       "    }\n",
       "\n",
       "    .dataframe thead th {\n",
       "        text-align: right;\n",
       "    }\n",
       "</style>\n",
       "<table border=\"1\" class=\"dataframe\">\n",
       "  <thead>\n",
       "    <tr style=\"text-align: right;\">\n",
       "      <th></th>\n",
       "      <th>Fecha</th>\n",
       "      <th>CERE</th>\n",
       "      <th>CEE</th>\n",
       "      <th>año_mes</th>\n",
       "      <th>PB_Nal_mensual</th>\n",
       "      <th>OEFDiaria_mensual</th>\n",
       "    </tr>\n",
       "  </thead>\n",
       "  <tbody>\n",
       "    <tr>\n",
       "      <th>0</th>\n",
       "      <td>2024-12-01</td>\n",
       "      <td>93.15</td>\n",
       "      <td>87.75</td>\n",
       "      <td>2024-12</td>\n",
       "      <td>741.004162</td>\n",
       "      <td>7670.342453</td>\n",
       "    </tr>\n",
       "    <tr>\n",
       "      <th>1</th>\n",
       "      <td>2024-11-01</td>\n",
       "      <td>83.95</td>\n",
       "      <td>84.31</td>\n",
       "      <td>2024-11</td>\n",
       "      <td>1046.433427</td>\n",
       "      <td>7173.605449</td>\n",
       "    </tr>\n",
       "    <tr>\n",
       "      <th>2</th>\n",
       "      <td>2024-10-01</td>\n",
       "      <td>79.46</td>\n",
       "      <td>81.90</td>\n",
       "      <td>2024-10</td>\n",
       "      <td>1529.135670</td>\n",
       "      <td>7256.194704</td>\n",
       "    </tr>\n",
       "    <tr>\n",
       "      <th>3</th>\n",
       "      <td>2024-09-01</td>\n",
       "      <td>79.66</td>\n",
       "      <td>77.65</td>\n",
       "      <td>2024-09</td>\n",
       "      <td>873.706956</td>\n",
       "      <td>7277.467659</td>\n",
       "    </tr>\n",
       "    <tr>\n",
       "      <th>4</th>\n",
       "      <td>2024-08-01</td>\n",
       "      <td>83.99</td>\n",
       "      <td>76.03</td>\n",
       "      <td>2024-08</td>\n",
       "      <td>567.417753</td>\n",
       "      <td>7544.319691</td>\n",
       "    </tr>\n",
       "    <tr>\n",
       "      <th>5</th>\n",
       "      <td>2024-07-01</td>\n",
       "      <td>83.17</td>\n",
       "      <td>77.09</td>\n",
       "      <td>2024-07</td>\n",
       "      <td>285.092820</td>\n",
       "      <td>7580.753668</td>\n",
       "    </tr>\n",
       "    <tr>\n",
       "      <th>6</th>\n",
       "      <td>2024-06-01</td>\n",
       "      <td>86.72</td>\n",
       "      <td>72.86</td>\n",
       "      <td>2024-06</td>\n",
       "      <td>280.697367</td>\n",
       "      <td>7304.603975</td>\n",
       "    </tr>\n",
       "    <tr>\n",
       "      <th>7</th>\n",
       "      <td>2024-05-01</td>\n",
       "      <td>76.81</td>\n",
       "      <td>74.49</td>\n",
       "      <td>2024-05</td>\n",
       "      <td>291.549851</td>\n",
       "      <td>7407.995790</td>\n",
       "    </tr>\n",
       "    <tr>\n",
       "      <th>8</th>\n",
       "      <td>2024-04-01</td>\n",
       "      <td>74.88</td>\n",
       "      <td>72.50</td>\n",
       "      <td>2024-04</td>\n",
       "      <td>748.656770</td>\n",
       "      <td>7127.236580</td>\n",
       "    </tr>\n",
       "    <tr>\n",
       "      <th>9</th>\n",
       "      <td>2024-03-01</td>\n",
       "      <td>72.93</td>\n",
       "      <td>74.50</td>\n",
       "      <td>2024-03</td>\n",
       "      <td>622.773567</td>\n",
       "      <td>7203.843687</td>\n",
       "    </tr>\n",
       "    <tr>\n",
       "      <th>10</th>\n",
       "      <td>2024-02-01</td>\n",
       "      <td>77.13</td>\n",
       "      <td>77.02</td>\n",
       "      <td>2024-02</td>\n",
       "      <td>568.706078</td>\n",
       "      <td>6915.239920</td>\n",
       "    </tr>\n",
       "    <tr>\n",
       "      <th>11</th>\n",
       "      <td>2024-01-01</td>\n",
       "      <td>75.23</td>\n",
       "      <td>76.51</td>\n",
       "      <td>2024-01</td>\n",
       "      <td>558.722193</td>\n",
       "      <td>7125.850112</td>\n",
       "    </tr>\n",
       "    <tr>\n",
       "      <th>12</th>\n",
       "      <td>2023-12-01</td>\n",
       "      <td>75.62</td>\n",
       "      <td>74.55</td>\n",
       "      <td>2023-12</td>\n",
       "      <td>656.191250</td>\n",
       "      <td>7358.586888</td>\n",
       "    </tr>\n",
       "    <tr>\n",
       "      <th>13</th>\n",
       "      <td>2023-11-01</td>\n",
       "      <td>81.51</td>\n",
       "      <td>82.56</td>\n",
       "      <td>2023-11</td>\n",
       "      <td>504.549906</td>\n",
       "      <td>7643.501674</td>\n",
       "    </tr>\n",
       "    <tr>\n",
       "      <th>14</th>\n",
       "      <td>2023-10-01</td>\n",
       "      <td>76.62</td>\n",
       "      <td>80.91</td>\n",
       "      <td>2023-10</td>\n",
       "      <td>1015.439877</td>\n",
       "      <td>7788.638949</td>\n",
       "    </tr>\n",
       "    <tr>\n",
       "      <th>15</th>\n",
       "      <td>2023-09-01</td>\n",
       "      <td>79.80</td>\n",
       "      <td>82.68</td>\n",
       "      <td>2023-09</td>\n",
       "      <td>1014.986127</td>\n",
       "      <td>7698.181942</td>\n",
       "    </tr>\n",
       "    <tr>\n",
       "      <th>16</th>\n",
       "      <td>2023-08-01</td>\n",
       "      <td>82.44</td>\n",
       "      <td>79.99</td>\n",
       "      <td>2023-08</td>\n",
       "      <td>529.824468</td>\n",
       "      <td>7941.974623</td>\n",
       "    </tr>\n",
       "    <tr>\n",
       "      <th>17</th>\n",
       "      <td>2023-07-01</td>\n",
       "      <td>82.12</td>\n",
       "      <td>84.41</td>\n",
       "      <td>2023-07</td>\n",
       "      <td>521.645539</td>\n",
       "      <td>7807.435546</td>\n",
       "    </tr>\n",
       "    <tr>\n",
       "      <th>18</th>\n",
       "      <td>2023-06-01</td>\n",
       "      <td>88.08</td>\n",
       "      <td>92.27</td>\n",
       "      <td>2023-06</td>\n",
       "      <td>462.193004</td>\n",
       "      <td>7678.016957</td>\n",
       "    </tr>\n",
       "    <tr>\n",
       "      <th>19</th>\n",
       "      <td>2023-05-01</td>\n",
       "      <td>90.90</td>\n",
       "      <td>93.09</td>\n",
       "      <td>2023-05</td>\n",
       "      <td>569.688996</td>\n",
       "      <td>7836.223466</td>\n",
       "    </tr>\n",
       "    <tr>\n",
       "      <th>20</th>\n",
       "      <td>2023-04-01</td>\n",
       "      <td>101.94</td>\n",
       "      <td>98.08</td>\n",
       "      <td>2023-04</td>\n",
       "      <td>226.957300</td>\n",
       "      <td>2738.143305</td>\n",
       "    </tr>\n",
       "    <tr>\n",
       "      <th>21</th>\n",
       "      <td>2023-03-01</td>\n",
       "      <td>98.43</td>\n",
       "      <td>99.65</td>\n",
       "      <td>2023-03</td>\n",
       "      <td>293.495409</td>\n",
       "      <td>4206.502052</td>\n",
       "    </tr>\n",
       "    <tr>\n",
       "      <th>22</th>\n",
       "      <td>2023-02-01</td>\n",
       "      <td>102.48</td>\n",
       "      <td>93.46</td>\n",
       "      <td>2023-02</td>\n",
       "      <td>526.685952</td>\n",
       "      <td>3858.420030</td>\n",
       "    </tr>\n",
       "    <tr>\n",
       "      <th>23</th>\n",
       "      <td>2023-01-01</td>\n",
       "      <td>99.08</td>\n",
       "      <td>98.00</td>\n",
       "      <td>2023-01</td>\n",
       "      <td>371.981313</td>\n",
       "      <td>4404.180974</td>\n",
       "    </tr>\n",
       "    <tr>\n",
       "      <th>24</th>\n",
       "      <td>2022-12-01</td>\n",
       "      <td>102.46</td>\n",
       "      <td>96.17</td>\n",
       "      <td>2022-12</td>\n",
       "      <td>338.084401</td>\n",
       "      <td>7680.488364</td>\n",
       "    </tr>\n",
       "    <tr>\n",
       "      <th>25</th>\n",
       "      <td>2022-11-01</td>\n",
       "      <td>98.95</td>\n",
       "      <td>92.37</td>\n",
       "      <td>2022-11</td>\n",
       "      <td>184.535926</td>\n",
       "      <td>7325.763481</td>\n",
       "    </tr>\n",
       "    <tr>\n",
       "      <th>26</th>\n",
       "      <td>2022-10-01</td>\n",
       "      <td>98.06</td>\n",
       "      <td>83.93</td>\n",
       "      <td>2022-10</td>\n",
       "      <td>298.067137</td>\n",
       "      <td>7497.180521</td>\n",
       "    </tr>\n",
       "    <tr>\n",
       "      <th>27</th>\n",
       "      <td>2022-09-01</td>\n",
       "      <td>92.04</td>\n",
       "      <td>83.36</td>\n",
       "      <td>2022-09</td>\n",
       "      <td>251.065394</td>\n",
       "      <td>7355.289054</td>\n",
       "    </tr>\n",
       "    <tr>\n",
       "      <th>28</th>\n",
       "      <td>2022-08-01</td>\n",
       "      <td>89.27</td>\n",
       "      <td>83.86</td>\n",
       "      <td>2022-08</td>\n",
       "      <td>150.886289</td>\n",
       "      <td>7178.473394</td>\n",
       "    </tr>\n",
       "    <tr>\n",
       "      <th>29</th>\n",
       "      <td>2022-07-01</td>\n",
       "      <td>85.71</td>\n",
       "      <td>79.59</td>\n",
       "      <td>2022-07</td>\n",
       "      <td>109.398465</td>\n",
       "      <td>7054.039530</td>\n",
       "    </tr>\n",
       "    <tr>\n",
       "      <th>30</th>\n",
       "      <td>2022-06-01</td>\n",
       "      <td>85.00</td>\n",
       "      <td>77.74</td>\n",
       "      <td>2022-06</td>\n",
       "      <td>104.145279</td>\n",
       "      <td>6887.467459</td>\n",
       "    </tr>\n",
       "    <tr>\n",
       "      <th>31</th>\n",
       "      <td>2022-05-01</td>\n",
       "      <td>77.91</td>\n",
       "      <td>78.16</td>\n",
       "      <td>2022-05</td>\n",
       "      <td>105.489741</td>\n",
       "      <td>7055.033433</td>\n",
       "    </tr>\n",
       "    <tr>\n",
       "      <th>32</th>\n",
       "      <td>2022-04-01</td>\n",
       "      <td>80.50</td>\n",
       "      <td>75.30</td>\n",
       "      <td>2022-04</td>\n",
       "      <td>143.794782</td>\n",
       "      <td>6784.948486</td>\n",
       "    </tr>\n",
       "    <tr>\n",
       "      <th>33</th>\n",
       "      <td>2022-03-01</td>\n",
       "      <td>73.32</td>\n",
       "      <td>76.38</td>\n",
       "      <td>2022-03</td>\n",
       "      <td>227.000183</td>\n",
       "      <td>7013.972967</td>\n",
       "    </tr>\n",
       "    <tr>\n",
       "      <th>34</th>\n",
       "      <td>2022-02-01</td>\n",
       "      <td>78.49</td>\n",
       "      <td>77.49</td>\n",
       "      <td>2022-02</td>\n",
       "      <td>399.164648</td>\n",
       "      <td>6464.616859</td>\n",
       "    </tr>\n",
       "    <tr>\n",
       "      <th>35</th>\n",
       "      <td>2022-01-01</td>\n",
       "      <td>80.84</td>\n",
       "      <td>76.93</td>\n",
       "      <td>2022-01</td>\n",
       "      <td>289.918869</td>\n",
       "      <td>6826.729146</td>\n",
       "    </tr>\n",
       "  </tbody>\n",
       "</table>\n",
       "</div>"
      ],
      "text/plain": [
       "        Fecha    CERE    CEE  año_mes  PB_Nal_mensual  OEFDiaria_mensual\n",
       "0  2024-12-01   93.15  87.75  2024-12      741.004162        7670.342453\n",
       "1  2024-11-01   83.95  84.31  2024-11     1046.433427        7173.605449\n",
       "2  2024-10-01   79.46  81.90  2024-10     1529.135670        7256.194704\n",
       "3  2024-09-01   79.66  77.65  2024-09      873.706956        7277.467659\n",
       "4  2024-08-01   83.99  76.03  2024-08      567.417753        7544.319691\n",
       "5  2024-07-01   83.17  77.09  2024-07      285.092820        7580.753668\n",
       "6  2024-06-01   86.72  72.86  2024-06      280.697367        7304.603975\n",
       "7  2024-05-01   76.81  74.49  2024-05      291.549851        7407.995790\n",
       "8  2024-04-01   74.88  72.50  2024-04      748.656770        7127.236580\n",
       "9  2024-03-01   72.93  74.50  2024-03      622.773567        7203.843687\n",
       "10 2024-02-01   77.13  77.02  2024-02      568.706078        6915.239920\n",
       "11 2024-01-01   75.23  76.51  2024-01      558.722193        7125.850112\n",
       "12 2023-12-01   75.62  74.55  2023-12      656.191250        7358.586888\n",
       "13 2023-11-01   81.51  82.56  2023-11      504.549906        7643.501674\n",
       "14 2023-10-01   76.62  80.91  2023-10     1015.439877        7788.638949\n",
       "15 2023-09-01   79.80  82.68  2023-09     1014.986127        7698.181942\n",
       "16 2023-08-01   82.44  79.99  2023-08      529.824468        7941.974623\n",
       "17 2023-07-01   82.12  84.41  2023-07      521.645539        7807.435546\n",
       "18 2023-06-01   88.08  92.27  2023-06      462.193004        7678.016957\n",
       "19 2023-05-01   90.90  93.09  2023-05      569.688996        7836.223466\n",
       "20 2023-04-01  101.94  98.08  2023-04      226.957300        2738.143305\n",
       "21 2023-03-01   98.43  99.65  2023-03      293.495409        4206.502052\n",
       "22 2023-02-01  102.48  93.46  2023-02      526.685952        3858.420030\n",
       "23 2023-01-01   99.08  98.00  2023-01      371.981313        4404.180974\n",
       "24 2022-12-01  102.46  96.17  2022-12      338.084401        7680.488364\n",
       "25 2022-11-01   98.95  92.37  2022-11      184.535926        7325.763481\n",
       "26 2022-10-01   98.06  83.93  2022-10      298.067137        7497.180521\n",
       "27 2022-09-01   92.04  83.36  2022-09      251.065394        7355.289054\n",
       "28 2022-08-01   89.27  83.86  2022-08      150.886289        7178.473394\n",
       "29 2022-07-01   85.71  79.59  2022-07      109.398465        7054.039530\n",
       "30 2022-06-01   85.00  77.74  2022-06      104.145279        6887.467459\n",
       "31 2022-05-01   77.91  78.16  2022-05      105.489741        7055.033433\n",
       "32 2022-04-01   80.50  75.30  2022-04      143.794782        6784.948486\n",
       "33 2022-03-01   73.32  76.38  2022-03      227.000183        7013.972967\n",
       "34 2022-02-01   78.49  77.49  2022-02      399.164648        6464.616859\n",
       "35 2022-01-01   80.84  76.93  2022-01      289.918869        6826.729146"
      ]
     },
     "execution_count": 14,
     "metadata": {},
     "output_type": "execute_result"
    }
   ],
   "source": [
    "df_mensual = pd.merge(df_filtrado, df_pbNal_mensual, on='año_mes', how='inner')\n",
    "df_mensual = pd.merge(df_mensual, df_oef_mensual, on='año_mes', how='inner')\n",
    "\n",
    "df_mensual"
   ]
  },
  {
   "cell_type": "markdown",
   "metadata": {},
   "source": [
    "<a id='section5'></a>\n",
    "# 5. Análisis para dar respuesta al caso de uso"
   ]
  },
  {
   "cell_type": "markdown",
   "metadata": {},
   "source": [
    "Ahora se calculan datos estadísticos básicos para el CERE y el CEE\n",
    "- Media: Promedio de los valores. Indica el nivel típico de CEE o CERE.\n",
    "- Desviación estándar: Mide cuánto varían los valores respecto a la media. Más alta = más variabilidad.\n",
    "- Correlación: Mide qué tan relacionados están CEE y CERE. Valor cercano a 1 = se mueven juntos."
   ]
  },
  {
   "cell_type": "code",
   "execution_count": 15,
   "metadata": {},
   "outputs": [
    {
     "name": "stdout",
     "output_type": "stream",
     "text": [
      "Estadísticas Básicas\n",
      "--------------------\n",
      "Media CEE: $82.60 COP/kWh\n",
      "Media CERE: $85.24 COP/kWh\n",
      "Desviación estándar CEE: $7.89 COP/kWh\n",
      "Desviación estándar CERE: $9.00 COP/kWh\n",
      "Correlación entre CEE y CERE: 0.85\n"
     ]
    }
   ],
   "source": [
    "# Calcular estadísticas básicas\n",
    "media_cee = df_filtrado['CEE'].mean()\n",
    "media_cere = df_filtrado['CERE'].mean()\n",
    "std_cee = df_filtrado['CEE'].std()\n",
    "std_cere = df_filtrado['CERE'].std()\n",
    "correlacion = df_filtrado['CEE'].corr(df_filtrado['CERE'])\n",
    "\n",
    "# Mostrar resultados\n",
    "print(\"Estadísticas Básicas\")\n",
    "print(\"--------------------\")\n",
    "print(f\"Media CEE: ${media_cee:.2f} COP/kWh\")\n",
    "print(f\"Media CERE: ${media_cere:.2f} COP/kWh\")\n",
    "print(f\"Desviación estándar CEE: ${std_cee:.2f} COP/kWh\")\n",
    "print(f\"Desviación estándar CERE: ${std_cere:.2f} COP/kWh\")\n",
    "print(f\"Correlación entre CEE y CERE: {correlacion:.2f}\")"
   ]
  },
  {
   "cell_type": "markdown",
   "metadata": {},
   "source": [
    "Ahora se grafica el valor del CERE vs el valor del CEE durante el período 2022-2024"
   ]
  },
  {
   "cell_type": "code",
   "execution_count": 22,
   "metadata": {},
   "outputs": [
    {
     "data": {
      "image/png": "[encoded data removed]",
      "text/plain": [
       "<Figure size 1800x600 with 1 Axes>"
      ]
     },
     "metadata": {},
     "output_type": "display_data"
    }
   ],
   "source": [
    "# Crear la figura de Matplotlib\n",
    "plt.figure(figsize=(18, 6))  # Tamaño del gráfico\n",
    "\n",
    "# Agregar la serie de tiempo para CEE\n",
    "plt.plot(\n",
    "    df_mensual[\"Fecha\"],         # Eje X\n",
    "    df_mensual[\"CEE\"],           # Eje Y\n",
    "    label=\"CEE\",                 # Etiqueta de la línea\n",
    "    linestyle='-',               # Estilo de línea\n",
    ")\n",
    "\n",
    "# Agregar la serie de tiempo para CERE\n",
    "plt.plot(\n",
    "    df_mensual[\"Fecha\"],         # Eje X\n",
    "    df_mensual[\"CERE\"],          # Eje Y\n",
    "    label=\"CERE\",                # Etiqueta de la línea\n",
    "    linestyle='-',               # Estilo de línea\n",
    ")\n",
    "\n",
    "# Configurar el diseño del gráfico\n",
    "plt.title(\"Evolución del CEE y CERE\")         # Título del gráfico\n",
    "plt.xlabel(\"Fecha\")                           # Título Eje X\n",
    "plt.ylabel(\"COP/kWh\")                         # Título Eje Y\n",
    "plt.legend()                                  # Mostrar leyenda\n",
    "\n",
    "plt.grid(True, linestyle='--', alpha=0.7)     # Líneas de guía\n",
    "plt.tight_layout()                            # Ajuste automático del diseño\n",
    "plt.show()                                    # Mostrar la gráfica\n"
   ]
  },
  {
   "cell_type": "code",
   "execution_count": 24,
   "metadata": {},
   "outputs": [
    {
     "data": {
      "image/png": "[encoded data removed]",
      "text/plain": [
       "<Figure size 1800x600 with 1 Axes>"
      ]
     },
     "metadata": {},
     "output_type": "display_data"
    }
   ],
   "source": [
    "# Crear la figura de Matplotlib\n",
    "plt.figure(figsize=(18, 6))  # Tamaño del gráfico\n",
    "\n",
    "# Agregar la serie de tiempo para CEE\n",
    "plt.plot(\n",
    "    df_mensual[\"Fecha\"],         # Eje X\n",
    "    df_mensual[\"CEE\"],           # Eje Y\n",
    "    label=\"CEE\",                 # Etiqueta de la línea\n",
    "    linestyle='-',               # Estilo de línea\n",
    ")\n",
    "\n",
    "# Agregar la serie de tiempo para CERE\n",
    "plt.plot(\n",
    "    df_mensual[\"Fecha\"],         # Eje X\n",
    "    df_mensual[\"CERE\"],          # Eje Y\n",
    "    label=\"CERE\",                # Etiqueta de la línea\n",
    "    linestyle='-',               # Estilo de línea\n",
    ")\n",
    "\n",
    "# Agregar la serie de tiempo para PB_Nal\n",
    "plt.plot(\n",
    "    df_mensual[\"Fecha\"],             # Eje X\n",
    "    df_mensual[\"PB_Nal_mensual\"],    # Eje Y\n",
    "    label=\"PB_Nal\",                  # Etiqueta de la línea\n",
    "    linestyle='-',                   # Estilo de línea\n",
    ")\n",
    "\n",
    "# Configurar el diseño del gráfico\n",
    "plt.title(\"Evolución del CEE y CERE VS PB_Nal\")  # Título del gráfico\n",
    "plt.xlabel(\"Fecha\")                              # Título Eje X\n",
    "plt.ylabel(\"COP/kWh\")                            # Título Eje Y\n",
    "plt.legend()                                     # Mostrar leyenda\n",
    "\n",
    "plt.grid(True, linestyle='--', alpha=0.7)        # Líneas de guía\n",
    "plt.tight_layout()                               # Ajuste automático del diseño\n",
    "plt.show()                                       # Mostrar la gráfica\n"
   ]
  },
  {
   "cell_type": "code",
   "execution_count": 31,
   "metadata": {},
   "outputs": [
    {
     "data": {
      "image/png": "[encoded data removed]",
      "text/plain": [
       "<Figure size 1800x600 with 2 Axes>"
      ]
     },
     "metadata": {},
     "output_type": "display_data"
    }
   ],
   "source": [
    "# Crear la figura y los ejes\n",
    "fig, ax1 = plt.subplots(figsize=(18, 6))  # Tamaño del gráfico\n",
    "\n",
    "# Trazado para X vs Y (eje izquierdo) - CERE\n",
    "ax1.plot(\n",
    "    df_mensual[\"Fecha\"],               # Eje X\n",
    "    df_mensual[\"CERE\"],                # Eje Y\n",
    "    label=\"CERE (COP/Kwh)\",            # Etiqueta de la línea\n",
    "    linestyle='-',                     # Estilo de línea\n",
    "    marker=None                        # Sin marcador\n",
    ")\n",
    "\n",
    "# Trazado para X vs Y (eje izquierdo) - PB_Nal\n",
    "ax1.plot(\n",
    "    df_mensual[\"Fecha\"],               # Eje X\n",
    "    df_mensual[\"PB_Nal_mensual\"],      # Eje Y\n",
    "    label=\"PB_Nal (COP/Kwh)\",          # Etiqueta de la línea\n",
    "    linestyle='-',                     # Estilo de línea\n",
    "    color='orange'                     # Color de la línea\n",
    ")\n",
    "\n",
    "# Configurar eje Y izquierdo\n",
    "ax1.set_xlabel(\"Fecha\")                                   # Título Eje X\n",
    "ax1.set_ylabel(\"COP/KWh\", color='orange')                 # Título Eje Y izquierdo\n",
    "ax1.tick_params(axis='y', labelcolor='orange')            # Color de las etiquetas del eje Y izquierdo\n",
    "\n",
    "# Crear eje Y derecho\n",
    "ax2 = ax1.twinx()\n",
    "\n",
    "# Trazado para X vs Z (eje derecho) - OEF\n",
    "ax2.plot(\n",
    "    df_mensual[\"Fecha\"],               # Eje X\n",
    "    df_mensual[\"OEFDiaria_mensual\"],  # Eje Y derecho\n",
    "    label=\"OEF (GWh)\",                 # Etiqueta de la línea\n",
    "    linestyle='-',                     # Estilo de línea\n",
    "    color='purple'                     # Color de la línea\n",
    ")\n",
    "\n",
    "# Configurar eje Y derecho\n",
    "ax2.set_ylabel(\"GWh\", color='purple')                      # Título Eje Y derecho\n",
    "ax2.tick_params(axis='y', labelcolor='purple')            # Color de las etiquetas del eje Y derecho\n",
    "\n",
    "# Título del gráfico\n",
    "plt.title(\"CERE VS PB_Nal VS OEF\")                        # Título del gráfico\n",
    "\n",
    "# Líneas de guía\n",
    "ax1.grid(True, linestyle='--', alpha=0.7)                 # Líneas de guía\n",
    "\n",
    "# Mostrar leyendas\n",
    "fig.legend(loc=\"upper left\", bbox_to_anchor=(0.1, 0.9))   # Posición de la leyenda\n",
    "\n",
    "plt.tight_layout()                                        # Ajuste automático del diseño\n",
    "plt.show()                                                # Mostrar la gráfica\n"
   ]
  }
 ],
 "metadata": {
  "kernelspec": {
   "display_name": ".venv",
   "language": "python",
   "name": "python3"
  },
  "language_info": {
   "codemirror_mode": {
    "name": "ipython",
    "version": 3
   },
   "file_extension": ".py",
   "mimetype": "text/x-python",
   "name": "python",
   "nbconvert_exporter": "python",
   "pygments_lexer": "ipython3",
   "version": "3.13.5"
  }
 },
 "nbformat": 4,
 "nbformat_minor": 2
}
