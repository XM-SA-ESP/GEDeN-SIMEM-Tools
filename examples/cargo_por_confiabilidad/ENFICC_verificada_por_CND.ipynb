{
 "cells": [
  {
   "attachments": {
    "SIMEM_logo_1.png": {
     "image/png": "[encoded data removed]"
    }
   },
   "cell_type": "markdown",
   "metadata": {},
   "source": [
    "![SIMEM_logo_1.png](attachment:SIMEM_logo_1.png)\n",
    "\n",
    "[SiMEM](https://www.simem.co/)"
   ]
  },
  {
   "cell_type": "markdown",
   "metadata": {},
   "source": [
    "## Caso de uso - Energía Firme del Cargo por Confiabilidad verificada por el Centro Nacional de Despacho\n",
    "\n",
    "# Objetivos de este Notebook\n",
    "\n",
    "* Explicar cómo se realiza la instalación e importación de la librería pydataxm desde la consola para su uso en ambientes locales\n",
    "* Explicar cómo se pueden consultar los conjuntos de datos a través de la librería Pydataxm\n",
    "* Explicar cómo realizar el procesamiento y manipulación de los datos consultados\n",
    "* Explicar el análisis de los datos consultados para dar respuesta al caso de uso propuesto\n",
    " \n",
    "**Índice**\n",
    "\n",
    "1. [Instalación de librerías](#section1)\n",
    "\n",
    "2. [Importación de librerías](#section2)\n",
    "\n",
    "3. [Consultar información de los conjuntos de datos](#section3)\n",
    "\n",
    "4. [Manipulación de datos](#section4)\n",
    "\n",
    "5. [Análisis para dar respuesta al caso de uso](#section5)"
   ]
  },
  {
   "cell_type": "markdown",
   "metadata": {},
   "source": [
    "<a id='section1'></a>\n",
    "# 1. Instalación de la librería\n",
    "Ejecutar el siguiente comando en el CMD para instalar la librería de python."
   ]
  },
  {
   "cell_type": "code",
   "execution_count": 1,
   "metadata": {},
   "outputs": [],
   "source": [
    "# import sys\n",
    "# !{sys.executable} -m pip install pydataxm"
   ]
  },
  {
   "cell_type": "markdown",
   "metadata": {},
   "source": [
    "<a id='section2'></a>\n",
    "# 2. Importación de librerías"
   ]
  },
  {
   "cell_type": "code",
   "execution_count": 2,
   "metadata": {},
   "outputs": [],
   "source": [
    "# Importación de librerías necesarias para la consulta y análisis de datos\n",
    "from pydataxm.pydatasimem import ReadSIMEM  # Importa clases para interactuar con datos del sistema SIMEM, utilizado para acceder a información energética en Colombia\n",
    "import pandas as pd                         # Librería para manipulación y análisis de datos en estructuras tipo DataFrame, muy útil para limpiar, transformar y explorar datos\n",
    "import matplotlib.pyplot as plt             # Para crear gráficos estáticos como barras, líneas, histogramas, etc."
   ]
  },
  {
   "cell_type": "markdown",
   "metadata": {},
   "source": [
    "<a id='section3'></a>\n",
    "# 3. Consultar información de los conjuntos de datos\n",
    "El método de extracción recibe los parámetros con los que se va a realizar la consulta. \n",
    "El datasetID para un conjunto particular se puede encontrar en el [catálogo de conjuntos de datos.](https://www.simem.co/pages/catalogodatos/51FC0A59-3A00-462C-B449-9CB8D5E007FB)  \n",
    "Para este ejemplo el conjunto a presentar es  [Energía Firme del Cargo por Confiabilidad verificada por el Centro Nacional de Despacho](https://www.simem.co/datadetail/B38EFCD8-C26F-44BF-ADDD-162E64A788F3)."
   ]
  },
  {
   "cell_type": "markdown",
   "metadata": {},
   "source": [
    "Se definen los parámetros de entrada y se crea el objeto ReadSIMEM() para realizar las consultas."
   ]
  },
  {
   "cell_type": "markdown",
   "metadata": {},
   "source": [
    "La función main contiene todo el proceso para transportar la información del dataset entre el rango de fechas solicitadas a un dataframe. Después de este paso, el proceso es de manipulación y visualización de datos."
   ]
  },
  {
   "cell_type": "code",
   "execution_count": 3,
   "metadata": {},
   "outputs": [
    {
     "name": "stdout",
     "output_type": "stream",
     "text": [
      "****************************************************************************************************\n",
      "Initializing object\n",
      "The object has been initialized with the dataset: \"Energía Firme del Cargo por Confiabilidad verificada por el Centro Nacional de Despacho\"\n",
      "****************************************************************************************************\n",
      "Inicio consulta sincronica\n",
      "Creacion url: 0.0007951259613037109\n",
      "Extraccion de registros: 26.94659161567688\n",
      "End of data extracting process\n",
      "****************************************************************************************************\n"
     ]
    },
    {
     "data": {
      "application/vnd.microsoft.datawrangler.viewer.v0+json": {
       "columns": [
        {
         "name": "index",
         "rawType": "int64",
         "type": "integer"
        },
        {
         "name": "Fecha",
         "rawType": "object",
         "type": "string"
        },
        {
         "name": "FechaInicio",
         "rawType": "object",
         "type": "string"
        },
        {
         "name": "FechaFin",
         "rawType": "object",
         "type": "string"
        },
        {
         "name": "CodigoPlanta",
         "rawType": "object",
         "type": "string"
        },
        {
         "name": "ENFICCVerificada",
         "rawType": "float64",
         "type": "float"
        },
        {
         "name": "FechaPublicacion",
         "rawType": "object",
         "type": "string"
        }
       ],
       "ref": "c7348549-ce74-4af7-b170-60e5e1fec399",
       "rows": [
        [
         "0",
         "2025-01-31",
         "2023-12-01",
         "2050-11-30",
         "TGJ1",
         "2424665.0",
         "2024-02-08"
        ],
        [
         "1",
         "2025-01-31",
         "2023-12-01",
         "2050-11-30",
         "TFL1",
         "3515013.0",
         "2024-02-08"
        ],
        [
         "2",
         "2025-01-31",
         "2023-12-01",
         "2050-11-30",
         "TSJ2",
         "3937816.0",
         "2024-02-08"
        ],
        [
         "3",
         "2025-01-31",
         "2023-12-01",
         "2050-11-30",
         "PLYS",
         "3096603.0",
         "2024-02-08"
        ],
        [
         "4",
         "2025-01-31",
         "2023-12-01",
         "2050-11-30",
         "GCA3",
         "1578985.0",
         "2024-02-08"
        ],
        [
         "5",
         "2025-01-31",
         "2023-12-01",
         "2050-11-30",
         "TSR1",
         "7620617.0",
         "2024-02-08"
        ],
        [
         "6",
         "2025-01-31",
         "2023-12-01",
         "2050-11-30",
         "SLVJ",
         "1556587.0",
         "2024-02-08"
        ],
        [
         "7",
         "2025-01-31",
         "2022-12-01",
         "2046-11-30",
         "EPFV",
         "236995.0",
         "2023-01-06"
        ],
        [
         "8",
         "2025-01-31",
         "2023-12-01",
         "2050-11-30",
         "HMIN",
         "133498.0",
         "2024-02-08"
        ],
        [
         "9",
         "2025-01-31",
         "2023-12-01",
         "2050-11-30",
         "TYP1",
         "189600.0",
         "2024-02-08"
        ],
        [
         "10",
         "2025-01-31",
         "2023-12-01",
         "2050-11-30",
         "TRN1",
         "1829900.0",
         "2024-02-08"
        ],
        [
         "11",
         "2025-01-31",
         "2023-12-01",
         "2050-11-30",
         "CTG1",
         "220625.0",
         "2024-02-08"
        ],
        [
         "12",
         "2025-01-31",
         "2023-12-01",
         "2050-11-30",
         "MRL1",
         "1968000.0",
         "2024-02-08"
        ],
        [
         "13",
         "2025-01-31",
         "2023-12-01",
         "2050-11-30",
         "SMI1",
         "226889.0",
         "2024-02-08"
        ],
        [
         "14",
         "2025-01-31",
         "2023-12-01",
         "2050-11-30",
         "MOY1",
         "591857.0",
         "2024-02-08"
        ],
        [
         "15",
         "2025-01-31",
         "2023-12-01",
         "2050-11-30",
         "CUC1",
         "157017.0",
         "2024-02-08"
        ],
        [
         "16",
         "2025-01-31",
         "2023-12-01",
         "2050-11-30",
         "MATA",
         "249483.0",
         "2024-02-08"
        ],
        [
         "17",
         "2025-01-31",
         "2023-12-01",
         "2050-11-30",
         "GTRG",
         "5587319.0",
         "2024-02-08"
        ],
        [
         "18",
         "2025-01-31",
         "2023-12-01",
         "2050-11-30",
         "PPA4",
         "3865079.0",
         "2024-02-08"
        ],
        [
         "19",
         "2025-01-31",
         "2023-12-01",
         "2050-11-30",
         "SNCR",
         "12389592.0",
         "2024-02-08"
        ]
       ],
       "shape": {
        "columns": 6,
        "rows": 20
       }
      },
      "text/html": [
       "<div>\n",
       "<style scoped>\n",
       "    .dataframe tbody tr th:only-of-type {\n",
       "        vertical-align: middle;\n",
       "    }\n",
       "\n",
       "    .dataframe tbody tr th {\n",
       "        vertical-align: top;\n",
       "    }\n",
       "\n",
       "    .dataframe thead th {\n",
       "        text-align: right;\n",
       "    }\n",
       "</style>\n",
       "<table border=\"1\" class=\"dataframe\">\n",
       "  <thead>\n",
       "    <tr style=\"text-align: right;\">\n",
       "      <th></th>\n",
       "      <th>Fecha</th>\n",
       "      <th>FechaInicio</th>\n",
       "      <th>FechaFin</th>\n",
       "      <th>CodigoPlanta</th>\n",
       "      <th>ENFICCVerificada</th>\n",
       "      <th>FechaPublicacion</th>\n",
       "    </tr>\n",
       "  </thead>\n",
       "  <tbody>\n",
       "    <tr>\n",
       "      <th>0</th>\n",
       "      <td>2025-01-31</td>\n",
       "      <td>2023-12-01</td>\n",
       "      <td>2050-11-30</td>\n",
       "      <td>TGJ1</td>\n",
       "      <td>2424665.0</td>\n",
       "      <td>2024-02-08</td>\n",
       "    </tr>\n",
       "    <tr>\n",
       "      <th>1</th>\n",
       "      <td>2025-01-31</td>\n",
       "      <td>2023-12-01</td>\n",
       "      <td>2050-11-30</td>\n",
       "      <td>TFL1</td>\n",
       "      <td>3515013.0</td>\n",
       "      <td>2024-02-08</td>\n",
       "    </tr>\n",
       "    <tr>\n",
       "      <th>2</th>\n",
       "      <td>2025-01-31</td>\n",
       "      <td>2023-12-01</td>\n",
       "      <td>2050-11-30</td>\n",
       "      <td>TSJ2</td>\n",
       "      <td>3937816.0</td>\n",
       "      <td>2024-02-08</td>\n",
       "    </tr>\n",
       "    <tr>\n",
       "      <th>3</th>\n",
       "      <td>2025-01-31</td>\n",
       "      <td>2023-12-01</td>\n",
       "      <td>2050-11-30</td>\n",
       "      <td>PLYS</td>\n",
       "      <td>3096603.0</td>\n",
       "      <td>2024-02-08</td>\n",
       "    </tr>\n",
       "    <tr>\n",
       "      <th>4</th>\n",
       "      <td>2025-01-31</td>\n",
       "      <td>2023-12-01</td>\n",
       "      <td>2050-11-30</td>\n",
       "      <td>GCA3</td>\n",
       "      <td>1578985.0</td>\n",
       "      <td>2024-02-08</td>\n",
       "    </tr>\n",
       "    <tr>\n",
       "      <th>5</th>\n",
       "      <td>2025-01-31</td>\n",
       "      <td>2023-12-01</td>\n",
       "      <td>2050-11-30</td>\n",
       "      <td>TSR1</td>\n",
       "      <td>7620617.0</td>\n",
       "      <td>2024-02-08</td>\n",
       "    </tr>\n",
       "    <tr>\n",
       "      <th>6</th>\n",
       "      <td>2025-01-31</td>\n",
       "      <td>2023-12-01</td>\n",
       "      <td>2050-11-30</td>\n",
       "      <td>SLVJ</td>\n",
       "      <td>1556587.0</td>\n",
       "      <td>2024-02-08</td>\n",
       "    </tr>\n",
       "    <tr>\n",
       "      <th>7</th>\n",
       "      <td>2025-01-31</td>\n",
       "      <td>2022-12-01</td>\n",
       "      <td>2046-11-30</td>\n",
       "      <td>EPFV</td>\n",
       "      <td>236995.0</td>\n",
       "      <td>2023-01-06</td>\n",
       "    </tr>\n",
       "    <tr>\n",
       "      <th>8</th>\n",
       "      <td>2025-01-31</td>\n",
       "      <td>2023-12-01</td>\n",
       "      <td>2050-11-30</td>\n",
       "      <td>HMIN</td>\n",
       "      <td>133498.0</td>\n",
       "      <td>2024-02-08</td>\n",
       "    </tr>\n",
       "    <tr>\n",
       "      <th>9</th>\n",
       "      <td>2025-01-31</td>\n",
       "      <td>2023-12-01</td>\n",
       "      <td>2050-11-30</td>\n",
       "      <td>TYP1</td>\n",
       "      <td>189600.0</td>\n",
       "      <td>2024-02-08</td>\n",
       "    </tr>\n",
       "    <tr>\n",
       "      <th>10</th>\n",
       "      <td>2025-01-31</td>\n",
       "      <td>2023-12-01</td>\n",
       "      <td>2050-11-30</td>\n",
       "      <td>TRN1</td>\n",
       "      <td>1829900.0</td>\n",
       "      <td>2024-02-08</td>\n",
       "    </tr>\n",
       "    <tr>\n",
       "      <th>11</th>\n",
       "      <td>2025-01-31</td>\n",
       "      <td>2023-12-01</td>\n",
       "      <td>2050-11-30</td>\n",
       "      <td>CTG1</td>\n",
       "      <td>220625.0</td>\n",
       "      <td>2024-02-08</td>\n",
       "    </tr>\n",
       "    <tr>\n",
       "      <th>12</th>\n",
       "      <td>2025-01-31</td>\n",
       "      <td>2023-12-01</td>\n",
       "      <td>2050-11-30</td>\n",
       "      <td>MRL1</td>\n",
       "      <td>1968000.0</td>\n",
       "      <td>2024-02-08</td>\n",
       "    </tr>\n",
       "    <tr>\n",
       "      <th>13</th>\n",
       "      <td>2025-01-31</td>\n",
       "      <td>2023-12-01</td>\n",
       "      <td>2050-11-30</td>\n",
       "      <td>SMI1</td>\n",
       "      <td>226889.0</td>\n",
       "      <td>2024-02-08</td>\n",
       "    </tr>\n",
       "    <tr>\n",
       "      <th>14</th>\n",
       "      <td>2025-01-31</td>\n",
       "      <td>2023-12-01</td>\n",
       "      <td>2050-11-30</td>\n",
       "      <td>MOY1</td>\n",
       "      <td>591857.0</td>\n",
       "      <td>2024-02-08</td>\n",
       "    </tr>\n",
       "    <tr>\n",
       "      <th>15</th>\n",
       "      <td>2025-01-31</td>\n",
       "      <td>2023-12-01</td>\n",
       "      <td>2050-11-30</td>\n",
       "      <td>CUC1</td>\n",
       "      <td>157017.0</td>\n",
       "      <td>2024-02-08</td>\n",
       "    </tr>\n",
       "    <tr>\n",
       "      <th>16</th>\n",
       "      <td>2025-01-31</td>\n",
       "      <td>2023-12-01</td>\n",
       "      <td>2050-11-30</td>\n",
       "      <td>MATA</td>\n",
       "      <td>249483.0</td>\n",
       "      <td>2024-02-08</td>\n",
       "    </tr>\n",
       "    <tr>\n",
       "      <th>17</th>\n",
       "      <td>2025-01-31</td>\n",
       "      <td>2023-12-01</td>\n",
       "      <td>2050-11-30</td>\n",
       "      <td>GTRG</td>\n",
       "      <td>5587319.0</td>\n",
       "      <td>2024-02-08</td>\n",
       "    </tr>\n",
       "    <tr>\n",
       "      <th>18</th>\n",
       "      <td>2025-01-31</td>\n",
       "      <td>2023-12-01</td>\n",
       "      <td>2050-11-30</td>\n",
       "      <td>PPA4</td>\n",
       "      <td>3865079.0</td>\n",
       "      <td>2024-02-08</td>\n",
       "    </tr>\n",
       "    <tr>\n",
       "      <th>19</th>\n",
       "      <td>2025-01-31</td>\n",
       "      <td>2023-12-01</td>\n",
       "      <td>2050-11-30</td>\n",
       "      <td>SNCR</td>\n",
       "      <td>12389592.0</td>\n",
       "      <td>2024-02-08</td>\n",
       "    </tr>\n",
       "  </tbody>\n",
       "</table>\n",
       "</div>"
      ],
      "text/plain": [
       "         Fecha FechaInicio    FechaFin CodigoPlanta  ENFICCVerificada  \\\n",
       "0   2025-01-31  2023-12-01  2050-11-30         TGJ1         2424665.0   \n",
       "1   2025-01-31  2023-12-01  2050-11-30         TFL1         3515013.0   \n",
       "2   2025-01-31  2023-12-01  2050-11-30         TSJ2         3937816.0   \n",
       "3   2025-01-31  2023-12-01  2050-11-30         PLYS         3096603.0   \n",
       "4   2025-01-31  2023-12-01  2050-11-30         GCA3         1578985.0   \n",
       "5   2025-01-31  2023-12-01  2050-11-30         TSR1         7620617.0   \n",
       "6   2025-01-31  2023-12-01  2050-11-30         SLVJ         1556587.0   \n",
       "7   2025-01-31  2022-12-01  2046-11-30         EPFV          236995.0   \n",
       "8   2025-01-31  2023-12-01  2050-11-30         HMIN          133498.0   \n",
       "9   2025-01-31  2023-12-01  2050-11-30         TYP1          189600.0   \n",
       "10  2025-01-31  2023-12-01  2050-11-30         TRN1         1829900.0   \n",
       "11  2025-01-31  2023-12-01  2050-11-30         CTG1          220625.0   \n",
       "12  2025-01-31  2023-12-01  2050-11-30         MRL1         1968000.0   \n",
       "13  2025-01-31  2023-12-01  2050-11-30         SMI1          226889.0   \n",
       "14  2025-01-31  2023-12-01  2050-11-30         MOY1          591857.0   \n",
       "15  2025-01-31  2023-12-01  2050-11-30         CUC1          157017.0   \n",
       "16  2025-01-31  2023-12-01  2050-11-30         MATA          249483.0   \n",
       "17  2025-01-31  2023-12-01  2050-11-30         GTRG         5587319.0   \n",
       "18  2025-01-31  2023-12-01  2050-11-30         PPA4         3865079.0   \n",
       "19  2025-01-31  2023-12-01  2050-11-30         SNCR        12389592.0   \n",
       "\n",
       "   FechaPublicacion  \n",
       "0        2024-02-08  \n",
       "1        2024-02-08  \n",
       "2        2024-02-08  \n",
       "3        2024-02-08  \n",
       "4        2024-02-08  \n",
       "5        2024-02-08  \n",
       "6        2024-02-08  \n",
       "7        2023-01-06  \n",
       "8        2024-02-08  \n",
       "9        2024-02-08  \n",
       "10       2024-02-08  \n",
       "11       2024-02-08  \n",
       "12       2024-02-08  \n",
       "13       2024-02-08  \n",
       "14       2024-02-08  \n",
       "15       2024-02-08  \n",
       "16       2024-02-08  \n",
       "17       2024-02-08  \n",
       "18       2024-02-08  \n",
       "19       2024-02-08  "
      ]
     },
     "metadata": {},
     "output_type": "display_data"
    }
   ],
   "source": [
    "id_dataset_enficc = 'b38efc'                                              # ID del conjunto de datos a consultar\n",
    "fecha_inicial = '2025-01-01'                                              # Fecha de inicio del rango de consulta\n",
    "fecha_final = '2025-06-30'                                                # Fecha de fin del rango de consulta\n",
    "simem_enficc = ReadSIMEM(id_dataset_enficc, fecha_inicial, fecha_final)   # Instancia de la clase ReadSIMEM con los parámetros definidos\n",
    "df_enficc = simem_enficc.main()                                           # Ejecución del método principal para obtener los datos en un DataFrame\n",
    "display(df_enficc.head(20))                                               # Visualización de las primeras 20 filas del DataFrame"
   ]
  },
  {
   "cell_type": "markdown",
   "metadata": {},
   "source": [
    "Se lee el DataFrame con la información de plantas con el objetivo de cruzar la información"
   ]
  },
  {
   "cell_type": "code",
   "execution_count": 4,
   "metadata": {},
   "outputs": [
    {
     "name": "stdout",
     "output_type": "stream",
     "text": [
      "****************************************************************************************************\n",
      "Initializing object\n",
      "The object has been initialized with the dataset: \"Parámetros técnicos de las plantas de generación\"\n",
      "****************************************************************************************************\n",
      "Inicio consulta sincronica\n",
      "Creacion url: 0.0008206367492675781\n",
      "Extraccion de registros: 16.149803638458252\n",
      "End of data extracting process\n",
      "****************************************************************************************************\n"
     ]
    },
    {
     "data": {
      "application/vnd.microsoft.datawrangler.viewer.v0+json": {
       "columns": [
        {
         "name": "index",
         "rawType": "int64",
         "type": "integer"
        },
        {
         "name": "Fecha",
         "rawType": "object",
         "type": "string"
        },
        {
         "name": "CodigoDuracion",
         "rawType": "object",
         "type": "string"
        },
        {
         "name": "FechaPublicacion",
         "rawType": "object",
         "type": "string"
        },
        {
         "name": "CodigoPlanta",
         "rawType": "object",
         "type": "string"
        },
        {
         "name": "NombrePlanta",
         "rawType": "object",
         "type": "string"
        },
        {
         "name": "CodigoSICAgente",
         "rawType": "object",
         "type": "string"
        },
        {
         "name": "CapEfectivaNeta",
         "rawType": "float64",
         "type": "float"
        },
        {
         "name": "FPO",
         "rawType": "object",
         "type": "string"
        },
        {
         "name": "CodigoSubAreaOperativa",
         "rawType": "object",
         "type": "string"
        },
        {
         "name": "CodigoAreaOperativa",
         "rawType": "object",
         "type": "string"
        },
        {
         "name": "TipoDespachoRecurso",
         "rawType": "object",
         "type": "string"
        },
        {
         "name": "TipoClasificacion",
         "rawType": "object",
         "type": "string"
        },
        {
         "name": "TipoGeneracion",
         "rawType": "object",
         "type": "string"
        }
       ],
       "ref": "969f906a-efd1-44b7-bb1d-f7e87484cf56",
       "rows": [
        [
         "0",
         "2025-01-31",
         "P1D",
         "2025-01-31",
         "2R22",
         "LAGUNETA",
         "ENDG",
         "18000.0",
         "2014-12-17",
         "Are0017",
         "Are0056",
         "No Despachado Centralmente",
         "GENERADOR",
         "Hidraulica"
        ],
        [
         "1",
         "2025-01-31",
         "P1D",
         "2025-01-31",
         "SNT1",
         "SANTA ANA",
         "ENDG",
         "8000.0",
         "2005-06-09",
         "Are0017",
         "Are0056",
         "No Despachado Centralmente",
         "GENERADOR",
         "Hidraulica"
        ],
        [
         "2",
         "2025-01-31",
         "P1D",
         "2025-01-31",
         "2S8N",
         "GUAVIO MENOR",
         "ENDG",
         "9900.0",
         "2016-04-27",
         "Are0017",
         "Are0056",
         "No Despachado Centralmente",
         "GENERADOR",
         "Hidraulica"
        ],
        [
         "3",
         "2025-01-31",
         "P1D",
         "2025-01-31",
         "2UPJ",
         "TEQUENDAMA 1",
         "ENDG",
         "14200.0",
         "2018-04-03",
         "Are0017",
         "Are0056",
         "No Despachado Centralmente",
         "GENERADOR",
         "Hidraulica"
        ],
        [
         "4",
         "2025-01-31",
         "P1D",
         "2025-01-31",
         "USQ1",
         "USAQUEN",
         "ENDG",
         "1800.0",
         "2013-04-15",
         "Are0017",
         "Are0056",
         "No Despachado Centralmente",
         "GENERADOR",
         "Hidraulica"
        ],
        [
         "5",
         "2025-01-31",
         "P1D",
         "2025-01-31",
         "2UPF",
         "TEQUENDAMA 3",
         "ENDG",
         "14200.0",
         "2018-04-03",
         "Are0017",
         "Are0056",
         "No Despachado Centralmente",
         "GENERADOR",
         "Hidraulica"
        ],
        [
         "6",
         "2025-01-31",
         "P1D",
         "2025-01-31",
         "CQT1",
         "CHARQUITO",
         "ENDG",
         "19400.0",
         "2003-08-22",
         "Are0017",
         "Are0056",
         "No Despachado Centralmente",
         "GENERADOR",
         "Hidraulica"
        ],
        [
         "7",
         "2025-01-31",
         "P1D",
         "2025-01-31",
         "2UPD",
         "TEQUENDAMA 2",
         "ENDG",
         "14200.0",
         "2018-04-03",
         "Are0017",
         "Are0056",
         "No Despachado Centralmente",
         "GENERADOR",
         "Hidraulica"
        ],
        [
         "8",
         "2025-01-31",
         "P1D",
         "2025-01-31",
         "SBA1",
         "SUBA",
         "ENDG",
         "2600.0",
         "2013-04-15",
         "Are0017",
         "Are0056",
         "No Despachado Centralmente",
         "GENERADOR",
         "Hidraulica"
        ],
        [
         "9",
         "2025-01-31",
         "P1D",
         "2025-01-31",
         "3GI6",
         "GRANJA SOLAR EL SALADO",
         "FERG",
         "99.8",
         "2023-06-17",
         "Are0032",
         "Are0128",
         "No Despachado Centralmente",
         "GENERADOR",
         "Solar"
        ],
        [
         "10",
         "2025-01-31",
         "P1D",
         "2025-01-31",
         "3LMJ",
         "CELSIA SOLAR BUGALAGRANDE",
         "EPSG",
         "9900.0",
         "2024-09-21",
         "Are0032",
         "Are0128",
         "No Despachado Centralmente",
         "GENERADOR",
         "Solar"
        ],
        [
         "11",
         "2025-01-31",
         "P1D",
         "2025-01-31",
         "3HF7",
         "CELSIA SOLAR LA VICTORIA II",
         "EPSG",
         "21900.0",
         "2023-08-30",
         "Are0032",
         "Are0128",
         "No Despachado Centralmente",
         "GENERADOR",
         "Solar"
        ],
        [
         "12",
         "2025-01-31",
         "P1D",
         "2025-01-31",
         "3HF9",
         "CELSIA SOLAR LA VICTORIA I",
         "EPSG",
         "21900.0",
         "2023-08-30",
         "Are0032",
         "Are0128",
         "No Despachado Centralmente",
         "GENERADOR",
         "Solar"
        ],
        [
         "13",
         "2025-01-31",
         "P1D",
         "2025-01-31",
         "3BZB",
         "CELSIA SOLAR LA PAILA",
         "EPSG",
         "9900.0",
         "2021-08-07",
         "Are0032",
         "Are0128",
         "No Despachado Centralmente",
         "GENERADOR",
         "Solar"
        ],
        [
         "14",
         "2025-01-31",
         "P1D",
         "2025-01-31",
         "3J83",
         "GUAMO",
         "ERRG",
         "9000.0",
         "2024-09-20",
         "Are0031",
         "Are0128",
         "No Despachado Centralmente",
         "GENERADOR",
         "Solar"
        ],
        [
         "15",
         "2025-01-31",
         "P1D",
         "2025-01-31",
         "3J85",
         "NUMBANA",
         "ERRG",
         "9900.0",
         "2024-09-20",
         "Are0031",
         "Are0128",
         "No Despachado Centralmente",
         "GENERADOR",
         "Solar"
        ],
        [
         "16",
         "2025-01-31",
         "P1D",
         "2025-01-31",
         "3FCF",
         "GRANJA SOLAR LANCEROS",
         "EPSG",
         "9100.0",
         "2023-01-30",
         "Are0031",
         "Are0128",
         "No Despachado Centralmente",
         "GENERADOR",
         "Solar"
        ],
        [
         "17",
         "2025-01-31",
         "P1D",
         "2025-01-31",
         "3GVM",
         "CELSIA SOLAR YUMA",
         "EPSG",
         "9100.0",
         "2023-03-27",
         "Are0031",
         "Are0128",
         "No Despachado Centralmente",
         "GENERADOR",
         "Solar"
        ],
        [
         "18",
         "2025-01-31",
         "P1D",
         "2025-01-31",
         "3EXB",
         "CERRITOS",
         "EPSG",
         "11500.0",
         "2022-09-19",
         "Are0031",
         "Are0128",
         "No Despachado Centralmente",
         "GENERADOR",
         "Solar"
        ],
        [
         "19",
         "2025-01-31",
         "P1D",
         "2025-01-31",
         "3GVI",
         "GRANJA SOLAR FLANDES",
         "EPSG",
         "21900.0",
         "2023-03-27",
         "Are0031",
         "Are0128",
         "No Despachado Centralmente",
         "GENERADOR",
         "Solar"
        ],
        [
         "20",
         "2025-01-31",
         "P1D",
         "2025-01-31",
         "3GVK",
         "CELSIA SOLAR DULIMA",
         "EPSG",
         "21900.0",
         "2023-03-27",
         "Are0031",
         "Are0128",
         "No Despachado Centralmente",
         "GENERADOR",
         "Solar"
        ],
        [
         "21",
         "2025-01-31",
         "P1D",
         "2025-01-31",
         "3EV1",
         "LOS CABALLEROS",
         "EPSG",
         "11500.0",
         "2022-09-15",
         "Are0031",
         "Are0128",
         "No Despachado Centralmente",
         "GENERADOR",
         "Solar"
        ],
        [
         "22",
         "2025-01-31",
         "P1D",
         "2025-01-31",
         "3GRD",
         "GRANJA SOLAR SAN FELIPE",
         "EPSG",
         "9100.0",
         "2023-01-30",
         "Are0031",
         "Are0128",
         "No Despachado Centralmente",
         "GENERADOR",
         "Solar"
        ],
        [
         "23",
         "2025-01-31",
         "P1D",
         "2025-01-31",
         "2ZHY",
         "CELSIA SOLAR ESPINAL",
         "EPSG",
         "9900.0",
         "2020-05-31",
         "Are0031",
         "Are0128",
         "No Despachado Centralmente",
         "GENERADOR",
         "Solar"
        ],
        [
         "24",
         "2025-01-31",
         "P1D",
         "2025-01-31",
         "3EV3",
         "LA MEDINA",
         "EPSG",
         "11500.0",
         "2022-09-15",
         "Are0031",
         "Are0128",
         "No Despachado Centralmente",
         "GENERADOR",
         "Solar"
        ],
        [
         "25",
         "2025-01-31",
         "P1D",
         "2025-01-31",
         "3B4L",
         "GRANJA SOLAR BELMONTE",
         "EEPG",
         "5060.0",
         "2021-04-30",
         "Are0022",
         "Are0128",
         "No Despachado Centralmente",
         "GENERADOR",
         "Solar"
        ],
        [
         "26",
         "2025-01-31",
         "P1D",
         "2025-01-31",
         "3HLD",
         "LOS GIRASOLES",
         "PSGG",
         "9500.0",
         "2023-08-05",
         "Are0029",
         "Are0012",
         "No Despachado Centralmente",
         "GENERADOR",
         "Solar"
        ],
        [
         "27",
         "2025-01-31",
         "P1D",
         "2025-01-31",
         "3GJQ",
         "TERMOTASAJERO DOS SOLAR",
         "TERG",
         "4000.0",
         "2022-12-26",
         "Are0029",
         "Are0012",
         "No Despachado Centralmente",
         "GENERADOR",
         "Solar"
        ],
        [
         "28",
         "2025-01-31",
         "P1D",
         "2025-01-31",
         "3HWM",
         "PETALO DEL MAGDALENA",
         "EPSG",
         "11500.0",
         "2023-08-05",
         "Are0025",
         "Are0127",
         "No Despachado Centralmente",
         "GENERADOR",
         "Solar"
        ],
        [
         "29",
         "2025-01-31",
         "P1D",
         "2025-01-31",
         "3J4D",
         "CAIMAN CIENAGUERO",
         "GNYG",
         "9000.0",
         "2023-12-15",
         "Are0025",
         "Are0127",
         "No Despachado Centralmente",
         "GENERADOR",
         "Solar"
        ],
        [
         "30",
         "2025-01-31",
         "P1D",
         "2025-01-31",
         "3RGX",
         "JUMI",
         "GNCG",
         "9900.0",
         "2025-01-17",
         "Are0016",
         "Are0127",
         "No Despachado Centralmente",
         "GENERADOR",
         "Solar"
        ],
        [
         "31",
         "2025-01-31",
         "P1D",
         "2025-01-31",
         "3K8E",
         "BSB 504",
         "ISGG",
         "19900.0",
         "2024-09-27",
         "Are0016",
         "Are0127",
         "No Despachado Centralmente",
         "GENERADOR",
         "Solar"
        ],
        [
         "32",
         "2025-01-31",
         "P1D",
         "2025-01-31",
         "3K8C",
         "BSB 503",
         "ISGG",
         "19900.0",
         "2024-09-26",
         "Are0016",
         "Are0127",
         "No Despachado Centralmente",
         "GENERADOR",
         "Solar"
        ],
        [
         "33",
         "2025-01-31",
         "P1D",
         "2025-01-31",
         "3A44",
         "PLANTA SOLAR BAYUNCA I",
         "EGRG",
         "3000.0",
         "2020-09-30",
         "Are0018",
         "Are0127",
         "No Despachado Centralmente",
         "GENERADOR",
         "Solar"
        ],
        [
         "34",
         "2025-01-31",
         "P1D",
         "2025-01-31",
         "2VJS",
         "CELSIA SOLAR BOLIVAR",
         "EPSG",
         "8060.0",
         "2019-02-03",
         "Are0018",
         "Are0127",
         "No Despachado Centralmente",
         "GENERADOR",
         "Solar"
        ],
        [
         "35",
         "2025-01-31",
         "P1D",
         "2025-01-31",
         "3EBN",
         "GR PARQUE SOLAR TUCANES",
         "EPSG",
         "9900.0",
         "2022-05-31",
         "Are0018",
         "Are0127",
         "No Despachado Centralmente",
         "GENERADOR",
         "Solar"
        ],
        [
         "36",
         "2025-01-31",
         "P1D",
         "2025-01-31",
         "3IS2",
         "PARQUE SOLAR ARENAL",
         "NTCG",
         "2000.0",
         "2023-12-30",
         "Are0018",
         "Are0127",
         "No Despachado Centralmente",
         "GENERADOR",
         "Solar"
        ],
        [
         "37",
         "2025-01-31",
         "P1D",
         "2025-01-31",
         "3NLZ",
         "SOLAR OLD T",
         "GNCG",
         "9900.0",
         "2024-10-16",
         "Are0021",
         "Are0127",
         "No Despachado Centralmente",
         "GENERADOR",
         "Solar"
        ],
        [
         "38",
         "2025-01-31",
         "P1D",
         "2025-01-31",
         "3J2H",
         "PETALO DE CORDOBA II",
         "BCCG",
         "9900.0",
         "2023-12-16",
         "Are0021",
         "Are0127",
         "No Despachado Centralmente",
         "GENERADOR",
         "Solar"
        ],
        [
         "39",
         "2025-01-31",
         "P1D",
         "2025-01-31",
         "3ENE",
         "SINCE",
         "EPSG",
         "18500.0",
         "2022-09-10",
         "Are0021",
         "Are0127",
         "No Despachado Centralmente",
         "GENERADOR",
         "Solar"
        ],
        [
         "40",
         "2025-01-31",
         "P1D",
         "2025-01-31",
         "3K6T",
         "SOLAR ALEJANDRIA",
         "GNYG",
         "9400.0",
         "2024-04-27",
         "Are0021",
         "Are0127",
         "No Despachado Centralmente",
         "GENERADOR",
         "Solar"
        ],
        [
         "41",
         "2025-01-31",
         "P1D",
         "2025-01-31",
         "3CSH",
         "GY SOLAR AURORA",
         "GNYG",
         "9900.0",
         "2022-08-11",
         "Are0021",
         "Are0127",
         "No Despachado Centralmente",
         "GENERADOR",
         "Solar"
        ],
        [
         "42",
         "2025-01-31",
         "P1D",
         "2025-01-31",
         "3KJK",
         "SOL Y CIELO I",
         "EYCG",
         "9900.0",
         "2024-05-26",
         "Are0021",
         "Are0127",
         "No Despachado Centralmente",
         "GENERADOR",
         "Solar"
        ],
        [
         "43",
         "2025-01-31",
         "P1D",
         "2025-01-31",
         "3HBP",
         "LA TOLUA",
         "AAGG",
         "19900.0",
         "2023-04-04",
         "Are0021",
         "Are0127",
         "No Despachado Centralmente",
         "GENERADOR",
         "Solar"
        ],
        [
         "44",
         "2025-01-31",
         "P1D",
         "2025-01-31",
         "AFR1",
         "AGUA FRESCA",
         "ADCG",
         "7290.0",
         "2008-04-10",
         "Are0015",
         "Are0002",
         "No Despachado Centralmente",
         "GENERADOR",
         "Hidraulica"
        ],
        [
         "45",
         "2025-01-31",
         "P1D",
         "2025-01-31",
         "2QBW",
         "EL POPAL",
         "ISGG",
         "19900.0",
         "2014-03-31",
         "Are0015",
         "Are0002",
         "No Despachado Centralmente",
         "GENERADOR",
         "Hidraulica"
        ],
        [
         "46",
         "2025-01-31",
         "P1D",
         "2025-01-31",
         "BAR1",
         "BARROSO",
         "ISGG",
         "19900.0",
         "2012-11-30",
         "Are0015",
         "Are0002",
         "No Despachado Centralmente",
         "GENERADOR",
         "Hidraulica"
        ],
        [
         "47",
         "2025-01-31",
         "P1D",
         "2025-01-31",
         "2TUV",
         "LUZMA II",
         "ISGG",
         "19600.0",
         "2017-10-07",
         "Are0015",
         "Are0002",
         "No Despachado Centralmente",
         "GENERADOR",
         "Hidraulica"
        ],
        [
         "48",
         "2025-01-31",
         "P1D",
         "2025-01-31",
         "CLDR",
         "CALDERAS",
         "ISGG",
         "19900.0",
         "2006-06-30",
         "Are0015",
         "Are0002",
         "No Despachado Centralmente",
         "GENERADOR",
         "Hidraulica"
        ],
        [
         "49",
         "2025-01-31",
         "P1D",
         "2025-01-31",
         "2T1L",
         "EL MOLINO",
         "ISGG",
         "19900.0",
         "2017-04-19",
         "Are0015",
         "Are0002",
         "No Despachado Centralmente",
         "GENERADOR",
         "Hidraulica"
        ]
       ],
       "shape": {
        "columns": 13,
        "rows": 59598
       }
      },
      "text/html": [
       "<div>\n",
       "<style scoped>\n",
       "    .dataframe tbody tr th:only-of-type {\n",
       "        vertical-align: middle;\n",
       "    }\n",
       "\n",
       "    .dataframe tbody tr th {\n",
       "        vertical-align: top;\n",
       "    }\n",
       "\n",
       "    .dataframe thead th {\n",
       "        text-align: right;\n",
       "    }\n",
       "</style>\n",
       "<table border=\"1\" class=\"dataframe\">\n",
       "  <thead>\n",
       "    <tr style=\"text-align: right;\">\n",
       "      <th></th>\n",
       "      <th>Fecha</th>\n",
       "      <th>CodigoDuracion</th>\n",
       "      <th>FechaPublicacion</th>\n",
       "      <th>CodigoPlanta</th>\n",
       "      <th>NombrePlanta</th>\n",
       "      <th>CodigoSICAgente</th>\n",
       "      <th>CapEfectivaNeta</th>\n",
       "      <th>FPO</th>\n",
       "      <th>CodigoSubAreaOperativa</th>\n",
       "      <th>CodigoAreaOperativa</th>\n",
       "      <th>TipoDespachoRecurso</th>\n",
       "      <th>TipoClasificacion</th>\n",
       "      <th>TipoGeneracion</th>\n",
       "    </tr>\n",
       "  </thead>\n",
       "  <tbody>\n",
       "    <tr>\n",
       "      <th>0</th>\n",
       "      <td>2025-01-31</td>\n",
       "      <td>P1D</td>\n",
       "      <td>2025-01-31</td>\n",
       "      <td>2R22</td>\n",
       "      <td>LAGUNETA</td>\n",
       "      <td>ENDG</td>\n",
       "      <td>18000.0</td>\n",
       "      <td>2014-12-17</td>\n",
       "      <td>Are0017</td>\n",
       "      <td>Are0056</td>\n",
       "      <td>No Despachado Centralmente</td>\n",
       "      <td>GENERADOR</td>\n",
       "      <td>Hidraulica</td>\n",
       "    </tr>\n",
       "    <tr>\n",
       "      <th>1</th>\n",
       "      <td>2025-01-31</td>\n",
       "      <td>P1D</td>\n",
       "      <td>2025-01-31</td>\n",
       "      <td>SNT1</td>\n",
       "      <td>SANTA ANA</td>\n",
       "      <td>ENDG</td>\n",
       "      <td>8000.0</td>\n",
       "      <td>2005-06-09</td>\n",
       "      <td>Are0017</td>\n",
       "      <td>Are0056</td>\n",
       "      <td>No Despachado Centralmente</td>\n",
       "      <td>GENERADOR</td>\n",
       "      <td>Hidraulica</td>\n",
       "    </tr>\n",
       "    <tr>\n",
       "      <th>2</th>\n",
       "      <td>2025-01-31</td>\n",
       "      <td>P1D</td>\n",
       "      <td>2025-01-31</td>\n",
       "      <td>2S8N</td>\n",
       "      <td>GUAVIO MENOR</td>\n",
       "      <td>ENDG</td>\n",
       "      <td>9900.0</td>\n",
       "      <td>2016-04-27</td>\n",
       "      <td>Are0017</td>\n",
       "      <td>Are0056</td>\n",
       "      <td>No Despachado Centralmente</td>\n",
       "      <td>GENERADOR</td>\n",
       "      <td>Hidraulica</td>\n",
       "    </tr>\n",
       "    <tr>\n",
       "      <th>3</th>\n",
       "      <td>2025-01-31</td>\n",
       "      <td>P1D</td>\n",
       "      <td>2025-01-31</td>\n",
       "      <td>2UPJ</td>\n",
       "      <td>TEQUENDAMA 1</td>\n",
       "      <td>ENDG</td>\n",
       "      <td>14200.0</td>\n",
       "      <td>2018-04-03</td>\n",
       "      <td>Are0017</td>\n",
       "      <td>Are0056</td>\n",
       "      <td>No Despachado Centralmente</td>\n",
       "      <td>GENERADOR</td>\n",
       "      <td>Hidraulica</td>\n",
       "    </tr>\n",
       "    <tr>\n",
       "      <th>4</th>\n",
       "      <td>2025-01-31</td>\n",
       "      <td>P1D</td>\n",
       "      <td>2025-01-31</td>\n",
       "      <td>USQ1</td>\n",
       "      <td>USAQUEN</td>\n",
       "      <td>ENDG</td>\n",
       "      <td>1800.0</td>\n",
       "      <td>2013-04-15</td>\n",
       "      <td>Are0017</td>\n",
       "      <td>Are0056</td>\n",
       "      <td>No Despachado Centralmente</td>\n",
       "      <td>GENERADOR</td>\n",
       "      <td>Hidraulica</td>\n",
       "    </tr>\n",
       "    <tr>\n",
       "      <th>...</th>\n",
       "      <td>...</td>\n",
       "      <td>...</td>\n",
       "      <td>...</td>\n",
       "      <td>...</td>\n",
       "      <td>...</td>\n",
       "      <td>...</td>\n",
       "      <td>...</td>\n",
       "      <td>...</td>\n",
       "      <td>...</td>\n",
       "      <td>...</td>\n",
       "      <td>...</td>\n",
       "      <td>...</td>\n",
       "      <td>...</td>\n",
       "    </tr>\n",
       "    <tr>\n",
       "      <th>59593</th>\n",
       "      <td>2025-06-01</td>\n",
       "      <td>P1D</td>\n",
       "      <td>2025-06-01</td>\n",
       "      <td>CIS1</td>\n",
       "      <td>INGENIO SAN CARLOS 1</td>\n",
       "      <td>EPSG</td>\n",
       "      <td>2000.0</td>\n",
       "      <td>2011-07-23</td>\n",
       "      <td>Are0032</td>\n",
       "      <td>Are0128</td>\n",
       "      <td>No Despachado Centralmente</td>\n",
       "      <td>COGENERADOR</td>\n",
       "      <td>Termica</td>\n",
       "    </tr>\n",
       "    <tr>\n",
       "      <th>59594</th>\n",
       "      <td>2025-06-01</td>\n",
       "      <td>P1D</td>\n",
       "      <td>2025-06-01</td>\n",
       "      <td>RPL1</td>\n",
       "      <td>INGENIO RIOPAILA 1</td>\n",
       "      <td>RPEG</td>\n",
       "      <td>16000.0</td>\n",
       "      <td>2018-05-21</td>\n",
       "      <td>Are0032</td>\n",
       "      <td>Are0128</td>\n",
       "      <td>No Despachado Centralmente</td>\n",
       "      <td>COGENERADOR</td>\n",
       "      <td>Termica</td>\n",
       "    </tr>\n",
       "    <tr>\n",
       "      <th>59595</th>\n",
       "      <td>2025-06-01</td>\n",
       "      <td>P1D</td>\n",
       "      <td>2025-06-01</td>\n",
       "      <td>PNC1</td>\n",
       "      <td>COGENERADOR PROENCA</td>\n",
       "      <td>PECG</td>\n",
       "      <td>19900.0</td>\n",
       "      <td>2014-04-29</td>\n",
       "      <td>Are0019</td>\n",
       "      <td>Are0128</td>\n",
       "      <td>No Despachado Centralmente</td>\n",
       "      <td>COGENERADOR</td>\n",
       "      <td>Termica</td>\n",
       "    </tr>\n",
       "    <tr>\n",
       "      <th>59596</th>\n",
       "      <td>2025-06-01</td>\n",
       "      <td>P1D</td>\n",
       "      <td>2025-06-01</td>\n",
       "      <td>INC1</td>\n",
       "      <td>INCAUCA 1</td>\n",
       "      <td>NTCG</td>\n",
       "      <td>60000.0</td>\n",
       "      <td>1998-10-21</td>\n",
       "      <td>Are0019</td>\n",
       "      <td>Are0128</td>\n",
       "      <td>No Despachado Centralmente</td>\n",
       "      <td>COGENERADOR</td>\n",
       "      <td>Termica</td>\n",
       "    </tr>\n",
       "    <tr>\n",
       "      <th>59597</th>\n",
       "      <td>2025-06-01</td>\n",
       "      <td>P1D</td>\n",
       "      <td>2025-06-01</td>\n",
       "      <td>4WWY</td>\n",
       "      <td>GD SAN MARTIN</td>\n",
       "      <td>EMSG</td>\n",
       "      <td>990.0</td>\n",
       "      <td>2025-05-11</td>\n",
       "      <td>Are0027</td>\n",
       "      <td>Are0056</td>\n",
       "      <td>No Despachado Centralmente</td>\n",
       "      <td>GENERADOR DISTRIBUIDO</td>\n",
       "      <td>Solar</td>\n",
       "    </tr>\n",
       "  </tbody>\n",
       "</table>\n",
       "<p>59598 rows × 13 columns</p>\n",
       "</div>"
      ],
      "text/plain": [
       "            Fecha CodigoDuracion FechaPublicacion CodigoPlanta  \\\n",
       "0      2025-01-31            P1D       2025-01-31         2R22   \n",
       "1      2025-01-31            P1D       2025-01-31         SNT1   \n",
       "2      2025-01-31            P1D       2025-01-31         2S8N   \n",
       "3      2025-01-31            P1D       2025-01-31         2UPJ   \n",
       "4      2025-01-31            P1D       2025-01-31         USQ1   \n",
       "...           ...            ...              ...          ...   \n",
       "59593  2025-06-01            P1D       2025-06-01         CIS1   \n",
       "59594  2025-06-01            P1D       2025-06-01         RPL1   \n",
       "59595  2025-06-01            P1D       2025-06-01         PNC1   \n",
       "59596  2025-06-01            P1D       2025-06-01         INC1   \n",
       "59597  2025-06-01            P1D       2025-06-01         4WWY   \n",
       "\n",
       "               NombrePlanta CodigoSICAgente  CapEfectivaNeta         FPO  \\\n",
       "0                  LAGUNETA            ENDG          18000.0  2014-12-17   \n",
       "1                 SANTA ANA            ENDG           8000.0  2005-06-09   \n",
       "2              GUAVIO MENOR            ENDG           9900.0  2016-04-27   \n",
       "3              TEQUENDAMA 1            ENDG          14200.0  2018-04-03   \n",
       "4                   USAQUEN            ENDG           1800.0  2013-04-15   \n",
       "...                     ...             ...              ...         ...   \n",
       "59593  INGENIO SAN CARLOS 1            EPSG           2000.0  2011-07-23   \n",
       "59594    INGENIO RIOPAILA 1            RPEG          16000.0  2018-05-21   \n",
       "59595   COGENERADOR PROENCA            PECG          19900.0  2014-04-29   \n",
       "59596             INCAUCA 1            NTCG          60000.0  1998-10-21   \n",
       "59597         GD SAN MARTIN            EMSG            990.0  2025-05-11   \n",
       "\n",
       "      CodigoSubAreaOperativa CodigoAreaOperativa         TipoDespachoRecurso  \\\n",
       "0                    Are0017             Are0056  No Despachado Centralmente   \n",
       "1                    Are0017             Are0056  No Despachado Centralmente   \n",
       "2                    Are0017             Are0056  No Despachado Centralmente   \n",
       "3                    Are0017             Are0056  No Despachado Centralmente   \n",
       "4                    Are0017             Are0056  No Despachado Centralmente   \n",
       "...                      ...                 ...                         ...   \n",
       "59593                Are0032             Are0128  No Despachado Centralmente   \n",
       "59594                Are0032             Are0128  No Despachado Centralmente   \n",
       "59595                Are0019             Are0128  No Despachado Centralmente   \n",
       "59596                Are0019             Are0128  No Despachado Centralmente   \n",
       "59597                Are0027             Are0056  No Despachado Centralmente   \n",
       "\n",
       "           TipoClasificacion TipoGeneracion  \n",
       "0                  GENERADOR     Hidraulica  \n",
       "1                  GENERADOR     Hidraulica  \n",
       "2                  GENERADOR     Hidraulica  \n",
       "3                  GENERADOR     Hidraulica  \n",
       "4                  GENERADOR     Hidraulica  \n",
       "...                      ...            ...  \n",
       "59593            COGENERADOR        Termica  \n",
       "59594            COGENERADOR        Termica  \n",
       "59595            COGENERADOR        Termica  \n",
       "59596            COGENERADOR        Termica  \n",
       "59597  GENERADOR DISTRIBUIDO          Solar  \n",
       "\n",
       "[59598 rows x 13 columns]"
      ]
     },
     "execution_count": 4,
     "metadata": {},
     "output_type": "execute_result"
    }
   ],
   "source": [
    "id_dataset_plantas = '0BFC9D'                                               # ID del conjunto de datos a consultar\n",
    "fecha_inicial = '2025-01-01'                                                # Fecha de inicio del rango de consulta\n",
    "fecha_final = '2025-06-30'                                                  # Fecha de fin del rango de consulta\n",
    "simem_plantas = ReadSIMEM(id_dataset_plantas, fecha_inicial, fecha_final)   # Instancia de la clase ReadSIMEM con los parámetros definidos\n",
    "df_plantas = simem_plantas.main()                                           # Ejecución del método principal para obtener los datos en un DataFrame\n",
    "df_plantas"
   ]
  },
  {
   "cell_type": "markdown",
   "metadata": {},
   "source": [
    "<a id='section4'></a>\n",
    "# 4. Manipulación de datos\n",
    "Los siguientes pasos corresponden a las actividades de manipulación y preparación de los datos que son relevantes para el análisis. "
   ]
  },
  {
   "cell_type": "markdown",
   "metadata": {},
   "source": [
    "Los dataframes se filtarán para tener los datos necesarios para la visualización."
   ]
  },
  {
   "cell_type": "code",
   "execution_count": 5,
   "metadata": {},
   "outputs": [
    {
     "data": {
      "application/vnd.microsoft.datawrangler.viewer.v0+json": {
       "columns": [
        {
         "name": "index",
         "rawType": "int64",
         "type": "integer"
        },
        {
         "name": "Fecha",
         "rawType": "object",
         "type": "string"
        },
        {
         "name": "CodigoPlanta",
         "rawType": "object",
         "type": "string"
        },
        {
         "name": "ENFICCVerificada",
         "rawType": "float64",
         "type": "float"
        },
        {
         "name": "FechaInicio",
         "rawType": "object",
         "type": "string"
        }
       ],
       "ref": "d9f54989-1eb5-49a9-9848-7d81e2388dad",
       "rows": [
        [
         "0",
         "2025-01-23",
         "3HF5",
         "176962.0",
         "2023-12-01"
        ],
        [
         "1",
         "2025-05-25",
         "TYP2",
         "623520.0",
         "2024-03-14"
        ],
        [
         "2",
         "2025-04-02",
         "3IZ6",
         "371517.0",
         "2023-12-01"
        ],
        [
         "3",
         "2025-05-30",
         "CHVR",
         "8021002.0",
         "2023-12-01"
        ],
        [
         "4",
         "2025-05-31",
         "GTPE",
         "4439548.0",
         "2023-12-01"
        ],
        [
         "5",
         "2025-04-02",
         "3ENA",
         "4559995.0",
         "2023-12-01"
        ],
        [
         "6",
         "2025-05-30",
         "TRM1",
         "5385396.0",
         "2023-12-01"
        ],
        [
         "7",
         "2025-05-30",
         "SNCR",
         "12389592.0",
         "2023-12-01"
        ],
        [
         "8",
         "2025-05-30",
         "PPA4",
         "3865079.0",
         "2023-12-01"
        ],
        [
         "9",
         "2025-05-30",
         "GTRG",
         "5587319.0",
         "2023-12-01"
        ],
        [
         "10",
         "2025-05-30",
         "MATA",
         "249483.0",
         "2023-12-01"
        ],
        [
         "11",
         "2025-05-30",
         "SMI1",
         "226889.0",
         "2023-12-01"
        ],
        [
         "12",
         "2025-05-30",
         "MRL1",
         "1968000.0",
         "2023-12-01"
        ],
        [
         "13",
         "2025-05-30",
         "CUC1",
         "157017.0",
         "2023-12-01"
        ],
        [
         "14",
         "2025-04-02",
         "SNFR",
         "426844.0",
         "2023-12-01"
        ],
        [
         "15",
         "2025-05-30",
         "CTG1",
         "220625.0",
         "2023-12-01"
        ],
        [
         "16",
         "2025-04-02",
         "ZPA5",
         "936359.0",
         "2023-12-01"
        ],
        [
         "17",
         "2025-05-31",
         "QUI1",
         "4846529.0",
         "2023-12-01"
        ],
        [
         "18",
         "2025-04-02",
         "TYP3",
         "1137984.0",
         "2023-12-01"
        ],
        [
         "19",
         "2025-04-02",
         "ZPA4",
         "1136565.0",
         "2023-12-01"
        ],
        [
         "20",
         "2025-05-30",
         "MOY1",
         "591857.0",
         "2023-12-01"
        ],
        [
         "21",
         "2025-05-31",
         "JAGS",
         "1129478.0",
         "2023-12-01"
        ],
        [
         "22",
         "2025-04-02",
         "ZPA3",
         "1044547.0",
         "2023-12-01"
        ],
        [
         "23",
         "2025-04-02",
         "PGUG",
         "10438356.0",
         "2023-12-01"
        ],
        [
         "24",
         "2025-04-02",
         "TVL1",
         "5478572.0",
         "2023-12-01"
        ],
        [
         "25",
         "2025-04-02",
         "PPA3",
         "1317595.0",
         "2023-12-01"
        ],
        [
         "26",
         "2025-04-02",
         "ALBG",
         "2060981.0",
         "2023-12-01"
        ],
        [
         "27",
         "2025-05-30",
         "TBQ3",
         "1335125.0",
         "2023-12-01"
        ],
        [
         "28",
         "2025-04-02",
         "TBQ4",
         "1276687.0",
         "2023-12-01"
        ],
        [
         "29",
         "2025-05-30",
         "GVIO",
         "12093027.0",
         "2023-12-01"
        ],
        [
         "30",
         "2025-05-30",
         "TYP5",
         "1131536.0",
         "2023-12-01"
        ],
        [
         "31",
         "2025-04-02",
         "SOG1",
         "9575903.0",
         "2023-12-01"
        ],
        [
         "32",
         "2025-04-02",
         "HMLG",
         "2290113.0",
         "2023-12-01"
        ],
        [
         "33",
         "2025-05-30",
         "ZPA2",
         "534624.0",
         "2023-12-01"
        ],
        [
         "34",
         "2025-05-30",
         "TDR1",
         "892404.0",
         "2023-12-01"
        ],
        [
         "35",
         "2025-05-31",
         "CLL1",
         "773809.0",
         "2023-12-01"
        ],
        [
         "36",
         "2025-04-02",
         "TCDT",
         "12653987.0",
         "2023-12-01"
        ],
        [
         "37",
         "2025-04-02",
         "PRC2",
         "2855111.0",
         "2023-12-01"
        ],
        [
         "38",
         "2025-04-02",
         "GE32",
         "5283895.0",
         "2023-12-01"
        ],
        [
         "39",
         "2025-05-30",
         "PRG1",
         "1800271.0",
         "2023-12-01"
        ],
        [
         "40",
         "2025-05-30",
         "3IQA",
         "81352.0",
         "2023-12-01"
        ],
        [
         "41",
         "2025-05-30",
         "TYP4",
         "1140000.0",
         "2023-12-01"
        ],
        [
         "42",
         "2025-04-02",
         "PRC3",
         "7892689.0",
         "2023-12-01"
        ],
        [
         "43",
         "2025-05-30",
         "LTSJ",
         "2328817.0",
         "2023-12-01"
        ],
        [
         "44",
         "2025-04-02",
         "CTG2",
         "471325.0",
         "2023-12-01"
        ],
        [
         "45",
         "2025-04-02",
         "TBST",
         "18436293.0",
         "2023-12-01"
        ],
        [
         "46",
         "2025-04-02",
         "TSJ1",
         "3830853.0",
         "2023-12-01"
        ],
        [
         "47",
         "2025-04-02",
         "CLMG",
         "233962.0",
         "2023-12-01"
        ],
        [
         "48",
         "2025-04-02",
         "TFL4",
         "9957707.0",
         "2023-12-01"
        ],
        [
         "49",
         "2025-05-30",
         "TYP1",
         "189600.0",
         "2023-12-01"
        ]
       ],
       "shape": {
        "columns": 4,
        "rows": 73
       }
      },
      "text/html": [
       "<div>\n",
       "<style scoped>\n",
       "    .dataframe tbody tr th:only-of-type {\n",
       "        vertical-align: middle;\n",
       "    }\n",
       "\n",
       "    .dataframe tbody tr th {\n",
       "        vertical-align: top;\n",
       "    }\n",
       "\n",
       "    .dataframe thead th {\n",
       "        text-align: right;\n",
       "    }\n",
       "</style>\n",
       "<table border=\"1\" class=\"dataframe\">\n",
       "  <thead>\n",
       "    <tr style=\"text-align: right;\">\n",
       "      <th></th>\n",
       "      <th>Fecha</th>\n",
       "      <th>CodigoPlanta</th>\n",
       "      <th>ENFICCVerificada</th>\n",
       "      <th>FechaInicio</th>\n",
       "    </tr>\n",
       "  </thead>\n",
       "  <tbody>\n",
       "    <tr>\n",
       "      <th>0</th>\n",
       "      <td>2025-01-23</td>\n",
       "      <td>3HF5</td>\n",
       "      <td>176962.0</td>\n",
       "      <td>2023-12-01</td>\n",
       "    </tr>\n",
       "    <tr>\n",
       "      <th>1</th>\n",
       "      <td>2025-05-25</td>\n",
       "      <td>TYP2</td>\n",
       "      <td>623520.0</td>\n",
       "      <td>2024-03-14</td>\n",
       "    </tr>\n",
       "    <tr>\n",
       "      <th>2</th>\n",
       "      <td>2025-04-02</td>\n",
       "      <td>3IZ6</td>\n",
       "      <td>371517.0</td>\n",
       "      <td>2023-12-01</td>\n",
       "    </tr>\n",
       "    <tr>\n",
       "      <th>3</th>\n",
       "      <td>2025-05-30</td>\n",
       "      <td>CHVR</td>\n",
       "      <td>8021002.0</td>\n",
       "      <td>2023-12-01</td>\n",
       "    </tr>\n",
       "    <tr>\n",
       "      <th>4</th>\n",
       "      <td>2025-05-31</td>\n",
       "      <td>GTPE</td>\n",
       "      <td>4439548.0</td>\n",
       "      <td>2023-12-01</td>\n",
       "    </tr>\n",
       "    <tr>\n",
       "      <th>...</th>\n",
       "      <td>...</td>\n",
       "      <td>...</td>\n",
       "      <td>...</td>\n",
       "      <td>...</td>\n",
       "    </tr>\n",
       "    <tr>\n",
       "      <th>68</th>\n",
       "      <td>2025-03-10</td>\n",
       "      <td>TCBE</td>\n",
       "      <td>806400.0</td>\n",
       "      <td>2022-12-01</td>\n",
       "    </tr>\n",
       "    <tr>\n",
       "      <th>69</th>\n",
       "      <td>2025-01-22</td>\n",
       "      <td>3DDT</td>\n",
       "      <td>524465.0</td>\n",
       "      <td>2022-12-01</td>\n",
       "    </tr>\n",
       "    <tr>\n",
       "      <th>70</th>\n",
       "      <td>2025-03-06</td>\n",
       "      <td>GEC3</td>\n",
       "      <td>3348225.0</td>\n",
       "      <td>2022-12-01</td>\n",
       "    </tr>\n",
       "    <tr>\n",
       "      <th>71</th>\n",
       "      <td>2025-01-27</td>\n",
       "      <td>GYPO</td>\n",
       "      <td>1201980.0</td>\n",
       "      <td>2022-12-01</td>\n",
       "    </tr>\n",
       "    <tr>\n",
       "      <th>72</th>\n",
       "      <td>2025-01-31</td>\n",
       "      <td>EPFV</td>\n",
       "      <td>236995.0</td>\n",
       "      <td>2022-12-01</td>\n",
       "    </tr>\n",
       "  </tbody>\n",
       "</table>\n",
       "<p>73 rows × 4 columns</p>\n",
       "</div>"
      ],
      "text/plain": [
       "         Fecha CodigoPlanta  ENFICCVerificada FechaInicio\n",
       "0   2025-01-23         3HF5          176962.0  2023-12-01\n",
       "1   2025-05-25         TYP2          623520.0  2024-03-14\n",
       "2   2025-04-02         3IZ6          371517.0  2023-12-01\n",
       "3   2025-05-30         CHVR         8021002.0  2023-12-01\n",
       "4   2025-05-31         GTPE         4439548.0  2023-12-01\n",
       "..         ...          ...               ...         ...\n",
       "68  2025-03-10         TCBE          806400.0  2022-12-01\n",
       "69  2025-01-22         3DDT          524465.0  2022-12-01\n",
       "70  2025-03-06         GEC3         3348225.0  2022-12-01\n",
       "71  2025-01-27         GYPO         1201980.0  2022-12-01\n",
       "72  2025-01-31         EPFV          236995.0  2022-12-01\n",
       "\n",
       "[73 rows x 4 columns]"
      ]
     },
     "execution_count": 5,
     "metadata": {},
     "output_type": "execute_result"
    }
   ],
   "source": [
    "df_enficc = df_enficc.sort_values('FechaPublicacion', ascending=False)                                                      # Se ordenan los datos según la Fecha de Publicación\n",
    "\n",
    "df_enficc_filtrado = df_enficc.drop_duplicates(subset=['FechaInicio','CodigoPlanta'], keep='first').reset_index(drop=True)  # Se obtiene el dato más reciente de cada planta\n",
    "df_enficc_filtrado = df_enficc_filtrado[['Fecha', 'CodigoPlanta','ENFICCVerificada', 'FechaInicio']]                        # Se seleccionan las columnas necesarias para el análisis\n",
    "\n",
    "df_enficc_filtrado                                                                                                          # Se muestra el DataFrame filtrado"
   ]
  },
  {
   "cell_type": "code",
   "execution_count": 6,
   "metadata": {},
   "outputs": [
    {
     "data": {
      "application/vnd.microsoft.datawrangler.viewer.v0+json": {
       "columns": [
        {
         "name": "index",
         "rawType": "int64",
         "type": "integer"
        },
        {
         "name": "CodigoPlanta",
         "rawType": "object",
         "type": "string"
        },
        {
         "name": "TipoGeneracion",
         "rawType": "object",
         "type": "string"
        }
       ],
       "ref": "bdb4295f-1046-4022-9806-9839cddb732e",
       "rows": [
        [
         "0",
         "4XQA",
         "Solar"
        ],
        [
         "1",
         "AMR1",
         "Hidraulica"
        ],
        [
         "2",
         "AMF1",
         "Hidraulica"
        ],
        [
         "3",
         "BLL3",
         "Hidraulica"
        ],
        [
         "4",
         "TMS1",
         "Hidraulica"
        ],
        [
         "5",
         "CMP2",
         "Hidraulica"
        ],
        [
         "6",
         "3AFQ",
         "Hidraulica"
        ],
        [
         "7",
         "RGR1",
         "Hidraulica"
        ],
        [
         "8",
         "2QRL",
         "Hidraulica"
        ],
        [
         "9",
         "SJM1",
         "Hidraulica"
        ],
        [
         "10",
         "3JP8",
         "Solar"
        ],
        [
         "11",
         "NTB1",
         "Hidraulica"
        ],
        [
         "12",
         "3QPE",
         "Solar"
        ],
        [
         "13",
         "4WP2",
         "Solar"
        ],
        [
         "14",
         "4T9M",
         "Solar"
        ],
        [
         "15",
         "3NLE",
         "Solar"
        ],
        [
         "16",
         "3JPA",
         "Solar"
        ],
        [
         "17",
         "3K6X",
         "Solar"
        ],
        [
         "18",
         "SJOG",
         "Hidraulica"
        ],
        [
         "19",
         "UNN1",
         "Hidraulica"
        ],
        [
         "20",
         "2S78",
         "Hidraulica"
        ],
        [
         "21",
         "INT1",
         "Hidraulica"
        ],
        [
         "22",
         "TSR1",
         "Termica"
        ],
        [
         "23",
         "TRM1",
         "Termica"
        ],
        [
         "24",
         "TFL1",
         "Termica"
        ],
        [
         "25",
         "TBST",
         "Termica"
        ],
        [
         "26",
         "TFL4",
         "Termica"
        ],
        [
         "27",
         "TCDT",
         "Termica"
        ],
        [
         "28",
         "SLV1",
         "Hidraulica"
        ],
        [
         "29",
         "MND1",
         "Hidraulica"
        ],
        [
         "30",
         "2S9L",
         "Hidraulica"
        ],
        [
         "31",
         "INZ1",
         "Hidraulica"
        ],
        [
         "32",
         "PST1",
         "Hidraulica"
        ],
        [
         "33",
         "RCIO",
         "Hidraulica"
        ],
        [
         "34",
         "GCC1",
         "Hidraulica"
        ],
        [
         "35",
         "CPT1",
         "Hidraulica"
        ],
        [
         "36",
         "BYN1",
         "Hidraulica"
        ],
        [
         "37",
         "3JP6",
         "Solar"
        ],
        [
         "38",
         "4ULY",
         "Solar"
        ],
        [
         "39",
         "3K8E",
         "Solar"
        ],
        [
         "40",
         "3NU4",
         "Solar"
        ],
        [
         "41",
         "3RGZ",
         "Solar"
        ],
        [
         "42",
         "3Q9K",
         "Solar"
        ],
        [
         "43",
         "3JQC",
         "Solar"
        ],
        [
         "44",
         "4SO2",
         "Solar"
        ],
        [
         "45",
         "3NR4",
         "Solar"
        ],
        [
         "46",
         "3HYG",
         "Solar"
        ],
        [
         "47",
         "3QQ3",
         "Solar"
        ],
        [
         "48",
         "3JBP",
         "Solar"
        ],
        [
         "49",
         "3Q89",
         "Solar"
        ]
       ],
       "shape": {
        "columns": 2,
        "rows": 381
       }
      },
      "text/html": [
       "<div>\n",
       "<style scoped>\n",
       "    .dataframe tbody tr th:only-of-type {\n",
       "        vertical-align: middle;\n",
       "    }\n",
       "\n",
       "    .dataframe tbody tr th {\n",
       "        vertical-align: top;\n",
       "    }\n",
       "\n",
       "    .dataframe thead th {\n",
       "        text-align: right;\n",
       "    }\n",
       "</style>\n",
       "<table border=\"1\" class=\"dataframe\">\n",
       "  <thead>\n",
       "    <tr style=\"text-align: right;\">\n",
       "      <th></th>\n",
       "      <th>CodigoPlanta</th>\n",
       "      <th>TipoGeneracion</th>\n",
       "    </tr>\n",
       "  </thead>\n",
       "  <tbody>\n",
       "    <tr>\n",
       "      <th>0</th>\n",
       "      <td>4XQA</td>\n",
       "      <td>Solar</td>\n",
       "    </tr>\n",
       "    <tr>\n",
       "      <th>1</th>\n",
       "      <td>AMR1</td>\n",
       "      <td>Hidraulica</td>\n",
       "    </tr>\n",
       "    <tr>\n",
       "      <th>2</th>\n",
       "      <td>AMF1</td>\n",
       "      <td>Hidraulica</td>\n",
       "    </tr>\n",
       "    <tr>\n",
       "      <th>3</th>\n",
       "      <td>BLL3</td>\n",
       "      <td>Hidraulica</td>\n",
       "    </tr>\n",
       "    <tr>\n",
       "      <th>4</th>\n",
       "      <td>TMS1</td>\n",
       "      <td>Hidraulica</td>\n",
       "    </tr>\n",
       "    <tr>\n",
       "      <th>...</th>\n",
       "      <td>...</td>\n",
       "      <td>...</td>\n",
       "    </tr>\n",
       "    <tr>\n",
       "      <th>376</th>\n",
       "      <td>3J4T</td>\n",
       "      <td>Solar</td>\n",
       "    </tr>\n",
       "    <tr>\n",
       "      <th>377</th>\n",
       "      <td>3LMH</td>\n",
       "      <td>Solar</td>\n",
       "    </tr>\n",
       "    <tr>\n",
       "      <th>378</th>\n",
       "      <td>3LLY</td>\n",
       "      <td>Solar</td>\n",
       "    </tr>\n",
       "    <tr>\n",
       "      <th>379</th>\n",
       "      <td>3J1J</td>\n",
       "      <td>Solar</td>\n",
       "    </tr>\n",
       "    <tr>\n",
       "      <th>380</th>\n",
       "      <td>3QCI</td>\n",
       "      <td>Solar</td>\n",
       "    </tr>\n",
       "  </tbody>\n",
       "</table>\n",
       "<p>381 rows × 2 columns</p>\n",
       "</div>"
      ],
      "text/plain": [
       "    CodigoPlanta TipoGeneracion\n",
       "0           4XQA          Solar\n",
       "1           AMR1     Hidraulica\n",
       "2           AMF1     Hidraulica\n",
       "3           BLL3     Hidraulica\n",
       "4           TMS1     Hidraulica\n",
       "..           ...            ...\n",
       "376         3J4T          Solar\n",
       "377         3LMH          Solar\n",
       "378         3LLY          Solar\n",
       "379         3J1J          Solar\n",
       "380         3QCI          Solar\n",
       "\n",
       "[381 rows x 2 columns]"
      ]
     },
     "execution_count": 6,
     "metadata": {},
     "output_type": "execute_result"
    }
   ],
   "source": [
    "df_plantas = df_plantas.sort_values('FechaPublicacion', ascending=False)                                          # Se ordenan los datos según la Fecha de Publicación\n",
    "\n",
    "df_plantas_filtrado = df_plantas.drop_duplicates(subset=['CodigoPlanta'], keep='first').reset_index(drop=True)    # Se obtiene el dato más reciente de cada planta\n",
    "df_plantas_filtrado = df_plantas_filtrado[['CodigoPlanta','TipoGeneracion']]                                      # Se seleccionan las columnas necesarias para el cruce de información\n",
    "\n",
    "df_plantas_filtrado                                                                                               # Se muestra el DataFrame de plantas filtrado"
   ]
  },
  {
   "cell_type": "code",
   "execution_count": 7,
   "metadata": {},
   "outputs": [
    {
     "data": {
      "application/vnd.microsoft.datawrangler.viewer.v0+json": {
       "columns": [
        {
         "name": "index",
         "rawType": "int64",
         "type": "integer"
        },
        {
         "name": "Fecha",
         "rawType": "object",
         "type": "string"
        },
        {
         "name": "CodigoPlanta",
         "rawType": "object",
         "type": "string"
        },
        {
         "name": "ENFICCVerificada",
         "rawType": "float64",
         "type": "float"
        },
        {
         "name": "FechaInicio",
         "rawType": "object",
         "type": "string"
        },
        {
         "name": "TipoGeneracion",
         "rawType": "object",
         "type": "unknown"
        }
       ],
       "ref": "34e8053f-5f75-41ce-8c2f-d76ac7fc1951",
       "rows": [
        [
         "0",
         "2025-01-23",
         "3HF5",
         "176962.0",
         "2023-12-01",
         "Solar"
        ],
        [
         "1",
         "2025-05-25",
         "TYP2",
         "623520.0",
         "2024-03-14",
         "Termica"
        ],
        [
         "2",
         "2025-04-02",
         "3IZ6",
         "371517.0",
         "2023-12-01",
         "Solar"
        ],
        [
         "3",
         "2025-05-30",
         "CHVR",
         "8021002.0",
         "2023-12-01",
         "Hidraulica"
        ],
        [
         "4",
         "2025-05-31",
         "GTPE",
         "4439548.0",
         "2023-12-01",
         "Hidraulica"
        ],
        [
         "5",
         "2025-04-02",
         "3ENA",
         "4559995.0",
         "2023-12-01",
         "Termica"
        ],
        [
         "6",
         "2025-05-30",
         "TRM1",
         "5385396.0",
         "2023-12-01",
         "Termica"
        ],
        [
         "7",
         "2025-05-30",
         "SNCR",
         "12389592.0",
         "2023-12-01",
         "Hidraulica"
        ],
        [
         "8",
         "2025-05-30",
         "PPA4",
         "3865079.0",
         "2023-12-01",
         "Termica"
        ],
        [
         "9",
         "2025-05-30",
         "GTRG",
         "5587319.0",
         "2023-12-01",
         "Hidraulica"
        ],
        [
         "10",
         "2025-05-30",
         "MATA",
         "249483.0",
         "2023-12-01",
         "Solar"
        ],
        [
         "11",
         "2025-05-30",
         "SMI1",
         "226889.0",
         "2023-12-01",
         "Hidraulica"
        ],
        [
         "12",
         "2025-05-30",
         "MRL1",
         "1968000.0",
         "2023-12-01",
         "Termica"
        ],
        [
         "13",
         "2025-05-30",
         "CUC1",
         "157017.0",
         "2023-12-01",
         "Hidraulica"
        ],
        [
         "14",
         "2025-04-02",
         "SNFR",
         "426844.0",
         "2023-12-01",
         "Hidraulica"
        ],
        [
         "15",
         "2025-05-30",
         "CTG1",
         "220625.0",
         "2023-12-01",
         "Termica"
        ],
        [
         "16",
         "2025-04-02",
         "ZPA5",
         "936359.0",
         "2023-12-01",
         "Termica"
        ],
        [
         "17",
         "2025-05-31",
         "QUI1",
         "4846529.0",
         "2023-12-01",
         "Hidraulica"
        ],
        [
         "18",
         "2025-04-02",
         "TYP3",
         "1137984.0",
         "2023-12-01",
         "Termica"
        ],
        [
         "19",
         "2025-04-02",
         "ZPA4",
         "1136565.0",
         "2023-12-01",
         "Termica"
        ],
        [
         "20",
         "2025-05-30",
         "MOY1",
         "591857.0",
         "2023-12-01",
         "Hidraulica"
        ],
        [
         "21",
         "2025-05-31",
         "JAGS",
         "1129478.0",
         "2023-12-01",
         "Hidraulica"
        ],
        [
         "22",
         "2025-04-02",
         "ZPA3",
         "1044547.0",
         "2023-12-01",
         "Termica"
        ],
        [
         "23",
         "2025-04-02",
         "PGUG",
         "10438356.0",
         "2023-12-01",
         "Hidraulica"
        ],
        [
         "24",
         "2025-04-02",
         "TVL1",
         "5478572.0",
         "2023-12-01",
         "Termica"
        ],
        [
         "25",
         "2025-04-02",
         "PPA3",
         "1317595.0",
         "2023-12-01",
         "Termica"
        ],
        [
         "26",
         "2025-04-02",
         "ALBG",
         "2060981.0",
         "2023-12-01",
         "Hidraulica"
        ],
        [
         "27",
         "2025-05-30",
         "TBQ3",
         "1335125.0",
         "2023-12-01",
         "Termica"
        ],
        [
         "28",
         "2025-04-02",
         "TBQ4",
         "1276687.0",
         "2023-12-01",
         "Termica"
        ],
        [
         "29",
         "2025-05-30",
         "GVIO",
         "12093027.0",
         "2023-12-01",
         "Hidraulica"
        ],
        [
         "30",
         "2025-05-30",
         "TYP5",
         "1131536.0",
         "2023-12-01",
         "Termica"
        ],
        [
         "31",
         "2025-04-02",
         "SOG1",
         "9575903.0",
         "2023-12-01",
         "Hidraulica"
        ],
        [
         "32",
         "2025-04-02",
         "HMLG",
         "2290113.0",
         "2023-12-01",
         "Hidraulica"
        ],
        [
         "33",
         "2025-05-30",
         "ZPA2",
         "534624.0",
         "2023-12-01",
         "Termica"
        ],
        [
         "34",
         "2025-05-30",
         "TDR1",
         "892404.0",
         "2023-12-01",
         "Termica"
        ],
        [
         "35",
         "2025-05-31",
         "CLL1",
         "773809.0",
         "2023-12-01",
         "Hidraulica"
        ],
        [
         "36",
         "2025-04-02",
         "TCDT",
         "12653987.0",
         "2023-12-01",
         "Termica"
        ],
        [
         "37",
         "2025-04-02",
         "PRC2",
         "2855111.0",
         "2023-12-01",
         "Hidraulica"
        ],
        [
         "38",
         "2025-04-02",
         "GE32",
         "5283895.0",
         "2023-12-01",
         "Termica"
        ],
        [
         "39",
         "2025-05-30",
         "PRG1",
         "1800271.0",
         "2023-12-01",
         "Termica"
        ],
        [
         "40",
         "2025-05-30",
         "3IQA",
         "81352.0",
         "2023-12-01",
         "Solar"
        ],
        [
         "41",
         "2025-05-30",
         "TYP4",
         "1140000.0",
         "2023-12-01",
         "Termica"
        ],
        [
         "42",
         "2025-04-02",
         "PRC3",
         "7892689.0",
         "2023-12-01",
         "Hidraulica"
        ],
        [
         "43",
         "2025-05-30",
         "LTSJ",
         "2328817.0",
         "2023-12-01",
         "Hidraulica"
        ],
        [
         "44",
         "2025-04-02",
         "CTG2",
         "471325.0",
         "2023-12-01",
         "Termica"
        ],
        [
         "45",
         "2025-04-02",
         "TBST",
         "18436293.0",
         "2023-12-01",
         "Termica"
        ],
        [
         "46",
         "2025-04-02",
         "TSJ1",
         "3830853.0",
         "2023-12-01",
         "Termica"
        ],
        [
         "47",
         "2025-04-02",
         "CLMG",
         "233962.0",
         "2023-12-01",
         "Hidraulica"
        ],
        [
         "48",
         "2025-04-02",
         "TFL4",
         "9957707.0",
         "2023-12-01",
         "Termica"
        ],
        [
         "49",
         "2025-05-30",
         "TYP1",
         "189600.0",
         "2023-12-01",
         "Termica"
        ]
       ],
       "shape": {
        "columns": 5,
        "rows": 73
       }
      },
      "text/html": [
       "<div>\n",
       "<style scoped>\n",
       "    .dataframe tbody tr th:only-of-type {\n",
       "        vertical-align: middle;\n",
       "    }\n",
       "\n",
       "    .dataframe tbody tr th {\n",
       "        vertical-align: top;\n",
       "    }\n",
       "\n",
       "    .dataframe thead th {\n",
       "        text-align: right;\n",
       "    }\n",
       "</style>\n",
       "<table border=\"1\" class=\"dataframe\">\n",
       "  <thead>\n",
       "    <tr style=\"text-align: right;\">\n",
       "      <th></th>\n",
       "      <th>Fecha</th>\n",
       "      <th>CodigoPlanta</th>\n",
       "      <th>ENFICCVerificada</th>\n",
       "      <th>FechaInicio</th>\n",
       "      <th>TipoGeneracion</th>\n",
       "    </tr>\n",
       "  </thead>\n",
       "  <tbody>\n",
       "    <tr>\n",
       "      <th>0</th>\n",
       "      <td>2025-01-23</td>\n",
       "      <td>3HF5</td>\n",
       "      <td>176962.0</td>\n",
       "      <td>2023-12-01</td>\n",
       "      <td>Solar</td>\n",
       "    </tr>\n",
       "    <tr>\n",
       "      <th>1</th>\n",
       "      <td>2025-05-25</td>\n",
       "      <td>TYP2</td>\n",
       "      <td>623520.0</td>\n",
       "      <td>2024-03-14</td>\n",
       "      <td>Termica</td>\n",
       "    </tr>\n",
       "    <tr>\n",
       "      <th>2</th>\n",
       "      <td>2025-04-02</td>\n",
       "      <td>3IZ6</td>\n",
       "      <td>371517.0</td>\n",
       "      <td>2023-12-01</td>\n",
       "      <td>Solar</td>\n",
       "    </tr>\n",
       "    <tr>\n",
       "      <th>3</th>\n",
       "      <td>2025-05-30</td>\n",
       "      <td>CHVR</td>\n",
       "      <td>8021002.0</td>\n",
       "      <td>2023-12-01</td>\n",
       "      <td>Hidraulica</td>\n",
       "    </tr>\n",
       "    <tr>\n",
       "      <th>4</th>\n",
       "      <td>2025-05-31</td>\n",
       "      <td>GTPE</td>\n",
       "      <td>4439548.0</td>\n",
       "      <td>2023-12-01</td>\n",
       "      <td>Hidraulica</td>\n",
       "    </tr>\n",
       "    <tr>\n",
       "      <th>...</th>\n",
       "      <td>...</td>\n",
       "      <td>...</td>\n",
       "      <td>...</td>\n",
       "      <td>...</td>\n",
       "      <td>...</td>\n",
       "    </tr>\n",
       "    <tr>\n",
       "      <th>68</th>\n",
       "      <td>2025-03-10</td>\n",
       "      <td>TCBE</td>\n",
       "      <td>806400.0</td>\n",
       "      <td>2022-12-01</td>\n",
       "      <td>Termica</td>\n",
       "    </tr>\n",
       "    <tr>\n",
       "      <th>69</th>\n",
       "      <td>2025-01-22</td>\n",
       "      <td>3DDT</td>\n",
       "      <td>524465.0</td>\n",
       "      <td>2022-12-01</td>\n",
       "      <td>Solar</td>\n",
       "    </tr>\n",
       "    <tr>\n",
       "      <th>70</th>\n",
       "      <td>2025-03-06</td>\n",
       "      <td>GEC3</td>\n",
       "      <td>3348225.0</td>\n",
       "      <td>2022-12-01</td>\n",
       "      <td>Termica</td>\n",
       "    </tr>\n",
       "    <tr>\n",
       "      <th>71</th>\n",
       "      <td>2025-01-27</td>\n",
       "      <td>GYPO</td>\n",
       "      <td>1201980.0</td>\n",
       "      <td>2022-12-01</td>\n",
       "      <td>Solar</td>\n",
       "    </tr>\n",
       "    <tr>\n",
       "      <th>72</th>\n",
       "      <td>2025-01-31</td>\n",
       "      <td>EPFV</td>\n",
       "      <td>236995.0</td>\n",
       "      <td>2022-12-01</td>\n",
       "      <td>Solar</td>\n",
       "    </tr>\n",
       "  </tbody>\n",
       "</table>\n",
       "<p>73 rows × 5 columns</p>\n",
       "</div>"
      ],
      "text/plain": [
       "         Fecha CodigoPlanta  ENFICCVerificada FechaInicio TipoGeneracion\n",
       "0   2025-01-23         3HF5          176962.0  2023-12-01          Solar\n",
       "1   2025-05-25         TYP2          623520.0  2024-03-14        Termica\n",
       "2   2025-04-02         3IZ6          371517.0  2023-12-01          Solar\n",
       "3   2025-05-30         CHVR         8021002.0  2023-12-01     Hidraulica\n",
       "4   2025-05-31         GTPE         4439548.0  2023-12-01     Hidraulica\n",
       "..         ...          ...               ...         ...            ...\n",
       "68  2025-03-10         TCBE          806400.0  2022-12-01        Termica\n",
       "69  2025-01-22         3DDT          524465.0  2022-12-01          Solar\n",
       "70  2025-03-06         GEC3         3348225.0  2022-12-01        Termica\n",
       "71  2025-01-27         GYPO         1201980.0  2022-12-01          Solar\n",
       "72  2025-01-31         EPFV          236995.0  2022-12-01          Solar\n",
       "\n",
       "[73 rows x 5 columns]"
      ]
     },
     "execution_count": 7,
     "metadata": {},
     "output_type": "execute_result"
    }
   ],
   "source": [
    "df_completo = pd.merge(df_enficc_filtrado, df_plantas_filtrado, on=['CodigoPlanta', 'CodigoPlanta'], how='left')   # Se une el DataFrame de la ENFICC con el DataFrame de plantas\n",
    "df_completo"
   ]
  },
  {
   "cell_type": "code",
   "execution_count": 8,
   "metadata": {},
   "outputs": [
    {
     "data": {
      "application/vnd.microsoft.datawrangler.viewer.v0+json": {
       "columns": [
        {
         "name": "index",
         "rawType": "int64",
         "type": "integer"
        },
        {
         "name": "Fecha",
         "rawType": "object",
         "type": "string"
        },
        {
         "name": "CodigoPlanta",
         "rawType": "object",
         "type": "string"
        },
        {
         "name": "ENFICCVerificada",
         "rawType": "float64",
         "type": "float"
        },
        {
         "name": "TipoGeneracion",
         "rawType": "object",
         "type": "unknown"
        }
       ],
       "ref": "82a536eb-707f-4b57-9f17-2d5f21d41a80",
       "rows": [
        [
         "17",
         "2025-05-31",
         "QUI1",
         "4.846529",
         "Hidraulica"
        ],
        [
         "4",
         "2025-05-31",
         "GTPE",
         "4.439548",
         "Hidraulica"
        ],
        [
         "35",
         "2025-05-31",
         "CLL1",
         "0.773809",
         "Hidraulica"
        ],
        [
         "21",
         "2025-05-31",
         "JAGS",
         "1.129478",
         "Hidraulica"
        ],
        [
         "34",
         "2025-05-30",
         "TDR1",
         "0.892404",
         "Termica"
        ],
        [
         "30",
         "2025-05-30",
         "TYP5",
         "1.131536",
         "Termica"
        ],
        [
         "58",
         "2025-05-30",
         "TGJ2",
         "2.280523",
         "Termica"
        ],
        [
         "55",
         "2025-05-30",
         "PRDO",
         "0.105787",
         "Hidraulica"
        ],
        [
         "27",
         "2025-05-30",
         "TBQ3",
         "1.335125",
         "Termica"
        ],
        [
         "54",
         "2025-05-30",
         "PPA2",
         "1.348053",
         "Termica"
        ],
        [
         "29",
         "2025-05-30",
         "GVIO",
         "12.093027",
         "Hidraulica"
        ],
        [
         "52",
         "2025-05-30",
         "PES1",
         "14.444252",
         "Hidraulica"
        ],
        [
         "53",
         "2025-05-30",
         "CHBG",
         "4.368371",
         "Hidraulica"
        ],
        [
         "33",
         "2025-05-30",
         "ZPA2",
         "0.534624",
         "Termica"
        ],
        [
         "49",
         "2025-05-30",
         "TYP1",
         "0.1896",
         "Termica"
        ],
        [
         "39",
         "2025-05-30",
         "PRG1",
         "1.800271",
         "Termica"
        ],
        [
         "40",
         "2025-05-30",
         "3IQA",
         "0.081352",
         "Solar"
        ],
        [
         "41",
         "2025-05-30",
         "TYP4",
         "1.14",
         "Termica"
        ],
        [
         "43",
         "2025-05-30",
         "LTSJ",
         "2.328817",
         "Hidraulica"
        ],
        [
         "60",
         "2025-05-30",
         "TRN1",
         "1.8299",
         "Termica"
        ],
        [
         "61",
         "2025-05-30",
         "HMIN",
         "0.133498",
         "Hidraulica"
        ],
        [
         "20",
         "2025-05-30",
         "MOY1",
         "0.591857",
         "Hidraulica"
        ],
        [
         "12",
         "2025-05-30",
         "MRL1",
         "1.968",
         "Termica"
        ],
        [
         "3",
         "2025-05-30",
         "CHVR",
         "8.021002",
         "Hidraulica"
        ],
        [
         "66",
         "2025-05-30",
         "PLYS",
         "3.096603",
         "Hidraulica"
        ],
        [
         "6",
         "2025-05-30",
         "TRM1",
         "5.385396",
         "Termica"
        ],
        [
         "7",
         "2025-05-30",
         "SNCR",
         "12.389592",
         "Hidraulica"
        ],
        [
         "8",
         "2025-05-30",
         "PPA4",
         "3.865079",
         "Termica"
        ],
        [
         "10",
         "2025-05-30",
         "MATA",
         "0.249483",
         "Solar"
        ],
        [
         "11",
         "2025-05-30",
         "SMI1",
         "0.226889",
         "Hidraulica"
        ],
        [
         "9",
         "2025-05-30",
         "GTRG",
         "5.587319",
         "Hidraulica"
        ],
        [
         "13",
         "2025-05-30",
         "CUC1",
         "0.157017",
         "Hidraulica"
        ],
        [
         "65",
         "2025-05-30",
         "GCA3",
         "1.578985",
         null
        ],
        [
         "15",
         "2025-05-30",
         "CTG1",
         "0.220625",
         "Termica"
        ],
        [
         "63",
         "2025-05-30",
         "TSR1",
         "7.620617",
         "Termica"
        ],
        [
         "62",
         "2025-05-30",
         "SLVJ",
         "1.556587",
         "Hidraulica"
        ],
        [
         "1",
         "2025-05-25",
         "TYP2",
         "0.62352",
         "Termica"
        ],
        [
         "46",
         "2025-04-02",
         "TSJ1",
         "3.830853",
         "Termica"
        ],
        [
         "51",
         "2025-04-02",
         "URA1",
         "2.127258",
         "Hidraulica"
        ],
        [
         "50",
         "2025-04-02",
         "PPA1",
         "0.6546",
         "Termica"
        ],
        [
         "64",
         "2025-04-02",
         "TGJ1",
         "2.424665",
         "Termica"
        ],
        [
         "59",
         "2025-04-02",
         "TSJ2",
         "3.937816",
         "Termica"
        ],
        [
         "48",
         "2025-04-02",
         "TFL4",
         "9.957707",
         "Termica"
        ],
        [
         "67",
         "2025-04-02",
         "TFL1",
         "3.515013",
         "Termica"
        ],
        [
         "47",
         "2025-04-02",
         "CLMG",
         "0.233962",
         "Hidraulica"
        ],
        [
         "36",
         "2025-04-02",
         "TCDT",
         "12.653987",
         "Termica"
        ],
        [
         "45",
         "2025-04-02",
         "TBST",
         "18.436293",
         "Termica"
        ],
        [
         "5",
         "2025-04-02",
         "3ENA",
         "4.559995",
         "Termica"
        ],
        [
         "18",
         "2025-04-02",
         "TYP3",
         "1.137984",
         "Termica"
        ],
        [
         "19",
         "2025-04-02",
         "ZPA4",
         "1.136565",
         "Termica"
        ]
       ],
       "shape": {
        "columns": 4,
        "rows": 73
       }
      },
      "text/html": [
       "<div>\n",
       "<style scoped>\n",
       "    .dataframe tbody tr th:only-of-type {\n",
       "        vertical-align: middle;\n",
       "    }\n",
       "\n",
       "    .dataframe tbody tr th {\n",
       "        vertical-align: top;\n",
       "    }\n",
       "\n",
       "    .dataframe thead th {\n",
       "        text-align: right;\n",
       "    }\n",
       "</style>\n",
       "<table border=\"1\" class=\"dataframe\">\n",
       "  <thead>\n",
       "    <tr style=\"text-align: right;\">\n",
       "      <th></th>\n",
       "      <th>Fecha</th>\n",
       "      <th>CodigoPlanta</th>\n",
       "      <th>ENFICCVerificada</th>\n",
       "      <th>TipoGeneracion</th>\n",
       "    </tr>\n",
       "  </thead>\n",
       "  <tbody>\n",
       "    <tr>\n",
       "      <th>17</th>\n",
       "      <td>2025-05-31</td>\n",
       "      <td>QUI1</td>\n",
       "      <td>4.846529</td>\n",
       "      <td>Hidraulica</td>\n",
       "    </tr>\n",
       "    <tr>\n",
       "      <th>4</th>\n",
       "      <td>2025-05-31</td>\n",
       "      <td>GTPE</td>\n",
       "      <td>4.439548</td>\n",
       "      <td>Hidraulica</td>\n",
       "    </tr>\n",
       "    <tr>\n",
       "      <th>35</th>\n",
       "      <td>2025-05-31</td>\n",
       "      <td>CLL1</td>\n",
       "      <td>0.773809</td>\n",
       "      <td>Hidraulica</td>\n",
       "    </tr>\n",
       "    <tr>\n",
       "      <th>21</th>\n",
       "      <td>2025-05-31</td>\n",
       "      <td>JAGS</td>\n",
       "      <td>1.129478</td>\n",
       "      <td>Hidraulica</td>\n",
       "    </tr>\n",
       "    <tr>\n",
       "      <th>34</th>\n",
       "      <td>2025-05-30</td>\n",
       "      <td>TDR1</td>\n",
       "      <td>0.892404</td>\n",
       "      <td>Termica</td>\n",
       "    </tr>\n",
       "    <tr>\n",
       "      <th>...</th>\n",
       "      <td>...</td>\n",
       "      <td>...</td>\n",
       "      <td>...</td>\n",
       "      <td>...</td>\n",
       "    </tr>\n",
       "    <tr>\n",
       "      <th>70</th>\n",
       "      <td>2025-03-06</td>\n",
       "      <td>GEC3</td>\n",
       "      <td>3.348225</td>\n",
       "      <td>Termica</td>\n",
       "    </tr>\n",
       "    <tr>\n",
       "      <th>72</th>\n",
       "      <td>2025-01-31</td>\n",
       "      <td>EPFV</td>\n",
       "      <td>0.236995</td>\n",
       "      <td>Solar</td>\n",
       "    </tr>\n",
       "    <tr>\n",
       "      <th>71</th>\n",
       "      <td>2025-01-27</td>\n",
       "      <td>GYPO</td>\n",
       "      <td>1.201980</td>\n",
       "      <td>Solar</td>\n",
       "    </tr>\n",
       "    <tr>\n",
       "      <th>0</th>\n",
       "      <td>2025-01-23</td>\n",
       "      <td>3HF5</td>\n",
       "      <td>0.176962</td>\n",
       "      <td>Solar</td>\n",
       "    </tr>\n",
       "    <tr>\n",
       "      <th>69</th>\n",
       "      <td>2025-01-22</td>\n",
       "      <td>3DDT</td>\n",
       "      <td>0.524465</td>\n",
       "      <td>Solar</td>\n",
       "    </tr>\n",
       "  </tbody>\n",
       "</table>\n",
       "<p>73 rows × 4 columns</p>\n",
       "</div>"
      ],
      "text/plain": [
       "         Fecha CodigoPlanta  ENFICCVerificada TipoGeneracion\n",
       "17  2025-05-31         QUI1          4.846529     Hidraulica\n",
       "4   2025-05-31         GTPE          4.439548     Hidraulica\n",
       "35  2025-05-31         CLL1          0.773809     Hidraulica\n",
       "21  2025-05-31         JAGS          1.129478     Hidraulica\n",
       "34  2025-05-30         TDR1          0.892404        Termica\n",
       "..         ...          ...               ...            ...\n",
       "70  2025-03-06         GEC3          3.348225        Termica\n",
       "72  2025-01-31         EPFV          0.236995          Solar\n",
       "71  2025-01-27         GYPO          1.201980          Solar\n",
       "0   2025-01-23         3HF5          0.176962          Solar\n",
       "69  2025-01-22         3DDT          0.524465          Solar\n",
       "\n",
       "[73 rows x 4 columns]"
      ]
     },
     "metadata": {},
     "output_type": "display_data"
    }
   ],
   "source": [
    "df_filtrado = df_completo[['Fecha', 'CodigoPlanta','ENFICCVerificada', 'TipoGeneracion']]   # Selecciona únicamente las columnas 'Fecha','CodigoPlanta', 'TipoGeneracion y 'ENFICCVerificada' del DataFrame\n",
    "df_filtrado = df_filtrado.sort_values('Fecha', ascending=False)                             # Se ordenan los datos por Fecha\n",
    "df_filtrado['ENFICCVerificada'] = df_filtrado['ENFICCVerificada']/1000000                   # Se cambia de unidad por Gwh\n",
    "\n",
    "display(df_filtrado)                                                                        # Muestra el DataFrame filtrado"
   ]
  },
  {
   "cell_type": "markdown",
   "metadata": {},
   "source": [
    "<a id='section5'></a>\n",
    "# 5. Análisis para dar respuesta al caso de uso"
   ]
  },
  {
   "cell_type": "markdown",
   "metadata": {},
   "source": [
    "Ahora se grafica el valor del ENFICC por tipo de generación"
   ]
  },
  {
   "cell_type": "code",
   "execution_count": 10,
   "metadata": {},
   "outputs": [
    {
     "data": {
      "image/png": "[encoded data removed]",
      "text/plain": [
       "<Figure size 1800x600 with 1 Axes>"
      ]
     },
     "metadata": {},
     "output_type": "display_data"
    }
   ],
   "source": [
    "df_tipoGeneracion = df_filtrado.groupby('TipoGeneracion')['ENFICCVerificada'].sum().reset_index()  # Se agrupan los datos por tipo de Generación\n",
    "\n",
    "# Crear la figura de gráfico con Matplotlib\n",
    "plt.figure(figsize=(18, 6))  # Tamaño del gráfico\n",
    "\n",
    "# Se añade el gráfico de barras\n",
    "plt.bar(\n",
    "    df_tipoGeneracion['TipoGeneracion'],         # Valores Eje X\n",
    "    df_tipoGeneracion['ENFICCVerificada'],       # Valores Eje Y\n",
    "    color='steelblue'                            # Color del gráfico (puedes ajustarlo si deseas)\n",
    ")\n",
    "\n",
    "# Se configura el diseño del gráfico\n",
    "plt.title(\"ENFICC Verificada agrupada por Tipo de Generación\")  # Título del gráfico\n",
    "plt.xlabel(\"Tipo Generación\")                                   # Título Eje X\n",
    "plt.ylabel(\"GWh\")                                               # Título Eje Y\n",
    "plt.grid(axis='y', linestyle='--', alpha=0.7)                   # Líneas de guía en el eje Y\n",
    "\n",
    "plt.tight_layout()  # Ajuste automático del diseño\n",
    "plt.show()          # Se muestra el gráfico"
   ]
  },
  {
   "cell_type": "markdown",
   "metadata": {},
   "source": [
    "Se grafican las 5 plantas con mayor ENFICC verificada"
   ]
  },
  {
   "cell_type": "code",
   "execution_count": 12,
   "metadata": {},
   "outputs": [
    {
     "data": {
      "image/png": "[encoded data removed]",
      "text/plain": [
       "<Figure size 1800x600 with 1 Axes>"
      ]
     },
     "metadata": {},
     "output_type": "display_data"
    }
   ],
   "source": [
    "df_top_5 = df_filtrado.sort_values(by='ENFICCVerificada', ascending=False).head(5)   # Se ordenan los datos por valor de ENFICC y se seleccionan los 5 mayores\n",
    "\n",
    "# Se crea la gráfica de barras\n",
    "plt.figure(figsize=(18, 6))  # Tamaño del gráfico\n",
    "\n",
    "plt.bar(\n",
    "    df_top_5['CodigoPlanta'],           # Valores Eje X\n",
    "    df_top_5['ENFICCVerificada'],       # Valores Eje Y\n",
    "    color='lightgreen'                  # Color del gráfico\n",
    ")\n",
    "\n",
    "# Configurar el diseño del gráfico\n",
    "plt.title('Top 5 Plantas con Mayor ENFICC Verificada')  # Título del gráfico\n",
    "plt.xlabel('Código Planta')                             # Título Eje X\n",
    "plt.ylabel('GWh')                                       # Título Eje Y\n",
    "plt.grid(axis='y', linestyle='--', alpha=0.7)           # Líneas de guía en el eje Y\n",
    "\n",
    "plt.tight_layout()  # Ajuste automático del diseño\n",
    "plt.show()          # Se muestra el gráfico"
   ]
  },
  {
   "cell_type": "markdown",
   "metadata": {},
   "source": [
    "Se grafica el ENFICC de las plantas que se deseen observar"
   ]
  },
  {
   "cell_type": "code",
   "execution_count": 15,
   "metadata": {},
   "outputs": [
    {
     "data": {
      "image/png": "[encoded data removed]",
      "text/plain": [
       "<Figure size 1800x600 with 1 Axes>"
      ]
     },
     "metadata": {},
     "output_type": "display_data"
    }
   ],
   "source": [
    "listado_plantas = ['SLVJ', 'URA1']                                                # Listado de plantas por el cuál se desea filtrar\n",
    "\n",
    "if len(listado_plantas) > 0:\n",
    "    df_filtrado = df_filtrado[df_filtrado['CodigoPlanta'].isin(listado_plantas)]  # Se filtra por el listado de plantas\n",
    "\n",
    "# Se crea la gráfica de barras\n",
    "plt.figure(figsize=(18, 6))  # Tamaño del gráfico\n",
    "\n",
    "plt.bar(\n",
    "    df_filtrado['CodigoPlanta'],        # Valores Eje X\n",
    "    df_filtrado['ENFICCVerificada'],    # Valores Eje Y\n",
    "    color='orange'                      # Color del gráfico\n",
    ")\n",
    "\n",
    "# Configurar el diseño del gráfico\n",
    "plt.title('Valor de ENFICC Verificada')         # Título del gráfico\n",
    "plt.xlabel('Código Planta')                     # Título Eje X\n",
    "plt.ylabel('GWh')                               # Título Eje Y\n",
    "plt.grid(axis='y', linestyle='--', alpha=0.7)   # Líneas de guía en el eje Y\n",
    "\n",
    "plt.tight_layout()  # Ajuste automático del diseño\n",
    "plt.show()          # Se muestra el gráfico"
   ]
  }
 ],
 "metadata": {
  "kernelspec": {
   "display_name": ".venv",
   "language": "python",
   "name": "python3"
  },
  "language_info": {
   "codemirror_mode": {
    "name": "ipython",
    "version": 3
   },
   "file_extension": ".py",
   "mimetype": "text/x-python",
   "name": "python",
   "nbconvert_exporter": "python",
   "pygments_lexer": "ipython3",
   "version": "3.13.5"
  }
 },
 "nbformat": 4,
 "nbformat_minor": 2
}
