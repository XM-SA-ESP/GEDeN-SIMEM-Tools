{
 "cells": [
  {
   "cell_type": "markdown",
   "metadata": {},
   "source": [
    "![SIMEM_logo_1.png](../../assets/SIMEM_logo_1.png)\n",
    "\n",
    "\n",
    "[SiMEM](https://www.simem.co/)"
   ]
  },
  {
   "cell_type": "markdown",
   "metadata": {},
   "source": [
    "## Objetivos de este Notebook\n",
    "\n",
    "* Explicar cómo se puede consultar el listado de variables disponibles para el uso de la clase VariableSIMEM y sus funciones.\n",
    "* Explicar cómo obtener la descripción estadística de una variable de interés."
   ]
  },
  {
   "cell_type": "markdown",
   "metadata": {},
   "source": [
    "## Objetivos de este Notebook\n",
    "\n",
    "* Explicar cómo se puede consultar información de una variable predeterminada con una versión deseada.\n",
    "\n",
    "## Índice\n",
    "\n",
    "1. [Importación de la clase VariableSIMEM](#section1)\n",
    "\n",
    "2. [Consultar el listado de variables disponibles](#section2)\n",
    "\n",
    "3. [Buscar el código de una variable](#section3)\n",
    "\n",
    "4. [Consultar información de la variable](#section4)"
   ]
  },
  {
   "cell_type": "markdown",
   "metadata": {},
   "source": [
    "<a id='section1'></a>\n",
    "### Importación de la clase VariableSIMEM\n",
    "\n",
    "En la siguiente celda se importa el objeto VariableSIMEM, que contiene las funciones necesarias para cumplir los objetivos anteriormente mencionados."
   ]
  },
  {
   "cell_type": "code",
   "execution_count": 1,
   "metadata": {},
   "outputs": [],
   "source": [
    "import sys\n",
    "\n",
    "# !{sys.executable} -m pip install pydataxm\n",
    "from pydataxm.pydatasimem import VariableSIMEM # Importa la libreria que fue instalada con pip install pydataxm"
   ]
  },
  {
   "cell_type": "markdown",
   "metadata": {},
   "source": [
    "<a id='section2'></a>\n",
    "### Consultar el listado de variables disponibles dentro de la clase\n",
    "\n",
    "En la siguiente celda se muestra como consultar el listado de variables con las que se pueden aprovechar todas las funcionalidades de la clase VariableSIMEM"
   ]
  },
  {
   "cell_type": "code",
   "execution_count": null,
   "metadata": {},
   "outputs": [
    {
     "data": {
      "application/vnd.microsoft.datawrangler.viewer.v0+json": {
       "columns": [
        {
         "name": "index",
         "rawType": "int64",
         "type": "integer"
        },
        {
         "name": "CodigoVariable",
         "rawType": "object",
         "type": "string"
        },
        {
         "name": "Nombre",
         "rawType": "object",
         "type": "string"
        },
        {
         "name": "Dimensiones",
         "rawType": "object",
         "type": "unknown"
        }
       ],
       "ref": "f89e1cb7-0879-436d-b524-b7c331dbfdc5",
       "rows": [
        [
         "0",
         "AportesHidricosEnergia",
         "Aportes hídricos de las series hidrológicas expresados en energía",
         "['CodigoSerieHidrologica', 'RegionHidrologica', 'Fecha']"
        ],
        [
         "1",
         "AportesHidricosMasa",
         "Aportes hídricos de las series hidrológicas",
         "['CodigoSerieHidrologica', 'RegionHidrologica', 'Fecha']"
        ],
        [
         "2",
         "AportesHidricosMasaPSS95",
         "Aportes hídricos para un 95% de Probabilidad de Ser Superado (PSS)",
         "['CodigoSerieHidrologica', 'RegionHidrologica', 'Fecha']"
        ],
        [
         "3",
         "CantidadVentasContratosSICEP",
         "Cantidad ventas en contratos del SICEP",
         "['Version', 'FechaHora']"
        ],
        [
         "4",
         "CapacidadAsignada",
         "Capacidad asignada al proyecto con reserva",
         "['FechaActualizacion']"
        ]
       ],
       "shape": {
        "columns": 3,
        "rows": 5
       }
      },
      "text/html": [
       "<div>\n",
       "<style scoped>\n",
       "    .dataframe tbody tr th:only-of-type {\n",
       "        vertical-align: middle;\n",
       "    }\n",
       "\n",
       "    .dataframe tbody tr th {\n",
       "        vertical-align: top;\n",
       "    }\n",
       "\n",
       "    .dataframe thead th {\n",
       "        text-align: right;\n",
       "    }\n",
       "</style>\n",
       "<table border=\"1\" class=\"dataframe\">\n",
       "  <thead>\n",
       "    <tr style=\"text-align: right;\">\n",
       "      <th></th>\n",
       "      <th>CodigoVariable</th>\n",
       "      <th>Nombre</th>\n",
       "      <th>Dimensiones</th>\n",
       "    </tr>\n",
       "  </thead>\n",
       "  <tbody>\n",
       "    <tr>\n",
       "      <th>0</th>\n",
       "      <td>AportesHidricosEnergia</td>\n",
       "      <td>Aportes hídricos de las series hidrológicas ex...</td>\n",
       "      <td>[CodigoSerieHidrologica, RegionHidrologica, Fe...</td>\n",
       "    </tr>\n",
       "    <tr>\n",
       "      <th>1</th>\n",
       "      <td>AportesHidricosMasa</td>\n",
       "      <td>Aportes hídricos de las series hidrológicas</td>\n",
       "      <td>[CodigoSerieHidrologica, RegionHidrologica, Fe...</td>\n",
       "    </tr>\n",
       "    <tr>\n",
       "      <th>2</th>\n",
       "      <td>AportesHidricosMasaPSS95</td>\n",
       "      <td>Aportes hídricos para un 95% de Probabilidad d...</td>\n",
       "      <td>[CodigoSerieHidrologica, RegionHidrologica, Fe...</td>\n",
       "    </tr>\n",
       "    <tr>\n",
       "      <th>3</th>\n",
       "      <td>CantidadVentasContratosSICEP</td>\n",
       "      <td>Cantidad ventas en contratos del SICEP</td>\n",
       "      <td>[Version, FechaHora]</td>\n",
       "    </tr>\n",
       "    <tr>\n",
       "      <th>4</th>\n",
       "      <td>CapacidadAsignada</td>\n",
       "      <td>Capacidad asignada al proyecto con reserva</td>\n",
       "      <td>[FechaActualizacion]</td>\n",
       "    </tr>\n",
       "  </tbody>\n",
       "</table>\n",
       "</div>"
      ],
      "text/plain": [
       "                 CodigoVariable  \\\n",
       "0        AportesHidricosEnergia   \n",
       "1           AportesHidricosMasa   \n",
       "2      AportesHidricosMasaPSS95   \n",
       "3  CantidadVentasContratosSICEP   \n",
       "4             CapacidadAsignada   \n",
       "\n",
       "                                              Nombre  \\\n",
       "0  Aportes hídricos de las series hidrológicas ex...   \n",
       "1        Aportes hídricos de las series hidrológicas   \n",
       "2  Aportes hídricos para un 95% de Probabilidad d...   \n",
       "3             Cantidad ventas en contratos del SICEP   \n",
       "4         Capacidad asignada al proyecto con reserva   \n",
       "\n",
       "                                         Dimensiones  \n",
       "0  [CodigoSerieHidrologica, RegionHidrologica, Fe...  \n",
       "1  [CodigoSerieHidrologica, RegionHidrologica, Fe...  \n",
       "2  [CodigoSerieHidrologica, RegionHidrologica, Fe...  \n",
       "3                               [Version, FechaHora]  \n",
       "4                               [FechaActualizacion]  "
      ]
     },
     "execution_count": 3,
     "metadata": {},
     "output_type": "execute_result"
    }
   ],
   "source": [
    "lisatado_variables = VariableSIMEM.get_collection() # Obtiene el listado de variables que se pueden usar dentro de VariableSIMEM\n",
    "lisatado_variables.head()                           # Imprime los primeros 5 registros del listado de variables"
   ]
  },
  {
   "cell_type": "markdown",
   "metadata": {},
   "source": [
    "<a id='section3'></a>\n",
    "### Buscar el código de una variable de interés\n",
    "En la siguiente celda se muestra como consultar el código de una variable a través de su nombre"
   ]
  },
  {
   "cell_type": "code",
   "execution_count": null,
   "metadata": {},
   "outputs": [
    {
     "name": "stdout",
     "output_type": "stream",
     "text": [
      "['PB_Int' 'PB_Nal' 'PB_Tie' 'PPBO' 'PPBOGReal']\n"
     ]
    }
   ],
   "source": [
    "nombre_variable = 'Precio de bolsa' # Nombre de la variable que se desea buscar\n",
    "cod_variable = lisatado_variables.query(\"Nombre.str.lower().str.contains(@nombre_variable.lower())\")['CodigoVariable'].values # Busca el nombre dentro del listado de variables\n",
    "print(cod_variable)        # Imprime los códigos de las variables que coinciden con el nombre"
   ]
  },
  {
   "cell_type": "markdown",
   "metadata": {},
   "source": [
    "Una vez obtenido el código de la variable de interés, se debe inicializar una instancia de la clase VariableSIMEM con este y dos fechas de interés, para poder obtener la descripción estadística y la serie de tiempo de la variable."
   ]
  },
  {
   "cell_type": "code",
   "execution_count": null,
   "metadata": {},
   "outputs": [],
   "source": [
    "cod_variable = 'PB_Nal' # Código de la variable deseada\n",
    "fecha_inicio = '2024-01-01'    # Fecha inicial de los datos\n",
    "fecha_fin = '2024-12-31'       # Fecha final de los datos\n",
    "\n",
    "variable = VariableSIMEM(cod_variable, fecha_inicio, fecha_fin) # Se inicializa el objeto VariableSIMEM"
   ]
  },
  {
   "cell_type": "markdown",
   "metadata": {},
   "source": [
    "<a id='section4'></a>\n",
    "### Consultar información de la variable\n",
    "\n",
    "En la siguiente celda se muestra cómo consultar la descripción estadística de una variable de interes entre el rango de fechas solicitado"
   ]
  },
  {
   "cell_type": "code",
   "execution_count": null,
   "metadata": {},
   "outputs": [
    {
     "name": "stdout",
     "output_type": "stream",
     "text": [
      "****************************************************************************************************\n",
      "Initializing object\n",
      "The object has been initialized with the dataset: \"Precio de bolsa horario\"\n",
      "****************************************************************************************************\n",
      "Inicio consulta sincronica\n",
      "Creacion url: 0.004201650619506836\n",
      "Extraccion de registros: 51.56137776374817\n",
      "End of data extracting process\n",
      "****************************************************************************************************\n",
      "****************************************************************************************************\n",
      "Initializing object\n",
      "The object has been initialized with the dataset: \"Versiones de factura para la liquidación mensual\"\n",
      "****************************************************************************************************\n",
      "Inicio consulta sincronica\n",
      "Creacion url: 0.00182342529296875\n",
      "Extraccion de registros: 15.794795513153076\n",
      "End of data extracting process\n",
      "****************************************************************************************************\n"
     ]
    }
   ],
   "source": [
    "stats = variable.describe_data() # Obtiene la información estadística de la variable"
   ]
  },
  {
   "cell_type": "code",
   "execution_count": null,
   "metadata": {},
   "outputs": [
    {
     "data": {
      "text/plain": [
       "{'Precio de bolsa nacional': {'mean': 676.0761977231331,\n",
       "  'median': 589.9656,\n",
       "  'std_dev': 469.11420374426746,\n",
       "  'min': 95.8516,\n",
       "  'max': 2675.6497,\n",
       "  'null_count': 0,\n",
       "  'zero_count': 0,\n",
       "  'start_date': '2024-01-01',\n",
       "  'end_date': '2024-12-31',\n",
       "  'granularity': 'Horaria'}}"
      ]
     },
     "execution_count": 7,
     "metadata": {},
     "output_type": "execute_result"
    }
   ],
   "source": [
    "stats                             # Imprime la información estadística de la variable                    "
   ]
  }
 ],
 "metadata": {
  "kernelspec": {
   "display_name": ".venv",
   "language": "python",
   "name": "python3"
  },
  "language_info": {
   "codemirror_mode": {
    "name": "ipython",
    "version": 3
   },
   "file_extension": ".py",
   "mimetype": "text/x-python",
   "name": "python",
   "nbconvert_exporter": "python",
   "pygments_lexer": "ipython3",
   "version": "3.12.7"
  }
 },
 "nbformat": 4,
 "nbformat_minor": 2
}
