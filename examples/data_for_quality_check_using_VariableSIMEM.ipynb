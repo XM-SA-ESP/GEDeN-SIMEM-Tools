{
 "cells": [
  {
   "cell_type": "markdown",
   "metadata": {},
   "source": [
    "![SIMEM_logo_1.png](../assets/SIMEM_logo_1.png)\n",
    "\n",
    "[SiMEM](https://www.simem.co/)"
   ]
  },
  {
   "cell_type": "markdown",
   "metadata": {},
   "source": [
    "## Objetivos de este Notebook\n",
    "\n",
    "* Explicar cómo se puede consultar información de una variable con el formato para el chequeo de calidad.\n",
    "\n",
    "## Índice\n",
    "\n",
    "1. [Importación de la clase VariableSIMEM](#importacion-de-la-clase-variablesimem)\n",
    "\n",
    "2. [Consultar el listado de variables disponibles](#consultar-el-listado-de-variables-disponibles-dentro-de-la-clase)\n",
    "\n",
    "3. [Buscar el código de una variable](#buscar-el-codigo-de-una-variable-de-interes)\n",
    "\n",
    "4. [Consultar los datos de la variable](#consultar-los-datos-de-la-variable)"
   ]
  },
  {
   "cell_type": "markdown",
   "metadata": {},
   "source": [
    "### Importacion de la clase VariableSIMEM\n",
    "\n",
    "En la siguiente celda se importa el objeto VariableSIMEM, que contiene las funciones necesarias para cumplir los objetivos anteriormente mencionados."
   ]
  },
  {
   "cell_type": "code",
   "execution_count": null,
   "metadata": {},
   "outputs": [],
   "source": [
    "import sys\n",
    "\n",
    "# !{sys.executable} -m pip install pydataxm\n",
    "from pydataxm.pydatasimem import VariableSIMEM # Se importa la clase VariableSIMEM"
   ]
  },
  {
   "cell_type": "markdown",
   "metadata": {},
   "source": [
    "### Consultar el listado de variables disponibles dentro de la clase\n",
    "\n",
    "En la siguiente celda se muestra como consultar el listado de variables con el fin de buscar el código de la variable deseada."
   ]
  },
  {
   "cell_type": "code",
   "execution_count": null,
   "metadata": {},
   "outputs": [
    {
     "data": {
      "text/html": [
       "<div>\n",
       "<style scoped>\n",
       "    .dataframe tbody tr th:only-of-type {\n",
       "        vertical-align: middle;\n",
       "    }\n",
       "\n",
       "    .dataframe tbody tr th {\n",
       "        vertical-align: top;\n",
       "    }\n",
       "\n",
       "    .dataframe thead th {\n",
       "        text-align: right;\n",
       "    }\n",
       "</style>\n",
       "<table border=\"1\" class=\"dataframe\">\n",
       "  <thead>\n",
       "    <tr style=\"text-align: right;\">\n",
       "      <th></th>\n",
       "      <th>CodigoVariable</th>\n",
       "      <th>Nombre</th>\n",
       "    </tr>\n",
       "  </thead>\n",
       "  <tbody>\n",
       "    <tr>\n",
       "      <th>0</th>\n",
       "      <td>PB_Nal</td>\n",
       "      <td>Precio de bolsa nacional</td>\n",
       "    </tr>\n",
       "    <tr>\n",
       "      <th>1</th>\n",
       "      <td>POf_Original</td>\n",
       "      <td>Precio de oferta despacho ideal</td>\n",
       "    </tr>\n",
       "    <tr>\n",
       "      <th>2</th>\n",
       "      <td>PrecioEscasez</td>\n",
       "      <td>Precio de escasez</td>\n",
       "    </tr>\n",
       "    <tr>\n",
       "      <th>3</th>\n",
       "      <td>PrecioEscasezActivacion</td>\n",
       "      <td>Precio de escasez de activación</td>\n",
       "    </tr>\n",
       "    <tr>\n",
       "      <th>4</th>\n",
       "      <td>PrecioMarginalEscasez</td>\n",
       "      <td>Precio marginal de escasez</td>\n",
       "    </tr>\n",
       "  </tbody>\n",
       "</table>\n",
       "</div>"
      ],
      "text/plain": [
       "            CodigoVariable                           Nombre\n",
       "0                   PB_Nal         Precio de bolsa nacional\n",
       "1             POf_Original  Precio de oferta despacho ideal\n",
       "2            PrecioEscasez                Precio de escasez\n",
       "3  PrecioEscasezActivacion  Precio de escasez de activación\n",
       "4    PrecioMarginalEscasez       Precio marginal de escasez"
      ]
     },
     "execution_count": 2,
     "metadata": {},
     "output_type": "execute_result"
    }
   ],
   "source": [
    "lisatado_variables = VariableSIMEM.get_collection() # Obtiene el listado de variables que se pueden usar dentro de VariableSIMEM\n",
    "lisatado_variables.head()                           # Imprime los primeros 5 registros del listado de variables"
   ]
  },
  {
   "cell_type": "markdown",
   "metadata": {},
   "source": [
    "### Buscar el codigo de una variable de interes\n",
    "\n",
    "En la siguiente celda se muestra como consultar el código de una variable a través de su nombre"
   ]
  },
  {
   "cell_type": "code",
   "execution_count": null,
   "metadata": {},
   "outputs": [
    {
     "name": "stdout",
     "output_type": "stream",
     "text": [
      "['DispReal' 'DispCom']\n"
     ]
    }
   ],
   "source": [
    "nombre_variable = 'Disponibilidad' # Nombre de la variable que se desea buscar\n",
    "cod_variable = lisatado_variables.query(\"Nombre.str.lower().str.contains(@nombre_variable.lower())\")['CodigoVariable'].values # Busca el nombre dentro del listado de variables\n",
    "print(cod_variable)                # Imprime los códigos de las variables que coinciden con el nombre"
   ]
  },
  {
   "cell_type": "markdown",
   "metadata": {},
   "source": [
    "Una vez obtenido el código de la variable de interés, se debe inicializar una instancia de la clase VariableSIMEM con este y dos fechas de interés, para poder obtener la información de la variable con el formato de calidad, se debe agregar el parámetro `quality_check` con el valor `True`."
   ]
  },
  {
   "cell_type": "code",
   "execution_count": null,
   "metadata": {},
   "outputs": [],
   "source": [
    "cod_variable = 'DispReal'   # Código de la variable deseada\n",
    "fecha_inicio = '2024-10-01' # Fecha inicial de los datos\n",
    "fecha_fin = '2024-12-31'    # Fecha final de los datos\n",
    "\n",
    "variable_quality_check = VariableSIMEM(cod_variable, fecha_inicio, fecha_fin, quality_check=True) # Se inicializa el objeto VariableSIMEM"
   ]
  },
  {
   "cell_type": "markdown",
   "metadata": {},
   "source": [
    "### Consultar los datos de la variable\n",
    "\n",
    "En este caso se desea con sultar la información de la `Disponibilidad real` durante el último trimestre de 2024 con el formato de chequeo para calidad."
   ]
  },
  {
   "cell_type": "code",
   "execution_count": null,
   "metadata": {},
   "outputs": [
    {
     "data": {
      "text/html": [
       "<div>\n",
       "<style scoped>\n",
       "    .dataframe tbody tr th:only-of-type {\n",
       "        vertical-align: middle;\n",
       "    }\n",
       "\n",
       "    .dataframe tbody tr th {\n",
       "        vertical-align: top;\n",
       "    }\n",
       "\n",
       "    .dataframe thead th {\n",
       "        text-align: right;\n",
       "    }\n",
       "</style>\n",
       "<table border=\"1\" class=\"dataframe\">\n",
       "  <thead>\n",
       "    <tr style=\"text-align: right;\">\n",
       "      <th></th>\n",
       "      <th>fecha</th>\n",
       "      <th>codigoMaestra</th>\n",
       "      <th>codigoVariable</th>\n",
       "      <th>maestra</th>\n",
       "      <th>valor</th>\n",
       "    </tr>\n",
       "  </thead>\n",
       "  <tbody>\n",
       "    <tr>\n",
       "      <th>0</th>\n",
       "      <td>2024-10-31 03:00:00</td>\n",
       "      <td>2S9Q</td>\n",
       "      <td>DispReal</td>\n",
       "      <td>Unidad Generacion</td>\n",
       "      <td>0.0000</td>\n",
       "    </tr>\n",
       "    <tr>\n",
       "      <th>1</th>\n",
       "      <td>2024-10-31 02:00:00</td>\n",
       "      <td>2S9Q</td>\n",
       "      <td>DispReal</td>\n",
       "      <td>Unidad Generacion</td>\n",
       "      <td>0.0000</td>\n",
       "    </tr>\n",
       "    <tr>\n",
       "      <th>2</th>\n",
       "      <td>2024-10-31 01:00:00</td>\n",
       "      <td>2S9Q</td>\n",
       "      <td>DispReal</td>\n",
       "      <td>Unidad Generacion</td>\n",
       "      <td>0.0000</td>\n",
       "    </tr>\n",
       "    <tr>\n",
       "      <th>3</th>\n",
       "      <td>2024-10-31 00:00:00</td>\n",
       "      <td>2S9Q</td>\n",
       "      <td>DispReal</td>\n",
       "      <td>Unidad Generacion</td>\n",
       "      <td>0.0000</td>\n",
       "    </tr>\n",
       "    <tr>\n",
       "      <th>4</th>\n",
       "      <td>2024-10-31 23:00:00</td>\n",
       "      <td>3EBN</td>\n",
       "      <td>DispReal</td>\n",
       "      <td>Unidad Generacion</td>\n",
       "      <td>0.0000</td>\n",
       "    </tr>\n",
       "    <tr>\n",
       "      <th>...</th>\n",
       "      <td>...</td>\n",
       "      <td>...</td>\n",
       "      <td>...</td>\n",
       "      <td>...</td>\n",
       "      <td>...</td>\n",
       "    </tr>\n",
       "    <tr>\n",
       "      <th>814459</th>\n",
       "      <td>2024-12-02 13:00:00</td>\n",
       "      <td>2YB9</td>\n",
       "      <td>DispReal</td>\n",
       "      <td>Unidad Generacion</td>\n",
       "      <td>1930.8700</td>\n",
       "    </tr>\n",
       "    <tr>\n",
       "      <th>814460</th>\n",
       "      <td>2024-12-02 12:00:00</td>\n",
       "      <td>2YB9</td>\n",
       "      <td>DispReal</td>\n",
       "      <td>Unidad Generacion</td>\n",
       "      <td>1943.6700</td>\n",
       "    </tr>\n",
       "    <tr>\n",
       "      <th>814461</th>\n",
       "      <td>2024-12-02 11:00:00</td>\n",
       "      <td>2YB9</td>\n",
       "      <td>DispReal</td>\n",
       "      <td>Unidad Generacion</td>\n",
       "      <td>2722.5500</td>\n",
       "    </tr>\n",
       "    <tr>\n",
       "      <th>814462</th>\n",
       "      <td>2024-12-02 10:00:00</td>\n",
       "      <td>2YB9</td>\n",
       "      <td>DispReal</td>\n",
       "      <td>Unidad Generacion</td>\n",
       "      <td>3301.4200</td>\n",
       "    </tr>\n",
       "    <tr>\n",
       "      <th>814463</th>\n",
       "      <td>2024-12-02 09:00:00</td>\n",
       "      <td>2YB9</td>\n",
       "      <td>DispReal</td>\n",
       "      <td>Unidad Generacion</td>\n",
       "      <td>2745.2500</td>\n",
       "    </tr>\n",
       "  </tbody>\n",
       "</table>\n",
       "<p>814464 rows × 5 columns</p>\n",
       "</div>"
      ],
      "text/plain": [
       "                      fecha codigoMaestra codigoVariable            maestra  \\\n",
       "0       2024-10-31 03:00:00          2S9Q       DispReal  Unidad Generacion   \n",
       "1       2024-10-31 02:00:00          2S9Q       DispReal  Unidad Generacion   \n",
       "2       2024-10-31 01:00:00          2S9Q       DispReal  Unidad Generacion   \n",
       "3       2024-10-31 00:00:00          2S9Q       DispReal  Unidad Generacion   \n",
       "4       2024-10-31 23:00:00          3EBN       DispReal  Unidad Generacion   \n",
       "...                     ...           ...            ...                ...   \n",
       "814459  2024-12-02 13:00:00          2YB9       DispReal  Unidad Generacion   \n",
       "814460  2024-12-02 12:00:00          2YB9       DispReal  Unidad Generacion   \n",
       "814461  2024-12-02 11:00:00          2YB9       DispReal  Unidad Generacion   \n",
       "814462  2024-12-02 10:00:00          2YB9       DispReal  Unidad Generacion   \n",
       "814463  2024-12-02 09:00:00          2YB9       DispReal  Unidad Generacion   \n",
       "\n",
       "            valor  \n",
       "0          0.0000  \n",
       "1          0.0000  \n",
       "2          0.0000  \n",
       "3          0.0000  \n",
       "4          0.0000  \n",
       "...           ...  \n",
       "814459  1930.8700  \n",
       "814460  1943.6700  \n",
       "814461  2722.5500  \n",
       "814462  3301.4200  \n",
       "814463  2745.2500  \n",
       "\n",
       "[814464 rows x 5 columns]"
      ]
     },
     "execution_count": 13,
     "metadata": {},
     "output_type": "execute_result"
    }
   ],
   "source": [
    "data_quality_check = variable_quality_check.get_data() # Obtiene los datos de la variable\n",
    "data_quality_check"
   ]
  }
 ],
 "metadata": {
  "kernelspec": {
   "display_name": ".venv",
   "language": "python",
   "name": "python3"
  },
  "language_info": {
   "codemirror_mode": {
    "name": "ipython",
    "version": 3
   },
   "file_extension": ".py",
   "mimetype": "text/x-python",
   "name": "python",
   "nbconvert_exporter": "python",
   "pygments_lexer": "ipython3",
   "version": "3.12.6"
  }
 },
 "nbformat": 4,
 "nbformat_minor": 2
}
